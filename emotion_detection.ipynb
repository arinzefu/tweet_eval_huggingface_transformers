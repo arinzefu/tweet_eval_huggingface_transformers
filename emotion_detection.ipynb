{
 "cells": [
  {
   "cell_type": "markdown",
   "source": [
    "# import libraries"
   ],
   "metadata": {
    "collapsed": false
   }
  },
  {
   "cell_type": "code",
   "execution_count": 1,
   "metadata": {
    "collapsed": true
   },
   "outputs": [],
   "source": [
    "import torch\n",
    "import torch.nn as nn\n",
    "import torch.optim as optim\n",
    "from torch.utils.data import DataLoader, Dataset\n",
    "from transformers import AutoTokenizer"
   ]
  },
  {
   "cell_type": "code",
   "execution_count": 2,
   "outputs": [
    {
     "name": "stderr",
     "output_type": "stream",
     "text": [
      "Found cached dataset tweet_eval (C:/Users/User/.cache/huggingface/datasets/tweet_eval/emotion/1.1.0/12aee5282b8784f3e95459466db4cdf45c6bf49719c25cdb0743d71ed0410343)\n"
     ]
    },
    {
     "data": {
      "text/plain": "  0%|          | 0/3 [00:00<?, ?it/s]",
      "application/vnd.jupyter.widget-view+json": {
       "version_major": 2,
       "version_minor": 0,
       "model_id": "d483e6dfae3f498eac563cb001b3b0bc"
      }
     },
     "metadata": {},
     "output_type": "display_data"
    }
   ],
   "source": [
    "from datasets import load_dataset\n",
    "\n",
    "dataset = load_dataset(\"tweet_eval\", \"emotion\")"
   ],
   "metadata": {
    "collapsed": false
   }
  },
  {
   "cell_type": "code",
   "execution_count": 3,
   "outputs": [
    {
     "data": {
      "text/plain": "Dataset({\n    features: ['text', 'label'],\n    num_rows: 3257\n})"
     },
     "execution_count": 3,
     "metadata": {},
     "output_type": "execute_result"
    }
   ],
   "source": [
    "dataset[\"train\"]"
   ],
   "metadata": {
    "collapsed": false
   }
  },
  {
   "cell_type": "code",
   "execution_count": 4,
   "outputs": [
    {
     "data": {
      "text/plain": "Dataset({\n    features: ['text', 'label'],\n    num_rows: 1421\n})"
     },
     "execution_count": 4,
     "metadata": {},
     "output_type": "execute_result"
    }
   ],
   "source": [
    "dataset[\"test\"]"
   ],
   "metadata": {
    "collapsed": false
   }
  },
  {
   "cell_type": "code",
   "execution_count": 5,
   "outputs": [
    {
     "data": {
      "text/plain": "Dataset({\n    features: ['text', 'label'],\n    num_rows: 374\n})"
     },
     "execution_count": 5,
     "metadata": {},
     "output_type": "execute_result"
    }
   ],
   "source": [
    "dataset[\"validation\"]"
   ],
   "metadata": {
    "collapsed": false
   }
  },
  {
   "cell_type": "code",
   "execution_count": 6,
   "outputs": [],
   "source": [
    "from transformers import AutoTokenizer\n",
    "\n",
    "# Load a pre-trained tokenizer\n",
    "tokenizer = AutoTokenizer.from_pretrained(\"bert-base-cased\")\n"
   ],
   "metadata": {
    "collapsed": false
   }
  },
  {
   "cell_type": "code",
   "execution_count": 7,
   "outputs": [],
   "source": [
    "def tokenize_function(example):\n",
    "    return tokenizer(example[\"text\"], padding=\"max_length\", truncation=True, max_length=128)\n"
   ],
   "metadata": {
    "collapsed": false
   }
  },
  {
   "cell_type": "code",
   "execution_count": 8,
   "outputs": [
    {
     "name": "stderr",
     "output_type": "stream",
     "text": [
      "Loading cached processed dataset at C:\\Users\\User\\.cache\\huggingface\\datasets\\tweet_eval\\emotion\\1.1.0\\12aee5282b8784f3e95459466db4cdf45c6bf49719c25cdb0743d71ed0410343\\cache-9d05afcd1051738d.arrow\n",
      "Loading cached processed dataset at C:\\Users\\User\\.cache\\huggingface\\datasets\\tweet_eval\\emotion\\1.1.0\\12aee5282b8784f3e95459466db4cdf45c6bf49719c25cdb0743d71ed0410343\\cache-eea42245fea12e4d.arrow\n",
      "Loading cached processed dataset at C:\\Users\\User\\.cache\\huggingface\\datasets\\tweet_eval\\emotion\\1.1.0\\12aee5282b8784f3e95459466db4cdf45c6bf49719c25cdb0743d71ed0410343\\cache-a217fece7ee692df.arrow\n"
     ]
    }
   ],
   "source": [
    "# Tokenize the dataset\n",
    "tokenized_dataset = dataset.map(tokenize_function, batched=True)\n",
    "\n",
    "# Get the input_ids from the tokenized dataset for train, validation, and test sets\n",
    "train_input_ids = [example['input_ids'] for example in tokenized_dataset['train']]\n",
    "val_input_ids = [example['input_ids'] for example in tokenized_dataset['validation']]\n",
    "test_input_ids = [example['input_ids'] for example in tokenized_dataset['test']]\n",
    "\n",
    "# Convert input_ids to PyTorch tensors\n",
    "train_input_ids = torch.tensor(train_input_ids, dtype=torch.long)\n",
    "val_input_ids = torch.tensor(val_input_ids, dtype=torch.long)\n",
    "test_input_ids = torch.tensor(test_input_ids, dtype=torch.long)\n",
    "\n",
    "# Concatenate the input_ids tensors along the first dimension\n",
    "input_ids = torch.cat((train_input_ids, val_input_ids, test_input_ids), dim=0)\n"
   ],
   "metadata": {
    "collapsed": false
   }
  },
  {
   "cell_type": "code",
   "execution_count": 9,
   "outputs": [
    {
     "name": "stderr",
     "output_type": "stream",
     "text": [
      "Loading cached processed dataset at C:\\Users\\User\\.cache\\huggingface\\datasets\\tweet_eval\\emotion\\1.1.0\\12aee5282b8784f3e95459466db4cdf45c6bf49719c25cdb0743d71ed0410343\\cache-9d05afcd1051738d.arrow\n",
      "Loading cached processed dataset at C:\\Users\\User\\.cache\\huggingface\\datasets\\tweet_eval\\emotion\\1.1.0\\12aee5282b8784f3e95459466db4cdf45c6bf49719c25cdb0743d71ed0410343\\cache-eea42245fea12e4d.arrow\n",
      "Loading cached processed dataset at C:\\Users\\User\\.cache\\huggingface\\datasets\\tweet_eval\\emotion\\1.1.0\\12aee5282b8784f3e95459466db4cdf45c6bf49719c25cdb0743d71ed0410343\\cache-a217fece7ee692df.arrow\n"
     ]
    }
   ],
   "source": [
    "# Tokenize the dataset\n",
    "tokenized_dataset = dataset.map(tokenize_function, batched=True)\n",
    "\n",
    "# Get the attention_masks from the tokenized dataset for train, validation, and test sets\n",
    "train_attention_mask = [example['attention_mask'] for example in tokenized_dataset['train']]\n",
    "val_attention_mask = [example['attention_mask'] for example in tokenized_dataset['validation']]\n",
    "test_attention_mask = [example['attention_mask'] for example in tokenized_dataset['test']]\n",
    "\n",
    "# Convert attention_mask to PyTorch tensors\n",
    "train_attention_mask = torch.tensor(train_attention_mask, dtype=torch.long)\n",
    "val_attention_mask = torch.tensor(val_attention_mask, dtype=torch.long)\n",
    "test_attention_mask = torch.tensor(test_attention_mask, dtype=torch.long)\n",
    "\n",
    "# Concatenate the input_ids tensors along the first dimension\n",
    "attention_masks = torch.cat((train_attention_mask, val_attention_mask, test_attention_mask), dim=0)\n"
   ],
   "metadata": {
    "collapsed": false
   }
  },
  {
   "cell_type": "code",
   "execution_count": 10,
   "outputs": [
    {
     "name": "stdout",
     "output_type": "stream",
     "text": [
      "tensor([[  101,   789,   160,  ...,     0,     0,     0],\n",
      "        [  101,  1422, 20116,  ...,     0,     0,     0],\n",
      "        [  101,  1302,  1133,  ...,     0,     0,     0],\n",
      "        ...,\n",
      "        [  101,  9202,   170,  ...,     0,     0,     0],\n",
      "        [  101,  1398,  1142,  ...,     0,     0,     0],\n",
      "        [  101,  5718,  1129,  ...,     0,     0,     0]])\n"
     ]
    }
   ],
   "source": [
    "print(input_ids)"
   ],
   "metadata": {
    "collapsed": false
   }
  },
  {
   "cell_type": "code",
   "execution_count": 11,
   "outputs": [
    {
     "name": "stdout",
     "output_type": "stream",
     "text": [
      "tensor([[1, 1, 1,  ..., 0, 0, 0],\n",
      "        [1, 1, 1,  ..., 0, 0, 0],\n",
      "        [1, 1, 1,  ..., 0, 0, 0],\n",
      "        ...,\n",
      "        [1, 1, 1,  ..., 0, 0, 0],\n",
      "        [1, 1, 1,  ..., 0, 0, 0],\n",
      "        [1, 1, 1,  ..., 0, 0, 0]])\n"
     ]
    }
   ],
   "source": [
    "print(attention_masks)"
   ],
   "metadata": {
    "collapsed": false
   }
  },
  {
   "cell_type": "code",
   "execution_count": 12,
   "outputs": [],
   "source": [
    "# Split the dataset into train, validation, and test sets\n",
    "train_dataset = tokenized_dataset[\"train\"]\n",
    "val_dataset = tokenized_dataset[\"validation\"]\n",
    "test_dataset = tokenized_dataset[\"test\"]"
   ],
   "metadata": {
    "collapsed": false
   }
  },
  {
   "cell_type": "code",
   "execution_count": 13,
   "outputs": [
    {
     "name": "stdout",
     "output_type": "stream",
     "text": [
      "tensor([[  101,   789,   160,  ...,     0,     0,     0],\n",
      "        [  101,  1422, 20116,  ...,     0,     0,     0],\n",
      "        [  101,  1302,  1133,  ...,     0,     0,     0],\n",
      "        ...,\n",
      "        [  101,  9202,   170,  ...,     0,     0,     0],\n",
      "        [  101,  1398,  1142,  ...,     0,     0,     0],\n",
      "        [  101,  5718,  1129,  ...,     0,     0,     0]])\n"
     ]
    }
   ],
   "source": [
    "print(input_ids)"
   ],
   "metadata": {
    "collapsed": false
   }
  },
  {
   "cell_type": "code",
   "execution_count": 14,
   "outputs": [],
   "source": [
    "# Convert the datasets to PyTorch tensors\n",
    "train_dataset = train_dataset.remove_columns([\"text\"])\n",
    "val_dataset = val_dataset.remove_columns([\"text\"])\n",
    "test_dataset = test_dataset.remove_columns([\"text\"])"
   ],
   "metadata": {
    "collapsed": false
   }
  },
  {
   "cell_type": "code",
   "execution_count": 15,
   "outputs": [],
   "source": [
    "train_dataset.set_format(\"torch\", columns=[\"input_ids\", \"attention_mask\", \"label\"])\n",
    "val_dataset.set_format(\"torch\", columns=[\"input_ids\", \"attention_mask\", \"label\"])\n",
    "test_dataset.set_format(\"torch\", columns=[\"input_ids\", \"attention_mask\", \"label\"])"
   ],
   "metadata": {
    "collapsed": false
   }
  },
  {
   "cell_type": "code",
   "execution_count": 16,
   "outputs": [],
   "source": [
    "import torch.nn as nn\n",
    "from transformers import BertModel\n",
    "\n",
    "class EmotionDetectionModel(nn.Module):\n",
    "    def __init__(self, num_classes=4):\n",
    "        super(EmotionDetectionModel, self).__init__()\n",
    "        self.bert = BertModel.from_pretrained('bert-base-uncased')\n",
    "        self.dropout = nn.Dropout(0.1)\n",
    "        self.fc = nn.Linear(self.bert.config.hidden_size, num_classes)\n",
    "\n",
    "    def forward(self, input_ids, attention_mask):\n",
    "        outputs = self.bert(input_ids=input_ids, attention_mask=attention_mask)\n",
    "        pooled_output = outputs.pooler_output\n",
    "        pooled_output = self.dropout(pooled_output)\n",
    "        logits = self.fc(pooled_output)\n",
    "        return logits\n"
   ],
   "metadata": {
    "collapsed": false
   }
  },
  {
   "cell_type": "code",
   "execution_count": 17,
   "outputs": [
    {
     "name": "stdout",
     "output_type": "stream",
     "text": [
      "tensor([[  101,   789,   160,  ...,     0,     0,     0],\n",
      "        [  101,  1422, 20116,  ...,     0,     0,     0],\n",
      "        [  101,  1302,  1133,  ...,     0,     0,     0],\n",
      "        ...,\n",
      "        [  101,  9202,   170,  ...,     0,     0,     0],\n",
      "        [  101,  1398,  1142,  ...,     0,     0,     0],\n",
      "        [  101,  5718,  1129,  ...,     0,     0,     0]])\n"
     ]
    }
   ],
   "source": [
    "print(input_ids)"
   ],
   "metadata": {
    "collapsed": false
   }
  },
  {
   "cell_type": "code",
   "execution_count": 18,
   "outputs": [],
   "source": [
    "device = torch.device(\"cuda\" if torch.cuda.is_available() else \"cpu\")\n"
   ],
   "metadata": {
    "collapsed": false
   }
  },
  {
   "cell_type": "code",
   "execution_count": 19,
   "outputs": [
    {
     "name": "stderr",
     "output_type": "stream",
     "text": [
      "Some weights of the model checkpoint at bert-base-uncased were not used when initializing BertModel: ['cls.predictions.bias', 'cls.seq_relationship.bias', 'cls.predictions.decoder.weight', 'cls.predictions.transform.LayerNorm.bias', 'cls.predictions.transform.LayerNorm.weight', 'cls.predictions.transform.dense.weight', 'cls.predictions.transform.dense.bias', 'cls.seq_relationship.weight']\n",
      "- This IS expected if you are initializing BertModel from the checkpoint of a model trained on another task or with another architecture (e.g. initializing a BertForSequenceClassification model from a BertForPreTraining model).\n",
      "- This IS NOT expected if you are initializing BertModel from the checkpoint of a model that you expect to be exactly identical (initializing a BertForSequenceClassification model from a BertForSequenceClassification model).\n"
     ]
    }
   ],
   "source": [
    "# instantiate your model\n",
    "emotion_model = EmotionDetectionModel(num_classes=4).to(device)"
   ],
   "metadata": {
    "collapsed": false
   }
  },
  {
   "cell_type": "code",
   "execution_count": 20,
   "outputs": [
    {
     "name": "stdout",
     "output_type": "stream",
     "text": [
      "EmotionDetectionModel(\n",
      "  (bert): BertModel(\n",
      "    (embeddings): BertEmbeddings(\n",
      "      (word_embeddings): Embedding(30522, 768, padding_idx=0)\n",
      "      (position_embeddings): Embedding(512, 768)\n",
      "      (token_type_embeddings): Embedding(2, 768)\n",
      "      (LayerNorm): LayerNorm((768,), eps=1e-12, elementwise_affine=True)\n",
      "      (dropout): Dropout(p=0.1, inplace=False)\n",
      "    )\n",
      "    (encoder): BertEncoder(\n",
      "      (layer): ModuleList(\n",
      "        (0-11): 12 x BertLayer(\n",
      "          (attention): BertAttention(\n",
      "            (self): BertSelfAttention(\n",
      "              (query): Linear(in_features=768, out_features=768, bias=True)\n",
      "              (key): Linear(in_features=768, out_features=768, bias=True)\n",
      "              (value): Linear(in_features=768, out_features=768, bias=True)\n",
      "              (dropout): Dropout(p=0.1, inplace=False)\n",
      "            )\n",
      "            (output): BertSelfOutput(\n",
      "              (dense): Linear(in_features=768, out_features=768, bias=True)\n",
      "              (LayerNorm): LayerNorm((768,), eps=1e-12, elementwise_affine=True)\n",
      "              (dropout): Dropout(p=0.1, inplace=False)\n",
      "            )\n",
      "          )\n",
      "          (intermediate): BertIntermediate(\n",
      "            (dense): Linear(in_features=768, out_features=3072, bias=True)\n",
      "            (intermediate_act_fn): GELUActivation()\n",
      "          )\n",
      "          (output): BertOutput(\n",
      "            (dense): Linear(in_features=3072, out_features=768, bias=True)\n",
      "            (LayerNorm): LayerNorm((768,), eps=1e-12, elementwise_affine=True)\n",
      "            (dropout): Dropout(p=0.1, inplace=False)\n",
      "          )\n",
      "        )\n",
      "      )\n",
      "    )\n",
      "    (pooler): BertPooler(\n",
      "      (dense): Linear(in_features=768, out_features=768, bias=True)\n",
      "      (activation): Tanh()\n",
      "    )\n",
      "  )\n",
      "  (dropout): Dropout(p=0.1, inplace=False)\n",
      "  (fc): Linear(in_features=768, out_features=4, bias=True)\n",
      ")\n"
     ]
    }
   ],
   "source": [
    "print(emotion_model)"
   ],
   "metadata": {
    "collapsed": false
   }
  },
  {
   "cell_type": "code",
   "execution_count": 21,
   "outputs": [],
   "source": [
    "# define your loss function\n",
    "criterion = nn.CrossEntropyLoss()\n",
    "\n",
    "# define your optimizer\n",
    "optimizer = torch.optim.Adam(emotion_model.parameters(), lr=0.001)"
   ],
   "metadata": {
    "collapsed": false
   }
  },
  {
   "cell_type": "code",
   "execution_count": 22,
   "outputs": [],
   "source": [
    "# set up your training, validation, and test dataloaders\n",
    "train_loader = DataLoader(train_dataset, batch_size=16, shuffle=True)\n",
    "val_loader = DataLoader(val_dataset, batch_size=16)\n",
    "test_loader = DataLoader(test_dataset, batch_size=16)"
   ],
   "metadata": {
    "collapsed": false
   }
  },
  {
   "cell_type": "code",
   "execution_count": 23,
   "outputs": [
    {
     "name": "stdout",
     "output_type": "stream",
     "text": [
      "tensor([[  101,   789,   160,  ...,     0,     0,     0],\n",
      "        [  101,  1422, 20116,  ...,     0,     0,     0],\n",
      "        [  101,  1302,  1133,  ...,     0,     0,     0],\n",
      "        ...,\n",
      "        [  101,  9202,   170,  ...,     0,     0,     0],\n",
      "        [  101,  1398,  1142,  ...,     0,     0,     0],\n",
      "        [  101,  5718,  1129,  ...,     0,     0,     0]])\n"
     ]
    }
   ],
   "source": [
    "print(input_ids)"
   ],
   "metadata": {
    "collapsed": false
   }
  },
  {
   "cell_type": "code",
   "execution_count": 24,
   "outputs": [
    {
     "name": "stdout",
     "output_type": "stream",
     "text": [
      "tensor([[1, 1, 1,  ..., 0, 0, 0],\n",
      "        [1, 1, 1,  ..., 0, 0, 0],\n",
      "        [1, 1, 1,  ..., 0, 0, 0],\n",
      "        ...,\n",
      "        [1, 1, 1,  ..., 0, 0, 0],\n",
      "        [1, 1, 1,  ..., 0, 0, 0],\n",
      "        [1, 1, 1,  ..., 0, 0, 0]])\n"
     ]
    }
   ],
   "source": [
    "print(attention_masks)"
   ],
   "metadata": {
    "collapsed": false
   }
  },
  {
   "cell_type": "code",
   "execution_count": 25,
   "outputs": [
    {
     "name": "stdout",
     "output_type": "stream",
     "text": [
      "{'label': tensor([3, 1, 0, 0, 0, 0, 1, 0, 3, 1, 1, 0, 1, 0, 0, 3]), 'input_ids': tensor([[  101, 18896,  3690,  ...,     0,     0,     0],\n",
      "        [  101, 10616,  1110,  ...,     0,     0,     0],\n",
      "        [  101,  1220,  1328,  ...,     0,     0,     0],\n",
      "        ...,\n",
      "        [  101,   137,  4795,  ...,     0,     0,     0],\n",
      "        [  101, 11907, 25685,  ...,     0,     0,     0],\n",
      "        [  101, 20735,  3650,  ...,     0,     0,     0]]), 'attention_mask': tensor([[1, 1, 1,  ..., 0, 0, 0],\n",
      "        [1, 1, 1,  ..., 0, 0, 0],\n",
      "        [1, 1, 1,  ..., 0, 0, 0],\n",
      "        ...,\n",
      "        [1, 1, 1,  ..., 0, 0, 0],\n",
      "        [1, 1, 1,  ..., 0, 0, 0],\n",
      "        [1, 1, 1,  ..., 0, 0, 0]])}\n",
      "{'label': tensor([0, 1, 0, 0, 3, 0, 0, 0, 0, 0, 1, 3, 2, 0, 0, 0]), 'input_ids': tensor([[ 101, 2119,  137,  ...,    0,    0,    0],\n",
      "        [ 101, 2814,  106,  ...,    0,    0,    0],\n",
      "        [ 101,  137, 4795,  ...,    0,    0,    0],\n",
      "        ...,\n",
      "        [ 101,  180, 1424,  ...,    0,    0,    0],\n",
      "        [ 101,  137, 4795,  ...,    0,    0,    0],\n",
      "        [ 101,  119,  137,  ...,    0,    0,    0]]), 'attention_mask': tensor([[1, 1, 1,  ..., 0, 0, 0],\n",
      "        [1, 1, 1,  ..., 0, 0, 0],\n",
      "        [1, 1, 1,  ..., 0, 0, 0],\n",
      "        ...,\n",
      "        [1, 1, 1,  ..., 0, 0, 0],\n",
      "        [1, 1, 1,  ..., 0, 0, 0],\n",
      "        [1, 1, 1,  ..., 0, 0, 0]])}\n",
      "{'label': tensor([3, 0, 3, 1, 2, 3, 2, 0, 0, 1, 0, 1, 0, 0, 2, 1]), 'input_ids': tensor([[ 101,  146, 1631,  ...,    0,    0,    0],\n",
      "        [ 101, 1646, 1128,  ...,    0,    0,    0],\n",
      "        [ 101,  137, 4795,  ...,    0,    0,    0],\n",
      "        ...,\n",
      "        [ 101,  137, 4795,  ...,    0,    0,    0],\n",
      "        [ 101,  789, 1284,  ...,    0,    0,    0],\n",
      "        [ 101,  137, 4795,  ...,    0,    0,    0]]), 'attention_mask': tensor([[1, 1, 1,  ..., 0, 0, 0],\n",
      "        [1, 1, 1,  ..., 0, 0, 0],\n",
      "        [1, 1, 1,  ..., 0, 0, 0],\n",
      "        ...,\n",
      "        [1, 1, 1,  ..., 0, 0, 0],\n",
      "        [1, 1, 1,  ..., 0, 0, 0],\n",
      "        [1, 1, 1,  ..., 0, 0, 0]])}\n",
      "{'label': tensor([0, 3, 1, 0, 0, 3, 3, 3, 1, 2, 3, 1, 0, 2, 0, 0]), 'input_ids': tensor([[  101,   137,  4795,  ...,     0,     0,     0],\n",
      "        [  101,  1135,   112,  ...,     0,     0,     0],\n",
      "        [  101,   137,  4795,  ...,     0,     0,     0],\n",
      "        ...,\n",
      "        [  101,  1337,   112,  ...,     0,     0,     0],\n",
      "        [  101, 10259,  1217,  ...,     0,     0,     0],\n",
      "        [  101,  1109,  2656,  ...,     0,     0,     0]]), 'attention_mask': tensor([[1, 1, 1,  ..., 0, 0, 0],\n",
      "        [1, 1, 1,  ..., 0, 0, 0],\n",
      "        [1, 1, 1,  ..., 0, 0, 0],\n",
      "        ...,\n",
      "        [1, 1, 1,  ..., 0, 0, 0],\n",
      "        [1, 1, 1,  ..., 0, 0, 0],\n",
      "        [1, 1, 1,  ..., 0, 0, 0]])}\n",
      "{'label': tensor([3, 0, 1, 1, 0, 1, 3, 0, 2, 1, 3, 0, 3, 1, 3, 1]), 'input_ids': tensor([[ 101, 1143, 1781,  ...,    0,    0,    0],\n",
      "        [ 101,  137, 4795,  ...,    0,    0,    0],\n",
      "        [ 101, 2119,  178,  ...,    0,    0,    0],\n",
      "        ...,\n",
      "        [ 101,  137, 4795,  ...,    0,    0,    0],\n",
      "        [ 101,  137, 4795,  ...,    0,    0,    0],\n",
      "        [ 101, 3046,  108,  ...,    0,    0,    0]]), 'attention_mask': tensor([[1, 1, 1,  ..., 0, 0, 0],\n",
      "        [1, 1, 1,  ..., 0, 0, 0],\n",
      "        [1, 1, 1,  ..., 0, 0, 0],\n",
      "        ...,\n",
      "        [1, 1, 1,  ..., 0, 0, 0],\n",
      "        [1, 1, 1,  ..., 0, 0, 0],\n",
      "        [1, 1, 1,  ..., 0, 0, 0]])}\n",
      "{'label': tensor([3, 2, 3, 0, 0, 2, 0, 3, 1, 2, 0, 2, 0, 3, 0, 2]), 'input_ids': tensor([[  101,  9294,   117,  ...,     0,     0,     0],\n",
      "        [  101, 19140,  9915,  ...,     0,     0,     0],\n",
      "        [  101,   137,  4795,  ...,     0,     0,     0],\n",
      "        ...,\n",
      "        [  101,  1109,  8730,  ...,     0,     0,     0],\n",
      "        [  101,   137,  4795,  ...,     0,     0,     0],\n",
      "        [  101,  1451,  1285,  ...,     0,     0,     0]]), 'attention_mask': tensor([[1, 1, 1,  ..., 0, 0, 0],\n",
      "        [1, 1, 1,  ..., 0, 0, 0],\n",
      "        [1, 1, 1,  ..., 0, 0, 0],\n",
      "        ...,\n",
      "        [1, 1, 1,  ..., 0, 0, 0],\n",
      "        [1, 1, 1,  ..., 0, 0, 0],\n",
      "        [1, 1, 1,  ..., 0, 0, 0]])}\n",
      "{'label': tensor([0, 0, 0, 3, 3, 0, 3, 0, 2, 1, 0, 3, 3, 0, 0, 1]), 'input_ids': tensor([[  101,   146,  1658,  ...,     0,     0,     0],\n",
      "        [  101,  1240, 22052,  ...,     0,     0,     0],\n",
      "        [  101,  1875,  3520,  ...,     0,     0,     0],\n",
      "        ...,\n",
      "        [  101,  1130,  8419,  ...,     0,     0,     0],\n",
      "        [  101,   137,  4795,  ...,     0,     0,     0],\n",
      "        [  101,   146,  1169,  ...,     0,     0,     0]]), 'attention_mask': tensor([[1, 1, 1,  ..., 0, 0, 0],\n",
      "        [1, 1, 1,  ..., 0, 0, 0],\n",
      "        [1, 1, 1,  ..., 0, 0, 0],\n",
      "        ...,\n",
      "        [1, 1, 1,  ..., 0, 0, 0],\n",
      "        [1, 1, 1,  ..., 0, 0, 0],\n",
      "        [1, 1, 1,  ..., 0, 0, 0]])}\n",
      "{'label': tensor([0, 3, 0, 0, 1, 0, 3, 1, 0, 0, 0, 1, 3, 1, 2, 3]), 'input_ids': tensor([[ 101,  137, 4795,  ...,    0,    0,    0],\n",
      "        [ 101,  137, 4795,  ...,    0,    0,    0],\n",
      "        [ 101,  137, 4795,  ...,    0,    0,    0],\n",
      "        ...,\n",
      "        [ 101,  137, 4795,  ...,    0,    0,    0],\n",
      "        [ 101,  146, 4987,  ...,    0,    0,    0],\n",
      "        [ 101, 3284,  131,  ...,    0,    0,    0]]), 'attention_mask': tensor([[1, 1, 1,  ..., 0, 0, 0],\n",
      "        [1, 1, 1,  ..., 0, 0, 0],\n",
      "        [1, 1, 1,  ..., 0, 0, 0],\n",
      "        ...,\n",
      "        [1, 1, 1,  ..., 0, 0, 0],\n",
      "        [1, 1, 1,  ..., 0, 0, 0],\n",
      "        [1, 1, 1,  ..., 0, 0, 0]])}\n",
      "{'label': tensor([0, 2, 1, 2, 0, 0, 3, 0, 0, 0, 0, 0, 1, 3, 3, 1]), 'input_ids': tensor([[  101,   137,  4795,  ...,     0,     0,     0],\n",
      "        [  101,   138,  6005,  ...,     0,     0,     0],\n",
      "        [  101,  2777,  1132,  ...,     0,     0,     0],\n",
      "        ...,\n",
      "        [  101,  4254,  1480,  ...,     0,     0,     0],\n",
      "        [  101,   137,  4795,  ...,     0,     0,     0],\n",
      "        [  101, 19253,  1142,  ...,     0,     0,     0]]), 'attention_mask': tensor([[1, 1, 1,  ..., 0, 0, 0],\n",
      "        [1, 1, 1,  ..., 0, 0, 0],\n",
      "        [1, 1, 1,  ..., 0, 0, 0],\n",
      "        ...,\n",
      "        [1, 1, 1,  ..., 0, 0, 0],\n",
      "        [1, 1, 1,  ..., 0, 0, 0],\n",
      "        [1, 1, 1,  ..., 0, 0, 0]])}\n",
      "{'label': tensor([1, 0, 1, 0, 0, 0, 3, 0, 0, 2, 3, 2, 0, 3, 1, 2]), 'input_ids': tensor([[  101,  1448,  1159,  ...,     0,     0,     0],\n",
      "        [  101, 25120,   179,  ...,     0,     0,     0],\n",
      "        [  101, 16204,  1164,  ...,     0,     0,     0],\n",
      "        ...,\n",
      "        [  101,   146,  3166,  ...,     0,     0,     0],\n",
      "        [  101,   137,  4795,  ...,     0,     0,     0],\n",
      "        [  101, 10817,  1158,  ...,     0,     0,     0]]), 'attention_mask': tensor([[1, 1, 1,  ..., 0, 0, 0],\n",
      "        [1, 1, 1,  ..., 0, 0, 0],\n",
      "        [1, 1, 1,  ..., 0, 0, 0],\n",
      "        ...,\n",
      "        [1, 1, 1,  ..., 0, 0, 0],\n",
      "        [1, 1, 1,  ..., 0, 0, 0],\n",
      "        [1, 1, 1,  ..., 0, 0, 0]])}\n",
      "{'label': tensor([1, 0, 0, 3, 2, 3, 0, 3, 3, 0, 0, 1, 3, 0, 0, 0]), 'input_ids': tensor([[ 101,  176, 8914,  ...,    0,    0,    0],\n",
      "        [ 101,  109, 5833,  ...,    0,    0,    0],\n",
      "        [ 101,  137, 4795,  ...,    0,    0,    0],\n",
      "        ...,\n",
      "        [ 101,  137, 4795,  ...,    0,    0,    0],\n",
      "        [ 101,  137, 4795,  ...,    0,    0,    0],\n",
      "        [ 101, 1274,  112,  ...,    0,    0,    0]]), 'attention_mask': tensor([[1, 1, 1,  ..., 0, 0, 0],\n",
      "        [1, 1, 1,  ..., 0, 0, 0],\n",
      "        [1, 1, 1,  ..., 0, 0, 0],\n",
      "        ...,\n",
      "        [1, 1, 1,  ..., 0, 0, 0],\n",
      "        [1, 1, 1,  ..., 0, 0, 0],\n",
      "        [1, 1, 1,  ..., 0, 0, 0]])}\n",
      "{'label': tensor([3, 2, 0, 1, 1, 3, 1, 3, 1, 1, 0, 3, 0, 0, 1, 1]), 'input_ids': tensor([[  101,  1753,  1637,  ...,     0,     0,     0],\n",
      "        [  101, 15646,  1113,  ...,     0,     0,     0],\n",
      "        [  101,  1109,  7691,  ...,     0,     0,     0],\n",
      "        ...,\n",
      "        [  101,   137,  4795,  ...,     0,     0,     0],\n",
      "        [  101,  2614,  1106,  ...,     0,     0,     0],\n",
      "        [  101,   137,  4795,  ...,     0,     0,     0]]), 'attention_mask': tensor([[1, 1, 1,  ..., 0, 0, 0],\n",
      "        [1, 1, 1,  ..., 0, 0, 0],\n",
      "        [1, 1, 1,  ..., 0, 0, 0],\n",
      "        ...,\n",
      "        [1, 1, 1,  ..., 0, 0, 0],\n",
      "        [1, 1, 1,  ..., 0, 0, 0],\n",
      "        [1, 1, 1,  ..., 0, 0, 0]])}\n",
      "{'label': tensor([1, 2, 2, 0, 3, 1, 1, 0, 2, 3, 0, 1, 3, 3, 0, 0]), 'input_ids': tensor([[  101,  1284,  3523,  ...,     0,     0,     0],\n",
      "        [  101,  1135,  2274,  ...,     0,     0,     0],\n",
      "        [  101, 19753,  2162,  ...,     0,     0,     0],\n",
      "        ...,\n",
      "        [  101,  3341,  1110,  ...,     0,     0,     0],\n",
      "        [  101, 12614,  1105,  ...,     0,     0,     0],\n",
      "        [  101,   137,  4795,  ...,     0,     0,     0]]), 'attention_mask': tensor([[1, 1, 1,  ..., 0, 0, 0],\n",
      "        [1, 1, 1,  ..., 0, 0, 0],\n",
      "        [1, 1, 1,  ..., 0, 0, 0],\n",
      "        ...,\n",
      "        [1, 1, 1,  ..., 0, 0, 0],\n",
      "        [1, 1, 1,  ..., 0, 0, 0],\n",
      "        [1, 1, 1,  ..., 0, 0, 0]])}\n",
      "{'label': tensor([1, 0, 1, 1, 3, 1, 0, 0, 0, 0, 2, 1, 1, 0, 0, 0]), 'input_ids': tensor([[  101,   170,  2047,  ...,     0,     0,     0],\n",
      "        [  101,  1795,  5221,  ...,     0,     0,     0],\n",
      "        [  101,  1153,   112,  ...,     0,     0,     0],\n",
      "        ...,\n",
      "        [  101,   137,  4795,  ...,     0,     0,     0],\n",
      "        [  101,   178,  1169,  ...,     0,     0,     0],\n",
      "        [  101, 20001,  6652,  ...,     0,     0,     0]]), 'attention_mask': tensor([[1, 1, 1,  ..., 0, 0, 0],\n",
      "        [1, 1, 1,  ..., 0, 0, 0],\n",
      "        [1, 1, 1,  ..., 0, 0, 0],\n",
      "        ...,\n",
      "        [1, 1, 1,  ..., 0, 0, 0],\n",
      "        [1, 1, 1,  ..., 0, 0, 0],\n",
      "        [1, 1, 1,  ..., 0, 0, 0]])}\n",
      "{'label': tensor([0, 0, 3, 1, 0, 0, 0, 3, 2, 2, 2, 3, 2, 0, 0, 0]), 'input_ids': tensor([[ 101,  137, 4795,  ...,    0,    0,    0],\n",
      "        [ 101, 1192, 1138,  ...,    0,    0,    0],\n",
      "        [ 101,  137, 4795,  ...,    0,    0,    0],\n",
      "        ...,\n",
      "        [ 101,  137, 4795,  ...,    0,    0,    0],\n",
      "        [ 101,  137, 4795,  ...,    0,    0,    0],\n",
      "        [ 101,  137, 4795,  ...,    0,    0,    0]]), 'attention_mask': tensor([[1, 1, 1,  ..., 0, 0, 0],\n",
      "        [1, 1, 1,  ..., 0, 0, 0],\n",
      "        [1, 1, 1,  ..., 0, 0, 0],\n",
      "        ...,\n",
      "        [1, 1, 1,  ..., 0, 0, 0],\n",
      "        [1, 1, 1,  ..., 0, 0, 0],\n",
      "        [1, 1, 1,  ..., 0, 0, 0]])}\n",
      "{'label': tensor([0, 1, 0, 3, 3, 0, 3, 0, 3, 0, 2, 3, 0, 0, 2, 0]), 'input_ids': tensor([[  101,  1247,   112,  ...,     0,     0,     0],\n",
      "        [  101, 23330,  1122,  ...,     0,     0,     0],\n",
      "        [  101,   137,  4795,  ...,     0,     0,     0],\n",
      "        ...,\n",
      "        [  101,   137,  4795,  ...,     0,     0,     0],\n",
      "        [  101,  6291,   108,  ...,     0,     0,     0],\n",
      "        [  101,   108,  7955,  ...,     0,     0,     0]]), 'attention_mask': tensor([[1, 1, 1,  ..., 0, 0, 0],\n",
      "        [1, 1, 1,  ..., 0, 0, 0],\n",
      "        [1, 1, 1,  ..., 0, 0, 0],\n",
      "        ...,\n",
      "        [1, 1, 1,  ..., 0, 0, 0],\n",
      "        [1, 1, 1,  ..., 0, 0, 0],\n",
      "        [1, 1, 1,  ..., 0, 0, 0]])}\n",
      "{'label': tensor([1, 3, 0, 0, 0, 3, 0, 0, 3, 0, 0, 0, 3, 0, 0, 1]), 'input_ids': tensor([[  101,  1731,  7310,  ...,     0,     0,     0],\n",
      "        [  101,   146,   112,  ...,     0,     0,     0],\n",
      "        [  101,   137,  4795,  ...,     0,     0,     0],\n",
      "        ...,\n",
      "        [  101, 19020,  1106,  ...,     0,     0,     0],\n",
      "        [  101,   137,  4795,  ...,     0,     0,     0],\n",
      "        [  101,  1284,   112,  ...,     0,     0,     0]]), 'attention_mask': tensor([[1, 1, 1,  ..., 0, 0, 0],\n",
      "        [1, 1, 1,  ..., 0, 0, 0],\n",
      "        [1, 1, 1,  ..., 0, 0, 0],\n",
      "        ...,\n",
      "        [1, 1, 1,  ..., 0, 0, 0],\n",
      "        [1, 1, 1,  ..., 0, 0, 0],\n",
      "        [1, 1, 1,  ..., 0, 0, 0]])}\n",
      "{'label': tensor([0, 3, 1, 0, 3, 3, 3, 1, 1, 3, 0, 3, 1, 3, 1, 0]), 'input_ids': tensor([[  101,   108,  8499,  ...,     0,     0,     0],\n",
      "        [  101,  1165,   190,  ...,     0,     0,     0],\n",
      "        [  101,   149, 13685,  ...,     0,     0,     0],\n",
      "        ...,\n",
      "        [  101,   137,  4795,  ...,     0,     0,     0],\n",
      "        [  101,  1109,  1234,  ...,     0,     0,     0],\n",
      "        [  101,   118,  1892,  ...,     0,     0,     0]]), 'attention_mask': tensor([[1, 1, 1,  ..., 0, 0, 0],\n",
      "        [1, 1, 1,  ..., 0, 0, 0],\n",
      "        [1, 1, 1,  ..., 0, 0, 0],\n",
      "        ...,\n",
      "        [1, 1, 1,  ..., 0, 0, 0],\n",
      "        [1, 1, 1,  ..., 0, 0, 0],\n",
      "        [1, 1, 1,  ..., 0, 0, 0]])}\n",
      "{'label': tensor([0, 3, 3, 0, 1, 2, 3, 3, 0, 0, 1, 3, 0, 0, 0, 0]), 'input_ids': tensor([[  101,   137,  4795,  ...,     0,     0,     0],\n",
      "        [  101,  1109, 10507,  ...,     0,     0,     0],\n",
      "        [  101, 21111,   125,  ...,     0,     0,     0],\n",
      "        ...,\n",
      "        [  101,  1249,  1191,  ...,     0,     0,     0],\n",
      "        [  101,   137,  4795,  ...,     0,     0,     0],\n",
      "        [  101,   137,  4795,  ...,     0,     0,     0]]), 'attention_mask': tensor([[1, 1, 1,  ..., 0, 0, 0],\n",
      "        [1, 1, 1,  ..., 0, 0, 0],\n",
      "        [1, 1, 1,  ..., 0, 0, 0],\n",
      "        ...,\n",
      "        [1, 1, 1,  ..., 0, 0, 0],\n",
      "        [1, 1, 1,  ..., 0, 0, 0],\n",
      "        [1, 1, 1,  ..., 0, 0, 0]])}\n",
      "{'label': tensor([0, 2, 0, 0, 3, 3, 2, 2, 1, 0, 1, 1, 2, 0, 1, 0]), 'input_ids': tensor([[  101,  5055,  1470,  ...,     0,     0,     0],\n",
      "        [  101,   146,  3683,  ...,     0,     0,     0],\n",
      "        [  101,  3956,  1128,  ...,     0,     0,     0],\n",
      "        ...,\n",
      "        [  101,   137,  4795,  ...,     0,     0,     0],\n",
      "        [  101,   146, 16445,  ...,     0,     0,     0],\n",
      "        [  101,   137,  4795,  ...,     0,     0,     0]]), 'attention_mask': tensor([[1, 1, 1,  ..., 0, 0, 0],\n",
      "        [1, 1, 1,  ..., 0, 0, 0],\n",
      "        [1, 1, 1,  ..., 0, 0, 0],\n",
      "        ...,\n",
      "        [1, 1, 1,  ..., 0, 0, 0],\n",
      "        [1, 1, 1,  ..., 0, 0, 0],\n",
      "        [1, 1, 1,  ..., 0, 0, 0]])}\n",
      "{'label': tensor([3, 3, 2, 0, 3, 0, 0, 1, 0, 0, 0, 0, 2, 3, 2, 1]), 'input_ids': tensor([[  101,  1109,  2371,  ...,     0,     0,     0],\n",
      "        [  101,   137,  4795,  ...,     0,     0,     0],\n",
      "        [  101,   137,  4795,  ...,     0,     0,     0],\n",
      "        ...,\n",
      "        [  101, 13280,  1161,  ...,     0,     0,     0],\n",
      "        [  101,   137,  4795,  ...,     0,     0,     0],\n",
      "        [  101,  1135,   112,  ...,     0,     0,     0]]), 'attention_mask': tensor([[1, 1, 1,  ..., 0, 0, 0],\n",
      "        [1, 1, 1,  ..., 0, 0, 0],\n",
      "        [1, 1, 1,  ..., 0, 0, 0],\n",
      "        ...,\n",
      "        [1, 1, 1,  ..., 0, 0, 0],\n",
      "        [1, 1, 1,  ..., 0, 0, 0],\n",
      "        [1, 1, 1,  ..., 0, 0, 0]])}\n",
      "{'label': tensor([0, 1, 0, 1, 3, 3, 2, 0, 0, 0, 0, 0, 0, 0, 1, 1]), 'input_ids': tensor([[  101,  5949,  1113,  ...,     0,     0,     0],\n",
      "        [  101,  8325,  5691,  ...,     0,     0,     0],\n",
      "        [  101,  4373,  1195,  ...,     0,     0,     0],\n",
      "        ...,\n",
      "        [  101,  6819, 20303,  ...,     0,     0,     0],\n",
      "        [  101,   108,  5990,  ...,     0,     0,     0],\n",
      "        [  101,   137,  4795,  ...,     0,     0,     0]]), 'attention_mask': tensor([[1, 1, 1,  ..., 0, 0, 0],\n",
      "        [1, 1, 1,  ..., 0, 0, 0],\n",
      "        [1, 1, 1,  ..., 0, 0, 0],\n",
      "        ...,\n",
      "        [1, 1, 1,  ..., 0, 0, 0],\n",
      "        [1, 1, 1,  ..., 0, 0, 0],\n",
      "        [1, 1, 1,  ..., 0, 0, 0]])}\n",
      "{'label': tensor([1, 3, 1, 1, 0, 0, 3, 0, 0, 0, 2, 1, 0, 3, 0, 0]), 'input_ids': tensor([[ 101,  137, 4795,  ...,    0,    0,    0],\n",
      "        [ 101,  137, 4795,  ...,    0,    0,    0],\n",
      "        [ 101,  137, 4795,  ...,    0,    0,    0],\n",
      "        ...,\n",
      "        [ 101,  146, 1575,  ...,    0,    0,    0],\n",
      "        [ 101,  137, 4795,  ...,    0,    0,    0],\n",
      "        [ 101,  137, 4795,  ...,    0,    0,    0]]), 'attention_mask': tensor([[1, 1, 1,  ..., 0, 0, 0],\n",
      "        [1, 1, 1,  ..., 0, 0, 0],\n",
      "        [1, 1, 1,  ..., 0, 0, 0],\n",
      "        ...,\n",
      "        [1, 1, 1,  ..., 0, 0, 0],\n",
      "        [1, 1, 1,  ..., 0, 0, 0],\n",
      "        [1, 1, 1,  ..., 0, 0, 0]])}\n",
      "{'label': tensor([0, 0, 2, 0, 0, 0, 0, 0, 0, 3, 3, 2, 3, 0, 3, 3]), 'input_ids': tensor([[  101,   137,  4795,  ...,     0,     0,     0],\n",
      "        [  101,  1291,  1110,  ...,     0,     0,     0],\n",
      "        [  101, 15218,  1176,  ...,     0,     0,     0],\n",
      "        ...,\n",
      "        [  101,  1165,  1234,  ...,     0,     0,     0],\n",
      "        [  101,   137,  4795,  ...,     0,     0,     0],\n",
      "        [  101, 13215,  1989,  ...,     0,     0,     0]]), 'attention_mask': tensor([[1, 1, 1,  ..., 0, 0, 0],\n",
      "        [1, 1, 1,  ..., 0, 0, 0],\n",
      "        [1, 1, 1,  ..., 0, 0, 0],\n",
      "        ...,\n",
      "        [1, 1, 1,  ..., 0, 0, 0],\n",
      "        [1, 1, 1,  ..., 0, 0, 0],\n",
      "        [1, 1, 1,  ..., 0, 0, 0]])}\n",
      "{'label': tensor([0, 0, 0, 0, 3, 3, 1, 1, 0, 1, 0, 3, 0, 0, 3, 3]), 'input_ids': tensor([[  101,  1139,  4113,  ...,     0,     0,     0],\n",
      "        [  101,  1573,  1164,  ...,     0,     0,     0],\n",
      "        [  101,   137,  4795,  ...,     0,     0,     0],\n",
      "        ...,\n",
      "        [  101,   137,  4795,  ...,     0,     0,     0],\n",
      "        [  101, 23330, 20712,  ...,     0,     0,     0],\n",
      "        [  101, 11993,  1126,  ...,     0,     0,     0]]), 'attention_mask': tensor([[1, 1, 1,  ..., 0, 0, 0],\n",
      "        [1, 1, 1,  ..., 0, 0, 0],\n",
      "        [1, 1, 1,  ..., 0, 0, 0],\n",
      "        ...,\n",
      "        [1, 1, 1,  ..., 0, 0, 0],\n",
      "        [1, 1, 1,  ..., 0, 0, 0],\n",
      "        [1, 1, 1,  ..., 0, 0, 0]])}\n",
      "{'label': tensor([0, 1, 1, 1, 2, 0, 3, 0, 3, 1, 3, 0, 2, 0, 0, 0]), 'input_ids': tensor([[  101,   137,  4795,  ...,     0,     0,     0],\n",
      "        [  101,  1314, 11437,  ...,     0,     0,     0],\n",
      "        [  101,   137,  4795,  ...,     0,     0,     0],\n",
      "        ...,\n",
      "        [  101,   137,  4795,  ...,     0,     0,     0],\n",
      "        [  101, 13280,  1145,  ...,     0,     0,     0],\n",
      "        [  101,   137,  4795,  ...,     0,     0,     0]]), 'attention_mask': tensor([[1, 1, 1,  ..., 0, 0, 0],\n",
      "        [1, 1, 1,  ..., 0, 0, 0],\n",
      "        [1, 1, 1,  ..., 0, 0, 0],\n",
      "        ...,\n",
      "        [1, 1, 1,  ..., 0, 0, 0],\n",
      "        [1, 1, 1,  ..., 0, 0, 0],\n",
      "        [1, 1, 1,  ..., 0, 0, 0]])}\n",
      "{'label': tensor([0, 0, 2, 0, 0, 3, 0, 3, 0, 3, 0, 1, 3, 0, 0, 1]), 'input_ids': tensor([[  101,  1409,  1251,  ...,     0,     0,     0],\n",
      "        [  101, 12357,   112,  ...,     0,     0,     0],\n",
      "        [  101,  2563,  1328,  ...,     0,     0,     0],\n",
      "        ...,\n",
      "        [  101,   137,  4795,  ...,     0,     0,     0],\n",
      "        [  101,   137,  4795,  ...,     0,     0,     0],\n",
      "        [  101,   137,  4795,  ...,     0,     0,     0]]), 'attention_mask': tensor([[1, 1, 1,  ..., 0, 0, 0],\n",
      "        [1, 1, 1,  ..., 0, 0, 0],\n",
      "        [1, 1, 1,  ..., 0, 0, 0],\n",
      "        ...,\n",
      "        [1, 1, 1,  ..., 0, 0, 0],\n",
      "        [1, 1, 1,  ..., 0, 0, 0],\n",
      "        [1, 1, 1,  ..., 0, 0, 0]])}\n",
      "{'label': tensor([3, 1, 1, 0, 3, 3, 3, 0, 0, 0, 3, 3, 1, 3, 2, 3]), 'input_ids': tensor([[ 101, 4403, 1183,  ...,    0,    0,    0],\n",
      "        [ 101, 1752, 1285,  ...,    0,    0,    0],\n",
      "        [ 101, 1109, 1207,  ...,    0,    0,    0],\n",
      "        ...,\n",
      "        [ 101,  146, 1169,  ...,    0,    0,    0],\n",
      "        [ 101,  138,  112,  ...,    0,    0,    0],\n",
      "        [ 101, 2825,  146,  ...,    0,    0,    0]]), 'attention_mask': tensor([[1, 1, 1,  ..., 0, 0, 0],\n",
      "        [1, 1, 1,  ..., 0, 0, 0],\n",
      "        [1, 1, 1,  ..., 0, 0, 0],\n",
      "        ...,\n",
      "        [1, 1, 1,  ..., 0, 0, 0],\n",
      "        [1, 1, 1,  ..., 0, 0, 0],\n",
      "        [1, 1, 1,  ..., 0, 0, 0]])}\n",
      "{'label': tensor([0, 0, 0, 0, 1, 1, 3, 1, 3, 0, 1, 0, 3, 0, 0, 0]), 'input_ids': tensor([[  101,   137,  4795,  ...,     0,     0,     0],\n",
      "        [  101,  7972,   102,  ...,     0,     0,     0],\n",
      "        [  101,   119,   119,  ...,     0,     0,     0],\n",
      "        ...,\n",
      "        [  101,  2825,   112,  ...,     0,     0,     0],\n",
      "        [  101,  1327,   170,  ...,     0,     0,     0],\n",
      "        [  101, 23676,  1592,  ...,     0,     0,     0]]), 'attention_mask': tensor([[1, 1, 1,  ..., 0, 0, 0],\n",
      "        [1, 1, 1,  ..., 0, 0, 0],\n",
      "        [1, 1, 1,  ..., 0, 0, 0],\n",
      "        ...,\n",
      "        [1, 1, 1,  ..., 0, 0, 0],\n",
      "        [1, 1, 1,  ..., 0, 0, 0],\n",
      "        [1, 1, 1,  ..., 0, 0, 0]])}\n",
      "{'label': tensor([0, 0, 2, 0, 0, 3, 1, 0, 0, 3, 0, 2, 1, 3, 0, 2]), 'input_ids': tensor([[  101, 24107, 21348,  ...,     0,     0,     0],\n",
      "        [  101,   146,  1274,  ...,     0,     0,     0],\n",
      "        [  101, 11336, 23445,  ...,     0,     0,     0],\n",
      "        ...,\n",
      "        [  101,   137,  4795,  ...,     0,     0,     0],\n",
      "        [  101,   137,  4795,  ...,     0,     0,     0],\n",
      "        [  101,   137,  4795,  ...,     0,     0,     0]]), 'attention_mask': tensor([[1, 1, 1,  ..., 0, 0, 0],\n",
      "        [1, 1, 1,  ..., 0, 0, 0],\n",
      "        [1, 1, 1,  ..., 0, 0, 0],\n",
      "        ...,\n",
      "        [1, 1, 1,  ..., 0, 0, 0],\n",
      "        [1, 1, 1,  ..., 0, 0, 0],\n",
      "        [1, 1, 1,  ..., 0, 0, 0]])}\n",
      "{'label': tensor([3, 3, 1, 0, 0, 0, 0, 3, 3, 1, 1, 0, 3, 1, 0, 3]), 'input_ids': tensor([[ 101,  146, 1198,  ...,    0,    0,    0],\n",
      "        [ 101,  137, 4795,  ...,    0,    0,    0],\n",
      "        [ 101,  137, 4795,  ...,    0,    0,    0],\n",
      "        ...,\n",
      "        [ 101,  146, 1276,  ...,    0,    0,    0],\n",
      "        [ 101, 1272,  170,  ...,    0,    0,    0],\n",
      "        [ 101, 1422, 3592,  ...,    0,    0,    0]]), 'attention_mask': tensor([[1, 1, 1,  ..., 0, 0, 0],\n",
      "        [1, 1, 1,  ..., 0, 0, 0],\n",
      "        [1, 1, 1,  ..., 0, 0, 0],\n",
      "        ...,\n",
      "        [1, 1, 1,  ..., 0, 0, 0],\n",
      "        [1, 1, 1,  ..., 0, 0, 0],\n",
      "        [1, 1, 1,  ..., 0, 0, 0]])}\n",
      "{'label': tensor([3, 0, 0, 0, 0, 0, 2, 1, 2, 0, 0, 2, 3, 3, 2, 0]), 'input_ids': tensor([[  101, 18896,  3690,  ...,     0,     0,     0],\n",
      "        [  101,   137,  4795,  ...,     0,     0,     0],\n",
      "        [  101,   137,  4795,  ...,     0,     0,     0],\n",
      "        ...,\n",
      "        [  101,   146,   112,  ...,     0,     0,     0],\n",
      "        [  101,   137,  4795,  ...,     0,     0,     0],\n",
      "        [  101,   137,  4795,  ...,     0,     0,     0]]), 'attention_mask': tensor([[1, 1, 1,  ..., 0, 0, 0],\n",
      "        [1, 1, 1,  ..., 0, 0, 0],\n",
      "        [1, 1, 1,  ..., 0, 0, 0],\n",
      "        ...,\n",
      "        [1, 1, 1,  ..., 0, 0, 0],\n",
      "        [1, 1, 1,  ..., 0, 0, 0],\n",
      "        [1, 1, 1,  ..., 0, 0, 0]])}\n",
      "{'label': tensor([0, 0, 0, 2, 0, 1, 0, 0, 0, 2, 0, 3, 0, 3, 2, 1]), 'input_ids': tensor([[ 101,  137, 4795,  ...,    0,    0,    0],\n",
      "        [ 101,  137, 4795,  ...,    0,    0,    0],\n",
      "        [ 101,  137, 4795,  ...,    0,    0,    0],\n",
      "        ...,\n",
      "        [ 101, 1422,  123,  ...,    0,    0,    0],\n",
      "        [ 101, 1790,  112,  ...,    0,    0,    0],\n",
      "        [ 101,  137, 4795,  ...,    0,    0,    0]]), 'attention_mask': tensor([[1, 1, 1,  ..., 0, 0, 0],\n",
      "        [1, 1, 1,  ..., 0, 0, 0],\n",
      "        [1, 1, 1,  ..., 0, 0, 0],\n",
      "        ...,\n",
      "        [1, 1, 1,  ..., 0, 0, 0],\n",
      "        [1, 1, 1,  ..., 0, 0, 0],\n",
      "        [1, 1, 1,  ..., 0, 0, 0]])}\n",
      "{'label': tensor([3, 1, 0, 0, 3, 2, 0, 0, 2, 0, 3, 0, 0, 3, 2, 0]), 'input_ids': tensor([[ 101, 1109, 1490,  ...,    0,    0,    0],\n",
      "        [ 101, 2119, 4482,  ...,    0,    0,    0],\n",
      "        [ 101,  137, 4795,  ...,    0,    0,    0],\n",
      "        ...,\n",
      "        [ 101,  146,  182,  ...,    0,    0,    0],\n",
      "        [ 101, 2583, 1110,  ...,    0,    0,    0],\n",
      "        [ 101,  137, 4795,  ...,    0,    0,    0]]), 'attention_mask': tensor([[1, 1, 1,  ..., 0, 0, 0],\n",
      "        [1, 1, 1,  ..., 0, 0, 0],\n",
      "        [1, 1, 1,  ..., 0, 0, 0],\n",
      "        ...,\n",
      "        [1, 1, 1,  ..., 0, 0, 0],\n",
      "        [1, 1, 1,  ..., 0, 0, 0],\n",
      "        [1, 1, 1,  ..., 0, 0, 0]])}\n",
      "{'label': tensor([0, 3, 0, 0, 0, 1, 3, 0, 1, 3, 0, 0, 3, 3, 1, 0]), 'input_ids': tensor([[  101,  2409,  1119,  ...,     0,     0,     0],\n",
      "        [  101,  1337,  2296,  ...,     0,     0,     0],\n",
      "        [  101,   146,  1306,  ...,     0,     0,     0],\n",
      "        ...,\n",
      "        [  101,  1332,  1209,  ...,     0,     0,     0],\n",
      "        [  101, 10817,  1158,  ...,     0,     0,     0],\n",
      "        [  101,  4666,  1547,  ...,     0,     0,     0]]), 'attention_mask': tensor([[1, 1, 1,  ..., 0, 0, 0],\n",
      "        [1, 1, 1,  ..., 0, 0, 0],\n",
      "        [1, 1, 1,  ..., 0, 0, 0],\n",
      "        ...,\n",
      "        [1, 1, 1,  ..., 0, 0, 0],\n",
      "        [1, 1, 1,  ..., 0, 0, 0],\n",
      "        [1, 1, 1,  ..., 0, 0, 0]])}\n",
      "{'label': tensor([0, 2, 1, 0, 3, 1, 0, 3, 1, 0, 0, 1, 0, 0, 0, 0]), 'input_ids': tensor([[  101,   137,  4795,  ...,     0,     0,     0],\n",
      "        [  101,   137,  4795,  ...,     0,     0,     0],\n",
      "        [  101,  1212,  1103,  ...,     0,     0,     0],\n",
      "        ...,\n",
      "        [  101, 12184,   188,  ...,     0,     0,     0],\n",
      "        [  101,  2658,  1116,  ...,     0,     0,     0],\n",
      "        [  101,   108,  1790,  ...,     0,     0,     0]]), 'attention_mask': tensor([[1, 1, 1,  ..., 0, 0, 0],\n",
      "        [1, 1, 1,  ..., 0, 0, 0],\n",
      "        [1, 1, 1,  ..., 0, 0, 0],\n",
      "        ...,\n",
      "        [1, 1, 1,  ..., 0, 0, 0],\n",
      "        [1, 1, 1,  ..., 0, 0, 0],\n",
      "        [1, 1, 1,  ..., 0, 0, 0]])}\n",
      "{'label': tensor([1, 0, 3, 2, 3, 0, 3, 2, 0, 1, 1, 2, 1, 3, 0, 0]), 'input_ids': tensor([[  101,  1185, 10027,  ...,     0,     0,     0],\n",
      "        [  101,   137,  4795,  ...,     0,     0,     0],\n",
      "        [  101,   137,  4795,  ...,     0,     0,     0],\n",
      "        ...,\n",
      "        [  101,  1177,  1930,  ...,     0,     0,     0],\n",
      "        [  101,   146,  1821,  ...,     0,     0,     0],\n",
      "        [  101,   137,  4795,  ...,     0,     0,     0]]), 'attention_mask': tensor([[1, 1, 1,  ..., 0, 0, 0],\n",
      "        [1, 1, 1,  ..., 0, 0, 0],\n",
      "        [1, 1, 1,  ..., 0, 0, 0],\n",
      "        ...,\n",
      "        [1, 1, 1,  ..., 0, 0, 0],\n",
      "        [1, 1, 1,  ..., 0, 0, 0],\n",
      "        [1, 1, 1,  ..., 0, 0, 0]])}\n",
      "{'label': tensor([0, 0, 0, 0, 0, 1, 0, 1, 1, 1, 3, 0, 0, 1, 1, 1]), 'input_ids': tensor([[  101,   137,  4795,  ...,     0,     0,     0],\n",
      "        [  101,   138,   149,  ...,     0,     0,     0],\n",
      "        [  101,   137,  4795,  ...,     0,     0,     0],\n",
      "        ...,\n",
      "        [  101, 21570,  1709,  ...,     0,     0,     0],\n",
      "        [  101, 25338,  1233,  ...,     0,     0,     0],\n",
      "        [  101,  2431,  1120,  ...,     0,     0,     0]]), 'attention_mask': tensor([[1, 1, 1,  ..., 0, 0, 0],\n",
      "        [1, 1, 1,  ..., 0, 0, 0],\n",
      "        [1, 1, 1,  ..., 0, 0, 0],\n",
      "        ...,\n",
      "        [1, 1, 1,  ..., 0, 0, 0],\n",
      "        [1, 1, 1,  ..., 0, 0, 0],\n",
      "        [1, 1, 1,  ..., 0, 0, 0]])}\n",
      "{'label': tensor([0, 3, 0, 2, 3, 0, 0, 0, 0, 3, 3, 3, 0, 3, 1, 0]), 'input_ids': tensor([[  101, 12144,  3681,  ...,     0,     0,     0],\n",
      "        [  101, 27238,   134,  ...,     0,     0,     0],\n",
      "        [  101,   146,  1274,  ...,     0,     0,     0],\n",
      "        ...,\n",
      "        [  101,  1422, 13768,  ...,     0,     0,     0],\n",
      "        [  101,   138,   112,  ...,     0,     0,     0],\n",
      "        [  101,   137,  4795,  ...,     0,     0,     0]]), 'attention_mask': tensor([[1, 1, 1,  ..., 0, 0, 0],\n",
      "        [1, 1, 1,  ..., 0, 0, 0],\n",
      "        [1, 1, 1,  ..., 0, 0, 0],\n",
      "        ...,\n",
      "        [1, 1, 1,  ..., 0, 0, 0],\n",
      "        [1, 1, 1,  ..., 0, 0, 0],\n",
      "        [1, 1, 1,  ..., 0, 0, 0]])}\n",
      "{'label': tensor([3, 3, 1, 1, 3, 3, 0, 0, 1, 0, 1, 0, 2, 1, 0, 0]), 'input_ids': tensor([[  101,   138,  1495,  ...,     0,     0,     0],\n",
      "        [  101,   146,  1306,  ...,     0,     0,     0],\n",
      "        [  101,  1332,  1380,  ...,     0,     0,     0],\n",
      "        ...,\n",
      "        [  101,  4514,  1128,  ...,     0,     0,     0],\n",
      "        [  101, 10560,  1176,  ...,     0,     0,     0],\n",
      "        [  101,  1573,  1152,  ...,     0,     0,     0]]), 'attention_mask': tensor([[1, 1, 1,  ..., 0, 0, 0],\n",
      "        [1, 1, 1,  ..., 0, 0, 0],\n",
      "        [1, 1, 1,  ..., 0, 0, 0],\n",
      "        ...,\n",
      "        [1, 1, 1,  ..., 0, 0, 0],\n",
      "        [1, 1, 1,  ..., 0, 0, 0],\n",
      "        [1, 1, 1,  ..., 0, 0, 0]])}\n",
      "{'label': tensor([0, 1, 2, 1, 0, 3, 0, 0, 3, 3, 1, 1, 0, 3, 3, 2]), 'input_ids': tensor([[ 101,  137, 4795,  ...,    0,    0,    0],\n",
      "        [ 101,  137, 4795,  ...,    0,    0,    0],\n",
      "        [ 101,  146, 1198,  ...,    0,    0,    0],\n",
      "        ...,\n",
      "        [ 101, 1422, 1488,  ...,    0,    0,    0],\n",
      "        [ 101, 1332, 1128,  ...,    0,    0,    0],\n",
      "        [ 101,  137, 4795,  ...,    0,    0,    0]]), 'attention_mask': tensor([[1, 1, 1,  ..., 0, 0, 0],\n",
      "        [1, 1, 1,  ..., 0, 0, 0],\n",
      "        [1, 1, 1,  ..., 0, 0, 0],\n",
      "        ...,\n",
      "        [1, 1, 1,  ..., 0, 0, 0],\n",
      "        [1, 1, 1,  ..., 0, 0, 0],\n",
      "        [1, 1, 1,  ..., 0, 0, 0]])}\n",
      "{'label': tensor([0, 2, 2, 1, 3, 3, 0, 2, 0, 1, 3, 0, 3, 0, 0, 1]), 'input_ids': tensor([[  101,   137,  4795,  ...,     0,     0,     0],\n",
      "        [  101,  1409,  1128,  ...,     0,     0,     0],\n",
      "        [  101,   137,  4795,  ...,     0,     0,     0],\n",
      "        ...,\n",
      "        [  101,   146,   112,  ...,     0,     0,     0],\n",
      "        [  101, 24489,  5115,  ...,     0,     0,     0],\n",
      "        [  101,  8325, 16168,  ...,     0,     0,     0]]), 'attention_mask': tensor([[1, 1, 1,  ..., 0, 0, 0],\n",
      "        [1, 1, 1,  ..., 0, 0, 0],\n",
      "        [1, 1, 1,  ..., 0, 0, 0],\n",
      "        ...,\n",
      "        [1, 1, 1,  ..., 0, 0, 0],\n",
      "        [1, 1, 1,  ..., 0, 0, 0],\n",
      "        [1, 1, 1,  ..., 0, 0, 0]])}\n",
      "{'label': tensor([3, 0, 3, 0, 2, 0, 3, 2, 1, 0, 0, 0, 0, 0, 0, 0]), 'input_ids': tensor([[ 101, 8553, 1174,  ...,    0,    0,    0],\n",
      "        [ 101,  137, 4795,  ...,    0,    0,    0],\n",
      "        [ 101,  108, 2563,  ...,    0,    0,    0],\n",
      "        ...,\n",
      "        [ 101,  137, 4795,  ...,    0,    0,    0],\n",
      "        [ 101, 1109, 1334,  ...,    0,    0,    0],\n",
      "        [ 101, 1789, 4112,  ...,    0,    0,    0]]), 'attention_mask': tensor([[1, 1, 1,  ..., 0, 0, 0],\n",
      "        [1, 1, 1,  ..., 0, 0, 0],\n",
      "        [1, 1, 1,  ..., 0, 0, 0],\n",
      "        ...,\n",
      "        [1, 1, 1,  ..., 0, 0, 0],\n",
      "        [1, 1, 1,  ..., 0, 0, 0],\n",
      "        [1, 1, 1,  ..., 0, 0, 0]])}\n",
      "{'label': tensor([3, 0, 0, 0, 2, 3, 0, 3, 1, 3, 0, 0, 0, 0, 0, 3]), 'input_ids': tensor([[ 101,  146, 1221,  ...,    0,    0,    0],\n",
      "        [ 101,  137, 4795,  ...,    0,    0,    0],\n",
      "        [ 101,  137, 4795,  ...,    0,    0,    0],\n",
      "        ...,\n",
      "        [ 101,  137, 4795,  ...,    0,    0,    0],\n",
      "        [ 101,  137, 4795,  ...,    0,    0,    0],\n",
      "        [ 101,  137, 4795,  ...,    0,    0,    0]]), 'attention_mask': tensor([[1, 1, 1,  ..., 0, 0, 0],\n",
      "        [1, 1, 1,  ..., 0, 0, 0],\n",
      "        [1, 1, 1,  ..., 0, 0, 0],\n",
      "        ...,\n",
      "        [1, 1, 1,  ..., 0, 0, 0],\n",
      "        [1, 1, 1,  ..., 0, 0, 0],\n",
      "        [1, 1, 1,  ..., 0, 0, 0]])}\n",
      "{'label': tensor([3, 0, 0, 1, 0, 3, 0, 0, 1, 0, 1, 0, 0, 1, 0, 0]), 'input_ids': tensor([[  101,   137,  4795,  ...,     0,     0,     0],\n",
      "        [  101,  5823,  1141,  ...,     0,     0,     0],\n",
      "        [  101,   108,   142,  ...,     0,     0,     0],\n",
      "        ...,\n",
      "        [  101,  1107,  1567,  ...,     0,     0,     0],\n",
      "        [  101, 26505,  4608,  ...,     0,     0,     0],\n",
      "        [  101,   137,  4795,  ...,     0,     0,     0]]), 'attention_mask': tensor([[1, 1, 1,  ..., 0, 0, 0],\n",
      "        [1, 1, 1,  ..., 0, 0, 0],\n",
      "        [1, 1, 1,  ..., 0, 0, 0],\n",
      "        ...,\n",
      "        [1, 1, 1,  ..., 0, 0, 0],\n",
      "        [1, 1, 1,  ..., 0, 0, 0],\n",
      "        [1, 1, 1,  ..., 0, 0, 0]])}\n",
      "{'label': tensor([3, 1, 1, 1, 2, 3, 3, 1, 0, 1, 0, 0, 0, 0, 3, 3]), 'input_ids': tensor([[  101,  3414,  1283,  ...,     0,     0,     0],\n",
      "        [  101,  1798, 15882,  ...,     0,     0,     0],\n",
      "        [  101,  8553,  1142,  ...,     0,     0,     0],\n",
      "        ...,\n",
      "        [  101,   137,  4795,  ...,     0,     0,     0],\n",
      "        [  101,  5876,  1400,  ...,     0,     0,     0],\n",
      "        [  101,   146,   112,  ...,     0,     0,     0]]), 'attention_mask': tensor([[1, 1, 1,  ..., 0, 0, 0],\n",
      "        [1, 1, 1,  ..., 0, 0, 0],\n",
      "        [1, 1, 1,  ..., 0, 0, 0],\n",
      "        ...,\n",
      "        [1, 1, 1,  ..., 0, 0, 0],\n",
      "        [1, 1, 1,  ..., 0, 0, 0],\n",
      "        [1, 1, 1,  ..., 0, 0, 0]])}\n",
      "{'label': tensor([3, 3, 3, 0, 0, 0, 2, 3, 0, 0, 3, 2, 0, 1, 3, 0]), 'input_ids': tensor([[ 101, 3453,  112,  ...,    0,    0,    0],\n",
      "        [ 101,  137, 4795,  ...,    0,    0,    0],\n",
      "        [ 101,  137, 4795,  ...,    0,    0,    0],\n",
      "        ...,\n",
      "        [ 101, 7187, 1142,  ...,    0,    0,    0],\n",
      "        [ 101,  137, 4795,  ...,    0,    0,    0],\n",
      "        [ 101,  146, 4819,  ...,    0,    0,    0]]), 'attention_mask': tensor([[1, 1, 1,  ..., 0, 0, 0],\n",
      "        [1, 1, 1,  ..., 0, 0, 0],\n",
      "        [1, 1, 1,  ..., 0, 0, 0],\n",
      "        ...,\n",
      "        [1, 1, 1,  ..., 0, 0, 0],\n",
      "        [1, 1, 1,  ..., 0, 0, 0],\n",
      "        [1, 1, 1,  ..., 0, 0, 0]])}\n",
      "{'label': tensor([1, 1, 2, 3, 0, 0, 0, 1, 0, 0, 2, 0, 1, 1, 2, 0]), 'input_ids': tensor([[ 101, 8553, 1142,  ...,    0,    0,    0],\n",
      "        [ 101, 4081, 1214,  ...,    0,    0,    0],\n",
      "        [ 101,  137, 4795,  ...,    0,    0,    0],\n",
      "        ...,\n",
      "        [ 101,  137, 4795,  ...,    0,    0,    0],\n",
      "        [ 101, 1135,  112,  ...,    0,    0,    0],\n",
      "        [ 101,  137, 4795,  ...,    0,    0,    0]]), 'attention_mask': tensor([[1, 1, 1,  ..., 0, 0, 0],\n",
      "        [1, 1, 1,  ..., 0, 0, 0],\n",
      "        [1, 1, 1,  ..., 0, 0, 0],\n",
      "        ...,\n",
      "        [1, 1, 1,  ..., 0, 0, 0],\n",
      "        [1, 1, 1,  ..., 0, 0, 0],\n",
      "        [1, 1, 1,  ..., 0, 0, 0]])}\n",
      "{'label': tensor([2, 1, 1, 3, 0, 0, 0, 3, 1, 2, 3, 0, 1, 3, 0, 1]), 'input_ids': tensor([[  101,  7103,  2069,  ...,     0,     0,     0],\n",
      "        [  101, 14630,  1983,  ...,     0,     0,     0],\n",
      "        [  101,   137,  4795,  ...,     0,     0,     0],\n",
      "        ...,\n",
      "        [  101,   146,  1125,  ...,     0,     0,     0],\n",
      "        [  101,  7187,  1131,  ...,     0,     0,     0],\n",
      "        [  101,  4081,  1159,  ...,     0,     0,     0]]), 'attention_mask': tensor([[1, 1, 1,  ..., 0, 0, 0],\n",
      "        [1, 1, 1,  ..., 0, 0, 0],\n",
      "        [1, 1, 1,  ..., 0, 0, 0],\n",
      "        ...,\n",
      "        [1, 1, 1,  ..., 0, 0, 0],\n",
      "        [1, 1, 1,  ..., 0, 0, 0],\n",
      "        [1, 1, 1,  ..., 0, 0, 0]])}\n",
      "{'label': tensor([0, 1, 0, 0, 3, 0, 1, 2, 3, 1, 3, 1, 3, 1, 3, 2]), 'input_ids': tensor([[ 101,  137, 4795,  ...,    0,    0,    0],\n",
      "        [ 101,  137, 4795,  ...,    0,    0,    0],\n",
      "        [ 101,  124,  108,  ...,    0,    0,    0],\n",
      "        ...,\n",
      "        [ 101,  137, 4795,  ...,    0,    0,    0],\n",
      "        [ 101,  146, 1547,  ...,    0,    0,    0],\n",
      "        [ 101, 1109,  108,  ...,    0,    0,    0]]), 'attention_mask': tensor([[1, 1, 1,  ..., 0, 0, 0],\n",
      "        [1, 1, 1,  ..., 0, 0, 0],\n",
      "        [1, 1, 1,  ..., 0, 0, 0],\n",
      "        ...,\n",
      "        [1, 1, 1,  ..., 0, 0, 0],\n",
      "        [1, 1, 1,  ..., 0, 0, 0],\n",
      "        [1, 1, 1,  ..., 0, 0, 0]])}\n",
      "{'label': tensor([0, 0, 0, 3, 3, 0, 0, 3, 0, 0, 1, 0, 3, 3, 0, 3]), 'input_ids': tensor([[  101,   137,  4795,  ...,     0,     0,     0],\n",
      "        [  101,   152,  2346,  ...,     0,     0,     0],\n",
      "        [  101,   178,  2810,  ...,     0,     0,     0],\n",
      "        ...,\n",
      "        [  101, 16752,  2572,  ...,     0,     0,     0],\n",
      "        [  101,  2066,  1688,  ...,     0,     0,     0],\n",
      "        [  101,   100,   119,  ...,     0,     0,     0]]), 'attention_mask': tensor([[1, 1, 1,  ..., 0, 0, 0],\n",
      "        [1, 1, 1,  ..., 0, 0, 0],\n",
      "        [1, 1, 1,  ..., 0, 0, 0],\n",
      "        ...,\n",
      "        [1, 1, 1,  ..., 0, 0, 0],\n",
      "        [1, 1, 1,  ..., 0, 0, 0],\n",
      "        [1, 1, 1,  ..., 0, 0, 0]])}\n",
      "{'label': tensor([1, 1, 0, 1, 3, 0, 3, 0, 1, 0, 3, 3, 0, 0, 0, 1]), 'input_ids': tensor([[  101,  1115,   112,  ...,     0,     0,     0],\n",
      "        [  101,   137,  4795,  ...,     0,     0,     0],\n",
      "        [  101,  1573,   146,  ...,     0,     0,     0],\n",
      "        ...,\n",
      "        [  101, 19314,  1198,  ...,     0,     0,     0],\n",
      "        [  101,   137,  4795,  ...,     0,     0,     0],\n",
      "        [  101,  3435,  1105,  ...,     0,     0,     0]]), 'attention_mask': tensor([[1, 1, 1,  ..., 0, 0, 0],\n",
      "        [1, 1, 1,  ..., 0, 0, 0],\n",
      "        [1, 1, 1,  ..., 0, 0, 0],\n",
      "        ...,\n",
      "        [1, 1, 1,  ..., 0, 0, 0],\n",
      "        [1, 1, 1,  ..., 0, 0, 0],\n",
      "        [1, 1, 1,  ..., 0, 0, 0]])}\n",
      "{'label': tensor([1, 0, 0, 0, 1, 0, 0, 1, 2, 3, 0, 0, 3, 1, 0, 0]), 'input_ids': tensor([[  101,   137,  4795,  ...,     0,     0,     0],\n",
      "        [  101, 16873,  1132,  ...,     0,     0,     0],\n",
      "        [  101,  1731,  1110,  ...,     0,     0,     0],\n",
      "        ...,\n",
      "        [  101, 21534,   117,  ...,     0,     0,     0],\n",
      "        [  101,  2563,  1510,  ...,     0,     0,     0],\n",
      "        [  101,   137,  4795,  ...,     0,     0,     0]]), 'attention_mask': tensor([[1, 1, 1,  ..., 0, 0, 0],\n",
      "        [1, 1, 1,  ..., 0, 0, 0],\n",
      "        [1, 1, 1,  ..., 0, 0, 0],\n",
      "        ...,\n",
      "        [1, 1, 1,  ..., 0, 0, 0],\n",
      "        [1, 1, 1,  ..., 0, 0, 0],\n",
      "        [1, 1, 1,  ..., 0, 0, 0]])}\n",
      "{'label': tensor([3, 1, 0, 2, 3, 0, 0, 3, 3, 0, 1, 0, 3, 0, 1, 1]), 'input_ids': tensor([[ 101,  146,  112,  ...,    0,    0,    0],\n",
      "        [ 101, 1184, 1674,  ...,    0,    0,    0],\n",
      "        [ 101, 5657, 1116,  ...,    0,    0,    0],\n",
      "        ...,\n",
      "        [ 101,  137, 4795,  ...,    0,    0,    0],\n",
      "        [ 101,  137, 4795,  ...,    0,    0,    0],\n",
      "        [ 101,  137, 4795,  ...,    0,    0,    0]]), 'attention_mask': tensor([[1, 1, 1,  ..., 0, 0, 0],\n",
      "        [1, 1, 1,  ..., 0, 0, 0],\n",
      "        [1, 1, 1,  ..., 0, 0, 0],\n",
      "        ...,\n",
      "        [1, 1, 1,  ..., 0, 0, 0],\n",
      "        [1, 1, 1,  ..., 0, 0, 0],\n",
      "        [1, 1, 1,  ..., 0, 0, 0]])}\n",
      "{'label': tensor([2, 1, 3, 0, 3, 3, 3, 0, 0, 0, 0, 3, 1, 3, 3, 1]), 'input_ids': tensor([[  101,  1284,  2372,  ...,     0,     0,     0],\n",
      "        [  101,  1135,   112,  ...,     0,     0,     0],\n",
      "        [  101,   108,  5871,  ...,     0,     0,     0],\n",
      "        ...,\n",
      "        [  101,  4075, 12755,  ...,     0,     0,     0],\n",
      "        [  101,   146,  4819,  ...,     0,     0,     0],\n",
      "        [  101,   137,  4795,  ...,     0,     0,     0]]), 'attention_mask': tensor([[1, 1, 1,  ..., 0, 0, 0],\n",
      "        [1, 1, 1,  ..., 0, 0, 0],\n",
      "        [1, 1, 1,  ..., 0, 0, 0],\n",
      "        ...,\n",
      "        [1, 1, 1,  ..., 0, 0, 0],\n",
      "        [1, 1, 1,  ..., 0, 0, 0],\n",
      "        [1, 1, 1,  ..., 0, 0, 0]])}\n",
      "{'label': tensor([3, 0, 0, 0, 0, 1, 0, 3, 0, 3, 1, 3, 2, 1, 1, 1]), 'input_ids': tensor([[ 101,  146, 1125,  ...,    0,    0,    0],\n",
      "        [ 101,  123, 4583,  ...,    0,    0,    0],\n",
      "        [ 101,  137, 4795,  ...,    0,    0,    0],\n",
      "        ...,\n",
      "        [ 101, 2009, 1169,  ...,    0,    0,    0],\n",
      "        [ 101,  100,  165,  ...,    0,    0,    0],\n",
      "        [ 101,  137, 4795,  ...,    0,    0,    0]]), 'attention_mask': tensor([[1, 1, 1,  ..., 0, 0, 0],\n",
      "        [1, 1, 1,  ..., 0, 0, 0],\n",
      "        [1, 1, 1,  ..., 0, 0, 0],\n",
      "        ...,\n",
      "        [1, 1, 1,  ..., 0, 0, 0],\n",
      "        [1, 1, 1,  ..., 0, 0, 0],\n",
      "        [1, 1, 1,  ..., 0, 0, 0]])}\n",
      "{'label': tensor([1, 3, 2, 3, 3, 1, 0, 2, 1, 0, 0, 1, 3, 0, 3, 3]), 'input_ids': tensor([[ 101,  146, 1567,  ...,    0,    0,    0],\n",
      "        [ 101, 1422,  108,  ...,    0,    0,    0],\n",
      "        [ 101, 7383, 9929,  ...,    0,    0,    0],\n",
      "        ...,\n",
      "        [ 101,  137, 4795,  ...,    0,    0,    0],\n",
      "        [ 101,  137, 4795,  ...,    0,    0,    0],\n",
      "        [ 101,  178,  112,  ...,    0,    0,    0]]), 'attention_mask': tensor([[1, 1, 1,  ..., 0, 0, 0],\n",
      "        [1, 1, 1,  ..., 0, 0, 0],\n",
      "        [1, 1, 1,  ..., 0, 0, 0],\n",
      "        ...,\n",
      "        [1, 1, 1,  ..., 0, 0, 0],\n",
      "        [1, 1, 1,  ..., 0, 0, 0],\n",
      "        [1, 1, 1,  ..., 0, 0, 0]])}\n",
      "{'label': tensor([1, 3, 3, 0, 0, 2, 2, 0, 3, 0, 1, 2, 0, 0, 0, 0]), 'input_ids': tensor([[  101, 17680,  2634,  ...,     0,     0,     0],\n",
      "        [  101,  4666,  1547,  ...,     0,     0,     0],\n",
      "        [  101,   137,  4795,  ...,     0,     0,     0],\n",
      "        ...,\n",
      "        [  101,  5949,  1113,  ...,     0,     0,     0],\n",
      "        [  101,   137,  4795,  ...,     0,     0,     0],\n",
      "        [  101, 10188,   175,  ...,     0,     0,     0]]), 'attention_mask': tensor([[1, 1, 1,  ..., 0, 0, 0],\n",
      "        [1, 1, 1,  ..., 0, 0, 0],\n",
      "        [1, 1, 1,  ..., 0, 0, 0],\n",
      "        ...,\n",
      "        [1, 1, 1,  ..., 0, 0, 0],\n",
      "        [1, 1, 1,  ..., 0, 0, 0],\n",
      "        [1, 1, 1,  ..., 0, 0, 0]])}\n",
      "{'label': tensor([3, 3, 3, 1, 3, 1, 2, 0, 2, 2, 1, 0, 2, 1, 0, 2]), 'input_ids': tensor([[  101, 19569,  1116,  ...,     0,     0,     0],\n",
      "        [  101,   137,  4795,  ...,     0,     0,     0],\n",
      "        [  101,   137,  4795,  ...,     0,     0,     0],\n",
      "        ...,\n",
      "        [  101,   137,  4795,  ...,     0,     0,     0],\n",
      "        [  101,   138,  1583,  ...,     0,     0,     0],\n",
      "        [  101,  1135,   112,  ...,     0,     0,     0]]), 'attention_mask': tensor([[1, 1, 1,  ..., 0, 0, 0],\n",
      "        [1, 1, 1,  ..., 0, 0, 0],\n",
      "        [1, 1, 1,  ..., 0, 0, 0],\n",
      "        ...,\n",
      "        [1, 1, 1,  ..., 0, 0, 0],\n",
      "        [1, 1, 1,  ..., 0, 0, 0],\n",
      "        [1, 1, 1,  ..., 0, 0, 0]])}\n",
      "{'label': tensor([1, 3, 3, 3, 1, 3, 0, 1, 3, 1, 1, 0, 3, 3, 0, 0]), 'input_ids': tensor([[  101,   137,  4795,  ...,     0,     0,     0],\n",
      "        [  101,   137,  4795,  ...,     0,     0,     0],\n",
      "        [  101, 21372,  3452,  ...,     0,     0,     0],\n",
      "        ...,\n",
      "        [  101,   137,  4795,  ...,     0,     0,     0],\n",
      "        [  101,   146,  1444,  ...,     0,     0,     0],\n",
      "        [  101,   137,  4795,  ...,     0,     0,     0]]), 'attention_mask': tensor([[1, 1, 1,  ..., 0, 0, 0],\n",
      "        [1, 1, 1,  ..., 0, 0, 0],\n",
      "        [1, 1, 1,  ..., 0, 0, 0],\n",
      "        ...,\n",
      "        [1, 1, 1,  ..., 0, 0, 0],\n",
      "        [1, 1, 1,  ..., 0, 0, 0],\n",
      "        [1, 1, 1,  ..., 0, 0, 0]])}\n",
      "{'label': tensor([1, 1, 3, 1, 0, 3, 3, 3, 0, 0, 3, 3, 3, 2, 3, 3]), 'input_ids': tensor([[  101,  8553,  1142,  ...,     0,     0,     0],\n",
      "        [  101,  1192,  1274,  ...,     0,     0,     0],\n",
      "        [  101, 13280,  1515,  ...,     0,     0,     0],\n",
      "        ...,\n",
      "        [  101,   137,  4795,  ...,     0,     0,     0],\n",
      "        [  101,  1109,  1211,  ...,     0,     0,     0],\n",
      "        [  101,   137,  4795,  ...,     0,     0,     0]]), 'attention_mask': tensor([[1, 1, 1,  ..., 0, 0, 0],\n",
      "        [1, 1, 1,  ..., 0, 0, 0],\n",
      "        [1, 1, 1,  ..., 0, 0, 0],\n",
      "        ...,\n",
      "        [1, 1, 1,  ..., 0, 0, 0],\n",
      "        [1, 1, 1,  ..., 0, 0, 0],\n",
      "        [1, 1, 1,  ..., 0, 0, 0]])}\n",
      "{'label': tensor([1, 1, 0, 1, 3, 3, 3, 0, 2, 3, 2, 3, 0, 0, 1, 3]), 'input_ids': tensor([[  101,   137,  4795,  ...,     0,     0,     0],\n",
      "        [  101,  8553,  1142,  ...,     0,     0,     0],\n",
      "        [  101,   137,  4795,  ...,     0,     0,     0],\n",
      "        ...,\n",
      "        [  101,   146,   112,  ...,     0,     0,     0],\n",
      "        [  101,  2009,  1156,  ...,     0,     0,     0],\n",
      "        [  101, 11442, 22797,  ...,     0,     0,     0]]), 'attention_mask': tensor([[1, 1, 1,  ..., 0, 0, 0],\n",
      "        [1, 1, 1,  ..., 0, 0, 0],\n",
      "        [1, 1, 1,  ..., 0, 0, 0],\n",
      "        ...,\n",
      "        [1, 1, 1,  ..., 0, 0, 0],\n",
      "        [1, 1, 1,  ..., 0, 0, 0],\n",
      "        [1, 1, 1,  ..., 0, 0, 0]])}\n",
      "{'label': tensor([0, 1, 3, 0, 2, 3, 0, 0, 0, 1, 3, 3, 1, 3, 2, 1]), 'input_ids': tensor([[ 101, 2563, 1128,  ...,    0,    0,    0],\n",
      "        [ 101, 1124,  112,  ...,    0,    0,    0],\n",
      "        [ 101, 1302, 1141,  ...,    0,    0,    0],\n",
      "        ...,\n",
      "        [ 101,  137, 4795,  ...,    0,    0,    0],\n",
      "        [ 101,  108,  123,  ...,    0,    0,    0],\n",
      "        [ 101, 1212, 1103,  ...,    0,    0,    0]]), 'attention_mask': tensor([[1, 1, 1,  ..., 0, 0, 0],\n",
      "        [1, 1, 1,  ..., 0, 0, 0],\n",
      "        [1, 1, 1,  ..., 0, 0, 0],\n",
      "        ...,\n",
      "        [1, 1, 1,  ..., 0, 0, 0],\n",
      "        [1, 1, 1,  ..., 0, 0, 0],\n",
      "        [1, 1, 1,  ..., 0, 0, 0]])}\n",
      "{'label': tensor([0, 1, 1, 0, 0, 3, 0, 0, 1, 0, 0, 1, 3, 3, 2, 0]), 'input_ids': tensor([[  101,   178,  1640,  ...,     0,     0,     0],\n",
      "        [  101,  8631, 12413,  ...,     0,     0,     0],\n",
      "        [  101, 18861,  1158,  ...,     0,     0,     0],\n",
      "        ...,\n",
      "        [  101, 12107, 14867,  ...,     0,     0,     0],\n",
      "        [  101,  1109,  1211,  ...,     0,     0,     0],\n",
      "        [  101,  2825,  1800,  ...,     0,     0,     0]]), 'attention_mask': tensor([[1, 1, 1,  ..., 0, 0, 0],\n",
      "        [1, 1, 1,  ..., 0, 0, 0],\n",
      "        [1, 1, 1,  ..., 0, 0, 0],\n",
      "        ...,\n",
      "        [1, 1, 1,  ..., 0, 0, 0],\n",
      "        [1, 1, 1,  ..., 0, 0, 0],\n",
      "        [1, 1, 1,  ..., 0, 0, 0]])}\n",
      "{'label': tensor([0, 0, 0, 1, 3, 3, 0, 3, 1, 2, 3, 3, 2, 0, 3, 1]), 'input_ids': tensor([[ 101, 5479, 6131,  ...,    0,    0,    0],\n",
      "        [ 101, 1337, 1631,  ...,    0,    0,    0],\n",
      "        [ 101,  146, 1221,  ...,    0,    0,    0],\n",
      "        ...,\n",
      "        [ 101,  137, 4795,  ...,    0,    0,    0],\n",
      "        [ 101, 2959, 4304,  ...,    0,    0,    0],\n",
      "        [ 101, 2977, 1394,  ...,    0,    0,    0]]), 'attention_mask': tensor([[1, 1, 1,  ..., 0, 0, 0],\n",
      "        [1, 1, 1,  ..., 0, 0, 0],\n",
      "        [1, 1, 1,  ..., 0, 0, 0],\n",
      "        ...,\n",
      "        [1, 1, 1,  ..., 0, 0, 0],\n",
      "        [1, 1, 1,  ..., 0, 0, 0],\n",
      "        [1, 1, 1,  ..., 0, 0, 0]])}\n",
      "{'label': tensor([0, 0, 1, 0, 3, 0, 0, 2, 2, 3, 0, 0, 0, 0, 0, 0]), 'input_ids': tensor([[ 101,  137, 4795,  ...,    0,    0,    0],\n",
      "        [ 101,  146, 1274,  ...,    0,    0,    0],\n",
      "        [ 101, 1135,  112,  ...,    0,    0,    0],\n",
      "        ...,\n",
      "        [ 101,  146,  112,  ...,    0,    0,    0],\n",
      "        [ 101,  137, 4795,  ...,    0,    0,    0],\n",
      "        [ 101, 1409, 1128,  ...,    0,    0,    0]]), 'attention_mask': tensor([[1, 1, 1,  ..., 0, 0, 0],\n",
      "        [1, 1, 1,  ..., 0, 0, 0],\n",
      "        [1, 1, 1,  ..., 0, 0, 0],\n",
      "        ...,\n",
      "        [1, 1, 1,  ..., 0, 0, 0],\n",
      "        [1, 1, 1,  ..., 0, 0, 0],\n",
      "        [1, 1, 1,  ..., 0, 0, 0]])}\n",
      "{'label': tensor([1, 0, 0, 0, 1, 0, 0, 3, 3, 2, 2, 0, 0, 3, 3, 1]), 'input_ids': tensor([[  101,  8325, 16168,  ...,     0,     0,     0],\n",
      "        [  101,   137,  4795,  ...,     0,     0,     0],\n",
      "        [  101,   137,  4795,  ...,     0,     0,     0],\n",
      "        ...,\n",
      "        [  101,   137,  4795,  ...,     0,     0,     0],\n",
      "        [  101,   115, 14159,  ...,     0,     0,     0],\n",
      "        [  101,   108,  1148,  ...,     0,     0,     0]]), 'attention_mask': tensor([[1, 1, 1,  ..., 0, 0, 0],\n",
      "        [1, 1, 1,  ..., 0, 0, 0],\n",
      "        [1, 1, 1,  ..., 0, 0, 0],\n",
      "        ...,\n",
      "        [1, 1, 1,  ..., 0, 0, 0],\n",
      "        [1, 1, 1,  ..., 0, 0, 0],\n",
      "        [1, 1, 1,  ..., 0, 0, 0]])}\n",
      "{'label': tensor([0, 3, 1, 1, 1, 0, 1, 0, 1, 0, 0, 0, 0, 0, 2, 3]), 'input_ids': tensor([[  101,   108, 11896,  ...,     0,     0,     0],\n",
      "        [  101, 11993,   108,  ...,     0,     0,     0],\n",
      "        [  101,   137,  4795,  ...,     0,     0,     0],\n",
      "        ...,\n",
      "        [  101,  6064,  1110,  ...,     0,     0,     0],\n",
      "        [  101,  1192,  1169,  ...,     0,     0,     0],\n",
      "        [  101,   137,  4795,  ...,     0,     0,     0]]), 'attention_mask': tensor([[1, 1, 1,  ..., 0, 0, 0],\n",
      "        [1, 1, 1,  ..., 0, 0, 0],\n",
      "        [1, 1, 1,  ..., 0, 0, 0],\n",
      "        ...,\n",
      "        [1, 1, 1,  ..., 0, 0, 0],\n",
      "        [1, 1, 1,  ..., 0, 0, 0],\n",
      "        [1, 1, 1,  ..., 0, 0, 0]])}\n",
      "{'label': tensor([0, 0, 3, 2, 1, 3, 2, 0, 1, 0, 3, 1, 0, 0, 1, 3]), 'input_ids': tensor([[  101,  1136,  1178,  ...,     0,     0,     0],\n",
      "        [  101, 14680,  2339,  ...,     0,     0,     0],\n",
      "        [  101,  1109,  7329,  ...,     0,     0,     0],\n",
      "        ...,\n",
      "        [  101,  1753,  2959,  ...,     0,     0,     0],\n",
      "        [  101, 10756,   146,  ...,     0,     0,     0],\n",
      "        [  101,   137,  4795,  ...,     0,     0,     0]]), 'attention_mask': tensor([[1, 1, 1,  ..., 0, 0, 0],\n",
      "        [1, 1, 1,  ..., 0, 0, 0],\n",
      "        [1, 1, 1,  ..., 0, 0, 0],\n",
      "        ...,\n",
      "        [1, 1, 1,  ..., 0, 0, 0],\n",
      "        [1, 1, 1,  ..., 0, 0, 0],\n",
      "        [1, 1, 1,  ..., 0, 0, 0]])}\n",
      "{'label': tensor([0, 0, 3, 0, 3, 0, 1, 1, 0, 2, 1, 0, 3, 3, 0, 1]), 'input_ids': tensor([[  101,   137,  4795,  ...,     0,     0,     0],\n",
      "        [  101,   137,  4795,  ...,     0,     0,     0],\n",
      "        [  101,  2119,  1139,  ...,     0,     0,     0],\n",
      "        ...,\n",
      "        [  101,   100,   111,  ...,     0,     0,     0],\n",
      "        [  101,   156, 13041,  ...,     0,     0,     0],\n",
      "        [  101,  1109, 13877,  ...,     0,     0,     0]]), 'attention_mask': tensor([[1, 1, 1,  ..., 0, 0, 0],\n",
      "        [1, 1, 1,  ..., 0, 0, 0],\n",
      "        [1, 1, 1,  ..., 0, 0, 0],\n",
      "        ...,\n",
      "        [1, 1, 1,  ..., 0, 0, 0],\n",
      "        [1, 1, 1,  ..., 0, 0, 0],\n",
      "        [1, 1, 1,  ..., 0, 0, 0]])}\n",
      "{'label': tensor([0, 3, 1, 0, 1, 1, 1, 0, 1, 3, 0, 1, 1, 3, 0, 0]), 'input_ids': tensor([[ 101,  137, 4795,  ...,    0,    0,    0],\n",
      "        [ 101,  146, 1169,  ...,    0,    0,    0],\n",
      "        [ 101,  137, 4795,  ...,    0,    0,    0],\n",
      "        ...,\n",
      "        [ 101,  137, 4795,  ...,    0,    0,    0],\n",
      "        [ 101,  137, 4795,  ...,    0,    0,    0],\n",
      "        [ 101,  137, 4795,  ...,    0,    0,    0]]), 'attention_mask': tensor([[1, 1, 1,  ..., 0, 0, 0],\n",
      "        [1, 1, 1,  ..., 0, 0, 0],\n",
      "        [1, 1, 1,  ..., 0, 0, 0],\n",
      "        ...,\n",
      "        [1, 1, 1,  ..., 0, 0, 0],\n",
      "        [1, 1, 1,  ..., 0, 0, 0],\n",
      "        [1, 1, 1,  ..., 0, 0, 0]])}\n",
      "{'label': tensor([0, 0, 0, 1, 3, 0, 0, 1, 0, 0, 1, 0, 3, 1, 0, 3]), 'input_ids': tensor([[  101,   137,  4795,  ...,     0,     0,     0],\n",
      "        [  101,  6249, 13359,  ...,     0,     0,     0],\n",
      "        [  101, 12956,   137,  ...,     0,     0,     0],\n",
      "        ...,\n",
      "        [  101,   146,   112,  ...,     0,     0,     0],\n",
      "        [  101,   137,  4795,  ...,     0,     0,     0],\n",
      "        [  101, 24570,   119,  ...,     0,     0,     0]]), 'attention_mask': tensor([[1, 1, 1,  ..., 0, 0, 0],\n",
      "        [1, 1, 1,  ..., 0, 0, 0],\n",
      "        [1, 1, 1,  ..., 0, 0, 0],\n",
      "        ...,\n",
      "        [1, 1, 1,  ..., 0, 0, 0],\n",
      "        [1, 1, 1,  ..., 0, 0, 0],\n",
      "        [1, 1, 1,  ..., 0, 0, 0]])}\n",
      "{'label': tensor([0, 3, 1, 3, 0, 0, 1, 3, 0, 0, 1, 0, 0, 0, 0, 3]), 'input_ids': tensor([[  101,   137,  4795,  ...,     0,     0,     0],\n",
      "        [  101, 13085, 26121,  ...,     0,     0,     0],\n",
      "        [  101,   137,  4795,  ...,     0,     0,     0],\n",
      "        ...,\n",
      "        [  101,   108,  4140,  ...,     0,     0,     0],\n",
      "        [  101,  1275,  1904,  ...,     0,     0,     0],\n",
      "        [  101,   137,  4795,  ...,     0,     0,     0]]), 'attention_mask': tensor([[1, 1, 1,  ..., 0, 0, 0],\n",
      "        [1, 1, 1,  ..., 0, 0, 0],\n",
      "        [1, 1, 1,  ..., 0, 0, 0],\n",
      "        ...,\n",
      "        [1, 1, 1,  ..., 0, 0, 0],\n",
      "        [1, 1, 1,  ..., 0, 0, 0],\n",
      "        [1, 1, 1,  ..., 0, 0, 0]])}\n",
      "{'label': tensor([2, 0, 0, 3, 1, 3, 0, 0, 0, 3, 1, 0, 1, 2, 0, 1]), 'input_ids': tensor([[  101,  2185,  2274,  ...,     0,     0,     0],\n",
      "        [  101,  1332,  1128,  ...,     0,     0,     0],\n",
      "        [  101,   137,  4795,  ...,     0,     0,     0],\n",
      "        ...,\n",
      "        [  101, 22591,  1204,  ...,     0,     0,     0],\n",
      "        [  101,   146,  1274,  ...,     0,     0,     0],\n",
      "        [  101,  1139,  4113,  ...,     0,     0,     0]]), 'attention_mask': tensor([[1, 1, 1,  ..., 0, 0, 0],\n",
      "        [1, 1, 1,  ..., 0, 0, 0],\n",
      "        [1, 1, 1,  ..., 0, 0, 0],\n",
      "        ...,\n",
      "        [1, 1, 1,  ..., 0, 0, 0],\n",
      "        [1, 1, 1,  ..., 0, 0, 0],\n",
      "        [1, 1, 1,  ..., 0, 0, 0]])}\n",
      "{'label': tensor([0, 3, 2, 3, 1, 0, 1, 3, 1, 3, 1, 0, 0, 1, 3, 0]), 'input_ids': tensor([[  101,  3763,  1158,  ...,     0,     0,     0],\n",
      "        [  101,   137,  4795,  ...,     0,     0,     0],\n",
      "        [  101,   138, 12076,  ...,     0,     0,     0],\n",
      "        ...,\n",
      "        [  101,  8553,  1142,  ...,     0,     0,     0],\n",
      "        [  101,   146,   112,  ...,     0,     0,     0],\n",
      "        [  101,  1107,  1139,  ...,     0,     0,     0]]), 'attention_mask': tensor([[1, 1, 1,  ..., 0, 0, 0],\n",
      "        [1, 1, 1,  ..., 0, 0, 0],\n",
      "        [1, 1, 1,  ..., 0, 0, 0],\n",
      "        ...,\n",
      "        [1, 1, 1,  ..., 0, 0, 0],\n",
      "        [1, 1, 1,  ..., 0, 0, 0],\n",
      "        [1, 1, 1,  ..., 0, 0, 0]])}\n",
      "{'label': tensor([3, 3, 0, 0, 0, 0, 3, 3, 0, 0, 3, 3, 1, 0, 2, 1]), 'input_ids': tensor([[  101,  1573,  1128,  ...,     0,     0,     0],\n",
      "        [  101,   137,  4795,  ...,     0,     0,     0],\n",
      "        [  101, 11008,  2276,  ...,     0,     0,     0],\n",
      "        ...,\n",
      "        [  101,   146,  1243,  ...,     0,     0,     0],\n",
      "        [  101,   146,  1309,  ...,     0,     0,     0],\n",
      "        [  101,  1573,  2816,  ...,     0,     0,     0]]), 'attention_mask': tensor([[1, 1, 1,  ..., 0, 0, 0],\n",
      "        [1, 1, 1,  ..., 0, 0, 0],\n",
      "        [1, 1, 1,  ..., 0, 0, 0],\n",
      "        ...,\n",
      "        [1, 1, 1,  ..., 0, 0, 0],\n",
      "        [1, 1, 1,  ..., 0, 0, 0],\n",
      "        [1, 1, 1,  ..., 0, 0, 0]])}\n",
      "{'label': tensor([0, 0, 1, 1, 1, 0, 0, 0, 0, 1, 1, 1, 0, 2, 1, 0]), 'input_ids': tensor([[  101,  1192, 16447,  ...,     0,     0,     0],\n",
      "        [  101,   146,  1138,  ...,     0,     0,     0],\n",
      "        [  101,   789,  2091,  ...,     0,     0,     0],\n",
      "        ...,\n",
      "        [  101,   109,  1620,  ...,     0,     0,     0],\n",
      "        [  101,   108,   171,  ...,     0,     0,     0],\n",
      "        [  101,   157,  8167,  ...,     0,     0,     0]]), 'attention_mask': tensor([[1, 1, 1,  ..., 0, 0, 0],\n",
      "        [1, 1, 1,  ..., 0, 0, 0],\n",
      "        [1, 1, 1,  ..., 0, 0, 0],\n",
      "        ...,\n",
      "        [1, 1, 1,  ..., 0, 0, 0],\n",
      "        [1, 1, 1,  ..., 0, 0, 0],\n",
      "        [1, 1, 1,  ..., 0, 0, 0]])}\n",
      "{'label': tensor([0, 0, 3, 3, 3, 3, 0, 3, 0, 3, 1, 0, 1, 3, 0, 3]), 'input_ids': tensor([[  101,   196, 11661,  ...,     0,     0,     0],\n",
      "        [  101,   137,  4795,  ...,     0,     0,     0],\n",
      "        [  101, 23878,  1107,  ...,     0,     0,     0],\n",
      "        ...,\n",
      "        [  101,   146, 25566,  ...,     0,     0,     0],\n",
      "        [  101,  1284,  1162,  ...,     0,     0,     0],\n",
      "        [  101,  1327,  6434,  ...,     0,     0,     0]]), 'attention_mask': tensor([[1, 1, 1,  ..., 0, 0, 0],\n",
      "        [1, 1, 1,  ..., 0, 0, 0],\n",
      "        [1, 1, 1,  ..., 0, 0, 0],\n",
      "        ...,\n",
      "        [1, 1, 1,  ..., 0, 0, 0],\n",
      "        [1, 1, 1,  ..., 0, 0, 0],\n",
      "        [1, 1, 1,  ..., 0, 0, 0]])}\n",
      "{'label': tensor([3, 3, 1, 1, 3, 0, 1, 3, 0, 2, 2, 1, 3, 2, 3, 0]), 'input_ids': tensor([[  101,  1135,  1110,  ...,     0,     0,     0],\n",
      "        [  101,   137,  4795,  ...,     0,     0,     0],\n",
      "        [  101,   137,  4795,  ...,     0,     0,     0],\n",
      "        ...,\n",
      "        [  101,  3100,  1202,  ...,     0,     0,     0],\n",
      "        [  101, 14425,  1116,  ...,     0,     0,     0],\n",
      "        [  101,   137,  4795,  ...,     0,     0,     0]]), 'attention_mask': tensor([[1, 1, 1,  ..., 0, 0, 0],\n",
      "        [1, 1, 1,  ..., 0, 0, 0],\n",
      "        [1, 1, 1,  ..., 0, 0, 0],\n",
      "        ...,\n",
      "        [1, 1, 1,  ..., 0, 0, 0],\n",
      "        [1, 1, 1,  ..., 0, 0, 0],\n",
      "        [1, 1, 1,  ..., 0, 0, 0]])}\n",
      "{'label': tensor([1, 0, 0, 2, 3, 2, 3, 0, 3, 0, 0, 0, 3, 0, 1, 1]), 'input_ids': tensor([[ 101, 7747,  178,  ...,    0,    0,    0],\n",
      "        [ 101, 1409, 1128,  ...,    0,    0,    0],\n",
      "        [ 101, 1203, 1505,  ...,    0,    0,    0],\n",
      "        ...,\n",
      "        [ 101,  137, 4795,  ...,    0,    0,    0],\n",
      "        [ 101,  137, 4795,  ...,    0,    0,    0],\n",
      "        [ 101, 1109, 7195,  ...,    0,    0,    0]]), 'attention_mask': tensor([[1, 1, 1,  ..., 0, 0, 0],\n",
      "        [1, 1, 1,  ..., 0, 0, 0],\n",
      "        [1, 1, 1,  ..., 0, 0, 0],\n",
      "        ...,\n",
      "        [1, 1, 1,  ..., 0, 0, 0],\n",
      "        [1, 1, 1,  ..., 0, 0, 0],\n",
      "        [1, 1, 1,  ..., 0, 0, 0]])}\n",
      "{'label': tensor([2, 0, 0, 3, 3, 2, 0, 3, 1, 0, 0, 3, 3, 0, 0, 3]), 'input_ids': tensor([[  101,   108, 19797,  ...,     0,     0,     0],\n",
      "        [  101,  1573,   146,  ...,     0,     0,     0],\n",
      "        [  101,  3100,  1660,  ...,     0,     0,     0],\n",
      "        ...,\n",
      "        [  101,  4259,  1640,  ...,     0,     0,     0],\n",
      "        [  101,   137,  4795,  ...,     0,     0,     0],\n",
      "        [  101,  2563,  1315,  ...,     0,     0,     0]]), 'attention_mask': tensor([[1, 1, 1,  ..., 0, 0, 0],\n",
      "        [1, 1, 1,  ..., 0, 0, 0],\n",
      "        [1, 1, 1,  ..., 0, 0, 0],\n",
      "        ...,\n",
      "        [1, 1, 1,  ..., 0, 0, 0],\n",
      "        [1, 1, 1,  ..., 0, 0, 0],\n",
      "        [1, 1, 1,  ..., 0, 0, 0]])}\n",
      "{'label': tensor([3, 0, 0, 3, 3, 0, 1, 1, 1, 3, 3, 2, 0, 0, 0, 1]), 'input_ids': tensor([[ 101, 2431, 1473,  ...,    0,    0,    0],\n",
      "        [ 101,  137, 4795,  ...,    0,    0,    0],\n",
      "        [ 101,  160, 3048,  ...,    0,    0,    0],\n",
      "        ...,\n",
      "        [ 101,  137, 4795,  ...,    0,    0,    0],\n",
      "        [ 101,  108, 6469,  ...,    0,    0,    0],\n",
      "        [ 101, 5623,  124,  ...,    0,    0,    0]]), 'attention_mask': tensor([[1, 1, 1,  ..., 0, 0, 0],\n",
      "        [1, 1, 1,  ..., 0, 0, 0],\n",
      "        [1, 1, 1,  ..., 0, 0, 0],\n",
      "        ...,\n",
      "        [1, 1, 1,  ..., 0, 0, 0],\n",
      "        [1, 1, 1,  ..., 0, 0, 0],\n",
      "        [1, 1, 1,  ..., 0, 0, 0]])}\n",
      "{'label': tensor([1, 0, 1, 0, 1, 0, 3, 3, 0, 1, 0, 0, 0, 3, 3, 3]), 'input_ids': tensor([[ 101, 1192, 1221,  ...,    0,    0,    0],\n",
      "        [ 101,  137, 4795,  ...,    0,    0,    0],\n",
      "        [ 101,  146,  112,  ...,    0,    0,    0],\n",
      "        ...,\n",
      "        [ 101,  137, 4795,  ...,    0,    0,    0],\n",
      "        [ 101,  137, 4795,  ...,    0,    0,    0],\n",
      "        [ 101,  137, 4795,  ...,    0,    0,    0]]), 'attention_mask': tensor([[1, 1, 1,  ..., 0, 0, 0],\n",
      "        [1, 1, 1,  ..., 0, 0, 0],\n",
      "        [1, 1, 1,  ..., 0, 0, 0],\n",
      "        ...,\n",
      "        [1, 1, 1,  ..., 0, 0, 0],\n",
      "        [1, 1, 1,  ..., 0, 0, 0],\n",
      "        [1, 1, 1,  ..., 0, 0, 0]])}\n",
      "{'label': tensor([0, 0, 0, 0, 0, 0, 1, 0, 3, 1, 3, 0, 3, 3, 0, 3]), 'input_ids': tensor([[  101,  1422,  6054,  ...,     0,     0,     0],\n",
      "        [  101,   119,   165,  ...,     0,     0,     0],\n",
      "        [  101,   137,  4795,  ...,     0,     0,     0],\n",
      "        ...,\n",
      "        [  101,   137,  4795,  ...,     0,     0,     0],\n",
      "        [  101,  1284,   112,  ...,     0,     0,     0],\n",
      "        [  101, 18447, 10401,  ...,     0,     0,     0]]), 'attention_mask': tensor([[1, 1, 1,  ..., 0, 0, 0],\n",
      "        [1, 1, 1,  ..., 0, 0, 0],\n",
      "        [1, 1, 1,  ..., 0, 0, 0],\n",
      "        ...,\n",
      "        [1, 1, 1,  ..., 0, 0, 0],\n",
      "        [1, 1, 1,  ..., 0, 0, 0],\n",
      "        [1, 1, 1,  ..., 0, 0, 0]])}\n",
      "{'label': tensor([0, 1, 0, 3, 0, 0, 3, 0, 3, 0, 3, 0, 2, 3, 0, 1]), 'input_ids': tensor([[ 101,  139, 8009,  ...,    0,    0,    0],\n",
      "        [ 101, 6819, 5342,  ...,    0,    0,    0],\n",
      "        [ 101,  108, 1726,  ...,    0,    0,    0],\n",
      "        ...,\n",
      "        [ 101,  137, 4795,  ...,    0,    0,    0],\n",
      "        [ 101, 6042,  155,  ...,    0,    0,    0],\n",
      "        [ 101, 2627,  112,  ...,    0,    0,    0]]), 'attention_mask': tensor([[1, 1, 1,  ..., 0, 0, 0],\n",
      "        [1, 1, 1,  ..., 0, 0, 0],\n",
      "        [1, 1, 1,  ..., 0, 0, 0],\n",
      "        ...,\n",
      "        [1, 1, 1,  ..., 0, 0, 0],\n",
      "        [1, 1, 1,  ..., 0, 0, 0],\n",
      "        [1, 1, 1,  ..., 0, 0, 0]])}\n",
      "{'label': tensor([3, 3, 0, 1, 0, 0, 2, 0, 3, 1, 0, 3, 0, 0, 1, 0]), 'input_ids': tensor([[  101,  1135,  1321,  ...,     0,     0,     0],\n",
      "        [  101,   137,  4795,  ...,     0,     0,     0],\n",
      "        [  101, 16984,   131,  ...,     0,     0,     0],\n",
      "        ...,\n",
      "        [  101,   155,  1186,  ...,     0,     0,     0],\n",
      "        [  101,  2066,  1400,  ...,     0,     0,     0],\n",
      "        [  101,   146,  1306,  ...,     0,     0,     0]]), 'attention_mask': tensor([[1, 1, 1,  ..., 0, 0, 0],\n",
      "        [1, 1, 1,  ..., 0, 0, 0],\n",
      "        [1, 1, 1,  ..., 0, 0, 0],\n",
      "        ...,\n",
      "        [1, 1, 1,  ..., 0, 0, 0],\n",
      "        [1, 1, 1,  ..., 0, 0, 0],\n",
      "        [1, 1, 1,  ..., 0, 0, 0]])}\n",
      "{'label': tensor([0, 1, 0, 3, 1, 0, 1, 1, 2, 3, 3, 0, 1, 0, 1, 3]), 'input_ids': tensor([[  101, 23517,  6947,  ...,     0,     0,     0],\n",
      "        [  101,  1109,  2971,  ...,     0,     0,     0],\n",
      "        [  101,   108, 20452,  ...,     0,     0,     0],\n",
      "        ...,\n",
      "        [  101,  1284, 16155,  ...,     0,     0,     0],\n",
      "        [  101,   108,  2067,  ...,     0,     0,     0],\n",
      "        [  101, 18861,  1158,  ...,     0,     0,     0]]), 'attention_mask': tensor([[1, 1, 1,  ..., 0, 0, 0],\n",
      "        [1, 1, 1,  ..., 0, 0, 0],\n",
      "        [1, 1, 1,  ..., 0, 0, 0],\n",
      "        ...,\n",
      "        [1, 1, 1,  ..., 0, 0, 0],\n",
      "        [1, 1, 1,  ..., 0, 0, 0],\n",
      "        [1, 1, 1,  ..., 0, 0, 0]])}\n",
      "{'label': tensor([1, 3, 0, 0, 0, 0, 0, 2, 1, 3, 0, 2, 0, 2, 0, 0]), 'input_ids': tensor([[ 101,  137, 4795,  ...,    0,    0,    0],\n",
      "        [ 101,  137, 4795,  ...,    0,    0,    0],\n",
      "        [ 101, 1199, 1234,  ...,    0,    0,    0],\n",
      "        ...,\n",
      "        [ 101, 5091, 1294,  ...,    0,    0,    0],\n",
      "        [ 101,  137, 4795,  ...,    0,    0,    0],\n",
      "        [ 101, 4042, 1988,  ...,    0,    0,    0]]), 'attention_mask': tensor([[1, 1, 1,  ..., 0, 0, 0],\n",
      "        [1, 1, 1,  ..., 0, 0, 0],\n",
      "        [1, 1, 1,  ..., 0, 0, 0],\n",
      "        ...,\n",
      "        [1, 1, 1,  ..., 0, 0, 0],\n",
      "        [1, 1, 1,  ..., 0, 0, 0],\n",
      "        [1, 1, 1,  ..., 0, 0, 0]])}\n",
      "{'label': tensor([0, 0, 2, 2, 3, 0, 1, 1, 1, 3, 0, 3, 2, 0, 0, 0]), 'input_ids': tensor([[ 101,  137, 4795,  ...,    0,    0,    0],\n",
      "        [ 101,  137, 4795,  ...,    0,    0,    0],\n",
      "        [ 101, 5875, 1103,  ...,    0,    0,    0],\n",
      "        ...,\n",
      "        [ 101,  137, 4795,  ...,    0,    0,    0],\n",
      "        [ 101, 1636,  151,  ...,    0,    0,    0],\n",
      "        [ 101,  137, 4795,  ...,    0,    0,    0]]), 'attention_mask': tensor([[1, 1, 1,  ..., 0, 0, 0],\n",
      "        [1, 1, 1,  ..., 0, 0, 0],\n",
      "        [1, 1, 1,  ..., 0, 0, 0],\n",
      "        ...,\n",
      "        [1, 1, 1,  ..., 0, 0, 0],\n",
      "        [1, 1, 1,  ..., 0, 0, 0],\n",
      "        [1, 1, 1,  ..., 0, 0, 0]])}\n",
      "{'label': tensor([0, 2, 1, 3, 1, 0, 0, 3, 3, 0, 0, 3, 0, 0, 1, 2]), 'input_ids': tensor([[  101, 20735,  1165,  ...,     0,     0,     0],\n",
      "        [  101,   146,  1138,  ...,     0,     0,     0],\n",
      "        [  101,  6666, 21902,  ...,     0,     0,     0],\n",
      "        ...,\n",
      "        [  101,   137,  4795,  ...,     0,     0,     0],\n",
      "        [  101,   137,  4795,  ...,     0,     0,     0],\n",
      "        [  101,  2664,  5854,  ...,     0,     0,     0]]), 'attention_mask': tensor([[1, 1, 1,  ..., 0, 0, 0],\n",
      "        [1, 1, 1,  ..., 0, 0, 0],\n",
      "        [1, 1, 1,  ..., 0, 0, 0],\n",
      "        ...,\n",
      "        [1, 1, 1,  ..., 0, 0, 0],\n",
      "        [1, 1, 1,  ..., 0, 0, 0],\n",
      "        [1, 1, 1,  ..., 0, 0, 0]])}\n",
      "{'label': tensor([1, 3, 0, 1, 3, 0, 1, 3, 0, 0, 0, 0, 0, 0, 0, 1]), 'input_ids': tensor([[ 101,  124,  131,  ...,    0,    0,    0],\n",
      "        [ 101,  108, 2302,  ...,    0,    0,    0],\n",
      "        [ 101,  137, 4795,  ...,    0,    0,    0],\n",
      "        ...,\n",
      "        [ 101, 5268,  146,  ...,    0,    0,    0],\n",
      "        [ 101,  146, 1274,  ...,    0,    0,    0],\n",
      "        [ 101,  137, 4795,  ...,    0,    0,    0]]), 'attention_mask': tensor([[1, 1, 1,  ..., 0, 0, 0],\n",
      "        [1, 1, 1,  ..., 0, 0, 0],\n",
      "        [1, 1, 1,  ..., 0, 0, 0],\n",
      "        ...,\n",
      "        [1, 1, 1,  ..., 0, 0, 0],\n",
      "        [1, 1, 1,  ..., 0, 0, 0],\n",
      "        [1, 1, 1,  ..., 0, 0, 0]])}\n",
      "{'label': tensor([2, 1, 1, 3, 3, 0, 3, 0, 0, 3, 2, 0, 1, 0, 3, 3]), 'input_ids': tensor([[ 101, 8667, 3235,  ...,    0,    0,    0],\n",
      "        [ 101, 9075,  117,  ...,    0,    0,    0],\n",
      "        [ 101,  137, 4795,  ...,    0,    0,    0],\n",
      "        ...,\n",
      "        [ 101,  146,  112,  ...,    0,    0,    0],\n",
      "        [ 101,  137, 4795,  ...,    0,    0,    0],\n",
      "        [ 101, 1258,  170,  ...,    0,    0,    0]]), 'attention_mask': tensor([[1, 1, 1,  ..., 0, 0, 0],\n",
      "        [1, 1, 1,  ..., 0, 0, 0],\n",
      "        [1, 1, 1,  ..., 0, 0, 0],\n",
      "        ...,\n",
      "        [1, 1, 1,  ..., 0, 0, 0],\n",
      "        [1, 1, 1,  ..., 0, 0, 0],\n",
      "        [1, 1, 1,  ..., 0, 0, 0]])}\n",
      "{'label': tensor([1, 0, 3, 3, 0, 0, 0, 2, 3, 0, 3, 3, 1, 0, 0, 0]), 'input_ids': tensor([[  101,  8553,  1142,  ...,     0,     0,     0],\n",
      "        [  101,   137,  4795,  ...,     0,     0,     0],\n",
      "        [  101,   146,   112,  ...,     0,     0,     0],\n",
      "        ...,\n",
      "        [  101,   137,  4795,  ...,     0,     0,     0],\n",
      "        [  101,   157,  3048,  ...,     0,     0,     0],\n",
      "        [  101,   108, 20173,  ...,     0,     0,     0]]), 'attention_mask': tensor([[1, 1, 1,  ..., 0, 0, 0],\n",
      "        [1, 1, 1,  ..., 0, 0, 0],\n",
      "        [1, 1, 1,  ..., 0, 0, 0],\n",
      "        ...,\n",
      "        [1, 1, 1,  ..., 0, 0, 0],\n",
      "        [1, 1, 1,  ..., 0, 0, 0],\n",
      "        [1, 1, 1,  ..., 0, 0, 0]])}\n",
      "{'label': tensor([0, 0, 0, 3, 3, 1, 3, 0, 0, 0, 3, 3, 3, 3, 3, 1]), 'input_ids': tensor([[  101,  1109,   170,  ...,     0,     0,     0],\n",
      "        [  101,  3177, 24110,  ...,     0,     0,     0],\n",
      "        [  101, 15859,  1950,  ...,     0,     0,     0],\n",
      "        ...,\n",
      "        [  101,  8362,  2340,  ...,     0,     0,     0],\n",
      "        [  101, 20048,  1149,  ...,     0,     0,     0],\n",
      "        [  101,  1422, 20116,  ...,     0,     0,     0]]), 'attention_mask': tensor([[1, 1, 1,  ..., 0, 0, 0],\n",
      "        [1, 1, 1,  ..., 0, 0, 0],\n",
      "        [1, 1, 1,  ..., 0, 0, 0],\n",
      "        ...,\n",
      "        [1, 1, 1,  ..., 0, 0, 0],\n",
      "        [1, 1, 1,  ..., 0, 0, 0],\n",
      "        [1, 1, 1,  ..., 0, 0, 0]])}\n",
      "{'label': tensor([0, 3, 0, 2, 0, 0, 0, 1, 0, 1, 1, 3, 3, 3, 3, 1]), 'input_ids': tensor([[ 101, 1258, 1184,  ...,    0,    0,    0],\n",
      "        [ 101,  137, 4795,  ...,    0,    0,    0],\n",
      "        [ 101,  137, 4795,  ...,    0,    0,    0],\n",
      "        ...,\n",
      "        [ 101,  137, 4795,  ...,    0,    0,    0],\n",
      "        [ 101,  137, 4795,  ...,    0,    0,    0],\n",
      "        [ 101, 4280, 1244,  ...,    0,    0,    0]]), 'attention_mask': tensor([[1, 1, 1,  ..., 0, 0, 0],\n",
      "        [1, 1, 1,  ..., 0, 0, 0],\n",
      "        [1, 1, 1,  ..., 0, 0, 0],\n",
      "        ...,\n",
      "        [1, 1, 1,  ..., 0, 0, 0],\n",
      "        [1, 1, 1,  ..., 0, 0, 0],\n",
      "        [1, 1, 1,  ..., 0, 0, 0]])}\n",
      "{'label': tensor([1, 1, 1, 0, 0, 3, 0, 1, 0, 3, 3, 3, 0, 3, 3, 0]), 'input_ids': tensor([[  101,   137,  4795,  ...,     0,     0,     0],\n",
      "        [  101,   137,  4795,  ...,     0,     0,     0],\n",
      "        [  101, 11247, 13024,  ...,     0,     0,     0],\n",
      "        ...,\n",
      "        [  101,  2213,  2371,  ...,     0,     0,     0],\n",
      "        [  101,   137,  4795,  ...,     0,     0,     0],\n",
      "        [  101,  1573,   146,  ...,     0,     0,     0]]), 'attention_mask': tensor([[1, 1, 1,  ..., 0, 0, 0],\n",
      "        [1, 1, 1,  ..., 0, 0, 0],\n",
      "        [1, 1, 1,  ..., 0, 0, 0],\n",
      "        ...,\n",
      "        [1, 1, 1,  ..., 0, 0, 0],\n",
      "        [1, 1, 1,  ..., 0, 0, 0],\n",
      "        [1, 1, 1,  ..., 0, 0, 0]])}\n",
      "{'label': tensor([0, 1, 1, 3, 1, 1, 0, 0, 0, 3, 3, 0, 0, 3, 0, 3]), 'input_ids': tensor([[  101,   137,  4795,  ...,     0,     0,     0],\n",
      "        [  101,   137,  4795,  ...,     0,     0,     0],\n",
      "        [  101,   108, 14498,  ...,     0,     0,     0],\n",
      "        ...,\n",
      "        [  101,  1247,  2947,  ...,     0,     0,     0],\n",
      "        [  101,   108,   149,  ...,     0,     0,     0],\n",
      "        [  101,  1188,  1144,  ...,     0,     0,     0]]), 'attention_mask': tensor([[1, 1, 1,  ..., 0, 0, 0],\n",
      "        [1, 1, 1,  ..., 0, 0, 0],\n",
      "        [1, 1, 1,  ..., 0, 0, 0],\n",
      "        ...,\n",
      "        [1, 1, 1,  ..., 0, 0, 0],\n",
      "        [1, 1, 1,  ..., 0, 0, 0],\n",
      "        [1, 1, 1,  ..., 0, 0, 0]])}\n",
      "{'label': tensor([0, 1, 0, 0, 0, 0, 0, 3, 3, 1, 1, 0, 1, 3, 0, 3]), 'input_ids': tensor([[ 101,  137, 4795,  ...,    0,    0,    0],\n",
      "        [ 101, 2986,  131,  ...,    0,    0,    0],\n",
      "        [ 101, 4108, 1116,  ...,    0,    0,    0],\n",
      "        ...,\n",
      "        [ 101, 1789, 1104,  ...,    0,    0,    0],\n",
      "        [ 101,  137, 4795,  ...,    0,    0,    0],\n",
      "        [ 101, 2009, 8255,  ...,    0,    0,    0]]), 'attention_mask': tensor([[1, 1, 1,  ..., 0, 0, 0],\n",
      "        [1, 1, 1,  ..., 0, 0, 0],\n",
      "        [1, 1, 1,  ..., 0, 0, 0],\n",
      "        ...,\n",
      "        [1, 1, 1,  ..., 0, 0, 0],\n",
      "        [1, 1, 1,  ..., 0, 0, 0],\n",
      "        [1, 1, 1,  ..., 0, 0, 0]])}\n",
      "{'label': tensor([0, 3, 0, 0, 3, 3, 0, 3, 0, 3, 1, 3, 0, 1, 3, 3]), 'input_ids': tensor([[  101, 15054,  6882,  ...,     0,     0,     0],\n",
      "        [  101,   137,  4795,  ...,     0,     0,     0],\n",
      "        [  101,  1135,   112,  ...,     0,     0,     0],\n",
      "        ...,\n",
      "        [  101,  9294, 11078,  ...,     0,     0,     0],\n",
      "        [  101, 10780, 18641,  ...,     0,     0,     0],\n",
      "        [  101,  2009,  1674,  ...,     0,     0,     0]]), 'attention_mask': tensor([[1, 1, 1,  ..., 0, 0, 0],\n",
      "        [1, 1, 1,  ..., 0, 0, 0],\n",
      "        [1, 1, 1,  ..., 0, 0, 0],\n",
      "        ...,\n",
      "        [1, 1, 1,  ..., 0, 0, 0],\n",
      "        [1, 1, 1,  ..., 0, 0, 0],\n",
      "        [1, 1, 1,  ..., 0, 0, 0]])}\n",
      "{'label': tensor([2, 1, 1, 2, 0, 1, 1, 0, 3, 3, 3, 3, 0, 0, 0, 3]), 'input_ids': tensor([[ 101, 2353, 7533,  ...,    0,    0,    0],\n",
      "        [ 101,  137, 4795,  ...,    0,    0,    0],\n",
      "        [ 101, 2750, 2106,  ...,    0,    0,    0],\n",
      "        ...,\n",
      "        [ 101,  137, 4795,  ...,    0,    0,    0],\n",
      "        [ 101, 1422, 3778,  ...,    0,    0,    0],\n",
      "        [ 101,  137, 4795,  ...,    0,    0,    0]]), 'attention_mask': tensor([[1, 1, 1,  ..., 0, 0, 0],\n",
      "        [1, 1, 1,  ..., 0, 0, 0],\n",
      "        [1, 1, 1,  ..., 0, 0, 0],\n",
      "        ...,\n",
      "        [1, 1, 1,  ..., 0, 0, 0],\n",
      "        [1, 1, 1,  ..., 0, 0, 0],\n",
      "        [1, 1, 1,  ..., 0, 0, 0]])}\n",
      "{'label': tensor([3, 0, 0, 1, 3, 0, 1, 1, 3, 1, 1, 1, 3, 0, 0, 3]), 'input_ids': tensor([[  101,   137,  4795,  ...,     0,     0,     0],\n",
      "        [  101,   149,  2559,  ...,     0,     0,     0],\n",
      "        [  101,  1139,  6363,  ...,     0,     0,     0],\n",
      "        ...,\n",
      "        [  101,   146, 16445,  ...,     0,     0,     0],\n",
      "        [  101,  5749,  1111,  ...,     0,     0,     0],\n",
      "        [  101,  1731,  1202,  ...,     0,     0,     0]]), 'attention_mask': tensor([[1, 1, 1,  ..., 0, 0, 0],\n",
      "        [1, 1, 1,  ..., 0, 0, 0],\n",
      "        [1, 1, 1,  ..., 0, 0, 0],\n",
      "        ...,\n",
      "        [1, 1, 1,  ..., 0, 0, 0],\n",
      "        [1, 1, 1,  ..., 0, 0, 0],\n",
      "        [1, 1, 1,  ..., 0, 0, 0]])}\n",
      "{'label': tensor([0, 3, 0, 0, 3, 3, 3, 3, 3, 0, 0, 3, 0, 1, 1, 3]), 'input_ids': tensor([[  101,  2893,  1116,  ...,     0,     0,     0],\n",
      "        [  101,  1398,  1103,  ...,     0,     0,     0],\n",
      "        [  101,  1332,   170,  ...,     0,     0,     0],\n",
      "        ...,\n",
      "        [  101,  1335,  1278,  ...,     0,     0,     0],\n",
      "        [  101, 13280,  1479,  ...,     0,     0,     0],\n",
      "        [  101,  4563,  1128,  ...,     0,     0,     0]]), 'attention_mask': tensor([[1, 1, 1,  ..., 0, 0, 0],\n",
      "        [1, 1, 1,  ..., 0, 0, 0],\n",
      "        [1, 1, 1,  ..., 0, 0, 0],\n",
      "        ...,\n",
      "        [1, 1, 1,  ..., 0, 0, 0],\n",
      "        [1, 1, 1,  ..., 0, 0, 0],\n",
      "        [1, 1, 1,  ..., 0, 0, 0]])}\n",
      "{'label': tensor([0, 1, 3, 0, 3, 2, 0, 3, 3, 1, 3, 2, 3, 0, 1, 3]), 'input_ids': tensor([[ 101,  137, 4795,  ...,    0,    0,    0],\n",
      "        [ 101, 8325, 5691,  ...,    0,    0,    0],\n",
      "        [ 101,  121, 8061,  ...,    0,    0,    0],\n",
      "        ...,\n",
      "        [ 101,  137, 4795,  ...,    0,    0,    0],\n",
      "        [ 101, 5665, 1702,  ...,    0,    0,    0],\n",
      "        [ 101,  137, 4795,  ...,    0,    0,    0]]), 'attention_mask': tensor([[1, 1, 1,  ..., 0, 0, 0],\n",
      "        [1, 1, 1,  ..., 0, 0, 0],\n",
      "        [1, 1, 1,  ..., 0, 0, 0],\n",
      "        ...,\n",
      "        [1, 1, 1,  ..., 0, 0, 0],\n",
      "        [1, 1, 1,  ..., 0, 0, 0],\n",
      "        [1, 1, 1,  ..., 0, 0, 0]])}\n",
      "{'label': tensor([3, 0, 3, 1, 0, 3, 1, 1, 2, 0, 3, 0, 2, 0, 1, 1]), 'input_ids': tensor([[  101,  1327,   170,  ...,     0,     0,     0],\n",
      "        [  101,  2066,  1486,  ...,     0,     0,     0],\n",
      "        [  101,   146,  1243,  ...,     0,     0,     0],\n",
      "        ...,\n",
      "        [  101, 12465, 11780,  ...,     0,     0,     0],\n",
      "        [  101,  1135,   112,  ...,     0,     0,     0],\n",
      "        [  101,  1192,  1294,  ...,     0,     0,     0]]), 'attention_mask': tensor([[1, 1, 1,  ..., 0, 0, 0],\n",
      "        [1, 1, 1,  ..., 0, 0, 0],\n",
      "        [1, 1, 1,  ..., 0, 0, 0],\n",
      "        ...,\n",
      "        [1, 1, 1,  ..., 0, 0, 0],\n",
      "        [1, 1, 1,  ..., 0, 0, 0],\n",
      "        [1, 1, 1,  ..., 0, 0, 0]])}\n",
      "{'label': tensor([0, 0, 2, 1, 1, 2, 0, 0, 0, 3, 0, 0, 3, 1, 3, 0]), 'input_ids': tensor([[ 101,  137, 4795,  ...,    0,    0,    0],\n",
      "        [ 101,  137, 4795,  ...,    0,    0,    0],\n",
      "        [ 101,  100,  108,  ...,    0,    0,    0],\n",
      "        ...,\n",
      "        [ 101,  139, 1285,  ...,    0,    0,    0],\n",
      "        [ 101,  137, 4795,  ...,    0,    0,    0],\n",
      "        [ 101, 9251,  170,  ...,    0,    0,    0]]), 'attention_mask': tensor([[1, 1, 1,  ..., 0, 0, 0],\n",
      "        [1, 1, 1,  ..., 0, 0, 0],\n",
      "        [1, 1, 1,  ..., 0, 0, 0],\n",
      "        ...,\n",
      "        [1, 1, 1,  ..., 0, 0, 0],\n",
      "        [1, 1, 1,  ..., 0, 0, 0],\n",
      "        [1, 1, 1,  ..., 0, 0, 0]])}\n",
      "{'label': tensor([3, 3, 0, 3, 0, 0, 2, 2, 3, 0, 3, 0, 0, 1, 0, 3]), 'input_ids': tensor([[  101,   137,  4795,  ...,     0,     0,     0],\n",
      "        [  101,  2825,   112,  ...,     0,     0,     0],\n",
      "        [  101,   146, 16445,  ...,     0,     0,     0],\n",
      "        ...,\n",
      "        [  101,  6900,  1390,  ...,     0,     0,     0],\n",
      "        [  101,   137,  4795,  ...,     0,     0,     0],\n",
      "        [  101,  1332,  1128,  ...,     0,     0,     0]]), 'attention_mask': tensor([[1, 1, 1,  ..., 0, 0, 0],\n",
      "        [1, 1, 1,  ..., 0, 0, 0],\n",
      "        [1, 1, 1,  ..., 0, 0, 0],\n",
      "        ...,\n",
      "        [1, 1, 1,  ..., 0, 0, 0],\n",
      "        [1, 1, 1,  ..., 0, 0, 0],\n",
      "        [1, 1, 1,  ..., 0, 0, 0]])}\n",
      "{'label': tensor([3, 0, 0, 3, 2, 0, 3, 3, 2, 3, 1, 1, 3, 0, 2, 3]), 'input_ids': tensor([[  101,   137,  4795,  ...,     0,     0,     0],\n",
      "        [  101,   137,  4795,  ...,     0,     0,     0],\n",
      "        [  101,  1573,  1110,  ...,     0,     0,     0],\n",
      "        ...,\n",
      "        [  101,  5193,   108,  ...,     0,     0,     0],\n",
      "        [  101, 16752, 18771,  ...,     0,     0,     0],\n",
      "        [  101,   137,  4795,  ...,     0,     0,     0]]), 'attention_mask': tensor([[1, 1, 1,  ..., 0, 0, 0],\n",
      "        [1, 1, 1,  ..., 0, 0, 0],\n",
      "        [1, 1, 1,  ..., 0, 0, 0],\n",
      "        ...,\n",
      "        [1, 1, 1,  ..., 0, 0, 0],\n",
      "        [1, 1, 1,  ..., 0, 0, 0],\n",
      "        [1, 1, 1,  ..., 0, 0, 0]])}\n",
      "{'label': tensor([0, 0, 3, 3, 0, 3, 0, 1, 3, 0, 1, 3, 0, 0, 0, 2]), 'input_ids': tensor([[  101,  1337, 10987,  ...,     0,     0,     0],\n",
      "        [  101,   137,  4795,  ...,     0,     0,     0],\n",
      "        [  101,   137,  4795,  ...,     0,     0,     0],\n",
      "        ...,\n",
      "        [  101,   137,  4795,  ...,     0,     0,     0],\n",
      "        [  101,   137,  4795,  ...,     0,     0,     0],\n",
      "        [  101,   137,  4795,  ...,     0,     0,     0]]), 'attention_mask': tensor([[1, 1, 1,  ..., 0, 0, 0],\n",
      "        [1, 1, 1,  ..., 0, 0, 0],\n",
      "        [1, 1, 1,  ..., 0, 0, 0],\n",
      "        ...,\n",
      "        [1, 1, 1,  ..., 0, 0, 0],\n",
      "        [1, 1, 1,  ..., 0, 0, 0],\n",
      "        [1, 1, 1,  ..., 0, 0, 0]])}\n",
      "{'label': tensor([0, 0, 3, 0, 3, 1, 3, 1, 0, 3, 0, 0, 3, 0, 2, 2]), 'input_ids': tensor([[  101,   137,  4795,  ...,     0,     0,     0],\n",
      "        [  101,   146,  1169,  ...,     0,     0,     0],\n",
      "        [  101, 11099,  1313,  ...,     0,     0,     0],\n",
      "        ...,\n",
      "        [  101,   156, 14719,  ...,     0,     0,     0],\n",
      "        [  101,   146,  3683,  ...,     0,     0,     0],\n",
      "        [  101,   137,  4795,  ...,     0,     0,     0]]), 'attention_mask': tensor([[1, 1, 1,  ..., 0, 0, 0],\n",
      "        [1, 1, 1,  ..., 0, 0, 0],\n",
      "        [1, 1, 1,  ..., 0, 0, 0],\n",
      "        ...,\n",
      "        [1, 1, 1,  ..., 0, 0, 0],\n",
      "        [1, 1, 1,  ..., 0, 0, 0],\n",
      "        [1, 1, 1,  ..., 0, 0, 0]])}\n",
      "{'label': tensor([0, 3, 3, 0, 3, 0, 0, 3, 0, 2, 1, 1, 3, 3, 0, 1]), 'input_ids': tensor([[  101,   137,  4795,  ...,     0,     0,     0],\n",
      "        [  101,   137,  4795,  ...,     0,     0,     0],\n",
      "        [  101,  1260, 11135,  ...,     0,     0,     0],\n",
      "        ...,\n",
      "        [  101,  1139,  1297,  ...,     0,     0,     0],\n",
      "        [  101,   113,  2687,  ...,     0,     0,     0],\n",
      "        [  101, 24367,  2008,  ...,     0,     0,     0]]), 'attention_mask': tensor([[1, 1, 1,  ..., 0, 0, 0],\n",
      "        [1, 1, 1,  ..., 0, 0, 0],\n",
      "        [1, 1, 1,  ..., 0, 0, 0],\n",
      "        ...,\n",
      "        [1, 1, 1,  ..., 0, 0, 0],\n",
      "        [1, 1, 1,  ..., 0, 0, 0],\n",
      "        [1, 1, 1,  ..., 0, 0, 0]])}\n",
      "{'label': tensor([0, 0, 0, 3, 0, 1, 0, 3, 1, 0, 3, 0, 0, 0, 3, 3]), 'input_ids': tensor([[  101,   137,  4795,  ...,     0,     0,     0],\n",
      "        [  101,   138,   137,  ...,     0,     0,     0],\n",
      "        [  101,  1332,  1240,  ...,     0,     0,     0],\n",
      "        ...,\n",
      "        [  101,  1650,  2078,  ...,     0,     0,     0],\n",
      "        [  101,   140, 19252,  ...,     0,     0,     0],\n",
      "        [  101,   108,  9078,  ...,     0,     0,     0]]), 'attention_mask': tensor([[1, 1, 1,  ..., 0, 0, 0],\n",
      "        [1, 1, 1,  ..., 0, 0, 0],\n",
      "        [1, 1, 1,  ..., 0, 0, 0],\n",
      "        ...,\n",
      "        [1, 1, 1,  ..., 0, 0, 0],\n",
      "        [1, 1, 1,  ..., 0, 0, 0],\n",
      "        [1, 1, 1,  ..., 0, 0, 0]])}\n",
      "{'label': tensor([3, 0, 0, 0, 0, 1, 1, 1, 0, 0, 3, 3, 1, 1, 3, 0]), 'input_ids': tensor([[  101,   137,  4795,  ...,     0,     0,     0],\n",
      "        [  101,   137,  4795,  ...,     0,     0,     0],\n",
      "        [  101,   137,  4795,  ...,     0,     0,     0],\n",
      "        ...,\n",
      "        [  101, 15646,  1171,  ...,     0,     0,     0],\n",
      "        [  101,  1135,   112,  ...,     0,     0,     0],\n",
      "        [  101,  2627,  1103,  ...,     0,     0,     0]]), 'attention_mask': tensor([[1, 1, 1,  ..., 0, 0, 0],\n",
      "        [1, 1, 1,  ..., 0, 0, 0],\n",
      "        [1, 1, 1,  ..., 0, 0, 0],\n",
      "        ...,\n",
      "        [1, 1, 1,  ..., 0, 0, 0],\n",
      "        [1, 1, 1,  ..., 0, 0, 0],\n",
      "        [1, 1, 1,  ..., 0, 0, 0]])}\n",
      "{'label': tensor([0, 1, 2, 3, 3, 1, 3, 1, 3, 3, 0, 0, 1, 0, 2, 3]), 'input_ids': tensor([[  101,  2777,   112,  ...,     0,     0,     0],\n",
      "        [  101,   146,  1541,  ...,     0,     0,     0],\n",
      "        [  101,  1129,  2012,  ...,     0,     0,     0],\n",
      "        ...,\n",
      "        [  101,  1753,  1612,  ...,     0,     0,     0],\n",
      "        [  101,  1141,  1104,  ...,     0,     0,     0],\n",
      "        [  101,   144, 10205,  ...,     0,     0,     0]]), 'attention_mask': tensor([[1, 1, 1,  ..., 0, 0, 0],\n",
      "        [1, 1, 1,  ..., 0, 0, 0],\n",
      "        [1, 1, 1,  ..., 0, 0, 0],\n",
      "        ...,\n",
      "        [1, 1, 1,  ..., 0, 0, 0],\n",
      "        [1, 1, 1,  ..., 0, 0, 0],\n",
      "        [1, 1, 1,  ..., 0, 0, 0]])}\n",
      "{'label': tensor([0, 0, 0, 0, 0, 3, 2, 0, 0, 2, 3, 1, 2, 0, 3, 1]), 'input_ids': tensor([[  101, 24107,   175,  ...,     0,     0,     0],\n",
      "        [  101, 12470,  2144,  ...,     0,     0,     0],\n",
      "        [  101,   146,   112,  ...,     0,     0,     0],\n",
      "        ...,\n",
      "        [  101,  4203,  1831,  ...,     0,     0,     0],\n",
      "        [  101,  2213,  2371,  ...,     0,     0,     0],\n",
      "        [  101,  7348,  1106,  ...,     0,     0,     0]]), 'attention_mask': tensor([[1, 1, 1,  ..., 0, 0, 0],\n",
      "        [1, 1, 1,  ..., 0, 0, 0],\n",
      "        [1, 1, 1,  ..., 0, 0, 0],\n",
      "        ...,\n",
      "        [1, 1, 1,  ..., 0, 0, 0],\n",
      "        [1, 1, 1,  ..., 0, 0, 0],\n",
      "        [1, 1, 1,  ..., 0, 0, 0]])}\n",
      "{'label': tensor([2, 0, 0, 0, 0, 0, 1, 0, 0, 1, 0, 3, 1, 1, 3, 3]), 'input_ids': tensor([[  101,   137,  4795,  ...,     0,     0,     0],\n",
      "        [  101,   146,  2283,  ...,     0,     0,     0],\n",
      "        [  101,   137,  4795,  ...,     0,     0,     0],\n",
      "        ...,\n",
      "        [  101,   137,  4795,  ...,     0,     0,     0],\n",
      "        [  101,   137,  4795,  ...,     0,     0,     0],\n",
      "        [  101, 11913,  1139,  ...,     0,     0,     0]]), 'attention_mask': tensor([[1, 1, 1,  ..., 0, 0, 0],\n",
      "        [1, 1, 1,  ..., 0, 0, 0],\n",
      "        [1, 1, 1,  ..., 0, 0, 0],\n",
      "        ...,\n",
      "        [1, 1, 1,  ..., 0, 0, 0],\n",
      "        [1, 1, 1,  ..., 0, 0, 0],\n",
      "        [1, 1, 1,  ..., 0, 0, 0]])}\n",
      "{'label': tensor([0, 1, 0, 0, 1, 0, 0, 3, 0, 2, 1, 2, 2, 2, 3, 0]), 'input_ids': tensor([[  101,  1622, 12397,  ...,     0,     0,     0],\n",
      "        [  101,   137,  4795,  ...,     0,     0,     0],\n",
      "        [  101,  8499,  1863,  ...,     0,     0,     0],\n",
      "        ...,\n",
      "        [  101,   137,  4795,  ...,     0,     0,     0],\n",
      "        [  101,  4641,  2302,  ...,     0,     0,     0],\n",
      "        [  101,   137,  4795,  ...,     0,     0,     0]]), 'attention_mask': tensor([[1, 1, 1,  ..., 0, 0, 0],\n",
      "        [1, 1, 1,  ..., 0, 0, 0],\n",
      "        [1, 1, 1,  ..., 0, 0, 0],\n",
      "        ...,\n",
      "        [1, 1, 1,  ..., 0, 0, 0],\n",
      "        [1, 1, 1,  ..., 0, 0, 0],\n",
      "        [1, 1, 1,  ..., 0, 0, 0]])}\n",
      "{'label': tensor([0, 1, 2, 0, 2, 0, 3, 0, 3, 1, 3, 1, 0, 1, 0, 0]), 'input_ids': tensor([[  101,   175, 14088,  ...,     0,     0,     0],\n",
      "        [  101,   137,  4795,  ...,     0,     0,     0],\n",
      "        [  101, 13665,  1106,  ...,     0,     0,     0],\n",
      "        ...,\n",
      "        [  101,  8325,  5913,  ...,     0,     0,     0],\n",
      "        [  101,  1302,  5658,  ...,     0,     0,     0],\n",
      "        [  101,   137,  4795,  ...,     0,     0,     0]]), 'attention_mask': tensor([[1, 1, 1,  ..., 0, 0, 0],\n",
      "        [1, 1, 1,  ..., 0, 0, 0],\n",
      "        [1, 1, 1,  ..., 0, 0, 0],\n",
      "        ...,\n",
      "        [1, 1, 1,  ..., 0, 0, 0],\n",
      "        [1, 1, 1,  ..., 0, 0, 0],\n",
      "        [1, 1, 1,  ..., 0, 0, 0]])}\n",
      "{'label': tensor([0, 0, 1, 0, 1, 1, 3, 0, 0, 0, 1, 2, 2, 0, 0, 3]), 'input_ids': tensor([[ 101, 5091, 1519,  ...,    0,    0,    0],\n",
      "        [ 101, 2185, 1293,  ...,    0,    0,    0],\n",
      "        [ 101,  137, 4795,  ...,    0,    0,    0],\n",
      "        ...,\n",
      "        [ 101,  108, 1987,  ...,    0,    0,    0],\n",
      "        [ 101,  137, 4795,  ...,    0,    0,    0],\n",
      "        [ 101,  137, 4795,  ...,    0,    0,    0]]), 'attention_mask': tensor([[1, 1, 1,  ..., 0, 0, 0],\n",
      "        [1, 1, 1,  ..., 0, 0, 0],\n",
      "        [1, 1, 1,  ..., 0, 0, 0],\n",
      "        ...,\n",
      "        [1, 1, 1,  ..., 0, 0, 0],\n",
      "        [1, 1, 1,  ..., 0, 0, 0],\n",
      "        [1, 1, 1,  ..., 0, 0, 0]])}\n",
      "{'label': tensor([1, 2, 1, 0, 3, 0, 0, 1, 0, 3, 3, 1, 1, 0, 0, 3]), 'input_ids': tensor([[  101,  2048,  7059,  ...,     0,     0,     0],\n",
      "        [  101,   137,  4795,  ...,     0,     0,     0],\n",
      "        [  101, 10213,  1199,  ...,     0,     0,     0],\n",
      "        ...,\n",
      "        [  101,   146,   112,  ...,     0,     0,     0],\n",
      "        [  101,  1109, 23027,  ...,     0,     0,     0],\n",
      "        [  101,   137,  4795,  ...,     0,     0,     0]]), 'attention_mask': tensor([[1, 1, 1,  ..., 0, 0, 0],\n",
      "        [1, 1, 1,  ..., 0, 0, 0],\n",
      "        [1, 1, 1,  ..., 0, 0, 0],\n",
      "        ...,\n",
      "        [1, 1, 1,  ..., 0, 0, 0],\n",
      "        [1, 1, 1,  ..., 0, 0, 0],\n",
      "        [1, 1, 1,  ..., 0, 0, 0]])}\n",
      "{'label': tensor([0, 1, 0, 1, 2, 0, 2, 0, 0, 2, 2, 3, 0, 0, 1, 0]), 'input_ids': tensor([[ 101,  137, 4795,  ...,    0,    0,    0],\n",
      "        [ 101, 3100,  160,  ...,    0,    0,    0],\n",
      "        [ 101,  137, 4795,  ...,    0,    0,    0],\n",
      "        ...,\n",
      "        [ 101,  137, 4795,  ...,    0,    0,    0],\n",
      "        [ 101, 1409,  146,  ...,    0,    0,    0],\n",
      "        [ 101,  146, 1274,  ...,    0,    0,    0]]), 'attention_mask': tensor([[1, 1, 1,  ..., 0, 0, 0],\n",
      "        [1, 1, 1,  ..., 0, 0, 0],\n",
      "        [1, 1, 1,  ..., 0, 0, 0],\n",
      "        ...,\n",
      "        [1, 1, 1,  ..., 0, 0, 0],\n",
      "        [1, 1, 1,  ..., 0, 0, 0],\n",
      "        [1, 1, 1,  ..., 0, 0, 0]])}\n",
      "{'label': tensor([3, 1, 0, 2, 2, 0, 3, 3, 2, 0, 0, 0, 0, 1, 1, 0]), 'input_ids': tensor([[  101,  1332,  1103,  ...,     0,     0,     0],\n",
      "        [  101,   157, 19485,  ...,     0,     0,     0],\n",
      "        [  101,   137,  4795,  ...,     0,     0,     0],\n",
      "        ...,\n",
      "        [  101,  6355,  1254,  ...,     0,     0,     0],\n",
      "        [  101,   137,  4795,  ...,     0,     0,     0],\n",
      "        [  101,  1457,  8474,  ...,     0,     0,     0]]), 'attention_mask': tensor([[1, 1, 1,  ..., 0, 0, 0],\n",
      "        [1, 1, 1,  ..., 0, 0, 0],\n",
      "        [1, 1, 1,  ..., 0, 0, 0],\n",
      "        ...,\n",
      "        [1, 1, 1,  ..., 0, 0, 0],\n",
      "        [1, 1, 1,  ..., 0, 0, 0],\n",
      "        [1, 1, 1,  ..., 0, 0, 0]])}\n",
      "{'label': tensor([3, 0, 1, 1, 1, 3, 3, 1, 0, 0, 1, 1, 0, 3, 3, 3]), 'input_ids': tensor([[ 101, 1293, 2654,  ...,    0,    0,    0],\n",
      "        [ 101,  137, 4795,  ...,    0,    0,    0],\n",
      "        [ 101,  137, 4795,  ...,    0,    0,    0],\n",
      "        ...,\n",
      "        [ 101, 4254, 1480,  ...,    0,    0,    0],\n",
      "        [ 101, 5091, 1518,  ...,    0,    0,    0],\n",
      "        [ 101, 1327,  112,  ...,    0,    0,    0]]), 'attention_mask': tensor([[1, 1, 1,  ..., 0, 0, 0],\n",
      "        [1, 1, 1,  ..., 0, 0, 0],\n",
      "        [1, 1, 1,  ..., 0, 0, 0],\n",
      "        ...,\n",
      "        [1, 1, 1,  ..., 0, 0, 0],\n",
      "        [1, 1, 1,  ..., 0, 0, 0],\n",
      "        [1, 1, 1,  ..., 0, 0, 0]])}\n",
      "{'label': tensor([1, 3, 3, 0, 0, 1, 1, 0, 0, 0, 0, 1, 3, 0, 0, 3]), 'input_ids': tensor([[ 101,  138, 1762,  ...,    0,    0,    0],\n",
      "        [ 101,  146, 1274,  ...,    0,    0,    0],\n",
      "        [ 101, 1247, 1209,  ...,    0,    0,    0],\n",
      "        ...,\n",
      "        [ 101,  137, 4795,  ...,    0,    0,    0],\n",
      "        [ 101,  144, 3354,  ...,    0,    0,    0],\n",
      "        [ 101,  137, 4795,  ...,    0,    0,    0]]), 'attention_mask': tensor([[1, 1, 1,  ..., 0, 0, 0],\n",
      "        [1, 1, 1,  ..., 0, 0, 0],\n",
      "        [1, 1, 1,  ..., 0, 0, 0],\n",
      "        ...,\n",
      "        [1, 1, 1,  ..., 0, 0, 0],\n",
      "        [1, 1, 1,  ..., 0, 0, 0],\n",
      "        [1, 1, 1,  ..., 0, 0, 0]])}\n",
      "{'label': tensor([0, 0, 3, 1, 1, 3, 0, 3, 0, 3, 0, 0, 3, 3, 0, 0]), 'input_ids': tensor([[  101,   181,  1358,  ...,     0,     0,     0],\n",
      "        [  101,  9083,  1204,  ...,     0,     0,     0],\n",
      "        [  101,   146,  1821,  ...,     0,     0,     0],\n",
      "        ...,\n",
      "        [  101,  1398,  1103,  ...,     0,     0,     0],\n",
      "        [  101,  2066,  1276,  ...,     0,     0,     0],\n",
      "        [  101, 21359, 11428,  ...,     0,     0,     0]]), 'attention_mask': tensor([[1, 1, 1,  ..., 0, 0, 0],\n",
      "        [1, 1, 1,  ..., 0, 0, 0],\n",
      "        [1, 1, 1,  ..., 0, 0, 0],\n",
      "        ...,\n",
      "        [1, 1, 1,  ..., 0, 0, 0],\n",
      "        [1, 1, 1,  ..., 0, 0, 0],\n",
      "        [1, 1, 1,  ..., 0, 0, 0]])}\n",
      "{'label': tensor([2, 2, 0, 3, 1, 1, 0, 0, 3, 0, 0, 3, 2, 3, 1, 0]), 'input_ids': tensor([[ 101, 1332, 1195,  ...,    0,    0,    0],\n",
      "        [ 101,  138,  185,  ...,    0,    0,    0],\n",
      "        [ 101,  146,  145,  ...,    0,    0,    0],\n",
      "        ...,\n",
      "        [ 101, 6502, 3713,  ...,    0,    0,    0],\n",
      "        [ 101,  137, 4795,  ...,    0,    0,    0],\n",
      "        [ 101, 1409, 1128,  ...,    0,    0,    0]]), 'attention_mask': tensor([[1, 1, 1,  ..., 0, 0, 0],\n",
      "        [1, 1, 1,  ..., 0, 0, 0],\n",
      "        [1, 1, 1,  ..., 0, 0, 0],\n",
      "        ...,\n",
      "        [1, 1, 1,  ..., 0, 0, 0],\n",
      "        [1, 1, 1,  ..., 0, 0, 0],\n",
      "        [1, 1, 1,  ..., 0, 0, 0]])}\n",
      "{'label': tensor([0, 1, 3, 0, 1, 0, 1, 1, 0, 0, 1, 0, 0, 0, 0, 0]), 'input_ids': tensor([[  101,  1262,   130,  ...,     0,     0,     0],\n",
      "        [  101,   137,  4795,  ...,     0,     0,     0],\n",
      "        [  101,   146,  1455,  ...,     0,     0,     0],\n",
      "        ...,\n",
      "        [  101,  3763,  1174,  ...,     0,     0,     0],\n",
      "        [  101,  2009,  1132,  ...,     0,     0,     0],\n",
      "        [  101, 27400,  7486,  ...,     0,     0,     0]]), 'attention_mask': tensor([[1, 1, 1,  ..., 0, 0, 0],\n",
      "        [1, 1, 1,  ..., 0, 0, 0],\n",
      "        [1, 1, 1,  ..., 0, 0, 0],\n",
      "        ...,\n",
      "        [1, 1, 1,  ..., 0, 0, 0],\n",
      "        [1, 1, 1,  ..., 0, 0, 0],\n",
      "        [1, 1, 1,  ..., 0, 0, 0]])}\n",
      "{'label': tensor([1, 0, 2, 0, 3, 3, 2, 3, 1, 1, 1, 1, 0, 3, 0, 3]), 'input_ids': tensor([[  101,  2750,   108,  ...,     0,     0,     0],\n",
      "        [  101, 14680,  1233,  ...,     0,     0,     0],\n",
      "        [  101, 10065,  1268,  ...,     0,     0,     0],\n",
      "        ...,\n",
      "        [  101,   137,  4795,  ...,     0,     0,     0],\n",
      "        [  101,   137,  4795,  ...,     0,     0,     0],\n",
      "        [  101,   137,  4795,  ...,     0,     0,     0]]), 'attention_mask': tensor([[1, 1, 1,  ..., 0, 0, 0],\n",
      "        [1, 1, 1,  ..., 0, 0, 0],\n",
      "        [1, 1, 1,  ..., 0, 0, 0],\n",
      "        ...,\n",
      "        [1, 1, 1,  ..., 0, 0, 0],\n",
      "        [1, 1, 1,  ..., 0, 0, 0],\n",
      "        [1, 1, 1,  ..., 0, 0, 0]])}\n",
      "{'label': tensor([0, 1, 3, 0, 1, 0, 0, 2, 0, 3, 1, 1, 0, 3, 0, 0]), 'input_ids': tensor([[ 101,  137, 4795,  ...,    0,    0,    0],\n",
      "        [ 101, 1284, 1177,  ...,    0,    0,    0],\n",
      "        [ 101, 1407,  112,  ...,    0,    0,    0],\n",
      "        ...,\n",
      "        [ 101, 2796, 4317,  ...,    0,    0,    0],\n",
      "        [ 101, 1192, 1328,  ...,    0,    0,    0],\n",
      "        [ 101,  137, 4795,  ...,    0,    0,    0]]), 'attention_mask': tensor([[1, 1, 1,  ..., 0, 0, 0],\n",
      "        [1, 1, 1,  ..., 0, 0, 0],\n",
      "        [1, 1, 1,  ..., 0, 0, 0],\n",
      "        ...,\n",
      "        [1, 1, 1,  ..., 0, 0, 0],\n",
      "        [1, 1, 1,  ..., 0, 0, 0],\n",
      "        [1, 1, 1,  ..., 0, 0, 0]])}\n",
      "{'label': tensor([1, 2, 0, 0, 0, 0, 0, 3, 3, 1, 3, 0, 0, 2, 2, 0]), 'input_ids': tensor([[  101,   137,  4795,  ...,     0,     0,     0],\n",
      "        [  101,  2421,   112,  ...,     0,     0,     0],\n",
      "        [  101,  3284, 13236,  ...,     0,     0,     0],\n",
      "        ...,\n",
      "        [  101, 12639,  1183,  ...,     0,     0,     0],\n",
      "        [  101,  2857,  1128,  ...,     0,     0,     0],\n",
      "        [  101,   137,  4795,  ...,     0,     0,     0]]), 'attention_mask': tensor([[1, 1, 1,  ..., 0, 0, 0],\n",
      "        [1, 1, 1,  ..., 0, 0, 0],\n",
      "        [1, 1, 1,  ..., 0, 0, 0],\n",
      "        ...,\n",
      "        [1, 1, 1,  ..., 0, 0, 0],\n",
      "        [1, 1, 1,  ..., 0, 0, 0],\n",
      "        [1, 1, 1,  ..., 0, 0, 0]])}\n",
      "{'label': tensor([3, 1, 3, 2, 0, 0, 1, 3, 1, 3, 0, 0, 1, 2, 1, 2]), 'input_ids': tensor([[  101,   137,  4795,  ...,     0,     0,     0],\n",
      "        [  101,  1107, 12053,  ...,     0,     0,     0],\n",
      "        [  101,  3763,  1174,  ...,     0,     0,     0],\n",
      "        ...,\n",
      "        [  101,  1175,  1110,  ...,     0,     0,     0],\n",
      "        [  101,  8441,   176,  ...,     0,     0,     0],\n",
      "        [  101,  1706,  1587,  ...,     0,     0,     0]]), 'attention_mask': tensor([[1, 1, 1,  ..., 0, 0, 0],\n",
      "        [1, 1, 1,  ..., 0, 0, 0],\n",
      "        [1, 1, 1,  ..., 0, 0, 0],\n",
      "        ...,\n",
      "        [1, 1, 1,  ..., 0, 0, 0],\n",
      "        [1, 1, 1,  ..., 0, 0, 0],\n",
      "        [1, 1, 1,  ..., 0, 0, 0]])}\n",
      "{'label': tensor([1, 0, 1, 0, 1, 0, 0, 3, 1, 0, 3, 0, 0, 0, 3, 0]), 'input_ids': tensor([[  101,   137,  4795,  ...,     0,     0,     0],\n",
      "        [  101,  1731,  1662,  ...,     0,     0,     0],\n",
      "        [  101,  4760,   141,  ...,     0,     0,     0],\n",
      "        ...,\n",
      "        [  101,  6682, 10066,  ...,     0,     0,     0],\n",
      "        [  101,   137,  4795,  ...,     0,     0,     0],\n",
      "        [  101,   137,  4795,  ...,     0,     0,     0]]), 'attention_mask': tensor([[1, 1, 1,  ..., 0, 0, 0],\n",
      "        [1, 1, 1,  ..., 0, 0, 0],\n",
      "        [1, 1, 1,  ..., 0, 0, 0],\n",
      "        ...,\n",
      "        [1, 1, 1,  ..., 0, 0, 0],\n",
      "        [1, 1, 1,  ..., 0, 0, 0],\n",
      "        [1, 1, 1,  ..., 0, 0, 0]])}\n",
      "{'label': tensor([0, 3, 3, 0, 3, 3, 3, 2, 2, 0, 0, 3, 3, 2, 1, 1]), 'input_ids': tensor([[  101,   146, 14599,  ...,     0,     0,     0],\n",
      "        [  101,  2563, 11569,  ...,     0,     0,     0],\n",
      "        [  101,  1247,   112,  ...,     0,     0,     0],\n",
      "        ...,\n",
      "        [  101,  1109,   108,  ...,     0,     0,     0],\n",
      "        [  101,   146,  1431,  ...,     0,     0,     0],\n",
      "        [  101,   146,  1567,  ...,     0,     0,     0]]), 'attention_mask': tensor([[1, 1, 1,  ..., 0, 0, 0],\n",
      "        [1, 1, 1,  ..., 0, 0, 0],\n",
      "        [1, 1, 1,  ..., 0, 0, 0],\n",
      "        ...,\n",
      "        [1, 1, 1,  ..., 0, 0, 0],\n",
      "        [1, 1, 1,  ..., 0, 0, 0],\n",
      "        [1, 1, 1,  ..., 0, 0, 0]])}\n",
      "{'label': tensor([1, 0, 3, 0, 0, 0, 3, 1, 0, 1, 0, 3, 0, 1, 0, 3]), 'input_ids': tensor([[  101,   137,  4795,  ...,     0,     0,     0],\n",
      "        [  101,   137,  4795,  ...,     0,     0,     0],\n",
      "        [  101,  4479, 12639,  ...,     0,     0,     0],\n",
      "        ...,\n",
      "        [  101,   137,  4795,  ...,     0,     0,     0],\n",
      "        [  101,   137,  4795,  ...,     0,     0,     0],\n",
      "        [  101,   137,  4795,  ...,     0,     0,     0]]), 'attention_mask': tensor([[1, 1, 1,  ..., 0, 0, 0],\n",
      "        [1, 1, 1,  ..., 0, 0, 0],\n",
      "        [1, 1, 1,  ..., 0, 0, 0],\n",
      "        ...,\n",
      "        [1, 1, 1,  ..., 0, 0, 0],\n",
      "        [1, 1, 1,  ..., 0, 0, 0],\n",
      "        [1, 1, 1,  ..., 0, 0, 0]])}\n",
      "{'label': tensor([3, 1, 1, 3, 0, 3, 0, 1, 0, 0, 3, 3, 0, 1, 2, 3]), 'input_ids': tensor([[  101,  1109,   163,  ...,     0,     0,     0],\n",
      "        [  101,  1123,   132,  ...,     0,     0,     0],\n",
      "        [  101,  5286,  1110,  ...,     0,     0,     0],\n",
      "        ...,\n",
      "        [  101,  3096, 11470,  ...,     0,     0,     0],\n",
      "        [  101,  6605,  1110,  ...,     0,     0,     0],\n",
      "        [  101,   137,  4795,  ...,     0,     0,     0]]), 'attention_mask': tensor([[1, 1, 1,  ..., 0, 0, 0],\n",
      "        [1, 1, 1,  ..., 0, 0, 0],\n",
      "        [1, 1, 1,  ..., 0, 0, 0],\n",
      "        ...,\n",
      "        [1, 1, 1,  ..., 0, 0, 0],\n",
      "        [1, 1, 1,  ..., 0, 0, 0],\n",
      "        [1, 1, 1,  ..., 0, 0, 0]])}\n",
      "{'label': tensor([1, 0, 3, 3, 3, 0, 2, 0, 3, 3, 0, 0, 0, 1, 3, 1]), 'input_ids': tensor([[ 101,  137, 4795,  ...,    0,    0,    0],\n",
      "        [ 101,  137, 4795,  ...,    0,    0,    0],\n",
      "        [ 101, 9190, 1233,  ...,    0,    0,    0],\n",
      "        ...,\n",
      "        [ 101,  146,  112,  ...,    0,    0,    0],\n",
      "        [ 101, 3278, 2246,  ...,    0,    0,    0],\n",
      "        [ 101,  137, 4795,  ...,    0,    0,    0]]), 'attention_mask': tensor([[1, 1, 1,  ..., 0, 0, 0],\n",
      "        [1, 1, 1,  ..., 0, 0, 0],\n",
      "        [1, 1, 1,  ..., 0, 0, 0],\n",
      "        ...,\n",
      "        [1, 1, 1,  ..., 0, 0, 0],\n",
      "        [1, 1, 1,  ..., 0, 0, 0],\n",
      "        [1, 1, 1,  ..., 0, 0, 0]])}\n",
      "{'label': tensor([3, 0, 3, 2, 1, 0, 1, 2, 2, 0, 1, 1, 3, 3, 0, 2]), 'input_ids': tensor([[  101,   137,  4795,  ...,     0,     0,     0],\n",
      "        [  101,   137,  4795,  ...,     0,     0,     0],\n",
      "        [  101, 15255,   146,  ...,     0,     0,     0],\n",
      "        ...,\n",
      "        [  101,   137,  4795,  ...,     0,     0,     0],\n",
      "        [  101,   137,  4795,  ...,     0,     0,     0],\n",
      "        [  101,  5268,  1128,  ...,     0,     0,     0]]), 'attention_mask': tensor([[1, 1, 1,  ..., 0, 0, 0],\n",
      "        [1, 1, 1,  ..., 0, 0, 0],\n",
      "        [1, 1, 1,  ..., 0, 0, 0],\n",
      "        ...,\n",
      "        [1, 1, 1,  ..., 0, 0, 0],\n",
      "        [1, 1, 1,  ..., 0, 0, 0],\n",
      "        [1, 1, 1,  ..., 0, 0, 0]])}\n",
      "{'label': tensor([0, 3, 3, 0, 1, 0, 0, 1, 3, 2, 0, 1, 0, 0, 0, 3]), 'input_ids': tensor([[  101,   137,  4795,  ...,     0,     0,     0],\n",
      "        [  101,   108, 13304,  ...,     0,     0,     0],\n",
      "        [  101,   137,  4795,  ...,     0,     0,     0],\n",
      "        ...,\n",
      "        [  101,   137,  4795,  ...,     0,     0,     0],\n",
      "        [  101,   137,  4795,  ...,     0,     0,     0],\n",
      "        [  101,   146,  1522,  ...,     0,     0,     0]]), 'attention_mask': tensor([[1, 1, 1,  ..., 0, 0, 0],\n",
      "        [1, 1, 1,  ..., 0, 0, 0],\n",
      "        [1, 1, 1,  ..., 0, 0, 0],\n",
      "        ...,\n",
      "        [1, 1, 1,  ..., 0, 0, 0],\n",
      "        [1, 1, 1,  ..., 0, 0, 0],\n",
      "        [1, 1, 1,  ..., 0, 0, 0]])}\n",
      "{'label': tensor([3, 0, 3, 0, 3, 0, 0, 1, 2, 1, 1, 1, 0, 0, 1, 3]), 'input_ids': tensor([[  101,   137,  4795,  ...,     0,     0,     0],\n",
      "        [  101,  1332, 11078,  ...,     0,     0,     0],\n",
      "        [  101,   146,  1138,  ...,     0,     0,     0],\n",
      "        ...,\n",
      "        [  101,   137,  4795,  ...,     0,     0,     0],\n",
      "        [  101,  2825,   112,  ...,     0,     0,     0],\n",
      "        [  101,   137,  4795,  ...,     0,     0,     0]]), 'attention_mask': tensor([[1, 1, 1,  ..., 0, 0, 0],\n",
      "        [1, 1, 1,  ..., 0, 0, 0],\n",
      "        [1, 1, 1,  ..., 0, 0, 0],\n",
      "        ...,\n",
      "        [1, 1, 1,  ..., 0, 0, 0],\n",
      "        [1, 1, 1,  ..., 0, 0, 0],\n",
      "        [1, 1, 1,  ..., 0, 0, 0]])}\n",
      "{'label': tensor([0, 0, 1, 0, 0, 3, 1, 0, 0, 2, 2, 2, 0, 3, 0, 3]), 'input_ids': tensor([[  101,   137,  4795,  ...,     0,     0,     0],\n",
      "        [  101,   137,  4795,  ...,     0,     0,     0],\n",
      "        [  101,   137,  4795,  ...,     0,     0,     0],\n",
      "        ...,\n",
      "        [  101, 24585, 25671,  ...,     0,     0,     0],\n",
      "        [  101,  2181,  1122,  ...,     0,     0,     0],\n",
      "        [  101,   137,  4795,  ...,     0,     0,     0]]), 'attention_mask': tensor([[1, 1, 1,  ..., 0, 0, 0],\n",
      "        [1, 1, 1,  ..., 0, 0, 0],\n",
      "        [1, 1, 1,  ..., 0, 0, 0],\n",
      "        ...,\n",
      "        [1, 1, 1,  ..., 0, 0, 0],\n",
      "        [1, 1, 1,  ..., 0, 0, 0],\n",
      "        [1, 1, 1,  ..., 0, 0, 0]])}\n",
      "{'label': tensor([1, 0, 1, 2, 1, 0, 1, 3, 3, 2, 1, 0, 0, 2, 0, 3]), 'input_ids': tensor([[ 101, 1157,  170,  ...,    0,    0,    0],\n",
      "        [ 101,  137, 4795,  ...,    0,    0,    0],\n",
      "        [ 101, 1753, 1118,  ...,    0,    0,    0],\n",
      "        ...,\n",
      "        [ 101, 2409, 1712,  ...,    0,    0,    0],\n",
      "        [ 101,  137, 4795,  ...,    0,    0,    0],\n",
      "        [ 101,  146, 2010,  ...,    0,    0,    0]]), 'attention_mask': tensor([[1, 1, 1,  ..., 0, 0, 0],\n",
      "        [1, 1, 1,  ..., 0, 0, 0],\n",
      "        [1, 1, 1,  ..., 0, 0, 0],\n",
      "        ...,\n",
      "        [1, 1, 1,  ..., 0, 0, 0],\n",
      "        [1, 1, 1,  ..., 0, 0, 0],\n",
      "        [1, 1, 1,  ..., 0, 0, 0]])}\n",
      "{'label': tensor([0, 2, 3, 3, 3, 0, 2, 0, 0, 0, 0, 1, 1, 2, 0, 1]), 'input_ids': tensor([[  101,  1109,  1864,  ...,     0,     0,     0],\n",
      "        [  101,  1327,  1202,  ...,     0,     0,     0],\n",
      "        [  101,  3278,  2246,  ...,     0,     0,     0],\n",
      "        ...,\n",
      "        [  101, 26384,  2312,  ...,     0,     0,     0],\n",
      "        [  101,   137,  4795,  ...,     0,     0,     0],\n",
      "        [  101,  2185,  1240,  ...,     0,     0,     0]]), 'attention_mask': tensor([[1, 1, 1,  ..., 0, 0, 0],\n",
      "        [1, 1, 1,  ..., 0, 0, 0],\n",
      "        [1, 1, 1,  ..., 0, 0, 0],\n",
      "        ...,\n",
      "        [1, 1, 1,  ..., 0, 0, 0],\n",
      "        [1, 1, 1,  ..., 0, 0, 0],\n",
      "        [1, 1, 1,  ..., 0, 0, 0]])}\n",
      "{'label': tensor([0, 2, 2, 0, 1, 2, 1, 0, 0, 3, 1, 3, 3, 0, 1, 1]), 'input_ids': tensor([[  101,   137,  4795,  ...,     0,     0,     0],\n",
      "        [  101,  2009,  1110,  ...,     0,     0,     0],\n",
      "        [  101,   137,  4795,  ...,     0,     0,     0],\n",
      "        ...,\n",
      "        [  101,   137,  4795,  ...,     0,     0,     0],\n",
      "        [  101, 11455,  1122,  ...,     0,     0,     0],\n",
      "        [  101,  1139,  8819,  ...,     0,     0,     0]]), 'attention_mask': tensor([[1, 1, 1,  ..., 0, 0, 0],\n",
      "        [1, 1, 1,  ..., 0, 0, 0],\n",
      "        [1, 1, 1,  ..., 0, 0, 0],\n",
      "        ...,\n",
      "        [1, 1, 1,  ..., 0, 0, 0],\n",
      "        [1, 1, 1,  ..., 0, 0, 0],\n",
      "        [1, 1, 1,  ..., 0, 0, 0]])}\n",
      "{'label': tensor([1, 2, 0, 3, 1, 0, 0, 3, 0, 2, 2, 0, 0, 0, 3, 0]), 'input_ids': tensor([[ 101, 5091,  170,  ...,    0,    0,    0],\n",
      "        [ 101, 1192, 1138,  ...,    0,    0,    0],\n",
      "        [ 101,  137, 4795,  ...,    0,    0,    0],\n",
      "        ...,\n",
      "        [ 101,  138, 8661,  ...,    0,    0,    0],\n",
      "        [ 101, 1422,  175,  ...,    0,    0,    0],\n",
      "        [ 101,  137, 4795,  ...,    0,    0,    0]]), 'attention_mask': tensor([[1, 1, 1,  ..., 0, 0, 0],\n",
      "        [1, 1, 1,  ..., 0, 0, 0],\n",
      "        [1, 1, 1,  ..., 0, 0, 0],\n",
      "        ...,\n",
      "        [1, 1, 1,  ..., 0, 0, 0],\n",
      "        [1, 1, 1,  ..., 0, 0, 0],\n",
      "        [1, 1, 1,  ..., 0, 0, 0]])}\n",
      "{'label': tensor([0, 3, 0, 3, 0, 3, 0, 1, 0, 2, 0, 0, 1, 1, 1, 1]), 'input_ids': tensor([[  101,   137,  4795,  ...,     0,     0,     0],\n",
      "        [  101,   108,  2563,  ...,     0,     0,     0],\n",
      "        [  101,   146,  3683,  ...,     0,     0,     0],\n",
      "        ...,\n",
      "        [  101,  1188,  1144,  ...,     0,     0,     0],\n",
      "        [  101, 11679, 17687,  ...,     0,     0,     0],\n",
      "        [  101,  1789,   142,  ...,     0,     0,     0]]), 'attention_mask': tensor([[1, 1, 1,  ..., 0, 0, 0],\n",
      "        [1, 1, 1,  ..., 0, 0, 0],\n",
      "        [1, 1, 1,  ..., 0, 0, 0],\n",
      "        ...,\n",
      "        [1, 1, 1,  ..., 0, 0, 0],\n",
      "        [1, 1, 1,  ..., 0, 0, 0],\n",
      "        [1, 1, 1,  ..., 0, 0, 0]])}\n",
      "{'label': tensor([0, 1, 3, 0, 3, 1, 3, 0, 0, 3, 3, 0, 1, 1, 0, 2]), 'input_ids': tensor([[ 101,  100, 1110,  ...,    0,    0,    0],\n",
      "        [ 101, 4514, 1128,  ...,    0,    0,    0],\n",
      "        [ 101,  137, 4795,  ...,    0,    0,    0],\n",
      "        ...,\n",
      "        [ 101,  137, 4795,  ...,    0,    0,    0],\n",
      "        [ 101,  137, 4795,  ...,    0,    0,    0],\n",
      "        [ 101,  137, 4795,  ...,    0,    0,    0]]), 'attention_mask': tensor([[1, 1, 1,  ..., 0, 0, 0],\n",
      "        [1, 1, 1,  ..., 0, 0, 0],\n",
      "        [1, 1, 1,  ..., 0, 0, 0],\n",
      "        ...,\n",
      "        [1, 1, 1,  ..., 0, 0, 0],\n",
      "        [1, 1, 1,  ..., 0, 0, 0],\n",
      "        [1, 1, 1,  ..., 0, 0, 0]])}\n",
      "{'label': tensor([1, 0, 3, 2, 2, 0, 0, 0, 2, 3, 0, 3, 1, 0, 0, 0]), 'input_ids': tensor([[  101,   149, 13901,  ...,     0,     0,     0],\n",
      "        [  101,   146,  1821,  ...,     0,     0,     0],\n",
      "        [  101, 15255,   146,  ...,     0,     0,     0],\n",
      "        ...,\n",
      "        [  101, 25863,  1234,  ...,     0,     0,     0],\n",
      "        [  101,  6682, 10066,  ...,     0,     0,     0],\n",
      "        [  101,   137,  4795,  ...,     0,     0,     0]]), 'attention_mask': tensor([[1, 1, 1,  ..., 0, 0, 0],\n",
      "        [1, 1, 1,  ..., 0, 0, 0],\n",
      "        [1, 1, 1,  ..., 0, 0, 0],\n",
      "        ...,\n",
      "        [1, 1, 1,  ..., 0, 0, 0],\n",
      "        [1, 1, 1,  ..., 0, 0, 0],\n",
      "        [1, 1, 1,  ..., 0, 0, 0]])}\n",
      "{'label': tensor([1, 1, 0, 3, 0, 2, 0, 0, 0, 1, 1, 1, 3, 2, 1, 3]), 'input_ids': tensor([[ 101, 1799,  146,  ...,    0,    0,    0],\n",
      "        [ 101,  137, 4795,  ...,    0,    0,    0],\n",
      "        [ 101, 1192, 3287,  ...,    0,    0,    0],\n",
      "        ...,\n",
      "        [ 101, 5091, 1294,  ...,    0,    0,    0],\n",
      "        [ 101,  137, 4795,  ...,    0,    0,    0],\n",
      "        [ 101, 4302, 1116,  ...,    0,    0,    0]]), 'attention_mask': tensor([[1, 1, 1,  ..., 0, 0, 0],\n",
      "        [1, 1, 1,  ..., 0, 0, 0],\n",
      "        [1, 1, 1,  ..., 0, 0, 0],\n",
      "        ...,\n",
      "        [1, 1, 1,  ..., 0, 0, 0],\n",
      "        [1, 1, 1,  ..., 0, 0, 0],\n",
      "        [1, 1, 1,  ..., 0, 0, 0]])}\n",
      "{'label': tensor([3, 0, 2, 1, 1, 0, 2, 2, 0, 0, 2, 0, 0, 3, 0, 3]), 'input_ids': tensor([[  101, 17921,  2630,  ...,     0,     0,     0],\n",
      "        [  101,  1188,  1110,  ...,     0,     0,     0],\n",
      "        [  101, 13310,  4139,  ...,     0,     0,     0],\n",
      "        ...,\n",
      "        [  101,   178,  1821,  ...,     0,     0,     0],\n",
      "        [  101,   137,  4795,  ...,     0,     0,     0],\n",
      "        [  101,  1332,  1209,  ...,     0,     0,     0]]), 'attention_mask': tensor([[1, 1, 1,  ..., 0, 0, 0],\n",
      "        [1, 1, 1,  ..., 0, 0, 0],\n",
      "        [1, 1, 1,  ..., 0, 0, 0],\n",
      "        ...,\n",
      "        [1, 1, 1,  ..., 0, 0, 0],\n",
      "        [1, 1, 1,  ..., 0, 0, 0],\n",
      "        [1, 1, 1,  ..., 0, 0, 0]])}\n",
      "{'label': tensor([0, 1, 3, 2, 3, 3, 3, 2, 3, 3, 3, 1, 1, 3, 0, 1]), 'input_ids': tensor([[  101,   137,  4795,  ...,     0,     0,     0],\n",
      "        [  101,  4760,   141,  ...,     0,     0,     0],\n",
      "        [  101,   178,  1169,  ...,     0,     0,     0],\n",
      "        ...,\n",
      "        [  101,   137,  4795,  ...,     0,     0,     0],\n",
      "        [  101,  1731,  1103,  ...,     0,     0,     0],\n",
      "        [  101,  5255, 16719,  ...,     0,     0,     0]]), 'attention_mask': tensor([[1, 1, 1,  ..., 0, 0, 0],\n",
      "        [1, 1, 1,  ..., 0, 0, 0],\n",
      "        [1, 1, 1,  ..., 0, 0, 0],\n",
      "        ...,\n",
      "        [1, 1, 1,  ..., 0, 0, 0],\n",
      "        [1, 1, 1,  ..., 0, 0, 0],\n",
      "        [1, 1, 1,  ..., 0, 0, 0]])}\n",
      "{'label': tensor([3, 0, 3, 0, 0, 0, 0, 1, 3, 3, 3, 0, 1, 0, 2, 0]), 'input_ids': tensor([[  101, 12528,  5566,  ...,     0,     0,     0],\n",
      "        [  101,   137,  4795,  ...,     0,     0,     0],\n",
      "        [  101,  1731,  1169,  ...,     0,     0,     0],\n",
      "        ...,\n",
      "        [  101,   137,  4795,  ...,     0,     0,     0],\n",
      "        [  101,   138,  4983,  ...,     0,     0,     0],\n",
      "        [  101,   137,  4795,  ...,     0,     0,     0]]), 'attention_mask': tensor([[1, 1, 1,  ..., 0, 0, 0],\n",
      "        [1, 1, 1,  ..., 0, 0, 0],\n",
      "        [1, 1, 1,  ..., 0, 0, 0],\n",
      "        ...,\n",
      "        [1, 1, 1,  ..., 0, 0, 0],\n",
      "        [1, 1, 1,  ..., 0, 0, 0],\n",
      "        [1, 1, 1,  ..., 0, 0, 0]])}\n",
      "{'label': tensor([3, 0, 0, 1, 1, 3, 0, 1, 3, 0, 1, 3, 0, 0, 1, 3]), 'input_ids': tensor([[  101,   160,  3354,  ...,     0,     0,     0],\n",
      "        [  101,  1422,  4470,  ...,     0,     0,     0],\n",
      "        [  101,   137,  4795,  ...,     0,     0,     0],\n",
      "        ...,\n",
      "        [  101,   137,  4795,  ...,     0,     0,     0],\n",
      "        [  101, 12926,  1200,  ...,     0,     0,     0],\n",
      "        [  101,   158, 14527,  ...,     0,     0,     0]]), 'attention_mask': tensor([[1, 1, 1,  ..., 0, 0, 0],\n",
      "        [1, 1, 1,  ..., 0, 0, 0],\n",
      "        [1, 1, 1,  ..., 0, 0, 0],\n",
      "        ...,\n",
      "        [1, 1, 1,  ..., 0, 0, 0],\n",
      "        [1, 1, 1,  ..., 0, 0, 0],\n",
      "        [1, 1, 1,  ..., 0, 0, 0]])}\n",
      "{'label': tensor([1, 3, 0, 1, 1, 1, 0, 3, 3, 1, 1, 1, 0, 3, 0, 3]), 'input_ids': tensor([[  101,   146,  1274,  ...,     0,     0,     0],\n",
      "        [  101,  7755,   112,  ...,     0,     0,     0],\n",
      "        [  101,   137,  4795,  ...,     0,     0,     0],\n",
      "        ...,\n",
      "        [  101,  1153,  1215,  ...,     0,     0,     0],\n",
      "        [  101,  1103,  1873,  ...,     0,     0,     0],\n",
      "        [  101, 18511,  1684,  ...,     0,     0,     0]]), 'attention_mask': tensor([[1, 1, 1,  ..., 0, 0, 0],\n",
      "        [1, 1, 1,  ..., 0, 0, 0],\n",
      "        [1, 1, 1,  ..., 0, 0, 0],\n",
      "        ...,\n",
      "        [1, 1, 1,  ..., 0, 0, 0],\n",
      "        [1, 1, 1,  ..., 0, 0, 0],\n",
      "        [1, 1, 1,  ..., 0, 0, 0]])}\n",
      "{'label': tensor([0, 1, 0, 1, 0, 2, 1, 0, 3, 0, 0, 3, 0, 0, 3, 1]), 'input_ids': tensor([[ 101, 4221,  188,  ...,    0,    0,    0],\n",
      "        [ 101, 7193, 3606,  ...,    0,    0,    0],\n",
      "        [ 101,  137, 4795,  ...,    0,    0,    0],\n",
      "        ...,\n",
      "        [ 101,  137, 4795,  ...,    0,    0,    0],\n",
      "        [ 101, 1165, 1128,  ...,    0,    0,    0],\n",
      "        [ 101,  137, 4795,  ...,    0,    0,    0]]), 'attention_mask': tensor([[1, 1, 1,  ..., 0, 0, 0],\n",
      "        [1, 1, 1,  ..., 0, 0, 0],\n",
      "        [1, 1, 1,  ..., 0, 0, 0],\n",
      "        ...,\n",
      "        [1, 1, 1,  ..., 0, 0, 0],\n",
      "        [1, 1, 1,  ..., 0, 0, 0],\n",
      "        [1, 1, 1,  ..., 0, 0, 0]])}\n",
      "{'label': tensor([0, 3, 1, 1, 0, 0, 1, 0, 0, 3, 3, 1, 0, 1, 3, 3]), 'input_ids': tensor([[  101,   137,  4795,  ...,     0,     0,     0],\n",
      "        [  101,   146,   112,  ...,     0,     0,     0],\n",
      "        [  101,  1646,  5141,  ...,     0,     0,     0],\n",
      "        ...,\n",
      "        [  101,   137,  4795,  ...,     0,     0,     0],\n",
      "        [  101, 23686,  1274,  ...,     0,     0,     0],\n",
      "        [  101,   137,  4795,  ...,     0,     0,     0]]), 'attention_mask': tensor([[1, 1, 1,  ..., 0, 0, 0],\n",
      "        [1, 1, 1,  ..., 0, 0, 0],\n",
      "        [1, 1, 1,  ..., 0, 0, 0],\n",
      "        ...,\n",
      "        [1, 1, 1,  ..., 0, 0, 0],\n",
      "        [1, 1, 1,  ..., 0, 0, 0],\n",
      "        [1, 1, 1,  ..., 0, 0, 0]])}\n",
      "{'label': tensor([0, 3, 3, 0, 3, 1, 0, 2, 1, 3, 0, 3, 1, 2, 2, 0]), 'input_ids': tensor([[  101,   137,  4795,  ...,     0,     0,     0],\n",
      "        [  101, 14881,   146,  ...,     0,     0,     0],\n",
      "        [  101,   137,  4795,  ...,     0,     0,     0],\n",
      "        ...,\n",
      "        [  101,  5905,  2107,  ...,     0,     0,     0],\n",
      "        [  101,  1332,  1128,  ...,     0,     0,     0],\n",
      "        [  101,   146,  3023,  ...,     0,     0,     0]]), 'attention_mask': tensor([[1, 1, 1,  ..., 0, 0, 0],\n",
      "        [1, 1, 1,  ..., 0, 0, 0],\n",
      "        [1, 1, 1,  ..., 0, 0, 0],\n",
      "        ...,\n",
      "        [1, 1, 1,  ..., 0, 0, 0],\n",
      "        [1, 1, 1,  ..., 0, 0, 0],\n",
      "        [1, 1, 1,  ..., 0, 0, 0]])}\n",
      "{'label': tensor([0, 2, 0, 0, 0, 0, 3, 0, 3, 0, 0, 0, 0, 0, 0, 1]), 'input_ids': tensor([[  101,   137,  4795,  ...,     0,     0,     0],\n",
      "        [  101,   789,  8579,  ...,     0,     0,     0],\n",
      "        [  101, 11694, 21348,  ...,     0,     0,     0],\n",
      "        ...,\n",
      "        [  101,  1177,   174,  ...,     0,     0,     0],\n",
      "        [  101,  1302,  4161,  ...,     0,     0,     0],\n",
      "        [  101,   137,  4795,  ...,     0,     0,     0]]), 'attention_mask': tensor([[1, 1, 1,  ..., 0, 0, 0],\n",
      "        [1, 1, 1,  ..., 0, 0, 0],\n",
      "        [1, 1, 1,  ..., 0, 0, 0],\n",
      "        ...,\n",
      "        [1, 1, 1,  ..., 0, 0, 0],\n",
      "        [1, 1, 1,  ..., 0, 0, 0],\n",
      "        [1, 1, 1,  ..., 0, 0, 0]])}\n",
      "{'label': tensor([0, 0, 1, 1, 1, 0, 1, 3, 1, 3, 3, 3, 0, 0, 0, 2]), 'input_ids': tensor([[  101, 25904,  1307,  ...,     0,     0,     0],\n",
      "        [  101,  1103,  1362,  ...,     0,     0,     0],\n",
      "        [  101, 13647,   118,  ...,     0,     0,     0],\n",
      "        ...,\n",
      "        [  101,  1109,   112,  ...,     0,     0,     0],\n",
      "        [  101,   137,  4795,  ...,     0,     0,     0],\n",
      "        [  101,   137,  4795,  ...,     0,     0,     0]]), 'attention_mask': tensor([[1, 1, 1,  ..., 0, 0, 0],\n",
      "        [1, 1, 1,  ..., 0, 0, 0],\n",
      "        [1, 1, 1,  ..., 0, 0, 0],\n",
      "        ...,\n",
      "        [1, 1, 1,  ..., 0, 0, 0],\n",
      "        [1, 1, 1,  ..., 0, 0, 0],\n",
      "        [1, 1, 1,  ..., 0, 0, 0]])}\n",
      "{'label': tensor([3, 0, 0, 1, 3, 0, 1, 0, 0, 0, 3, 1, 0, 0, 0, 0]), 'input_ids': tensor([[  101,  6132, 21922,  ...,     0,     0,     0],\n",
      "        [  101,   119,   119,  ...,     0,     0,     0],\n",
      "        [  101,   156, 13041,  ...,     0,     0,     0],\n",
      "        ...,\n",
      "        [  101,   146,   112,  ...,     0,     0,     0],\n",
      "        [  101,  5096,   157,  ...,     0,     0,     0],\n",
      "        [  101,  1184,  1116,  ...,     0,     0,     0]]), 'attention_mask': tensor([[1, 1, 1,  ..., 0, 0, 0],\n",
      "        [1, 1, 1,  ..., 0, 0, 0],\n",
      "        [1, 1, 1,  ..., 0, 0, 0],\n",
      "        ...,\n",
      "        [1, 1, 1,  ..., 0, 0, 0],\n",
      "        [1, 1, 1,  ..., 0, 0, 0],\n",
      "        [1, 1, 1,  ..., 0, 0, 0]])}\n",
      "{'label': tensor([3, 0, 3, 1, 3, 0, 0, 0, 1, 0, 0, 0, 3, 3, 1, 1]), 'input_ids': tensor([[  101,  1731,  1263,  ...,     0,     0,     0],\n",
      "        [  101,  1135,  1541,  ...,     0,     0,     0],\n",
      "        [  101, 18511,  1146,  ...,     0,     0,     0],\n",
      "        ...,\n",
      "        [  101,  1135,   112,  ...,     0,     0,     0],\n",
      "        [  101,   108, 26006,  ...,     0,     0,     0],\n",
      "        [  101,   137,  4795,  ...,     0,     0,     0]]), 'attention_mask': tensor([[1, 1, 1,  ..., 0, 0, 0],\n",
      "        [1, 1, 1,  ..., 0, 0, 0],\n",
      "        [1, 1, 1,  ..., 0, 0, 0],\n",
      "        ...,\n",
      "        [1, 1, 1,  ..., 0, 0, 0],\n",
      "        [1, 1, 1,  ..., 0, 0, 0],\n",
      "        [1, 1, 1,  ..., 0, 0, 0]])}\n",
      "{'label': tensor([3, 3, 0, 0, 0, 0, 0, 1, 2, 0, 3, 3, 0, 1, 3, 2]), 'input_ids': tensor([[ 101, 1409, 9454,  ...,    0,    0,    0],\n",
      "        [ 101, 1789, 2232,  ...,    0,    0,    0],\n",
      "        [ 101,  146, 1274,  ...,    0,    0,    0],\n",
      "        ...,\n",
      "        [ 101,  140, 9936,  ...,    0,    0,    0],\n",
      "        [ 101,  137, 4795,  ...,    0,    0,    0],\n",
      "        [ 101, 1274,  112,  ...,    0,    0,    0]]), 'attention_mask': tensor([[1, 1, 1,  ..., 0, 0, 0],\n",
      "        [1, 1, 1,  ..., 0, 0, 0],\n",
      "        [1, 1, 1,  ..., 0, 0, 0],\n",
      "        ...,\n",
      "        [1, 1, 1,  ..., 0, 0, 0],\n",
      "        [1, 1, 1,  ..., 0, 0, 0],\n",
      "        [1, 1, 1,  ..., 0, 0, 0]])}\n",
      "{'label': tensor([3, 3, 3, 0, 0, 3, 1, 3, 0, 3, 0, 3, 1, 3, 0, 0]), 'input_ids': tensor([[  101,  1332,  1128,  ...,     0,     0,     0],\n",
      "        [  101,  7747,   146,  ...,     0,     0,     0],\n",
      "        [  101,   108, 25228,  ...,     0,     0,     0],\n",
      "        ...,\n",
      "        [  101,  7187,  2256,  ...,     0,     0,     0],\n",
      "        [  101,   137,  4795,  ...,     0,     0,     0],\n",
      "        [  101,   137,  4795,  ...,     0,     0,     0]]), 'attention_mask': tensor([[1, 1, 1,  ..., 0, 0, 0],\n",
      "        [1, 1, 1,  ..., 0, 0, 0],\n",
      "        [1, 1, 1,  ..., 0, 0, 0],\n",
      "        ...,\n",
      "        [1, 1, 1,  ..., 0, 0, 0],\n",
      "        [1, 1, 1,  ..., 0, 0, 0],\n",
      "        [1, 1, 1,  ..., 0, 0, 0]])}\n",
      "{'label': tensor([0, 2, 0, 1, 0, 3, 0, 0, 3, 2, 1, 3, 3, 1, 1, 3]), 'input_ids': tensor([[  101,   137,  4795,  ...,     0,     0,     0],\n",
      "        [  101, 12528,  5566,  ...,     0,     0,     0],\n",
      "        [  101,   108,  3658,  ...,     0,     0,     0],\n",
      "        ...,\n",
      "        [  101,  3704,  1708,  ...,     0,     0,     0],\n",
      "        [  101, 12226,  1205,  ...,     0,     0,     0],\n",
      "        [  101,  1435,  1106,  ...,     0,     0,     0]]), 'attention_mask': tensor([[1, 1, 1,  ..., 0, 0, 0],\n",
      "        [1, 1, 1,  ..., 0, 0, 0],\n",
      "        [1, 1, 1,  ..., 0, 0, 0],\n",
      "        ...,\n",
      "        [1, 1, 1,  ..., 0, 0, 0],\n",
      "        [1, 1, 1,  ..., 0, 0, 0],\n",
      "        [1, 1, 1,  ..., 0, 0, 0]])}\n",
      "{'label': tensor([1, 2, 0, 3, 0, 0, 1, 2, 0, 0, 0, 3, 0, 1, 1, 0]), 'input_ids': tensor([[ 101,  137, 4795,  ...,    0,    0,    0],\n",
      "        [ 101, 2389, 1103,  ...,    0,    0,    0],\n",
      "        [ 101,  137, 4795,  ...,    0,    0,    0],\n",
      "        ...,\n",
      "        [ 101, 8636, 1763,  ...,    0,    0,    0],\n",
      "        [ 101, 8835, 1106,  ...,    0,    0,    0],\n",
      "        [ 101,  137, 4795,  ...,    0,    0,    0]]), 'attention_mask': tensor([[1, 1, 1,  ..., 0, 0, 0],\n",
      "        [1, 1, 1,  ..., 0, 0, 0],\n",
      "        [1, 1, 1,  ..., 0, 0, 0],\n",
      "        ...,\n",
      "        [1, 1, 1,  ..., 0, 0, 0],\n",
      "        [1, 1, 1,  ..., 0, 0, 0],\n",
      "        [1, 1, 1,  ..., 0, 0, 0]])}\n",
      "{'label': tensor([0, 0, 0, 0, 3, 3, 1, 2, 1, 0, 3, 3, 1, 2, 0, 3]), 'input_ids': tensor([[  101,   137,  4795,  ...,     0,     0,     0],\n",
      "        [  101,   137,  4795,  ...,     0,     0,     0],\n",
      "        [  101,   168,  1430,  ...,     0,     0,     0],\n",
      "        ...,\n",
      "        [  101,   146,  1274,  ...,     0,     0,     0],\n",
      "        [  101,   137,  4795,  ...,     0,     0,     0],\n",
      "        [  101, 25682,  1883,  ...,     0,     0,     0]]), 'attention_mask': tensor([[1, 1, 1,  ..., 0, 0, 0],\n",
      "        [1, 1, 1,  ..., 0, 0, 0],\n",
      "        [1, 1, 1,  ..., 0, 0, 0],\n",
      "        ...,\n",
      "        [1, 1, 1,  ..., 0, 0, 0],\n",
      "        [1, 1, 1,  ..., 0, 0, 0],\n",
      "        [1, 1, 1,  ..., 0, 0, 0]])}\n",
      "{'label': tensor([0, 3, 0, 0, 1, 0, 3, 0, 0, 3, 0, 0, 0, 1, 0, 0]), 'input_ids': tensor([[ 101,  137, 4795,  ...,    0,    0,    0],\n",
      "        [ 101,  137, 4795,  ...,    0,    0,    0],\n",
      "        [ 101, 7933,  148,  ...,    0,    0,    0],\n",
      "        ...,\n",
      "        [ 101,  108, 3692,  ...,    0,    0,    0],\n",
      "        [ 101,  137, 4795,  ...,    0,    0,    0],\n",
      "        [ 101,  119,  137,  ...,    0,    0,    0]]), 'attention_mask': tensor([[1, 1, 1,  ..., 0, 0, 0],\n",
      "        [1, 1, 1,  ..., 0, 0, 0],\n",
      "        [1, 1, 1,  ..., 0, 0, 0],\n",
      "        ...,\n",
      "        [1, 1, 1,  ..., 0, 0, 0],\n",
      "        [1, 1, 1,  ..., 0, 0, 0],\n",
      "        [1, 1, 1,  ..., 0, 0, 0]])}\n",
      "{'label': tensor([0, 1, 3, 2, 3, 0, 1, 0, 0, 1, 2, 0, 3, 1, 1, 1]), 'input_ids': tensor([[  101,   137,  4795,  ...,     0,     0,     0],\n",
      "        [  101,   137,  4795,  ...,     0,     0,     0],\n",
      "        [  101,  1422,  4825,  ...,     0,     0,     0],\n",
      "        ...,\n",
      "        [  101,   137,  4795,  ...,     0,     0,     0],\n",
      "        [  101,   137,  4795,  ...,     0,     0,     0],\n",
      "        [  101, 24566,  3540,  ...,     0,     0,     0]]), 'attention_mask': tensor([[1, 1, 1,  ..., 0, 0, 0],\n",
      "        [1, 1, 1,  ..., 0, 0, 0],\n",
      "        [1, 1, 1,  ..., 0, 0, 0],\n",
      "        ...,\n",
      "        [1, 1, 1,  ..., 0, 0, 0],\n",
      "        [1, 1, 1,  ..., 0, 0, 0],\n",
      "        [1, 1, 1,  ..., 0, 0, 0]])}\n",
      "{'label': tensor([0, 0, 0, 0, 1, 0, 0, 1, 3, 0, 0, 1, 1, 0, 1, 0]), 'input_ids': tensor([[ 101, 1137, 1165,  ...,    0,    0,    0],\n",
      "        [ 101, 1398, 2630,  ...,    0,    0,    0],\n",
      "        [ 101,  137, 4795,  ...,    0,    0,    0],\n",
      "        ...,\n",
      "        [ 101,  137, 4795,  ...,    0,    0,    0],\n",
      "        [ 101,  137, 4795,  ...,    0,    0,    0],\n",
      "        [ 101,  137, 4795,  ...,    0,    0,    0]]), 'attention_mask': tensor([[1, 1, 1,  ..., 0, 0, 0],\n",
      "        [1, 1, 1,  ..., 0, 0, 0],\n",
      "        [1, 1, 1,  ..., 0, 0, 0],\n",
      "        ...,\n",
      "        [1, 1, 1,  ..., 0, 0, 0],\n",
      "        [1, 1, 1,  ..., 0, 0, 0],\n",
      "        [1, 1, 1,  ..., 0, 0, 0]])}\n",
      "{'label': tensor([2, 1, 2, 1, 0, 0, 0, 0, 2, 0, 3, 3, 0, 3, 1, 1]), 'input_ids': tensor([[ 101,  146, 1567,  ...,    0,    0,    0],\n",
      "        [ 101, 5749, 1106,  ...,    0,    0,    0],\n",
      "        [ 101, 5091, 2945,  ...,    0,    0,    0],\n",
      "        ...,\n",
      "        [ 101, 1106, 5854,  ...,    0,    0,    0],\n",
      "        [ 101,  137, 4795,  ...,    0,    0,    0],\n",
      "        [ 101,  137, 4795,  ...,    0,    0,    0]]), 'attention_mask': tensor([[1, 1, 1,  ..., 0, 0, 0],\n",
      "        [1, 1, 1,  ..., 0, 0, 0],\n",
      "        [1, 1, 1,  ..., 0, 0, 0],\n",
      "        ...,\n",
      "        [1, 1, 1,  ..., 0, 0, 0],\n",
      "        [1, 1, 1,  ..., 0, 0, 0],\n",
      "        [1, 1, 1,  ..., 0, 0, 0]])}\n",
      "{'label': tensor([3, 0, 0, 1, 0, 0, 2, 1, 0, 1, 2, 3, 3, 3, 3, 0]), 'input_ids': tensor([[  101, 21718,  1964,  ...,     0,     0,     0],\n",
      "        [  101,   137,  4795,  ...,     0,     0,     0],\n",
      "        [  101,  1725,  1132,  ...,     0,     0,     0],\n",
      "        ...,\n",
      "        [  101,   146,  1541,  ...,     0,     0,     0],\n",
      "        [  101,  2563,  1132,  ...,     0,     0,     0],\n",
      "        [  101,  1375,  6696,  ...,     0,     0,     0]]), 'attention_mask': tensor([[1, 1, 1,  ..., 0, 0, 0],\n",
      "        [1, 1, 1,  ..., 0, 0, 0],\n",
      "        [1, 1, 1,  ..., 0, 0, 0],\n",
      "        ...,\n",
      "        [1, 1, 1,  ..., 0, 0, 0],\n",
      "        [1, 1, 1,  ..., 0, 0, 0],\n",
      "        [1, 1, 1,  ..., 0, 0, 0]])}\n",
      "{'label': tensor([0, 0, 2, 0, 3, 3, 2, 3, 0, 2, 0, 0, 1, 3, 0, 0]), 'input_ids': tensor([[  101,  2066,  1125,  ...,     0,     0,     0],\n",
      "        [  101,   143,  7264,  ...,     0,     0,     0],\n",
      "        [  101,   137,  4795,  ...,     0,     0,     0],\n",
      "        ...,\n",
      "        [  101, 12226,  1515,  ...,     0,     0,     0],\n",
      "        [  101,   137,  4795,  ...,     0,     0,     0],\n",
      "        [  101,   146,  1198,  ...,     0,     0,     0]]), 'attention_mask': tensor([[1, 1, 1,  ..., 0, 0, 0],\n",
      "        [1, 1, 1,  ..., 0, 0, 0],\n",
      "        [1, 1, 1,  ..., 0, 0, 0],\n",
      "        ...,\n",
      "        [1, 1, 1,  ..., 0, 0, 0],\n",
      "        [1, 1, 1,  ..., 0, 0, 0],\n",
      "        [1, 1, 1,  ..., 0, 0, 0]])}\n",
      "{'label': tensor([3, 0, 2, 2, 0, 0, 1, 0, 3, 3, 3, 3, 0, 2, 0, 3]), 'input_ids': tensor([[ 101, 1109,  137,  ...,    0,    0,    0],\n",
      "        [ 101,  113,  113,  ...,    0,    0,    0],\n",
      "        [ 101, 2563, 1209,  ...,    0,    0,    0],\n",
      "        ...,\n",
      "        [ 101, 1252,  112,  ...,    0,    0,    0],\n",
      "        [ 101, 2181, 1122,  ...,    0,    0,    0],\n",
      "        [ 101,  137, 4795,  ...,    0,    0,    0]]), 'attention_mask': tensor([[1, 1, 1,  ..., 0, 0, 0],\n",
      "        [1, 1, 1,  ..., 0, 0, 0],\n",
      "        [1, 1, 1,  ..., 0, 0, 0],\n",
      "        ...,\n",
      "        [1, 1, 1,  ..., 0, 0, 0],\n",
      "        [1, 1, 1,  ..., 0, 0, 0],\n",
      "        [1, 1, 1,  ..., 0, 0, 0]])}\n",
      "{'label': tensor([0, 2, 0, 3, 0, 0, 0, 0, 0, 0, 3, 1, 3, 3, 1, 0]), 'input_ids': tensor([[  101,  5409,   117,  ...,     0,     0,     0],\n",
      "        [  101,   138, 19515,  ...,     0,     0,     0],\n",
      "        [  101,   137,  4795,  ...,     0,     0,     0],\n",
      "        ...,\n",
      "        [  101,  1135,  1631,  ...,     0,     0,     0],\n",
      "        [  101,   137,  4795,  ...,     0,     0,     0],\n",
      "        [  101,   137,  4795,  ...,     0,     0,     0]]), 'attention_mask': tensor([[1, 1, 1,  ..., 0, 0, 0],\n",
      "        [1, 1, 1,  ..., 0, 0, 0],\n",
      "        [1, 1, 1,  ..., 0, 0, 0],\n",
      "        ...,\n",
      "        [1, 1, 1,  ..., 0, 0, 0],\n",
      "        [1, 1, 1,  ..., 0, 0, 0],\n",
      "        [1, 1, 1,  ..., 0, 0, 0]])}\n",
      "{'label': tensor([0, 2, 1, 1, 3, 0, 3, 1, 1, 3, 3, 1, 0, 0, 0, 3]), 'input_ids': tensor([[ 101,  146, 1198,  ...,    0,    0,    0],\n",
      "        [ 101,  137, 4795,  ...,    0,    0,    0],\n",
      "        [ 101, 8553, 1142,  ...,    0,    0,    0],\n",
      "        ...,\n",
      "        [ 101, 3949, 1106,  ...,    0,    0,    0],\n",
      "        [ 101, 9075, 1110,  ...,    0,    0,    0],\n",
      "        [ 101,  137, 4795,  ...,    0,    0,    0]]), 'attention_mask': tensor([[1, 1, 1,  ..., 0, 0, 0],\n",
      "        [1, 1, 1,  ..., 0, 0, 0],\n",
      "        [1, 1, 1,  ..., 0, 0, 0],\n",
      "        ...,\n",
      "        [1, 1, 1,  ..., 0, 0, 0],\n",
      "        [1, 1, 1,  ..., 0, 0, 0],\n",
      "        [1, 1, 1,  ..., 0, 0, 0]])}\n",
      "{'label': tensor([0, 0, 1, 3, 1, 0, 0, 1, 0, 3, 1, 0, 1, 0, 2, 1]), 'input_ids': tensor([[  101,   137,  4795,  ...,     0,     0,     0],\n",
      "        [  101, 21621,  1104,  ...,     0,     0,     0],\n",
      "        [  101,  2066,  1125,  ...,     0,     0,     0],\n",
      "        ...,\n",
      "        [  101, 11255,  1122,  ...,     0,     0,     0],\n",
      "        [  101,   146,  1500,  ...,     0,     0,     0],\n",
      "        [  101,   137,  4795,  ...,     0,     0,     0]]), 'attention_mask': tensor([[1, 1, 1,  ..., 0, 0, 0],\n",
      "        [1, 1, 1,  ..., 0, 0, 0],\n",
      "        [1, 1, 1,  ..., 0, 0, 0],\n",
      "        ...,\n",
      "        [1, 1, 1,  ..., 0, 0, 0],\n",
      "        [1, 1, 1,  ..., 0, 0, 0],\n",
      "        [1, 1, 1,  ..., 0, 0, 0]])}\n",
      "{'label': tensor([3, 0, 0, 0, 1, 3, 0, 0, 0, 3, 1, 1, 0, 0, 0, 0]), 'input_ids': tensor([[ 101,  137, 4795,  ...,    0,    0,    0],\n",
      "        [ 101,  137, 4795,  ...,    0,    0,    0],\n",
      "        [ 101, 1135,  112,  ...,    0,    0,    0],\n",
      "        ...,\n",
      "        [ 101,  108, 4267,  ...,    0,    0,    0],\n",
      "        [ 101,  137, 4795,  ...,    0,    0,    0],\n",
      "        [ 101, 2279, 1122,  ...,    0,    0,    0]]), 'attention_mask': tensor([[1, 1, 1,  ..., 0, 0, 0],\n",
      "        [1, 1, 1,  ..., 0, 0, 0],\n",
      "        [1, 1, 1,  ..., 0, 0, 0],\n",
      "        ...,\n",
      "        [1, 1, 1,  ..., 0, 0, 0],\n",
      "        [1, 1, 1,  ..., 0, 0, 0],\n",
      "        [1, 1, 1,  ..., 0, 0, 0]])}\n",
      "{'label': tensor([3, 1, 3, 3, 0, 3, 3, 0, 1, 0, 0, 3, 2, 1, 0, 3]), 'input_ids': tensor([[  101,   137,  4795,  ...,     0,     0,     0],\n",
      "        [  101,   137,  4795,  ...,     0,     0,     0],\n",
      "        [  101, 10006,  1151,  ...,     0,     0,     0],\n",
      "        ...,\n",
      "        [  101,   137,  4795,  ...,     0,     0,     0],\n",
      "        [  101,   108,  3201,  ...,     0,     0,     0],\n",
      "        [  101,   137,  4795,  ...,     0,     0,     0]]), 'attention_mask': tensor([[1, 1, 1,  ..., 0, 0, 0],\n",
      "        [1, 1, 1,  ..., 0, 0, 0],\n",
      "        [1, 1, 1,  ..., 0, 0, 0],\n",
      "        ...,\n",
      "        [1, 1, 1,  ..., 0, 0, 0],\n",
      "        [1, 1, 1,  ..., 0, 0, 0],\n",
      "        [1, 1, 1,  ..., 0, 0, 0]])}\n",
      "{'label': tensor([0, 0, 1, 0, 0, 0, 0, 0, 1, 0, 3, 1, 0, 1, 3, 3]), 'input_ids': tensor([[ 101,  137, 4795,  ...,    0,    0,    0],\n",
      "        [ 101,  137, 4795,  ...,    0,    0,    0],\n",
      "        [ 101,  137, 4795,  ...,    0,    0,    0],\n",
      "        ...,\n",
      "        [ 101, 1247, 1110,  ...,    0,    0,    0],\n",
      "        [ 101,  137, 4795,  ...,    0,    0,    0],\n",
      "        [ 101,  146, 1306,  ...,    0,    0,    0]]), 'attention_mask': tensor([[1, 1, 1,  ..., 0, 0, 0],\n",
      "        [1, 1, 1,  ..., 0, 0, 0],\n",
      "        [1, 1, 1,  ..., 0, 0, 0],\n",
      "        ...,\n",
      "        [1, 1, 1,  ..., 0, 0, 0],\n",
      "        [1, 1, 1,  ..., 0, 0, 0],\n",
      "        [1, 1, 1,  ..., 0, 0, 0]])}\n",
      "{'label': tensor([0, 1, 1, 0, 3, 3, 3, 3, 1, 0, 0, 1, 2, 1, 1, 1]), 'input_ids': tensor([[ 101,  137, 4795,  ...,    0,    0,    0],\n",
      "        [ 101, 5823, 7946,  ...,    0,    0,    0],\n",
      "        [ 101,  137, 4795,  ...,    0,    0,    0],\n",
      "        ...,\n",
      "        [ 101,  137, 4795,  ...,    0,    0,    0],\n",
      "        [ 101,  137, 4795,  ...,    0,    0,    0],\n",
      "        [ 101,  146, 1821,  ...,    0,    0,    0]]), 'attention_mask': tensor([[1, 1, 1,  ..., 0, 0, 0],\n",
      "        [1, 1, 1,  ..., 0, 0, 0],\n",
      "        [1, 1, 1,  ..., 0, 0, 0],\n",
      "        ...,\n",
      "        [1, 1, 1,  ..., 0, 0, 0],\n",
      "        [1, 1, 1,  ..., 0, 0, 0],\n",
      "        [1, 1, 1,  ..., 0, 0, 0]])}\n",
      "{'label': tensor([3, 0, 3, 0, 1, 0, 0, 0, 3, 3, 0, 0, 1, 1, 2, 1]), 'input_ids': tensor([[  101,   137,  4795,  ...,     0,     0,     0],\n",
      "        [  101,   137,  4795,  ...,     0,     0,     0],\n",
      "        [  101,   146,  2059,  ...,     0,     0,     0],\n",
      "        ...,\n",
      "        [  101,   156, 14719,  ...,     0,     0,     0],\n",
      "        [  101,  1318,  1103,  ...,     0,     0,     0],\n",
      "        [  101,   783,  1106,  ...,     0,     0,     0]]), 'attention_mask': tensor([[1, 1, 1,  ..., 0, 0, 0],\n",
      "        [1, 1, 1,  ..., 0, 0, 0],\n",
      "        [1, 1, 1,  ..., 0, 0, 0],\n",
      "        ...,\n",
      "        [1, 1, 1,  ..., 0, 0, 0],\n",
      "        [1, 1, 1,  ..., 0, 0, 0],\n",
      "        [1, 1, 1,  ..., 0, 0, 0]])}\n",
      "{'label': tensor([2, 1, 3, 0, 3, 3, 1, 3, 0, 1, 1, 1, 2, 3, 0, 1]), 'input_ids': tensor([[  101,   137,  4795,  ...,     0,     0,     0],\n",
      "        [  101,  8553,  1142,  ...,     0,     0,     0],\n",
      "        [  101,   146,  1169,  ...,     0,     0,     0],\n",
      "        ...,\n",
      "        [  101,  1332,  1128,  ...,     0,     0,     0],\n",
      "        [  101, 26123,  1158,  ...,     0,     0,     0],\n",
      "        [  101,   146,  1261,  ...,     0,     0,     0]]), 'attention_mask': tensor([[1, 1, 1,  ..., 0, 0, 0],\n",
      "        [1, 1, 1,  ..., 0, 0, 0],\n",
      "        [1, 1, 1,  ..., 0, 0, 0],\n",
      "        ...,\n",
      "        [1, 1, 1,  ..., 0, 0, 0],\n",
      "        [1, 1, 1,  ..., 0, 0, 0],\n",
      "        [1, 1, 1,  ..., 0, 0, 0]])}\n",
      "{'label': tensor([0, 0, 1, 1, 2, 0, 2, 0, 1, 0, 0, 1, 1, 0, 3, 0]), 'input_ids': tensor([[  101,   137,  4795,  ...,     0,     0,     0],\n",
      "        [  101,   137,  4795,  ...,     0,     0,     0],\n",
      "        [  101,   137,  4795,  ...,     0,     0,     0],\n",
      "        ...,\n",
      "        [  101,  1302, 10027,  ...,     0,     0,     0],\n",
      "        [  101,   119,   137,  ...,     0,     0,     0],\n",
      "        [  101,   137,  4795,  ...,     0,     0,     0]]), 'attention_mask': tensor([[1, 1, 1,  ..., 0, 0, 0],\n",
      "        [1, 1, 1,  ..., 0, 0, 0],\n",
      "        [1, 1, 1,  ..., 0, 0, 0],\n",
      "        ...,\n",
      "        [1, 1, 1,  ..., 0, 0, 0],\n",
      "        [1, 1, 1,  ..., 0, 0, 0],\n",
      "        [1, 1, 1,  ..., 0, 0, 0]])}\n",
      "{'label': tensor([0, 3, 0, 2, 0, 0, 3, 0, 0, 0, 3, 0, 3, 1, 3, 2]), 'input_ids': tensor([[  101, 14325,  2520,  ...,     0,     0,     0],\n",
      "        [  101,   137,  4795,  ...,     0,     0,     0],\n",
      "        [  101,  2009,  1674,  ...,     0,     0,     0],\n",
      "        ...,\n",
      "        [  101,  2825,   112,  ...,     0,     0,     0],\n",
      "        [  101,   137,  4795,  ...,     0,     0,     0],\n",
      "        [  101,  1109,  1553,  ...,     0,     0,     0]]), 'attention_mask': tensor([[1, 1, 1,  ..., 0, 0, 0],\n",
      "        [1, 1, 1,  ..., 0, 0, 0],\n",
      "        [1, 1, 1,  ..., 0, 0, 0],\n",
      "        ...,\n",
      "        [1, 1, 1,  ..., 0, 0, 0],\n",
      "        [1, 1, 1,  ..., 0, 0, 0],\n",
      "        [1, 1, 1,  ..., 0, 0, 0]])}\n",
      "{'label': tensor([0, 0, 3, 1, 3, 1, 0, 3, 1, 0, 0, 0, 3, 0, 0, 0]), 'input_ids': tensor([[  101,  1258,  1131,  ...,     0,     0,     0],\n",
      "        [  101,   108, 20173,  ...,     0,     0,     0],\n",
      "        [  101, 10736,  2256,  ...,     0,     0,     0],\n",
      "        ...,\n",
      "        [  101,  3713,   178,  ...,     0,     0,     0],\n",
      "        [  101,  1139,  4819,  ...,     0,     0,     0],\n",
      "        [  101,   178,  1108,  ...,     0,     0,     0]]), 'attention_mask': tensor([[1, 1, 1,  ..., 0, 0, 0],\n",
      "        [1, 1, 1,  ..., 0, 0, 0],\n",
      "        [1, 1, 1,  ..., 0, 0, 0],\n",
      "        ...,\n",
      "        [1, 1, 1,  ..., 0, 0, 0],\n",
      "        [1, 1, 1,  ..., 0, 0, 0],\n",
      "        [1, 1, 1,  ..., 0, 0, 0]])}\n",
      "{'label': tensor([1, 0, 0, 0, 0, 3, 1, 0, 3, 0, 3, 3, 3, 0, 0, 3]), 'input_ids': tensor([[ 101, 5875, 1119,  ...,    0,    0,    0],\n",
      "        [ 101,  137, 4795,  ...,    0,    0,    0],\n",
      "        [ 101,  146,  112,  ...,    0,    0,    0],\n",
      "        ...,\n",
      "        [ 101,  137, 4795,  ...,    0,    0,    0],\n",
      "        [ 101,  137, 4795,  ...,    0,    0,    0],\n",
      "        [ 101,  137, 4795,  ...,    0,    0,    0]]), 'attention_mask': tensor([[1, 1, 1,  ..., 0, 0, 0],\n",
      "        [1, 1, 1,  ..., 0, 0, 0],\n",
      "        [1, 1, 1,  ..., 0, 0, 0],\n",
      "        ...,\n",
      "        [1, 1, 1,  ..., 0, 0, 0],\n",
      "        [1, 1, 1,  ..., 0, 0, 0],\n",
      "        [1, 1, 1,  ..., 0, 0, 0]])}\n",
      "{'label': tensor([1, 0, 0, 1, 0, 1, 0, 0, 0, 3, 1, 0, 3, 0, 0, 3]), 'input_ids': tensor([[ 101,  137, 4795,  ...,    0,    0,    0],\n",
      "        [ 101,  137, 4795,  ...,    0,    0,    0],\n",
      "        [ 101, 1130, 1446,  ...,    0,    0,    0],\n",
      "        ...,\n",
      "        [ 101, 1188, 1110,  ...,    0,    0,    0],\n",
      "        [ 101,  137, 4795,  ...,    0,    0,    0],\n",
      "        [ 101,  137, 4795,  ...,    0,    0,    0]]), 'attention_mask': tensor([[1, 1, 1,  ..., 0, 0, 0],\n",
      "        [1, 1, 1,  ..., 0, 0, 0],\n",
      "        [1, 1, 1,  ..., 0, 0, 0],\n",
      "        ...,\n",
      "        [1, 1, 1,  ..., 0, 0, 0],\n",
      "        [1, 1, 1,  ..., 0, 0, 0],\n",
      "        [1, 1, 1,  ..., 0, 0, 0]])}\n",
      "{'label': tensor([1, 2, 2, 2, 1, 3, 0, 0, 0, 3, 0, 0, 0, 2, 2, 1]), 'input_ids': tensor([[  101,  1109,   157,  ...,     0,     0,     0],\n",
      "        [  101,  2091,  1136,  ...,     0,     0,     0],\n",
      "        [  101,   137,  4795,  ...,     0,     0,     0],\n",
      "        ...,\n",
      "        [  101,  1790,   112,  ...,     0,     0,     0],\n",
      "        [  101,  3260,  7882,  ...,     0,     0,     0],\n",
      "        [  101,  8325, 16168,  ...,     0,     0,     0]]), 'attention_mask': tensor([[1, 1, 1,  ..., 0, 0, 0],\n",
      "        [1, 1, 1,  ..., 0, 0, 0],\n",
      "        [1, 1, 1,  ..., 0, 0, 0],\n",
      "        ...,\n",
      "        [1, 1, 1,  ..., 0, 0, 0],\n",
      "        [1, 1, 1,  ..., 0, 0, 0],\n",
      "        [1, 1, 1,  ..., 0, 0, 0]])}\n",
      "{'label': tensor([0, 1, 1, 2, 3, 0, 0, 0, 0, 0, 2, 0, 0, 1, 3, 0]), 'input_ids': tensor([[ 101, 1600,  131,  ...,    0,    0,    0],\n",
      "        [ 101,  137, 4795,  ...,    0,    0,    0],\n",
      "        [ 101,  137, 4795,  ...,    0,    0,    0],\n",
      "        ...,\n",
      "        [ 101,  137, 4795,  ...,    0,    0,    0],\n",
      "        [ 101,  137, 4795,  ...,    0,    0,    0],\n",
      "        [ 101,  178, 8222,  ...,    0,    0,    0]]), 'attention_mask': tensor([[1, 1, 1,  ..., 0, 0, 0],\n",
      "        [1, 1, 1,  ..., 0, 0, 0],\n",
      "        [1, 1, 1,  ..., 0, 0, 0],\n",
      "        ...,\n",
      "        [1, 1, 1,  ..., 0, 0, 0],\n",
      "        [1, 1, 1,  ..., 0, 0, 0],\n",
      "        [1, 1, 1,  ..., 0, 0, 0]])}\n",
      "{'label': tensor([0, 3, 1, 1, 0, 2, 0, 3, 0, 3, 3, 1, 1, 3, 0, 3]), 'input_ids': tensor([[ 101, 1113, 1361,  ...,    0,    0,    0],\n",
      "        [ 101, 1262, 1303,  ...,    0,    0,    0],\n",
      "        [ 101,  152, 1306,  ...,    0,    0,    0],\n",
      "        ...,\n",
      "        [ 101,  137, 4795,  ...,    0,    0,    0],\n",
      "        [ 101,  137, 4795,  ...,    0,    0,    0],\n",
      "        [ 101,  146, 1274,  ...,    0,    0,    0]]), 'attention_mask': tensor([[1, 1, 1,  ..., 0, 0, 0],\n",
      "        [1, 1, 1,  ..., 0, 0, 0],\n",
      "        [1, 1, 1,  ..., 0, 0, 0],\n",
      "        ...,\n",
      "        [1, 1, 1,  ..., 0, 0, 0],\n",
      "        [1, 1, 1,  ..., 0, 0, 0],\n",
      "        [1, 1, 1,  ..., 0, 0, 0]])}\n",
      "{'label': tensor([3, 1, 0, 0, 1, 0, 0, 3, 1, 1, 0, 0, 1, 3, 1, 1]), 'input_ids': tensor([[  101,  9681,  1293,  ...,     0,     0,     0],\n",
      "        [  101,  2562,  5438,  ...,     0,     0,     0],\n",
      "        [  101,  2453,  1274,  ...,     0,     0,     0],\n",
      "        ...,\n",
      "        [  101,   137,  4795,  ...,     0,     0,     0],\n",
      "        [  101,   108, 24534,  ...,     0,     0,     0],\n",
      "        [  101,   145,  2591,  ...,     0,     0,     0]]), 'attention_mask': tensor([[1, 1, 1,  ..., 0, 0, 0],\n",
      "        [1, 1, 1,  ..., 0, 0, 0],\n",
      "        [1, 1, 1,  ..., 0, 0, 0],\n",
      "        ...,\n",
      "        [1, 1, 1,  ..., 0, 0, 0],\n",
      "        [1, 1, 1,  ..., 0, 0, 0],\n",
      "        [1, 1, 1,  ..., 0, 0, 0]])}\n",
      "{'label': tensor([0, 0, 0, 0, 1, 3, 0, 0, 1, 0, 3, 3, 3, 0, 3, 3]), 'input_ids': tensor([[  101,   143,  9899,  ...,     0,     0,     0],\n",
      "        [  101,   137,  4795,  ...,     0,     0,     0],\n",
      "        [  101,  1191,  2256,  ...,     0,     0,     0],\n",
      "        ...,\n",
      "        [  101,   137,  4795,  ...,     0,     0,     0],\n",
      "        [  101, 11896, 13913,  ...,     0,     0,     0],\n",
      "        [  101,  2082,  1234,  ...,     0,     0,     0]]), 'attention_mask': tensor([[1, 1, 1,  ..., 0, 0, 0],\n",
      "        [1, 1, 1,  ..., 0, 0, 0],\n",
      "        [1, 1, 1,  ..., 0, 0, 0],\n",
      "        ...,\n",
      "        [1, 1, 1,  ..., 0, 0, 0],\n",
      "        [1, 1, 1,  ..., 0, 0, 0],\n",
      "        [1, 1, 1,  ..., 0, 0, 0]])}\n",
      "{'label': tensor([1, 0, 3, 0, 1, 0, 3, 0, 0, 0, 0, 3, 1, 2, 3, 0]), 'input_ids': tensor([[ 101,  137, 4795,  ...,    0,    0,    0],\n",
      "        [ 101,  137, 4795,  ...,    0,    0,    0],\n",
      "        [ 101, 4563, 1128,  ...,    0,    0,    0],\n",
      "        ...,\n",
      "        [ 101,  146, 1444,  ...,    0,    0,    0],\n",
      "        [ 101,  137, 4795,  ...,    0,    0,    0],\n",
      "        [ 101,  137, 4795,  ...,    0,    0,    0]]), 'attention_mask': tensor([[1, 1, 1,  ..., 0, 0, 0],\n",
      "        [1, 1, 1,  ..., 0, 0, 0],\n",
      "        [1, 1, 1,  ..., 0, 0, 0],\n",
      "        ...,\n",
      "        [1, 1, 1,  ..., 0, 0, 0],\n",
      "        [1, 1, 1,  ..., 0, 0, 0],\n",
      "        [1, 1, 1,  ..., 0, 0, 0]])}\n",
      "{'label': tensor([0, 3, 0, 3, 0, 1, 1, 3, 0, 3, 3, 0, 3, 0, 3, 1]), 'input_ids': tensor([[  101,  1409,  6356,  ...,     0,     0,     0],\n",
      "        [  101,   137,  4795,  ...,     0,     0,     0],\n",
      "        [  101, 10697,  1139,  ...,     0,     0,     0],\n",
      "        ...,\n",
      "        [  101,   178,  1125,  ...,     0,     0,     0],\n",
      "        [  101,   137,  4795,  ...,     0,     0,     0],\n",
      "        [  101,  1124,  2799,  ...,     0,     0,     0]]), 'attention_mask': tensor([[1, 1, 1,  ..., 0, 0, 0],\n",
      "        [1, 1, 1,  ..., 0, 0, 0],\n",
      "        [1, 1, 1,  ..., 0, 0, 0],\n",
      "        ...,\n",
      "        [1, 1, 1,  ..., 0, 0, 0],\n",
      "        [1, 1, 1,  ..., 0, 0, 0],\n",
      "        [1, 1, 1,  ..., 0, 0, 0]])}\n",
      "{'label': tensor([0, 1, 1, 0, 0, 0, 3, 0, 1, 3, 2, 2, 1, 0, 2, 0]), 'input_ids': tensor([[ 101,  137, 4795,  ...,    0,    0,    0],\n",
      "        [ 101, 1327, 1126,  ...,    0,    0,    0],\n",
      "        [ 101,  137, 4795,  ...,    0,    0,    0],\n",
      "        ...,\n",
      "        [ 101, 2066, 1125,  ...,    0,    0,    0],\n",
      "        [ 101,  137, 4795,  ...,    0,    0,    0],\n",
      "        [ 101, 1188, 9367,  ...,    0,    0,    0]]), 'attention_mask': tensor([[1, 1, 1,  ..., 0, 0, 0],\n",
      "        [1, 1, 1,  ..., 0, 0, 0],\n",
      "        [1, 1, 1,  ..., 0, 0, 0],\n",
      "        ...,\n",
      "        [1, 1, 1,  ..., 0, 0, 0],\n",
      "        [1, 1, 1,  ..., 0, 0, 0],\n",
      "        [1, 1, 1,  ..., 0, 0, 0]])}\n",
      "{'label': tensor([0, 0, 1, 1, 0, 1, 2, 0, 3, 0, 0, 3, 0, 0, 0, 0]), 'input_ids': tensor([[  101,   137,  4795,  ...,     0,     0,     0],\n",
      "        [  101,   137,  4795,  ...,     0,     0,     0],\n",
      "        [  101,  5833,  2559,  ...,     0,     0,     0],\n",
      "        ...,\n",
      "        [  101,   146,  1228,  ...,     0,     0,     0],\n",
      "        [  101,   108, 22155,  ...,     0,     0,     0],\n",
      "        [  101,  1135,   112,  ...,     0,     0,     0]]), 'attention_mask': tensor([[1, 1, 1,  ..., 0, 0, 0],\n",
      "        [1, 1, 1,  ..., 0, 0, 0],\n",
      "        [1, 1, 1,  ..., 0, 0, 0],\n",
      "        ...,\n",
      "        [1, 1, 1,  ..., 0, 0, 0],\n",
      "        [1, 1, 1,  ..., 0, 0, 0],\n",
      "        [1, 1, 1,  ..., 0, 0, 0]])}\n",
      "{'label': tensor([2, 3, 0, 3, 0, 3, 0, 3, 0, 3, 1, 0, 3, 0, 0, 0]), 'input_ids': tensor([[  101,  1409,   146,  ...,     0,     0,     0],\n",
      "        [  101,  1380, 12170,  ...,     0,     0,     0],\n",
      "        [  101,   137,  4795,  ...,     0,     0,     0],\n",
      "        ...,\n",
      "        [  101,   137,  4795,  ...,     0,     0,     0],\n",
      "        [  101,   108,   160,  ...,     0,     0,     0],\n",
      "        [  101, 27238,  1116,  ...,     0,     0,     0]]), 'attention_mask': tensor([[1, 1, 1,  ..., 0, 0, 0],\n",
      "        [1, 1, 1,  ..., 0, 0, 0],\n",
      "        [1, 1, 1,  ..., 0, 0, 0],\n",
      "        ...,\n",
      "        [1, 1, 1,  ..., 0, 0, 0],\n",
      "        [1, 1, 1,  ..., 0, 0, 0],\n",
      "        [1, 1, 1,  ..., 0, 0, 0]])}\n",
      "{'label': tensor([1, 0, 1, 1, 1, 3, 0, 0, 0, 0, 3, 0, 0, 2, 1, 3]), 'input_ids': tensor([[  101,   137,  4795,  ...,     0,     0,     0],\n",
      "        [  101,   137,  4795,  ...,     0,     0,     0],\n",
      "        [  101,  1145,  1150,  ...,     0,     0,     0],\n",
      "        ...,\n",
      "        [  101,  1103, 11333,  ...,     0,     0,     0],\n",
      "        [  101,   149, 13685,  ...,     0,     0,     0],\n",
      "        [  101,  1731,  1202,  ...,     0,     0,     0]]), 'attention_mask': tensor([[1, 1, 1,  ..., 0, 0, 0],\n",
      "        [1, 1, 1,  ..., 0, 0, 0],\n",
      "        [1, 1, 1,  ..., 0, 0, 0],\n",
      "        ...,\n",
      "        [1, 1, 1,  ..., 0, 0, 0],\n",
      "        [1, 1, 1,  ..., 0, 0, 0],\n",
      "        [1, 1, 1,  ..., 0, 0, 0]])}\n",
      "{'label': tensor([0, 3, 3, 3, 0, 1, 3, 3, 0, 3, 0, 1, 0, 3, 0, 2]), 'input_ids': tensor([[  101,   137,  4795,  ...,     0,     0,     0],\n",
      "        [  101,  1731,  1233,  ...,     0,     0,     0],\n",
      "        [  101,   146,  5529,  ...,     0,     0,     0],\n",
      "        ...,\n",
      "        [  101, 12956,  2490,  ...,     0,     0,     0],\n",
      "        [  101,   156, 24284,  ...,     0,     0,     0],\n",
      "        [  101, 12956,  5888,  ...,     0,     0,     0]]), 'attention_mask': tensor([[1, 1, 1,  ..., 0, 0, 0],\n",
      "        [1, 1, 1,  ..., 0, 0, 0],\n",
      "        [1, 1, 1,  ..., 0, 0, 0],\n",
      "        ...,\n",
      "        [1, 1, 1,  ..., 0, 0, 0],\n",
      "        [1, 1, 1,  ..., 0, 0, 0],\n",
      "        [1, 1, 1,  ..., 0, 0, 0]])}\n",
      "{'label': tensor([0, 1, 0, 3, 1, 1, 0, 0, 0, 0, 0, 0, 0, 0, 0, 1]), 'input_ids': tensor([[  101, 25725,  2070,  ...,     0,     0,     0],\n",
      "        [  101, 10817,  1158,  ...,     0,     0,     0],\n",
      "        [  101,   137,  4795,  ...,     0,     0,     0],\n",
      "        ...,\n",
      "        [  101,  1130,  5674,  ...,     0,     0,     0],\n",
      "        [  101,   137,  4795,  ...,     0,     0,     0],\n",
      "        [  101,  8572,  5938,  ...,     0,     0,     0]]), 'attention_mask': tensor([[1, 1, 1,  ..., 0, 0, 0],\n",
      "        [1, 1, 1,  ..., 0, 0, 0],\n",
      "        [1, 1, 1,  ..., 0, 0, 0],\n",
      "        ...,\n",
      "        [1, 1, 1,  ..., 0, 0, 0],\n",
      "        [1, 1, 1,  ..., 0, 0, 0],\n",
      "        [1, 1, 1,  ..., 0, 0, 0]])}\n",
      "{'label': tensor([0, 3, 0, 2, 3, 0, 3, 0, 3, 3, 1, 3, 1, 1, 3, 1]), 'input_ids': tensor([[  101, 22917,  1110,  ...,     0,     0,     0],\n",
      "        [  101,   137,  4795,  ...,     0,     0,     0],\n",
      "        [  101,   137,  4795,  ...,     0,     0,     0],\n",
      "        ...,\n",
      "        [  101,   146,  1276,  ...,     0,     0,     0],\n",
      "        [  101,   146,  4608,  ...,     0,     0,     0],\n",
      "        [  101,   137,  4795,  ...,     0,     0,     0]]), 'attention_mask': tensor([[1, 1, 1,  ..., 0, 0, 0],\n",
      "        [1, 1, 1,  ..., 0, 0, 0],\n",
      "        [1, 1, 1,  ..., 0, 0, 0],\n",
      "        ...,\n",
      "        [1, 1, 1,  ..., 0, 0, 0],\n",
      "        [1, 1, 1,  ..., 0, 0, 0],\n",
      "        [1, 1, 1,  ..., 0, 0, 0]])}\n",
      "{'label': tensor([2, 0, 0, 0, 0, 3, 3, 1, 1, 3, 0, 3, 1, 0, 3, 1]), 'input_ids': tensor([[ 101, 1262,  146,  ...,    0,    0,    0],\n",
      "        [ 101,  146, 5536,  ...,    0,    0,    0],\n",
      "        [ 101, 1109, 5102,  ...,    0,    0,    0],\n",
      "        ...,\n",
      "        [ 101, 1409,  146,  ...,    0,    0,    0],\n",
      "        [ 101,  137, 4795,  ...,    0,    0,    0],\n",
      "        [ 101,  137, 4795,  ...,    0,    0,    0]]), 'attention_mask': tensor([[1, 1, 1,  ..., 0, 0, 0],\n",
      "        [1, 1, 1,  ..., 0, 0, 0],\n",
      "        [1, 1, 1,  ..., 0, 0, 0],\n",
      "        ...,\n",
      "        [1, 1, 1,  ..., 0, 0, 0],\n",
      "        [1, 1, 1,  ..., 0, 0, 0],\n",
      "        [1, 1, 1,  ..., 0, 0, 0]])}\n",
      "{'label': tensor([3, 1, 0, 3, 3, 1, 0, 0, 0, 1, 1, 2, 0, 0, 0, 3]), 'input_ids': tensor([[ 101, 1177, 1575,  ...,    0,    0,    0],\n",
      "        [ 101, 1248, 2004,  ...,    0,    0,    0],\n",
      "        [ 101,  137, 4795,  ...,    0,    0,    0],\n",
      "        ...,\n",
      "        [ 101,  146, 1274,  ...,    0,    0,    0],\n",
      "        [ 101,  155, 2107,  ...,    0,    0,    0],\n",
      "        [ 101, 5875, 1109,  ...,    0,    0,    0]]), 'attention_mask': tensor([[1, 1, 1,  ..., 0, 0, 0],\n",
      "        [1, 1, 1,  ..., 0, 0, 0],\n",
      "        [1, 1, 1,  ..., 0, 0, 0],\n",
      "        ...,\n",
      "        [1, 1, 1,  ..., 0, 0, 0],\n",
      "        [1, 1, 1,  ..., 0, 0, 0],\n",
      "        [1, 1, 1,  ..., 0, 0, 0]])}\n",
      "{'label': tensor([1, 1, 1, 1, 0, 3, 0, 0, 0, 0, 0, 0, 1, 1, 0, 0]), 'input_ids': tensor([[  101,   108, 26834,  ...,     0,     0,     0],\n",
      "        [  101,   146,   112,  ...,     0,     0,     0],\n",
      "        [  101,  4916,  5250,  ...,     0,     0,     0],\n",
      "        ...,\n",
      "        [  101,   137,  4795,  ...,     0,     0,     0],\n",
      "        [  101,  1252,  1142,  ...,     0,     0,     0],\n",
      "        [  101,  2009,   170,  ...,     0,     0,     0]]), 'attention_mask': tensor([[1, 1, 1,  ..., 0, 0, 0],\n",
      "        [1, 1, 1,  ..., 0, 0, 0],\n",
      "        [1, 1, 1,  ..., 0, 0, 0],\n",
      "        ...,\n",
      "        [1, 1, 1,  ..., 0, 0, 0],\n",
      "        [1, 1, 1,  ..., 0, 0, 0],\n",
      "        [1, 1, 1,  ..., 0, 0, 0]])}\n",
      "{'label': tensor([1, 3, 1, 2, 0, 3, 0, 3, 0, 3, 1, 0, 0, 0, 1, 0]), 'input_ids': tensor([[  101,   137,  4795,  ...,     0,     0,     0],\n",
      "        [  101,  3458,  2803,  ...,     0,     0,     0],\n",
      "        [  101,  1109, 23558,  ...,     0,     0,     0],\n",
      "        ...,\n",
      "        [  101,  1188,  3073,  ...,     0,     0,     0],\n",
      "        [  101, 26615,   185,  ...,     0,     0,     0],\n",
      "        [  101,  3570,  1108,  ...,     0,     0,     0]]), 'attention_mask': tensor([[1, 1, 1,  ..., 0, 0, 0],\n",
      "        [1, 1, 1,  ..., 0, 0, 0],\n",
      "        [1, 1, 1,  ..., 0, 0, 0],\n",
      "        ...,\n",
      "        [1, 1, 1,  ..., 0, 0, 0],\n",
      "        [1, 1, 1,  ..., 0, 0, 0],\n",
      "        [1, 1, 1,  ..., 0, 0, 0]])}\n",
      "{'label': tensor([0, 0, 0, 3, 0, 1, 2, 2, 3]), 'input_ids': tensor([[  101,   137,  4795,  ...,     0,     0,     0],\n",
      "        [  101,   137,  4795,  ...,     0,     0,     0],\n",
      "        [  101, 10259, 11078,  ...,     0,     0,     0],\n",
      "        ...,\n",
      "        [  101,  1192,  1132,  ...,     0,     0,     0],\n",
      "        [  101,   170,   108,  ...,     0,     0,     0],\n",
      "        [  101,   138,   150,  ...,     0,     0,     0]]), 'attention_mask': tensor([[1, 1, 1,  ..., 0, 0, 0],\n",
      "        [1, 1, 1,  ..., 0, 0, 0],\n",
      "        [1, 1, 1,  ..., 0, 0, 0],\n",
      "        ...,\n",
      "        [1, 1, 1,  ..., 0, 0, 0],\n",
      "        [1, 1, 1,  ..., 0, 0, 0],\n",
      "        [1, 1, 1,  ..., 0, 0, 0]])}\n"
     ]
    }
   ],
   "source": [
    "for batch in train_loader:\n",
    "    print(batch)\n"
   ],
   "metadata": {
    "collapsed": false
   }
  },
  {
   "cell_type": "code",
   "execution_count": 26,
   "outputs": [
    {
     "name": "stderr",
     "output_type": "stream",
     "text": [
      "Epoch 1/1:   0%|          | 1/204 [00:17<57:31, 17.00s/it]"
     ]
    },
    {
     "name": "stdout",
     "output_type": "stream",
     "text": [
      "Train Loss: 0.007, Train Acc: 0.438\r"
     ]
    },
    {
     "name": "stderr",
     "output_type": "stream",
     "text": [
      "Epoch 1/1:   1%|          | 2/204 [00:32<53:34, 15.91s/it]"
     ]
    },
    {
     "name": "stdout",
     "output_type": "stream",
     "text": [
      "Train Loss: 0.013, Train Acc: 0.500\r"
     ]
    },
    {
     "name": "stderr",
     "output_type": "stream",
     "text": [
      "Epoch 1/1:   1%|▏         | 3/204 [00:46<51:18, 15.32s/it]"
     ]
    },
    {
     "name": "stdout",
     "output_type": "stream",
     "text": [
      "Train Loss: 0.020, Train Acc: 0.479\r"
     ]
    },
    {
     "name": "stderr",
     "output_type": "stream",
     "text": [
      "Epoch 1/1:   2%|▏         | 4/204 [01:00<49:16, 14.78s/it]"
     ]
    },
    {
     "name": "stdout",
     "output_type": "stream",
     "text": [
      "Train Loss: 0.033, Train Acc: 0.406\r"
     ]
    },
    {
     "name": "stderr",
     "output_type": "stream",
     "text": [
      "Epoch 1/1:   2%|▏         | 5/204 [01:14<48:09, 14.52s/it]"
     ]
    },
    {
     "name": "stdout",
     "output_type": "stream",
     "text": [
      "Train Loss: 0.041, Train Acc: 0.375\r"
     ]
    },
    {
     "name": "stderr",
     "output_type": "stream",
     "text": [
      "Epoch 1/1:   3%|▎         | 6/204 [01:29<48:32, 14.71s/it]"
     ]
    },
    {
     "name": "stdout",
     "output_type": "stream",
     "text": [
      "Train Loss: 0.049, Train Acc: 0.333\r"
     ]
    },
    {
     "name": "stderr",
     "output_type": "stream",
     "text": [
      "Epoch 1/1:   3%|▎         | 7/204 [01:47<51:51, 15.79s/it]"
     ]
    },
    {
     "name": "stdout",
     "output_type": "stream",
     "text": [
      "Train Loss: 0.056, Train Acc: 0.339\r"
     ]
    },
    {
     "name": "stderr",
     "output_type": "stream",
     "text": [
      "Epoch 1/1:   4%|▍         | 8/204 [02:04<52:12, 15.98s/it]"
     ]
    },
    {
     "name": "stdout",
     "output_type": "stream",
     "text": [
      "Train Loss: 0.063, Train Acc: 0.344\r"
     ]
    },
    {
     "name": "stderr",
     "output_type": "stream",
     "text": [
      "Epoch 1/1:   4%|▍         | 9/204 [02:19<51:11, 15.75s/it]"
     ]
    },
    {
     "name": "stdout",
     "output_type": "stream",
     "text": [
      "Train Loss: 0.075, Train Acc: 0.340\r"
     ]
    },
    {
     "name": "stderr",
     "output_type": "stream",
     "text": [
      "Epoch 1/1:   5%|▍         | 10/204 [02:38<53:55, 16.68s/it]"
     ]
    },
    {
     "name": "stdout",
     "output_type": "stream",
     "text": [
      "Train Loss: 0.084, Train Acc: 0.331\r"
     ]
    },
    {
     "name": "stderr",
     "output_type": "stream",
     "text": [
      "Epoch 1/1:   5%|▌         | 11/204 [03:01<59:45, 18.58s/it]"
     ]
    },
    {
     "name": "stdout",
     "output_type": "stream",
     "text": [
      "Train Loss: 0.098, Train Acc: 0.341\r"
     ]
    },
    {
     "name": "stderr",
     "output_type": "stream",
     "text": [
      "Epoch 1/1:   6%|▌         | 12/204 [03:25<1:04:51, 20.27s/it]"
     ]
    },
    {
     "name": "stdout",
     "output_type": "stream",
     "text": [
      "Train Loss: 0.110, Train Acc: 0.312\r"
     ]
    },
    {
     "name": "stderr",
     "output_type": "stream",
     "text": [
      "Epoch 1/1:   6%|▋         | 13/204 [03:52<1:11:06, 22.34s/it]"
     ]
    },
    {
     "name": "stdout",
     "output_type": "stream",
     "text": [
      "Train Loss: 0.117, Train Acc: 0.298\r"
     ]
    },
    {
     "name": "stderr",
     "output_type": "stream",
     "text": [
      "Epoch 1/1:   7%|▋         | 14/204 [04:15<1:11:45, 22.66s/it]"
     ]
    },
    {
     "name": "stdout",
     "output_type": "stream",
     "text": [
      "Train Loss: 0.124, Train Acc: 0.304\r"
     ]
    },
    {
     "name": "stderr",
     "output_type": "stream",
     "text": [
      "Epoch 1/1:   7%|▋         | 15/204 [04:39<1:12:34, 23.04s/it]"
     ]
    },
    {
     "name": "stdout",
     "output_type": "stream",
     "text": [
      "Train Loss: 0.131, Train Acc: 0.312\r"
     ]
    },
    {
     "name": "stderr",
     "output_type": "stream",
     "text": [
      "Epoch 1/1:   8%|▊         | 16/204 [05:03<1:12:54, 23.27s/it]"
     ]
    },
    {
     "name": "stdout",
     "output_type": "stream",
     "text": [
      "Train Loss: 0.142, Train Acc: 0.305\r"
     ]
    },
    {
     "name": "stderr",
     "output_type": "stream",
     "text": [
      "Epoch 1/1:   8%|▊         | 17/204 [05:26<1:12:23, 23.23s/it]"
     ]
    },
    {
     "name": "stdout",
     "output_type": "stream",
     "text": [
      "Train Loss: 0.148, Train Acc: 0.309\r"
     ]
    },
    {
     "name": "stderr",
     "output_type": "stream",
     "text": [
      "Epoch 1/1:   9%|▉         | 18/204 [05:49<1:11:55, 23.20s/it]"
     ]
    },
    {
     "name": "stdout",
     "output_type": "stream",
     "text": [
      "Train Loss: 0.155, Train Acc: 0.323\r"
     ]
    },
    {
     "name": "stderr",
     "output_type": "stream",
     "text": [
      "Epoch 1/1:   9%|▉         | 19/204 [06:13<1:11:34, 23.21s/it]"
     ]
    },
    {
     "name": "stdout",
     "output_type": "stream",
     "text": [
      "Train Loss: 0.161, Train Acc: 0.332\r"
     ]
    },
    {
     "name": "stderr",
     "output_type": "stream",
     "text": [
      "Epoch 1/1:  10%|▉         | 20/204 [06:36<1:11:26, 23.30s/it]"
     ]
    },
    {
     "name": "stdout",
     "output_type": "stream",
     "text": [
      "Train Loss: 0.168, Train Acc: 0.338\r"
     ]
    },
    {
     "name": "stderr",
     "output_type": "stream",
     "text": [
      "Epoch 1/1:  10%|█         | 21/204 [07:04<1:14:58, 24.58s/it]"
     ]
    },
    {
     "name": "stdout",
     "output_type": "stream",
     "text": [
      "Train Loss: 0.175, Train Acc: 0.339\r"
     ]
    },
    {
     "name": "stderr",
     "output_type": "stream",
     "text": [
      "Epoch 1/1:  11%|█         | 22/204 [07:27<1:13:19, 24.18s/it]"
     ]
    },
    {
     "name": "stdout",
     "output_type": "stream",
     "text": [
      "Train Loss: 0.181, Train Acc: 0.349\r"
     ]
    },
    {
     "name": "stderr",
     "output_type": "stream",
     "text": [
      "Epoch 1/1:  11%|█▏        | 23/204 [07:50<1:12:12, 23.94s/it]"
     ]
    },
    {
     "name": "stdout",
     "output_type": "stream",
     "text": [
      "Train Loss: 0.189, Train Acc: 0.342\r"
     ]
    },
    {
     "name": "stderr",
     "output_type": "stream",
     "text": [
      "Epoch 1/1:  12%|█▏        | 24/204 [08:14<1:11:44, 23.91s/it]"
     ]
    },
    {
     "name": "stdout",
     "output_type": "stream",
     "text": [
      "Train Loss: 0.196, Train Acc: 0.339\r"
     ]
    },
    {
     "name": "stderr",
     "output_type": "stream",
     "text": [
      "Epoch 1/1:  12%|█▏        | 25/204 [08:37<1:10:46, 23.72s/it]"
     ]
    },
    {
     "name": "stdout",
     "output_type": "stream",
     "text": [
      "Train Loss: 0.202, Train Acc: 0.343\r"
     ]
    },
    {
     "name": "stderr",
     "output_type": "stream",
     "text": [
      "Epoch 1/1:  13%|█▎        | 26/204 [09:01<1:10:18, 23.70s/it]"
     ]
    },
    {
     "name": "stdout",
     "output_type": "stream",
     "text": [
      "Train Loss: 0.208, Train Acc: 0.351\r"
     ]
    },
    {
     "name": "stderr",
     "output_type": "stream",
     "text": [
      "Epoch 1/1:  13%|█▎        | 27/204 [09:24<1:09:36, 23.60s/it]"
     ]
    },
    {
     "name": "stdout",
     "output_type": "stream",
     "text": [
      "Train Loss: 0.214, Train Acc: 0.356\r"
     ]
    },
    {
     "name": "stderr",
     "output_type": "stream",
     "text": [
      "Epoch 1/1:  14%|█▎        | 28/204 [09:47<1:08:42, 23.42s/it]"
     ]
    },
    {
     "name": "stdout",
     "output_type": "stream",
     "text": [
      "Train Loss: 0.221, Train Acc: 0.357\r"
     ]
    },
    {
     "name": "stderr",
     "output_type": "stream",
     "text": [
      "Epoch 1/1:  14%|█▍        | 29/204 [10:11<1:08:08, 23.36s/it]"
     ]
    },
    {
     "name": "stdout",
     "output_type": "stream",
     "text": [
      "Train Loss: 0.228, Train Acc: 0.360\r"
     ]
    },
    {
     "name": "stderr",
     "output_type": "stream",
     "text": [
      "Epoch 1/1:  15%|█▍        | 30/204 [10:34<1:07:44, 23.36s/it]"
     ]
    },
    {
     "name": "stdout",
     "output_type": "stream",
     "text": [
      "Train Loss: 0.234, Train Acc: 0.362\r"
     ]
    },
    {
     "name": "stderr",
     "output_type": "stream",
     "text": [
      "Epoch 1/1:  15%|█▌        | 31/204 [10:57<1:07:20, 23.36s/it]"
     ]
    },
    {
     "name": "stdout",
     "output_type": "stream",
     "text": [
      "Train Loss: 0.240, Train Acc: 0.367\r"
     ]
    },
    {
     "name": "stderr",
     "output_type": "stream",
     "text": [
      "Epoch 1/1:  16%|█▌        | 32/204 [11:21<1:06:53, 23.34s/it]"
     ]
    },
    {
     "name": "stdout",
     "output_type": "stream",
     "text": [
      "Train Loss: 0.247, Train Acc: 0.365\r"
     ]
    },
    {
     "name": "stderr",
     "output_type": "stream",
     "text": [
      "Epoch 1/1:  16%|█▌        | 33/204 [11:44<1:06:39, 23.39s/it]"
     ]
    },
    {
     "name": "stdout",
     "output_type": "stream",
     "text": [
      "Train Loss: 0.253, Train Acc: 0.366\r"
     ]
    },
    {
     "name": "stderr",
     "output_type": "stream",
     "text": [
      "Epoch 1/1:  17%|█▋        | 34/204 [12:08<1:06:30, 23.47s/it]"
     ]
    },
    {
     "name": "stdout",
     "output_type": "stream",
     "text": [
      "Train Loss: 0.259, Train Acc: 0.371\r"
     ]
    },
    {
     "name": "stderr",
     "output_type": "stream",
     "text": [
      "Epoch 1/1:  17%|█▋        | 35/204 [12:31<1:06:01, 23.44s/it]"
     ]
    },
    {
     "name": "stdout",
     "output_type": "stream",
     "text": [
      "Train Loss: 0.269, Train Acc: 0.362\r"
     ]
    },
    {
     "name": "stderr",
     "output_type": "stream",
     "text": [
      "Epoch 1/1:  18%|█▊        | 36/204 [12:54<1:05:28, 23.38s/it]"
     ]
    },
    {
     "name": "stdout",
     "output_type": "stream",
     "text": [
      "Train Loss: 0.277, Train Acc: 0.354\r"
     ]
    },
    {
     "name": "stderr",
     "output_type": "stream",
     "text": [
      "Epoch 1/1:  18%|█▊        | 37/204 [13:18<1:04:53, 23.31s/it]"
     ]
    },
    {
     "name": "stdout",
     "output_type": "stream",
     "text": [
      "Train Loss: 0.283, Train Acc: 0.361\r"
     ]
    },
    {
     "name": "stderr",
     "output_type": "stream",
     "text": [
      "Epoch 1/1:  19%|█▊        | 38/204 [13:41<1:04:21, 23.26s/it]"
     ]
    },
    {
     "name": "stdout",
     "output_type": "stream",
     "text": [
      "Train Loss: 0.291, Train Acc: 0.362\r"
     ]
    },
    {
     "name": "stderr",
     "output_type": "stream",
     "text": [
      "Epoch 1/1:  19%|█▉        | 39/204 [14:04<1:03:53, 23.23s/it]"
     ]
    },
    {
     "name": "stdout",
     "output_type": "stream",
     "text": [
      "Train Loss: 0.298, Train Acc: 0.365\r"
     ]
    },
    {
     "name": "stderr",
     "output_type": "stream",
     "text": [
      "Epoch 1/1:  20%|█▉        | 40/204 [14:28<1:04:19, 23.53s/it]"
     ]
    },
    {
     "name": "stdout",
     "output_type": "stream",
     "text": [
      "Train Loss: 0.304, Train Acc: 0.366\r"
     ]
    },
    {
     "name": "stderr",
     "output_type": "stream",
     "text": [
      "Epoch 1/1:  20%|██        | 41/204 [14:51<1:03:34, 23.40s/it]"
     ]
    },
    {
     "name": "stdout",
     "output_type": "stream",
     "text": [
      "Train Loss: 0.311, Train Acc: 0.360\r"
     ]
    },
    {
     "name": "stderr",
     "output_type": "stream",
     "text": [
      "Epoch 1/1:  21%|██        | 42/204 [15:14<1:02:59, 23.33s/it]"
     ]
    },
    {
     "name": "stdout",
     "output_type": "stream",
     "text": [
      "Train Loss: 0.317, Train Acc: 0.360\r"
     ]
    },
    {
     "name": "stderr",
     "output_type": "stream",
     "text": [
      "Epoch 1/1:  21%|██        | 43/204 [15:38<1:02:32, 23.30s/it]"
     ]
    },
    {
     "name": "stdout",
     "output_type": "stream",
     "text": [
      "Train Loss: 0.324, Train Acc: 0.356\r"
     ]
    },
    {
     "name": "stderr",
     "output_type": "stream",
     "text": [
      "Epoch 1/1:  22%|██▏       | 44/204 [16:02<1:02:52, 23.58s/it]"
     ]
    },
    {
     "name": "stdout",
     "output_type": "stream",
     "text": [
      "Train Loss: 0.331, Train Acc: 0.355\r"
     ]
    },
    {
     "name": "stderr",
     "output_type": "stream",
     "text": [
      "Epoch 1/1:  22%|██▏       | 45/204 [16:25<1:02:07, 23.44s/it]"
     ]
    },
    {
     "name": "stdout",
     "output_type": "stream",
     "text": [
      "Train Loss: 0.340, Train Acc: 0.353\r"
     ]
    },
    {
     "name": "stderr",
     "output_type": "stream",
     "text": [
      "Epoch 1/1:  23%|██▎       | 46/204 [16:48<1:01:42, 23.43s/it]"
     ]
    },
    {
     "name": "stdout",
     "output_type": "stream",
     "text": [
      "Train Loss: 0.348, Train Acc: 0.352\r"
     ]
    },
    {
     "name": "stderr",
     "output_type": "stream",
     "text": [
      "Epoch 1/1:  23%|██▎       | 47/204 [17:12<1:01:15, 23.41s/it]"
     ]
    },
    {
     "name": "stdout",
     "output_type": "stream",
     "text": [
      "Train Loss: 0.355, Train Acc: 0.348\r"
     ]
    },
    {
     "name": "stderr",
     "output_type": "stream",
     "text": [
      "Epoch 1/1:  24%|██▎       | 48/204 [17:35<1:00:52, 23.41s/it]"
     ]
    },
    {
     "name": "stdout",
     "output_type": "stream",
     "text": [
      "Train Loss: 0.362, Train Acc: 0.346\r"
     ]
    },
    {
     "name": "stderr",
     "output_type": "stream",
     "text": [
      "Epoch 1/1:  24%|██▍       | 49/204 [17:58<1:00:25, 23.39s/it]"
     ]
    },
    {
     "name": "stdout",
     "output_type": "stream",
     "text": [
      "Train Loss: 0.368, Train Acc: 0.346\r"
     ]
    },
    {
     "name": "stderr",
     "output_type": "stream",
     "text": [
      "Epoch 1/1:  25%|██▍       | 50/204 [18:22<59:55, 23.35s/it]  "
     ]
    },
    {
     "name": "stdout",
     "output_type": "stream",
     "text": [
      "Train Loss: 0.375, Train Acc: 0.346\r"
     ]
    },
    {
     "name": "stderr",
     "output_type": "stream",
     "text": [
      "Epoch 1/1:  25%|██▌       | 51/204 [18:45<59:18, 23.26s/it]"
     ]
    },
    {
     "name": "stdout",
     "output_type": "stream",
     "text": [
      "Train Loss: 0.383, Train Acc: 0.344\r"
     ]
    },
    {
     "name": "stderr",
     "output_type": "stream",
     "text": [
      "Epoch 1/1:  25%|██▌       | 52/204 [19:08<58:58, 23.28s/it]"
     ]
    },
    {
     "name": "stdout",
     "output_type": "stream",
     "text": [
      "Train Loss: 0.391, Train Acc: 0.343\r"
     ]
    },
    {
     "name": "stderr",
     "output_type": "stream",
     "text": [
      "Epoch 1/1:  26%|██▌       | 53/204 [19:31<58:35, 23.28s/it]"
     ]
    },
    {
     "name": "stdout",
     "output_type": "stream",
     "text": [
      "Train Loss: 0.397, Train Acc: 0.346\r"
     ]
    },
    {
     "name": "stderr",
     "output_type": "stream",
     "text": [
      "Epoch 1/1:  26%|██▋       | 54/204 [19:54<58:03, 23.22s/it]"
     ]
    },
    {
     "name": "stdout",
     "output_type": "stream",
     "text": [
      "Train Loss: 0.404, Train Acc: 0.345\r"
     ]
    },
    {
     "name": "stderr",
     "output_type": "stream",
     "text": [
      "Epoch 1/1:  27%|██▋       | 55/204 [20:19<58:38, 23.62s/it]"
     ]
    },
    {
     "name": "stdout",
     "output_type": "stream",
     "text": [
      "Train Loss: 0.411, Train Acc: 0.345\r"
     ]
    },
    {
     "name": "stderr",
     "output_type": "stream",
     "text": [
      "Epoch 1/1:  27%|██▋       | 56/204 [20:44<59:21, 24.06s/it]"
     ]
    },
    {
     "name": "stdout",
     "output_type": "stream",
     "text": [
      "Train Loss: 0.418, Train Acc: 0.342\r"
     ]
    },
    {
     "name": "stderr",
     "output_type": "stream",
     "text": [
      "Epoch 1/1:  28%|██▊       | 57/204 [21:07<58:26, 23.85s/it]"
     ]
    },
    {
     "name": "stdout",
     "output_type": "stream",
     "text": [
      "Train Loss: 0.425, Train Acc: 0.340\r"
     ]
    },
    {
     "name": "stderr",
     "output_type": "stream",
     "text": [
      "Epoch 1/1:  28%|██▊       | 58/204 [21:31<57:29, 23.63s/it]"
     ]
    },
    {
     "name": "stdout",
     "output_type": "stream",
     "text": [
      "Train Loss: 0.431, Train Acc: 0.338\r"
     ]
    },
    {
     "name": "stderr",
     "output_type": "stream",
     "text": [
      "Epoch 1/1:  29%|██▉       | 59/204 [21:54<56:55, 23.56s/it]"
     ]
    },
    {
     "name": "stdout",
     "output_type": "stream",
     "text": [
      "Train Loss: 0.437, Train Acc: 0.339\r"
     ]
    },
    {
     "name": "stderr",
     "output_type": "stream",
     "text": [
      "Epoch 1/1:  29%|██▉       | 60/204 [22:17<56:26, 23.51s/it]"
     ]
    },
    {
     "name": "stdout",
     "output_type": "stream",
     "text": [
      "Train Loss: 0.444, Train Acc: 0.338\r"
     ]
    },
    {
     "name": "stderr",
     "output_type": "stream",
     "text": [
      "Epoch 1/1:  30%|██▉       | 61/204 [22:41<55:59, 23.50s/it]"
     ]
    },
    {
     "name": "stdout",
     "output_type": "stream",
     "text": [
      "Train Loss: 0.450, Train Acc: 0.337\r"
     ]
    },
    {
     "name": "stderr",
     "output_type": "stream",
     "text": [
      "Epoch 1/1:  30%|███       | 62/204 [23:04<55:37, 23.50s/it]"
     ]
    },
    {
     "name": "stdout",
     "output_type": "stream",
     "text": [
      "Train Loss: 0.456, Train Acc: 0.337\r"
     ]
    },
    {
     "name": "stderr",
     "output_type": "stream",
     "text": [
      "Epoch 1/1:  31%|███       | 63/204 [23:33<58:32, 24.91s/it]"
     ]
    },
    {
     "name": "stdout",
     "output_type": "stream",
     "text": [
      "Train Loss: 0.462, Train Acc: 0.338\r"
     ]
    },
    {
     "name": "stderr",
     "output_type": "stream",
     "text": [
      "Epoch 1/1:  31%|███▏      | 64/204 [23:56<57:13, 24.52s/it]"
     ]
    },
    {
     "name": "stdout",
     "output_type": "stream",
     "text": [
      "Train Loss: 0.469, Train Acc: 0.342\r"
     ]
    },
    {
     "name": "stderr",
     "output_type": "stream",
     "text": [
      "Epoch 1/1:  32%|███▏      | 65/204 [24:19<55:44, 24.06s/it]"
     ]
    },
    {
     "name": "stdout",
     "output_type": "stream",
     "text": [
      "Train Loss: 0.474, Train Acc: 0.346\r"
     ]
    },
    {
     "name": "stderr",
     "output_type": "stream",
     "text": [
      "Epoch 1/1:  32%|███▏      | 66/204 [24:43<55:01, 23.92s/it]"
     ]
    },
    {
     "name": "stdout",
     "output_type": "stream",
     "text": [
      "Train Loss: 0.482, Train Acc: 0.346\r"
     ]
    },
    {
     "name": "stderr",
     "output_type": "stream",
     "text": [
      "Epoch 1/1:  33%|███▎      | 67/204 [25:06<54:00, 23.65s/it]"
     ]
    },
    {
     "name": "stdout",
     "output_type": "stream",
     "text": [
      "Train Loss: 0.489, Train Acc: 0.347\r"
     ]
    },
    {
     "name": "stderr",
     "output_type": "stream",
     "text": [
      "Epoch 1/1:  33%|███▎      | 68/204 [25:29<53:11, 23.47s/it]"
     ]
    },
    {
     "name": "stdout",
     "output_type": "stream",
     "text": [
      "Train Loss: 0.496, Train Acc: 0.348\r"
     ]
    },
    {
     "name": "stderr",
     "output_type": "stream",
     "text": [
      "Epoch 1/1:  34%|███▍      | 69/204 [25:52<52:21, 23.27s/it]"
     ]
    },
    {
     "name": "stdout",
     "output_type": "stream",
     "text": [
      "Train Loss: 0.502, Train Acc: 0.351\r"
     ]
    },
    {
     "name": "stderr",
     "output_type": "stream",
     "text": [
      "Epoch 1/1:  34%|███▍      | 70/204 [26:15<52:17, 23.41s/it]"
     ]
    },
    {
     "name": "stdout",
     "output_type": "stream",
     "text": [
      "Train Loss: 0.508, Train Acc: 0.350\r"
     ]
    },
    {
     "name": "stderr",
     "output_type": "stream",
     "text": [
      "Epoch 1/1:  35%|███▍      | 71/204 [26:38<51:38, 23.29s/it]"
     ]
    },
    {
     "name": "stdout",
     "output_type": "stream",
     "text": [
      "Train Loss: 0.515, Train Acc: 0.348\r"
     ]
    },
    {
     "name": "stderr",
     "output_type": "stream",
     "text": [
      "Epoch 1/1:  35%|███▌      | 72/204 [27:01<51:08, 23.25s/it]"
     ]
    },
    {
     "name": "stdout",
     "output_type": "stream",
     "text": [
      "Train Loss: 0.522, Train Acc: 0.346\r"
     ]
    },
    {
     "name": "stderr",
     "output_type": "stream",
     "text": [
      "Epoch 1/1:  36%|███▌      | 73/204 [27:25<50:39, 23.20s/it]"
     ]
    },
    {
     "name": "stdout",
     "output_type": "stream",
     "text": [
      "Train Loss: 0.530, Train Acc: 0.345\r"
     ]
    },
    {
     "name": "stderr",
     "output_type": "stream",
     "text": [
      "Epoch 1/1:  36%|███▋      | 74/204 [27:48<50:21, 23.24s/it]"
     ]
    },
    {
     "name": "stdout",
     "output_type": "stream",
     "text": [
      "Train Loss: 0.536, Train Acc: 0.345\r"
     ]
    },
    {
     "name": "stderr",
     "output_type": "stream",
     "text": [
      "Epoch 1/1:  37%|███▋      | 75/204 [28:11<49:51, 23.19s/it]"
     ]
    },
    {
     "name": "stdout",
     "output_type": "stream",
     "text": [
      "Train Loss: 0.543, Train Acc: 0.341\r"
     ]
    },
    {
     "name": "stderr",
     "output_type": "stream",
     "text": [
      "Epoch 1/1:  37%|███▋      | 76/204 [28:34<49:24, 23.16s/it]"
     ]
    },
    {
     "name": "stdout",
     "output_type": "stream",
     "text": [
      "Train Loss: 0.549, Train Acc: 0.342\r"
     ]
    },
    {
     "name": "stderr",
     "output_type": "stream",
     "text": [
      "Epoch 1/1:  38%|███▊      | 77/204 [28:57<49:05, 23.19s/it]"
     ]
    },
    {
     "name": "stdout",
     "output_type": "stream",
     "text": [
      "Train Loss: 0.556, Train Acc: 0.342\r"
     ]
    },
    {
     "name": "stderr",
     "output_type": "stream",
     "text": [
      "Epoch 1/1:  38%|███▊      | 78/204 [29:20<48:40, 23.18s/it]"
     ]
    },
    {
     "name": "stdout",
     "output_type": "stream",
     "text": [
      "Train Loss: 0.563, Train Acc: 0.341\r"
     ]
    },
    {
     "name": "stderr",
     "output_type": "stream",
     "text": [
      "Epoch 1/1:  39%|███▊      | 79/204 [29:45<48:54, 23.48s/it]"
     ]
    },
    {
     "name": "stdout",
     "output_type": "stream",
     "text": [
      "Train Loss: 0.569, Train Acc: 0.341\r"
     ]
    },
    {
     "name": "stderr",
     "output_type": "stream",
     "text": [
      "Epoch 1/1:  39%|███▉      | 80/204 [30:08<48:22, 23.41s/it]"
     ]
    },
    {
     "name": "stdout",
     "output_type": "stream",
     "text": [
      "Train Loss: 0.575, Train Acc: 0.341\r"
     ]
    },
    {
     "name": "stderr",
     "output_type": "stream",
     "text": [
      "Epoch 1/1:  40%|███▉      | 81/204 [30:31<47:46, 23.31s/it]"
     ]
    },
    {
     "name": "stdout",
     "output_type": "stream",
     "text": [
      "Train Loss: 0.581, Train Acc: 0.343\r"
     ]
    },
    {
     "name": "stderr",
     "output_type": "stream",
     "text": [
      "Epoch 1/1:  40%|████      | 82/204 [30:54<47:20, 23.28s/it]"
     ]
    },
    {
     "name": "stdout",
     "output_type": "stream",
     "text": [
      "Train Loss: 0.587, Train Acc: 0.344\r"
     ]
    },
    {
     "name": "stderr",
     "output_type": "stream",
     "text": [
      "Epoch 1/1:  41%|████      | 83/204 [31:18<47:01, 23.32s/it]"
     ]
    },
    {
     "name": "stdout",
     "output_type": "stream",
     "text": [
      "Train Loss: 0.593, Train Acc: 0.346\r"
     ]
    },
    {
     "name": "stderr",
     "output_type": "stream",
     "text": [
      "Epoch 1/1:  41%|████      | 84/204 [31:41<46:34, 23.29s/it]"
     ]
    },
    {
     "name": "stdout",
     "output_type": "stream",
     "text": [
      "Train Loss: 0.600, Train Acc: 0.347\r"
     ]
    },
    {
     "name": "stderr",
     "output_type": "stream",
     "text": [
      "Epoch 1/1:  42%|████▏     | 85/204 [32:04<46:07, 23.26s/it]"
     ]
    },
    {
     "name": "stdout",
     "output_type": "stream",
     "text": [
      "Train Loss: 0.606, Train Acc: 0.349\r"
     ]
    },
    {
     "name": "stderr",
     "output_type": "stream",
     "text": [
      "Epoch 1/1:  42%|████▏     | 86/204 [32:27<45:45, 23.27s/it]"
     ]
    },
    {
     "name": "stdout",
     "output_type": "stream",
     "text": [
      "Train Loss: 0.612, Train Acc: 0.352\r"
     ]
    },
    {
     "name": "stderr",
     "output_type": "stream",
     "text": [
      "Epoch 1/1:  43%|████▎     | 87/204 [32:51<45:26, 23.30s/it]"
     ]
    },
    {
     "name": "stdout",
     "output_type": "stream",
     "text": [
      "Train Loss: 0.617, Train Acc: 0.356\r"
     ]
    },
    {
     "name": "stderr",
     "output_type": "stream",
     "text": [
      "Epoch 1/1:  43%|████▎     | 88/204 [33:14<44:58, 23.27s/it]"
     ]
    },
    {
     "name": "stdout",
     "output_type": "stream",
     "text": [
      "Train Loss: 0.623, Train Acc: 0.359\r"
     ]
    },
    {
     "name": "stderr",
     "output_type": "stream",
     "text": [
      "Epoch 1/1:  44%|████▎     | 89/204 [33:37<44:35, 23.27s/it]"
     ]
    },
    {
     "name": "stdout",
     "output_type": "stream",
     "text": [
      "Train Loss: 0.628, Train Acc: 0.361\r"
     ]
    },
    {
     "name": "stderr",
     "output_type": "stream",
     "text": [
      "Epoch 1/1:  44%|████▍     | 90/204 [34:00<44:13, 23.27s/it]"
     ]
    },
    {
     "name": "stdout",
     "output_type": "stream",
     "text": [
      "Train Loss: 0.635, Train Acc: 0.361\r"
     ]
    },
    {
     "name": "stderr",
     "output_type": "stream",
     "text": [
      "Epoch 1/1:  45%|████▍     | 91/204 [34:24<43:51, 23.28s/it]"
     ]
    },
    {
     "name": "stdout",
     "output_type": "stream",
     "text": [
      "Train Loss: 0.642, Train Acc: 0.362\r"
     ]
    },
    {
     "name": "stderr",
     "output_type": "stream",
     "text": [
      "Epoch 1/1:  45%|████▌     | 92/204 [34:47<43:26, 23.28s/it]"
     ]
    },
    {
     "name": "stdout",
     "output_type": "stream",
     "text": [
      "Train Loss: 0.649, Train Acc: 0.362\r"
     ]
    },
    {
     "name": "stderr",
     "output_type": "stream",
     "text": [
      "Epoch 1/1:  46%|████▌     | 93/204 [35:10<43:09, 23.33s/it]"
     ]
    },
    {
     "name": "stdout",
     "output_type": "stream",
     "text": [
      "Train Loss: 0.656, Train Acc: 0.363\r"
     ]
    },
    {
     "name": "stderr",
     "output_type": "stream",
     "text": [
      "Epoch 1/1:  46%|████▌     | 94/204 [35:34<42:42, 23.30s/it]"
     ]
    },
    {
     "name": "stdout",
     "output_type": "stream",
     "text": [
      "Train Loss: 0.662, Train Acc: 0.364\r"
     ]
    },
    {
     "name": "stderr",
     "output_type": "stream",
     "text": [
      "Epoch 1/1:  47%|████▋     | 95/204 [35:59<43:12, 23.78s/it]"
     ]
    },
    {
     "name": "stdout",
     "output_type": "stream",
     "text": [
      "Train Loss: 0.669, Train Acc: 0.362\r"
     ]
    },
    {
     "name": "stderr",
     "output_type": "stream",
     "text": [
      "Epoch 1/1:  47%|████▋     | 96/204 [36:22<42:51, 23.81s/it]"
     ]
    },
    {
     "name": "stdout",
     "output_type": "stream",
     "text": [
      "Train Loss: 0.676, Train Acc: 0.359\r"
     ]
    },
    {
     "name": "stderr",
     "output_type": "stream",
     "text": [
      "Epoch 1/1:  48%|████▊     | 97/204 [36:46<42:12, 23.67s/it]"
     ]
    },
    {
     "name": "stdout",
     "output_type": "stream",
     "text": [
      "Train Loss: 0.682, Train Acc: 0.358\r"
     ]
    },
    {
     "name": "stderr",
     "output_type": "stream",
     "text": [
      "Epoch 1/1:  48%|████▊     | 98/204 [37:09<41:43, 23.62s/it]"
     ]
    },
    {
     "name": "stdout",
     "output_type": "stream",
     "text": [
      "Train Loss: 0.689, Train Acc: 0.359\r"
     ]
    },
    {
     "name": "stderr",
     "output_type": "stream",
     "text": [
      "Epoch 1/1:  49%|████▊     | 99/204 [37:33<41:18, 23.60s/it]"
     ]
    },
    {
     "name": "stdout",
     "output_type": "stream",
     "text": [
      "Train Loss: 0.696, Train Acc: 0.359\r"
     ]
    },
    {
     "name": "stderr",
     "output_type": "stream",
     "text": [
      "Epoch 1/1:  49%|████▉     | 100/204 [37:56<40:55, 23.61s/it]"
     ]
    },
    {
     "name": "stdout",
     "output_type": "stream",
     "text": [
      "Train Loss: 0.701, Train Acc: 0.360\r"
     ]
    },
    {
     "name": "stderr",
     "output_type": "stream",
     "text": [
      "Epoch 1/1:  50%|████▉     | 101/204 [38:20<40:30, 23.59s/it]"
     ]
    },
    {
     "name": "stdout",
     "output_type": "stream",
     "text": [
      "Train Loss: 0.708, Train Acc: 0.361\r"
     ]
    },
    {
     "name": "stderr",
     "output_type": "stream",
     "text": [
      "Epoch 1/1:  50%|█████     | 102/204 [38:44<40:08, 23.62s/it]"
     ]
    },
    {
     "name": "stdout",
     "output_type": "stream",
     "text": [
      "Train Loss: 0.713, Train Acc: 0.364\r"
     ]
    },
    {
     "name": "stderr",
     "output_type": "stream",
     "text": [
      "Epoch 1/1:  50%|█████     | 103/204 [39:07<39:44, 23.61s/it]"
     ]
    },
    {
     "name": "stdout",
     "output_type": "stream",
     "text": [
      "Train Loss: 0.719, Train Acc: 0.366\r"
     ]
    },
    {
     "name": "stderr",
     "output_type": "stream",
     "text": [
      "Epoch 1/1:  51%|█████     | 104/204 [39:31<39:23, 23.63s/it]"
     ]
    },
    {
     "name": "stdout",
     "output_type": "stream",
     "text": [
      "Train Loss: 0.725, Train Acc: 0.367\r"
     ]
    },
    {
     "name": "stderr",
     "output_type": "stream",
     "text": [
      "Epoch 1/1:  51%|█████▏    | 105/204 [39:55<39:04, 23.68s/it]"
     ]
    },
    {
     "name": "stdout",
     "output_type": "stream",
     "text": [
      "Train Loss: 0.733, Train Acc: 0.366\r"
     ]
    },
    {
     "name": "stderr",
     "output_type": "stream",
     "text": [
      "Epoch 1/1:  52%|█████▏    | 106/204 [40:18<38:41, 23.69s/it]"
     ]
    },
    {
     "name": "stdout",
     "output_type": "stream",
     "text": [
      "Train Loss: 0.740, Train Acc: 0.366\r"
     ]
    },
    {
     "name": "stderr",
     "output_type": "stream",
     "text": [
      "Epoch 1/1:  52%|█████▏    | 107/204 [40:42<38:11, 23.62s/it]"
     ]
    },
    {
     "name": "stdout",
     "output_type": "stream",
     "text": [
      "Train Loss: 0.746, Train Acc: 0.369\r"
     ]
    },
    {
     "name": "stderr",
     "output_type": "stream",
     "text": [
      "Epoch 1/1:  53%|█████▎    | 108/204 [41:07<38:15, 23.92s/it]"
     ]
    },
    {
     "name": "stdout",
     "output_type": "stream",
     "text": [
      "Train Loss: 0.752, Train Acc: 0.369\r"
     ]
    },
    {
     "name": "stderr",
     "output_type": "stream",
     "text": [
      "Epoch 1/1:  53%|█████▎    | 109/204 [41:30<37:41, 23.80s/it]"
     ]
    },
    {
     "name": "stdout",
     "output_type": "stream",
     "text": [
      "Train Loss: 0.758, Train Acc: 0.369\r"
     ]
    },
    {
     "name": "stderr",
     "output_type": "stream",
     "text": [
      "Epoch 1/1:  54%|█████▍    | 110/204 [41:54<37:09, 23.72s/it]"
     ]
    },
    {
     "name": "stdout",
     "output_type": "stream",
     "text": [
      "Train Loss: 0.764, Train Acc: 0.368\r"
     ]
    },
    {
     "name": "stderr",
     "output_type": "stream",
     "text": [
      "Epoch 1/1:  54%|█████▍    | 111/204 [42:17<36:47, 23.74s/it]"
     ]
    },
    {
     "name": "stdout",
     "output_type": "stream",
     "text": [
      "Train Loss: 0.771, Train Acc: 0.367\r"
     ]
    },
    {
     "name": "stderr",
     "output_type": "stream",
     "text": [
      "Epoch 1/1:  55%|█████▍    | 112/204 [42:41<36:16, 23.66s/it]"
     ]
    },
    {
     "name": "stdout",
     "output_type": "stream",
     "text": [
      "Train Loss: 0.777, Train Acc: 0.364\r"
     ]
    },
    {
     "name": "stderr",
     "output_type": "stream",
     "text": [
      "Epoch 1/1:  55%|█████▌    | 113/204 [43:04<35:50, 23.63s/it]"
     ]
    },
    {
     "name": "stdout",
     "output_type": "stream",
     "text": [
      "Train Loss: 0.786, Train Acc: 0.363\r"
     ]
    },
    {
     "name": "stderr",
     "output_type": "stream",
     "text": [
      "Epoch 1/1:  56%|█████▌    | 114/204 [43:28<35:23, 23.60s/it]"
     ]
    },
    {
     "name": "stdout",
     "output_type": "stream",
     "text": [
      "Train Loss: 0.792, Train Acc: 0.363\r"
     ]
    },
    {
     "name": "stderr",
     "output_type": "stream",
     "text": [
      "Epoch 1/1:  56%|█████▋    | 115/204 [43:52<35:01, 23.61s/it]"
     ]
    },
    {
     "name": "stdout",
     "output_type": "stream",
     "text": [
      "Train Loss: 0.798, Train Acc: 0.363\r"
     ]
    },
    {
     "name": "stderr",
     "output_type": "stream",
     "text": [
      "Epoch 1/1:  57%|█████▋    | 116/204 [44:15<34:35, 23.58s/it]"
     ]
    },
    {
     "name": "stdout",
     "output_type": "stream",
     "text": [
      "Train Loss: 0.805, Train Acc: 0.364\r"
     ]
    },
    {
     "name": "stderr",
     "output_type": "stream",
     "text": [
      "Epoch 1/1:  57%|█████▋    | 117/204 [44:38<34:06, 23.52s/it]"
     ]
    },
    {
     "name": "stdout",
     "output_type": "stream",
     "text": [
      "Train Loss: 0.810, Train Acc: 0.367\r"
     ]
    },
    {
     "name": "stderr",
     "output_type": "stream",
     "text": [
      "Epoch 1/1:  58%|█████▊    | 118/204 [45:02<33:45, 23.55s/it]"
     ]
    },
    {
     "name": "stdout",
     "output_type": "stream",
     "text": [
      "Train Loss: 0.817, Train Acc: 0.367\r"
     ]
    },
    {
     "name": "stderr",
     "output_type": "stream",
     "text": [
      "Epoch 1/1:  58%|█████▊    | 119/204 [45:27<33:47, 23.86s/it]"
     ]
    },
    {
     "name": "stdout",
     "output_type": "stream",
     "text": [
      "Train Loss: 0.823, Train Acc: 0.367\r"
     ]
    },
    {
     "name": "stderr",
     "output_type": "stream",
     "text": [
      "Epoch 1/1:  59%|█████▉    | 120/204 [45:50<33:21, 23.83s/it]"
     ]
    },
    {
     "name": "stdout",
     "output_type": "stream",
     "text": [
      "Train Loss: 0.831, Train Acc: 0.367\r"
     ]
    },
    {
     "name": "stderr",
     "output_type": "stream",
     "text": [
      "Epoch 1/1:  59%|█████▉    | 121/204 [46:14<32:49, 23.73s/it]"
     ]
    },
    {
     "name": "stdout",
     "output_type": "stream",
     "text": [
      "Train Loss: 0.837, Train Acc: 0.368\r"
     ]
    },
    {
     "name": "stderr",
     "output_type": "stream",
     "text": [
      "Epoch 1/1:  60%|█████▉    | 122/204 [46:38<32:23, 23.70s/it]"
     ]
    },
    {
     "name": "stdout",
     "output_type": "stream",
     "text": [
      "Train Loss: 0.843, Train Acc: 0.369\r"
     ]
    },
    {
     "name": "stderr",
     "output_type": "stream",
     "text": [
      "Epoch 1/1:  60%|██████    | 123/204 [47:01<31:55, 23.65s/it]"
     ]
    },
    {
     "name": "stdout",
     "output_type": "stream",
     "text": [
      "Train Loss: 0.851, Train Acc: 0.368\r"
     ]
    },
    {
     "name": "stderr",
     "output_type": "stream",
     "text": [
      "Epoch 1/1:  61%|██████    | 124/204 [47:25<31:29, 23.61s/it]"
     ]
    },
    {
     "name": "stdout",
     "output_type": "stream",
     "text": [
      "Train Loss: 0.858, Train Acc: 0.368\r"
     ]
    },
    {
     "name": "stderr",
     "output_type": "stream",
     "text": [
      "Epoch 1/1:  61%|██████▏   | 125/204 [47:48<31:04, 23.60s/it]"
     ]
    },
    {
     "name": "stdout",
     "output_type": "stream",
     "text": [
      "Train Loss: 0.864, Train Acc: 0.369\r"
     ]
    },
    {
     "name": "stderr",
     "output_type": "stream",
     "text": [
      "Epoch 1/1:  62%|██████▏   | 126/204 [48:12<30:42, 23.62s/it]"
     ]
    },
    {
     "name": "stdout",
     "output_type": "stream",
     "text": [
      "Train Loss: 0.871, Train Acc: 0.371\r"
     ]
    },
    {
     "name": "stderr",
     "output_type": "stream",
     "text": [
      "Epoch 1/1:  62%|██████▏   | 127/204 [48:35<30:16, 23.60s/it]"
     ]
    },
    {
     "name": "stdout",
     "output_type": "stream",
     "text": [
      "Train Loss: 0.877, Train Acc: 0.371\r"
     ]
    },
    {
     "name": "stderr",
     "output_type": "stream",
     "text": [
      "Epoch 1/1:  63%|██████▎   | 128/204 [48:59<29:55, 23.63s/it]"
     ]
    },
    {
     "name": "stdout",
     "output_type": "stream",
     "text": [
      "Train Loss: 0.883, Train Acc: 0.372\r"
     ]
    },
    {
     "name": "stderr",
     "output_type": "stream",
     "text": [
      "Epoch 1/1:  63%|██████▎   | 129/204 [49:24<29:50, 23.87s/it]"
     ]
    },
    {
     "name": "stdout",
     "output_type": "stream",
     "text": [
      "Train Loss: 0.890, Train Acc: 0.372\r"
     ]
    },
    {
     "name": "stderr",
     "output_type": "stream",
     "text": [
      "Epoch 1/1:  64%|██████▎   | 130/204 [49:47<29:22, 23.82s/it]"
     ]
    },
    {
     "name": "stdout",
     "output_type": "stream",
     "text": [
      "Train Loss: 0.897, Train Acc: 0.371\r"
     ]
    },
    {
     "name": "stderr",
     "output_type": "stream",
     "text": [
      "Epoch 1/1:  64%|██████▍   | 131/204 [50:11<28:56, 23.79s/it]"
     ]
    },
    {
     "name": "stdout",
     "output_type": "stream",
     "text": [
      "Train Loss: 0.904, Train Acc: 0.370\r"
     ]
    },
    {
     "name": "stderr",
     "output_type": "stream",
     "text": [
      "Epoch 1/1:  65%|██████▍   | 132/204 [50:35<28:32, 23.78s/it]"
     ]
    },
    {
     "name": "stdout",
     "output_type": "stream",
     "text": [
      "Train Loss: 0.911, Train Acc: 0.370\r"
     ]
    },
    {
     "name": "stderr",
     "output_type": "stream",
     "text": [
      "Epoch 1/1:  65%|██████▌   | 133/204 [50:59<28:09, 23.80s/it]"
     ]
    },
    {
     "name": "stdout",
     "output_type": "stream",
     "text": [
      "Train Loss: 0.917, Train Acc: 0.371\r"
     ]
    },
    {
     "name": "stderr",
     "output_type": "stream",
     "text": [
      "Epoch 1/1:  66%|██████▌   | 134/204 [51:23<27:54, 23.93s/it]"
     ]
    },
    {
     "name": "stdout",
     "output_type": "stream",
     "text": [
      "Train Loss: 0.923, Train Acc: 0.372\r"
     ]
    },
    {
     "name": "stderr",
     "output_type": "stream",
     "text": [
      "Epoch 1/1:  66%|██████▌   | 135/204 [51:47<27:29, 23.90s/it]"
     ]
    },
    {
     "name": "stdout",
     "output_type": "stream",
     "text": [
      "Train Loss: 0.929, Train Acc: 0.372\r"
     ]
    },
    {
     "name": "stderr",
     "output_type": "stream",
     "text": [
      "Epoch 1/1:  67%|██████▋   | 136/204 [52:10<27:01, 23.84s/it]"
     ]
    },
    {
     "name": "stdout",
     "output_type": "stream",
     "text": [
      "Train Loss: 0.937, Train Acc: 0.372\r"
     ]
    },
    {
     "name": "stderr",
     "output_type": "stream",
     "text": [
      "Epoch 1/1:  67%|██████▋   | 137/204 [52:34<26:42, 23.91s/it]"
     ]
    },
    {
     "name": "stdout",
     "output_type": "stream",
     "text": [
      "Train Loss: 0.942, Train Acc: 0.374\r"
     ]
    },
    {
     "name": "stderr",
     "output_type": "stream",
     "text": [
      "Epoch 1/1:  68%|██████▊   | 138/204 [52:59<26:31, 24.12s/it]"
     ]
    },
    {
     "name": "stdout",
     "output_type": "stream",
     "text": [
      "Train Loss: 0.949, Train Acc: 0.374\r"
     ]
    },
    {
     "name": "stderr",
     "output_type": "stream",
     "text": [
      "Epoch 1/1:  68%|██████▊   | 139/204 [53:23<25:59, 23.99s/it]"
     ]
    },
    {
     "name": "stdout",
     "output_type": "stream",
     "text": [
      "Train Loss: 0.956, Train Acc: 0.374\r"
     ]
    },
    {
     "name": "stderr",
     "output_type": "stream",
     "text": [
      "Epoch 1/1:  69%|██████▊   | 140/204 [53:47<25:33, 23.95s/it]"
     ]
    },
    {
     "name": "stdout",
     "output_type": "stream",
     "text": [
      "Train Loss: 0.964, Train Acc: 0.374\r"
     ]
    },
    {
     "name": "stderr",
     "output_type": "stream",
     "text": [
      "Epoch 1/1:  69%|██████▉   | 141/204 [54:10<25:08, 23.94s/it]"
     ]
    },
    {
     "name": "stdout",
     "output_type": "stream",
     "text": [
      "Train Loss: 0.971, Train Acc: 0.373\r"
     ]
    },
    {
     "name": "stderr",
     "output_type": "stream",
     "text": [
      "Epoch 1/1:  70%|██████▉   | 142/204 [54:34<24:41, 23.90s/it]"
     ]
    },
    {
     "name": "stdout",
     "output_type": "stream",
     "text": [
      "Train Loss: 0.977, Train Acc: 0.373\r"
     ]
    },
    {
     "name": "stderr",
     "output_type": "stream",
     "text": [
      "Epoch 1/1:  70%|███████   | 143/204 [54:58<24:15, 23.87s/it]"
     ]
    },
    {
     "name": "stdout",
     "output_type": "stream",
     "text": [
      "Train Loss: 0.983, Train Acc: 0.374\r"
     ]
    },
    {
     "name": "stderr",
     "output_type": "stream",
     "text": [
      "Epoch 1/1:  71%|███████   | 144/204 [55:22<23:56, 23.94s/it]"
     ]
    },
    {
     "name": "stdout",
     "output_type": "stream",
     "text": [
      "Train Loss: 0.989, Train Acc: 0.374\r"
     ]
    },
    {
     "name": "stderr",
     "output_type": "stream",
     "text": [
      "Epoch 1/1:  71%|███████   | 145/204 [55:47<23:50, 24.24s/it]"
     ]
    },
    {
     "name": "stdout",
     "output_type": "stream",
     "text": [
      "Train Loss: 0.996, Train Acc: 0.375\r"
     ]
    },
    {
     "name": "stderr",
     "output_type": "stream",
     "text": [
      "Epoch 1/1:  72%|███████▏  | 146/204 [56:11<23:24, 24.21s/it]"
     ]
    },
    {
     "name": "stdout",
     "output_type": "stream",
     "text": [
      "Train Loss: 1.002, Train Acc: 0.375\r"
     ]
    },
    {
     "name": "stderr",
     "output_type": "stream",
     "text": [
      "Epoch 1/1:  72%|███████▏  | 147/204 [56:35<22:55, 24.13s/it]"
     ]
    },
    {
     "name": "stdout",
     "output_type": "stream",
     "text": [
      "Train Loss: 1.009, Train Acc: 0.374\r"
     ]
    },
    {
     "name": "stderr",
     "output_type": "stream",
     "text": [
      "Epoch 1/1:  73%|███████▎  | 148/204 [56:59<22:29, 24.09s/it]"
     ]
    },
    {
     "name": "stdout",
     "output_type": "stream",
     "text": [
      "Train Loss: 1.016, Train Acc: 0.375\r"
     ]
    },
    {
     "name": "stderr",
     "output_type": "stream",
     "text": [
      "Epoch 1/1:  73%|███████▎  | 149/204 [57:23<22:01, 24.03s/it]"
     ]
    },
    {
     "name": "stdout",
     "output_type": "stream",
     "text": [
      "Train Loss: 1.022, Train Acc: 0.375\r"
     ]
    },
    {
     "name": "stderr",
     "output_type": "stream",
     "text": [
      "Epoch 1/1:  74%|███████▎  | 150/204 [57:47<21:36, 24.00s/it]"
     ]
    },
    {
     "name": "stdout",
     "output_type": "stream",
     "text": [
      "Train Loss: 1.029, Train Acc: 0.375\r"
     ]
    },
    {
     "name": "stderr",
     "output_type": "stream",
     "text": [
      "Epoch 1/1:  74%|███████▍  | 151/204 [58:11<21:11, 23.99s/it]"
     ]
    },
    {
     "name": "stdout",
     "output_type": "stream",
     "text": [
      "Train Loss: 1.034, Train Acc: 0.377\r"
     ]
    },
    {
     "name": "stderr",
     "output_type": "stream",
     "text": [
      "Epoch 1/1:  75%|███████▍  | 152/204 [58:35<20:47, 23.99s/it]"
     ]
    },
    {
     "name": "stdout",
     "output_type": "stream",
     "text": [
      "Train Loss: 1.042, Train Acc: 0.376\r"
     ]
    },
    {
     "name": "stderr",
     "output_type": "stream",
     "text": [
      "Epoch 1/1:  75%|███████▌  | 153/204 [59:00<20:40, 24.33s/it]"
     ]
    },
    {
     "name": "stdout",
     "output_type": "stream",
     "text": [
      "Train Loss: 1.049, Train Acc: 0.376\r"
     ]
    },
    {
     "name": "stderr",
     "output_type": "stream",
     "text": [
      "Epoch 1/1:  75%|███████▌  | 154/204 [59:24<20:14, 24.30s/it]"
     ]
    },
    {
     "name": "stdout",
     "output_type": "stream",
     "text": [
      "Train Loss: 1.055, Train Acc: 0.376\r"
     ]
    },
    {
     "name": "stderr",
     "output_type": "stream",
     "text": [
      "Epoch 1/1:  76%|███████▌  | 155/204 [59:48<19:44, 24.18s/it]"
     ]
    },
    {
     "name": "stdout",
     "output_type": "stream",
     "text": [
      "Train Loss: 1.061, Train Acc: 0.377\r"
     ]
    },
    {
     "name": "stderr",
     "output_type": "stream",
     "text": [
      "Epoch 1/1:  76%|███████▋  | 156/204 [1:00:12<19:17, 24.12s/it]"
     ]
    },
    {
     "name": "stdout",
     "output_type": "stream",
     "text": [
      "Train Loss: 1.067, Train Acc: 0.377\r"
     ]
    },
    {
     "name": "stderr",
     "output_type": "stream",
     "text": [
      "Epoch 1/1:  77%|███████▋  | 157/204 [1:00:36<18:50, 24.06s/it]"
     ]
    },
    {
     "name": "stdout",
     "output_type": "stream",
     "text": [
      "Train Loss: 1.073, Train Acc: 0.377\r"
     ]
    },
    {
     "name": "stderr",
     "output_type": "stream",
     "text": [
      "Epoch 1/1:  77%|███████▋  | 158/204 [1:01:00<18:26, 24.06s/it]"
     ]
    },
    {
     "name": "stdout",
     "output_type": "stream",
     "text": [
      "Train Loss: 1.080, Train Acc: 0.378\r"
     ]
    },
    {
     "name": "stderr",
     "output_type": "stream",
     "text": [
      "Epoch 1/1:  78%|███████▊  | 159/204 [1:01:25<18:15, 24.34s/it]"
     ]
    },
    {
     "name": "stdout",
     "output_type": "stream",
     "text": [
      "Train Loss: 1.087, Train Acc: 0.377\r"
     ]
    },
    {
     "name": "stderr",
     "output_type": "stream",
     "text": [
      "Epoch 1/1:  78%|███████▊  | 160/204 [1:01:50<17:55, 24.45s/it]"
     ]
    },
    {
     "name": "stdout",
     "output_type": "stream",
     "text": [
      "Train Loss: 1.093, Train Acc: 0.377\r"
     ]
    },
    {
     "name": "stderr",
     "output_type": "stream",
     "text": [
      "Epoch 1/1:  79%|███████▉  | 161/204 [1:02:14<17:27, 24.37s/it]"
     ]
    },
    {
     "name": "stdout",
     "output_type": "stream",
     "text": [
      "Train Loss: 1.099, Train Acc: 0.377\r"
     ]
    },
    {
     "name": "stderr",
     "output_type": "stream",
     "text": [
      "Epoch 1/1:  79%|███████▉  | 162/204 [1:02:38<16:59, 24.27s/it]"
     ]
    },
    {
     "name": "stdout",
     "output_type": "stream",
     "text": [
      "Train Loss: 1.106, Train Acc: 0.378\r"
     ]
    },
    {
     "name": "stderr",
     "output_type": "stream",
     "text": [
      "Epoch 1/1:  80%|███████▉  | 163/204 [1:03:02<16:32, 24.21s/it]"
     ]
    },
    {
     "name": "stdout",
     "output_type": "stream",
     "text": [
      "Train Loss: 1.114, Train Acc: 0.377\r"
     ]
    },
    {
     "name": "stderr",
     "output_type": "stream",
     "text": [
      "Epoch 1/1:  80%|████████  | 164/204 [1:03:26<16:07, 24.19s/it]"
     ]
    },
    {
     "name": "stdout",
     "output_type": "stream",
     "text": [
      "Train Loss: 1.120, Train Acc: 0.378\r"
     ]
    },
    {
     "name": "stderr",
     "output_type": "stream",
     "text": [
      "Epoch 1/1:  81%|████████  | 165/204 [1:03:50<15:42, 24.16s/it]"
     ]
    },
    {
     "name": "stdout",
     "output_type": "stream",
     "text": [
      "Train Loss: 1.125, Train Acc: 0.379\r"
     ]
    },
    {
     "name": "stderr",
     "output_type": "stream",
     "text": [
      "Epoch 1/1:  81%|████████▏ | 166/204 [1:04:16<15:32, 24.53s/it]"
     ]
    },
    {
     "name": "stdout",
     "output_type": "stream",
     "text": [
      "Train Loss: 1.133, Train Acc: 0.378\r"
     ]
    },
    {
     "name": "stderr",
     "output_type": "stream",
     "text": [
      "Epoch 1/1:  82%|████████▏ | 167/204 [1:04:40<15:05, 24.46s/it]"
     ]
    },
    {
     "name": "stdout",
     "output_type": "stream",
     "text": [
      "Train Loss: 1.139, Train Acc: 0.379\r"
     ]
    },
    {
     "name": "stderr",
     "output_type": "stream",
     "text": [
      "Epoch 1/1:  82%|████████▏ | 168/204 [1:05:04<14:37, 24.37s/it]"
     ]
    },
    {
     "name": "stdout",
     "output_type": "stream",
     "text": [
      "Train Loss: 1.146, Train Acc: 0.379\r"
     ]
    },
    {
     "name": "stderr",
     "output_type": "stream",
     "text": [
      "Epoch 1/1:  83%|████████▎ | 169/204 [1:05:28<14:10, 24.29s/it]"
     ]
    },
    {
     "name": "stdout",
     "output_type": "stream",
     "text": [
      "Train Loss: 1.152, Train Acc: 0.379\r"
     ]
    },
    {
     "name": "stderr",
     "output_type": "stream",
     "text": [
      "Epoch 1/1:  83%|████████▎ | 170/204 [1:05:53<13:47, 24.33s/it]"
     ]
    },
    {
     "name": "stdout",
     "output_type": "stream",
     "text": [
      "Train Loss: 1.158, Train Acc: 0.381\r"
     ]
    },
    {
     "name": "stderr",
     "output_type": "stream",
     "text": [
      "Epoch 1/1:  84%|████████▍ | 171/204 [1:06:17<13:22, 24.32s/it]"
     ]
    },
    {
     "name": "stdout",
     "output_type": "stream",
     "text": [
      "Train Loss: 1.164, Train Acc: 0.381\r"
     ]
    },
    {
     "name": "stderr",
     "output_type": "stream",
     "text": [
      "Epoch 1/1:  84%|████████▍ | 172/204 [1:06:43<13:12, 24.75s/it]"
     ]
    },
    {
     "name": "stdout",
     "output_type": "stream",
     "text": [
      "Train Loss: 1.171, Train Acc: 0.382\r"
     ]
    },
    {
     "name": "stderr",
     "output_type": "stream",
     "text": [
      "Epoch 1/1:  85%|████████▍ | 173/204 [1:07:07<12:42, 24.61s/it]"
     ]
    },
    {
     "name": "stdout",
     "output_type": "stream",
     "text": [
      "Train Loss: 1.178, Train Acc: 0.382\r"
     ]
    },
    {
     "name": "stderr",
     "output_type": "stream",
     "text": [
      "Epoch 1/1:  85%|████████▌ | 174/204 [1:07:31<12:14, 24.47s/it]"
     ]
    },
    {
     "name": "stdout",
     "output_type": "stream",
     "text": [
      "Train Loss: 1.185, Train Acc: 0.381\r"
     ]
    },
    {
     "name": "stderr",
     "output_type": "stream",
     "text": [
      "Epoch 1/1:  86%|████████▌ | 175/204 [1:07:56<11:48, 24.44s/it]"
     ]
    },
    {
     "name": "stdout",
     "output_type": "stream",
     "text": [
      "Train Loss: 1.191, Train Acc: 0.381\r"
     ]
    },
    {
     "name": "stderr",
     "output_type": "stream",
     "text": [
      "Epoch 1/1:  86%|████████▋ | 176/204 [1:08:20<11:22, 24.38s/it]"
     ]
    },
    {
     "name": "stdout",
     "output_type": "stream",
     "text": [
      "Train Loss: 1.199, Train Acc: 0.380\r"
     ]
    },
    {
     "name": "stderr",
     "output_type": "stream",
     "text": [
      "Epoch 1/1:  87%|████████▋ | 177/204 [1:08:44<10:56, 24.31s/it]"
     ]
    },
    {
     "name": "stdout",
     "output_type": "stream",
     "text": [
      "Train Loss: 1.206, Train Acc: 0.380\r"
     ]
    },
    {
     "name": "stderr",
     "output_type": "stream",
     "text": [
      "Epoch 1/1:  87%|████████▋ | 178/204 [1:09:10<10:41, 24.66s/it]"
     ]
    },
    {
     "name": "stdout",
     "output_type": "stream",
     "text": [
      "Train Loss: 1.213, Train Acc: 0.378\r"
     ]
    },
    {
     "name": "stderr",
     "output_type": "stream",
     "text": [
      "Epoch 1/1:  88%|████████▊ | 179/204 [1:09:34<10:14, 24.58s/it]"
     ]
    },
    {
     "name": "stdout",
     "output_type": "stream",
     "text": [
      "Train Loss: 1.221, Train Acc: 0.377\r"
     ]
    },
    {
     "name": "stderr",
     "output_type": "stream",
     "text": [
      "Epoch 1/1:  88%|████████▊ | 180/204 [1:09:58<09:49, 24.58s/it]"
     ]
    },
    {
     "name": "stdout",
     "output_type": "stream",
     "text": [
      "Train Loss: 1.228, Train Acc: 0.376\r"
     ]
    },
    {
     "name": "stderr",
     "output_type": "stream",
     "text": [
      "Epoch 1/1:  89%|████████▊ | 181/204 [1:10:23<09:25, 24.59s/it]"
     ]
    },
    {
     "name": "stdout",
     "output_type": "stream",
     "text": [
      "Train Loss: 1.234, Train Acc: 0.376\r"
     ]
    },
    {
     "name": "stderr",
     "output_type": "stream",
     "text": [
      "Epoch 1/1:  89%|████████▉ | 182/204 [1:10:48<09:01, 24.59s/it]"
     ]
    },
    {
     "name": "stdout",
     "output_type": "stream",
     "text": [
      "Train Loss: 1.242, Train Acc: 0.375\r"
     ]
    },
    {
     "name": "stderr",
     "output_type": "stream",
     "text": [
      "Epoch 1/1:  90%|████████▉ | 183/204 [1:11:13<08:42, 24.88s/it]"
     ]
    },
    {
     "name": "stdout",
     "output_type": "stream",
     "text": [
      "Train Loss: 1.248, Train Acc: 0.374\r"
     ]
    },
    {
     "name": "stderr",
     "output_type": "stream",
     "text": [
      "Epoch 1/1:  90%|█████████ | 184/204 [1:11:38<08:15, 24.80s/it]"
     ]
    },
    {
     "name": "stdout",
     "output_type": "stream",
     "text": [
      "Train Loss: 1.254, Train Acc: 0.375\r"
     ]
    },
    {
     "name": "stderr",
     "output_type": "stream",
     "text": [
      "Epoch 1/1:  91%|█████████ | 185/204 [1:12:02<07:49, 24.69s/it]"
     ]
    },
    {
     "name": "stdout",
     "output_type": "stream",
     "text": [
      "Train Loss: 1.260, Train Acc: 0.375\r"
     ]
    },
    {
     "name": "stderr",
     "output_type": "stream",
     "text": [
      "Epoch 1/1:  91%|█████████ | 186/204 [1:12:26<07:21, 24.54s/it]"
     ]
    },
    {
     "name": "stdout",
     "output_type": "stream",
     "text": [
      "Train Loss: 1.265, Train Acc: 0.377\r"
     ]
    },
    {
     "name": "stderr",
     "output_type": "stream",
     "text": [
      "Epoch 1/1:  92%|█████████▏| 187/204 [1:12:51<06:56, 24.48s/it]"
     ]
    },
    {
     "name": "stdout",
     "output_type": "stream",
     "text": [
      "Train Loss: 1.272, Train Acc: 0.377\r"
     ]
    },
    {
     "name": "stderr",
     "output_type": "stream",
     "text": [
      "Epoch 1/1:  92%|█████████▏| 188/204 [1:13:16<06:35, 24.73s/it]"
     ]
    },
    {
     "name": "stdout",
     "output_type": "stream",
     "text": [
      "Train Loss: 1.279, Train Acc: 0.377\r"
     ]
    },
    {
     "name": "stderr",
     "output_type": "stream",
     "text": [
      "Epoch 1/1:  93%|█████████▎| 189/204 [1:13:40<06:09, 24.61s/it]"
     ]
    },
    {
     "name": "stdout",
     "output_type": "stream",
     "text": [
      "Train Loss: 1.288, Train Acc: 0.376\r"
     ]
    },
    {
     "name": "stderr",
     "output_type": "stream",
     "text": [
      "Epoch 1/1:  93%|█████████▎| 190/204 [1:14:05<05:42, 24.49s/it]"
     ]
    },
    {
     "name": "stdout",
     "output_type": "stream",
     "text": [
      "Train Loss: 1.294, Train Acc: 0.377\r"
     ]
    },
    {
     "name": "stderr",
     "output_type": "stream",
     "text": [
      "Epoch 1/1:  94%|█████████▎| 191/204 [1:14:29<05:17, 24.42s/it]"
     ]
    },
    {
     "name": "stdout",
     "output_type": "stream",
     "text": [
      "Train Loss: 1.301, Train Acc: 0.377\r"
     ]
    },
    {
     "name": "stderr",
     "output_type": "stream",
     "text": [
      "Epoch 1/1:  94%|█████████▍| 192/204 [1:14:54<04:53, 24.48s/it]"
     ]
    },
    {
     "name": "stdout",
     "output_type": "stream",
     "text": [
      "Train Loss: 1.306, Train Acc: 0.378\r"
     ]
    },
    {
     "name": "stderr",
     "output_type": "stream",
     "text": [
      "Epoch 1/1:  95%|█████████▍| 193/204 [1:15:19<04:31, 24.68s/it]"
     ]
    },
    {
     "name": "stdout",
     "output_type": "stream",
     "text": [
      "Train Loss: 1.312, Train Acc: 0.378\r"
     ]
    },
    {
     "name": "stderr",
     "output_type": "stream",
     "text": [
      "Epoch 1/1:  95%|█████████▌| 194/204 [1:15:43<04:04, 24.43s/it]"
     ]
    },
    {
     "name": "stdout",
     "output_type": "stream",
     "text": [
      "Train Loss: 1.318, Train Acc: 0.378\r"
     ]
    },
    {
     "name": "stderr",
     "output_type": "stream",
     "text": [
      "Epoch 1/1:  96%|█████████▌| 195/204 [1:16:06<03:38, 24.27s/it]"
     ]
    },
    {
     "name": "stdout",
     "output_type": "stream",
     "text": [
      "Train Loss: 1.325, Train Acc: 0.378\r"
     ]
    },
    {
     "name": "stderr",
     "output_type": "stream",
     "text": [
      "Epoch 1/1:  96%|█████████▌| 196/204 [1:16:31<03:13, 24.22s/it]"
     ]
    },
    {
     "name": "stdout",
     "output_type": "stream",
     "text": [
      "Train Loss: 1.331, Train Acc: 0.377\r"
     ]
    },
    {
     "name": "stderr",
     "output_type": "stream",
     "text": [
      "Epoch 1/1:  97%|█████████▋| 197/204 [1:16:55<02:50, 24.29s/it]"
     ]
    },
    {
     "name": "stdout",
     "output_type": "stream",
     "text": [
      "Train Loss: 1.338, Train Acc: 0.376\r"
     ]
    },
    {
     "name": "stderr",
     "output_type": "stream",
     "text": [
      "Epoch 1/1:  97%|█████████▋| 198/204 [1:17:20<02:26, 24.36s/it]"
     ]
    },
    {
     "name": "stdout",
     "output_type": "stream",
     "text": [
      "Train Loss: 1.346, Train Acc: 0.375\r"
     ]
    },
    {
     "name": "stderr",
     "output_type": "stream",
     "text": [
      "Epoch 1/1:  98%|█████████▊| 199/204 [1:17:44<02:02, 24.44s/it]"
     ]
    },
    {
     "name": "stdout",
     "output_type": "stream",
     "text": [
      "Train Loss: 1.352, Train Acc: 0.376\r"
     ]
    },
    {
     "name": "stderr",
     "output_type": "stream",
     "text": [
      "Epoch 1/1:  98%|█████████▊| 200/204 [1:18:08<01:37, 24.31s/it]"
     ]
    },
    {
     "name": "stdout",
     "output_type": "stream",
     "text": [
      "Train Loss: 1.358, Train Acc: 0.374\r"
     ]
    },
    {
     "name": "stderr",
     "output_type": "stream",
     "text": [
      "Epoch 1/1:  99%|█████████▊| 201/204 [1:18:32<01:12, 24.19s/it]"
     ]
    },
    {
     "name": "stdout",
     "output_type": "stream",
     "text": [
      "Train Loss: 1.365, Train Acc: 0.373\r"
     ]
    },
    {
     "name": "stderr",
     "output_type": "stream",
     "text": [
      "Epoch 1/1:  99%|█████████▉| 202/204 [1:18:56<00:48, 24.09s/it]"
     ]
    },
    {
     "name": "stdout",
     "output_type": "stream",
     "text": [
      "Train Loss: 1.372, Train Acc: 0.373\r"
     ]
    },
    {
     "name": "stderr",
     "output_type": "stream",
     "text": [
      "Epoch 1/1: 100%|█████████▉| 203/204 [1:19:20<00:23, 23.99s/it]"
     ]
    },
    {
     "name": "stdout",
     "output_type": "stream",
     "text": [
      "Train Loss: 1.379, Train Acc: 0.374\r"
     ]
    },
    {
     "name": "stderr",
     "output_type": "stream",
     "text": [
      "Epoch 1/1: 100%|██████████| 204/204 [1:19:35<00:00, 23.41s/it]"
     ]
    },
    {
     "name": "stdout",
     "output_type": "stream",
     "text": [
      "Epoch 1, Train Loss: 1.385, Train Acc: 0.374\n",
      "Epoch 1 finished\n"
     ]
    },
    {
     "name": "stderr",
     "output_type": "stream",
     "text": [
      "\n"
     ]
    }
   ],
   "source": [
    "from tqdm import tqdm\n",
    "num_epochs = 1\n",
    "for epoch in range(num_epochs):\n",
    "    running_loss = 0.0\n",
    "    correct_predictions = 0\n",
    "    total_predictions = 0\n",
    "    for batch in tqdm(train_loader, desc=f'Epoch {epoch+1}/{num_epochs}'):\n",
    "        # get the inputs\n",
    "        input_ids = batch['input_ids'].to(device)\n",
    "        attention_mask = batch['attention_mask'].to(device)\n",
    "        labels = batch['label'].to(device)\n",
    "\n",
    "        # zero the parameter gradients\n",
    "        optimizer.zero_grad()\n",
    "\n",
    "        # forward + backward + optimize\n",
    "        outputs = emotion_model(input_ids=input_ids, attention_mask=attention_mask)\n",
    "        loss = criterion(outputs, labels)\n",
    "        loss.backward()\n",
    "        optimizer.step()\n",
    "\n",
    "        # calculate accuracy\n",
    "        _, predicted = torch.max(outputs.data, 1)\n",
    "        total_predictions += labels.size(0)\n",
    "        correct_predictions += (predicted == labels).sum().item()\n",
    "\n",
    "        # print running loss for each batch\n",
    "        running_loss += loss.item()\n",
    "        avg_loss = running_loss / len(train_loader)\n",
    "        avg_acc = correct_predictions / total_predictions\n",
    "        tqdm.write(f'Train Loss: {avg_loss:.3f}, Train Acc: {avg_acc:.3f}', end='\\r')\n",
    "    tqdm.write(f'Epoch {epoch+1}, Train Loss: {avg_loss:.3f}, Train Acc: {avg_acc:.3f}')\n",
    "\n",
    "    print(f\"Epoch {epoch+1} finished\")\n"
   ],
   "metadata": {
    "collapsed": false
   }
  },
  {
   "cell_type": "code",
   "execution_count": 27,
   "outputs": [
    {
     "name": "stdout",
     "output_type": "stream",
     "text": [
      "Validation Loss: 1.302, Validation Acc: 0.428\n"
     ]
    }
   ],
   "source": [
    "# Validation loop\n",
    "with torch.no_grad():\n",
    "    emotion_model.eval()  # Set the model to evaluation mode\n",
    "    valid_loss = 0.0\n",
    "    correct_predictions = 0\n",
    "    total_predictions = 0\n",
    "    for batch in val_loader:\n",
    "        # get the inputs\n",
    "        input_ids = batch['input_ids'].to(device)\n",
    "        attention_mask = batch['attention_mask'].to(device)\n",
    "        labels = batch['label'].to(device)\n",
    "\n",
    "        # forward\n",
    "        outputs = emotion_model(input_ids=input_ids, attention_mask=attention_mask)\n",
    "        loss = criterion(outputs, labels)\n",
    "\n",
    "        # calculate accuracy\n",
    "        _, predicted = torch.max(outputs.data, 1)\n",
    "        total_predictions += labels.size(0)\n",
    "        correct_predictions += (predicted == labels).sum().item()\n",
    "\n",
    "        # calculate running loss\n",
    "        valid_loss += loss.item()\n",
    "\n",
    "    avg_loss = valid_loss / len(val_loader)\n",
    "    avg_acc = correct_predictions / total_predictions\n",
    "    print(f'Validation Loss: {avg_loss:.3f}, Validation Acc: {avg_acc:.3f}')"
   ],
   "metadata": {
    "collapsed": false
   }
  },
  {
   "cell_type": "code",
   "execution_count": 28,
   "outputs": [
    {
     "name": "stdout",
     "output_type": "stream",
     "text": [
      "Test Loss: 1.338, Test Acc: 0.393\n"
     ]
    }
   ],
   "source": [
    "\n",
    "# Test loop\n",
    "with torch.no_grad():\n",
    "    emotion_model.eval()  # Set the model to evaluation mode\n",
    "    test_loss = 0.0\n",
    "    correct_predictions = 0\n",
    "    total_predictions = 0\n",
    "    for batch in test_loader:\n",
    "        # get the inputs\n",
    "        input_ids = batch['input_ids'].to(device)\n",
    "        attention_mask = batch['attention_mask'].to(device)\n",
    "        labels = batch['label'].to(device)\n",
    "\n",
    "        # forward\n",
    "        outputs = emotion_model(input_ids=input_ids, attention_mask=attention_mask)\n",
    "        loss = criterion(outputs, labels)\n",
    "\n",
    "        # calculate accuracy\n",
    "        _, predicted = torch.max(outputs.data, 1)\n",
    "        total_predictions += labels.size(0)\n",
    "        correct_predictions += (predicted == labels).sum().item()\n",
    "\n",
    "        # calculate running loss\n",
    "        test_loss += loss.item()\n",
    "\n",
    "    avg_loss = test_loss / len(test_loader)\n",
    "    avg_acc = correct_predictions / total_predictions\n",
    "    print(f'Test Loss: {avg_loss:.3f}, Test Acc: {avg_acc:.3f}')\n"
   ],
   "metadata": {
    "collapsed": false
   }
  },
  {
   "cell_type": "code",
   "execution_count": 29,
   "outputs": [],
   "source": [
    "# save the model\n",
    "torch.save(emotion_model.state_dict(), 'Models/emotion_model.pth')\n"
   ],
   "metadata": {
    "collapsed": false
   }
  }
 ],
 "metadata": {
  "kernelspec": {
   "display_name": "Python 3",
   "language": "python",
   "name": "python3"
  },
  "language_info": {
   "codemirror_mode": {
    "name": "ipython",
    "version": 2
   },
   "file_extension": ".py",
   "mimetype": "text/x-python",
   "name": "python",
   "nbconvert_exporter": "python",
   "pygments_lexer": "ipython2",
   "version": "2.7.6"
  }
 },
 "nbformat": 4,
 "nbformat_minor": 0
}
