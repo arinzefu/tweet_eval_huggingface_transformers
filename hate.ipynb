{
 "cells": [
  {
   "cell_type": "code",
   "execution_count": 1,
   "metadata": {
    "collapsed": true
   },
   "outputs": [],
   "source": [
    "import torch\n",
    "import torch.nn as nn\n",
    "import torch.optim as optim\n",
    "from torch.utils.data import DataLoader, Dataset\n",
    "from transformers import AutoTokenizer\n",
    "from transformers import BertModel"
   ]
  },
  {
   "cell_type": "code",
   "execution_count": 2,
   "outputs": [
    {
     "name": "stderr",
     "output_type": "stream",
     "text": [
      "Found cached dataset tweet_eval (C:/Users/User/.cache/huggingface/datasets/tweet_eval/hate/1.1.0/12aee5282b8784f3e95459466db4cdf45c6bf49719c25cdb0743d71ed0410343)\n"
     ]
    },
    {
     "data": {
      "text/plain": "  0%|          | 0/3 [00:00<?, ?it/s]",
      "application/vnd.jupyter.widget-view+json": {
       "version_major": 2,
       "version_minor": 0,
       "model_id": "9d212f789feb43c483225a60701fa7cb"
      }
     },
     "metadata": {},
     "output_type": "display_data"
    }
   ],
   "source": [
    "from datasets import load_dataset\n",
    "\n",
    "dataset = load_dataset(\"tweet_eval\", \"hate\")"
   ],
   "metadata": {
    "collapsed": false
   }
  },
  {
   "cell_type": "code",
   "execution_count": 3,
   "outputs": [
    {
     "data": {
      "text/plain": "Dataset({\n    features: ['text', 'label'],\n    num_rows: 9000\n})"
     },
     "execution_count": 3,
     "metadata": {},
     "output_type": "execute_result"
    }
   ],
   "source": [
    "dataset[\"train\"]"
   ],
   "metadata": {
    "collapsed": false
   }
  },
  {
   "cell_type": "code",
   "execution_count": 4,
   "outputs": [
    {
     "data": {
      "text/plain": "Dataset({\n    features: ['text', 'label'],\n    num_rows: 1000\n})"
     },
     "execution_count": 4,
     "metadata": {},
     "output_type": "execute_result"
    }
   ],
   "source": [
    "dataset[\"validation\"]"
   ],
   "metadata": {
    "collapsed": false
   }
  },
  {
   "cell_type": "code",
   "execution_count": 5,
   "outputs": [
    {
     "data": {
      "text/plain": "Dataset({\n    features: ['text', 'label'],\n    num_rows: 1000\n})"
     },
     "execution_count": 5,
     "metadata": {},
     "output_type": "execute_result"
    }
   ],
   "source": [
    "dataset[\"validation\"]"
   ],
   "metadata": {
    "collapsed": false
   }
  },
  {
   "cell_type": "code",
   "execution_count": 6,
   "outputs": [],
   "source": [
    "# Load a pre-trained tokenizer\n",
    "tokenizer = AutoTokenizer.from_pretrained(\"distilbert-base-uncased\")\n"
   ],
   "metadata": {
    "collapsed": false
   }
  },
  {
   "cell_type": "code",
   "execution_count": 7,
   "outputs": [],
   "source": [
    "def tokenize_function(example):\n",
    "    return tokenizer(example[\"text\"], padding=\"max_length\", truncation=True, max_length=128)"
   ],
   "metadata": {
    "collapsed": false
   }
  },
  {
   "cell_type": "code",
   "execution_count": 8,
   "outputs": [
    {
     "name": "stderr",
     "output_type": "stream",
     "text": [
      "Loading cached processed dataset at C:\\Users\\User\\.cache\\huggingface\\datasets\\tweet_eval\\hate\\1.1.0\\12aee5282b8784f3e95459466db4cdf45c6bf49719c25cdb0743d71ed0410343\\cache-7b790427913483e3.arrow\n"
     ]
    },
    {
     "data": {
      "text/plain": "Map:   0%|          | 0/2970 [00:00<?, ? examples/s]",
      "application/vnd.jupyter.widget-view+json": {
       "version_major": 2,
       "version_minor": 0,
       "model_id": "929607b7261d4cc19415f1ecef300364"
      }
     },
     "metadata": {},
     "output_type": "display_data"
    },
    {
     "name": "stderr",
     "output_type": "stream",
     "text": [
      "Loading cached processed dataset at C:\\Users\\User\\.cache\\huggingface\\datasets\\tweet_eval\\hate\\1.1.0\\12aee5282b8784f3e95459466db4cdf45c6bf49719c25cdb0743d71ed0410343\\cache-c5726d51ab4df24d.arrow\n"
     ]
    }
   ],
   "source": [
    "# Tokenize the dataset\n",
    "tokenized_dataset = dataset.map(tokenize_function, batched=True)\n",
    "\n",
    "# Get the input_ids from the tokenized dataset for train, validation, and test sets\n",
    "train_input_ids = [example['input_ids'] for example in tokenized_dataset['train']]\n",
    "val_input_ids = [example['input_ids'] for example in tokenized_dataset['validation']]\n",
    "test_input_ids = [example['input_ids'] for example in tokenized_dataset['test']]\n",
    "\n",
    "# Convert input_ids to PyTorch tensors\n",
    "train_input_ids = torch.tensor(train_input_ids, dtype=torch.long)\n",
    "val_input_ids = torch.tensor(val_input_ids, dtype=torch.long)\n",
    "test_input_ids = torch.tensor(test_input_ids, dtype=torch.long)\n",
    "\n",
    "# Concatenate the input_ids tensors along the first dimension\n",
    "input_ids = torch.cat((train_input_ids, val_input_ids, test_input_ids), dim=0)\n"
   ],
   "metadata": {
    "collapsed": false
   }
  },
  {
   "cell_type": "code",
   "execution_count": 9,
   "outputs": [
    {
     "name": "stderr",
     "output_type": "stream",
     "text": [
      "Loading cached processed dataset at C:\\Users\\User\\.cache\\huggingface\\datasets\\tweet_eval\\hate\\1.1.0\\12aee5282b8784f3e95459466db4cdf45c6bf49719c25cdb0743d71ed0410343\\cache-8344fae524cb2168.arrow\n",
      "Loading cached processed dataset at C:\\Users\\User\\.cache\\huggingface\\datasets\\tweet_eval\\hate\\1.1.0\\12aee5282b8784f3e95459466db4cdf45c6bf49719c25cdb0743d71ed0410343\\cache-eb345cb4ea27444c.arrow\n",
      "Loading cached processed dataset at C:\\Users\\User\\.cache\\huggingface\\datasets\\tweet_eval\\hate\\1.1.0\\12aee5282b8784f3e95459466db4cdf45c6bf49719c25cdb0743d71ed0410343\\cache-c5726d51ab4df24d.arrow\n"
     ]
    }
   ],
   "source": [
    "# Tokenize the dataset\n",
    "tokenized_dataset = dataset.map(tokenize_function, batched=True)\n",
    "\n",
    "# Get the attention_masks from the tokenized dataset for train, validation, and test sets\n",
    "train_attention_mask = [example['attention_mask'] for example in tokenized_dataset['train']]\n",
    "val_attention_mask = [example['attention_mask'] for example in tokenized_dataset['validation']]\n",
    "test_attention_mask = [example['attention_mask'] for example in tokenized_dataset['test']]\n",
    "\n",
    "# Convert attention_mask to PyTorch tensors\n",
    "train_attention_mask = torch.tensor(train_attention_mask, dtype=torch.long)\n",
    "val_attention_mask = torch.tensor(val_attention_mask, dtype=torch.long)\n",
    "test_attention_mask = torch.tensor(test_attention_mask, dtype=torch.long)\n",
    "\n",
    "# Concatenate the input_ids tensors along the first dimension\n",
    "attention_masks = torch.cat((train_attention_mask, val_attention_mask, test_attention_mask), dim=0)\n"
   ],
   "metadata": {
    "collapsed": false
   }
  },
  {
   "cell_type": "code",
   "execution_count": 10,
   "outputs": [
    {
     "name": "stdout",
     "output_type": "stream",
     "text": [
      "tensor([[ 101, 1030, 5310,  ...,    0,    0,    0],\n",
      "        [ 101, 1037, 2450,  ...,    0,    0,    0],\n",
      "        [ 101, 1030, 5310,  ...,    0,    0,    0],\n",
      "        ...,\n",
      "        [ 101, 1030, 5310,  ...,    0,    0,    0],\n",
      "        [ 101, 1030, 5310,  ...,    0,    0,    0],\n",
      "        [ 101, 2008, 7743,  ...,    0,    0,    0]])\n"
     ]
    }
   ],
   "source": [
    "print(input_ids)"
   ],
   "metadata": {
    "collapsed": false
   }
  },
  {
   "cell_type": "code",
   "execution_count": 11,
   "outputs": [
    {
     "name": "stdout",
     "output_type": "stream",
     "text": [
      "tensor([[1, 1, 1,  ..., 0, 0, 0],\n",
      "        [1, 1, 1,  ..., 0, 0, 0],\n",
      "        [1, 1, 1,  ..., 0, 0, 0],\n",
      "        ...,\n",
      "        [1, 1, 1,  ..., 0, 0, 0],\n",
      "        [1, 1, 1,  ..., 0, 0, 0],\n",
      "        [1, 1, 1,  ..., 0, 0, 0]])\n"
     ]
    }
   ],
   "source": [
    "print(attention_masks)"
   ],
   "metadata": {
    "collapsed": false
   }
  },
  {
   "cell_type": "code",
   "execution_count": 12,
   "outputs": [],
   "source": [
    "# Split the dataset into train, validation, and test sets\n",
    "train_dataset = tokenized_dataset[\"train\"]\n",
    "val_dataset = tokenized_dataset[\"validation\"]\n",
    "test_dataset = tokenized_dataset[\"test\"]"
   ],
   "metadata": {
    "collapsed": false
   }
  },
  {
   "cell_type": "code",
   "execution_count": 13,
   "outputs": [],
   "source": [
    "# Convert the datasets to PyTorch tensors\n",
    "train_dataset = train_dataset.remove_columns([\"text\"])\n",
    "val_dataset = val_dataset.remove_columns([\"text\"])\n",
    "test_dataset = test_dataset.remove_columns([\"text\"])"
   ],
   "metadata": {
    "collapsed": false
   }
  },
  {
   "cell_type": "code",
   "execution_count": 14,
   "outputs": [],
   "source": [
    "train_dataset.set_format(\"torch\", columns=[\"input_ids\", \"attention_mask\", \"label\"])\n",
    "val_dataset.set_format(\"torch\", columns=[\"input_ids\", \"attention_mask\", \"label\"])\n",
    "test_dataset.set_format(\"torch\", columns=[\"input_ids\", \"attention_mask\", \"label\"])"
   ],
   "metadata": {
    "collapsed": false
   }
  },
  {
   "cell_type": "code",
   "execution_count": 15,
   "outputs": [],
   "source": [
    "\n",
    "\n",
    "class HateSpeechDetectionModel(nn.Module):\n",
    "    def __init__(self, num_classes=2):\n",
    "        super(HateSpeechDetectionModel, self).__init__()\n",
    "        self.bert = BertModel.from_pretrained('distilbert-base-uncased')\n",
    "        self.dropout = nn.Dropout(0.1)\n",
    "        self.fc = nn.Linear(self.bert.config.hidden_size, num_classes)\n",
    "\n",
    "    def forward(self, input_ids, attention_mask):\n",
    "        outputs = self.bert(input_ids=input_ids, attention_mask=attention_mask)\n",
    "        pooled_output = outputs.pooler_output\n",
    "        pooled_output = self.dropout(pooled_output)\n",
    "        logits = self.fc(pooled_output)\n",
    "        return logits\n"
   ],
   "metadata": {
    "collapsed": false
   }
  },
  {
   "cell_type": "code",
   "execution_count": 16,
   "outputs": [],
   "source": [
    "device = torch.device(\"cuda\" if torch.cuda.is_available() else \"cpu\")\n"
   ],
   "metadata": {
    "collapsed": false
   }
  },
  {
   "cell_type": "code",
   "execution_count": 17,
   "outputs": [
    {
     "name": "stderr",
     "output_type": "stream",
     "text": [
      "You are using a model of type distilbert to instantiate a model of type bert. This is not supported for all configurations of models and can yield errors.\n",
      "Some weights of the model checkpoint at distilbert-base-uncased were not used when initializing BertModel: ['distilbert.transformer.layer.5.attention.v_lin.weight', 'distilbert.transformer.layer.2.attention.out_lin.bias', 'distilbert.transformer.layer.3.output_layer_norm.weight', 'vocab_layer_norm.bias', 'distilbert.transformer.layer.0.ffn.lin2.bias', 'distilbert.transformer.layer.2.attention.q_lin.bias', 'distilbert.transformer.layer.1.attention.v_lin.bias', 'distilbert.transformer.layer.0.attention.out_lin.bias', 'distilbert.transformer.layer.2.attention.out_lin.weight', 'distilbert.transformer.layer.1.attention.q_lin.weight', 'distilbert.transformer.layer.5.sa_layer_norm.weight', 'distilbert.transformer.layer.1.output_layer_norm.bias', 'distilbert.transformer.layer.3.ffn.lin1.bias', 'distilbert.transformer.layer.4.ffn.lin1.bias', 'distilbert.transformer.layer.1.attention.out_lin.weight', 'distilbert.transformer.layer.2.attention.k_lin.weight', 'distilbert.transformer.layer.4.attention.v_lin.weight', 'distilbert.transformer.layer.0.output_layer_norm.bias', 'distilbert.transformer.layer.3.output_layer_norm.bias', 'distilbert.transformer.layer.3.ffn.lin2.bias', 'distilbert.transformer.layer.1.sa_layer_norm.bias', 'distilbert.transformer.layer.2.output_layer_norm.bias', 'distilbert.transformer.layer.4.attention.v_lin.bias', 'distilbert.transformer.layer.0.sa_layer_norm.weight', 'distilbert.embeddings.LayerNorm.weight', 'distilbert.transformer.layer.3.attention.k_lin.bias', 'distilbert.transformer.layer.4.ffn.lin2.weight', 'distilbert.transformer.layer.2.attention.k_lin.bias', 'distilbert.transformer.layer.3.ffn.lin2.weight', 'distilbert.transformer.layer.5.ffn.lin1.bias', 'vocab_projector.weight', 'distilbert.transformer.layer.5.ffn.lin2.weight', 'distilbert.embeddings.LayerNorm.bias', 'distilbert.transformer.layer.5.ffn.lin2.bias', 'distilbert.transformer.layer.1.attention.k_lin.bias', 'distilbert.transformer.layer.0.attention.q_lin.weight', 'distilbert.transformer.layer.3.sa_layer_norm.weight', 'distilbert.transformer.layer.3.attention.out_lin.weight', 'distilbert.transformer.layer.3.attention.out_lin.bias', 'distilbert.transformer.layer.2.ffn.lin2.bias', 'distilbert.transformer.layer.0.attention.out_lin.weight', 'distilbert.transformer.layer.4.attention.k_lin.weight', 'distilbert.transformer.layer.0.output_layer_norm.weight', 'distilbert.transformer.layer.4.attention.q_lin.weight', 'distilbert.transformer.layer.4.attention.out_lin.weight', 'distilbert.transformer.layer.5.ffn.lin1.weight', 'vocab_projector.bias', 'distilbert.transformer.layer.0.sa_layer_norm.bias', 'distilbert.transformer.layer.1.attention.out_lin.bias', 'distilbert.transformer.layer.4.attention.k_lin.bias', 'distilbert.transformer.layer.1.ffn.lin2.weight', 'distilbert.transformer.layer.5.sa_layer_norm.bias', 'distilbert.transformer.layer.3.ffn.lin1.weight', 'distilbert.transformer.layer.0.ffn.lin1.bias', 'distilbert.transformer.layer.2.attention.q_lin.weight', 'distilbert.transformer.layer.5.attention.k_lin.bias', 'distilbert.transformer.layer.1.ffn.lin1.bias', 'distilbert.transformer.layer.1.sa_layer_norm.weight', 'distilbert.transformer.layer.1.attention.v_lin.weight', 'distilbert.transformer.layer.2.ffn.lin1.weight', 'distilbert.transformer.layer.2.sa_layer_norm.weight', 'distilbert.transformer.layer.5.attention.out_lin.weight', 'distilbert.transformer.layer.4.output_layer_norm.weight', 'distilbert.transformer.layer.1.ffn.lin2.bias', 'distilbert.transformer.layer.5.attention.q_lin.bias', 'distilbert.transformer.layer.4.attention.out_lin.bias', 'distilbert.transformer.layer.5.output_layer_norm.weight', 'distilbert.transformer.layer.4.ffn.lin2.bias', 'distilbert.transformer.layer.0.attention.v_lin.bias', 'distilbert.transformer.layer.0.ffn.lin1.weight', 'distilbert.transformer.layer.4.attention.q_lin.bias', 'distilbert.embeddings.word_embeddings.weight', 'distilbert.transformer.layer.4.sa_layer_norm.weight', 'distilbert.transformer.layer.3.attention.q_lin.bias', 'distilbert.transformer.layer.2.output_layer_norm.weight', 'distilbert.transformer.layer.5.output_layer_norm.bias', 'vocab_layer_norm.weight', 'vocab_transform.weight', 'distilbert.transformer.layer.3.attention.v_lin.weight', 'distilbert.transformer.layer.4.ffn.lin1.weight', 'distilbert.transformer.layer.0.attention.v_lin.weight', 'distilbert.transformer.layer.3.attention.k_lin.weight', 'distilbert.transformer.layer.5.attention.v_lin.bias', 'distilbert.transformer.layer.2.ffn.lin1.bias', 'distilbert.transformer.layer.0.attention.q_lin.bias', 'distilbert.transformer.layer.3.attention.v_lin.bias', 'distilbert.transformer.layer.0.attention.k_lin.weight', 'distilbert.transformer.layer.4.output_layer_norm.bias', 'distilbert.transformer.layer.0.ffn.lin2.weight', 'distilbert.transformer.layer.2.attention.v_lin.weight', 'distilbert.transformer.layer.5.attention.k_lin.weight', 'distilbert.transformer.layer.3.attention.q_lin.weight', 'distilbert.transformer.layer.2.sa_layer_norm.bias', 'vocab_transform.bias', 'distilbert.transformer.layer.1.attention.k_lin.weight', 'distilbert.transformer.layer.1.attention.q_lin.bias', 'distilbert.transformer.layer.5.attention.out_lin.bias', 'distilbert.transformer.layer.2.attention.v_lin.bias', 'distilbert.transformer.layer.0.attention.k_lin.bias', 'distilbert.embeddings.position_embeddings.weight', 'distilbert.transformer.layer.4.sa_layer_norm.bias', 'distilbert.transformer.layer.5.attention.q_lin.weight', 'distilbert.transformer.layer.2.ffn.lin2.weight', 'distilbert.transformer.layer.3.sa_layer_norm.bias', 'distilbert.transformer.layer.1.output_layer_norm.weight', 'distilbert.transformer.layer.1.ffn.lin1.weight']\n",
      "- This IS expected if you are initializing BertModel from the checkpoint of a model trained on another task or with another architecture (e.g. initializing a BertForSequenceClassification model from a BertForPreTraining model).\n",
      "- This IS NOT expected if you are initializing BertModel from the checkpoint of a model that you expect to be exactly identical (initializing a BertForSequenceClassification model from a BertForSequenceClassification model).\n",
      "Some weights of BertModel were not initialized from the model checkpoint at distilbert-base-uncased and are newly initialized: ['encoder.layer.0.attention.output.dense.bias', 'encoder.layer.5.output.LayerNorm.weight', 'encoder.layer.0.attention.self.query.bias', 'encoder.layer.2.attention.output.LayerNorm.weight', 'pooler.dense.bias', 'encoder.layer.4.attention.output.LayerNorm.bias', 'encoder.layer.9.output.dense.weight', 'encoder.layer.10.output.dense.weight', 'encoder.layer.0.attention.self.value.bias', 'encoder.layer.5.intermediate.dense.weight', 'encoder.layer.8.output.dense.bias', 'encoder.layer.5.output.dense.bias', 'encoder.layer.11.attention.self.query.bias', 'encoder.layer.1.attention.self.value.weight', 'encoder.layer.3.attention.output.dense.weight', 'encoder.layer.3.intermediate.dense.bias', 'encoder.layer.11.attention.output.dense.weight', 'encoder.layer.0.attention.self.query.weight', 'encoder.layer.8.attention.self.query.bias', 'encoder.layer.10.attention.output.dense.weight', 'encoder.layer.1.attention.output.LayerNorm.weight', 'embeddings.LayerNorm.weight', 'encoder.layer.4.attention.output.dense.bias', 'encoder.layer.6.attention.output.LayerNorm.weight', 'encoder.layer.7.output.LayerNorm.bias', 'encoder.layer.7.attention.self.value.bias', 'encoder.layer.8.attention.output.dense.bias', 'encoder.layer.1.attention.self.value.bias', 'encoder.layer.7.intermediate.dense.bias', 'encoder.layer.2.output.LayerNorm.bias', 'encoder.layer.8.attention.self.key.bias', 'encoder.layer.8.attention.self.query.weight', 'encoder.layer.11.intermediate.dense.bias', 'encoder.layer.0.output.dense.weight', 'encoder.layer.4.attention.self.query.weight', 'encoder.layer.5.attention.self.query.weight', 'encoder.layer.10.attention.self.key.bias', 'encoder.layer.4.output.LayerNorm.weight', 'encoder.layer.3.output.LayerNorm.bias', 'encoder.layer.0.attention.self.value.weight', 'encoder.layer.1.output.LayerNorm.bias', 'encoder.layer.4.output.LayerNorm.bias', 'encoder.layer.2.attention.self.key.bias', 'encoder.layer.0.output.LayerNorm.weight', 'encoder.layer.3.output.LayerNorm.weight', 'encoder.layer.1.attention.self.query.bias', 'encoder.layer.5.intermediate.dense.bias', 'encoder.layer.9.intermediate.dense.weight', 'encoder.layer.3.attention.self.query.weight', 'encoder.layer.7.attention.self.value.weight', 'encoder.layer.0.output.dense.bias', 'encoder.layer.7.attention.self.query.bias', 'encoder.layer.10.attention.self.value.weight', 'encoder.layer.6.attention.output.dense.weight', 'encoder.layer.11.attention.self.query.weight', 'encoder.layer.5.attention.self.value.bias', 'encoder.layer.7.output.dense.bias', 'encoder.layer.4.attention.self.value.bias', 'encoder.layer.5.attention.output.LayerNorm.weight', 'encoder.layer.2.attention.self.key.weight', 'encoder.layer.6.attention.output.LayerNorm.bias', 'encoder.layer.10.attention.self.query.weight', 'encoder.layer.10.attention.output.LayerNorm.bias', 'encoder.layer.5.attention.output.dense.weight', 'encoder.layer.9.attention.self.value.weight', 'encoder.layer.6.attention.output.dense.bias', 'encoder.layer.1.attention.output.dense.weight', 'encoder.layer.2.attention.self.value.bias', 'encoder.layer.3.attention.self.key.weight', 'encoder.layer.2.attention.self.value.weight', 'encoder.layer.11.output.dense.weight', 'encoder.layer.8.attention.output.LayerNorm.weight', 'encoder.layer.0.attention.output.dense.weight', 'encoder.layer.4.output.dense.weight', 'encoder.layer.0.output.LayerNorm.bias', 'encoder.layer.8.output.LayerNorm.bias', 'encoder.layer.10.attention.self.key.weight', 'pooler.dense.weight', 'encoder.layer.10.intermediate.dense.bias', 'encoder.layer.0.intermediate.dense.weight', 'encoder.layer.6.output.dense.weight', 'encoder.layer.9.attention.self.key.weight', 'encoder.layer.3.output.dense.weight', 'encoder.layer.9.attention.self.query.weight', 'encoder.layer.3.attention.output.LayerNorm.bias', 'encoder.layer.8.attention.output.LayerNorm.bias', 'encoder.layer.2.attention.self.query.weight', 'encoder.layer.10.output.dense.bias', 'encoder.layer.0.attention.output.LayerNorm.weight', 'encoder.layer.7.attention.self.query.weight', 'encoder.layer.1.output.dense.weight', 'encoder.layer.1.intermediate.dense.bias', 'encoder.layer.11.output.LayerNorm.bias', 'encoder.layer.6.attention.self.query.bias', 'encoder.layer.3.attention.self.key.bias', 'encoder.layer.0.attention.self.key.weight', 'encoder.layer.0.attention.output.LayerNorm.bias', 'encoder.layer.6.output.dense.bias', 'encoder.layer.11.attention.output.LayerNorm.weight', 'encoder.layer.2.intermediate.dense.bias', 'encoder.layer.1.attention.output.LayerNorm.bias', 'encoder.layer.5.output.dense.weight', 'encoder.layer.11.attention.self.value.bias', 'encoder.layer.8.attention.self.value.bias', 'encoder.layer.11.attention.self.key.bias', 'encoder.layer.8.output.LayerNorm.weight', 'encoder.layer.2.output.dense.weight', 'encoder.layer.4.attention.self.query.bias', 'encoder.layer.8.attention.output.dense.weight', 'encoder.layer.11.attention.self.key.weight', 'encoder.layer.11.output.dense.bias', 'encoder.layer.11.intermediate.dense.weight', 'encoder.layer.1.output.LayerNorm.weight', 'encoder.layer.10.attention.self.value.bias', 'encoder.layer.3.attention.self.value.weight', 'encoder.layer.4.intermediate.dense.bias', 'encoder.layer.8.intermediate.dense.weight', 'encoder.layer.9.attention.self.value.bias', 'encoder.layer.4.output.dense.bias', 'encoder.layer.10.attention.self.query.bias', 'encoder.layer.10.attention.output.LayerNorm.weight', 'encoder.layer.1.attention.output.dense.bias', 'encoder.layer.6.output.LayerNorm.weight', 'encoder.layer.9.attention.output.dense.weight', 'encoder.layer.9.attention.self.query.bias', 'encoder.layer.4.attention.self.value.weight', 'encoder.layer.1.intermediate.dense.weight', 'encoder.layer.7.attention.self.key.weight', 'encoder.layer.7.intermediate.dense.weight', 'encoder.layer.3.attention.self.query.bias', 'encoder.layer.2.attention.self.query.bias', 'encoder.layer.10.attention.output.dense.bias', 'encoder.layer.7.attention.output.LayerNorm.weight', 'encoder.layer.5.attention.self.key.weight', 'encoder.layer.4.attention.self.key.bias', 'encoder.layer.6.attention.self.key.weight', 'encoder.layer.4.attention.output.LayerNorm.weight', 'encoder.layer.3.intermediate.dense.weight', 'encoder.layer.6.attention.self.key.bias', 'encoder.layer.8.intermediate.dense.bias', 'encoder.layer.5.output.LayerNorm.bias', 'encoder.layer.7.attention.output.dense.weight', 'encoder.layer.9.attention.self.key.bias', 'encoder.layer.10.output.LayerNorm.bias', 'encoder.layer.6.attention.self.value.weight', 'encoder.layer.6.intermediate.dense.bias', 'encoder.layer.1.attention.self.query.weight', 'encoder.layer.7.attention.output.dense.bias', 'encoder.layer.4.attention.self.key.weight', 'encoder.layer.3.attention.output.LayerNorm.weight', 'encoder.layer.3.output.dense.bias', 'encoder.layer.10.output.LayerNorm.weight', 'encoder.layer.9.attention.output.LayerNorm.bias', 'encoder.layer.7.output.dense.weight', 'encoder.layer.9.attention.output.dense.bias', 'encoder.layer.0.intermediate.dense.bias', 'encoder.layer.2.attention.output.dense.weight', 'encoder.layer.7.output.LayerNorm.weight', 'encoder.layer.7.attention.self.key.bias', 'encoder.layer.6.attention.self.query.weight', 'encoder.layer.4.intermediate.dense.weight', 'encoder.layer.2.output.LayerNorm.weight', 'encoder.layer.5.attention.output.LayerNorm.bias', 'encoder.layer.9.attention.output.LayerNorm.weight', 'encoder.layer.2.intermediate.dense.weight', 'encoder.layer.9.intermediate.dense.bias', 'encoder.layer.9.output.dense.bias', 'embeddings.word_embeddings.weight', 'encoder.layer.1.output.dense.bias', 'encoder.layer.8.output.dense.weight', 'encoder.layer.5.attention.output.dense.bias', 'encoder.layer.3.attention.output.dense.bias', 'encoder.layer.8.attention.self.key.weight', 'encoder.layer.10.intermediate.dense.weight', 'encoder.layer.7.attention.output.LayerNorm.bias', 'encoder.layer.11.attention.self.value.weight', 'encoder.layer.5.attention.self.value.weight', 'encoder.layer.2.attention.output.LayerNorm.bias', 'encoder.layer.5.attention.self.query.bias', 'encoder.layer.9.output.LayerNorm.bias', 'embeddings.LayerNorm.bias', 'encoder.layer.6.output.LayerNorm.bias', 'embeddings.position_embeddings.weight', 'encoder.layer.5.attention.self.key.bias', 'encoder.layer.1.attention.self.key.bias', 'encoder.layer.3.attention.self.value.bias', 'encoder.layer.0.attention.self.key.bias', 'encoder.layer.11.attention.output.dense.bias', 'encoder.layer.2.output.dense.bias', 'encoder.layer.2.attention.output.dense.bias', 'encoder.layer.4.attention.output.dense.weight', 'encoder.layer.6.attention.self.value.bias', 'encoder.layer.9.output.LayerNorm.weight', 'encoder.layer.1.attention.self.key.weight', 'encoder.layer.8.attention.self.value.weight', 'embeddings.token_type_embeddings.weight', 'encoder.layer.6.intermediate.dense.weight', 'encoder.layer.11.attention.output.LayerNorm.bias', 'encoder.layer.11.output.LayerNorm.weight']\n",
      "You should probably TRAIN this model on a down-stream task to be able to use it for predictions and inference.\n"
     ]
    }
   ],
   "source": [
    "# instantiate your model\n",
    "hate_model = HateSpeechDetectionModel(num_classes=2).to(device)"
   ],
   "metadata": {
    "collapsed": false
   }
  },
  {
   "cell_type": "code",
   "execution_count": 18,
   "outputs": [],
   "source": [
    "# define your loss function\n",
    "criterion = nn.CrossEntropyLoss()\n",
    "\n",
    "# define your optimizer\n",
    "optimizer = torch.optim.Adam(hate_model.parameters(), lr=0.01)"
   ],
   "metadata": {
    "collapsed": false
   }
  },
  {
   "cell_type": "code",
   "execution_count": 19,
   "outputs": [],
   "source": [
    "# set up your training, validation, and test dataloaders\n",
    "train_loader = DataLoader(train_dataset, batch_size=16, shuffle=True)\n",
    "val_loader = DataLoader(val_dataset, batch_size=16)\n",
    "test_loader = DataLoader(test_dataset, batch_size=16)"
   ],
   "metadata": {
    "collapsed": false
   }
  },
  {
   "cell_type": "code",
   "execution_count": 20,
   "outputs": [
    {
     "name": "stdout",
     "output_type": "stream",
     "text": [
      "{'label': tensor([0, 1, 0, 1, 0, 0, 0, 1, 0, 1, 0, 0, 0, 0, 1, 1]), 'input_ids': tensor([[ 101, 9610, 1011,  ...,    0,    0,    0],\n",
      "        [ 101, 2493, 1999,  ...,    0,    0,    0],\n",
      "        [ 101, 1030, 5310,  ...,    0,    0,    0],\n",
      "        ...,\n",
      "        [ 101, 1000, 2043,  ...,    0,    0,    0],\n",
      "        [ 101, 1996, 2446,  ...,    0,    0,    0],\n",
      "        [ 101, 1996, 2630,  ...,    0,    0,    0]]), 'attention_mask': tensor([[1, 1, 1,  ..., 0, 0, 0],\n",
      "        [1, 1, 1,  ..., 0, 0, 0],\n",
      "        [1, 1, 1,  ..., 0, 0, 0],\n",
      "        ...,\n",
      "        [1, 1, 1,  ..., 0, 0, 0],\n",
      "        [1, 1, 1,  ..., 0, 0, 0],\n",
      "        [1, 1, 1,  ..., 0, 0, 0]])}\n",
      "{'label': tensor([0, 0, 1, 1, 1, 1, 1, 1, 1, 1, 0, 1, 0, 0, 1, 0]), 'input_ids': tensor([[  101,  1997,  2256,  ...,     0,     0,     0],\n",
      "        [  101,  1045,  2293,  ...,     0,     0,     0],\n",
      "        [  101,  1030,  5310,  ...,     0,     0,     0],\n",
      "        ...,\n",
      "        [  101,  1061,  1521,  ...,     0,     0,     0],\n",
      "        [  101,  7570,  2229,  ...,     0,     0,     0],\n",
      "        [  101,  2845, 11560,  ...,     0,     0,     0]]), 'attention_mask': tensor([[1, 1, 1,  ..., 0, 0, 0],\n",
      "        [1, 1, 1,  ..., 0, 0, 0],\n",
      "        [1, 1, 1,  ..., 0, 0, 0],\n",
      "        ...,\n",
      "        [1, 1, 1,  ..., 0, 0, 0],\n",
      "        [1, 1, 1,  ..., 0, 0, 0],\n",
      "        [1, 1, 1,  ..., 0, 0, 0]])}\n",
      "{'label': tensor([1, 1, 0, 0, 0, 1, 0, 0, 1, 1, 1, 0, 0, 0, 1, 0]), 'input_ids': tensor([[ 101, 2459, 1011,  ...,    0,    0,    0],\n",
      "        [ 101, 1030, 5310,  ...,    0,    0,    0],\n",
      "        [ 101, 2058, 1016,  ...,    0,    0,    0],\n",
      "        ...,\n",
      "        [ 101, 8398, 3447,  ...,    0,    0,    0],\n",
      "        [ 101, 1030, 5310,  ...,    0,    0,    0],\n",
      "        [ 101, 7632, 6221,  ...,    0,    0,    0]]), 'attention_mask': tensor([[1, 1, 1,  ..., 0, 0, 0],\n",
      "        [1, 1, 1,  ..., 0, 0, 0],\n",
      "        [1, 1, 1,  ..., 0, 0, 0],\n",
      "        ...,\n",
      "        [1, 1, 1,  ..., 0, 0, 0],\n",
      "        [1, 1, 1,  ..., 0, 0, 0],\n",
      "        [1, 1, 1,  ..., 0, 0, 0]])}\n",
      "{'label': tensor([0, 0, 1, 0, 0, 1, 0, 1, 1, 1, 0, 1, 0, 1, 1, 1]), 'input_ids': tensor([[ 101, 1996, 3522,  ...,    0,    0,    0],\n",
      "        [ 101, 2457, 2636,  ...,    0,    0,    0],\n",
      "        [ 101, 1030, 5310,  ...,    0,    0,    0],\n",
      "        ...,\n",
      "        [ 101, 2196, 1037,  ...,    0,    0,    0],\n",
      "        [ 101, 1030, 5310,  ...,    0,    0,    0],\n",
      "        [ 101, 2178, 2028,  ...,    0,    0,    0]]), 'attention_mask': tensor([[1, 1, 1,  ..., 0, 0, 0],\n",
      "        [1, 1, 1,  ..., 0, 0, 0],\n",
      "        [1, 1, 1,  ..., 0, 0, 0],\n",
      "        ...,\n",
      "        [1, 1, 1,  ..., 0, 0, 0],\n",
      "        [1, 1, 1,  ..., 0, 0, 0],\n",
      "        [1, 1, 1,  ..., 0, 0, 0]])}\n",
      "{'label': tensor([1, 0, 1, 0, 1, 0, 1, 1, 0, 0, 0, 1, 0, 1, 1, 1]), 'input_ids': tensor([[ 101, 8257, 1010,  ...,    0,    0,    0],\n",
      "        [ 101, 3080, 6001,  ...,    0,    0,    0],\n",
      "        [ 101, 1030, 5310,  ...,    0,    0,    0],\n",
      "        ...,\n",
      "        [ 101, 1030, 5310,  ...,    0,    0,    0],\n",
      "        [ 101, 2065, 1045,  ...,    0,    0,    0],\n",
      "        [ 101, 1030, 5310,  ...,    0,    0,    0]]), 'attention_mask': tensor([[1, 1, 1,  ..., 0, 0, 0],\n",
      "        [1, 1, 1,  ..., 0, 0, 0],\n",
      "        [1, 1, 1,  ..., 0, 0, 0],\n",
      "        ...,\n",
      "        [1, 1, 1,  ..., 0, 0, 0],\n",
      "        [1, 1, 1,  ..., 0, 0, 0],\n",
      "        [1, 1, 1,  ..., 0, 0, 0]])}\n",
      "{'label': tensor([0, 0, 1, 0, 0, 0, 0, 0, 0, 1, 0, 1, 0, 1, 0, 0]), 'input_ids': tensor([[  101,  1001,  3956,  ...,     0,     0,     0],\n",
      "        [  101,  1045,  2031,  ...,     0,     0,     0],\n",
      "        [  101,  2893,  2014,  ...,     0,     0,     0],\n",
      "        ...,\n",
      "        [  101, 27541,  1996,  ...,     0,     0,     0],\n",
      "        [  101, 12731,  3372,  ...,     0,     0,     0],\n",
      "        [  101, 10651,  1517,  ...,     0,     0,     0]]), 'attention_mask': tensor([[1, 1, 1,  ..., 0, 0, 0],\n",
      "        [1, 1, 1,  ..., 0, 0, 0],\n",
      "        [1, 1, 1,  ..., 0, 0, 0],\n",
      "        ...,\n",
      "        [1, 1, 1,  ..., 0, 0, 0],\n",
      "        [1, 1, 1,  ..., 0, 0, 0],\n",
      "        [1, 1, 1,  ..., 0, 0, 0]])}\n",
      "{'label': tensor([0, 1, 0, 1, 0, 0, 0, 0, 0, 0, 0, 0, 0, 1, 1, 0]), 'input_ids': tensor([[ 101, 1030, 5310,  ...,    0,    0,    0],\n",
      "        [ 101, 1030, 5310,  ...,    0,    0,    0],\n",
      "        [ 101, 2065, 2017,  ...,    0,    0,    0],\n",
      "        ...,\n",
      "        [ 101, 2450, 2024,  ...,    0,    0,    0],\n",
      "        [ 101, 2643, 8239,  ...,    0,    0,    0],\n",
      "        [ 101, 2043, 2035,  ...,    0,    0,    0]]), 'attention_mask': tensor([[1, 1, 1,  ..., 0, 0, 0],\n",
      "        [1, 1, 1,  ..., 0, 0, 0],\n",
      "        [1, 1, 1,  ..., 0, 0, 0],\n",
      "        ...,\n",
      "        [1, 1, 1,  ..., 0, 0, 0],\n",
      "        [1, 1, 1,  ..., 0, 0, 0],\n",
      "        [1, 1, 1,  ..., 0, 0, 0]])}\n",
      "{'label': tensor([0, 1, 0, 0, 0, 0, 1, 1, 0, 0, 0, 1, 0, 1, 0, 0]), 'input_ids': tensor([[  101,  3360,  2729,  ...,     0,     0,     0],\n",
      "        [  101,  1030,  5310,  ...,     0,     0,     0],\n",
      "        [  101, 20010,  8113,  ...,     0,     0,     0],\n",
      "        ...,\n",
      "        [  101,  6616,  1996,  ...,     0,     0,     0],\n",
      "        [  101,  1001, 11050,  ...,     0,     0,     0],\n",
      "        [  101,  2879,  1010,  ...,     0,     0,     0]]), 'attention_mask': tensor([[1, 1, 1,  ..., 0, 0, 0],\n",
      "        [1, 1, 1,  ..., 0, 0, 0],\n",
      "        [1, 1, 1,  ..., 0, 0, 0],\n",
      "        ...,\n",
      "        [1, 1, 1,  ..., 0, 0, 0],\n",
      "        [1, 1, 1,  ..., 0, 0, 0],\n",
      "        [1, 1, 1,  ..., 0, 0, 0]])}\n",
      "{'label': tensor([0, 1, 1, 0, 0, 1, 0, 0, 0, 0, 1, 1, 0, 0, 1, 1]), 'input_ids': tensor([[ 101, 1045, 2064,  ...,    0,    0,    0],\n",
      "        [ 101, 3735, 1024,  ...,    0,    0,    0],\n",
      "        [ 101, 3060, 8711,  ...,    0,    0,    0],\n",
      "        ...,\n",
      "        [ 101, 1030, 5310,  ...,    0,    0,    0],\n",
      "        [ 101, 2017, 2113,  ...,    0,    0,    0],\n",
      "        [ 101, 1030, 5310,  ...,    0,    0,    0]]), 'attention_mask': tensor([[1, 1, 1,  ..., 0, 0, 0],\n",
      "        [1, 1, 1,  ..., 0, 0, 0],\n",
      "        [1, 1, 1,  ..., 0, 0, 0],\n",
      "        ...,\n",
      "        [1, 1, 1,  ..., 0, 0, 0],\n",
      "        [1, 1, 1,  ..., 0, 0, 0],\n",
      "        [1, 1, 1,  ..., 0, 0, 0]])}\n",
      "{'label': tensor([1, 0, 1, 0, 1, 0, 0, 0, 1, 0, 0, 1, 0, 1, 0, 1]), 'input_ids': tensor([[ 101, 2385, 6206,  ...,    0,    0,    0],\n",
      "        [ 101, 1030, 5310,  ...,    0,    0,    0],\n",
      "        [ 101, 2062, 2084,  ...,    0,    0,    0],\n",
      "        ...,\n",
      "        [ 101, 1030, 5310,  ...,    0,    0,    0],\n",
      "        [ 101, 1996, 2446,  ...,    0,    0,    0],\n",
      "        [ 101, 4530, 1999,  ...,    0,    0,    0]]), 'attention_mask': tensor([[1, 1, 1,  ..., 0, 0, 0],\n",
      "        [1, 1, 1,  ..., 0, 0, 0],\n",
      "        [1, 1, 1,  ..., 0, 0, 0],\n",
      "        ...,\n",
      "        [1, 1, 1,  ..., 0, 0, 0],\n",
      "        [1, 1, 1,  ..., 0, 0, 0],\n",
      "        [1, 1, 1,  ..., 0, 0, 0]])}\n",
      "{'label': tensor([1, 1, 1, 1, 0, 0, 1, 1, 1, 0, 1, 0, 0, 0, 0, 0]), 'input_ids': tensor([[ 101, 1030, 5310,  ...,    0,    0,    0],\n",
      "        [ 101, 2123, 1005,  ...,    0,    0,    0],\n",
      "        [ 101, 2664, 2178,  ...,    0,    0,    0],\n",
      "        ...,\n",
      "        [ 101, 1996, 3412,  ...,    0,    0,    0],\n",
      "        [ 101, 1045, 1005,  ...,    0,    0,    0],\n",
      "        [ 101, 1045, 2572,  ...,    0,    0,    0]]), 'attention_mask': tensor([[1, 1, 1,  ..., 0, 0, 0],\n",
      "        [1, 1, 1,  ..., 0, 0, 0],\n",
      "        [1, 1, 1,  ..., 0, 0, 0],\n",
      "        ...,\n",
      "        [1, 1, 1,  ..., 0, 0, 0],\n",
      "        [1, 1, 1,  ..., 0, 0, 0],\n",
      "        [1, 1, 1,  ..., 0, 0, 0]])}\n",
      "{'label': tensor([1, 0, 0, 0, 1, 1, 1, 0, 0, 0, 0, 0, 1, 1, 1, 0]), 'input_ids': tensor([[  101,  2077,  2017,  ...,     0,     0,     0],\n",
      "        [  101,  6719,  2074,  ...,     0,     0,     0],\n",
      "        [  101,  2413, 17895,  ...,     0,     0,     0],\n",
      "        ...,\n",
      "        [  101,  2017,  2031,  ...,     0,     0,     0],\n",
      "        [  101,  1030,  5310,  ...,     0,     0,     0],\n",
      "        [  101,  1996,  2765,  ...,     0,     0,     0]]), 'attention_mask': tensor([[1, 1, 1,  ..., 0, 0, 0],\n",
      "        [1, 1, 1,  ..., 0, 0, 0],\n",
      "        [1, 1, 1,  ..., 0, 0, 0],\n",
      "        ...,\n",
      "        [1, 1, 1,  ..., 0, 0, 0],\n",
      "        [1, 1, 1,  ..., 0, 0, 0],\n",
      "        [1, 1, 1,  ..., 0, 0, 0]])}\n",
      "{'label': tensor([0, 0, 0, 0, 0, 1, 0, 0, 0, 0, 0, 1, 0, 1, 0, 1]), 'input_ids': tensor([[ 101, 1030, 5310,  ...,    0,    0,    0],\n",
      "        [ 101, 2651, 2003,  ...,    0,    0,    0],\n",
      "        [ 101, 2043, 2619,  ...,    0,    0,    0],\n",
      "        ...,\n",
      "        [ 101, 1030, 5310,  ...,    0,    0,    0],\n",
      "        [ 101, 2116, 2308,  ...,    0,    0,    0],\n",
      "        [ 101, 2009, 1005,  ...,    0,    0,    0]]), 'attention_mask': tensor([[1, 1, 1,  ..., 0, 0, 0],\n",
      "        [1, 1, 1,  ..., 0, 0, 0],\n",
      "        [1, 1, 1,  ..., 0, 0, 0],\n",
      "        ...,\n",
      "        [1, 1, 1,  ..., 0, 0, 0],\n",
      "        [1, 1, 1,  ..., 0, 0, 0],\n",
      "        [1, 1, 1,  ..., 0, 0, 0]])}\n",
      "{'label': tensor([1, 0, 0, 1, 1, 0, 0, 0, 1, 0, 0, 0, 1, 0, 0, 1]), 'input_ids': tensor([[  101,  1030,  5310,  ...,     0,     0,     0],\n",
      "        [  101,  9042, 13141,  ...,     0,     0,     0],\n",
      "        [  101, 10047,  2061,  ...,     0,     0,     0],\n",
      "        ...,\n",
      "        [  101,  2423,  1012,  ...,     0,     0,     0],\n",
      "        [  101,  2823,  1045,  ...,     0,     0,     0],\n",
      "        [  101,  2016,  2003,  ...,     0,     0,     0]]), 'attention_mask': tensor([[1, 1, 1,  ..., 0, 0, 0],\n",
      "        [1, 1, 1,  ..., 0, 0, 0],\n",
      "        [1, 1, 1,  ..., 0, 0, 0],\n",
      "        ...,\n",
      "        [1, 1, 1,  ..., 0, 0, 0],\n",
      "        [1, 1, 1,  ..., 0, 0, 0],\n",
      "        [1, 1, 1,  ..., 0, 0, 0]])}\n",
      "{'label': tensor([0, 0, 1, 1, 0, 0, 1, 0, 1, 1, 1, 0, 1, 0, 1, 1]), 'input_ids': tensor([[ 101, 9130, 1005,  ...,    0,    0,    0],\n",
      "        [ 101, 2065, 1996,  ...,    0,    0,    0],\n",
      "        [ 101, 1045, 2123,  ...,    0,    0,    0],\n",
      "        ...,\n",
      "        [ 101, 2167, 3792,  ...,    0,    0,    0],\n",
      "        [ 101, 2014, 1011,  ...,    0,    0,    0],\n",
      "        [ 101, 1030, 5310,  ...,    0,    0,    0]]), 'attention_mask': tensor([[1, 1, 1,  ..., 0, 0, 0],\n",
      "        [1, 1, 1,  ..., 0, 0, 0],\n",
      "        [1, 1, 1,  ..., 0, 0, 0],\n",
      "        ...,\n",
      "        [1, 1, 1,  ..., 0, 0, 0],\n",
      "        [1, 1, 1,  ..., 0, 0, 0],\n",
      "        [1, 1, 1,  ..., 0, 0, 0]])}\n",
      "{'label': tensor([1, 0, 0, 1, 1, 0, 1, 1, 1, 0, 0, 1, 0, 1, 0, 0]), 'input_ids': tensor([[  101,  3602,  2000,  ...,     0,     0,     0],\n",
      "        [  101,  1030,  5310,  ...,     0,     0,     0],\n",
      "        [  101,  1001, 14923,  ...,     0,     0,     0],\n",
      "        ...,\n",
      "        [  101,  1021,  1024,  ...,     0,     0,     0],\n",
      "        [  101,  5848,  1011,  ...,     0,     0,     0],\n",
      "        [  101,  1030,  5310,  ...,     0,     0,     0]]), 'attention_mask': tensor([[1, 1, 1,  ..., 0, 0, 0],\n",
      "        [1, 1, 1,  ..., 0, 0, 0],\n",
      "        [1, 1, 1,  ..., 0, 0, 0],\n",
      "        ...,\n",
      "        [1, 1, 1,  ..., 0, 0, 0],\n",
      "        [1, 1, 1,  ..., 0, 0, 0],\n",
      "        [1, 1, 1,  ..., 0, 0, 0]])}\n",
      "{'label': tensor([1, 1, 0, 1, 0, 0, 0, 0, 0, 0, 0, 1, 1, 0, 1, 0]), 'input_ids': tensor([[ 101, 1030, 5310,  ...,    0,    0,    0],\n",
      "        [ 101, 3844, 2039,  ...,    0,    0,    0],\n",
      "        [ 101, 8840, 9541,  ...,    0,    0,    0],\n",
      "        ...,\n",
      "        [ 101, 1030, 5310,  ...,    0,    0,    0],\n",
      "        [ 101, 2027, 1005,  ...,    0,    0,    0],\n",
      "        [ 101, 1030, 5310,  ...,    0,    0,    0]]), 'attention_mask': tensor([[1, 1, 1,  ..., 0, 0, 0],\n",
      "        [1, 1, 1,  ..., 0, 0, 0],\n",
      "        [1, 1, 1,  ..., 0, 0, 0],\n",
      "        ...,\n",
      "        [1, 1, 1,  ..., 0, 0, 0],\n",
      "        [1, 1, 1,  ..., 0, 0, 0],\n",
      "        [1, 1, 1,  ..., 0, 0, 0]])}\n",
      "{'label': tensor([0, 1, 1, 0, 0, 1, 0, 1, 0, 0, 0, 1, 1, 0, 0, 0]), 'input_ids': tensor([[ 101, 1030, 5310,  ...,    0,    0,    0],\n",
      "        [ 101, 1045, 2097,  ...,    0,    0,    0],\n",
      "        [ 101, 1996, 9577,  ...,    0,    0,    0],\n",
      "        ...,\n",
      "        [ 101, 1030, 5310,  ...,    0,    0,    0],\n",
      "        [ 101, 6206, 7521,  ...,    0,    0,    0],\n",
      "        [ 101, 2019, 3178,  ...,    0,    0,    0]]), 'attention_mask': tensor([[1, 1, 1,  ..., 0, 0, 0],\n",
      "        [1, 1, 1,  ..., 0, 0, 0],\n",
      "        [1, 1, 1,  ..., 0, 0, 0],\n",
      "        ...,\n",
      "        [1, 1, 1,  ..., 0, 0, 0],\n",
      "        [1, 1, 1,  ..., 0, 0, 0],\n",
      "        [1, 1, 1,  ..., 0, 0, 0]])}\n",
      "{'label': tensor([0, 0, 0, 1, 1, 0, 0, 0, 0, 1, 1, 0, 0, 0, 1, 0]), 'input_ids': tensor([[ 101, 4553, 2055,  ...,    0,    0,    0],\n",
      "        [ 101, 2651, 2003,  ...,    0,    0,    0],\n",
      "        [ 101, 1037, 3423,  ...,    0,    0,    0],\n",
      "        ...,\n",
      "        [ 101, 2833, 2741,  ...,    0,    0,    0],\n",
      "        [ 101, 1030, 5310,  ...,    0,    0,    0],\n",
      "        [ 101, 6616, 3398,  ...,    0,    0,    0]]), 'attention_mask': tensor([[1, 1, 1,  ..., 0, 0, 0],\n",
      "        [1, 1, 1,  ..., 0, 0, 0],\n",
      "        [1, 1, 1,  ..., 0, 0, 0],\n",
      "        ...,\n",
      "        [1, 1, 1,  ..., 0, 0, 0],\n",
      "        [1, 1, 1,  ..., 0, 0, 0],\n",
      "        [1, 1, 1,  ..., 0, 0, 0]])}\n",
      "{'label': tensor([0, 0, 0, 1, 1, 1, 1, 0, 0, 1, 0, 1, 1, 1, 1, 0]), 'input_ids': tensor([[  101,  2202,  2256,  ...,     0,     0,     0],\n",
      "        [  101,  1019, 22946,  ...,     0,     0,     0],\n",
      "        [  101,  2005,  2034,  ...,     0,     0,     0],\n",
      "        ...,\n",
      "        [  101,  2138,  2070,  ...,     0,     0,     0],\n",
      "        [  101,  1030,  5310,  ...,     0,     0,     0],\n",
      "        [  101,  1030,  5310,  ...,     0,     0,     0]]), 'attention_mask': tensor([[1, 1, 1,  ..., 0, 0, 0],\n",
      "        [1, 1, 1,  ..., 0, 0, 0],\n",
      "        [1, 1, 1,  ..., 0, 0, 0],\n",
      "        ...,\n",
      "        [1, 1, 1,  ..., 0, 0, 0],\n",
      "        [1, 1, 1,  ..., 0, 0, 0],\n",
      "        [1, 1, 1,  ..., 0, 0, 0]])}\n",
      "{'label': tensor([0, 0, 1, 0, 0, 1, 0, 1, 1, 1, 0, 1, 0, 1, 0, 1]), 'input_ids': tensor([[  101,  1030,  5310,  ...,     0,     0,     0],\n",
      "        [  101,  8398,  3447,  ...,     0,     0,     0],\n",
      "        [  101, 18168,  2290,  ...,     0,     0,     0],\n",
      "        ...,\n",
      "        [  101,  1005,  1045,  ...,     0,     0,     0],\n",
      "        [  101,  1030,  5310,  ...,     0,     0,     0],\n",
      "        [  101,  3232,  1005,  ...,     0,     0,     0]]), 'attention_mask': tensor([[1, 1, 1,  ..., 0, 0, 0],\n",
      "        [1, 1, 1,  ..., 0, 0, 0],\n",
      "        [1, 1, 1,  ..., 0, 0, 0],\n",
      "        ...,\n",
      "        [1, 1, 1,  ..., 0, 0, 0],\n",
      "        [1, 1, 1,  ..., 0, 0, 0],\n",
      "        [1, 1, 1,  ..., 0, 0, 0]])}\n",
      "{'label': tensor([1, 1, 1, 1, 1, 0, 0, 1, 0, 1, 1, 1, 0, 0, 0, 0]), 'input_ids': tensor([[ 101, 1030, 5310,  ...,    0,    0,    0],\n",
      "        [ 101, 1030, 5310,  ...,    0,    0,    0],\n",
      "        [ 101, 1030, 5310,  ...,    0,    0,    0],\n",
      "        ...,\n",
      "        [ 101, 1001, 2375,  ...,    0,    0,    0],\n",
      "        [ 101, 2489, 4613,  ...,    0,    0,    0],\n",
      "        [ 101, 2065, 2619,  ...,    0,    0,    0]]), 'attention_mask': tensor([[1, 1, 1,  ..., 0, 0, 0],\n",
      "        [1, 1, 1,  ..., 0, 0, 0],\n",
      "        [1, 1, 1,  ..., 0, 0, 0],\n",
      "        ...,\n",
      "        [1, 1, 1,  ..., 0, 0, 0],\n",
      "        [1, 1, 1,  ..., 0, 0, 0],\n",
      "        [1, 1, 1,  ..., 0, 0, 0]])}\n",
      "{'label': tensor([0, 1, 0, 1, 1, 1, 0, 0, 1, 1, 1, 1, 0, 0, 0, 0]), 'input_ids': tensor([[  101, 12943,  6521,  ...,     0,     0,     0],\n",
      "        [  101,  2016,  5525,  ...,     0,     0,     0],\n",
      "        [  101,  2047,  2243,  ...,     0,     0,     0],\n",
      "        ...,\n",
      "        [  101,  1001,  1053,  ...,     0,     0,     0],\n",
      "        [  101,  2798, 21440,  ...,     0,     0,     0],\n",
      "        [  101, 17203,  2003,  ...,     0,     0,     0]]), 'attention_mask': tensor([[1, 1, 1,  ..., 0, 0, 0],\n",
      "        [1, 1, 1,  ..., 0, 0, 0],\n",
      "        [1, 1, 1,  ..., 0, 0, 0],\n",
      "        ...,\n",
      "        [1, 1, 1,  ..., 0, 0, 0],\n",
      "        [1, 1, 1,  ..., 0, 0, 0],\n",
      "        [1, 1, 1,  ..., 0, 0, 0]])}\n",
      "{'label': tensor([1, 0, 0, 1, 1, 1, 0, 0, 0, 0, 1, 0, 1, 1, 0, 0]), 'input_ids': tensor([[ 101, 1030, 5310,  ...,    0,    0,    0],\n",
      "        [ 101, 1030, 5310,  ...,    0,    0,    0],\n",
      "        [ 101, 2033, 1998,  ...,    0,    0,    0],\n",
      "        ...,\n",
      "        [ 101, 2093, 4534,  ...,    0,    0,    0],\n",
      "        [ 101, 2065, 2151,  ...,    0,    0,    0],\n",
      "        [ 101, 3304, 1521,  ...,    0,    0,    0]]), 'attention_mask': tensor([[1, 1, 1,  ..., 0, 0, 0],\n",
      "        [1, 1, 1,  ..., 0, 0, 0],\n",
      "        [1, 1, 1,  ..., 0, 0, 0],\n",
      "        ...,\n",
      "        [1, 1, 1,  ..., 0, 0, 0],\n",
      "        [1, 1, 1,  ..., 0, 0, 0],\n",
      "        [1, 1, 1,  ..., 0, 0, 0]])}\n",
      "{'label': tensor([1, 0, 0, 1, 0, 0, 0, 0, 0, 0, 0, 0, 0, 0, 1, 0]), 'input_ids': tensor([[  101,  1045,  1005,  ...,     0,     0,     0],\n",
      "        [  101,  2026,  4451,  ...,     0,     0,     0],\n",
      "        [  101,  1030,  5310,  ...,     0,     0,     0],\n",
      "        ...,\n",
      "        [  101,  7110,  1005,  ...,     0,     0,     0],\n",
      "        [  101,  7521, 24815,  ...,     0,     0,     0],\n",
      "        [  101,  1030,  5310,  ...,     0,     0,     0]]), 'attention_mask': tensor([[1, 1, 1,  ..., 0, 0, 0],\n",
      "        [1, 1, 1,  ..., 0, 0, 0],\n",
      "        [1, 1, 1,  ..., 0, 0, 0],\n",
      "        ...,\n",
      "        [1, 1, 1,  ..., 0, 0, 0],\n",
      "        [1, 1, 1,  ..., 0, 0, 0],\n",
      "        [1, 1, 1,  ..., 0, 0, 0]])}\n",
      "{'label': tensor([0, 0, 1, 0, 0, 1, 0, 0, 0, 0, 0, 0, 0, 0, 0, 1]), 'input_ids': tensor([[ 101, 2019, 7481,  ...,    0,    0,    0],\n",
      "        [ 101, 1030, 5310,  ...,    0,    0,    0],\n",
      "        [ 101, 1030, 5310,  ...,    0,    0,    0],\n",
      "        ...,\n",
      "        [ 101, 1030, 5310,  ...,    0,    0,    0],\n",
      "        [ 101, 1030, 5310,  ...,    0,    0,    0],\n",
      "        [ 101, 8827, 2006,  ...,    0,    0,    0]]), 'attention_mask': tensor([[1, 1, 1,  ..., 0, 0, 0],\n",
      "        [1, 1, 1,  ..., 0, 0, 0],\n",
      "        [1, 1, 1,  ..., 0, 0, 0],\n",
      "        ...,\n",
      "        [1, 1, 1,  ..., 0, 0, 0],\n",
      "        [1, 1, 1,  ..., 0, 0, 0],\n",
      "        [1, 1, 1,  ..., 0, 0, 0]])}\n",
      "{'label': tensor([1, 0, 1, 1, 0, 0, 0, 1, 0, 0, 0, 1, 1, 0, 0, 1]), 'input_ids': tensor([[  101,  3062,  3022,  ...,     0,     0,     0],\n",
      "        [  101, 16235, 24201,  ...,     0,     0,     0],\n",
      "        [  101,  4332,  2041,  ...,     0,     0,     0],\n",
      "        ...,\n",
      "        [  101,  2168,  1012,  ...,     0,     0,     0],\n",
      "        [  101,  1045,  2453,  ...,     0,     0,     0],\n",
      "        [  101,  1030,  5310,  ...,     0,     0,     0]]), 'attention_mask': tensor([[1, 1, 1,  ..., 0, 0, 0],\n",
      "        [1, 1, 1,  ..., 0, 0, 0],\n",
      "        [1, 1, 1,  ..., 0, 0, 0],\n",
      "        ...,\n",
      "        [1, 1, 1,  ..., 0, 0, 0],\n",
      "        [1, 1, 1,  ..., 0, 0, 0],\n",
      "        [1, 1, 1,  ..., 0, 0, 0]])}\n",
      "{'label': tensor([1, 1, 1, 0, 0, 0, 0, 1, 1, 1, 0, 1, 0, 0, 1, 1]), 'input_ids': tensor([[  101,  9200, 17328,  ...,     0,     0,     0],\n",
      "        [  101,  2412,  3046,  ...,     0,     0,     0],\n",
      "        [  101,  2023,  3791,  ...,     0,     0,     0],\n",
      "        ...,\n",
      "        [  101,  2004,  7327,  ...,     0,     0,     0],\n",
      "        [  101,  2057,  2342,  ...,     0,     0,     0],\n",
      "        [  101,  3304,  2003,  ...,     0,     0,     0]]), 'attention_mask': tensor([[1, 1, 1,  ..., 0, 0, 0],\n",
      "        [1, 1, 1,  ..., 0, 0, 0],\n",
      "        [1, 1, 1,  ..., 0, 0, 0],\n",
      "        ...,\n",
      "        [1, 1, 1,  ..., 0, 0, 0],\n",
      "        [1, 1, 1,  ..., 0, 0, 0],\n",
      "        [1, 1, 1,  ..., 0, 0, 0]])}\n",
      "{'label': tensor([0, 0, 0, 0, 0, 1, 0, 1, 0, 1, 0, 0, 0, 0, 0, 1]), 'input_ids': tensor([[  101, 17183,  2015,  ...,     0,     0,     0],\n",
      "        [  101,  1005,  2025,  ...,     0,     0,     0],\n",
      "        [  101,  1030,  5310,  ...,     0,     0,     0],\n",
      "        ...,\n",
      "        [  101,  1030,  5310,  ...,     0,     0,     0],\n",
      "        [  101,  1999,  3522,  ...,     0,     0,     0],\n",
      "        [  101,  1030,  5310,  ...,     0,     0,     0]]), 'attention_mask': tensor([[1, 1, 1,  ..., 0, 0, 0],\n",
      "        [1, 1, 1,  ..., 0, 0, 0],\n",
      "        [1, 1, 1,  ..., 0, 0, 0],\n",
      "        ...,\n",
      "        [1, 1, 1,  ..., 0, 0, 0],\n",
      "        [1, 1, 1,  ..., 0, 0, 0],\n",
      "        [1, 1, 1,  ..., 0, 0, 0]])}\n",
      "{'label': tensor([1, 0, 1, 0, 1, 1, 1, 1, 1, 1, 1, 1, 1, 0, 0, 0]), 'input_ids': tensor([[  101,  2043,  2017,  ...,     0,     0,     0],\n",
      "        [  101,  1030,  5310,  ...,     0,     0,     0],\n",
      "        [  101,  2644, 21798,  ...,     0,     0,     0],\n",
      "        ...,\n",
      "        [  101,  4824,  1001,  ...,     0,     0,     0],\n",
      "        [  101,  1030,  5310,  ...,     0,     0,     0],\n",
      "        [  101,  2065,  2017,  ...,     0,     0,     0]]), 'attention_mask': tensor([[1, 1, 1,  ..., 0, 0, 0],\n",
      "        [1, 1, 1,  ..., 0, 0, 0],\n",
      "        [1, 1, 1,  ..., 0, 0, 0],\n",
      "        ...,\n",
      "        [1, 1, 1,  ..., 0, 0, 0],\n",
      "        [1, 1, 1,  ..., 0, 0, 0],\n",
      "        [1, 1, 1,  ..., 0, 0, 0]])}\n",
      "{'label': tensor([0, 0, 1, 0, 1, 0, 1, 0, 1, 0, 0, 0, 0, 1, 0, 0]), 'input_ids': tensor([[  101, 13229,  1022,  ...,     0,     0,     0],\n",
      "        [  101,  2023,  2003,  ...,     0,     0,     0],\n",
      "        [  101,  2866,  1011,  ...,     0,     0,     0],\n",
      "        ...,\n",
      "        [  101, 10047,  2025,  ...,     0,     0,     0],\n",
      "        [  101,  2054,  1996,  ...,     0,     0,     0],\n",
      "        [  101,  2273,  2040,  ...,     0,     0,     0]]), 'attention_mask': tensor([[1, 1, 1,  ..., 0, 0, 0],\n",
      "        [1, 1, 1,  ..., 0, 0, 0],\n",
      "        [1, 1, 1,  ..., 0, 0, 0],\n",
      "        ...,\n",
      "        [1, 1, 1,  ..., 0, 0, 0],\n",
      "        [1, 1, 1,  ..., 0, 0, 0],\n",
      "        [1, 1, 1,  ..., 0, 0, 0]])}\n",
      "{'label': tensor([0, 0, 1, 1, 0, 0, 0, 0, 1, 0, 1, 0, 0, 1, 0, 0]), 'input_ids': tensor([[  101,  3422,  2184,  ...,     0,     0,     0],\n",
      "        [  101,  3086,  1001,  ...,     0,     0,     0],\n",
      "        [  101,  1030,  5310,  ...,     0,     0,     0],\n",
      "        ...,\n",
      "        [  101,  9230,  3475,  ...,     0,     0,     0],\n",
      "        [  101, 19387,  1030,  ...,     0,     0,     0],\n",
      "        [  101,  2043,  2115,  ...,     0,     0,     0]]), 'attention_mask': tensor([[1, 1, 1,  ..., 0, 0, 0],\n",
      "        [1, 1, 1,  ..., 0, 0, 0],\n",
      "        [1, 1, 1,  ..., 0, 0, 0],\n",
      "        ...,\n",
      "        [1, 1, 1,  ..., 0, 0, 0],\n",
      "        [1, 1, 1,  ..., 0, 0, 0],\n",
      "        [1, 1, 1,  ..., 0, 0, 0]])}\n",
      "{'label': tensor([0, 0, 0, 0, 0, 0, 1, 0, 0, 1, 0, 1, 0, 0, 1, 0]), 'input_ids': tensor([[  101,  1030,  5310,  ...,     0,     0,     0],\n",
      "        [  101, 21442,  5555,  ...,     0,     0,     0],\n",
      "        [  101,  1030,  5310,  ...,     0,     0,     0],\n",
      "        ...,\n",
      "        [  101,  1001,  2061,  ...,     0,     0,     0],\n",
      "        [  101,  1030,  5310,  ...,     0,     0,     0],\n",
      "        [  101, 11560,  3232,  ...,     0,     0,     0]]), 'attention_mask': tensor([[1, 1, 1,  ..., 0, 0, 0],\n",
      "        [1, 1, 1,  ..., 0, 0, 0],\n",
      "        [1, 1, 1,  ..., 0, 0, 0],\n",
      "        ...,\n",
      "        [1, 1, 1,  ..., 0, 0, 0],\n",
      "        [1, 1, 1,  ..., 0, 0, 0],\n",
      "        [1, 1, 1,  ..., 0, 0, 0]])}\n",
      "{'label': tensor([1, 1, 1, 0, 1, 0, 0, 0, 0, 0, 0, 0, 0, 0, 1, 1]), 'input_ids': tensor([[  101,  6206, 11560,  ...,     0,     0,     0],\n",
      "        [  101,  1030,  5310,  ...,     0,     0,     0],\n",
      "        [  101,  1012,  1030,  ...,     0,     0,     0],\n",
      "        ...,\n",
      "        [  101,  1030,  5310,  ...,     0,     0,     0],\n",
      "        [  101,  3256,  6186,  ...,     0,     0,     0],\n",
      "        [  101,  3057,  2963,  ...,     0,     0,     0]]), 'attention_mask': tensor([[1, 1, 1,  ..., 0, 0, 0],\n",
      "        [1, 1, 1,  ..., 0, 0, 0],\n",
      "        [1, 1, 1,  ..., 0, 0, 0],\n",
      "        ...,\n",
      "        [1, 1, 1,  ..., 0, 0, 0],\n",
      "        [1, 1, 1,  ..., 0, 0, 0],\n",
      "        [1, 1, 1,  ..., 0, 0, 0]])}\n",
      "{'label': tensor([0, 0, 1, 0, 1, 1, 0, 0, 1, 1, 0, 0, 0, 0, 0, 1]), 'input_ids': tensor([[  101, 19387, 10478,  ...,     0,     0,     0],\n",
      "        [  101,  1030,  5310,  ...,     0,     0,     0],\n",
      "        [  101,  1030,  5310,  ...,     0,     0,     0],\n",
      "        ...,\n",
      "        [  101,  2277,  4177,  ...,     0,     0,     0],\n",
      "        [  101,  1030,  5310,  ...,     0,     0,     0],\n",
      "        [  101,  2043,  2017,  ...,     0,     0,     0]]), 'attention_mask': tensor([[1, 1, 1,  ..., 0, 0, 0],\n",
      "        [1, 1, 1,  ..., 0, 0, 0],\n",
      "        [1, 1, 1,  ..., 0, 0, 0],\n",
      "        ...,\n",
      "        [1, 1, 1,  ..., 0, 0, 0],\n",
      "        [1, 1, 1,  ..., 0, 0, 0],\n",
      "        [1, 1, 1,  ..., 0, 0, 0]])}\n",
      "{'label': tensor([0, 0, 1, 1, 0, 1, 0, 1, 1, 1, 1, 1, 1, 1, 0, 0]), 'input_ids': tensor([[ 101, 1045, 2123,  ...,    0,    0,    0],\n",
      "        [ 101, 9101, 1001,  ...,    0,    0,    0],\n",
      "        [ 101, 1030, 5310,  ...,    0,    0,    0],\n",
      "        ...,\n",
      "        [ 101, 2065, 1045,  ...,    0,    0,    0],\n",
      "        [ 101, 1030, 5310,  ...,    0,    0,    0],\n",
      "        [ 101, 8398, 2097,  ...,    0,    0,    0]]), 'attention_mask': tensor([[1, 1, 1,  ..., 0, 0, 0],\n",
      "        [1, 1, 1,  ..., 0, 0, 0],\n",
      "        [1, 1, 1,  ..., 0, 0, 0],\n",
      "        ...,\n",
      "        [1, 1, 1,  ..., 0, 0, 0],\n",
      "        [1, 1, 1,  ..., 0, 0, 0],\n",
      "        [1, 1, 1,  ..., 0, 0, 0]])}\n",
      "{'label': tensor([0, 0, 1, 0, 0, 0, 1, 0, 0, 0, 0, 0, 1, 1, 0, 0]), 'input_ids': tensor([[  101,  3304, 10217,  ...,     0,     0,     0],\n",
      "        [  101,  1030,  5310,  ...,     0,     0,     0],\n",
      "        [  101,  2023,  7743,  ...,     0,     0,     0],\n",
      "        ...,\n",
      "        [  101,  3566,  1011,  ...,     0,     0,     0],\n",
      "        [  101,  2065,  2017,  ...,     0,     0,     0],\n",
      "        [  101,  1030,  5310,  ...,     0,     0,     0]]), 'attention_mask': tensor([[1, 1, 1,  ..., 0, 0, 0],\n",
      "        [1, 1, 1,  ..., 0, 0, 0],\n",
      "        [1, 1, 1,  ..., 0, 0, 0],\n",
      "        ...,\n",
      "        [1, 1, 1,  ..., 0, 0, 0],\n",
      "        [1, 1, 1,  ..., 0, 0, 0],\n",
      "        [1, 1, 1,  ..., 0, 0, 0]])}\n",
      "{'label': tensor([0, 1, 0, 0, 1, 0, 0, 0, 1, 0, 1, 1, 1, 0, 1, 0]), 'input_ids': tensor([[ 101, 1060, 2094,  ...,    0,    0,    0],\n",
      "        [ 101, 2017, 1998,  ...,    0,    0,    0],\n",
      "        [ 101, 1030, 5310,  ...,    0,    0,    0],\n",
      "        ...,\n",
      "        [ 101, 1030, 5310,  ...,    0,    0,    0],\n",
      "        [ 101, 2017, 2876,  ...,    0,    0,    0],\n",
      "        [ 101, 2343, 1998,  ...,    0,    0,    0]]), 'attention_mask': tensor([[1, 1, 1,  ..., 0, 0, 0],\n",
      "        [1, 1, 1,  ..., 0, 0, 0],\n",
      "        [1, 1, 1,  ..., 0, 0, 0],\n",
      "        ...,\n",
      "        [1, 1, 1,  ..., 0, 0, 0],\n",
      "        [1, 1, 1,  ..., 0, 0, 0],\n",
      "        [1, 1, 1,  ..., 0, 0, 0]])}\n",
      "{'label': tensor([1, 0, 1, 1, 0, 1, 0, 1, 0, 0, 1, 0, 1, 0, 0, 0]), 'input_ids': tensor([[ 101, 1030, 5310,  ...,    0,    0,    0],\n",
      "        [ 101, 1030, 5310,  ...,    0,    0,    0],\n",
      "        [ 101, 1000, 2293,  ...,    0,    0,    0],\n",
      "        ...,\n",
      "        [ 101, 1045, 2069,  ...,    0,    0,    0],\n",
      "        [ 101, 1996, 2968,  ...,    0,    0,    0],\n",
      "        [ 101, 2087, 2402,  ...,    0,    0,    0]]), 'attention_mask': tensor([[1, 1, 1,  ..., 0, 0, 0],\n",
      "        [1, 1, 1,  ..., 0, 0, 0],\n",
      "        [1, 1, 1,  ..., 0, 0, 0],\n",
      "        ...,\n",
      "        [1, 1, 1,  ..., 0, 0, 0],\n",
      "        [1, 1, 1,  ..., 0, 0, 0],\n",
      "        [1, 1, 1,  ..., 0, 0, 0]])}\n",
      "{'label': tensor([1, 1, 0, 1, 0, 0, 0, 0, 0, 0, 1, 0, 0, 0, 1, 0]), 'input_ids': tensor([[  101,  2048,  6884,  ...,     0,     0,     0],\n",
      "        [  101,  1001,  8275,  ...,     0,     0,     0],\n",
      "        [  101,  1030,  5310,  ...,     0,     0,     0],\n",
      "        ...,\n",
      "        [  101,  1030,  5310,  ...,     0,     0,     0],\n",
      "        [  101,  1030,  5310,  ...,     0,     0,     0],\n",
      "        [  101, 10166,  1010,  ...,     0,     0,     0]]), 'attention_mask': tensor([[1, 1, 1,  ..., 0, 0, 0],\n",
      "        [1, 1, 1,  ..., 0, 0, 0],\n",
      "        [1, 1, 1,  ..., 0, 0, 0],\n",
      "        ...,\n",
      "        [1, 1, 1,  ..., 0, 0, 0],\n",
      "        [1, 1, 1,  ..., 0, 0, 0],\n",
      "        [1, 1, 1,  ..., 0, 0, 0]])}\n",
      "{'label': tensor([0, 0, 0, 0, 0, 1, 0, 1, 0, 1, 0, 0, 1, 1, 0, 0]), 'input_ids': tensor([[  101,  1001,  1050,  ...,     0,     0,     0],\n",
      "        [  101,  1030,  5310,  ...,     0,     0,     0],\n",
      "        [  101,  2308,  2024,  ...,     0,     0,     0],\n",
      "        ...,\n",
      "        [  101, 14070,  2005,  ...,     0,     0,     0],\n",
      "        [  101,  1030,  5310,  ...,     0,     0,     0],\n",
      "        [  101,  2033,  1011,  ...,     0,     0,     0]]), 'attention_mask': tensor([[1, 1, 1,  ..., 0, 0, 0],\n",
      "        [1, 1, 1,  ..., 0, 0, 0],\n",
      "        [1, 1, 1,  ..., 0, 0, 0],\n",
      "        ...,\n",
      "        [1, 1, 1,  ..., 0, 0, 0],\n",
      "        [1, 1, 1,  ..., 0, 0, 0],\n",
      "        [1, 1, 1,  ..., 0, 0, 0]])}\n",
      "{'label': tensor([0, 1, 1, 1, 0, 0, 1, 1, 1, 1, 0, 1, 1, 1, 0, 1]), 'input_ids': tensor([[  101,  6203,  1001,  ...,     0,     0,     0],\n",
      "        [  101,  2115,  6242,  ...,     0,     0,     0],\n",
      "        [  101,  2131,  9436,  ...,     0,     0,     0],\n",
      "        ...,\n",
      "        [  101, 24247,  3124,  ...,     0,     0,     0],\n",
      "        [  101,  1030,  5310,  ...,     0,     0,     0],\n",
      "        [  101,  1030,  5310,  ...,     0,     0,     0]]), 'attention_mask': tensor([[1, 1, 1,  ..., 0, 0, 0],\n",
      "        [1, 1, 1,  ..., 0, 0, 0],\n",
      "        [1, 1, 1,  ..., 0, 0, 0],\n",
      "        ...,\n",
      "        [1, 1, 1,  ..., 0, 0, 0],\n",
      "        [1, 1, 1,  ..., 0, 0, 0],\n",
      "        [1, 1, 1,  ..., 0, 0, 0]])}\n",
      "{'label': tensor([1, 0, 1, 0, 0, 0, 0, 1, 0, 1, 1, 1, 0, 0, 0, 0]), 'input_ids': tensor([[ 101, 4214, 4364,  ...,    0,    0,    0],\n",
      "        [ 101, 8398, 2089,  ...,    0,    0,    0],\n",
      "        [ 101, 2655, 2033,  ...,    0,    0,    0],\n",
      "        ...,\n",
      "        [ 101, 2061, 2085,  ...,    0,    0,    0],\n",
      "        [ 101, 2047, 1024,  ...,    0,    0,    0],\n",
      "        [ 101, 2043, 2017,  ...,    0,    0,    0]]), 'attention_mask': tensor([[1, 1, 1,  ..., 0, 0, 0],\n",
      "        [1, 1, 1,  ..., 0, 0, 0],\n",
      "        [1, 1, 1,  ..., 0, 0, 0],\n",
      "        ...,\n",
      "        [1, 1, 1,  ..., 0, 0, 0],\n",
      "        [1, 1, 1,  ..., 0, 0, 0],\n",
      "        [1, 1, 1,  ..., 0, 0, 0]])}\n",
      "{'label': tensor([1, 0, 1, 0, 0, 0, 0, 0, 0, 0, 1, 1, 1, 1, 1, 1]), 'input_ids': tensor([[  101,  3097,  2482,  ...,     0,     0,     0],\n",
      "        [  101,  2026, 13451,  ...,     0,     0,     0],\n",
      "        [  101,  1030,  5310,  ...,     0,     0,     0],\n",
      "        ...,\n",
      "        [  101,  1030,  5310,  ...,     0,     0,     0],\n",
      "        [  101,  1030,  5310,  ...,     0,     0,     0],\n",
      "        [  101,  2429,  2000,  ...,     0,     0,     0]]), 'attention_mask': tensor([[1, 1, 1,  ..., 0, 0, 0],\n",
      "        [1, 1, 1,  ..., 0, 0, 0],\n",
      "        [1, 1, 1,  ..., 0, 0, 0],\n",
      "        ...,\n",
      "        [1, 1, 1,  ..., 0, 0, 0],\n",
      "        [1, 1, 1,  ..., 0, 0, 0],\n",
      "        [1, 1, 1,  ..., 0, 0, 0]])}\n",
      "{'label': tensor([1, 1, 1, 1, 0, 0, 1, 0, 0, 1, 0, 0, 1, 0, 1, 0]), 'input_ids': tensor([[  101,  2088,  9299,  ...,     0,     0,     0],\n",
      "        [  101,  9152, 23033,  ...,     0,     0,     0],\n",
      "        [  101,  1030,  5310,  ...,     0,     0,     0],\n",
      "        ...,\n",
      "        [  101,  2256,  6745,  ...,     0,     0,     0],\n",
      "        [  101,  1045,  2064,  ...,     0,     0,     0],\n",
      "        [  101,  5333,  2115,  ...,     0,     0,     0]]), 'attention_mask': tensor([[1, 1, 1,  ..., 0, 0, 0],\n",
      "        [1, 1, 1,  ..., 0, 0, 0],\n",
      "        [1, 1, 1,  ..., 0, 0, 0],\n",
      "        ...,\n",
      "        [1, 1, 1,  ..., 0, 0, 0],\n",
      "        [1, 1, 1,  ..., 0, 0, 0],\n",
      "        [1, 1, 1,  ..., 0, 0, 0]])}\n",
      "{'label': tensor([0, 1, 0, 0, 0, 0, 1, 0, 0, 0, 1, 1, 0, 0, 0, 0]), 'input_ids': tensor([[  101,  4467,  2277,  ...,     0,     0,     0],\n",
      "        [  101,  1030,  5310,  ...,     0,     0,     0],\n",
      "        [  101,  1030,  5310,  ...,     0,     0,     0],\n",
      "        ...,\n",
      "        [  101, 15153, 11865,  ...,     0,     0,     0],\n",
      "        [  101,  2065,  3087,  ...,     0,     0,     0],\n",
      "        [  101,  2023,  2003,  ...,     0,     0,     0]]), 'attention_mask': tensor([[1, 1, 1,  ..., 0, 0, 0],\n",
      "        [1, 1, 1,  ..., 0, 0, 0],\n",
      "        [1, 1, 1,  ..., 0, 0, 0],\n",
      "        ...,\n",
      "        [1, 1, 1,  ..., 0, 0, 0],\n",
      "        [1, 1, 1,  ..., 0, 0, 0],\n",
      "        [1, 1, 1,  ..., 0, 0, 0]])}\n",
      "{'label': tensor([0, 0, 0, 0, 0, 1, 0, 0, 0, 0, 0, 0, 0, 0, 1, 1]), 'input_ids': tensor([[ 101, 8220, 9530,  ...,    0,    0,    0],\n",
      "        [ 101, 2073, 2024,  ...,    0,    0,    0],\n",
      "        [ 101, 1996, 2188,  ...,    0,    0,    0],\n",
      "        ...,\n",
      "        [ 101, 1030, 5310,  ...,    0,    0,    0],\n",
      "        [ 101, 1045, 2228,  ...,    0,    0,    0],\n",
      "        [ 101, 1030, 5310,  ...,    0,    0,    0]]), 'attention_mask': tensor([[1, 1, 1,  ..., 0, 0, 0],\n",
      "        [1, 1, 1,  ..., 0, 0, 0],\n",
      "        [1, 1, 1,  ..., 0, 0, 0],\n",
      "        ...,\n",
      "        [1, 1, 1,  ..., 0, 0, 0],\n",
      "        [1, 1, 1,  ..., 0, 0, 0],\n",
      "        [1, 1, 1,  ..., 0, 0, 0]])}\n",
      "{'label': tensor([1, 0, 1, 1, 1, 0, 0, 1, 1, 0, 0, 0, 0, 1, 1, 1]), 'input_ids': tensor([[ 101, 2339, 2052,  ...,    0,    0,    0],\n",
      "        [ 101, 1000, 5966,  ...,    0,    0,    0],\n",
      "        [ 101, 1030, 5310,  ...,    0,    0,    0],\n",
      "        ...,\n",
      "        [ 101, 1030, 5310,  ...,    0,    0,    0],\n",
      "        [ 101, 2085, 2129,  ...,    0,    0,    0],\n",
      "        [ 101, 1030, 5310,  ...,    0,    0,    0]]), 'attention_mask': tensor([[1, 1, 1,  ..., 0, 0, 0],\n",
      "        [1, 1, 1,  ..., 0, 0, 0],\n",
      "        [1, 1, 1,  ..., 0, 0, 0],\n",
      "        ...,\n",
      "        [1, 1, 1,  ..., 0, 0, 0],\n",
      "        [1, 1, 1,  ..., 0, 0, 0],\n",
      "        [1, 1, 1,  ..., 0, 0, 0]])}\n",
      "{'label': tensor([1, 1, 0, 1, 1, 1, 0, 0, 1, 0, 1, 1, 1, 0, 1, 1]), 'input_ids': tensor([[  101,  1001,  7521,  ...,     0,     0,     0],\n",
      "        [  101, 10047,  2061,  ...,     0,     0,     0],\n",
      "        [  101,  1996,  3679,  ...,     0,     0,     0],\n",
      "        ...,\n",
      "        [  101,  1030,  5310,  ...,     0,     0,     0],\n",
      "        [  101,  2017,  1521,  ...,     0,     0,     0],\n",
      "        [  101,  1030,  5310,  ...,     0,     0,     0]]), 'attention_mask': tensor([[1, 1, 1,  ..., 0, 0, 0],\n",
      "        [1, 1, 1,  ..., 0, 0, 0],\n",
      "        [1, 1, 1,  ..., 0, 0, 0],\n",
      "        ...,\n",
      "        [1, 1, 1,  ..., 0, 0, 0],\n",
      "        [1, 1, 1,  ..., 0, 0, 0],\n",
      "        [1, 1, 1,  ..., 0, 0, 0]])}\n",
      "{'label': tensor([0, 1, 1, 1, 0, 0, 1, 1, 0, 1, 0, 0, 1, 0, 1, 0]), 'input_ids': tensor([[  101,  6206, 11560,  ...,     0,     0,     0],\n",
      "        [  101,  8040,  4140,  ...,     0,     0,     0],\n",
      "        [  101,  1001,  2139,  ...,     0,     0,     0],\n",
      "        ...,\n",
      "        [  101,  2437,  2041,  ...,     0,     0,     0],\n",
      "        [  101,  2017,  4025,  ...,     0,     0,     0],\n",
      "        [  101,  1045,  2001,  ...,     0,     0,     0]]), 'attention_mask': tensor([[1, 1, 1,  ..., 0, 0, 0],\n",
      "        [1, 1, 1,  ..., 0, 0, 0],\n",
      "        [1, 1, 1,  ..., 0, 0, 0],\n",
      "        ...,\n",
      "        [1, 1, 1,  ..., 0, 0, 0],\n",
      "        [1, 1, 1,  ..., 0, 0, 0],\n",
      "        [1, 1, 1,  ..., 0, 0, 0]])}\n",
      "{'label': tensor([1, 0, 1, 0, 0, 1, 1, 0, 0, 0, 0, 0, 0, 1, 1, 1]), 'input_ids': tensor([[ 101, 1037, 2450,  ...,    0,    0,    0],\n",
      "        [ 101, 2339, 2079,  ...,    0,    0,    0],\n",
      "        [ 101, 1045, 2123,  ...,    0,    0,    0],\n",
      "        ...,\n",
      "        [ 101, 8275, 2606,  ...,    0,    0,    0],\n",
      "        [ 101, 2017, 2388,  ...,    0,    0,    0],\n",
      "        [ 101, 1045, 1005,  ...,    0,    0,    0]]), 'attention_mask': tensor([[1, 1, 1,  ..., 0, 0, 0],\n",
      "        [1, 1, 1,  ..., 0, 0, 0],\n",
      "        [1, 1, 1,  ..., 0, 0, 0],\n",
      "        ...,\n",
      "        [1, 1, 1,  ..., 0, 0, 0],\n",
      "        [1, 1, 1,  ..., 0, 0, 0],\n",
      "        [1, 1, 1,  ..., 0, 0, 0]])}\n",
      "{'label': tensor([1, 0, 1, 1, 1, 0, 0, 0, 1, 1, 0, 0, 0, 1, 1, 0]), 'input_ids': tensor([[ 101, 2879, 2340,  ...,    0,    0,    0],\n",
      "        [ 101, 1048, 2863,  ...,    0,    0,    0],\n",
      "        [ 101, 7743, 2017,  ...,    0,    0,    0],\n",
      "        ...,\n",
      "        [ 101, 3124, 1024,  ...,    0,    0,    0],\n",
      "        [ 101, 1030, 5310,  ...,    0,    0,    0],\n",
      "        [ 101, 1001, 3163,  ...,    0,    0,    0]]), 'attention_mask': tensor([[1, 1, 1,  ..., 0, 0, 0],\n",
      "        [1, 1, 1,  ..., 0, 0, 0],\n",
      "        [1, 1, 1,  ..., 0, 0, 0],\n",
      "        ...,\n",
      "        [1, 1, 1,  ..., 0, 0, 0],\n",
      "        [1, 1, 1,  ..., 0, 0, 0],\n",
      "        [1, 1, 1,  ..., 0, 0, 0]])}\n",
      "{'label': tensor([0, 0, 0, 0, 0, 0, 0, 0, 0, 1, 0, 0, 0, 0, 1, 1]), 'input_ids': tensor([[ 101, 1520,  100,  ...,    0,    0,    0],\n",
      "        [ 101, 2043, 2017,  ...,    0,    0,    0],\n",
      "        [ 101, 1030, 5310,  ...,    0,    0,    0],\n",
      "        ...,\n",
      "        [ 101, 1030, 5310,  ...,    0,    0,    0],\n",
      "        [ 101, 1030, 5310,  ...,    0,    0,    0],\n",
      "        [ 101, 1030, 5310,  ...,    0,    0,    0]]), 'attention_mask': tensor([[1, 1, 1,  ..., 0, 0, 0],\n",
      "        [1, 1, 1,  ..., 0, 0, 0],\n",
      "        [1, 1, 1,  ..., 0, 0, 0],\n",
      "        ...,\n",
      "        [1, 1, 1,  ..., 0, 0, 0],\n",
      "        [1, 1, 1,  ..., 0, 0, 0],\n",
      "        [1, 1, 1,  ..., 0, 0, 0]])}\n",
      "{'label': tensor([0, 0, 0, 0, 0, 0, 1, 1, 0, 0, 0, 0, 1, 0, 1, 0]), 'input_ids': tensor([[  101, 11560,  3348,  ...,     0,     0,     0],\n",
      "        [  101,  1057,  1012,  ...,     0,     0,     0],\n",
      "        [  101,  2215,  2000,  ...,     0,     0,     0],\n",
      "        ...,\n",
      "        [  101,  8398,  2074,  ...,     0,     0,     0],\n",
      "        [  101,   100, 11004,  ...,     0,     0,     0],\n",
      "        [  101,  6343,  2253,  ...,     0,     0,     0]]), 'attention_mask': tensor([[1, 1, 1,  ..., 0, 0, 0],\n",
      "        [1, 1, 1,  ..., 0, 0, 0],\n",
      "        [1, 1, 1,  ..., 0, 0, 0],\n",
      "        ...,\n",
      "        [1, 1, 1,  ..., 0, 0, 0],\n",
      "        [1, 1, 1,  ..., 0, 0, 0],\n",
      "        [1, 1, 1,  ..., 0, 0, 0]])}\n",
      "{'label': tensor([1, 1, 0, 0, 0, 0, 0, 0, 1, 0, 1, 1, 0, 0, 0, 1]), 'input_ids': tensor([[  101,  1037,  7570,  ...,     0,     0,     0],\n",
      "        [  101,  7743,  3844,  ...,     0,     0,     0],\n",
      "        [  101,  2128, 22930,  ...,     0,     0,     0],\n",
      "        ...,\n",
      "        [  101,  2043,  2016,  ...,     0,     0,     0],\n",
      "        [  101,  1030,  5310,  ...,     0,     0,     0],\n",
      "        [  101,  1030,  5310,  ...,     0,     0,     0]]), 'attention_mask': tensor([[1, 1, 1,  ..., 0, 0, 0],\n",
      "        [1, 1, 1,  ..., 0, 0, 0],\n",
      "        [1, 1, 1,  ..., 0, 0, 0],\n",
      "        ...,\n",
      "        [1, 1, 1,  ..., 0, 0, 0],\n",
      "        [1, 1, 1,  ..., 0, 0, 0],\n",
      "        [1, 1, 1,  ..., 0, 0, 0]])}\n",
      "{'label': tensor([1, 0, 1, 1, 0, 0, 1, 1, 0, 1, 0, 1, 1, 1, 1, 0]), 'input_ids': tensor([[  101,  1030,  5310,  ...,     0,     0,     0],\n",
      "        [  101, 14620, 11560,  ...,     0,     0,     0],\n",
      "        [  101,  2634,  2005,  ...,     0,     0,     0],\n",
      "        ...,\n",
      "        [  101,  1030,  5310,  ...,     0,     0,     0],\n",
      "        [  101,  2758,  2158,  ...,     0,     0,     0],\n",
      "        [  101,  2308,  1024,  ...,     0,     0,     0]]), 'attention_mask': tensor([[1, 1, 1,  ..., 0, 0, 0],\n",
      "        [1, 1, 1,  ..., 0, 0, 0],\n",
      "        [1, 1, 1,  ..., 0, 0, 0],\n",
      "        ...,\n",
      "        [1, 1, 1,  ..., 0, 0, 0],\n",
      "        [1, 1, 1,  ..., 0, 0, 0],\n",
      "        [1, 1, 1,  ..., 0, 0, 0]])}\n",
      "{'label': tensor([0, 1, 1, 1, 0, 1, 0, 0, 1, 1, 0, 0, 0, 0, 0, 0]), 'input_ids': tensor([[ 101, 1030, 5310,  ...,    0,    0,    0],\n",
      "        [ 101, 2057, 2342,  ...,    0,    0,    0],\n",
      "        [ 101, 6206, 7344,  ...,    0,    0,    0],\n",
      "        ...,\n",
      "        [ 101, 1045, 1005,  ...,    0,    0,    0],\n",
      "        [ 101, 2529, 2916,  ...,    0,    0,    0],\n",
      "        [ 101, 2043, 2017,  ...,    0,    0,    0]]), 'attention_mask': tensor([[1, 1, 1,  ..., 0, 0, 0],\n",
      "        [1, 1, 1,  ..., 0, 0, 0],\n",
      "        [1, 1, 1,  ..., 0, 0, 0],\n",
      "        ...,\n",
      "        [1, 1, 1,  ..., 0, 0, 0],\n",
      "        [1, 1, 1,  ..., 0, 0, 0],\n",
      "        [1, 1, 1,  ..., 0, 0, 0]])}\n",
      "{'label': tensor([0, 0, 0, 0, 0, 1, 1, 1, 0, 0, 0, 0, 1, 1, 0, 1]), 'input_ids': tensor([[  101,  9877,  1997,  ...,     0,     0,     0],\n",
      "        [  101,  1996,  2446,  ...,     0,     0,     0],\n",
      "        [  101,  2108,  4138,  ...,     0,     0,     0],\n",
      "        ...,\n",
      "        [  101,  2022,  8059,  ...,     0,     0,     0],\n",
      "        [  101,  2343,  8398,  ...,     0,     0,     0],\n",
      "        [  101,  1045, 11320,  ...,     0,     0,     0]]), 'attention_mask': tensor([[1, 1, 1,  ..., 0, 0, 0],\n",
      "        [1, 1, 1,  ..., 0, 0, 0],\n",
      "        [1, 1, 1,  ..., 0, 0, 0],\n",
      "        ...,\n",
      "        [1, 1, 1,  ..., 0, 0, 0],\n",
      "        [1, 1, 1,  ..., 0, 0, 0],\n",
      "        [1, 1, 1,  ..., 0, 0, 0]])}\n",
      "{'label': tensor([0, 0, 1, 1, 1, 1, 0, 0, 0, 0, 0, 0, 0, 0, 0, 1]), 'input_ids': tensor([[  101,  1996,  8398,  ...,     0,     0,     0],\n",
      "        [  101, 19387,  1030,  ...,     0,     0,     0],\n",
      "        [  101,  1030,  5310,  ...,     0,     0,     0],\n",
      "        ...,\n",
      "        [  101,  2017,  1005,  ...,     0,     0,     0],\n",
      "        [  101,  2467,  3477,  ...,     0,     0,     0],\n",
      "        [  101,  1030,  5310,  ...,     0,     0,     0]]), 'attention_mask': tensor([[1, 1, 1,  ..., 0, 0, 0],\n",
      "        [1, 1, 1,  ..., 0, 0, 0],\n",
      "        [1, 1, 1,  ..., 0, 0, 0],\n",
      "        ...,\n",
      "        [1, 1, 1,  ..., 0, 0, 0],\n",
      "        [1, 1, 1,  ..., 0, 0, 0],\n",
      "        [1, 1, 1,  ..., 0, 0, 0]])}\n",
      "{'label': tensor([0, 0, 0, 1, 0, 1, 0, 0, 1, 0, 1, 1, 0, 1, 0, 1]), 'input_ids': tensor([[  101,  2026,  9052,  ...,     0,     0,     0],\n",
      "        [  101,  2065,  2017,  ...,     0,     0,     0],\n",
      "        [  101,  2061,  2172,  ...,     0,     0,     0],\n",
      "        ...,\n",
      "        [  101,  2023, 11560,  ...,     0,     0,     0],\n",
      "        [  101,  2113,  2115,  ...,     0,     0,     0],\n",
      "        [  101, 12873,  4355,  ...,     0,     0,     0]]), 'attention_mask': tensor([[1, 1, 1,  ..., 0, 0, 0],\n",
      "        [1, 1, 1,  ..., 0, 0, 0],\n",
      "        [1, 1, 1,  ..., 0, 0, 0],\n",
      "        ...,\n",
      "        [1, 1, 1,  ..., 0, 0, 0],\n",
      "        [1, 1, 1,  ..., 0, 0, 0],\n",
      "        [1, 1, 1,  ..., 0, 0, 0]])}\n",
      "{'label': tensor([0, 0, 0, 1, 0, 1, 1, 0, 1, 1, 1, 1, 1, 1, 0, 1]), 'input_ids': tensor([[ 101, 2023, 2051,  ...,    0,    0,    0],\n",
      "        [ 101, 1030, 5310,  ...,    0,    0,    0],\n",
      "        [ 101, 2028, 1997,  ...,    0,    0,    0],\n",
      "        ...,\n",
      "        [ 101, 2009, 2003,  ...,    0,    0,    0],\n",
      "        [ 101, 2025, 2035,  ...,    0,    0,    0],\n",
      "        [ 101, 3422, 1024,  ...,    0,    0,    0]]), 'attention_mask': tensor([[1, 1, 1,  ..., 0, 0, 0],\n",
      "        [1, 1, 1,  ..., 0, 0, 0],\n",
      "        [1, 1, 1,  ..., 0, 0, 0],\n",
      "        ...,\n",
      "        [1, 1, 1,  ..., 0, 0, 0],\n",
      "        [1, 1, 1,  ..., 0, 0, 0],\n",
      "        [1, 1, 1,  ..., 0, 0, 0]])}\n",
      "{'label': tensor([1, 0, 0, 1, 0, 0, 1, 1, 0, 0, 0, 1, 1, 0, 0, 0]), 'input_ids': tensor([[  101,  6456,  2057,  ...,     0,     0,     0],\n",
      "        [  101, 25672, 24894,  ...,     0,     0,     0],\n",
      "        [  101,  8634,  2025,  ...,     0,     0,     0],\n",
      "        ...,\n",
      "        [  101,  1030,  5310,  ...,     0,     0,     0],\n",
      "        [  101,  1030,  5310,  ...,     0,     0,     0],\n",
      "        [  101,  1045,  2123,  ...,     0,     0,     0]]), 'attention_mask': tensor([[1, 1, 1,  ..., 0, 0, 0],\n",
      "        [1, 1, 1,  ..., 0, 0, 0],\n",
      "        [1, 1, 1,  ..., 0, 0, 0],\n",
      "        ...,\n",
      "        [1, 1, 1,  ..., 0, 0, 0],\n",
      "        [1, 1, 1,  ..., 0, 0, 0],\n",
      "        [1, 1, 1,  ..., 0, 0, 0]])}\n",
      "{'label': tensor([1, 1, 1, 1, 0, 0, 1, 1, 1, 0, 0, 1, 1, 0, 0, 0]), 'input_ids': tensor([[  101,  1030,  5310,  ...,     0,     0,     0],\n",
      "        [  101,  1045,  2074,  ...,     0,     0,     0],\n",
      "        [  101,  2065,  1057,  ...,     0,     0,     0],\n",
      "        ...,\n",
      "        [  101, 22091, 13442,  ...,     0,     0,     0],\n",
      "        [  101,  1030,  5310,  ...,     0,     0,     0],\n",
      "        [  101,  2028,  1997,  ...,     0,     0,     0]]), 'attention_mask': tensor([[1, 1, 1,  ..., 0, 0, 0],\n",
      "        [1, 1, 1,  ..., 0, 0, 0],\n",
      "        [1, 1, 1,  ..., 0, 0, 0],\n",
      "        ...,\n",
      "        [1, 1, 1,  ..., 0, 0, 0],\n",
      "        [1, 1, 1,  ..., 0, 0, 0],\n",
      "        [1, 1, 1,  ..., 0, 0, 0]])}\n",
      "{'label': tensor([1, 1, 0, 1, 0, 0, 0, 0, 0, 1, 0, 0, 1, 0, 0, 0]), 'input_ids': tensor([[  101,  9458, 17219,  ...,     0,     0,     0],\n",
      "        [  101,  1030,  5310,  ...,     0,     0,     0],\n",
      "        [  101, 10863,  2824,  ...,     0,     0,     0],\n",
      "        ...,\n",
      "        [  101,  2054,  1037,  ...,     0,     0,     0],\n",
      "        [  101,  1030,  5310,  ...,     0,     0,     0],\n",
      "        [  101,  1996,  8398,  ...,     0,     0,     0]]), 'attention_mask': tensor([[1, 1, 1,  ..., 0, 0, 0],\n",
      "        [1, 1, 1,  ..., 0, 0, 0],\n",
      "        [1, 1, 1,  ..., 0, 0, 0],\n",
      "        ...,\n",
      "        [1, 1, 1,  ..., 0, 0, 0],\n",
      "        [1, 1, 1,  ..., 0, 0, 0],\n",
      "        [1, 1, 1,  ..., 0, 0, 0]])}\n",
      "{'label': tensor([1, 1, 1, 0, 0, 1, 1, 1, 1, 0, 1, 1, 0, 0, 0, 0]), 'input_ids': tensor([[  101,  1030,  5310,  ...,     0,     0,     0],\n",
      "        [  101,  2292,  2033,  ...,     0,     0,     0],\n",
      "        [  101,  2065,  1030,  ...,     0,     0,     0],\n",
      "        ...,\n",
      "        [  101,  5448,  1024,  ...,     0,     0,     0],\n",
      "        [  101,  2043,  2115,  ...,     0,     0,     0],\n",
      "        [  101, 11560,  3008,  ...,     0,     0,     0]]), 'attention_mask': tensor([[1, 1, 1,  ..., 0, 0, 0],\n",
      "        [1, 1, 1,  ..., 0, 0, 0],\n",
      "        [1, 1, 1,  ..., 0, 0, 0],\n",
      "        ...,\n",
      "        [1, 1, 1,  ..., 0, 0, 0],\n",
      "        [1, 1, 1,  ..., 0, 0, 0],\n",
      "        [1, 1, 1,  ..., 0, 0, 0]])}\n",
      "{'label': tensor([1, 0, 0, 0, 1, 0, 0, 0, 0, 0, 1, 1, 0, 0, 0, 0]), 'input_ids': tensor([[ 101, 2054, 3084,  ...,    0,    0,    0],\n",
      "        [ 101, 1030, 5310,  ...,    0,    0,    0],\n",
      "        [ 101, 1030, 5310,  ...,    0,    0,    0],\n",
      "        ...,\n",
      "        [ 101, 2129, 2055,  ...,    0,    0,    0],\n",
      "        [ 101, 2043, 2002,  ...,    0,    0,    0],\n",
      "        [ 101, 1030, 5310,  ...,    0,    0,    0]]), 'attention_mask': tensor([[1, 1, 1,  ..., 0, 0, 0],\n",
      "        [1, 1, 1,  ..., 0, 0, 0],\n",
      "        [1, 1, 1,  ..., 0, 0, 0],\n",
      "        ...,\n",
      "        [1, 1, 1,  ..., 0, 0, 0],\n",
      "        [1, 1, 1,  ..., 0, 0, 0],\n",
      "        [1, 1, 1,  ..., 0, 0, 0]])}\n",
      "{'label': tensor([1, 0, 0, 1, 0, 1, 0, 0, 1, 0, 1, 0, 0, 1, 1, 1]), 'input_ids': tensor([[  101, 13489, 19607,  ...,     0,     0,     0],\n",
      "        [  101,  2097,  2196,  ...,     0,     0,     0],\n",
      "        [  101,  1012,  1030,  ...,     0,     0,     0],\n",
      "        ...,\n",
      "        [  101,  1030,  5310,  ...,     0,     0,     0],\n",
      "        [  101,  1030,  5310,  ...,     0,     0,     0],\n",
      "        [  101,  1030,  5310,  ...,     0,     0,     0]]), 'attention_mask': tensor([[1, 1, 1,  ..., 0, 0, 0],\n",
      "        [1, 1, 1,  ..., 0, 0, 0],\n",
      "        [1, 1, 1,  ..., 0, 0, 0],\n",
      "        ...,\n",
      "        [1, 1, 1,  ..., 0, 0, 0],\n",
      "        [1, 1, 1,  ..., 0, 0, 0],\n",
      "        [1, 1, 1,  ..., 0, 0, 0]])}\n",
      "{'label': tensor([1, 0, 1, 0, 0, 1, 0, 1, 0, 1, 1, 1, 0, 1, 0, 0]), 'input_ids': tensor([[  101,  2477,  2057,  ...,     0,     0,     0],\n",
      "        [  101, 11235,  3779,  ...,     0,     0,     0],\n",
      "        [  101,  1030,  5310,  ...,     0,     0,     0],\n",
      "        ...,\n",
      "        [  101,  1030,  5310,  ...,     0,     0,     0],\n",
      "        [  101,  1030,  5310,  ...,     0,     0,     0],\n",
      "        [  101,  1045,  2066,  ...,     0,     0,     0]]), 'attention_mask': tensor([[1, 1, 1,  ..., 0, 0, 0],\n",
      "        [1, 1, 1,  ..., 0, 0, 0],\n",
      "        [1, 1, 1,  ..., 0, 0, 0],\n",
      "        ...,\n",
      "        [1, 1, 1,  ..., 0, 0, 0],\n",
      "        [1, 1, 1,  ..., 0, 0, 0],\n",
      "        [1, 1, 1,  ..., 0, 0, 0]])}\n",
      "{'label': tensor([1, 1, 0, 1, 0, 0, 0, 0, 1, 0, 1, 0, 1, 0, 0, 1]), 'input_ids': tensor([[  101,  2157,  3358,  ...,     0,     0,     0],\n",
      "        [  101, 19387,  1030,  ...,     0,     0,     0],\n",
      "        [  101,  1030,  5310,  ...,     0,     0,     0],\n",
      "        ...,\n",
      "        [  101,  2061,  2065,  ...,     0,     0,     0],\n",
      "        [  101,  2637,  2987,  ...,     0,     0,     0],\n",
      "        [  101,  1998,  2054,  ...,     0,     0,     0]]), 'attention_mask': tensor([[1, 1, 1,  ..., 0, 0, 0],\n",
      "        [1, 1, 1,  ..., 0, 0, 0],\n",
      "        [1, 1, 1,  ..., 0, 0, 0],\n",
      "        ...,\n",
      "        [1, 1, 1,  ..., 0, 0, 0],\n",
      "        [1, 1, 1,  ..., 0, 0, 0],\n",
      "        [1, 1, 1,  ..., 0, 0, 0]])}\n",
      "{'label': tensor([1, 1, 1, 0, 0, 1, 0, 1, 0, 0, 1, 1, 1, 1, 1, 1]), 'input_ids': tensor([[  101,  1030,  5310,  ...,     0,     0,     0],\n",
      "        [  101,  1045,  1001,  ...,     0,     0,     0],\n",
      "        [  101,  2343,  1030,  ...,     0,     0,     0],\n",
      "        ...,\n",
      "        [  101, 22650,  2273,  ...,     0,     0,     0],\n",
      "        [  101,  1030,  5310,  ...,     0,     0,     0],\n",
      "        [  101,  2339,  2052,  ...,     0,     0,     0]]), 'attention_mask': tensor([[1, 1, 1,  ..., 0, 0, 0],\n",
      "        [1, 1, 1,  ..., 0, 0, 0],\n",
      "        [1, 1, 1,  ..., 0, 0, 0],\n",
      "        ...,\n",
      "        [1, 1, 1,  ..., 0, 0, 0],\n",
      "        [1, 1, 1,  ..., 0, 0, 0],\n",
      "        [1, 1, 1,  ..., 0, 0, 0]])}\n",
      "{'label': tensor([0, 0, 1, 0, 1, 0, 0, 0, 0, 0, 0, 1, 1, 1, 0, 0]), 'input_ids': tensor([[ 101, 2293, 2003,  ...,    0,    0,    0],\n",
      "        [ 101, 1030, 5310,  ...,    0,    0,    0],\n",
      "        [ 101, 4013, 5955,  ...,    0,    0,    0],\n",
      "        ...,\n",
      "        [ 101, 2065, 2069,  ...,    0,    0,    0],\n",
      "        [ 101, 2978, 3597,  ...,    0,    0,    0],\n",
      "        [ 101, 2043, 2619,  ...,    0,    0,    0]]), 'attention_mask': tensor([[1, 1, 1,  ..., 0, 0, 0],\n",
      "        [1, 1, 1,  ..., 0, 0, 0],\n",
      "        [1, 1, 1,  ..., 0, 0, 0],\n",
      "        ...,\n",
      "        [1, 1, 1,  ..., 0, 0, 0],\n",
      "        [1, 1, 1,  ..., 0, 0, 0],\n",
      "        [1, 1, 1,  ..., 0, 0, 0]])}\n",
      "{'label': tensor([1, 1, 1, 0, 0, 0, 0, 0, 0, 1, 1, 1, 1, 1, 1, 1]), 'input_ids': tensor([[  101,  2021,  1045,  ...,     0,     0,     0],\n",
      "        [  101,  1030,  5310,  ...,     0,     0,     0],\n",
      "        [  101,  2339,  2106,  ...,     0,     0,     0],\n",
      "        ...,\n",
      "        [  101,  1030,  5310,  ...,     0,     0,     0],\n",
      "        [  101,  5665, 13340,  ...,     0,     0,     0],\n",
      "        [  101,  6382,  2474,  ...,     0,     0,     0]]), 'attention_mask': tensor([[1, 1, 1,  ..., 0, 0, 0],\n",
      "        [1, 1, 1,  ..., 0, 0, 0],\n",
      "        [1, 1, 1,  ..., 0, 0, 0],\n",
      "        ...,\n",
      "        [1, 1, 1,  ..., 0, 0, 0],\n",
      "        [1, 1, 1,  ..., 0, 0, 0],\n",
      "        [1, 1, 1,  ..., 0, 0, 0]])}\n",
      "{'label': tensor([0, 1, 1, 1, 1, 0, 0, 1, 0, 0, 0, 0, 0, 1, 0, 1]), 'input_ids': tensor([[  101,  2065,  2017,  ...,     0,     0,     0],\n",
      "        [  101,  1030,  5310,  ...,     0,     0,     0],\n",
      "        [  101,  1030,  5310,  ...,     0,     0,     0],\n",
      "        ...,\n",
      "        [  101,  1001,  4636,  ...,     0,     0,     0],\n",
      "        [  101, 19273,  2455,  ...,     0,     0,     0],\n",
      "        [  101, 11891,  1037,  ...,     0,     0,     0]]), 'attention_mask': tensor([[1, 1, 1,  ..., 0, 0, 0],\n",
      "        [1, 1, 1,  ..., 0, 0, 0],\n",
      "        [1, 1, 1,  ..., 0, 0, 0],\n",
      "        ...,\n",
      "        [1, 1, 1,  ..., 0, 0, 0],\n",
      "        [1, 1, 1,  ..., 0, 0, 0],\n",
      "        [1, 1, 1,  ..., 0, 0, 0]])}\n",
      "{'label': tensor([1, 0, 0, 1, 0, 0, 1, 0, 1, 1, 1, 0, 0, 0, 0, 0]), 'input_ids': tensor([[  101,  2493,  1999,  ...,     0,     0,     0],\n",
      "        [  101,  2193,  1997,  ...,     0,     0,     0],\n",
      "        [  101,  1001,  2808,  ...,     0,     0,     0],\n",
      "        ...,\n",
      "        [  101,  1031, 11980,  ...,     0,     0,     0],\n",
      "        [  101,  2023,  2001,  ...,     0,     0,     0],\n",
      "        [  101,  2644, 16801,  ...,     0,     0,     0]]), 'attention_mask': tensor([[1, 1, 1,  ..., 0, 0, 0],\n",
      "        [1, 1, 1,  ..., 0, 0, 0],\n",
      "        [1, 1, 1,  ..., 0, 0, 0],\n",
      "        ...,\n",
      "        [1, 1, 1,  ..., 0, 0, 0],\n",
      "        [1, 1, 1,  ..., 0, 0, 0],\n",
      "        [1, 1, 1,  ..., 0, 0, 0]])}\n",
      "{'label': tensor([0, 1, 1, 1, 1, 0, 0, 1, 1, 0, 0, 1, 0, 1, 1, 0]), 'input_ids': tensor([[  101,  1030,  5310,  ...,     0,     0,     0],\n",
      "        [  101, 11210,  2027,  ...,     0,     0,     0],\n",
      "        [  101,  2672,  2065,  ...,     0,     0,     0],\n",
      "        ...,\n",
      "        [  101,  1030,  5310,  ...,     0,     0,     0],\n",
      "        [  101,  2065,  1037,  ...,     0,     0,     0],\n",
      "        [  101, 10759,  3036,  ...,     0,     0,     0]]), 'attention_mask': tensor([[1, 1, 1,  ..., 0, 0, 0],\n",
      "        [1, 1, 1,  ..., 0, 0, 0],\n",
      "        [1, 1, 1,  ..., 0, 0, 0],\n",
      "        ...,\n",
      "        [1, 1, 1,  ..., 0, 0, 0],\n",
      "        [1, 1, 1,  ..., 0, 0, 0],\n",
      "        [1, 1, 1,  ..., 0, 0, 0]])}\n",
      "{'label': tensor([1, 0, 0, 0, 0, 1, 0, 0, 1, 1, 0, 0, 0, 1, 1, 1]), 'input_ids': tensor([[ 101, 2036, 1012,  ...,    0,    0,    0],\n",
      "        [ 101, 1045, 3984,  ...,    0,    0,    0],\n",
      "        [ 101, 1997, 3597,  ...,    0,    0,    0],\n",
      "        ...,\n",
      "        [ 101, 1030, 5310,  ...,    0,    0,    0],\n",
      "        [ 101, 2308, 2215,  ...,    0,    0,    0],\n",
      "        [ 101, 2061, 2170,  ...,    0,    0,    0]]), 'attention_mask': tensor([[1, 1, 1,  ..., 0, 0, 0],\n",
      "        [1, 1, 1,  ..., 0, 0, 0],\n",
      "        [1, 1, 1,  ..., 0, 0, 0],\n",
      "        ...,\n",
      "        [1, 1, 1,  ..., 0, 0, 0],\n",
      "        [1, 1, 1,  ..., 0, 0, 0],\n",
      "        [1, 1, 1,  ..., 0, 0, 0]])}\n",
      "{'label': tensor([0, 1, 1, 0, 1, 1, 1, 0, 0, 0, 1, 0, 0, 1, 0, 0]), 'input_ids': tensor([[ 101, 1030, 5310,  ...,    0,    0,    0],\n",
      "        [ 101, 2339, 2003,  ...,    0,    0,    0],\n",
      "        [ 101, 1030, 5310,  ...,    0,    0,    0],\n",
      "        ...,\n",
      "        [ 101, 1030, 5310,  ...,    0,    0,    0],\n",
      "        [ 101, 1030, 5310,  ...,    0,    0,    0],\n",
      "        [ 101, 5207, 1005,  ...,    0,    0,    0]]), 'attention_mask': tensor([[1, 1, 1,  ..., 0, 0, 0],\n",
      "        [1, 1, 1,  ..., 0, 0, 0],\n",
      "        [1, 1, 1,  ..., 0, 0, 0],\n",
      "        ...,\n",
      "        [1, 1, 1,  ..., 0, 0, 0],\n",
      "        [1, 1, 1,  ..., 0, 0, 0],\n",
      "        [1, 1, 1,  ..., 0, 0, 0]])}\n",
      "{'label': tensor([0, 1, 1, 0, 1, 1, 1, 0, 0, 0, 1, 0, 1, 0, 0, 1]), 'input_ids': tensor([[ 101, 2231, 1005,  ...,    0,    0,    0],\n",
      "        [ 101, 1030, 5310,  ...,    0,    0,    0],\n",
      "        [ 101, 1030, 5310,  ...,    0,    0,    0],\n",
      "        ...,\n",
      "        [ 101, 3532, 4845,  ...,    0,    0,    0],\n",
      "        [ 101, 1030, 5310,  ...,    0,    0,    0],\n",
      "        [ 101, 1030, 5310,  ...,    0,    0,    0]]), 'attention_mask': tensor([[1, 1, 1,  ..., 0, 0, 0],\n",
      "        [1, 1, 1,  ..., 0, 0, 0],\n",
      "        [1, 1, 1,  ..., 0, 0, 0],\n",
      "        ...,\n",
      "        [1, 1, 1,  ..., 0, 0, 0],\n",
      "        [1, 1, 1,  ..., 0, 0, 0],\n",
      "        [1, 1, 1,  ..., 0, 0, 0]])}\n",
      "{'label': tensor([1, 1, 0, 0, 1, 0, 1, 1, 0, 0, 0, 0, 0, 0, 0, 0]), 'input_ids': tensor([[ 101, 1045, 5223,  ...,    0,    0,    0],\n",
      "        [ 101, 1030, 5310,  ...,    0,    0,    0],\n",
      "        [ 101, 2065, 2002,  ...,    0,    0,    0],\n",
      "        ...,\n",
      "        [ 101, 1998, 2002,  ...,    0,    0,    0],\n",
      "        [ 101, 1030, 5310,  ...,    0,    0,    0],\n",
      "        [ 101, 3861, 1024,  ...,    0,    0,    0]]), 'attention_mask': tensor([[1, 1, 1,  ..., 0, 0, 0],\n",
      "        [1, 1, 1,  ..., 0, 0, 0],\n",
      "        [1, 1, 1,  ..., 0, 0, 0],\n",
      "        ...,\n",
      "        [1, 1, 1,  ..., 0, 0, 0],\n",
      "        [1, 1, 1,  ..., 0, 0, 0],\n",
      "        [1, 1, 1,  ..., 0, 0, 0]])}\n",
      "{'label': tensor([0, 1, 1, 0, 1, 0, 1, 0, 0, 0, 1, 0, 0, 0, 0, 1]), 'input_ids': tensor([[ 101, 2043, 2814,  ...,    0,    0,    0],\n",
      "        [ 101, 1030, 5310,  ...,    0,    0,    0],\n",
      "        [ 101, 1001, 2122,  ...,    0,    0,    0],\n",
      "        ...,\n",
      "        [ 101, 1030, 5310,  ...,    0,    0,    0],\n",
      "        [ 101, 2043, 2017,  ...,    0,    0,    0],\n",
      "        [ 101, 1030, 5310,  ...,    0,    0,    0]]), 'attention_mask': tensor([[1, 1, 1,  ..., 0, 0, 0],\n",
      "        [1, 1, 1,  ..., 0, 0, 0],\n",
      "        [1, 1, 1,  ..., 0, 0, 0],\n",
      "        ...,\n",
      "        [1, 1, 1,  ..., 0, 0, 0],\n",
      "        [1, 1, 1,  ..., 0, 0, 0],\n",
      "        [1, 1, 1,  ..., 0, 0, 0]])}\n",
      "{'label': tensor([1, 0, 0, 1, 0, 1, 0, 1, 0, 1, 1, 1, 0, 0, 1, 0]), 'input_ids': tensor([[  101,  1030,  5310,  ...,     0,     0,     0],\n",
      "        [  101,  2054,  6433,  ...,     0,     0,     0],\n",
      "        [  101,  2054,  9588,  ...,     0,     0,     0],\n",
      "        ...,\n",
      "        [  101,  1001, 13141,  ...,     0,     0,     0],\n",
      "        [  101,  6719,  2017,  ...,     0,     0,     0],\n",
      "        [  101,  1045,  2064,  ...,     0,     0,     0]]), 'attention_mask': tensor([[1, 1, 1,  ..., 0, 0, 0],\n",
      "        [1, 1, 1,  ..., 0, 0, 0],\n",
      "        [1, 1, 1,  ..., 0, 0, 0],\n",
      "        ...,\n",
      "        [1, 1, 1,  ..., 0, 0, 0],\n",
      "        [1, 1, 1,  ..., 0, 0, 0],\n",
      "        [1, 1, 1,  ..., 0, 0, 0]])}\n",
      "{'label': tensor([0, 1, 1, 1, 0, 0, 1, 0, 1, 1, 1, 1, 0, 0, 1, 1]), 'input_ids': tensor([[  101, 22905, 14824,  ...,     0,     0,     0],\n",
      "        [  101,  1030,  5310,  ...,     0,     0,     0],\n",
      "        [  101,  6206, 11560,  ...,     0,     0,     0],\n",
      "        ...,\n",
      "        [  101,  2008,  1005,  ...,     0,     0,     0],\n",
      "        [  101,  8740,  2213,  ...,     0,     0,     0],\n",
      "        [  101,  1030,  5310,  ...,     0,     0,     0]]), 'attention_mask': tensor([[1, 1, 1,  ..., 0, 0, 0],\n",
      "        [1, 1, 1,  ..., 0, 0, 0],\n",
      "        [1, 1, 1,  ..., 0, 0, 0],\n",
      "        ...,\n",
      "        [1, 1, 1,  ..., 0, 0, 0],\n",
      "        [1, 1, 1,  ..., 0, 0, 0],\n",
      "        [1, 1, 1,  ..., 0, 0, 0]])}\n",
      "{'label': tensor([1, 1, 1, 1, 0, 1, 0, 1, 1, 1, 0, 0, 1, 0, 0, 0]), 'input_ids': tensor([[  101,  2049,  1037,  ...,     0,     0,     0],\n",
      "        [  101,  2672,  2087,  ...,     0,     0,     0],\n",
      "        [  101,  2026,  2611,  ...,     0,     0,     0],\n",
      "        ...,\n",
      "        [  101,  5499,  2110,  ...,     0,     0,     0],\n",
      "        [  101,  1998,  1996,  ...,     0,     0,     0],\n",
      "        [  101, 27552,  2003,  ...,     0,     0,     0]]), 'attention_mask': tensor([[1, 1, 1,  ..., 0, 0, 0],\n",
      "        [1, 1, 1,  ..., 0, 0, 0],\n",
      "        [1, 1, 1,  ..., 0, 0, 0],\n",
      "        ...,\n",
      "        [1, 1, 1,  ..., 0, 0, 0],\n",
      "        [1, 1, 1,  ..., 0, 0, 0],\n",
      "        [1, 1, 1,  ..., 0, 0, 0]])}\n",
      "{'label': tensor([0, 0, 0, 1, 1, 0, 0, 0, 0, 0, 0, 1, 1, 1, 1, 1]), 'input_ids': tensor([[  101,  4424, 16011,  ...,     0,     0,     0],\n",
      "        [  101,  2065,  2017,  ...,     0,     0,     0],\n",
      "        [  101,  1030,  5310,  ...,     0,     0,     0],\n",
      "        ...,\n",
      "        [  101,  1059, 24475,  ...,     0,     0,     0],\n",
      "        [  101,  1001,  8711,  ...,     0,     0,     0],\n",
      "        [  101,  1030,  5310,  ...,     0,     0,     0]]), 'attention_mask': tensor([[1, 1, 1,  ..., 0, 0, 0],\n",
      "        [1, 1, 1,  ..., 0, 0, 0],\n",
      "        [1, 1, 1,  ..., 0, 0, 0],\n",
      "        ...,\n",
      "        [1, 1, 1,  ..., 0, 0, 0],\n",
      "        [1, 1, 1,  ..., 0, 0, 0],\n",
      "        [1, 1, 1,  ..., 0, 0, 0]])}\n",
      "{'label': tensor([0, 0, 0, 1, 0, 1, 0, 1, 0, 0, 0, 1, 1, 0, 1, 0]), 'input_ids': tensor([[  101,  2062,  2084,  ...,     0,     0,     0],\n",
      "        [  101,  1030,  5310,  ...,     0,     0,     0],\n",
      "        [  101,  2043,  2017,  ...,     0,     0,     0],\n",
      "        ...,\n",
      "        [  101,  7521, 20150,  ...,     0,     0,     0],\n",
      "        [  101,  1030,  5310,  ...,     0,     0,     0],\n",
      "        [  101,  5595,  2086,  ...,     0,     0,     0]]), 'attention_mask': tensor([[1, 1, 1,  ..., 0, 0, 0],\n",
      "        [1, 1, 1,  ..., 0, 0, 0],\n",
      "        [1, 1, 1,  ..., 0, 0, 0],\n",
      "        ...,\n",
      "        [1, 1, 1,  ..., 0, 0, 0],\n",
      "        [1, 1, 1,  ..., 0, 0, 0],\n",
      "        [1, 1, 1,  ..., 0, 0, 0]])}\n",
      "{'label': tensor([1, 0, 0, 0, 0, 1, 0, 0, 0, 0, 1, 1, 0, 0, 1, 0]), 'input_ids': tensor([[  101,  1030,  5310,  ...,     0,     0,     0],\n",
      "        [  101,  2130,  2065,  ...,     0,     0,     0],\n",
      "        [  101, 15933,  2619,  ...,     0,     0,     0],\n",
      "        ...,\n",
      "        [  101,  2157,  2006,  ...,     0,     0,     0],\n",
      "        [  101,  2026,  2611,  ...,     0,     0,     0],\n",
      "        [  101,  6107,  3446,  ...,     0,     0,     0]]), 'attention_mask': tensor([[1, 1, 1,  ..., 0, 0, 0],\n",
      "        [1, 1, 1,  ..., 0, 0, 0],\n",
      "        [1, 1, 1,  ..., 0, 0, 0],\n",
      "        ...,\n",
      "        [1, 1, 1,  ..., 0, 0, 0],\n",
      "        [1, 1, 1,  ..., 0, 0, 0],\n",
      "        [1, 1, 1,  ..., 0, 0, 0]])}\n",
      "{'label': tensor([0, 1, 0, 0, 0, 0, 1, 1, 0, 0, 0, 0, 1, 0, 0, 1]), 'input_ids': tensor([[  101,  2043,  2017,  ...,     0,     0,     0],\n",
      "        [  101,  2821,  2017,  ...,     0,     0,     0],\n",
      "        [  101,  2096,  1001,  ...,     0,     0,     0],\n",
      "        ...,\n",
      "        [  101,  2413,  1001,  ...,     0,     0,     0],\n",
      "        [  101,  2088, 13141,  ...,     0,     0,     0],\n",
      "        [  101,  2019,  6206,  ...,     0,     0,     0]]), 'attention_mask': tensor([[1, 1, 1,  ..., 0, 0, 0],\n",
      "        [1, 1, 1,  ..., 0, 0, 0],\n",
      "        [1, 1, 1,  ..., 0, 0, 0],\n",
      "        ...,\n",
      "        [1, 1, 1,  ..., 0, 0, 0],\n",
      "        [1, 1, 1,  ..., 0, 0, 0],\n",
      "        [1, 1, 1,  ..., 0, 0, 0]])}\n",
      "{'label': tensor([0, 1, 0, 1, 0, 0, 0, 0, 0, 0, 0, 0, 0, 1, 1, 0]), 'input_ids': tensor([[  101,  1030,  5310,  ...,     0,     0,     0],\n",
      "        [  101,  1000,  7743,  ...,     0,     0,     0],\n",
      "        [  101,  2402,  2450,  ...,     0,     0,     0],\n",
      "        ...,\n",
      "        [  101, 13350,  2342,  ...,     0,     0,     0],\n",
      "        [  101,  1030,  5310,  ...,     0,     0,     0],\n",
      "        [  101,  3059,  4592,  ...,     0,     0,     0]]), 'attention_mask': tensor([[1, 1, 1,  ..., 0, 0, 0],\n",
      "        [1, 1, 1,  ..., 0, 0, 0],\n",
      "        [1, 1, 1,  ..., 0, 0, 0],\n",
      "        ...,\n",
      "        [1, 1, 1,  ..., 0, 0, 0],\n",
      "        [1, 1, 1,  ..., 0, 0, 0],\n",
      "        [1, 1, 1,  ..., 0, 0, 0]])}\n",
      "{'label': tensor([1, 0, 0, 0, 1, 1, 0, 0, 0, 1, 0, 0, 0, 1, 0, 0]), 'input_ids': tensor([[ 101, 2129, 2885,  ...,    0,    0,    0],\n",
      "        [ 101, 2129, 2296,  ...,    0,    0,    0],\n",
      "        [ 101, 2033, 1011,  ...,    0,    0,    0],\n",
      "        ...,\n",
      "        [ 101, 6616, 2378,  ...,    0,    0,    0],\n",
      "        [ 101, 2057, 2442,  ...,    0,    0,    0],\n",
      "        [ 101, 1045, 2031,  ...,    0,    0,    0]]), 'attention_mask': tensor([[1, 1, 1,  ..., 0, 0, 0],\n",
      "        [1, 1, 1,  ..., 0, 0, 0],\n",
      "        [1, 1, 1,  ..., 0, 0, 0],\n",
      "        ...,\n",
      "        [1, 1, 1,  ..., 0, 0, 0],\n",
      "        [1, 1, 1,  ..., 0, 0, 0],\n",
      "        [1, 1, 1,  ..., 0, 0, 0]])}\n",
      "{'label': tensor([1, 0, 1, 0, 0, 0, 1, 0, 0, 1, 0, 0, 0, 1, 0, 0]), 'input_ids': tensor([[ 101, 1030, 5310,  ...,    0,    0,    0],\n",
      "        [ 101, 3951, 3424,  ...,    0,    0,    0],\n",
      "        [ 101, 1030, 5310,  ...,    0,    0,    0],\n",
      "        ...,\n",
      "        [ 101, 1030, 5310,  ...,    0,    0,    0],\n",
      "        [ 101, 2852, 2015,  ...,    0,    0,    0],\n",
      "        [ 101, 1030, 5310,  ...,    0,    0,    0]]), 'attention_mask': tensor([[1, 1, 1,  ..., 0, 0, 0],\n",
      "        [1, 1, 1,  ..., 0, 0, 0],\n",
      "        [1, 1, 1,  ..., 0, 0, 0],\n",
      "        ...,\n",
      "        [1, 1, 1,  ..., 0, 0, 0],\n",
      "        [1, 1, 1,  ..., 0, 0, 0],\n",
      "        [1, 1, 1,  ..., 0, 0, 0]])}\n",
      "{'label': tensor([0, 1, 0, 0, 1, 1, 0, 0, 1, 1, 0, 1, 1, 0, 0, 0]), 'input_ids': tensor([[  101,  2025,  3855,  ...,     0,     0,     0],\n",
      "        [  101,  2043,  2017,  ...,     0,     0,     0],\n",
      "        [  101, 19387,  1030,  ...,     0,     0,     0],\n",
      "        ...,\n",
      "        [  101,  2538, 23458,  ...,     0,     0,     0],\n",
      "        [  101,  2026,  3566,  ...,     0,     0,     0],\n",
      "        [  101,  2446, 11125,  ...,     0,     0,     0]]), 'attention_mask': tensor([[1, 1, 1,  ..., 0, 0, 0],\n",
      "        [1, 1, 1,  ..., 0, 0, 0],\n",
      "        [1, 1, 1,  ..., 0, 0, 0],\n",
      "        ...,\n",
      "        [1, 1, 1,  ..., 0, 0, 0],\n",
      "        [1, 1, 1,  ..., 0, 0, 0],\n",
      "        [1, 1, 1,  ..., 0, 0, 0]])}\n",
      "{'label': tensor([1, 1, 0, 1, 1, 1, 0, 1, 0, 0, 0, 1, 0, 1, 0, 1]), 'input_ids': tensor([[ 101, 1001, 4604,  ...,    0,    0,    0],\n",
      "        [ 101, 2742, 5890,  ...,    0,    0,    0],\n",
      "        [ 101, 2123, 1005,  ...,    0,    0,    0],\n",
      "        ...,\n",
      "        [ 101, 2129, 2055,  ...,    0,    0,    0],\n",
      "        [ 101, 2678, 1024,  ...,    0,    0,    0],\n",
      "        [ 101, 1030, 5310,  ...,    0,    0,    0]]), 'attention_mask': tensor([[1, 1, 1,  ..., 0, 0, 0],\n",
      "        [1, 1, 1,  ..., 0, 0, 0],\n",
      "        [1, 1, 1,  ..., 0, 0, 0],\n",
      "        ...,\n",
      "        [1, 1, 1,  ..., 0, 0, 0],\n",
      "        [1, 1, 1,  ..., 0, 0, 0],\n",
      "        [1, 1, 1,  ..., 0, 0, 0]])}\n",
      "{'label': tensor([0, 0, 0, 0, 1, 1, 1, 0, 0, 0, 0, 1, 0, 1, 0, 0]), 'input_ids': tensor([[  101,  2750,  8945,  ...,     0,     0,     0],\n",
      "        [  101,  4067,  2017,  ...,     0,     0,     0],\n",
      "        [  101,  1045,  2180,  ...,     0,     0,     0],\n",
      "        ...,\n",
      "        [  101,  2339,  2079,  ...,     0,     0,     0],\n",
      "        [  101,  9726,  5207,  ...,     0,     0,     0],\n",
      "        [  101,  3289, 21358,  ...,     0,     0,     0]]), 'attention_mask': tensor([[1, 1, 1,  ..., 0, 0, 0],\n",
      "        [1, 1, 1,  ..., 0, 0, 0],\n",
      "        [1, 1, 1,  ..., 0, 0, 0],\n",
      "        ...,\n",
      "        [1, 1, 1,  ..., 0, 0, 0],\n",
      "        [1, 1, 1,  ..., 0, 0, 0],\n",
      "        [1, 1, 1,  ..., 0, 0, 0]])}\n",
      "{'label': tensor([1, 1, 0, 1, 0, 0, 1, 0, 1, 0, 1, 0, 0, 1, 0, 1]), 'input_ids': tensor([[  101,  1030,  5310,  ...,     0,     0,     0],\n",
      "        [  101,  1030,  5310,  ...,     0,     0,     0],\n",
      "        [  101,  1001,  3256,  ...,     0,     0,     0],\n",
      "        ...,\n",
      "        [  101, 10047,  2050,  ...,     0,     0,     0],\n",
      "        [  101,  1005,  2643,  ...,     0,     0,     0],\n",
      "        [  101,  2339,  2064,  ...,     0,     0,     0]]), 'attention_mask': tensor([[1, 1, 1,  ..., 0, 0, 0],\n",
      "        [1, 1, 1,  ..., 0, 0, 0],\n",
      "        [1, 1, 1,  ..., 0, 0, 0],\n",
      "        ...,\n",
      "        [1, 1, 1,  ..., 0, 0, 0],\n",
      "        [1, 1, 1,  ..., 0, 0, 0],\n",
      "        [1, 1, 1,  ..., 0, 0, 0]])}\n",
      "{'label': tensor([1, 1, 1, 0, 1, 0, 0, 1, 1, 1, 1, 0, 1, 1, 1, 0]), 'input_ids': tensor([[  101,  1998,  1996,  ...,     0,     0,     0],\n",
      "        [  101, 19387,  1030,  ...,     0,     0,     0],\n",
      "        [  101,  2065,  1037,  ...,     0,     0,     0],\n",
      "        ...,\n",
      "        [  101,  4701,  1024,  ...,     0,     0,     0],\n",
      "        [  101,  3156,  1010,  ...,     0,     0,     0],\n",
      "        [  101,  2058,  2403,  ...,     0,     0,     0]]), 'attention_mask': tensor([[1, 1, 1,  ..., 0, 0, 0],\n",
      "        [1, 1, 1,  ..., 0, 0, 0],\n",
      "        [1, 1, 1,  ..., 0, 0, 0],\n",
      "        ...,\n",
      "        [1, 1, 1,  ..., 0, 0, 0],\n",
      "        [1, 1, 1,  ..., 0, 0, 0],\n",
      "        [1, 1, 1,  ..., 0, 0, 0]])}\n",
      "{'label': tensor([0, 1, 0, 1, 1, 0, 1, 1, 1, 0, 0, 0, 0, 0, 0, 0]), 'input_ids': tensor([[ 101, 2613, 4485,  ...,    0,    0,    0],\n",
      "        [ 101, 2709, 1996,  ...,    0,    0,    0],\n",
      "        [ 101, 3658, 1997,  ...,    0,    0,    0],\n",
      "        ...,\n",
      "        [ 101, 2061, 2521,  ...,    0,    0,    0],\n",
      "        [ 101, 2205, 2919,  ...,    0,    0,    0],\n",
      "        [ 101, 2009, 3084,  ...,    0,    0,    0]]), 'attention_mask': tensor([[1, 1, 1,  ..., 0, 0, 0],\n",
      "        [1, 1, 1,  ..., 0, 0, 0],\n",
      "        [1, 1, 1,  ..., 0, 0, 0],\n",
      "        ...,\n",
      "        [1, 1, 1,  ..., 0, 0, 0],\n",
      "        [1, 1, 1,  ..., 0, 0, 0],\n",
      "        [1, 1, 1,  ..., 0, 0, 0]])}\n",
      "{'label': tensor([0, 0, 0, 0, 0, 0, 0, 0, 0, 0, 1, 0, 0, 1, 0, 0]), 'input_ids': tensor([[ 101, 1030, 5310,  ...,    0,    0,    0],\n",
      "        [ 101, 2043, 2009,  ...,    0,    0,    0],\n",
      "        [ 101, 2446, 4592,  ...,    0,    0,    0],\n",
      "        ...,\n",
      "        [ 101, 2040, 3084,  ...,    0,    0,    0],\n",
      "        [ 101, 2043, 1037,  ...,    0,    0,    0],\n",
      "        [ 101, 7743, 2003,  ...,    0,    0,    0]]), 'attention_mask': tensor([[1, 1, 1,  ..., 0, 0, 0],\n",
      "        [1, 1, 1,  ..., 0, 0, 0],\n",
      "        [1, 1, 1,  ..., 0, 0, 0],\n",
      "        ...,\n",
      "        [1, 1, 1,  ..., 0, 0, 0],\n",
      "        [1, 1, 1,  ..., 0, 0, 0],\n",
      "        [1, 1, 1,  ..., 0, 0, 0]])}\n",
      "{'label': tensor([1, 1, 0, 0, 1, 1, 0, 0, 1, 0, 0, 0, 0, 0, 1, 1]), 'input_ids': tensor([[ 101, 1030, 5310,  ...,    0,    0,    0],\n",
      "        [ 101, 1030, 5310,  ...,    0,    0,    0],\n",
      "        [ 101, 2106, 2017,  ...,    0,    0,    0],\n",
      "        ...,\n",
      "        [ 101, 3998, 1010,  ...,    0,    0,    0],\n",
      "        [ 101, 1030, 5310,  ...,    0,    0,    0],\n",
      "        [ 101, 1030, 5310,  ...,    0,    0,    0]]), 'attention_mask': tensor([[1, 1, 1,  ..., 0, 0, 0],\n",
      "        [1, 1, 1,  ..., 0, 0, 0],\n",
      "        [1, 1, 1,  ..., 0, 0, 0],\n",
      "        ...,\n",
      "        [1, 1, 1,  ..., 0, 0, 0],\n",
      "        [1, 1, 1,  ..., 0, 0, 0],\n",
      "        [1, 1, 1,  ..., 0, 0, 0]])}\n",
      "{'label': tensor([0, 1, 0, 0, 0, 0, 0, 0, 0, 0, 0, 1, 0, 1, 1, 1]), 'input_ids': tensor([[ 101, 2188, 2323,  ...,    0,    0,    0],\n",
      "        [ 101, 2643, 2987,  ...,    0,    0,    0],\n",
      "        [ 101, 1030, 5310,  ...,    0,    0,    0],\n",
      "        ...,\n",
      "        [ 101, 2054, 2515,  ...,    0,    0,    0],\n",
      "        [ 101, 5674, 2004,  ...,    0,    0,    0],\n",
      "        [ 101, 6206, 7344,  ...,    0,    0,    0]]), 'attention_mask': tensor([[1, 1, 1,  ..., 0, 0, 0],\n",
      "        [1, 1, 1,  ..., 0, 0, 0],\n",
      "        [1, 1, 1,  ..., 0, 0, 0],\n",
      "        ...,\n",
      "        [1, 1, 1,  ..., 0, 0, 0],\n",
      "        [1, 1, 1,  ..., 0, 0, 0],\n",
      "        [1, 1, 1,  ..., 0, 0, 0]])}\n",
      "{'label': tensor([1, 0, 1, 0, 0, 0, 0, 0, 1, 1, 0, 1, 1, 0, 1, 1]), 'input_ids': tensor([[  101,  1996,  2069,  ...,     0,     0,     0],\n",
      "        [  101,  2308,  2024,  ...,     0,     0,     0],\n",
      "        [  101, 10469,  2015,  ...,     0,     0,     0],\n",
      "        ...,\n",
      "        [  101,  1045,  4687,  ...,     0,     0,     0],\n",
      "        [  101,  1030,  5310,  ...,     0,     0,     0],\n",
      "        [  101,  1030,  5310,  ...,     0,     0,     0]]), 'attention_mask': tensor([[1, 1, 1,  ..., 0, 0, 0],\n",
      "        [1, 1, 1,  ..., 0, 0, 0],\n",
      "        [1, 1, 1,  ..., 0, 0, 0],\n",
      "        ...,\n",
      "        [1, 1, 1,  ..., 0, 0, 0],\n",
      "        [1, 1, 1,  ..., 0, 0, 0],\n",
      "        [1, 1, 1,  ..., 0, 0, 0]])}\n",
      "{'label': tensor([1, 0, 1, 0, 0, 0, 1, 1, 1, 0, 1, 0, 1, 1, 0, 0]), 'input_ids': tensor([[ 101, 6616, 2017,  ...,    0,    0,    0],\n",
      "        [ 101, 1030, 5310,  ...,    0,    0,    0],\n",
      "        [ 101, 1030, 5310,  ...,    0,    0,    0],\n",
      "        ...,\n",
      "        [ 101, 1030, 5310,  ...,    0,    0,    0],\n",
      "        [ 101, 1996, 2671,  ...,    0,    0,    0],\n",
      "        [ 101, 2131, 7568,  ...,    0,    0,    0]]), 'attention_mask': tensor([[1, 1, 1,  ..., 0, 0, 0],\n",
      "        [1, 1, 1,  ..., 0, 0, 0],\n",
      "        [1, 1, 1,  ..., 0, 0, 0],\n",
      "        ...,\n",
      "        [1, 1, 1,  ..., 0, 0, 0],\n",
      "        [1, 1, 1,  ..., 0, 0, 0],\n",
      "        [1, 1, 1,  ..., 0, 0, 0]])}\n",
      "{'label': tensor([0, 1, 1, 1, 1, 0, 1, 0, 0, 0, 1, 0, 0, 0, 0, 1]), 'input_ids': tensor([[ 101, 2014, 1011,  ...,    0,    0,    0],\n",
      "        [ 101, 2053, 2028,  ...,    0,    0,    0],\n",
      "        [ 101, 2057, 2031,  ...,    0,    0,    0],\n",
      "        ...,\n",
      "        [ 101, 1030, 5310,  ...,    0,    0,    0],\n",
      "        [ 101, 2057, 1005,  ...,    0,    0,    0],\n",
      "        [ 101, 6517, 2000,  ...,    0,    0,    0]]), 'attention_mask': tensor([[1, 1, 1,  ..., 0, 0, 0],\n",
      "        [1, 1, 1,  ..., 0, 0, 0],\n",
      "        [1, 1, 1,  ..., 0, 0, 0],\n",
      "        ...,\n",
      "        [1, 1, 1,  ..., 0, 0, 0],\n",
      "        [1, 1, 1,  ..., 0, 0, 0],\n",
      "        [1, 1, 1,  ..., 0, 0, 0]])}\n",
      "{'label': tensor([1, 1, 0, 0, 0, 0, 0, 0, 1, 1, 0, 0, 0, 0, 0, 1]), 'input_ids': tensor([[ 101, 1030, 5310,  ...,    0,    0,    0],\n",
      "        [ 101, 3866, 2014,  ...,    0,    0,    0],\n",
      "        [ 101, 1000, 3028,  ...,    0,    0,    0],\n",
      "        ...,\n",
      "        [ 101, 1030, 5310,  ...,    0,    0,    0],\n",
      "        [ 101, 1030, 5310,  ...,    0,    0,    0],\n",
      "        [ 101, 2900, 2003,  ...,    0,    0,    0]]), 'attention_mask': tensor([[1, 1, 1,  ..., 0, 0, 0],\n",
      "        [1, 1, 1,  ..., 0, 0, 0],\n",
      "        [1, 1, 1,  ..., 0, 0, 0],\n",
      "        ...,\n",
      "        [1, 1, 1,  ..., 0, 0, 0],\n",
      "        [1, 1, 1,  ..., 0, 0, 0],\n",
      "        [1, 1, 1,  ..., 0, 0, 0]])}\n",
      "{'label': tensor([0, 0, 1, 1, 1, 1, 0, 0, 1, 0, 1, 0, 0, 0, 1, 1]), 'input_ids': tensor([[  101,  1045,  4716,  ...,     0,     0,     0],\n",
      "        [  101,  2043,  2017,  ...,     0,     0,     0],\n",
      "        [  101,  4701,  1024,  ...,     0,     0,     0],\n",
      "        ...,\n",
      "        [  101,  1030,  5310,  ...,     0,     0,     0],\n",
      "        [  101, 24726,  1005,  ...,     0,     0,     0],\n",
      "        [  101,  1030,  5310,  ...,     0,     0,     0]]), 'attention_mask': tensor([[1, 1, 1,  ..., 0, 0, 0],\n",
      "        [1, 1, 1,  ..., 0, 0, 0],\n",
      "        [1, 1, 1,  ..., 0, 0, 0],\n",
      "        ...,\n",
      "        [1, 1, 1,  ..., 0, 0, 0],\n",
      "        [1, 1, 1,  ..., 0, 0, 0],\n",
      "        [1, 1, 1,  ..., 0, 0, 0]])}\n",
      "{'label': tensor([1, 1, 0, 1, 1, 0, 0, 0, 0, 0, 1, 0, 1, 0, 0, 0]), 'input_ids': tensor([[  101,  2023,  2678,  ...,     0,     0,     0],\n",
      "        [  101,  1059, 24475,  ...,     0,     0,     0],\n",
      "        [  101, 11082,  2131,  ...,     0,     0,     0],\n",
      "        ...,\n",
      "        [  101,  1030,  5310,  ...,     0,     0,     0],\n",
      "        [  101,  1045,  5223,  ...,     0,     0,     0],\n",
      "        [  101,   100,  2035,  ...,     0,     0,     0]]), 'attention_mask': tensor([[1, 1, 1,  ..., 0, 0, 0],\n",
      "        [1, 1, 1,  ..., 0, 0, 0],\n",
      "        [1, 1, 1,  ..., 0, 0, 0],\n",
      "        ...,\n",
      "        [1, 1, 1,  ..., 0, 0, 0],\n",
      "        [1, 1, 1,  ..., 0, 0, 0],\n",
      "        [1, 1, 1,  ..., 0, 0, 0]])}\n",
      "{'label': tensor([0, 0, 1, 0, 1, 1, 1, 0, 0, 1, 1, 1, 0, 0, 1, 1]), 'input_ids': tensor([[  101,  2057,  4025,  ...,     0,     0,     0],\n",
      "        [  101, 13475,  5980,  ...,     0,     0,     0],\n",
      "        [  101,  6544,  2987,  ...,     0,     0,     0],\n",
      "        ...,\n",
      "        [  101,  1030,  5310,  ...,     0,     0,     0],\n",
      "        [  101,  1030,  5310,  ...,     0,     0,     0],\n",
      "        [  101,  1030,  5310,  ...,     0,     0,     0]]), 'attention_mask': tensor([[1, 1, 1,  ..., 0, 0, 0],\n",
      "        [1, 1, 1,  ..., 0, 0, 0],\n",
      "        [1, 1, 1,  ..., 0, 0, 0],\n",
      "        ...,\n",
      "        [1, 1, 1,  ..., 0, 0, 0],\n",
      "        [1, 1, 1,  ..., 0, 0, 0],\n",
      "        [1, 1, 1,  ..., 0, 0, 0]])}\n",
      "{'label': tensor([1, 0, 1, 0, 0, 0, 0, 0, 0, 1, 1, 1, 1, 0, 0, 0]), 'input_ids': tensor([[  101,  1030,  5310,  ...,     0,     0,     0],\n",
      "        [  101,  2026, 18097,  ...,     0,     0,     0],\n",
      "        [  101,  1030,  5310,  ...,     0,     0,     0],\n",
      "        ...,\n",
      "        [  101,  2017,  2412,  ...,     0,     0,     0],\n",
      "        [  101,  1001, 28836,  ...,     0,     0,     0],\n",
      "        [  101,  1030,  5310,  ...,     0,     0,     0]]), 'attention_mask': tensor([[1, 1, 1,  ..., 0, 0, 0],\n",
      "        [1, 1, 1,  ..., 0, 0, 0],\n",
      "        [1, 1, 1,  ..., 0, 0, 0],\n",
      "        ...,\n",
      "        [1, 1, 1,  ..., 0, 0, 0],\n",
      "        [1, 1, 1,  ..., 0, 0, 0],\n",
      "        [1, 1, 1,  ..., 0, 0, 0]])}\n",
      "{'label': tensor([1, 1, 0, 1, 1, 1, 1, 0, 0, 0, 0, 1, 1, 0, 0, 0]), 'input_ids': tensor([[  101,  2123,  1005,  ...,     0,     0,     0],\n",
      "        [  101,  2823,  1010,  ...,     0,     0,     0],\n",
      "        [  101, 11284, 17219,  ...,     0,     0,     0],\n",
      "        ...,\n",
      "        [  101, 19387,  1030,  ...,     0,     0,     0],\n",
      "        [  101,  1030,  5310,  ...,     0,     0,     0],\n",
      "        [  101,  2058, 11212,  ...,     0,     0,     0]]), 'attention_mask': tensor([[1, 1, 1,  ..., 0, 0, 0],\n",
      "        [1, 1, 1,  ..., 0, 0, 0],\n",
      "        [1, 1, 1,  ..., 0, 0, 0],\n",
      "        ...,\n",
      "        [1, 1, 1,  ..., 0, 0, 0],\n",
      "        [1, 1, 1,  ..., 0, 0, 0],\n",
      "        [1, 1, 1,  ..., 0, 0, 0]])}\n",
      "{'label': tensor([0, 0, 1, 0, 1, 0, 1, 0, 0, 1, 0, 0, 1, 1, 0, 1]), 'input_ids': tensor([[  101,  5606,  1997,  ...,     0,     0,     0],\n",
      "        [  101,  1001, 28836,  ...,     0,     0,     0],\n",
      "        [  101,  2023,  4845,  ...,     0,     0,     0],\n",
      "        ...,\n",
      "        [  101,  2197,  2305,  ...,     0,     0,     0],\n",
      "        [  101,  1030,  5310,  ...,     0,     0,     0],\n",
      "        [  101,  1001,  2748,  ...,     0,     0,     0]]), 'attention_mask': tensor([[1, 1, 1,  ..., 0, 0, 0],\n",
      "        [1, 1, 1,  ..., 0, 0, 0],\n",
      "        [1, 1, 1,  ..., 0, 0, 0],\n",
      "        ...,\n",
      "        [1, 1, 1,  ..., 0, 0, 0],\n",
      "        [1, 1, 1,  ..., 0, 0, 0],\n",
      "        [1, 1, 1,  ..., 0, 0, 0]])}\n",
      "{'label': tensor([0, 1, 0, 1, 1, 0, 0, 0, 1, 0, 1, 1, 0, 0, 0, 0]), 'input_ids': tensor([[ 101, 1030, 5310,  ...,    0,    0,    0],\n",
      "        [ 101, 2442, 3191,  ...,    0,    0,    0],\n",
      "        [ 101, 2016, 2056,  ...,    0,    0,    0],\n",
      "        ...,\n",
      "        [ 101, 2662, 2904,  ...,    0,    0,    0],\n",
      "        [ 101, 2048, 2477,  ...,    0,    0,    0],\n",
      "        [ 101, 3342, 2043,  ...,    0,    0,    0]]), 'attention_mask': tensor([[1, 1, 1,  ..., 0, 0, 0],\n",
      "        [1, 1, 1,  ..., 0, 0, 0],\n",
      "        [1, 1, 1,  ..., 0, 0, 0],\n",
      "        ...,\n",
      "        [1, 1, 1,  ..., 0, 0, 0],\n",
      "        [1, 1, 1,  ..., 0, 0, 0],\n",
      "        [1, 1, 1,  ..., 0, 0, 0]])}\n",
      "{'label': tensor([0, 0, 0, 1, 1, 1, 0, 0, 0, 1, 1, 0, 0, 0, 1, 1]), 'input_ids': tensor([[ 101, 2036, 2074,  ...,    0,    0,    0],\n",
      "        [ 101, 1030, 5310,  ...,    0,    0,    0],\n",
      "        [ 101, 1030, 5310,  ...,    0,    0,    0],\n",
      "        ...,\n",
      "        [ 101, 1030, 5310,  ...,    0,    0,    0],\n",
      "        [ 101, 1030, 5310,  ...,    0,    0,    0],\n",
      "        [ 101, 2339, 2106,  ...,    0,    0,    0]]), 'attention_mask': tensor([[1, 1, 1,  ..., 0, 0, 0],\n",
      "        [1, 1, 1,  ..., 0, 0, 0],\n",
      "        [1, 1, 1,  ..., 0, 0, 0],\n",
      "        ...,\n",
      "        [1, 1, 1,  ..., 0, 0, 0],\n",
      "        [1, 1, 1,  ..., 0, 0, 0],\n",
      "        [1, 1, 1,  ..., 0, 0, 0]])}\n",
      "{'label': tensor([1, 1, 0, 0, 0, 1, 0, 0, 0, 0, 0, 0, 0, 0, 1, 0]), 'input_ids': tensor([[  101,  1030,  5310,  ...,     0,     0,     0],\n",
      "        [  101,  6616,  2017,  ...,     0,     0,     0],\n",
      "        [  101,  1996,  3011,  ...,     0,     0,     0],\n",
      "        ...,\n",
      "        [  101,  1999,  2553,  ...,     0,     0,     0],\n",
      "        [  101,  2339, 17219,  ...,     0,     0,     0],\n",
      "        [  101,  3666,  1030,  ...,     0,     0,     0]]), 'attention_mask': tensor([[1, 1, 1,  ..., 0, 0, 0],\n",
      "        [1, 1, 1,  ..., 0, 0, 0],\n",
      "        [1, 1, 1,  ..., 0, 0, 0],\n",
      "        ...,\n",
      "        [1, 1, 1,  ..., 0, 0, 0],\n",
      "        [1, 1, 1,  ..., 0, 0, 0],\n",
      "        [1, 1, 1,  ..., 0, 0, 0]])}\n",
      "{'label': tensor([0, 0, 1, 1, 1, 1, 1, 1, 0, 0, 0, 0, 0, 0, 1, 1]), 'input_ids': tensor([[ 101, 2043, 2017,  ...,    0,    0,    0],\n",
      "        [ 101, 2043, 2017,  ...,    0,    0,    0],\n",
      "        [ 101, 2296, 2051,  ...,    0,    0,    0],\n",
      "        ...,\n",
      "        [ 101, 6811, 2273,  ...,    0,    0,    0],\n",
      "        [ 101, 1045, 2074,  ...,    0,    0,    0],\n",
      "        [ 101, 1030, 5310,  ...,    0,    0,    0]]), 'attention_mask': tensor([[1, 1, 1,  ..., 0, 0, 0],\n",
      "        [1, 1, 1,  ..., 0, 0, 0],\n",
      "        [1, 1, 1,  ..., 0, 0, 0],\n",
      "        ...,\n",
      "        [1, 1, 1,  ..., 0, 0, 0],\n",
      "        [1, 1, 1,  ..., 0, 0, 0],\n",
      "        [1, 1, 1,  ..., 0, 0, 0]])}\n",
      "{'label': tensor([1, 1, 0, 0, 0, 0, 0, 0, 0, 1, 0, 0, 0, 0, 0, 1]), 'input_ids': tensor([[  101, 19285,  2933,  ...,     0,     0,     0],\n",
      "        [  101,  1030,  5310,  ...,     0,     0,     0],\n",
      "        [  101, 19387,  1030,  ...,     0,     0,     0],\n",
      "        ...,\n",
      "        [  101, 10261,  1996,  ...,     0,     0,     0],\n",
      "        [  101,  2029,  2028,  ...,     0,     0,     0],\n",
      "        [  101,  1030,  5310,  ...,     0,     0,     0]]), 'attention_mask': tensor([[1, 1, 1,  ..., 0, 0, 0],\n",
      "        [1, 1, 1,  ..., 0, 0, 0],\n",
      "        [1, 1, 1,  ..., 0, 0, 0],\n",
      "        ...,\n",
      "        [1, 1, 1,  ..., 0, 0, 0],\n",
      "        [1, 1, 1,  ..., 0, 0, 0],\n",
      "        [1, 1, 1,  ..., 0, 0, 0]])}\n",
      "{'label': tensor([1, 0, 0, 1, 0, 0, 1, 0, 0, 0, 1, 0, 1, 0, 0, 1]), 'input_ids': tensor([[ 101, 1038, 2721,  ...,    0,    0,    0],\n",
      "        [ 101, 1030, 5310,  ...,    0,    0,    0],\n",
      "        [ 101, 2023, 2095,  ...,    0,    0,    0],\n",
      "        ...,\n",
      "        [ 101, 2004, 2047,  ...,    0,    0,    0],\n",
      "        [ 101, 1030, 5310,  ...,    0,    0,    0],\n",
      "        [ 101, 1045, 2228,  ...,    0,    0,    0]]), 'attention_mask': tensor([[1, 1, 1,  ..., 0, 0, 0],\n",
      "        [1, 1, 1,  ..., 0, 0, 0],\n",
      "        [1, 1, 1,  ..., 0, 0, 0],\n",
      "        ...,\n",
      "        [1, 1, 1,  ..., 0, 0, 0],\n",
      "        [1, 1, 1,  ..., 0, 0, 0],\n",
      "        [1, 1, 1,  ..., 0, 0, 0]])}\n",
      "{'label': tensor([0, 1, 1, 0, 1, 1, 0, 0, 0, 0, 1, 1, 1, 1, 0, 0]), 'input_ids': tensor([[  101, 13350,  4682,  ...,     0,     0,     0],\n",
      "        [  101,  1996, 10759,  ...,     0,     0,     0],\n",
      "        [  101,  2821,  2298,  ...,     0,     0,     0],\n",
      "        ...,\n",
      "        [  101,  1001,  2330,  ...,     0,     0,     0],\n",
      "        [  101,  2767,  1011,  ...,     0,     0,     0],\n",
      "        [  101,  1520,   100,  ...,     0,     0,     0]]), 'attention_mask': tensor([[1, 1, 1,  ..., 0, 0, 0],\n",
      "        [1, 1, 1,  ..., 0, 0, 0],\n",
      "        [1, 1, 1,  ..., 0, 0, 0],\n",
      "        ...,\n",
      "        [1, 1, 1,  ..., 0, 0, 0],\n",
      "        [1, 1, 1,  ..., 0, 0, 0],\n",
      "        [1, 1, 1,  ..., 0, 0, 0]])}\n",
      "{'label': tensor([0, 0, 0, 0, 0, 1, 0, 0, 1, 0, 0, 0, 0, 1, 0, 1]), 'input_ids': tensor([[  101,  3753,  2000,  ...,     0,     0,     0],\n",
      "        [  101,  2041, 26775,  ...,     0,     0,     0],\n",
      "        [  101,   102,     0,  ...,     0,     0,     0],\n",
      "        ...,\n",
      "        [  101,  4190,  2050,  ...,     0,     0,     0],\n",
      "        [  101,  5436,  9792,  ...,     0,     0,     0],\n",
      "        [  101,  1030,  5310,  ...,     0,     0,     0]]), 'attention_mask': tensor([[1, 1, 1,  ..., 0, 0, 0],\n",
      "        [1, 1, 1,  ..., 0, 0, 0],\n",
      "        [1, 1, 0,  ..., 0, 0, 0],\n",
      "        ...,\n",
      "        [1, 1, 1,  ..., 0, 0, 0],\n",
      "        [1, 1, 1,  ..., 0, 0, 0],\n",
      "        [1, 1, 1,  ..., 0, 0, 0]])}\n",
      "{'label': tensor([0, 0, 1, 0, 0, 1, 0, 0, 0, 0, 1, 0, 1, 1, 0, 0]), 'input_ids': tensor([[  101,  2070,  1997,  ...,     0,     0,     0],\n",
      "        [  101,  1030,  5310,  ...,     0,     0,     0],\n",
      "        [  101,  2498, 20868,  ...,     0,     0,     0],\n",
      "        ...,\n",
      "        [  101,  1030,  5310,  ...,     0,     0,     0],\n",
      "        [  101,  1030,  5310,  ...,     0,     0,     0],\n",
      "        [  101,  2004,  5156,  ...,     0,     0,     0]]), 'attention_mask': tensor([[1, 1, 1,  ..., 0, 0, 0],\n",
      "        [1, 1, 1,  ..., 0, 0, 0],\n",
      "        [1, 1, 1,  ..., 0, 0, 0],\n",
      "        ...,\n",
      "        [1, 1, 1,  ..., 0, 0, 0],\n",
      "        [1, 1, 1,  ..., 0, 0, 0],\n",
      "        [1, 1, 1,  ..., 0, 0, 0]])}\n",
      "{'label': tensor([1, 0, 1, 0, 0, 0, 0, 1, 0, 1, 1, 0, 1, 0, 0, 1]), 'input_ids': tensor([[  101,  3426,  2016,  ...,     0,     0,     0],\n",
      "        [  101,  1037,  2879,  ...,     0,     0,     0],\n",
      "        [  101,  1030,  5310,  ...,     0,     0,     0],\n",
      "        ...,\n",
      "        [  101,  2043,  6544,  ...,     0,     0,     0],\n",
      "        [  101, 28319, 13245,  ...,     0,     0,     0],\n",
      "        [  101,  7743,  2111,  ...,     0,     0,     0]]), 'attention_mask': tensor([[1, 1, 1,  ..., 0, 0, 0],\n",
      "        [1, 1, 1,  ..., 0, 0, 0],\n",
      "        [1, 1, 1,  ..., 0, 0, 0],\n",
      "        ...,\n",
      "        [1, 1, 1,  ..., 0, 0, 0],\n",
      "        [1, 1, 1,  ..., 0, 0, 0],\n",
      "        [1, 1, 1,  ..., 0, 0, 0]])}\n",
      "{'label': tensor([0, 1, 0, 0, 0, 0, 0, 0, 1, 0, 1, 1, 0, 0, 0, 0]), 'input_ids': tensor([[  101, 19387,  1030,  ...,     0,     0,     0],\n",
      "        [  101,  1030,  5310,  ...,     0,     0,     0],\n",
      "        [  101,  3835,  4339,  ...,     0,     0,     0],\n",
      "        ...,\n",
      "        [  101,  2444,  1024,  ...,     0,     0,     0],\n",
      "        [  101,  2026,  8233,  ...,     0,     0,     0],\n",
      "        [  101, 19232,  2417,  ...,     0,     0,     0]]), 'attention_mask': tensor([[1, 1, 1,  ..., 0, 0, 0],\n",
      "        [1, 1, 1,  ..., 0, 0, 0],\n",
      "        [1, 1, 1,  ..., 0, 0, 0],\n",
      "        ...,\n",
      "        [1, 1, 1,  ..., 0, 0, 0],\n",
      "        [1, 1, 1,  ..., 0, 0, 0],\n",
      "        [1, 1, 1,  ..., 0, 0, 0]])}\n",
      "{'label': tensor([0, 1, 0, 1, 1, 1, 0, 0, 0, 0, 0, 0, 0, 1, 1, 0]), 'input_ids': tensor([[ 101, 1030, 5310,  ...,    0,    0,    0],\n",
      "        [ 101, 1030, 5310,  ...,    0,    0,    0],\n",
      "        [ 101, 2619, 1024,  ...,    0,    0,    0],\n",
      "        ...,\n",
      "        [ 101, 2004, 2566,  ...,    0,    0,    0],\n",
      "        [ 101, 1030, 5310,  ...,    0,    0,    0],\n",
      "        [ 101, 2154, 1020,  ...,    0,    0,    0]]), 'attention_mask': tensor([[1, 1, 1,  ..., 0, 0, 0],\n",
      "        [1, 1, 1,  ..., 0, 0, 0],\n",
      "        [1, 1, 1,  ..., 0, 0, 0],\n",
      "        ...,\n",
      "        [1, 1, 1,  ..., 0, 0, 0],\n",
      "        [1, 1, 1,  ..., 0, 0, 0],\n",
      "        [1, 1, 1,  ..., 0, 0, 0]])}\n",
      "{'label': tensor([1, 1, 0, 0, 1, 0, 0, 1, 0, 1, 1, 0, 1, 0, 1, 1]), 'input_ids': tensor([[ 101, 1001, 2945,  ...,    0,    0,    0],\n",
      "        [ 101, 1030, 5310,  ...,    0,    0,    0],\n",
      "        [ 101, 8398, 3048,  ...,    0,    0,    0],\n",
      "        ...,\n",
      "        [ 101, 2004, 5156,  ...,    0,    0,    0],\n",
      "        [ 101, 1005, 2065,  ...,    0,    0,    0],\n",
      "        [ 101, 2139, 6442,  ...,    0,    0,    0]]), 'attention_mask': tensor([[1, 1, 1,  ..., 0, 0, 0],\n",
      "        [1, 1, 1,  ..., 0, 0, 0],\n",
      "        [1, 1, 1,  ..., 0, 0, 0],\n",
      "        ...,\n",
      "        [1, 1, 1,  ..., 0, 0, 0],\n",
      "        [1, 1, 1,  ..., 0, 0, 0],\n",
      "        [1, 1, 1,  ..., 0, 0, 0]])}\n",
      "{'label': tensor([0, 1, 0, 1, 0, 0, 1, 1, 1, 0, 1, 0, 1, 0, 0, 1]), 'input_ids': tensor([[  101,  1045,  2657,  ...,     0,     0,     0],\n",
      "        [  101,  1045,  2056,  ...,     0,     0,     0],\n",
      "        [  101,  2215,  2710,  ...,     0,     0,     0],\n",
      "        ...,\n",
      "        [  101,  2771, 14124,  ...,     0,     0,     0],\n",
      "        [  101,  2028,  1997,  ...,     0,     0,     0],\n",
      "        [  101,  2077,  3554,  ...,     0,     0,     0]]), 'attention_mask': tensor([[1, 1, 1,  ..., 0, 0, 0],\n",
      "        [1, 1, 1,  ..., 0, 0, 0],\n",
      "        [1, 1, 1,  ..., 0, 0, 0],\n",
      "        ...,\n",
      "        [1, 1, 1,  ..., 0, 0, 0],\n",
      "        [1, 1, 1,  ..., 0, 0, 0],\n",
      "        [1, 1, 1,  ..., 0, 0, 0]])}\n",
      "{'label': tensor([0, 1, 1, 1, 1, 1, 1, 0, 0, 1, 0, 0, 0, 0, 1, 0]), 'input_ids': tensor([[ 101, 2762, 1998,  ...,    0,    0,    0],\n",
      "        [ 101, 2168, 2005,  ...,    0,    0,    0],\n",
      "        [ 101, 1030, 5310,  ...,    0,    0,    0],\n",
      "        ...,\n",
      "        [ 101, 2045, 3791,  ...,    0,    0,    0],\n",
      "        [ 101, 2073, 2024,  ...,    0,    0,    0],\n",
      "        [ 101, 3492, 2469,  ...,    0,    0,    0]]), 'attention_mask': tensor([[1, 1, 1,  ..., 0, 0, 0],\n",
      "        [1, 1, 1,  ..., 0, 0, 0],\n",
      "        [1, 1, 1,  ..., 0, 0, 0],\n",
      "        ...,\n",
      "        [1, 1, 1,  ..., 0, 0, 0],\n",
      "        [1, 1, 1,  ..., 0, 0, 0],\n",
      "        [1, 1, 1,  ..., 0, 0, 0]])}\n",
      "{'label': tensor([1, 1, 0, 0, 1, 0, 0, 1, 0, 1, 1, 0, 0, 0, 1, 0]), 'input_ids': tensor([[ 101, 1030, 5310,  ...,    0,    0,    0],\n",
      "        [ 101, 1030, 5310,  ...,    0,    0,    0],\n",
      "        [ 101, 5848, 1011,  ...,    0,    0,    0],\n",
      "        ...,\n",
      "        [ 101, 7963, 2610,  ...,    0,    0,    0],\n",
      "        [ 101, 1030, 5310,  ...,    0,    0,    0],\n",
      "        [ 101, 2339, 1001,  ...,    0,    0,    0]]), 'attention_mask': tensor([[1, 1, 1,  ..., 0, 0, 0],\n",
      "        [1, 1, 1,  ..., 0, 0, 0],\n",
      "        [1, 1, 1,  ..., 0, 0, 0],\n",
      "        ...,\n",
      "        [1, 1, 1,  ..., 0, 0, 0],\n",
      "        [1, 1, 1,  ..., 0, 0, 0],\n",
      "        [1, 1, 1,  ..., 0, 0, 0]])}\n",
      "{'label': tensor([1, 0, 0, 1, 0, 1, 0, 0, 0, 1, 0, 1, 0, 0, 0, 0]), 'input_ids': tensor([[  101,  1030,  5310,  ...,     0,     0,     0],\n",
      "        [  101,  2054,  2019,  ...,     0,     0,     0],\n",
      "        [  101,  1030,  5310,  ...,     0,     0,     0],\n",
      "        ...,\n",
      "        [  101,  9099,  3126,  ...,     0,     0,     0],\n",
      "        [  101,  2088,  2924,  ...,     0,     0,     0],\n",
      "        [  101, 10439, 17298,  ...,     0,     0,     0]]), 'attention_mask': tensor([[1, 1, 1,  ..., 0, 0, 0],\n",
      "        [1, 1, 1,  ..., 0, 0, 0],\n",
      "        [1, 1, 1,  ..., 0, 0, 0],\n",
      "        ...,\n",
      "        [1, 1, 1,  ..., 0, 0, 0],\n",
      "        [1, 1, 1,  ..., 0, 0, 0],\n",
      "        [1, 1, 1,  ..., 0, 0, 0]])}\n",
      "{'label': tensor([0, 1, 0, 0, 0, 1, 1, 1, 0, 1, 1, 0, 0, 1, 1, 1]), 'input_ids': tensor([[  101,  2027, 10107,  ...,     0,     0,     0],\n",
      "        [  101,  1045,  8271,  ...,     0,     0,     0],\n",
      "        [  101,  1523,  2000,  ...,     0,     0,     0],\n",
      "        ...,\n",
      "        [  101,  3424,  1011,  ...,     0,     0,     0],\n",
      "        [  101, 28144,  5714,  ...,     0,     0,     0],\n",
      "        [  101, 19387,  1030,  ...,     0,     0,     0]]), 'attention_mask': tensor([[1, 1, 1,  ..., 0, 0, 0],\n",
      "        [1, 1, 1,  ..., 0, 0, 0],\n",
      "        [1, 1, 1,  ..., 0, 0, 0],\n",
      "        ...,\n",
      "        [1, 1, 1,  ..., 0, 0, 0],\n",
      "        [1, 1, 1,  ..., 0, 0, 0],\n",
      "        [1, 1, 1,  ..., 0, 0, 0]])}\n",
      "{'label': tensor([1, 0, 1, 0, 0, 0, 0, 0, 1, 1, 0, 0, 0, 1, 0, 0]), 'input_ids': tensor([[ 101, 2057, 2525,  ...,    0,    0,    0],\n",
      "        [ 101, 5606, 1997,  ...,    0,    0,    0],\n",
      "        [ 101, 2748, 1030,  ...,    0,    0,    0],\n",
      "        ...,\n",
      "        [ 101, 1996, 2137,  ...,    0,    0,    0],\n",
      "        [ 101, 1030, 5310,  ...,    0,    0,    0],\n",
      "        [ 101, 2186, 1997,  ...,    0,    0,    0]]), 'attention_mask': tensor([[1, 1, 1,  ..., 0, 0, 0],\n",
      "        [1, 1, 1,  ..., 0, 0, 0],\n",
      "        [1, 1, 1,  ..., 0, 0, 0],\n",
      "        ...,\n",
      "        [1, 1, 1,  ..., 0, 0, 0],\n",
      "        [1, 1, 1,  ..., 0, 0, 0],\n",
      "        [1, 1, 1,  ..., 0, 0, 0]])}\n",
      "{'label': tensor([0, 0, 1, 0, 0, 1, 1, 0, 1, 1, 1, 0, 0, 1, 0, 1]), 'input_ids': tensor([[  101,  1005, 12731,  ...,     0,     0,     0],\n",
      "        [  101,  2043,  1045,  ...,     0,     0,     0],\n",
      "        [  101,  1030,  5310,  ...,     0,     0,     0],\n",
      "        ...,\n",
      "        [  101,  4701,  1521,  ...,     0,     0,     0],\n",
      "        [  101,  2054,  2428,  ...,     0,     0,     0],\n",
      "        [  101,  1030,  5310,  ...,     0,     0,     0]]), 'attention_mask': tensor([[1, 1, 1,  ..., 0, 0, 0],\n",
      "        [1, 1, 1,  ..., 0, 0, 0],\n",
      "        [1, 1, 1,  ..., 0, 0, 0],\n",
      "        ...,\n",
      "        [1, 1, 1,  ..., 0, 0, 0],\n",
      "        [1, 1, 1,  ..., 0, 0, 0],\n",
      "        [1, 1, 1,  ..., 0, 0, 0]])}\n",
      "{'label': tensor([0, 0, 1, 0, 1, 0, 1, 1, 1, 0, 0, 1, 0, 0, 0, 1]), 'input_ids': tensor([[  101,  1523,  1520,  ...,     0,     0,     0],\n",
      "        [  101,  2852, 15979,  ...,     0,     0,     0],\n",
      "        [  101,  1030,  5310,  ...,     0,     0,     0],\n",
      "        ...,\n",
      "        [  101,  1001,  3424,  ...,     0,     0,     0],\n",
      "        [  101,  8398,  3447,  ...,     0,     0,     0],\n",
      "        [  101,  1030,  5310,  ...,     0,     0,     0]]), 'attention_mask': tensor([[1, 1, 1,  ..., 0, 0, 0],\n",
      "        [1, 1, 1,  ..., 0, 0, 0],\n",
      "        [1, 1, 1,  ..., 0, 0, 0],\n",
      "        ...,\n",
      "        [1, 1, 1,  ..., 0, 0, 0],\n",
      "        [1, 1, 1,  ..., 0, 0, 0],\n",
      "        [1, 1, 1,  ..., 0, 0, 0]])}\n",
      "{'label': tensor([1, 1, 1, 1, 0, 0, 1, 1, 0, 0, 0, 0, 0, 1, 1, 1]), 'input_ids': tensor([[ 101, 1001, 4701,  ...,    0,    0,    0],\n",
      "        [ 101, 2108, 6583,  ...,    0,    0,    0],\n",
      "        [ 101, 1030, 5310,  ...,    0,    0,    0],\n",
      "        ...,\n",
      "        [ 101, 1030, 5310,  ...,    0,    0,    0],\n",
      "        [ 101, 1030, 5310,  ...,    0,    0,    0],\n",
      "        [ 101, 2051, 2000,  ...,    0,    0,    0]]), 'attention_mask': tensor([[1, 1, 1,  ..., 0, 0, 0],\n",
      "        [1, 1, 1,  ..., 0, 0, 0],\n",
      "        [1, 1, 1,  ..., 0, 0, 0],\n",
      "        ...,\n",
      "        [1, 1, 1,  ..., 0, 0, 0],\n",
      "        [1, 1, 1,  ..., 0, 0, 0],\n",
      "        [1, 1, 1,  ..., 0, 0, 0]])}\n",
      "{'label': tensor([1, 1, 1, 0, 0, 0, 1, 1, 1, 0, 0, 1, 1, 0, 0, 0]), 'input_ids': tensor([[ 101, 1996, 7672,  ...,    0,    0,    0],\n",
      "        [ 101, 1030, 5310,  ...,    0,    0,    0],\n",
      "        [ 101, 6206, 2015,  ...,    0,    0,    0],\n",
      "        ...,\n",
      "        [ 101, 1045, 1521,  ...,    0,    0,    0],\n",
      "        [ 101, 1001, 6945,  ...,    0,    0,    0],\n",
      "        [ 101, 1520,  100,  ...,    0,    0,    0]]), 'attention_mask': tensor([[1, 1, 1,  ..., 0, 0, 0],\n",
      "        [1, 1, 1,  ..., 0, 0, 0],\n",
      "        [1, 1, 1,  ..., 0, 0, 0],\n",
      "        ...,\n",
      "        [1, 1, 1,  ..., 0, 0, 0],\n",
      "        [1, 1, 1,  ..., 0, 0, 0],\n",
      "        [1, 1, 1,  ..., 0, 0, 0]])}\n",
      "{'label': tensor([0, 0, 0, 0, 0, 0, 1, 1, 0, 0, 1, 0, 0, 0, 1, 0]), 'input_ids': tensor([[ 101, 2053, 2028,  ...,    0,    0,    0],\n",
      "        [ 101, 1999, 2070,  ...,    0,    0,    0],\n",
      "        [ 101, 7489, 1004,  ...,    0,    0,    0],\n",
      "        ...,\n",
      "        [ 101, 1996, 3255,  ...,    0,    0,    0],\n",
      "        [ 101, 2017, 1005,  ...,    0,    0,    0],\n",
      "        [ 101, 1996, 2158,  ...,    0,    0,    0]]), 'attention_mask': tensor([[1, 1, 1,  ..., 0, 0, 0],\n",
      "        [1, 1, 1,  ..., 0, 0, 0],\n",
      "        [1, 1, 1,  ..., 0, 0, 0],\n",
      "        ...,\n",
      "        [1, 1, 1,  ..., 0, 0, 0],\n",
      "        [1, 1, 1,  ..., 0, 0, 0],\n",
      "        [1, 1, 1,  ..., 0, 0, 0]])}\n",
      "{'label': tensor([0, 0, 1, 0, 0, 0, 0, 1, 0, 0, 0, 0, 1, 0, 1, 0]), 'input_ids': tensor([[ 101, 1030, 5310,  ...,    0,    0,    0],\n",
      "        [ 101, 2619, 1005,  ...,    0,    0,    0],\n",
      "        [ 101, 2634, 2003,  ...,    0,    0,    0],\n",
      "        ...,\n",
      "        [ 101, 1996, 3697,  ...,    0,    0,    0],\n",
      "        [ 101, 2004, 2521,  ...,    0,    0,    0],\n",
      "        [ 101, 2057, 2215,  ...,    0,    0,    0]]), 'attention_mask': tensor([[1, 1, 1,  ..., 0, 0, 0],\n",
      "        [1, 1, 1,  ..., 0, 0, 0],\n",
      "        [1, 1, 1,  ..., 0, 0, 0],\n",
      "        ...,\n",
      "        [1, 1, 1,  ..., 0, 0, 0],\n",
      "        [1, 1, 1,  ..., 0, 0, 0],\n",
      "        [1, 1, 1,  ..., 0, 0, 0]])}\n",
      "{'label': tensor([1, 1, 0, 0, 0, 0, 0, 0, 1, 0, 0, 1, 0, 0, 1, 0]), 'input_ids': tensor([[ 101, 2339, 2052,  ...,    0,    0,    0],\n",
      "        [ 101, 1030, 5310,  ...,    0,    0,    0],\n",
      "        [ 101, 7537, 2651,  ...,    0,    0,    0],\n",
      "        ...,\n",
      "        [ 101, 6437, 5292,  ...,    0,    0,    0],\n",
      "        [ 101, 3537, 2283,  ...,    0,    0,    0],\n",
      "        [ 101, 3653, 2015,  ...,    0,    0,    0]]), 'attention_mask': tensor([[1, 1, 1,  ..., 0, 0, 0],\n",
      "        [1, 1, 1,  ..., 0, 0, 0],\n",
      "        [1, 1, 1,  ..., 0, 0, 0],\n",
      "        ...,\n",
      "        [1, 1, 1,  ..., 0, 0, 0],\n",
      "        [1, 1, 1,  ..., 0, 0, 0],\n",
      "        [1, 1, 1,  ..., 0, 0, 0]])}\n",
      "{'label': tensor([1, 1, 1, 0, 0, 1, 1, 1, 0, 1, 1, 1, 0, 1, 0, 0]), 'input_ids': tensor([[ 101, 1030, 5310,  ...,    0,    0,    0],\n",
      "        [ 101, 1030, 5310,  ...,    0,    0,    0],\n",
      "        [ 101, 1996, 2069,  ...,    0,    0,    0],\n",
      "        ...,\n",
      "        [ 101, 2204,  999,  ...,    0,    0,    0],\n",
      "        [ 101, 8239, 3756,  ...,    0,    0,    0],\n",
      "        [ 101, 2145, 2053,  ...,    0,    0,    0]]), 'attention_mask': tensor([[1, 1, 1,  ..., 0, 0, 0],\n",
      "        [1, 1, 1,  ..., 0, 0, 0],\n",
      "        [1, 1, 1,  ..., 0, 0, 0],\n",
      "        ...,\n",
      "        [1, 1, 1,  ..., 0, 0, 0],\n",
      "        [1, 1, 1,  ..., 0, 0, 0],\n",
      "        [1, 1, 1,  ..., 0, 0, 0]])}\n",
      "{'label': tensor([1, 0, 0, 0, 0, 1, 0, 0, 0, 1, 1, 0, 0, 1, 1, 0]), 'input_ids': tensor([[  101,  8239,  3844,  ...,     0,     0,     0],\n",
      "        [  101,  1030,  5310,  ...,     0,     0,     0],\n",
      "        [  101, 19387,  1030,  ...,     0,     0,     0],\n",
      "        ...,\n",
      "        [  101,  1045,  2354,  ...,     0,     0,     0],\n",
      "        [  101,  7570, 10820,  ...,     0,     0,     0],\n",
      "        [  101,  1030,  5310,  ...,     0,     0,     0]]), 'attention_mask': tensor([[1, 1, 1,  ..., 0, 0, 0],\n",
      "        [1, 1, 1,  ..., 0, 0, 0],\n",
      "        [1, 1, 1,  ..., 0, 0, 0],\n",
      "        ...,\n",
      "        [1, 1, 1,  ..., 0, 0, 0],\n",
      "        [1, 1, 1,  ..., 0, 0, 0],\n",
      "        [1, 1, 1,  ..., 0, 0, 0]])}\n",
      "{'label': tensor([1, 0, 1, 0, 0, 0, 1, 0, 0, 1, 1, 0, 0, 0, 0, 1]), 'input_ids': tensor([[  101,  1030,  5310,  ...,     0,     0,     0],\n",
      "        [  101, 18193, 11956,  ...,     0,     0,     0],\n",
      "        [  101,  1999, 17083,  ...,     0,     0,     0],\n",
      "        ...,\n",
      "        [  101,  2651,  1005,  ...,     0,     0,     0],\n",
      "        [  101,  2123,  1005,  ...,     0,     0,     0],\n",
      "        [  101,  1030,  5310,  ...,     0,     0,     0]]), 'attention_mask': tensor([[1, 1, 1,  ..., 0, 0, 0],\n",
      "        [1, 1, 1,  ..., 0, 0, 0],\n",
      "        [1, 1, 1,  ..., 0, 0, 0],\n",
      "        ...,\n",
      "        [1, 1, 1,  ..., 0, 0, 0],\n",
      "        [1, 1, 1,  ..., 0, 0, 0],\n",
      "        [1, 1, 1,  ..., 0, 0, 0]])}\n",
      "{'label': tensor([0, 1, 0, 1, 0, 1, 1, 0, 0, 1, 1, 1, 0, 0, 1, 0]), 'input_ids': tensor([[ 101, 5118, 9794,  ...,    0,    0,    0],\n",
      "        [ 101, 1030, 5310,  ...,    0,    0,    0],\n",
      "        [ 101, 1045, 2170,  ...,    0,    0,    0],\n",
      "        ...,\n",
      "        [ 101, 1030, 5310,  ...,    0,    0,    0],\n",
      "        [ 101, 1030, 5310,  ...,    0,    0,    0],\n",
      "        [ 101, 2070, 2111,  ...,    0,    0,    0]]), 'attention_mask': tensor([[1, 1, 1,  ..., 0, 0, 0],\n",
      "        [1, 1, 1,  ..., 0, 0, 0],\n",
      "        [1, 1, 1,  ..., 0, 0, 0],\n",
      "        ...,\n",
      "        [1, 1, 1,  ..., 0, 0, 0],\n",
      "        [1, 1, 1,  ..., 0, 0, 0],\n",
      "        [1, 1, 1,  ..., 0, 0, 0]])}\n",
      "{'label': tensor([1, 0, 0, 0, 1, 1, 0, 0, 0, 0, 0, 0, 1, 1, 0, 1]), 'input_ids': tensor([[  101,  1030,  5310,  ...,     0,     0,     0],\n",
      "        [  101,  1030,  5310,  ...,     0,     0,     0],\n",
      "        [  101,  1030,  5310,  ...,     0,     0,     0],\n",
      "        ...,\n",
      "        [  101,  6583,  2860,  ...,     0,     0,     0],\n",
      "        [  101, 14470, 16624,  ...,     0,     0,     0],\n",
      "        [  101,  2023,  2323,  ...,     0,     0,     0]]), 'attention_mask': tensor([[1, 1, 1,  ..., 0, 0, 0],\n",
      "        [1, 1, 1,  ..., 0, 0, 0],\n",
      "        [1, 1, 1,  ..., 0, 0, 0],\n",
      "        ...,\n",
      "        [1, 1, 1,  ..., 0, 0, 0],\n",
      "        [1, 1, 1,  ..., 0, 0, 0],\n",
      "        [1, 1, 1,  ..., 0, 0, 0]])}\n",
      "{'label': tensor([0, 1, 1, 1, 1, 0, 0, 0, 1, 1, 0, 1, 0, 1, 0, 1]), 'input_ids': tensor([[  101, 26137,  2617,  ...,     0,     0,     0],\n",
      "        [  101, 16360,  1012,  ...,     0,     0,     0],\n",
      "        [  101,  2055,  4229,  ...,     0,     0,     0],\n",
      "        ...,\n",
      "        [  101,  2158,  2040,  ...,     0,     0,     0],\n",
      "        [  101,  1005,  2061,  ...,     0,     0,     0],\n",
      "        [  101,  2023,  2052,  ...,     0,     0,     0]]), 'attention_mask': tensor([[1, 1, 1,  ..., 0, 0, 0],\n",
      "        [1, 1, 1,  ..., 0, 0, 0],\n",
      "        [1, 1, 1,  ..., 0, 0, 0],\n",
      "        ...,\n",
      "        [1, 1, 1,  ..., 0, 0, 0],\n",
      "        [1, 1, 1,  ..., 0, 0, 0],\n",
      "        [1, 1, 1,  ..., 0, 0, 0]])}\n",
      "{'label': tensor([0, 1, 0, 0, 1, 1, 1, 0, 0, 1, 0, 0, 0, 1, 0, 0]), 'input_ids': tensor([[  101,  1001, 10047,  ...,     0,     0,     0],\n",
      "        [  101,  1030,  5310,  ...,     0,     0,     0],\n",
      "        [  101, 13337, 28887,  ...,     0,     0,     0],\n",
      "        ...,\n",
      "        [  101,  2073,  2003,  ...,     0,     0,     0],\n",
      "        [  101,  1030,  5310,  ...,     0,     0,     0],\n",
      "        [  101,  1030,  5310,  ...,     0,     0,     0]]), 'attention_mask': tensor([[1, 1, 1,  ..., 0, 0, 0],\n",
      "        [1, 1, 1,  ..., 0, 0, 0],\n",
      "        [1, 1, 1,  ..., 0, 0, 0],\n",
      "        ...,\n",
      "        [1, 1, 1,  ..., 0, 0, 0],\n",
      "        [1, 1, 1,  ..., 0, 0, 0],\n",
      "        [1, 1, 1,  ..., 0, 0, 0]])}\n",
      "{'label': tensor([0, 0, 1, 0, 0, 1, 1, 0, 0, 0, 1, 0, 1, 0, 1, 0]), 'input_ids': tensor([[  101,  2079,  3501,  ...,     0,     0,     0],\n",
      "        [  101,  2414,  1521,  ...,     0,     0,     0],\n",
      "        [  101, 19387,  1030,  ...,     0,     0,     0],\n",
      "        ...,\n",
      "        [  101,  7167,  1997,  ...,     0,     0,     0],\n",
      "        [  101,  2023,  5236,  ...,     0,     0,     0],\n",
      "        [  101,  2058,  1996,  ...,     0,     0,     0]]), 'attention_mask': tensor([[1, 1, 1,  ..., 0, 0, 0],\n",
      "        [1, 1, 1,  ..., 0, 0, 0],\n",
      "        [1, 1, 1,  ..., 0, 0, 0],\n",
      "        ...,\n",
      "        [1, 1, 1,  ..., 0, 0, 0],\n",
      "        [1, 1, 1,  ..., 0, 0, 0],\n",
      "        [1, 1, 1,  ..., 0, 0, 0]])}\n",
      "{'label': tensor([1, 0, 1, 0, 0, 0, 0, 1, 1, 1, 1, 1, 0, 1, 1, 1]), 'input_ids': tensor([[ 101, 1030, 5310,  ...,    0,    0,    0],\n",
      "        [ 101, 1998, 2172,  ...,    0,    0,    0],\n",
      "        [ 101, 1030, 5310,  ...,    0,    0,    0],\n",
      "        ...,\n",
      "        [ 101, 1001, 3857,  ...,    0,    0,    0],\n",
      "        [ 101, 1030, 5310,  ...,    0,    0,    0],\n",
      "        [ 101, 2003, 2009,  ...,    0,    0,    0]]), 'attention_mask': tensor([[1, 1, 1,  ..., 0, 0, 0],\n",
      "        [1, 1, 1,  ..., 0, 0, 0],\n",
      "        [1, 1, 1,  ..., 0, 0, 0],\n",
      "        ...,\n",
      "        [1, 1, 1,  ..., 0, 0, 0],\n",
      "        [1, 1, 1,  ..., 0, 0, 0],\n",
      "        [1, 1, 1,  ..., 0, 0, 0]])}\n",
      "{'label': tensor([1, 1, 1, 0, 0, 1, 1, 0, 1, 1, 0, 0, 0, 0, 1, 1]), 'input_ids': tensor([[  101, 11893,  1037,  ...,     0,     0,     0],\n",
      "        [  101,  2008,  2028,  ...,     0,     0,     0],\n",
      "        [  101,  1045,  2170,  ...,     0,     0,     0],\n",
      "        ...,\n",
      "        [  101,  2129,  1045,  ...,     0,     0,     0],\n",
      "        [  101,  1030,  5310,  ...,     0,     0,     0],\n",
      "        [  101,  2016,  8534,  ...,     0,     0,     0]]), 'attention_mask': tensor([[1, 1, 1,  ..., 0, 0, 0],\n",
      "        [1, 1, 1,  ..., 0, 0, 0],\n",
      "        [1, 1, 1,  ..., 0, 0, 0],\n",
      "        ...,\n",
      "        [1, 1, 1,  ..., 0, 0, 0],\n",
      "        [1, 1, 1,  ..., 0, 0, 0],\n",
      "        [1, 1, 1,  ..., 0, 0, 0]])}\n",
      "{'label': tensor([0, 0, 0, 0, 0, 0, 1, 0, 1, 0, 1, 1, 1, 0, 0, 0]), 'input_ids': tensor([[  101,  1030,  5310,  ...,     0,     0,     0],\n",
      "        [  101,  1030,  5310,  ...,     0,     0,     0],\n",
      "        [  101,  1030,  5310,  ...,     0,     0,     0],\n",
      "        ...,\n",
      "        [  101,  2279,  2051,  ...,     0,     0,     0],\n",
      "        [  101, 11560,  6322,  ...,     0,     0,     0],\n",
      "        [  101,  1005,  5980,  ...,     0,     0,     0]]), 'attention_mask': tensor([[1, 1, 1,  ..., 0, 0, 0],\n",
      "        [1, 1, 1,  ..., 0, 0, 0],\n",
      "        [1, 1, 1,  ..., 0, 0, 0],\n",
      "        ...,\n",
      "        [1, 1, 1,  ..., 0, 0, 0],\n",
      "        [1, 1, 1,  ..., 0, 0, 0],\n",
      "        [1, 1, 1,  ..., 0, 0, 0]])}\n",
      "{'label': tensor([0, 0, 1, 0, 1, 1, 0, 0, 0, 1, 1, 0, 0, 0, 1, 0]), 'input_ids': tensor([[ 101, 6956, 2184,  ...,    0,    0,    0],\n",
      "        [ 101, 2682, 2035,  ...,    0,    0,    0],\n",
      "        [ 101, 1030, 5310,  ...,    0,    0,    0],\n",
      "        ...,\n",
      "        [ 101, 6514, 2231,  ...,    0,    0,    0],\n",
      "        [ 101, 2339, 2079,  ...,    0,    0,    0],\n",
      "        [ 101, 4607, 1996,  ...,    0,    0,    0]]), 'attention_mask': tensor([[1, 1, 1,  ..., 0, 0, 0],\n",
      "        [1, 1, 1,  ..., 0, 0, 0],\n",
      "        [1, 1, 1,  ..., 0, 0, 0],\n",
      "        ...,\n",
      "        [1, 1, 1,  ..., 0, 0, 0],\n",
      "        [1, 1, 1,  ..., 0, 0, 0],\n",
      "        [1, 1, 1,  ..., 0, 0, 0]])}\n",
      "{'label': tensor([1, 1, 0, 0, 1, 0, 0, 1, 1, 0, 0, 0, 0, 0, 0, 0]), 'input_ids': tensor([[ 101, 2131, 3201,  ...,    0,    0,    0],\n",
      "        [ 101, 5580, 2027,  ...,    0,    0,    0],\n",
      "        [ 101, 1030, 5310,  ...,    0,    0,    0],\n",
      "        ...,\n",
      "        [ 101, 3304, 2000,  ...,    0,    0,    0],\n",
      "        [ 101, 2057, 1005,  ...,    0,    0,    0],\n",
      "        [ 101, 2129, 2116,  ...,    0,    0,    0]]), 'attention_mask': tensor([[1, 1, 1,  ..., 0, 0, 0],\n",
      "        [1, 1, 1,  ..., 0, 0, 0],\n",
      "        [1, 1, 1,  ..., 0, 0, 0],\n",
      "        ...,\n",
      "        [1, 1, 1,  ..., 0, 0, 0],\n",
      "        [1, 1, 1,  ..., 0, 0, 0],\n",
      "        [1, 1, 1,  ..., 0, 0, 0]])}\n",
      "{'label': tensor([0, 0, 1, 1, 1, 0, 0, 0, 0, 1, 1, 0, 0, 0, 0, 0]), 'input_ids': tensor([[ 101, 2748, 4757,  ...,    0,    0,    0],\n",
      "        [ 101, 2182, 1005,  ...,    0,    0,    0],\n",
      "        [ 101, 2014, 1024,  ...,    0,    0,    0],\n",
      "        ...,\n",
      "        [ 101, 1030, 5310,  ...,    0,    0,    0],\n",
      "        [ 101, 1000, 2043,  ...,    0,    0,    0],\n",
      "        [ 101, 2043, 2619,  ...,    0,    0,    0]]), 'attention_mask': tensor([[1, 1, 1,  ..., 0, 0, 0],\n",
      "        [1, 1, 1,  ..., 0, 0, 0],\n",
      "        [1, 1, 1,  ..., 0, 0, 0],\n",
      "        ...,\n",
      "        [1, 1, 1,  ..., 0, 0, 0],\n",
      "        [1, 1, 1,  ..., 0, 0, 0],\n",
      "        [1, 1, 1,  ..., 0, 0, 0]])}\n",
      "{'label': tensor([0, 0, 0, 1, 0, 1, 0, 0, 1, 0, 0, 0, 0, 1, 0, 0]), 'input_ids': tensor([[  101,  1030,  5310,  ...,     0,     0,     0],\n",
      "        [  101,  1030,  5310,  ...,     0,     0,     0],\n",
      "        [  101, 16836,  1998,  ...,     0,     0,     0],\n",
      "        ...,\n",
      "        [  101,  1030,  5310,  ...,     0,     0,     0],\n",
      "        [  101,  2115,  1996,  ...,     0,     0,     0],\n",
      "        [  101,  1030,  5310,  ...,     0,     0,     0]]), 'attention_mask': tensor([[1, 1, 1,  ..., 0, 0, 0],\n",
      "        [1, 1, 1,  ..., 0, 0, 0],\n",
      "        [1, 1, 1,  ..., 0, 0, 0],\n",
      "        ...,\n",
      "        [1, 1, 1,  ..., 0, 0, 0],\n",
      "        [1, 1, 1,  ..., 0, 0, 0],\n",
      "        [1, 1, 1,  ..., 0, 0, 0]])}\n",
      "{'label': tensor([0, 1, 1, 1, 0, 1, 0, 1, 1, 1, 1, 1, 0, 0, 1, 0]), 'input_ids': tensor([[ 101, 4931, 4364,  ...,    0,    0,    0],\n",
      "        [ 101, 2003, 2023,  ...,    0,    0,    0],\n",
      "        [ 101, 1030, 5310,  ...,    0,    0,    0],\n",
      "        ...,\n",
      "        [ 101, 2040, 1996,  ...,    0,    0,    0],\n",
      "        [ 101, 2054, 1037,  ...,    0,    0,    0],\n",
      "        [ 101, 4901, 3123,  ...,    0,    0,    0]]), 'attention_mask': tensor([[1, 1, 1,  ..., 0, 0, 0],\n",
      "        [1, 1, 1,  ..., 0, 0, 0],\n",
      "        [1, 1, 1,  ..., 0, 0, 0],\n",
      "        ...,\n",
      "        [1, 1, 1,  ..., 0, 0, 0],\n",
      "        [1, 1, 1,  ..., 0, 0, 0],\n",
      "        [1, 1, 1,  ..., 0, 0, 0]])}\n",
      "{'label': tensor([0, 0, 0, 0, 1, 0, 0, 0, 0, 0, 0, 0, 0, 0, 1, 0]), 'input_ids': tensor([[  101,  2424, 15723,  ...,     0,     0,     0],\n",
      "        [  101, 15451,  4305,  ...,     0,     0,     0],\n",
      "        [  101,  1030,  5310,  ...,     0,     0,     0],\n",
      "        ...,\n",
      "        [  101,  2298,  2012,  ...,     0,     0,     0],\n",
      "        [  101,  2748,  1010,  ...,     0,     0,     0],\n",
      "        [  101,  7570,  2017,  ...,     0,     0,     0]]), 'attention_mask': tensor([[1, 1, 1,  ..., 0, 0, 0],\n",
      "        [1, 1, 1,  ..., 0, 0, 0],\n",
      "        [1, 1, 1,  ..., 0, 0, 0],\n",
      "        ...,\n",
      "        [1, 1, 1,  ..., 0, 0, 0],\n",
      "        [1, 1, 1,  ..., 0, 0, 0],\n",
      "        [1, 1, 1,  ..., 0, 0, 0]])}\n",
      "{'label': tensor([1, 0, 1, 1, 1, 0, 0, 1, 1, 1, 0, 0, 1, 0, 0, 0]), 'input_ids': tensor([[  101,  1001,  3857,  ...,     0,     0,     0],\n",
      "        [  101,  2149,  5205,  ...,     0,     0,     0],\n",
      "        [  101, 24262,  2450,  ...,     0,     0,     0],\n",
      "        ...,\n",
      "        [  101,  2358, 11263,  ...,     0,     0,     0],\n",
      "        [  101,  1030,  5310,  ...,     0,     0,     0],\n",
      "        [  101,  1030,  5310,  ...,     0,     0,     0]]), 'attention_mask': tensor([[1, 1, 1,  ..., 0, 0, 0],\n",
      "        [1, 1, 1,  ..., 0, 0, 0],\n",
      "        [1, 1, 1,  ..., 0, 0, 0],\n",
      "        ...,\n",
      "        [1, 1, 1,  ..., 0, 0, 0],\n",
      "        [1, 1, 1,  ..., 0, 0, 0],\n",
      "        [1, 1, 1,  ..., 0, 0, 0]])}\n",
      "{'label': tensor([0, 0, 1, 0, 0, 0, 0, 1, 0, 0, 0, 0, 1, 0, 0, 0]), 'input_ids': tensor([[  101,  2446, 11454,  ...,     0,     0,     0],\n",
      "        [  101,  6554,  4875,  ...,     0,     0,     0],\n",
      "        [  101,  2123,  2102,  ...,     0,     0,     0],\n",
      "        ...,\n",
      "        [  101,  1030,  5310,  ...,     0,     0,     0],\n",
      "        [  101,  1030,  5310,  ...,     0,     0,     0],\n",
      "        [  101,  1030,  5310,  ...,     0,     0,     0]]), 'attention_mask': tensor([[1, 1, 1,  ..., 0, 0, 0],\n",
      "        [1, 1, 1,  ..., 0, 0, 0],\n",
      "        [1, 1, 1,  ..., 0, 0, 0],\n",
      "        ...,\n",
      "        [1, 1, 1,  ..., 0, 0, 0],\n",
      "        [1, 1, 1,  ..., 0, 0, 0],\n",
      "        [1, 1, 1,  ..., 0, 0, 0]])}\n",
      "{'label': tensor([0, 0, 0, 0, 0, 0, 1, 1, 1, 0, 0, 0, 0, 1, 1, 1]), 'input_ids': tensor([[  101,  1045,  2069,  ...,     0,     0,     0],\n",
      "        [  101,  1996,  3277,  ...,     0,     0,     0],\n",
      "        [  101,  1001, 16836,  ...,     0,     0,     0],\n",
      "        ...,\n",
      "        [  101,  7743,  2229,  ...,     0,     0,     0],\n",
      "        [  101,  3342,  1010,  ...,     0,     0,     0],\n",
      "        [  101,  2184,  1011,  ...,     0,     0,     0]]), 'attention_mask': tensor([[1, 1, 1,  ..., 0, 0, 0],\n",
      "        [1, 1, 1,  ..., 0, 0, 0],\n",
      "        [1, 1, 1,  ..., 0, 0, 0],\n",
      "        ...,\n",
      "        [1, 1, 1,  ..., 0, 0, 0],\n",
      "        [1, 1, 1,  ..., 0, 0, 0],\n",
      "        [1, 1, 1,  ..., 0, 0, 0]])}\n",
      "{'label': tensor([0, 0, 0, 1, 1, 1, 0, 1, 0, 1, 0, 1, 1, 0, 1, 0]), 'input_ids': tensor([[  101,  1030,  5310,  ...,     0,     0,     0],\n",
      "        [  101,  1996,  2168,  ...,     0,     0,     0],\n",
      "        [  101,  1001, 10556,  ...,     0,     0,     0],\n",
      "        ...,\n",
      "        [  101,  2000,  2468,  ...,     0,     0,     0],\n",
      "        [  101,  1030,  5310,  ...,     0,     0,     0],\n",
      "        [  101,  2043,  1996,  ...,     0,     0,     0]]), 'attention_mask': tensor([[1, 1, 1,  ..., 0, 0, 0],\n",
      "        [1, 1, 1,  ..., 0, 0, 0],\n",
      "        [1, 1, 1,  ..., 0, 0, 0],\n",
      "        ...,\n",
      "        [1, 1, 1,  ..., 0, 0, 0],\n",
      "        [1, 1, 1,  ..., 0, 0, 0],\n",
      "        [1, 1, 1,  ..., 0, 0, 0]])}\n",
      "{'label': tensor([0, 0, 0, 1, 0, 1, 1, 0, 0, 0, 1, 0, 0, 1, 1, 1]), 'input_ids': tensor([[  101,  6616,  2125,  ...,     0,     0,     0],\n",
      "        [  101,  2065,  1045,  ...,     0,     0,     0],\n",
      "        [  101,  1030,  5310,  ...,     0,     0,     0],\n",
      "        ...,\n",
      "        [  101, 17183,  2015,  ...,     0,     0,     0],\n",
      "        [  101,  1030,  5310,  ...,     0,     0,     0],\n",
      "        [  101,  1001,  2634,  ...,     0,     0,     0]]), 'attention_mask': tensor([[1, 1, 1,  ..., 0, 0, 0],\n",
      "        [1, 1, 1,  ..., 0, 0, 0],\n",
      "        [1, 1, 1,  ..., 0, 0, 0],\n",
      "        ...,\n",
      "        [1, 1, 1,  ..., 0, 0, 0],\n",
      "        [1, 1, 1,  ..., 0, 0, 0],\n",
      "        [1, 1, 1,  ..., 0, 0, 0]])}\n",
      "{'label': tensor([0, 0, 0, 1, 0, 0, 1, 0, 0, 1, 1, 1, 1, 0, 0, 1]), 'input_ids': tensor([[  101,  1030,  5310,  ...,     0,     0,     0],\n",
      "        [  101,  5674,  5229,  ...,     0,     0,     0],\n",
      "        [  101,  2044,  2049,  ...,     0,     0,     0],\n",
      "        ...,\n",
      "        [  101,  2028,  2158,  ...,     0,     0,     0],\n",
      "        [  101, 13968,  2483,  ...,     0,     0,     0],\n",
      "        [  101,  3114,  1001,  ...,     0,     0,     0]]), 'attention_mask': tensor([[1, 1, 1,  ..., 0, 0, 0],\n",
      "        [1, 1, 1,  ..., 0, 0, 0],\n",
      "        [1, 1, 1,  ..., 0, 0, 0],\n",
      "        ...,\n",
      "        [1, 1, 1,  ..., 0, 0, 0],\n",
      "        [1, 1, 1,  ..., 0, 0, 0],\n",
      "        [1, 1, 1,  ..., 0, 0, 0]])}\n",
      "{'label': tensor([0, 0, 1, 1, 1, 0, 1, 1, 1, 0, 0, 0, 1, 1, 0, 1]), 'input_ids': tensor([[ 101, 2339, 2308,  ...,    0,    0,    0],\n",
      "        [ 101, 2197, 2733,  ...,    0,    0,    0],\n",
      "        [ 101, 2138, 2027,  ...,    0,    0,    0],\n",
      "        ...,\n",
      "        [ 101, 1030, 5310,  ...,    0,    0,    0],\n",
      "        [ 101, 2085, 2153,  ...,    0,    0,    0],\n",
      "        [ 101, 1030, 5310,  ...,    0,    0,    0]]), 'attention_mask': tensor([[1, 1, 1,  ..., 0, 0, 0],\n",
      "        [1, 1, 1,  ..., 0, 0, 0],\n",
      "        [1, 1, 1,  ..., 0, 0, 0],\n",
      "        ...,\n",
      "        [1, 1, 1,  ..., 0, 0, 0],\n",
      "        [1, 1, 1,  ..., 0, 0, 0],\n",
      "        [1, 1, 1,  ..., 0, 0, 0]])}\n",
      "{'label': tensor([0, 0, 1, 0, 0, 0, 0, 0, 0, 0, 1, 1, 0, 1, 0, 0]), 'input_ids': tensor([[  101,  2155, 28044,  ...,     0,     0,     0],\n",
      "        [  101,  1030,  5310,  ...,     0,     0,     0],\n",
      "        [  101,  1045,  1005,  ...,     0,     0,     0],\n",
      "        ...,\n",
      "        [  101,  2292,  2033,  ...,     0,     0,     0],\n",
      "        [  101,  2057,  2215,  ...,     0,     0,     0],\n",
      "        [  101,  2033,  1011,  ...,     0,     0,     0]]), 'attention_mask': tensor([[1, 1, 1,  ..., 0, 0, 0],\n",
      "        [1, 1, 1,  ..., 0, 0, 0],\n",
      "        [1, 1, 1,  ..., 0, 0, 0],\n",
      "        ...,\n",
      "        [1, 1, 1,  ..., 0, 0, 0],\n",
      "        [1, 1, 1,  ..., 0, 0, 0],\n",
      "        [1, 1, 1,  ..., 0, 0, 0]])}\n",
      "{'label': tensor([0, 0, 0, 0, 0, 1, 0, 1, 0, 0, 1, 0, 0, 0, 0, 1]), 'input_ids': tensor([[ 101, 4895, 6561,  ...,    0,    0,    0],\n",
      "        [ 101, 2817, 1024,  ...,    0,    0,    0],\n",
      "        [ 101, 2725, 2019,  ...,    0,    0,    0],\n",
      "        ...,\n",
      "        [ 101, 1015, 1010,  ...,    0,    0,    0],\n",
      "        [ 101, 2204, 3105,  ...,    0,    0,    0],\n",
      "        [ 101, 3304, 1005,  ...,    0,    0,    0]]), 'attention_mask': tensor([[1, 1, 1,  ..., 0, 0, 0],\n",
      "        [1, 1, 1,  ..., 0, 0, 0],\n",
      "        [1, 1, 1,  ..., 0, 0, 0],\n",
      "        ...,\n",
      "        [1, 1, 1,  ..., 0, 0, 0],\n",
      "        [1, 1, 1,  ..., 0, 0, 0],\n",
      "        [1, 1, 1,  ..., 0, 0, 0]])}\n",
      "{'label': tensor([0, 1, 0, 0, 0, 0, 1, 0, 1, 1, 0, 0, 1, 0, 0, 0]), 'input_ids': tensor([[ 101, 1030, 5310,  ...,    0,    0,    0],\n",
      "        [ 101, 2048, 2336,  ...,    0,    0,    0],\n",
      "        [ 101, 2866, 1024,  ...,    0,    0,    0],\n",
      "        ...,\n",
      "        [ 101, 4013, 5955,  ...,    0,    0,    0],\n",
      "        [ 101, 1030, 5310,  ...,    0,    0,    0],\n",
      "        [ 101, 1030, 5310,  ...,    0,    0,    0]]), 'attention_mask': tensor([[1, 1, 1,  ..., 0, 0, 0],\n",
      "        [1, 1, 1,  ..., 0, 0, 0],\n",
      "        [1, 1, 1,  ..., 0, 0, 0],\n",
      "        ...,\n",
      "        [1, 1, 1,  ..., 0, 0, 0],\n",
      "        [1, 1, 1,  ..., 0, 0, 0],\n",
      "        [1, 1, 1,  ..., 0, 0, 0]])}\n",
      "{'label': tensor([0, 0, 0, 0, 1, 0, 0, 0, 1, 0, 0, 0, 1, 1, 0, 1]), 'input_ids': tensor([[  101,  1045,  1005,  ...,     0,     0,     0],\n",
      "        [  101,  1996,  6745,  ...,     0,     0,     0],\n",
      "        [  101,  1996,  2048,  ...,     0,     0,     0],\n",
      "        ...,\n",
      "        [  101,  2204, 22418,  ...,     0,     0,     0],\n",
      "        [  101,  2123,  1521,  ...,     0,     0,     0],\n",
      "        [  101,  1030,  5310,  ...,     0,     0,     0]]), 'attention_mask': tensor([[1, 1, 1,  ..., 0, 0, 0],\n",
      "        [1, 1, 1,  ..., 0, 0, 0],\n",
      "        [1, 1, 1,  ..., 0, 0, 0],\n",
      "        ...,\n",
      "        [1, 1, 1,  ..., 0, 0, 0],\n",
      "        [1, 1, 1,  ..., 0, 0, 0],\n",
      "        [1, 1, 1,  ..., 0, 0, 0]])}\n",
      "{'label': tensor([1, 1, 0, 0, 0, 0, 0, 1, 0, 1, 1, 0, 0, 0, 0, 0]), 'input_ids': tensor([[  101,  7726, 20731,  ...,     0,     0,     0],\n",
      "        [  101,  1030,  5310,  ...,     0,     0,     0],\n",
      "        [  101,  4112,  3539,  ...,     0,     0,     0],\n",
      "        ...,\n",
      "        [  101,  1030,  5310,  ...,     0,     0,     0],\n",
      "        [  101,  5674,  2054,  ...,     0,     0,     0],\n",
      "        [  101,  1030,  5310,  ...,     0,     0,     0]]), 'attention_mask': tensor([[1, 1, 1,  ..., 0, 0, 0],\n",
      "        [1, 1, 1,  ..., 0, 0, 0],\n",
      "        [1, 1, 1,  ..., 0, 0, 0],\n",
      "        ...,\n",
      "        [1, 1, 1,  ..., 0, 0, 0],\n",
      "        [1, 1, 1,  ..., 0, 0, 0],\n",
      "        [1, 1, 1,  ..., 0, 0, 0]])}\n",
      "{'label': tensor([0, 0, 0, 1, 1, 0, 1, 1, 0, 0, 1, 1, 0, 0, 0, 1]), 'input_ids': tensor([[  101,  2026,  6745,  ...,     0,     0,     0],\n",
      "        [  101, 14488,  2005,  ...,     0,     0,     0],\n",
      "        [  101,  2446,  2237,  ...,     0,     0,     0],\n",
      "        ...,\n",
      "        [  101,  1037,  2459,  ...,     0,     0,     0],\n",
      "        [  101,  5073,  2003,  ...,     0,     0,     0],\n",
      "        [  101,  1030,  5310,  ...,     0,     0,     0]]), 'attention_mask': tensor([[1, 1, 1,  ..., 0, 0, 0],\n",
      "        [1, 1, 1,  ..., 0, 0, 0],\n",
      "        [1, 1, 1,  ..., 0, 0, 0],\n",
      "        ...,\n",
      "        [1, 1, 1,  ..., 0, 0, 0],\n",
      "        [1, 1, 1,  ..., 0, 0, 0],\n",
      "        [1, 1, 1,  ..., 0, 0, 0]])}\n",
      "{'label': tensor([0, 0, 1, 1, 1, 1, 1, 1, 0, 1, 0, 0, 0, 0, 0, 0]), 'input_ids': tensor([[  101,  1051,  1521,  ...,     0,     0,     0],\n",
      "        [  101,  1031,  2047,  ...,     0,     0,     0],\n",
      "        [  101,  1030,  5310,  ...,     0,     0,     0],\n",
      "        ...,\n",
      "        [  101,  1045,  4133,  ...,     0,     0,     0],\n",
      "        [  101, 10317,  1010,  ...,     0,     0,     0],\n",
      "        [  101, 11173, 27404,  ...,     0,     0,     0]]), 'attention_mask': tensor([[1, 1, 1,  ..., 0, 0, 0],\n",
      "        [1, 1, 1,  ..., 0, 0, 0],\n",
      "        [1, 1, 1,  ..., 0, 0, 0],\n",
      "        ...,\n",
      "        [1, 1, 1,  ..., 0, 0, 0],\n",
      "        [1, 1, 1,  ..., 0, 0, 0],\n",
      "        [1, 1, 1,  ..., 0, 0, 0]])}\n",
      "{'label': tensor([1, 0, 0, 0, 0, 1, 0, 0, 0, 1, 1, 1, 1, 0, 0, 0]), 'input_ids': tensor([[  101,  2122,  4176,  ...,     0,     0,     0],\n",
      "        [  101,  4035, 10632,  ...,     0,     0,     0],\n",
      "        [  101,  2009,  2001,  ...,     0,     0,     0],\n",
      "        ...,\n",
      "        [  101,  2610,  6545,  ...,     0,     0,     0],\n",
      "        [  101,  5483,  1024,  ...,     0,     0,     0],\n",
      "        [  101,  2017,  2941,  ...,     0,     0,     0]]), 'attention_mask': tensor([[1, 1, 1,  ..., 0, 0, 0],\n",
      "        [1, 1, 1,  ..., 0, 0, 0],\n",
      "        [1, 1, 1,  ..., 0, 0, 0],\n",
      "        ...,\n",
      "        [1, 1, 1,  ..., 0, 0, 0],\n",
      "        [1, 1, 1,  ..., 0, 0, 0],\n",
      "        [1, 1, 1,  ..., 0, 0, 0]])}\n",
      "{'label': tensor([0, 1, 1, 0, 0, 1, 0, 0, 1, 1, 1, 0, 1, 0, 0, 0]), 'input_ids': tensor([[  101,  1001,  8398,  ...,     0,     0,     0],\n",
      "        [  101,  4968,  6905,  ...,     0,     0,     0],\n",
      "        [  101,  2061,  2026,  ...,     0,     0,     0],\n",
      "        ...,\n",
      "        [  101,  2004,  3778,  ...,     0,     0,     0],\n",
      "        [  101,  1001, 15448,  ...,     0,     0,     0],\n",
      "        [  101,  2043,  2017,  ...,     0,     0,     0]]), 'attention_mask': tensor([[1, 1, 1,  ..., 0, 0, 0],\n",
      "        [1, 1, 1,  ..., 0, 0, 0],\n",
      "        [1, 1, 1,  ..., 0, 0, 0],\n",
      "        ...,\n",
      "        [1, 1, 1,  ..., 0, 0, 0],\n",
      "        [1, 1, 1,  ..., 0, 0, 0],\n",
      "        [1, 1, 1,  ..., 0, 0, 0]])}\n",
      "{'label': tensor([0, 0, 1, 0, 0, 1, 1, 1, 0, 1, 1, 1, 0, 1, 1, 1]), 'input_ids': tensor([[  101,  1045,  2001,  ...,     0,     0,     0],\n",
      "        [  101,  1045,  3046,  ...,     0,     0,     0],\n",
      "        [  101,  1030,  5310,  ...,     0,     0,     0],\n",
      "        ...,\n",
      "        [  101,  1030,  5310,  ...,     0,     0,     0],\n",
      "        [  101,  2424,  2009,  ...,     0,     0,     0],\n",
      "        [  101, 19387,  1030,  ...,     0,     0,     0]]), 'attention_mask': tensor([[1, 1, 1,  ..., 0, 0, 0],\n",
      "        [1, 1, 1,  ..., 0, 0, 0],\n",
      "        [1, 1, 1,  ..., 0, 0, 0],\n",
      "        ...,\n",
      "        [1, 1, 1,  ..., 0, 0, 0],\n",
      "        [1, 1, 1,  ..., 0, 0, 0],\n",
      "        [1, 1, 1,  ..., 0, 0, 0]])}\n",
      "{'label': tensor([1, 0, 0, 1, 0, 1, 0, 0, 0, 1, 0, 0, 0, 0, 0, 0]), 'input_ids': tensor([[  101,  6206,  7521,  ...,     0,     0,     0],\n",
      "        [  101,  2026,  7570,  ...,     0,     0,     0],\n",
      "        [  101,  1001,  6928,  ...,     0,     0,     0],\n",
      "        ...,\n",
      "        [  101,  1030,  5310,  ...,     0,     0,     0],\n",
      "        [  101,  2002,  2074,  ...,     0,     0,     0],\n",
      "        [  101, 11421,  1024,  ...,     0,     0,     0]]), 'attention_mask': tensor([[1, 1, 1,  ..., 0, 0, 0],\n",
      "        [1, 1, 1,  ..., 0, 0, 0],\n",
      "        [1, 1, 1,  ..., 0, 0, 0],\n",
      "        ...,\n",
      "        [1, 1, 1,  ..., 0, 0, 0],\n",
      "        [1, 1, 1,  ..., 0, 0, 0],\n",
      "        [1, 1, 1,  ..., 0, 0, 0]])}\n",
      "{'label': tensor([1, 0, 1, 1, 0, 1, 1, 0, 1, 0, 0, 0, 1, 1, 1, 0]), 'input_ids': tensor([[ 101, 1045, 5621,  ...,    0,    0,    0],\n",
      "        [ 101, 2009, 4165,  ...,    0,    0,    0],\n",
      "        [ 101, 2069, 1037,  ...,    0,    0,    0],\n",
      "        ...,\n",
      "        [ 101, 1001, 3857,  ...,    0,    0,    0],\n",
      "        [ 101, 2065, 1045,  ...,    0,    0,    0],\n",
      "        [ 101, 2045, 1005,  ...,    0,    0,    0]]), 'attention_mask': tensor([[1, 1, 1,  ..., 0, 0, 0],\n",
      "        [1, 1, 1,  ..., 0, 0, 0],\n",
      "        [1, 1, 1,  ..., 0, 0, 0],\n",
      "        ...,\n",
      "        [1, 1, 1,  ..., 0, 0, 0],\n",
      "        [1, 1, 1,  ..., 0, 0, 0],\n",
      "        [1, 1, 1,  ..., 0, 0, 0]])}\n",
      "{'label': tensor([1, 0, 0, 1, 0, 0, 1, 1, 1, 0, 0, 0, 0, 0, 1, 1]), 'input_ids': tensor([[ 101, 2308, 1999,  ...,    0,    0,    0],\n",
      "        [ 101, 3693, 2149,  ...,    0,    0,    0],\n",
      "        [ 101, 2043, 1045,  ...,    0,    0,    0],\n",
      "        ...,\n",
      "        [ 101, 1030, 5310,  ...,    0,    0,    0],\n",
      "        [ 101, 2065, 2017,  ...,    0,    0,    0],\n",
      "        [ 101, 2129, 2116,  ...,    0,    0,    0]]), 'attention_mask': tensor([[1, 1, 1,  ..., 0, 0, 0],\n",
      "        [1, 1, 1,  ..., 0, 0, 0],\n",
      "        [1, 1, 1,  ..., 0, 0, 0],\n",
      "        ...,\n",
      "        [1, 1, 1,  ..., 0, 0, 0],\n",
      "        [1, 1, 1,  ..., 0, 0, 0],\n",
      "        [1, 1, 1,  ..., 0, 0, 0]])}\n",
      "{'label': tensor([0, 0, 0, 1, 0, 0, 0, 1, 1, 0, 1, 0, 1, 0, 0, 1]), 'input_ids': tensor([[  101,  1000, 10859,  ...,     0,     0,     0],\n",
      "        [  101,  4895, 16257,  ...,     0,     0,     0],\n",
      "        [  101,  6300,  2050,  ...,     0,     0,     0],\n",
      "        ...,\n",
      "        [  101, 11560,  3425,  ...,     0,     0,     0],\n",
      "        [  101,  3422,  1024,  ...,     0,     0,     0],\n",
      "        [  101,  2066,  1996,  ...,     0,     0,     0]]), 'attention_mask': tensor([[1, 1, 1,  ..., 0, 0, 0],\n",
      "        [1, 1, 1,  ..., 0, 0, 0],\n",
      "        [1, 1, 1,  ..., 0, 0, 0],\n",
      "        ...,\n",
      "        [1, 1, 1,  ..., 0, 0, 0],\n",
      "        [1, 1, 1,  ..., 0, 0, 0],\n",
      "        [1, 1, 1,  ..., 0, 0, 0]])}\n",
      "{'label': tensor([0, 0, 1, 1, 1, 1, 0, 1, 1, 0, 1, 1, 0, 0, 1, 0]), 'input_ids': tensor([[  101,  8398,  2003,  ...,     0,     0,     0],\n",
      "        [  101,  9826,  1010,  ...,     0,     0,     0],\n",
      "        [  101,  3056, 11560,  ...,     0,     0,     0],\n",
      "        ...,\n",
      "        [  101,  1996,  7327,  ...,     0,     0,     0],\n",
      "        [  101,  4487,  2015,  ...,     0,     0,     0],\n",
      "        [  101,  2009,  1005,  ...,     0,     0,     0]]), 'attention_mask': tensor([[1, 1, 1,  ..., 0, 0, 0],\n",
      "        [1, 1, 1,  ..., 0, 0, 0],\n",
      "        [1, 1, 1,  ..., 0, 0, 0],\n",
      "        ...,\n",
      "        [1, 1, 1,  ..., 0, 0, 0],\n",
      "        [1, 1, 1,  ..., 0, 0, 0],\n",
      "        [1, 1, 1,  ..., 0, 0, 0]])}\n",
      "{'label': tensor([0, 0, 1, 1, 0, 0, 0, 0, 0, 1, 1, 1, 1, 0, 0, 0]), 'input_ids': tensor([[ 101, 1030, 5310,  ...,    0,    0,    0],\n",
      "        [ 101, 1030, 5310,  ...,    0,    0,    0],\n",
      "        [ 101, 2057, 1005,  ...,    0,    0,    0],\n",
      "        ...,\n",
      "        [ 101, 1045, 2123,  ...,    0,    0,    0],\n",
      "        [ 101, 9562, 1005,  ...,    0,    0,    0],\n",
      "        [ 101, 3246, 2017,  ...,    0,    0,    0]]), 'attention_mask': tensor([[1, 1, 1,  ..., 0, 0, 0],\n",
      "        [1, 1, 1,  ..., 0, 0, 0],\n",
      "        [1, 1, 1,  ..., 0, 0, 0],\n",
      "        ...,\n",
      "        [1, 1, 1,  ..., 0, 0, 0],\n",
      "        [1, 1, 1,  ..., 0, 0, 0],\n",
      "        [1, 1, 1,  ..., 0, 0, 0]])}\n",
      "{'label': tensor([0, 1, 0, 0, 0, 0, 1, 1, 1, 1, 0, 0, 1, 0, 1, 0]), 'input_ids': tensor([[  101,  1996,  2446,  ...,     0,     0,     0],\n",
      "        [  101,  2064,  1521,  ...,     0,     0,     0],\n",
      "        [  101,  2130, 13229,  ...,     0,     0,     0],\n",
      "        ...,\n",
      "        [  101,  1996,  5022,  ...,     0,     0,     0],\n",
      "        [  101,  2273,  2428,  ...,     0,     0,     0],\n",
      "        [  101,  1037, 14764,  ...,     0,     0,     0]]), 'attention_mask': tensor([[1, 1, 1,  ..., 0, 0, 0],\n",
      "        [1, 1, 1,  ..., 0, 0, 0],\n",
      "        [1, 1, 1,  ..., 0, 0, 0],\n",
      "        ...,\n",
      "        [1, 1, 1,  ..., 0, 0, 0],\n",
      "        [1, 1, 1,  ..., 0, 0, 0],\n",
      "        [1, 1, 1,  ..., 0, 0, 0]])}\n",
      "{'label': tensor([0, 1, 0, 0, 0, 1, 1, 1, 0, 1, 0, 0, 1, 0, 0, 0]), 'input_ids': tensor([[  101,  1030,  5310,  ...,     0,     0,     0],\n",
      "        [  101,  1030,  5310,  ...,     0,     0,     0],\n",
      "        [  101,  1030,  5310,  ...,     0,     0,     0],\n",
      "        ...,\n",
      "        [  101,  2413, 12616,  ...,     0,     0,     0],\n",
      "        [  101, 20661,  1999,  ...,     0,     0,     0],\n",
      "        [  101,  8026,  5666,  ...,     0,     0,     0]]), 'attention_mask': tensor([[1, 1, 1,  ..., 0, 0, 0],\n",
      "        [1, 1, 1,  ..., 0, 0, 0],\n",
      "        [1, 1, 1,  ..., 0, 0, 0],\n",
      "        ...,\n",
      "        [1, 1, 1,  ..., 0, 0, 0],\n",
      "        [1, 1, 1,  ..., 0, 0, 0],\n",
      "        [1, 1, 1,  ..., 0, 0, 0]])}\n",
      "{'label': tensor([0, 0, 1, 0, 0, 0, 1, 1, 1, 0, 1, 0, 1, 0, 0, 0]), 'input_ids': tensor([[ 101, 8827, 2050,  ...,    0,    0,    0],\n",
      "        [ 101, 2022, 2469,  ...,    0,    0,    0],\n",
      "        [ 101, 1030, 5310,  ...,    0,    0,    0],\n",
      "        ...,\n",
      "        [ 101, 1000, 1030,  ...,    0,    0,    0],\n",
      "        [ 101, 1030, 5310,  ...,    0,    0,    0],\n",
      "        [ 101, 2657, 1037,  ...,    0,    0,    0]]), 'attention_mask': tensor([[1, 1, 1,  ..., 0, 0, 0],\n",
      "        [1, 1, 1,  ..., 0, 0, 0],\n",
      "        [1, 1, 1,  ..., 0, 0, 0],\n",
      "        ...,\n",
      "        [1, 1, 1,  ..., 0, 0, 0],\n",
      "        [1, 1, 1,  ..., 0, 0, 0],\n",
      "        [1, 1, 1,  ..., 0, 0, 0]])}\n",
      "{'label': tensor([0, 1, 1, 0, 0, 1, 0, 1, 0, 0, 0, 0, 1, 0, 0, 1]), 'input_ids': tensor([[  101,  4013,  1011,  ...,     0,     0,     0],\n",
      "        [  101,  1001, 12005,  ...,     0,     0,     0],\n",
      "        [  101,  1030,  5310,  ...,     0,     0,     0],\n",
      "        ...,\n",
      "        [  101,  2014,  1011,  ...,     0,     0,     0],\n",
      "        [  101,  3475,  1521,  ...,     0,     0,     0],\n",
      "        [  101,  2008,  2015,  ...,     0,     0,     0]]), 'attention_mask': tensor([[1, 1, 1,  ..., 0, 0, 0],\n",
      "        [1, 1, 1,  ..., 0, 0, 0],\n",
      "        [1, 1, 1,  ..., 0, 0, 0],\n",
      "        ...,\n",
      "        [1, 1, 1,  ..., 0, 0, 0],\n",
      "        [1, 1, 1,  ..., 0, 0, 0],\n",
      "        [1, 1, 1,  ..., 0, 0, 0]])}\n",
      "{'label': tensor([0, 0, 0, 1, 0, 1, 1, 1, 0, 0, 1, 0, 1, 0, 1, 0]), 'input_ids': tensor([[  101,  1045,  2293,  ...,     0,     0,     0],\n",
      "        [  101,  2040,  3791,  ...,     0,     0,     0],\n",
      "        [  101, 19387,  1030,  ...,     0,     0,     0],\n",
      "        ...,\n",
      "        [  101,  3422,  1024,  ...,     0,     0,     0],\n",
      "        [  101,  2017,  1037,  ...,     0,     0,     0],\n",
      "        [  101,  7871,  3806,  ...,     0,     0,     0]]), 'attention_mask': tensor([[1, 1, 1,  ..., 0, 0, 0],\n",
      "        [1, 1, 1,  ..., 0, 0, 0],\n",
      "        [1, 1, 1,  ..., 0, 0, 0],\n",
      "        ...,\n",
      "        [1, 1, 1,  ..., 0, 0, 0],\n",
      "        [1, 1, 1,  ..., 0, 0, 0],\n",
      "        [1, 1, 1,  ..., 0, 0, 0]])}\n",
      "{'label': tensor([1, 0, 0, 0, 1, 1, 1, 1, 1, 1, 0, 1, 0, 1, 0, 1]), 'input_ids': tensor([[ 101, 7743, 2229,  ...,    0,    0,    0],\n",
      "        [ 101, 3398, 2197,  ...,    0,    0,    0],\n",
      "        [ 101, 1030, 5310,  ...,    0,    0,    0],\n",
      "        ...,\n",
      "        [ 101, 1996, 2711,  ...,    0,    0,    0],\n",
      "        [ 101, 1030, 5310,  ...,    0,    0,    0],\n",
      "        [ 101, 4013, 5955,  ...,    0,    0,    0]]), 'attention_mask': tensor([[1, 1, 1,  ..., 0, 0, 0],\n",
      "        [1, 1, 1,  ..., 0, 0, 0],\n",
      "        [1, 1, 1,  ..., 0, 0, 0],\n",
      "        ...,\n",
      "        [1, 1, 1,  ..., 0, 0, 0],\n",
      "        [1, 1, 1,  ..., 0, 0, 0],\n",
      "        [1, 1, 1,  ..., 0, 0, 0]])}\n",
      "{'label': tensor([0, 1, 1, 0, 1, 1, 0, 0, 1, 0, 1, 0, 1, 1, 0, 0]), 'input_ids': tensor([[ 101, 2111, 1011,  ...,    0,    0,    0],\n",
      "        [ 101, 1030, 5310,  ...,    0,    0,    0],\n",
      "        [ 101, 1030, 5310,  ...,    0,    0,    0],\n",
      "        ...,\n",
      "        [ 101, 1030, 5310,  ...,    0,    0,    0],\n",
      "        [ 101, 1005, 2025,  ...,    0,    0,    0],\n",
      "        [ 101, 1030, 5310,  ...,    0,    0,    0]]), 'attention_mask': tensor([[1, 1, 1,  ..., 0, 0, 0],\n",
      "        [1, 1, 1,  ..., 0, 0, 0],\n",
      "        [1, 1, 1,  ..., 0, 0, 0],\n",
      "        ...,\n",
      "        [1, 1, 1,  ..., 0, 0, 0],\n",
      "        [1, 1, 1,  ..., 0, 0, 0],\n",
      "        [1, 1, 1,  ..., 0, 0, 0]])}\n",
      "{'label': tensor([0, 1, 0, 0, 1, 1, 0, 0, 0, 1, 0, 1, 1, 0, 1, 1]), 'input_ids': tensor([[ 101, 2647, 3222,  ...,    0,    0,    0],\n",
      "        [ 101, 1030, 5310,  ...,    0,    0,    0],\n",
      "        [ 101, 1037, 4101,  ...,    0,    0,    0],\n",
      "        ...,\n",
      "        [ 101, 2033, 2043,  ...,    0,    0,    0],\n",
      "        [ 101, 2065, 2023,  ...,    0,    0,    0],\n",
      "        [ 101, 9075, 2035,  ...,    0,    0,    0]]), 'attention_mask': tensor([[1, 1, 1,  ..., 0, 0, 0],\n",
      "        [1, 1, 1,  ..., 0, 0, 0],\n",
      "        [1, 1, 1,  ..., 0, 0, 0],\n",
      "        ...,\n",
      "        [1, 1, 1,  ..., 0, 0, 0],\n",
      "        [1, 1, 1,  ..., 0, 0, 0],\n",
      "        [1, 1, 1,  ..., 0, 0, 0]])}\n",
      "{'label': tensor([0, 0, 0, 1, 1, 0, 1, 1, 1, 0, 0, 0, 1, 1, 1, 1]), 'input_ids': tensor([[ 101, 1523, 2122,  ...,    0,    0,    0],\n",
      "        [ 101, 2065, 2017,  ...,    0,    0,    0],\n",
      "        [ 101, 1030, 5310,  ...,    0,    0,    0],\n",
      "        ...,\n",
      "        [ 101, 2017, 2123,  ...,    0,    0,    0],\n",
      "        [ 101, 1030, 5310,  ...,    0,    0,    0],\n",
      "        [ 101, 1523, 2016,  ...,    0,    0,    0]]), 'attention_mask': tensor([[1, 1, 1,  ..., 0, 0, 0],\n",
      "        [1, 1, 1,  ..., 0, 0, 0],\n",
      "        [1, 1, 1,  ..., 0, 0, 0],\n",
      "        ...,\n",
      "        [1, 1, 1,  ..., 0, 0, 0],\n",
      "        [1, 1, 1,  ..., 0, 0, 0],\n",
      "        [1, 1, 1,  ..., 0, 0, 0]])}\n",
      "{'label': tensor([1, 0, 1, 0, 0, 1, 0, 0, 0, 1, 1, 0, 0, 1, 0, 0]), 'input_ids': tensor([[  101,  2531, 24267,  ...,     0,     0,     0],\n",
      "        [  101,  2762, 10710,  ...,     0,     0,     0],\n",
      "        [  101,  1045, 14161,  ...,     0,     0,     0],\n",
      "        ...,\n",
      "        [  101,  1030,  5310,  ...,     0,     0,     0],\n",
      "        [  101,  1030,  5310,  ...,     0,     0,     0],\n",
      "        [  101,  1005,  2027,  ...,     0,     0,     0]]), 'attention_mask': tensor([[1, 1, 1,  ..., 0, 0, 0],\n",
      "        [1, 1, 1,  ..., 0, 0, 0],\n",
      "        [1, 1, 1,  ..., 0, 0, 0],\n",
      "        ...,\n",
      "        [1, 1, 1,  ..., 0, 0, 0],\n",
      "        [1, 1, 1,  ..., 0, 0, 0],\n",
      "        [1, 1, 1,  ..., 0, 0, 0]])}\n",
      "{'label': tensor([1, 0, 1, 1, 0, 0, 1, 0, 1, 1, 1, 0, 0, 0, 1, 0]), 'input_ids': tensor([[  101,  2017,  5236,  ...,     0,     0,     0],\n",
      "        [  101,  2043,  2115,  ...,     0,     0,     0],\n",
      "        [  101, 12731,  3372,  ...,     0,     0,     0],\n",
      "        ...,\n",
      "        [  101,  2016, 10587,  ...,     0,     0,     0],\n",
      "        [  101,  1005,  2115,  ...,     0,     0,     0],\n",
      "        [  101,  1030,  5310,  ...,     0,     0,     0]]), 'attention_mask': tensor([[1, 1, 1,  ..., 0, 0, 0],\n",
      "        [1, 1, 1,  ..., 0, 0, 0],\n",
      "        [1, 1, 1,  ..., 0, 0, 0],\n",
      "        ...,\n",
      "        [1, 1, 1,  ..., 0, 0, 0],\n",
      "        [1, 1, 1,  ..., 0, 0, 0],\n",
      "        [1, 1, 1,  ..., 0, 0, 0]])}\n",
      "{'label': tensor([1, 0, 0, 0, 0, 0, 0, 0, 0, 1, 1, 0, 0, 1, 0, 0]), 'input_ids': tensor([[  101,  1030,  5310,  ...,     0,     0,     0],\n",
      "        [  101,  1996, 12194,  ...,     0,     0,     0],\n",
      "        [  101,  2043,  2115,  ...,     0,     0,     0],\n",
      "        ...,\n",
      "        [  101,  4293,  2454,  ...,     0,     0,     0],\n",
      "        [  101,  2033,  2667,  ...,     0,     0,     0],\n",
      "        [  101,  5057,  2578,  ...,     0,     0,     0]]), 'attention_mask': tensor([[1, 1, 1,  ..., 0, 0, 0],\n",
      "        [1, 1, 1,  ..., 0, 0, 0],\n",
      "        [1, 1, 1,  ..., 0, 0, 0],\n",
      "        ...,\n",
      "        [1, 1, 1,  ..., 0, 0, 0],\n",
      "        [1, 1, 1,  ..., 0, 0, 0],\n",
      "        [1, 1, 1,  ..., 0, 0, 0]])}\n",
      "{'label': tensor([1, 0, 0, 0, 0, 1, 0, 0, 0, 0, 0, 1, 1, 1, 1, 1]), 'input_ids': tensor([[  101,  8909,  3654,  ...,     0,     0,     0],\n",
      "        [  101, 10449,  1996,  ...,     0,     0,     0],\n",
      "        [  101,  2261,  2031,  ...,     0,     0,     0],\n",
      "        ...,\n",
      "        [  101,  1030,  5310,  ...,     0,     0,     0],\n",
      "        [  101,  1045,  2052,  ...,     0,     0,     0],\n",
      "        [  101,  2017,  1037,  ...,     0,     0,     0]]), 'attention_mask': tensor([[1, 1, 1,  ..., 0, 0, 0],\n",
      "        [1, 1, 1,  ..., 0, 0, 0],\n",
      "        [1, 1, 1,  ..., 0, 0, 0],\n",
      "        ...,\n",
      "        [1, 1, 1,  ..., 0, 0, 0],\n",
      "        [1, 1, 1,  ..., 0, 0, 0],\n",
      "        [1, 1, 1,  ..., 0, 0, 0]])}\n",
      "{'label': tensor([1, 0, 1, 0, 0, 1, 1, 0, 0, 0, 0, 0, 1, 0, 0, 0]), 'input_ids': tensor([[  101,  1030,  5310,  ...,     0,     0,     0],\n",
      "        [  101,  2129,  2000,  ...,     0,     0,     0],\n",
      "        [  101,  1030,  5310,  ...,     0,     0,     0],\n",
      "        ...,\n",
      "        [  101, 11245,  5833,  ...,     0,     0,     0],\n",
      "        [  101,  2043,  2273,  ...,     0,     0,     0],\n",
      "        [  101,  7966,  2033,  ...,     0,     0,     0]]), 'attention_mask': tensor([[1, 1, 1,  ..., 0, 0, 0],\n",
      "        [1, 1, 1,  ..., 0, 0, 0],\n",
      "        [1, 1, 1,  ..., 0, 0, 0],\n",
      "        ...,\n",
      "        [1, 1, 1,  ..., 0, 0, 0],\n",
      "        [1, 1, 1,  ..., 0, 0, 0],\n",
      "        [1, 1, 1,  ..., 0, 0, 0]])}\n",
      "{'label': tensor([0, 0, 1, 0, 0, 0, 0, 0, 0, 1, 1, 0, 1, 1, 0, 1]), 'input_ids': tensor([[  101,  2070,  2611,  ...,     0,     0,     0],\n",
      "        [  101, 19387,  1030,  ...,     0,     0,     0],\n",
      "        [  101,  2059,  1045,  ...,     0,     0,     0],\n",
      "        ...,\n",
      "        [  101,  9040,  5571,  ...,     0,     0,     0],\n",
      "        [  101,  1030,  5310,  ...,     0,     0,     0],\n",
      "        [  101,  2698,  3146,  ...,     0,     0,     0]]), 'attention_mask': tensor([[1, 1, 1,  ..., 0, 0, 0],\n",
      "        [1, 1, 1,  ..., 0, 0, 0],\n",
      "        [1, 1, 1,  ..., 0, 0, 0],\n",
      "        ...,\n",
      "        [1, 1, 1,  ..., 0, 0, 0],\n",
      "        [1, 1, 1,  ..., 0, 0, 0],\n",
      "        [1, 1, 1,  ..., 0, 0, 0]])}\n",
      "{'label': tensor([1, 1, 0, 1, 1, 0, 0, 0, 1, 1, 0, 0, 0, 0, 1, 0]), 'input_ids': tensor([[ 101, 1045, 2113,  ...,    0,    0,    0],\n",
      "        [ 101, 6738, 1012,  ...,    0,    0,    0],\n",
      "        [ 101, 2489, 4613,  ...,    0,    0,    0],\n",
      "        ...,\n",
      "        [ 101, 4485, 1996,  ...,    0,    0,    0],\n",
      "        [ 101, 2009, 1521,  ...,    0,    0,    0],\n",
      "        [ 101, 5606, 1997,  ...,    0,    0,    0]]), 'attention_mask': tensor([[1, 1, 1,  ..., 0, 0, 0],\n",
      "        [1, 1, 1,  ..., 0, 0, 0],\n",
      "        [1, 1, 1,  ..., 0, 0, 0],\n",
      "        ...,\n",
      "        [1, 1, 1,  ..., 0, 0, 0],\n",
      "        [1, 1, 1,  ..., 0, 0, 0],\n",
      "        [1, 1, 1,  ..., 0, 0, 0]])}\n",
      "{'label': tensor([0, 1, 0, 1, 1, 1, 1, 1, 0, 0, 1, 1, 1, 1, 0, 0]), 'input_ids': tensor([[  101,  1000, 13372,  ...,     0,     0,     0],\n",
      "        [  101,  2065,  2017,  ...,     0,     0,     0],\n",
      "        [  101, 17562,  2000,  ...,     0,     0,     0],\n",
      "        ...,\n",
      "        [  101,  1030,  5310,  ...,     0,     0,     0],\n",
      "        [  101,  2074,  2657,  ...,     0,     0,     0],\n",
      "        [  101,  1000,  3828,  ...,     0,     0,     0]]), 'attention_mask': tensor([[1, 1, 1,  ..., 0, 0, 0],\n",
      "        [1, 1, 1,  ..., 0, 0, 0],\n",
      "        [1, 1, 1,  ..., 0, 0, 0],\n",
      "        ...,\n",
      "        [1, 1, 1,  ..., 0, 0, 0],\n",
      "        [1, 1, 1,  ..., 0, 0, 0],\n",
      "        [1, 1, 1,  ..., 0, 0, 0]])}\n",
      "{'label': tensor([1, 0, 0, 0, 0, 0, 0, 1, 0, 1, 1, 0, 0, 0, 0, 0]), 'input_ids': tensor([[  101, 18132, 24992,  ...,     0,     0,     0],\n",
      "        [  101,  2464,  2009,  ...,     0,     0,     0],\n",
      "        [  101, 24815,  5130,  ...,     0,     0,     0],\n",
      "        ...,\n",
      "        [  101,  1001,  2022,  ...,     0,     0,     0],\n",
      "        [  101,  2009,  1005,  ...,     0,     0,     0],\n",
      "        [  101,  1996,  2047,  ...,     0,     0,     0]]), 'attention_mask': tensor([[1, 1, 1,  ..., 0, 0, 0],\n",
      "        [1, 1, 1,  ..., 0, 0, 0],\n",
      "        [1, 1, 1,  ..., 0, 0, 0],\n",
      "        ...,\n",
      "        [1, 1, 1,  ..., 0, 0, 0],\n",
      "        [1, 1, 1,  ..., 0, 0, 0],\n",
      "        [1, 1, 1,  ..., 0, 0, 0]])}\n",
      "{'label': tensor([0, 0, 0, 0, 0, 1, 1, 1, 1, 0, 0, 0, 1, 1, 1, 1]), 'input_ids': tensor([[  101,  6206, 11560,  ...,     0,     0,     0],\n",
      "        [  101,  2014,  1011,  ...,     0,     0,     0],\n",
      "        [  101,  3441,  1997,  ...,     0,     0,     0],\n",
      "        ...,\n",
      "        [  101,  1030,  5310,  ...,     0,     0,     0],\n",
      "        [  101,  1030,  5310,  ...,     0,     0,     0],\n",
      "        [  101,   100,  2342,  ...,     0,     0,     0]]), 'attention_mask': tensor([[1, 1, 1,  ..., 0, 0, 0],\n",
      "        [1, 1, 1,  ..., 0, 0, 0],\n",
      "        [1, 1, 1,  ..., 0, 0, 0],\n",
      "        ...,\n",
      "        [1, 1, 1,  ..., 0, 0, 0],\n",
      "        [1, 1, 1,  ..., 0, 0, 0],\n",
      "        [1, 1, 1,  ..., 0, 0, 0]])}\n",
      "{'label': tensor([0, 0, 0, 0, 0, 0, 1, 0, 1, 1, 0, 1, 0, 0, 0, 1]), 'input_ids': tensor([[ 101, 1996, 3466,  ...,    0,    0,    0],\n",
      "        [ 101, 1030, 5310,  ...,    0,    0,    0],\n",
      "        [ 101, 2043, 2017,  ...,    0,    0,    0],\n",
      "        ...,\n",
      "        [ 101, 2085, 2003,  ...,    0,    0,    0],\n",
      "        [ 101, 2079, 2017,  ...,    0,    0,    0],\n",
      "        [ 101, 2339, 2323,  ...,    0,    0,    0]]), 'attention_mask': tensor([[1, 1, 1,  ..., 0, 0, 0],\n",
      "        [1, 1, 1,  ..., 0, 0, 0],\n",
      "        [1, 1, 1,  ..., 0, 0, 0],\n",
      "        ...,\n",
      "        [1, 1, 1,  ..., 0, 0, 0],\n",
      "        [1, 1, 1,  ..., 0, 0, 0],\n",
      "        [1, 1, 1,  ..., 0, 0, 0]])}\n",
      "{'label': tensor([0, 1, 0, 1, 0, 0, 0, 1, 1, 0, 0, 1, 0, 1, 0, 1]), 'input_ids': tensor([[ 101, 1057, 1012,  ...,    0,    0,    0],\n",
      "        [ 101, 1030, 5310,  ...,    0,    0,    0],\n",
      "        [ 101, 1030, 5310,  ...,    0,    0,    0],\n",
      "        ...,\n",
      "        [ 101, 2009, 4586,  ...,    0,    0,    0],\n",
      "        [ 101, 1030, 5310,  ...,    0,    0,    0],\n",
      "        [ 101, 2024, 2017,  ...,    0,    0,    0]]), 'attention_mask': tensor([[1, 1, 1,  ..., 0, 0, 0],\n",
      "        [1, 1, 1,  ..., 0, 0, 0],\n",
      "        [1, 1, 1,  ..., 0, 0, 0],\n",
      "        ...,\n",
      "        [1, 1, 1,  ..., 0, 0, 0],\n",
      "        [1, 1, 1,  ..., 0, 0, 0],\n",
      "        [1, 1, 1,  ..., 0, 0, 0]])}\n",
      "{'label': tensor([0, 0, 0, 1, 0, 0, 1, 0, 0, 1, 0, 0, 1, 0, 1, 0]), 'input_ids': tensor([[  101, 21146,  4360,  ...,     0,     0,     0],\n",
      "        [  101, 19711,  6206,  ...,     0,     0,     0],\n",
      "        [  101,  8398,  3048,  ...,     0,     0,     0],\n",
      "        ...,\n",
      "        [  101,  2762,  2000,  ...,     0,     0,     0],\n",
      "        [  101,  2122,  7570,  ...,     0,     0,     0],\n",
      "        [  101,  1037, 17678,  ...,     0,     0,     0]]), 'attention_mask': tensor([[1, 1, 1,  ..., 0, 0, 0],\n",
      "        [1, 1, 1,  ..., 0, 0, 0],\n",
      "        [1, 1, 1,  ..., 0, 0, 0],\n",
      "        ...,\n",
      "        [1, 1, 1,  ..., 0, 0, 0],\n",
      "        [1, 1, 1,  ..., 0, 0, 0],\n",
      "        [1, 1, 1,  ..., 0, 0, 0]])}\n",
      "{'label': tensor([1, 1, 0, 0, 0, 0, 1, 0, 1, 1, 1, 1, 0, 0, 1, 0]), 'input_ids': tensor([[ 101, 2065, 2017,  ...,    0,    0,    0],\n",
      "        [ 101, 1030, 5310,  ...,    0,    0,    0],\n",
      "        [ 101, 1996, 1001,  ...,    0,    0,    0],\n",
      "        ...,\n",
      "        [ 101, 4931, 1010,  ...,    0,    0,    0],\n",
      "        [ 101, 4701, 2003,  ...,    0,    0,    0],\n",
      "        [ 101, 1996, 9019,  ...,    0,    0,    0]]), 'attention_mask': tensor([[1, 1, 1,  ..., 0, 0, 0],\n",
      "        [1, 1, 1,  ..., 0, 0, 0],\n",
      "        [1, 1, 1,  ..., 0, 0, 0],\n",
      "        ...,\n",
      "        [1, 1, 1,  ..., 0, 0, 0],\n",
      "        [1, 1, 1,  ..., 0, 0, 0],\n",
      "        [1, 1, 1,  ..., 0, 0, 0]])}\n",
      "{'label': tensor([0, 1, 1, 1, 0, 0, 0, 1, 0, 0, 0, 1, 1, 1, 0, 1]), 'input_ids': tensor([[  101,  2054,  1037,  ...,     0,     0,     0],\n",
      "        [  101,  6206, 12114,  ...,     0,     0,     0],\n",
      "        [  101,  1030,  5310,  ...,     0,     0,     0],\n",
      "        ...,\n",
      "        [  101,  2027,  2079,  ...,     0,     0,     0],\n",
      "        [  101,  1012,  1030,  ...,     0,     0,     0],\n",
      "        [  101,  1030,  5310,  ...,     0,     0,     0]]), 'attention_mask': tensor([[1, 1, 1,  ..., 0, 0, 0],\n",
      "        [1, 1, 1,  ..., 0, 0, 0],\n",
      "        [1, 1, 1,  ..., 0, 0, 0],\n",
      "        ...,\n",
      "        [1, 1, 1,  ..., 0, 0, 0],\n",
      "        [1, 1, 1,  ..., 0, 0, 0],\n",
      "        [1, 1, 1,  ..., 0, 0, 0]])}\n",
      "{'label': tensor([0, 0, 0, 1, 1, 0, 0, 1, 0, 0, 1, 1, 1, 1, 1, 0]), 'input_ids': tensor([[  101,  5969, 20731,  ...,     0,     0,     0],\n",
      "        [  101, 24954,  4177,  ...,     0,     0,     0],\n",
      "        [  101,  1030,  5310,  ...,     0,     0,     0],\n",
      "        ...,\n",
      "        [  101,  2119,  2024,  ...,     0,     0,     0],\n",
      "        [  101,  1030,  5310,  ...,     0,     0,     0],\n",
      "        [  101,  2043,  2001,  ...,     0,     0,     0]]), 'attention_mask': tensor([[1, 1, 1,  ..., 0, 0, 0],\n",
      "        [1, 1, 1,  ..., 0, 0, 0],\n",
      "        [1, 1, 1,  ..., 0, 0, 0],\n",
      "        ...,\n",
      "        [1, 1, 1,  ..., 0, 0, 0],\n",
      "        [1, 1, 1,  ..., 0, 0, 0],\n",
      "        [1, 1, 1,  ..., 0, 0, 0]])}\n",
      "{'label': tensor([0, 0, 0, 1, 0, 1, 1, 1, 0, 1, 1, 0, 1, 0, 1, 1]), 'input_ids': tensor([[ 101, 1001, 5978,  ...,    0,    0,    0],\n",
      "        [ 101, 5390, 3336,  ...,    0,    0,    0],\n",
      "        [ 101, 7327, 4177,  ...,    0,    0,    0],\n",
      "        ...,\n",
      "        [ 101, 4067, 2017,  ...,    0,    0,    0],\n",
      "        [ 101, 2043, 1037,  ...,    0,    0,    0],\n",
      "        [ 101, 1048, 2863,  ...,    0,    0,    0]]), 'attention_mask': tensor([[1, 1, 1,  ..., 0, 0, 0],\n",
      "        [1, 1, 1,  ..., 0, 0, 0],\n",
      "        [1, 1, 1,  ..., 0, 0, 0],\n",
      "        ...,\n",
      "        [1, 1, 1,  ..., 0, 0, 0],\n",
      "        [1, 1, 1,  ..., 0, 0, 0],\n",
      "        [1, 1, 1,  ..., 0, 0, 0]])}\n",
      "{'label': tensor([1, 0, 1, 0, 0, 0, 0, 1, 0, 0, 0, 1, 1, 0, 0, 1]), 'input_ids': tensor([[  101,  1045,  2097,  ...,     0,     0,     0],\n",
      "        [  101,  1030,  5310,  ...,     0,     0,     0],\n",
      "        [  101,  2131, 24471,  ...,     0,     0,     0],\n",
      "        ...,\n",
      "        [  101, 20996, 12053,  ...,     0,     0,     0],\n",
      "        [  101,  1030,  5310,  ...,     0,     0,     0],\n",
      "        [  101,  2216,  7489,  ...,     0,     0,     0]]), 'attention_mask': tensor([[1, 1, 1,  ..., 0, 0, 0],\n",
      "        [1, 1, 1,  ..., 0, 0, 0],\n",
      "        [1, 1, 1,  ..., 0, 0, 0],\n",
      "        ...,\n",
      "        [1, 1, 1,  ..., 0, 0, 0],\n",
      "        [1, 1, 1,  ..., 0, 0, 0],\n",
      "        [1, 1, 1,  ..., 0, 0, 0]])}\n",
      "{'label': tensor([0, 0, 1, 0, 0, 0, 0, 1, 1, 0, 0, 1, 1, 0, 1, 1]), 'input_ids': tensor([[ 101, 2026, 5440,  ...,    0,    0,    0],\n",
      "        [ 101, 4013, 5955,  ...,    0,    0,    0],\n",
      "        [ 101, 1030, 5310,  ...,    0,    0,    0],\n",
      "        ...,\n",
      "        [ 101, 8403, 2008,  ...,    0,    0,    0],\n",
      "        [ 101, 1030, 5310,  ...,    0,    0,    0],\n",
      "        [ 101, 1001, 2003,  ...,    0,    0,    0]]), 'attention_mask': tensor([[1, 1, 1,  ..., 0, 0, 0],\n",
      "        [1, 1, 1,  ..., 0, 0, 0],\n",
      "        [1, 1, 1,  ..., 0, 0, 0],\n",
      "        ...,\n",
      "        [1, 1, 1,  ..., 0, 0, 0],\n",
      "        [1, 1, 1,  ..., 0, 0, 0],\n",
      "        [1, 1, 1,  ..., 0, 0, 0]])}\n",
      "{'label': tensor([0, 0, 1, 1, 1, 0, 0, 0, 0, 1, 1, 1, 1, 1, 1, 1]), 'input_ids': tensor([[ 101, 1030, 5310,  ...,    0,    0,    0],\n",
      "        [ 101, 1996, 8398,  ...,    0,    0,    0],\n",
      "        [ 101, 1030, 5310,  ...,    0,    0,    0],\n",
      "        ...,\n",
      "        [ 101, 1030, 5310,  ...,    0,    0,    0],\n",
      "        [ 101, 6206, 7344,  ...,    0,    0,    0],\n",
      "        [ 101, 1030, 5310,  ...,    0,    0,    0]]), 'attention_mask': tensor([[1, 1, 1,  ..., 0, 0, 0],\n",
      "        [1, 1, 1,  ..., 0, 0, 0],\n",
      "        [1, 1, 1,  ..., 0, 0, 0],\n",
      "        ...,\n",
      "        [1, 1, 1,  ..., 0, 0, 0],\n",
      "        [1, 1, 1,  ..., 0, 0, 0],\n",
      "        [1, 1, 1,  ..., 0, 0, 0]])}\n",
      "{'label': tensor([1, 0, 1, 1, 0, 0, 0, 0, 0, 0, 0, 0, 0, 1, 1, 0]), 'input_ids': tensor([[ 101, 1030, 5310,  ...,    0,    0,    0],\n",
      "        [ 101, 1030, 5310,  ...,    0,    0,    0],\n",
      "        [ 101, 1030, 5310,  ...,    0,    0,    0],\n",
      "        ...,\n",
      "        [ 101, 6928, 4301,  ...,    0,    0,    0],\n",
      "        [ 101, 2016, 7777,  ...,    0,    0,    0],\n",
      "        [ 101, 1030, 5310,  ...,    0,    0,    0]]), 'attention_mask': tensor([[1, 1, 1,  ..., 0, 0, 0],\n",
      "        [1, 1, 1,  ..., 0, 0, 0],\n",
      "        [1, 1, 1,  ..., 0, 0, 0],\n",
      "        ...,\n",
      "        [1, 1, 1,  ..., 0, 0, 0],\n",
      "        [1, 1, 1,  ..., 0, 0, 0],\n",
      "        [1, 1, 1,  ..., 0, 0, 0]])}\n",
      "{'label': tensor([0, 0, 1, 1, 1, 0, 1, 0, 1, 1, 1, 0, 0, 0, 0, 1]), 'input_ids': tensor([[  101,  1030,  5310,  ...,     0,     0,     0],\n",
      "        [  101,  1001,  2277,  ...,     0,     0,     0],\n",
      "        [  101,  2049,  1037,  ...,     0,     0,     0],\n",
      "        ...,\n",
      "        [  101,  1520,   100,  ...,     0,     0,     0],\n",
      "        [  101,  1030,  5310,  ...,     0,     0,     0],\n",
      "        [  101,  3537, 11579,  ...,     0,     0,     0]]), 'attention_mask': tensor([[1, 1, 1,  ..., 0, 0, 0],\n",
      "        [1, 1, 1,  ..., 0, 0, 0],\n",
      "        [1, 1, 1,  ..., 0, 0, 0],\n",
      "        ...,\n",
      "        [1, 1, 1,  ..., 0, 0, 0],\n",
      "        [1, 1, 1,  ..., 0, 0, 0],\n",
      "        [1, 1, 1,  ..., 0, 0, 0]])}\n",
      "{'label': tensor([0, 0, 0, 1, 1, 1, 0, 0, 1, 0, 0, 0, 0, 1, 0, 0]), 'input_ids': tensor([[ 101, 6390, 1011,  ...,    0,    0,    0],\n",
      "        [ 101, 3607, 1010,  ...,    0,    0,    0],\n",
      "        [ 101, 1030, 5310,  ...,    0,    0,    0],\n",
      "        ...,\n",
      "        [ 101, 1030, 5310,  ...,    0,    0,    0],\n",
      "        [ 101, 1005, 2016,  ...,    0,    0,    0],\n",
      "        [ 101, 2043, 2115,  ...,    0,    0,    0]]), 'attention_mask': tensor([[1, 1, 1,  ..., 0, 0, 0],\n",
      "        [1, 1, 1,  ..., 0, 0, 0],\n",
      "        [1, 1, 1,  ..., 0, 0, 0],\n",
      "        ...,\n",
      "        [1, 1, 1,  ..., 0, 0, 0],\n",
      "        [1, 1, 1,  ..., 0, 0, 0],\n",
      "        [1, 1, 1,  ..., 0, 0, 0]])}\n",
      "{'label': tensor([1, 0, 1, 0, 0, 0, 0, 0, 0, 0, 0, 1, 1, 0, 0, 1]), 'input_ids': tensor([[ 101, 2122, 7570,  ...,    0,    0,    0],\n",
      "        [ 101, 2021, 2005,  ...,    0,    0,    0],\n",
      "        [ 101, 1030, 5310,  ...,    0,    0,    0],\n",
      "        ...,\n",
      "        [ 101, 7743, 2229,  ...,    0,    0,    0],\n",
      "        [ 101, 2043, 2619,  ...,    0,    0,    0],\n",
      "        [ 101, 1030, 5310,  ...,    0,    0,    0]]), 'attention_mask': tensor([[1, 1, 1,  ..., 0, 0, 0],\n",
      "        [1, 1, 1,  ..., 0, 0, 0],\n",
      "        [1, 1, 1,  ..., 0, 0, 0],\n",
      "        ...,\n",
      "        [1, 1, 1,  ..., 0, 0, 0],\n",
      "        [1, 1, 1,  ..., 0, 0, 0],\n",
      "        [1, 1, 1,  ..., 0, 0, 0]])}\n",
      "{'label': tensor([0, 0, 0, 0, 0, 0, 0, 0, 1, 0, 1, 0, 1, 0, 0, 0]), 'input_ids': tensor([[  101,  2045,  1521,  ...,     0,     0,     0],\n",
      "        [  101,  1030,  5310,  ...,     0,     0,     0],\n",
      "        [  101,  5606,  1997,  ...,     0,     0,     0],\n",
      "        ...,\n",
      "        [  101,  2019,  1001,  ...,     0,     0,     0],\n",
      "        [  101, 20976,  2065,  ...,     0,     0,     0],\n",
      "        [  101,  1996,  2188,  ...,     0,     0,     0]]), 'attention_mask': tensor([[1, 1, 1,  ..., 0, 0, 0],\n",
      "        [1, 1, 1,  ..., 0, 0, 0],\n",
      "        [1, 1, 1,  ..., 0, 0, 0],\n",
      "        ...,\n",
      "        [1, 1, 1,  ..., 0, 0, 0],\n",
      "        [1, 1, 1,  ..., 0, 0, 0],\n",
      "        [1, 1, 1,  ..., 0, 0, 0]])}\n",
      "{'label': tensor([1, 0, 1, 0, 0, 0, 1, 0, 1, 0, 1, 1, 0, 1, 1, 1]), 'input_ids': tensor([[  101,  2562,  2068,  ...,     0,     0,     0],\n",
      "        [  101,  1996,  1005,  ...,     0,     0,     0],\n",
      "        [  101,  2129,  6517,  ...,     0,     0,     0],\n",
      "        ...,\n",
      "        [  101, 13451,  7743,  ...,     0,     0,     0],\n",
      "        [  101,  2054,  2079,  ...,     0,     0,     0],\n",
      "        [  101,  1030,  5310,  ...,     0,     0,     0]]), 'attention_mask': tensor([[1, 1, 1,  ..., 0, 0, 0],\n",
      "        [1, 1, 1,  ..., 0, 0, 0],\n",
      "        [1, 1, 1,  ..., 0, 0, 0],\n",
      "        ...,\n",
      "        [1, 1, 1,  ..., 0, 0, 0],\n",
      "        [1, 1, 1,  ..., 0, 0, 0],\n",
      "        [1, 1, 1,  ..., 0, 0, 0]])}\n",
      "{'label': tensor([1, 1, 0, 1, 0, 1, 1, 1, 0, 0, 0, 0, 0, 1, 0, 0]), 'input_ids': tensor([[  101,  2062, 16836,  ...,     0,     0,     0],\n",
      "        [  101,  1045,  1005,  ...,     0,     0,     0],\n",
      "        [  101,  1030,  5310,  ...,     0,     0,     0],\n",
      "        ...,\n",
      "        [  101,  2498, 18138,  ...,     0,     0,     0],\n",
      "        [  101,  2065,  2027,  ...,     0,     0,     0],\n",
      "        [  101,  1999, 12284,  ...,     0,     0,     0]]), 'attention_mask': tensor([[1, 1, 1,  ..., 0, 0, 0],\n",
      "        [1, 1, 1,  ..., 0, 0, 0],\n",
      "        [1, 1, 1,  ..., 0, 0, 0],\n",
      "        ...,\n",
      "        [1, 1, 1,  ..., 0, 0, 0],\n",
      "        [1, 1, 1,  ..., 0, 0, 0],\n",
      "        [1, 1, 1,  ..., 0, 0, 0]])}\n",
      "{'label': tensor([0, 0, 0, 1, 0, 0, 0, 0, 0, 1, 0, 1, 0, 1, 1, 0]), 'input_ids': tensor([[ 101, 1030, 5310,  ...,    0,    0,    0],\n",
      "        [ 101, 1030, 5310,  ...,    0,    0,    0],\n",
      "        [ 101, 1030, 5310,  ...,    0,    0,    0],\n",
      "        ...,\n",
      "        [ 101, 2070, 2308,  ...,    0,    0,    0],\n",
      "        [ 101, 1030, 5310,  ...,    0,    0,    0],\n",
      "        [ 101, 1030, 5310,  ...,    0,    0,    0]]), 'attention_mask': tensor([[1, 1, 1,  ..., 0, 0, 0],\n",
      "        [1, 1, 1,  ..., 0, 0, 0],\n",
      "        [1, 1, 1,  ..., 0, 0, 0],\n",
      "        ...,\n",
      "        [1, 1, 1,  ..., 0, 0, 0],\n",
      "        [1, 1, 1,  ..., 0, 0, 0],\n",
      "        [1, 1, 1,  ..., 0, 0, 0]])}\n",
      "{'label': tensor([1, 0, 0, 0, 0, 1, 0, 0, 1, 1, 0, 1, 1, 0, 0, 1]), 'input_ids': tensor([[ 101, 3422, 1024,  ...,    0,    0,    0],\n",
      "        [ 101, 2066, 2024,  ...,    0,    0,    0],\n",
      "        [ 101, 2273, 2562,  ...,    0,    0,    0],\n",
      "        ...,\n",
      "        [ 101, 2707, 2115,  ...,    0,    0,    0],\n",
      "        [ 101, 1001, 7327,  ...,    0,    0,    0],\n",
      "        [ 101, 1030, 5310,  ...,    0,    0,    0]]), 'attention_mask': tensor([[1, 1, 1,  ..., 0, 0, 0],\n",
      "        [1, 1, 1,  ..., 0, 0, 0],\n",
      "        [1, 1, 1,  ..., 0, 0, 0],\n",
      "        ...,\n",
      "        [1, 1, 1,  ..., 0, 0, 0],\n",
      "        [1, 1, 1,  ..., 0, 0, 0],\n",
      "        [1, 1, 1,  ..., 0, 0, 0]])}\n",
      "{'label': tensor([1, 0, 0, 0, 1, 0, 0, 1, 0, 0, 1, 0, 1, 0, 1, 1]), 'input_ids': tensor([[  101,  1030,  5310,  ...,     0,     0,     0],\n",
      "        [  101, 16717,  2125,  ...,     0,     0,     0],\n",
      "        [  101,  3648,  2758,  ...,     0,     0,     0],\n",
      "        ...,\n",
      "        [  101, 12592,  3017,  ...,     0,     0,     0],\n",
      "        [  101,  1045,  2215,  ...,     0,     0,     0],\n",
      "        [  101,  1030,  5310,  ...,     0,     0,     0]]), 'attention_mask': tensor([[1, 1, 1,  ..., 0, 0, 0],\n",
      "        [1, 1, 1,  ..., 0, 0, 0],\n",
      "        [1, 1, 1,  ..., 0, 0, 0],\n",
      "        ...,\n",
      "        [1, 1, 1,  ..., 0, 0, 0],\n",
      "        [1, 1, 1,  ..., 0, 0, 0],\n",
      "        [1, 1, 1,  ..., 0, 0, 0]])}\n",
      "{'label': tensor([0, 0, 1, 1, 0, 1, 0, 0, 0, 1, 1, 0, 0, 0, 0, 0]), 'input_ids': tensor([[  101,  2570,  2086,  ...,     0,     0,     0],\n",
      "        [  101,  8334, 13970,  ...,     0,     0,     0],\n",
      "        [  101,  5872,  2610,  ...,     0,     0,     0],\n",
      "        ...,\n",
      "        [  101,  1030,  5310,  ...,     0,     0,     0],\n",
      "        [  101,  7743,  2017,  ...,     0,     0,     0],\n",
      "        [  101,  2003,  1001,  ...,     0,     0,     0]]), 'attention_mask': tensor([[1, 1, 1,  ..., 0, 0, 0],\n",
      "        [1, 1, 1,  ..., 0, 0, 0],\n",
      "        [1, 1, 1,  ..., 0, 0, 0],\n",
      "        ...,\n",
      "        [1, 1, 1,  ..., 0, 0, 0],\n",
      "        [1, 1, 1,  ..., 0, 0, 0],\n",
      "        [1, 1, 1,  ..., 0, 0, 0]])}\n",
      "{'label': tensor([1, 0, 1, 0, 0, 1, 1, 1, 1, 1, 0, 1, 1, 0, 0, 0]), 'input_ids': tensor([[  101, 10930,  3566,  ...,     0,     0,     0],\n",
      "        [  101,  1030,  5310,  ...,     0,     0,     0],\n",
      "        [  101,  7427, 12383,  ...,     0,     0,     0],\n",
      "        ...,\n",
      "        [  101,  1030,  5310,  ...,     0,     0,     0],\n",
      "        [  101,  1045,  5223,  ...,     0,     0,     0],\n",
      "        [  101,  1030,  5310,  ...,     0,     0,     0]]), 'attention_mask': tensor([[1, 1, 1,  ..., 0, 0, 0],\n",
      "        [1, 1, 1,  ..., 0, 0, 0],\n",
      "        [1, 1, 1,  ..., 0, 0, 0],\n",
      "        ...,\n",
      "        [1, 1, 1,  ..., 0, 0, 0],\n",
      "        [1, 1, 1,  ..., 0, 0, 0],\n",
      "        [1, 1, 1,  ..., 0, 0, 0]])}\n",
      "{'label': tensor([0, 1, 1, 1, 1, 0, 1, 0, 0, 0, 1, 0, 1, 1, 1, 0]), 'input_ids': tensor([[  101, 11693,  2005,  ...,     0,     0,     0],\n",
      "        [  101,  2017,  1005,  ...,     0,     0,     0],\n",
      "        [  101,  6703,  7489,  ...,     0,     0,     0],\n",
      "        ...,\n",
      "        [  101,  1030,  5310,  ...,     0,     0,     0],\n",
      "        [  101,  1012,  1030,  ...,     0,     0,     0],\n",
      "        [  101,  4901,  1521,  ...,     0,     0,     0]]), 'attention_mask': tensor([[1, 1, 1,  ..., 0, 0, 0],\n",
      "        [1, 1, 1,  ..., 0, 0, 0],\n",
      "        [1, 1, 1,  ..., 0, 0, 0],\n",
      "        ...,\n",
      "        [1, 1, 1,  ..., 0, 0, 0],\n",
      "        [1, 1, 1,  ..., 0, 0, 0],\n",
      "        [1, 1, 1,  ..., 0, 0, 0]])}\n",
      "{'label': tensor([0, 0, 0, 1, 1, 1, 0, 0, 1, 1, 0, 0, 1, 1, 1, 0]), 'input_ids': tensor([[ 101, 2074, 3426,  ...,    0,    0,    0],\n",
      "        [ 101, 1030, 5310,  ...,    0,    0,    0],\n",
      "        [ 101, 1001, 4035,  ...,    0,    0,    0],\n",
      "        ...,\n",
      "        [ 101, 3938, 1003,  ...,    0,    0,    0],\n",
      "        [ 101, 2000, 2191,  ...,    0,    0,    0],\n",
      "        [ 101, 8025, 2000,  ...,    0,    0,    0]]), 'attention_mask': tensor([[1, 1, 1,  ..., 0, 0, 0],\n",
      "        [1, 1, 1,  ..., 0, 0, 0],\n",
      "        [1, 1, 1,  ..., 0, 0, 0],\n",
      "        ...,\n",
      "        [1, 1, 1,  ..., 0, 0, 0],\n",
      "        [1, 1, 1,  ..., 0, 0, 0],\n",
      "        [1, 1, 1,  ..., 0, 0, 0]])}\n",
      "{'label': tensor([0, 1, 0, 0, 1, 1, 1, 0, 0, 1, 1, 0, 1, 0, 0, 1]), 'input_ids': tensor([[ 101, 1030, 5310,  ...,    0,    0,    0],\n",
      "        [ 101, 1045, 1005,  ...,    0,    0,    0],\n",
      "        [ 101, 1045, 1056,  ...,    0,    0,    0],\n",
      "        ...,\n",
      "        [ 101, 2739, 1999,  ...,    0,    0,    0],\n",
      "        [ 101, 2065, 2017,  ...,    0,    0,    0],\n",
      "        [ 101, 2637, 2003,  ...,    0,    0,    0]]), 'attention_mask': tensor([[1, 1, 1,  ..., 0, 0, 0],\n",
      "        [1, 1, 1,  ..., 0, 0, 0],\n",
      "        [1, 1, 1,  ..., 0, 0, 0],\n",
      "        ...,\n",
      "        [1, 1, 1,  ..., 0, 0, 0],\n",
      "        [1, 1, 1,  ..., 0, 0, 0],\n",
      "        [1, 1, 1,  ..., 0, 0, 0]])}\n",
      "{'label': tensor([0, 1, 1, 0, 0, 1, 0, 1, 0, 1, 0, 1, 1, 1, 0, 1]), 'input_ids': tensor([[  101, 15429,  3126,  ...,     0,     0,     0],\n",
      "        [  101,  1030,  5310,  ...,     0,     0,     0],\n",
      "        [  101,  3451,  8906,  ...,     0,     0,     0],\n",
      "        ...,\n",
      "        [  101,  2017,  2064,  ...,     0,     0,     0],\n",
      "        [  101,  1030,  5310,  ...,     0,     0,     0],\n",
      "        [  101,  1030,  5310,  ...,     0,     0,     0]]), 'attention_mask': tensor([[1, 1, 1,  ..., 0, 0, 0],\n",
      "        [1, 1, 1,  ..., 0, 0, 0],\n",
      "        [1, 1, 1,  ..., 0, 0, 0],\n",
      "        ...,\n",
      "        [1, 1, 1,  ..., 0, 0, 0],\n",
      "        [1, 1, 1,  ..., 0, 0, 0],\n",
      "        [1, 1, 1,  ..., 0, 0, 0]])}\n",
      "{'label': tensor([1, 0, 0, 1, 0, 0, 1, 0, 0, 0, 1, 1, 1, 0, 1, 0]), 'input_ids': tensor([[  101,  8398,  2001,  ...,     0,     0,     0],\n",
      "        [  101,  9135,  1998,  ...,     0,     0,     0],\n",
      "        [  101,  1005,  8493,  ...,     0,     0,     0],\n",
      "        ...,\n",
      "        [  101, 17562,  1010,  ...,     0,     0,     0],\n",
      "        [  101,  1030,  5310,  ...,     0,     0,     0],\n",
      "        [  101,  1030,  5310,  ...,     0,     0,     0]]), 'attention_mask': tensor([[1, 1, 1,  ..., 0, 0, 0],\n",
      "        [1, 1, 1,  ..., 0, 0, 0],\n",
      "        [1, 1, 1,  ..., 0, 0, 0],\n",
      "        ...,\n",
      "        [1, 1, 1,  ..., 0, 0, 0],\n",
      "        [1, 1, 1,  ..., 0, 0, 0],\n",
      "        [1, 1, 1,  ..., 0, 0, 0]])}\n",
      "{'label': tensor([0, 1, 0, 0, 0, 0, 1, 1, 0, 0, 1, 0, 0, 1, 0, 0]), 'input_ids': tensor([[  101,  1001,  2148,  ...,     0,     0,     0],\n",
      "        [  101, 28882,  1010,  ...,     0,     0,     0],\n",
      "        [  101,  1030,  5310,  ...,     0,     0,     0],\n",
      "        ...,\n",
      "        [  101,  1045,  2123,  ...,     0,     0,     0],\n",
      "        [  101,  1030,  5310,  ...,     0,     0,     0],\n",
      "        [  101,  2138,  2009,  ...,     0,     0,     0]]), 'attention_mask': tensor([[1, 1, 1,  ..., 0, 0, 0],\n",
      "        [1, 1, 1,  ..., 0, 0, 0],\n",
      "        [1, 1, 1,  ..., 0, 0, 0],\n",
      "        ...,\n",
      "        [1, 1, 1,  ..., 0, 0, 0],\n",
      "        [1, 1, 1,  ..., 0, 0, 0],\n",
      "        [1, 1, 1,  ..., 0, 0, 0]])}\n",
      "{'label': tensor([1, 1, 1, 0, 0, 0, 0, 0, 0, 1, 0, 1, 0, 0, 0, 0]), 'input_ids': tensor([[  101,  1048, 19968,  ...,     0,     0,     0],\n",
      "        [  101,  1996,  1001,  ...,     0,     0,     0],\n",
      "        [  101,  1030,  5310,  ...,     0,     0,     0],\n",
      "        ...,\n",
      "        [  101,  3531,  2292,  ...,     0,     0,     0],\n",
      "        [  101, 13883,  2035,  ...,     0,     0,     0],\n",
      "        [  101,  3407,  7398,  ...,     0,     0,     0]]), 'attention_mask': tensor([[1, 1, 1,  ..., 0, 0, 0],\n",
      "        [1, 1, 1,  ..., 0, 0, 0],\n",
      "        [1, 1, 1,  ..., 0, 0, 0],\n",
      "        ...,\n",
      "        [1, 1, 1,  ..., 0, 0, 0],\n",
      "        [1, 1, 1,  ..., 0, 0, 0],\n",
      "        [1, 1, 1,  ..., 0, 0, 0]])}\n",
      "{'label': tensor([0, 0, 0, 1, 1, 0, 1, 0, 0, 0, 0, 1, 1, 0, 0, 1]), 'input_ids': tensor([[  101,  1523,  2175,  ...,     0,     0,     0],\n",
      "        [  101,  3010,  2704,  ...,     0,     0,     0],\n",
      "        [  101,  2070,  4364,  ...,     0,     0,     0],\n",
      "        ...,\n",
      "        [  101,  1030,  5310,  ...,     0,     0,     0],\n",
      "        [  101,  2062, 16836,  ...,     0,     0,     0],\n",
      "        [  101,  1030,  5310,  ...,     0,     0,     0]]), 'attention_mask': tensor([[1, 1, 1,  ..., 0, 0, 0],\n",
      "        [1, 1, 1,  ..., 0, 0, 0],\n",
      "        [1, 1, 1,  ..., 0, 0, 0],\n",
      "        ...,\n",
      "        [1, 1, 1,  ..., 0, 0, 0],\n",
      "        [1, 1, 1,  ..., 0, 0, 0],\n",
      "        [1, 1, 1,  ..., 0, 0, 0]])}\n",
      "{'label': tensor([0, 0, 1, 1, 0, 1, 0, 1, 0, 0, 0, 0, 0, 1, 0, 1]), 'input_ids': tensor([[  101,  1001, 16392,  ...,     0,     0,     0],\n",
      "        [  101,  1030,  5310,  ...,     0,     0,     0],\n",
      "        [  101, 16836,  2175,  ...,     0,     0,     0],\n",
      "        ...,\n",
      "        [  101,  2017,  1037,  ...,     0,     0,     0],\n",
      "        [  101,  8398, 18806,  ...,     0,     0,     0],\n",
      "        [  101,  1030,  5310,  ...,     0,     0,     0]]), 'attention_mask': tensor([[1, 1, 1,  ..., 0, 0, 0],\n",
      "        [1, 1, 1,  ..., 0, 0, 0],\n",
      "        [1, 1, 1,  ..., 0, 0, 0],\n",
      "        ...,\n",
      "        [1, 1, 1,  ..., 0, 0, 0],\n",
      "        [1, 1, 1,  ..., 0, 0, 0],\n",
      "        [1, 1, 1,  ..., 0, 0, 0]])}\n",
      "{'label': tensor([0, 1, 0, 1, 0, 0, 1, 0, 0, 1, 1, 0, 1, 1, 0, 1]), 'input_ids': tensor([[ 101, 1030, 5310,  ...,    0,    0,    0],\n",
      "        [ 101, 3928, 2273,  ...,    0,    0,    0],\n",
      "        [ 101, 2043, 1996,  ...,    0,    0,    0],\n",
      "        ...,\n",
      "        [ 101, 2065, 1045,  ...,    0,    0,    0],\n",
      "        [ 101, 2129, 2064,  ...,    0,    0,    0],\n",
      "        [ 101, 1030, 5310,  ...,    0,    0,    0]]), 'attention_mask': tensor([[1, 1, 1,  ..., 0, 0, 0],\n",
      "        [1, 1, 1,  ..., 0, 0, 0],\n",
      "        [1, 1, 1,  ..., 0, 0, 0],\n",
      "        ...,\n",
      "        [1, 1, 1,  ..., 0, 0, 0],\n",
      "        [1, 1, 1,  ..., 0, 0, 0],\n",
      "        [1, 1, 1,  ..., 0, 0, 0]])}\n",
      "{'label': tensor([0, 1, 1, 1, 0, 0, 0, 0, 0, 1, 0, 0, 1, 0, 0, 0]), 'input_ids': tensor([[  101,  1045,  1521,  ...,     0,     0,     0],\n",
      "        [  101,  3742,  7521,  ...,     0,     0,     0],\n",
      "        [  101,  3423,  2149,  ...,     0,     0,     0],\n",
      "        ...,\n",
      "        [  101, 19817,  7140,  ...,     0,     0,     0],\n",
      "        [  101,  2331,  1998,  ...,     0,     0,     0],\n",
      "        [  101,  1056, 28394,  ...,     0,     0,     0]]), 'attention_mask': tensor([[1, 1, 1,  ..., 0, 0, 0],\n",
      "        [1, 1, 1,  ..., 0, 0, 0],\n",
      "        [1, 1, 1,  ..., 0, 0, 0],\n",
      "        ...,\n",
      "        [1, 1, 1,  ..., 0, 0, 0],\n",
      "        [1, 1, 1,  ..., 0, 0, 0],\n",
      "        [1, 1, 1,  ..., 0, 0, 0]])}\n",
      "{'label': tensor([1, 0, 1, 0, 1, 0, 0, 0, 0, 1, 1, 1, 0, 1, 0, 0]), 'input_ids': tensor([[ 101, 1030, 5310,  ...,    0,    0,    0],\n",
      "        [ 101, 7327, 2038,  ...,    0,    0,    0],\n",
      "        [ 101, 2043, 2017,  ...,    0,    0,    0],\n",
      "        ...,\n",
      "        [ 101, 1037, 2308,  ...,    0,    0,    0],\n",
      "        [ 101, 2632, 1011,  ...,    0,    0,    0],\n",
      "        [ 101, 2507, 9497,  ...,    0,    0,    0]]), 'attention_mask': tensor([[1, 1, 1,  ..., 0, 0, 0],\n",
      "        [1, 1, 1,  ..., 0, 0, 0],\n",
      "        [1, 1, 1,  ..., 0, 0, 0],\n",
      "        ...,\n",
      "        [1, 1, 1,  ..., 0, 0, 0],\n",
      "        [1, 1, 1,  ..., 0, 0, 0],\n",
      "        [1, 1, 1,  ..., 0, 0, 0]])}\n",
      "{'label': tensor([1, 0, 1, 0, 1, 0, 0, 1, 1, 0, 0, 1, 0, 0, 0, 1]), 'input_ids': tensor([[ 101, 1030, 5310,  ...,    0,    0,    0],\n",
      "        [ 101, 2014, 1011,  ...,    0,    0,    0],\n",
      "        [ 101, 2004, 2521,  ...,    0,    0,    0],\n",
      "        ...,\n",
      "        [ 101, 2023, 2003,  ...,    0,    0,    0],\n",
      "        [ 101, 2797, 3827,  ...,    0,    0,    0],\n",
      "        [ 101, 1037, 2502,  ...,    0,    0,    0]]), 'attention_mask': tensor([[1, 1, 1,  ..., 0, 0, 0],\n",
      "        [1, 1, 1,  ..., 0, 0, 0],\n",
      "        [1, 1, 1,  ..., 0, 0, 0],\n",
      "        ...,\n",
      "        [1, 1, 1,  ..., 0, 0, 0],\n",
      "        [1, 1, 1,  ..., 0, 0, 0],\n",
      "        [1, 1, 1,  ..., 0, 0, 0]])}\n",
      "{'label': tensor([0, 1, 1, 1, 1, 0, 1, 0, 0, 0, 1, 0, 0, 1, 1, 0]), 'input_ids': tensor([[ 101, 1030, 5310,  ...,    0,    0,    0],\n",
      "        [ 101, 8909, 2243,  ...,    0,    0,    0],\n",
      "        [ 101, 5334, 2179,  ...,    0,    0,    0],\n",
      "        ...,\n",
      "        [ 101, 1030, 5310,  ...,    0,    0,    0],\n",
      "        [ 101, 2153, 1010,  ...,    0,    0,    0],\n",
      "        [ 101, 4654, 1011,  ...,    0,    0,    0]]), 'attention_mask': tensor([[1, 1, 1,  ..., 0, 0, 0],\n",
      "        [1, 1, 1,  ..., 0, 0, 0],\n",
      "        [1, 1, 1,  ..., 0, 0, 0],\n",
      "        ...,\n",
      "        [1, 1, 1,  ..., 0, 0, 0],\n",
      "        [1, 1, 1,  ..., 0, 0, 0],\n",
      "        [1, 1, 1,  ..., 0, 0, 0]])}\n",
      "{'label': tensor([1, 0, 0, 0, 1, 1, 0, 0, 0, 0, 0, 0, 1, 1, 0, 0]), 'input_ids': tensor([[  101,  6206, 12290,  ...,     0,     0,     0],\n",
      "        [  101,  2047,  9927,  ...,     0,     0,     0],\n",
      "        [  101,  2000,  3058,  ...,     0,     0,     0],\n",
      "        ...,\n",
      "        [  101,  1030,  5310,  ...,     0,     0,     0],\n",
      "        [  101,  2023,  2003,  ...,     0,     0,     0],\n",
      "        [  101,  8711,  2175,  ...,     0,     0,     0]]), 'attention_mask': tensor([[1, 1, 1,  ..., 0, 0, 0],\n",
      "        [1, 1, 1,  ..., 0, 0, 0],\n",
      "        [1, 1, 1,  ..., 0, 0, 0],\n",
      "        ...,\n",
      "        [1, 1, 1,  ..., 0, 0, 0],\n",
      "        [1, 1, 1,  ..., 0, 0, 0],\n",
      "        [1, 1, 1,  ..., 0, 0, 0]])}\n",
      "{'label': tensor([1, 0, 0, 1, 0, 1, 1, 1, 0, 1, 0, 0, 0, 1, 1, 0]), 'input_ids': tensor([[  101,  1030,  5310,  ...,     0,     0,     0],\n",
      "        [  101, 19607,  2050,  ...,     0,     0,     0],\n",
      "        [  101,  2986,  1010,  ...,     0,     0,     0],\n",
      "        ...,\n",
      "        [  101,  1030,  5310,  ...,     0,     0,     0],\n",
      "        [  101,   100,  7222,  ...,     0,     0,     0],\n",
      "        [  101,  1030,  5310,  ...,     0,     0,     0]]), 'attention_mask': tensor([[1, 1, 1,  ..., 0, 0, 0],\n",
      "        [1, 1, 1,  ..., 0, 0, 0],\n",
      "        [1, 1, 1,  ..., 0, 0, 0],\n",
      "        ...,\n",
      "        [1, 1, 1,  ..., 0, 0, 0],\n",
      "        [1, 1, 1,  ..., 0, 0, 0],\n",
      "        [1, 1, 1,  ..., 0, 0, 0]])}\n",
      "{'label': tensor([1, 0, 1, 0, 0, 1, 0, 0, 1, 0, 1, 0, 0, 1, 1, 1]), 'input_ids': tensor([[ 101, 1030, 5310,  ...,    0,    0,    0],\n",
      "        [ 101, 1015, 1013,  ...,    0,    0,    0],\n",
      "        [ 101, 1039, 1005,  ...,    0,    0,    0],\n",
      "        ...,\n",
      "        [ 101, 1996, 2087,  ...,    0,    0,    0],\n",
      "        [ 101, 6456, 1010,  ...,    0,    0,    0],\n",
      "        [ 101, 1030, 5310,  ...,    0,    0,    0]]), 'attention_mask': tensor([[1, 1, 1,  ..., 0, 0, 0],\n",
      "        [1, 1, 1,  ..., 0, 0, 0],\n",
      "        [1, 1, 1,  ..., 0, 0, 0],\n",
      "        ...,\n",
      "        [1, 1, 1,  ..., 0, 0, 0],\n",
      "        [1, 1, 1,  ..., 0, 0, 0],\n",
      "        [1, 1, 1,  ..., 0, 0, 0]])}\n",
      "{'label': tensor([0, 0, 0, 1, 1, 1, 1, 0, 1, 1, 0, 0, 1, 0, 0, 1]), 'input_ids': tensor([[ 101, 2073, 2024,  ...,    0,    0,    0],\n",
      "        [ 101, 4575, 1024,  ...,    0,    0,    0],\n",
      "        [ 101, 2087, 3008,  ...,    0,    0,    0],\n",
      "        ...,\n",
      "        [ 101, 2085, 2652,  ...,    0,    0,    0],\n",
      "        [ 101, 5667, 5003,  ...,    0,    0,    0],\n",
      "        [ 101, 1999, 1037,  ...,    0,    0,    0]]), 'attention_mask': tensor([[1, 1, 1,  ..., 0, 0, 0],\n",
      "        [1, 1, 1,  ..., 0, 0, 0],\n",
      "        [1, 1, 1,  ..., 0, 0, 0],\n",
      "        ...,\n",
      "        [1, 1, 1,  ..., 0, 0, 0],\n",
      "        [1, 1, 1,  ..., 0, 0, 0],\n",
      "        [1, 1, 1,  ..., 0, 0, 0]])}\n",
      "{'label': tensor([1, 0, 1, 0, 1, 0, 1, 0, 1, 0, 0, 0, 0, 0, 1, 0]), 'input_ids': tensor([[ 101, 1030, 5310,  ...,    0,    0,    0],\n",
      "        [ 101, 6627, 7230,  ...,    0,    0,    0],\n",
      "        [ 101, 1030, 5310,  ...,    0,    0,    0],\n",
      "        ...,\n",
      "        [ 101, 1001, 2106,  ...,    0,    0,    0],\n",
      "        [ 101, 1030, 5310,  ...,    0,    0,    0],\n",
      "        [ 101, 2043, 2045,  ...,    0,    0,    0]]), 'attention_mask': tensor([[1, 1, 1,  ..., 0, 0, 0],\n",
      "        [1, 1, 1,  ..., 0, 0, 0],\n",
      "        [1, 1, 1,  ..., 0, 0, 0],\n",
      "        ...,\n",
      "        [1, 1, 1,  ..., 0, 0, 0],\n",
      "        [1, 1, 1,  ..., 0, 0, 0],\n",
      "        [1, 1, 1,  ..., 0, 0, 0]])}\n",
      "{'label': tensor([0, 0, 0, 1, 0, 0, 0, 1, 0, 0, 1, 0, 0, 1, 1, 1]), 'input_ids': tensor([[  101, 19387,  1024,  ...,     0,     0,     0],\n",
      "        [  101,  2187,  1011,  ...,     0,     0,     0],\n",
      "        [  101,  2054,  2055,  ...,     0,     0,     0],\n",
      "        ...,\n",
      "        [  101,  2009,  2003,  ...,     0,     0,     0],\n",
      "        [  101,  2009,  2097,  ...,     0,     0,     0],\n",
      "        [  101,  3291,  2005,  ...,     0,     0,     0]]), 'attention_mask': tensor([[1, 1, 1,  ..., 0, 0, 0],\n",
      "        [1, 1, 1,  ..., 0, 0, 0],\n",
      "        [1, 1, 1,  ..., 0, 0, 0],\n",
      "        ...,\n",
      "        [1, 1, 1,  ..., 0, 0, 0],\n",
      "        [1, 1, 1,  ..., 0, 0, 0],\n",
      "        [1, 1, 1,  ..., 0, 0, 0]])}\n",
      "{'label': tensor([0, 1, 1, 1, 1, 1, 0, 1, 1, 1, 1, 1, 0, 1, 0, 1]), 'input_ids': tensor([[ 101, 1015, 1012,  ...,    0,    0,    0],\n",
      "        [ 101, 2027, 2024,  ...,    0,    0,    0],\n",
      "        [ 101, 2017, 5078,  ...,    0,    0,    0],\n",
      "        ...,\n",
      "        [ 101, 1030, 5310,  ...,    0,    0,    0],\n",
      "        [ 101, 2057, 2113,  ...,    0,    0,    0],\n",
      "        [ 101, 2016, 2234,  ...,    0,    0,    0]]), 'attention_mask': tensor([[1, 1, 1,  ..., 0, 0, 0],\n",
      "        [1, 1, 1,  ..., 0, 0, 0],\n",
      "        [1, 1, 1,  ..., 0, 0, 0],\n",
      "        ...,\n",
      "        [1, 1, 1,  ..., 0, 0, 0],\n",
      "        [1, 1, 1,  ..., 0, 0, 0],\n",
      "        [1, 1, 1,  ..., 0, 0, 0]])}\n",
      "{'label': tensor([0, 1, 0, 1, 1, 0, 1, 1, 0, 1, 1, 1, 1, 0, 1, 0]), 'input_ids': tensor([[ 101, 3319, 1997,  ...,    0,    0,    0],\n",
      "        [ 101, 1030, 5310,  ...,    0,    0,    0],\n",
      "        [ 101, 1030, 5310,  ...,    0,    0,    0],\n",
      "        ...,\n",
      "        [ 101, 9042, 8711,  ...,    0,    0,    0],\n",
      "        [ 101, 1030, 5310,  ...,    0,    0,    0],\n",
      "        [ 101, 1030, 5310,  ...,    0,    0,    0]]), 'attention_mask': tensor([[1, 1, 1,  ..., 0, 0, 0],\n",
      "        [1, 1, 1,  ..., 0, 0, 0],\n",
      "        [1, 1, 1,  ..., 0, 0, 0],\n",
      "        ...,\n",
      "        [1, 1, 1,  ..., 0, 0, 0],\n",
      "        [1, 1, 1,  ..., 0, 0, 0],\n",
      "        [1, 1, 1,  ..., 0, 0, 0]])}\n",
      "{'label': tensor([0, 0, 1, 1, 0, 1, 0, 0, 1, 0, 1, 0, 1, 0, 0, 1]), 'input_ids': tensor([[  101,  1030,  5310,  ...,     0,     0,     0],\n",
      "        [  101,  1001,  6396,  ...,     0,     0,     0],\n",
      "        [  101, 18342, 16674,  ...,     0,     0,     0],\n",
      "        ...,\n",
      "        [  101,  3648,  2006,  ...,     0,     0,     0],\n",
      "        [  101,  1030,  5310,  ...,     0,     0,     0],\n",
      "        [  101,  6206, 11560,  ...,     0,     0,     0]]), 'attention_mask': tensor([[1, 1, 1,  ..., 0, 0, 0],\n",
      "        [1, 1, 1,  ..., 0, 0, 0],\n",
      "        [1, 1, 1,  ..., 0, 0, 0],\n",
      "        ...,\n",
      "        [1, 1, 1,  ..., 0, 0, 0],\n",
      "        [1, 1, 1,  ..., 0, 0, 0],\n",
      "        [1, 1, 1,  ..., 0, 0, 0]])}\n",
      "{'label': tensor([0, 0, 1, 1, 0, 1, 1, 0, 1, 0, 0, 0, 1, 0, 0, 1]), 'input_ids': tensor([[  101,  2043,  2017,  ...,     0,     0,     0],\n",
      "        [  101, 10307,  1521,  ...,     0,     0,     0],\n",
      "        [  101,  9042, 20731,  ...,     0,     0,     0],\n",
      "        ...,\n",
      "        [  101,  1030,  5310,  ...,     0,     0,     0],\n",
      "        [  101,  1996,  5755,  ...,     0,     0,     0],\n",
      "        [  101,  1030,  5310,  ...,     0,     0,     0]]), 'attention_mask': tensor([[1, 1, 1,  ..., 0, 0, 0],\n",
      "        [1, 1, 1,  ..., 0, 0, 0],\n",
      "        [1, 1, 1,  ..., 0, 0, 0],\n",
      "        ...,\n",
      "        [1, 1, 1,  ..., 0, 0, 0],\n",
      "        [1, 1, 1,  ..., 0, 0, 0],\n",
      "        [1, 1, 1,  ..., 0, 0, 0]])}\n",
      "{'label': tensor([0, 0, 0, 1, 0, 0, 0, 1, 1, 1, 1, 0, 1, 1, 0, 0]), 'input_ids': tensor([[  101,  1996, 28616,  ...,     0,     0,     0],\n",
      "        [  101,  4895,  1001,  ...,     0,     0,     0],\n",
      "        [  101,  2016, 13010,  ...,     0,     0,     0],\n",
      "        ...,\n",
      "        [  101,  1030,  5310,  ...,     0,     0,     0],\n",
      "        [  101,  7327,  2003,  ...,     0,     0,     0],\n",
      "        [  101,  2437,  4569,  ...,     0,     0,     0]]), 'attention_mask': tensor([[1, 1, 1,  ..., 0, 0, 0],\n",
      "        [1, 1, 1,  ..., 0, 0, 0],\n",
      "        [1, 1, 1,  ..., 0, 0, 0],\n",
      "        ...,\n",
      "        [1, 1, 1,  ..., 0, 0, 0],\n",
      "        [1, 1, 1,  ..., 0, 0, 0],\n",
      "        [1, 1, 1,  ..., 0, 0, 0]])}\n",
      "{'label': tensor([1, 0, 0, 1, 0, 0, 0, 0, 1, 0, 1, 0, 0, 1, 0, 1]), 'input_ids': tensor([[  101,  1030,  5310,  ...,     0,     0,     0],\n",
      "        [  101,  2123,  1005,  ...,     0,     0,     0],\n",
      "        [  101,  1045,  2572,  ...,     0,     0,     0],\n",
      "        ...,\n",
      "        [  101,  2347,  2102,  ...,     0,     0,     0],\n",
      "        [  101, 20976, 20976,  ...,     0,     0,     0],\n",
      "        [  101,  1030,  5310,  ...,     0,     0,     0]]), 'attention_mask': tensor([[1, 1, 1,  ..., 0, 0, 0],\n",
      "        [1, 1, 1,  ..., 0, 0, 0],\n",
      "        [1, 1, 1,  ..., 0, 0, 0],\n",
      "        ...,\n",
      "        [1, 1, 1,  ..., 0, 0, 0],\n",
      "        [1, 1, 1,  ..., 0, 0, 0],\n",
      "        [1, 1, 1,  ..., 0, 0, 0]])}\n",
      "{'label': tensor([0, 0, 1, 1, 1, 0, 0, 0, 0, 0, 0, 1, 0, 1, 0, 0]), 'input_ids': tensor([[  101,  2033,  2667,  ...,     0,     0,     0],\n",
      "        [  101,  4459,  4679,  ...,     0,     0,     0],\n",
      "        [  101,  2003,  2045,  ...,     0,     0,     0],\n",
      "        ...,\n",
      "        [  101,  2129,  2079,  ...,     0,     0,     0],\n",
      "        [  101, 14870,  2015,  ...,     0,     0,     0],\n",
      "        [  101,  2446,  2231,  ...,     0,     0,     0]]), 'attention_mask': tensor([[1, 1, 1,  ..., 0, 0, 0],\n",
      "        [1, 1, 1,  ..., 0, 0, 0],\n",
      "        [1, 1, 1,  ..., 0, 0, 0],\n",
      "        ...,\n",
      "        [1, 1, 1,  ..., 0, 0, 0],\n",
      "        [1, 1, 1,  ..., 0, 0, 0],\n",
      "        [1, 1, 1,  ..., 0, 0, 0]])}\n",
      "{'label': tensor([1, 0, 1, 0, 0, 0, 0, 0, 1, 0, 0, 0, 0, 0, 1, 0]), 'input_ids': tensor([[  101,  1030,  5310,  ...,     0,     0,     0],\n",
      "        [  101,  3962,  8757,  ...,     0,     0,     0],\n",
      "        [  101,  2073,  2024,  ...,     0,     0,     0],\n",
      "        ...,\n",
      "        [  101,  8398, 27128,  ...,     0,     0,     0],\n",
      "        [  101, 20661,  2355,  ...,     0,     0,     0],\n",
      "        [  101,  1030,  5310,  ...,     0,     0,     0]]), 'attention_mask': tensor([[1, 1, 1,  ..., 0, 0, 0],\n",
      "        [1, 1, 1,  ..., 0, 0, 0],\n",
      "        [1, 1, 1,  ..., 0, 0, 0],\n",
      "        ...,\n",
      "        [1, 1, 1,  ..., 0, 0, 0],\n",
      "        [1, 1, 1,  ..., 0, 0, 0],\n",
      "        [1, 1, 1,  ..., 0, 0, 0]])}\n",
      "{'label': tensor([0, 1, 0, 1, 0, 0, 0, 1, 1, 1, 1, 0, 0, 0, 0, 1]), 'input_ids': tensor([[ 101, 5661, 2323,  ...,    0,    0,    0],\n",
      "        [ 101, 2123, 1005,  ...,    0,    0,    0],\n",
      "        [ 101, 1001, 7327,  ...,    0,    0,    0],\n",
      "        ...,\n",
      "        [ 101, 4931, 3337,  ...,    0,    0,    0],\n",
      "        [ 101, 4602, 5081,  ...,    0,    0,    0],\n",
      "        [ 101, 2054, 2079,  ...,    0,    0,    0]]), 'attention_mask': tensor([[1, 1, 1,  ..., 0, 0, 0],\n",
      "        [1, 1, 1,  ..., 0, 0, 0],\n",
      "        [1, 1, 1,  ..., 0, 0, 0],\n",
      "        ...,\n",
      "        [1, 1, 1,  ..., 0, 0, 0],\n",
      "        [1, 1, 1,  ..., 0, 0, 0],\n",
      "        [1, 1, 1,  ..., 0, 0, 0]])}\n",
      "{'label': tensor([0, 1, 1, 1, 0, 1, 0, 1, 0, 0, 0, 0, 1, 0, 0, 0]), 'input_ids': tensor([[ 101, 2074, 2058,  ...,    0,    0,    0],\n",
      "        [ 101, 4911, 1024,  ...,    0,    0,    0],\n",
      "        [ 101, 1030, 5310,  ...,    0,    0,    0],\n",
      "        ...,\n",
      "        [ 101, 1001, 2202,  ...,    0,    0,    0],\n",
      "        [ 101, 1030, 5310,  ...,    0,    0,    0],\n",
      "        [ 101, 2106, 2017,  ...,    0,    0,    0]]), 'attention_mask': tensor([[1, 1, 1,  ..., 0, 0, 0],\n",
      "        [1, 1, 1,  ..., 0, 0, 0],\n",
      "        [1, 1, 1,  ..., 0, 0, 0],\n",
      "        ...,\n",
      "        [1, 1, 1,  ..., 0, 0, 0],\n",
      "        [1, 1, 1,  ..., 0, 0, 0],\n",
      "        [1, 1, 1,  ..., 0, 0, 0]])}\n",
      "{'label': tensor([1, 1, 0, 0, 1, 0, 1, 0, 1, 0, 1, 1, 0, 0, 1, 0]), 'input_ids': tensor([[ 101, 2202, 2014,  ...,    0,    0,    0],\n",
      "        [ 101, 7490, 7486,  ...,    0,    0,    0],\n",
      "        [ 101, 1030, 5310,  ...,    0,    0,    0],\n",
      "        ...,\n",
      "        [ 101, 1030, 5310,  ...,    0,    0,    0],\n",
      "        [ 101, 1030, 5310,  ...,    0,    0,    0],\n",
      "        [ 101, 1030, 5310,  ...,    0,    0,    0]]), 'attention_mask': tensor([[1, 1, 1,  ..., 0, 0, 0],\n",
      "        [1, 1, 1,  ..., 0, 0, 0],\n",
      "        [1, 1, 1,  ..., 0, 0, 0],\n",
      "        ...,\n",
      "        [1, 1, 1,  ..., 0, 0, 0],\n",
      "        [1, 1, 1,  ..., 0, 0, 0],\n",
      "        [1, 1, 1,  ..., 0, 0, 0]])}\n",
      "{'label': tensor([0, 0, 0, 1, 1, 0, 1, 1, 0, 1, 0, 0, 1, 0, 0, 0]), 'input_ids': tensor([[  101,  3422,  1024,  ...,     0,     0,     0],\n",
      "        [  101,  1030,  5310,  ...,     0,     0,     0],\n",
      "        [  101,  2657,  2505,  ...,     0,     0,     0],\n",
      "        ...,\n",
      "        [  101,  2005,  8711,  ...,     0,     0,     0],\n",
      "        [  101,  8956, 11560,  ...,     0,     0,     0],\n",
      "        [  101, 10800,  2005,  ...,     0,     0,     0]]), 'attention_mask': tensor([[1, 1, 1,  ..., 0, 0, 0],\n",
      "        [1, 1, 1,  ..., 0, 0, 0],\n",
      "        [1, 1, 1,  ..., 0, 0, 0],\n",
      "        ...,\n",
      "        [1, 1, 1,  ..., 0, 0, 0],\n",
      "        [1, 1, 1,  ..., 0, 0, 0],\n",
      "        [1, 1, 1,  ..., 0, 0, 0]])}\n",
      "{'label': tensor([1, 0, 0, 1, 0, 0, 1, 1, 1, 0, 0, 1, 0, 0, 1, 0]), 'input_ids': tensor([[  101,  1045,  2215,  ...,     0,     0,     0],\n",
      "        [  101,  7327, 11618,  ...,     0,     0,     0],\n",
      "        [  101,  2061,  2339,  ...,     0,     0,     0],\n",
      "        ...,\n",
      "        [  101,  1030,  5310,  ...,     0,     0,     0],\n",
      "        [  101,  2748,  2057,  ...,     0,     0,     0],\n",
      "        [  101,  1996,  2047,  ...,     0,     0,     0]]), 'attention_mask': tensor([[1, 1, 1,  ..., 0, 0, 0],\n",
      "        [1, 1, 1,  ..., 0, 0, 0],\n",
      "        [1, 1, 1,  ..., 0, 0, 0],\n",
      "        ...,\n",
      "        [1, 1, 1,  ..., 0, 0, 0],\n",
      "        [1, 1, 1,  ..., 0, 0, 0],\n",
      "        [1, 1, 1,  ..., 0, 0, 0]])}\n",
      "{'label': tensor([0, 1, 0, 0, 0, 0, 0, 0, 0, 0, 0, 1, 1, 0, 0, 0]), 'input_ids': tensor([[  101,  1030,  5310,  ...,     0,     0,     0],\n",
      "        [  101,  5365,  2308,  ...,     0,     0,     0],\n",
      "        [  101, 10006,  4875,  ...,     0,     0,     0],\n",
      "        ...,\n",
      "        [  101,  2006,  1022,  ...,     0,     0,     0],\n",
      "        [  101,  2228,  1001,  ...,     0,     0,     0],\n",
      "        [  101,  1030,  5310,  ...,     0,     0,     0]]), 'attention_mask': tensor([[1, 1, 1,  ..., 0, 0, 0],\n",
      "        [1, 1, 1,  ..., 0, 0, 0],\n",
      "        [1, 1, 1,  ..., 0, 0, 0],\n",
      "        ...,\n",
      "        [1, 1, 1,  ..., 0, 0, 0],\n",
      "        [1, 1, 1,  ..., 0, 0, 0],\n",
      "        [1, 1, 1,  ..., 0, 0, 0]])}\n",
      "{'label': tensor([1, 1, 0, 0, 0, 1, 1, 1, 0, 1, 1, 1, 0, 0, 1, 0]), 'input_ids': tensor([[ 101, 7489, 2323,  ...,    0,    0,    0],\n",
      "        [ 101, 2016, 1521,  ...,    0,    0,    0],\n",
      "        [ 101, 1030, 5310,  ...,    0,    0,    0],\n",
      "        ...,\n",
      "        [ 101, 1996, 8711,  ...,    0,    0,    0],\n",
      "        [ 101, 2123, 1005,  ...,    0,    0,    0],\n",
      "        [ 101, 2027, 2036,  ...,    0,    0,    0]]), 'attention_mask': tensor([[1, 1, 1,  ..., 0, 0, 0],\n",
      "        [1, 1, 1,  ..., 0, 0, 0],\n",
      "        [1, 1, 1,  ..., 0, 0, 0],\n",
      "        ...,\n",
      "        [1, 1, 1,  ..., 0, 0, 0],\n",
      "        [1, 1, 1,  ..., 0, 0, 0],\n",
      "        [1, 1, 1,  ..., 0, 0, 0]])}\n",
      "{'label': tensor([0, 0, 0, 1, 0, 0, 1, 0, 1, 0, 1, 1, 1, 1, 0, 0]), 'input_ids': tensor([[ 101, 1030, 5310,  ...,    0,    0,    0],\n",
      "        [ 101, 3679, 2147,  ...,    0,    0,    0],\n",
      "        [ 101, 3100, 2100,  ...,    0,    0,    0],\n",
      "        ...,\n",
      "        [ 101, 1030, 5310,  ...,    0,    0,    0],\n",
      "        [ 101, 2383, 1037,  ...,    0,    0,    0],\n",
      "        [ 101, 1996, 5166,  ...,    0,    0,    0]]), 'attention_mask': tensor([[1, 1, 1,  ..., 0, 0, 0],\n",
      "        [1, 1, 1,  ..., 0, 0, 0],\n",
      "        [1, 1, 1,  ..., 0, 0, 0],\n",
      "        ...,\n",
      "        [1, 1, 1,  ..., 0, 0, 0],\n",
      "        [1, 1, 1,  ..., 0, 0, 0],\n",
      "        [1, 1, 1,  ..., 0, 0, 0]])}\n",
      "{'label': tensor([1, 0, 1, 0, 0, 0, 1, 0, 1, 1, 0, 0, 1, 0, 1, 0]), 'input_ids': tensor([[  101,  1030,  5310,  ...,     0,     0,     0],\n",
      "        [  101,  2074,  2356,  ...,     0,     0,     0],\n",
      "        [  101,  7188,  1045,  ...,     0,     0,     0],\n",
      "        ...,\n",
      "        [  101, 12058,  1999,  ...,     0,     0,     0],\n",
      "        [  101,  1030,  5310,  ...,     0,     0,     0],\n",
      "        [  101,  2188,  2003,  ...,     0,     0,     0]]), 'attention_mask': tensor([[1, 1, 1,  ..., 0, 0, 0],\n",
      "        [1, 1, 1,  ..., 0, 0, 0],\n",
      "        [1, 1, 1,  ..., 0, 0, 0],\n",
      "        ...,\n",
      "        [1, 1, 1,  ..., 0, 0, 0],\n",
      "        [1, 1, 1,  ..., 0, 0, 0],\n",
      "        [1, 1, 1,  ..., 0, 0, 0]])}\n",
      "{'label': tensor([1, 0, 0, 0, 0, 0, 1, 1, 1, 1, 0, 0, 0, 1, 1, 0]), 'input_ids': tensor([[ 101, 3422, 1998,  ...,    0,    0,    0],\n",
      "        [ 101, 2088, 2924,  ...,    0,    0,    0],\n",
      "        [ 101, 4471, 2033,  ...,    0,    0,    0],\n",
      "        ...,\n",
      "        [ 101, 2028, 2064,  ...,    0,    0,    0],\n",
      "        [ 101, 1030, 5310,  ...,    0,    0,    0],\n",
      "        [ 101, 1030, 5310,  ...,    0,    0,    0]]), 'attention_mask': tensor([[1, 1, 1,  ..., 0, 0, 0],\n",
      "        [1, 1, 1,  ..., 0, 0, 0],\n",
      "        [1, 1, 1,  ..., 0, 0, 0],\n",
      "        ...,\n",
      "        [1, 1, 1,  ..., 0, 0, 0],\n",
      "        [1, 1, 1,  ..., 0, 0, 0],\n",
      "        [1, 1, 1,  ..., 0, 0, 0]])}\n",
      "{'label': tensor([1, 0, 1, 1, 0, 0, 0, 0, 0, 0, 1, 0, 0, 0, 1, 1]), 'input_ids': tensor([[  101,  1030,  5310,  ...,     0,     0,     0],\n",
      "        [  101,  3422,  2026,  ...,     0,     0,     0],\n",
      "        [  101,  7743,  2229,  ...,     0,     0,     0],\n",
      "        ...,\n",
      "        [  101,  1996,  3595,  ...,     0,     0,     0],\n",
      "        [  101,  2017,  2659,  ...,     0,     0,     0],\n",
      "        [  101,  2053, 10048,  ...,     0,     0,     0]]), 'attention_mask': tensor([[1, 1, 1,  ..., 0, 0, 0],\n",
      "        [1, 1, 1,  ..., 0, 0, 0],\n",
      "        [1, 1, 1,  ..., 0, 0, 0],\n",
      "        ...,\n",
      "        [1, 1, 1,  ..., 0, 0, 0],\n",
      "        [1, 1, 1,  ..., 0, 0, 0],\n",
      "        [1, 1, 1,  ..., 0, 0, 0]])}\n",
      "{'label': tensor([1, 1, 0, 1, 1, 0, 0, 0, 0, 1, 1, 0, 1, 0, 0, 0]), 'input_ids': tensor([[  101,  1030,  5310,  ...,     0,     0,     0],\n",
      "        [  101,  1996,  2175,  ...,     0,     0,     0],\n",
      "        [  101,  1059, 24475,  ...,     0,     0,     0],\n",
      "        ...,\n",
      "        [  101,  2762,  2000,  ...,     0,     0,     0],\n",
      "        [  101, 15101, 20731,  ...,     0,     0,     0],\n",
      "        [  101,  2025,  2035,  ...,     0,     0,     0]]), 'attention_mask': tensor([[1, 1, 1,  ..., 0, 0, 0],\n",
      "        [1, 1, 1,  ..., 0, 0, 0],\n",
      "        [1, 1, 1,  ..., 0, 0, 0],\n",
      "        ...,\n",
      "        [1, 1, 1,  ..., 0, 0, 0],\n",
      "        [1, 1, 1,  ..., 0, 0, 0],\n",
      "        [1, 1, 1,  ..., 0, 0, 0]])}\n",
      "{'label': tensor([0, 0, 0, 0, 0, 1, 0, 1, 1, 0, 0, 1, 0, 1, 0, 1]), 'input_ids': tensor([[ 101, 1001, 3795,  ...,    0,    0,    0],\n",
      "        [ 101, 2450, 2040,  ...,    0,    0,    0],\n",
      "        [ 101, 2307, 2742,  ...,    0,    0,    0],\n",
      "        ...,\n",
      "        [ 101, 2002, 2001,  ...,    0,    0,    0],\n",
      "        [ 101, 2748, 1010,  ...,    0,    0,    0],\n",
      "        [ 101, 1996, 2329,  ...,    0,    0,    0]]), 'attention_mask': tensor([[1, 1, 1,  ..., 0, 0, 0],\n",
      "        [1, 1, 1,  ..., 0, 0, 0],\n",
      "        [1, 1, 1,  ..., 0, 0, 0],\n",
      "        ...,\n",
      "        [1, 1, 1,  ..., 0, 0, 0],\n",
      "        [1, 1, 1,  ..., 0, 0, 0],\n",
      "        [1, 1, 1,  ..., 0, 0, 0]])}\n",
      "{'label': tensor([0, 0, 1, 0, 0, 0, 0, 0, 0, 1, 0, 0, 0, 0, 0, 0]), 'input_ids': tensor([[ 101, 1030, 5310,  ...,    0,    0,    0],\n",
      "        [ 101, 1030, 5310,  ...,    0,    0,    0],\n",
      "        [ 101, 1030, 5310,  ...,    0,    0,    0],\n",
      "        ...,\n",
      "        [ 101, 1030, 5310,  ...,    0,    0,    0],\n",
      "        [ 101, 1045, 2074,  ...,    0,    0,    0],\n",
      "        [ 101, 2388, 1011,  ...,    0,    0,    0]]), 'attention_mask': tensor([[1, 1, 1,  ..., 0, 0, 0],\n",
      "        [1, 1, 1,  ..., 0, 0, 0],\n",
      "        [1, 1, 1,  ..., 0, 0, 0],\n",
      "        ...,\n",
      "        [1, 1, 1,  ..., 0, 0, 0],\n",
      "        [1, 1, 1,  ..., 0, 0, 0],\n",
      "        [1, 1, 1,  ..., 0, 0, 0]])}\n",
      "{'label': tensor([0, 1, 0, 0, 0, 1, 1, 1, 1, 1, 0, 1, 1, 1, 0, 1]), 'input_ids': tensor([[ 101, 1001, 5472,  ...,    0,    0,    0],\n",
      "        [ 101, 1030, 5310,  ...,    0,    0,    0],\n",
      "        [ 101, 2043, 1045,  ...,    0,    0,    0],\n",
      "        ...,\n",
      "        [ 101, 8660, 2013,  ...,    0,    0,    0],\n",
      "        [ 101, 2017, 2187,  ...,    0,    0,    0],\n",
      "        [ 101, 1030, 5310,  ...,    0,    0,    0]]), 'attention_mask': tensor([[1, 1, 1,  ..., 0, 0, 0],\n",
      "        [1, 1, 1,  ..., 0, 0, 0],\n",
      "        [1, 1, 1,  ..., 0, 0, 0],\n",
      "        ...,\n",
      "        [1, 1, 1,  ..., 0, 0, 0],\n",
      "        [1, 1, 1,  ..., 0, 0, 0],\n",
      "        [1, 1, 1,  ..., 0, 0, 0]])}\n",
      "{'label': tensor([0, 1, 0, 0, 1, 1, 1, 1, 0, 0, 1, 0, 1, 0, 0, 1]), 'input_ids': tensor([[  101,  8183, 10265,  ...,     0,     0,     0],\n",
      "        [  101,  1012,  1030,  ...,     0,     0,     0],\n",
      "        [  101,  1030,  5310,  ...,     0,     0,     0],\n",
      "        ...,\n",
      "        [  101,  3146,  2038,  ...,     0,     0,     0],\n",
      "        [  101,  1030,  5310,  ...,     0,     0,     0],\n",
      "        [  101,  2054,  1005,  ...,     0,     0,     0]]), 'attention_mask': tensor([[1, 1, 1,  ..., 0, 0, 0],\n",
      "        [1, 1, 1,  ..., 0, 0, 0],\n",
      "        [1, 1, 1,  ..., 0, 0, 0],\n",
      "        ...,\n",
      "        [1, 1, 1,  ..., 0, 0, 0],\n",
      "        [1, 1, 1,  ..., 0, 0, 0],\n",
      "        [1, 1, 1,  ..., 0, 0, 0]])}\n",
      "{'label': tensor([1, 1, 0, 1, 0, 0, 1, 0, 0, 0, 0, 0, 0, 0, 0, 0]), 'input_ids': tensor([[ 101, 1045, 2123,  ...,    0,    0,    0],\n",
      "        [ 101, 3338, 2039,  ...,    0,    0,    0],\n",
      "        [ 101, 1001, 2088,  ...,    0,    0,    0],\n",
      "        ...,\n",
      "        [ 101, 2183, 2000,  ...,    0,    0,    0],\n",
      "        [ 101, 1996, 1001,  ...,    0,    0,    0],\n",
      "        [ 101, 2065, 2017,  ...,    0,    0,    0]]), 'attention_mask': tensor([[1, 1, 1,  ..., 0, 0, 0],\n",
      "        [1, 1, 1,  ..., 0, 0, 0],\n",
      "        [1, 1, 1,  ..., 0, 0, 0],\n",
      "        ...,\n",
      "        [1, 1, 1,  ..., 0, 0, 0],\n",
      "        [1, 1, 1,  ..., 0, 0, 0],\n",
      "        [1, 1, 1,  ..., 0, 0, 0]])}\n",
      "{'label': tensor([1, 0, 1, 0, 0, 0, 1, 0, 0, 1, 0, 0, 1, 0, 1, 0]), 'input_ids': tensor([[ 101, 1030, 5310,  ...,    0,    0,    0],\n",
      "        [ 101, 2023, 2003,  ...,    0,    0,    0],\n",
      "        [ 101, 7570, 2229,  ...,    0,    0,    0],\n",
      "        ...,\n",
      "        [ 101, 2045, 2009,  ...,    0,    0,    0],\n",
      "        [ 101, 2007, 2651,  ...,    0,    0,    0],\n",
      "        [ 101, 2551, 2006,  ...,    0,    0,    0]]), 'attention_mask': tensor([[1, 1, 1,  ..., 0, 0, 0],\n",
      "        [1, 1, 1,  ..., 0, 0, 0],\n",
      "        [1, 1, 1,  ..., 0, 0, 0],\n",
      "        ...,\n",
      "        [1, 1, 1,  ..., 0, 0, 0],\n",
      "        [1, 1, 1,  ..., 0, 0, 0],\n",
      "        [1, 1, 1,  ..., 0, 0, 0]])}\n",
      "{'label': tensor([1, 1, 1, 0, 0, 1, 0, 0, 1, 1, 1, 0, 1, 0, 1, 1]), 'input_ids': tensor([[ 101, 4638, 2023,  ...,    0,    0,    0],\n",
      "        [ 101, 4604, 4471,  ...,    0,    0,    0],\n",
      "        [ 101, 1030, 5310,  ...,    0,    0,    0],\n",
      "        ...,\n",
      "        [ 101, 2182, 2024,  ...,    0,    0,    0],\n",
      "        [ 101, 1001, 2106,  ...,    0,    0,    0],\n",
      "        [ 101, 2139, 6442,  ...,    0,    0,    0]]), 'attention_mask': tensor([[1, 1, 1,  ..., 0, 0, 0],\n",
      "        [1, 1, 1,  ..., 0, 0, 0],\n",
      "        [1, 1, 1,  ..., 0, 0, 0],\n",
      "        ...,\n",
      "        [1, 1, 1,  ..., 0, 0, 0],\n",
      "        [1, 1, 1,  ..., 0, 0, 0],\n",
      "        [1, 1, 1,  ..., 0, 0, 0]])}\n",
      "{'label': tensor([1, 0, 1, 1, 1, 0, 1, 0, 0, 0, 0, 0, 0, 0, 1, 0]), 'input_ids': tensor([[  101,  2339,  8440,  ...,     0,     0,     0],\n",
      "        [  101,  1030,  5310,  ...,     0,     0,     0],\n",
      "        [  101,  1030,  5310,  ...,     0,     0,     0],\n",
      "        ...,\n",
      "        [  101,  2009,  1521,  ...,     0,     0,     0],\n",
      "        [  101,  1030,  5310,  ...,     0,     0,     0],\n",
      "        [  101, 10469,  2015,  ...,     0,     0,     0]]), 'attention_mask': tensor([[1, 1, 1,  ..., 0, 0, 0],\n",
      "        [1, 1, 1,  ..., 0, 0, 0],\n",
      "        [1, 1, 1,  ..., 0, 0, 0],\n",
      "        ...,\n",
      "        [1, 1, 1,  ..., 0, 0, 0],\n",
      "        [1, 1, 1,  ..., 0, 0, 0],\n",
      "        [1, 1, 1,  ..., 0, 0, 0]])}\n",
      "{'label': tensor([1, 0, 0, 1, 1, 1, 0, 0, 0, 0, 1, 1, 0, 1, 0, 0]), 'input_ids': tensor([[ 101, 2339, 1001,  ...,    0,    0,    0],\n",
      "        [ 101, 2767, 1011,  ...,    0,    0,    0],\n",
      "        [ 101, 8711, 1010,  ...,    0,    0,    0],\n",
      "        ...,\n",
      "        [ 101, 1030, 5310,  ...,    0,    0,    0],\n",
      "        [ 101, 2023, 2095,  ...,    0,    0,    0],\n",
      "        [ 101, 2197, 2051,  ...,    0,    0,    0]]), 'attention_mask': tensor([[1, 1, 1,  ..., 0, 0, 0],\n",
      "        [1, 1, 1,  ..., 0, 0, 0],\n",
      "        [1, 1, 1,  ..., 0, 0, 0],\n",
      "        ...,\n",
      "        [1, 1, 1,  ..., 0, 0, 0],\n",
      "        [1, 1, 1,  ..., 0, 0, 0],\n",
      "        [1, 1, 1,  ..., 0, 0, 0]])}\n",
      "{'label': tensor([0, 1, 1, 0, 1, 1, 0, 0, 0, 1, 1, 1, 0, 1, 1, 1]), 'input_ids': tensor([[  101,  9040,  1998,  ...,     0,     0,     0],\n",
      "        [  101, 21500,  2015,  ...,     0,     0,     0],\n",
      "        [  101,  1030,  5310,  ...,     0,     0,     0],\n",
      "        ...,\n",
      "        [  101,  1030,  5310,  ...,     0,     0,     0],\n",
      "        [  101,  1030,  5310,  ...,     0,     0,     0],\n",
      "        [  101, 19387,  1030,  ...,     0,     0,     0]]), 'attention_mask': tensor([[1, 1, 1,  ..., 0, 0, 0],\n",
      "        [1, 1, 1,  ..., 0, 0, 0],\n",
      "        [1, 1, 1,  ..., 0, 0, 0],\n",
      "        ...,\n",
      "        [1, 1, 1,  ..., 0, 0, 0],\n",
      "        [1, 1, 1,  ..., 0, 0, 0],\n",
      "        [1, 1, 1,  ..., 0, 0, 0]])}\n",
      "{'label': tensor([0, 1, 1, 0, 0, 1, 0, 1, 1, 0, 0, 1, 0, 1, 0, 0]), 'input_ids': tensor([[ 101, 1030, 5310,  ...,    0,    0,    0],\n",
      "        [ 101, 1030, 5310,  ...,    0,    0,    0],\n",
      "        [ 101, 1030, 5310,  ...,    0,    0,    0],\n",
      "        ...,\n",
      "        [ 101, 2017, 1005,  ...,    0,    0,    0],\n",
      "        [ 101, 1996, 5432,  ...,    0,    0,    0],\n",
      "        [ 101, 1001, 3951,  ...,    0,    0,    0]]), 'attention_mask': tensor([[1, 1, 1,  ..., 0, 0, 0],\n",
      "        [1, 1, 1,  ..., 0, 0, 0],\n",
      "        [1, 1, 1,  ..., 0, 0, 0],\n",
      "        ...,\n",
      "        [1, 1, 1,  ..., 0, 0, 0],\n",
      "        [1, 1, 1,  ..., 0, 0, 0],\n",
      "        [1, 1, 1,  ..., 0, 0, 0]])}\n",
      "{'label': tensor([0, 1, 1, 0, 0, 1, 1, 1, 0, 1, 0, 1, 1, 0, 1, 1]), 'input_ids': tensor([[ 101, 2043, 2017,  ...,    0,    0,    0],\n",
      "        [ 101, 2515, 2002,  ...,    0,    0,    0],\n",
      "        [ 101, 1030, 5310,  ...,    0,    0,    0],\n",
      "        ...,\n",
      "        [ 101, 1030, 5310,  ...,    0,    0,    0],\n",
      "        [ 101, 2821, 2204,  ...,    0,    0,    0],\n",
      "        [ 101, 1030, 5310,  ...,    0,    0,    0]]), 'attention_mask': tensor([[1, 1, 1,  ..., 0, 0, 0],\n",
      "        [1, 1, 1,  ..., 0, 0, 0],\n",
      "        [1, 1, 1,  ..., 0, 0, 0],\n",
      "        ...,\n",
      "        [1, 1, 1,  ..., 0, 0, 0],\n",
      "        [1, 1, 1,  ..., 0, 0, 0],\n",
      "        [1, 1, 1,  ..., 0, 0, 0]])}\n",
      "{'label': tensor([0, 0, 0, 0, 0, 1, 0, 0, 0, 0, 1, 0, 1, 0, 0, 1]), 'input_ids': tensor([[ 101, 2043, 1045,  ...,    0,    0,    0],\n",
      "        [ 101, 1030, 5310,  ...,    0,    0,    0],\n",
      "        [ 101, 1030, 5310,  ...,    0,    0,    0],\n",
      "        ...,\n",
      "        [ 101, 1045, 5223,  ...,    0,    0,    0],\n",
      "        [ 101, 2043, 2017,  ...,    0,    0,    0],\n",
      "        [ 101, 1045, 2123,  ...,    0,    0,    0]]), 'attention_mask': tensor([[1, 1, 1,  ..., 0, 0, 0],\n",
      "        [1, 1, 1,  ..., 0, 0, 0],\n",
      "        [1, 1, 1,  ..., 0, 0, 0],\n",
      "        ...,\n",
      "        [1, 1, 1,  ..., 0, 0, 0],\n",
      "        [1, 1, 1,  ..., 0, 0, 0],\n",
      "        [1, 1, 1,  ..., 0, 0, 0]])}\n",
      "{'label': tensor([1, 0, 0, 0, 1, 0, 0, 1, 1, 0, 0, 0, 0, 0, 0, 1]), 'input_ids': tensor([[ 101, 1030, 5310,  ...,    0,    0,    0],\n",
      "        [ 101, 3088, 2442,  ...,    0,    0,    0],\n",
      "        [ 101, 2292, 1521,  ...,    0,    0,    0],\n",
      "        ...,\n",
      "        [ 101, 2678, 1011,  ...,    0,    0,    0],\n",
      "        [ 101, 2296, 2028,  ...,    0,    0,    0],\n",
      "        [ 101, 1030, 5310,  ...,    0,    0,    0]]), 'attention_mask': tensor([[1, 1, 1,  ..., 0, 0, 0],\n",
      "        [1, 1, 1,  ..., 0, 0, 0],\n",
      "        [1, 1, 1,  ..., 0, 0, 0],\n",
      "        ...,\n",
      "        [1, 1, 1,  ..., 0, 0, 0],\n",
      "        [1, 1, 1,  ..., 0, 0, 0],\n",
      "        [1, 1, 1,  ..., 0, 0, 0]])}\n",
      "{'label': tensor([0, 0, 1, 0, 0, 1, 1, 0, 0, 0, 0, 0, 1, 0, 0, 1]), 'input_ids': tensor([[  101,  1030,  5310,  ...,     0,     0,     0],\n",
      "        [  101,  1996,  2940,  ...,     0,     0,     0],\n",
      "        [  101,  1030,  5310,  ...,     0,     0,     0],\n",
      "        ...,\n",
      "        [  101,  8398, 25316,  ...,     0,     0,     0],\n",
      "        [  101,  2054,  2020,  ...,     0,     0,     0],\n",
      "        [  101,  2644,  4214,  ...,     0,     0,     0]]), 'attention_mask': tensor([[1, 1, 1,  ..., 0, 0, 0],\n",
      "        [1, 1, 1,  ..., 0, 0, 0],\n",
      "        [1, 1, 1,  ..., 0, 0, 0],\n",
      "        ...,\n",
      "        [1, 1, 1,  ..., 0, 0, 0],\n",
      "        [1, 1, 1,  ..., 0, 0, 0],\n",
      "        [1, 1, 1,  ..., 0, 0, 0]])}\n",
      "{'label': tensor([1, 1, 0, 1, 0, 1, 1, 1, 1, 0, 0, 1, 0, 0, 1, 0]), 'input_ids': tensor([[ 101, 1030, 5310,  ...,    0,    0,    0],\n",
      "        [ 101, 1030, 1996,  ...,    0,    0,    0],\n",
      "        [ 101, 1030, 5310,  ...,    0,    0,    0],\n",
      "        ...,\n",
      "        [ 101, 2025, 2035,  ...,    0,    0,    0],\n",
      "        [ 101, 2004, 2146,  ...,    0,    0,    0],\n",
      "        [ 101, 2129, 3435,  ...,    0,    0,    0]]), 'attention_mask': tensor([[1, 1, 1,  ..., 0, 0, 0],\n",
      "        [1, 1, 1,  ..., 0, 0, 0],\n",
      "        [1, 1, 1,  ..., 0, 0, 0],\n",
      "        ...,\n",
      "        [1, 1, 1,  ..., 0, 0, 0],\n",
      "        [1, 1, 1,  ..., 0, 0, 0],\n",
      "        [1, 1, 1,  ..., 0, 0, 0]])}\n",
      "{'label': tensor([0, 1, 0, 1, 1, 0, 0, 0, 0, 0, 1, 1, 1, 0, 1, 0]), 'input_ids': tensor([[ 101, 1030, 5310,  ...,    0,    0,    0],\n",
      "        [ 101, 1030, 5310,  ...,    0,    0,    0],\n",
      "        [ 101, 8801, 2013,  ...,    0,    0,    0],\n",
      "        ...,\n",
      "        [ 101, 2053, 8135,  ...,    0,    0,    0],\n",
      "        [ 101, 8037, 1010,  ...,    0,    0,    0],\n",
      "        [ 101, 1030, 5310,  ...,    0,    0,    0]]), 'attention_mask': tensor([[1, 1, 1,  ..., 0, 0, 0],\n",
      "        [1, 1, 1,  ..., 0, 0, 0],\n",
      "        [1, 1, 1,  ..., 0, 0, 0],\n",
      "        ...,\n",
      "        [1, 1, 1,  ..., 0, 0, 0],\n",
      "        [1, 1, 1,  ..., 0, 0, 0],\n",
      "        [1, 1, 1,  ..., 0, 0, 0]])}\n",
      "{'label': tensor([1, 0, 0, 0, 0, 0, 1, 0, 0, 0, 0, 0, 1, 0, 0, 0]), 'input_ids': tensor([[  101,  1030,  5310,  ...,     0,     0,     0],\n",
      "        [  101,  3607, 23283,  ...,     0,     0,     0],\n",
      "        [  101,  6616,  3398,  ...,     0,     0,     0],\n",
      "        ...,\n",
      "        [  101,  3531,  2644,  ...,     0,     0,     0],\n",
      "        [  101,  2678,  1024,  ...,     0,     0,     0],\n",
      "        [  101,  1030,  5310,  ...,     0,     0,     0]]), 'attention_mask': tensor([[1, 1, 1,  ..., 0, 0, 0],\n",
      "        [1, 1, 1,  ..., 0, 0, 0],\n",
      "        [1, 1, 1,  ..., 0, 0, 0],\n",
      "        ...,\n",
      "        [1, 1, 1,  ..., 0, 0, 0],\n",
      "        [1, 1, 1,  ..., 0, 0, 0],\n",
      "        [1, 1, 1,  ..., 0, 0, 0]])}\n",
      "{'label': tensor([0, 0, 1, 0, 0, 0, 1, 0, 0, 0, 0, 0, 0, 0, 1, 0]), 'input_ids': tensor([[ 101, 2007, 8711,  ...,    0,    0,    0],\n",
      "        [ 101, 1030, 5310,  ...,    0,    0,    0],\n",
      "        [ 101, 1030, 5310,  ...,    0,    0,    0],\n",
      "        ...,\n",
      "        [ 101, 1030, 5310,  ...,    0,    0,    0],\n",
      "        [ 101, 1045, 2572,  ...,    0,    0,    0],\n",
      "        [ 101, 1030, 5310,  ...,    0,    0,    0]]), 'attention_mask': tensor([[1, 1, 1,  ..., 0, 0, 0],\n",
      "        [1, 1, 1,  ..., 0, 0, 0],\n",
      "        [1, 1, 1,  ..., 0, 0, 0],\n",
      "        ...,\n",
      "        [1, 1, 1,  ..., 0, 0, 0],\n",
      "        [1, 1, 1,  ..., 0, 0, 0],\n",
      "        [1, 1, 1,  ..., 0, 0, 0]])}\n",
      "{'label': tensor([0, 0, 0, 0, 1, 0, 0, 1, 0, 1, 1, 1, 0, 0, 1, 0]), 'input_ids': tensor([[ 101, 3572, 2421,  ...,    0,    0,    0],\n",
      "        [ 101, 1001, 2142,  ...,    0,    0,    0],\n",
      "        [ 101, 1996, 1098,  ...,    0,    0,    0],\n",
      "        ...,\n",
      "        [ 101, 1030, 5310,  ...,    0,    0,    0],\n",
      "        [ 101, 3342, 5736,  ...,    0,    0,    0],\n",
      "        [ 101, 1030, 5310,  ...,    0,    0,    0]]), 'attention_mask': tensor([[1, 1, 1,  ..., 0, 0, 0],\n",
      "        [1, 1, 1,  ..., 0, 0, 0],\n",
      "        [1, 1, 1,  ..., 0, 0, 0],\n",
      "        ...,\n",
      "        [1, 1, 1,  ..., 0, 0, 0],\n",
      "        [1, 1, 1,  ..., 0, 0, 0],\n",
      "        [1, 1, 1,  ..., 0, 0, 0]])}\n",
      "{'label': tensor([0, 0, 0, 0, 1, 0, 1, 1, 0, 1, 1, 0, 0, 1, 0, 1]), 'input_ids': tensor([[ 101, 2065, 2017,  ...,    0,    0,    0],\n",
      "        [ 101, 2047, 2259,  ...,    0,    0,    0],\n",
      "        [ 101, 1000, 7521,  ...,    0,    0,    0],\n",
      "        ...,\n",
      "        [ 101, 2043, 2016,  ...,    0,    0,    0],\n",
      "        [ 101, 1030, 5310,  ...,    0,    0,    0],\n",
      "        [ 101, 1030, 5310,  ...,    0,    0,    0]]), 'attention_mask': tensor([[1, 1, 1,  ..., 0, 0, 0],\n",
      "        [1, 1, 1,  ..., 0, 0, 0],\n",
      "        [1, 1, 1,  ..., 0, 0, 0],\n",
      "        ...,\n",
      "        [1, 1, 1,  ..., 0, 0, 0],\n",
      "        [1, 1, 1,  ..., 0, 0, 0],\n",
      "        [1, 1, 1,  ..., 0, 0, 0]])}\n",
      "{'label': tensor([0, 1, 1, 0, 1, 1, 0, 1, 1, 1, 1, 1, 0, 0, 0, 0]), 'input_ids': tensor([[  101,  1030,  5310,  ...,     0,     0,     0],\n",
      "        [  101,  2026,  5980,  ...,     0,     0,     0],\n",
      "        [  101,  1050,  5910,  ...,     0,     0,     0],\n",
      "        ...,\n",
      "        [  101,  1005,  1045,  ...,     0,     0,     0],\n",
      "        [  101, 17111,  2080,  ...,     0,     0,     0],\n",
      "        [  101,  6302,  1997,  ...,     0,     0,     0]]), 'attention_mask': tensor([[1, 1, 1,  ..., 0, 0, 0],\n",
      "        [1, 1, 1,  ..., 0, 0, 0],\n",
      "        [1, 1, 1,  ..., 0, 0, 0],\n",
      "        ...,\n",
      "        [1, 1, 1,  ..., 0, 0, 0],\n",
      "        [1, 1, 1,  ..., 0, 0, 0],\n",
      "        [1, 1, 1,  ..., 0, 0, 0]])}\n",
      "{'label': tensor([1, 0, 1, 0, 0, 0, 0, 0, 1, 0, 1, 1, 0, 0, 0, 0]), 'input_ids': tensor([[  101,  1030,  5310,  ...,     0,     0,     0],\n",
      "        [  101, 11586,  9953,  ...,     0,     0,     0],\n",
      "        [  101,  9986,  2015,  ...,     0,     0,     0],\n",
      "        ...,\n",
      "        [  101,  1037,  8398,  ...,     0,     0,     0],\n",
      "        [  101,  1030,  5310,  ...,     0,     0,     0],\n",
      "        [  101, 12043,  2015,  ...,     0,     0,     0]]), 'attention_mask': tensor([[1, 1, 1,  ..., 0, 0, 0],\n",
      "        [1, 1, 1,  ..., 0, 0, 0],\n",
      "        [1, 1, 1,  ..., 0, 0, 0],\n",
      "        ...,\n",
      "        [1, 1, 1,  ..., 0, 0, 0],\n",
      "        [1, 1, 1,  ..., 0, 0, 0],\n",
      "        [1, 1, 1,  ..., 0, 0, 0]])}\n",
      "{'label': tensor([0, 1, 0, 1, 0, 1, 0, 0, 0, 0, 1, 1, 0, 1, 0, 0]), 'input_ids': tensor([[ 101, 2003, 1996,  ...,    0,    0,    0],\n",
      "        [ 101, 1030, 5310,  ...,    0,    0,    0],\n",
      "        [ 101, 2425, 2017,  ...,    0,    0,    0],\n",
      "        ...,\n",
      "        [ 101, 1030, 5310,  ...,    0,    0,    0],\n",
      "        [ 101, 1030, 5310,  ...,    0,    0,    0],\n",
      "        [ 101, 1045, 5223,  ...,    0,    0,    0]]), 'attention_mask': tensor([[1, 1, 1,  ..., 0, 0, 0],\n",
      "        [1, 1, 1,  ..., 0, 0, 0],\n",
      "        [1, 1, 1,  ..., 0, 0, 0],\n",
      "        ...,\n",
      "        [1, 1, 1,  ..., 0, 0, 0],\n",
      "        [1, 1, 1,  ..., 0, 0, 0],\n",
      "        [1, 1, 1,  ..., 0, 0, 0]])}\n",
      "{'label': tensor([0, 0, 0, 0, 0, 0, 1, 0, 0, 0, 0, 1, 0, 0, 0, 0]), 'input_ids': tensor([[  101, 21444,  1997,  ...,     0,     0,     0],\n",
      "        [  101,  2021,  4931,  ...,     0,     0,     0],\n",
      "        [  101,  3407,  5958,  ...,     0,     0,     0],\n",
      "        ...,\n",
      "        [  101,  4689,  4010,  ...,     0,     0,     0],\n",
      "        [  101,  2182,  2024,  ...,     0,     0,     0],\n",
      "        [  101,  7743,  9152,  ...,     0,     0,     0]]), 'attention_mask': tensor([[1, 1, 1,  ..., 0, 0, 0],\n",
      "        [1, 1, 1,  ..., 0, 0, 0],\n",
      "        [1, 1, 1,  ..., 0, 0, 0],\n",
      "        ...,\n",
      "        [1, 1, 1,  ..., 0, 0, 0],\n",
      "        [1, 1, 1,  ..., 0, 0, 0],\n",
      "        [1, 1, 1,  ..., 0, 0, 0]])}\n",
      "{'label': tensor([0, 1, 0, 1, 1, 1, 1, 0, 1, 1, 0, 0, 1, 0, 1, 0]), 'input_ids': tensor([[  101,  2097,  3521,  ...,     0,     0,     0],\n",
      "        [  101,  3191,  1998,  ...,     0,     0,     0],\n",
      "        [  101,  2123,  1005,  ...,     0,     0,     0],\n",
      "        ...,\n",
      "        [  101,  2043,  2893,  ...,     0,     0,     0],\n",
      "        [  101,  2065, 24471,  ...,     0,     0,     0],\n",
      "        [  101,  1030,  5310,  ...,     0,     0,     0]]), 'attention_mask': tensor([[1, 1, 1,  ..., 0, 0, 0],\n",
      "        [1, 1, 1,  ..., 0, 0, 0],\n",
      "        [1, 1, 1,  ..., 0, 0, 0],\n",
      "        ...,\n",
      "        [1, 1, 1,  ..., 0, 0, 0],\n",
      "        [1, 1, 1,  ..., 0, 0, 0],\n",
      "        [1, 1, 1,  ..., 0, 0, 0]])}\n",
      "{'label': tensor([0, 0, 0, 0, 0, 0, 0, 1, 0, 1, 0, 1, 0, 0, 0, 1]), 'input_ids': tensor([[  101,  1001,  7327,  ...,     0,     0,     0],\n",
      "        [  101, 19387,  1030,  ...,     0,     0,     0],\n",
      "        [  101,  2051,  2005,  ...,     0,     0,     0],\n",
      "        ...,\n",
      "        [  101,  1030,  5310,  ...,     0,     0,     0],\n",
      "        [  101, 22017,  7367,  ...,     0,     0,     0],\n",
      "        [  101,  6206,  7489,  ...,     0,     0,     0]]), 'attention_mask': tensor([[1, 1, 1,  ..., 0, 0, 0],\n",
      "        [1, 1, 1,  ..., 0, 0, 0],\n",
      "        [1, 1, 1,  ..., 0, 0, 0],\n",
      "        ...,\n",
      "        [1, 1, 1,  ..., 0, 0, 0],\n",
      "        [1, 1, 1,  ..., 0, 0, 0],\n",
      "        [1, 1, 1,  ..., 0, 0, 0]])}\n",
      "{'label': tensor([1, 1, 1, 0, 0, 0, 1, 0, 1, 1, 0, 0, 1, 0, 0, 1]), 'input_ids': tensor([[  101,  1030,  5310,  ...,     0,     0,     0],\n",
      "        [  101,  5665,  1011,  ...,     0,     0,     0],\n",
      "        [  101,  1030,  5310,  ...,     0,     0,     0],\n",
      "        ...,\n",
      "        [  101,  1030,  5310,  ...,     0,     0,     0],\n",
      "        [  101,  2123,  1521,  ...,     0,     0,     0],\n",
      "        [  101,  3097, 18445,  ...,     0,     0,     0]]), 'attention_mask': tensor([[1, 1, 1,  ..., 0, 0, 0],\n",
      "        [1, 1, 1,  ..., 0, 0, 0],\n",
      "        [1, 1, 1,  ..., 0, 0, 0],\n",
      "        ...,\n",
      "        [1, 1, 1,  ..., 0, 0, 0],\n",
      "        [1, 1, 1,  ..., 0, 0, 0],\n",
      "        [1, 1, 1,  ..., 0, 0, 0]])}\n",
      "{'label': tensor([1, 1, 1, 0, 0, 0, 1, 1, 0, 1, 0, 0, 1, 0, 0, 1]), 'input_ids': tensor([[  101,  1030,  5310,  ...,     0,     0,     0],\n",
      "        [  101,  2296,  2986,  ...,     0,     0,     0],\n",
      "        [  101,  1523,  9040,  ...,     0,     0,     0],\n",
      "        ...,\n",
      "        [  101,  2013,  5553,  ...,     0,     0,     0],\n",
      "        [  101,  8650, 13141,  ...,     0,     0,     0],\n",
      "        [  101,  1030,  5310,  ...,     0,     0,     0]]), 'attention_mask': tensor([[1, 1, 1,  ..., 0, 0, 0],\n",
      "        [1, 1, 1,  ..., 0, 0, 0],\n",
      "        [1, 1, 1,  ..., 0, 0, 0],\n",
      "        ...,\n",
      "        [1, 1, 1,  ..., 0, 0, 0],\n",
      "        [1, 1, 1,  ..., 0, 0, 0],\n",
      "        [1, 1, 1,  ..., 0, 0, 0]])}\n",
      "{'label': tensor([1, 0, 1, 0, 1, 0, 1, 0, 1, 0, 0, 0, 0, 0, 1, 0]), 'input_ids': tensor([[  101,  4013,  5955,  ...,     0,     0,     0],\n",
      "        [  101,  1030,  5310,  ...,     0,     0,     0],\n",
      "        [  101,  2628,  2035,  ...,     0,     0,     0],\n",
      "        ...,\n",
      "        [  101, 17207,  2906,  ...,     0,     0,     0],\n",
      "        [  101,  1030,  5310,  ...,     0,     0,     0],\n",
      "        [  101,  2122,  2024,  ...,     0,     0,     0]]), 'attention_mask': tensor([[1, 1, 1,  ..., 0, 0, 0],\n",
      "        [1, 1, 1,  ..., 0, 0, 0],\n",
      "        [1, 1, 1,  ..., 0, 0, 0],\n",
      "        ...,\n",
      "        [1, 1, 1,  ..., 0, 0, 0],\n",
      "        [1, 1, 1,  ..., 0, 0, 0],\n",
      "        [1, 1, 1,  ..., 0, 0, 0]])}\n",
      "{'label': tensor([0, 1, 1, 1, 0, 0, 0, 0, 1, 1, 1, 1, 0, 0, 1, 0]), 'input_ids': tensor([[  101, 17183,  2283,  ...,     0,     0,     0],\n",
      "        [  101,  2111,  2831,  ...,     0,     0,     0],\n",
      "        [  101,  1030,  5310,  ...,     0,     0,     0],\n",
      "        ...,\n",
      "        [  101,  2273,   999,  ...,     0,     0,     0],\n",
      "        [  101,  1001,  2079,  ...,     0,     0,     0],\n",
      "        [  101,  1061,  1521,  ...,     0,     0,     0]]), 'attention_mask': tensor([[1, 1, 1,  ..., 0, 0, 0],\n",
      "        [1, 1, 1,  ..., 0, 0, 0],\n",
      "        [1, 1, 1,  ..., 0, 0, 0],\n",
      "        ...,\n",
      "        [1, 1, 1,  ..., 0, 0, 0],\n",
      "        [1, 1, 1,  ..., 0, 0, 0],\n",
      "        [1, 1, 1,  ..., 0, 0, 0]])}\n",
      "{'label': tensor([0, 0, 1, 0, 0, 0, 0, 1, 0, 0, 1, 0, 0, 0, 1, 0]), 'input_ids': tensor([[  101,  2128,  2102,  ...,     0,     0,     0],\n",
      "        [  101,  2129,  1037,  ...,     0,     0,     0],\n",
      "        [  101,  2065,  2017,  ...,     0,     0,     0],\n",
      "        ...,\n",
      "        [  101, 13632, 19119,  ...,     0,     0,     0],\n",
      "        [  101,  1030,  5310,  ...,     0,     0,     0],\n",
      "        [  101,  2035,  2085,  ...,     0,     0,     0]]), 'attention_mask': tensor([[1, 1, 1,  ..., 0, 0, 0],\n",
      "        [1, 1, 1,  ..., 0, 0, 0],\n",
      "        [1, 1, 1,  ..., 0, 0, 0],\n",
      "        ...,\n",
      "        [1, 1, 1,  ..., 0, 0, 0],\n",
      "        [1, 1, 1,  ..., 0, 0, 0],\n",
      "        [1, 1, 1,  ..., 0, 0, 0]])}\n",
      "{'label': tensor([0, 0, 0, 0, 0, 0, 0, 1, 0, 1, 0, 0, 1, 1, 1, 0]), 'input_ids': tensor([[  101, 13229,  1022,  ...,     0,     0,     0],\n",
      "        [  101,  2273,  1006,  ...,     0,     0,     0],\n",
      "        [  101,  2023,  4538,  ...,     0,     0,     0],\n",
      "        ...,\n",
      "        [  101,  1030,  5310,  ...,     0,     0,     0],\n",
      "        [  101,  1030,  5310,  ...,     0,     0,     0],\n",
      "        [  101,  2678,  1011,  ...,     0,     0,     0]]), 'attention_mask': tensor([[1, 1, 1,  ..., 0, 0, 0],\n",
      "        [1, 1, 1,  ..., 0, 0, 0],\n",
      "        [1, 1, 1,  ..., 0, 0, 0],\n",
      "        ...,\n",
      "        [1, 1, 1,  ..., 0, 0, 0],\n",
      "        [1, 1, 1,  ..., 0, 0, 0],\n",
      "        [1, 1, 1,  ..., 0, 0, 0]])}\n",
      "{'label': tensor([0, 0, 0, 0, 1, 1, 1, 0, 0, 1, 1, 0, 1, 1, 0, 1]), 'input_ids': tensor([[  101,  2053,  4283,  ...,     0,     0,     0],\n",
      "        [  101,  2710,  2038,  ...,     0,     0,     0],\n",
      "        [  101,  1001,  6945,  ...,     0,     0,     0],\n",
      "        ...,\n",
      "        [  101,  1030,  5310,  ...,     0,     0,     0],\n",
      "        [  101,  2502,  4067,  ...,     0,     0,     0],\n",
      "        [  101,  4916, 21680,  ...,     0,     0,     0]]), 'attention_mask': tensor([[1, 1, 1,  ..., 0, 0, 0],\n",
      "        [1, 1, 1,  ..., 0, 0, 0],\n",
      "        [1, 1, 1,  ..., 0, 0, 0],\n",
      "        ...,\n",
      "        [1, 1, 1,  ..., 0, 0, 0],\n",
      "        [1, 1, 1,  ..., 0, 0, 0],\n",
      "        [1, 1, 1,  ..., 0, 0, 0]])}\n",
      "{'label': tensor([0, 0, 0, 1, 0, 1, 0, 0, 0, 1, 0, 1, 1, 1, 1, 1]), 'input_ids': tensor([[  101,  3956, 28324,  ...,     0,     0,     0],\n",
      "        [  101,  2014,  1011,  ...,     0,     0,     0],\n",
      "        [  101,  1045,  1005,  ...,     0,     0,     0],\n",
      "        ...,\n",
      "        [  101,  1045,  5223,  ...,     0,     0,     0],\n",
      "        [  101,  3398,  2092,  ...,     0,     0,     0],\n",
      "        [  101,  2115,  2063,  ...,     0,     0,     0]]), 'attention_mask': tensor([[1, 1, 1,  ..., 0, 0, 0],\n",
      "        [1, 1, 1,  ..., 0, 0, 0],\n",
      "        [1, 1, 1,  ..., 0, 0, 0],\n",
      "        ...,\n",
      "        [1, 1, 1,  ..., 0, 0, 0],\n",
      "        [1, 1, 1,  ..., 0, 0, 0],\n",
      "        [1, 1, 1,  ..., 0, 0, 0]])}\n",
      "{'label': tensor([0, 0, 0, 0, 1, 1, 0, 1, 0, 1, 1, 0, 1, 0, 1, 1]), 'input_ids': tensor([[  101,  2762,  2665,  ...,     0,     0,     0],\n",
      "        [  101,  2043, 25818,  ...,     0,     0,     0],\n",
      "        [  101,  1037,  2298,  ...,     0,     0,     0],\n",
      "        ...,\n",
      "        [  101,  1030,  5310,  ...,     0,     0,     0],\n",
      "        [  101, 24761,  2016,  ...,     0,     0,     0],\n",
      "        [  101, 23156,  2000,  ...,     0,     0,     0]]), 'attention_mask': tensor([[1, 1, 1,  ..., 0, 0, 0],\n",
      "        [1, 1, 1,  ..., 0, 0, 0],\n",
      "        [1, 1, 1,  ..., 0, 0, 0],\n",
      "        ...,\n",
      "        [1, 1, 1,  ..., 0, 0, 0],\n",
      "        [1, 1, 1,  ..., 0, 0, 0],\n",
      "        [1, 1, 1,  ..., 0, 0, 0]])}\n",
      "{'label': tensor([1, 0, 1, 0, 0, 0, 1, 1, 0, 1, 0, 1, 1, 1, 0, 0]), 'input_ids': tensor([[  101,  1001,  8711,  ...,     0,     0,     0],\n",
      "        [  101,  2043,  1037,  ...,     0,     0,     0],\n",
      "        [  101,  2043,  2033,  ...,     0,     0,     0],\n",
      "        ...,\n",
      "        [  101,  4491,  2006,  ...,     0,     0,     0],\n",
      "        [  101,  2036,  1012,  ...,     0,     0,     0],\n",
      "        [  101, 12082, 14455,  ...,     0,     0,     0]]), 'attention_mask': tensor([[1, 1, 1,  ..., 0, 0, 0],\n",
      "        [1, 1, 1,  ..., 0, 0, 0],\n",
      "        [1, 1, 1,  ..., 0, 0, 0],\n",
      "        ...,\n",
      "        [1, 1, 1,  ..., 0, 0, 0],\n",
      "        [1, 1, 1,  ..., 0, 0, 0],\n",
      "        [1, 1, 1,  ..., 0, 0, 0]])}\n",
      "{'label': tensor([0, 0, 1, 0, 0, 1, 0, 0, 0, 0, 0, 0, 0, 0, 1, 0]), 'input_ids': tensor([[  101, 11560,  3008,  ...,     0,     0,     0],\n",
      "        [  101,  2004,  5156,  ...,     0,     0,     0],\n",
      "        [  101,  2045,  2024,  ...,     0,     0,     0],\n",
      "        ...,\n",
      "        [  101,  1030,  5310,  ...,     0,     0,     0],\n",
      "        [  101,  2069,  2065,  ...,     0,     0,     0],\n",
      "        [  101,  2307,  2801,  ...,     0,     0,     0]]), 'attention_mask': tensor([[1, 1, 1,  ..., 0, 0, 0],\n",
      "        [1, 1, 1,  ..., 0, 0, 0],\n",
      "        [1, 1, 1,  ..., 0, 0, 0],\n",
      "        ...,\n",
      "        [1, 1, 1,  ..., 0, 0, 0],\n",
      "        [1, 1, 1,  ..., 0, 0, 0],\n",
      "        [1, 1, 1,  ..., 0, 0, 0]])}\n",
      "{'label': tensor([0, 0, 1, 1, 0, 0, 0, 0, 0, 0, 0, 1, 1, 0, 0, 1]), 'input_ids': tensor([[ 101, 2054, 2024,  ...,    0,    0,    0],\n",
      "        [ 101, 3189, 1024,  ...,    0,    0,    0],\n",
      "        [ 101, 1030, 5310,  ...,    0,    0,    0],\n",
      "        ...,\n",
      "        [ 101, 2404, 8038,  ...,    0,    0,    0],\n",
      "        [ 101, 1030, 5310,  ...,    0,    0,    0],\n",
      "        [ 101, 1030, 5310,  ...,    0,    0,    0]]), 'attention_mask': tensor([[1, 1, 1,  ..., 0, 0, 0],\n",
      "        [1, 1, 1,  ..., 0, 0, 0],\n",
      "        [1, 1, 1,  ..., 0, 0, 0],\n",
      "        ...,\n",
      "        [1, 1, 1,  ..., 0, 0, 0],\n",
      "        [1, 1, 1,  ..., 0, 0, 0],\n",
      "        [1, 1, 1,  ..., 0, 0, 0]])}\n",
      "{'label': tensor([1, 1, 0, 1, 0, 0, 0, 0, 0, 0, 1, 0, 1, 0, 0, 1]), 'input_ids': tensor([[  101,  4983,  2017,  ...,     0,     0,     0],\n",
      "        [  101,  1030,  5310,  ...,     0,     0,     0],\n",
      "        [  101, 14163, 15272,  ...,     0,     0,     0],\n",
      "        ...,\n",
      "        [  101,  1996,  3165,  ...,     0,     0,     0],\n",
      "        [  101,  2057,  2342,  ...,     0,     0,     0],\n",
      "        [  101,  2059,  2053,  ...,     0,     0,     0]]), 'attention_mask': tensor([[1, 1, 1,  ..., 0, 0, 0],\n",
      "        [1, 1, 1,  ..., 0, 0, 0],\n",
      "        [1, 1, 1,  ..., 0, 0, 0],\n",
      "        ...,\n",
      "        [1, 1, 1,  ..., 0, 0, 0],\n",
      "        [1, 1, 1,  ..., 0, 0, 0],\n",
      "        [1, 1, 1,  ..., 0, 0, 0]])}\n",
      "{'label': tensor([0, 0, 1, 1, 0, 0, 0, 0, 1, 0, 0, 1, 0, 0, 0, 0]), 'input_ids': tensor([[  101,  3577,  1024,  ...,     0,     0,     0],\n",
      "        [  101,  2489,  1056,  ...,     0,     0,     0],\n",
      "        [  101,  2256,  2406,  ...,     0,     0,     0],\n",
      "        ...,\n",
      "        [  101,  2017,  2412,  ...,     0,     0,     0],\n",
      "        [  101, 25614,  6090,  ...,     0,     0,     0],\n",
      "        [  101,  2139, 13743,  ...,     0,     0,     0]]), 'attention_mask': tensor([[1, 1, 1,  ..., 0, 0, 0],\n",
      "        [1, 1, 1,  ..., 0, 0, 0],\n",
      "        [1, 1, 1,  ..., 0, 0, 0],\n",
      "        ...,\n",
      "        [1, 1, 1,  ..., 0, 0, 0],\n",
      "        [1, 1, 1,  ..., 0, 0, 0],\n",
      "        [1, 1, 1,  ..., 0, 0, 0]])}\n",
      "{'label': tensor([0, 1, 1, 1, 1, 0, 0, 1, 0, 0, 0, 1, 1, 0, 1, 0]), 'input_ids': tensor([[  101,  1030,  5310,  ...,     0,     0,     0],\n",
      "        [  101,  1030,  5310,  ...,     0,     0,     0],\n",
      "        [  101,  1030,  5310,  ...,     0,     0,     0],\n",
      "        ...,\n",
      "        [  101,  1045,  2064,  ...,     0,     0,     0],\n",
      "        [  101,  2762,  1024,  ...,     0,     0,     0],\n",
      "        [  101, 12632,  2072,  ...,     0,     0,     0]]), 'attention_mask': tensor([[1, 1, 1,  ..., 0, 0, 0],\n",
      "        [1, 1, 1,  ..., 0, 0, 0],\n",
      "        [1, 1, 1,  ..., 0, 0, 0],\n",
      "        ...,\n",
      "        [1, 1, 1,  ..., 0, 0, 0],\n",
      "        [1, 1, 1,  ..., 0, 0, 0],\n",
      "        [1, 1, 1,  ..., 0, 0, 0]])}\n",
      "{'label': tensor([0, 1, 0, 1, 1, 0, 0, 1, 1, 1, 0, 0, 0, 1, 1, 1]), 'input_ids': tensor([[ 101, 1523, 2025,  ...,    0,    0,    0],\n",
      "        [ 101, 2339, 2079,  ...,    0,    0,    0],\n",
      "        [ 101, 1030, 5310,  ...,    0,    0,    0],\n",
      "        ...,\n",
      "        [ 101, 3666, 1523,  ...,    0,    0,    0],\n",
      "        [ 101, 1030, 5310,  ...,    0,    0,    0],\n",
      "        [ 101, 3422, 1024,  ...,    0,    0,    0]]), 'attention_mask': tensor([[1, 1, 1,  ..., 0, 0, 0],\n",
      "        [1, 1, 1,  ..., 0, 0, 0],\n",
      "        [1, 1, 1,  ..., 0, 0, 0],\n",
      "        ...,\n",
      "        [1, 1, 1,  ..., 0, 0, 0],\n",
      "        [1, 1, 1,  ..., 0, 0, 0],\n",
      "        [1, 1, 1,  ..., 0, 0, 0]])}\n",
      "{'label': tensor([0, 0, 0, 1, 1, 0, 1, 0, 1, 0, 1, 0, 1, 1, 0, 1]), 'input_ids': tensor([[ 101, 1030, 5310,  ...,    0,    0,    0],\n",
      "        [ 101, 1030, 5310,  ...,    0,    0,    0],\n",
      "        [ 101, 1996, 2693,  ...,    0,    0,    0],\n",
      "        ...,\n",
      "        [ 101, 3057, 2963,  ...,    0,    0,    0],\n",
      "        [ 101, 1016, 2243,  ...,    0,    0,    0],\n",
      "        [ 101, 6530, 5980,  ...,    0,    0,    0]]), 'attention_mask': tensor([[1, 1, 1,  ..., 0, 0, 0],\n",
      "        [1, 1, 1,  ..., 0, 0, 0],\n",
      "        [1, 1, 1,  ..., 0, 0, 0],\n",
      "        ...,\n",
      "        [1, 1, 1,  ..., 0, 0, 0],\n",
      "        [1, 1, 1,  ..., 0, 0, 0],\n",
      "        [1, 1, 1,  ..., 0, 0, 0]])}\n",
      "{'label': tensor([0, 0, 1, 0, 1, 0, 0, 0, 1, 1, 1, 1, 0, 0, 0, 0]), 'input_ids': tensor([[ 101, 1001, 2016,  ...,    0,    0,    0],\n",
      "        [ 101, 7743, 8945,  ...,    0,    0,    0],\n",
      "        [ 101, 1030, 5310,  ...,    0,    0,    0],\n",
      "        ...,\n",
      "        [ 101, 2043, 2115,  ...,    0,    0,    0],\n",
      "        [ 101, 1037, 2184,  ...,    0,    0,    0],\n",
      "        [ 101,  100, 1001,  ...,    0,    0,    0]]), 'attention_mask': tensor([[1, 1, 1,  ..., 0, 0, 0],\n",
      "        [1, 1, 1,  ..., 0, 0, 0],\n",
      "        [1, 1, 1,  ..., 0, 0, 0],\n",
      "        ...,\n",
      "        [1, 1, 1,  ..., 0, 0, 0],\n",
      "        [1, 1, 1,  ..., 0, 0, 0],\n",
      "        [1, 1, 1,  ..., 0, 0, 0]])}\n",
      "{'label': tensor([1, 1, 0, 0, 1, 0, 0, 1, 1, 0, 0, 1, 0, 0, 0, 0]), 'input_ids': tensor([[  101,  1030,  5310,  ...,     0,     0,     0],\n",
      "        [  101,  1030,  5310,  ...,     0,     0,     0],\n",
      "        [  101,  1030,  5310,  ...,     0,     0,     0],\n",
      "        ...,\n",
      "        [  101,  5569,  7610,  ...,     0,     0,     0],\n",
      "        [  101, 11606, 21245,  ...,     0,     0,     0],\n",
      "        [  101,  1030,  5310,  ...,     0,     0,     0]]), 'attention_mask': tensor([[1, 1, 1,  ..., 0, 0, 0],\n",
      "        [1, 1, 1,  ..., 0, 0, 0],\n",
      "        [1, 1, 1,  ..., 0, 0, 0],\n",
      "        ...,\n",
      "        [1, 1, 1,  ..., 0, 0, 0],\n",
      "        [1, 1, 1,  ..., 0, 0, 0],\n",
      "        [1, 1, 1,  ..., 0, 0, 0]])}\n",
      "{'label': tensor([0, 0, 0, 1, 0, 1, 0, 1, 1, 1, 1, 0, 0, 0, 1, 0]), 'input_ids': tensor([[  101, 12731,  2546,  ...,     0,     0,     0],\n",
      "        [  101,  1030,  5310,  ...,     0,     0,     0],\n",
      "        [  101,  4895, 14300,  ...,     0,     0,     0],\n",
      "        ...,\n",
      "        [  101,  1001, 28836,  ...,     0,     0,     0],\n",
      "        [  101,  1030,  5310,  ...,     0,     0,     0],\n",
      "        [  101,  1037,  4678,  ...,     0,     0,     0]]), 'attention_mask': tensor([[1, 1, 1,  ..., 0, 0, 0],\n",
      "        [1, 1, 1,  ..., 0, 0, 0],\n",
      "        [1, 1, 1,  ..., 0, 0, 0],\n",
      "        ...,\n",
      "        [1, 1, 1,  ..., 0, 0, 0],\n",
      "        [1, 1, 1,  ..., 0, 0, 0],\n",
      "        [1, 1, 1,  ..., 0, 0, 0]])}\n",
      "{'label': tensor([1, 1, 0, 1, 0, 0, 1, 1, 1, 0, 1, 1, 0, 1, 1, 1]), 'input_ids': tensor([[  101,  6206, 11560,  ...,     0,     0,     0],\n",
      "        [  101,  1030,  5310,  ...,     0,     0,     0],\n",
      "        [  101,  2009,  1005,  ...,     0,     0,     0],\n",
      "        ...,\n",
      "        [  101,  5483,  1024,  ...,     0,     0,     0],\n",
      "        [  101,  2000,  1996,  ...,     0,     0,     0],\n",
      "        [  101,  2343,  8398,  ...,     0,     0,     0]]), 'attention_mask': tensor([[1, 1, 1,  ..., 0, 0, 0],\n",
      "        [1, 1, 1,  ..., 0, 0, 0],\n",
      "        [1, 1, 1,  ..., 0, 0, 0],\n",
      "        ...,\n",
      "        [1, 1, 1,  ..., 0, 0, 0],\n",
      "        [1, 1, 1,  ..., 0, 0, 0],\n",
      "        [1, 1, 1,  ..., 0, 0, 0]])}\n",
      "{'label': tensor([1, 1, 1, 0, 0, 1, 1, 0, 0, 1, 1, 0, 0, 1, 0, 0]), 'input_ids': tensor([[  101,  7056, 16836,  ...,     0,     0,     0],\n",
      "        [  101,  2008,  7743,  ...,     0,     0,     0],\n",
      "        [  101,  1996, 18173,  ...,     0,     0,     0],\n",
      "        ...,\n",
      "        [  101,  2057,  2488,  ...,     0,     0,     0],\n",
      "        [  101,  3782, 10192,  ...,     0,     0,     0],\n",
      "        [  101,  2043,  2308,  ...,     0,     0,     0]]), 'attention_mask': tensor([[1, 1, 1,  ..., 0, 0, 0],\n",
      "        [1, 1, 1,  ..., 0, 0, 0],\n",
      "        [1, 1, 1,  ..., 0, 0, 0],\n",
      "        ...,\n",
      "        [1, 1, 1,  ..., 0, 0, 0],\n",
      "        [1, 1, 1,  ..., 0, 0, 0],\n",
      "        [1, 1, 1,  ..., 0, 0, 0]])}\n",
      "{'label': tensor([1, 1, 1, 0, 0, 1, 0, 0, 1, 1, 1, 1, 0, 1, 0, 1]), 'input_ids': tensor([[ 101, 1030, 5310,  ...,    0,    0,    0],\n",
      "        [ 101, 1996, 3343,  ...,    0,    0,    0],\n",
      "        [ 101, 1001, 3857,  ...,    0,    0,    0],\n",
      "        ...,\n",
      "        [ 101, 1057, 2655,  ...,    0,    0,    0],\n",
      "        [ 101, 1030, 5310,  ...,    0,    0,    0],\n",
      "        [ 101, 1030, 5310,  ...,    0,    0,    0]]), 'attention_mask': tensor([[1, 1, 1,  ..., 0, 0, 0],\n",
      "        [1, 1, 1,  ..., 0, 0, 0],\n",
      "        [1, 1, 1,  ..., 0, 0, 0],\n",
      "        ...,\n",
      "        [1, 1, 1,  ..., 0, 0, 0],\n",
      "        [1, 1, 1,  ..., 0, 0, 0],\n",
      "        [1, 1, 1,  ..., 0, 0, 0]])}\n",
      "{'label': tensor([0, 0, 1, 1, 0, 1, 0, 0, 0, 0, 0, 0, 0, 1, 0, 1]), 'input_ids': tensor([[  101,  2007,  9871,  ...,     0,     0,     0],\n",
      "        [  101,  2292,  2033,  ...,     0,     0,     0],\n",
      "        [  101,  3393, 20058,  ...,     0,     0,     0],\n",
      "        ...,\n",
      "        [  101,  1005, 23492,  ...,     0,     0,     0],\n",
      "        [  101,  1030,  5310,  ...,     0,     0,     0],\n",
      "        [  101,  2129,  2003,  ...,     0,     0,     0]]), 'attention_mask': tensor([[1, 1, 1,  ..., 0, 0, 0],\n",
      "        [1, 1, 1,  ..., 0, 0, 0],\n",
      "        [1, 1, 1,  ..., 0, 0, 0],\n",
      "        ...,\n",
      "        [1, 1, 1,  ..., 0, 0, 0],\n",
      "        [1, 1, 1,  ..., 0, 0, 0],\n",
      "        [1, 1, 1,  ..., 0, 0, 0]])}\n",
      "{'label': tensor([0, 0, 0, 1, 1, 1, 0, 0, 0, 0, 0, 0, 0, 0, 1, 1]), 'input_ids': tensor([[  101,  7304,  1005,  ...,     0,     0,     0],\n",
      "        [  101, 19387,  1030,  ...,     0,     0,     0],\n",
      "        [  101,  2065,  2017,  ...,     0,     0,     0],\n",
      "        ...,\n",
      "        [  101,  5637,  3007,  ...,     0,     0,     0],\n",
      "        [  101,  1001,  3287,  ...,     0,     0,     0],\n",
      "        [  101,  1030,  5310,  ...,     0,     0,     0]]), 'attention_mask': tensor([[1, 1, 1,  ..., 0, 0, 0],\n",
      "        [1, 1, 1,  ..., 0, 0, 0],\n",
      "        [1, 1, 1,  ..., 0, 0, 0],\n",
      "        ...,\n",
      "        [1, 1, 1,  ..., 0, 0, 0],\n",
      "        [1, 1, 1,  ..., 0, 0, 0],\n",
      "        [1, 1, 1,  ..., 0, 0, 0]])}\n",
      "{'label': tensor([0, 1, 0, 1, 0, 0, 0, 0, 1, 1, 0, 0, 0, 1, 0, 0]), 'input_ids': tensor([[ 101, 1001, 3577,  ...,    0,    0,    0],\n",
      "        [ 101, 2035, 4735,  ...,    0,    0,    0],\n",
      "        [ 101, 2048, 2706,  ...,    0,    0,    0],\n",
      "        ...,\n",
      "        [ 101, 2129, 2521,  ...,    0,    0,    0],\n",
      "        [ 101, 2026, 2878,  ...,    0,    0,    0],\n",
      "        [ 101, 1030, 5310,  ...,    0,    0,    0]]), 'attention_mask': tensor([[1, 1, 1,  ..., 0, 0, 0],\n",
      "        [1, 1, 1,  ..., 0, 0, 0],\n",
      "        [1, 1, 1,  ..., 0, 0, 0],\n",
      "        ...,\n",
      "        [1, 1, 1,  ..., 0, 0, 0],\n",
      "        [1, 1, 1,  ..., 0, 0, 0],\n",
      "        [1, 1, 1,  ..., 0, 0, 0]])}\n",
      "{'label': tensor([1, 1, 1, 0, 0, 1, 0, 1, 1, 1, 1, 0, 1, 0, 0, 0]), 'input_ids': tensor([[ 101, 2279, 7743,  ...,    0,    0,    0],\n",
      "        [ 101, 1030, 5310,  ...,    0,    0,    0],\n",
      "        [ 101, 1030, 5310,  ...,    0,    0,    0],\n",
      "        ...,\n",
      "        [ 101, 1031, 3444,  ...,    0,    0,    0],\n",
      "        [ 101, 2065, 2017,  ...,    0,    0,    0],\n",
      "        [ 101, 1030, 5310,  ...,    0,    0,    0]]), 'attention_mask': tensor([[1, 1, 1,  ..., 0, 0, 0],\n",
      "        [1, 1, 1,  ..., 0, 0, 0],\n",
      "        [1, 1, 1,  ..., 0, 0, 0],\n",
      "        ...,\n",
      "        [1, 1, 1,  ..., 0, 0, 0],\n",
      "        [1, 1, 1,  ..., 0, 0, 0],\n",
      "        [1, 1, 1,  ..., 0, 0, 0]])}\n",
      "{'label': tensor([1, 0, 0, 0, 1, 0, 0, 0, 0, 1, 1, 1, 0, 0, 1, 0]), 'input_ids': tensor([[ 101, 1045, 4299,  ...,    0,    0,    0],\n",
      "        [ 101, 2045, 1005,  ...,    0,    0,    0],\n",
      "        [ 101, 1045, 1005,  ...,    0,    0,    0],\n",
      "        ...,\n",
      "        [ 101, 1998, 7743,  ...,    0,    0,    0],\n",
      "        [ 101, 1030, 5310,  ...,    0,    0,    0],\n",
      "        [ 101, 2216, 1997,  ...,    0,    0,    0]]), 'attention_mask': tensor([[1, 1, 1,  ..., 0, 0, 0],\n",
      "        [1, 1, 1,  ..., 0, 0, 0],\n",
      "        [1, 1, 1,  ..., 0, 0, 0],\n",
      "        ...,\n",
      "        [1, 1, 1,  ..., 0, 0, 0],\n",
      "        [1, 1, 1,  ..., 0, 0, 0],\n",
      "        [1, 1, 1,  ..., 0, 0, 0]])}\n",
      "{'label': tensor([0, 0, 0, 1, 0, 1, 1, 0, 0, 0, 0, 0, 1, 1, 0, 0]), 'input_ids': tensor([[ 101, 9353, 7630,  ...,    0,    0,    0],\n",
      "        [ 101, 1998, 2017,  ...,    0,    0,    0],\n",
      "        [ 101, 4067, 2017,  ...,    0,    0,    0],\n",
      "        ...,\n",
      "        [ 101, 1045, 2342,  ...,    0,    0,    0],\n",
      "        [ 101, 4699, 1999,  ...,    0,    0,    0],\n",
      "        [ 101, 1037, 3648,  ...,    0,    0,    0]]), 'attention_mask': tensor([[1, 1, 1,  ..., 0, 0, 0],\n",
      "        [1, 1, 1,  ..., 0, 0, 0],\n",
      "        [1, 1, 1,  ..., 0, 0, 0],\n",
      "        ...,\n",
      "        [1, 1, 1,  ..., 0, 0, 0],\n",
      "        [1, 1, 1,  ..., 0, 0, 0],\n",
      "        [1, 1, 1,  ..., 0, 0, 0]])}\n",
      "{'label': tensor([1, 0, 1, 1, 1, 0, 0, 1, 0, 0, 0, 0, 1, 0, 1, 1]), 'input_ids': tensor([[  101,  1030,  5310,  ...,     0,     0,     0],\n",
      "        [  101,  1996,  2755,  ...,     0,     0,     0],\n",
      "        [  101,  8797,   999,  ...,     0,     0,     0],\n",
      "        ...,\n",
      "        [  101,  8161,  1996,  ...,     0,     0,     0],\n",
      "        [  101,  2064,  1521,  ...,     0,     0,     0],\n",
      "        [  101, 13451,  7743,  ...,     0,     0,     0]]), 'attention_mask': tensor([[1, 1, 1,  ..., 0, 0, 0],\n",
      "        [1, 1, 1,  ..., 0, 0, 0],\n",
      "        [1, 1, 1,  ..., 0, 0, 0],\n",
      "        ...,\n",
      "        [1, 1, 1,  ..., 0, 0, 0],\n",
      "        [1, 1, 1,  ..., 0, 0, 0],\n",
      "        [1, 1, 1,  ..., 0, 0, 0]])}\n",
      "{'label': tensor([1, 0, 1, 0, 1, 0, 0, 1, 0, 1, 0, 1, 0, 0, 1, 1]), 'input_ids': tensor([[ 101, 2023, 2003,  ...,    0,    0,    0],\n",
      "        [ 101, 2453, 6908,  ...,    0,    0,    0],\n",
      "        [ 101, 1030, 5310,  ...,    0,    0,    0],\n",
      "        ...,\n",
      "        [ 101, 8711, 2024,  ...,    0,    0,    0],\n",
      "        [ 101, 2672, 4080,  ...,    0,    0,    0],\n",
      "        [ 101, 1030, 5310,  ...,    0,    0,    0]]), 'attention_mask': tensor([[1, 1, 1,  ..., 0, 0, 0],\n",
      "        [1, 1, 1,  ..., 0, 0, 0],\n",
      "        [1, 1, 1,  ..., 0, 0, 0],\n",
      "        ...,\n",
      "        [1, 1, 1,  ..., 0, 0, 0],\n",
      "        [1, 1, 1,  ..., 0, 0, 0],\n",
      "        [1, 1, 1,  ..., 0, 0, 0]])}\n",
      "{'label': tensor([1, 1, 0, 1, 0, 0, 0, 0, 0, 1, 1, 0, 0, 1, 1, 0]), 'input_ids': tensor([[  101,  6616,  2017,  ...,     0,     0,     0],\n",
      "        [  101,  2043,  2016,  ...,     0,     0,     0],\n",
      "        [  101,  2027,  2442,  ...,     0,     0,     0],\n",
      "        ...,\n",
      "        [  101,  1030,  5310,  ...,     0,     0,     0],\n",
      "        [  101,  1030,  5310,  ...,     0,     0,     0],\n",
      "        [  101, 10148, 16836,  ...,     0,     0,     0]]), 'attention_mask': tensor([[1, 1, 1,  ..., 0, 0, 0],\n",
      "        [1, 1, 1,  ..., 0, 0, 0],\n",
      "        [1, 1, 1,  ..., 0, 0, 0],\n",
      "        ...,\n",
      "        [1, 1, 1,  ..., 0, 0, 0],\n",
      "        [1, 1, 1,  ..., 0, 0, 0],\n",
      "        [1, 1, 1,  ..., 0, 0, 0]])}\n",
      "{'label': tensor([1, 1, 1, 0, 0, 0, 0, 1, 1, 0, 0, 1, 0, 1, 1, 1]), 'input_ids': tensor([[ 101, 7521, 5981,  ...,    0,    0,    0],\n",
      "        [ 101, 2040, 1005,  ...,    0,    0,    0],\n",
      "        [ 101, 7078, 3819,  ...,    0,    0,    0],\n",
      "        ...,\n",
      "        [ 101, 2064, 3087,  ...,    0,    0,    0],\n",
      "        [ 101, 5580, 2000,  ...,    0,    0,    0],\n",
      "        [ 101, 1030, 5310,  ...,    0,    0,    0]]), 'attention_mask': tensor([[1, 1, 1,  ..., 0, 0, 0],\n",
      "        [1, 1, 1,  ..., 0, 0, 0],\n",
      "        [1, 1, 1,  ..., 0, 0, 0],\n",
      "        ...,\n",
      "        [1, 1, 1,  ..., 0, 0, 0],\n",
      "        [1, 1, 1,  ..., 0, 0, 0],\n",
      "        [1, 1, 1,  ..., 0, 0, 0]])}\n",
      "{'label': tensor([0, 0, 1, 1, 0, 0, 0, 1, 0, 1, 0, 1, 0, 0, 0, 1]), 'input_ids': tensor([[ 101, 2149, 2442,  ...,    0,    0,    0],\n",
      "        [ 101, 2009, 1005,  ...,    0,    0,    0],\n",
      "        [ 101, 1030, 5310,  ...,    0,    0,    0],\n",
      "        ...,\n",
      "        [ 101, 1030, 5310,  ...,    0,    0,    0],\n",
      "        [ 101, 1030, 5310,  ...,    0,    0,    0],\n",
      "        [ 101, 1030, 5310,  ...,    0,    0,    0]]), 'attention_mask': tensor([[1, 1, 1,  ..., 0, 0, 0],\n",
      "        [1, 1, 1,  ..., 0, 0, 0],\n",
      "        [1, 1, 1,  ..., 0, 0, 0],\n",
      "        ...,\n",
      "        [1, 1, 1,  ..., 0, 0, 0],\n",
      "        [1, 1, 1,  ..., 0, 0, 0],\n",
      "        [1, 1, 1,  ..., 0, 0, 0]])}\n",
      "{'label': tensor([1, 0, 0, 0, 0, 0, 0, 0, 1, 1, 0, 0, 1, 0, 0, 0]), 'input_ids': tensor([[ 101, 1030, 5310,  ...,    0,    0,    0],\n",
      "        [ 101, 3666, 2060,  ...,    0,    0,    0],\n",
      "        [ 101, 2062, 2248,  ...,    0,    0,    0],\n",
      "        ...,\n",
      "        [ 101, 2057, 1005,  ...,    0,    0,    0],\n",
      "        [ 101, 2106, 2017,  ...,    0,    0,    0],\n",
      "        [ 101, 3738, 1997,  ...,    0,    0,    0]]), 'attention_mask': tensor([[1, 1, 1,  ..., 0, 0, 0],\n",
      "        [1, 1, 1,  ..., 0, 0, 0],\n",
      "        [1, 1, 1,  ..., 0, 0, 0],\n",
      "        ...,\n",
      "        [1, 1, 1,  ..., 0, 0, 0],\n",
      "        [1, 1, 1,  ..., 0, 0, 0],\n",
      "        [1, 1, 1,  ..., 0, 0, 0]])}\n",
      "{'label': tensor([1, 0, 0, 0, 0, 1, 0, 1, 0, 0, 0, 0, 0, 0, 0, 1]), 'input_ids': tensor([[ 101, 2043, 1996,  ...,    0,    0,    0],\n",
      "        [ 101, 1008, 5872,  ...,    0,    0,    0],\n",
      "        [ 101, 4553, 2129,  ...,    0,    0,    0],\n",
      "        ...,\n",
      "        [ 101, 1520, 1062,  ...,    0,    0,    0],\n",
      "        [ 101, 2088, 4335,  ...,    0,    0,    0],\n",
      "        [ 101, 2026, 3611,  ...,    0,    0,    0]]), 'attention_mask': tensor([[1, 1, 1,  ..., 0, 0, 0],\n",
      "        [1, 1, 1,  ..., 0, 0, 0],\n",
      "        [1, 1, 1,  ..., 0, 0, 0],\n",
      "        ...,\n",
      "        [1, 1, 1,  ..., 0, 0, 0],\n",
      "        [1, 1, 1,  ..., 0, 0, 0],\n",
      "        [1, 1, 1,  ..., 0, 0, 0]])}\n",
      "{'label': tensor([0, 0, 1, 1, 0, 1, 1, 0, 1, 0, 1, 1, 1, 1, 0, 1]), 'input_ids': tensor([[ 101, 2043, 2619,  ...,    0,    0,    0],\n",
      "        [ 101, 1030, 5310,  ...,    0,    0,    0],\n",
      "        [ 101, 1030, 5310,  ...,    0,    0,    0],\n",
      "        ...,\n",
      "        [ 101, 1045, 1005,  ...,    0,    0,    0],\n",
      "        [ 101, 1030, 5310,  ...,    0,    0,    0],\n",
      "        [ 101, 7570, 2229,  ...,    0,    0,    0]]), 'attention_mask': tensor([[1, 1, 1,  ..., 0, 0, 0],\n",
      "        [1, 1, 1,  ..., 0, 0, 0],\n",
      "        [1, 1, 1,  ..., 0, 0, 0],\n",
      "        ...,\n",
      "        [1, 1, 1,  ..., 0, 0, 0],\n",
      "        [1, 1, 1,  ..., 0, 0, 0],\n",
      "        [1, 1, 1,  ..., 0, 0, 0]])}\n",
      "{'label': tensor([1, 1, 1, 0, 0, 1, 0, 0, 0, 0, 0, 0, 1, 0, 1, 0]), 'input_ids': tensor([[ 101, 2017, 2024,  ...,    0,    0,    0],\n",
      "        [ 101, 1030, 5310,  ...,    0,    0,    0],\n",
      "        [ 101, 2605, 2003,  ...,    0,    0,    0],\n",
      "        ...,\n",
      "        [ 101, 6719, 2053,  ...,    0,    0,    0],\n",
      "        [ 101, 1030, 5310,  ...,    0,    0,    0],\n",
      "        [ 101, 1030, 5310,  ...,    0,    0,    0]]), 'attention_mask': tensor([[1, 1, 1,  ..., 0, 0, 0],\n",
      "        [1, 1, 1,  ..., 0, 0, 0],\n",
      "        [1, 1, 1,  ..., 0, 0, 0],\n",
      "        ...,\n",
      "        [1, 1, 1,  ..., 0, 0, 0],\n",
      "        [1, 1, 1,  ..., 0, 0, 0],\n",
      "        [1, 1, 1,  ..., 0, 0, 0]])}\n",
      "{'label': tensor([0, 1, 0, 0, 0, 0, 1, 1, 0, 0, 1, 0, 1, 1, 0, 0]), 'input_ids': tensor([[ 101, 1030, 5310,  ...,    0,    0,    0],\n",
      "        [ 101, 2065, 2017,  ...,    0,    0,    0],\n",
      "        [ 101, 1030, 5310,  ...,    0,    0,    0],\n",
      "        ...,\n",
      "        [ 101, 1000, 3304,  ...,    0,    0,    0],\n",
      "        [ 101, 7977,  100,  ...,    0,    0,    0],\n",
      "        [ 101, 1030, 5310,  ...,    0,    0,    0]]), 'attention_mask': tensor([[1, 1, 1,  ..., 0, 0, 0],\n",
      "        [1, 1, 1,  ..., 0, 0, 0],\n",
      "        [1, 1, 1,  ..., 0, 0, 0],\n",
      "        ...,\n",
      "        [1, 1, 1,  ..., 0, 0, 0],\n",
      "        [1, 1, 1,  ..., 0, 0, 0],\n",
      "        [1, 1, 1,  ..., 0, 0, 0]])}\n",
      "{'label': tensor([0, 1, 1, 1, 0, 1, 0, 0, 1, 0, 0, 1, 0, 1, 0, 1]), 'input_ids': tensor([[ 101, 5292, 9397,  ...,    0,    0,    0],\n",
      "        [ 101, 1030, 5310,  ...,    0,    0,    0],\n",
      "        [ 101, 2196, 4604,  ...,    0,    0,    0],\n",
      "        ...,\n",
      "        [ 101, 2017, 2123,  ...,    0,    0,    0],\n",
      "        [ 101, 1030, 5310,  ...,    0,    0,    0],\n",
      "        [ 101, 1045, 8415,  ...,    0,    0,    0]]), 'attention_mask': tensor([[1, 1, 1,  ..., 0, 0, 0],\n",
      "        [1, 1, 1,  ..., 0, 0, 0],\n",
      "        [1, 1, 1,  ..., 0, 0, 0],\n",
      "        ...,\n",
      "        [1, 1, 1,  ..., 0, 0, 0],\n",
      "        [1, 1, 1,  ..., 0, 0, 0],\n",
      "        [1, 1, 1,  ..., 0, 0, 0]])}\n",
      "{'label': tensor([0, 0, 0, 1, 0, 0, 1, 0, 1, 0, 0, 0, 1, 1, 1, 0]), 'input_ids': tensor([[  101, 20951, 13311,  ...,     0,     0,     0],\n",
      "        [  101,  1001,  6616,  ...,     0,     0,     0],\n",
      "        [  101,  1037,  6160,  ...,     0,     0,     0],\n",
      "        ...,\n",
      "        [  101, 13442,  1030,  ...,     0,     0,     0],\n",
      "        [  101,  1030,  5310,  ...,     0,     0,     0],\n",
      "        [  101,  1030,  5310,  ...,     0,     0,     0]]), 'attention_mask': tensor([[1, 1, 1,  ..., 0, 0, 0],\n",
      "        [1, 1, 1,  ..., 0, 0, 0],\n",
      "        [1, 1, 1,  ..., 0, 0, 0],\n",
      "        ...,\n",
      "        [1, 1, 1,  ..., 0, 0, 0],\n",
      "        [1, 1, 1,  ..., 0, 0, 0],\n",
      "        [1, 1, 1,  ..., 0, 0, 0]])}\n",
      "{'label': tensor([0, 1, 0, 0, 0, 0, 0, 0, 0, 1, 1, 1, 0, 0, 1, 0]), 'input_ids': tensor([[  101,  2061,  2001,  ...,     0,     0,     0],\n",
      "        [  101,  1030,  5310,  ...,     0,     0,     0],\n",
      "        [  101,  2044,  1996,  ...,     0,     0,     0],\n",
      "        ...,\n",
      "        [  101,  3071,  4122,  ...,     0,     0,     0],\n",
      "        [  101, 27793,  3215,  ...,     0,     0,     0],\n",
      "        [  101,  1030,  5310,  ...,     0,     0,     0]]), 'attention_mask': tensor([[1, 1, 1,  ..., 0, 0, 0],\n",
      "        [1, 1, 1,  ..., 0, 0, 0],\n",
      "        [1, 1, 1,  ..., 0, 0, 0],\n",
      "        ...,\n",
      "        [1, 1, 1,  ..., 0, 0, 0],\n",
      "        [1, 1, 1,  ..., 0, 0, 0],\n",
      "        [1, 1, 1,  ..., 0, 0, 0]])}\n",
      "{'label': tensor([0, 1, 0, 0, 0, 0, 1, 0, 0, 0, 1, 1, 1, 0, 1, 0]), 'input_ids': tensor([[  101,  1001,  5137,  ...,     0,     0,     0],\n",
      "        [  101,  1030,  5310,  ...,     0,     0,     0],\n",
      "        [  101,  1030,  5310,  ...,     0,     0,     0],\n",
      "        ...,\n",
      "        [  101, 14477, 21408,  ...,     0,     0,     0],\n",
      "        [  101,  2053,  2028,  ...,     0,     0,     0],\n",
      "        [  101,  3059,  3387,  ...,     0,     0,     0]]), 'attention_mask': tensor([[1, 1, 1,  ..., 0, 0, 0],\n",
      "        [1, 1, 1,  ..., 0, 0, 0],\n",
      "        [1, 1, 1,  ..., 0, 0, 0],\n",
      "        ...,\n",
      "        [1, 1, 1,  ..., 0, 0, 0],\n",
      "        [1, 1, 1,  ..., 0, 0, 0],\n",
      "        [1, 1, 1,  ..., 0, 0, 0]])}\n",
      "{'label': tensor([1, 1, 1, 0, 1, 0, 1, 0, 1, 1, 1, 0, 0, 1, 0, 0]), 'input_ids': tensor([[ 101, 2279, 1012,  ...,    0,    0,    0],\n",
      "        [ 101, 1001, 6206,  ...,    0,    0,    0],\n",
      "        [ 101, 2065, 2017,  ...,    0,    0,    0],\n",
      "        ...,\n",
      "        [ 101, 1015, 7570,  ...,    0,    0,    0],\n",
      "        [ 101, 1030, 5310,  ...,    0,    0,    0],\n",
      "        [ 101, 2043, 2017,  ...,    0,    0,    0]]), 'attention_mask': tensor([[1, 1, 1,  ..., 0, 0, 0],\n",
      "        [1, 1, 1,  ..., 0, 0, 0],\n",
      "        [1, 1, 1,  ..., 0, 0, 0],\n",
      "        ...,\n",
      "        [1, 1, 1,  ..., 0, 0, 0],\n",
      "        [1, 1, 1,  ..., 0, 0, 0],\n",
      "        [1, 1, 1,  ..., 0, 0, 0]])}\n",
      "{'label': tensor([1, 0, 0, 0, 1, 1, 0, 1, 0, 1, 1, 1, 0, 1, 1, 0]), 'input_ids': tensor([[ 101, 5256, 2039,  ...,    0,    0,    0],\n",
      "        [ 101, 1030, 5310,  ...,    0,    0,    0],\n",
      "        [ 101, 1045, 2066,  ...,    0,    0,    0],\n",
      "        ...,\n",
      "        [ 101, 6696, 2015,  ...,    0,    0,    0],\n",
      "        [ 101, 1030, 5310,  ...,    0,    0,    0],\n",
      "        [ 101, 5824, 3867,  ...,    0,    0,    0]]), 'attention_mask': tensor([[1, 1, 1,  ..., 0, 0, 0],\n",
      "        [1, 1, 1,  ..., 0, 0, 0],\n",
      "        [1, 1, 1,  ..., 0, 0, 0],\n",
      "        ...,\n",
      "        [1, 1, 1,  ..., 0, 0, 0],\n",
      "        [1, 1, 1,  ..., 0, 0, 0],\n",
      "        [1, 1, 1,  ..., 0, 0, 0]])}\n",
      "{'label': tensor([0, 0, 1, 0, 0, 1, 0, 0, 0, 1, 0, 1, 0, 0, 0, 1]), 'input_ids': tensor([[  101,  2043, 10930,  ...,     0,     0,     0],\n",
      "        [  101,  2043,  1996,  ...,     0,     0,     0],\n",
      "        [  101,  1001,  3857,  ...,     0,     0,     0],\n",
      "        ...,\n",
      "        [  101,  1030,  5310,  ...,     0,     0,     0],\n",
      "        [  101,  1030,  5310,  ...,     0,     0,     0],\n",
      "        [  101,  1030,  5310,  ...,     0,     0,     0]]), 'attention_mask': tensor([[1, 1, 1,  ..., 0, 0, 0],\n",
      "        [1, 1, 1,  ..., 0, 0, 0],\n",
      "        [1, 1, 1,  ..., 0, 0, 0],\n",
      "        ...,\n",
      "        [1, 1, 1,  ..., 0, 0, 0],\n",
      "        [1, 1, 1,  ..., 0, 0, 0],\n",
      "        [1, 1, 1,  ..., 0, 0, 0]])}\n",
      "{'label': tensor([1, 1, 0, 1, 0, 0, 0, 1, 0, 0, 0, 0, 1, 1, 1, 1]), 'input_ids': tensor([[ 101, 2643, 2008,  ...,    0,    0,    0],\n",
      "        [ 101, 1030, 5310,  ...,    0,    0,    0],\n",
      "        [ 101, 7929, 2025,  ...,    0,    0,    0],\n",
      "        ...,\n",
      "        [ 101, 5128, 2308,  ...,    0,    0,    0],\n",
      "        [ 101, 1030, 5310,  ...,    0,    0,    0],\n",
      "        [ 101, 1030, 5310,  ...,    0,    0,    0]]), 'attention_mask': tensor([[1, 1, 1,  ..., 0, 0, 0],\n",
      "        [1, 1, 1,  ..., 0, 0, 0],\n",
      "        [1, 1, 1,  ..., 0, 0, 0],\n",
      "        ...,\n",
      "        [1, 1, 1,  ..., 0, 0, 0],\n",
      "        [1, 1, 1,  ..., 0, 0, 0],\n",
      "        [1, 1, 1,  ..., 0, 0, 0]])}\n",
      "{'label': tensor([1, 0, 1, 1, 1, 0, 1, 1, 1, 0, 0, 0, 1, 0, 0, 0]), 'input_ids': tensor([[  101,  2051,  2000,  ...,     0,     0,     0],\n",
      "        [  101,  2885,  2074,  ...,     0,     0,     0],\n",
      "        [  101,  1030,  5310,  ...,     0,     0,     0],\n",
      "        ...,\n",
      "        [  101,  2010,  2155,  ...,     0,     0,     0],\n",
      "        [  101, 21442, 11705,  ...,     0,     0,     0],\n",
      "        [  101, 29498,  9040,  ...,     0,     0,     0]]), 'attention_mask': tensor([[1, 1, 1,  ..., 0, 0, 0],\n",
      "        [1, 1, 1,  ..., 0, 0, 0],\n",
      "        [1, 1, 1,  ..., 0, 0, 0],\n",
      "        ...,\n",
      "        [1, 1, 1,  ..., 0, 0, 0],\n",
      "        [1, 1, 1,  ..., 0, 0, 0],\n",
      "        [1, 1, 1,  ..., 0, 0, 0]])}\n",
      "{'label': tensor([0, 0, 1, 1, 0, 1, 0, 1, 1, 1, 1, 1, 0, 0, 0, 0]), 'input_ids': tensor([[  101, 29071,  2817,  ...,     0,     0,     0],\n",
      "        [  101,  2097, 10307,  ...,     0,     0,     0],\n",
      "        [  101,  2131,  2058,  ...,     0,     0,     0],\n",
      "        ...,\n",
      "        [  101,  1996,  8223,  ...,     0,     0,     0],\n",
      "        [  101,  1030,  5310,  ...,     0,     0,     0],\n",
      "        [  101,  1996, 15571,  ...,     0,     0,     0]]), 'attention_mask': tensor([[1, 1, 1,  ..., 0, 0, 0],\n",
      "        [1, 1, 1,  ..., 0, 0, 0],\n",
      "        [1, 1, 1,  ..., 0, 0, 0],\n",
      "        ...,\n",
      "        [1, 1, 1,  ..., 0, 0, 0],\n",
      "        [1, 1, 1,  ..., 0, 0, 0],\n",
      "        [1, 1, 1,  ..., 0, 0, 0]])}\n",
      "{'label': tensor([0, 0, 0, 1, 0, 0, 1, 0, 0, 1, 1, 0, 0, 0, 0, 0]), 'input_ids': tensor([[ 101, 2065, 2027,  ...,    0,    0,    0],\n",
      "        [ 101, 2312, 2752,  ...,    0,    0,    0],\n",
      "        [ 101, 1045, 1521,  ...,    0,    0,    0],\n",
      "        ...,\n",
      "        [ 101, 3648, 4449,  ...,    0,    0,    0],\n",
      "        [ 101, 1030, 5310,  ...,    0,    0,    0],\n",
      "        [ 101, 2023, 2003,  ...,    0,    0,    0]]), 'attention_mask': tensor([[1, 1, 1,  ..., 0, 0, 0],\n",
      "        [1, 1, 1,  ..., 0, 0, 0],\n",
      "        [1, 1, 1,  ..., 0, 0, 0],\n",
      "        ...,\n",
      "        [1, 1, 1,  ..., 0, 0, 0],\n",
      "        [1, 1, 1,  ..., 0, 0, 0],\n",
      "        [1, 1, 1,  ..., 0, 0, 0]])}\n",
      "{'label': tensor([0, 0, 1, 1, 1, 0, 1, 1, 0, 1, 0, 0, 1, 0, 0, 1]), 'input_ids': tensor([[  101,  1030,  5310,  ...,     0,     0,     0],\n",
      "        [  101,  1030,  5310,  ...,     0,     0,     0],\n",
      "        [  101,  2026,  1001,  ...,     0,     0,     0],\n",
      "        ...,\n",
      "        [  101, 25603,  8711,  ...,     0,     0,     0],\n",
      "        [  101,  2111,  2360,  ...,     0,     0,     0],\n",
      "        [  101,  1045,  2215,  ...,     0,     0,     0]]), 'attention_mask': tensor([[1, 1, 1,  ..., 0, 0, 0],\n",
      "        [1, 1, 1,  ..., 0, 0, 0],\n",
      "        [1, 1, 1,  ..., 0, 0, 0],\n",
      "        ...,\n",
      "        [1, 1, 1,  ..., 0, 0, 0],\n",
      "        [1, 1, 1,  ..., 0, 0, 0],\n",
      "        [1, 1, 1,  ..., 0, 0, 0]])}\n",
      "{'label': tensor([0, 1, 1, 1, 0, 1, 0, 1, 0, 0, 1, 1, 0, 1, 1, 0]), 'input_ids': tensor([[ 101, 2339, 2024,  ...,    0,    0,    0],\n",
      "        [ 101, 1030, 5310,  ...,    0,    0,    0],\n",
      "        [ 101, 1030, 5310,  ...,    0,    0,    0],\n",
      "        ...,\n",
      "        [ 101, 7743, 2017,  ...,    0,    0,    0],\n",
      "        [ 101, 1001, 7489,  ...,    0,    0,    0],\n",
      "        [ 101, 8398, 1005,  ...,    0,    0,    0]]), 'attention_mask': tensor([[1, 1, 1,  ..., 0, 0, 0],\n",
      "        [1, 1, 1,  ..., 0, 0, 0],\n",
      "        [1, 1, 1,  ..., 0, 0, 0],\n",
      "        ...,\n",
      "        [1, 1, 1,  ..., 0, 0, 0],\n",
      "        [1, 1, 1,  ..., 0, 0, 0],\n",
      "        [1, 1, 1,  ..., 0, 0, 0]])}\n",
      "{'label': tensor([1, 1, 0, 0, 1, 0, 0, 0, 1, 1, 0, 0, 0, 1, 1, 0]), 'input_ids': tensor([[ 101, 9587, 8379,  ...,    0,    0,    0],\n",
      "        [ 101, 1030, 5310,  ...,    0,    0,    0],\n",
      "        [ 101, 2023, 2003,  ...,    0,    0,    0],\n",
      "        ...,\n",
      "        [ 101, 1030, 5310,  ...,    0,    0,    0],\n",
      "        [ 101, 8398, 2933,  ...,    0,    0,    0],\n",
      "        [ 101, 2131, 1037,  ...,    0,    0,    0]]), 'attention_mask': tensor([[1, 1, 1,  ..., 0, 0, 0],\n",
      "        [1, 1, 1,  ..., 0, 0, 0],\n",
      "        [1, 1, 1,  ..., 0, 0, 0],\n",
      "        ...,\n",
      "        [1, 1, 1,  ..., 0, 0, 0],\n",
      "        [1, 1, 1,  ..., 0, 0, 0],\n",
      "        [1, 1, 1,  ..., 0, 0, 0]])}\n",
      "{'label': tensor([0, 1, 1, 0, 0, 0, 1, 1, 0, 1, 1, 0, 1, 1, 1, 1]), 'input_ids': tensor([[  101,  2273,  2802,  ...,     0,     0,     0],\n",
      "        [  101,  2057,  2064,  ...,     0,     0,     0],\n",
      "        [  101,  2000,  3649,  ...,     0,     0,     0],\n",
      "        ...,\n",
      "        [  101,  1030,  5310,  ...,     0,     0,     0],\n",
      "        [  101,  5325,  1999,  ...,     0,     0,     0],\n",
      "        [  101, 15876, 11335,  ...,     0,     0,     0]]), 'attention_mask': tensor([[1, 1, 1,  ..., 0, 0, 0],\n",
      "        [1, 1, 1,  ..., 0, 0, 0],\n",
      "        [1, 1, 1,  ..., 0, 0, 0],\n",
      "        ...,\n",
      "        [1, 1, 1,  ..., 0, 0, 0],\n",
      "        [1, 1, 1,  ..., 0, 0, 0],\n",
      "        [1, 1, 1,  ..., 0, 0, 0]])}\n",
      "{'label': tensor([0, 1, 1, 0, 0, 0, 0, 0, 1, 0, 1, 1, 0, 0, 1, 0]), 'input_ids': tensor([[ 101, 1030, 5310,  ...,    0,    0,    0],\n",
      "        [ 101, 1030, 5310,  ...,    0,    0,    0],\n",
      "        [ 101, 2657, 2008,  ...,    0,    0,    0],\n",
      "        ...,\n",
      "        [ 101, 1001, 2552,  ...,    0,    0,    0],\n",
      "        [ 101, 2054, 1005,  ...,    0,    0,    0],\n",
      "        [ 101, 2043, 2016,  ...,    0,    0,    0]]), 'attention_mask': tensor([[1, 1, 1,  ..., 0, 0, 0],\n",
      "        [1, 1, 1,  ..., 0, 0, 0],\n",
      "        [1, 1, 1,  ..., 0, 0, 0],\n",
      "        ...,\n",
      "        [1, 1, 1,  ..., 0, 0, 0],\n",
      "        [1, 1, 1,  ..., 0, 0, 0],\n",
      "        [1, 1, 1,  ..., 0, 0, 0]])}\n",
      "{'label': tensor([0, 0, 0, 1, 0, 1, 1, 0, 1, 0, 1, 1, 1, 1, 1, 1]), 'input_ids': tensor([[  101, 28213,  2003,  ...,     0,     0,     0],\n",
      "        [  101,  1057,  1012,  ...,     0,     0,     0],\n",
      "        [  101,  9042,  8711,  ...,     0,     0,     0],\n",
      "        ...,\n",
      "        [  101,  2292,  2033,  ...,     0,     0,     0],\n",
      "        [  101,  1030,  5310,  ...,     0,     0,     0],\n",
      "        [  101,  2308, 19501,  ...,     0,     0,     0]]), 'attention_mask': tensor([[1, 1, 1,  ..., 0, 0, 0],\n",
      "        [1, 1, 1,  ..., 0, 0, 0],\n",
      "        [1, 1, 1,  ..., 0, 0, 0],\n",
      "        ...,\n",
      "        [1, 1, 1,  ..., 0, 0, 0],\n",
      "        [1, 1, 1,  ..., 0, 0, 0],\n",
      "        [1, 1, 1,  ..., 0, 0, 0]])}\n",
      "{'label': tensor([0, 1, 1, 1, 1, 1, 0, 0, 0, 0, 1, 1, 0, 1, 0, 1]), 'input_ids': tensor([[ 101, 1030, 5310,  ...,    0,    0,    0],\n",
      "        [ 101, 2061, 1996,  ...,    0,    0,    0],\n",
      "        [ 101, 7743, 2229,  ...,    0,    0,    0],\n",
      "        ...,\n",
      "        [ 101, 2111, 2008,  ...,    0,    0,    0],\n",
      "        [ 101, 1030, 5310,  ...,    0,    0,    0],\n",
      "        [ 101, 1030, 5310,  ...,    0,    0,    0]]), 'attention_mask': tensor([[1, 1, 1,  ..., 0, 0, 0],\n",
      "        [1, 1, 1,  ..., 0, 0, 0],\n",
      "        [1, 1, 1,  ..., 0, 0, 0],\n",
      "        ...,\n",
      "        [1, 1, 1,  ..., 0, 0, 0],\n",
      "        [1, 1, 1,  ..., 0, 0, 0],\n",
      "        [1, 1, 1,  ..., 0, 0, 0]])}\n",
      "{'label': tensor([0, 1, 0, 1, 0, 0, 1, 1, 0, 0, 1, 1, 0, 1, 1, 1]), 'input_ids': tensor([[ 101, 8141, 6869,  ...,    0,    0,    0],\n",
      "        [ 101, 1030, 5310,  ...,    0,    0,    0],\n",
      "        [ 101, 2043, 2115,  ...,    0,    0,    0],\n",
      "        ...,\n",
      "        [ 101, 6947, 1000,  ...,    0,    0,    0],\n",
      "        [ 101, 1045, 1005,  ...,    0,    0,    0],\n",
      "        [ 101, 1030, 5310,  ...,    0,    0,    0]]), 'attention_mask': tensor([[1, 1, 1,  ..., 0, 0, 0],\n",
      "        [1, 1, 1,  ..., 0, 0, 0],\n",
      "        [1, 1, 1,  ..., 0, 0, 0],\n",
      "        ...,\n",
      "        [1, 1, 1,  ..., 0, 0, 0],\n",
      "        [1, 1, 1,  ..., 0, 0, 0],\n",
      "        [1, 1, 1,  ..., 0, 0, 0]])}\n",
      "{'label': tensor([1, 1, 1, 0, 0, 0, 0, 0, 0, 1, 1, 0, 0, 1, 1, 0]), 'input_ids': tensor([[  101,  2204,  2739,  ...,     0,     0,     0],\n",
      "        [  101,  1030,  5310,  ...,     0,     0,     0],\n",
      "        [  101, 14216,  2075,  ...,     0,     0,     0],\n",
      "        ...,\n",
      "        [  101,  2279,  2051,  ...,     0,     0,     0],\n",
      "        [  101,  1030,  5310,  ...,     0,     0,     0],\n",
      "        [  101,  4812, 14128,  ...,     0,     0,     0]]), 'attention_mask': tensor([[1, 1, 1,  ..., 0, 0, 0],\n",
      "        [1, 1, 1,  ..., 0, 0, 0],\n",
      "        [1, 1, 1,  ..., 0, 0, 0],\n",
      "        ...,\n",
      "        [1, 1, 1,  ..., 0, 0, 0],\n",
      "        [1, 1, 1,  ..., 0, 0, 0],\n",
      "        [1, 1, 1,  ..., 0, 0, 0]])}\n",
      "{'label': tensor([0, 0, 0, 0, 1, 0, 1, 1, 0, 0, 1, 1, 0, 1, 0, 1]), 'input_ids': tensor([[ 101, 3524, 2115,  ...,    0,    0,    0],\n",
      "        [ 101, 1030, 5310,  ...,    0,    0,    0],\n",
      "        [ 101, 2323, 3288,  ...,    0,    0,    0],\n",
      "        ...,\n",
      "        [ 101, 9734, 1011,  ...,    0,    0,    0],\n",
      "        [ 101, 2043, 2017,  ...,    0,    0,    0],\n",
      "        [ 101, 2156, 6090,  ...,    0,    0,    0]]), 'attention_mask': tensor([[1, 1, 1,  ..., 0, 0, 0],\n",
      "        [1, 1, 1,  ..., 0, 0, 0],\n",
      "        [1, 1, 1,  ..., 0, 0, 0],\n",
      "        ...,\n",
      "        [1, 1, 1,  ..., 0, 0, 0],\n",
      "        [1, 1, 1,  ..., 0, 0, 0],\n",
      "        [1, 1, 1,  ..., 0, 0, 0]])}\n",
      "{'label': tensor([1, 1, 0, 0, 0, 0, 0, 1, 1, 1, 0, 1, 1, 1, 0, 0]), 'input_ids': tensor([[  101,  1030,  5310,  ...,     0,     0,     0],\n",
      "        [  101,  2823,  2017,  ...,     0,     0,     0],\n",
      "        [  101,  3653,  2015,  ...,     0,     0,     0],\n",
      "        ...,\n",
      "        [  101,  1001,  3857,  ...,     0,     0,     0],\n",
      "        [  101,  7743, 10047,  ...,     0,     0,     0],\n",
      "        [  101,  2088,  4335,  ...,     0,     0,     0]]), 'attention_mask': tensor([[1, 1, 1,  ..., 0, 0, 0],\n",
      "        [1, 1, 1,  ..., 0, 0, 0],\n",
      "        [1, 1, 1,  ..., 0, 0, 0],\n",
      "        ...,\n",
      "        [1, 1, 1,  ..., 0, 0, 0],\n",
      "        [1, 1, 1,  ..., 0, 0, 0],\n",
      "        [1, 1, 1,  ..., 0, 0, 0]])}\n",
      "{'label': tensor([0, 1, 0, 1, 1, 0, 1, 1, 0, 0, 0, 1, 0, 0, 0, 1]), 'input_ids': tensor([[  101,  2168,  5402,  ...,     0,     0,     0],\n",
      "        [  101,  1030,  5310,  ...,     0,     0,     0],\n",
      "        [  101,  2489, 12077,  ...,     0,     0,     0],\n",
      "        ...,\n",
      "        [  101,  1045,  2903,  ...,     0,     0,     0],\n",
      "        [  101, 15476,  1019,  ...,     0,     0,     0],\n",
      "        [  101,  2137,  4480,  ...,     0,     0,     0]]), 'attention_mask': tensor([[1, 1, 1,  ..., 0, 0, 0],\n",
      "        [1, 1, 1,  ..., 0, 0, 0],\n",
      "        [1, 1, 1,  ..., 0, 0, 0],\n",
      "        ...,\n",
      "        [1, 1, 1,  ..., 0, 0, 0],\n",
      "        [1, 1, 1,  ..., 0, 0, 0],\n",
      "        [1, 1, 1,  ..., 0, 0, 0]])}\n",
      "{'label': tensor([1, 0, 0, 1, 0, 0, 0, 0, 0, 1, 0, 0, 0, 1, 1, 1]), 'input_ids': tensor([[  101,  1030,  5310,  ...,     0,     0,     0],\n",
      "        [  101,  3648,  7126,  ...,     0,     0,     0],\n",
      "        [  101,  2061,  2521,  ...,     0,     0,     0],\n",
      "        ...,\n",
      "        [  101,  2016,  1521,  ...,     0,     0,     0],\n",
      "        [  101,  2008,  1996,  ...,     0,     0,     0],\n",
      "        [  101, 12290,  2025,  ...,     0,     0,     0]]), 'attention_mask': tensor([[1, 1, 1,  ..., 0, 0, 0],\n",
      "        [1, 1, 1,  ..., 0, 0, 0],\n",
      "        [1, 1, 1,  ..., 0, 0, 0],\n",
      "        ...,\n",
      "        [1, 1, 1,  ..., 0, 0, 0],\n",
      "        [1, 1, 1,  ..., 0, 0, 0],\n",
      "        [1, 1, 1,  ..., 0, 0, 0]])}\n",
      "{'label': tensor([0, 0, 0, 1, 0, 1, 0, 0, 1, 0, 0, 0, 0, 1, 1, 0]), 'input_ids': tensor([[  101,  1030,  5310,  ...,     0,     0,     0],\n",
      "        [  101,  1045,  4687,  ...,     0,     0,     0],\n",
      "        [  101,  1001,  5796,  ...,     0,     0,     0],\n",
      "        ...,\n",
      "        [  101,  1030,  5310,  ...,     0,     0,     0],\n",
      "        [  101, 20976,  2008,  ...,     0,     0,     0],\n",
      "        [  101,  3422,  1024,  ...,     0,     0,     0]]), 'attention_mask': tensor([[1, 1, 1,  ..., 0, 0, 0],\n",
      "        [1, 1, 1,  ..., 0, 0, 0],\n",
      "        [1, 1, 1,  ..., 0, 0, 0],\n",
      "        ...,\n",
      "        [1, 1, 1,  ..., 0, 0, 0],\n",
      "        [1, 1, 1,  ..., 0, 0, 0],\n",
      "        [1, 1, 1,  ..., 0, 0, 0]])}\n",
      "{'label': tensor([0, 0, 0, 0, 0, 0, 1, 1, 0, 0, 0, 1, 0, 1, 0, 1]), 'input_ids': tensor([[  101,  7486, 13847,  ...,     0,     0,     0],\n",
      "        [  101,  1030,  5310,  ...,     0,     0,     0],\n",
      "        [  101,  1045,  2056,  ...,     0,     0,     0],\n",
      "        ...,\n",
      "        [  101,  2065,  2045,  ...,     0,     0,     0],\n",
      "        [  101,  4654,  1011,  ...,     0,     0,     0],\n",
      "        [  101,  7570,  2229,  ...,     0,     0,     0]]), 'attention_mask': tensor([[1, 1, 1,  ..., 0, 0, 0],\n",
      "        [1, 1, 1,  ..., 0, 0, 0],\n",
      "        [1, 1, 1,  ..., 0, 0, 0],\n",
      "        ...,\n",
      "        [1, 1, 1,  ..., 0, 0, 0],\n",
      "        [1, 1, 1,  ..., 0, 0, 0],\n",
      "        [1, 1, 1,  ..., 0, 0, 0]])}\n",
      "{'label': tensor([1, 1, 1, 0, 1, 1, 1, 0, 1, 0, 0, 0, 1, 1, 1, 1]), 'input_ids': tensor([[ 101, 2045, 2003,  ...,    0,    0,    0],\n",
      "        [ 101, 2062, 5191,  ...,    0,    0,    0],\n",
      "        [ 101, 2320, 1037,  ...,    0,    0,    0],\n",
      "        ...,\n",
      "        [ 101, 1030, 5310,  ...,    0,    0,    0],\n",
      "        [ 101, 6696, 2015,  ...,    0,    0,    0],\n",
      "        [ 101, 1030, 5310,  ...,    0,    0,    0]]), 'attention_mask': tensor([[1, 1, 1,  ..., 0, 0, 0],\n",
      "        [1, 1, 1,  ..., 0, 0, 0],\n",
      "        [1, 1, 1,  ..., 0, 0, 0],\n",
      "        ...,\n",
      "        [1, 1, 1,  ..., 0, 0, 0],\n",
      "        [1, 1, 1,  ..., 0, 0, 0],\n",
      "        [1, 1, 1,  ..., 0, 0, 0]])}\n",
      "{'label': tensor([1, 1, 1, 1, 0, 0, 0, 0, 1, 1, 1, 1, 0, 0, 1, 1]), 'input_ids': tensor([[ 101, 2320, 2588,  ...,    0,    0,    0],\n",
      "        [ 101, 2069, 2079,  ...,    0,    0,    0],\n",
      "        [ 101, 2128, 2102,  ...,    0,    0,    0],\n",
      "        ...,\n",
      "        [ 101, 3304, 4473,  ...,    0,    0,    0],\n",
      "        [ 101, 4701, 2038,  ...,    0,    0,    0],\n",
      "        [ 101, 2644, 1056,  ...,    0,    0,    0]]), 'attention_mask': tensor([[1, 1, 1,  ..., 0, 0, 0],\n",
      "        [1, 1, 1,  ..., 0, 0, 0],\n",
      "        [1, 1, 1,  ..., 0, 0, 0],\n",
      "        ...,\n",
      "        [1, 1, 1,  ..., 0, 0, 0],\n",
      "        [1, 1, 1,  ..., 0, 0, 0],\n",
      "        [1, 1, 1,  ..., 0, 0, 0]])}\n",
      "{'label': tensor([1, 0, 1, 1, 0, 1, 1, 0, 0, 1, 1, 0, 0, 0, 1, 1]), 'input_ids': tensor([[  101, 10166,  1010,  ...,     0,     0,     0],\n",
      "        [  101,  1996,  2231,  ...,     0,     0,     0],\n",
      "        [  101,  1030,  5310,  ...,     0,     0,     0],\n",
      "        ...,\n",
      "        [  101,  1996,  9596,  ...,     0,     0,     0],\n",
      "        [  101, 19387,  1030,  ...,     0,     0,     0],\n",
      "        [  101,  1030,  5310,  ...,     0,     0,     0]]), 'attention_mask': tensor([[1, 1, 1,  ..., 0, 0, 0],\n",
      "        [1, 1, 1,  ..., 0, 0, 0],\n",
      "        [1, 1, 1,  ..., 0, 0, 0],\n",
      "        ...,\n",
      "        [1, 1, 1,  ..., 0, 0, 0],\n",
      "        [1, 1, 1,  ..., 0, 0, 0],\n",
      "        [1, 1, 1,  ..., 0, 0, 0]])}\n",
      "{'label': tensor([1, 0, 1, 0, 0, 0, 0, 0, 0, 1, 0, 0, 0, 0, 0, 0]), 'input_ids': tensor([[ 101, 1030, 5310,  ...,    0,    0,    0],\n",
      "        [ 101, 2184, 2781,  ...,    0,    0,    0],\n",
      "        [ 101, 3658, 1010,  ...,    0,    0,    0],\n",
      "        ...,\n",
      "        [ 101, 2054, 1037,  ...,    0,    0,    0],\n",
      "        [ 101, 1057, 5603,  ...,    0,    0,    0],\n",
      "        [ 101, 2043, 2115,  ...,    0,    0,    0]]), 'attention_mask': tensor([[1, 1, 1,  ..., 0, 0, 0],\n",
      "        [1, 1, 1,  ..., 0, 0, 0],\n",
      "        [1, 1, 1,  ..., 0, 0, 0],\n",
      "        ...,\n",
      "        [1, 1, 1,  ..., 0, 0, 0],\n",
      "        [1, 1, 1,  ..., 0, 0, 0],\n",
      "        [1, 1, 1,  ..., 0, 0, 0]])}\n",
      "{'label': tensor([1, 0, 0, 0, 0, 1, 0, 0, 0, 0, 1, 0, 0, 1, 0, 0]), 'input_ids': tensor([[  101,  1012,  1030,  ...,     0,     0,     0],\n",
      "        [  101, 15332, 16836,  ...,     0,     0,     0],\n",
      "        [  101,  3009,  2911,  ...,     0,     0,     0],\n",
      "        ...,\n",
      "        [  101,  1030,  5310,  ...,     0,     0,     0],\n",
      "        [  101, 10918,  2003,  ...,     0,     0,     0],\n",
      "        [  101,  1030,  5310,  ...,     0,     0,     0]]), 'attention_mask': tensor([[1, 1, 1,  ..., 0, 0, 0],\n",
      "        [1, 1, 1,  ..., 0, 0, 0],\n",
      "        [1, 1, 1,  ..., 0, 0, 0],\n",
      "        ...,\n",
      "        [1, 1, 1,  ..., 0, 0, 0],\n",
      "        [1, 1, 1,  ..., 0, 0, 0],\n",
      "        [1, 1, 1,  ..., 0, 0, 0]])}\n",
      "{'label': tensor([1, 1, 0, 0, 0, 1, 0, 1, 1, 1, 1, 0, 0, 0, 0, 0]), 'input_ids': tensor([[  101,  1030,  5310,  ...,     0,     0,     0],\n",
      "        [  101,  1005,  1045,  ...,     0,     0,     0],\n",
      "        [  101,  1045,  2812,  ...,     0,     0,     0],\n",
      "        ...,\n",
      "        [  101,  2004,  2891,  ...,     0,     0,     0],\n",
      "        [  101,  2043,  2016,  ...,     0,     0,     0],\n",
      "        [  101,  1996, 16593,  ...,     0,     0,     0]]), 'attention_mask': tensor([[1, 1, 1,  ..., 0, 0, 0],\n",
      "        [1, 1, 1,  ..., 0, 0, 0],\n",
      "        [1, 1, 1,  ..., 0, 0, 0],\n",
      "        ...,\n",
      "        [1, 1, 1,  ..., 0, 0, 0],\n",
      "        [1, 1, 1,  ..., 0, 0, 0],\n",
      "        [1, 1, 1,  ..., 0, 0, 0]])}\n",
      "{'label': tensor([0, 1, 0, 1, 1, 1, 0, 1, 0, 1, 1, 0, 1, 0, 0, 0]), 'input_ids': tensor([[  101,  2009,  2003,  ...,     0,     0,     0],\n",
      "        [  101,  8840,  2140,  ...,     0,     0,     0],\n",
      "        [  101,  8956, 11560,  ...,     0,     0,     0],\n",
      "        ...,\n",
      "        [  101,  1996,  2862,  ...,     0,     0,     0],\n",
      "        [  101,  4895,  4311,  ...,     0,     0,     0],\n",
      "        [  101,  1030,  5310,  ...,     0,     0,     0]]), 'attention_mask': tensor([[1, 1, 1,  ..., 0, 0, 0],\n",
      "        [1, 1, 1,  ..., 0, 0, 0],\n",
      "        [1, 1, 1,  ..., 0, 0, 0],\n",
      "        ...,\n",
      "        [1, 1, 1,  ..., 0, 0, 0],\n",
      "        [1, 1, 1,  ..., 0, 0, 0],\n",
      "        [1, 1, 1,  ..., 0, 0, 0]])}\n",
      "{'label': tensor([1, 0, 1, 1, 1, 1, 1, 1, 0, 1, 0, 1, 1, 1, 1, 1]), 'input_ids': tensor([[ 101, 3857, 1996,  ...,    0,    0,    0],\n",
      "        [ 101, 2065, 1996,  ...,    0,    0,    0],\n",
      "        [ 101, 1030, 5310,  ...,    0,    0,    0],\n",
      "        ...,\n",
      "        [ 101, 2005, 2068,  ...,    0,    0,    0],\n",
      "        [ 101, 1030, 5310,  ...,    0,    0,    0],\n",
      "        [ 101, 1030, 5310,  ...,    0,    0,    0]]), 'attention_mask': tensor([[1, 1, 1,  ..., 0, 0, 0],\n",
      "        [1, 1, 1,  ..., 0, 0, 0],\n",
      "        [1, 1, 1,  ..., 0, 0, 0],\n",
      "        ...,\n",
      "        [1, 1, 1,  ..., 0, 0, 0],\n",
      "        [1, 1, 1,  ..., 0, 0, 0],\n",
      "        [1, 1, 1,  ..., 0, 0, 0]])}\n",
      "{'label': tensor([0, 1, 1, 0, 0, 1, 1, 0, 1, 0, 1, 0, 1, 0, 0, 0]), 'input_ids': tensor([[ 101, 2043, 2619,  ...,    0,    0,    0],\n",
      "        [ 101, 1030, 5310,  ...,    0,    0,    0],\n",
      "        [ 101, 1001, 5256,  ...,    0,    0,    0],\n",
      "        ...,\n",
      "        [ 101, 1012, 1012,  ...,    0,    0,    0],\n",
      "        [ 101, 2043, 2017,  ...,    0,    0,    0],\n",
      "        [ 101, 1045, 1005,  ...,    0,    0,    0]]), 'attention_mask': tensor([[1, 1, 1,  ..., 0, 0, 0],\n",
      "        [1, 1, 1,  ..., 0, 0, 0],\n",
      "        [1, 1, 1,  ..., 0, 0, 0],\n",
      "        ...,\n",
      "        [1, 1, 1,  ..., 0, 0, 0],\n",
      "        [1, 1, 1,  ..., 0, 0, 0],\n",
      "        [1, 1, 1,  ..., 0, 0, 0]])}\n",
      "{'label': tensor([0, 1, 0, 0, 0, 1, 1, 1, 0, 1, 0, 1, 1, 0, 1, 0]), 'input_ids': tensor([[ 101, 1996, 7521,  ...,    0,    0,    0],\n",
      "        [ 101, 2087, 2308,  ...,    0,    0,    0],\n",
      "        [ 101, 9875, 2017,  ...,    0,    0,    0],\n",
      "        ...,\n",
      "        [ 101, 1030, 5310,  ...,    0,    0,    0],\n",
      "        [ 101, 1030, 5310,  ...,    0,    0,    0],\n",
      "        [ 101, 1030, 5310,  ...,    0,    0,    0]]), 'attention_mask': tensor([[1, 1, 1,  ..., 0, 0, 0],\n",
      "        [1, 1, 1,  ..., 0, 0, 0],\n",
      "        [1, 1, 1,  ..., 0, 0, 0],\n",
      "        ...,\n",
      "        [1, 1, 1,  ..., 0, 0, 0],\n",
      "        [1, 1, 1,  ..., 0, 0, 0],\n",
      "        [1, 1, 1,  ..., 0, 0, 0]])}\n",
      "{'label': tensor([0, 1, 0, 0, 0, 1, 0, 1, 0, 0, 1, 1, 0, 1, 1, 0]), 'input_ids': tensor([[  101,  2339,  5815,  ...,     0,     0,     0],\n",
      "        [  101,  9802,  9806,  ...,     0,     0,     0],\n",
      "        [  101, 12917,  1010,  ...,     0,     0,     0],\n",
      "        ...,\n",
      "        [  101,  1030,  5310,  ...,     0,     0,     0],\n",
      "        [  101,  2024,  2057,  ...,     0,     0,     0],\n",
      "        [  101,  1030,  5310,  ...,     0,     0,     0]]), 'attention_mask': tensor([[1, 1, 1,  ..., 0, 0, 0],\n",
      "        [1, 1, 1,  ..., 0, 0, 0],\n",
      "        [1, 1, 1,  ..., 0, 0, 0],\n",
      "        ...,\n",
      "        [1, 1, 1,  ..., 0, 0, 0],\n",
      "        [1, 1, 1,  ..., 0, 0, 0],\n",
      "        [1, 1, 1,  ..., 0, 0, 0]])}\n",
      "{'label': tensor([0, 0, 0, 1, 0, 0, 0, 1, 0, 1, 0, 0, 1, 1, 1, 0]), 'input_ids': tensor([[  101,  1000,  1045,  ...,     0,     0,     0],\n",
      "        [  101, 13337,  1999,  ...,     0,     0,     0],\n",
      "        [  101,  5483,  1024,  ...,     0,     0,     0],\n",
      "        ...,\n",
      "        [  101,  2710,  2003,  ...,     0,     0,     0],\n",
      "        [  101,  1996,  6206,  ...,     0,     0,     0],\n",
      "        [  101,  2025,  2035,  ...,     0,     0,     0]]), 'attention_mask': tensor([[1, 1, 1,  ..., 0, 0, 0],\n",
      "        [1, 1, 1,  ..., 0, 0, 0],\n",
      "        [1, 1, 1,  ..., 0, 0, 0],\n",
      "        ...,\n",
      "        [1, 1, 1,  ..., 0, 0, 0],\n",
      "        [1, 1, 1,  ..., 0, 0, 0],\n",
      "        [1, 1, 1,  ..., 0, 0, 0]])}\n",
      "{'label': tensor([0, 1, 0, 0, 0, 0, 1, 0, 0, 1, 1, 1, 1, 0, 1, 1]), 'input_ids': tensor([[ 101, 1001, 7489,  ...,    0,    0,    0],\n",
      "        [ 101, 1030, 5310,  ...,    0,    0,    0],\n",
      "        [ 101, 1030, 5310,  ...,    0,    0,    0],\n",
      "        ...,\n",
      "        [ 101, 5118, 4324,  ...,    0,    0,    0],\n",
      "        [ 101, 2085, 2144,  ...,    0,    0,    0],\n",
      "        [ 101, 1030, 5310,  ...,    0,    0,    0]]), 'attention_mask': tensor([[1, 1, 1,  ..., 0, 0, 0],\n",
      "        [1, 1, 1,  ..., 0, 0, 0],\n",
      "        [1, 1, 1,  ..., 0, 0, 0],\n",
      "        ...,\n",
      "        [1, 1, 1,  ..., 0, 0, 0],\n",
      "        [1, 1, 1,  ..., 0, 0, 0],\n",
      "        [1, 1, 1,  ..., 0, 0, 0]])}\n",
      "{'label': tensor([0, 0, 0, 1, 0, 0, 0, 1, 1, 1, 0, 0, 1, 1, 0, 1]), 'input_ids': tensor([[  101,  2031,  2017,  ...,     0,     0,     0],\n",
      "        [  101, 11884,  2015,  ...,     0,     0,     0],\n",
      "        [  101,  1030,  5310,  ...,     0,     0,     0],\n",
      "        ...,\n",
      "        [  101,  2253,  2000,  ...,     0,     0,     0],\n",
      "        [  101,  3241,  2055,  ...,     0,     0,     0],\n",
      "        [  101,  2129,  7743,  ...,     0,     0,     0]]), 'attention_mask': tensor([[1, 1, 1,  ..., 0, 0, 0],\n",
      "        [1, 1, 1,  ..., 0, 0, 0],\n",
      "        [1, 1, 1,  ..., 0, 0, 0],\n",
      "        ...,\n",
      "        [1, 1, 1,  ..., 0, 0, 0],\n",
      "        [1, 1, 1,  ..., 0, 0, 0],\n",
      "        [1, 1, 1,  ..., 0, 0, 0]])}\n",
      "{'label': tensor([0, 1, 1, 0, 0, 0, 1, 1, 1, 1, 1, 1, 0, 0, 0, 1]), 'input_ids': tensor([[  101,  4895,  2708,  ...,     0,     0,     0],\n",
      "        [  101,  1030,  5310,  ...,     0,     0,     0],\n",
      "        [  101,  1001,  8711,  ...,     0,     0,     0],\n",
      "        ...,\n",
      "        [  101,  2025,  2035,  ...,     0,     0,     0],\n",
      "        [  101,  3407,  5798,  ...,     0,     0,     0],\n",
      "        [  101, 28836,  2231,  ...,     0,     0,     0]]), 'attention_mask': tensor([[1, 1, 1,  ..., 0, 0, 0],\n",
      "        [1, 1, 1,  ..., 0, 0, 0],\n",
      "        [1, 1, 1,  ..., 0, 0, 0],\n",
      "        ...,\n",
      "        [1, 1, 1,  ..., 0, 0, 0],\n",
      "        [1, 1, 1,  ..., 0, 0, 0],\n",
      "        [1, 1, 1,  ..., 0, 0, 0]])}\n",
      "{'label': tensor([1, 0, 0, 0, 1, 1, 0, 0, 1, 0, 1, 0, 1, 1, 1, 1]), 'input_ids': tensor([[  101,  1996,  3537,  ...,     0,     0,     0],\n",
      "        [  101,  1030,  5310,  ...,     0,     0,     0],\n",
      "        [  101, 17117,  2003,  ...,     0,     0,     0],\n",
      "        ...,\n",
      "        [  101,  3143, 12721,  ...,     0,     0,     0],\n",
      "        [  101,  1030,  5310,  ...,     0,     0,     0],\n",
      "        [  101,  1045,  1005,  ...,     0,     0,     0]]), 'attention_mask': tensor([[1, 1, 1,  ..., 0, 0, 0],\n",
      "        [1, 1, 1,  ..., 0, 0, 0],\n",
      "        [1, 1, 1,  ..., 0, 0, 0],\n",
      "        ...,\n",
      "        [1, 1, 1,  ..., 0, 0, 0],\n",
      "        [1, 1, 1,  ..., 0, 0, 0],\n",
      "        [1, 1, 1,  ..., 0, 0, 0]])}\n",
      "{'label': tensor([1, 0, 0, 1, 0, 0, 1, 1, 0, 0, 1, 0, 0, 0, 1, 0]), 'input_ids': tensor([[  101,  2748,  1045,  ...,     0,     0,     0],\n",
      "        [  101, 10047,  2107,  ...,     0,     0,     0],\n",
      "        [  101,  2821,  2026,  ...,     0,     0,     0],\n",
      "        ...,\n",
      "        [  101,  6625, 10052,  ...,     0,     0,     0],\n",
      "        [  101,  1045,  6616,  ...,     0,     0,     0],\n",
      "        [  101,  2710,  2478,  ...,     0,     0,     0]]), 'attention_mask': tensor([[1, 1, 1,  ..., 0, 0, 0],\n",
      "        [1, 1, 1,  ..., 0, 0, 0],\n",
      "        [1, 1, 1,  ..., 0, 0, 0],\n",
      "        ...,\n",
      "        [1, 1, 1,  ..., 0, 0, 0],\n",
      "        [1, 1, 1,  ..., 0, 0, 0],\n",
      "        [1, 1, 1,  ..., 0, 0, 0]])}\n",
      "{'label': tensor([1, 1, 1, 0, 0, 1, 0, 1, 0, 0, 0, 1, 1, 1, 0, 1]), 'input_ids': tensor([[ 101, 2027, 2428,  ...,    0,    0,    0],\n",
      "        [ 101, 2070, 2450,  ...,    0,    0,    0],\n",
      "        [ 101, 1030, 5310,  ...,    0,    0,    0],\n",
      "        ...,\n",
      "        [ 101, 3422, 1024,  ...,    0,    0,    0],\n",
      "        [ 101, 3531, 5136,  ...,    0,    0,    0],\n",
      "        [ 101, 1030, 5310,  ...,    0,    0,    0]]), 'attention_mask': tensor([[1, 1, 1,  ..., 0, 0, 0],\n",
      "        [1, 1, 1,  ..., 0, 0, 0],\n",
      "        [1, 1, 1,  ..., 0, 0, 0],\n",
      "        ...,\n",
      "        [1, 1, 1,  ..., 0, 0, 0],\n",
      "        [1, 1, 1,  ..., 0, 0, 0],\n",
      "        [1, 1, 1,  ..., 0, 0, 0]])}\n",
      "{'label': tensor([0, 1, 0, 0, 0, 0, 1, 1, 0, 0, 0, 1, 1, 1, 0, 0]), 'input_ids': tensor([[  101,  2057,  2342,  ...,     0,     0,     0],\n",
      "        [  101,  1030,  5310,  ...,     0,     0,     0],\n",
      "        [  101, 21442, 11705,  ...,     0,     0,     0],\n",
      "        ...,\n",
      "        [  101,  2054,  2003,  ...,     0,     0,     0],\n",
      "        [  101,  1030,  5310,  ...,     0,     0,     0],\n",
      "        [  101,  2893,  4157,  ...,     0,     0,     0]]), 'attention_mask': tensor([[1, 1, 1,  ..., 0, 0, 0],\n",
      "        [1, 1, 1,  ..., 0, 0, 0],\n",
      "        [1, 1, 1,  ..., 0, 0, 0],\n",
      "        ...,\n",
      "        [1, 1, 1,  ..., 0, 0, 0],\n",
      "        [1, 1, 1,  ..., 0, 0, 0],\n",
      "        [1, 1, 1,  ..., 0, 0, 0]])}\n",
      "{'label': tensor([0, 1, 0, 1, 1, 0, 1, 0, 0, 1, 0, 0, 0, 1, 0, 0]), 'input_ids': tensor([[  101,  1030,  5310,  ...,     0,     0,     0],\n",
      "        [  101,  2197, 19387,  ...,     0,     0,     0],\n",
      "        [  101,  3423, 11560,  ...,     0,     0,     0],\n",
      "        ...,\n",
      "        [  101,  1030,  5310,  ...,     0,     0,     0],\n",
      "        [  101,  2065,  2115,  ...,     0,     0,     0],\n",
      "        [  101,  1030,  5310,  ...,     0,     0,     0]]), 'attention_mask': tensor([[1, 1, 1,  ..., 0, 0, 0],\n",
      "        [1, 1, 1,  ..., 0, 0, 0],\n",
      "        [1, 1, 1,  ..., 0, 0, 0],\n",
      "        ...,\n",
      "        [1, 1, 1,  ..., 0, 0, 0],\n",
      "        [1, 1, 1,  ..., 0, 0, 0],\n",
      "        [1, 1, 1,  ..., 0, 0, 0]])}\n",
      "{'label': tensor([0, 1, 0, 1, 0, 1, 0, 1, 0, 0, 0, 1, 0, 1, 1, 1]), 'input_ids': tensor([[ 101, 2043, 2115,  ...,    0,    0,    0],\n",
      "        [ 101, 1001, 3857,  ...,    0,    0,    0],\n",
      "        [ 101, 3844, 1996,  ...,    0,    0,    0],\n",
      "        ...,\n",
      "        [ 101, 2043, 2016,  ...,    0,    0,    0],\n",
      "        [ 101, 1030, 5310,  ...,    0,    0,    0],\n",
      "        [ 101, 2005, 1996,  ...,    0,    0,    0]]), 'attention_mask': tensor([[1, 1, 1,  ..., 0, 0, 0],\n",
      "        [1, 1, 1,  ..., 0, 0, 0],\n",
      "        [1, 1, 1,  ..., 0, 0, 0],\n",
      "        ...,\n",
      "        [1, 1, 1,  ..., 0, 0, 0],\n",
      "        [1, 1, 1,  ..., 0, 0, 0],\n",
      "        [1, 1, 1,  ..., 0, 0, 0]])}\n",
      "{'label': tensor([0, 0, 1, 1, 0, 1, 0, 0, 1, 0, 0, 1, 1, 0, 1, 1]), 'input_ids': tensor([[ 101, 2065, 2957,  ...,    0,    0,    0],\n",
      "        [ 101, 2562, 6727,  ...,    0,    0,    0],\n",
      "        [ 101, 2242, 1996,  ...,    0,    0,    0],\n",
      "        ...,\n",
      "        [ 101, 3675, 6477,  ...,    0,    0,    0],\n",
      "        [ 101, 1030, 5310,  ...,    0,    0,    0],\n",
      "        [ 101, 1030, 5310,  ...,    0,    0,    0]]), 'attention_mask': tensor([[1, 1, 1,  ..., 0, 0, 0],\n",
      "        [1, 1, 1,  ..., 0, 0, 0],\n",
      "        [1, 1, 1,  ..., 0, 0, 0],\n",
      "        ...,\n",
      "        [1, 1, 1,  ..., 0, 0, 0],\n",
      "        [1, 1, 1,  ..., 0, 0, 0],\n",
      "        [1, 1, 1,  ..., 0, 0, 0]])}\n",
      "{'label': tensor([1, 0, 0, 0, 0, 0, 0, 1, 1, 0, 0, 0, 1, 0, 0, 1]), 'input_ids': tensor([[ 101, 6206, 7344,  ...,    0,    0,    0],\n",
      "        [ 101, 1006, 1996,  ...,    0,    0,    0],\n",
      "        [ 101, 2023, 2003,  ...,    0,    0,    0],\n",
      "        ...,\n",
      "        [ 101, 2665, 2699,  ...,    0,    0,    0],\n",
      "        [ 101, 1045, 2031,  ...,    0,    0,    0],\n",
      "        [ 101, 1030, 5310,  ...,    0,    0,    0]]), 'attention_mask': tensor([[1, 1, 1,  ..., 0, 0, 0],\n",
      "        [1, 1, 1,  ..., 0, 0, 0],\n",
      "        [1, 1, 1,  ..., 0, 0, 0],\n",
      "        ...,\n",
      "        [1, 1, 1,  ..., 0, 0, 0],\n",
      "        [1, 1, 1,  ..., 0, 0, 0],\n",
      "        [1, 1, 1,  ..., 0, 0, 0]])}\n",
      "{'label': tensor([1, 1, 0, 0, 0, 0, 0, 1, 0, 1, 0, 1, 0, 0, 1, 1]), 'input_ids': tensor([[ 101, 2043, 1045,  ...,    0,    0,    0],\n",
      "        [ 101, 1030, 5310,  ...,    0,    0,    0],\n",
      "        [ 101, 2169, 2117,  ...,    0,    0,    0],\n",
      "        ...,\n",
      "        [ 101, 2043, 2017,  ...,    0,    0,    0],\n",
      "        [ 101, 5674, 2043,  ...,    0,    0,    0],\n",
      "        [ 101, 7743, 1059,  ...,    0,    0,    0]]), 'attention_mask': tensor([[1, 1, 1,  ..., 0, 0, 0],\n",
      "        [1, 1, 1,  ..., 0, 0, 0],\n",
      "        [1, 1, 1,  ..., 0, 0, 0],\n",
      "        ...,\n",
      "        [1, 1, 1,  ..., 0, 0, 0],\n",
      "        [1, 1, 1,  ..., 0, 0, 0],\n",
      "        [1, 1, 1,  ..., 0, 0, 0]])}\n",
      "{'label': tensor([0, 1, 0, 1, 1, 1, 1, 0, 0, 1, 1, 1, 0, 0, 1, 0]), 'input_ids': tensor([[ 101, 1030, 5310,  ...,    0,    0,    0],\n",
      "        [ 101, 3504, 2066,  ...,    0,    0,    0],\n",
      "        [ 101, 1030, 5310,  ...,    0,    0,    0],\n",
      "        ...,\n",
      "        [ 101, 1030, 5310,  ...,    0,    0,    0],\n",
      "        [ 101, 2053, 2282,  ...,    0,    0,    0],\n",
      "        [ 101, 2678, 1024,  ...,    0,    0,    0]]), 'attention_mask': tensor([[1, 1, 1,  ..., 0, 0, 0],\n",
      "        [1, 1, 1,  ..., 0, 0, 0],\n",
      "        [1, 1, 1,  ..., 0, 0, 0],\n",
      "        ...,\n",
      "        [1, 1, 1,  ..., 0, 0, 0],\n",
      "        [1, 1, 1,  ..., 0, 0, 0],\n",
      "        [1, 1, 1,  ..., 0, 0, 0]])}\n",
      "{'label': tensor([0, 0, 1, 0, 0, 0, 0, 1, 1, 1, 0, 1, 1, 1, 0, 0]), 'input_ids': tensor([[ 101, 1996, 2203,  ...,    0,    0,    0],\n",
      "        [ 101, 1037, 2898,  ...,    0,    0,    0],\n",
      "        [ 101, 1030, 5310,  ...,    0,    0,    0],\n",
      "        ...,\n",
      "        [ 101, 1030, 5310,  ...,    0,    0,    0],\n",
      "        [ 101, 1030, 5310,  ...,    0,    0,    0],\n",
      "        [ 101, 7327, 1010,  ...,    0,    0,    0]]), 'attention_mask': tensor([[1, 1, 1,  ..., 0, 0, 0],\n",
      "        [1, 1, 1,  ..., 0, 0, 0],\n",
      "        [1, 1, 1,  ..., 0, 0, 0],\n",
      "        ...,\n",
      "        [1, 1, 1,  ..., 0, 0, 0],\n",
      "        [1, 1, 1,  ..., 0, 0, 0],\n",
      "        [1, 1, 1,  ..., 0, 0, 0]])}\n",
      "{'label': tensor([0, 1, 0, 0, 1, 0, 1, 1, 0, 0, 0, 0, 0, 1, 1, 1]), 'input_ids': tensor([[  101,  2682, 16365,  ...,     0,     0,     0],\n",
      "        [  101,  1030,  5310,  ...,     0,     0,     0],\n",
      "        [  101,  9030, 24527,  ...,     0,     0,     0],\n",
      "        ...,\n",
      "        [  101,  1001,  3857,  ...,     0,     0,     0],\n",
      "        [  101,  1030,  5310,  ...,     0,     0,     0],\n",
      "        [  101,  2027,  1521,  ...,     0,     0,     0]]), 'attention_mask': tensor([[1, 1, 1,  ..., 0, 0, 0],\n",
      "        [1, 1, 1,  ..., 0, 0, 0],\n",
      "        [1, 1, 1,  ..., 0, 0, 0],\n",
      "        ...,\n",
      "        [1, 1, 1,  ..., 0, 0, 0],\n",
      "        [1, 1, 1,  ..., 0, 0, 0],\n",
      "        [1, 1, 1,  ..., 0, 0, 0]])}\n",
      "{'label': tensor([0, 0, 0, 0, 0, 1, 1, 1, 0, 1, 1, 1, 0, 0, 1, 1]), 'input_ids': tensor([[  101,  5978,  4122,  ...,     0,     0,     0],\n",
      "        [  101,  2023,  2003,  ...,     0,     0,     0],\n",
      "        [  101,  2111,  2040,  ...,     0,     0,     0],\n",
      "        ...,\n",
      "        [  101,  1030,  5310,  ...,     0,     0,     0],\n",
      "        [  101,  1030,  5310,  ...,     0,     0,     0],\n",
      "        [  101,  1045, 14089,  ...,     0,     0,     0]]), 'attention_mask': tensor([[1, 1, 1,  ..., 0, 0, 0],\n",
      "        [1, 1, 1,  ..., 0, 0, 0],\n",
      "        [1, 1, 1,  ..., 0, 0, 0],\n",
      "        ...,\n",
      "        [1, 1, 1,  ..., 0, 0, 0],\n",
      "        [1, 1, 1,  ..., 0, 0, 0],\n",
      "        [1, 1, 1,  ..., 0, 0, 0]])}\n",
      "{'label': tensor([1, 1, 1, 1, 1, 0, 1, 0, 0, 0, 1, 1, 0, 1, 0, 0]), 'input_ids': tensor([[  101,  1030,  5310,  ...,     0,     0,     0],\n",
      "        [  101,  9200, 24053,  ...,     0,     0,     0],\n",
      "        [  101,  2178,  6206,  ...,     0,     0,     0],\n",
      "        ...,\n",
      "        [  101,  1030,  5310,  ...,     0,     0,     0],\n",
      "        [  101,  6353,  1012,  ...,     0,     0,     0],\n",
      "        [  101,  2054,  2017,  ...,     0,     0,     0]]), 'attention_mask': tensor([[1, 1, 1,  ..., 0, 0, 0],\n",
      "        [1, 1, 1,  ..., 0, 0, 0],\n",
      "        [1, 1, 1,  ..., 0, 0, 0],\n",
      "        ...,\n",
      "        [1, 1, 1,  ..., 0, 0, 0],\n",
      "        [1, 1, 1,  ..., 0, 0, 0],\n",
      "        [1, 1, 1,  ..., 0, 0, 0]])}\n",
      "{'label': tensor([1, 1, 1, 1, 1, 0, 1, 0, 1, 0, 0, 0, 0, 1, 0, 1]), 'input_ids': tensor([[  101,  1030,  5310,  ...,     0,     0,     0],\n",
      "        [  101, 13481,  2024,  ...,     0,     0,     0],\n",
      "        [  101,  6227,  1003,  ...,     0,     0,     0],\n",
      "        ...,\n",
      "        [  101, 24726,  1005,  ...,     0,     0,     0],\n",
      "        [  101,  1045,  1005,  ...,     0,     0,     0],\n",
      "        [  101,  2064,  4961,  ...,     0,     0,     0]]), 'attention_mask': tensor([[1, 1, 1,  ..., 0, 0, 0],\n",
      "        [1, 1, 1,  ..., 0, 0, 0],\n",
      "        [1, 1, 1,  ..., 0, 0, 0],\n",
      "        ...,\n",
      "        [1, 1, 1,  ..., 0, 0, 0],\n",
      "        [1, 1, 1,  ..., 0, 0, 0],\n",
      "        [1, 1, 1,  ..., 0, 0, 0]])}\n",
      "{'label': tensor([0, 0, 0, 0, 0, 0, 0, 0, 1, 1, 0, 1, 0, 0, 1, 1]), 'input_ids': tensor([[  101,  2024,  2017,  ...,     0,     0,     0],\n",
      "        [  101,  9042,  7423,  ...,     0,     0,     0],\n",
      "        [  101,  1037,  7058,  ...,     0,     0,     0],\n",
      "        ...,\n",
      "        [  101,  1030,  5310,  ...,     0,     0,     0],\n",
      "        [  101, 10587,  2022,  ...,     0,     0,     0],\n",
      "        [  101,  1098,  2100,  ...,     0,     0,     0]]), 'attention_mask': tensor([[1, 1, 1,  ..., 0, 0, 0],\n",
      "        [1, 1, 1,  ..., 0, 0, 0],\n",
      "        [1, 1, 1,  ..., 0, 0, 0],\n",
      "        ...,\n",
      "        [1, 1, 1,  ..., 0, 0, 0],\n",
      "        [1, 1, 1,  ..., 0, 0, 0],\n",
      "        [1, 1, 1,  ..., 0, 0, 0]])}\n",
      "{'label': tensor([0, 0, 0, 1, 0, 0, 0, 1, 1, 0, 1, 0, 1, 0, 1, 0]), 'input_ids': tensor([[  101,  2053,  1010,  ...,     0,     0,     0],\n",
      "        [  101,  2762, 14163,  ...,     0,     0,     0],\n",
      "        [  101, 15696,  1037,  ...,     0,     0,     0],\n",
      "        ...,\n",
      "        [  101,  1000,  1996,  ...,     0,     0,     0],\n",
      "        [  101,  1030,  5310,  ...,     0,     0,     0],\n",
      "        [  101,  1030,  5310,  ...,     0,     0,     0]]), 'attention_mask': tensor([[1, 1, 1,  ..., 0, 0, 0],\n",
      "        [1, 1, 1,  ..., 0, 0, 0],\n",
      "        [1, 1, 1,  ..., 0, 0, 0],\n",
      "        ...,\n",
      "        [1, 1, 1,  ..., 0, 0, 0],\n",
      "        [1, 1, 1,  ..., 0, 0, 0],\n",
      "        [1, 1, 1,  ..., 0, 0, 0]])}\n",
      "{'label': tensor([0, 0, 1, 1, 1, 0, 1, 0, 1, 0, 1, 0, 1, 0, 1, 0]), 'input_ids': tensor([[ 101, 7570, 1010,  ...,    0,    0,    0],\n",
      "        [ 101, 1045, 2001,  ...,    0,    0,    0],\n",
      "        [ 101, 1030, 5310,  ...,    0,    0,    0],\n",
      "        ...,\n",
      "        [ 101, 2008, 2001,  ...,    0,    0,    0],\n",
      "        [ 101, 1030, 5310,  ...,    0,    0,    0],\n",
      "        [ 101, 5118, 2003,  ...,    0,    0,    0]]), 'attention_mask': tensor([[1, 1, 1,  ..., 0, 0, 0],\n",
      "        [1, 1, 1,  ..., 0, 0, 0],\n",
      "        [1, 1, 1,  ..., 0, 0, 0],\n",
      "        ...,\n",
      "        [1, 1, 1,  ..., 0, 0, 0],\n",
      "        [1, 1, 1,  ..., 0, 0, 0],\n",
      "        [1, 1, 1,  ..., 0, 0, 0]])}\n",
      "{'label': tensor([0, 0, 0, 0, 1, 0, 1, 0, 1, 0, 1, 1, 1, 1, 0, 1]), 'input_ids': tensor([[ 101, 2043, 2017,  ...,    0,    0,    0],\n",
      "        [ 101, 2429, 2000,  ...,    0,    0,    0],\n",
      "        [ 101, 2061, 2003,  ...,    0,    0,    0],\n",
      "        ...,\n",
      "        [ 101, 4701, 2003,  ...,    0,    0,    0],\n",
      "        [ 101, 1030, 5310,  ...,    0,    0,    0],\n",
      "        [ 101, 3375, 2025,  ...,    0,    0,    0]]), 'attention_mask': tensor([[1, 1, 1,  ..., 0, 0, 0],\n",
      "        [1, 1, 1,  ..., 0, 0, 0],\n",
      "        [1, 1, 1,  ..., 0, 0, 0],\n",
      "        ...,\n",
      "        [1, 1, 1,  ..., 0, 0, 0],\n",
      "        [1, 1, 1,  ..., 0, 0, 0],\n",
      "        [1, 1, 1,  ..., 0, 0, 0]])}\n",
      "{'label': tensor([0, 1, 1, 0, 1, 0, 0, 1, 1, 1, 0, 1, 1, 1, 0, 0]), 'input_ids': tensor([[  101, 17388,  4553,  ...,     0,     0,     0],\n",
      "        [  101,  2065,  8174,  ...,     0,     0,     0],\n",
      "        [  101,  1045,  1005,  ...,     0,     0,     0],\n",
      "        ...,\n",
      "        [  101,  6616, 22889,  ...,     0,     0,     0],\n",
      "        [  101,  5231,  1999,  ...,     0,     0,     0],\n",
      "        [  101,  2062, 22812,  ...,     0,     0,     0]]), 'attention_mask': tensor([[1, 1, 1,  ..., 0, 0, 0],\n",
      "        [1, 1, 1,  ..., 0, 0, 0],\n",
      "        [1, 1, 1,  ..., 0, 0, 0],\n",
      "        ...,\n",
      "        [1, 1, 1,  ..., 0, 0, 0],\n",
      "        [1, 1, 1,  ..., 0, 0, 0],\n",
      "        [1, 1, 1,  ..., 0, 0, 0]])}\n",
      "{'label': tensor([1, 0, 1, 0, 1, 1, 1, 1, 1, 0, 1, 1, 1, 1, 1, 1]), 'input_ids': tensor([[  101,  2009, 13783,  ...,     0,     0,     0],\n",
      "        [  101,  2065,  1045,  ...,     0,     0,     0],\n",
      "        [  101,  1030,  5310,  ...,     0,     0,     0],\n",
      "        ...,\n",
      "        [  101,  2115,  2611,  ...,     0,     0,     0],\n",
      "        [  101,  2720,  1030,  ...,     0,     0,     0],\n",
      "        [  101,  2292,  2033,  ...,     0,     0,     0]]), 'attention_mask': tensor([[1, 1, 1,  ..., 0, 0, 0],\n",
      "        [1, 1, 1,  ..., 0, 0, 0],\n",
      "        [1, 1, 1,  ..., 0, 0, 0],\n",
      "        ...,\n",
      "        [1, 1, 1,  ..., 0, 0, 0],\n",
      "        [1, 1, 1,  ..., 0, 0, 0],\n",
      "        [1, 1, 1,  ..., 0, 0, 0]])}\n",
      "{'label': tensor([0, 0, 0, 1, 0, 0, 0, 0, 0, 1, 1, 0, 1, 0, 0, 0]), 'input_ids': tensor([[  101,  1030,  5310,  ...,     0,     0,     0],\n",
      "        [  101,  1045,  1005,  ...,     0,     0,     0],\n",
      "        [  101, 27237,  1005,  ...,     0,     0,     0],\n",
      "        ...,\n",
      "        [  101,  1030,  5310,  ...,     0,     0,     0],\n",
      "        [  101,  2054,  1037,  ...,     0,     0,     0],\n",
      "        [  101,  1001,  8398,  ...,     0,     0,     0]]), 'attention_mask': tensor([[1, 1, 1,  ..., 0, 0, 0],\n",
      "        [1, 1, 1,  ..., 0, 0, 0],\n",
      "        [1, 1, 1,  ..., 0, 0, 0],\n",
      "        ...,\n",
      "        [1, 1, 1,  ..., 0, 0, 0],\n",
      "        [1, 1, 1,  ..., 0, 0, 0],\n",
      "        [1, 1, 1,  ..., 0, 0, 0]])}\n",
      "{'label': tensor([1, 1, 0, 0, 1, 0, 0, 1, 0, 0, 0, 0, 0, 1, 0, 1]), 'input_ids': tensor([[  101,  3422,  1024,  ...,     0,     0,     0],\n",
      "        [  101,  1030,  5310,  ...,     0,     0,     0],\n",
      "        [  101,  7327, 10659,  ...,     0,     0,     0],\n",
      "        ...,\n",
      "        [  101,  2017,  2074,  ...,     0,     0,     0],\n",
      "        [  101,  2057,  2097,  ...,     0,     0,     0],\n",
      "        [  101,  1030,  5310,  ...,     0,     0,     0]]), 'attention_mask': tensor([[1, 1, 1,  ..., 0, 0, 0],\n",
      "        [1, 1, 1,  ..., 0, 0, 0],\n",
      "        [1, 1, 1,  ..., 0, 0, 0],\n",
      "        ...,\n",
      "        [1, 1, 1,  ..., 0, 0, 0],\n",
      "        [1, 1, 1,  ..., 0, 0, 0],\n",
      "        [1, 1, 1,  ..., 0, 0, 0]])}\n",
      "{'label': tensor([0, 0, 0, 1, 0, 0, 0, 0, 0, 1, 0, 0, 1, 0, 1, 0]), 'input_ids': tensor([[ 101, 1037, 2298,  ...,    0,    0,    0],\n",
      "        [ 101, 4931, 3203,  ...,    0,    0,    0],\n",
      "        [ 101, 8398, 2079,  ...,    0,    0,    0],\n",
      "        ...,\n",
      "        [ 101, 1045, 2572,  ...,    0,    0,    0],\n",
      "        [ 101, 3844, 2039,  ...,    0,    0,    0],\n",
      "        [ 101, 2062, 2084,  ...,    0,    0,    0]]), 'attention_mask': tensor([[1, 1, 1,  ..., 0, 0, 0],\n",
      "        [1, 1, 1,  ..., 0, 0, 0],\n",
      "        [1, 1, 1,  ..., 0, 0, 0],\n",
      "        ...,\n",
      "        [1, 1, 1,  ..., 0, 0, 0],\n",
      "        [1, 1, 1,  ..., 0, 0, 0],\n",
      "        [1, 1, 1,  ..., 0, 0, 0]])}\n",
      "{'label': tensor([0, 0, 0, 0, 0, 0, 0, 1, 0, 0, 0, 1, 0, 0, 0, 0]), 'input_ids': tensor([[ 101, 2762, 4136,  ...,    0,    0,    0],\n",
      "        [ 101, 2308, 2031,  ...,    0,    0,    0],\n",
      "        [ 101, 2495, 1010,  ...,    0,    0,    0],\n",
      "        ...,\n",
      "        [ 101, 1523, 2116,  ...,    0,    0,    0],\n",
      "        [ 101, 4441, 3348,  ...,    0,    0,    0],\n",
      "        [ 101, 1030, 5310,  ...,    0,    0,    0]]), 'attention_mask': tensor([[1, 1, 1,  ..., 0, 0, 0],\n",
      "        [1, 1, 1,  ..., 0, 0, 0],\n",
      "        [1, 1, 1,  ..., 0, 0, 0],\n",
      "        ...,\n",
      "        [1, 1, 1,  ..., 0, 0, 0],\n",
      "        [1, 1, 1,  ..., 0, 0, 0],\n",
      "        [1, 1, 1,  ..., 0, 0, 0]])}\n",
      "{'label': tensor([0, 0, 0, 1, 1, 1, 0, 0, 0, 0, 1, 0, 0, 0, 0, 1]), 'input_ids': tensor([[ 101, 3811, 5240,  ...,    0,    0,    0],\n",
      "        [ 101, 6682, 1012,  ...,    0,    0,    0],\n",
      "        [ 101, 1098, 2100,  ...,    0,    0,    0],\n",
      "        ...,\n",
      "        [ 101, 3304, 5176,  ...,    0,    0,    0],\n",
      "        [ 101, 2175, 2000,  ...,    0,    0,    0],\n",
      "        [ 101, 1030, 5310,  ...,    0,    0,    0]]), 'attention_mask': tensor([[1, 1, 1,  ..., 0, 0, 0],\n",
      "        [1, 1, 1,  ..., 0, 0, 0],\n",
      "        [1, 1, 1,  ..., 0, 0, 0],\n",
      "        ...,\n",
      "        [1, 1, 1,  ..., 0, 0, 0],\n",
      "        [1, 1, 1,  ..., 0, 0, 0],\n",
      "        [1, 1, 1,  ..., 0, 0, 0]])}\n",
      "{'label': tensor([0, 0, 1, 0, 0, 0, 1, 0, 1, 0, 1, 0, 0, 1, 0, 0]), 'input_ids': tensor([[ 101, 5969, 4450,  ...,    0,    0,    0],\n",
      "        [ 101, 2047, 4812,  ...,    0,    0,    0],\n",
      "        [ 101, 2339, 1056,  ...,    0,    0,    0],\n",
      "        ...,\n",
      "        [ 101, 1001, 3256,  ...,    0,    0,    0],\n",
      "        [ 101, 2065, 2017,  ...,    0,    0,    0],\n",
      "        [ 101, 5169, 1024,  ...,    0,    0,    0]]), 'attention_mask': tensor([[1, 1, 1,  ..., 0, 0, 0],\n",
      "        [1, 1, 1,  ..., 0, 0, 0],\n",
      "        [1, 1, 1,  ..., 0, 0, 0],\n",
      "        ...,\n",
      "        [1, 1, 1,  ..., 0, 0, 0],\n",
      "        [1, 1, 1,  ..., 0, 0, 0],\n",
      "        [1, 1, 1,  ..., 0, 0, 0]])}\n",
      "{'label': tensor([0, 0, 1, 0, 1, 0, 1, 0, 1, 0, 0, 1, 1, 0, 0, 1]), 'input_ids': tensor([[ 101, 2017, 2024,  ...,    0,    0,    0],\n",
      "        [ 101, 1045, 1005,  ...,    0,    0,    0],\n",
      "        [ 101, 1030, 5310,  ...,    0,    0,    0],\n",
      "        ...,\n",
      "        [ 101, 1030, 5310,  ...,    0,    0,    0],\n",
      "        [ 101, 1030, 5310,  ...,    0,    0,    0],\n",
      "        [ 101, 2053, 2611,  ...,    0,    0,    0]]), 'attention_mask': tensor([[1, 1, 1,  ..., 0, 0, 0],\n",
      "        [1, 1, 1,  ..., 0, 0, 0],\n",
      "        [1, 1, 1,  ..., 0, 0, 0],\n",
      "        ...,\n",
      "        [1, 1, 1,  ..., 0, 0, 0],\n",
      "        [1, 1, 1,  ..., 0, 0, 0],\n",
      "        [1, 1, 1,  ..., 0, 0, 0]])}\n",
      "{'label': tensor([1, 1, 1, 1, 1, 1, 0, 0, 1, 1, 0, 1, 0, 0, 0, 1]), 'input_ids': tensor([[ 101, 1030, 5310,  ...,    0,    0,    0],\n",
      "        [ 101, 1030, 5310,  ...,    0,    0,    0],\n",
      "        [ 101, 2061, 2017,  ...,    0,    0,    0],\n",
      "        ...,\n",
      "        [ 101, 2006, 1996,  ...,    0,    0,    0],\n",
      "        [ 101, 1030, 5310,  ...,    0,    0,    0],\n",
      "        [ 101, 8398, 9023,  ...,    0,    0,    0]]), 'attention_mask': tensor([[1, 1, 1,  ..., 0, 0, 0],\n",
      "        [1, 1, 1,  ..., 0, 0, 0],\n",
      "        [1, 1, 1,  ..., 0, 0, 0],\n",
      "        ...,\n",
      "        [1, 1, 1,  ..., 0, 0, 0],\n",
      "        [1, 1, 1,  ..., 0, 0, 0],\n",
      "        [1, 1, 1,  ..., 0, 0, 0]])}\n",
      "{'label': tensor([0, 1, 1, 0, 0, 1, 1, 0, 0, 1, 1, 1, 0, 0, 0, 1]), 'input_ids': tensor([[  101,  8398,  6010,  ...,     0,     0,     0],\n",
      "        [  101,  7300, 13661,  ...,     0,     0,     0],\n",
      "        [  101,  1030,  5310,  ...,     0,     0,     0],\n",
      "        ...,\n",
      "        [  101,  1000,  2010,  ...,     0,     0,     0],\n",
      "        [  101,  6206, 11560,  ...,     0,     0,     0],\n",
      "        [  101,  2000,  1996,  ...,     0,     0,     0]]), 'attention_mask': tensor([[1, 1, 1,  ..., 0, 0, 0],\n",
      "        [1, 1, 1,  ..., 0, 0, 0],\n",
      "        [1, 1, 1,  ..., 0, 0, 0],\n",
      "        ...,\n",
      "        [1, 1, 1,  ..., 0, 0, 0],\n",
      "        [1, 1, 1,  ..., 0, 0, 0],\n",
      "        [1, 1, 1,  ..., 0, 0, 0]])}\n",
      "{'label': tensor([1, 1, 1, 0, 0, 0, 1, 1, 1, 1, 0, 0, 0, 0, 1, 0]), 'input_ids': tensor([[  101,  1008,  2047,  ...,     0,     0,     0],\n",
      "        [  101,  2392, 10288,  ...,     0,     0,     0],\n",
      "        [  101,  1037,  9152,  ...,     0,     0,     0],\n",
      "        ...,\n",
      "        [  101,  2169,  2733,  ...,     0,     0,     0],\n",
      "        [  101,  1037,  1042,  ...,     0,     0,     0],\n",
      "        [  101,  5037,  3675,  ...,     0,     0,     0]]), 'attention_mask': tensor([[1, 1, 1,  ..., 0, 0, 0],\n",
      "        [1, 1, 1,  ..., 0, 0, 0],\n",
      "        [1, 1, 1,  ..., 0, 0, 0],\n",
      "        ...,\n",
      "        [1, 1, 1,  ..., 0, 0, 0],\n",
      "        [1, 1, 1,  ..., 0, 0, 0],\n",
      "        [1, 1, 1,  ..., 0, 0, 0]])}\n",
      "{'label': tensor([0, 1, 0, 0, 0, 1, 1, 0, 1, 1, 0, 0, 0, 0, 1, 0]), 'input_ids': tensor([[  101,  2043,  2017,  ...,     0,     0,     0],\n",
      "        [  101,  2437,  2637,  ...,     0,     0,     0],\n",
      "        [  101, 10587,  4783,  ...,     0,     0,     0],\n",
      "        ...,\n",
      "        [  101,  1045,  2941,  ...,     0,     0,     0],\n",
      "        [  101,  1030,  5310,  ...,     0,     0,     0],\n",
      "        [  101,  2009,  1005,  ...,     0,     0,     0]]), 'attention_mask': tensor([[1, 1, 1,  ..., 0, 0, 0],\n",
      "        [1, 1, 1,  ..., 0, 0, 0],\n",
      "        [1, 1, 1,  ..., 0, 0, 0],\n",
      "        ...,\n",
      "        [1, 1, 1,  ..., 0, 0, 0],\n",
      "        [1, 1, 1,  ..., 0, 0, 0],\n",
      "        [1, 1, 1,  ..., 0, 0, 0]])}\n",
      "{'label': tensor([0, 1, 0, 0, 0, 0, 0, 0, 0, 1, 1, 0, 0, 1, 1, 1]), 'input_ids': tensor([[  101,  1030,  5310,  ...,     0,     0,     0],\n",
      "        [  101,  1057,  8239,  ...,     0,     0,     0],\n",
      "        [  101,  1015,  1010,  ...,     0,     0,     0],\n",
      "        ...,\n",
      "        [  101,  2023,  8275,  ...,     0,     0,     0],\n",
      "        [  101, 10166,  1011,  ...,     0,     0,     0],\n",
      "        [  101,  5559, 24471,  ...,     0,     0,     0]]), 'attention_mask': tensor([[1, 1, 1,  ..., 0, 0, 0],\n",
      "        [1, 1, 1,  ..., 0, 0, 0],\n",
      "        [1, 1, 1,  ..., 0, 0, 0],\n",
      "        ...,\n",
      "        [1, 1, 1,  ..., 0, 0, 0],\n",
      "        [1, 1, 1,  ..., 0, 0, 0],\n",
      "        [1, 1, 1,  ..., 0, 0, 0]])}\n",
      "{'label': tensor([0, 0, 0, 0, 0, 0, 1, 0, 0, 1, 1, 0, 0, 0, 1, 1]), 'input_ids': tensor([[  101, 13337, 15391,  ...,     0,     0,     0],\n",
      "        [  101,  2043,  2115,  ...,     0,     0,     0],\n",
      "        [  101,  1030,  5310,  ...,     0,     0,     0],\n",
      "        ...,\n",
      "        [  101,  1045,  2245,  ...,     0,     0,     0],\n",
      "        [  101,  1030,  5310,  ...,     0,     0,     0],\n",
      "        [  101,  1045,  5223,  ...,     0,     0,     0]]), 'attention_mask': tensor([[1, 1, 1,  ..., 0, 0, 0],\n",
      "        [1, 1, 1,  ..., 0, 0, 0],\n",
      "        [1, 1, 1,  ..., 0, 0, 0],\n",
      "        ...,\n",
      "        [1, 1, 1,  ..., 0, 0, 0],\n",
      "        [1, 1, 1,  ..., 0, 0, 0],\n",
      "        [1, 1, 1,  ..., 0, 0, 0]])}\n",
      "{'label': tensor([0, 0, 0, 0, 0, 0, 0, 0, 0, 0, 0, 0, 0, 1, 1, 1]), 'input_ids': tensor([[  101,  2044,  3304,  ...,     0,     0,     0],\n",
      "        [  101,  4314,  7767,  ...,     0,     0,     0],\n",
      "        [  101,  1996,  2446,  ...,     0,     0,     0],\n",
      "        ...,\n",
      "        [  101,  1030,  5310,  ...,     0,     0,     0],\n",
      "        [  101, 10201,  1999,  ...,     0,     0,     0],\n",
      "        [  101,  1030,  5310,  ...,     0,     0,     0]]), 'attention_mask': tensor([[1, 1, 1,  ..., 0, 0, 0],\n",
      "        [1, 1, 1,  ..., 0, 0, 0],\n",
      "        [1, 1, 1,  ..., 0, 0, 0],\n",
      "        ...,\n",
      "        [1, 1, 1,  ..., 0, 0, 0],\n",
      "        [1, 1, 1,  ..., 0, 0, 0],\n",
      "        [1, 1, 1,  ..., 0, 0, 0]])}\n",
      "{'label': tensor([0, 0, 0, 1, 1, 0, 1, 1, 0, 1, 0, 0, 0, 1, 1, 1]), 'input_ids': tensor([[  101, 17850,  2860,  ...,     0,     0,     0],\n",
      "        [  101,  2043,  2017,  ...,     0,     0,     0],\n",
      "        [  101,  1999,  4512,  ...,     0,     0,     0],\n",
      "        ...,\n",
      "        [  101,  1030,  5310,  ...,     0,     0,     0],\n",
      "        [  101,  7743,  2358,  ...,     0,     0,     0],\n",
      "        [  101,  1030,  5310,  ...,     0,     0,     0]]), 'attention_mask': tensor([[1, 1, 1,  ..., 0, 0, 0],\n",
      "        [1, 1, 1,  ..., 0, 0, 0],\n",
      "        [1, 1, 1,  ..., 0, 0, 0],\n",
      "        ...,\n",
      "        [1, 1, 1,  ..., 0, 0, 0],\n",
      "        [1, 1, 1,  ..., 0, 0, 0],\n",
      "        [1, 1, 1,  ..., 0, 0, 0]])}\n",
      "{'label': tensor([1, 0, 1, 0, 1, 1, 0, 1, 0, 1, 1, 0, 0, 0, 0, 0]), 'input_ids': tensor([[ 101, 1030, 5310,  ...,    0,    0,    0],\n",
      "        [ 101, 1996, 2446,  ...,    0,    0,    0],\n",
      "        [ 101, 1059, 3270,  ...,    0,    0,    0],\n",
      "        ...,\n",
      "        [ 101, 2003, 2023,  ...,    0,    0,    0],\n",
      "        [ 101, 2077, 2017,  ...,    0,    0,    0],\n",
      "        [ 101, 2196, 3046,  ...,    0,    0,    0]]), 'attention_mask': tensor([[1, 1, 1,  ..., 0, 0, 0],\n",
      "        [1, 1, 1,  ..., 0, 0, 0],\n",
      "        [1, 1, 1,  ..., 0, 0, 0],\n",
      "        ...,\n",
      "        [1, 1, 1,  ..., 0, 0, 0],\n",
      "        [1, 1, 1,  ..., 0, 0, 0],\n",
      "        [1, 1, 1,  ..., 0, 0, 0]])}\n",
      "{'label': tensor([1, 1, 1, 1, 1, 1, 0, 0, 1, 1, 0, 0, 1, 1, 1, 0]), 'input_ids': tensor([[  101,  7327,  9230,  ...,     0,     0,     0],\n",
      "        [  101, 12344,  1996,  ...,     0,     0,     0],\n",
      "        [  101,  2678,  1997,  ...,     0,     0,     0],\n",
      "        ...,\n",
      "        [  101,  2339,  2079,  ...,     0,     0,     0],\n",
      "        [  101,  2073,  2024,  ...,     0,     0,     0],\n",
      "        [  101,  6866,  1037,  ...,     0,     0,     0]]), 'attention_mask': tensor([[1, 1, 1,  ..., 0, 0, 0],\n",
      "        [1, 1, 1,  ..., 0, 0, 0],\n",
      "        [1, 1, 1,  ..., 0, 0, 0],\n",
      "        ...,\n",
      "        [1, 1, 1,  ..., 0, 0, 0],\n",
      "        [1, 1, 1,  ..., 0, 0, 0],\n",
      "        [1, 1, 1,  ..., 0, 0, 0]])}\n",
      "{'label': tensor([0, 0, 1, 0, 0, 0, 0, 0, 0, 1, 0, 1, 0, 0, 1, 0]), 'input_ids': tensor([[  101,  2014,  1011,  ...,     0,     0,     0],\n",
      "        [  101,  2043,  2017,  ...,     0,     0,     0],\n",
      "        [  101,  5872,  1005,  ...,     0,     0,     0],\n",
      "        ...,\n",
      "        [  101,  4983, 20731,  ...,     0,     0,     0],\n",
      "        [  101,  6206,  7344,  ...,     0,     0,     0],\n",
      "        [  101,  1001,  3782,  ...,     0,     0,     0]]), 'attention_mask': tensor([[1, 1, 1,  ..., 0, 0, 0],\n",
      "        [1, 1, 1,  ..., 0, 0, 0],\n",
      "        [1, 1, 1,  ..., 0, 0, 0],\n",
      "        ...,\n",
      "        [1, 1, 1,  ..., 0, 0, 0],\n",
      "        [1, 1, 1,  ..., 0, 0, 0],\n",
      "        [1, 1, 1,  ..., 0, 0, 0]])}\n",
      "{'label': tensor([0, 1, 1, 0, 1, 0, 0, 0, 0, 0, 0, 0, 1, 1, 1, 1]), 'input_ids': tensor([[ 101, 8909, 2243,  ...,    0,    0,    0],\n",
      "        [ 101, 1030, 5310,  ...,    0,    0,    0],\n",
      "        [ 101, 1030, 5310,  ...,    0,    0,    0],\n",
      "        ...,\n",
      "        [ 101, 1030, 5310,  ...,    0,    0,    0],\n",
      "        [ 101, 2214, 2711,  ...,    0,    0,    0],\n",
      "        [ 101, 1030, 5310,  ...,    0,    0,    0]]), 'attention_mask': tensor([[1, 1, 1,  ..., 0, 0, 0],\n",
      "        [1, 1, 1,  ..., 0, 0, 0],\n",
      "        [1, 1, 1,  ..., 0, 0, 0],\n",
      "        ...,\n",
      "        [1, 1, 1,  ..., 0, 0, 0],\n",
      "        [1, 1, 1,  ..., 0, 0, 0],\n",
      "        [1, 1, 1,  ..., 0, 0, 0]])}\n",
      "{'label': tensor([1, 1, 1, 0, 0, 0, 0, 0, 1, 0, 0, 1, 0, 1, 0, 1]), 'input_ids': tensor([[  101,  1030,  5310,  ...,     0,     0,     0],\n",
      "        [  101,  1012,  6195,  ...,     0,     0,     0],\n",
      "        [  101,  1030,  5310,  ...,     0,     0,     0],\n",
      "        ...,\n",
      "        [  101,  1030,  5310,  ...,     0,     0,     0],\n",
      "        [  101,  1996,  3234,  ...,     0,     0,     0],\n",
      "        [  101,  3060, 20731,  ...,     0,     0,     0]]), 'attention_mask': tensor([[1, 1, 1,  ..., 0, 0, 0],\n",
      "        [1, 1, 1,  ..., 0, 0, 0],\n",
      "        [1, 1, 1,  ..., 0, 0, 0],\n",
      "        ...,\n",
      "        [1, 1, 1,  ..., 0, 0, 0],\n",
      "        [1, 1, 1,  ..., 0, 0, 0],\n",
      "        [1, 1, 1,  ..., 0, 0, 0]])}\n",
      "{'label': tensor([0, 1, 0, 0, 1, 0, 1, 0, 0, 0, 0, 1, 0, 0, 1, 0]), 'input_ids': tensor([[  101,  2043,  2017,  ...,     0,     0,     0],\n",
      "        [  101,  2821, 21461,  ...,     0,     0,     0],\n",
      "        [  101,  3652,  2039,  ...,     0,     0,     0],\n",
      "        ...,\n",
      "        [  101,  3460, 14248,  ...,     0,     0,     0],\n",
      "        [  101,  1030,  5310,  ...,     0,     0,     0],\n",
      "        [  101, 20731,  3667,  ...,     0,     0,     0]]), 'attention_mask': tensor([[1, 1, 1,  ..., 0, 0, 0],\n",
      "        [1, 1, 1,  ..., 0, 0, 0],\n",
      "        [1, 1, 1,  ..., 0, 0, 0],\n",
      "        ...,\n",
      "        [1, 1, 1,  ..., 0, 0, 0],\n",
      "        [1, 1, 1,  ..., 0, 0, 0],\n",
      "        [1, 1, 1,  ..., 0, 0, 0]])}\n",
      "{'label': tensor([0, 0, 0, 1, 0, 0, 1, 1, 0, 0, 0, 0, 1, 1, 0, 1]), 'input_ids': tensor([[ 101, 2061, 1999,  ...,    0,    0,    0],\n",
      "        [ 101, 2043, 2017,  ...,    0,    0,    0],\n",
      "        [ 101, 2033, 1011,  ...,    0,    0,    0],\n",
      "        ...,\n",
      "        [ 101, 3398, 1045,  ...,    0,    0,    0],\n",
      "        [ 101, 1030, 5310,  ...,    0,    0,    0],\n",
      "        [ 101, 1030, 5310,  ...,    0,    0,    0]]), 'attention_mask': tensor([[1, 1, 1,  ..., 0, 0, 0],\n",
      "        [1, 1, 1,  ..., 0, 0, 0],\n",
      "        [1, 1, 1,  ..., 0, 0, 0],\n",
      "        ...,\n",
      "        [1, 1, 1,  ..., 0, 0, 0],\n",
      "        [1, 1, 1,  ..., 0, 0, 0],\n",
      "        [1, 1, 1,  ..., 0, 0, 0]])}\n",
      "{'label': tensor([1, 0, 0, 1, 1, 0, 1, 0, 0, 1, 1, 0, 1, 0, 1, 1]), 'input_ids': tensor([[ 101, 1030, 5310,  ...,    0,    0,    0],\n",
      "        [ 101, 1045, 2031,  ...,    0,    0,    0],\n",
      "        [ 101, 1030, 5310,  ...,    0,    0,    0],\n",
      "        ...,\n",
      "        [ 101, 2023, 2003,  ...,    0,    0,    0],\n",
      "        [ 101, 1045, 1005,  ...,    0,    0,    0],\n",
      "        [ 101, 1030, 5310,  ...,    0,    0,    0]]), 'attention_mask': tensor([[1, 1, 1,  ..., 0, 0, 0],\n",
      "        [1, 1, 1,  ..., 0, 0, 0],\n",
      "        [1, 1, 1,  ..., 0, 0, 0],\n",
      "        ...,\n",
      "        [1, 1, 1,  ..., 0, 0, 0],\n",
      "        [1, 1, 1,  ..., 0, 0, 0],\n",
      "        [1, 1, 1,  ..., 0, 0, 0]])}\n",
      "{'label': tensor([1, 0, 0, 0, 1, 0, 0, 1, 0, 1, 0, 0, 1, 0, 1, 0]), 'input_ids': tensor([[  101,  1030,  5310,  ...,     0,     0,     0],\n",
      "        [  101,  2047,  1030,  ...,     0,     0,     0],\n",
      "        [  101,  2051,  2770,  ...,     0,     0,     0],\n",
      "        ...,\n",
      "        [  101,  2024,  2017,  ...,     0,     0,     0],\n",
      "        [  101,  1030,  5310,  ...,     0,     0,     0],\n",
      "        [  101,  2026, 11560,  ...,     0,     0,     0]]), 'attention_mask': tensor([[1, 1, 1,  ..., 0, 0, 0],\n",
      "        [1, 1, 1,  ..., 0, 0, 0],\n",
      "        [1, 1, 1,  ..., 0, 0, 0],\n",
      "        ...,\n",
      "        [1, 1, 1,  ..., 0, 0, 0],\n",
      "        [1, 1, 1,  ..., 0, 0, 0],\n",
      "        [1, 1, 1,  ..., 0, 0, 0]])}\n",
      "{'label': tensor([0, 0, 0, 1, 0, 0, 0, 1, 1, 1, 0, 1, 1, 0, 1, 0]), 'input_ids': tensor([[  101,  1001,  7521,  ...,     0,     0,     0],\n",
      "        [  101,  6245,  2003,  ...,     0,     0,     0],\n",
      "        [  101,  1030,  5310,  ...,     0,     0,     0],\n",
      "        ...,\n",
      "        [  101,  1996, 18344,  ...,     0,     0,     0],\n",
      "        [  101,  2023,  2450,  ...,     0,     0,     0],\n",
      "        [  101,  2047,  9927,  ...,     0,     0,     0]]), 'attention_mask': tensor([[1, 1, 1,  ..., 0, 0, 0],\n",
      "        [1, 1, 1,  ..., 0, 0, 0],\n",
      "        [1, 1, 1,  ..., 0, 0, 0],\n",
      "        ...,\n",
      "        [1, 1, 1,  ..., 0, 0, 0],\n",
      "        [1, 1, 1,  ..., 0, 0, 0],\n",
      "        [1, 1, 1,  ..., 0, 0, 0]])}\n",
      "{'label': tensor([0, 1, 0, 0, 1, 0, 0, 0, 0, 0, 1, 0, 1, 0, 0, 0]), 'input_ids': tensor([[  101,  2005,  1001,  ...,     0,     0,     0],\n",
      "        [  101,  1030,  5310,  ...,     0,     0,     0],\n",
      "        [  101,  2023,  2003,  ...,     0,     0,     0],\n",
      "        ...,\n",
      "        [  101,  2320,  2016,  ...,     0,     0,     0],\n",
      "        [  101,  2081,  1037,  ...,     0,     0,     0],\n",
      "        [  101, 19387,  1030,  ...,     0,     0,     0]]), 'attention_mask': tensor([[1, 1, 1,  ..., 0, 0, 0],\n",
      "        [1, 1, 1,  ..., 0, 0, 0],\n",
      "        [1, 1, 1,  ..., 0, 0, 0],\n",
      "        ...,\n",
      "        [1, 1, 1,  ..., 0, 0, 0],\n",
      "        [1, 1, 1,  ..., 0, 0, 0],\n",
      "        [1, 1, 1,  ..., 0, 0, 0]])}\n",
      "{'label': tensor([1, 0, 1, 0, 0, 0, 0, 1, 1, 0, 1, 1, 1, 0, 0, 1]), 'input_ids': tensor([[  101,  1030,  5310,  ...,     0,     0,     0],\n",
      "        [  101,  1001,  2755,  ...,     0,     0,     0],\n",
      "        [  101,  2035,  7743,  ...,     0,     0,     0],\n",
      "        ...,\n",
      "        [  101,  5142,  2003,  ...,     0,     0,     0],\n",
      "        [  101,  4363,  1005,  ...,     0,     0,     0],\n",
      "        [  101, 13948,  2000,  ...,     0,     0,     0]]), 'attention_mask': tensor([[1, 1, 1,  ..., 0, 0, 0],\n",
      "        [1, 1, 1,  ..., 0, 0, 0],\n",
      "        [1, 1, 1,  ..., 0, 0, 0],\n",
      "        ...,\n",
      "        [1, 1, 1,  ..., 0, 0, 0],\n",
      "        [1, 1, 1,  ..., 0, 0, 0],\n",
      "        [1, 1, 1,  ..., 0, 0, 0]])}\n",
      "{'label': tensor([0, 0, 0, 0, 0, 0, 0, 0, 1, 1, 0, 0, 0, 0, 1, 0]), 'input_ids': tensor([[  101,  1045,  1005,  ...,     0,     0,     0],\n",
      "        [  101,  9743,  2758,  ...,     0,     0,     0],\n",
      "        [  101,  1030,  5310,  ...,     0,     0,     0],\n",
      "        ...,\n",
      "        [  101,  1001,  6221,  ...,     0,     0,     0],\n",
      "        [  101,  2059,  2644,  ...,     0,     0,     0],\n",
      "        [  101, 11560,  2775,  ...,     0,     0,     0]]), 'attention_mask': tensor([[1, 1, 1,  ..., 0, 0, 0],\n",
      "        [1, 1, 1,  ..., 0, 0, 0],\n",
      "        [1, 1, 1,  ..., 0, 0, 0],\n",
      "        ...,\n",
      "        [1, 1, 1,  ..., 0, 0, 0],\n",
      "        [1, 1, 1,  ..., 0, 0, 0],\n",
      "        [1, 1, 1,  ..., 0, 0, 0]])}\n",
      "{'label': tensor([0, 1, 0, 1, 1, 0, 0, 0, 0, 0, 1, 0, 1, 1, 0, 0]), 'input_ids': tensor([[  101,  1998,  2308,  ...,     0,     0,     0],\n",
      "        [  101,  2651,  1999,  ...,     0,     0,     0],\n",
      "        [  101,  2065,  2115,  ...,     0,     0,     0],\n",
      "        ...,\n",
      "        [  101,  1006,  1015,  ...,     0,     0,     0],\n",
      "        [  101,  2775,  2351,  ...,     0,     0,     0],\n",
      "        [  101,  2033, 20661,  ...,     0,     0,     0]]), 'attention_mask': tensor([[1, 1, 1,  ..., 0, 0, 0],\n",
      "        [1, 1, 1,  ..., 0, 0, 0],\n",
      "        [1, 1, 1,  ..., 0, 0, 0],\n",
      "        ...,\n",
      "        [1, 1, 1,  ..., 0, 0, 0],\n",
      "        [1, 1, 1,  ..., 0, 0, 0],\n",
      "        [1, 1, 1,  ..., 0, 0, 0]])}\n",
      "{'label': tensor([1, 1, 1, 1, 1, 0, 0, 1, 0, 1, 1, 1, 0, 0, 0, 1]), 'input_ids': tensor([[  101,  1030,  5310,  ...,     0,     0,     0],\n",
      "        [  101,  1030,  5310,  ...,     0,     0,     0],\n",
      "        [  101,  2092,  1010,  ...,     0,     0,     0],\n",
      "        ...,\n",
      "        [  101,  4372, 14428,  ...,     0,     0,     0],\n",
      "        [  101,  2022,  1996,  ...,     0,     0,     0],\n",
      "        [  101,  2066,  2065,  ...,     0,     0,     0]]), 'attention_mask': tensor([[1, 1, 1,  ..., 0, 0, 0],\n",
      "        [1, 1, 1,  ..., 0, 0, 0],\n",
      "        [1, 1, 1,  ..., 0, 0, 0],\n",
      "        ...,\n",
      "        [1, 1, 1,  ..., 0, 0, 0],\n",
      "        [1, 1, 1,  ..., 0, 0, 0],\n",
      "        [1, 1, 1,  ..., 0, 0, 0]])}\n",
      "{'label': tensor([1, 0, 1, 0, 0, 1, 1, 0, 0, 1, 0, 0, 0, 0, 0, 0]), 'input_ids': tensor([[  101,  1030,  5310,  ...,     0,     0,     0],\n",
      "        [  101,  4346,  4681,  ...,     0,     0,     0],\n",
      "        [  101,  2637,  3791,  ...,     0,     0,     0],\n",
      "        ...,\n",
      "        [  101,  3306, 11498,  ...,     0,     0,     0],\n",
      "        [  101,  2033,  7188,  ...,     0,     0,     0],\n",
      "        [  101,  1030,  5310,  ...,     0,     0,     0]]), 'attention_mask': tensor([[1, 1, 1,  ..., 0, 0, 0],\n",
      "        [1, 1, 1,  ..., 0, 0, 0],\n",
      "        [1, 1, 1,  ..., 0, 0, 0],\n",
      "        ...,\n",
      "        [1, 1, 1,  ..., 0, 0, 0],\n",
      "        [1, 1, 1,  ..., 0, 0, 0],\n",
      "        [1, 1, 1,  ..., 0, 0, 0]])}\n",
      "{'label': tensor([0, 1, 1, 0, 0, 0, 0, 0, 0, 1, 0, 0, 0, 1, 0, 1]), 'input_ids': tensor([[  101, 24954,  4177,  ...,     0,     0,     0],\n",
      "        [  101,  8711,  2024,  ...,     0,     0,     0],\n",
      "        [  101,  1030,  5310,  ...,     0,     0,     0],\n",
      "        ...,\n",
      "        [  101,  2016,  9953,  ...,     0,     0,     0],\n",
      "        [  101,  2679,  1010,  ...,     0,     0,     0],\n",
      "        [  101,  2025,  2069,  ...,     0,     0,     0]]), 'attention_mask': tensor([[1, 1, 1,  ..., 0, 0, 0],\n",
      "        [1, 1, 1,  ..., 0, 0, 0],\n",
      "        [1, 1, 1,  ..., 0, 0, 0],\n",
      "        ...,\n",
      "        [1, 1, 1,  ..., 0, 0, 0],\n",
      "        [1, 1, 1,  ..., 0, 0, 0],\n",
      "        [1, 1, 1,  ..., 0, 0, 0]])}\n",
      "{'label': tensor([0, 1, 1, 0, 1, 1, 0, 0, 1, 1, 1, 1, 1, 0, 0, 0]), 'input_ids': tensor([[  101, 10126,  2017,  ...,     0,     0,     0],\n",
      "        [  101,  1030,  5310,  ...,     0,     0,     0],\n",
      "        [  101,  3071, 16424,  ...,     0,     0,     0],\n",
      "        ...,\n",
      "        [  101,  1005,  2273,  ...,     0,     0,     0],\n",
      "        [  101,  1030,  5310,  ...,     0,     0,     0],\n",
      "        [  101,  2656,  2931,  ...,     0,     0,     0]]), 'attention_mask': tensor([[1, 1, 1,  ..., 0, 0, 0],\n",
      "        [1, 1, 1,  ..., 0, 0, 0],\n",
      "        [1, 1, 1,  ..., 0, 0, 0],\n",
      "        ...,\n",
      "        [1, 1, 1,  ..., 0, 0, 0],\n",
      "        [1, 1, 1,  ..., 0, 0, 0],\n",
      "        [1, 1, 1,  ..., 0, 0, 0]])}\n",
      "{'label': tensor([1, 1, 1, 0, 1, 0, 1, 0, 0, 0, 0, 0, 1, 0, 1, 0]), 'input_ids': tensor([[  101,  1001,  8962,  ...,     0,     0,     0],\n",
      "        [  101,  3835,  5118,  ...,     0,     0,     0],\n",
      "        [  101,  2043,  2017,  ...,     0,     0,     0],\n",
      "        ...,\n",
      "        [  101, 17183,  2015,  ...,     0,     0,     0],\n",
      "        [  101,  2026,  7133,  ...,     0,     0,     0],\n",
      "        [  101,  2049, 10386,  ...,     0,     0,     0]]), 'attention_mask': tensor([[1, 1, 1,  ..., 0, 0, 0],\n",
      "        [1, 1, 1,  ..., 0, 0, 0],\n",
      "        [1, 1, 1,  ..., 0, 0, 0],\n",
      "        ...,\n",
      "        [1, 1, 1,  ..., 0, 0, 0],\n",
      "        [1, 1, 1,  ..., 0, 0, 0],\n",
      "        [1, 1, 1,  ..., 0, 0, 0]])}\n",
      "{'label': tensor([1, 1, 0, 1, 0, 1, 0, 1, 1, 1, 1, 1, 0, 0, 0, 0]), 'input_ids': tensor([[ 101, 1030, 5310,  ...,    0,    0,    0],\n",
      "        [ 101, 4013, 5955,  ...,    0,    0,    0],\n",
      "        [ 101, 1030, 5310,  ...,    0,    0,    0],\n",
      "        ...,\n",
      "        [ 101, 2762, 1010,  ...,    0,    0,    0],\n",
      "        [ 101, 2043, 2017,  ...,    0,    0,    0],\n",
      "        [ 101, 1996, 6616,  ...,    0,    0,    0]]), 'attention_mask': tensor([[1, 1, 1,  ..., 0, 0, 0],\n",
      "        [1, 1, 1,  ..., 0, 0, 0],\n",
      "        [1, 1, 1,  ..., 0, 0, 0],\n",
      "        ...,\n",
      "        [1, 1, 1,  ..., 0, 0, 0],\n",
      "        [1, 1, 1,  ..., 0, 0, 0],\n",
      "        [1, 1, 1,  ..., 0, 0, 0]])}\n",
      "{'label': tensor([0, 1, 1, 0, 0, 1, 0, 0, 0, 1, 0, 1, 0, 1, 0, 0]), 'input_ids': tensor([[  101, 19031, 12849,  ...,     0,     0,     0],\n",
      "        [  101,  2008, 27753,  ...,     0,     0,     0],\n",
      "        [  101,  1030,  5310,  ...,     0,     0,     0],\n",
      "        ...,\n",
      "        [  101,  1030,  5310,  ...,     0,     0,     0],\n",
      "        [  101,  3342,  2008,  ...,     0,     0,     0],\n",
      "        [  101,  1045,  1005,  ...,     0,     0,     0]]), 'attention_mask': tensor([[1, 1, 1,  ..., 0, 0, 0],\n",
      "        [1, 1, 1,  ..., 0, 0, 0],\n",
      "        [1, 1, 1,  ..., 0, 0, 0],\n",
      "        ...,\n",
      "        [1, 1, 1,  ..., 0, 0, 0],\n",
      "        [1, 1, 1,  ..., 0, 0, 0],\n",
      "        [1, 1, 1,  ..., 0, 0, 0]])}\n",
      "{'label': tensor([0, 0, 0, 0, 0, 0, 1, 1, 0, 0, 0, 1, 1, 1, 1, 0]), 'input_ids': tensor([[  101, 23277,  2278,  ...,     0,     0,     0],\n",
      "        [  101,  3113, 18454,  ...,     0,     0,     0],\n",
      "        [  101,  2047,  2470,  ...,     0,     0,     0],\n",
      "        ...,\n",
      "        [  101,  6719,  2074,  ...,     0,     0,     0],\n",
      "        [  101, 21442, 11705,  ...,     0,     0,     0],\n",
      "        [  101,  2821,  2057,  ...,     0,     0,     0]]), 'attention_mask': tensor([[1, 1, 1,  ..., 0, 0, 0],\n",
      "        [1, 1, 1,  ..., 0, 0, 0],\n",
      "        [1, 1, 1,  ..., 0, 0, 0],\n",
      "        ...,\n",
      "        [1, 1, 1,  ..., 0, 0, 0],\n",
      "        [1, 1, 1,  ..., 0, 0, 0],\n",
      "        [1, 1, 1,  ..., 0, 0, 0]])}\n",
      "{'label': tensor([0, 1, 0, 0, 0, 0, 0, 0, 1, 1, 1, 1, 1, 1, 0, 1]), 'input_ids': tensor([[  101, 19387,  2065,  ...,     0,     0,     0],\n",
      "        [  101,  2017,  6315,  ...,     0,     0,     0],\n",
      "        [  101,  8840,  2140,  ...,     0,     0,     0],\n",
      "        ...,\n",
      "        [  101,  2007,  2510,  ...,     0,     0,     0],\n",
      "        [  101,  1030,  5310,  ...,     0,     0,     0],\n",
      "        [  101,  1045,  1521,  ...,     0,     0,     0]]), 'attention_mask': tensor([[1, 1, 1,  ..., 0, 0, 0],\n",
      "        [1, 1, 1,  ..., 0, 0, 0],\n",
      "        [1, 1, 1,  ..., 0, 0, 0],\n",
      "        ...,\n",
      "        [1, 1, 1,  ..., 0, 0, 0],\n",
      "        [1, 1, 1,  ..., 0, 0, 0],\n",
      "        [1, 1, 1,  ..., 0, 0, 0]])}\n",
      "{'label': tensor([1, 1, 0, 0, 0, 0, 0, 1, 1, 1, 0, 1, 0, 0, 0, 1]), 'input_ids': tensor([[  101, 15741,  1029,  ...,     0,     0,     0],\n",
      "        [  101,  2054,  2019,  ...,     0,     0,     0],\n",
      "        [  101,  2025,  2035,  ...,     0,     0,     0],\n",
      "        ...,\n",
      "        [  101,  2963,  2013,  ...,     0,     0,     0],\n",
      "        [  101,  2711,  1011,  ...,     0,     0,     0],\n",
      "        [  101,  3046,  9516,  ...,     0,     0,     0]]), 'attention_mask': tensor([[1, 1, 1,  ..., 0, 0, 0],\n",
      "        [1, 1, 1,  ..., 0, 0, 0],\n",
      "        [1, 1, 1,  ..., 0, 0, 0],\n",
      "        ...,\n",
      "        [1, 1, 1,  ..., 0, 0, 0],\n",
      "        [1, 1, 1,  ..., 0, 0, 0],\n",
      "        [1, 1, 1,  ..., 0, 0, 0]])}\n",
      "{'label': tensor([1, 0, 0, 1, 0, 0, 0, 1, 0, 0, 1, 0, 1, 1, 0, 0]), 'input_ids': tensor([[ 101, 1030, 5310,  ...,    0,    0,    0],\n",
      "        [ 101, 2023, 2003,  ...,    0,    0,    0],\n",
      "        [ 101, 2092, 1042,  ...,    0,    0,    0],\n",
      "        ...,\n",
      "        [ 101, 1030, 5310,  ...,    0,    0,    0],\n",
      "        [ 101, 1996, 2132,  ...,    0,    0,    0],\n",
      "        [ 101, 1030, 5310,  ...,    0,    0,    0]]), 'attention_mask': tensor([[1, 1, 1,  ..., 0, 0, 0],\n",
      "        [1, 1, 1,  ..., 0, 0, 0],\n",
      "        [1, 1, 1,  ..., 0, 0, 0],\n",
      "        ...,\n",
      "        [1, 1, 1,  ..., 0, 0, 0],\n",
      "        [1, 1, 1,  ..., 0, 0, 0],\n",
      "        [1, 1, 1,  ..., 0, 0, 0]])}\n",
      "{'label': tensor([1, 0, 0, 0, 1, 0, 0, 1, 0, 1, 1, 0, 1, 0, 0, 1]), 'input_ids': tensor([[  101,  2651,  2057,  ...,     0,     0,     0],\n",
      "        [  101,  1996,  7743,  ...,     0,     0,     0],\n",
      "        [  101,  1030,  5310,  ...,     0,     0,     0],\n",
      "        ...,\n",
      "        [  101, 19786,  2232,  ...,     0,     0,     0],\n",
      "        [  101,  3171, 16440,  ...,     0,     0,     0],\n",
      "        [  101,  2116,  5622,  ...,     0,     0,     0]]), 'attention_mask': tensor([[1, 1, 1,  ..., 0, 0, 0],\n",
      "        [1, 1, 1,  ..., 0, 0, 0],\n",
      "        [1, 1, 1,  ..., 0, 0, 0],\n",
      "        ...,\n",
      "        [1, 1, 1,  ..., 0, 0, 0],\n",
      "        [1, 1, 1,  ..., 0, 0, 0],\n",
      "        [1, 1, 1,  ..., 0, 0, 0]])}\n",
      "{'label': tensor([0, 1, 0, 0, 1, 1, 0, 0, 0, 1, 0, 0, 1, 1, 0, 1]), 'input_ids': tensor([[ 101, 1030, 5310,  ...,    0,    0,    0],\n",
      "        [ 101, 3907, 6131,  ...,    0,    0,    0],\n",
      "        [ 101, 2043, 2017,  ...,    0,    0,    0],\n",
      "        ...,\n",
      "        [ 101, 1030, 5310,  ...,    0,    0,    0],\n",
      "        [ 101, 1030, 5310,  ...,    0,    0,    0],\n",
      "        [ 101, 1030, 5310,  ...,    0,    0,    0]]), 'attention_mask': tensor([[1, 1, 1,  ..., 0, 0, 0],\n",
      "        [1, 1, 1,  ..., 0, 0, 0],\n",
      "        [1, 1, 1,  ..., 0, 0, 0],\n",
      "        ...,\n",
      "        [1, 1, 1,  ..., 0, 0, 0],\n",
      "        [1, 1, 1,  ..., 0, 0, 0],\n",
      "        [1, 1, 1,  ..., 0, 0, 0]])}\n",
      "{'label': tensor([0, 0, 0, 0, 1, 1, 0, 1, 0, 0, 1, 0, 0, 0, 0, 1]), 'input_ids': tensor([[  101,  2043,  2017,  ...,     0,     0,     0],\n",
      "        [  101, 18401,  1010,  ...,     0,     0,     0],\n",
      "        [  101,  2047,  3414,  ...,     0,     0,     0],\n",
      "        ...,\n",
      "        [  101,  1996,  1059,  ...,     0,     0,     0],\n",
      "        [  101,  1996,  1057,  ...,     0,     0,     0],\n",
      "        [  101,  1030,  5310,  ...,     0,     0,     0]]), 'attention_mask': tensor([[1, 1, 1,  ..., 0, 0, 0],\n",
      "        [1, 1, 1,  ..., 0, 0, 0],\n",
      "        [1, 1, 1,  ..., 0, 0, 0],\n",
      "        ...,\n",
      "        [1, 1, 1,  ..., 0, 0, 0],\n",
      "        [1, 1, 1,  ..., 0, 0, 0],\n",
      "        [1, 1, 1,  ..., 0, 0, 0]])}\n",
      "{'label': tensor([1, 0, 0, 0, 0, 1, 0, 1, 0, 0, 0, 1, 1, 0, 0, 0]), 'input_ids': tensor([[  101,  2339,  2003,  ...,     0,     0,     0],\n",
      "        [  101, 21442, 11705,  ...,     0,     0,     0],\n",
      "        [  101, 20955,  1011,  ...,     0,     0,     0],\n",
      "        ...,\n",
      "        [  101,  7702, 11417,  ...,     0,     0,     0],\n",
      "        [  101,  4238,  1024,  ...,     0,     0,     0],\n",
      "        [  101,  2402, 11560,  ...,     0,     0,     0]]), 'attention_mask': tensor([[1, 1, 1,  ..., 0, 0, 0],\n",
      "        [1, 1, 1,  ..., 0, 0, 0],\n",
      "        [1, 1, 1,  ..., 0, 0, 0],\n",
      "        ...,\n",
      "        [1, 1, 1,  ..., 0, 0, 0],\n",
      "        [1, 1, 1,  ..., 0, 0, 0],\n",
      "        [1, 1, 1,  ..., 0, 0, 0]])}\n",
      "{'label': tensor([0, 1, 0, 0, 0, 1, 1, 0, 1, 0, 1, 0, 0, 0, 0, 0]), 'input_ids': tensor([[ 101, 7910, 1012,  ...,    0,    0,    0],\n",
      "        [ 101, 1030, 5310,  ...,    0,    0,    0],\n",
      "        [ 101, 1996, 4688,  ...,    0,    0,    0],\n",
      "        ...,\n",
      "        [ 101, 4826, 2012,  ...,    0,    0,    0],\n",
      "        [ 101, 2809, 2086,  ...,    0,    0,    0],\n",
      "        [ 101, 2149, 2390,  ...,    0,    0,    0]]), 'attention_mask': tensor([[1, 1, 1,  ..., 0, 0, 0],\n",
      "        [1, 1, 1,  ..., 0, 0, 0],\n",
      "        [1, 1, 1,  ..., 0, 0, 0],\n",
      "        ...,\n",
      "        [1, 1, 1,  ..., 0, 0, 0],\n",
      "        [1, 1, 1,  ..., 0, 0, 0],\n",
      "        [1, 1, 1,  ..., 0, 0, 0]])}\n",
      "{'label': tensor([1, 0, 0, 1, 1, 0, 1, 0, 0, 1, 1, 0, 0, 1, 0, 0]), 'input_ids': tensor([[  101,  1030,  5310,  ...,     0,     0,     0],\n",
      "        [  101,  1996,  2446,  ...,     0,     0,     0],\n",
      "        [  101,  1030,  5310,  ...,     0,     0,     0],\n",
      "        ...,\n",
      "        [  101,  1030,  5310,  ...,     0,     0,     0],\n",
      "        [  101, 19387,  1030,  ...,     0,     0,     0],\n",
      "        [  101,  1000,  1999,  ...,     0,     0,     0]]), 'attention_mask': tensor([[1, 1, 1,  ..., 0, 0, 0],\n",
      "        [1, 1, 1,  ..., 0, 0, 0],\n",
      "        [1, 1, 1,  ..., 0, 0, 0],\n",
      "        ...,\n",
      "        [1, 1, 1,  ..., 0, 0, 0],\n",
      "        [1, 1, 1,  ..., 0, 0, 0],\n",
      "        [1, 1, 1,  ..., 0, 0, 0]])}\n",
      "{'label': tensor([0, 1, 1, 1, 1, 0, 1, 0, 0, 0, 1, 0, 1, 1, 1, 0]), 'input_ids': tensor([[  101,  1030,  5310,  ...,     0,     0,     0],\n",
      "        [  101,  2182,  2015,  ...,     0,     0,     0],\n",
      "        [  101, 24532, 12870,  ...,     0,     0,     0],\n",
      "        ...,\n",
      "        [  101,  1045,  2572,  ...,     0,     0,     0],\n",
      "        [  101,  3531,  2022,  ...,     0,     0,     0],\n",
      "        [  101,  2017,  5720,  ...,     0,     0,     0]]), 'attention_mask': tensor([[1, 1, 1,  ..., 0, 0, 0],\n",
      "        [1, 1, 1,  ..., 0, 0, 0],\n",
      "        [1, 1, 1,  ..., 0, 0, 0],\n",
      "        ...,\n",
      "        [1, 1, 1,  ..., 0, 0, 0],\n",
      "        [1, 1, 1,  ..., 0, 0, 0],\n",
      "        [1, 1, 1,  ..., 0, 0, 0]])}\n",
      "{'label': tensor([0, 0, 0, 0, 1, 0, 1, 1, 0, 1, 0, 0, 0, 1, 1, 0]), 'input_ids': tensor([[ 101, 1001, 8711,  ...,    0,    0,    0],\n",
      "        [ 101, 2129, 2272,  ...,    0,    0,    0],\n",
      "        [ 101, 9989, 1997,  ...,    0,    0,    0],\n",
      "        ...,\n",
      "        [ 101, 3435, 1011,  ...,    0,    0,    0],\n",
      "        [ 101, 1030, 5310,  ...,    0,    0,    0],\n",
      "        [ 101, 1030, 5310,  ...,    0,    0,    0]]), 'attention_mask': tensor([[1, 1, 1,  ..., 0, 0, 0],\n",
      "        [1, 1, 1,  ..., 0, 0, 0],\n",
      "        [1, 1, 1,  ..., 0, 0, 0],\n",
      "        ...,\n",
      "        [1, 1, 1,  ..., 0, 0, 0],\n",
      "        [1, 1, 1,  ..., 0, 0, 0],\n",
      "        [1, 1, 1,  ..., 0, 0, 0]])}\n",
      "{'label': tensor([0, 1, 0, 0, 0, 1, 0, 0, 1, 0, 0, 0, 1, 0, 0, 0]), 'input_ids': tensor([[  101, 15315, 15603,  ...,     0,     0,     0],\n",
      "        [  101,  5580,  1045,  ...,     0,     0,     0],\n",
      "        [  101,  3648,  2758,  ...,     0,     0,     0],\n",
      "        ...,\n",
      "        [  101,  1999,  2459,  ...,     0,     0,     0],\n",
      "        [  101, 19387,  1030,  ...,     0,     0,     0],\n",
      "        [  101,  5606,  3517,  ...,     0,     0,     0]]), 'attention_mask': tensor([[1, 1, 1,  ..., 0, 0, 0],\n",
      "        [1, 1, 1,  ..., 0, 0, 0],\n",
      "        [1, 1, 1,  ..., 0, 0, 0],\n",
      "        ...,\n",
      "        [1, 1, 1,  ..., 0, 0, 0],\n",
      "        [1, 1, 1,  ..., 0, 0, 0],\n",
      "        [1, 1, 1,  ..., 0, 0, 0]])}\n",
      "{'label': tensor([1, 1, 1, 0, 0, 0, 0, 0, 1, 1, 0, 0, 0, 0, 0, 1]), 'input_ids': tensor([[  101,  2425,  1030,  ...,     0,     0,     0],\n",
      "        [  101,  1001,  5095,  ...,     0,     0,     0],\n",
      "        [  101,  1001,  6206,  ...,     0,     0,     0],\n",
      "        ...,\n",
      "        [  101,  1001, 24815,  ...,     0,     0,     0],\n",
      "        [  101,  2045,  1005,  ...,     0,     0,     0],\n",
      "        [  101,  8840,  2140,  ...,     0,     0,     0]]), 'attention_mask': tensor([[1, 1, 1,  ..., 0, 0, 0],\n",
      "        [1, 1, 1,  ..., 0, 0, 0],\n",
      "        [1, 1, 1,  ..., 0, 0, 0],\n",
      "        ...,\n",
      "        [1, 1, 1,  ..., 0, 0, 0],\n",
      "        [1, 1, 1,  ..., 0, 0, 0],\n",
      "        [1, 1, 1,  ..., 0, 0, 0]])}\n",
      "{'label': tensor([0, 0, 1, 0, 0, 1, 1, 0, 0, 0, 0, 0, 0, 0, 0, 1]), 'input_ids': tensor([[ 101, 3423, 3507,  ...,    0,    0,    0],\n",
      "        [ 101, 1098, 2100,  ...,    0,    0,    0],\n",
      "        [ 101, 1030, 5310,  ...,    0,    0,    0],\n",
      "        ...,\n",
      "        [ 101, 2129, 2106,  ...,    0,    0,    0],\n",
      "        [ 101, 2106, 9835,  ...,    0,    0,    0],\n",
      "        [ 101, 3963, 1003,  ...,    0,    0,    0]]), 'attention_mask': tensor([[1, 1, 1,  ..., 0, 0, 0],\n",
      "        [1, 1, 1,  ..., 0, 0, 0],\n",
      "        [1, 1, 1,  ..., 0, 0, 0],\n",
      "        ...,\n",
      "        [1, 1, 1,  ..., 0, 0, 0],\n",
      "        [1, 1, 1,  ..., 0, 0, 0],\n",
      "        [1, 1, 1,  ..., 0, 0, 0]])}\n",
      "{'label': tensor([0, 0, 0, 0, 0, 0, 0, 1, 0, 0, 1, 1, 1, 0, 1, 0]), 'input_ids': tensor([[  101,  1030,  5310,  ...,     0,     0,     0],\n",
      "        [  101,  1001, 10556,  ...,     0,     0,     0],\n",
      "        [  101,  3304,  9720,  ...,     0,     0,     0],\n",
      "        ...,\n",
      "        [  101,  3675,  8086,  ...,     0,     0,     0],\n",
      "        [  101,  1030,  5310,  ...,     0,     0,     0],\n",
      "        [  101,  2026,  2155,  ...,     0,     0,     0]]), 'attention_mask': tensor([[1, 1, 1,  ..., 0, 0, 0],\n",
      "        [1, 1, 1,  ..., 0, 0, 0],\n",
      "        [1, 1, 1,  ..., 0, 0, 0],\n",
      "        ...,\n",
      "        [1, 1, 1,  ..., 0, 0, 0],\n",
      "        [1, 1, 1,  ..., 0, 0, 0],\n",
      "        [1, 1, 1,  ..., 0, 0, 0]])}\n",
      "{'label': tensor([0, 1, 1, 1, 0, 1, 1, 0, 1, 0, 1, 1, 0, 0, 1, 0]), 'input_ids': tensor([[  101,  2023,  2210,  ...,     0,     0,     0],\n",
      "        [  101,  2065,  2017,  ...,     0,     0,     0],\n",
      "        [  101,  4687,  2339,  ...,     0,     0,     0],\n",
      "        ...,\n",
      "        [  101,  8711,  6160,  ...,     0,     0,     0],\n",
      "        [  101, 14015,  1041,  ...,     0,     0,     0],\n",
      "        [  101,  7041,  1024,  ...,     0,     0,     0]]), 'attention_mask': tensor([[1, 1, 1,  ..., 0, 0, 0],\n",
      "        [1, 1, 1,  ..., 0, 0, 0],\n",
      "        [1, 1, 1,  ..., 0, 0, 0],\n",
      "        ...,\n",
      "        [1, 1, 1,  ..., 0, 0, 0],\n",
      "        [1, 1, 1,  ..., 0, 0, 0],\n",
      "        [1, 1, 1,  ..., 0, 0, 0]])}\n",
      "{'label': tensor([1, 0, 1, 1, 0, 0, 1, 1, 1, 0, 1, 1, 0, 0, 1, 1]), 'input_ids': tensor([[  101,  1030,  5310,  ...,     0,     0,     0],\n",
      "        [  101,  1001, 19728,  ...,     0,     0,     0],\n",
      "        [  101,  1030,  5310,  ...,     0,     0,     0],\n",
      "        ...,\n",
      "        [  101,  1045,  1005,  ...,     0,     0,     0],\n",
      "        [  101,  1998,  2298,  ...,     0,     0,     0],\n",
      "        [  101,  1030,  5310,  ...,     0,     0,     0]]), 'attention_mask': tensor([[1, 1, 1,  ..., 0, 0, 0],\n",
      "        [1, 1, 1,  ..., 0, 0, 0],\n",
      "        [1, 1, 1,  ..., 0, 0, 0],\n",
      "        ...,\n",
      "        [1, 1, 1,  ..., 0, 0, 0],\n",
      "        [1, 1, 1,  ..., 0, 0, 0],\n",
      "        [1, 1, 1,  ..., 0, 0, 0]])}\n",
      "{'label': tensor([0, 1, 1, 1, 1, 1, 1, 1, 0, 1, 0, 1, 0, 0, 1, 0]), 'input_ids': tensor([[  101,  1030,  5310,  ...,     0,     0,     0],\n",
      "        [  101,  2023,  7743,  ...,     0,     0,     0],\n",
      "        [  101,  2148, 24651,  ...,     0,     0,     0],\n",
      "        ...,\n",
      "        [  101,  1030,  5310,  ...,     0,     0,     0],\n",
      "        [  101,  1030,  5310,  ...,     0,     0,     0],\n",
      "        [  101,  2158,  2023,  ...,     0,     0,     0]]), 'attention_mask': tensor([[1, 1, 1,  ..., 0, 0, 0],\n",
      "        [1, 1, 1,  ..., 0, 0, 0],\n",
      "        [1, 1, 1,  ..., 0, 0, 0],\n",
      "        ...,\n",
      "        [1, 1, 1,  ..., 0, 0, 0],\n",
      "        [1, 1, 1,  ..., 0, 0, 0],\n",
      "        [1, 1, 1,  ..., 0, 0, 0]])}\n",
      "{'label': tensor([1, 0, 1, 0, 0, 0, 0, 0, 0, 1, 0, 1, 1, 1, 1, 0]), 'input_ids': tensor([[ 101, 2182, 3310,  ...,    0,    0,    0],\n",
      "        [ 101, 4067, 2017,  ...,    0,    0,    0],\n",
      "        [ 101, 1998, 2027,  ...,    0,    0,    0],\n",
      "        ...,\n",
      "        [ 101, 2007, 8711,  ...,    0,    0,    0],\n",
      "        [ 101, 2177, 1997,  ...,    0,    0,    0],\n",
      "        [ 101, 1030, 5310,  ...,    0,    0,    0]]), 'attention_mask': tensor([[1, 1, 1,  ..., 0, 0, 0],\n",
      "        [1, 1, 1,  ..., 0, 0, 0],\n",
      "        [1, 1, 1,  ..., 0, 0, 0],\n",
      "        ...,\n",
      "        [1, 1, 1,  ..., 0, 0, 0],\n",
      "        [1, 1, 1,  ..., 0, 0, 0],\n",
      "        [1, 1, 1,  ..., 0, 0, 0]])}\n",
      "{'label': tensor([0, 1, 0, 1, 0, 1, 1, 0, 1, 0, 1, 0, 1, 1, 1, 0]), 'input_ids': tensor([[  101,  4931,  9795,  ...,     0,     0,     0],\n",
      "        [  101,  2017,  8239,  ...,     0,     0,     0],\n",
      "        [  101,  2827, 12267,  ...,     0,     0,     0],\n",
      "        ...,\n",
      "        [  101,  1030,  5310,  ...,     0,     0,     0],\n",
      "        [  101,  3313,  4781,  ...,     0,     0,     0],\n",
      "        [  101,  3146,  1005,  ...,     0,     0,     0]]), 'attention_mask': tensor([[1, 1, 1,  ..., 0, 0, 0],\n",
      "        [1, 1, 1,  ..., 0, 0, 0],\n",
      "        [1, 1, 1,  ..., 0, 0, 0],\n",
      "        ...,\n",
      "        [1, 1, 1,  ..., 0, 0, 0],\n",
      "        [1, 1, 1,  ..., 0, 0, 0],\n",
      "        [1, 1, 1,  ..., 0, 0, 0]])}\n",
      "{'label': tensor([0, 1, 1, 0, 1, 0, 0, 1, 0, 1, 1, 1, 0, 1, 0, 1]), 'input_ids': tensor([[  101,  3915,  6734,  ...,     0,     0,     0],\n",
      "        [  101,  1030,  5310,  ...,     0,     0,     0],\n",
      "        [  101,  1030,  5310,  ...,     0,     0,     0],\n",
      "        ...,\n",
      "        [  101,  1030,  5310,  ...,     0,     0,     0],\n",
      "        [  101,  2061,  1996,  ...,     0,     0,     0],\n",
      "        [  101,  1996, 14395,  ...,     0,     0,     0]]), 'attention_mask': tensor([[1, 1, 1,  ..., 0, 0, 0],\n",
      "        [1, 1, 1,  ..., 0, 0, 0],\n",
      "        [1, 1, 1,  ..., 0, 0, 0],\n",
      "        ...,\n",
      "        [1, 1, 1,  ..., 0, 0, 0],\n",
      "        [1, 1, 1,  ..., 0, 0, 0],\n",
      "        [1, 1, 1,  ..., 0, 0, 0]])}\n",
      "{'label': tensor([1, 0, 0, 1, 0, 1, 1, 0, 1, 0, 0, 1, 0, 1, 1, 0]), 'input_ids': tensor([[  101,  2522, 17830,  ...,     0,     0,     0],\n",
      "        [  101,  2652,  2720,  ...,     0,     0,     0],\n",
      "        [  101,  2005,  1030,  ...,     0,     0,     0],\n",
      "        ...,\n",
      "        [  101, 10047,  2061,  ...,     0,     0,     0],\n",
      "        [  101,  2129,  3937,  ...,     0,     0,     0],\n",
      "        [  101,  2720,  7820,  ...,     0,     0,     0]]), 'attention_mask': tensor([[1, 1, 1,  ..., 0, 0, 0],\n",
      "        [1, 1, 1,  ..., 0, 0, 0],\n",
      "        [1, 1, 1,  ..., 0, 0, 0],\n",
      "        ...,\n",
      "        [1, 1, 1,  ..., 0, 0, 0],\n",
      "        [1, 1, 1,  ..., 0, 0, 0],\n",
      "        [1, 1, 1,  ..., 0, 0, 0]])}\n",
      "{'label': tensor([1, 1, 0, 0, 0, 1, 0, 0, 0, 0, 1, 1, 1, 0, 0, 0]), 'input_ids': tensor([[  101,  7743,  1045,  ...,     0,     0,     0],\n",
      "        [  101,  1996,  2188,  ...,     0,     0,     0],\n",
      "        [  101,  1030,  5310,  ...,     0,     0,     0],\n",
      "        ...,\n",
      "        [  101,  1030,  5310,  ...,     0,     0,     0],\n",
      "        [  101,  1030,  5310,  ...,     0,     0,     0],\n",
      "        [  101,  6394, 25353,  ...,     0,     0,     0]]), 'attention_mask': tensor([[1, 1, 1,  ..., 0, 0, 0],\n",
      "        [1, 1, 1,  ..., 0, 0, 0],\n",
      "        [1, 1, 1,  ..., 0, 0, 0],\n",
      "        ...,\n",
      "        [1, 1, 1,  ..., 0, 0, 0],\n",
      "        [1, 1, 1,  ..., 0, 0, 0],\n",
      "        [1, 1, 1,  ..., 0, 0, 0]])}\n",
      "{'label': tensor([0, 1, 0, 1, 0, 1, 1, 1, 0, 1, 1, 1, 0, 0, 1, 1]), 'input_ids': tensor([[  101,  2025,  2035,  ...,     0,     0,     0],\n",
      "        [  101,  6206,  7344,  ...,     0,     0,     0],\n",
      "        [  101,  3531, 19387,  ...,     0,     0,     0],\n",
      "        ...,\n",
      "        [  101,  1030,  5310,  ...,     0,     0,     0],\n",
      "        [  101,  2061,  2085,  ...,     0,     0,     0],\n",
      "        [  101,  5037,  2231,  ...,     0,     0,     0]]), 'attention_mask': tensor([[1, 1, 1,  ..., 0, 0, 0],\n",
      "        [1, 1, 1,  ..., 0, 0, 0],\n",
      "        [1, 1, 1,  ..., 0, 0, 0],\n",
      "        ...,\n",
      "        [1, 1, 1,  ..., 0, 0, 0],\n",
      "        [1, 1, 1,  ..., 0, 0, 0],\n",
      "        [1, 1, 1,  ..., 0, 0, 0]])}\n",
      "{'label': tensor([0, 1, 0, 0, 0, 1, 1, 0, 1, 1, 1, 0, 0, 0, 1, 1]), 'input_ids': tensor([[ 101, 1030, 5310,  ...,    0,    0,    0],\n",
      "        [ 101, 2288, 2033,  ...,    0,    0,    0],\n",
      "        [ 101, 2035, 1996,  ...,    0,    0,    0],\n",
      "        ...,\n",
      "        [ 101, 2149, 2231,  ...,    0,    0,    0],\n",
      "        [ 101, 1030, 5310,  ...,    0,    0,    0],\n",
      "        [ 101, 3492, 2469,  ...,    0,    0,    0]]), 'attention_mask': tensor([[1, 1, 1,  ..., 0, 0, 0],\n",
      "        [1, 1, 1,  ..., 0, 0, 0],\n",
      "        [1, 1, 1,  ..., 0, 0, 0],\n",
      "        ...,\n",
      "        [1, 1, 1,  ..., 0, 0, 0],\n",
      "        [1, 1, 1,  ..., 0, 0, 0],\n",
      "        [1, 1, 1,  ..., 0, 0, 0]])}\n",
      "{'label': tensor([0, 0, 0, 0, 0, 0, 1, 0, 1, 0, 0, 0, 0, 1, 0, 1]), 'input_ids': tensor([[ 101, 1000, 2027,  ...,    0,    0,    0],\n",
      "        [ 101, 3304, 1005,  ...,    0,    0,    0],\n",
      "        [ 101, 2019, 1005,  ...,    0,    0,    0],\n",
      "        ...,\n",
      "        [ 101, 1030, 5310,  ...,    0,    0,    0],\n",
      "        [ 101, 1030, 5310,  ...,    0,    0,    0],\n",
      "        [ 101, 1030, 5310,  ...,    0,    0,    0]]), 'attention_mask': tensor([[1, 1, 1,  ..., 0, 0, 0],\n",
      "        [1, 1, 1,  ..., 0, 0, 0],\n",
      "        [1, 1, 1,  ..., 0, 0, 0],\n",
      "        ...,\n",
      "        [1, 1, 1,  ..., 0, 0, 0],\n",
      "        [1, 1, 1,  ..., 0, 0, 0],\n",
      "        [1, 1, 1,  ..., 0, 0, 0]])}\n",
      "{'label': tensor([1, 0, 1, 1, 0, 1, 0, 1, 0, 0, 1, 0, 0, 1, 0, 0]), 'input_ids': tensor([[ 101, 3422, 1024,  ...,    0,    0,    0],\n",
      "        [ 101, 1045, 1005,  ...,    0,    0,    0],\n",
      "        [ 101, 2438,  999,  ...,    0,    0,    0],\n",
      "        ...,\n",
      "        [ 101, 2065, 2016,  ...,    0,    0,    0],\n",
      "        [ 101, 2043, 2273,  ...,    0,    0,    0],\n",
      "        [ 101, 1030, 5310,  ...,    0,    0,    0]]), 'attention_mask': tensor([[1, 1, 1,  ..., 0, 0, 0],\n",
      "        [1, 1, 1,  ..., 0, 0, 0],\n",
      "        [1, 1, 1,  ..., 0, 0, 0],\n",
      "        ...,\n",
      "        [1, 1, 1,  ..., 0, 0, 0],\n",
      "        [1, 1, 1,  ..., 0, 0, 0],\n",
      "        [1, 1, 1,  ..., 0, 0, 0]])}\n",
      "{'label': tensor([1, 0, 0, 0, 0, 1, 0, 0, 0, 1, 0, 0, 1, 0, 0, 1]), 'input_ids': tensor([[  101,  2148, 24651,  ...,     0,     0,     0],\n",
      "        [  101,  4871,  1997,  ...,     0,     0,     0],\n",
      "        [  101,  1005,  2064,  ...,     0,     0,     0],\n",
      "        ...,\n",
      "        [  101,  6282,  1010,  ...,     0,     0,     0],\n",
      "        [  101,  1030,  5310,  ...,     0,     0,     0],\n",
      "        [  101,  2574, 10722,  ...,     0,     0,     0]]), 'attention_mask': tensor([[1, 1, 1,  ..., 0, 0, 0],\n",
      "        [1, 1, 1,  ..., 0, 0, 0],\n",
      "        [1, 1, 1,  ..., 0, 0, 0],\n",
      "        ...,\n",
      "        [1, 1, 1,  ..., 0, 0, 0],\n",
      "        [1, 1, 1,  ..., 0, 0, 0],\n",
      "        [1, 1, 1,  ..., 0, 0, 0]])}\n",
      "{'label': tensor([1, 0, 0, 0, 0, 1, 0, 0, 0, 0, 0, 1, 1, 0, 0, 1]), 'input_ids': tensor([[  101,  2821,  3531,  ...,     0,     0,     0],\n",
      "        [  101,  3424,  7011,  ...,     0,     0,     0],\n",
      "        [  101,  1030,  5310,  ...,     0,     0,     0],\n",
      "        ...,\n",
      "        [  101,  2043,  2009,  ...,     0,     0,     0],\n",
      "        [  101,  3748, 19387,  ...,     0,     0,     0],\n",
      "        [  101,  2000,  1996,  ...,     0,     0,     0]]), 'attention_mask': tensor([[1, 1, 1,  ..., 0, 0, 0],\n",
      "        [1, 1, 1,  ..., 0, 0, 0],\n",
      "        [1, 1, 1,  ..., 0, 0, 0],\n",
      "        ...,\n",
      "        [1, 1, 1,  ..., 0, 0, 0],\n",
      "        [1, 1, 1,  ..., 0, 0, 0],\n",
      "        [1, 1, 1,  ..., 0, 0, 0]])}\n",
      "{'label': tensor([0, 0, 0, 0, 1, 1, 1, 0, 0, 0, 0, 0, 1, 1, 1, 1]), 'input_ids': tensor([[  101,  2117, 11774,  ...,     0,     0,     0],\n",
      "        [  101,  2048,  3324,  ...,     0,     0,     0],\n",
      "        [  101,  2762,  1024,  ...,     0,     0,     0],\n",
      "        ...,\n",
      "        [  101,  2069,  1037,  ...,     0,     0,     0],\n",
      "        [  101,  1030,  5310,  ...,     0,     0,     0],\n",
      "        [  101,  4406,  2500,  ...,     0,     0,     0]]), 'attention_mask': tensor([[1, 1, 1,  ..., 0, 0, 0],\n",
      "        [1, 1, 1,  ..., 0, 0, 0],\n",
      "        [1, 1, 1,  ..., 0, 0, 0],\n",
      "        ...,\n",
      "        [1, 1, 1,  ..., 0, 0, 0],\n",
      "        [1, 1, 1,  ..., 0, 0, 0],\n",
      "        [1, 1, 1,  ..., 0, 0, 0]])}\n",
      "{'label': tensor([1, 0, 0, 1, 0, 0, 0, 1, 0, 0, 0, 1, 0, 1, 1, 0]), 'input_ids': tensor([[ 101, 1523, 2339,  ...,    0,    0,    0],\n",
      "        [ 101, 2031, 2017,  ...,    0,    0,    0],\n",
      "        [ 101, 2767, 1011,  ...,    0,    0,    0],\n",
      "        ...,\n",
      "        [ 101, 2004, 6694,  ...,    0,    0,    0],\n",
      "        [ 101, 1030, 5310,  ...,    0,    0,    0],\n",
      "        [ 101, 1030, 5310,  ...,    0,    0,    0]]), 'attention_mask': tensor([[1, 1, 1,  ..., 0, 0, 0],\n",
      "        [1, 1, 1,  ..., 0, 0, 0],\n",
      "        [1, 1, 1,  ..., 0, 0, 0],\n",
      "        ...,\n",
      "        [1, 1, 1,  ..., 0, 0, 0],\n",
      "        [1, 1, 1,  ..., 0, 0, 0],\n",
      "        [1, 1, 1,  ..., 0, 0, 0]])}\n",
      "{'label': tensor([0, 1, 1, 1, 0, 0, 0, 0, 1, 1, 1, 0, 0, 0, 1, 1]), 'input_ids': tensor([[  101,  1520,   100,  ...,     0,     0,     0],\n",
      "        [  101,  1030,  5310,  ...,     0,     0,     0],\n",
      "        [  101, 11509,  4152,  ...,     0,     0,     0],\n",
      "        ...,\n",
      "        [  101,  5622, 16150,  ...,     0,     0,     0],\n",
      "        [  101,  2308,  2024,  ...,     0,     0,     0],\n",
      "        [  101,  1030,  5310,  ...,     0,     0,     0]]), 'attention_mask': tensor([[1, 1, 1,  ..., 0, 0, 0],\n",
      "        [1, 1, 1,  ..., 0, 0, 0],\n",
      "        [1, 1, 1,  ..., 0, 0, 0],\n",
      "        ...,\n",
      "        [1, 1, 1,  ..., 0, 0, 0],\n",
      "        [1, 1, 1,  ..., 0, 0, 0],\n",
      "        [1, 1, 1,  ..., 0, 0, 0]])}\n",
      "{'label': tensor([0, 0, 1, 0, 1, 0, 0, 0, 1, 0, 0, 0, 0, 1, 1, 0]), 'input_ids': tensor([[  101,  1001,  5926,  ...,     0,     0,     0],\n",
      "        [  101,  2043,  1996,  ...,     0,     0,     0],\n",
      "        [  101,  2178,  2028,  ...,     0,     0,     0],\n",
      "        ...,\n",
      "        [  101, 29500,  5356,  ...,     0,     0,     0],\n",
      "        [  101,  1030,  5310,  ...,     0,     0,     0],\n",
      "        [  101,  1030,  5310,  ...,     0,     0,     0]]), 'attention_mask': tensor([[1, 1, 1,  ..., 0, 0, 0],\n",
      "        [1, 1, 1,  ..., 0, 0, 0],\n",
      "        [1, 1, 1,  ..., 0, 0, 0],\n",
      "        ...,\n",
      "        [1, 1, 1,  ..., 0, 0, 0],\n",
      "        [1, 1, 1,  ..., 0, 0, 0],\n",
      "        [1, 1, 1,  ..., 0, 0, 0]])}\n",
      "{'label': tensor([0, 0, 0, 0, 0, 0, 0, 1, 0, 1, 1, 0, 1, 0, 0, 0]), 'input_ids': tensor([[  101,  1030,  5310,  ...,     0,     0,     0],\n",
      "        [  101,  2043,  2115,  ...,     0,     0,     0],\n",
      "        [  101,  4326,  2008,  ...,     0,     0,     0],\n",
      "        ...,\n",
      "        [  101,  5905,  1024,  ...,     0,     0,     0],\n",
      "        [  101, 11560,  4223,  ...,     0,     0,     0],\n",
      "        [  101,  1037,  2307,  ...,     0,     0,     0]]), 'attention_mask': tensor([[1, 1, 1,  ..., 0, 0, 0],\n",
      "        [1, 1, 1,  ..., 0, 0, 0],\n",
      "        [1, 1, 1,  ..., 0, 0, 0],\n",
      "        ...,\n",
      "        [1, 1, 1,  ..., 0, 0, 0],\n",
      "        [1, 1, 1,  ..., 0, 0, 0],\n",
      "        [1, 1, 1,  ..., 0, 0, 0]])}\n",
      "{'label': tensor([1, 0, 0, 1, 0, 0, 0, 0, 1, 0, 1, 1, 0, 0, 1, 0]), 'input_ids': tensor([[  101,  2017,  2024,  ...,     0,     0,     0],\n",
      "        [  101,  1001, 14291,  ...,     0,     0,     0],\n",
      "        [  101,  1030,  5310,  ...,     0,     0,     0],\n",
      "        ...,\n",
      "        [  101,  2070,  1001,  ...,     0,     0,     0],\n",
      "        [  101,  2425,  2149,  ...,     0,     0,     0],\n",
      "        [  101,  1030,  5310,  ...,     0,     0,     0]]), 'attention_mask': tensor([[1, 1, 1,  ..., 0, 0, 0],\n",
      "        [1, 1, 1,  ..., 0, 0, 0],\n",
      "        [1, 1, 1,  ..., 0, 0, 0],\n",
      "        ...,\n",
      "        [1, 1, 1,  ..., 0, 0, 0],\n",
      "        [1, 1, 1,  ..., 0, 0, 0],\n",
      "        [1, 1, 1,  ..., 0, 0, 0]])}\n",
      "{'label': tensor([0, 0, 1, 1, 0, 0, 0, 1, 0, 0, 1, 1, 1, 0, 0, 0]), 'input_ids': tensor([[  101,  2004,  1996,  ...,     0,     0,     0],\n",
      "        [  101,  4532, 11535,  ...,     0,     0,     0],\n",
      "        [  101,  2308,  2024,  ...,     0,     0,     0],\n",
      "        ...,\n",
      "        [  101,  1030,  5310,  ...,     0,     0,     0],\n",
      "        [  101,  2021,  1010,  ...,     0,     0,     0],\n",
      "        [  101,  2043,  2017,  ...,     0,     0,     0]]), 'attention_mask': tensor([[1, 1, 1,  ..., 0, 0, 0],\n",
      "        [1, 1, 1,  ..., 0, 0, 0],\n",
      "        [1, 1, 1,  ..., 0, 0, 0],\n",
      "        ...,\n",
      "        [1, 1, 1,  ..., 0, 0, 0],\n",
      "        [1, 1, 1,  ..., 0, 0, 0],\n",
      "        [1, 1, 1,  ..., 0, 0, 0]])}\n",
      "{'label': tensor([1, 0, 0, 1, 0, 0, 0, 0, 0, 0, 0, 0, 1, 1, 0, 0]), 'input_ids': tensor([[  101,  1030,  5310,  ...,     0,     0,     0],\n",
      "        [  101,  2297,  1013,  ...,     0,     0,     0],\n",
      "        [  101,  2769, 15210,  ...,     0,     0,     0],\n",
      "        ...,\n",
      "        [  101,  1030,  5310,  ...,     0,     0,     0],\n",
      "        [  101,  2043,  8307,  ...,     0,     0,     0],\n",
      "        [  101,  2001,  2170,  ...,     0,     0,     0]]), 'attention_mask': tensor([[1, 1, 1,  ..., 0, 0, 0],\n",
      "        [1, 1, 1,  ..., 0, 0, 0],\n",
      "        [1, 1, 1,  ..., 0, 0, 0],\n",
      "        ...,\n",
      "        [1, 1, 1,  ..., 0, 0, 0],\n",
      "        [1, 1, 1,  ..., 0, 0, 0],\n",
      "        [1, 1, 1,  ..., 0, 0, 0]])}\n",
      "{'label': tensor([0, 0, 0, 0, 1, 1, 1, 0, 0, 0, 0, 1, 0, 1, 1, 1]), 'input_ids': tensor([[  101,  7309,  5338,  ...,     0,     0,     0],\n",
      "        [  101, 24011,  9916,  ...,     0,     0,     0],\n",
      "        [  101,  5094,  8711,  ...,     0,     0,     0],\n",
      "        ...,\n",
      "        [  101,  4033,  1005,  ...,     0,     0,     0],\n",
      "        [  101, 18243,  2721,  ...,     0,     0,     0],\n",
      "        [  101,  1045,  2196,  ...,     0,     0,     0]]), 'attention_mask': tensor([[1, 1, 1,  ..., 0, 0, 0],\n",
      "        [1, 1, 1,  ..., 0, 0, 0],\n",
      "        [1, 1, 1,  ..., 0, 0, 0],\n",
      "        ...,\n",
      "        [1, 1, 1,  ..., 0, 0, 0],\n",
      "        [1, 1, 1,  ..., 0, 0, 0],\n",
      "        [1, 1, 1,  ..., 0, 0, 0]])}\n",
      "{'label': tensor([1, 1, 1, 0, 1, 1, 1, 0, 0, 0, 0, 1, 0, 1, 1, 0]), 'input_ids': tensor([[  101, 12954,  2015,  ...,     0,     0,     0],\n",
      "        [  101,  1030,  5310,  ...,     0,     0,     0],\n",
      "        [  101,  1030,  5310,  ...,     0,     0,     0],\n",
      "        ...,\n",
      "        [  101,  2065,  1996,  ...,     0,     0,     0],\n",
      "        [  101,  2339,  7486,  ...,     0,     0,     0],\n",
      "        [  101,  1045,  2196,  ...,     0,     0,     0]]), 'attention_mask': tensor([[1, 1, 1,  ..., 0, 0, 0],\n",
      "        [1, 1, 1,  ..., 0, 0, 0],\n",
      "        [1, 1, 1,  ..., 0, 0, 0],\n",
      "        ...,\n",
      "        [1, 1, 1,  ..., 0, 0, 0],\n",
      "        [1, 1, 1,  ..., 0, 0, 0],\n",
      "        [1, 1, 1,  ..., 0, 0, 0]])}\n",
      "{'label': tensor([0, 1, 0, 1, 1, 1, 1, 0, 0, 1, 0, 0, 1, 0, 0, 1]), 'input_ids': tensor([[  101,  1030, 16360,  ...,     0,     0,     0],\n",
      "        [  101,  1030,  5310,  ...,     0,     0,     0],\n",
      "        [  101,  2976,  3648,  ...,     0,     0,     0],\n",
      "        ...,\n",
      "        [  101,  5635,  1998,  ...,     0,     0,     0],\n",
      "        [  101,  2045,  2024,  ...,     0,     0,     0],\n",
      "        [  101,  1045,  1005,  ...,     0,     0,     0]]), 'attention_mask': tensor([[1, 1, 1,  ..., 0, 0, 0],\n",
      "        [1, 1, 1,  ..., 0, 0, 0],\n",
      "        [1, 1, 1,  ..., 0, 0, 0],\n",
      "        ...,\n",
      "        [1, 1, 1,  ..., 0, 0, 0],\n",
      "        [1, 1, 1,  ..., 0, 0, 0],\n",
      "        [1, 1, 1,  ..., 0, 0, 0]])}\n",
      "{'label': tensor([1, 0, 1, 0, 1, 1, 0, 0, 0, 0, 0, 1, 0, 1, 0, 0]), 'input_ids': tensor([[  101,  2129,  1996,  ...,     0,     0,     0],\n",
      "        [  101,  1001,  4485,  ...,     0,     0,     0],\n",
      "        [  101,  1030,  5310,  ...,     0,     0,     0],\n",
      "        ...,\n",
      "        [  101,  1030,  5310,  ...,     0,     0,     0],\n",
      "        [  101,  2009,  1005,  ...,     0,     0,     0],\n",
      "        [  101, 21025, 14968,  ...,     0,     0,     0]]), 'attention_mask': tensor([[1, 1, 1,  ..., 0, 0, 0],\n",
      "        [1, 1, 1,  ..., 0, 0, 0],\n",
      "        [1, 1, 1,  ..., 0, 0, 0],\n",
      "        ...,\n",
      "        [1, 1, 1,  ..., 0, 0, 0],\n",
      "        [1, 1, 1,  ..., 0, 0, 0],\n",
      "        [1, 1, 1,  ..., 0, 0, 0]])}\n",
      "{'label': tensor([0, 1, 1, 0, 0, 0, 0, 1, 0, 0, 1, 0, 0, 1, 0, 0]), 'input_ids': tensor([[ 101, 1001, 3149,  ...,    0,    0,    0],\n",
      "        [ 101, 6206, 7344,  ...,    0,    0,    0],\n",
      "        [ 101, 3046, 2378,  ...,    0,    0,    0],\n",
      "        ...,\n",
      "        [ 101, 1030, 5310,  ...,    0,    0,    0],\n",
      "        [ 101, 5564, 1999,  ...,    0,    0,    0],\n",
      "        [ 101, 2393, 2041,  ...,    0,    0,    0]]), 'attention_mask': tensor([[1, 1, 1,  ..., 0, 0, 0],\n",
      "        [1, 1, 1,  ..., 0, 0, 0],\n",
      "        [1, 1, 1,  ..., 0, 0, 0],\n",
      "        ...,\n",
      "        [1, 1, 1,  ..., 0, 0, 0],\n",
      "        [1, 1, 1,  ..., 0, 0, 0],\n",
      "        [1, 1, 1,  ..., 0, 0, 0]])}\n",
      "{'label': tensor([1, 1, 0, 0, 1, 1, 0, 0, 0, 0, 1, 0, 0, 0, 1, 0]), 'input_ids': tensor([[ 101, 1030, 5310,  ...,    0,    0,    0],\n",
      "        [ 101, 2009, 3138,  ...,    0,    0,    0],\n",
      "        [ 101, 7387, 7889,  ...,    0,    0,    0],\n",
      "        ...,\n",
      "        [ 101, 8223, 5698,  ...,    0,    0,    0],\n",
      "        [ 101, 1045, 5223,  ...,    0,    0,    0],\n",
      "        [ 101, 2043, 2619,  ...,    0,    0,    0]]), 'attention_mask': tensor([[1, 1, 1,  ..., 0, 0, 0],\n",
      "        [1, 1, 1,  ..., 0, 0, 0],\n",
      "        [1, 1, 1,  ..., 0, 0, 0],\n",
      "        ...,\n",
      "        [1, 1, 1,  ..., 0, 0, 0],\n",
      "        [1, 1, 1,  ..., 0, 0, 0],\n",
      "        [1, 1, 1,  ..., 0, 0, 0]])}\n",
      "{'label': tensor([1, 0, 0, 1, 1, 0, 0, 0, 0, 0, 1, 1, 0, 0, 0, 1]), 'input_ids': tensor([[  101,  1030,  5310,  ...,     0,     0,     0],\n",
      "        [  101,  1030,  5310,  ...,     0,     0,     0],\n",
      "        [  101, 19387,  1030,  ...,     0,     0,     0],\n",
      "        ...,\n",
      "        [  101,  3675,  6477,  ...,     0,     0,     0],\n",
      "        [  101,  3087,  2842,  ...,     0,     0,     0],\n",
      "        [  101,  1030,  5310,  ...,     0,     0,     0]]), 'attention_mask': tensor([[1, 1, 1,  ..., 0, 0, 0],\n",
      "        [1, 1, 1,  ..., 0, 0, 0],\n",
      "        [1, 1, 1,  ..., 0, 0, 0],\n",
      "        ...,\n",
      "        [1, 1, 1,  ..., 0, 0, 0],\n",
      "        [1, 1, 1,  ..., 0, 0, 0],\n",
      "        [1, 1, 1,  ..., 0, 0, 0]])}\n",
      "{'label': tensor([0, 0, 0, 1, 0, 0, 0, 0, 0, 0, 0, 0, 0, 0, 0, 1]), 'input_ids': tensor([[ 101, 2043, 2017,  ...,    0,    0,    0],\n",
      "        [ 101, 2017, 2123,  ...,    0,    0,    0],\n",
      "        [ 101, 1996, 2187,  ...,    0,    0,    0],\n",
      "        ...,\n",
      "        [ 101, 2330, 2925,  ...,    0,    0,    0],\n",
      "        [ 101, 6616, 2017,  ...,    0,    0,    0],\n",
      "        [ 101, 1001, 4954,  ...,    0,    0,    0]]), 'attention_mask': tensor([[1, 1, 1,  ..., 0, 0, 0],\n",
      "        [1, 1, 1,  ..., 0, 0, 0],\n",
      "        [1, 1, 1,  ..., 0, 0, 0],\n",
      "        ...,\n",
      "        [1, 1, 1,  ..., 0, 0, 0],\n",
      "        [1, 1, 1,  ..., 0, 0, 0],\n",
      "        [1, 1, 1,  ..., 0, 0, 0]])}\n",
      "{'label': tensor([0, 0, 0, 0, 1, 0, 0, 0, 0, 1, 1, 0, 1, 1, 0, 1]), 'input_ids': tensor([[  101,  1999,  1037,  ...,     0,     0,     0],\n",
      "        [  101,  1996,  2190,  ...,     0,     0,     0],\n",
      "        [  101,  6861,  1010,  ...,     0,     0,     0],\n",
      "        ...,\n",
      "        [  101,  1030,  5310,  ...,     0,     0,     0],\n",
      "        [  101,  2048, 11560,  ...,     0,     0,     0],\n",
      "        [  101,  1008,  8097,  ...,     0,     0,     0]]), 'attention_mask': tensor([[1, 1, 1,  ..., 0, 0, 0],\n",
      "        [1, 1, 1,  ..., 0, 0, 0],\n",
      "        [1, 1, 1,  ..., 0, 0, 0],\n",
      "        ...,\n",
      "        [1, 1, 1,  ..., 0, 0, 0],\n",
      "        [1, 1, 1,  ..., 0, 0, 0],\n",
      "        [1, 1, 1,  ..., 0, 0, 0]])}\n",
      "{'label': tensor([1, 0, 1, 0, 0, 0, 0, 0, 0, 1, 0, 0, 0, 0, 0, 1]), 'input_ids': tensor([[  101,  2054,  2079,  ...,     0,     0,     0],\n",
      "        [  101,  4931, 26512,  ...,     0,     0,     0],\n",
      "        [  101,  2043,  2009,  ...,     0,     0,     0],\n",
      "        ...,\n",
      "        [  101,  3189,  1024,  ...,     0,     0,     0],\n",
      "        [  101,  1030,  5310,  ...,     0,     0,     0],\n",
      "        [  101,  3424,  1011,  ...,     0,     0,     0]]), 'attention_mask': tensor([[1, 1, 1,  ..., 0, 0, 0],\n",
      "        [1, 1, 1,  ..., 0, 0, 0],\n",
      "        [1, 1, 1,  ..., 0, 0, 0],\n",
      "        ...,\n",
      "        [1, 1, 1,  ..., 0, 0, 0],\n",
      "        [1, 1, 1,  ..., 0, 0, 0],\n",
      "        [1, 1, 1,  ..., 0, 0, 0]])}\n",
      "{'label': tensor([1, 0, 0, 0, 0, 1, 0, 0, 1, 0, 0, 1, 1, 0, 0, 0]), 'input_ids': tensor([[  101,  5365,  1043,  ...,     0,     0,     0],\n",
      "        [  101, 21411,  2003,  ...,     0,     0,     0],\n",
      "        [  101,  1000,  7327,  ...,     0,     0,     0],\n",
      "        ...,\n",
      "        [  101,  1030,  5310,  ...,     0,     0,     0],\n",
      "        [  101,  2061,  2236,  ...,     0,     0,     0],\n",
      "        [  101,  8807,  2111,  ...,     0,     0,     0]]), 'attention_mask': tensor([[1, 1, 1,  ..., 0, 0, 0],\n",
      "        [1, 1, 1,  ..., 0, 0, 0],\n",
      "        [1, 1, 1,  ..., 0, 0, 0],\n",
      "        ...,\n",
      "        [1, 1, 1,  ..., 0, 0, 0],\n",
      "        [1, 1, 1,  ..., 0, 0, 0],\n",
      "        [1, 1, 1,  ..., 0, 0, 0]])}\n",
      "{'label': tensor([1, 0, 0, 1, 0, 0, 1, 0, 1, 0, 0, 0, 1, 0, 0, 1]), 'input_ids': tensor([[  101,  3407,  4343,  ...,     0,     0,     0],\n",
      "        [  101, 10645, 14341,  ...,     0,     0,     0],\n",
      "        [  101,  2017,  2157,  ...,     0,     0,     0],\n",
      "        ...,\n",
      "        [  101,  1523,  1996,  ...,     0,     0,     0],\n",
      "        [  101,  1030,  5310,  ...,     0,     0,     0],\n",
      "        [  101,  1030,  5310,  ...,     0,     0,     0]]), 'attention_mask': tensor([[1, 1, 1,  ..., 0, 0, 0],\n",
      "        [1, 1, 1,  ..., 0, 0, 0],\n",
      "        [1, 1, 1,  ..., 0, 0, 0],\n",
      "        ...,\n",
      "        [1, 1, 1,  ..., 0, 0, 0],\n",
      "        [1, 1, 1,  ..., 0, 0, 0],\n",
      "        [1, 1, 1,  ..., 0, 0, 0]])}\n",
      "{'label': tensor([1, 0, 1, 0, 1, 0, 1, 0, 0, 1, 0, 0, 1, 1, 1, 1]), 'input_ids': tensor([[  101,  2004,  2146,  ...,     0,     0,     0],\n",
      "        [  101,  2024,  2017,  ...,     0,     0,     0],\n",
      "        [  101,  1013,  1013,  ...,     0,     0,     0],\n",
      "        ...,\n",
      "        [  101,  1030,  5310,  ...,     0,     0,     0],\n",
      "        [  101, 11245,  5833,  ...,     0,     0,     0],\n",
      "        [  101,  1045,  1521,  ...,     0,     0,     0]]), 'attention_mask': tensor([[1, 1, 1,  ..., 0, 0, 0],\n",
      "        [1, 1, 1,  ..., 0, 0, 0],\n",
      "        [1, 1, 1,  ..., 0, 0, 0],\n",
      "        ...,\n",
      "        [1, 1, 1,  ..., 0, 0, 0],\n",
      "        [1, 1, 1,  ..., 0, 0, 0],\n",
      "        [1, 1, 1,  ..., 0, 0, 0]])}\n",
      "{'label': tensor([0, 1, 0, 1, 1, 0, 0, 1, 1, 0, 0, 1, 0, 0, 0, 0]), 'input_ids': tensor([[  101,  2043,  2017,  ...,     0,     0,     0],\n",
      "        [  101, 20050,  2003,  ...,     0,     0,     0],\n",
      "        [  101,  2823,  2017,  ...,     0,     0,     0],\n",
      "        ...,\n",
      "        [  101,  9820,  1011,  ...,     0,     0,     0],\n",
      "        [  101,  2866,  4428,  ...,     0,     0,     0],\n",
      "        [  101,  2057,  2020,  ...,     0,     0,     0]]), 'attention_mask': tensor([[1, 1, 1,  ..., 0, 0, 0],\n",
      "        [1, 1, 1,  ..., 0, 0, 0],\n",
      "        [1, 1, 1,  ..., 0, 0, 0],\n",
      "        ...,\n",
      "        [1, 1, 1,  ..., 0, 0, 0],\n",
      "        [1, 1, 1,  ..., 0, 0, 0],\n",
      "        [1, 1, 1,  ..., 0, 0, 0]])}\n",
      "{'label': tensor([0, 1, 0, 0, 0, 0, 1, 0, 1, 0, 0, 0, 0, 1, 0, 1]), 'input_ids': tensor([[  101,  2079,  2017,  ...,     0,     0,     0],\n",
      "        [  101,  1996,  2034,  ...,     0,     0,     0],\n",
      "        [  101,  7345, 14107,  ...,     0,     0,     0],\n",
      "        ...,\n",
      "        [  101,  1996, 27672,  ...,     0,     0,     0],\n",
      "        [  101,  1001,  2330,  ...,     0,     0,     0],\n",
      "        [  101,  1030,  5310,  ...,     0,     0,     0]]), 'attention_mask': tensor([[1, 1, 1,  ..., 0, 0, 0],\n",
      "        [1, 1, 1,  ..., 0, 0, 0],\n",
      "        [1, 1, 1,  ..., 0, 0, 0],\n",
      "        ...,\n",
      "        [1, 1, 1,  ..., 0, 0, 0],\n",
      "        [1, 1, 1,  ..., 0, 0, 0],\n",
      "        [1, 1, 1,  ..., 0, 0, 0]])}\n",
      "{'label': tensor([1, 0, 0, 0, 1, 0, 0, 0, 1, 0, 0, 1, 0, 0, 0, 1]), 'input_ids': tensor([[ 101, 1030, 5310,  ...,    0,    0,    0],\n",
      "        [ 101, 3531, 2644,  ...,    0,    0,    0],\n",
      "        [ 101, 1030, 5310,  ...,    0,    0,    0],\n",
      "        ...,\n",
      "        [ 101, 1005, 5672,  ...,    0,    0,    0],\n",
      "        [ 101, 1000, 1045,  ...,    0,    0,    0],\n",
      "        [ 101, 1996, 2069,  ...,    0,    0,    0]]), 'attention_mask': tensor([[1, 1, 1,  ..., 0, 0, 0],\n",
      "        [1, 1, 1,  ..., 0, 0, 0],\n",
      "        [1, 1, 1,  ..., 0, 0, 0],\n",
      "        ...,\n",
      "        [1, 1, 1,  ..., 0, 0, 0],\n",
      "        [1, 1, 1,  ..., 0, 0, 0],\n",
      "        [1, 1, 1,  ..., 0, 0, 0]])}\n",
      "{'label': tensor([1, 1, 0, 0, 0, 0, 1, 0, 0, 1, 0, 0, 0, 0, 0, 0]), 'input_ids': tensor([[ 101, 6206, 7521,  ...,    0,    0,    0],\n",
      "        [ 101, 1996, 2197,  ...,    0,    0,    0],\n",
      "        [ 101, 2043, 2619,  ...,    0,    0,    0],\n",
      "        ...,\n",
      "        [ 101, 2044, 1996,  ...,    0,    0,    0],\n",
      "        [ 101, 1030, 5310,  ...,    0,    0,    0],\n",
      "        [ 101, 1523, 2065,  ...,    0,    0,    0]]), 'attention_mask': tensor([[1, 1, 1,  ..., 0, 0, 0],\n",
      "        [1, 1, 1,  ..., 0, 0, 0],\n",
      "        [1, 1, 1,  ..., 0, 0, 0],\n",
      "        ...,\n",
      "        [1, 1, 1,  ..., 0, 0, 0],\n",
      "        [1, 1, 1,  ..., 0, 0, 0],\n",
      "        [1, 1, 1,  ..., 0, 0, 0]])}\n",
      "{'label': tensor([0, 1, 0, 1, 0, 0, 0, 1, 0, 0, 1, 0, 0, 0, 1, 0]), 'input_ids': tensor([[ 101, 2087, 1997,  ...,    0,    0,    0],\n",
      "        [ 101, 5796, 1011,  ...,    0,    0,    0],\n",
      "        [ 101, 6221, 8398,  ...,    0,    0,    0],\n",
      "        ...,\n",
      "        [ 101, 2033, 1011,  ...,    0,    0,    0],\n",
      "        [ 101, 3000, 2123,  ...,    0,    0,    0],\n",
      "        [ 101, 1996, 2142,  ...,    0,    0,    0]]), 'attention_mask': tensor([[1, 1, 1,  ..., 0, 0, 0],\n",
      "        [1, 1, 1,  ..., 0, 0, 0],\n",
      "        [1, 1, 1,  ..., 0, 0, 0],\n",
      "        ...,\n",
      "        [1, 1, 1,  ..., 0, 0, 0],\n",
      "        [1, 1, 1,  ..., 0, 0, 0],\n",
      "        [1, 1, 1,  ..., 0, 0, 0]])}\n",
      "{'label': tensor([1, 1, 1, 0, 1, 1, 0, 1, 0, 0, 1, 0, 1, 0, 0, 0]), 'input_ids': tensor([[  101,  2045,  2024,  ...,     0,     0,     0],\n",
      "        [  101,  2158,  6984,  ...,     0,     0,     0],\n",
      "        [  101,  1045,  2097,  ...,     0,     0,     0],\n",
      "        ...,\n",
      "        [  101,  1037,  4772,  ...,     0,     0,     0],\n",
      "        [  101,  1030,  5310,  ...,     0,     0,     0],\n",
      "        [  101,  2013, 29250,  ...,     0,     0,     0]]), 'attention_mask': tensor([[1, 1, 1,  ..., 0, 0, 0],\n",
      "        [1, 1, 1,  ..., 0, 0, 0],\n",
      "        [1, 1, 1,  ..., 0, 0, 0],\n",
      "        ...,\n",
      "        [1, 1, 1,  ..., 0, 0, 0],\n",
      "        [1, 1, 1,  ..., 0, 0, 0],\n",
      "        [1, 1, 1,  ..., 0, 0, 0]])}\n",
      "{'label': tensor([0, 0, 0, 0, 1, 0, 1, 0, 1, 1, 0, 0, 0, 0, 1, 0]), 'input_ids': tensor([[  101,  2008,  1005,  ...,     0,     0,     0],\n",
      "        [  101,  1045,  3984,  ...,     0,     0,     0],\n",
      "        [  101, 22033,   999,  ...,     0,     0,     0],\n",
      "        ...,\n",
      "        [  101,  7568,  2000,  ...,     0,     0,     0],\n",
      "        [  101,  9040,  2003,  ...,     0,     0,     0],\n",
      "        [  101,  2065,  2017,  ...,     0,     0,     0]]), 'attention_mask': tensor([[1, 1, 1,  ..., 0, 0, 0],\n",
      "        [1, 1, 1,  ..., 0, 0, 0],\n",
      "        [1, 1, 1,  ..., 0, 0, 0],\n",
      "        ...,\n",
      "        [1, 1, 1,  ..., 0, 0, 0],\n",
      "        [1, 1, 1,  ..., 0, 0, 0],\n",
      "        [1, 1, 1,  ..., 0, 0, 0]])}\n",
      "{'label': tensor([1, 0, 0, 0, 0, 0, 1, 0, 0, 0, 1, 1, 0, 1, 0, 1]), 'input_ids': tensor([[ 101, 2202, 2125,  ...,    0,    0,    0],\n",
      "        [ 101, 2043, 2017,  ...,    0,    0,    0],\n",
      "        [ 101, 2043, 2016,  ...,    0,    0,    0],\n",
      "        ...,\n",
      "        [ 101, 1030, 5310,  ...,    0,    0,    0],\n",
      "        [ 101, 1996, 6840,  ...,    0,    0,    0],\n",
      "        [ 101, 7435, 2580,  ...,    0,    0,    0]]), 'attention_mask': tensor([[1, 1, 1,  ..., 0, 0, 0],\n",
      "        [1, 1, 1,  ..., 0, 0, 0],\n",
      "        [1, 1, 1,  ..., 0, 0, 0],\n",
      "        ...,\n",
      "        [1, 1, 1,  ..., 0, 0, 0],\n",
      "        [1, 1, 1,  ..., 0, 0, 0],\n",
      "        [1, 1, 1,  ..., 0, 0, 0]])}\n",
      "{'label': tensor([0, 0, 0, 1, 0, 0, 1, 0, 1, 1, 0, 0, 0, 0, 0, 0]), 'input_ids': tensor([[  101, 20731, 15203,  ...,     0,     0,     0],\n",
      "        [  101,  1001,  2610,  ...,     0,     0,     0],\n",
      "        [  101,  1030,  5310,  ...,     0,     0,     0],\n",
      "        ...,\n",
      "        [  101,  1030,  5310,  ...,     0,     0,     0],\n",
      "        [  101,  2062,  3350,  ...,     0,     0,     0],\n",
      "        [  101,  1996,  4259,  ...,     0,     0,     0]]), 'attention_mask': tensor([[1, 1, 1,  ..., 0, 0, 0],\n",
      "        [1, 1, 1,  ..., 0, 0, 0],\n",
      "        [1, 1, 1,  ..., 0, 0, 0],\n",
      "        ...,\n",
      "        [1, 1, 1,  ..., 0, 0, 0],\n",
      "        [1, 1, 1,  ..., 0, 0, 0],\n",
      "        [1, 1, 1,  ..., 0, 0, 0]])}\n",
      "{'label': tensor([0, 0, 0, 1, 0, 0, 0, 0, 0, 1, 0, 1, 1, 0, 1, 1]), 'input_ids': tensor([[ 101, 1030, 5310,  ...,    0,    0,    0],\n",
      "        [ 101, 2009, 2052,  ...,    0,    0,    0],\n",
      "        [ 101, 2058, 1996,  ...,    0,    0,    0],\n",
      "        ...,\n",
      "        [ 101, 1001, 5003,  ...,    0,    0,    0],\n",
      "        [ 101, 2070, 7619,  ...,    0,    0,    0],\n",
      "        [ 101, 2061, 1045,  ...,    0,    0,    0]]), 'attention_mask': tensor([[1, 1, 1,  ..., 0, 0, 0],\n",
      "        [1, 1, 1,  ..., 0, 0, 0],\n",
      "        [1, 1, 1,  ..., 0, 0, 0],\n",
      "        ...,\n",
      "        [1, 1, 1,  ..., 0, 0, 0],\n",
      "        [1, 1, 1,  ..., 0, 0, 0],\n",
      "        [1, 1, 1,  ..., 0, 0, 0]])}\n",
      "{'label': tensor([1, 0, 0, 0, 0, 1, 0, 1, 1, 1, 1, 0, 0, 0, 0, 0]), 'input_ids': tensor([[  101,  2027,  2024,  ...,     0,     0,     0],\n",
      "        [  101, 12669,  4819,  ...,     0,     0,     0],\n",
      "        [  101,  1001, 10722,  ...,     0,     0,     0],\n",
      "        ...,\n",
      "        [  101,  1030,  5310,  ...,     0,     0,     0],\n",
      "        [  101,  2025,  2035,  ...,     0,     0,     0],\n",
      "        [  101,  3290,  3629,  ...,     0,     0,     0]]), 'attention_mask': tensor([[1, 1, 1,  ..., 0, 0, 0],\n",
      "        [1, 1, 1,  ..., 0, 0, 0],\n",
      "        [1, 1, 1,  ..., 0, 0, 0],\n",
      "        ...,\n",
      "        [1, 1, 1,  ..., 0, 0, 0],\n",
      "        [1, 1, 1,  ..., 0, 0, 0],\n",
      "        [1, 1, 1,  ..., 0, 0, 0]])}\n",
      "{'label': tensor([0, 1, 0, 0, 1, 1, 1, 0, 1, 0, 0, 0, 0, 0, 0, 0]), 'input_ids': tensor([[  101, 15986,  4311,  ...,     0,     0,     0],\n",
      "        [  101,  2023,  2003,  ...,     0,     0,     0],\n",
      "        [  101,  1030,  5310,  ...,     0,     0,     0],\n",
      "        ...,\n",
      "        [  101,  2166,  3736,  ...,     0,     0,     0],\n",
      "        [  101,  7327,  3222,  ...,     0,     0,     0],\n",
      "        [  101,  8956, 11560,  ...,     0,     0,     0]]), 'attention_mask': tensor([[1, 1, 1,  ..., 0, 0, 0],\n",
      "        [1, 1, 1,  ..., 0, 0, 0],\n",
      "        [1, 1, 1,  ..., 0, 0, 0],\n",
      "        ...,\n",
      "        [1, 1, 1,  ..., 0, 0, 0],\n",
      "        [1, 1, 1,  ..., 0, 0, 0],\n",
      "        [1, 1, 1,  ..., 0, 0, 0]])}\n",
      "{'label': tensor([0, 1, 0, 0, 1, 1, 0, 0, 1, 0, 0, 1, 1, 0, 0, 1]), 'input_ids': tensor([[  101, 19387,  1030,  ...,     0,     0,     0],\n",
      "        [  101,  2026,  4470,  ...,     0,     0,     0],\n",
      "        [  101, 10334,  2064,  ...,     0,     0,     0],\n",
      "        ...,\n",
      "        [  101,  2065,  2027,  ...,     0,     0,     0],\n",
      "        [  101,  1041, 24290,  ...,     0,     0,     0],\n",
      "        [  101,  1030,  5310,  ...,     0,     0,     0]]), 'attention_mask': tensor([[1, 1, 1,  ..., 0, 0, 0],\n",
      "        [1, 1, 1,  ..., 0, 0, 0],\n",
      "        [1, 1, 1,  ..., 0, 0, 0],\n",
      "        ...,\n",
      "        [1, 1, 1,  ..., 0, 0, 0],\n",
      "        [1, 1, 1,  ..., 0, 0, 0],\n",
      "        [1, 1, 1,  ..., 0, 0, 0]])}\n",
      "{'label': tensor([0, 1, 0, 1, 0, 0, 1, 1, 1, 0, 0, 0, 0, 1, 1, 0]), 'input_ids': tensor([[  101, 16723,  1037,  ...,     0,     0,     0],\n",
      "        [  101,  1030,  5310,  ...,     0,     0,     0],\n",
      "        [  101,  3731,  3428,  ...,     0,     0,     0],\n",
      "        ...,\n",
      "        [  101,  1045,  3685,  ...,     0,     0,     0],\n",
      "        [  101,   100,  7743,  ...,     0,     0,     0],\n",
      "        [  101,  1030,  5310,  ...,     0,     0,     0]]), 'attention_mask': tensor([[1, 1, 1,  ..., 0, 0, 0],\n",
      "        [1, 1, 1,  ..., 0, 0, 0],\n",
      "        [1, 1, 1,  ..., 0, 0, 0],\n",
      "        ...,\n",
      "        [1, 1, 1,  ..., 0, 0, 0],\n",
      "        [1, 1, 1,  ..., 0, 0, 0],\n",
      "        [1, 1, 1,  ..., 0, 0, 0]])}\n",
      "{'label': tensor([1, 1, 0, 0, 1, 1, 0, 1, 0, 0, 0, 1, 1, 1, 0, 1]), 'input_ids': tensor([[ 101, 1030, 5310,  ...,    0,    0,    0],\n",
      "        [ 101, 2023, 3931,  ...,    0,    0,    0],\n",
      "        [ 101, 1008, 1996,  ...,    0,    0,    0],\n",
      "        ...,\n",
      "        [ 101, 1030, 5310,  ...,    0,    0,    0],\n",
      "        [ 101, 4406, 2008,  ...,    0,    0,    0],\n",
      "        [ 101, 1030, 5310,  ...,    0,    0,    0]]), 'attention_mask': tensor([[1, 1, 1,  ..., 0, 0, 0],\n",
      "        [1, 1, 1,  ..., 0, 0, 0],\n",
      "        [1, 1, 1,  ..., 0, 0, 0],\n",
      "        ...,\n",
      "        [1, 1, 1,  ..., 0, 0, 0],\n",
      "        [1, 1, 1,  ..., 0, 0, 0],\n",
      "        [1, 1, 1,  ..., 0, 0, 0]])}\n",
      "{'label': tensor([1, 0, 0, 0, 0, 0, 0, 1, 0, 0, 0, 0, 0, 1, 1, 0]), 'input_ids': tensor([[ 101, 1030, 5310,  ...,    0,    0,    0],\n",
      "        [ 101, 2123, 1005,  ...,    0,    0,    0],\n",
      "        [ 101, 3835, 2000,  ...,    0,    0,    0],\n",
      "        ...,\n",
      "        [ 101, 1030, 5310,  ...,    0,    0,    0],\n",
      "        [ 101, 4283, 2000,  ...,    0,    0,    0],\n",
      "        [ 101, 1996, 5137,  ...,    0,    0,    0]]), 'attention_mask': tensor([[1, 1, 1,  ..., 0, 0, 0],\n",
      "        [1, 1, 1,  ..., 0, 0, 0],\n",
      "        [1, 1, 1,  ..., 0, 0, 0],\n",
      "        ...,\n",
      "        [1, 1, 1,  ..., 0, 0, 0],\n",
      "        [1, 1, 1,  ..., 0, 0, 0],\n",
      "        [1, 1, 1,  ..., 0, 0, 0]])}\n",
      "{'label': tensor([1, 0, 0, 0, 0, 0, 1, 1, 0, 0, 1, 0, 1, 0, 0, 1]), 'input_ids': tensor([[ 101, 2122, 2024,  ...,    0,    0,    0],\n",
      "        [ 101, 2707, 1037,  ...,    0,    0,    0],\n",
      "        [ 101, 1012, 1012,  ...,    0,    0,    0],\n",
      "        ...,\n",
      "        [ 101, 4067, 2017,  ...,    0,    0,    0],\n",
      "        [ 101, 3577, 1024,  ...,    0,    0,    0],\n",
      "        [ 101, 1030, 5310,  ...,    0,    0,    0]]), 'attention_mask': tensor([[1, 1, 1,  ..., 0, 0, 0],\n",
      "        [1, 1, 1,  ..., 0, 0, 0],\n",
      "        [1, 1, 1,  ..., 0, 0, 0],\n",
      "        ...,\n",
      "        [1, 1, 1,  ..., 0, 0, 0],\n",
      "        [1, 1, 1,  ..., 0, 0, 0],\n",
      "        [1, 1, 1,  ..., 0, 0, 0]])}\n",
      "{'label': tensor([1, 0, 0, 0, 0, 1, 1, 0, 0, 0, 0, 0, 1, 0, 0, 0]), 'input_ids': tensor([[  101,  1030,  5310,  ...,     0,     0,     0],\n",
      "        [  101,  1030,  5310,  ...,     0,     0,     0],\n",
      "        [  101,  2043,  2017,  ...,     0,     0,     0],\n",
      "        ...,\n",
      "        [  101, 14042,  2532,  ...,     0,     0,     0],\n",
      "        [  101,  1996,  2087,  ...,     0,     0,     0],\n",
      "        [  101,  2058,  8148,  ...,     0,     0,     0]]), 'attention_mask': tensor([[1, 1, 1,  ..., 0, 0, 0],\n",
      "        [1, 1, 1,  ..., 0, 0, 0],\n",
      "        [1, 1, 1,  ..., 0, 0, 0],\n",
      "        ...,\n",
      "        [1, 1, 1,  ..., 0, 0, 0],\n",
      "        [1, 1, 1,  ..., 0, 0, 0],\n",
      "        [1, 1, 1,  ..., 0, 0, 0]])}\n",
      "{'label': tensor([0, 0, 1, 0, 1, 0, 0, 0, 1, 0, 1, 0, 0, 0, 1, 0]), 'input_ids': tensor([[  101,  2047,  8554,  ...,     0,     0,     0],\n",
      "        [  101,  1996,  3664,  ...,     0,     0,     0],\n",
      "        [  101,  2438,  1059,  ...,     0,     0,     0],\n",
      "        ...,\n",
      "        [  101,  1001,  6645,  ...,     0,     0,     0],\n",
      "        [  101,  3537, 13137,  ...,     0,     0,     0],\n",
      "        [  101, 15409,  8292,  ...,     0,     0,     0]]), 'attention_mask': tensor([[1, 1, 1,  ..., 0, 0, 0],\n",
      "        [1, 1, 1,  ..., 0, 0, 0],\n",
      "        [1, 1, 1,  ..., 0, 0, 0],\n",
      "        ...,\n",
      "        [1, 1, 1,  ..., 0, 0, 0],\n",
      "        [1, 1, 1,  ..., 0, 0, 0],\n",
      "        [1, 1, 1,  ..., 0, 0, 0]])}\n",
      "{'label': tensor([1, 0, 0, 1, 1, 0, 1, 1, 1, 0, 0, 0, 0, 0, 1, 0]), 'input_ids': tensor([[ 101, 5401, 1003,  ...,    0,    0,    0],\n",
      "        [ 101, 1030, 5310,  ...,    0,    0,    0],\n",
      "        [ 101,  102,    0,  ...,    0,    0,    0],\n",
      "        ...,\n",
      "        [ 101, 4092, 1997,  ...,    0,    0,    0],\n",
      "        [ 101, 1030, 5310,  ...,    0,    0,    0],\n",
      "        [ 101, 2065, 7074,  ...,    0,    0,    0]]), 'attention_mask': tensor([[1, 1, 1,  ..., 0, 0, 0],\n",
      "        [1, 1, 1,  ..., 0, 0, 0],\n",
      "        [1, 1, 0,  ..., 0, 0, 0],\n",
      "        ...,\n",
      "        [1, 1, 1,  ..., 0, 0, 0],\n",
      "        [1, 1, 1,  ..., 0, 0, 0],\n",
      "        [1, 1, 1,  ..., 0, 0, 0]])}\n",
      "{'label': tensor([1, 0, 0, 0, 0, 0, 0, 1, 0, 0, 0, 0, 0, 1, 1, 1]), 'input_ids': tensor([[ 101, 1001, 3256,  ...,    0,    0,    0],\n",
      "        [ 101, 2005, 1996,  ...,    0,    0,    0],\n",
      "        [ 101, 1030, 5310,  ...,    0,    0,    0],\n",
      "        ...,\n",
      "        [ 101, 1030, 5310,  ...,    0,    0,    0],\n",
      "        [ 101, 3915, 2003,  ...,    0,    0,    0],\n",
      "        [ 101, 2065, 2027,  ...,    0,    0,    0]]), 'attention_mask': tensor([[1, 1, 1,  ..., 0, 0, 0],\n",
      "        [1, 1, 1,  ..., 0, 0, 0],\n",
      "        [1, 1, 1,  ..., 0, 0, 0],\n",
      "        ...,\n",
      "        [1, 1, 1,  ..., 0, 0, 0],\n",
      "        [1, 1, 1,  ..., 0, 0, 0],\n",
      "        [1, 1, 1,  ..., 0, 0, 0]])}\n",
      "{'label': tensor([0, 0, 0, 1, 0, 0, 0, 1, 0, 0, 0, 1, 1, 0, 1, 0]), 'input_ids': tensor([[  101, 13059,  1005,  ...,     0,     0,     0],\n",
      "        [  101,  9040,  1998,  ...,     0,     0,     0],\n",
      "        [  101, 14412,  2135,  ...,     0,     0,     0],\n",
      "        ...,\n",
      "        [  101,  1030,  5310,  ...,     0,     0,     0],\n",
      "        [  101,  1001,  2308,  ...,     0,     0,     0],\n",
      "        [  101,  5971, 17219,  ...,     0,     0,     0]]), 'attention_mask': tensor([[1, 1, 1,  ..., 0, 0, 0],\n",
      "        [1, 1, 1,  ..., 0, 0, 0],\n",
      "        [1, 1, 1,  ..., 0, 0, 0],\n",
      "        ...,\n",
      "        [1, 1, 1,  ..., 0, 0, 0],\n",
      "        [1, 1, 1,  ..., 0, 0, 0],\n",
      "        [1, 1, 1,  ..., 0, 0, 0]])}\n",
      "{'label': tensor([0, 0, 1, 1, 0, 1, 1, 0, 1, 0, 0, 0, 1, 0, 1, 1]), 'input_ids': tensor([[  101,  1037, 14764,  ...,     0,     0,     0],\n",
      "        [  101,  2016,  2481,  ...,     0,     0,     0],\n",
      "        [  101,  2762,  1024,  ...,     0,     0,     0],\n",
      "        ...,\n",
      "        [  101,  1005, 22091,  ...,     0,     0,     0],\n",
      "        [  101,  2035,  2017,  ...,     0,     0,     0],\n",
      "        [  101,  7521,  2908,  ...,     0,     0,     0]]), 'attention_mask': tensor([[1, 1, 1,  ..., 0, 0, 0],\n",
      "        [1, 1, 1,  ..., 0, 0, 0],\n",
      "        [1, 1, 1,  ..., 0, 0, 0],\n",
      "        ...,\n",
      "        [1, 1, 1,  ..., 0, 0, 0],\n",
      "        [1, 1, 1,  ..., 0, 0, 0],\n",
      "        [1, 1, 1,  ..., 0, 0, 0]])}\n",
      "{'label': tensor([1, 0, 0, 1, 1, 1, 0, 0, 1, 1, 0, 0, 0, 1, 0, 1]), 'input_ids': tensor([[ 101, 9444, 2718,  ...,    0,    0,    0],\n",
      "        [ 101, 1520,  100,  ...,    0,    0,    0],\n",
      "        [ 101, 2678, 1024,  ...,    0,    0,    0],\n",
      "        ...,\n",
      "        [ 101, 7110, 1005,  ...,    0,    0,    0],\n",
      "        [ 101, 2017, 2298,  ...,    0,    0,    0],\n",
      "        [ 101, 1045, 2123,  ...,    0,    0,    0]]), 'attention_mask': tensor([[1, 1, 1,  ..., 0, 0, 0],\n",
      "        [1, 1, 1,  ..., 0, 0, 0],\n",
      "        [1, 1, 1,  ..., 0, 0, 0],\n",
      "        ...,\n",
      "        [1, 1, 1,  ..., 0, 0, 0],\n",
      "        [1, 1, 1,  ..., 0, 0, 0],\n",
      "        [1, 1, 1,  ..., 0, 0, 0]])}\n",
      "{'label': tensor([0, 0, 0, 0, 0, 0, 1, 0, 1, 0, 1, 0, 1, 1, 1, 0]), 'input_ids': tensor([[ 101, 1030, 5310,  ...,    0,    0,    0],\n",
      "        [ 101, 2065, 2023,  ...,    0,    0,    0],\n",
      "        [ 101, 2043, 2017,  ...,    0,    0,    0],\n",
      "        ...,\n",
      "        [ 101, 1030, 5310,  ...,    0,    0,    0],\n",
      "        [ 101, 1030, 5310,  ...,    0,    0,    0],\n",
      "        [ 101, 1045, 2031,  ...,    0,    0,    0]]), 'attention_mask': tensor([[1, 1, 1,  ..., 0, 0, 0],\n",
      "        [1, 1, 1,  ..., 0, 0, 0],\n",
      "        [1, 1, 1,  ..., 0, 0, 0],\n",
      "        ...,\n",
      "        [1, 1, 1,  ..., 0, 0, 0],\n",
      "        [1, 1, 1,  ..., 0, 0, 0],\n",
      "        [1, 1, 1,  ..., 0, 0, 0]])}\n",
      "{'label': tensor([1, 0, 1, 1, 0, 1, 1, 0, 0, 1, 0, 0, 0, 1, 1, 1]), 'input_ids': tensor([[  101,  1005, 26679,  ...,     0,     0,     0],\n",
      "        [  101,  1030,  5310,  ...,     0,     0,     0],\n",
      "        [  101,  3599,  1011,  ...,     0,     0,     0],\n",
      "        ...,\n",
      "        [  101,  2043,  2016,  ...,     0,     0,     0],\n",
      "        [  101,  1998,  1996,  ...,     0,     0,     0],\n",
      "        [  101,  1045,  2196,  ...,     0,     0,     0]]), 'attention_mask': tensor([[1, 1, 1,  ..., 0, 0, 0],\n",
      "        [1, 1, 1,  ..., 0, 0, 0],\n",
      "        [1, 1, 1,  ..., 0, 0, 0],\n",
      "        ...,\n",
      "        [1, 1, 1,  ..., 0, 0, 0],\n",
      "        [1, 1, 1,  ..., 0, 0, 0],\n",
      "        [1, 1, 1,  ..., 0, 0, 0]])}\n",
      "{'label': tensor([1, 0, 0, 0, 0, 0, 0, 0, 0, 0, 0, 0, 0, 1, 0, 1]), 'input_ids': tensor([[  101,  8398,  2001,  ...,     0,     0,     0],\n",
      "        [  101,  6819,  3726,  ...,     0,     0,     0],\n",
      "        [  101,  2320,  7087,  ...,     0,     0,     0],\n",
      "        ...,\n",
      "        [  101,  1041, 26291,  ...,     0,     0,     0],\n",
      "        [  101,  2123,  1521,  ...,     0,     0,     0],\n",
      "        [  101,  2061,  2116,  ...,     0,     0,     0]]), 'attention_mask': tensor([[1, 1, 1,  ..., 0, 0, 0],\n",
      "        [1, 1, 1,  ..., 0, 0, 0],\n",
      "        [1, 1, 1,  ..., 0, 0, 0],\n",
      "        ...,\n",
      "        [1, 1, 1,  ..., 0, 0, 0],\n",
      "        [1, 1, 1,  ..., 0, 0, 0],\n",
      "        [1, 1, 1,  ..., 0, 0, 0]])}\n",
      "{'label': tensor([1, 1, 1, 0, 0, 0, 1, 1, 1, 1, 0, 0, 1, 0, 0, 1]), 'input_ids': tensor([[ 101, 1045, 1005,  ...,    0,    0,    0],\n",
      "        [ 101, 3087, 2052,  ...,    0,    0,    0],\n",
      "        [ 101, 1045, 3789,  ...,    0,    0,    0],\n",
      "        ...,\n",
      "        [ 101, 6160, 2000,  ...,    0,    0,    0],\n",
      "        [ 101, 1030, 5310,  ...,    0,    0,    0],\n",
      "        [ 101, 1030, 5310,  ...,    0,    0,    0]]), 'attention_mask': tensor([[1, 1, 1,  ..., 0, 0, 0],\n",
      "        [1, 1, 1,  ..., 0, 0, 0],\n",
      "        [1, 1, 1,  ..., 0, 0, 0],\n",
      "        ...,\n",
      "        [1, 1, 1,  ..., 0, 0, 0],\n",
      "        [1, 1, 1,  ..., 0, 0, 0],\n",
      "        [1, 1, 1,  ..., 0, 0, 0]])}\n",
      "{'label': tensor([1, 0, 1, 0, 1, 1, 1, 1, 0, 0, 0, 1, 0, 0, 0, 0]), 'input_ids': tensor([[  101,  1045,  2387,  ...,     0,     0,     0],\n",
      "        [  101,  1001,  2602,  ...,     0,     0,     0],\n",
      "        [  101,  1001,  3857,  ...,     0,     0,     0],\n",
      "        ...,\n",
      "        [  101,  5491,  1996,  ...,     0,     0,     0],\n",
      "        [  101,  1030,  5310,  ...,     0,     0,     0],\n",
      "        [  101, 14738,  2009,  ...,     0,     0,     0]]), 'attention_mask': tensor([[1, 1, 1,  ..., 0, 0, 0],\n",
      "        [1, 1, 1,  ..., 0, 0, 0],\n",
      "        [1, 1, 1,  ..., 0, 0, 0],\n",
      "        ...,\n",
      "        [1, 1, 1,  ..., 0, 0, 0],\n",
      "        [1, 1, 1,  ..., 0, 0, 0],\n",
      "        [1, 1, 1,  ..., 0, 0, 0]])}\n",
      "{'label': tensor([1, 0, 1, 1, 1, 0, 0, 0, 1, 0, 0, 0, 1, 1, 0, 0]), 'input_ids': tensor([[ 101, 1030, 5310,  ...,    0,    0,    0],\n",
      "        [ 101, 1045, 2109,  ...,    0,    0,    0],\n",
      "        [ 101, 2073, 1005,  ...,    0,    0,    0],\n",
      "        ...,\n",
      "        [ 101, 1996, 9680,  ...,    0,    0,    0],\n",
      "        [ 101, 2859, 2758,  ...,    0,    0,    0],\n",
      "        [ 101, 2043, 2016,  ...,    0,    0,    0]]), 'attention_mask': tensor([[1, 1, 1,  ..., 0, 0, 0],\n",
      "        [1, 1, 1,  ..., 0, 0, 0],\n",
      "        [1, 1, 1,  ..., 0, 0, 0],\n",
      "        ...,\n",
      "        [1, 1, 1,  ..., 0, 0, 0],\n",
      "        [1, 1, 1,  ..., 0, 0, 0],\n",
      "        [1, 1, 1,  ..., 0, 0, 0]])}\n",
      "{'label': tensor([1, 0, 1, 1, 0, 0, 1, 0, 1, 0, 1, 1, 1, 0, 0, 0]), 'input_ids': tensor([[  101,  7521,  1998,  ...,     0,     0,     0],\n",
      "        [  101, 21862,  9153,  ...,     0,     0,     0],\n",
      "        [  101,  1030,  5310,  ...,     0,     0,     0],\n",
      "        ...,\n",
      "        [  101,  1030,  5310,  ...,     0,     0,     0],\n",
      "        [  101,  1030,  5310,  ...,     0,     0,     0],\n",
      "        [  101,  2166, 20578,  ...,     0,     0,     0]]), 'attention_mask': tensor([[1, 1, 1,  ..., 0, 0, 0],\n",
      "        [1, 1, 1,  ..., 0, 0, 0],\n",
      "        [1, 1, 1,  ..., 0, 0, 0],\n",
      "        ...,\n",
      "        [1, 1, 1,  ..., 0, 0, 0],\n",
      "        [1, 1, 1,  ..., 0, 0, 0],\n",
      "        [1, 1, 1,  ..., 0, 0, 0]])}\n",
      "{'label': tensor([0, 0, 1, 1, 0, 0, 0, 0, 1, 0, 1, 0, 0, 0, 0, 0]), 'input_ids': tensor([[ 101, 1030, 5310,  ...,    0,    0,    0],\n",
      "        [ 101, 2073, 2024,  ...,    0,    0,    0],\n",
      "        [ 101, 1030, 5310,  ...,    0,    0,    0],\n",
      "        ...,\n",
      "        [ 101, 9130, 1005,  ...,    0,    0,    0],\n",
      "        [ 101, 1030, 5310,  ...,    0,    0,    0],\n",
      "        [ 101, 1030, 5310,  ...,    0,    0,    0]]), 'attention_mask': tensor([[1, 1, 1,  ..., 0, 0, 0],\n",
      "        [1, 1, 1,  ..., 0, 0, 0],\n",
      "        [1, 1, 1,  ..., 0, 0, 0],\n",
      "        ...,\n",
      "        [1, 1, 1,  ..., 0, 0, 0],\n",
      "        [1, 1, 1,  ..., 0, 0, 0],\n",
      "        [1, 1, 1,  ..., 0, 0, 0]])}\n",
      "{'label': tensor([0, 0, 0, 0, 0, 1, 0, 1, 1, 0, 0, 1, 0, 0, 1, 1]), 'input_ids': tensor([[  101,  3124,  1024,  ...,     0,     0,     0],\n",
      "        [  101,  3519,  2442,  ...,     0,     0,     0],\n",
      "        [  101,  2013,  1996,  ...,     0,     0,     0],\n",
      "        ...,\n",
      "        [  101, 19960,  2025,  ...,     0,     0,     0],\n",
      "        [  101,  2021,  2049,  ...,     0,     0,     0],\n",
      "        [  101,  2122, 10469,  ...,     0,     0,     0]]), 'attention_mask': tensor([[1, 1, 1,  ..., 0, 0, 0],\n",
      "        [1, 1, 1,  ..., 0, 0, 0],\n",
      "        [1, 1, 1,  ..., 0, 0, 0],\n",
      "        ...,\n",
      "        [1, 1, 1,  ..., 0, 0, 0],\n",
      "        [1, 1, 1,  ..., 0, 0, 0],\n",
      "        [1, 1, 1,  ..., 0, 0, 0]])}\n",
      "{'label': tensor([1, 0, 1, 0, 0, 0, 0, 1, 0, 1, 0, 0, 1, 0, 0, 0]), 'input_ids': tensor([[  101,  4830,  2190,  ...,     0,     0,     0],\n",
      "        [  101,  2034,  3310,  ...,     0,     0,     0],\n",
      "        [  101,  2073,  1056,  ...,     0,     0,     0],\n",
      "        ...,\n",
      "        [  101,  2043,  2016,  ...,     0,     0,     0],\n",
      "        [  101,  2767,  1011,  ...,     0,     0,     0],\n",
      "        [  101,  4113, 13317,  ...,     0,     0,     0]]), 'attention_mask': tensor([[1, 1, 1,  ..., 0, 0, 0],\n",
      "        [1, 1, 1,  ..., 0, 0, 0],\n",
      "        [1, 1, 1,  ..., 0, 0, 0],\n",
      "        ...,\n",
      "        [1, 1, 1,  ..., 0, 0, 0],\n",
      "        [1, 1, 1,  ..., 0, 0, 0],\n",
      "        [1, 1, 1,  ..., 0, 0, 0]])}\n",
      "{'label': tensor([0, 1, 1, 1, 0, 1, 1, 0, 0, 1, 0, 1, 0, 0, 0, 0]), 'input_ids': tensor([[  101,  7673,  5623,  ...,     0,     0,     0],\n",
      "        [  101,  2026,  7743,  ...,     0,     0,     0],\n",
      "        [  101, 11245,  5833,  ...,     0,     0,     0],\n",
      "        ...,\n",
      "        [  101, 14115,  7847,  ...,     0,     0,     0],\n",
      "        [  101,  7327,  4584,  ...,     0,     0,     0],\n",
      "        [  101,  2635,  1997,  ...,     0,     0,     0]]), 'attention_mask': tensor([[1, 1, 1,  ..., 0, 0, 0],\n",
      "        [1, 1, 1,  ..., 0, 0, 0],\n",
      "        [1, 1, 1,  ..., 0, 0, 0],\n",
      "        ...,\n",
      "        [1, 1, 1,  ..., 0, 0, 0],\n",
      "        [1, 1, 1,  ..., 0, 0, 0],\n",
      "        [1, 1, 1,  ..., 0, 0, 0]])}\n",
      "{'label': tensor([0, 0, 0, 1, 1, 1, 0, 0, 0, 0, 0, 1, 1, 1, 1, 0]), 'input_ids': tensor([[  101, 29591,  3993,  ...,     0,     0,     0],\n",
      "        [  101,  1030,  5310,  ...,     0,     0,     0],\n",
      "        [  101,  1996,  2355,  ...,     0,     0,     0],\n",
      "        ...,\n",
      "        [  101,  2115,  6513,  ...,     0,     0,     0],\n",
      "        [  101,  2308,  2024,  ...,     0,     0,     0],\n",
      "        [  101,  9119,  2000,  ...,     0,     0,     0]]), 'attention_mask': tensor([[1, 1, 1,  ..., 0, 0, 0],\n",
      "        [1, 1, 1,  ..., 0, 0, 0],\n",
      "        [1, 1, 1,  ..., 0, 0, 0],\n",
      "        ...,\n",
      "        [1, 1, 1,  ..., 0, 0, 0],\n",
      "        [1, 1, 1,  ..., 0, 0, 0],\n",
      "        [1, 1, 1,  ..., 0, 0, 0]])}\n",
      "{'label': tensor([0, 0, 0, 1, 0, 1, 1, 0, 1, 0, 1, 0, 0, 0, 0, 0]), 'input_ids': tensor([[  101,  2058,  1016,  ...,     0,     0,     0],\n",
      "        [  101,  2005,  2028,  ...,     0,     0,     0],\n",
      "        [  101,  6206, 11560,  ...,     0,     0,     0],\n",
      "        ...,\n",
      "        [  101,  1523,  2025,  ...,     0,     0,     0],\n",
      "        [  101,  2066,  1045,  ...,     0,     0,     0],\n",
      "        [  101,  1005,  1044,  ...,     0,     0,     0]]), 'attention_mask': tensor([[1, 1, 1,  ..., 0, 0, 0],\n",
      "        [1, 1, 1,  ..., 0, 0, 0],\n",
      "        [1, 1, 1,  ..., 0, 0, 0],\n",
      "        ...,\n",
      "        [1, 1, 1,  ..., 0, 0, 0],\n",
      "        [1, 1, 1,  ..., 0, 0, 0],\n",
      "        [1, 1, 1,  ..., 0, 0, 0]])}\n",
      "{'label': tensor([0, 1, 0, 1, 0, 1, 0, 1, 0, 1, 0, 1, 1, 0, 1, 1]), 'input_ids': tensor([[  101,  2013,  1037,  ...,     0,     0,     0],\n",
      "        [  101,  1030,  5310,  ...,     0,     0,     0],\n",
      "        [  101,  1030,  5310,  ...,     0,     0,     0],\n",
      "        ...,\n",
      "        [  101,  2256,  3679,  ...,     0,     0,     0],\n",
      "        [  101, 16306,  2120,  ...,     0,     0,     0],\n",
      "        [  101,  6187,  1011,  ...,     0,     0,     0]]), 'attention_mask': tensor([[1, 1, 1,  ..., 0, 0, 0],\n",
      "        [1, 1, 1,  ..., 0, 0, 0],\n",
      "        [1, 1, 1,  ..., 0, 0, 0],\n",
      "        ...,\n",
      "        [1, 1, 1,  ..., 0, 0, 0],\n",
      "        [1, 1, 1,  ..., 0, 0, 0],\n",
      "        [1, 1, 1,  ..., 0, 0, 0]])}\n",
      "{'label': tensor([0, 1, 0, 1, 1, 0, 1, 0, 0, 1, 1, 1, 0, 1, 1, 1]), 'input_ids': tensor([[  101,  1030,  5310,  ...,     0,     0,     0],\n",
      "        [  101,  1005,  2134,  ...,     0,     0,     0],\n",
      "        [  101,  9302,  9458,  ...,     0,     0,     0],\n",
      "        ...,\n",
      "        [  101,  3505, 19356,  ...,     0,     0,     0],\n",
      "        [  101,  1045,  2071,  ...,     0,     0,     0],\n",
      "        [  101,  3087,  3110,  ...,     0,     0,     0]]), 'attention_mask': tensor([[1, 1, 1,  ..., 0, 0, 0],\n",
      "        [1, 1, 1,  ..., 0, 0, 0],\n",
      "        [1, 1, 1,  ..., 0, 0, 0],\n",
      "        ...,\n",
      "        [1, 1, 1,  ..., 0, 0, 0],\n",
      "        [1, 1, 1,  ..., 0, 0, 0],\n",
      "        [1, 1, 1,  ..., 0, 0, 0]])}\n",
      "{'label': tensor([0, 1, 1, 0, 1, 1, 0, 0, 0, 1, 0, 1, 1, 0, 0, 0]), 'input_ids': tensor([[  101,  2043,  2308,  ...,     0,     0,     0],\n",
      "        [  101,  3801,  2022,  ...,     0,     0,     0],\n",
      "        [  101,  1045,  2215,  ...,     0,     0,     0],\n",
      "        ...,\n",
      "        [  101, 28232, 12338,  ...,     0,     0,     0],\n",
      "        [  101,  1045,  2074,  ...,     0,     0,     0],\n",
      "        [  101,  2061,  2069,  ...,     0,     0,     0]]), 'attention_mask': tensor([[1, 1, 1,  ..., 0, 0, 0],\n",
      "        [1, 1, 1,  ..., 0, 0, 0],\n",
      "        [1, 1, 1,  ..., 0, 0, 0],\n",
      "        ...,\n",
      "        [1, 1, 1,  ..., 0, 0, 0],\n",
      "        [1, 1, 1,  ..., 0, 0, 0],\n",
      "        [1, 1, 1,  ..., 0, 0, 0]])}\n",
      "{'label': tensor([0, 0, 0, 0, 0, 1, 1, 0, 0, 0, 0, 1, 0, 1, 0, 0]), 'input_ids': tensor([[ 101, 2412, 2144,  ...,    0,    0,    0],\n",
      "        [ 101, 1030, 5310,  ...,    0,    0,    0],\n",
      "        [ 101, 3607, 2106,  ...,    0,    0,    0],\n",
      "        ...,\n",
      "        [ 101, 2017, 1005,  ...,    0,    0,    0],\n",
      "        [ 101, 2026, 2376,  ...,    0,    0,    0],\n",
      "        [ 101, 2096, 6849,  ...,    0,    0,    0]]), 'attention_mask': tensor([[1, 1, 1,  ..., 0, 0, 0],\n",
      "        [1, 1, 1,  ..., 0, 0, 0],\n",
      "        [1, 1, 1,  ..., 0, 0, 0],\n",
      "        ...,\n",
      "        [1, 1, 1,  ..., 0, 0, 0],\n",
      "        [1, 1, 1,  ..., 0, 0, 0],\n",
      "        [1, 1, 1,  ..., 0, 0, 0]])}\n",
      "{'label': tensor([0, 0, 0, 0, 0, 1, 1, 0, 1, 1, 0, 1, 1, 0, 1, 1]), 'input_ids': tensor([[  101,   100, 13988,  ...,     0,     0,     0],\n",
      "        [  101, 10047,  8004,  ...,     0,     0,     0],\n",
      "        [  101,  4121,  1011,  ...,     0,     0,     0],\n",
      "        ...,\n",
      "        [  101,  1030,  5310,  ...,     0,     0,     0],\n",
      "        [  101,  2023,  2003,  ...,     0,     0,     0],\n",
      "        [  101,  2605,  1024,  ...,     0,     0,     0]]), 'attention_mask': tensor([[1, 1, 1,  ..., 0, 0, 0],\n",
      "        [1, 1, 1,  ..., 0, 0, 0],\n",
      "        [1, 1, 1,  ..., 0, 0, 0],\n",
      "        ...,\n",
      "        [1, 1, 1,  ..., 0, 0, 0],\n",
      "        [1, 1, 1,  ..., 0, 0, 0],\n",
      "        [1, 1, 1,  ..., 0, 0, 0]])}\n",
      "{'label': tensor([0, 0, 0, 0, 0, 1, 0, 1, 1, 0, 1, 0, 0, 0, 1, 0]), 'input_ids': tensor([[ 101, 1030, 5310,  ...,    0,    0,    0],\n",
      "        [ 101, 2033, 2205,  ...,    0,    0,    0],\n",
      "        [ 101, 2317, 5202,  ...,    0,    0,    0],\n",
      "        ...,\n",
      "        [ 101, 5292, 3270,  ...,    0,    0,    0],\n",
      "        [ 101, 2196, 3404,  ...,    0,    0,    0],\n",
      "        [ 101, 2045, 2024,  ...,    0,    0,    0]]), 'attention_mask': tensor([[1, 1, 1,  ..., 0, 0, 0],\n",
      "        [1, 1, 1,  ..., 0, 0, 0],\n",
      "        [1, 1, 1,  ..., 0, 0, 0],\n",
      "        ...,\n",
      "        [1, 1, 1,  ..., 0, 0, 0],\n",
      "        [1, 1, 1,  ..., 0, 0, 0],\n",
      "        [1, 1, 1,  ..., 0, 0, 0]])}\n",
      "{'label': tensor([0, 0, 0, 0, 1, 1, 1, 0, 0, 1, 0, 1, 1, 0, 1, 1]), 'input_ids': tensor([[  101,  2402,  2111,  ...,     0,     0,     0],\n",
      "        [  101, 13229,  1022,  ...,     0,     0,     0],\n",
      "        [  101,  2069,  9906,  ...,     0,     0,     0],\n",
      "        ...,\n",
      "        [  101,  1030,  5310,  ...,     0,     0,     0],\n",
      "        [  101,  7743,  2229,  ...,     0,     0,     0],\n",
      "        [  101, 19387,  1030,  ...,     0,     0,     0]]), 'attention_mask': tensor([[1, 1, 1,  ..., 0, 0, 0],\n",
      "        [1, 1, 1,  ..., 0, 0, 0],\n",
      "        [1, 1, 1,  ..., 0, 0, 0],\n",
      "        ...,\n",
      "        [1, 1, 1,  ..., 0, 0, 0],\n",
      "        [1, 1, 1,  ..., 0, 0, 0],\n",
      "        [1, 1, 1,  ..., 0, 0, 0]])}\n",
      "{'label': tensor([0, 0, 0, 0, 0, 0, 1, 1, 1, 1, 1, 1, 0, 0, 1, 0]), 'input_ids': tensor([[  101,  1001,  5137,  ...,     0,     0,     0],\n",
      "        [  101,  2057,  3685,  ...,     0,     0,     0],\n",
      "        [  101,   100,  1037,  ...,     0,     0,     0],\n",
      "        ...,\n",
      "        [  101, 28919,  2102,  ...,     0,     0,     0],\n",
      "        [  101,  1048,  2863,  ...,     0,     0,     0],\n",
      "        [  101,  2745,  9946,  ...,     0,     0,     0]]), 'attention_mask': tensor([[1, 1, 1,  ..., 0, 0, 0],\n",
      "        [1, 1, 1,  ..., 0, 0, 0],\n",
      "        [1, 1, 1,  ..., 0, 0, 0],\n",
      "        ...,\n",
      "        [1, 1, 1,  ..., 0, 0, 0],\n",
      "        [1, 1, 1,  ..., 0, 0, 0],\n",
      "        [1, 1, 1,  ..., 0, 0, 0]])}\n",
      "{'label': tensor([0, 0, 1, 0, 1, 1, 0, 1, 0, 0, 1, 0, 0, 1, 1, 0]), 'input_ids': tensor([[  101,  2450,  2003,  ...,     0,     0,     0],\n",
      "        [  101,  2005,  1996,  ...,     0,     0,     0],\n",
      "        [  101,  2111,  1999,  ...,     0,     0,     0],\n",
      "        ...,\n",
      "        [  101, 17641,  1010,  ...,     0,     0,     0],\n",
      "        [  101,  2339,  2079,  ...,     0,     0,     0],\n",
      "        [  101,  1030,  5310,  ...,     0,     0,     0]]), 'attention_mask': tensor([[1, 1, 1,  ..., 0, 0, 0],\n",
      "        [1, 1, 1,  ..., 0, 0, 0],\n",
      "        [1, 1, 1,  ..., 0, 0, 0],\n",
      "        ...,\n",
      "        [1, 1, 1,  ..., 0, 0, 0],\n",
      "        [1, 1, 1,  ..., 0, 0, 0],\n",
      "        [1, 1, 1,  ..., 0, 0, 0]])}\n",
      "{'label': tensor([1, 0, 0, 1, 0, 0, 0, 0, 0, 0, 0, 0, 0, 1, 0, 0]), 'input_ids': tensor([[  101,  2085,  2035,  ...,     0,     0,     0],\n",
      "        [  101,  4549,  1024,  ...,     0,     0,     0],\n",
      "        [  101,  5448,  1024,  ...,     0,     0,     0],\n",
      "        ...,\n",
      "        [  101,  1030,  5310,  ...,     0,     0,     0],\n",
      "        [  101,  9454, 17219,  ...,     0,     0,     0],\n",
      "        [  101,  4831,  4557,  ...,     0,     0,     0]]), 'attention_mask': tensor([[1, 1, 1,  ..., 0, 0, 0],\n",
      "        [1, 1, 1,  ..., 0, 0, 0],\n",
      "        [1, 1, 1,  ..., 0, 0, 0],\n",
      "        ...,\n",
      "        [1, 1, 1,  ..., 0, 0, 0],\n",
      "        [1, 1, 1,  ..., 0, 0, 0],\n",
      "        [1, 1, 1,  ..., 0, 0, 0]])}\n",
      "{'label': tensor([1, 1, 0, 0, 0, 1, 1, 0, 0, 1, 1, 0, 1, 1, 1, 1]), 'input_ids': tensor([[  101,  1030,  5310,  ...,     0,     0,     0],\n",
      "        [  101,  1030,  5310,  ...,     0,     0,     0],\n",
      "        [  101,  6583, 11890,  ...,     0,     0,     0],\n",
      "        ...,\n",
      "        [  101, 19387,  1030,  ...,     0,     0,     0],\n",
      "        [  101,  1030,  5310,  ...,     0,     0,     0],\n",
      "        [  101,  2178,  2986,  ...,     0,     0,     0]]), 'attention_mask': tensor([[1, 1, 1,  ..., 0, 0, 0],\n",
      "        [1, 1, 1,  ..., 0, 0, 0],\n",
      "        [1, 1, 1,  ..., 0, 0, 0],\n",
      "        ...,\n",
      "        [1, 1, 1,  ..., 0, 0, 0],\n",
      "        [1, 1, 1,  ..., 0, 0, 0],\n",
      "        [1, 1, 1,  ..., 0, 0, 0]])}\n",
      "{'label': tensor([0, 0, 0, 0, 1, 0, 1, 0, 1, 0, 1, 0, 1, 1, 1, 0]), 'input_ids': tensor([[  101, 21442, 11705,  ...,     0,     0,     0],\n",
      "        [  101,  1030,  5310,  ...,     0,     0,     0],\n",
      "        [  101,  2356,  6213,  ...,     0,     0,     0],\n",
      "        ...,\n",
      "        [  101,  1030,  5310,  ...,     0,     0,     0],\n",
      "        [  101,  2074,  2215,  ...,     0,     0,     0],\n",
      "        [  101, 17137,  1024,  ...,     0,     0,     0]]), 'attention_mask': tensor([[1, 1, 1,  ..., 0, 0, 0],\n",
      "        [1, 1, 1,  ..., 0, 0, 0],\n",
      "        [1, 1, 1,  ..., 0, 0, 0],\n",
      "        ...,\n",
      "        [1, 1, 1,  ..., 0, 0, 0],\n",
      "        [1, 1, 1,  ..., 0, 0, 0],\n",
      "        [1, 1, 1,  ..., 0, 0, 0]])}\n",
      "{'label': tensor([1, 0, 0, 0, 0, 1, 0, 0, 1, 1, 1, 0, 0, 1, 1, 1]), 'input_ids': tensor([[  101, 17012,  1012,  ...,     0,     0,     0],\n",
      "        [  101,  2339,  2079,  ...,     0,     0,     0],\n",
      "        [  101, 11560,  6617,  ...,     0,     0,     0],\n",
      "        ...,\n",
      "        [  101,  1030,  5310,  ...,     0,     0,     0],\n",
      "        [  101,  1999,  2026,  ...,     0,     0,     0],\n",
      "        [  101,  2814,  2175,  ...,     0,     0,     0]]), 'attention_mask': tensor([[1, 1, 1,  ..., 0, 0, 0],\n",
      "        [1, 1, 1,  ..., 0, 0, 0],\n",
      "        [1, 1, 1,  ..., 0, 0, 0],\n",
      "        ...,\n",
      "        [1, 1, 1,  ..., 0, 0, 0],\n",
      "        [1, 1, 1,  ..., 0, 0, 0],\n",
      "        [1, 1, 1,  ..., 0, 0, 0]])}\n",
      "{'label': tensor([0, 1, 0, 0, 0, 0, 0, 1, 1, 1, 1, 0, 0, 1, 0, 0]), 'input_ids': tensor([[ 101, 2043, 2017,  ...,    0,    0,    0],\n",
      "        [ 101, 1030, 5310,  ...,    0,    0,    0],\n",
      "        [ 101, 1001, 2308,  ...,    0,    0,    0],\n",
      "        ...,\n",
      "        [ 101, 1030, 5310,  ...,    0,    0,    0],\n",
      "        [ 101, 1045, 2066,  ...,    0,    0,    0],\n",
      "        [ 101, 2170, 6391,  ...,    0,    0,    0]]), 'attention_mask': tensor([[1, 1, 1,  ..., 0, 0, 0],\n",
      "        [1, 1, 1,  ..., 0, 0, 0],\n",
      "        [1, 1, 1,  ..., 0, 0, 0],\n",
      "        ...,\n",
      "        [1, 1, 1,  ..., 0, 0, 0],\n",
      "        [1, 1, 1,  ..., 0, 0, 0],\n",
      "        [1, 1, 1,  ..., 0, 0, 0]])}\n",
      "{'label': tensor([0, 1, 1, 1, 1, 0, 0, 1, 0, 0, 0, 1, 1, 1, 0, 1]), 'input_ids': tensor([[  101, 20050,  1011,  ...,     0,     0,     0],\n",
      "        [  101,  2065,  2008,  ...,     0,     0,     0],\n",
      "        [  101,  1030,  5310,  ...,     0,     0,     0],\n",
      "        ...,\n",
      "        [  101,  2129,  2116,  ...,     0,     0,     0],\n",
      "        [  101,  1030,  5310,  ...,     0,     0,     0],\n",
      "        [  101,  3057,  2024,  ...,     0,     0,     0]]), 'attention_mask': tensor([[1, 1, 1,  ..., 0, 0, 0],\n",
      "        [1, 1, 1,  ..., 0, 0, 0],\n",
      "        [1, 1, 1,  ..., 0, 0, 0],\n",
      "        ...,\n",
      "        [1, 1, 1,  ..., 0, 0, 0],\n",
      "        [1, 1, 1,  ..., 0, 0, 0],\n",
      "        [1, 1, 1,  ..., 0, 0, 0]])}\n",
      "{'label': tensor([1, 0, 1, 1, 0, 0, 1, 0, 0, 1, 0, 1, 0, 0, 0, 0]), 'input_ids': tensor([[  101, 19387,  1030,  ...,     0,     0,     0],\n",
      "        [  101,  2122,  2024,  ...,     0,     0,     0],\n",
      "        [  101,  1030,  5310,  ...,     0,     0,     0],\n",
      "        ...,\n",
      "        [  101,  2339,  2006,  ...,     0,     0,     0],\n",
      "        [  101,  2021,  1037,  ...,     0,     0,     0],\n",
      "        [  101,  9152, 23033,  ...,     0,     0,     0]]), 'attention_mask': tensor([[1, 1, 1,  ..., 0, 0, 0],\n",
      "        [1, 1, 1,  ..., 0, 0, 0],\n",
      "        [1, 1, 1,  ..., 0, 0, 0],\n",
      "        ...,\n",
      "        [1, 1, 1,  ..., 0, 0, 0],\n",
      "        [1, 1, 1,  ..., 0, 0, 0],\n",
      "        [1, 1, 1,  ..., 0, 0, 0]])}\n",
      "{'label': tensor([0, 1, 0, 1, 0, 0, 0, 0, 1, 1, 0, 0, 1, 0, 1, 1]), 'input_ids': tensor([[  101, 11560,  5496,  ...,     0,     0,     0],\n",
      "        [  101,  1030,  5310,  ...,     0,     0,     0],\n",
      "        [  101,  2043,  2115,  ...,     0,     0,     0],\n",
      "        ...,\n",
      "        [  101,  2026,  2878,  ...,     0,     0,     0],\n",
      "        [  101,  2106,  2017,  ...,     0,     0,     0],\n",
      "        [  101,  1030,  5310,  ...,     0,     0,     0]]), 'attention_mask': tensor([[1, 1, 1,  ..., 0, 0, 0],\n",
      "        [1, 1, 1,  ..., 0, 0, 0],\n",
      "        [1, 1, 1,  ..., 0, 0, 0],\n",
      "        ...,\n",
      "        [1, 1, 1,  ..., 0, 0, 0],\n",
      "        [1, 1, 1,  ..., 0, 0, 0],\n",
      "        [1, 1, 1,  ..., 0, 0, 0]])}\n",
      "{'label': tensor([0, 0, 0, 0, 0, 0, 0, 1, 1, 1, 1, 1, 0, 1, 1, 1]), 'input_ids': tensor([[ 101, 1030, 5310,  ...,    0,    0,    0],\n",
      "        [ 101, 1049, 2035,  ...,    0,    0,    0],\n",
      "        [ 101, 3471, 4057,  ...,    0,    0,    0],\n",
      "        ...,\n",
      "        [ 101, 2085, 2054,  ...,    0,    0,    0],\n",
      "        [ 101, 2043, 2017,  ...,    0,    0,    0],\n",
      "        [ 101, 2023, 3475,  ...,    0,    0,    0]]), 'attention_mask': tensor([[1, 1, 1,  ..., 0, 0, 0],\n",
      "        [1, 1, 1,  ..., 0, 0, 0],\n",
      "        [1, 1, 1,  ..., 0, 0, 0],\n",
      "        ...,\n",
      "        [1, 1, 1,  ..., 0, 0, 0],\n",
      "        [1, 1, 1,  ..., 0, 0, 0],\n",
      "        [1, 1, 1,  ..., 0, 0, 0]])}\n",
      "{'label': tensor([0, 1, 0, 1, 0, 0, 0, 0, 0, 1, 0, 1, 1, 0, 0, 0]), 'input_ids': tensor([[  101,  2753,  2086,  ...,     0,     0,     0],\n",
      "        [  101,  2017,  2812,  ...,     0,     0,     0],\n",
      "        [  101,  2678,  1024,  ...,     0,     0,     0],\n",
      "        ...,\n",
      "        [  101,  1996,  3447,  ...,     0,     0,     0],\n",
      "        [  101,  1030,  5310,  ...,     0,     0,     0],\n",
      "        [  101, 10047,  1037,  ...,     0,     0,     0]]), 'attention_mask': tensor([[1, 1, 1,  ..., 0, 0, 0],\n",
      "        [1, 1, 1,  ..., 0, 0, 0],\n",
      "        [1, 1, 1,  ..., 0, 0, 0],\n",
      "        ...,\n",
      "        [1, 1, 1,  ..., 0, 0, 0],\n",
      "        [1, 1, 1,  ..., 0, 0, 0],\n",
      "        [1, 1, 1,  ..., 0, 0, 0]])}\n",
      "{'label': tensor([0, 1, 1, 0, 0, 0, 0, 1, 0, 0, 0, 0, 0, 1, 1, 1]), 'input_ids': tensor([[  101,  2043,  2017,  ...,     0,     0,     0],\n",
      "        [  101,  1045,  2572,  ...,     0,     0,     0],\n",
      "        [  101, 22017,  1010,  ...,     0,     0,     0],\n",
      "        ...,\n",
      "        [  101,  2748,  2017,  ...,     0,     0,     0],\n",
      "        [  101,  2017,  2123,  ...,     0,     0,     0],\n",
      "        [  101,  1030,  5310,  ...,     0,     0,     0]]), 'attention_mask': tensor([[1, 1, 1,  ..., 0, 0, 0],\n",
      "        [1, 1, 1,  ..., 0, 0, 0],\n",
      "        [1, 1, 1,  ..., 0, 0, 0],\n",
      "        ...,\n",
      "        [1, 1, 1,  ..., 0, 0, 0],\n",
      "        [1, 1, 1,  ..., 0, 0, 0],\n",
      "        [1, 1, 1,  ..., 0, 0, 0]])}\n",
      "{'label': tensor([0, 1, 1, 0, 0, 1, 1, 0, 1, 0, 0, 0, 1, 0, 1, 1]), 'input_ids': tensor([[  101,  2043,  2017,  ...,     0,     0,     0],\n",
      "        [  101, 12256,  7556,  ...,     0,     0,     0],\n",
      "        [  101,  7743,  2644,  ...,     0,     0,     0],\n",
      "        ...,\n",
      "        [  101,  1030,  5310,  ...,     0,     0,     0],\n",
      "        [  101,  2023,  2611,  ...,     0,     0,     0],\n",
      "        [  101,  6343,  6981,  ...,     0,     0,     0]]), 'attention_mask': tensor([[1, 1, 1,  ..., 0, 0, 0],\n",
      "        [1, 1, 1,  ..., 0, 0, 0],\n",
      "        [1, 1, 1,  ..., 0, 0, 0],\n",
      "        ...,\n",
      "        [1, 1, 1,  ..., 0, 0, 0],\n",
      "        [1, 1, 1,  ..., 0, 0, 0],\n",
      "        [1, 1, 1,  ..., 0, 0, 0]])}\n",
      "{'label': tensor([1, 1, 0, 0, 0, 0, 1, 1, 0, 0, 0, 0, 1, 1, 1, 1]), 'input_ids': tensor([[  101,  2043,  2115,  ...,     0,     0,     0],\n",
      "        [  101,  2339,  3679,  ...,     0,     0,     0],\n",
      "        [  101,  1030,  5310,  ...,     0,     0,     0],\n",
      "        ...,\n",
      "        [  101,  1030,  5310,  ...,     0,     0,     0],\n",
      "        [  101,  1030,  5310,  ...,     0,     0,     0],\n",
      "        [  101, 28144,  2015,  ...,     0,     0,     0]]), 'attention_mask': tensor([[1, 1, 1,  ..., 0, 0, 0],\n",
      "        [1, 1, 1,  ..., 0, 0, 0],\n",
      "        [1, 1, 1,  ..., 0, 0, 0],\n",
      "        ...,\n",
      "        [1, 1, 1,  ..., 0, 0, 0],\n",
      "        [1, 1, 1,  ..., 0, 0, 0],\n",
      "        [1, 1, 1,  ..., 0, 0, 0]])}\n",
      "{'label': tensor([0, 0, 1, 1, 0, 0, 0, 0, 1, 1, 1, 1, 0, 1, 0, 0]), 'input_ids': tensor([[ 101, 2138, 2009,  ...,    0,    0,    0],\n",
      "        [ 101, 3374, 2017,  ...,    0,    0,    0],\n",
      "        [ 101, 1045, 1005,  ...,    0,    0,    0],\n",
      "        ...,\n",
      "        [ 101, 2644, 4352,  ...,    0,    0,    0],\n",
      "        [ 101, 1001, 5003,  ...,    0,    0,    0],\n",
      "        [ 101, 2013, 1996,  ...,    0,    0,    0]]), 'attention_mask': tensor([[1, 1, 1,  ..., 0, 0, 0],\n",
      "        [1, 1, 1,  ..., 0, 0, 0],\n",
      "        [1, 1, 1,  ..., 0, 0, 0],\n",
      "        ...,\n",
      "        [1, 1, 1,  ..., 0, 0, 0],\n",
      "        [1, 1, 1,  ..., 0, 0, 0],\n",
      "        [1, 1, 1,  ..., 0, 0, 0]])}\n",
      "{'label': tensor([0, 1, 1, 1, 1, 0, 1, 0, 1, 0, 0, 0, 1, 0, 0, 1]), 'input_ids': tensor([[  101,  6206,  7344,  ...,     0,     0,     0],\n",
      "        [  101,  2009,  2003,  ...,     0,     0,     0],\n",
      "        [  101, 14161, 12722,  ...,     0,     0,     0],\n",
      "        ...,\n",
      "        [  101,  2035,  2026,  ...,     0,     0,     0],\n",
      "        [  101,  1996,  7489,  ...,     0,     0,     0],\n",
      "        [  101,  7129,  2011,  ...,     0,     0,     0]]), 'attention_mask': tensor([[1, 1, 1,  ..., 0, 0, 0],\n",
      "        [1, 1, 1,  ..., 0, 0, 0],\n",
      "        [1, 1, 1,  ..., 0, 0, 0],\n",
      "        ...,\n",
      "        [1, 1, 1,  ..., 0, 0, 0],\n",
      "        [1, 1, 1,  ..., 0, 0, 0],\n",
      "        [1, 1, 1,  ..., 0, 0, 0]])}\n",
      "{'label': tensor([0, 0, 1, 1, 1, 1, 1, 0, 0, 0, 1, 0, 0, 0, 0, 0]), 'input_ids': tensor([[ 101, 1005, 2129,  ...,    0,    0,    0],\n",
      "        [ 101, 2762, 1010,  ...,    0,    0,    0],\n",
      "        [ 101, 1001, 2644,  ...,    0,    0,    0],\n",
      "        ...,\n",
      "        [ 101, 2048, 4320,  ...,    0,    0,    0],\n",
      "        [ 101, 1045, 2123,  ...,    0,    0,    0],\n",
      "        [ 101, 1045, 2293,  ...,    0,    0,    0]]), 'attention_mask': tensor([[1, 1, 1,  ..., 0, 0, 0],\n",
      "        [1, 1, 1,  ..., 0, 0, 0],\n",
      "        [1, 1, 1,  ..., 0, 0, 0],\n",
      "        ...,\n",
      "        [1, 1, 1,  ..., 0, 0, 0],\n",
      "        [1, 1, 1,  ..., 0, 0, 0],\n",
      "        [1, 1, 1,  ..., 0, 0, 0]])}\n",
      "{'label': tensor([0, 1, 0, 1, 0, 0, 0, 0, 0, 0, 1, 1, 0, 1, 1, 0]), 'input_ids': tensor([[  101,  4238,  2015,  ...,     0,     0,     0],\n",
      "        [  101,  2012,  2023,  ...,     0,     0,     0],\n",
      "        [  101,  1045,  2131,  ...,     0,     0,     0],\n",
      "        ...,\n",
      "        [  101,  1045,  2064,  ...,     0,     0,     0],\n",
      "        [  101,  1045,  7438,  ...,     0,     0,     0],\n",
      "        [  101, 28811,  2769,  ...,     0,     0,     0]]), 'attention_mask': tensor([[1, 1, 1,  ..., 0, 0, 0],\n",
      "        [1, 1, 1,  ..., 0, 0, 0],\n",
      "        [1, 1, 1,  ..., 0, 0, 0],\n",
      "        ...,\n",
      "        [1, 1, 1,  ..., 0, 0, 0],\n",
      "        [1, 1, 1,  ..., 0, 0, 0],\n",
      "        [1, 1, 1,  ..., 0, 0, 0]])}\n",
      "{'label': tensor([0, 0, 0, 1, 0, 0, 0, 1, 0, 1, 1, 0, 0, 1, 0, 1]), 'input_ids': tensor([[  101,  8915, 15042,  ...,     0,     0,     0],\n",
      "        [  101,  2074,  2288,  ...,     0,     0,     0],\n",
      "        [  101,  1030,  5310,  ...,     0,     0,     0],\n",
      "        ...,\n",
      "        [  101,  1005, 12917,  ...,     0,     0,     0],\n",
      "        [  101,  2664,  2178,  ...,     0,     0,     0],\n",
      "        [  101,  2044,  7483,  ...,     0,     0,     0]]), 'attention_mask': tensor([[1, 1, 1,  ..., 0, 0, 0],\n",
      "        [1, 1, 1,  ..., 0, 0, 0],\n",
      "        [1, 1, 1,  ..., 0, 0, 0],\n",
      "        ...,\n",
      "        [1, 1, 1,  ..., 0, 0, 0],\n",
      "        [1, 1, 1,  ..., 0, 0, 0],\n",
      "        [1, 1, 1,  ..., 0, 0, 0]])}\n",
      "{'label': tensor([0, 0, 0, 1, 1, 0, 1, 1, 1, 0, 0, 1, 0, 0, 0, 0]), 'input_ids': tensor([[  101,  2043,  2017,  ...,     0,     0,     0],\n",
      "        [  101,  6187, 20731,  ...,     0,     0,     0],\n",
      "        [  101,  2051,  2000,  ...,     0,     0,     0],\n",
      "        ...,\n",
      "        [  101,  2023,  2003,  ...,     0,     0,     0],\n",
      "        [  101, 23156,  2000,  ...,     0,     0,     0],\n",
      "        [  101,  1030,  5310,  ...,     0,     0,     0]]), 'attention_mask': tensor([[1, 1, 1,  ..., 0, 0, 0],\n",
      "        [1, 1, 1,  ..., 0, 0, 0],\n",
      "        [1, 1, 1,  ..., 0, 0, 0],\n",
      "        ...,\n",
      "        [1, 1, 1,  ..., 0, 0, 0],\n",
      "        [1, 1, 1,  ..., 0, 0, 0],\n",
      "        [1, 1, 1,  ..., 0, 0, 0]])}\n",
      "{'label': tensor([0, 1, 1, 1, 1, 0, 1, 0, 0, 0, 0, 0, 0, 1, 0, 1]), 'input_ids': tensor([[  101,  2000,  2224,  ...,     0,     0,     0],\n",
      "        [  101,  3256, 11014,  ...,     0,     0,     0],\n",
      "        [  101,  1030,  5310,  ...,     0,     0,     0],\n",
      "        ...,\n",
      "        [  101,  1030,  5310,  ...,     0,     0,     0],\n",
      "        [  101,  1996,  4708,  ...,     0,     0,     0],\n",
      "        [  101, 10759,  3366,  ...,     0,     0,     0]]), 'attention_mask': tensor([[1, 1, 1,  ..., 0, 0, 0],\n",
      "        [1, 1, 1,  ..., 0, 0, 0],\n",
      "        [1, 1, 1,  ..., 0, 0, 0],\n",
      "        ...,\n",
      "        [1, 1, 1,  ..., 0, 0, 0],\n",
      "        [1, 1, 1,  ..., 0, 0, 0],\n",
      "        [1, 1, 1,  ..., 0, 0, 0]])}\n",
      "{'label': tensor([0, 0, 0, 0, 1, 0, 0, 0, 1, 0, 1, 0, 0, 0, 1, 1]), 'input_ids': tensor([[  101,  2025,  2035,  ...,     0,     0,     0],\n",
      "        [  101,  8622,  4734,  ...,     0,     0,     0],\n",
      "        [  101,  2026,  2132,  ...,     0,     0,     0],\n",
      "        ...,\n",
      "        [  101, 11560,  3460,  ...,     0,     0,     0],\n",
      "        [  101,  2108, 12726,  ...,     0,     0,     0],\n",
      "        [  101,  2028,  2387,  ...,     0,     0,     0]]), 'attention_mask': tensor([[1, 1, 1,  ..., 0, 0, 0],\n",
      "        [1, 1, 1,  ..., 0, 0, 0],\n",
      "        [1, 1, 1,  ..., 0, 0, 0],\n",
      "        ...,\n",
      "        [1, 1, 1,  ..., 0, 0, 0],\n",
      "        [1, 1, 1,  ..., 0, 0, 0],\n",
      "        [1, 1, 1,  ..., 0, 0, 0]])}\n",
      "{'label': tensor([0, 0, 0, 0, 0, 0, 1, 1, 1, 0, 1, 1, 1, 0, 0, 0]), 'input_ids': tensor([[  101,  2013,  2019,  ...,     0,     0,     0],\n",
      "        [  101,  1030,  5310,  ...,     0,     0,     0],\n",
      "        [  101, 11560, 17633,  ...,     0,     0,     0],\n",
      "        ...,\n",
      "        [  101,  1996,  2450,  ...,     0,     0,     0],\n",
      "        [  101,  2065,  1045,  ...,     0,     0,     0],\n",
      "        [  101,  1005,   100,  ...,     0,     0,     0]]), 'attention_mask': tensor([[1, 1, 1,  ..., 0, 0, 0],\n",
      "        [1, 1, 1,  ..., 0, 0, 0],\n",
      "        [1, 1, 1,  ..., 0, 0, 0],\n",
      "        ...,\n",
      "        [1, 1, 1,  ..., 0, 0, 0],\n",
      "        [1, 1, 1,  ..., 0, 0, 0],\n",
      "        [1, 1, 1,  ..., 0, 0, 0]])}\n",
      "{'label': tensor([0, 1, 1, 1, 1, 0, 0, 1, 1, 0, 1, 0, 1, 0, 0, 0]), 'input_ids': tensor([[  101,  1045,  2113,  ...,     0,     0,     0],\n",
      "        [  101,  1030,  5310,  ...,     0,     0,     0],\n",
      "        [  101,  2053,  2000,  ...,     0,     0,     0],\n",
      "        ...,\n",
      "        [  101,  1030,  5310,  ...,     0,     0,     0],\n",
      "        [  101,  2043,  2017,  ...,     0,     0,     0],\n",
      "        [  101, 20996, 12053,  ...,     0,     0,     0]]), 'attention_mask': tensor([[1, 1, 1,  ..., 0, 0, 0],\n",
      "        [1, 1, 1,  ..., 0, 0, 0],\n",
      "        [1, 1, 1,  ..., 0, 0, 0],\n",
      "        ...,\n",
      "        [1, 1, 1,  ..., 0, 0, 0],\n",
      "        [1, 1, 1,  ..., 0, 0, 0],\n",
      "        [1, 1, 1,  ..., 0, 0, 0]])}\n",
      "{'label': tensor([0, 1, 0, 1, 0, 1, 0, 0, 0, 1, 0, 1, 1, 0, 0, 1]), 'input_ids': tensor([[  101,  2144,  2043,  ...,     0,     0,     0],\n",
      "        [  101,  2339,  2017,  ...,     0,     0,     0],\n",
      "        [  101,  2004,  1996,  ...,     0,     0,     0],\n",
      "        ...,\n",
      "        [  101,  6728, 16001,  ...,     0,     0,     0],\n",
      "        [  101,  1030,  5310,  ...,     0,     0,     0],\n",
      "        [  101,  2054,  2003,  ...,     0,     0,     0]]), 'attention_mask': tensor([[1, 1, 1,  ..., 0, 0, 0],\n",
      "        [1, 1, 1,  ..., 0, 0, 0],\n",
      "        [1, 1, 1,  ..., 0, 0, 0],\n",
      "        ...,\n",
      "        [1, 1, 1,  ..., 0, 0, 0],\n",
      "        [1, 1, 1,  ..., 0, 0, 0],\n",
      "        [1, 1, 1,  ..., 0, 0, 0]])}\n",
      "{'label': tensor([0, 0, 0, 1, 0, 0, 0, 1, 1, 0, 1, 0, 1, 0, 1, 1]), 'input_ids': tensor([[  101, 19387,  1030,  ...,     0,     0,     0],\n",
      "        [  101,  4931,  1045,  ...,     0,     0,     0],\n",
      "        [  101,  3422,  1024,  ...,     0,     0,     0],\n",
      "        ...,\n",
      "        [  101,  1030,  5310,  ...,     0,     0,     0],\n",
      "        [  101,  1030,  5310,  ...,     0,     0,     0],\n",
      "        [  101,  2043,  2017,  ...,     0,     0,     0]]), 'attention_mask': tensor([[1, 1, 1,  ..., 0, 0, 0],\n",
      "        [1, 1, 1,  ..., 0, 0, 0],\n",
      "        [1, 1, 1,  ..., 0, 0, 0],\n",
      "        ...,\n",
      "        [1, 1, 1,  ..., 0, 0, 0],\n",
      "        [1, 1, 1,  ..., 0, 0, 0],\n",
      "        [1, 1, 1,  ..., 0, 0, 0]])}\n",
      "{'label': tensor([0, 0, 0, 0, 1, 0, 0, 0, 1, 0, 0, 1, 1, 0, 1, 0]), 'input_ids': tensor([[ 101, 1030, 5310,  ...,    0,    0,    0],\n",
      "        [ 101, 1030, 5310,  ...,    0,    0,    0],\n",
      "        [ 101, 2077, 1030,  ...,    0,    0,    0],\n",
      "        ...,\n",
      "        [ 101, 2031, 2070,  ...,    0,    0,    0],\n",
      "        [ 101, 1011, 3376,  ...,    0,    0,    0],\n",
      "        [ 101, 1030, 5310,  ...,    0,    0,    0]]), 'attention_mask': tensor([[1, 1, 1,  ..., 0, 0, 0],\n",
      "        [1, 1, 1,  ..., 0, 0, 0],\n",
      "        [1, 1, 1,  ..., 0, 0, 0],\n",
      "        ...,\n",
      "        [1, 1, 1,  ..., 0, 0, 0],\n",
      "        [1, 1, 1,  ..., 0, 0, 0],\n",
      "        [1, 1, 1,  ..., 0, 0, 0]])}\n",
      "{'label': tensor([1, 0, 1, 0, 0, 1, 0, 0, 0, 0, 1, 1, 0, 1, 1, 0]), 'input_ids': tensor([[ 101, 2865, 2038,  ...,    0,    0,    0],\n",
      "        [ 101, 2156, 2043,  ...,    0,    0,    0],\n",
      "        [ 101, 1001, 8275,  ...,    0,    0,    0],\n",
      "        ...,\n",
      "        [ 101, 3422, 1024,  ...,    0,    0,    0],\n",
      "        [ 101, 2308, 2031,  ...,    0,    0,    0],\n",
      "        [ 101, 5152, 2158,  ...,    0,    0,    0]]), 'attention_mask': tensor([[1, 1, 1,  ..., 0, 0, 0],\n",
      "        [1, 1, 1,  ..., 0, 0, 0],\n",
      "        [1, 1, 1,  ..., 0, 0, 0],\n",
      "        ...,\n",
      "        [1, 1, 1,  ..., 0, 0, 0],\n",
      "        [1, 1, 1,  ..., 0, 0, 0],\n",
      "        [1, 1, 1,  ..., 0, 0, 0]])}\n",
      "{'label': tensor([1, 0, 0, 1, 0, 1, 0, 0, 1, 1, 0, 1, 1, 0, 0, 0]), 'input_ids': tensor([[ 101, 1045, 2074,  ...,    0,    0,    0],\n",
      "        [ 101, 1523, 2131,  ...,    0,    0,    0],\n",
      "        [ 101, 2033, 1024,  ...,    0,    0,    0],\n",
      "        ...,\n",
      "        [ 101, 1999, 1996,  ...,    0,    0,    0],\n",
      "        [ 101, 3422, 1024,  ...,    0,    0,    0],\n",
      "        [ 101, 5483, 1024,  ...,    0,    0,    0]]), 'attention_mask': tensor([[1, 1, 1,  ..., 0, 0, 0],\n",
      "        [1, 1, 1,  ..., 0, 0, 0],\n",
      "        [1, 1, 1,  ..., 0, 0, 0],\n",
      "        ...,\n",
      "        [1, 1, 1,  ..., 0, 0, 0],\n",
      "        [1, 1, 1,  ..., 0, 0, 0],\n",
      "        [1, 1, 1,  ..., 0, 0, 0]])}\n",
      "{'label': tensor([1, 1, 0, 1, 0, 0, 1, 0, 0, 1, 0, 0, 1, 0, 0, 0]), 'input_ids': tensor([[  101,  1996,  7928,  ...,     0,     0,     0],\n",
      "        [  101,  1030,  5310,  ...,     0,     0,     0],\n",
      "        [  101,  1030,  5310,  ...,     0,     0,     0],\n",
      "        ...,\n",
      "        [  101,  2017,  2134,  ...,     0,     0,     0],\n",
      "        [  101,  1045, 10214,  ...,     0,     0,     0],\n",
      "        [  101,  5875,  2129,  ...,     0,     0,     0]]), 'attention_mask': tensor([[1, 1, 1,  ..., 0, 0, 0],\n",
      "        [1, 1, 1,  ..., 0, 0, 0],\n",
      "        [1, 1, 1,  ..., 0, 0, 0],\n",
      "        ...,\n",
      "        [1, 1, 1,  ..., 0, 0, 0],\n",
      "        [1, 1, 1,  ..., 0, 0, 0],\n",
      "        [1, 1, 1,  ..., 0, 0, 0]])}\n",
      "{'label': tensor([1, 0, 1, 1, 0, 1, 0, 0, 0, 0, 1, 1, 0, 1, 0, 1]), 'input_ids': tensor([[ 101, 3422, 1024,  ...,    0,    0,    0],\n",
      "        [ 101, 1030, 5310,  ...,    0,    0,    0],\n",
      "        [ 101, 1030, 5310,  ...,    0,    0,    0],\n",
      "        ...,\n",
      "        [ 101, 2045, 2024,  ...,    0,    0,    0],\n",
      "        [ 101, 1030, 5310,  ...,    0,    0,    0],\n",
      "        [ 101, 1030, 5310,  ...,    0,    0,    0]]), 'attention_mask': tensor([[1, 1, 1,  ..., 0, 0, 0],\n",
      "        [1, 1, 1,  ..., 0, 0, 0],\n",
      "        [1, 1, 1,  ..., 0, 0, 0],\n",
      "        ...,\n",
      "        [1, 1, 1,  ..., 0, 0, 0],\n",
      "        [1, 1, 1,  ..., 0, 0, 0],\n",
      "        [1, 1, 1,  ..., 0, 0, 0]])}\n",
      "{'label': tensor([1, 1, 0, 0, 1, 1, 1, 0, 0, 1, 1, 0, 0, 1, 1, 1]), 'input_ids': tensor([[  101,  2166,  2003,  ...,     0,     0,     0],\n",
      "        [  101,  2022,  6176,  ...,     0,     0,     0],\n",
      "        [  101,  4487, 13102,  ...,     0,     0,     0],\n",
      "        ...,\n",
      "        [  101,  1030,  5310,  ...,     0,     0,     0],\n",
      "        [  101,  9826,  1012,  ...,     0,     0,     0],\n",
      "        [  101,  2027,  2562,  ...,     0,     0,     0]]), 'attention_mask': tensor([[1, 1, 1,  ..., 0, 0, 0],\n",
      "        [1, 1, 1,  ..., 0, 0, 0],\n",
      "        [1, 1, 1,  ..., 0, 0, 0],\n",
      "        ...,\n",
      "        [1, 1, 1,  ..., 0, 0, 0],\n",
      "        [1, 1, 1,  ..., 0, 0, 0],\n",
      "        [1, 1, 1,  ..., 0, 0, 0]])}\n",
      "{'label': tensor([1, 0, 1, 1, 0, 0, 1, 0, 0, 1, 0, 1, 1, 1, 1, 0]), 'input_ids': tensor([[  101,  2057,  1010,  ...,     0,     0,     0],\n",
      "        [  101, 10338,  2015,  ...,     0,     0,     0],\n",
      "        [  101,  1030,  5310,  ...,     0,     0,     0],\n",
      "        ...,\n",
      "        [  101,  1523,  2175,  ...,     0,     0,     0],\n",
      "        [  101,  1030,  5310,  ...,     0,     0,     0],\n",
      "        [  101,  1030,  5310,  ...,     0,     0,     0]]), 'attention_mask': tensor([[1, 1, 1,  ..., 0, 0, 0],\n",
      "        [1, 1, 1,  ..., 0, 0, 0],\n",
      "        [1, 1, 1,  ..., 0, 0, 0],\n",
      "        ...,\n",
      "        [1, 1, 1,  ..., 0, 0, 0],\n",
      "        [1, 1, 1,  ..., 0, 0, 0],\n",
      "        [1, 1, 1,  ..., 0, 0, 0]])}\n",
      "{'label': tensor([0, 1, 0, 0, 1, 0, 1, 1, 0, 0, 1, 0, 1, 1, 1, 0]), 'input_ids': tensor([[ 101, 2115, 1523,  ...,    0,    0,    0],\n",
      "        [ 101, 1030, 5310,  ...,    0,    0,    0],\n",
      "        [ 101, 2043, 2115,  ...,    0,    0,    0],\n",
      "        ...,\n",
      "        [ 101, 1030, 5310,  ...,    0,    0,    0],\n",
      "        [ 101, 1030, 5310,  ...,    0,    0,    0],\n",
      "        [ 101, 1030, 5310,  ...,    0,    0,    0]]), 'attention_mask': tensor([[1, 1, 1,  ..., 0, 0, 0],\n",
      "        [1, 1, 1,  ..., 0, 0, 0],\n",
      "        [1, 1, 1,  ..., 0, 0, 0],\n",
      "        ...,\n",
      "        [1, 1, 1,  ..., 0, 0, 0],\n",
      "        [1, 1, 1,  ..., 0, 0, 0],\n",
      "        [1, 1, 1,  ..., 0, 0, 0]])}\n",
      "{'label': tensor([1, 1, 0, 1, 1, 0, 0, 0, 1, 1, 1, 0, 0, 0, 0, 0]), 'input_ids': tensor([[ 101, 7521, 2097,  ...,    0,    0,    0],\n",
      "        [ 101, 3304, 4136,  ...,    0,    0,    0],\n",
      "        [ 101, 2111, 2008,  ...,    0,    0,    0],\n",
      "        ...,\n",
      "        [ 101, 3424, 1011,  ...,    0,    0,    0],\n",
      "        [ 101, 5848, 1011,  ...,    0,    0,    0],\n",
      "        [ 101, 1030, 5310,  ...,    0,    0,    0]]), 'attention_mask': tensor([[1, 1, 1,  ..., 0, 0, 0],\n",
      "        [1, 1, 1,  ..., 0, 0, 0],\n",
      "        [1, 1, 1,  ..., 0, 0, 0],\n",
      "        ...,\n",
      "        [1, 1, 1,  ..., 0, 0, 0],\n",
      "        [1, 1, 1,  ..., 0, 0, 0],\n",
      "        [1, 1, 1,  ..., 0, 0, 0]])}\n",
      "{'label': tensor([1, 0, 0, 0, 1, 1, 1, 0, 0, 0, 0, 0, 0, 0, 0, 1]), 'input_ids': tensor([[  101,  1030,  5310,  ...,     0,     0,     0],\n",
      "        [  101,  2043,  2017,  ...,     0,     0,     0],\n",
      "        [  101,  2065,  2017,  ...,     0,     0,     0],\n",
      "        ...,\n",
      "        [  101,  6244,  2277,  ...,     0,     0,     0],\n",
      "        [  101,  2296, 13141,  ...,     0,     0,     0],\n",
      "        [  101,  7743,  2229,  ...,     0,     0,     0]]), 'attention_mask': tensor([[1, 1, 1,  ..., 0, 0, 0],\n",
      "        [1, 1, 1,  ..., 0, 0, 0],\n",
      "        [1, 1, 1,  ..., 0, 0, 0],\n",
      "        ...,\n",
      "        [1, 1, 1,  ..., 0, 0, 0],\n",
      "        [1, 1, 1,  ..., 0, 0, 0],\n",
      "        [1, 1, 1,  ..., 0, 0, 0]])}\n",
      "{'label': tensor([0, 1, 1, 1, 1, 1, 0, 1, 0, 1, 0, 1, 0, 0, 0, 0]), 'input_ids': tensor([[  101,  1996, 10900,  ...,     0,     0,     0],\n",
      "        [  101,  1030,  5310,  ...,     0,     0,     0],\n",
      "        [  101,  2017,  2097,  ...,     0,     0,     0],\n",
      "        ...,\n",
      "        [  101,  1045,  4299,  ...,     0,     0,     0],\n",
      "        [  101,  5872,  9794,  ...,     0,     0,     0],\n",
      "        [  101,  2377,  3315,  ...,     0,     0,     0]]), 'attention_mask': tensor([[1, 1, 1,  ..., 0, 0, 0],\n",
      "        [1, 1, 1,  ..., 0, 0, 0],\n",
      "        [1, 1, 1,  ..., 0, 0, 0],\n",
      "        ...,\n",
      "        [1, 1, 1,  ..., 0, 0, 0],\n",
      "        [1, 1, 1,  ..., 0, 0, 0],\n",
      "        [1, 1, 1,  ..., 0, 0, 0]])}\n",
      "{'label': tensor([0, 0, 0, 0, 0, 1, 0, 1, 1, 0, 1, 1, 0, 1, 0, 0]), 'input_ids': tensor([[ 101, 4593, 1005,  ...,    0,    0,    0],\n",
      "        [ 101, 1045, 2123,  ...,    0,    0,    0],\n",
      "        [ 101, 6203, 1060,  ...,    0,    0,    0],\n",
      "        ...,\n",
      "        [ 101, 2005, 2035,  ...,    0,    0,    0],\n",
      "        [ 101, 1030, 5310,  ...,    0,    0,    0],\n",
      "        [ 101, 4831, 4557,  ...,    0,    0,    0]]), 'attention_mask': tensor([[1, 1, 1,  ..., 0, 0, 0],\n",
      "        [1, 1, 1,  ..., 0, 0, 0],\n",
      "        [1, 1, 1,  ..., 0, 0, 0],\n",
      "        ...,\n",
      "        [1, 1, 1,  ..., 0, 0, 0],\n",
      "        [1, 1, 1,  ..., 0, 0, 0],\n",
      "        [1, 1, 1,  ..., 0, 0, 0]])}\n",
      "{'label': tensor([1, 0, 1, 0, 0, 0, 0, 0, 0, 0, 1, 1, 0, 1, 0, 0]), 'input_ids': tensor([[ 101, 1030, 5310,  ...,    0,    0,    0],\n",
      "        [ 101, 2045, 2003,  ...,    0,    0,    0],\n",
      "        [ 101, 1045, 8054,  ...,    0,    0,    0],\n",
      "        ...,\n",
      "        [ 101, 2425, 2033,  ...,    0,    0,    0],\n",
      "        [ 101, 2188, 2436,  ...,    0,    0,    0],\n",
      "        [ 101, 2006, 7521,  ...,    0,    0,    0]]), 'attention_mask': tensor([[1, 1, 1,  ..., 0, 0, 0],\n",
      "        [1, 1, 1,  ..., 0, 0, 0],\n",
      "        [1, 1, 1,  ..., 0, 0, 0],\n",
      "        ...,\n",
      "        [1, 1, 1,  ..., 0, 0, 0],\n",
      "        [1, 1, 1,  ..., 0, 0, 0],\n",
      "        [1, 1, 1,  ..., 0, 0, 0]])}\n",
      "{'label': tensor([0, 1, 0, 0, 1, 1, 1, 1, 0, 0, 1, 1, 0, 1, 1, 0]), 'input_ids': tensor([[ 101, 2168, 2283,  ...,    0,    0,    0],\n",
      "        [ 101, 1030, 5310,  ...,    0,    0,    0],\n",
      "        [ 101, 1030, 5310,  ...,    0,    0,    0],\n",
      "        ...,\n",
      "        [ 101, 1030, 5310,  ...,    0,    0,    0],\n",
      "        [ 101, 1030, 5310,  ...,    0,    0,    0],\n",
      "        [ 101, 1030, 5310,  ...,    0,    0,    0]]), 'attention_mask': tensor([[1, 1, 1,  ..., 0, 0, 0],\n",
      "        [1, 1, 1,  ..., 0, 0, 0],\n",
      "        [1, 1, 1,  ..., 0, 0, 0],\n",
      "        ...,\n",
      "        [1, 1, 1,  ..., 0, 0, 0],\n",
      "        [1, 1, 1,  ..., 0, 0, 0],\n",
      "        [1, 1, 1,  ..., 0, 0, 0]])}\n",
      "{'label': tensor([0, 1, 1, 0, 0, 1, 1, 0, 1, 1, 0, 0, 0, 1, 1, 0]), 'input_ids': tensor([[ 101, 2612, 1997,  ...,    0,    0,    0],\n",
      "        [ 101, 1030, 5310,  ...,    0,    0,    0],\n",
      "        [ 101, 2762, 1024,  ...,    0,    0,    0],\n",
      "        ...,\n",
      "        [ 101, 2304, 2450,  ...,    0,    0,    0],\n",
      "        [ 101, 1030, 5310,  ...,    0,    0,    0],\n",
      "        [ 101, 7327, 9230,  ...,    0,    0,    0]]), 'attention_mask': tensor([[1, 1, 1,  ..., 0, 0, 0],\n",
      "        [1, 1, 1,  ..., 0, 0, 0],\n",
      "        [1, 1, 1,  ..., 0, 0, 0],\n",
      "        ...,\n",
      "        [1, 1, 1,  ..., 0, 0, 0],\n",
      "        [1, 1, 1,  ..., 0, 0, 0],\n",
      "        [1, 1, 1,  ..., 0, 0, 0]])}\n",
      "{'label': tensor([1, 0, 1, 0, 0, 1, 0, 1, 0, 0, 0, 0, 0, 0, 0, 0]), 'input_ids': tensor([[  101,  1016, 16653,  ...,     0,     0,     0],\n",
      "        [  101,  8398,  2097,  ...,     0,     0,     0],\n",
      "        [  101,  3422,  1024,  ...,     0,     0,     0],\n",
      "        ...,\n",
      "        [  101,  5872,  2000,  ...,     0,     0,     0],\n",
      "        [  101,  1030,  5310,  ...,     0,     0,     0],\n",
      "        [  101,  1030,  5310,  ...,     0,     0,     0]]), 'attention_mask': tensor([[1, 1, 1,  ..., 0, 0, 0],\n",
      "        [1, 1, 1,  ..., 0, 0, 0],\n",
      "        [1, 1, 1,  ..., 0, 0, 0],\n",
      "        ...,\n",
      "        [1, 1, 1,  ..., 0, 0, 0],\n",
      "        [1, 1, 1,  ..., 0, 0, 0],\n",
      "        [1, 1, 1,  ..., 0, 0, 0]])}\n",
      "{'label': tensor([1, 1, 0, 1, 0, 0, 1, 0, 0, 1, 0, 1, 0, 1, 1, 0]), 'input_ids': tensor([[  101,  1030,  5310,  ...,     0,     0,     0],\n",
      "        [  101,  2026,  2611,  ...,     0,     0,     0],\n",
      "        [  101,  5125,  1040,  ...,     0,     0,     0],\n",
      "        ...,\n",
      "        [  101,  1045, 10587,  ...,     0,     0,     0],\n",
      "        [  101,  1045,  5223,  ...,     0,     0,     0],\n",
      "        [  101,  1523,  2054,  ...,     0,     0,     0]]), 'attention_mask': tensor([[1, 1, 1,  ..., 0, 0, 0],\n",
      "        [1, 1, 1,  ..., 0, 0, 0],\n",
      "        [1, 1, 1,  ..., 0, 0, 0],\n",
      "        ...,\n",
      "        [1, 1, 1,  ..., 0, 0, 0],\n",
      "        [1, 1, 1,  ..., 0, 0, 0],\n",
      "        [1, 1, 1,  ..., 0, 0, 0]])}\n",
      "{'label': tensor([0, 0, 0, 0, 0, 0, 1, 1, 0, 0, 0, 0, 1, 1, 0, 0]), 'input_ids': tensor([[ 101, 2027, 1005,  ...,    0,    0,    0],\n",
      "        [ 101, 2043, 1996,  ...,    0,    0,    0],\n",
      "        [ 101, 2024, 2017,  ...,    0,    0,    0],\n",
      "        ...,\n",
      "        [ 101, 1030, 5310,  ...,    0,    0,    0],\n",
      "        [ 101, 2033, 2044,  ...,    0,    0,    0],\n",
      "        [ 101, 5347, 1010,  ...,    0,    0,    0]]), 'attention_mask': tensor([[1, 1, 1,  ..., 0, 0, 0],\n",
      "        [1, 1, 1,  ..., 0, 0, 0],\n",
      "        [1, 1, 1,  ..., 0, 0, 0],\n",
      "        ...,\n",
      "        [1, 1, 1,  ..., 0, 0, 0],\n",
      "        [1, 1, 1,  ..., 0, 0, 0],\n",
      "        [1, 1, 1,  ..., 0, 0, 0]])}\n",
      "{'label': tensor([0, 0, 0, 0, 1, 0, 0, 0, 0, 0, 1, 0, 1, 0, 0, 0]), 'input_ids': tensor([[  101,  1045,  1005,  ...,     0,     0,     0],\n",
      "        [  101,  2272,  2147,  ...,     0,     0,     0],\n",
      "        [  101,  2009,  1005,  ...,     0,     0,     0],\n",
      "        ...,\n",
      "        [  101,  1001, 23963,  ...,     0,     0,     0],\n",
      "        [  101,  1030,  5310,  ...,     0,     0,     0],\n",
      "        [  101,  2006,  2089,  ...,     0,     0,     0]]), 'attention_mask': tensor([[1, 1, 1,  ..., 0, 0, 0],\n",
      "        [1, 1, 1,  ..., 0, 0, 0],\n",
      "        [1, 1, 1,  ..., 0, 0, 0],\n",
      "        ...,\n",
      "        [1, 1, 1,  ..., 0, 0, 0],\n",
      "        [1, 1, 1,  ..., 0, 0, 0],\n",
      "        [1, 1, 1,  ..., 0, 0, 0]])}\n",
      "{'label': tensor([0, 0, 0, 1, 0, 1, 0, 1, 0, 0, 0, 1, 1, 1, 1, 0]), 'input_ids': tensor([[ 101, 1045, 3728,  ...,    0,    0,    0],\n",
      "        [ 101, 1001, 3577,  ...,    0,    0,    0],\n",
      "        [ 101, 1001, 2308,  ...,    0,    0,    0],\n",
      "        ...,\n",
      "        [ 101, 5588, 3539,  ...,    0,    0,    0],\n",
      "        [ 101, 1030, 5310,  ...,    0,    0,    0],\n",
      "        [ 101, 1030, 5310,  ...,    0,    0,    0]]), 'attention_mask': tensor([[1, 1, 1,  ..., 0, 0, 0],\n",
      "        [1, 1, 1,  ..., 0, 0, 0],\n",
      "        [1, 1, 1,  ..., 0, 0, 0],\n",
      "        ...,\n",
      "        [1, 1, 1,  ..., 0, 0, 0],\n",
      "        [1, 1, 1,  ..., 0, 0, 0],\n",
      "        [1, 1, 1,  ..., 0, 0, 0]])}\n",
      "{'label': tensor([0, 0, 1, 1, 1, 0, 1, 1]), 'input_ids': tensor([[  101,  1999, 12413,  ...,     0,     0,     0],\n",
      "        [  101,  3422,  1024,  ...,     0,     0,     0],\n",
      "        [  101,  1012,  2424,  ...,     0,     0,     0],\n",
      "        ...,\n",
      "        [  101,  1996,  5745,  ...,     0,     0,     0],\n",
      "        [  101,  2006,  1996,  ...,     0,     0,     0],\n",
      "        [  101,  1030,  5310,  ...,     0,     0,     0]]), 'attention_mask': tensor([[1, 1, 1,  ..., 0, 0, 0],\n",
      "        [1, 1, 1,  ..., 0, 0, 0],\n",
      "        [1, 1, 1,  ..., 0, 0, 0],\n",
      "        ...,\n",
      "        [1, 1, 1,  ..., 0, 0, 0],\n",
      "        [1, 1, 1,  ..., 0, 0, 0],\n",
      "        [1, 1, 1,  ..., 0, 0, 0]])}\n"
     ]
    }
   ],
   "source": [
    "for batch in train_loader:\n",
    "    print(batch)\n"
   ],
   "metadata": {
    "collapsed": false
   }
  },
  {
   "cell_type": "code",
   "execution_count": 21,
   "outputs": [
    {
     "name": "stderr",
     "output_type": "stream",
     "text": [
      "Epoch 1/1:   0%|          | 1/563 [00:16<2:34:16, 16.47s/it]"
     ]
    },
    {
     "name": "stdout",
     "output_type": "stream",
     "text": [
      "Train Loss: 0.001, Train Acc: 0.375\r"
     ]
    },
    {
     "name": "stderr",
     "output_type": "stream",
     "text": [
      "Epoch 1/1:   0%|          | 2/563 [00:32<2:29:56, 16.04s/it]"
     ]
    },
    {
     "name": "stdout",
     "output_type": "stream",
     "text": [
      "Train Loss: 0.008, Train Acc: 0.344\r"
     ]
    },
    {
     "name": "stderr",
     "output_type": "stream",
     "text": [
      "Epoch 1/1:   1%|          | 3/563 [00:50<2:39:27, 17.08s/it]"
     ]
    },
    {
     "name": "stdout",
     "output_type": "stream",
     "text": [
      "Train Loss: 0.020, Train Acc: 0.333\r"
     ]
    },
    {
     "name": "stderr",
     "output_type": "stream",
     "text": [
      "Epoch 1/1:   1%|          | 4/563 [01:08<2:41:06, 17.29s/it]"
     ]
    },
    {
     "name": "stdout",
     "output_type": "stream",
     "text": [
      "Train Loss: 0.022, Train Acc: 0.422\r"
     ]
    },
    {
     "name": "stderr",
     "output_type": "stream",
     "text": [
      "Epoch 1/1:   1%|          | 5/563 [01:26<2:43:58, 17.63s/it]"
     ]
    },
    {
     "name": "stdout",
     "output_type": "stream",
     "text": [
      "Train Loss: 0.027, Train Acc: 0.463\r"
     ]
    },
    {
     "name": "stderr",
     "output_type": "stream",
     "text": [
      "Epoch 1/1:   1%|          | 6/563 [01:50<3:04:43, 19.90s/it]"
     ]
    },
    {
     "name": "stdout",
     "output_type": "stream",
     "text": [
      "Train Loss: 0.034, Train Acc: 0.469\r"
     ]
    },
    {
     "name": "stderr",
     "output_type": "stream",
     "text": [
      "Epoch 1/1:   1%|          | 7/563 [02:15<3:20:31, 21.64s/it]"
     ]
    },
    {
     "name": "stdout",
     "output_type": "stream",
     "text": [
      "Train Loss: 0.038, Train Acc: 0.464\r"
     ]
    },
    {
     "name": "stderr",
     "output_type": "stream",
     "text": [
      "Epoch 1/1:   1%|▏         | 8/563 [02:41<3:33:06, 23.04s/it]"
     ]
    },
    {
     "name": "stdout",
     "output_type": "stream",
     "text": [
      "Train Loss: 0.040, Train Acc: 0.477\r"
     ]
    },
    {
     "name": "stderr",
     "output_type": "stream",
     "text": [
      "Epoch 1/1:   2%|▏         | 9/563 [03:07<3:39:06, 23.73s/it]"
     ]
    },
    {
     "name": "stdout",
     "output_type": "stream",
     "text": [
      "Train Loss: 0.044, Train Acc: 0.493\r"
     ]
    },
    {
     "name": "stderr",
     "output_type": "stream",
     "text": [
      "Epoch 1/1:   2%|▏         | 10/563 [03:32<3:42:33, 24.15s/it]"
     ]
    },
    {
     "name": "stdout",
     "output_type": "stream",
     "text": [
      "Train Loss: 0.051, Train Acc: 0.475\r"
     ]
    },
    {
     "name": "stderr",
     "output_type": "stream",
     "text": [
      "Epoch 1/1:   2%|▏         | 11/563 [03:56<3:43:31, 24.30s/it]"
     ]
    },
    {
     "name": "stdout",
     "output_type": "stream",
     "text": [
      "Train Loss: 0.053, Train Acc: 0.472\r"
     ]
    },
    {
     "name": "stderr",
     "output_type": "stream",
     "text": [
      "Epoch 1/1:   2%|▏         | 12/563 [04:21<3:45:07, 24.51s/it]"
     ]
    },
    {
     "name": "stdout",
     "output_type": "stream",
     "text": [
      "Train Loss: 0.058, Train Acc: 0.458\r"
     ]
    },
    {
     "name": "stderr",
     "output_type": "stream",
     "text": [
      "Epoch 1/1:   2%|▏         | 13/563 [04:46<3:46:14, 24.68s/it]"
     ]
    },
    {
     "name": "stdout",
     "output_type": "stream",
     "text": [
      "Train Loss: 0.061, Train Acc: 0.466\r"
     ]
    },
    {
     "name": "stderr",
     "output_type": "stream",
     "text": [
      "Epoch 1/1:   2%|▏         | 14/563 [05:11<3:45:46, 24.68s/it]"
     ]
    },
    {
     "name": "stdout",
     "output_type": "stream",
     "text": [
      "Train Loss: 0.064, Train Acc: 0.478\r"
     ]
    },
    {
     "name": "stderr",
     "output_type": "stream",
     "text": [
      "Epoch 1/1:   3%|▎         | 15/563 [05:36<3:46:15, 24.77s/it]"
     ]
    },
    {
     "name": "stdout",
     "output_type": "stream",
     "text": [
      "Train Loss: 0.065, Train Acc: 0.487\r"
     ]
    },
    {
     "name": "stderr",
     "output_type": "stream",
     "text": [
      "Epoch 1/1:   3%|▎         | 16/563 [06:01<3:46:44, 24.87s/it]"
     ]
    },
    {
     "name": "stdout",
     "output_type": "stream",
     "text": [
      "Train Loss: 0.067, Train Acc: 0.480\r"
     ]
    },
    {
     "name": "stderr",
     "output_type": "stream",
     "text": [
      "Epoch 1/1:   3%|▎         | 17/563 [06:26<3:45:51, 24.82s/it]"
     ]
    },
    {
     "name": "stdout",
     "output_type": "stream",
     "text": [
      "Train Loss: 0.070, Train Acc: 0.467\r"
     ]
    },
    {
     "name": "stderr",
     "output_type": "stream",
     "text": [
      "Epoch 1/1:   3%|▎         | 18/563 [06:51<3:45:22, 24.81s/it]"
     ]
    },
    {
     "name": "stdout",
     "output_type": "stream",
     "text": [
      "Train Loss: 0.072, Train Acc: 0.469\r"
     ]
    },
    {
     "name": "stderr",
     "output_type": "stream",
     "text": [
      "Epoch 1/1:   3%|▎         | 19/563 [07:16<3:45:13, 24.84s/it]"
     ]
    },
    {
     "name": "stdout",
     "output_type": "stream",
     "text": [
      "Train Loss: 0.074, Train Acc: 0.470\r"
     ]
    },
    {
     "name": "stderr",
     "output_type": "stream",
     "text": [
      "Epoch 1/1:   4%|▎         | 20/563 [07:40<3:44:28, 24.80s/it]"
     ]
    },
    {
     "name": "stdout",
     "output_type": "stream",
     "text": [
      "Train Loss: 0.075, Train Acc: 0.478\r"
     ]
    },
    {
     "name": "stderr",
     "output_type": "stream",
     "text": [
      "Epoch 1/1:   4%|▎         | 21/563 [08:10<3:56:02, 26.13s/it]"
     ]
    },
    {
     "name": "stdout",
     "output_type": "stream",
     "text": [
      "Train Loss: 0.076, Train Acc: 0.479\r"
     ]
    },
    {
     "name": "stderr",
     "output_type": "stream",
     "text": [
      "Epoch 1/1:   4%|▍         | 22/563 [08:34<3:51:11, 25.64s/it]"
     ]
    },
    {
     "name": "stdout",
     "output_type": "stream",
     "text": [
      "Train Loss: 0.077, Train Acc: 0.477\r"
     ]
    },
    {
     "name": "stderr",
     "output_type": "stream",
     "text": [
      "Epoch 1/1:   4%|▍         | 23/563 [09:03<3:59:22, 26.60s/it]"
     ]
    },
    {
     "name": "stdout",
     "output_type": "stream",
     "text": [
      "Train Loss: 0.079, Train Acc: 0.467\r"
     ]
    },
    {
     "name": "stderr",
     "output_type": "stream",
     "text": [
      "Epoch 1/1:   4%|▍         | 24/563 [09:34<4:09:58, 27.83s/it]"
     ]
    },
    {
     "name": "stdout",
     "output_type": "stream",
     "text": [
      "Train Loss: 0.080, Train Acc: 0.466\r"
     ]
    },
    {
     "name": "stderr",
     "output_type": "stream",
     "text": [
      "Epoch 1/1:   4%|▍         | 25/563 [09:58<4:01:13, 26.90s/it]"
     ]
    },
    {
     "name": "stdout",
     "output_type": "stream",
     "text": [
      "Train Loss: 0.082, Train Acc: 0.475\r"
     ]
    },
    {
     "name": "stderr",
     "output_type": "stream",
     "text": [
      "Epoch 1/1:   5%|▍         | 26/563 [10:23<3:54:01, 26.15s/it]"
     ]
    },
    {
     "name": "stdout",
     "output_type": "stream",
     "text": [
      "Train Loss: 0.083, Train Acc: 0.486\r"
     ]
    },
    {
     "name": "stderr",
     "output_type": "stream",
     "text": [
      "Epoch 1/1:   5%|▍         | 27/563 [10:47<3:48:29, 25.58s/it]"
     ]
    },
    {
     "name": "stdout",
     "output_type": "stream",
     "text": [
      "Train Loss: 0.084, Train Acc: 0.493\r"
     ]
    },
    {
     "name": "stderr",
     "output_type": "stream",
     "text": [
      "Epoch 1/1:   5%|▍         | 28/563 [11:11<3:44:36, 25.19s/it]"
     ]
    },
    {
     "name": "stdout",
     "output_type": "stream",
     "text": [
      "Train Loss: 0.086, Train Acc: 0.498\r"
     ]
    },
    {
     "name": "stderr",
     "output_type": "stream",
     "text": [
      "Epoch 1/1:   5%|▌         | 29/563 [11:35<3:41:36, 24.90s/it]"
     ]
    },
    {
     "name": "stdout",
     "output_type": "stream",
     "text": [
      "Train Loss: 0.087, Train Acc: 0.498\r"
     ]
    },
    {
     "name": "stderr",
     "output_type": "stream",
     "text": [
      "Epoch 1/1:   5%|▌         | 30/563 [12:00<3:39:13, 24.68s/it]"
     ]
    },
    {
     "name": "stdout",
     "output_type": "stream",
     "text": [
      "Train Loss: 0.088, Train Acc: 0.502\r"
     ]
    },
    {
     "name": "stderr",
     "output_type": "stream",
     "text": [
      "Epoch 1/1:   6%|▌         | 31/563 [12:24<3:37:46, 24.56s/it]"
     ]
    },
    {
     "name": "stdout",
     "output_type": "stream",
     "text": [
      "Train Loss: 0.090, Train Acc: 0.506\r"
     ]
    },
    {
     "name": "stderr",
     "output_type": "stream",
     "text": [
      "Epoch 1/1:   6%|▌         | 32/563 [12:49<3:39:57, 24.85s/it]"
     ]
    },
    {
     "name": "stdout",
     "output_type": "stream",
     "text": [
      "Train Loss: 0.092, Train Acc: 0.498\r"
     ]
    },
    {
     "name": "stderr",
     "output_type": "stream",
     "text": [
      "Epoch 1/1:   6%|▌         | 33/563 [13:14<3:38:27, 24.73s/it]"
     ]
    },
    {
     "name": "stdout",
     "output_type": "stream",
     "text": [
      "Train Loss: 0.093, Train Acc: 0.504\r"
     ]
    },
    {
     "name": "stderr",
     "output_type": "stream",
     "text": [
      "Epoch 1/1:   6%|▌         | 34/563 [13:38<3:36:07, 24.51s/it]"
     ]
    },
    {
     "name": "stdout",
     "output_type": "stream",
     "text": [
      "Train Loss: 0.095, Train Acc: 0.509\r"
     ]
    },
    {
     "name": "stderr",
     "output_type": "stream",
     "text": [
      "Epoch 1/1:   6%|▌         | 35/563 [14:04<3:40:24, 25.05s/it]"
     ]
    },
    {
     "name": "stdout",
     "output_type": "stream",
     "text": [
      "Train Loss: 0.097, Train Acc: 0.516\r"
     ]
    },
    {
     "name": "stderr",
     "output_type": "stream",
     "text": [
      "Epoch 1/1:   6%|▋         | 36/563 [14:34<3:51:46, 26.39s/it]"
     ]
    },
    {
     "name": "stdout",
     "output_type": "stream",
     "text": [
      "Train Loss: 0.099, Train Acc: 0.519\r"
     ]
    },
    {
     "name": "stderr",
     "output_type": "stream",
     "text": [
      "Epoch 1/1:   7%|▋         | 37/563 [15:08<4:11:19, 28.67s/it]"
     ]
    },
    {
     "name": "stdout",
     "output_type": "stream",
     "text": [
      "Train Loss: 0.101, Train Acc: 0.520\r"
     ]
    },
    {
     "name": "stderr",
     "output_type": "stream",
     "text": [
      "Epoch 1/1:   7%|▋         | 38/563 [15:32<4:00:11, 27.45s/it]"
     ]
    },
    {
     "name": "stdout",
     "output_type": "stream",
     "text": [
      "Train Loss: 0.103, Train Acc: 0.516\r"
     ]
    },
    {
     "name": "stderr",
     "output_type": "stream",
     "text": [
      "Epoch 1/1:   7%|▋         | 39/563 [15:57<3:52:17, 26.60s/it]"
     ]
    },
    {
     "name": "stdout",
     "output_type": "stream",
     "text": [
      "Train Loss: 0.104, Train Acc: 0.522\r"
     ]
    },
    {
     "name": "stderr",
     "output_type": "stream",
     "text": [
      "Epoch 1/1:   7%|▋         | 40/563 [16:22<3:46:30, 25.99s/it]"
     ]
    },
    {
     "name": "stdout",
     "output_type": "stream",
     "text": [
      "Train Loss: 0.107, Train Acc: 0.520\r"
     ]
    },
    {
     "name": "stderr",
     "output_type": "stream",
     "text": [
      "Epoch 1/1:   7%|▋         | 41/563 [16:46<3:41:59, 25.52s/it]"
     ]
    },
    {
     "name": "stdout",
     "output_type": "stream",
     "text": [
      "Train Loss: 0.108, Train Acc: 0.514\r"
     ]
    },
    {
     "name": "stderr",
     "output_type": "stream",
     "text": [
      "Epoch 1/1:   7%|▋         | 42/563 [17:11<3:39:20, 25.26s/it]"
     ]
    },
    {
     "name": "stdout",
     "output_type": "stream",
     "text": [
      "Train Loss: 0.110, Train Acc: 0.516\r"
     ]
    },
    {
     "name": "stderr",
     "output_type": "stream",
     "text": [
      "Epoch 1/1:   8%|▊         | 43/563 [17:35<3:36:59, 25.04s/it]"
     ]
    },
    {
     "name": "stdout",
     "output_type": "stream",
     "text": [
      "Train Loss: 0.112, Train Acc: 0.520\r"
     ]
    },
    {
     "name": "stderr",
     "output_type": "stream",
     "text": [
      "Epoch 1/1:   8%|▊         | 44/563 [17:59<3:34:50, 24.84s/it]"
     ]
    },
    {
     "name": "stdout",
     "output_type": "stream",
     "text": [
      "Train Loss: 0.115, Train Acc: 0.523\r"
     ]
    },
    {
     "name": "stderr",
     "output_type": "stream",
     "text": [
      "Epoch 1/1:   8%|▊         | 45/563 [18:24<3:33:53, 24.77s/it]"
     ]
    },
    {
     "name": "stdout",
     "output_type": "stream",
     "text": [
      "Train Loss: 0.117, Train Acc: 0.528\r"
     ]
    },
    {
     "name": "stderr",
     "output_type": "stream",
     "text": [
      "Epoch 1/1:   8%|▊         | 46/563 [18:49<3:33:22, 24.76s/it]"
     ]
    },
    {
     "name": "stdout",
     "output_type": "stream",
     "text": [
      "Train Loss: 0.118, Train Acc: 0.530\r"
     ]
    },
    {
     "name": "stderr",
     "output_type": "stream",
     "text": [
      "Epoch 1/1:   8%|▊         | 47/563 [19:13<3:31:36, 24.61s/it]"
     ]
    },
    {
     "name": "stdout",
     "output_type": "stream",
     "text": [
      "Train Loss: 0.120, Train Acc: 0.529\r"
     ]
    },
    {
     "name": "stderr",
     "output_type": "stream",
     "text": [
      "Epoch 1/1:   9%|▊         | 48/563 [19:37<3:30:13, 24.49s/it]"
     ]
    },
    {
     "name": "stdout",
     "output_type": "stream",
     "text": [
      "Train Loss: 0.122, Train Acc: 0.529\r"
     ]
    },
    {
     "name": "stderr",
     "output_type": "stream",
     "text": [
      "Epoch 1/1:   9%|▊         | 49/563 [20:02<3:29:03, 24.40s/it]"
     ]
    },
    {
     "name": "stdout",
     "output_type": "stream",
     "text": [
      "Train Loss: 0.123, Train Acc: 0.528\r"
     ]
    },
    {
     "name": "stderr",
     "output_type": "stream",
     "text": [
      "Epoch 1/1:   9%|▉         | 50/563 [20:26<3:28:30, 24.39s/it]"
     ]
    },
    {
     "name": "stdout",
     "output_type": "stream",
     "text": [
      "Train Loss: 0.125, Train Acc: 0.530\r"
     ]
    },
    {
     "name": "stderr",
     "output_type": "stream",
     "text": [
      "Epoch 1/1:   9%|▉         | 51/563 [20:50<3:28:05, 24.39s/it]"
     ]
    },
    {
     "name": "stdout",
     "output_type": "stream",
     "text": [
      "Train Loss: 0.127, Train Acc: 0.532\r"
     ]
    },
    {
     "name": "stderr",
     "output_type": "stream",
     "text": [
      "Epoch 1/1:   9%|▉         | 52/563 [21:14<3:27:22, 24.35s/it]"
     ]
    },
    {
     "name": "stdout",
     "output_type": "stream",
     "text": [
      "Train Loss: 0.128, Train Acc: 0.536\r"
     ]
    },
    {
     "name": "stderr",
     "output_type": "stream",
     "text": [
      "Epoch 1/1:   9%|▉         | 53/563 [21:39<3:28:36, 24.54s/it]"
     ]
    },
    {
     "name": "stdout",
     "output_type": "stream",
     "text": [
      "Train Loss: 0.130, Train Acc: 0.537\r"
     ]
    },
    {
     "name": "stderr",
     "output_type": "stream",
     "text": [
      "Epoch 1/1:  10%|▉         | 54/563 [22:04<3:27:34, 24.47s/it]"
     ]
    },
    {
     "name": "stdout",
     "output_type": "stream",
     "text": [
      "Train Loss: 0.131, Train Acc: 0.536\r"
     ]
    },
    {
     "name": "stderr",
     "output_type": "stream",
     "text": [
      "Epoch 1/1:  10%|▉         | 55/563 [22:31<3:35:13, 25.42s/it]"
     ]
    },
    {
     "name": "stdout",
     "output_type": "stream",
     "text": [
      "Train Loss: 0.133, Train Acc: 0.533\r"
     ]
    },
    {
     "name": "stderr",
     "output_type": "stream",
     "text": [
      "Epoch 1/1:  10%|▉         | 56/563 [22:59<3:39:23, 25.96s/it]"
     ]
    },
    {
     "name": "stdout",
     "output_type": "stream",
     "text": [
      "Train Loss: 0.135, Train Acc: 0.533\r"
     ]
    },
    {
     "name": "stderr",
     "output_type": "stream",
     "text": [
      "Epoch 1/1:  10%|█         | 57/563 [23:23<3:35:48, 25.59s/it]"
     ]
    },
    {
     "name": "stdout",
     "output_type": "stream",
     "text": [
      "Train Loss: 0.136, Train Acc: 0.532\r"
     ]
    },
    {
     "name": "stderr",
     "output_type": "stream",
     "text": [
      "Epoch 1/1:  10%|█         | 58/563 [23:49<3:34:11, 25.45s/it]"
     ]
    },
    {
     "name": "stdout",
     "output_type": "stream",
     "text": [
      "Train Loss: 0.138, Train Acc: 0.533\r"
     ]
    },
    {
     "name": "stderr",
     "output_type": "stream",
     "text": [
      "Epoch 1/1:  10%|█         | 59/563 [24:13<3:31:37, 25.19s/it]"
     ]
    },
    {
     "name": "stdout",
     "output_type": "stream",
     "text": [
      "Train Loss: 0.139, Train Acc: 0.535\r"
     ]
    },
    {
     "name": "stderr",
     "output_type": "stream",
     "text": [
      "Epoch 1/1:  11%|█         | 60/563 [24:37<3:29:11, 24.95s/it]"
     ]
    },
    {
     "name": "stdout",
     "output_type": "stream",
     "text": [
      "Train Loss: 0.141, Train Acc: 0.532\r"
     ]
    },
    {
     "name": "stderr",
     "output_type": "stream",
     "text": [
      "Epoch 1/1:  11%|█         | 61/563 [25:03<3:29:09, 25.00s/it]"
     ]
    },
    {
     "name": "stdout",
     "output_type": "stream",
     "text": [
      "Train Loss: 0.142, Train Acc: 0.531\r"
     ]
    },
    {
     "name": "stderr",
     "output_type": "stream",
     "text": [
      "Epoch 1/1:  11%|█         | 62/563 [25:27<3:27:38, 24.87s/it]"
     ]
    },
    {
     "name": "stdout",
     "output_type": "stream",
     "text": [
      "Train Loss: 0.144, Train Acc: 0.527\r"
     ]
    },
    {
     "name": "stderr",
     "output_type": "stream",
     "text": [
      "Epoch 1/1:  11%|█         | 63/563 [25:52<3:26:35, 24.79s/it]"
     ]
    },
    {
     "name": "stdout",
     "output_type": "stream",
     "text": [
      "Train Loss: 0.144, Train Acc: 0.530\r"
     ]
    },
    {
     "name": "stderr",
     "output_type": "stream",
     "text": [
      "Epoch 1/1:  11%|█▏        | 64/563 [26:17<3:26:36, 24.84s/it]"
     ]
    },
    {
     "name": "stdout",
     "output_type": "stream",
     "text": [
      "Train Loss: 0.146, Train Acc: 0.533\r"
     ]
    },
    {
     "name": "stderr",
     "output_type": "stream",
     "text": [
      "Epoch 1/1:  12%|█▏        | 65/563 [26:41<3:25:48, 24.80s/it]"
     ]
    },
    {
     "name": "stdout",
     "output_type": "stream",
     "text": [
      "Train Loss: 0.149, Train Acc: 0.532\r"
     ]
    },
    {
     "name": "stderr",
     "output_type": "stream",
     "text": [
      "Epoch 1/1:  12%|█▏        | 66/563 [27:06<3:25:17, 24.78s/it]"
     ]
    },
    {
     "name": "stdout",
     "output_type": "stream",
     "text": [
      "Train Loss: 0.151, Train Acc: 0.531\r"
     ]
    },
    {
     "name": "stderr",
     "output_type": "stream",
     "text": [
      "Epoch 1/1:  12%|█▏        | 67/563 [27:31<3:24:43, 24.76s/it]"
     ]
    },
    {
     "name": "stdout",
     "output_type": "stream",
     "text": [
      "Train Loss: 0.152, Train Acc: 0.531\r"
     ]
    },
    {
     "name": "stderr",
     "output_type": "stream",
     "text": [
      "Epoch 1/1:  12%|█▏        | 68/563 [27:56<3:25:36, 24.92s/it]"
     ]
    },
    {
     "name": "stdout",
     "output_type": "stream",
     "text": [
      "Train Loss: 0.155, Train Acc: 0.530\r"
     ]
    },
    {
     "name": "stderr",
     "output_type": "stream",
     "text": [
      "Epoch 1/1:  12%|█▏        | 69/563 [28:22<3:27:47, 25.24s/it]"
     ]
    },
    {
     "name": "stdout",
     "output_type": "stream",
     "text": [
      "Train Loss: 0.156, Train Acc: 0.530\r"
     ]
    },
    {
     "name": "stderr",
     "output_type": "stream",
     "text": [
      "Epoch 1/1:  12%|█▏        | 70/563 [28:47<3:26:34, 25.14s/it]"
     ]
    },
    {
     "name": "stdout",
     "output_type": "stream",
     "text": [
      "Train Loss: 0.158, Train Acc: 0.532\r"
     ]
    },
    {
     "name": "stderr",
     "output_type": "stream",
     "text": [
      "Epoch 1/1:  13%|█▎        | 71/563 [29:12<3:24:50, 24.98s/it]"
     ]
    },
    {
     "name": "stdout",
     "output_type": "stream",
     "text": [
      "Train Loss: 0.161, Train Acc: 0.530\r"
     ]
    },
    {
     "name": "stderr",
     "output_type": "stream",
     "text": [
      "Epoch 1/1:  13%|█▎        | 72/563 [29:36<3:23:59, 24.93s/it]"
     ]
    },
    {
     "name": "stdout",
     "output_type": "stream",
     "text": [
      "Train Loss: 0.165, Train Acc: 0.527\r"
     ]
    },
    {
     "name": "stderr",
     "output_type": "stream",
     "text": [
      "Epoch 1/1:  13%|█▎        | 73/563 [30:01<3:23:14, 24.89s/it]"
     ]
    },
    {
     "name": "stdout",
     "output_type": "stream",
     "text": [
      "Train Loss: 0.167, Train Acc: 0.527\r"
     ]
    },
    {
     "name": "stderr",
     "output_type": "stream",
     "text": [
      "Epoch 1/1:  13%|█▎        | 74/563 [30:26<3:23:25, 24.96s/it]"
     ]
    },
    {
     "name": "stdout",
     "output_type": "stream",
     "text": [
      "Train Loss: 0.171, Train Acc: 0.523\r"
     ]
    },
    {
     "name": "stderr",
     "output_type": "stream",
     "text": [
      "Epoch 1/1:  13%|█▎        | 75/563 [30:51<3:22:55, 24.95s/it]"
     ]
    },
    {
     "name": "stdout",
     "output_type": "stream",
     "text": [
      "Train Loss: 0.173, Train Acc: 0.522\r"
     ]
    },
    {
     "name": "stderr",
     "output_type": "stream",
     "text": [
      "Epoch 1/1:  13%|█▎        | 76/563 [31:16<3:22:21, 24.93s/it]"
     ]
    },
    {
     "name": "stdout",
     "output_type": "stream",
     "text": [
      "Train Loss: 0.174, Train Acc: 0.525\r"
     ]
    },
    {
     "name": "stderr",
     "output_type": "stream",
     "text": [
      "Epoch 1/1:  14%|█▎        | 77/563 [31:41<3:22:08, 24.96s/it]"
     ]
    },
    {
     "name": "stdout",
     "output_type": "stream",
     "text": [
      "Train Loss: 0.178, Train Acc: 0.524\r"
     ]
    },
    {
     "name": "stderr",
     "output_type": "stream",
     "text": [
      "Epoch 1/1:  14%|█▍        | 78/563 [32:06<3:22:00, 24.99s/it]"
     ]
    },
    {
     "name": "stdout",
     "output_type": "stream",
     "text": [
      "Train Loss: 0.182, Train Acc: 0.524\r"
     ]
    },
    {
     "name": "stderr",
     "output_type": "stream",
     "text": [
      "Epoch 1/1:  14%|█▍        | 79/563 [32:31<3:21:32, 24.98s/it]"
     ]
    },
    {
     "name": "stdout",
     "output_type": "stream",
     "text": [
      "Train Loss: 0.184, Train Acc: 0.524\r"
     ]
    },
    {
     "name": "stderr",
     "output_type": "stream",
     "text": [
      "Epoch 1/1:  14%|█▍        | 80/563 [32:56<3:21:39, 25.05s/it]"
     ]
    },
    {
     "name": "stdout",
     "output_type": "stream",
     "text": [
      "Train Loss: 0.186, Train Acc: 0.523\r"
     ]
    },
    {
     "name": "stderr",
     "output_type": "stream",
     "text": [
      "Epoch 1/1:  14%|█▍        | 81/563 [33:21<3:20:52, 25.01s/it]"
     ]
    },
    {
     "name": "stdout",
     "output_type": "stream",
     "text": [
      "Train Loss: 0.188, Train Acc: 0.522\r"
     ]
    },
    {
     "name": "stderr",
     "output_type": "stream",
     "text": [
      "Epoch 1/1:  15%|█▍        | 82/563 [33:46<3:20:23, 25.00s/it]"
     ]
    },
    {
     "name": "stdout",
     "output_type": "stream",
     "text": [
      "Train Loss: 0.191, Train Acc: 0.521\r"
     ]
    },
    {
     "name": "stderr",
     "output_type": "stream",
     "text": [
      "Epoch 1/1:  15%|█▍        | 83/563 [34:11<3:20:11, 25.02s/it]"
     ]
    },
    {
     "name": "stdout",
     "output_type": "stream",
     "text": [
      "Train Loss: 0.192, Train Acc: 0.523\r"
     ]
    },
    {
     "name": "stderr",
     "output_type": "stream",
     "text": [
      "Epoch 1/1:  15%|█▍        | 84/563 [34:36<3:19:20, 24.97s/it]"
     ]
    },
    {
     "name": "stdout",
     "output_type": "stream",
     "text": [
      "Train Loss: 0.195, Train Acc: 0.523\r"
     ]
    },
    {
     "name": "stderr",
     "output_type": "stream",
     "text": [
      "Epoch 1/1:  15%|█▌        | 85/563 [35:01<3:18:45, 24.95s/it]"
     ]
    },
    {
     "name": "stdout",
     "output_type": "stream",
     "text": [
      "Train Loss: 0.198, Train Acc: 0.523\r"
     ]
    },
    {
     "name": "stderr",
     "output_type": "stream",
     "text": [
      "Epoch 1/1:  15%|█▌        | 86/563 [35:27<3:20:37, 25.24s/it]"
     ]
    },
    {
     "name": "stdout",
     "output_type": "stream",
     "text": [
      "Train Loss: 0.199, Train Acc: 0.523\r"
     ]
    },
    {
     "name": "stderr",
     "output_type": "stream",
     "text": [
      "Epoch 1/1:  15%|█▌        | 87/563 [35:52<3:19:39, 25.17s/it]"
     ]
    },
    {
     "name": "stdout",
     "output_type": "stream",
     "text": [
      "Train Loss: 0.201, Train Acc: 0.522\r"
     ]
    },
    {
     "name": "stderr",
     "output_type": "stream",
     "text": [
      "Epoch 1/1:  16%|█▌        | 88/563 [36:17<3:19:16, 25.17s/it]"
     ]
    },
    {
     "name": "stdout",
     "output_type": "stream",
     "text": [
      "Train Loss: 0.204, Train Acc: 0.520\r"
     ]
    },
    {
     "name": "stderr",
     "output_type": "stream",
     "text": [
      "Epoch 1/1:  16%|█▌        | 89/563 [36:42<3:18:26, 25.12s/it]"
     ]
    },
    {
     "name": "stdout",
     "output_type": "stream",
     "text": [
      "Train Loss: 0.206, Train Acc: 0.520\r"
     ]
    },
    {
     "name": "stderr",
     "output_type": "stream",
     "text": [
      "Epoch 1/1:  16%|█▌        | 90/563 [37:07<3:18:10, 25.14s/it]"
     ]
    },
    {
     "name": "stdout",
     "output_type": "stream",
     "text": [
      "Train Loss: 0.207, Train Acc: 0.521\r"
     ]
    },
    {
     "name": "stderr",
     "output_type": "stream",
     "text": [
      "Epoch 1/1:  16%|█▌        | 91/563 [37:32<3:17:10, 25.07s/it]"
     ]
    },
    {
     "name": "stdout",
     "output_type": "stream",
     "text": [
      "Train Loss: 0.209, Train Acc: 0.521\r"
     ]
    },
    {
     "name": "stderr",
     "output_type": "stream",
     "text": [
      "Epoch 1/1:  16%|█▋        | 92/563 [37:57<3:15:59, 24.97s/it]"
     ]
    },
    {
     "name": "stdout",
     "output_type": "stream",
     "text": [
      "Train Loss: 0.211, Train Acc: 0.521\r"
     ]
    },
    {
     "name": "stderr",
     "output_type": "stream",
     "text": [
      "Epoch 1/1:  17%|█▋        | 93/563 [38:22<3:15:54, 25.01s/it]"
     ]
    },
    {
     "name": "stdout",
     "output_type": "stream",
     "text": [
      "Train Loss: 0.212, Train Acc: 0.519\r"
     ]
    },
    {
     "name": "stderr",
     "output_type": "stream",
     "text": [
      "Epoch 1/1:  17%|█▋        | 94/563 [38:47<3:15:45, 25.04s/it]"
     ]
    },
    {
     "name": "stdout",
     "output_type": "stream",
     "text": [
      "Train Loss: 0.214, Train Acc: 0.519\r"
     ]
    },
    {
     "name": "stderr",
     "output_type": "stream",
     "text": [
      "Epoch 1/1:  17%|█▋        | 95/563 [39:12<3:15:02, 25.01s/it]"
     ]
    },
    {
     "name": "stdout",
     "output_type": "stream",
     "text": [
      "Train Loss: 0.215, Train Acc: 0.519\r"
     ]
    },
    {
     "name": "stderr",
     "output_type": "stream",
     "text": [
      "Epoch 1/1:  17%|█▋        | 96/563 [39:37<3:14:28, 24.99s/it]"
     ]
    },
    {
     "name": "stdout",
     "output_type": "stream",
     "text": [
      "Train Loss: 0.216, Train Acc: 0.520\r"
     ]
    },
    {
     "name": "stderr",
     "output_type": "stream",
     "text": [
      "Epoch 1/1:  17%|█▋        | 97/563 [40:02<3:14:33, 25.05s/it]"
     ]
    },
    {
     "name": "stdout",
     "output_type": "stream",
     "text": [
      "Train Loss: 0.218, Train Acc: 0.522\r"
     ]
    },
    {
     "name": "stderr",
     "output_type": "stream",
     "text": [
      "Epoch 1/1:  17%|█▋        | 98/563 [40:29<3:16:57, 25.41s/it]"
     ]
    },
    {
     "name": "stdout",
     "output_type": "stream",
     "text": [
      "Train Loss: 0.220, Train Acc: 0.524\r"
     ]
    },
    {
     "name": "stderr",
     "output_type": "stream",
     "text": [
      "Epoch 1/1:  18%|█▊        | 99/563 [40:54<3:15:56, 25.34s/it]"
     ]
    },
    {
     "name": "stdout",
     "output_type": "stream",
     "text": [
      "Train Loss: 0.224, Train Acc: 0.521\r"
     ]
    },
    {
     "name": "stderr",
     "output_type": "stream",
     "text": [
      "Epoch 1/1:  18%|█▊        | 100/563 [41:19<3:15:21, 25.32s/it]"
     ]
    },
    {
     "name": "stdout",
     "output_type": "stream",
     "text": [
      "Train Loss: 0.225, Train Acc: 0.521\r"
     ]
    },
    {
     "name": "stderr",
     "output_type": "stream",
     "text": [
      "Epoch 1/1:  18%|█▊        | 101/563 [41:45<3:15:26, 25.38s/it]"
     ]
    },
    {
     "name": "stdout",
     "output_type": "stream",
     "text": [
      "Train Loss: 0.228, Train Acc: 0.520\r"
     ]
    },
    {
     "name": "stderr",
     "output_type": "stream",
     "text": [
      "Epoch 1/1:  18%|█▊        | 102/563 [42:10<3:14:43, 25.34s/it]"
     ]
    },
    {
     "name": "stdout",
     "output_type": "stream",
     "text": [
      "Train Loss: 0.231, Train Acc: 0.521\r"
     ]
    },
    {
     "name": "stderr",
     "output_type": "stream",
     "text": [
      "Epoch 1/1:  18%|█▊        | 103/563 [42:35<3:13:49, 25.28s/it]"
     ]
    },
    {
     "name": "stdout",
     "output_type": "stream",
     "text": [
      "Train Loss: 0.234, Train Acc: 0.521\r"
     ]
    },
    {
     "name": "stderr",
     "output_type": "stream",
     "text": [
      "Epoch 1/1:  18%|█▊        | 104/563 [43:00<3:13:40, 25.32s/it]"
     ]
    },
    {
     "name": "stdout",
     "output_type": "stream",
     "text": [
      "Train Loss: 0.235, Train Acc: 0.519\r"
     ]
    },
    {
     "name": "stderr",
     "output_type": "stream",
     "text": [
      "Epoch 1/1:  19%|█▊        | 105/563 [43:26<3:14:15, 25.45s/it]"
     ]
    },
    {
     "name": "stdout",
     "output_type": "stream",
     "text": [
      "Train Loss: 0.239, Train Acc: 0.519\r"
     ]
    },
    {
     "name": "stderr",
     "output_type": "stream",
     "text": [
      "Epoch 1/1:  19%|█▉        | 106/563 [43:52<3:13:46, 25.44s/it]"
     ]
    },
    {
     "name": "stdout",
     "output_type": "stream",
     "text": [
      "Train Loss: 0.244, Train Acc: 0.519\r"
     ]
    },
    {
     "name": "stderr",
     "output_type": "stream",
     "text": [
      "Epoch 1/1:  19%|█▉        | 107/563 [44:17<3:13:28, 25.46s/it]"
     ]
    },
    {
     "name": "stdout",
     "output_type": "stream",
     "text": [
      "Train Loss: 0.249, Train Acc: 0.519\r"
     ]
    },
    {
     "name": "stderr",
     "output_type": "stream",
     "text": [
      "Epoch 1/1:  19%|█▉        | 108/563 [44:42<3:12:26, 25.38s/it]"
     ]
    },
    {
     "name": "stdout",
     "output_type": "stream",
     "text": [
      "Train Loss: 0.250, Train Acc: 0.520\r"
     ]
    },
    {
     "name": "stderr",
     "output_type": "stream",
     "text": [
      "Epoch 1/1:  19%|█▉        | 109/563 [45:08<3:13:13, 25.54s/it]"
     ]
    },
    {
     "name": "stdout",
     "output_type": "stream",
     "text": [
      "Train Loss: 0.252, Train Acc: 0.519\r"
     ]
    },
    {
     "name": "stderr",
     "output_type": "stream",
     "text": [
      "Epoch 1/1:  20%|█▉        | 110/563 [45:34<3:12:24, 25.48s/it]"
     ]
    },
    {
     "name": "stdout",
     "output_type": "stream",
     "text": [
      "Train Loss: 0.255, Train Acc: 0.519\r"
     ]
    },
    {
     "name": "stderr",
     "output_type": "stream",
     "text": [
      "Epoch 1/1:  20%|█▉        | 111/563 [45:59<3:11:52, 25.47s/it]"
     ]
    },
    {
     "name": "stdout",
     "output_type": "stream",
     "text": [
      "Train Loss: 0.258, Train Acc: 0.517\r"
     ]
    },
    {
     "name": "stderr",
     "output_type": "stream",
     "text": [
      "Epoch 1/1:  20%|█▉        | 112/563 [46:25<3:12:05, 25.56s/it]"
     ]
    },
    {
     "name": "stdout",
     "output_type": "stream",
     "text": [
      "Train Loss: 0.259, Train Acc: 0.519\r"
     ]
    },
    {
     "name": "stderr",
     "output_type": "stream",
     "text": [
      "Epoch 1/1:  20%|██        | 113/563 [46:50<3:11:27, 25.53s/it]"
     ]
    },
    {
     "name": "stdout",
     "output_type": "stream",
     "text": [
      "Train Loss: 0.263, Train Acc: 0.518\r"
     ]
    },
    {
     "name": "stderr",
     "output_type": "stream",
     "text": [
      "Epoch 1/1:  20%|██        | 114/563 [47:16<3:10:40, 25.48s/it]"
     ]
    },
    {
     "name": "stdout",
     "output_type": "stream",
     "text": [
      "Train Loss: 0.267, Train Acc: 0.517\r"
     ]
    },
    {
     "name": "stderr",
     "output_type": "stream",
     "text": [
      "Epoch 1/1:  20%|██        | 115/563 [47:41<3:09:58, 25.44s/it]"
     ]
    },
    {
     "name": "stdout",
     "output_type": "stream",
     "text": [
      "Train Loss: 0.269, Train Acc: 0.517\r"
     ]
    },
    {
     "name": "stderr",
     "output_type": "stream",
     "text": [
      "Epoch 1/1:  21%|██        | 116/563 [48:07<3:10:04, 25.51s/it]"
     ]
    },
    {
     "name": "stdout",
     "output_type": "stream",
     "text": [
      "Train Loss: 0.271, Train Acc: 0.516\r"
     ]
    },
    {
     "name": "stderr",
     "output_type": "stream",
     "text": [
      "Epoch 1/1:  21%|██        | 117/563 [48:32<3:09:40, 25.52s/it]"
     ]
    },
    {
     "name": "stdout",
     "output_type": "stream",
     "text": [
      "Train Loss: 0.273, Train Acc: 0.516\r"
     ]
    },
    {
     "name": "stderr",
     "output_type": "stream",
     "text": [
      "Epoch 1/1:  21%|██        | 118/563 [48:58<3:11:02, 25.76s/it]"
     ]
    },
    {
     "name": "stdout",
     "output_type": "stream",
     "text": [
      "Train Loss: 0.274, Train Acc: 0.517\r"
     ]
    },
    {
     "name": "stderr",
     "output_type": "stream",
     "text": [
      "Epoch 1/1:  21%|██        | 119/563 [49:24<3:11:11, 25.84s/it]"
     ]
    },
    {
     "name": "stdout",
     "output_type": "stream",
     "text": [
      "Train Loss: 0.276, Train Acc: 0.516\r"
     ]
    },
    {
     "name": "stderr",
     "output_type": "stream",
     "text": [
      "Epoch 1/1:  21%|██▏       | 120/563 [49:50<3:09:55, 25.72s/it]"
     ]
    },
    {
     "name": "stdout",
     "output_type": "stream",
     "text": [
      "Train Loss: 0.277, Train Acc: 0.516\r"
     ]
    },
    {
     "name": "stderr",
     "output_type": "stream",
     "text": [
      "Epoch 1/1:  21%|██▏       | 121/563 [50:16<3:09:27, 25.72s/it]"
     ]
    },
    {
     "name": "stdout",
     "output_type": "stream",
     "text": [
      "Train Loss: 0.279, Train Acc: 0.517\r"
     ]
    },
    {
     "name": "stderr",
     "output_type": "stream",
     "text": [
      "Epoch 1/1:  22%|██▏       | 122/563 [50:41<3:08:47, 25.69s/it]"
     ]
    },
    {
     "name": "stdout",
     "output_type": "stream",
     "text": [
      "Train Loss: 0.281, Train Acc: 0.516\r"
     ]
    },
    {
     "name": "stderr",
     "output_type": "stream",
     "text": [
      "Epoch 1/1:  22%|██▏       | 123/563 [51:07<3:08:24, 25.69s/it]"
     ]
    },
    {
     "name": "stdout",
     "output_type": "stream",
     "text": [
      "Train Loss: 0.282, Train Acc: 0.517\r"
     ]
    },
    {
     "name": "stderr",
     "output_type": "stream",
     "text": [
      "Epoch 1/1:  22%|██▏       | 124/563 [51:32<3:06:47, 25.53s/it]"
     ]
    },
    {
     "name": "stdout",
     "output_type": "stream",
     "text": [
      "Train Loss: 0.284, Train Acc: 0.516\r"
     ]
    },
    {
     "name": "stderr",
     "output_type": "stream",
     "text": [
      "Epoch 1/1:  22%|██▏       | 125/563 [51:58<3:07:10, 25.64s/it]"
     ]
    },
    {
     "name": "stdout",
     "output_type": "stream",
     "text": [
      "Train Loss: 0.285, Train Acc: 0.515\r"
     ]
    },
    {
     "name": "stderr",
     "output_type": "stream",
     "text": [
      "Epoch 1/1:  22%|██▏       | 126/563 [52:23<3:06:15, 25.57s/it]"
     ]
    },
    {
     "name": "stdout",
     "output_type": "stream",
     "text": [
      "Train Loss: 0.286, Train Acc: 0.517\r"
     ]
    },
    {
     "name": "stderr",
     "output_type": "stream",
     "text": [
      "Epoch 1/1:  23%|██▎       | 127/563 [52:54<3:15:54, 26.96s/it]"
     ]
    },
    {
     "name": "stdout",
     "output_type": "stream",
     "text": [
      "Train Loss: 0.288, Train Acc: 0.518\r"
     ]
    },
    {
     "name": "stderr",
     "output_type": "stream",
     "text": [
      "Epoch 1/1:  23%|██▎       | 128/563 [53:22<3:18:46, 27.42s/it]"
     ]
    },
    {
     "name": "stdout",
     "output_type": "stream",
     "text": [
      "Train Loss: 0.290, Train Acc: 0.519\r"
     ]
    },
    {
     "name": "stderr",
     "output_type": "stream",
     "text": [
      "Epoch 1/1:  23%|██▎       | 129/563 [53:48<3:15:05, 26.97s/it]"
     ]
    },
    {
     "name": "stdout",
     "output_type": "stream",
     "text": [
      "Train Loss: 0.292, Train Acc: 0.517\r"
     ]
    },
    {
     "name": "stderr",
     "output_type": "stream",
     "text": [
      "Epoch 1/1:  23%|██▎       | 130/563 [54:14<3:12:33, 26.68s/it]"
     ]
    },
    {
     "name": "stdout",
     "output_type": "stream",
     "text": [
      "Train Loss: 0.295, Train Acc: 0.515\r"
     ]
    },
    {
     "name": "stderr",
     "output_type": "stream",
     "text": [
      "Epoch 1/1:  23%|██▎       | 131/563 [54:40<3:09:58, 26.38s/it]"
     ]
    },
    {
     "name": "stdout",
     "output_type": "stream",
     "text": [
      "Train Loss: 0.297, Train Acc: 0.515\r"
     ]
    },
    {
     "name": "stderr",
     "output_type": "stream",
     "text": [
      "Epoch 1/1:  23%|██▎       | 132/563 [55:06<3:08:40, 26.27s/it]"
     ]
    },
    {
     "name": "stdout",
     "output_type": "stream",
     "text": [
      "Train Loss: 0.298, Train Acc: 0.514\r"
     ]
    },
    {
     "name": "stderr",
     "output_type": "stream",
     "text": [
      "Epoch 1/1:  24%|██▎       | 133/563 [55:32<3:07:17, 26.13s/it]"
     ]
    },
    {
     "name": "stdout",
     "output_type": "stream",
     "text": [
      "Train Loss: 0.301, Train Acc: 0.514\r"
     ]
    },
    {
     "name": "stderr",
     "output_type": "stream",
     "text": [
      "Epoch 1/1:  24%|██▍       | 134/563 [55:58<3:08:12, 26.32s/it]"
     ]
    },
    {
     "name": "stdout",
     "output_type": "stream",
     "text": [
      "Train Loss: 0.304, Train Acc: 0.512\r"
     ]
    },
    {
     "name": "stderr",
     "output_type": "stream",
     "text": [
      "Epoch 1/1:  24%|██▍       | 135/563 [56:24<3:06:11, 26.10s/it]"
     ]
    },
    {
     "name": "stdout",
     "output_type": "stream",
     "text": [
      "Train Loss: 0.306, Train Acc: 0.511\r"
     ]
    },
    {
     "name": "stderr",
     "output_type": "stream",
     "text": [
      "Epoch 1/1:  24%|██▍       | 136/563 [56:49<3:04:37, 25.94s/it]"
     ]
    },
    {
     "name": "stdout",
     "output_type": "stream",
     "text": [
      "Train Loss: 0.307, Train Acc: 0.510\r"
     ]
    },
    {
     "name": "stderr",
     "output_type": "stream",
     "text": [
      "Epoch 1/1:  24%|██▍       | 137/563 [57:15<3:03:26, 25.84s/it]"
     ]
    },
    {
     "name": "stdout",
     "output_type": "stream",
     "text": [
      "Train Loss: 0.309, Train Acc: 0.510\r"
     ]
    },
    {
     "name": "stderr",
     "output_type": "stream",
     "text": [
      "Epoch 1/1:  25%|██▍       | 138/563 [57:41<3:02:42, 25.79s/it]"
     ]
    },
    {
     "name": "stdout",
     "output_type": "stream",
     "text": [
      "Train Loss: 0.310, Train Acc: 0.510\r"
     ]
    },
    {
     "name": "stderr",
     "output_type": "stream",
     "text": [
      "Epoch 1/1:  25%|██▍       | 139/563 [58:07<3:02:22, 25.81s/it]"
     ]
    },
    {
     "name": "stdout",
     "output_type": "stream",
     "text": [
      "Train Loss: 0.311, Train Acc: 0.510\r"
     ]
    },
    {
     "name": "stderr",
     "output_type": "stream",
     "text": [
      "Epoch 1/1:  25%|██▍       | 140/563 [58:33<3:02:13, 25.85s/it]"
     ]
    },
    {
     "name": "stdout",
     "output_type": "stream",
     "text": [
      "Train Loss: 0.312, Train Acc: 0.512\r"
     ]
    },
    {
     "name": "stderr",
     "output_type": "stream",
     "text": [
      "Epoch 1/1:  25%|██▌       | 141/563 [58:59<3:02:53, 26.00s/it]"
     ]
    },
    {
     "name": "stdout",
     "output_type": "stream",
     "text": [
      "Train Loss: 0.314, Train Acc: 0.512\r"
     ]
    },
    {
     "name": "stderr",
     "output_type": "stream",
     "text": [
      "Epoch 1/1:  25%|██▌       | 142/563 [59:25<3:02:32, 26.02s/it]"
     ]
    },
    {
     "name": "stdout",
     "output_type": "stream",
     "text": [
      "Train Loss: 0.315, Train Acc: 0.511\r"
     ]
    },
    {
     "name": "stderr",
     "output_type": "stream",
     "text": [
      "Epoch 1/1:  25%|██▌       | 143/563 [59:51<3:02:13, 26.03s/it]"
     ]
    },
    {
     "name": "stdout",
     "output_type": "stream",
     "text": [
      "Train Loss: 0.316, Train Acc: 0.511\r"
     ]
    },
    {
     "name": "stderr",
     "output_type": "stream",
     "text": [
      "Epoch 1/1:  26%|██▌       | 144/563 [1:00:16<3:00:41, 25.88s/it]"
     ]
    },
    {
     "name": "stdout",
     "output_type": "stream",
     "text": [
      "Train Loss: 0.317, Train Acc: 0.513\r"
     ]
    },
    {
     "name": "stderr",
     "output_type": "stream",
     "text": [
      "Epoch 1/1:  26%|██▌       | 145/563 [1:00:42<3:00:22, 25.89s/it]"
     ]
    },
    {
     "name": "stdout",
     "output_type": "stream",
     "text": [
      "Train Loss: 0.318, Train Acc: 0.516\r"
     ]
    },
    {
     "name": "stderr",
     "output_type": "stream",
     "text": [
      "Epoch 1/1:  26%|██▌       | 146/563 [1:01:08<3:00:13, 25.93s/it]"
     ]
    },
    {
     "name": "stdout",
     "output_type": "stream",
     "text": [
      "Train Loss: 0.320, Train Acc: 0.517\r"
     ]
    },
    {
     "name": "stderr",
     "output_type": "stream",
     "text": [
      "Epoch 1/1:  26%|██▌       | 147/563 [1:01:34<2:59:19, 25.86s/it]"
     ]
    },
    {
     "name": "stdout",
     "output_type": "stream",
     "text": [
      "Train Loss: 0.322, Train Acc: 0.517\r"
     ]
    },
    {
     "name": "stderr",
     "output_type": "stream",
     "text": [
      "Epoch 1/1:  26%|██▋       | 148/563 [1:02:01<3:00:47, 26.14s/it]"
     ]
    },
    {
     "name": "stdout",
     "output_type": "stream",
     "text": [
      "Train Loss: 0.323, Train Acc: 0.517\r"
     ]
    },
    {
     "name": "stderr",
     "output_type": "stream",
     "text": [
      "Epoch 1/1:  26%|██▋       | 149/563 [1:02:27<3:00:31, 26.16s/it]"
     ]
    },
    {
     "name": "stdout",
     "output_type": "stream",
     "text": [
      "Train Loss: 0.324, Train Acc: 0.517\r"
     ]
    },
    {
     "name": "stderr",
     "output_type": "stream",
     "text": [
      "Epoch 1/1:  27%|██▋       | 150/563 [1:02:53<3:00:06, 26.17s/it]"
     ]
    },
    {
     "name": "stdout",
     "output_type": "stream",
     "text": [
      "Train Loss: 0.327, Train Acc: 0.516\r"
     ]
    },
    {
     "name": "stderr",
     "output_type": "stream",
     "text": [
      "Epoch 1/1:  27%|██▋       | 151/563 [1:03:19<2:59:31, 26.15s/it]"
     ]
    },
    {
     "name": "stdout",
     "output_type": "stream",
     "text": [
      "Train Loss: 0.328, Train Acc: 0.515\r"
     ]
    },
    {
     "name": "stderr",
     "output_type": "stream",
     "text": [
      "Epoch 1/1:  27%|██▋       | 152/563 [1:03:45<2:58:38, 26.08s/it]"
     ]
    },
    {
     "name": "stdout",
     "output_type": "stream",
     "text": [
      "Train Loss: 0.330, Train Acc: 0.515\r"
     ]
    },
    {
     "name": "stderr",
     "output_type": "stream",
     "text": [
      "Epoch 1/1:  27%|██▋       | 153/563 [1:04:11<2:58:06, 26.07s/it]"
     ]
    },
    {
     "name": "stdout",
     "output_type": "stream",
     "text": [
      "Train Loss: 0.333, Train Acc: 0.514\r"
     ]
    },
    {
     "name": "stderr",
     "output_type": "stream",
     "text": [
      "Epoch 1/1:  27%|██▋       | 154/563 [1:04:38<2:59:38, 26.35s/it]"
     ]
    },
    {
     "name": "stdout",
     "output_type": "stream",
     "text": [
      "Train Loss: 0.334, Train Acc: 0.515\r"
     ]
    },
    {
     "name": "stderr",
     "output_type": "stream",
     "text": [
      "Epoch 1/1:  28%|██▊       | 155/563 [1:05:04<2:58:14, 26.21s/it]"
     ]
    },
    {
     "name": "stdout",
     "output_type": "stream",
     "text": [
      "Train Loss: 0.336, Train Acc: 0.515\r"
     ]
    },
    {
     "name": "stderr",
     "output_type": "stream",
     "text": [
      "Epoch 1/1:  28%|██▊       | 156/563 [1:05:30<2:57:24, 26.15s/it]"
     ]
    },
    {
     "name": "stdout",
     "output_type": "stream",
     "text": [
      "Train Loss: 0.338, Train Acc: 0.514\r"
     ]
    },
    {
     "name": "stderr",
     "output_type": "stream",
     "text": [
      "Epoch 1/1:  28%|██▊       | 157/563 [1:05:57<2:57:03, 26.17s/it]"
     ]
    },
    {
     "name": "stdout",
     "output_type": "stream",
     "text": [
      "Train Loss: 0.339, Train Acc: 0.516\r"
     ]
    },
    {
     "name": "stderr",
     "output_type": "stream",
     "text": [
      "Epoch 1/1:  28%|██▊       | 158/563 [1:06:23<2:56:43, 26.18s/it]"
     ]
    },
    {
     "name": "stdout",
     "output_type": "stream",
     "text": [
      "Train Loss: 0.341, Train Acc: 0.516\r"
     ]
    },
    {
     "name": "stderr",
     "output_type": "stream",
     "text": [
      "Epoch 1/1:  28%|██▊       | 159/563 [1:06:49<2:55:49, 26.11s/it]"
     ]
    },
    {
     "name": "stdout",
     "output_type": "stream",
     "text": [
      "Train Loss: 0.342, Train Acc: 0.516\r"
     ]
    },
    {
     "name": "stderr",
     "output_type": "stream",
     "text": [
      "Epoch 1/1:  28%|██▊       | 160/563 [1:07:16<2:57:10, 26.38s/it]"
     ]
    },
    {
     "name": "stdout",
     "output_type": "stream",
     "text": [
      "Train Loss: 0.344, Train Acc: 0.516\r"
     ]
    },
    {
     "name": "stderr",
     "output_type": "stream",
     "text": [
      "Epoch 1/1:  29%|██▊       | 161/563 [1:07:41<2:55:34, 26.20s/it]"
     ]
    },
    {
     "name": "stdout",
     "output_type": "stream",
     "text": [
      "Train Loss: 0.345, Train Acc: 0.515\r"
     ]
    },
    {
     "name": "stderr",
     "output_type": "stream",
     "text": [
      "Epoch 1/1:  29%|██▉       | 162/563 [1:08:07<2:54:32, 26.12s/it]"
     ]
    },
    {
     "name": "stdout",
     "output_type": "stream",
     "text": [
      "Train Loss: 0.346, Train Acc: 0.515\r"
     ]
    },
    {
     "name": "stderr",
     "output_type": "stream",
     "text": [
      "Epoch 1/1:  29%|██▉       | 163/563 [1:08:34<2:54:20, 26.15s/it]"
     ]
    },
    {
     "name": "stdout",
     "output_type": "stream",
     "text": [
      "Train Loss: 0.348, Train Acc: 0.515\r"
     ]
    },
    {
     "name": "stderr",
     "output_type": "stream",
     "text": [
      "Epoch 1/1:  29%|██▉       | 164/563 [1:09:00<2:53:58, 26.16s/it]"
     ]
    },
    {
     "name": "stdout",
     "output_type": "stream",
     "text": [
      "Train Loss: 0.349, Train Acc: 0.516\r"
     ]
    },
    {
     "name": "stderr",
     "output_type": "stream",
     "text": [
      "Epoch 1/1:  29%|██▉       | 165/563 [1:09:26<2:53:24, 26.14s/it]"
     ]
    },
    {
     "name": "stdout",
     "output_type": "stream",
     "text": [
      "Train Loss: 0.350, Train Acc: 0.518\r"
     ]
    },
    {
     "name": "stderr",
     "output_type": "stream",
     "text": [
      "Epoch 1/1:  29%|██▉       | 166/563 [1:09:53<2:54:44, 26.41s/it]"
     ]
    },
    {
     "name": "stdout",
     "output_type": "stream",
     "text": [
      "Train Loss: 0.352, Train Acc: 0.518\r"
     ]
    },
    {
     "name": "stderr",
     "output_type": "stream",
     "text": [
      "Epoch 1/1:  30%|██▉       | 167/563 [1:10:19<2:53:42, 26.32s/it]"
     ]
    },
    {
     "name": "stdout",
     "output_type": "stream",
     "text": [
      "Train Loss: 0.354, Train Acc: 0.518\r"
     ]
    },
    {
     "name": "stderr",
     "output_type": "stream",
     "text": [
      "Epoch 1/1:  30%|██▉       | 168/563 [1:10:45<2:53:05, 26.29s/it]"
     ]
    },
    {
     "name": "stdout",
     "output_type": "stream",
     "text": [
      "Train Loss: 0.355, Train Acc: 0.518\r"
     ]
    },
    {
     "name": "stderr",
     "output_type": "stream",
     "text": [
      "Epoch 1/1:  30%|███       | 169/563 [1:11:12<2:52:36, 26.29s/it]"
     ]
    },
    {
     "name": "stdout",
     "output_type": "stream",
     "text": [
      "Train Loss: 0.357, Train Acc: 0.518\r"
     ]
    },
    {
     "name": "stderr",
     "output_type": "stream",
     "text": [
      "Epoch 1/1:  30%|███       | 170/563 [1:11:38<2:51:52, 26.24s/it]"
     ]
    },
    {
     "name": "stdout",
     "output_type": "stream",
     "text": [
      "Train Loss: 0.360, Train Acc: 0.518\r"
     ]
    },
    {
     "name": "stderr",
     "output_type": "stream",
     "text": [
      "Epoch 1/1:  30%|███       | 171/563 [1:12:05<2:52:57, 26.47s/it]"
     ]
    },
    {
     "name": "stdout",
     "output_type": "stream",
     "text": [
      "Train Loss: 0.362, Train Acc: 0.516\r"
     ]
    },
    {
     "name": "stderr",
     "output_type": "stream",
     "text": [
      "Epoch 1/1:  31%|███       | 172/563 [1:12:31<2:51:54, 26.38s/it]"
     ]
    },
    {
     "name": "stdout",
     "output_type": "stream",
     "text": [
      "Train Loss: 0.365, Train Acc: 0.516\r"
     ]
    },
    {
     "name": "stderr",
     "output_type": "stream",
     "text": [
      "Epoch 1/1:  31%|███       | 173/563 [1:12:57<2:51:43, 26.42s/it]"
     ]
    },
    {
     "name": "stdout",
     "output_type": "stream",
     "text": [
      "Train Loss: 0.367, Train Acc: 0.517\r"
     ]
    },
    {
     "name": "stderr",
     "output_type": "stream",
     "text": [
      "Epoch 1/1:  31%|███       | 174/563 [1:13:24<2:50:45, 26.34s/it]"
     ]
    },
    {
     "name": "stdout",
     "output_type": "stream",
     "text": [
      "Train Loss: 0.373, Train Acc: 0.517\r"
     ]
    },
    {
     "name": "stderr",
     "output_type": "stream",
     "text": [
      "Epoch 1/1:  31%|███       | 175/563 [1:13:50<2:51:01, 26.45s/it]"
     ]
    },
    {
     "name": "stdout",
     "output_type": "stream",
     "text": [
      "Train Loss: 0.375, Train Acc: 0.517\r"
     ]
    },
    {
     "name": "stderr",
     "output_type": "stream",
     "text": [
      "Epoch 1/1:  31%|███▏      | 176/563 [1:14:17<2:51:21, 26.57s/it]"
     ]
    },
    {
     "name": "stdout",
     "output_type": "stream",
     "text": [
      "Train Loss: 0.377, Train Acc: 0.517\r"
     ]
    },
    {
     "name": "stderr",
     "output_type": "stream",
     "text": [
      "Epoch 1/1:  31%|███▏      | 177/563 [1:14:43<2:49:55, 26.41s/it]"
     ]
    },
    {
     "name": "stdout",
     "output_type": "stream",
     "text": [
      "Train Loss: 0.379, Train Acc: 0.516\r"
     ]
    },
    {
     "name": "stderr",
     "output_type": "stream",
     "text": [
      "Epoch 1/1:  32%|███▏      | 178/563 [1:15:09<2:49:22, 26.40s/it]"
     ]
    },
    {
     "name": "stdout",
     "output_type": "stream",
     "text": [
      "Train Loss: 0.381, Train Acc: 0.515\r"
     ]
    },
    {
     "name": "stderr",
     "output_type": "stream",
     "text": [
      "Epoch 1/1:  32%|███▏      | 179/563 [1:15:36<2:48:32, 26.34s/it]"
     ]
    },
    {
     "name": "stdout",
     "output_type": "stream",
     "text": [
      "Train Loss: 0.382, Train Acc: 0.515\r"
     ]
    },
    {
     "name": "stderr",
     "output_type": "stream",
     "text": [
      "Epoch 1/1:  32%|███▏      | 180/563 [1:16:02<2:48:07, 26.34s/it]"
     ]
    },
    {
     "name": "stdout",
     "output_type": "stream",
     "text": [
      "Train Loss: 0.384, Train Acc: 0.516\r"
     ]
    },
    {
     "name": "stderr",
     "output_type": "stream",
     "text": [
      "Epoch 1/1:  32%|███▏      | 181/563 [1:16:29<2:49:02, 26.55s/it]"
     ]
    },
    {
     "name": "stdout",
     "output_type": "stream",
     "text": [
      "Train Loss: 0.386, Train Acc: 0.517\r"
     ]
    },
    {
     "name": "stderr",
     "output_type": "stream",
     "text": [
      "Epoch 1/1:  32%|███▏      | 182/563 [1:16:55<2:47:56, 26.45s/it]"
     ]
    },
    {
     "name": "stdout",
     "output_type": "stream",
     "text": [
      "Train Loss: 0.387, Train Acc: 0.518\r"
     ]
    },
    {
     "name": "stderr",
     "output_type": "stream",
     "text": [
      "Epoch 1/1:  33%|███▎      | 183/563 [1:17:22<2:47:38, 26.47s/it]"
     ]
    },
    {
     "name": "stdout",
     "output_type": "stream",
     "text": [
      "Train Loss: 0.388, Train Acc: 0.519\r"
     ]
    },
    {
     "name": "stderr",
     "output_type": "stream",
     "text": [
      "Epoch 1/1:  33%|███▎      | 184/563 [1:17:48<2:46:27, 26.35s/it]"
     ]
    },
    {
     "name": "stdout",
     "output_type": "stream",
     "text": [
      "Train Loss: 0.390, Train Acc: 0.518\r"
     ]
    },
    {
     "name": "stderr",
     "output_type": "stream",
     "text": [
      "Epoch 1/1:  33%|███▎      | 185/563 [1:18:14<2:45:45, 26.31s/it]"
     ]
    },
    {
     "name": "stdout",
     "output_type": "stream",
     "text": [
      "Train Loss: 0.391, Train Acc: 0.518\r"
     ]
    },
    {
     "name": "stderr",
     "output_type": "stream",
     "text": [
      "Epoch 1/1:  33%|███▎      | 186/563 [1:18:41<2:46:40, 26.53s/it]"
     ]
    },
    {
     "name": "stdout",
     "output_type": "stream",
     "text": [
      "Train Loss: 0.393, Train Acc: 0.516\r"
     ]
    },
    {
     "name": "stderr",
     "output_type": "stream",
     "text": [
      "Epoch 1/1:  33%|███▎      | 187/563 [1:19:07<2:45:26, 26.40s/it]"
     ]
    },
    {
     "name": "stdout",
     "output_type": "stream",
     "text": [
      "Train Loss: 0.394, Train Acc: 0.518\r"
     ]
    },
    {
     "name": "stderr",
     "output_type": "stream",
     "text": [
      "Epoch 1/1:  33%|███▎      | 188/563 [1:19:34<2:44:58, 26.40s/it]"
     ]
    },
    {
     "name": "stdout",
     "output_type": "stream",
     "text": [
      "Train Loss: 0.396, Train Acc: 0.517\r"
     ]
    },
    {
     "name": "stderr",
     "output_type": "stream",
     "text": [
      "Epoch 1/1:  34%|███▎      | 189/563 [1:20:00<2:44:48, 26.44s/it]"
     ]
    },
    {
     "name": "stdout",
     "output_type": "stream",
     "text": [
      "Train Loss: 0.397, Train Acc: 0.517\r"
     ]
    },
    {
     "name": "stderr",
     "output_type": "stream",
     "text": [
      "Epoch 1/1:  34%|███▎      | 190/563 [1:20:26<2:43:51, 26.36s/it]"
     ]
    },
    {
     "name": "stdout",
     "output_type": "stream",
     "text": [
      "Train Loss: 0.399, Train Acc: 0.516\r"
     ]
    },
    {
     "name": "stderr",
     "output_type": "stream",
     "text": [
      "Epoch 1/1:  34%|███▍      | 191/563 [1:20:53<2:44:41, 26.56s/it]"
     ]
    },
    {
     "name": "stdout",
     "output_type": "stream",
     "text": [
      "Train Loss: 0.401, Train Acc: 0.515\r"
     ]
    },
    {
     "name": "stderr",
     "output_type": "stream",
     "text": [
      "Epoch 1/1:  34%|███▍      | 192/563 [1:21:20<2:44:19, 26.58s/it]"
     ]
    },
    {
     "name": "stdout",
     "output_type": "stream",
     "text": [
      "Train Loss: 0.402, Train Acc: 0.515\r"
     ]
    },
    {
     "name": "stderr",
     "output_type": "stream",
     "text": [
      "Epoch 1/1:  34%|███▍      | 193/563 [1:21:46<2:43:34, 26.52s/it]"
     ]
    },
    {
     "name": "stdout",
     "output_type": "stream",
     "text": [
      "Train Loss: 0.404, Train Acc: 0.516\r"
     ]
    },
    {
     "name": "stderr",
     "output_type": "stream",
     "text": [
      "Epoch 1/1:  34%|███▍      | 194/563 [1:22:13<2:43:11, 26.54s/it]"
     ]
    },
    {
     "name": "stdout",
     "output_type": "stream",
     "text": [
      "Train Loss: 0.406, Train Acc: 0.516\r"
     ]
    },
    {
     "name": "stderr",
     "output_type": "stream",
     "text": [
      "Epoch 1/1:  35%|███▍      | 195/563 [1:22:40<2:43:01, 26.58s/it]"
     ]
    },
    {
     "name": "stdout",
     "output_type": "stream",
     "text": [
      "Train Loss: 0.407, Train Acc: 0.517\r"
     ]
    },
    {
     "name": "stderr",
     "output_type": "stream",
     "text": [
      "Epoch 1/1:  35%|███▍      | 196/563 [1:23:07<2:43:58, 26.81s/it]"
     ]
    },
    {
     "name": "stdout",
     "output_type": "stream",
     "text": [
      "Train Loss: 0.410, Train Acc: 0.517\r"
     ]
    },
    {
     "name": "stderr",
     "output_type": "stream",
     "text": [
      "Epoch 1/1:  35%|███▍      | 197/563 [1:23:34<2:43:11, 26.75s/it]"
     ]
    },
    {
     "name": "stdout",
     "output_type": "stream",
     "text": [
      "Train Loss: 0.412, Train Acc: 0.516\r"
     ]
    },
    {
     "name": "stderr",
     "output_type": "stream",
     "text": [
      "Epoch 1/1:  35%|███▌      | 198/563 [1:24:00<2:42:23, 26.69s/it]"
     ]
    },
    {
     "name": "stdout",
     "output_type": "stream",
     "text": [
      "Train Loss: 0.413, Train Acc: 0.516\r"
     ]
    },
    {
     "name": "stderr",
     "output_type": "stream",
     "text": [
      "Epoch 1/1:  35%|███▌      | 199/563 [1:24:27<2:41:54, 26.69s/it]"
     ]
    },
    {
     "name": "stdout",
     "output_type": "stream",
     "text": [
      "Train Loss: 0.414, Train Acc: 0.517\r"
     ]
    },
    {
     "name": "stderr",
     "output_type": "stream",
     "text": [
      "Epoch 1/1:  36%|███▌      | 200/563 [1:24:54<2:42:42, 26.89s/it]"
     ]
    },
    {
     "name": "stdout",
     "output_type": "stream",
     "text": [
      "Train Loss: 0.415, Train Acc: 0.519\r"
     ]
    },
    {
     "name": "stderr",
     "output_type": "stream",
     "text": [
      "Epoch 1/1:  36%|███▌      | 201/563 [1:25:21<2:41:29, 26.77s/it]"
     ]
    },
    {
     "name": "stdout",
     "output_type": "stream",
     "text": [
      "Train Loss: 0.416, Train Acc: 0.520\r"
     ]
    },
    {
     "name": "stderr",
     "output_type": "stream",
     "text": [
      "Epoch 1/1:  36%|███▌      | 202/563 [1:25:47<2:40:39, 26.70s/it]"
     ]
    },
    {
     "name": "stdout",
     "output_type": "stream",
     "text": [
      "Train Loss: 0.418, Train Acc: 0.521\r"
     ]
    },
    {
     "name": "stderr",
     "output_type": "stream",
     "text": [
      "Epoch 1/1:  36%|███▌      | 203/563 [1:26:14<2:40:00, 26.67s/it]"
     ]
    },
    {
     "name": "stdout",
     "output_type": "stream",
     "text": [
      "Train Loss: 0.420, Train Acc: 0.522\r"
     ]
    },
    {
     "name": "stderr",
     "output_type": "stream",
     "text": [
      "Epoch 1/1:  36%|███▌      | 204/563 [1:26:41<2:41:18, 26.96s/it]"
     ]
    },
    {
     "name": "stdout",
     "output_type": "stream",
     "text": [
      "Train Loss: 0.421, Train Acc: 0.521\r"
     ]
    },
    {
     "name": "stderr",
     "output_type": "stream",
     "text": [
      "Epoch 1/1:  36%|███▋      | 205/563 [1:27:08<2:40:13, 26.85s/it]"
     ]
    },
    {
     "name": "stdout",
     "output_type": "stream",
     "text": [
      "Train Loss: 0.424, Train Acc: 0.520\r"
     ]
    },
    {
     "name": "stderr",
     "output_type": "stream",
     "text": [
      "Epoch 1/1:  37%|███▋      | 206/563 [1:27:35<2:39:09, 26.75s/it]"
     ]
    },
    {
     "name": "stdout",
     "output_type": "stream",
     "text": [
      "Train Loss: 0.425, Train Acc: 0.520\r"
     ]
    },
    {
     "name": "stderr",
     "output_type": "stream",
     "text": [
      "Epoch 1/1:  37%|███▋      | 207/563 [1:28:01<2:38:41, 26.75s/it]"
     ]
    },
    {
     "name": "stdout",
     "output_type": "stream",
     "text": [
      "Train Loss: 0.426, Train Acc: 0.521\r"
     ]
    },
    {
     "name": "stderr",
     "output_type": "stream",
     "text": [
      "Epoch 1/1:  37%|███▋      | 208/563 [1:28:29<2:39:41, 26.99s/it]"
     ]
    },
    {
     "name": "stdout",
     "output_type": "stream",
     "text": [
      "Train Loss: 0.428, Train Acc: 0.520\r"
     ]
    },
    {
     "name": "stderr",
     "output_type": "stream",
     "text": [
      "Epoch 1/1:  37%|███▋      | 209/563 [1:28:56<2:39:06, 26.97s/it]"
     ]
    },
    {
     "name": "stdout",
     "output_type": "stream",
     "text": [
      "Train Loss: 0.430, Train Acc: 0.521\r"
     ]
    },
    {
     "name": "stderr",
     "output_type": "stream",
     "text": [
      "Epoch 1/1:  37%|███▋      | 210/563 [1:29:23<2:38:59, 27.02s/it]"
     ]
    },
    {
     "name": "stdout",
     "output_type": "stream",
     "text": [
      "Train Loss: 0.431, Train Acc: 0.521\r"
     ]
    },
    {
     "name": "stderr",
     "output_type": "stream",
     "text": [
      "Epoch 1/1:  37%|███▋      | 211/563 [1:29:49<2:37:40, 26.88s/it]"
     ]
    },
    {
     "name": "stdout",
     "output_type": "stream",
     "text": [
      "Train Loss: 0.434, Train Acc: 0.520\r"
     ]
    },
    {
     "name": "stderr",
     "output_type": "stream",
     "text": [
      "Epoch 1/1:  38%|███▊      | 212/563 [1:30:17<2:37:53, 26.99s/it]"
     ]
    },
    {
     "name": "stdout",
     "output_type": "stream",
     "text": [
      "Train Loss: 0.436, Train Acc: 0.519\r"
     ]
    },
    {
     "name": "stderr",
     "output_type": "stream",
     "text": [
      "Epoch 1/1:  38%|███▊      | 213/563 [1:30:43<2:36:50, 26.89s/it]"
     ]
    },
    {
     "name": "stdout",
     "output_type": "stream",
     "text": [
      "Train Loss: 0.437, Train Acc: 0.520\r"
     ]
    },
    {
     "name": "stderr",
     "output_type": "stream",
     "text": [
      "Epoch 1/1:  38%|███▊      | 214/563 [1:31:10<2:35:27, 26.73s/it]"
     ]
    },
    {
     "name": "stdout",
     "output_type": "stream",
     "text": [
      "Train Loss: 0.440, Train Acc: 0.520\r"
     ]
    },
    {
     "name": "stderr",
     "output_type": "stream",
     "text": [
      "Epoch 1/1:  38%|███▊      | 215/563 [1:31:36<2:34:30, 26.64s/it]"
     ]
    },
    {
     "name": "stdout",
     "output_type": "stream",
     "text": [
      "Train Loss: 0.443, Train Acc: 0.520\r"
     ]
    },
    {
     "name": "stderr",
     "output_type": "stream",
     "text": [
      "Epoch 1/1:  38%|███▊      | 216/563 [1:32:03<2:35:00, 26.80s/it]"
     ]
    },
    {
     "name": "stdout",
     "output_type": "stream",
     "text": [
      "Train Loss: 0.445, Train Acc: 0.519\r"
     ]
    },
    {
     "name": "stderr",
     "output_type": "stream",
     "text": [
      "Epoch 1/1:  39%|███▊      | 217/563 [1:32:30<2:34:48, 26.85s/it]"
     ]
    },
    {
     "name": "stdout",
     "output_type": "stream",
     "text": [
      "Train Loss: 0.447, Train Acc: 0.519\r"
     ]
    },
    {
     "name": "stderr",
     "output_type": "stream",
     "text": [
      "Epoch 1/1:  39%|███▊      | 218/563 [1:32:57<2:33:53, 26.76s/it]"
     ]
    },
    {
     "name": "stdout",
     "output_type": "stream",
     "text": [
      "Train Loss: 0.451, Train Acc: 0.518\r"
     ]
    },
    {
     "name": "stderr",
     "output_type": "stream",
     "text": [
      "Epoch 1/1:  39%|███▉      | 219/563 [1:33:24<2:33:37, 26.79s/it]"
     ]
    },
    {
     "name": "stdout",
     "output_type": "stream",
     "text": [
      "Train Loss: 0.454, Train Acc: 0.517\r"
     ]
    },
    {
     "name": "stderr",
     "output_type": "stream",
     "text": [
      "Epoch 1/1:  39%|███▉      | 220/563 [1:33:52<2:35:12, 27.15s/it]"
     ]
    },
    {
     "name": "stdout",
     "output_type": "stream",
     "text": [
      "Train Loss: 0.456, Train Acc: 0.518\r"
     ]
    },
    {
     "name": "stderr",
     "output_type": "stream",
     "text": [
      "Epoch 1/1:  39%|███▉      | 221/563 [1:34:19<2:34:19, 27.08s/it]"
     ]
    },
    {
     "name": "stdout",
     "output_type": "stream",
     "text": [
      "Train Loss: 0.458, Train Acc: 0.519\r"
     ]
    },
    {
     "name": "stderr",
     "output_type": "stream",
     "text": [
      "Epoch 1/1:  39%|███▉      | 222/563 [1:34:45<2:33:35, 27.02s/it]"
     ]
    },
    {
     "name": "stdout",
     "output_type": "stream",
     "text": [
      "Train Loss: 0.463, Train Acc: 0.519\r"
     ]
    },
    {
     "name": "stderr",
     "output_type": "stream",
     "text": [
      "Epoch 1/1:  40%|███▉      | 223/563 [1:35:12<2:32:39, 26.94s/it]"
     ]
    },
    {
     "name": "stdout",
     "output_type": "stream",
     "text": [
      "Train Loss: 0.467, Train Acc: 0.519\r"
     ]
    },
    {
     "name": "stderr",
     "output_type": "stream",
     "text": [
      "Epoch 1/1:  40%|███▉      | 224/563 [1:35:40<2:33:43, 27.21s/it]"
     ]
    },
    {
     "name": "stdout",
     "output_type": "stream",
     "text": [
      "Train Loss: 0.469, Train Acc: 0.519\r"
     ]
    },
    {
     "name": "stderr",
     "output_type": "stream",
     "text": [
      "Epoch 1/1:  40%|███▉      | 225/563 [1:36:07<2:32:58, 27.15s/it]"
     ]
    },
    {
     "name": "stdout",
     "output_type": "stream",
     "text": [
      "Train Loss: 0.471, Train Acc: 0.517\r"
     ]
    },
    {
     "name": "stderr",
     "output_type": "stream",
     "text": [
      "Epoch 1/1:  40%|████      | 226/563 [1:36:34<2:31:36, 26.99s/it]"
     ]
    },
    {
     "name": "stdout",
     "output_type": "stream",
     "text": [
      "Train Loss: 0.473, Train Acc: 0.517\r"
     ]
    },
    {
     "name": "stderr",
     "output_type": "stream",
     "text": [
      "Epoch 1/1:  40%|████      | 227/563 [1:37:00<2:30:39, 26.90s/it]"
     ]
    },
    {
     "name": "stdout",
     "output_type": "stream",
     "text": [
      "Train Loss: 0.476, Train Acc: 0.516\r"
     ]
    },
    {
     "name": "stderr",
     "output_type": "stream",
     "text": [
      "Epoch 1/1:  40%|████      | 228/563 [1:37:28<2:31:27, 27.13s/it]"
     ]
    },
    {
     "name": "stdout",
     "output_type": "stream",
     "text": [
      "Train Loss: 0.477, Train Acc: 0.516\r"
     ]
    },
    {
     "name": "stderr",
     "output_type": "stream",
     "text": [
      "Epoch 1/1:  41%|████      | 229/563 [1:37:55<2:30:43, 27.08s/it]"
     ]
    },
    {
     "name": "stdout",
     "output_type": "stream",
     "text": [
      "Train Loss: 0.478, Train Acc: 0.517\r"
     ]
    },
    {
     "name": "stderr",
     "output_type": "stream",
     "text": [
      "Epoch 1/1:  41%|████      | 230/563 [1:38:22<2:29:54, 27.01s/it]"
     ]
    },
    {
     "name": "stdout",
     "output_type": "stream",
     "text": [
      "Train Loss: 0.482, Train Acc: 0.518\r"
     ]
    },
    {
     "name": "stderr",
     "output_type": "stream",
     "text": [
      "Epoch 1/1:  41%|████      | 231/563 [1:38:50<2:30:30, 27.20s/it]"
     ]
    },
    {
     "name": "stdout",
     "output_type": "stream",
     "text": [
      "Train Loss: 0.486, Train Acc: 0.518\r"
     ]
    },
    {
     "name": "stderr",
     "output_type": "stream",
     "text": [
      "Epoch 1/1:  41%|████      | 232/563 [1:39:16<2:29:36, 27.12s/it]"
     ]
    },
    {
     "name": "stdout",
     "output_type": "stream",
     "text": [
      "Train Loss: 0.488, Train Acc: 0.519\r"
     ]
    },
    {
     "name": "stderr",
     "output_type": "stream",
     "text": [
      "Epoch 1/1:  41%|████▏     | 233/563 [1:39:43<2:28:36, 27.02s/it]"
     ]
    },
    {
     "name": "stdout",
     "output_type": "stream",
     "text": [
      "Train Loss: 0.489, Train Acc: 0.518\r"
     ]
    },
    {
     "name": "stderr",
     "output_type": "stream",
     "text": [
      "Epoch 1/1:  42%|████▏     | 234/563 [1:40:10<2:27:58, 26.99s/it]"
     ]
    },
    {
     "name": "stdout",
     "output_type": "stream",
     "text": [
      "Train Loss: 0.492, Train Acc: 0.518\r"
     ]
    },
    {
     "name": "stderr",
     "output_type": "stream",
     "text": [
      "Epoch 1/1:  42%|████▏     | 235/563 [1:40:38<2:28:31, 27.17s/it]"
     ]
    },
    {
     "name": "stdout",
     "output_type": "stream",
     "text": [
      "Train Loss: 0.494, Train Acc: 0.517\r"
     ]
    },
    {
     "name": "stderr",
     "output_type": "stream",
     "text": [
      "Epoch 1/1:  42%|████▏     | 236/563 [1:41:05<2:27:39, 27.09s/it]"
     ]
    },
    {
     "name": "stdout",
     "output_type": "stream",
     "text": [
      "Train Loss: 0.496, Train Acc: 0.517\r"
     ]
    },
    {
     "name": "stderr",
     "output_type": "stream",
     "text": [
      "Epoch 1/1:  42%|████▏     | 237/563 [1:41:31<2:26:37, 26.99s/it]"
     ]
    },
    {
     "name": "stdout",
     "output_type": "stream",
     "text": [
      "Train Loss: 0.498, Train Acc: 0.516\r"
     ]
    },
    {
     "name": "stderr",
     "output_type": "stream",
     "text": [
      "Epoch 1/1:  42%|████▏     | 238/563 [1:41:59<2:27:24, 27.21s/it]"
     ]
    },
    {
     "name": "stdout",
     "output_type": "stream",
     "text": [
      "Train Loss: 0.500, Train Acc: 0.516\r"
     ]
    },
    {
     "name": "stderr",
     "output_type": "stream",
     "text": [
      "Epoch 1/1:  42%|████▏     | 239/563 [1:42:26<2:26:47, 27.18s/it]"
     ]
    },
    {
     "name": "stdout",
     "output_type": "stream",
     "text": [
      "Train Loss: 0.502, Train Acc: 0.515\r"
     ]
    },
    {
     "name": "stderr",
     "output_type": "stream",
     "text": [
      "Epoch 1/1:  43%|████▎     | 240/563 [1:42:53<2:25:44, 27.07s/it]"
     ]
    },
    {
     "name": "stdout",
     "output_type": "stream",
     "text": [
      "Train Loss: 0.503, Train Acc: 0.515\r"
     ]
    },
    {
     "name": "stderr",
     "output_type": "stream",
     "text": [
      "Epoch 1/1:  43%|████▎     | 241/563 [1:43:20<2:24:41, 26.96s/it]"
     ]
    },
    {
     "name": "stdout",
     "output_type": "stream",
     "text": [
      "Train Loss: 0.505, Train Acc: 0.515\r"
     ]
    },
    {
     "name": "stderr",
     "output_type": "stream",
     "text": [
      "Epoch 1/1:  43%|████▎     | 242/563 [1:43:47<2:25:30, 27.20s/it]"
     ]
    },
    {
     "name": "stdout",
     "output_type": "stream",
     "text": [
      "Train Loss: 0.506, Train Acc: 0.515\r"
     ]
    },
    {
     "name": "stderr",
     "output_type": "stream",
     "text": [
      "Epoch 1/1:  43%|████▎     | 243/563 [1:44:14<2:24:32, 27.10s/it]"
     ]
    },
    {
     "name": "stdout",
     "output_type": "stream",
     "text": [
      "Train Loss: 0.508, Train Acc: 0.516\r"
     ]
    },
    {
     "name": "stderr",
     "output_type": "stream",
     "text": [
      "Epoch 1/1:  43%|████▎     | 244/563 [1:44:42<2:24:34, 27.19s/it]"
     ]
    },
    {
     "name": "stdout",
     "output_type": "stream",
     "text": [
      "Train Loss: 0.509, Train Acc: 0.517\r"
     ]
    },
    {
     "name": "stderr",
     "output_type": "stream",
     "text": [
      "Epoch 1/1:  44%|████▎     | 245/563 [1:45:10<2:25:16, 27.41s/it]"
     ]
    },
    {
     "name": "stdout",
     "output_type": "stream",
     "text": [
      "Train Loss: 0.510, Train Acc: 0.518\r"
     ]
    },
    {
     "name": "stderr",
     "output_type": "stream",
     "text": [
      "Epoch 1/1:  44%|████▎     | 246/563 [1:45:37<2:24:44, 27.39s/it]"
     ]
    },
    {
     "name": "stdout",
     "output_type": "stream",
     "text": [
      "Train Loss: 0.511, Train Acc: 0.517\r"
     ]
    },
    {
     "name": "stderr",
     "output_type": "stream",
     "text": [
      "Epoch 1/1:  44%|████▍     | 247/563 [1:46:04<2:23:41, 27.28s/it]"
     ]
    },
    {
     "name": "stdout",
     "output_type": "stream",
     "text": [
      "Train Loss: 0.513, Train Acc: 0.517\r"
     ]
    },
    {
     "name": "stderr",
     "output_type": "stream",
     "text": [
      "Epoch 1/1:  44%|████▍     | 248/563 [1:46:32<2:24:18, 27.49s/it]"
     ]
    },
    {
     "name": "stdout",
     "output_type": "stream",
     "text": [
      "Train Loss: 0.515, Train Acc: 0.517\r"
     ]
    },
    {
     "name": "stderr",
     "output_type": "stream",
     "text": [
      "Epoch 1/1:  44%|████▍     | 249/563 [1:46:59<2:23:19, 27.39s/it]"
     ]
    },
    {
     "name": "stdout",
     "output_type": "stream",
     "text": [
      "Train Loss: 0.516, Train Acc: 0.517\r"
     ]
    },
    {
     "name": "stderr",
     "output_type": "stream",
     "text": [
      "Epoch 1/1:  44%|████▍     | 250/563 [1:47:26<2:22:17, 27.28s/it]"
     ]
    },
    {
     "name": "stdout",
     "output_type": "stream",
     "text": [
      "Train Loss: 0.517, Train Acc: 0.517\r"
     ]
    },
    {
     "name": "stderr",
     "output_type": "stream",
     "text": [
      "Epoch 1/1:  45%|████▍     | 251/563 [1:47:55<2:24:13, 27.74s/it]"
     ]
    },
    {
     "name": "stdout",
     "output_type": "stream",
     "text": [
      "Train Loss: 0.519, Train Acc: 0.518\r"
     ]
    },
    {
     "name": "stderr",
     "output_type": "stream",
     "text": [
      "Epoch 1/1:  45%|████▍     | 252/563 [1:48:22<2:23:02, 27.60s/it]"
     ]
    },
    {
     "name": "stdout",
     "output_type": "stream",
     "text": [
      "Train Loss: 0.520, Train Acc: 0.518\r"
     ]
    },
    {
     "name": "stderr",
     "output_type": "stream",
     "text": [
      "Epoch 1/1:  45%|████▍     | 253/563 [1:48:50<2:22:07, 27.51s/it]"
     ]
    },
    {
     "name": "stdout",
     "output_type": "stream",
     "text": [
      "Train Loss: 0.522, Train Acc: 0.518\r"
     ]
    },
    {
     "name": "stderr",
     "output_type": "stream",
     "text": [
      "Epoch 1/1:  45%|████▌     | 254/563 [1:49:17<2:21:06, 27.40s/it]"
     ]
    },
    {
     "name": "stdout",
     "output_type": "stream",
     "text": [
      "Train Loss: 0.524, Train Acc: 0.518\r"
     ]
    },
    {
     "name": "stderr",
     "output_type": "stream",
     "text": [
      "Epoch 1/1:  45%|████▌     | 255/563 [1:49:45<2:21:19, 27.53s/it]"
     ]
    },
    {
     "name": "stdout",
     "output_type": "stream",
     "text": [
      "Train Loss: 0.527, Train Acc: 0.517\r"
     ]
    },
    {
     "name": "stderr",
     "output_type": "stream",
     "text": [
      "Epoch 1/1:  45%|████▌     | 256/563 [1:50:12<2:20:21, 27.43s/it]"
     ]
    },
    {
     "name": "stdout",
     "output_type": "stream",
     "text": [
      "Train Loss: 0.529, Train Acc: 0.517\r"
     ]
    },
    {
     "name": "stderr",
     "output_type": "stream",
     "text": [
      "Epoch 1/1:  46%|████▌     | 257/563 [1:50:39<2:19:42, 27.39s/it]"
     ]
    },
    {
     "name": "stdout",
     "output_type": "stream",
     "text": [
      "Train Loss: 0.531, Train Acc: 0.517\r"
     ]
    },
    {
     "name": "stderr",
     "output_type": "stream",
     "text": [
      "Epoch 1/1:  46%|████▌     | 258/563 [1:51:07<2:20:25, 27.63s/it]"
     ]
    },
    {
     "name": "stdout",
     "output_type": "stream",
     "text": [
      "Train Loss: 0.533, Train Acc: 0.517\r"
     ]
    },
    {
     "name": "stderr",
     "output_type": "stream",
     "text": [
      "Epoch 1/1:  46%|████▌     | 259/563 [1:51:35<2:19:35, 27.55s/it]"
     ]
    },
    {
     "name": "stdout",
     "output_type": "stream",
     "text": [
      "Train Loss: 0.535, Train Acc: 0.518\r"
     ]
    },
    {
     "name": "stderr",
     "output_type": "stream",
     "text": [
      "Epoch 1/1:  46%|████▌     | 260/563 [1:52:02<2:18:51, 27.50s/it]"
     ]
    },
    {
     "name": "stdout",
     "output_type": "stream",
     "text": [
      "Train Loss: 0.537, Train Acc: 0.518\r"
     ]
    },
    {
     "name": "stderr",
     "output_type": "stream",
     "text": [
      "Epoch 1/1:  46%|████▋     | 261/563 [1:52:30<2:19:29, 27.71s/it]"
     ]
    },
    {
     "name": "stdout",
     "output_type": "stream",
     "text": [
      "Train Loss: 0.539, Train Acc: 0.517\r"
     ]
    },
    {
     "name": "stderr",
     "output_type": "stream",
     "text": [
      "Epoch 1/1:  47%|████▋     | 262/563 [1:52:58<2:18:33, 27.62s/it]"
     ]
    },
    {
     "name": "stdout",
     "output_type": "stream",
     "text": [
      "Train Loss: 0.541, Train Acc: 0.517\r"
     ]
    },
    {
     "name": "stderr",
     "output_type": "stream",
     "text": [
      "Epoch 1/1:  47%|████▋     | 263/563 [1:53:25<2:17:17, 27.46s/it]"
     ]
    },
    {
     "name": "stdout",
     "output_type": "stream",
     "text": [
      "Train Loss: 0.542, Train Acc: 0.517\r"
     ]
    },
    {
     "name": "stderr",
     "output_type": "stream",
     "text": [
      "Epoch 1/1:  47%|████▋     | 264/563 [1:53:53<2:18:03, 27.71s/it]"
     ]
    },
    {
     "name": "stdout",
     "output_type": "stream",
     "text": [
      "Train Loss: 0.545, Train Acc: 0.517\r"
     ]
    },
    {
     "name": "stderr",
     "output_type": "stream",
     "text": [
      "Epoch 1/1:  47%|████▋     | 265/563 [1:54:21<2:17:36, 27.71s/it]"
     ]
    },
    {
     "name": "stdout",
     "output_type": "stream",
     "text": [
      "Train Loss: 0.548, Train Acc: 0.517\r"
     ]
    },
    {
     "name": "stderr",
     "output_type": "stream",
     "text": [
      "Epoch 1/1:  47%|████▋     | 266/563 [1:54:48<2:17:10, 27.71s/it]"
     ]
    },
    {
     "name": "stdout",
     "output_type": "stream",
     "text": [
      "Train Loss: 0.549, Train Acc: 0.518\r"
     ]
    },
    {
     "name": "stderr",
     "output_type": "stream",
     "text": [
      "Epoch 1/1:  47%|████▋     | 267/563 [1:55:17<2:18:28, 28.07s/it]"
     ]
    },
    {
     "name": "stdout",
     "output_type": "stream",
     "text": [
      "Train Loss: 0.550, Train Acc: 0.518\r"
     ]
    },
    {
     "name": "stderr",
     "output_type": "stream",
     "text": [
      "Epoch 1/1:  48%|████▊     | 268/563 [1:55:44<2:16:28, 27.76s/it]"
     ]
    },
    {
     "name": "stdout",
     "output_type": "stream",
     "text": [
      "Train Loss: 0.552, Train Acc: 0.518\r"
     ]
    },
    {
     "name": "stderr",
     "output_type": "stream",
     "text": [
      "Epoch 1/1:  48%|████▊     | 269/563 [1:56:13<2:17:20, 28.03s/it]"
     ]
    },
    {
     "name": "stdout",
     "output_type": "stream",
     "text": [
      "Train Loss: 0.554, Train Acc: 0.518\r"
     ]
    },
    {
     "name": "stderr",
     "output_type": "stream",
     "text": [
      "Epoch 1/1:  48%|████▊     | 270/563 [1:56:41<2:16:12, 27.89s/it]"
     ]
    },
    {
     "name": "stdout",
     "output_type": "stream",
     "text": [
      "Train Loss: 0.555, Train Acc: 0.518\r"
     ]
    },
    {
     "name": "stderr",
     "output_type": "stream",
     "text": [
      "Epoch 1/1:  48%|████▊     | 271/563 [1:57:08<2:15:18, 27.80s/it]"
     ]
    },
    {
     "name": "stdout",
     "output_type": "stream",
     "text": [
      "Train Loss: 0.558, Train Acc: 0.518\r"
     ]
    },
    {
     "name": "stderr",
     "output_type": "stream",
     "text": [
      "Epoch 1/1:  48%|████▊     | 272/563 [1:57:37<2:15:41, 27.98s/it]"
     ]
    },
    {
     "name": "stdout",
     "output_type": "stream",
     "text": [
      "Train Loss: 0.559, Train Acc: 0.519\r"
     ]
    },
    {
     "name": "stderr",
     "output_type": "stream",
     "text": [
      "Epoch 1/1:  48%|████▊     | 273/563 [1:58:04<2:14:06, 27.75s/it]"
     ]
    },
    {
     "name": "stdout",
     "output_type": "stream",
     "text": [
      "Train Loss: 0.562, Train Acc: 0.518\r"
     ]
    },
    {
     "name": "stderr",
     "output_type": "stream",
     "text": [
      "Epoch 1/1:  49%|████▊     | 274/563 [1:58:31<2:13:05, 27.63s/it]"
     ]
    },
    {
     "name": "stdout",
     "output_type": "stream",
     "text": [
      "Train Loss: 0.564, Train Acc: 0.517\r"
     ]
    },
    {
     "name": "stderr",
     "output_type": "stream",
     "text": [
      "Epoch 1/1:  49%|████▉     | 275/563 [1:58:59<2:13:28, 27.81s/it]"
     ]
    },
    {
     "name": "stdout",
     "output_type": "stream",
     "text": [
      "Train Loss: 0.566, Train Acc: 0.516\r"
     ]
    },
    {
     "name": "stderr",
     "output_type": "stream",
     "text": [
      "Epoch 1/1:  49%|████▉     | 276/563 [1:59:27<2:12:59, 27.80s/it]"
     ]
    },
    {
     "name": "stdout",
     "output_type": "stream",
     "text": [
      "Train Loss: 0.567, Train Acc: 0.517\r"
     ]
    },
    {
     "name": "stderr",
     "output_type": "stream",
     "text": [
      "Epoch 1/1:  49%|████▉     | 277/563 [1:59:55<2:12:41, 27.84s/it]"
     ]
    },
    {
     "name": "stdout",
     "output_type": "stream",
     "text": [
      "Train Loss: 0.569, Train Acc: 0.517\r"
     ]
    },
    {
     "name": "stderr",
     "output_type": "stream",
     "text": [
      "Epoch 1/1:  49%|████▉     | 278/563 [2:00:24<2:13:14, 28.05s/it]"
     ]
    },
    {
     "name": "stdout",
     "output_type": "stream",
     "text": [
      "Train Loss: 0.573, Train Acc: 0.517\r"
     ]
    },
    {
     "name": "stderr",
     "output_type": "stream",
     "text": [
      "Epoch 1/1:  50%|████▉     | 279/563 [2:00:51<2:11:56, 27.88s/it]"
     ]
    },
    {
     "name": "stdout",
     "output_type": "stream",
     "text": [
      "Train Loss: 0.575, Train Acc: 0.517\r"
     ]
    },
    {
     "name": "stderr",
     "output_type": "stream",
     "text": [
      "Epoch 1/1:  50%|████▉     | 280/563 [2:01:18<2:10:33, 27.68s/it]"
     ]
    },
    {
     "name": "stdout",
     "output_type": "stream",
     "text": [
      "Train Loss: 0.577, Train Acc: 0.516\r"
     ]
    },
    {
     "name": "stderr",
     "output_type": "stream",
     "text": [
      "Epoch 1/1:  50%|████▉     | 281/563 [2:01:47<2:11:09, 27.91s/it]"
     ]
    },
    {
     "name": "stdout",
     "output_type": "stream",
     "text": [
      "Train Loss: 0.580, Train Acc: 0.516\r"
     ]
    },
    {
     "name": "stderr",
     "output_type": "stream",
     "text": [
      "Epoch 1/1:  50%|█████     | 282/563 [2:02:14<2:10:09, 27.79s/it]"
     ]
    },
    {
     "name": "stdout",
     "output_type": "stream",
     "text": [
      "Train Loss: 0.582, Train Acc: 0.515\r"
     ]
    },
    {
     "name": "stderr",
     "output_type": "stream",
     "text": [
      "Epoch 1/1:  50%|█████     | 283/563 [2:02:43<2:10:50, 28.04s/it]"
     ]
    },
    {
     "name": "stdout",
     "output_type": "stream",
     "text": [
      "Train Loss: 0.583, Train Acc: 0.515\r"
     ]
    },
    {
     "name": "stderr",
     "output_type": "stream",
     "text": [
      "Epoch 1/1:  50%|█████     | 284/563 [2:03:10<2:09:44, 27.90s/it]"
     ]
    },
    {
     "name": "stdout",
     "output_type": "stream",
     "text": [
      "Train Loss: 0.585, Train Acc: 0.515\r"
     ]
    },
    {
     "name": "stderr",
     "output_type": "stream",
     "text": [
      "Epoch 1/1:  51%|█████     | 285/563 [2:03:38<2:08:39, 27.77s/it]"
     ]
    },
    {
     "name": "stdout",
     "output_type": "stream",
     "text": [
      "Train Loss: 0.586, Train Acc: 0.516\r"
     ]
    },
    {
     "name": "stderr",
     "output_type": "stream",
     "text": [
      "Epoch 1/1:  51%|█████     | 286/563 [2:04:06<2:09:10, 27.98s/it]"
     ]
    },
    {
     "name": "stdout",
     "output_type": "stream",
     "text": [
      "Train Loss: 0.588, Train Acc: 0.516\r"
     ]
    },
    {
     "name": "stderr",
     "output_type": "stream",
     "text": [
      "Epoch 1/1:  51%|█████     | 287/563 [2:04:34<2:08:21, 27.90s/it]"
     ]
    },
    {
     "name": "stdout",
     "output_type": "stream",
     "text": [
      "Train Loss: 0.589, Train Acc: 0.517\r"
     ]
    },
    {
     "name": "stderr",
     "output_type": "stream",
     "text": [
      "Epoch 1/1:  51%|█████     | 288/563 [2:05:02<2:07:40, 27.85s/it]"
     ]
    },
    {
     "name": "stdout",
     "output_type": "stream",
     "text": [
      "Train Loss: 0.591, Train Acc: 0.516\r"
     ]
    },
    {
     "name": "stderr",
     "output_type": "stream",
     "text": [
      "Epoch 1/1:  51%|█████▏    | 289/563 [2:05:30<2:08:06, 28.05s/it]"
     ]
    },
    {
     "name": "stdout",
     "output_type": "stream",
     "text": [
      "Train Loss: 0.592, Train Acc: 0.516\r"
     ]
    },
    {
     "name": "stderr",
     "output_type": "stream",
     "text": [
      "Epoch 1/1:  52%|█████▏    | 290/563 [2:05:58<2:07:11, 27.95s/it]"
     ]
    },
    {
     "name": "stdout",
     "output_type": "stream",
     "text": [
      "Train Loss: 0.595, Train Acc: 0.516\r"
     ]
    },
    {
     "name": "stderr",
     "output_type": "stream",
     "text": [
      "Epoch 1/1:  52%|█████▏    | 291/563 [2:06:27<2:07:37, 28.15s/it]"
     ]
    },
    {
     "name": "stdout",
     "output_type": "stream",
     "text": [
      "Train Loss: 0.597, Train Acc: 0.515\r"
     ]
    },
    {
     "name": "stderr",
     "output_type": "stream",
     "text": [
      "Epoch 1/1:  52%|█████▏    | 292/563 [2:06:54<2:06:29, 28.01s/it]"
     ]
    },
    {
     "name": "stdout",
     "output_type": "stream",
     "text": [
      "Train Loss: 0.599, Train Acc: 0.515\r"
     ]
    },
    {
     "name": "stderr",
     "output_type": "stream",
     "text": [
      "Epoch 1/1:  52%|█████▏    | 293/563 [2:07:22<2:05:27, 27.88s/it]"
     ]
    },
    {
     "name": "stdout",
     "output_type": "stream",
     "text": [
      "Train Loss: 0.601, Train Acc: 0.515\r"
     ]
    },
    {
     "name": "stderr",
     "output_type": "stream",
     "text": [
      "Epoch 1/1:  52%|█████▏    | 294/563 [2:07:50<2:05:51, 28.07s/it]"
     ]
    },
    {
     "name": "stdout",
     "output_type": "stream",
     "text": [
      "Train Loss: 0.603, Train Acc: 0.514\r"
     ]
    },
    {
     "name": "stderr",
     "output_type": "stream",
     "text": [
      "Epoch 1/1:  52%|█████▏    | 295/563 [2:08:19<2:05:20, 28.06s/it]"
     ]
    },
    {
     "name": "stdout",
     "output_type": "stream",
     "text": [
      "Train Loss: 0.605, Train Acc: 0.514\r"
     ]
    },
    {
     "name": "stderr",
     "output_type": "stream",
     "text": [
      "Epoch 1/1:  53%|█████▎    | 296/563 [2:08:47<2:05:45, 28.26s/it]"
     ]
    },
    {
     "name": "stdout",
     "output_type": "stream",
     "text": [
      "Train Loss: 0.607, Train Acc: 0.515\r"
     ]
    },
    {
     "name": "stderr",
     "output_type": "stream",
     "text": [
      "Epoch 1/1:  53%|█████▎    | 297/563 [2:09:15<2:04:32, 28.09s/it]"
     ]
    },
    {
     "name": "stdout",
     "output_type": "stream",
     "text": [
      "Train Loss: 0.610, Train Acc: 0.515\r"
     ]
    },
    {
     "name": "stderr",
     "output_type": "stream",
     "text": [
      "Epoch 1/1:  53%|█████▎    | 298/563 [2:09:43<2:04:09, 28.11s/it]"
     ]
    },
    {
     "name": "stdout",
     "output_type": "stream",
     "text": [
      "Train Loss: 0.612, Train Acc: 0.515\r"
     ]
    },
    {
     "name": "stderr",
     "output_type": "stream",
     "text": [
      "Epoch 1/1:  53%|█████▎    | 299/563 [2:10:12<2:04:58, 28.40s/it]"
     ]
    },
    {
     "name": "stdout",
     "output_type": "stream",
     "text": [
      "Train Loss: 0.613, Train Acc: 0.515\r"
     ]
    },
    {
     "name": "stderr",
     "output_type": "stream",
     "text": [
      "Epoch 1/1:  53%|█████▎    | 300/563 [2:10:40<2:03:49, 28.25s/it]"
     ]
    },
    {
     "name": "stdout",
     "output_type": "stream",
     "text": [
      "Train Loss: 0.615, Train Acc: 0.515\r"
     ]
    },
    {
     "name": "stderr",
     "output_type": "stream",
     "text": [
      "Epoch 1/1:  53%|█████▎    | 301/563 [2:11:09<2:03:53, 28.37s/it]"
     ]
    },
    {
     "name": "stdout",
     "output_type": "stream",
     "text": [
      "Train Loss: 0.618, Train Acc: 0.515\r"
     ]
    },
    {
     "name": "stderr",
     "output_type": "stream",
     "text": [
      "Epoch 1/1:  54%|█████▎    | 302/563 [2:11:37<2:03:02, 28.29s/it]"
     ]
    },
    {
     "name": "stdout",
     "output_type": "stream",
     "text": [
      "Train Loss: 0.620, Train Acc: 0.515\r"
     ]
    },
    {
     "name": "stderr",
     "output_type": "stream",
     "text": [
      "Epoch 1/1:  54%|█████▍    | 303/563 [2:12:05<2:02:33, 28.28s/it]"
     ]
    },
    {
     "name": "stdout",
     "output_type": "stream",
     "text": [
      "Train Loss: 0.621, Train Acc: 0.515\r"
     ]
    },
    {
     "name": "stderr",
     "output_type": "stream",
     "text": [
      "Epoch 1/1:  54%|█████▍    | 304/563 [2:12:34<2:03:07, 28.52s/it]"
     ]
    },
    {
     "name": "stdout",
     "output_type": "stream",
     "text": [
      "Train Loss: 0.623, Train Acc: 0.515\r"
     ]
    },
    {
     "name": "stderr",
     "output_type": "stream",
     "text": [
      "Epoch 1/1:  54%|█████▍    | 305/563 [2:13:02<2:02:09, 28.41s/it]"
     ]
    },
    {
     "name": "stdout",
     "output_type": "stream",
     "text": [
      "Train Loss: 0.625, Train Acc: 0.516\r"
     ]
    },
    {
     "name": "stderr",
     "output_type": "stream",
     "text": [
      "Epoch 1/1:  54%|█████▍    | 306/563 [2:13:31<2:02:13, 28.54s/it]"
     ]
    },
    {
     "name": "stdout",
     "output_type": "stream",
     "text": [
      "Train Loss: 0.626, Train Acc: 0.516\r"
     ]
    },
    {
     "name": "stderr",
     "output_type": "stream",
     "text": [
      "Epoch 1/1:  55%|█████▍    | 307/563 [2:13:59<2:01:08, 28.39s/it]"
     ]
    },
    {
     "name": "stdout",
     "output_type": "stream",
     "text": [
      "Train Loss: 0.627, Train Acc: 0.516\r"
     ]
    },
    {
     "name": "stderr",
     "output_type": "stream",
     "text": [
      "Epoch 1/1:  55%|█████▍    | 308/563 [2:14:28<2:01:24, 28.57s/it]"
     ]
    },
    {
     "name": "stdout",
     "output_type": "stream",
     "text": [
      "Train Loss: 0.629, Train Acc: 0.516\r"
     ]
    },
    {
     "name": "stderr",
     "output_type": "stream",
     "text": [
      "Epoch 1/1:  55%|█████▍    | 309/563 [2:14:56<2:00:08, 28.38s/it]"
     ]
    },
    {
     "name": "stdout",
     "output_type": "stream",
     "text": [
      "Train Loss: 0.631, Train Acc: 0.516\r"
     ]
    },
    {
     "name": "stderr",
     "output_type": "stream",
     "text": [
      "Epoch 1/1:  55%|█████▌    | 310/563 [2:15:24<1:59:25, 28.32s/it]"
     ]
    },
    {
     "name": "stdout",
     "output_type": "stream",
     "text": [
      "Train Loss: 0.632, Train Acc: 0.516\r"
     ]
    },
    {
     "name": "stderr",
     "output_type": "stream",
     "text": [
      "Epoch 1/1:  55%|█████▌    | 311/563 [2:15:53<1:59:44, 28.51s/it]"
     ]
    },
    {
     "name": "stdout",
     "output_type": "stream",
     "text": [
      "Train Loss: 0.635, Train Acc: 0.516\r"
     ]
    },
    {
     "name": "stderr",
     "output_type": "stream",
     "text": [
      "Epoch 1/1:  55%|█████▌    | 312/563 [2:16:21<1:58:17, 28.28s/it]"
     ]
    },
    {
     "name": "stdout",
     "output_type": "stream",
     "text": [
      "Train Loss: 0.637, Train Acc: 0.516\r"
     ]
    },
    {
     "name": "stderr",
     "output_type": "stream",
     "text": [
      "Epoch 1/1:  56%|█████▌    | 313/563 [2:16:50<1:58:44, 28.50s/it]"
     ]
    },
    {
     "name": "stdout",
     "output_type": "stream",
     "text": [
      "Train Loss: 0.638, Train Acc: 0.517\r"
     ]
    },
    {
     "name": "stderr",
     "output_type": "stream",
     "text": [
      "Epoch 1/1:  56%|█████▌    | 314/563 [2:17:18<1:58:13, 28.49s/it]"
     ]
    },
    {
     "name": "stdout",
     "output_type": "stream",
     "text": [
      "Train Loss: 0.639, Train Acc: 0.516\r"
     ]
    },
    {
     "name": "stderr",
     "output_type": "stream",
     "text": [
      "Epoch 1/1:  56%|█████▌    | 315/563 [2:17:48<1:58:41, 28.71s/it]"
     ]
    },
    {
     "name": "stdout",
     "output_type": "stream",
     "text": [
      "Train Loss: 0.641, Train Acc: 0.516\r"
     ]
    },
    {
     "name": "stderr",
     "output_type": "stream",
     "text": [
      "Epoch 1/1:  56%|█████▌    | 316/563 [2:18:16<1:57:22, 28.51s/it]"
     ]
    },
    {
     "name": "stdout",
     "output_type": "stream",
     "text": [
      "Train Loss: 0.643, Train Acc: 0.516\r"
     ]
    },
    {
     "name": "stderr",
     "output_type": "stream",
     "text": [
      "Epoch 1/1:  56%|█████▋    | 317/563 [2:18:44<1:56:24, 28.39s/it]"
     ]
    },
    {
     "name": "stdout",
     "output_type": "stream",
     "text": [
      "Train Loss: 0.644, Train Acc: 0.516\r"
     ]
    },
    {
     "name": "stderr",
     "output_type": "stream",
     "text": [
      "Epoch 1/1:  56%|█████▋    | 318/563 [2:19:13<1:57:09, 28.69s/it]"
     ]
    },
    {
     "name": "stdout",
     "output_type": "stream",
     "text": [
      "Train Loss: 0.645, Train Acc: 0.517\r"
     ]
    },
    {
     "name": "stderr",
     "output_type": "stream",
     "text": [
      "Epoch 1/1:  57%|█████▋    | 319/563 [2:19:41<1:55:52, 28.50s/it]"
     ]
    },
    {
     "name": "stdout",
     "output_type": "stream",
     "text": [
      "Train Loss: 0.646, Train Acc: 0.517\r"
     ]
    },
    {
     "name": "stderr",
     "output_type": "stream",
     "text": [
      "Epoch 1/1:  57%|█████▋    | 320/563 [2:20:10<1:55:59, 28.64s/it]"
     ]
    },
    {
     "name": "stdout",
     "output_type": "stream",
     "text": [
      "Train Loss: 0.648, Train Acc: 0.517\r"
     ]
    },
    {
     "name": "stderr",
     "output_type": "stream",
     "text": [
      "Epoch 1/1:  57%|█████▋    | 321/563 [2:20:39<1:55:27, 28.63s/it]"
     ]
    },
    {
     "name": "stdout",
     "output_type": "stream",
     "text": [
      "Train Loss: 0.649, Train Acc: 0.517\r"
     ]
    },
    {
     "name": "stderr",
     "output_type": "stream",
     "text": [
      "Epoch 1/1:  57%|█████▋    | 322/563 [2:21:08<1:55:04, 28.65s/it]"
     ]
    },
    {
     "name": "stdout",
     "output_type": "stream",
     "text": [
      "Train Loss: 0.651, Train Acc: 0.516\r"
     ]
    },
    {
     "name": "stderr",
     "output_type": "stream",
     "text": [
      "Epoch 1/1:  57%|█████▋    | 323/563 [2:21:36<1:54:22, 28.59s/it]"
     ]
    },
    {
     "name": "stdout",
     "output_type": "stream",
     "text": [
      "Train Loss: 0.653, Train Acc: 0.516\r"
     ]
    },
    {
     "name": "stderr",
     "output_type": "stream",
     "text": [
      "Epoch 1/1:  58%|█████▊    | 324/563 [2:22:05<1:54:21, 28.71s/it]"
     ]
    },
    {
     "name": "stdout",
     "output_type": "stream",
     "text": [
      "Train Loss: 0.655, Train Acc: 0.516\r"
     ]
    },
    {
     "name": "stderr",
     "output_type": "stream",
     "text": [
      "Epoch 1/1:  58%|█████▊    | 325/563 [2:22:33<1:53:05, 28.51s/it]"
     ]
    },
    {
     "name": "stdout",
     "output_type": "stream",
     "text": [
      "Train Loss: 0.656, Train Acc: 0.517\r"
     ]
    },
    {
     "name": "stderr",
     "output_type": "stream",
     "text": [
      "Epoch 1/1:  58%|█████▊    | 326/563 [2:23:02<1:53:16, 28.68s/it]"
     ]
    },
    {
     "name": "stdout",
     "output_type": "stream",
     "text": [
      "Train Loss: 0.658, Train Acc: 0.517\r"
     ]
    },
    {
     "name": "stderr",
     "output_type": "stream",
     "text": [
      "Epoch 1/1:  58%|█████▊    | 327/563 [2:23:30<1:52:11, 28.52s/it]"
     ]
    },
    {
     "name": "stdout",
     "output_type": "stream",
     "text": [
      "Train Loss: 0.660, Train Acc: 0.517\r"
     ]
    },
    {
     "name": "stderr",
     "output_type": "stream",
     "text": [
      "Epoch 1/1:  58%|█████▊    | 328/563 [2:23:59<1:52:07, 28.63s/it]"
     ]
    },
    {
     "name": "stdout",
     "output_type": "stream",
     "text": [
      "Train Loss: 0.662, Train Acc: 0.516\r"
     ]
    },
    {
     "name": "stderr",
     "output_type": "stream",
     "text": [
      "Epoch 1/1:  58%|█████▊    | 329/563 [2:24:27<1:50:49, 28.42s/it]"
     ]
    },
    {
     "name": "stdout",
     "output_type": "stream",
     "text": [
      "Train Loss: 0.664, Train Acc: 0.516\r"
     ]
    },
    {
     "name": "stderr",
     "output_type": "stream",
     "text": [
      "Epoch 1/1:  59%|█████▊    | 330/563 [2:24:56<1:50:44, 28.52s/it]"
     ]
    },
    {
     "name": "stdout",
     "output_type": "stream",
     "text": [
      "Train Loss: 0.665, Train Acc: 0.515\r"
     ]
    },
    {
     "name": "stderr",
     "output_type": "stream",
     "text": [
      "Epoch 1/1:  59%|█████▉    | 331/563 [2:25:24<1:50:22, 28.54s/it]"
     ]
    },
    {
     "name": "stdout",
     "output_type": "stream",
     "text": [
      "Train Loss: 0.667, Train Acc: 0.516\r"
     ]
    },
    {
     "name": "stderr",
     "output_type": "stream",
     "text": [
      "Epoch 1/1:  59%|█████▉    | 332/563 [2:25:54<1:51:02, 28.84s/it]"
     ]
    },
    {
     "name": "stdout",
     "output_type": "stream",
     "text": [
      "Train Loss: 0.669, Train Acc: 0.516\r"
     ]
    },
    {
     "name": "stderr",
     "output_type": "stream",
     "text": [
      "Epoch 1/1:  59%|█████▉    | 333/563 [2:26:22<1:49:55, 28.67s/it]"
     ]
    },
    {
     "name": "stdout",
     "output_type": "stream",
     "text": [
      "Train Loss: 0.670, Train Acc: 0.517\r"
     ]
    },
    {
     "name": "stderr",
     "output_type": "stream",
     "text": [
      "Epoch 1/1:  59%|█████▉    | 334/563 [2:26:52<1:50:56, 29.07s/it]"
     ]
    },
    {
     "name": "stdout",
     "output_type": "stream",
     "text": [
      "Train Loss: 0.673, Train Acc: 0.517\r"
     ]
    },
    {
     "name": "stderr",
     "output_type": "stream",
     "text": [
      "Epoch 1/1:  60%|█████▉    | 335/563 [2:27:21<1:49:50, 28.90s/it]"
     ]
    },
    {
     "name": "stdout",
     "output_type": "stream",
     "text": [
      "Train Loss: 0.675, Train Acc: 0.516\r"
     ]
    },
    {
     "name": "stderr",
     "output_type": "stream",
     "text": [
      "Epoch 1/1:  60%|█████▉    | 336/563 [2:27:49<1:49:06, 28.84s/it]"
     ]
    },
    {
     "name": "stdout",
     "output_type": "stream",
     "text": [
      "Train Loss: 0.677, Train Acc: 0.516\r"
     ]
    },
    {
     "name": "stderr",
     "output_type": "stream",
     "text": [
      "Epoch 1/1:  60%|█████▉    | 337/563 [2:28:19<1:49:13, 29.00s/it]"
     ]
    },
    {
     "name": "stdout",
     "output_type": "stream",
     "text": [
      "Train Loss: 0.678, Train Acc: 0.516\r"
     ]
    },
    {
     "name": "stderr",
     "output_type": "stream",
     "text": [
      "Epoch 1/1:  60%|██████    | 338/563 [2:28:47<1:47:54, 28.78s/it]"
     ]
    },
    {
     "name": "stdout",
     "output_type": "stream",
     "text": [
      "Train Loss: 0.680, Train Acc: 0.516\r"
     ]
    },
    {
     "name": "stderr",
     "output_type": "stream",
     "text": [
      "Epoch 1/1:  60%|██████    | 339/563 [2:29:17<1:48:15, 29.00s/it]"
     ]
    },
    {
     "name": "stdout",
     "output_type": "stream",
     "text": [
      "Train Loss: 0.681, Train Acc: 0.516\r"
     ]
    },
    {
     "name": "stderr",
     "output_type": "stream",
     "text": [
      "Epoch 1/1:  60%|██████    | 340/563 [2:29:47<1:49:19, 29.42s/it]"
     ]
    },
    {
     "name": "stdout",
     "output_type": "stream",
     "text": [
      "Train Loss: 0.682, Train Acc: 0.517\r"
     ]
    },
    {
     "name": "stderr",
     "output_type": "stream",
     "text": [
      "Epoch 1/1:  61%|██████    | 341/563 [2:30:19<1:52:12, 30.33s/it]"
     ]
    },
    {
     "name": "stdout",
     "output_type": "stream",
     "text": [
      "Train Loss: 0.684, Train Acc: 0.517\r"
     ]
    },
    {
     "name": "stderr",
     "output_type": "stream",
     "text": [
      "Epoch 1/1:  61%|██████    | 342/563 [2:30:55<1:57:22, 31.87s/it]"
     ]
    },
    {
     "name": "stdout",
     "output_type": "stream",
     "text": [
      "Train Loss: 0.685, Train Acc: 0.516\r"
     ]
    },
    {
     "name": "stderr",
     "output_type": "stream",
     "text": [
      "Epoch 1/1:  61%|██████    | 343/563 [2:31:20<1:49:47, 29.94s/it]"
     ]
    },
    {
     "name": "stdout",
     "output_type": "stream",
     "text": [
      "Train Loss: 0.687, Train Acc: 0.517\r"
     ]
    },
    {
     "name": "stderr",
     "output_type": "stream",
     "text": [
      "Epoch 1/1:  61%|██████    | 344/563 [2:31:45<1:43:53, 28.46s/it]"
     ]
    },
    {
     "name": "stdout",
     "output_type": "stream",
     "text": [
      "Train Loss: 0.688, Train Acc: 0.516\r"
     ]
    },
    {
     "name": "stderr",
     "output_type": "stream",
     "text": [
      "Epoch 1/1:  61%|██████▏   | 345/563 [2:32:11<1:40:04, 27.54s/it]"
     ]
    },
    {
     "name": "stdout",
     "output_type": "stream",
     "text": [
      "Train Loss: 0.690, Train Acc: 0.516\r"
     ]
    },
    {
     "name": "stderr",
     "output_type": "stream",
     "text": [
      "Epoch 1/1:  61%|██████▏   | 346/563 [2:32:36<1:37:27, 26.95s/it]"
     ]
    },
    {
     "name": "stdout",
     "output_type": "stream",
     "text": [
      "Train Loss: 0.691, Train Acc: 0.516\r"
     ]
    },
    {
     "name": "stderr",
     "output_type": "stream",
     "text": [
      "Epoch 1/1:  62%|██████▏   | 347/563 [2:33:01<1:34:58, 26.38s/it]"
     ]
    },
    {
     "name": "stdout",
     "output_type": "stream",
     "text": [
      "Train Loss: 0.693, Train Acc: 0.516\r"
     ]
    },
    {
     "name": "stderr",
     "output_type": "stream",
     "text": [
      "Epoch 1/1:  62%|██████▏   | 348/563 [2:33:26<1:33:00, 25.95s/it]"
     ]
    },
    {
     "name": "stdout",
     "output_type": "stream",
     "text": [
      "Train Loss: 0.694, Train Acc: 0.516\r"
     ]
    },
    {
     "name": "stderr",
     "output_type": "stream",
     "text": [
      "Epoch 1/1:  62%|██████▏   | 349/563 [2:33:51<1:31:22, 25.62s/it]"
     ]
    },
    {
     "name": "stdout",
     "output_type": "stream",
     "text": [
      "Train Loss: 0.696, Train Acc: 0.516\r"
     ]
    },
    {
     "name": "stderr",
     "output_type": "stream",
     "text": [
      "Epoch 1/1:  62%|██████▏   | 350/563 [2:34:16<1:30:04, 25.37s/it]"
     ]
    },
    {
     "name": "stdout",
     "output_type": "stream",
     "text": [
      "Train Loss: 0.697, Train Acc: 0.517\r"
     ]
    },
    {
     "name": "stderr",
     "output_type": "stream",
     "text": [
      "Epoch 1/1:  62%|██████▏   | 351/563 [2:34:41<1:28:50, 25.14s/it]"
     ]
    },
    {
     "name": "stdout",
     "output_type": "stream",
     "text": [
      "Train Loss: 0.699, Train Acc: 0.517\r"
     ]
    },
    {
     "name": "stderr",
     "output_type": "stream",
     "text": [
      "Epoch 1/1:  63%|██████▎   | 352/563 [2:35:05<1:28:07, 25.06s/it]"
     ]
    },
    {
     "name": "stdout",
     "output_type": "stream",
     "text": [
      "Train Loss: 0.701, Train Acc: 0.517\r"
     ]
    },
    {
     "name": "stderr",
     "output_type": "stream",
     "text": [
      "Epoch 1/1:  63%|██████▎   | 353/563 [2:35:31<1:27:53, 25.11s/it]"
     ]
    },
    {
     "name": "stdout",
     "output_type": "stream",
     "text": [
      "Train Loss: 0.702, Train Acc: 0.517\r"
     ]
    },
    {
     "name": "stderr",
     "output_type": "stream",
     "text": [
      "Epoch 1/1:  63%|██████▎   | 354/563 [2:35:56<1:27:15, 25.05s/it]"
     ]
    },
    {
     "name": "stdout",
     "output_type": "stream",
     "text": [
      "Train Loss: 0.706, Train Acc: 0.517\r"
     ]
    },
    {
     "name": "stderr",
     "output_type": "stream",
     "text": [
      "Epoch 1/1:  63%|██████▎   | 355/563 [2:36:21<1:26:43, 25.02s/it]"
     ]
    },
    {
     "name": "stdout",
     "output_type": "stream",
     "text": [
      "Train Loss: 0.710, Train Acc: 0.516\r"
     ]
    },
    {
     "name": "stderr",
     "output_type": "stream",
     "text": [
      "Epoch 1/1:  63%|██████▎   | 356/563 [2:36:45<1:26:11, 24.99s/it]"
     ]
    },
    {
     "name": "stdout",
     "output_type": "stream",
     "text": [
      "Train Loss: 0.711, Train Acc: 0.517\r"
     ]
    },
    {
     "name": "stderr",
     "output_type": "stream",
     "text": [
      "Epoch 1/1:  63%|██████▎   | 357/563 [2:37:11<1:26:46, 25.27s/it]"
     ]
    },
    {
     "name": "stdout",
     "output_type": "stream",
     "text": [
      "Train Loss: 0.713, Train Acc: 0.517\r"
     ]
    },
    {
     "name": "stderr",
     "output_type": "stream",
     "text": [
      "Epoch 1/1:  64%|██████▎   | 358/563 [2:37:36<1:26:11, 25.23s/it]"
     ]
    },
    {
     "name": "stdout",
     "output_type": "stream",
     "text": [
      "Train Loss: 0.716, Train Acc: 0.517\r"
     ]
    },
    {
     "name": "stderr",
     "output_type": "stream",
     "text": [
      "Epoch 1/1:  64%|██████▍   | 359/563 [2:38:02<1:25:41, 25.21s/it]"
     ]
    },
    {
     "name": "stdout",
     "output_type": "stream",
     "text": [
      "Train Loss: 0.719, Train Acc: 0.517\r"
     ]
    },
    {
     "name": "stderr",
     "output_type": "stream",
     "text": [
      "Epoch 1/1:  64%|██████▍   | 360/563 [2:38:26<1:24:49, 25.07s/it]"
     ]
    },
    {
     "name": "stdout",
     "output_type": "stream",
     "text": [
      "Train Loss: 0.720, Train Acc: 0.516\r"
     ]
    },
    {
     "name": "stderr",
     "output_type": "stream",
     "text": [
      "Epoch 1/1:  64%|██████▍   | 361/563 [2:38:51<1:24:05, 24.98s/it]"
     ]
    },
    {
     "name": "stdout",
     "output_type": "stream",
     "text": [
      "Train Loss: 0.721, Train Acc: 0.517\r"
     ]
    },
    {
     "name": "stderr",
     "output_type": "stream",
     "text": [
      "Epoch 1/1:  64%|██████▍   | 362/563 [2:39:16<1:23:45, 25.00s/it]"
     ]
    },
    {
     "name": "stdout",
     "output_type": "stream",
     "text": [
      "Train Loss: 0.724, Train Acc: 0.516\r"
     ]
    },
    {
     "name": "stderr",
     "output_type": "stream",
     "text": [
      "Epoch 1/1:  64%|██████▍   | 363/563 [2:39:41<1:23:17, 24.99s/it]"
     ]
    },
    {
     "name": "stdout",
     "output_type": "stream",
     "text": [
      "Train Loss: 0.725, Train Acc: 0.516\r"
     ]
    },
    {
     "name": "stderr",
     "output_type": "stream",
     "text": [
      "Epoch 1/1:  65%|██████▍   | 364/563 [2:40:06<1:22:52, 24.99s/it]"
     ]
    },
    {
     "name": "stdout",
     "output_type": "stream",
     "text": [
      "Train Loss: 0.727, Train Acc: 0.517\r"
     ]
    },
    {
     "name": "stderr",
     "output_type": "stream",
     "text": [
      "Epoch 1/1:  65%|██████▍   | 365/563 [2:40:31<1:22:40, 25.05s/it]"
     ]
    },
    {
     "name": "stdout",
     "output_type": "stream",
     "text": [
      "Train Loss: 0.728, Train Acc: 0.517\r"
     ]
    },
    {
     "name": "stderr",
     "output_type": "stream",
     "text": [
      "Epoch 1/1:  65%|██████▌   | 366/563 [2:40:56<1:22:12, 25.04s/it]"
     ]
    },
    {
     "name": "stdout",
     "output_type": "stream",
     "text": [
      "Train Loss: 0.730, Train Acc: 0.517\r"
     ]
    },
    {
     "name": "stderr",
     "output_type": "stream",
     "text": [
      "Epoch 1/1:  65%|██████▌   | 367/563 [2:41:21<1:21:37, 24.99s/it]"
     ]
    },
    {
     "name": "stdout",
     "output_type": "stream",
     "text": [
      "Train Loss: 0.732, Train Acc: 0.517\r"
     ]
    },
    {
     "name": "stderr",
     "output_type": "stream",
     "text": [
      "Epoch 1/1:  65%|██████▌   | 368/563 [2:41:46<1:21:25, 25.06s/it]"
     ]
    },
    {
     "name": "stdout",
     "output_type": "stream",
     "text": [
      "Train Loss: 0.733, Train Acc: 0.516\r"
     ]
    },
    {
     "name": "stderr",
     "output_type": "stream",
     "text": [
      "Epoch 1/1:  66%|██████▌   | 369/563 [2:42:11<1:20:53, 25.02s/it]"
     ]
    },
    {
     "name": "stdout",
     "output_type": "stream",
     "text": [
      "Train Loss: 0.735, Train Acc: 0.517\r"
     ]
    },
    {
     "name": "stderr",
     "output_type": "stream",
     "text": [
      "Epoch 1/1:  66%|██████▌   | 370/563 [2:42:37<1:20:35, 25.06s/it]"
     ]
    },
    {
     "name": "stdout",
     "output_type": "stream",
     "text": [
      "Train Loss: 0.737, Train Acc: 0.516\r"
     ]
    },
    {
     "name": "stderr",
     "output_type": "stream",
     "text": [
      "Epoch 1/1:  66%|██████▌   | 371/563 [2:43:02<1:20:21, 25.11s/it]"
     ]
    },
    {
     "name": "stdout",
     "output_type": "stream",
     "text": [
      "Train Loss: 0.739, Train Acc: 0.516\r"
     ]
    },
    {
     "name": "stderr",
     "output_type": "stream",
     "text": [
      "Epoch 1/1:  66%|██████▌   | 372/563 [2:43:28<1:21:02, 25.46s/it]"
     ]
    },
    {
     "name": "stdout",
     "output_type": "stream",
     "text": [
      "Train Loss: 0.740, Train Acc: 0.516\r"
     ]
    },
    {
     "name": "stderr",
     "output_type": "stream",
     "text": [
      "Epoch 1/1:  66%|██████▋   | 373/563 [2:43:53<1:20:20, 25.37s/it]"
     ]
    },
    {
     "name": "stdout",
     "output_type": "stream",
     "text": [
      "Train Loss: 0.743, Train Acc: 0.517\r"
     ]
    },
    {
     "name": "stderr",
     "output_type": "stream",
     "text": [
      "Epoch 1/1:  66%|██████▋   | 374/563 [2:44:18<1:19:28, 25.23s/it]"
     ]
    },
    {
     "name": "stdout",
     "output_type": "stream",
     "text": [
      "Train Loss: 0.744, Train Acc: 0.517\r"
     ]
    },
    {
     "name": "stderr",
     "output_type": "stream",
     "text": [
      "Epoch 1/1:  67%|██████▋   | 375/563 [2:44:44<1:19:14, 25.29s/it]"
     ]
    },
    {
     "name": "stdout",
     "output_type": "stream",
     "text": [
      "Train Loss: 0.746, Train Acc: 0.516\r"
     ]
    },
    {
     "name": "stderr",
     "output_type": "stream",
     "text": [
      "Epoch 1/1:  67%|██████▋   | 376/563 [2:45:09<1:18:32, 25.20s/it]"
     ]
    },
    {
     "name": "stdout",
     "output_type": "stream",
     "text": [
      "Train Loss: 0.749, Train Acc: 0.515\r"
     ]
    },
    {
     "name": "stderr",
     "output_type": "stream",
     "text": [
      "Epoch 1/1:  67%|██████▋   | 377/563 [2:45:34<1:18:03, 25.18s/it]"
     ]
    },
    {
     "name": "stdout",
     "output_type": "stream",
     "text": [
      "Train Loss: 0.751, Train Acc: 0.515\r"
     ]
    },
    {
     "name": "stderr",
     "output_type": "stream",
     "text": [
      "Epoch 1/1:  67%|██████▋   | 378/563 [2:45:59<1:17:37, 25.18s/it]"
     ]
    },
    {
     "name": "stdout",
     "output_type": "stream",
     "text": [
      "Train Loss: 0.752, Train Acc: 0.515\r"
     ]
    },
    {
     "name": "stderr",
     "output_type": "stream",
     "text": [
      "Epoch 1/1:  67%|██████▋   | 379/563 [2:46:24<1:17:32, 25.29s/it]"
     ]
    },
    {
     "name": "stdout",
     "output_type": "stream",
     "text": [
      "Train Loss: 0.754, Train Acc: 0.516\r"
     ]
    },
    {
     "name": "stderr",
     "output_type": "stream",
     "text": [
      "Epoch 1/1:  67%|██████▋   | 380/563 [2:46:49<1:16:56, 25.23s/it]"
     ]
    },
    {
     "name": "stdout",
     "output_type": "stream",
     "text": [
      "Train Loss: 0.755, Train Acc: 0.516\r"
     ]
    },
    {
     "name": "stderr",
     "output_type": "stream",
     "text": [
      "Epoch 1/1:  68%|██████▊   | 381/563 [2:47:14<1:16:16, 25.15s/it]"
     ]
    },
    {
     "name": "stdout",
     "output_type": "stream",
     "text": [
      "Train Loss: 0.756, Train Acc: 0.516\r"
     ]
    },
    {
     "name": "stderr",
     "output_type": "stream",
     "text": [
      "Epoch 1/1:  68%|██████▊   | 382/563 [2:47:40<1:15:55, 25.17s/it]"
     ]
    },
    {
     "name": "stdout",
     "output_type": "stream",
     "text": [
      "Train Loss: 0.758, Train Acc: 0.516\r"
     ]
    },
    {
     "name": "stderr",
     "output_type": "stream",
     "text": [
      "Epoch 1/1:  68%|██████▊   | 383/563 [2:48:06<1:16:08, 25.38s/it]"
     ]
    },
    {
     "name": "stdout",
     "output_type": "stream",
     "text": [
      "Train Loss: 0.759, Train Acc: 0.516\r"
     ]
    },
    {
     "name": "stderr",
     "output_type": "stream",
     "text": [
      "Epoch 1/1:  68%|██████▊   | 384/563 [2:48:32<1:16:35, 25.67s/it]"
     ]
    },
    {
     "name": "stdout",
     "output_type": "stream",
     "text": [
      "Train Loss: 0.760, Train Acc: 0.516\r"
     ]
    },
    {
     "name": "stderr",
     "output_type": "stream",
     "text": [
      "Epoch 1/1:  68%|██████▊   | 385/563 [2:48:57<1:15:42, 25.52s/it]"
     ]
    },
    {
     "name": "stdout",
     "output_type": "stream",
     "text": [
      "Train Loss: 0.761, Train Acc: 0.517\r"
     ]
    },
    {
     "name": "stderr",
     "output_type": "stream",
     "text": [
      "Epoch 1/1:  69%|██████▊   | 386/563 [2:49:22<1:15:00, 25.42s/it]"
     ]
    },
    {
     "name": "stdout",
     "output_type": "stream",
     "text": [
      "Train Loss: 0.763, Train Acc: 0.516\r"
     ]
    },
    {
     "name": "stderr",
     "output_type": "stream",
     "text": [
      "Epoch 1/1:  69%|██████▊   | 387/563 [2:49:48<1:14:31, 25.41s/it]"
     ]
    },
    {
     "name": "stdout",
     "output_type": "stream",
     "text": [
      "Train Loss: 0.764, Train Acc: 0.517\r"
     ]
    },
    {
     "name": "stderr",
     "output_type": "stream",
     "text": [
      "Epoch 1/1:  69%|██████▉   | 388/563 [2:50:13<1:14:01, 25.38s/it]"
     ]
    },
    {
     "name": "stdout",
     "output_type": "stream",
     "text": [
      "Train Loss: 0.766, Train Acc: 0.517\r"
     ]
    },
    {
     "name": "stderr",
     "output_type": "stream",
     "text": [
      "Epoch 1/1:  69%|██████▉   | 389/563 [2:50:38<1:13:19, 25.29s/it]"
     ]
    },
    {
     "name": "stdout",
     "output_type": "stream",
     "text": [
      "Train Loss: 0.768, Train Acc: 0.517\r"
     ]
    },
    {
     "name": "stderr",
     "output_type": "stream",
     "text": [
      "Epoch 1/1:  69%|██████▉   | 390/563 [2:51:03<1:12:55, 25.29s/it]"
     ]
    },
    {
     "name": "stdout",
     "output_type": "stream",
     "text": [
      "Train Loss: 0.770, Train Acc: 0.517\r"
     ]
    },
    {
     "name": "stderr",
     "output_type": "stream",
     "text": [
      "Epoch 1/1:  69%|██████▉   | 391/563 [2:51:28<1:12:20, 25.24s/it]"
     ]
    },
    {
     "name": "stdout",
     "output_type": "stream",
     "text": [
      "Train Loss: 0.771, Train Acc: 0.516\r"
     ]
    },
    {
     "name": "stderr",
     "output_type": "stream",
     "text": [
      "Epoch 1/1:  70%|██████▉   | 392/563 [2:51:54<1:12:00, 25.26s/it]"
     ]
    },
    {
     "name": "stdout",
     "output_type": "stream",
     "text": [
      "Train Loss: 0.774, Train Acc: 0.516\r"
     ]
    },
    {
     "name": "stderr",
     "output_type": "stream",
     "text": [
      "Epoch 1/1:  70%|██████▉   | 393/563 [2:52:19<1:11:36, 25.27s/it]"
     ]
    },
    {
     "name": "stdout",
     "output_type": "stream",
     "text": [
      "Train Loss: 0.776, Train Acc: 0.515\r"
     ]
    },
    {
     "name": "stderr",
     "output_type": "stream",
     "text": [
      "Epoch 1/1:  70%|██████▉   | 394/563 [2:52:45<1:11:48, 25.50s/it]"
     ]
    },
    {
     "name": "stdout",
     "output_type": "stream",
     "text": [
      "Train Loss: 0.778, Train Acc: 0.516\r"
     ]
    },
    {
     "name": "stderr",
     "output_type": "stream",
     "text": [
      "Epoch 1/1:  70%|███████   | 395/563 [2:53:10<1:11:14, 25.45s/it]"
     ]
    },
    {
     "name": "stdout",
     "output_type": "stream",
     "text": [
      "Train Loss: 0.782, Train Acc: 0.516\r"
     ]
    },
    {
     "name": "stderr",
     "output_type": "stream",
     "text": [
      "Epoch 1/1:  70%|███████   | 396/563 [2:53:36<1:10:50, 25.45s/it]"
     ]
    },
    {
     "name": "stdout",
     "output_type": "stream",
     "text": [
      "Train Loss: 0.785, Train Acc: 0.516\r"
     ]
    },
    {
     "name": "stderr",
     "output_type": "stream",
     "text": [
      "Epoch 1/1:  71%|███████   | 397/563 [2:54:02<1:10:37, 25.53s/it]"
     ]
    },
    {
     "name": "stdout",
     "output_type": "stream",
     "text": [
      "Train Loss: 0.787, Train Acc: 0.516\r"
     ]
    },
    {
     "name": "stderr",
     "output_type": "stream",
     "text": [
      "Epoch 1/1:  71%|███████   | 398/563 [2:54:27<1:10:12, 25.53s/it]"
     ]
    },
    {
     "name": "stdout",
     "output_type": "stream",
     "text": [
      "Train Loss: 0.788, Train Acc: 0.516\r"
     ]
    },
    {
     "name": "stderr",
     "output_type": "stream",
     "text": [
      "Epoch 1/1:  71%|███████   | 399/563 [2:54:52<1:09:40, 25.49s/it]"
     ]
    },
    {
     "name": "stdout",
     "output_type": "stream",
     "text": [
      "Train Loss: 0.790, Train Acc: 0.516\r"
     ]
    },
    {
     "name": "stderr",
     "output_type": "stream",
     "text": [
      "Epoch 1/1:  71%|███████   | 400/563 [2:55:18<1:09:18, 25.51s/it]"
     ]
    },
    {
     "name": "stdout",
     "output_type": "stream",
     "text": [
      "Train Loss: 0.792, Train Acc: 0.516\r"
     ]
    },
    {
     "name": "stderr",
     "output_type": "stream",
     "text": [
      "Epoch 1/1:  71%|███████   | 401/563 [2:55:44<1:08:53, 25.51s/it]"
     ]
    },
    {
     "name": "stdout",
     "output_type": "stream",
     "text": [
      "Train Loss: 0.793, Train Acc: 0.516\r"
     ]
    },
    {
     "name": "stderr",
     "output_type": "stream",
     "text": [
      "Epoch 1/1:  71%|███████▏  | 402/563 [2:56:09<1:08:17, 25.45s/it]"
     ]
    },
    {
     "name": "stdout",
     "output_type": "stream",
     "text": [
      "Train Loss: 0.795, Train Acc: 0.516\r"
     ]
    },
    {
     "name": "stderr",
     "output_type": "stream",
     "text": [
      "Epoch 1/1:  72%|███████▏  | 403/563 [2:56:35<1:08:42, 25.76s/it]"
     ]
    },
    {
     "name": "stdout",
     "output_type": "stream",
     "text": [
      "Train Loss: 0.798, Train Acc: 0.517\r"
     ]
    },
    {
     "name": "stderr",
     "output_type": "stream",
     "text": [
      "Epoch 1/1:  72%|███████▏  | 404/563 [2:57:01<1:08:09, 25.72s/it]"
     ]
    },
    {
     "name": "stdout",
     "output_type": "stream",
     "text": [
      "Train Loss: 0.801, Train Acc: 0.517\r"
     ]
    },
    {
     "name": "stderr",
     "output_type": "stream",
     "text": [
      "Epoch 1/1:  72%|███████▏  | 405/563 [2:57:27<1:07:36, 25.67s/it]"
     ]
    },
    {
     "name": "stdout",
     "output_type": "stream",
     "text": [
      "Train Loss: 0.804, Train Acc: 0.517\r"
     ]
    },
    {
     "name": "stderr",
     "output_type": "stream",
     "text": [
      "Epoch 1/1:  72%|███████▏  | 406/563 [2:57:52<1:06:54, 25.57s/it]"
     ]
    },
    {
     "name": "stdout",
     "output_type": "stream",
     "text": [
      "Train Loss: 0.806, Train Acc: 0.516\r"
     ]
    },
    {
     "name": "stderr",
     "output_type": "stream",
     "text": [
      "Epoch 1/1:  72%|███████▏  | 407/563 [2:58:17<1:06:29, 25.57s/it]"
     ]
    },
    {
     "name": "stdout",
     "output_type": "stream",
     "text": [
      "Train Loss: 0.810, Train Acc: 0.516\r"
     ]
    },
    {
     "name": "stderr",
     "output_type": "stream",
     "text": [
      "Epoch 1/1:  72%|███████▏  | 408/563 [2:58:43<1:06:01, 25.56s/it]"
     ]
    },
    {
     "name": "stdout",
     "output_type": "stream",
     "text": [
      "Train Loss: 0.812, Train Acc: 0.515\r"
     ]
    },
    {
     "name": "stderr",
     "output_type": "stream",
     "text": [
      "Epoch 1/1:  73%|███████▎  | 409/563 [2:59:09<1:05:48, 25.64s/it]"
     ]
    },
    {
     "name": "stdout",
     "output_type": "stream",
     "text": [
      "Train Loss: 0.814, Train Acc: 0.516\r"
     ]
    },
    {
     "name": "stderr",
     "output_type": "stream",
     "text": [
      "Epoch 1/1:  73%|███████▎  | 410/563 [2:59:34<1:05:09, 25.55s/it]"
     ]
    },
    {
     "name": "stdout",
     "output_type": "stream",
     "text": [
      "Train Loss: 0.818, Train Acc: 0.515\r"
     ]
    },
    {
     "name": "stderr",
     "output_type": "stream",
     "text": [
      "Epoch 1/1:  73%|███████▎  | 411/563 [3:00:01<1:05:33, 25.88s/it]"
     ]
    },
    {
     "name": "stdout",
     "output_type": "stream",
     "text": [
      "Train Loss: 0.821, Train Acc: 0.515\r"
     ]
    },
    {
     "name": "stderr",
     "output_type": "stream",
     "text": [
      "Epoch 1/1:  73%|███████▎  | 412/563 [3:00:27<1:05:13, 25.91s/it]"
     ]
    },
    {
     "name": "stdout",
     "output_type": "stream",
     "text": [
      "Train Loss: 0.822, Train Acc: 0.515\r"
     ]
    },
    {
     "name": "stderr",
     "output_type": "stream",
     "text": [
      "Epoch 1/1:  73%|███████▎  | 413/563 [3:00:52<1:04:28, 25.79s/it]"
     ]
    },
    {
     "name": "stdout",
     "output_type": "stream",
     "text": [
      "Train Loss: 0.825, Train Acc: 0.515\r"
     ]
    },
    {
     "name": "stderr",
     "output_type": "stream",
     "text": [
      "Epoch 1/1:  74%|███████▎  | 414/563 [3:01:18<1:03:48, 25.69s/it]"
     ]
    },
    {
     "name": "stdout",
     "output_type": "stream",
     "text": [
      "Train Loss: 0.826, Train Acc: 0.515\r"
     ]
    },
    {
     "name": "stderr",
     "output_type": "stream",
     "text": [
      "Epoch 1/1:  74%|███████▎  | 415/563 [3:01:44<1:03:24, 25.71s/it]"
     ]
    },
    {
     "name": "stdout",
     "output_type": "stream",
     "text": [
      "Train Loss: 0.827, Train Acc: 0.515\r"
     ]
    },
    {
     "name": "stderr",
     "output_type": "stream",
     "text": [
      "Epoch 1/1:  74%|███████▍  | 416/563 [3:02:09<1:03:11, 25.79s/it]"
     ]
    },
    {
     "name": "stdout",
     "output_type": "stream",
     "text": [
      "Train Loss: 0.829, Train Acc: 0.515\r"
     ]
    },
    {
     "name": "stderr",
     "output_type": "stream",
     "text": [
      "Epoch 1/1:  74%|███████▍  | 417/563 [3:02:36<1:02:58, 25.88s/it]"
     ]
    },
    {
     "name": "stdout",
     "output_type": "stream",
     "text": [
      "Train Loss: 0.831, Train Acc: 0.515\r"
     ]
    },
    {
     "name": "stderr",
     "output_type": "stream",
     "text": [
      "Epoch 1/1:  74%|███████▍  | 418/563 [3:03:02<1:03:05, 26.10s/it]"
     ]
    },
    {
     "name": "stdout",
     "output_type": "stream",
     "text": [
      "Train Loss: 0.832, Train Acc: 0.516\r"
     ]
    },
    {
     "name": "stderr",
     "output_type": "stream",
     "text": [
      "Epoch 1/1:  74%|███████▍  | 419/563 [3:03:28<1:02:30, 26.05s/it]"
     ]
    },
    {
     "name": "stdout",
     "output_type": "stream",
     "text": [
      "Train Loss: 0.833, Train Acc: 0.516\r"
     ]
    },
    {
     "name": "stderr",
     "output_type": "stream",
     "text": [
      "Epoch 1/1:  75%|███████▍  | 420/563 [3:03:54<1:01:47, 25.93s/it]"
     ]
    },
    {
     "name": "stdout",
     "output_type": "stream",
     "text": [
      "Train Loss: 0.835, Train Acc: 0.515\r"
     ]
    },
    {
     "name": "stderr",
     "output_type": "stream",
     "text": [
      "Epoch 1/1:  75%|███████▍  | 421/563 [3:04:20<1:01:14, 25.88s/it]"
     ]
    },
    {
     "name": "stdout",
     "output_type": "stream",
     "text": [
      "Train Loss: 0.837, Train Acc: 0.515\r"
     ]
    },
    {
     "name": "stderr",
     "output_type": "stream",
     "text": [
      "Epoch 1/1:  75%|███████▍  | 422/563 [3:04:45<1:00:37, 25.80s/it]"
     ]
    },
    {
     "name": "stdout",
     "output_type": "stream",
     "text": [
      "Train Loss: 0.838, Train Acc: 0.515\r"
     ]
    },
    {
     "name": "stderr",
     "output_type": "stream",
     "text": [
      "Epoch 1/1:  75%|███████▌  | 423/563 [3:05:11<1:00:09, 25.78s/it]"
     ]
    },
    {
     "name": "stdout",
     "output_type": "stream",
     "text": [
      "Train Loss: 0.839, Train Acc: 0.516\r"
     ]
    },
    {
     "name": "stderr",
     "output_type": "stream",
     "text": [
      "Epoch 1/1:  75%|███████▌  | 424/563 [3:05:37<59:45, 25.79s/it]  "
     ]
    },
    {
     "name": "stdout",
     "output_type": "stream",
     "text": [
      "Train Loss: 0.841, Train Acc: 0.516\r"
     ]
    },
    {
     "name": "stderr",
     "output_type": "stream",
     "text": [
      "Epoch 1/1:  75%|███████▌  | 425/563 [3:06:03<59:47, 26.00s/it]"
     ]
    },
    {
     "name": "stdout",
     "output_type": "stream",
     "text": [
      "Train Loss: 0.842, Train Acc: 0.516\r"
     ]
    },
    {
     "name": "stderr",
     "output_type": "stream",
     "text": [
      "Epoch 1/1:  76%|███████▌  | 426/563 [3:06:29<59:07, 25.89s/it]"
     ]
    },
    {
     "name": "stdout",
     "output_type": "stream",
     "text": [
      "Train Loss: 0.845, Train Acc: 0.516\r"
     ]
    },
    {
     "name": "stderr",
     "output_type": "stream",
     "text": [
      "Epoch 1/1:  76%|███████▌  | 427/563 [3:06:55<58:32, 25.83s/it]"
     ]
    },
    {
     "name": "stdout",
     "output_type": "stream",
     "text": [
      "Train Loss: 0.846, Train Acc: 0.516\r"
     ]
    },
    {
     "name": "stderr",
     "output_type": "stream",
     "text": [
      "Epoch 1/1:  76%|███████▌  | 428/563 [3:07:21<58:18, 25.92s/it]"
     ]
    },
    {
     "name": "stdout",
     "output_type": "stream",
     "text": [
      "Train Loss: 0.847, Train Acc: 0.515\r"
     ]
    },
    {
     "name": "stderr",
     "output_type": "stream",
     "text": [
      "Epoch 1/1:  76%|███████▌  | 429/563 [3:07:47<58:06, 26.02s/it]"
     ]
    },
    {
     "name": "stdout",
     "output_type": "stream",
     "text": [
      "Train Loss: 0.849, Train Acc: 0.516\r"
     ]
    },
    {
     "name": "stderr",
     "output_type": "stream",
     "text": [
      "Epoch 1/1:  76%|███████▋  | 430/563 [3:08:13<57:24, 25.90s/it]"
     ]
    },
    {
     "name": "stdout",
     "output_type": "stream",
     "text": [
      "Train Loss: 0.851, Train Acc: 0.516\r"
     ]
    },
    {
     "name": "stderr",
     "output_type": "stream",
     "text": [
      "Epoch 1/1:  77%|███████▋  | 431/563 [3:08:39<57:24, 26.10s/it]"
     ]
    },
    {
     "name": "stdout",
     "output_type": "stream",
     "text": [
      "Train Loss: 0.852, Train Acc: 0.516\r"
     ]
    },
    {
     "name": "stderr",
     "output_type": "stream",
     "text": [
      "Epoch 1/1:  77%|███████▋  | 432/563 [3:09:05<56:40, 25.96s/it]"
     ]
    },
    {
     "name": "stdout",
     "output_type": "stream",
     "text": [
      "Train Loss: 0.854, Train Acc: 0.516\r"
     ]
    },
    {
     "name": "stderr",
     "output_type": "stream",
     "text": [
      "Epoch 1/1:  77%|███████▋  | 433/563 [3:09:31<56:15, 25.96s/it]"
     ]
    },
    {
     "name": "stdout",
     "output_type": "stream",
     "text": [
      "Train Loss: 0.855, Train Acc: 0.515\r"
     ]
    },
    {
     "name": "stderr",
     "output_type": "stream",
     "text": [
      "Epoch 1/1:  77%|███████▋  | 434/563 [3:09:57<55:46, 25.94s/it]"
     ]
    },
    {
     "name": "stdout",
     "output_type": "stream",
     "text": [
      "Train Loss: 0.857, Train Acc: 0.515\r"
     ]
    },
    {
     "name": "stderr",
     "output_type": "stream",
     "text": [
      "Epoch 1/1:  77%|███████▋  | 435/563 [3:10:22<55:06, 25.83s/it]"
     ]
    },
    {
     "name": "stdout",
     "output_type": "stream",
     "text": [
      "Train Loss: 0.859, Train Acc: 0.515\r"
     ]
    },
    {
     "name": "stderr",
     "output_type": "stream",
     "text": [
      "Epoch 1/1:  77%|███████▋  | 436/563 [3:10:48<54:41, 25.84s/it]"
     ]
    },
    {
     "name": "stdout",
     "output_type": "stream",
     "text": [
      "Train Loss: 0.860, Train Acc: 0.516\r"
     ]
    },
    {
     "name": "stderr",
     "output_type": "stream",
     "text": [
      "Epoch 1/1:  78%|███████▊  | 437/563 [3:11:15<54:56, 26.16s/it]"
     ]
    },
    {
     "name": "stdout",
     "output_type": "stream",
     "text": [
      "Train Loss: 0.861, Train Acc: 0.516\r"
     ]
    },
    {
     "name": "stderr",
     "output_type": "stream",
     "text": [
      "Epoch 1/1:  78%|███████▊  | 438/563 [3:11:41<54:23, 26.11s/it]"
     ]
    },
    {
     "name": "stdout",
     "output_type": "stream",
     "text": [
      "Train Loss: 0.863, Train Acc: 0.515\r"
     ]
    },
    {
     "name": "stderr",
     "output_type": "stream",
     "text": [
      "Epoch 1/1:  78%|███████▊  | 439/563 [3:12:07<53:44, 26.00s/it]"
     ]
    },
    {
     "name": "stdout",
     "output_type": "stream",
     "text": [
      "Train Loss: 0.864, Train Acc: 0.515\r"
     ]
    },
    {
     "name": "stderr",
     "output_type": "stream",
     "text": [
      "Epoch 1/1:  78%|███████▊  | 440/563 [3:12:33<53:19, 26.01s/it]"
     ]
    },
    {
     "name": "stdout",
     "output_type": "stream",
     "text": [
      "Train Loss: 0.865, Train Acc: 0.516\r"
     ]
    },
    {
     "name": "stderr",
     "output_type": "stream",
     "text": [
      "Epoch 1/1:  78%|███████▊  | 441/563 [3:12:58<52:45, 25.95s/it]"
     ]
    },
    {
     "name": "stdout",
     "output_type": "stream",
     "text": [
      "Train Loss: 0.867, Train Acc: 0.516\r"
     ]
    },
    {
     "name": "stderr",
     "output_type": "stream",
     "text": [
      "Epoch 1/1:  79%|███████▊  | 442/563 [3:13:25<52:25, 26.00s/it]"
     ]
    },
    {
     "name": "stdout",
     "output_type": "stream",
     "text": [
      "Train Loss: 0.869, Train Acc: 0.516\r"
     ]
    },
    {
     "name": "stderr",
     "output_type": "stream",
     "text": [
      "Epoch 1/1:  79%|███████▊  | 443/563 [3:13:51<52:26, 26.22s/it]"
     ]
    },
    {
     "name": "stdout",
     "output_type": "stream",
     "text": [
      "Train Loss: 0.870, Train Acc: 0.517\r"
     ]
    },
    {
     "name": "stderr",
     "output_type": "stream",
     "text": [
      "Epoch 1/1:  79%|███████▉  | 444/563 [3:14:17<51:51, 26.15s/it]"
     ]
    },
    {
     "name": "stdout",
     "output_type": "stream",
     "text": [
      "Train Loss: 0.872, Train Acc: 0.517\r"
     ]
    },
    {
     "name": "stderr",
     "output_type": "stream",
     "text": [
      "Epoch 1/1:  79%|███████▉  | 445/563 [3:14:43<51:19, 26.10s/it]"
     ]
    },
    {
     "name": "stdout",
     "output_type": "stream",
     "text": [
      "Train Loss: 0.873, Train Acc: 0.517\r"
     ]
    },
    {
     "name": "stderr",
     "output_type": "stream",
     "text": [
      "Epoch 1/1:  79%|███████▉  | 446/563 [3:15:09<50:49, 26.07s/it]"
     ]
    },
    {
     "name": "stdout",
     "output_type": "stream",
     "text": [
      "Train Loss: 0.874, Train Acc: 0.517\r"
     ]
    },
    {
     "name": "stderr",
     "output_type": "stream",
     "text": [
      "Epoch 1/1:  79%|███████▉  | 447/563 [3:15:35<50:14, 25.99s/it]"
     ]
    },
    {
     "name": "stdout",
     "output_type": "stream",
     "text": [
      "Train Loss: 0.876, Train Acc: 0.517\r"
     ]
    },
    {
     "name": "stderr",
     "output_type": "stream",
     "text": [
      "Epoch 1/1:  80%|███████▉  | 448/563 [3:16:02<50:21, 26.28s/it]"
     ]
    },
    {
     "name": "stdout",
     "output_type": "stream",
     "text": [
      "Train Loss: 0.877, Train Acc: 0.517\r"
     ]
    },
    {
     "name": "stderr",
     "output_type": "stream",
     "text": [
      "Epoch 1/1:  80%|███████▉  | 449/563 [3:16:29<50:08, 26.39s/it]"
     ]
    },
    {
     "name": "stdout",
     "output_type": "stream",
     "text": [
      "Train Loss: 0.879, Train Acc: 0.517\r"
     ]
    },
    {
     "name": "stderr",
     "output_type": "stream",
     "text": [
      "Epoch 1/1:  80%|███████▉  | 450/563 [3:16:55<49:28, 26.27s/it]"
     ]
    },
    {
     "name": "stdout",
     "output_type": "stream",
     "text": [
      "Train Loss: 0.881, Train Acc: 0.516\r"
     ]
    },
    {
     "name": "stderr",
     "output_type": "stream",
     "text": [
      "Epoch 1/1:  80%|████████  | 451/563 [3:17:21<49:03, 26.28s/it]"
     ]
    },
    {
     "name": "stdout",
     "output_type": "stream",
     "text": [
      "Train Loss: 0.882, Train Acc: 0.516\r"
     ]
    },
    {
     "name": "stderr",
     "output_type": "stream",
     "text": [
      "Epoch 1/1:  80%|████████  | 452/563 [3:17:47<48:40, 26.31s/it]"
     ]
    },
    {
     "name": "stdout",
     "output_type": "stream",
     "text": [
      "Train Loss: 0.884, Train Acc: 0.516\r"
     ]
    },
    {
     "name": "stderr",
     "output_type": "stream",
     "text": [
      "Epoch 1/1:  80%|████████  | 453/563 [3:18:14<48:24, 26.40s/it]"
     ]
    },
    {
     "name": "stdout",
     "output_type": "stream",
     "text": [
      "Train Loss: 0.886, Train Acc: 0.516\r"
     ]
    },
    {
     "name": "stderr",
     "output_type": "stream",
     "text": [
      "Epoch 1/1:  81%|████████  | 454/563 [3:18:41<48:20, 26.61s/it]"
     ]
    },
    {
     "name": "stdout",
     "output_type": "stream",
     "text": [
      "Train Loss: 0.887, Train Acc: 0.516\r"
     ]
    },
    {
     "name": "stderr",
     "output_type": "stream",
     "text": [
      "Epoch 1/1:  81%|████████  | 455/563 [3:19:08<47:48, 26.56s/it]"
     ]
    },
    {
     "name": "stdout",
     "output_type": "stream",
     "text": [
      "Train Loss: 0.889, Train Acc: 0.516\r"
     ]
    },
    {
     "name": "stderr",
     "output_type": "stream",
     "text": [
      "Epoch 1/1:  81%|████████  | 456/563 [3:19:34<47:15, 26.50s/it]"
     ]
    },
    {
     "name": "stdout",
     "output_type": "stream",
     "text": [
      "Train Loss: 0.890, Train Acc: 0.516\r"
     ]
    },
    {
     "name": "stderr",
     "output_type": "stream",
     "text": [
      "Epoch 1/1:  81%|████████  | 457/563 [3:20:01<46:54, 26.55s/it]"
     ]
    },
    {
     "name": "stdout",
     "output_type": "stream",
     "text": [
      "Train Loss: 0.891, Train Acc: 0.516\r"
     ]
    },
    {
     "name": "stderr",
     "output_type": "stream",
     "text": [
      "Epoch 1/1:  81%|████████▏ | 458/563 [3:20:27<46:22, 26.50s/it]"
     ]
    },
    {
     "name": "stdout",
     "output_type": "stream",
     "text": [
      "Train Loss: 0.893, Train Acc: 0.516\r"
     ]
    },
    {
     "name": "stderr",
     "output_type": "stream",
     "text": [
      "Epoch 1/1:  82%|████████▏ | 459/563 [3:20:54<46:07, 26.61s/it]"
     ]
    },
    {
     "name": "stdout",
     "output_type": "stream",
     "text": [
      "Train Loss: 0.894, Train Acc: 0.516\r"
     ]
    },
    {
     "name": "stderr",
     "output_type": "stream",
     "text": [
      "Epoch 1/1:  82%|████████▏ | 460/563 [3:21:20<45:35, 26.56s/it]"
     ]
    },
    {
     "name": "stdout",
     "output_type": "stream",
     "text": [
      "Train Loss: 0.895, Train Acc: 0.516\r"
     ]
    },
    {
     "name": "stderr",
     "output_type": "stream",
     "text": [
      "Epoch 1/1:  82%|████████▏ | 461/563 [3:21:47<45:10, 26.57s/it]"
     ]
    },
    {
     "name": "stdout",
     "output_type": "stream",
     "text": [
      "Train Loss: 0.897, Train Acc: 0.516\r"
     ]
    },
    {
     "name": "stderr",
     "output_type": "stream",
     "text": [
      "Epoch 1/1:  82%|████████▏ | 462/563 [3:22:13<44:30, 26.44s/it]"
     ]
    },
    {
     "name": "stdout",
     "output_type": "stream",
     "text": [
      "Train Loss: 0.898, Train Acc: 0.516\r"
     ]
    },
    {
     "name": "stderr",
     "output_type": "stream",
     "text": [
      "Epoch 1/1:  82%|████████▏ | 463/563 [3:22:40<44:31, 26.72s/it]"
     ]
    },
    {
     "name": "stdout",
     "output_type": "stream",
     "text": [
      "Train Loss: 0.899, Train Acc: 0.516\r"
     ]
    },
    {
     "name": "stderr",
     "output_type": "stream",
     "text": [
      "Epoch 1/1:  82%|████████▏ | 464/563 [3:23:07<43:50, 26.57s/it]"
     ]
    },
    {
     "name": "stdout",
     "output_type": "stream",
     "text": [
      "Train Loss: 0.901, Train Acc: 0.516\r"
     ]
    },
    {
     "name": "stderr",
     "output_type": "stream",
     "text": [
      "Epoch 1/1:  83%|████████▎ | 465/563 [3:23:33<43:10, 26.43s/it]"
     ]
    },
    {
     "name": "stdout",
     "output_type": "stream",
     "text": [
      "Train Loss: 0.903, Train Acc: 0.516\r"
     ]
    },
    {
     "name": "stderr",
     "output_type": "stream",
     "text": [
      "Epoch 1/1:  83%|████████▎ | 466/563 [3:23:59<42:43, 26.43s/it]"
     ]
    },
    {
     "name": "stdout",
     "output_type": "stream",
     "text": [
      "Train Loss: 0.905, Train Acc: 0.516\r"
     ]
    },
    {
     "name": "stderr",
     "output_type": "stream",
     "text": [
      "Epoch 1/1:  83%|████████▎ | 467/563 [3:24:26<42:20, 26.46s/it]"
     ]
    },
    {
     "name": "stdout",
     "output_type": "stream",
     "text": [
      "Train Loss: 0.906, Train Acc: 0.516\r"
     ]
    },
    {
     "name": "stderr",
     "output_type": "stream",
     "text": [
      "Epoch 1/1:  83%|████████▎ | 468/563 [3:24:53<42:27, 26.82s/it]"
     ]
    },
    {
     "name": "stdout",
     "output_type": "stream",
     "text": [
      "Train Loss: 0.908, Train Acc: 0.516\r"
     ]
    },
    {
     "name": "stderr",
     "output_type": "stream",
     "text": [
      "Epoch 1/1:  83%|████████▎ | 469/563 [3:25:20<41:48, 26.68s/it]"
     ]
    },
    {
     "name": "stdout",
     "output_type": "stream",
     "text": [
      "Train Loss: 0.909, Train Acc: 0.516\r"
     ]
    },
    {
     "name": "stderr",
     "output_type": "stream",
     "text": [
      "Epoch 1/1:  83%|████████▎ | 470/563 [3:25:46<41:13, 26.60s/it]"
     ]
    },
    {
     "name": "stdout",
     "output_type": "stream",
     "text": [
      "Train Loss: 0.911, Train Acc: 0.516\r"
     ]
    },
    {
     "name": "stderr",
     "output_type": "stream",
     "text": [
      "Epoch 1/1:  84%|████████▎ | 471/563 [3:26:12<40:36, 26.48s/it]"
     ]
    },
    {
     "name": "stdout",
     "output_type": "stream",
     "text": [
      "Train Loss: 0.913, Train Acc: 0.516\r"
     ]
    },
    {
     "name": "stderr",
     "output_type": "stream",
     "text": [
      "Epoch 1/1:  84%|████████▍ | 472/563 [3:26:39<40:22, 26.62s/it]"
     ]
    },
    {
     "name": "stdout",
     "output_type": "stream",
     "text": [
      "Train Loss: 0.915, Train Acc: 0.516\r"
     ]
    },
    {
     "name": "stderr",
     "output_type": "stream",
     "text": [
      "Epoch 1/1:  84%|████████▍ | 473/563 [3:27:06<39:52, 26.58s/it]"
     ]
    },
    {
     "name": "stdout",
     "output_type": "stream",
     "text": [
      "Train Loss: 0.918, Train Acc: 0.515\r"
     ]
    },
    {
     "name": "stderr",
     "output_type": "stream",
     "text": [
      "Epoch 1/1:  84%|████████▍ | 474/563 [3:27:32<39:20, 26.53s/it]"
     ]
    },
    {
     "name": "stdout",
     "output_type": "stream",
     "text": [
      "Train Loss: 0.919, Train Acc: 0.515\r"
     ]
    },
    {
     "name": "stderr",
     "output_type": "stream",
     "text": [
      "Epoch 1/1:  84%|████████▍ | 475/563 [3:27:59<38:56, 26.56s/it]"
     ]
    },
    {
     "name": "stdout",
     "output_type": "stream",
     "text": [
      "Train Loss: 0.924, Train Acc: 0.514\r"
     ]
    },
    {
     "name": "stderr",
     "output_type": "stream",
     "text": [
      "Epoch 1/1:  85%|████████▍ | 476/563 [3:28:25<38:27, 26.52s/it]"
     ]
    },
    {
     "name": "stdout",
     "output_type": "stream",
     "text": [
      "Train Loss: 0.925, Train Acc: 0.515\r"
     ]
    },
    {
     "name": "stderr",
     "output_type": "stream",
     "text": [
      "Epoch 1/1:  85%|████████▍ | 477/563 [3:28:52<38:17, 26.72s/it]"
     ]
    },
    {
     "name": "stdout",
     "output_type": "stream",
     "text": [
      "Train Loss: 0.928, Train Acc: 0.515\r"
     ]
    },
    {
     "name": "stderr",
     "output_type": "stream",
     "text": [
      "Epoch 1/1:  85%|████████▍ | 478/563 [3:29:19<37:44, 26.64s/it]"
     ]
    },
    {
     "name": "stdout",
     "output_type": "stream",
     "text": [
      "Train Loss: 0.929, Train Acc: 0.514\r"
     ]
    },
    {
     "name": "stderr",
     "output_type": "stream",
     "text": [
      "Epoch 1/1:  85%|████████▌ | 479/563 [3:29:45<37:16, 26.63s/it]"
     ]
    },
    {
     "name": "stdout",
     "output_type": "stream",
     "text": [
      "Train Loss: 0.932, Train Acc: 0.514\r"
     ]
    },
    {
     "name": "stderr",
     "output_type": "stream",
     "text": [
      "Epoch 1/1:  85%|████████▌ | 480/563 [3:30:12<36:50, 26.63s/it]"
     ]
    },
    {
     "name": "stdout",
     "output_type": "stream",
     "text": [
      "Train Loss: 0.936, Train Acc: 0.514\r"
     ]
    },
    {
     "name": "stderr",
     "output_type": "stream",
     "text": [
      "Epoch 1/1:  85%|████████▌ | 481/563 [3:30:40<36:48, 26.93s/it]"
     ]
    },
    {
     "name": "stdout",
     "output_type": "stream",
     "text": [
      "Train Loss: 0.937, Train Acc: 0.514\r"
     ]
    },
    {
     "name": "stderr",
     "output_type": "stream",
     "text": [
      "Epoch 1/1:  86%|████████▌ | 482/563 [3:31:06<36:15, 26.86s/it]"
     ]
    },
    {
     "name": "stdout",
     "output_type": "stream",
     "text": [
      "Train Loss: 0.939, Train Acc: 0.514\r"
     ]
    },
    {
     "name": "stderr",
     "output_type": "stream",
     "text": [
      "Epoch 1/1:  86%|████████▌ | 483/563 [3:31:33<35:45, 26.82s/it]"
     ]
    },
    {
     "name": "stdout",
     "output_type": "stream",
     "text": [
      "Train Loss: 0.942, Train Acc: 0.514\r"
     ]
    },
    {
     "name": "stderr",
     "output_type": "stream",
     "text": [
      "Epoch 1/1:  86%|████████▌ | 484/563 [3:32:00<35:16, 26.80s/it]"
     ]
    },
    {
     "name": "stdout",
     "output_type": "stream",
     "text": [
      "Train Loss: 0.945, Train Acc: 0.514\r"
     ]
    },
    {
     "name": "stderr",
     "output_type": "stream",
     "text": [
      "Epoch 1/1:  86%|████████▌ | 485/563 [3:32:27<35:04, 26.99s/it]"
     ]
    },
    {
     "name": "stdout",
     "output_type": "stream",
     "text": [
      "Train Loss: 0.947, Train Acc: 0.515\r"
     ]
    },
    {
     "name": "stderr",
     "output_type": "stream",
     "text": [
      "Epoch 1/1:  86%|████████▋ | 486/563 [3:32:54<34:23, 26.80s/it]"
     ]
    },
    {
     "name": "stdout",
     "output_type": "stream",
     "text": [
      "Train Loss: 0.948, Train Acc: 0.515\r"
     ]
    },
    {
     "name": "stderr",
     "output_type": "stream",
     "text": [
      "Epoch 1/1:  87%|████████▋ | 487/563 [3:33:20<33:50, 26.71s/it]"
     ]
    },
    {
     "name": "stdout",
     "output_type": "stream",
     "text": [
      "Train Loss: 0.951, Train Acc: 0.515\r"
     ]
    },
    {
     "name": "stderr",
     "output_type": "stream",
     "text": [
      "Epoch 1/1:  87%|████████▋ | 488/563 [3:33:47<33:33, 26.85s/it]"
     ]
    },
    {
     "name": "stdout",
     "output_type": "stream",
     "text": [
      "Train Loss: 0.952, Train Acc: 0.515\r"
     ]
    },
    {
     "name": "stderr",
     "output_type": "stream",
     "text": [
      "Epoch 1/1:  87%|████████▋ | 489/563 [3:34:15<33:25, 27.09s/it]"
     ]
    },
    {
     "name": "stdout",
     "output_type": "stream",
     "text": [
      "Train Loss: 0.954, Train Acc: 0.515\r"
     ]
    },
    {
     "name": "stderr",
     "output_type": "stream",
     "text": [
      "Epoch 1/1:  87%|████████▋ | 490/563 [3:34:42<32:48, 26.97s/it]"
     ]
    },
    {
     "name": "stdout",
     "output_type": "stream",
     "text": [
      "Train Loss: 0.955, Train Acc: 0.515\r"
     ]
    },
    {
     "name": "stderr",
     "output_type": "stream",
     "text": [
      "Epoch 1/1:  87%|████████▋ | 491/563 [3:35:08<32:10, 26.82s/it]"
     ]
    },
    {
     "name": "stdout",
     "output_type": "stream",
     "text": [
      "Train Loss: 0.956, Train Acc: 0.515\r"
     ]
    },
    {
     "name": "stderr",
     "output_type": "stream",
     "text": [
      "Epoch 1/1:  87%|████████▋ | 492/563 [3:35:36<31:59, 27.03s/it]"
     ]
    },
    {
     "name": "stdout",
     "output_type": "stream",
     "text": [
      "Train Loss: 0.958, Train Acc: 0.515\r"
     ]
    },
    {
     "name": "stderr",
     "output_type": "stream",
     "text": [
      "Epoch 1/1:  88%|████████▊ | 493/563 [3:36:02<31:28, 26.97s/it]"
     ]
    },
    {
     "name": "stdout",
     "output_type": "stream",
     "text": [
      "Train Loss: 0.959, Train Acc: 0.515\r"
     ]
    },
    {
     "name": "stderr",
     "output_type": "stream",
     "text": [
      "Epoch 1/1:  88%|████████▊ | 494/563 [3:36:29<30:58, 26.93s/it]"
     ]
    },
    {
     "name": "stdout",
     "output_type": "stream",
     "text": [
      "Train Loss: 0.960, Train Acc: 0.515\r"
     ]
    },
    {
     "name": "stderr",
     "output_type": "stream",
     "text": [
      "Epoch 1/1:  88%|████████▊ | 495/563 [3:36:56<30:21, 26.79s/it]"
     ]
    },
    {
     "name": "stdout",
     "output_type": "stream",
     "text": [
      "Train Loss: 0.962, Train Acc: 0.515\r"
     ]
    },
    {
     "name": "stderr",
     "output_type": "stream",
     "text": [
      "Epoch 1/1:  88%|████████▊ | 496/563 [3:37:24<30:16, 27.11s/it]"
     ]
    },
    {
     "name": "stdout",
     "output_type": "stream",
     "text": [
      "Train Loss: 0.963, Train Acc: 0.515\r"
     ]
    },
    {
     "name": "stderr",
     "output_type": "stream",
     "text": [
      "Epoch 1/1:  88%|████████▊ | 497/563 [3:37:50<29:40, 26.97s/it]"
     ]
    },
    {
     "name": "stdout",
     "output_type": "stream",
     "text": [
      "Train Loss: 0.964, Train Acc: 0.515\r"
     ]
    },
    {
     "name": "stderr",
     "output_type": "stream",
     "text": [
      "Epoch 1/1:  88%|████████▊ | 498/563 [3:38:17<29:06, 26.86s/it]"
     ]
    },
    {
     "name": "stdout",
     "output_type": "stream",
     "text": [
      "Train Loss: 0.965, Train Acc: 0.516\r"
     ]
    },
    {
     "name": "stderr",
     "output_type": "stream",
     "text": [
      "Epoch 1/1:  89%|████████▊ | 499/563 [3:38:44<28:37, 26.84s/it]"
     ]
    },
    {
     "name": "stdout",
     "output_type": "stream",
     "text": [
      "Train Loss: 0.967, Train Acc: 0.516\r"
     ]
    },
    {
     "name": "stderr",
     "output_type": "stream",
     "text": [
      "Epoch 1/1:  89%|████████▉ | 500/563 [3:39:11<28:29, 27.13s/it]"
     ]
    },
    {
     "name": "stdout",
     "output_type": "stream",
     "text": [
      "Train Loss: 0.969, Train Acc: 0.515\r"
     ]
    },
    {
     "name": "stderr",
     "output_type": "stream",
     "text": [
      "Epoch 1/1:  89%|████████▉ | 501/563 [3:39:38<27:49, 26.93s/it]"
     ]
    },
    {
     "name": "stdout",
     "output_type": "stream",
     "text": [
      "Train Loss: 0.971, Train Acc: 0.515\r"
     ]
    },
    {
     "name": "stderr",
     "output_type": "stream",
     "text": [
      "Epoch 1/1:  89%|████████▉ | 502/563 [3:40:05<27:21, 26.91s/it]"
     ]
    },
    {
     "name": "stdout",
     "output_type": "stream",
     "text": [
      "Train Loss: 0.973, Train Acc: 0.515\r"
     ]
    },
    {
     "name": "stderr",
     "output_type": "stream",
     "text": [
      "Epoch 1/1:  89%|████████▉ | 503/563 [3:40:32<27:07, 27.13s/it]"
     ]
    },
    {
     "name": "stdout",
     "output_type": "stream",
     "text": [
      "Train Loss: 0.975, Train Acc: 0.515\r"
     ]
    },
    {
     "name": "stderr",
     "output_type": "stream",
     "text": [
      "Epoch 1/1:  90%|████████▉ | 504/563 [3:40:59<26:35, 27.05s/it]"
     ]
    },
    {
     "name": "stdout",
     "output_type": "stream",
     "text": [
      "Train Loss: 0.976, Train Acc: 0.515\r"
     ]
    },
    {
     "name": "stderr",
     "output_type": "stream",
     "text": [
      "Epoch 1/1:  90%|████████▉ | 505/563 [3:41:26<25:59, 26.89s/it]"
     ]
    },
    {
     "name": "stdout",
     "output_type": "stream",
     "text": [
      "Train Loss: 0.978, Train Acc: 0.515\r"
     ]
    },
    {
     "name": "stderr",
     "output_type": "stream",
     "text": [
      "Epoch 1/1:  90%|████████▉ | 506/563 [3:41:53<25:32, 26.88s/it]"
     ]
    },
    {
     "name": "stdout",
     "output_type": "stream",
     "text": [
      "Train Loss: 0.980, Train Acc: 0.516\r"
     ]
    },
    {
     "name": "stderr",
     "output_type": "stream",
     "text": [
      "Epoch 1/1:  90%|█████████ | 507/563 [3:42:21<25:21, 27.17s/it]"
     ]
    },
    {
     "name": "stdout",
     "output_type": "stream",
     "text": [
      "Train Loss: 0.981, Train Acc: 0.516\r"
     ]
    },
    {
     "name": "stderr",
     "output_type": "stream",
     "text": [
      "Epoch 1/1:  90%|█████████ | 508/563 [3:42:47<24:45, 27.01s/it]"
     ]
    },
    {
     "name": "stdout",
     "output_type": "stream",
     "text": [
      "Train Loss: 0.982, Train Acc: 0.515\r"
     ]
    },
    {
     "name": "stderr",
     "output_type": "stream",
     "text": [
      "Epoch 1/1:  90%|█████████ | 509/563 [3:43:14<24:14, 26.94s/it]"
     ]
    },
    {
     "name": "stdout",
     "output_type": "stream",
     "text": [
      "Train Loss: 0.983, Train Acc: 0.516\r"
     ]
    },
    {
     "name": "stderr",
     "output_type": "stream",
     "text": [
      "Epoch 1/1:  91%|█████████ | 510/563 [3:43:42<24:03, 27.23s/it]"
     ]
    },
    {
     "name": "stdout",
     "output_type": "stream",
     "text": [
      "Train Loss: 0.985, Train Acc: 0.516\r"
     ]
    },
    {
     "name": "stderr",
     "output_type": "stream",
     "text": [
      "Epoch 1/1:  91%|█████████ | 511/563 [3:44:09<23:32, 27.16s/it]"
     ]
    },
    {
     "name": "stdout",
     "output_type": "stream",
     "text": [
      "Train Loss: 0.986, Train Acc: 0.516\r"
     ]
    },
    {
     "name": "stderr",
     "output_type": "stream",
     "text": [
      "Epoch 1/1:  91%|█████████ | 512/563 [3:44:36<23:03, 27.13s/it]"
     ]
    },
    {
     "name": "stdout",
     "output_type": "stream",
     "text": [
      "Train Loss: 0.988, Train Acc: 0.515\r"
     ]
    },
    {
     "name": "stderr",
     "output_type": "stream",
     "text": [
      "Epoch 1/1:  91%|█████████ | 513/563 [3:45:03<22:30, 27.01s/it]"
     ]
    },
    {
     "name": "stdout",
     "output_type": "stream",
     "text": [
      "Train Loss: 0.989, Train Acc: 0.515\r"
     ]
    },
    {
     "name": "stderr",
     "output_type": "stream",
     "text": [
      "Epoch 1/1:  91%|█████████▏| 514/563 [3:45:31<22:17, 27.30s/it]"
     ]
    },
    {
     "name": "stdout",
     "output_type": "stream",
     "text": [
      "Train Loss: 0.991, Train Acc: 0.515\r"
     ]
    },
    {
     "name": "stderr",
     "output_type": "stream",
     "text": [
      "Epoch 1/1:  91%|█████████▏| 515/563 [3:45:57<21:44, 27.17s/it]"
     ]
    },
    {
     "name": "stdout",
     "output_type": "stream",
     "text": [
      "Train Loss: 0.992, Train Acc: 0.515\r"
     ]
    },
    {
     "name": "stderr",
     "output_type": "stream",
     "text": [
      "Epoch 1/1:  92%|█████████▏| 516/563 [3:46:24<21:14, 27.11s/it]"
     ]
    },
    {
     "name": "stdout",
     "output_type": "stream",
     "text": [
      "Train Loss: 0.994, Train Acc: 0.515\r"
     ]
    },
    {
     "name": "stderr",
     "output_type": "stream",
     "text": [
      "Epoch 1/1:  92%|█████████▏| 517/563 [3:46:53<21:02, 27.44s/it]"
     ]
    },
    {
     "name": "stdout",
     "output_type": "stream",
     "text": [
      "Train Loss: 0.995, Train Acc: 0.515\r"
     ]
    },
    {
     "name": "stderr",
     "output_type": "stream",
     "text": [
      "Epoch 1/1:  92%|█████████▏| 518/563 [3:47:20<20:29, 27.33s/it]"
     ]
    },
    {
     "name": "stdout",
     "output_type": "stream",
     "text": [
      "Train Loss: 0.997, Train Acc: 0.515\r"
     ]
    },
    {
     "name": "stderr",
     "output_type": "stream",
     "text": [
      "Epoch 1/1:  92%|█████████▏| 519/563 [3:47:47<19:57, 27.22s/it]"
     ]
    },
    {
     "name": "stdout",
     "output_type": "stream",
     "text": [
      "Train Loss: 0.998, Train Acc: 0.515\r"
     ]
    },
    {
     "name": "stderr",
     "output_type": "stream",
     "text": [
      "Epoch 1/1:  92%|█████████▏| 520/563 [3:48:15<19:38, 27.41s/it]"
     ]
    },
    {
     "name": "stdout",
     "output_type": "stream",
     "text": [
      "Train Loss: 1.000, Train Acc: 0.514\r"
     ]
    },
    {
     "name": "stderr",
     "output_type": "stream",
     "text": [
      "Epoch 1/1:  93%|█████████▎| 521/563 [3:48:42<19:10, 27.39s/it]"
     ]
    },
    {
     "name": "stdout",
     "output_type": "stream",
     "text": [
      "Train Loss: 1.001, Train Acc: 0.515\r"
     ]
    },
    {
     "name": "stderr",
     "output_type": "stream",
     "text": [
      "Epoch 1/1:  93%|█████████▎| 522/563 [3:49:10<18:46, 27.48s/it]"
     ]
    },
    {
     "name": "stdout",
     "output_type": "stream",
     "text": [
      "Train Loss: 1.003, Train Acc: 0.515\r"
     ]
    },
    {
     "name": "stderr",
     "output_type": "stream",
     "text": [
      "Epoch 1/1:  93%|█████████▎| 523/563 [3:49:37<18:24, 27.61s/it]"
     ]
    },
    {
     "name": "stdout",
     "output_type": "stream",
     "text": [
      "Train Loss: 1.006, Train Acc: 0.515\r"
     ]
    },
    {
     "name": "stderr",
     "output_type": "stream",
     "text": [
      "Epoch 1/1:  93%|█████████▎| 524/563 [3:50:05<17:51, 27.47s/it]"
     ]
    },
    {
     "name": "stdout",
     "output_type": "stream",
     "text": [
      "Train Loss: 1.008, Train Acc: 0.514\r"
     ]
    },
    {
     "name": "stderr",
     "output_type": "stream",
     "text": [
      "Epoch 1/1:  93%|█████████▎| 525/563 [3:50:32<17:19, 27.37s/it]"
     ]
    },
    {
     "name": "stdout",
     "output_type": "stream",
     "text": [
      "Train Loss: 1.011, Train Acc: 0.514\r"
     ]
    },
    {
     "name": "stderr",
     "output_type": "stream",
     "text": [
      "Epoch 1/1:  93%|█████████▎| 526/563 [3:51:00<17:03, 27.65s/it]"
     ]
    },
    {
     "name": "stdout",
     "output_type": "stream",
     "text": [
      "Train Loss: 1.012, Train Acc: 0.514\r"
     ]
    },
    {
     "name": "stderr",
     "output_type": "stream",
     "text": [
      "Epoch 1/1:  94%|█████████▎| 527/563 [3:51:28<16:33, 27.59s/it]"
     ]
    },
    {
     "name": "stdout",
     "output_type": "stream",
     "text": [
      "Train Loss: 1.015, Train Acc: 0.513\r"
     ]
    },
    {
     "name": "stderr",
     "output_type": "stream",
     "text": [
      "Epoch 1/1:  94%|█████████▍| 528/563 [3:51:54<15:57, 27.34s/it]"
     ]
    },
    {
     "name": "stdout",
     "output_type": "stream",
     "text": [
      "Train Loss: 1.019, Train Acc: 0.513\r"
     ]
    },
    {
     "name": "stderr",
     "output_type": "stream",
     "text": [
      "Epoch 1/1:  94%|█████████▍| 529/563 [3:52:23<15:39, 27.64s/it]"
     ]
    },
    {
     "name": "stdout",
     "output_type": "stream",
     "text": [
      "Train Loss: 1.021, Train Acc: 0.513\r"
     ]
    },
    {
     "name": "stderr",
     "output_type": "stream",
     "text": [
      "Epoch 1/1:  94%|█████████▍| 530/563 [3:52:50<15:12, 27.64s/it]"
     ]
    },
    {
     "name": "stdout",
     "output_type": "stream",
     "text": [
      "Train Loss: 1.023, Train Acc: 0.513\r"
     ]
    },
    {
     "name": "stderr",
     "output_type": "stream",
     "text": [
      "Epoch 1/1:  94%|█████████▍| 531/563 [3:53:18<14:43, 27.60s/it]"
     ]
    },
    {
     "name": "stdout",
     "output_type": "stream",
     "text": [
      "Train Loss: 1.027, Train Acc: 0.513\r"
     ]
    },
    {
     "name": "stderr",
     "output_type": "stream",
     "text": [
      "Epoch 1/1:  94%|█████████▍| 532/563 [3:53:46<14:19, 27.73s/it]"
     ]
    },
    {
     "name": "stdout",
     "output_type": "stream",
     "text": [
      "Train Loss: 1.028, Train Acc: 0.513\r"
     ]
    },
    {
     "name": "stderr",
     "output_type": "stream",
     "text": [
      "Epoch 1/1:  95%|█████████▍| 533/563 [3:54:13<13:46, 27.56s/it]"
     ]
    },
    {
     "name": "stdout",
     "output_type": "stream",
     "text": [
      "Train Loss: 1.030, Train Acc: 0.513\r"
     ]
    },
    {
     "name": "stderr",
     "output_type": "stream",
     "text": [
      "Epoch 1/1:  95%|█████████▍| 534/563 [3:54:40<13:15, 27.44s/it]"
     ]
    },
    {
     "name": "stdout",
     "output_type": "stream",
     "text": [
      "Train Loss: 1.036, Train Acc: 0.513\r"
     ]
    },
    {
     "name": "stderr",
     "output_type": "stream",
     "text": [
      "Epoch 1/1:  95%|█████████▌| 535/563 [3:55:08<12:55, 27.71s/it]"
     ]
    },
    {
     "name": "stdout",
     "output_type": "stream",
     "text": [
      "Train Loss: 1.039, Train Acc: 0.513\r"
     ]
    },
    {
     "name": "stderr",
     "output_type": "stream",
     "text": [
      "Epoch 1/1:  95%|█████████▌| 536/563 [3:55:36<12:26, 27.64s/it]"
     ]
    },
    {
     "name": "stdout",
     "output_type": "stream",
     "text": [
      "Train Loss: 1.040, Train Acc: 0.513\r"
     ]
    },
    {
     "name": "stderr",
     "output_type": "stream",
     "text": [
      "Epoch 1/1:  95%|█████████▌| 537/563 [3:56:03<11:54, 27.46s/it]"
     ]
    },
    {
     "name": "stdout",
     "output_type": "stream",
     "text": [
      "Train Loss: 1.043, Train Acc: 0.512\r"
     ]
    },
    {
     "name": "stderr",
     "output_type": "stream",
     "text": [
      "Epoch 1/1:  96%|█████████▌| 538/563 [3:56:31<11:29, 27.59s/it]"
     ]
    },
    {
     "name": "stdout",
     "output_type": "stream",
     "text": [
      "Train Loss: 1.045, Train Acc: 0.512\r"
     ]
    },
    {
     "name": "stderr",
     "output_type": "stream",
     "text": [
      "Epoch 1/1:  96%|█████████▌| 539/563 [3:56:58<11:01, 27.58s/it]"
     ]
    },
    {
     "name": "stdout",
     "output_type": "stream",
     "text": [
      "Train Loss: 1.046, Train Acc: 0.512\r"
     ]
    },
    {
     "name": "stderr",
     "output_type": "stream",
     "text": [
      "Epoch 1/1:  96%|█████████▌| 540/563 [3:57:25<10:30, 27.41s/it]"
     ]
    },
    {
     "name": "stdout",
     "output_type": "stream",
     "text": [
      "Train Loss: 1.047, Train Acc: 0.512\r"
     ]
    },
    {
     "name": "stderr",
     "output_type": "stream",
     "text": [
      "Epoch 1/1:  96%|█████████▌| 541/563 [3:57:54<10:09, 27.68s/it]"
     ]
    },
    {
     "name": "stdout",
     "output_type": "stream",
     "text": [
      "Train Loss: 1.049, Train Acc: 0.512\r"
     ]
    },
    {
     "name": "stderr",
     "output_type": "stream",
     "text": [
      "Epoch 1/1:  96%|█████████▋| 542/563 [3:58:21<09:39, 27.57s/it]"
     ]
    },
    {
     "name": "stdout",
     "output_type": "stream",
     "text": [
      "Train Loss: 1.050, Train Acc: 0.512\r"
     ]
    },
    {
     "name": "stderr",
     "output_type": "stream",
     "text": [
      "Epoch 1/1:  96%|█████████▋| 543/563 [3:58:49<09:12, 27.65s/it]"
     ]
    },
    {
     "name": "stdout",
     "output_type": "stream",
     "text": [
      "Train Loss: 1.052, Train Acc: 0.512\r"
     ]
    },
    {
     "name": "stderr",
     "output_type": "stream",
     "text": [
      "Epoch 1/1:  97%|█████████▋| 544/563 [3:59:17<08:46, 27.70s/it]"
     ]
    },
    {
     "name": "stdout",
     "output_type": "stream",
     "text": [
      "Train Loss: 1.053, Train Acc: 0.512\r"
     ]
    },
    {
     "name": "stderr",
     "output_type": "stream",
     "text": [
      "Epoch 1/1:  97%|█████████▋| 545/563 [3:59:44<08:15, 27.51s/it]"
     ]
    },
    {
     "name": "stdout",
     "output_type": "stream",
     "text": [
      "Train Loss: 1.055, Train Acc: 0.512\r"
     ]
    },
    {
     "name": "stderr",
     "output_type": "stream",
     "text": [
      "Epoch 1/1:  97%|█████████▋| 546/563 [4:00:12<07:51, 27.75s/it]"
     ]
    },
    {
     "name": "stdout",
     "output_type": "stream",
     "text": [
      "Train Loss: 1.056, Train Acc: 0.512\r"
     ]
    },
    {
     "name": "stderr",
     "output_type": "stream",
     "text": [
      "Epoch 1/1:  97%|█████████▋| 547/563 [4:00:40<07:23, 27.69s/it]"
     ]
    },
    {
     "name": "stdout",
     "output_type": "stream",
     "text": [
      "Train Loss: 1.058, Train Acc: 0.512\r"
     ]
    },
    {
     "name": "stderr",
     "output_type": "stream",
     "text": [
      "Epoch 1/1:  97%|█████████▋| 548/563 [4:01:07<06:53, 27.54s/it]"
     ]
    },
    {
     "name": "stdout",
     "output_type": "stream",
     "text": [
      "Train Loss: 1.059, Train Acc: 0.513\r"
     ]
    },
    {
     "name": "stderr",
     "output_type": "stream",
     "text": [
      "Epoch 1/1:  98%|█████████▊| 549/563 [4:01:35<06:28, 27.78s/it]"
     ]
    },
    {
     "name": "stdout",
     "output_type": "stream",
     "text": [
      "Train Loss: 1.061, Train Acc: 0.513\r"
     ]
    },
    {
     "name": "stderr",
     "output_type": "stream",
     "text": [
      "Epoch 1/1:  98%|█████████▊| 550/563 [4:02:03<05:59, 27.69s/it]"
     ]
    },
    {
     "name": "stdout",
     "output_type": "stream",
     "text": [
      "Train Loss: 1.062, Train Acc: 0.513\r"
     ]
    },
    {
     "name": "stderr",
     "output_type": "stream",
     "text": [
      "Epoch 1/1:  98%|█████████▊| 551/563 [4:02:30<05:31, 27.63s/it]"
     ]
    },
    {
     "name": "stdout",
     "output_type": "stream",
     "text": [
      "Train Loss: 1.063, Train Acc: 0.513\r"
     ]
    },
    {
     "name": "stderr",
     "output_type": "stream",
     "text": [
      "Epoch 1/1:  98%|█████████▊| 552/563 [4:02:58<05:06, 27.83s/it]"
     ]
    },
    {
     "name": "stdout",
     "output_type": "stream",
     "text": [
      "Train Loss: 1.064, Train Acc: 0.513\r"
     ]
    },
    {
     "name": "stderr",
     "output_type": "stream",
     "text": [
      "Epoch 1/1:  98%|█████████▊| 553/563 [4:03:26<04:37, 27.71s/it]"
     ]
    },
    {
     "name": "stdout",
     "output_type": "stream",
     "text": [
      "Train Loss: 1.066, Train Acc: 0.513\r"
     ]
    },
    {
     "name": "stderr",
     "output_type": "stream",
     "text": [
      "Epoch 1/1:  98%|█████████▊| 554/563 [4:03:54<04:11, 27.89s/it]"
     ]
    },
    {
     "name": "stdout",
     "output_type": "stream",
     "text": [
      "Train Loss: 1.067, Train Acc: 0.513\r"
     ]
    },
    {
     "name": "stderr",
     "output_type": "stream",
     "text": [
      "Epoch 1/1:  99%|█████████▊| 555/563 [4:04:22<03:43, 27.88s/it]"
     ]
    },
    {
     "name": "stdout",
     "output_type": "stream",
     "text": [
      "Train Loss: 1.068, Train Acc: 0.513\r"
     ]
    },
    {
     "name": "stderr",
     "output_type": "stream",
     "text": [
      "Epoch 1/1:  99%|█████████▉| 556/563 [4:04:50<03:15, 27.92s/it]"
     ]
    },
    {
     "name": "stdout",
     "output_type": "stream",
     "text": [
      "Train Loss: 1.069, Train Acc: 0.514\r"
     ]
    },
    {
     "name": "stderr",
     "output_type": "stream",
     "text": [
      "Epoch 1/1:  99%|█████████▉| 557/563 [4:05:19<02:49, 28.17s/it]"
     ]
    },
    {
     "name": "stdout",
     "output_type": "stream",
     "text": [
      "Train Loss: 1.071, Train Acc: 0.514\r"
     ]
    },
    {
     "name": "stderr",
     "output_type": "stream",
     "text": [
      "Epoch 1/1:  99%|█████████▉| 558/563 [4:05:47<02:20, 28.04s/it]"
     ]
    },
    {
     "name": "stdout",
     "output_type": "stream",
     "text": [
      "Train Loss: 1.073, Train Acc: 0.514\r"
     ]
    },
    {
     "name": "stderr",
     "output_type": "stream",
     "text": [
      "Epoch 1/1:  99%|█████████▉| 559/563 [4:06:15<01:52, 28.14s/it]"
     ]
    },
    {
     "name": "stdout",
     "output_type": "stream",
     "text": [
      "Train Loss: 1.074, Train Acc: 0.514\r"
     ]
    },
    {
     "name": "stderr",
     "output_type": "stream",
     "text": [
      "Epoch 1/1:  99%|█████████▉| 560/563 [4:06:43<01:24, 28.04s/it]"
     ]
    },
    {
     "name": "stdout",
     "output_type": "stream",
     "text": [
      "Train Loss: 1.076, Train Acc: 0.514\r"
     ]
    },
    {
     "name": "stderr",
     "output_type": "stream",
     "text": [
      "Epoch 1/1: 100%|█████████▉| 561/563 [4:07:10<00:55, 27.94s/it]"
     ]
    },
    {
     "name": "stdout",
     "output_type": "stream",
     "text": [
      "Train Loss: 1.078, Train Acc: 0.514\r"
     ]
    },
    {
     "name": "stderr",
     "output_type": "stream",
     "text": [
      "Epoch 1/1: 100%|█████████▉| 562/563 [4:07:40<00:28, 28.29s/it]"
     ]
    },
    {
     "name": "stdout",
     "output_type": "stream",
     "text": [
      "Train Loss: 1.079, Train Acc: 0.514\r"
     ]
    },
    {
     "name": "stderr",
     "output_type": "stream",
     "text": [
      "Epoch 1/1: 100%|██████████| 563/563 [4:07:55<00:00, 26.42s/it]"
     ]
    },
    {
     "name": "stdout",
     "output_type": "stream",
     "text": [
      "Epoch 1, Train Loss: 1.080, Train Acc: 0.514\n",
      "Epoch 1 finished\n"
     ]
    },
    {
     "name": "stderr",
     "output_type": "stream",
     "text": [
      "\n"
     ]
    }
   ],
   "source": [
    "from tqdm import tqdm\n",
    "num_epochs = 1\n",
    "for epoch in range(num_epochs):\n",
    "    running_loss = 0.0\n",
    "    correct_predictions = 0\n",
    "    total_predictions = 0\n",
    "    for batch in tqdm(train_loader, desc=f'Epoch {epoch+1}/{num_epochs}'):\n",
    "        # get the inputs\n",
    "        input_ids = batch['input_ids'].to(device)\n",
    "        attention_mask = batch['attention_mask'].to(device)\n",
    "        labels = batch['label'].to(device)\n",
    "\n",
    "        # zero the parameter gradients\n",
    "        optimizer.zero_grad()\n",
    "\n",
    "        # forward + backward + optimize\n",
    "        outputs = hate_model(input_ids=input_ids, attention_mask=attention_mask)\n",
    "        loss = criterion(outputs, labels)\n",
    "        loss.backward()\n",
    "        optimizer.step()\n",
    "\n",
    "        # calculate accuracy\n",
    "        _, predicted = torch.max(outputs.data, 1)\n",
    "        total_predictions += labels.size(0)\n",
    "        correct_predictions += (predicted == labels).sum().item()\n",
    "\n",
    "        # print running loss for each batch\n",
    "        running_loss += loss.item()\n",
    "        avg_loss = running_loss / len(train_loader)\n",
    "        avg_acc = correct_predictions / total_predictions\n",
    "        tqdm.write(f'Train Loss: {avg_loss:.3f}, Train Acc: {avg_acc:.3f}', end='\\r')\n",
    "    tqdm.write(f'Epoch {epoch+1}, Train Loss: {avg_loss:.3f}, Train Acc: {avg_acc:.3f}')\n",
    "\n",
    "    print(f\"Epoch {epoch+1} finished\")\n"
   ],
   "metadata": {
    "collapsed": false
   }
  },
  {
   "cell_type": "code",
   "execution_count": 22,
   "outputs": [
    {
     "name": "stdout",
     "output_type": "stream",
     "text": [
      "Validation Loss: 1.044, Validation Acc: 0.573\n"
     ]
    }
   ],
   "source": [
    "# Validation loop\n",
    "with torch.no_grad():\n",
    "    hate_model.eval()  # Set the model to evaluation mode\n",
    "    valid_loss = 0.0\n",
    "    correct_predictions = 0\n",
    "    total_predictions = 0\n",
    "    for batch in val_loader:\n",
    "        # get the inputs\n",
    "        input_ids = batch['input_ids'].to(device)\n",
    "        attention_mask = batch['attention_mask'].to(device)\n",
    "        labels = batch['label'].to(device)\n",
    "\n",
    "        # forward\n",
    "        outputs = hate_model(input_ids=input_ids, attention_mask=attention_mask)\n",
    "        loss = criterion(outputs, labels)\n",
    "\n",
    "        # calculate accuracy\n",
    "        _, predicted = torch.max(outputs.data, 1)\n",
    "        total_predictions += labels.size(0)\n",
    "        correct_predictions += (predicted == labels).sum().item()\n",
    "\n",
    "        # calculate running loss\n",
    "        valid_loss += loss.item()\n",
    "\n",
    "    avg_loss = valid_loss / len(val_loader)\n",
    "    avg_acc = correct_predictions / total_predictions\n",
    "    print(f'Validation Loss: {avg_loss:.3f}, Validation Acc: {avg_acc:.3f}')"
   ],
   "metadata": {
    "collapsed": false
   }
  },
  {
   "cell_type": "code",
   "execution_count": 23,
   "outputs": [
    {
     "name": "stdout",
     "output_type": "stream",
     "text": [
      "Test Loss: 1.033, Test Acc: 0.578\n"
     ]
    }
   ],
   "source": [
    "\n",
    "# Test loop\n",
    "with torch.no_grad():\n",
    "    hate_model.eval()  # Set the model to evaluation mode\n",
    "    test_loss = 0.0\n",
    "    correct_predictions = 0\n",
    "    total_predictions = 0\n",
    "    for batch in test_loader:\n",
    "        # get the inputs\n",
    "        input_ids = batch['input_ids'].to(device)\n",
    "        attention_mask = batch['attention_mask'].to(device)\n",
    "        labels = batch['label'].to(device)\n",
    "\n",
    "        # forward\n",
    "        outputs = hate_model(input_ids=input_ids, attention_mask=attention_mask)\n",
    "        loss = criterion(outputs, labels)\n",
    "\n",
    "        # calculate accuracy\n",
    "        _, predicted = torch.max(outputs.data, 1)\n",
    "        total_predictions += labels.size(0)\n",
    "        correct_predictions += (predicted == labels).sum().item()\n",
    "\n",
    "        # calculate running loss\n",
    "        test_loss += loss.item()\n",
    "\n",
    "    avg_loss = test_loss / len(test_loader)\n",
    "    avg_acc = correct_predictions / total_predictions\n",
    "    print(f'Test Loss: {avg_loss:.3f}, Test Acc: {avg_acc:.3f}')\n"
   ],
   "metadata": {
    "collapsed": false
   }
  },
  {
   "cell_type": "code",
   "execution_count": 24,
   "outputs": [],
   "source": [
    "# save the model\n",
    "torch.save(hate_model.state_dict(), 'Models/hate_model.pth')\n"
   ],
   "metadata": {
    "collapsed": false
   }
  }
 ],
 "metadata": {
  "kernelspec": {
   "display_name": "Python 3",
   "language": "python",
   "name": "python3"
  },
  "language_info": {
   "codemirror_mode": {
    "name": "ipython",
    "version": 2
   },
   "file_extension": ".py",
   "mimetype": "text/x-python",
   "name": "python",
   "nbconvert_exporter": "python",
   "pygments_lexer": "ipython2",
   "version": "2.7.6"
  }
 },
 "nbformat": 4,
 "nbformat_minor": 0
}
