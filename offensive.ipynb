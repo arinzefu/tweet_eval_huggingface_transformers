{
 "cells": [
  {
   "cell_type": "code",
   "execution_count": 1,
   "metadata": {
    "collapsed": true
   },
   "outputs": [],
   "source": [
    "import torch\n",
    "import torch.nn as nn\n",
    "import torch.optim as optim\n",
    "from torch.utils.data import DataLoader, Dataset\n",
    "from transformers import AutoTokenizer\n",
    "from transformers import AlbertModel\n"
   ]
  },
  {
   "cell_type": "code",
   "execution_count": 2,
   "outputs": [
    {
     "name": "stderr",
     "output_type": "stream",
     "text": [
      "Found cached dataset tweet_eval (C:/Users/User/.cache/huggingface/datasets/tweet_eval/offensive/1.1.0/12aee5282b8784f3e95459466db4cdf45c6bf49719c25cdb0743d71ed0410343)\n"
     ]
    },
    {
     "data": {
      "text/plain": "  0%|          | 0/3 [00:00<?, ?it/s]",
      "application/vnd.jupyter.widget-view+json": {
       "version_major": 2,
       "version_minor": 0,
       "model_id": "898538a7b2294a5f877d264928271d3f"
      }
     },
     "metadata": {},
     "output_type": "display_data"
    }
   ],
   "source": [
    "from datasets import load_dataset\n",
    "\n",
    "dataset = load_dataset(\"tweet_eval\", \"offensive\")"
   ],
   "metadata": {
    "collapsed": false
   }
  },
  {
   "cell_type": "code",
   "execution_count": 3,
   "outputs": [
    {
     "data": {
      "text/plain": "Dataset({\n    features: ['text', 'label'],\n    num_rows: 11916\n})"
     },
     "execution_count": 3,
     "metadata": {},
     "output_type": "execute_result"
    }
   ],
   "source": [
    "dataset[\"train\"]"
   ],
   "metadata": {
    "collapsed": false
   }
  },
  {
   "cell_type": "code",
   "execution_count": 4,
   "outputs": [
    {
     "data": {
      "text/plain": "Dataset({\n    features: ['text', 'label'],\n    num_rows: 1324\n})"
     },
     "execution_count": 4,
     "metadata": {},
     "output_type": "execute_result"
    }
   ],
   "source": [
    "dataset[\"validation\"]"
   ],
   "metadata": {
    "collapsed": false
   }
  },
  {
   "cell_type": "code",
   "execution_count": 5,
   "outputs": [
    {
     "data": {
      "text/plain": "Dataset({\n    features: ['text', 'label'],\n    num_rows: 1324\n})"
     },
     "execution_count": 5,
     "metadata": {},
     "output_type": "execute_result"
    }
   ],
   "source": [
    "dataset[\"validation\"]"
   ],
   "metadata": {
    "collapsed": false
   }
  },
  {
   "cell_type": "code",
   "execution_count": 6,
   "outputs": [],
   "source": [
    "# Load a pre-trained tokenizer\n",
    "tokenizer = AutoTokenizer.from_pretrained(\"albert-base-v2\")\n"
   ],
   "metadata": {
    "collapsed": false
   }
  },
  {
   "cell_type": "code",
   "execution_count": 7,
   "outputs": [],
   "source": [
    "def tokenize_function(example):\n",
    "    return tokenizer(example[\"text\"], padding=\"max_length\", truncation=True, max_length=128)"
   ],
   "metadata": {
    "collapsed": false
   }
  },
  {
   "cell_type": "code",
   "execution_count": 8,
   "outputs": [
    {
     "name": "stderr",
     "output_type": "stream",
     "text": [
      "Loading cached processed dataset at C:\\Users\\User\\.cache\\huggingface\\datasets\\tweet_eval\\offensive\\1.1.0\\12aee5282b8784f3e95459466db4cdf45c6bf49719c25cdb0743d71ed0410343\\cache-0e0a9e57654f929c.arrow\n"
     ]
    },
    {
     "data": {
      "text/plain": "Map:   0%|          | 0/860 [00:00<?, ? examples/s]",
      "application/vnd.jupyter.widget-view+json": {
       "version_major": 2,
       "version_minor": 0,
       "model_id": "afbb904022a24f3cabfdc748b3e61ca7"
      }
     },
     "metadata": {},
     "output_type": "display_data"
    },
    {
     "name": "stderr",
     "output_type": "stream",
     "text": [
      "Loading cached processed dataset at C:\\Users\\User\\.cache\\huggingface\\datasets\\tweet_eval\\offensive\\1.1.0\\12aee5282b8784f3e95459466db4cdf45c6bf49719c25cdb0743d71ed0410343\\cache-32752e9eab0c1230.arrow\n"
     ]
    }
   ],
   "source": [
    "# Tokenize the dataset\n",
    "tokenized_dataset = dataset.map(tokenize_function, batched=True)\n",
    "\n",
    "# Get the input_ids from the tokenized dataset for train, validation, and test sets\n",
    "train_input_ids = [example['input_ids'] for example in tokenized_dataset['train']]\n",
    "val_input_ids = [example['input_ids'] for example in tokenized_dataset['validation']]\n",
    "test_input_ids = [example['input_ids'] for example in tokenized_dataset['test']]\n",
    "\n",
    "# Convert input_ids to PyTorch tensors\n",
    "train_input_ids = torch.tensor(train_input_ids, dtype=torch.long)\n",
    "val_input_ids = torch.tensor(val_input_ids, dtype=torch.long)\n",
    "test_input_ids = torch.tensor(test_input_ids, dtype=torch.long)\n",
    "\n",
    "# Concatenate the input_ids tensors along the first dimension\n",
    "input_ids = torch.cat((train_input_ids, val_input_ids, test_input_ids), dim=0)\n"
   ],
   "metadata": {
    "collapsed": false
   }
  },
  {
   "cell_type": "code",
   "execution_count": 9,
   "outputs": [
    {
     "name": "stderr",
     "output_type": "stream",
     "text": [
      "Loading cached processed dataset at C:\\Users\\User\\.cache\\huggingface\\datasets\\tweet_eval\\offensive\\1.1.0\\12aee5282b8784f3e95459466db4cdf45c6bf49719c25cdb0743d71ed0410343\\cache-55376158ac5563ef.arrow\n",
      "Loading cached processed dataset at C:\\Users\\User\\.cache\\huggingface\\datasets\\tweet_eval\\offensive\\1.1.0\\12aee5282b8784f3e95459466db4cdf45c6bf49719c25cdb0743d71ed0410343\\cache-c3ab1b99cb5661f3.arrow\n",
      "Loading cached processed dataset at C:\\Users\\User\\.cache\\huggingface\\datasets\\tweet_eval\\offensive\\1.1.0\\12aee5282b8784f3e95459466db4cdf45c6bf49719c25cdb0743d71ed0410343\\cache-32752e9eab0c1230.arrow\n"
     ]
    }
   ],
   "source": [
    "# Tokenize the dataset\n",
    "tokenized_dataset = dataset.map(tokenize_function, batched=True)\n",
    "\n",
    "# Get the attention_masks from the tokenized dataset for train, validation, and test sets\n",
    "train_attention_mask = [example['attention_mask'] for example in tokenized_dataset['train']]\n",
    "val_attention_mask = [example['attention_mask'] for example in tokenized_dataset['validation']]\n",
    "test_attention_mask = [example['attention_mask'] for example in tokenized_dataset['test']]\n",
    "\n",
    "# Convert attention_mask to PyTorch tensors\n",
    "train_attention_mask = torch.tensor(train_attention_mask, dtype=torch.long)\n",
    "val_attention_mask = torch.tensor(val_attention_mask, dtype=torch.long)\n",
    "test_attention_mask = torch.tensor(test_attention_mask, dtype=torch.long)\n",
    "\n",
    "# Concatenate the input_ids tensors along the first dimension\n",
    "attention_masks = torch.cat((train_attention_mask, val_attention_mask, test_attention_mask), dim=0)\n"
   ],
   "metadata": {
    "collapsed": false
   }
  },
  {
   "cell_type": "code",
   "execution_count": 10,
   "outputs": [
    {
     "name": "stdout",
     "output_type": "stream",
     "text": [
      "tensor([[    2,    13,     1,  ...,     0,     0,     0],\n",
      "        [    2,    13,     1,  ...,     0,     0,     0],\n",
      "        [    2,    13,     1,  ...,     0,     0,     0],\n",
      "        ...,\n",
      "        [    2,  6926, 25290,  ...,     0,     0,     0],\n",
      "        [    2,  6926,  5578,  ...,     0,     0,     0],\n",
      "        [    2,  6926,  6232,  ...,     0,     0,     0]])\n"
     ]
    }
   ],
   "source": [
    "print(input_ids)"
   ],
   "metadata": {
    "collapsed": false
   }
  },
  {
   "cell_type": "code",
   "execution_count": 11,
   "outputs": [
    {
     "name": "stdout",
     "output_type": "stream",
     "text": [
      "tensor([[1, 1, 1,  ..., 0, 0, 0],\n",
      "        [1, 1, 1,  ..., 0, 0, 0],\n",
      "        [1, 1, 1,  ..., 0, 0, 0],\n",
      "        ...,\n",
      "        [1, 1, 1,  ..., 0, 0, 0],\n",
      "        [1, 1, 1,  ..., 0, 0, 0],\n",
      "        [1, 1, 1,  ..., 0, 0, 0]])\n"
     ]
    }
   ],
   "source": [
    "print(attention_masks)"
   ],
   "metadata": {
    "collapsed": false
   }
  },
  {
   "cell_type": "code",
   "execution_count": 12,
   "outputs": [],
   "source": [
    "# Split the dataset into train, validation, and test sets\n",
    "train_dataset = tokenized_dataset[\"train\"]\n",
    "val_dataset = tokenized_dataset[\"validation\"]\n",
    "test_dataset = tokenized_dataset[\"test\"]"
   ],
   "metadata": {
    "collapsed": false
   }
  },
  {
   "cell_type": "code",
   "execution_count": 13,
   "outputs": [],
   "source": [
    "# Convert the datasets to PyTorch tensors\n",
    "train_dataset = train_dataset.remove_columns([\"text\"])\n",
    "val_dataset = val_dataset.remove_columns([\"text\"])\n",
    "test_dataset = test_dataset.remove_columns([\"text\"])"
   ],
   "metadata": {
    "collapsed": false
   }
  },
  {
   "cell_type": "code",
   "execution_count": 14,
   "outputs": [],
   "source": [
    "train_dataset.set_format(\"torch\", columns=[\"input_ids\", \"attention_mask\", \"label\"])\n",
    "val_dataset.set_format(\"torch\", columns=[\"input_ids\", \"attention_mask\", \"label\"])\n",
    "test_dataset.set_format(\"torch\", columns=[\"input_ids\", \"attention_mask\", \"label\"])"
   ],
   "metadata": {
    "collapsed": false
   }
  },
  {
   "cell_type": "code",
   "execution_count": 15,
   "outputs": [],
   "source": [
    "\n",
    "\n",
    "class HateSpeechDetectionModel(nn.Module):\n",
    "    def __init__(self, num_classes=2):\n",
    "        super(HateSpeechDetectionModel, self).__init__()\n",
    "        self.albert = AlbertModel.from_pretrained('albert-base-v2')\n",
    "        self.dropout = nn.Dropout(0.1)\n",
    "        self.fc = nn.Linear(self.albert.config.hidden_size, num_classes)\n",
    "\n",
    "    def forward(self, input_ids, attention_mask):\n",
    "        outputs = self.albert(input_ids=input_ids, attention_mask=attention_mask)\n",
    "        pooled_output = outputs.pooler_output\n",
    "        pooled_output = self.dropout(pooled_output)\n",
    "        logits = self.fc(pooled_output)\n",
    "        return logits\n"
   ],
   "metadata": {
    "collapsed": false
   }
  },
  {
   "cell_type": "code",
   "execution_count": 16,
   "outputs": [],
   "source": [
    "device = torch.device(\"cuda\" if torch.cuda.is_available() else \"cpu\")\n"
   ],
   "metadata": {
    "collapsed": false
   }
  },
  {
   "cell_type": "code",
   "execution_count": 17,
   "outputs": [
    {
     "name": "stderr",
     "output_type": "stream",
     "text": [
      "Some weights of the model checkpoint at albert-base-v2 were not used when initializing AlbertModel: ['predictions.LayerNorm.weight', 'predictions.decoder.bias', 'predictions.LayerNorm.bias', 'predictions.dense.weight', 'predictions.bias', 'predictions.dense.bias', 'predictions.decoder.weight']\n",
      "- This IS expected if you are initializing AlbertModel from the checkpoint of a model trained on another task or with another architecture (e.g. initializing a BertForSequenceClassification model from a BertForPreTraining model).\n",
      "- This IS NOT expected if you are initializing AlbertModel from the checkpoint of a model that you expect to be exactly identical (initializing a BertForSequenceClassification model from a BertForSequenceClassification model).\n"
     ]
    }
   ],
   "source": [
    "# instantiate your model\n",
    "offensive_model = HateSpeechDetectionModel(num_classes=2).to(device)"
   ],
   "metadata": {
    "collapsed": false
   }
  },
  {
   "cell_type": "code",
   "execution_count": 18,
   "outputs": [],
   "source": [
    "# define your loss function\n",
    "criterion = nn.CrossEntropyLoss()\n",
    "\n",
    "\n",
    "# define your optimizer\n",
    "optimizer = torch.optim.SGD(offensive_model.parameters(), lr=0.001, momentum=0.9)"
   ],
   "metadata": {
    "collapsed": false
   }
  },
  {
   "cell_type": "code",
   "execution_count": 19,
   "outputs": [],
   "source": [
    "# set up your training, validation, and test dataloaders\n",
    "train_loader = DataLoader(train_dataset, batch_size=16, shuffle=True)\n",
    "val_loader = DataLoader(val_dataset, batch_size=16)\n",
    "test_loader = DataLoader(test_dataset, batch_size=16)"
   ],
   "metadata": {
    "collapsed": false
   }
  },
  {
   "cell_type": "code",
   "execution_count": 20,
   "outputs": [
    {
     "name": "stdout",
     "output_type": "stream",
     "text": [
      "{'label': tensor([0, 0, 0, 0, 1, 1, 0, 1, 0, 0, 1, 1, 0, 1, 1, 0]), 'input_ids': tensor([[   2,   13,    1,  ...,    0,    0,    0],\n",
      "        [   2,   13,    1,  ...,    0,    0,    0],\n",
      "        [   2,   13,    1,  ...,    0,    0,    0],\n",
      "        ...,\n",
      "        [   2,   14, 3679,  ...,    0,    0,    0],\n",
      "        [   2,   13,    9,  ...,    0,    0,    0],\n",
      "        [   2,   13,    1,  ...,    0,    0,    0]]), 'attention_mask': tensor([[1, 1, 1,  ..., 0, 0, 0],\n",
      "        [1, 1, 1,  ..., 0, 0, 0],\n",
      "        [1, 1, 1,  ..., 0, 0, 0],\n",
      "        ...,\n",
      "        [1, 1, 1,  ..., 0, 0, 0],\n",
      "        [1, 1, 1,  ..., 0, 0, 0],\n",
      "        [1, 1, 1,  ..., 0, 0, 0]])}\n",
      "{'label': tensor([0, 1, 0, 0, 0, 1, 0, 0, 0, 0, 0, 0, 1, 0, 1, 1]), 'input_ids': tensor([[ 2, 13,  1,  ...,  0,  0,  0],\n",
      "        [ 2, 13,  1,  ...,  0,  0,  0],\n",
      "        [ 2, 13,  1,  ...,  0,  0,  0],\n",
      "        ...,\n",
      "        [ 2, 13,  1,  ...,  0,  0,  0],\n",
      "        [ 2, 13,  1,  ...,  0,  0,  0],\n",
      "        [ 2, 13,  1,  ...,  0,  0,  0]]), 'attention_mask': tensor([[1, 1, 1,  ..., 0, 0, 0],\n",
      "        [1, 1, 1,  ..., 0, 0, 0],\n",
      "        [1, 1, 1,  ..., 0, 0, 0],\n",
      "        ...,\n",
      "        [1, 1, 1,  ..., 0, 0, 0],\n",
      "        [1, 1, 1,  ..., 0, 0, 0],\n",
      "        [1, 1, 1,  ..., 0, 0, 0]])}\n",
      "{'label': tensor([0, 0, 1, 0, 0, 1, 1, 0, 0, 1, 0, 1, 1, 0, 1, 1]), 'input_ids': tensor([[ 2, 13,  1,  ...,  0,  0,  0],\n",
      "        [ 2, 13,  1,  ...,  0,  0,  0],\n",
      "        [ 2, 13,  1,  ...,  0,  0,  0],\n",
      "        ...,\n",
      "        [ 2, 13,  1,  ...,  0,  0,  0],\n",
      "        [ 2, 13,  1,  ...,  0,  0,  0],\n",
      "        [ 2, 13,  9,  ...,  0,  0,  0]]), 'attention_mask': tensor([[1, 1, 1,  ..., 0, 0, 0],\n",
      "        [1, 1, 1,  ..., 0, 0, 0],\n",
      "        [1, 1, 1,  ..., 0, 0, 0],\n",
      "        ...,\n",
      "        [1, 1, 1,  ..., 0, 0, 0],\n",
      "        [1, 1, 1,  ..., 0, 0, 0],\n",
      "        [1, 1, 1,  ..., 0, 0, 0]])}\n",
      "{'label': tensor([1, 0, 0, 0, 0, 0, 1, 0, 1, 0, 0, 0, 0, 0, 1, 0]), 'input_ids': tensor([[   2,   13,    1,  ...,    0,    0,    0],\n",
      "        [   2,   13,    1,  ...,    0,    0,    0],\n",
      "        [   2,   13,    1,  ...,    0,    0,    0],\n",
      "        ...,\n",
      "        [   2,   13,    1,  ...,    0,    0,    0],\n",
      "        [   2,   13,    1,  ...,    0,    0,    0],\n",
      "        [   2,   51, 8004,  ...,    0,    0,    0]]), 'attention_mask': tensor([[1, 1, 1,  ..., 0, 0, 0],\n",
      "        [1, 1, 1,  ..., 0, 0, 0],\n",
      "        [1, 1, 1,  ..., 0, 0, 0],\n",
      "        ...,\n",
      "        [1, 1, 1,  ..., 0, 0, 0],\n",
      "        [1, 1, 1,  ..., 0, 0, 0],\n",
      "        [1, 1, 1,  ..., 0, 0, 0]])}\n",
      "{'label': tensor([0, 1, 0, 0, 1, 1, 1, 0, 0, 0, 0, 1, 1, 0, 0, 1]), 'input_ids': tensor([[  2,  13,   1,  ...,   0,   0,   0],\n",
      "        [  2,  13,   1,  ...,   0,   0,   0],\n",
      "        [  2,  13,   1,  ...,   0,   0,   0],\n",
      "        ...,\n",
      "        [  2,  13,   1,  ...,   0,   0,   0],\n",
      "        [  2, 130,  30,  ...,   0,   0,   0],\n",
      "        [  2,  13,   1,  ...,   0,   0,   0]]), 'attention_mask': tensor([[1, 1, 1,  ..., 0, 0, 0],\n",
      "        [1, 1, 1,  ..., 0, 0, 0],\n",
      "        [1, 1, 1,  ..., 0, 0, 0],\n",
      "        ...,\n",
      "        [1, 1, 1,  ..., 0, 0, 0],\n",
      "        [1, 1, 1,  ..., 0, 0, 0],\n",
      "        [1, 1, 1,  ..., 0, 0, 0]])}\n",
      "{'label': tensor([1, 0, 0, 0, 0, 0, 1, 0, 0, 1, 1, 0, 1, 1, 0, 1]), 'input_ids': tensor([[   2,   13,    1,  ...,    0,    0,    0],\n",
      "        [   2, 1332, 2686,  ...,    0,    0,    0],\n",
      "        [   2,   13,    1,  ...,    0,    0,    0],\n",
      "        ...,\n",
      "        [   2,   13,    1,  ...,    0,    0,    0],\n",
      "        [   2,   13,    1,  ...,    0,    0,    0],\n",
      "        [   2,   13,    1,  ...,    0,    0,    0]]), 'attention_mask': tensor([[1, 1, 1,  ..., 0, 0, 0],\n",
      "        [1, 1, 1,  ..., 0, 0, 0],\n",
      "        [1, 1, 1,  ..., 0, 0, 0],\n",
      "        ...,\n",
      "        [1, 1, 1,  ..., 0, 0, 0],\n",
      "        [1, 1, 1,  ..., 0, 0, 0],\n",
      "        [1, 1, 1,  ..., 0, 0, 0]])}\n",
      "{'label': tensor([1, 1, 1, 0, 0, 0, 0, 0, 1, 0, 0, 0, 0, 0, 0, 1]), 'input_ids': tensor([[ 2, 32, 25,  ...,  0,  0,  0],\n",
      "        [ 2, 13,  5,  ...,  0,  0,  0],\n",
      "        [ 2, 13,  1,  ...,  0,  0,  0],\n",
      "        ...,\n",
      "        [ 2, 13,  1,  ...,  0,  0,  0],\n",
      "        [ 2, 13,  1,  ...,  0,  0,  0],\n",
      "        [ 2, 13,  1,  ...,  0,  0,  0]]), 'attention_mask': tensor([[1, 1, 1,  ..., 0, 0, 0],\n",
      "        [1, 1, 1,  ..., 0, 0, 0],\n",
      "        [1, 1, 1,  ..., 0, 0, 0],\n",
      "        ...,\n",
      "        [1, 1, 1,  ..., 0, 0, 0],\n",
      "        [1, 1, 1,  ..., 0, 0, 0],\n",
      "        [1, 1, 1,  ..., 0, 0, 0]])}\n",
      "{'label': tensor([1, 1, 0, 0, 1, 0, 1, 1, 1, 0, 0, 0, 0, 1, 1, 0]), 'input_ids': tensor([[ 2, 13,  1,  ...,  0,  0,  0],\n",
      "        [ 2, 13,  1,  ...,  0,  0,  0],\n",
      "        [ 2, 13,  1,  ...,  0,  0,  0],\n",
      "        ...,\n",
      "        [ 2, 13,  1,  ...,  0,  0,  0],\n",
      "        [ 2, 13,  1,  ...,  0,  0,  0],\n",
      "        [ 2, 13,  1,  ...,  0,  0,  0]]), 'attention_mask': tensor([[1, 1, 1,  ..., 0, 0, 0],\n",
      "        [1, 1, 1,  ..., 0, 0, 0],\n",
      "        [1, 1, 1,  ..., 0, 0, 0],\n",
      "        ...,\n",
      "        [1, 1, 1,  ..., 0, 0, 0],\n",
      "        [1, 1, 1,  ..., 0, 0, 0],\n",
      "        [1, 1, 1,  ..., 0, 0, 0]])}\n",
      "{'label': tensor([1, 0, 1, 0, 0, 1, 1, 0, 0, 0, 1, 0, 0, 0, 0, 1]), 'input_ids': tensor([[    2,    13,     1,  ...,     0,     0,     0],\n",
      "        [    2,    13,     1,  ...,     0,     0,     0],\n",
      "        [    2,    13,     1,  ...,     0,     0,     0],\n",
      "        ...,\n",
      "        [    2, 12894,    21,  ...,     0,     0,     0],\n",
      "        [    2,    13,     1,  ...,     0,     0,     0],\n",
      "        [    2,    13,     1,  ...,     0,     0,     0]]), 'attention_mask': tensor([[1, 1, 1,  ..., 0, 0, 0],\n",
      "        [1, 1, 1,  ..., 0, 0, 0],\n",
      "        [1, 1, 1,  ..., 0, 0, 0],\n",
      "        ...,\n",
      "        [1, 1, 1,  ..., 0, 0, 0],\n",
      "        [1, 1, 1,  ..., 0, 0, 0],\n",
      "        [1, 1, 1,  ..., 0, 0, 0]])}\n",
      "{'label': tensor([0, 0, 0, 1, 1, 0, 0, 1, 0, 1, 0, 0, 0, 1, 1, 0]), 'input_ids': tensor([[    2,    13,     1,  ...,     0,     0,     0],\n",
      "        [    2,    13,     1,  ...,     0,     0,     0],\n",
      "        [    2,    13,     1,  ...,     0,     0,     0],\n",
      "        ...,\n",
      "        [    2,    13,     1,  ...,     0,     0,     0],\n",
      "        [    2,  6926, 21462,  ...,     0,     0,     0],\n",
      "        [    2,    13,     1,  ...,     0,     0,     0]]), 'attention_mask': tensor([[1, 1, 1,  ..., 0, 0, 0],\n",
      "        [1, 1, 1,  ..., 0, 0, 0],\n",
      "        [1, 1, 1,  ..., 0, 0, 0],\n",
      "        ...,\n",
      "        [1, 1, 1,  ..., 0, 0, 0],\n",
      "        [1, 1, 1,  ..., 0, 0, 0],\n",
      "        [1, 1, 1,  ..., 0, 0, 0]])}\n",
      "{'label': tensor([1, 0, 1, 1, 0, 0, 0, 1, 0, 0, 0, 1, 0, 0, 0, 0]), 'input_ids': tensor([[ 2, 13,  1,  ...,  0,  0,  0],\n",
      "        [ 2, 13,  1,  ...,  0,  0,  0],\n",
      "        [ 2, 13,  1,  ...,  0,  0,  0],\n",
      "        ...,\n",
      "        [ 2, 13,  1,  ...,  0,  0,  0],\n",
      "        [ 2, 13,  1,  ...,  0,  0,  0],\n",
      "        [ 2, 13,  1,  ...,  0,  0,  0]]), 'attention_mask': tensor([[1, 1, 1,  ..., 0, 0, 0],\n",
      "        [1, 1, 1,  ..., 0, 0, 0],\n",
      "        [1, 1, 1,  ..., 0, 0, 0],\n",
      "        ...,\n",
      "        [1, 1, 1,  ..., 0, 0, 0],\n",
      "        [1, 1, 1,  ..., 0, 0, 0],\n",
      "        [1, 1, 1,  ..., 0, 0, 0]])}\n",
      "{'label': tensor([0, 0, 0, 0, 0, 1, 0, 0, 0, 1, 0, 0, 0, 0, 0, 0]), 'input_ids': tensor([[    2,    13,     1,  ...,     0,     0,     0],\n",
      "        [    2,    13,     1,  ...,     1, 16704,     3],\n",
      "        [    2,    13,     1,  ...,     0,     0,     0],\n",
      "        ...,\n",
      "        [    2,    13,     1,  ...,     0,     0,     0],\n",
      "        [    2,   361,    35,  ...,     0,     0,     0],\n",
      "        [    2,    13,     1,  ...,     0,     0,     0]]), 'attention_mask': tensor([[1, 1, 1,  ..., 0, 0, 0],\n",
      "        [1, 1, 1,  ..., 1, 1, 1],\n",
      "        [1, 1, 1,  ..., 0, 0, 0],\n",
      "        ...,\n",
      "        [1, 1, 1,  ..., 0, 0, 0],\n",
      "        [1, 1, 1,  ..., 0, 0, 0],\n",
      "        [1, 1, 1,  ..., 0, 0, 0]])}\n",
      "{'label': tensor([0, 0, 1, 1, 0, 0, 0, 1, 0, 1, 0, 1, 0, 0, 1, 1]), 'input_ids': tensor([[ 2, 13,  1,  ...,  0,  0,  0],\n",
      "        [ 2, 13,  1,  ...,  0,  0,  0],\n",
      "        [ 2, 13,  1,  ...,  0,  0,  0],\n",
      "        ...,\n",
      "        [ 2, 13,  1,  ...,  0,  0,  0],\n",
      "        [ 2, 13,  1,  ...,  0,  0,  0],\n",
      "        [ 2, 13,  1,  ...,  0,  0,  0]]), 'attention_mask': tensor([[1, 1, 1,  ..., 0, 0, 0],\n",
      "        [1, 1, 1,  ..., 0, 0, 0],\n",
      "        [1, 1, 1,  ..., 0, 0, 0],\n",
      "        ...,\n",
      "        [1, 1, 1,  ..., 0, 0, 0],\n",
      "        [1, 1, 1,  ..., 0, 0, 0],\n",
      "        [1, 1, 1,  ..., 0, 0, 0]])}\n",
      "{'label': tensor([0, 0, 0, 0, 0, 0, 0, 0, 0, 0, 0, 1, 0, 0, 1, 0]), 'input_ids': tensor([[    2,    13,     1,  ...,     0,     0,     0],\n",
      "        [    2,    13,     1,  ...,     0,     0,     0],\n",
      "        [    2,    13,     1,  ...,     1, 16704,     3],\n",
      "        ...,\n",
      "        [    2,    13,     1,  ...,     0,     0,     0],\n",
      "        [    2,    13,     1,  ...,     0,     0,     0],\n",
      "        [    2,   180,  3111,  ...,     0,     0,     0]]), 'attention_mask': tensor([[1, 1, 1,  ..., 0, 0, 0],\n",
      "        [1, 1, 1,  ..., 0, 0, 0],\n",
      "        [1, 1, 1,  ..., 1, 1, 1],\n",
      "        ...,\n",
      "        [1, 1, 1,  ..., 0, 0, 0],\n",
      "        [1, 1, 1,  ..., 0, 0, 0],\n",
      "        [1, 1, 1,  ..., 0, 0, 0]])}\n",
      "{'label': tensor([0, 0, 1, 0, 0, 1, 0, 1, 0, 0, 0, 0, 0, 0, 0, 1]), 'input_ids': tensor([[ 2, 13,  1,  ...,  0,  0,  0],\n",
      "        [ 2, 13,  1,  ...,  0,  0,  0],\n",
      "        [ 2, 13,  1,  ...,  0,  0,  0],\n",
      "        ...,\n",
      "        [ 2, 13,  1,  ...,  0,  0,  0],\n",
      "        [ 2, 13,  1,  ...,  0,  0,  0],\n",
      "        [ 2, 13,  1,  ...,  0,  0,  0]]), 'attention_mask': tensor([[1, 1, 1,  ..., 0, 0, 0],\n",
      "        [1, 1, 1,  ..., 0, 0, 0],\n",
      "        [1, 1, 1,  ..., 0, 0, 0],\n",
      "        ...,\n",
      "        [1, 1, 1,  ..., 0, 0, 0],\n",
      "        [1, 1, 1,  ..., 0, 0, 0],\n",
      "        [1, 1, 1,  ..., 0, 0, 0]])}\n",
      "{'label': tensor([0, 1, 0, 1, 1, 0, 1, 1, 0, 0, 0, 1, 1, 1, 0, 0]), 'input_ids': tensor([[ 2, 13,  1,  ...,  0,  0,  0],\n",
      "        [ 2, 13,  1,  ...,  0,  0,  0],\n",
      "        [ 2, 13,  1,  ...,  0,  0,  0],\n",
      "        ...,\n",
      "        [ 2, 13,  1,  ...,  0,  0,  0],\n",
      "        [ 2, 13,  1,  ...,  0,  0,  0],\n",
      "        [ 2, 13,  1,  ...,  0,  0,  0]]), 'attention_mask': tensor([[1, 1, 1,  ..., 0, 0, 0],\n",
      "        [1, 1, 1,  ..., 0, 0, 0],\n",
      "        [1, 1, 1,  ..., 0, 0, 0],\n",
      "        ...,\n",
      "        [1, 1, 1,  ..., 0, 0, 0],\n",
      "        [1, 1, 1,  ..., 0, 0, 0],\n",
      "        [1, 1, 1,  ..., 0, 0, 0]])}\n",
      "{'label': tensor([1, 1, 0, 0, 0, 1, 0, 0, 0, 0, 0, 1, 0, 0, 0, 0]), 'input_ids': tensor([[   2,   13,    1,  ...,    0,    0,    0],\n",
      "        [   2,   13,    1,  ...,    0,    0,    0],\n",
      "        [   2,   13,    1,  ...,    0,    0,    0],\n",
      "        ...,\n",
      "        [   2,   13,    1,  ...,    0,    0,    0],\n",
      "        [   2,   13,    1,  ...,    0,    0,    0],\n",
      "        [   2,   31, 1740,  ...,    0,    0,    0]]), 'attention_mask': tensor([[1, 1, 1,  ..., 0, 0, 0],\n",
      "        [1, 1, 1,  ..., 0, 0, 0],\n",
      "        [1, 1, 1,  ..., 0, 0, 0],\n",
      "        ...,\n",
      "        [1, 1, 1,  ..., 0, 0, 0],\n",
      "        [1, 1, 1,  ..., 0, 0, 0],\n",
      "        [1, 1, 1,  ..., 0, 0, 0]])}\n",
      "{'label': tensor([0, 0, 0, 1, 0, 0, 0, 0, 1, 0, 1, 1, 0, 0, 1, 1]), 'input_ids': tensor([[ 2, 13,  1,  ...,  0,  0,  0],\n",
      "        [ 2, 13,  1,  ...,  0,  0,  0],\n",
      "        [ 2, 13,  1,  ...,  0,  0,  0],\n",
      "        ...,\n",
      "        [ 2, 13,  1,  ...,  0,  0,  0],\n",
      "        [ 2, 13,  1,  ...,  0,  0,  0],\n",
      "        [ 2, 13,  1,  ...,  0,  0,  0]]), 'attention_mask': tensor([[1, 1, 1,  ..., 0, 0, 0],\n",
      "        [1, 1, 1,  ..., 0, 0, 0],\n",
      "        [1, 1, 1,  ..., 0, 0, 0],\n",
      "        ...,\n",
      "        [1, 1, 1,  ..., 0, 0, 0],\n",
      "        [1, 1, 1,  ..., 0, 0, 0],\n",
      "        [1, 1, 1,  ..., 0, 0, 0]])}\n",
      "{'label': tensor([0, 0, 0, 1, 1, 1, 1, 0, 1, 0, 1, 0, 0, 0, 0, 0]), 'input_ids': tensor([[ 2, 13,  1,  ...,  0,  0,  0],\n",
      "        [ 2, 13,  1,  ...,  0,  0,  0],\n",
      "        [ 2, 13,  1,  ...,  0,  0,  0],\n",
      "        ...,\n",
      "        [ 2, 13,  1,  ...,  0,  0,  0],\n",
      "        [ 2, 13,  1,  ...,  0,  0,  0],\n",
      "        [ 2, 13,  1,  ...,  0,  0,  0]]), 'attention_mask': tensor([[1, 1, 1,  ..., 0, 0, 0],\n",
      "        [1, 1, 1,  ..., 0, 0, 0],\n",
      "        [1, 1, 1,  ..., 0, 0, 0],\n",
      "        ...,\n",
      "        [1, 1, 1,  ..., 0, 0, 0],\n",
      "        [1, 1, 1,  ..., 0, 0, 0],\n",
      "        [1, 1, 1,  ..., 0, 0, 0]])}\n",
      "{'label': tensor([0, 1, 1, 1, 1, 1, 0, 0, 1, 0, 1, 1, 0, 0, 0, 0]), 'input_ids': tensor([[ 2, 13,  1,  ...,  0,  0,  0],\n",
      "        [ 2, 13,  1,  ...,  0,  0,  0],\n",
      "        [ 2, 13,  1,  ...,  0,  0,  0],\n",
      "        ...,\n",
      "        [ 2, 13,  1,  ...,  0,  0,  0],\n",
      "        [ 2, 13,  1,  ...,  0,  0,  0],\n",
      "        [ 2, 13,  1,  ...,  0,  0,  0]]), 'attention_mask': tensor([[1, 1, 1,  ..., 0, 0, 0],\n",
      "        [1, 1, 1,  ..., 0, 0, 0],\n",
      "        [1, 1, 1,  ..., 0, 0, 0],\n",
      "        ...,\n",
      "        [1, 1, 1,  ..., 0, 0, 0],\n",
      "        [1, 1, 1,  ..., 0, 0, 0],\n",
      "        [1, 1, 1,  ..., 0, 0, 0]])}\n",
      "{'label': tensor([1, 0, 0, 1, 0, 1, 1, 1, 0, 0, 1, 0, 0, 0, 0, 0]), 'input_ids': tensor([[ 2, 13,  1,  ...,  0,  0,  0],\n",
      "        [ 2, 13,  1,  ...,  0,  0,  0],\n",
      "        [ 2, 13,  1,  ...,  0,  0,  0],\n",
      "        ...,\n",
      "        [ 2, 13,  1,  ...,  0,  0,  0],\n",
      "        [ 2, 13,  1,  ...,  0,  0,  0],\n",
      "        [ 2, 13,  1,  ...,  0,  0,  0]]), 'attention_mask': tensor([[1, 1, 1,  ..., 0, 0, 0],\n",
      "        [1, 1, 1,  ..., 0, 0, 0],\n",
      "        [1, 1, 1,  ..., 0, 0, 0],\n",
      "        ...,\n",
      "        [1, 1, 1,  ..., 0, 0, 0],\n",
      "        [1, 1, 1,  ..., 0, 0, 0],\n",
      "        [1, 1, 1,  ..., 0, 0, 0]])}\n",
      "{'label': tensor([0, 1, 1, 1, 1, 0, 0, 0, 0, 0, 0, 0, 0, 0, 1, 0]), 'input_ids': tensor([[ 2, 13,  1,  ...,  0,  0,  0],\n",
      "        [ 2, 13,  1,  ...,  0,  0,  0],\n",
      "        [ 2, 13,  1,  ...,  0,  0,  0],\n",
      "        ...,\n",
      "        [ 2, 13,  1,  ...,  0,  0,  0],\n",
      "        [ 2, 13,  1,  ...,  0,  0,  0],\n",
      "        [ 2, 13,  1,  ...,  0,  0,  0]]), 'attention_mask': tensor([[1, 1, 1,  ..., 0, 0, 0],\n",
      "        [1, 1, 1,  ..., 0, 0, 0],\n",
      "        [1, 1, 1,  ..., 0, 0, 0],\n",
      "        ...,\n",
      "        [1, 1, 1,  ..., 0, 0, 0],\n",
      "        [1, 1, 1,  ..., 0, 0, 0],\n",
      "        [1, 1, 1,  ..., 0, 0, 0]])}\n",
      "{'label': tensor([0, 0, 0, 0, 0, 0, 0, 0, 0, 0, 0, 0, 0, 0, 0, 0]), 'input_ids': tensor([[ 2, 13,  1,  ...,  0,  0,  0],\n",
      "        [ 2, 13,  1,  ...,  0,  0,  0],\n",
      "        [ 2, 13,  9,  ...,  0,  0,  0],\n",
      "        ...,\n",
      "        [ 2, 13,  1,  ...,  0,  0,  0],\n",
      "        [ 2, 13,  1,  ...,  0,  0,  0],\n",
      "        [ 2, 13,  1,  ...,  0,  0,  0]]), 'attention_mask': tensor([[1, 1, 1,  ..., 0, 0, 0],\n",
      "        [1, 1, 1,  ..., 0, 0, 0],\n",
      "        [1, 1, 1,  ..., 0, 0, 0],\n",
      "        ...,\n",
      "        [1, 1, 1,  ..., 0, 0, 0],\n",
      "        [1, 1, 1,  ..., 0, 0, 0],\n",
      "        [1, 1, 1,  ..., 0, 0, 0]])}\n",
      "{'label': tensor([1, 0, 0, 1, 1, 1, 0, 1, 0, 0, 1, 1, 0, 0, 1, 0]), 'input_ids': tensor([[   2, 1255, 3011,  ...,    0,    0,    0],\n",
      "        [   2,   13,    1,  ...,    0,    0,    0],\n",
      "        [   2,   13,    1,  ...,    0,    0,    0],\n",
      "        ...,\n",
      "        [   2,   13,    1,  ...,    0,    0,    0],\n",
      "        [   2,   13,    1,  ...,    0,    0,    0],\n",
      "        [   2, 6926, 4570,  ...,    0,    0,    0]]), 'attention_mask': tensor([[1, 1, 1,  ..., 0, 0, 0],\n",
      "        [1, 1, 1,  ..., 0, 0, 0],\n",
      "        [1, 1, 1,  ..., 0, 0, 0],\n",
      "        ...,\n",
      "        [1, 1, 1,  ..., 0, 0, 0],\n",
      "        [1, 1, 1,  ..., 0, 0, 0],\n",
      "        [1, 1, 1,  ..., 0, 0, 0]])}\n",
      "{'label': tensor([1, 1, 1, 0, 0, 1, 0, 0, 0, 0, 0, 0, 0, 0, 0, 0]), 'input_ids': tensor([[    2,    13,     1,  ...,     0,     0,     0],\n",
      "        [    2,    13,     1,  ...,     0,     0,     0],\n",
      "        [    2,    13,     1,  ...,     0,     0,     0],\n",
      "        ...,\n",
      "        [    2,    13,     1,  ...,     1, 16704,     3],\n",
      "        [    2,    13,     1,  ...,     0,     0,     0],\n",
      "        [    2,    13,     1,  ...,     0,     0,     0]]), 'attention_mask': tensor([[1, 1, 1,  ..., 0, 0, 0],\n",
      "        [1, 1, 1,  ..., 0, 0, 0],\n",
      "        [1, 1, 1,  ..., 0, 0, 0],\n",
      "        ...,\n",
      "        [1, 1, 1,  ..., 1, 1, 1],\n",
      "        [1, 1, 1,  ..., 0, 0, 0],\n",
      "        [1, 1, 1,  ..., 0, 0, 0]])}\n",
      "{'label': tensor([0, 0, 0, 1, 0, 0, 1, 0, 1, 1, 1, 0, 0, 0, 0, 0]), 'input_ids': tensor([[    2,    13,     1,  ...,     0,     0,     0],\n",
      "        [    2,    13,     1,  ...,     0,     0,     0],\n",
      "        [    2,    13,     1,  ...,     0,     0,     0],\n",
      "        ...,\n",
      "        [    2,    13,     1,  ...,     0,     0,     0],\n",
      "        [    2,    13,     1,  ...,     0,     0,     0],\n",
      "        [    2,    13,     1,  ...,     1, 16704,     3]]), 'attention_mask': tensor([[1, 1, 1,  ..., 0, 0, 0],\n",
      "        [1, 1, 1,  ..., 0, 0, 0],\n",
      "        [1, 1, 1,  ..., 0, 0, 0],\n",
      "        ...,\n",
      "        [1, 1, 1,  ..., 0, 0, 0],\n",
      "        [1, 1, 1,  ..., 0, 0, 0],\n",
      "        [1, 1, 1,  ..., 1, 1, 1]])}\n",
      "{'label': tensor([0, 0, 0, 0, 1, 0, 0, 0, 0, 0, 1, 1, 0, 1, 0, 0]), 'input_ids': tensor([[ 2, 13,  1,  ...,  0,  0,  0],\n",
      "        [ 2, 13,  1,  ...,  0,  0,  0],\n",
      "        [ 2, 13,  1,  ...,  0,  0,  0],\n",
      "        ...,\n",
      "        [ 2, 13,  1,  ...,  0,  0,  0],\n",
      "        [ 2, 13,  1,  ...,  0,  0,  0],\n",
      "        [ 2, 13,  1,  ...,  0,  0,  0]]), 'attention_mask': tensor([[1, 1, 1,  ..., 0, 0, 0],\n",
      "        [1, 1, 1,  ..., 0, 0, 0],\n",
      "        [1, 1, 1,  ..., 0, 0, 0],\n",
      "        ...,\n",
      "        [1, 1, 1,  ..., 0, 0, 0],\n",
      "        [1, 1, 1,  ..., 0, 0, 0],\n",
      "        [1, 1, 1,  ..., 0, 0, 0]])}\n",
      "{'label': tensor([1, 0, 0, 0, 0, 0, 0, 0, 0, 0, 0, 0, 1, 0, 1, 0]), 'input_ids': tensor([[ 2, 13,  1,  ...,  0,  0,  0],\n",
      "        [ 2, 13,  1,  ...,  0,  0,  0],\n",
      "        [ 2, 13,  9,  ...,  0,  0,  0],\n",
      "        ...,\n",
      "        [ 2, 13,  1,  ...,  0,  0,  0],\n",
      "        [ 2, 13,  1,  ...,  0,  0,  0],\n",
      "        [ 2, 13,  1,  ...,  0,  0,  0]]), 'attention_mask': tensor([[1, 1, 1,  ..., 0, 0, 0],\n",
      "        [1, 1, 1,  ..., 0, 0, 0],\n",
      "        [1, 1, 1,  ..., 0, 0, 0],\n",
      "        ...,\n",
      "        [1, 1, 1,  ..., 0, 0, 0],\n",
      "        [1, 1, 1,  ..., 0, 0, 0],\n",
      "        [1, 1, 1,  ..., 0, 0, 0]])}\n",
      "{'label': tensor([0, 1, 0, 0, 0, 0, 1, 0, 0, 1, 0, 0, 0, 1, 1, 0]), 'input_ids': tensor([[   2,   13,    1,  ...,    0,    0,    0],\n",
      "        [   2,   13,    1,  ...,    0,    0,    0],\n",
      "        [   2, 6926, 2681,  ...,    0,    0,    0],\n",
      "        ...,\n",
      "        [   2,   13,    1,  ...,    0,    0,    0],\n",
      "        [   2,   13,    1,  ...,    0,    0,    0],\n",
      "        [   2,   13,    1,  ...,    0,    0,    0]]), 'attention_mask': tensor([[1, 1, 1,  ..., 0, 0, 0],\n",
      "        [1, 1, 1,  ..., 0, 0, 0],\n",
      "        [1, 1, 1,  ..., 0, 0, 0],\n",
      "        ...,\n",
      "        [1, 1, 1,  ..., 0, 0, 0],\n",
      "        [1, 1, 1,  ..., 0, 0, 0],\n",
      "        [1, 1, 1,  ..., 0, 0, 0]])}\n",
      "{'label': tensor([1, 0, 0, 0, 1, 0, 0, 0, 0, 0, 0, 1, 1, 0, 0, 1]), 'input_ids': tensor([[ 2, 13,  1,  ...,  0,  0,  0],\n",
      "        [ 2, 13,  1,  ...,  0,  0,  0],\n",
      "        [ 2, 13,  1,  ...,  0,  0,  0],\n",
      "        ...,\n",
      "        [ 2, 13,  1,  ...,  0,  0,  0],\n",
      "        [ 2, 13,  1,  ...,  0,  0,  0],\n",
      "        [ 2, 13,  1,  ...,  0,  0,  0]]), 'attention_mask': tensor([[1, 1, 1,  ..., 0, 0, 0],\n",
      "        [1, 1, 1,  ..., 0, 0, 0],\n",
      "        [1, 1, 1,  ..., 0, 0, 0],\n",
      "        ...,\n",
      "        [1, 1, 1,  ..., 0, 0, 0],\n",
      "        [1, 1, 1,  ..., 0, 0, 0],\n",
      "        [1, 1, 1,  ..., 0, 0, 0]])}\n",
      "{'label': tensor([1, 0, 0, 1, 0, 1, 0, 0, 0, 0, 0, 0, 1, 1, 0, 0]), 'input_ids': tensor([[ 2, 13,  1,  ...,  0,  0,  0],\n",
      "        [ 2, 13,  1,  ...,  0,  0,  0],\n",
      "        [ 2, 13,  1,  ...,  0,  0,  0],\n",
      "        ...,\n",
      "        [ 2, 13,  1,  ...,  0,  0,  0],\n",
      "        [ 2, 13,  1,  ...,  0,  0,  0],\n",
      "        [ 2, 13,  1,  ...,  0,  0,  0]]), 'attention_mask': tensor([[1, 1, 1,  ..., 0, 0, 0],\n",
      "        [1, 1, 1,  ..., 0, 0, 0],\n",
      "        [1, 1, 1,  ..., 0, 0, 0],\n",
      "        ...,\n",
      "        [1, 1, 1,  ..., 0, 0, 0],\n",
      "        [1, 1, 1,  ..., 0, 0, 0],\n",
      "        [1, 1, 1,  ..., 0, 0, 0]])}\n",
      "{'label': tensor([0, 0, 0, 0, 0, 0, 0, 0, 0, 0, 0, 0, 1, 1, 0, 1]), 'input_ids': tensor([[    2,  6926,   657,  ...,     0,     0,     0],\n",
      "        [    2,    13,     1,  ...,     0,     0,     0],\n",
      "        [    2,    13,     1,  ...,     0,     0,     0],\n",
      "        ...,\n",
      "        [    2,    13,     1,  ...,     0,     0,     0],\n",
      "        [    2,    13,     1,  ...,     0,     0,     0],\n",
      "        [    2,  6926, 25290,  ...,     0,     0,     0]]), 'attention_mask': tensor([[1, 1, 1,  ..., 0, 0, 0],\n",
      "        [1, 1, 1,  ..., 0, 0, 0],\n",
      "        [1, 1, 1,  ..., 0, 0, 0],\n",
      "        ...,\n",
      "        [1, 1, 1,  ..., 0, 0, 0],\n",
      "        [1, 1, 1,  ..., 0, 0, 0],\n",
      "        [1, 1, 1,  ..., 0, 0, 0]])}\n",
      "{'label': tensor([0, 0, 0, 0, 0, 0, 0, 0, 0, 1, 0, 0, 0, 0, 0, 0]), 'input_ids': tensor([[ 2, 13,  1,  ...,  0,  0,  0],\n",
      "        [ 2, 13,  1,  ...,  0,  0,  0],\n",
      "        [ 2, 13,  1,  ...,  0,  0,  0],\n",
      "        ...,\n",
      "        [ 2, 13,  1,  ...,  0,  0,  0],\n",
      "        [ 2, 13,  1,  ...,  0,  0,  0],\n",
      "        [ 2, 13,  1,  ...,  0,  0,  0]]), 'attention_mask': tensor([[1, 1, 1,  ..., 0, 0, 0],\n",
      "        [1, 1, 1,  ..., 0, 0, 0],\n",
      "        [1, 1, 1,  ..., 0, 0, 0],\n",
      "        ...,\n",
      "        [1, 1, 1,  ..., 0, 0, 0],\n",
      "        [1, 1, 1,  ..., 0, 0, 0],\n",
      "        [1, 1, 1,  ..., 0, 0, 0]])}\n",
      "{'label': tensor([0, 0, 0, 1, 0, 1, 0, 0, 0, 0, 1, 0, 0, 0, 1, 1]), 'input_ids': tensor([[  2, 130,  48,  ...,   0,   0,   0],\n",
      "        [  2,  13,   1,  ...,   0,   0,   0],\n",
      "        [  2,  13,   1,  ...,   0,   0,   0],\n",
      "        ...,\n",
      "        [  2,  13,   1,  ...,   0,   0,   0],\n",
      "        [  2,  13,   1,  ...,   0,   0,   0],\n",
      "        [  2,  13,   1,  ...,   0,   0,   0]]), 'attention_mask': tensor([[1, 1, 1,  ..., 0, 0, 0],\n",
      "        [1, 1, 1,  ..., 0, 0, 0],\n",
      "        [1, 1, 1,  ..., 0, 0, 0],\n",
      "        ...,\n",
      "        [1, 1, 1,  ..., 0, 0, 0],\n",
      "        [1, 1, 1,  ..., 0, 0, 0],\n",
      "        [1, 1, 1,  ..., 0, 0, 0]])}\n",
      "{'label': tensor([0, 1, 0, 1, 1, 1, 0, 1, 1, 0, 0, 1, 1, 0, 1, 0]), 'input_ids': tensor([[ 2, 13,  1,  ...,  0,  0,  0],\n",
      "        [ 2, 13,  1,  ...,  0,  0,  0],\n",
      "        [ 2, 13,  1,  ...,  0,  0,  0],\n",
      "        ...,\n",
      "        [ 2, 13,  1,  ...,  0,  0,  0],\n",
      "        [ 2, 13,  1,  ...,  0,  0,  0],\n",
      "        [ 2, 13,  1,  ...,  0,  0,  0]]), 'attention_mask': tensor([[1, 1, 1,  ..., 0, 0, 0],\n",
      "        [1, 1, 1,  ..., 0, 0, 0],\n",
      "        [1, 1, 1,  ..., 0, 0, 0],\n",
      "        ...,\n",
      "        [1, 1, 1,  ..., 0, 0, 0],\n",
      "        [1, 1, 1,  ..., 0, 0, 0],\n",
      "        [1, 1, 1,  ..., 0, 0, 0]])}\n",
      "{'label': tensor([1, 1, 1, 0, 0, 0, 1, 0, 1, 0, 0, 0, 0, 0, 0, 0]), 'input_ids': tensor([[ 2, 13,  1,  ...,  0,  0,  0],\n",
      "        [ 2, 13,  1,  ...,  0,  0,  0],\n",
      "        [ 2, 13,  1,  ...,  0,  0,  0],\n",
      "        ...,\n",
      "        [ 2, 13,  1,  ...,  0,  0,  0],\n",
      "        [ 2, 13,  1,  ...,  0,  0,  0],\n",
      "        [ 2, 13,  1,  ...,  0,  0,  0]]), 'attention_mask': tensor([[1, 1, 1,  ..., 0, 0, 0],\n",
      "        [1, 1, 1,  ..., 0, 0, 0],\n",
      "        [1, 1, 1,  ..., 0, 0, 0],\n",
      "        ...,\n",
      "        [1, 1, 1,  ..., 0, 0, 0],\n",
      "        [1, 1, 1,  ..., 0, 0, 0],\n",
      "        [1, 1, 1,  ..., 0, 0, 0]])}\n",
      "{'label': tensor([0, 0, 0, 0, 0, 0, 0, 0, 1, 0, 0, 0, 0, 0, 1, 0]), 'input_ids': tensor([[ 2, 13,  1,  ...,  0,  0,  0],\n",
      "        [ 2, 13,  1,  ...,  0,  0,  0],\n",
      "        [ 2, 13,  9,  ...,  0,  0,  0],\n",
      "        ...,\n",
      "        [ 2, 13,  1,  ...,  0,  0,  0],\n",
      "        [ 2, 13,  1,  ...,  0,  0,  0],\n",
      "        [ 2, 13,  1,  ...,  0,  0,  0]]), 'attention_mask': tensor([[1, 1, 1,  ..., 0, 0, 0],\n",
      "        [1, 1, 1,  ..., 0, 0, 0],\n",
      "        [1, 1, 1,  ..., 0, 0, 0],\n",
      "        ...,\n",
      "        [1, 1, 1,  ..., 0, 0, 0],\n",
      "        [1, 1, 1,  ..., 0, 0, 0],\n",
      "        [1, 1, 1,  ..., 0, 0, 0]])}\n",
      "{'label': tensor([0, 0, 1, 0, 1, 0, 1, 0, 0, 1, 0, 1, 0, 1, 0, 0]), 'input_ids': tensor([[ 2, 13,  1,  ...,  0,  0,  0],\n",
      "        [ 2, 13,  1,  ...,  0,  0,  0],\n",
      "        [ 2, 13,  1,  ...,  0,  0,  0],\n",
      "        ...,\n",
      "        [ 2, 13,  1,  ...,  0,  0,  0],\n",
      "        [ 2, 13,  1,  ...,  0,  0,  0],\n",
      "        [ 2, 13,  1,  ...,  0,  0,  0]]), 'attention_mask': tensor([[1, 1, 1,  ..., 0, 0, 0],\n",
      "        [1, 1, 1,  ..., 0, 0, 0],\n",
      "        [1, 1, 1,  ..., 0, 0, 0],\n",
      "        ...,\n",
      "        [1, 1, 1,  ..., 0, 0, 0],\n",
      "        [1, 1, 1,  ..., 0, 0, 0],\n",
      "        [1, 1, 1,  ..., 0, 0, 0]])}\n",
      "{'label': tensor([0, 0, 0, 0, 0, 1, 0, 0, 0, 0, 1, 1, 0, 0, 0, 0]), 'input_ids': tensor([[ 2, 13,  5,  ...,  0,  0,  0],\n",
      "        [ 2, 13,  1,  ...,  0,  0,  0],\n",
      "        [ 2, 13,  1,  ...,  0,  0,  0],\n",
      "        ...,\n",
      "        [ 2, 13,  1,  ...,  0,  0,  0],\n",
      "        [ 2, 13,  1,  ...,  0,  0,  0],\n",
      "        [ 2, 50, 14,  ...,  0,  0,  0]]), 'attention_mask': tensor([[1, 1, 1,  ..., 0, 0, 0],\n",
      "        [1, 1, 1,  ..., 0, 0, 0],\n",
      "        [1, 1, 1,  ..., 0, 0, 0],\n",
      "        ...,\n",
      "        [1, 1, 1,  ..., 0, 0, 0],\n",
      "        [1, 1, 1,  ..., 0, 0, 0],\n",
      "        [1, 1, 1,  ..., 0, 0, 0]])}\n",
      "{'label': tensor([0, 0, 0, 0, 1, 0, 0, 0, 1, 0, 0, 1, 0, 0, 0, 0]), 'input_ids': tensor([[ 2, 13,  1,  ...,  0,  0,  0],\n",
      "        [ 2, 13,  1,  ...,  0,  0,  0],\n",
      "        [ 2, 13,  1,  ...,  0,  0,  0],\n",
      "        ...,\n",
      "        [ 2, 13,  1,  ...,  0,  0,  0],\n",
      "        [ 2, 13,  1,  ...,  0,  0,  0],\n",
      "        [ 2, 13,  1,  ...,  0,  0,  0]]), 'attention_mask': tensor([[1, 1, 1,  ..., 0, 0, 0],\n",
      "        [1, 1, 1,  ..., 0, 0, 0],\n",
      "        [1, 1, 1,  ..., 0, 0, 0],\n",
      "        ...,\n",
      "        [1, 1, 1,  ..., 0, 0, 0],\n",
      "        [1, 1, 1,  ..., 0, 0, 0],\n",
      "        [1, 1, 1,  ..., 0, 0, 0]])}\n",
      "{'label': tensor([1, 1, 0, 0, 0, 0, 0, 1, 0, 0, 1, 0, 0, 1, 1, 1]), 'input_ids': tensor([[ 2, 13,  1,  ...,  0,  0,  0],\n",
      "        [ 2, 13,  1,  ...,  0,  0,  0],\n",
      "        [ 2, 13,  1,  ...,  0,  0,  0],\n",
      "        ...,\n",
      "        [ 2, 13,  1,  ...,  0,  0,  0],\n",
      "        [ 2, 13,  1,  ...,  0,  0,  0],\n",
      "        [ 2, 13,  1,  ...,  0,  0,  0]]), 'attention_mask': tensor([[1, 1, 1,  ..., 0, 0, 0],\n",
      "        [1, 1, 1,  ..., 0, 0, 0],\n",
      "        [1, 1, 1,  ..., 0, 0, 0],\n",
      "        ...,\n",
      "        [1, 1, 1,  ..., 0, 0, 0],\n",
      "        [1, 1, 1,  ..., 0, 0, 0],\n",
      "        [1, 1, 1,  ..., 0, 0, 0]])}\n",
      "{'label': tensor([1, 1, 1, 0, 0, 0, 0, 1, 0, 1, 0, 0, 1, 0, 0, 0]), 'input_ids': tensor([[   2,   13,    1,  ...,    0,    0,    0],\n",
      "        [   2,   13,    1,  ...,    0,    0,    0],\n",
      "        [   2,   13,    1,  ...,    0,    0,    0],\n",
      "        ...,\n",
      "        [   2,   13,    1,  ...,    0,    0,    0],\n",
      "        [   2, 2852,  208,  ...,    0,    0,    0],\n",
      "        [   2,   13,    1,  ...,    0,    0,    0]]), 'attention_mask': tensor([[1, 1, 1,  ..., 0, 0, 0],\n",
      "        [1, 1, 1,  ..., 0, 0, 0],\n",
      "        [1, 1, 1,  ..., 0, 0, 0],\n",
      "        ...,\n",
      "        [1, 1, 1,  ..., 0, 0, 0],\n",
      "        [1, 1, 1,  ..., 0, 0, 0],\n",
      "        [1, 1, 1,  ..., 0, 0, 0]])}\n",
      "{'label': tensor([0, 0, 0, 0, 0, 0, 0, 0, 0, 0, 0, 0, 0, 0, 1, 1]), 'input_ids': tensor([[   2, 6926,   99,  ...,    0,    0,    0],\n",
      "        [   2,   13,    1,  ...,    0,    0,    0],\n",
      "        [   2,   13,    1,  ...,    0,    0,    0],\n",
      "        ...,\n",
      "        [   2,   13,    1,  ...,    0,    0,    0],\n",
      "        [   2,   13,    1,  ...,    0,    0,    0],\n",
      "        [   2,   13,    1,  ...,    0,    0,    0]]), 'attention_mask': tensor([[1, 1, 1,  ..., 0, 0, 0],\n",
      "        [1, 1, 1,  ..., 0, 0, 0],\n",
      "        [1, 1, 1,  ..., 0, 0, 0],\n",
      "        ...,\n",
      "        [1, 1, 1,  ..., 0, 0, 0],\n",
      "        [1, 1, 1,  ..., 0, 0, 0],\n",
      "        [1, 1, 1,  ..., 0, 0, 0]])}\n",
      "{'label': tensor([0, 0, 0, 1, 0, 1, 0, 1, 0, 0, 0, 0, 0, 1, 1, 1]), 'input_ids': tensor([[ 2, 13,  1,  ...,  0,  0,  0],\n",
      "        [ 2, 13,  1,  ...,  0,  0,  0],\n",
      "        [ 2, 13,  1,  ...,  0,  0,  0],\n",
      "        ...,\n",
      "        [ 2, 13,  1,  ...,  0,  0,  0],\n",
      "        [ 2, 13,  1,  ...,  0,  0,  0],\n",
      "        [ 2, 13,  1,  ...,  0,  0,  0]]), 'attention_mask': tensor([[1, 1, 1,  ..., 0, 0, 0],\n",
      "        [1, 1, 1,  ..., 0, 0, 0],\n",
      "        [1, 1, 1,  ..., 0, 0, 0],\n",
      "        ...,\n",
      "        [1, 1, 1,  ..., 0, 0, 0],\n",
      "        [1, 1, 1,  ..., 0, 0, 0],\n",
      "        [1, 1, 1,  ..., 0, 0, 0]])}\n",
      "{'label': tensor([1, 0, 1, 1, 0, 0, 1, 0, 0, 0, 0, 1, 0, 1, 0, 0]), 'input_ids': tensor([[ 2, 13,  1,  ...,  0,  0,  0],\n",
      "        [ 2, 13,  1,  ...,  0,  0,  0],\n",
      "        [ 2, 13,  9,  ...,  0,  0,  0],\n",
      "        ...,\n",
      "        [ 2, 13,  1,  ...,  0,  0,  0],\n",
      "        [ 2, 13,  1,  ...,  0,  0,  0],\n",
      "        [ 2, 13,  1,  ...,  0,  0,  0]]), 'attention_mask': tensor([[1, 1, 1,  ..., 0, 0, 0],\n",
      "        [1, 1, 1,  ..., 0, 0, 0],\n",
      "        [1, 1, 1,  ..., 0, 0, 0],\n",
      "        ...,\n",
      "        [1, 1, 1,  ..., 0, 0, 0],\n",
      "        [1, 1, 1,  ..., 0, 0, 0],\n",
      "        [1, 1, 1,  ..., 0, 0, 0]])}\n",
      "{'label': tensor([1, 1, 1, 0, 0, 1, 0, 0, 0, 0, 1, 1, 1, 0, 0, 0]), 'input_ids': tensor([[   2,   13,    1,  ...,    0,    0,    0],\n",
      "        [   2,   13,    1,  ...,    0,    0,    0],\n",
      "        [   2,   13,    1,  ...,    0,    0,    0],\n",
      "        ...,\n",
      "        [   2,   13,    1,  ...,    0,    0,    0],\n",
      "        [   2,   13,    1,  ...,    0,    0,    0],\n",
      "        [   2,  434, 3328,  ...,    0,    0,    0]]), 'attention_mask': tensor([[1, 1, 1,  ..., 0, 0, 0],\n",
      "        [1, 1, 1,  ..., 0, 0, 0],\n",
      "        [1, 1, 1,  ..., 0, 0, 0],\n",
      "        ...,\n",
      "        [1, 1, 1,  ..., 0, 0, 0],\n",
      "        [1, 1, 1,  ..., 0, 0, 0],\n",
      "        [1, 1, 1,  ..., 0, 0, 0]])}\n",
      "{'label': tensor([1, 0, 1, 1, 1, 0, 0, 0, 0, 0, 0, 0, 0, 0, 0, 0]), 'input_ids': tensor([[    2,    13,     1,  ...,     0,     0,     0],\n",
      "        [    2,    13,     1,  ...,     1, 16704,     3],\n",
      "        [    2,    13,     1,  ...,     0,     0,     0],\n",
      "        ...,\n",
      "        [    2,    13,     1,  ...,     0,     0,     0],\n",
      "        [    2,    13,     1,  ...,     0,     0,     0],\n",
      "        [    2,    13,     1,  ...,     0,     0,     0]]), 'attention_mask': tensor([[1, 1, 1,  ..., 0, 0, 0],\n",
      "        [1, 1, 1,  ..., 1, 1, 1],\n",
      "        [1, 1, 1,  ..., 0, 0, 0],\n",
      "        ...,\n",
      "        [1, 1, 1,  ..., 0, 0, 0],\n",
      "        [1, 1, 1,  ..., 0, 0, 0],\n",
      "        [1, 1, 1,  ..., 0, 0, 0]])}\n",
      "{'label': tensor([0, 0, 0, 1, 0, 0, 1, 0, 1, 0, 0, 0, 0, 0, 1, 0]), 'input_ids': tensor([[   2,   13,    1,  ...,    0,    0,    0],\n",
      "        [   2,   13,    1,  ...,    0,    0,    0],\n",
      "        [   2, 1082, 1473,  ...,    0,    0,    0],\n",
      "        ...,\n",
      "        [   2,   13,    1,  ...,    0,    0,    0],\n",
      "        [   2,   13,    1,  ...,    0,    0,    0],\n",
      "        [   2,   13,    1,  ...,    0,    0,    0]]), 'attention_mask': tensor([[1, 1, 1,  ..., 0, 0, 0],\n",
      "        [1, 1, 1,  ..., 0, 0, 0],\n",
      "        [1, 1, 1,  ..., 0, 0, 0],\n",
      "        ...,\n",
      "        [1, 1, 1,  ..., 0, 0, 0],\n",
      "        [1, 1, 1,  ..., 0, 0, 0],\n",
      "        [1, 1, 1,  ..., 0, 0, 0]])}\n",
      "{'label': tensor([1, 0, 0, 1, 1, 0, 0, 0, 1, 1, 1, 1, 0, 0, 0, 0]), 'input_ids': tensor([[ 2, 13,  1,  ...,  0,  0,  0],\n",
      "        [ 2, 13,  1,  ...,  0,  0,  0],\n",
      "        [ 2, 13,  1,  ...,  0,  0,  0],\n",
      "        ...,\n",
      "        [ 2, 13,  1,  ...,  0,  0,  0],\n",
      "        [ 2, 13,  1,  ...,  0,  0,  0],\n",
      "        [ 2, 13,  1,  ...,  0,  0,  0]]), 'attention_mask': tensor([[1, 1, 1,  ..., 0, 0, 0],\n",
      "        [1, 1, 1,  ..., 0, 0, 0],\n",
      "        [1, 1, 1,  ..., 0, 0, 0],\n",
      "        ...,\n",
      "        [1, 1, 1,  ..., 0, 0, 0],\n",
      "        [1, 1, 1,  ..., 0, 0, 0],\n",
      "        [1, 1, 1,  ..., 0, 0, 0]])}\n",
      "{'label': tensor([1, 0, 1, 1, 0, 1, 1, 0, 0, 1, 0, 0, 0, 1, 0, 1]), 'input_ids': tensor([[    2,    13,     1,  ...,     0,     0,     0],\n",
      "        [    2,    13,     1,  ...,     0,     0,     0],\n",
      "        [    2,    13,     1,  ...,     1, 16704,     3],\n",
      "        ...,\n",
      "        [    2,    13,     1,  ...,     0,     0,     0],\n",
      "        [    2,    13,     1,  ...,     0,     0,     0],\n",
      "        [    2,    13,     1,  ...,     0,     0,     0]]), 'attention_mask': tensor([[1, 1, 1,  ..., 0, 0, 0],\n",
      "        [1, 1, 1,  ..., 0, 0, 0],\n",
      "        [1, 1, 1,  ..., 1, 1, 1],\n",
      "        ...,\n",
      "        [1, 1, 1,  ..., 0, 0, 0],\n",
      "        [1, 1, 1,  ..., 0, 0, 0],\n",
      "        [1, 1, 1,  ..., 0, 0, 0]])}\n",
      "{'label': tensor([1, 1, 1, 0, 1, 1, 0, 0, 1, 1, 0, 1, 0, 0, 0, 1]), 'input_ids': tensor([[  2,  13,   1,  ...,   0,   0,   0],\n",
      "        [  2,  13,   1,  ...,   0,   0,   0],\n",
      "        [  2,  13,   1,  ...,   0,   0,   0],\n",
      "        ...,\n",
      "        [  2,  13,   1,  ...,   0,   0,   0],\n",
      "        [  2,  13,   1,  ...,   0,   0,   0],\n",
      "        [  2, 221,  22,  ...,   0,   0,   0]]), 'attention_mask': tensor([[1, 1, 1,  ..., 0, 0, 0],\n",
      "        [1, 1, 1,  ..., 0, 0, 0],\n",
      "        [1, 1, 1,  ..., 0, 0, 0],\n",
      "        ...,\n",
      "        [1, 1, 1,  ..., 0, 0, 0],\n",
      "        [1, 1, 1,  ..., 0, 0, 0],\n",
      "        [1, 1, 1,  ..., 0, 0, 0]])}\n",
      "{'label': tensor([0, 0, 0, 1, 0, 0, 1, 1, 0, 1, 0, 0, 1, 0, 0, 1]), 'input_ids': tensor([[    2,    13,     1,  ...,     0,     0,     0],\n",
      "        [    2,    13,     1,  ...,     0,     0,     0],\n",
      "        [    2,    13,     1,  ...,     1, 16704,     3],\n",
      "        ...,\n",
      "        [    2,    13,     1,  ...,     0,     0,     0],\n",
      "        [    2,    13,     1,  ...,     0,     0,     0],\n",
      "        [    2,    13,     1,  ...,     0,     0,     0]]), 'attention_mask': tensor([[1, 1, 1,  ..., 0, 0, 0],\n",
      "        [1, 1, 1,  ..., 0, 0, 0],\n",
      "        [1, 1, 1,  ..., 1, 1, 1],\n",
      "        ...,\n",
      "        [1, 1, 1,  ..., 0, 0, 0],\n",
      "        [1, 1, 1,  ..., 0, 0, 0],\n",
      "        [1, 1, 1,  ..., 0, 0, 0]])}\n",
      "{'label': tensor([0, 0, 0, 1, 0, 0, 1, 1, 0, 1, 1, 0, 0, 0, 1, 0]), 'input_ids': tensor([[    2,    13,     1,  ...,     1, 16704,     3],\n",
      "        [    2,  6926, 21462,  ...,     0,     0,     0],\n",
      "        [    2,    13,     1,  ...,     0,     0,     0],\n",
      "        ...,\n",
      "        [    2,    13,     1,  ...,     0,     0,     0],\n",
      "        [    2,    13,     1,  ...,     0,     0,     0],\n",
      "        [    2,    13,     1,  ...,     0,     0,     0]]), 'attention_mask': tensor([[1, 1, 1,  ..., 1, 1, 1],\n",
      "        [1, 1, 1,  ..., 0, 0, 0],\n",
      "        [1, 1, 1,  ..., 0, 0, 0],\n",
      "        ...,\n",
      "        [1, 1, 1,  ..., 0, 0, 0],\n",
      "        [1, 1, 1,  ..., 0, 0, 0],\n",
      "        [1, 1, 1,  ..., 0, 0, 0]])}\n",
      "{'label': tensor([0, 1, 1, 0, 0, 1, 1, 0, 1, 0, 0, 1, 0, 1, 0, 1]), 'input_ids': tensor([[ 2, 13,  1,  ...,  0,  0,  0],\n",
      "        [ 2, 13,  1,  ...,  0,  0,  0],\n",
      "        [ 2, 13,  1,  ...,  0,  0,  0],\n",
      "        ...,\n",
      "        [ 2, 13,  1,  ...,  0,  0,  0],\n",
      "        [ 2, 13,  1,  ...,  0,  0,  0],\n",
      "        [ 2, 13,  1,  ...,  0,  0,  0]]), 'attention_mask': tensor([[1, 1, 1,  ..., 0, 0, 0],\n",
      "        [1, 1, 1,  ..., 0, 0, 0],\n",
      "        [1, 1, 1,  ..., 0, 0, 0],\n",
      "        ...,\n",
      "        [1, 1, 1,  ..., 0, 0, 0],\n",
      "        [1, 1, 1,  ..., 0, 0, 0],\n",
      "        [1, 1, 1,  ..., 0, 0, 0]])}\n",
      "{'label': tensor([0, 0, 0, 0, 0, 0, 0, 1, 0, 1, 0, 0, 0, 1, 0, 0]), 'input_ids': tensor([[  2,  13,   1,  ...,   0,   0,   0],\n",
      "        [  2,  13,   1,  ...,   0,   0,   0],\n",
      "        [  2, 182, 565,  ...,   0,   0,   0],\n",
      "        ...,\n",
      "        [  2,  13,   1,  ...,   0,   0,   0],\n",
      "        [  2,  13,   1,  ...,   0,   0,   0],\n",
      "        [  2,  13,   1,  ...,   0,   0,   0]]), 'attention_mask': tensor([[1, 1, 1,  ..., 0, 0, 0],\n",
      "        [1, 1, 1,  ..., 0, 0, 0],\n",
      "        [1, 1, 1,  ..., 0, 0, 0],\n",
      "        ...,\n",
      "        [1, 1, 1,  ..., 0, 0, 0],\n",
      "        [1, 1, 1,  ..., 0, 0, 0],\n",
      "        [1, 1, 1,  ..., 0, 0, 0]])}\n",
      "{'label': tensor([1, 0, 0, 0, 1, 0, 0, 1, 0, 1, 0, 0, 1, 0, 0, 0]), 'input_ids': tensor([[  2,  13,   1,  ...,   0,   0,   0],\n",
      "        [  2,  13,   1,  ...,   0,   0,   0],\n",
      "        [  2,  13,   1,  ...,   0,   0,   0],\n",
      "        ...,\n",
      "        [  2,  13,   5,  ...,   0,   0,   0],\n",
      "        [  2, 699,  77,  ...,   0,   0,   0],\n",
      "        [  2,  13,   1,  ...,   0,   0,   0]]), 'attention_mask': tensor([[1, 1, 1,  ..., 0, 0, 0],\n",
      "        [1, 1, 1,  ..., 0, 0, 0],\n",
      "        [1, 1, 1,  ..., 0, 0, 0],\n",
      "        ...,\n",
      "        [1, 1, 1,  ..., 0, 0, 0],\n",
      "        [1, 1, 1,  ..., 0, 0, 0],\n",
      "        [1, 1, 1,  ..., 0, 0, 0]])}\n",
      "{'label': tensor([1, 1, 1, 0, 0, 0, 0, 0, 1, 0, 0, 0, 0, 0, 0, 1]), 'input_ids': tensor([[ 2, 13,  1,  ...,  0,  0,  0],\n",
      "        [ 2, 13,  1,  ...,  0,  0,  0],\n",
      "        [ 2, 13,  1,  ...,  0,  0,  0],\n",
      "        ...,\n",
      "        [ 2, 13,  1,  ...,  0,  0,  0],\n",
      "        [ 2, 13,  1,  ...,  0,  0,  0],\n",
      "        [ 2, 13,  1,  ...,  0,  0,  0]]), 'attention_mask': tensor([[1, 1, 1,  ..., 0, 0, 0],\n",
      "        [1, 1, 1,  ..., 0, 0, 0],\n",
      "        [1, 1, 1,  ..., 0, 0, 0],\n",
      "        ...,\n",
      "        [1, 1, 1,  ..., 0, 0, 0],\n",
      "        [1, 1, 1,  ..., 0, 0, 0],\n",
      "        [1, 1, 1,  ..., 0, 0, 0]])}\n",
      "{'label': tensor([1, 1, 0, 0, 0, 1, 0, 0, 0, 1, 1, 0, 1, 0, 0, 0]), 'input_ids': tensor([[ 2, 13,  1,  ...,  0,  0,  0],\n",
      "        [ 2, 13,  1,  ...,  0,  0,  0],\n",
      "        [ 2, 13,  1,  ...,  0,  0,  0],\n",
      "        ...,\n",
      "        [ 2, 13,  1,  ...,  0,  0,  0],\n",
      "        [ 2, 67, 31,  ...,  0,  0,  0],\n",
      "        [ 2, 13,  1,  ...,  0,  0,  0]]), 'attention_mask': tensor([[1, 1, 1,  ..., 0, 0, 0],\n",
      "        [1, 1, 1,  ..., 0, 0, 0],\n",
      "        [1, 1, 1,  ..., 0, 0, 0],\n",
      "        ...,\n",
      "        [1, 1, 1,  ..., 0, 0, 0],\n",
      "        [1, 1, 1,  ..., 0, 0, 0],\n",
      "        [1, 1, 1,  ..., 0, 0, 0]])}\n",
      "{'label': tensor([0, 1, 1, 1, 0, 1, 0, 0, 0, 1, 0, 0, 1, 0, 1, 0]), 'input_ids': tensor([[    2,    13,     1,  ...,     0,     0,     0],\n",
      "        [    2,    13,     1,  ...,     0,     0,     0],\n",
      "        [    2,    13,     1,  ...,     0,     0,     0],\n",
      "        ...,\n",
      "        [    2,    13,     1,  ...,     0,     0,     0],\n",
      "        [    2,    13, 25617,  ...,     0,     0,     0],\n",
      "        [    2,    13,     1,  ...,     0,     0,     0]]), 'attention_mask': tensor([[1, 1, 1,  ..., 0, 0, 0],\n",
      "        [1, 1, 1,  ..., 0, 0, 0],\n",
      "        [1, 1, 1,  ..., 0, 0, 0],\n",
      "        ...,\n",
      "        [1, 1, 1,  ..., 0, 0, 0],\n",
      "        [1, 1, 1,  ..., 0, 0, 0],\n",
      "        [1, 1, 1,  ..., 0, 0, 0]])}\n",
      "{'label': tensor([0, 0, 0, 0, 0, 0, 0, 0, 0, 1, 0, 0, 1, 1, 1, 0]), 'input_ids': tensor([[   2,   13,    1,  ...,    0,    0,    0],\n",
      "        [   2, 6926, 4570,  ...,    0,    0,    0],\n",
      "        [   2,   13,    1,  ...,    0,    0,    0],\n",
      "        ...,\n",
      "        [   2,   91,  896,  ...,    0,    0,    0],\n",
      "        [   2,   13,    1,  ...,    0,    0,    0],\n",
      "        [   2,   13,    1,  ...,    0,    0,    0]]), 'attention_mask': tensor([[1, 1, 1,  ..., 0, 0, 0],\n",
      "        [1, 1, 1,  ..., 0, 0, 0],\n",
      "        [1, 1, 1,  ..., 0, 0, 0],\n",
      "        ...,\n",
      "        [1, 1, 1,  ..., 0, 0, 0],\n",
      "        [1, 1, 1,  ..., 0, 0, 0],\n",
      "        [1, 1, 1,  ..., 0, 0, 0]])}\n",
      "{'label': tensor([0, 0, 0, 0, 0, 1, 0, 0, 0, 1, 1, 0, 0, 0, 1, 0]), 'input_ids': tensor([[    2,    13,     1,  ...,     0,     0,     0],\n",
      "        [    2,    13,     1,  ...,     0,     0,     0],\n",
      "        [    2,    13,     9,  ...,     0,     0,     0],\n",
      "        ...,\n",
      "        [    2,    13,     1,  ...,     1, 16704,     3],\n",
      "        [    2,    13,     1,  ...,     0,     0,     0],\n",
      "        [    2,    13,     1,  ...,     0,     0,     0]]), 'attention_mask': tensor([[1, 1, 1,  ..., 0, 0, 0],\n",
      "        [1, 1, 1,  ..., 0, 0, 0],\n",
      "        [1, 1, 1,  ..., 0, 0, 0],\n",
      "        ...,\n",
      "        [1, 1, 1,  ..., 1, 1, 1],\n",
      "        [1, 1, 1,  ..., 0, 0, 0],\n",
      "        [1, 1, 1,  ..., 0, 0, 0]])}\n",
      "{'label': tensor([0, 0, 1, 0, 1, 1, 0, 0, 0, 0, 0, 1, 1, 1, 1, 0]), 'input_ids': tensor([[ 2, 13,  1,  ...,  0,  0,  0],\n",
      "        [ 2, 13,  1,  ...,  0,  0,  0],\n",
      "        [ 2, 13,  9,  ...,  0,  0,  0],\n",
      "        ...,\n",
      "        [ 2, 13,  1,  ...,  0,  0,  0],\n",
      "        [ 2, 13,  1,  ...,  0,  0,  0],\n",
      "        [ 2, 13,  1,  ...,  0,  0,  0]]), 'attention_mask': tensor([[1, 1, 1,  ..., 0, 0, 0],\n",
      "        [1, 1, 1,  ..., 0, 0, 0],\n",
      "        [1, 1, 1,  ..., 0, 0, 0],\n",
      "        ...,\n",
      "        [1, 1, 1,  ..., 0, 0, 0],\n",
      "        [1, 1, 1,  ..., 0, 0, 0],\n",
      "        [1, 1, 1,  ..., 0, 0, 0]])}\n",
      "{'label': tensor([1, 0, 0, 0, 0, 1, 0, 0, 0, 0, 1, 0, 1, 0, 0, 0]), 'input_ids': tensor([[ 2, 13,  1,  ...,  0,  0,  0],\n",
      "        [ 2, 13,  1,  ...,  0,  0,  0],\n",
      "        [ 2, 13,  1,  ...,  0,  0,  0],\n",
      "        ...,\n",
      "        [ 2, 13,  1,  ...,  0,  0,  0],\n",
      "        [ 2, 13,  1,  ...,  0,  0,  0],\n",
      "        [ 2, 13,  1,  ...,  0,  0,  0]]), 'attention_mask': tensor([[1, 1, 1,  ..., 0, 0, 0],\n",
      "        [1, 1, 1,  ..., 0, 0, 0],\n",
      "        [1, 1, 1,  ..., 0, 0, 0],\n",
      "        ...,\n",
      "        [1, 1, 1,  ..., 0, 0, 0],\n",
      "        [1, 1, 1,  ..., 0, 0, 0],\n",
      "        [1, 1, 1,  ..., 0, 0, 0]])}\n",
      "{'label': tensor([0, 1, 0, 0, 0, 0, 0, 0, 0, 1, 0, 0, 1, 0, 0, 1]), 'input_ids': tensor([[   2,   13,    1,  ...,    0,    0,    0],\n",
      "        [   2,   13,    1,  ...,    0,    0,    0],\n",
      "        [   2,   13,    1,  ...,    0,    0,    0],\n",
      "        ...,\n",
      "        [   2, 6926,   79,  ...,    0,    0,    0],\n",
      "        [   2,   13,    1,  ...,    0,    0,    0],\n",
      "        [   2,   13,    1,  ...,    0,    0,    0]]), 'attention_mask': tensor([[1, 1, 1,  ..., 0, 0, 0],\n",
      "        [1, 1, 1,  ..., 0, 0, 0],\n",
      "        [1, 1, 1,  ..., 0, 0, 0],\n",
      "        ...,\n",
      "        [1, 1, 1,  ..., 0, 0, 0],\n",
      "        [1, 1, 1,  ..., 0, 0, 0],\n",
      "        [1, 1, 1,  ..., 0, 0, 0]])}\n",
      "{'label': tensor([0, 0, 1, 0, 0, 0, 0, 1, 0, 0, 0, 0, 1, 0, 0, 1]), 'input_ids': tensor([[ 2, 13,  1,  ...,  0,  0,  0],\n",
      "        [ 2, 13,  1,  ...,  0,  0,  0],\n",
      "        [ 2, 13,  1,  ...,  0,  0,  0],\n",
      "        ...,\n",
      "        [ 2, 13,  1,  ...,  0,  0,  0],\n",
      "        [ 2, 13,  1,  ...,  0,  0,  0],\n",
      "        [ 2, 13,  1,  ...,  0,  0,  0]]), 'attention_mask': tensor([[1, 1, 1,  ..., 0, 0, 0],\n",
      "        [1, 1, 1,  ..., 0, 0, 0],\n",
      "        [1, 1, 1,  ..., 0, 0, 0],\n",
      "        ...,\n",
      "        [1, 1, 1,  ..., 0, 0, 0],\n",
      "        [1, 1, 1,  ..., 0, 0, 0],\n",
      "        [1, 1, 1,  ..., 0, 0, 0]])}\n",
      "{'label': tensor([0, 1, 0, 0, 1, 0, 1, 0, 0, 1, 1, 1, 0, 0, 0, 0]), 'input_ids': tensor([[ 2, 13,  1,  ...,  0,  0,  0],\n",
      "        [ 2, 13,  1,  ...,  0,  0,  0],\n",
      "        [ 2, 13,  1,  ...,  0,  0,  0],\n",
      "        ...,\n",
      "        [ 2, 13,  1,  ...,  0,  0,  0],\n",
      "        [ 2, 13,  1,  ...,  0,  0,  0],\n",
      "        [ 2, 13,  1,  ...,  0,  0,  0]]), 'attention_mask': tensor([[1, 1, 1,  ..., 0, 0, 0],\n",
      "        [1, 1, 1,  ..., 0, 0, 0],\n",
      "        [1, 1, 1,  ..., 0, 0, 0],\n",
      "        ...,\n",
      "        [1, 1, 1,  ..., 0, 0, 0],\n",
      "        [1, 1, 1,  ..., 0, 0, 0],\n",
      "        [1, 1, 1,  ..., 0, 0, 0]])}\n",
      "{'label': tensor([1, 0, 1, 1, 0, 0, 0, 1, 0, 0, 0, 0, 1, 1, 0, 1]), 'input_ids': tensor([[   2,   13,    1,  ...,    0,    0,    0],\n",
      "        [   2,   13,    1,  ...,    0,    0,    0],\n",
      "        [   2,   13,    1,  ...,    0,    0,    0],\n",
      "        ...,\n",
      "        [   2,   13,    1,  ...,    0,    0,    0],\n",
      "        [   2, 3440,   55,  ...,    0,    0,    0],\n",
      "        [   2,   13,    1,  ...,    0,    0,    0]]), 'attention_mask': tensor([[1, 1, 1,  ..., 0, 0, 0],\n",
      "        [1, 1, 1,  ..., 0, 0, 0],\n",
      "        [1, 1, 1,  ..., 0, 0, 0],\n",
      "        ...,\n",
      "        [1, 1, 1,  ..., 0, 0, 0],\n",
      "        [1, 1, 1,  ..., 0, 0, 0],\n",
      "        [1, 1, 1,  ..., 0, 0, 0]])}\n",
      "{'label': tensor([1, 1, 1, 0, 0, 1, 0, 0, 0, 0, 0, 1, 0, 0, 0, 0]), 'input_ids': tensor([[    2, 11502,    17,  ...,     0,     0,     0],\n",
      "        [    2,    13,     1,  ...,     0,     0,     0],\n",
      "        [    2,    13,     1,  ...,     0,     0,     0],\n",
      "        ...,\n",
      "        [    2,    13,     1,  ...,     0,     0,     0],\n",
      "        [    2,    13,     1,  ...,     0,     0,     0],\n",
      "        [    2,    13,     1,  ...,     0,     0,     0]]), 'attention_mask': tensor([[1, 1, 1,  ..., 0, 0, 0],\n",
      "        [1, 1, 1,  ..., 0, 0, 0],\n",
      "        [1, 1, 1,  ..., 0, 0, 0],\n",
      "        ...,\n",
      "        [1, 1, 1,  ..., 0, 0, 0],\n",
      "        [1, 1, 1,  ..., 0, 0, 0],\n",
      "        [1, 1, 1,  ..., 0, 0, 0]])}\n",
      "{'label': tensor([1, 0, 0, 0, 0, 0, 1, 0, 0, 0, 1, 1, 0, 1, 0, 0]), 'input_ids': tensor([[ 2, 13,  1,  ...,  0,  0,  0],\n",
      "        [ 2, 13,  1,  ...,  0,  0,  0],\n",
      "        [ 2, 13,  1,  ...,  0,  0,  0],\n",
      "        ...,\n",
      "        [ 2, 13,  1,  ...,  0,  0,  0],\n",
      "        [ 2, 13,  1,  ...,  0,  0,  0],\n",
      "        [ 2, 13,  1,  ...,  0,  0,  0]]), 'attention_mask': tensor([[1, 1, 1,  ..., 0, 0, 0],\n",
      "        [1, 1, 1,  ..., 0, 0, 0],\n",
      "        [1, 1, 1,  ..., 0, 0, 0],\n",
      "        ...,\n",
      "        [1, 1, 1,  ..., 0, 0, 0],\n",
      "        [1, 1, 1,  ..., 0, 0, 0],\n",
      "        [1, 1, 1,  ..., 0, 0, 0]])}\n",
      "{'label': tensor([0, 1, 1, 0, 0, 0, 0, 0, 0, 0, 1, 1, 1, 0, 1, 0]), 'input_ids': tensor([[ 2, 13,  1,  ...,  0,  0,  0],\n",
      "        [ 2, 13,  1,  ...,  0,  0,  0],\n",
      "        [ 2, 13,  1,  ...,  0,  0,  0],\n",
      "        ...,\n",
      "        [ 2, 13,  1,  ...,  0,  0,  0],\n",
      "        [ 2, 13,  1,  ...,  0,  0,  0],\n",
      "        [ 2, 13,  1,  ...,  0,  0,  0]]), 'attention_mask': tensor([[1, 1, 1,  ..., 0, 0, 0],\n",
      "        [1, 1, 1,  ..., 0, 0, 0],\n",
      "        [1, 1, 1,  ..., 0, 0, 0],\n",
      "        ...,\n",
      "        [1, 1, 1,  ..., 0, 0, 0],\n",
      "        [1, 1, 1,  ..., 0, 0, 0],\n",
      "        [1, 1, 1,  ..., 0, 0, 0]])}\n",
      "{'label': tensor([0, 0, 0, 0, 0, 0, 0, 0, 0, 0, 0, 1, 1, 0, 0, 0]), 'input_ids': tensor([[   2,  347, 2044,  ...,    0,    0,    0],\n",
      "        [   2,   13,    1,  ...,    0,    0,    0],\n",
      "        [   2,   13,    1,  ...,    0,    0,    0],\n",
      "        ...,\n",
      "        [   2,   13,    1,  ...,    0,    0,    0],\n",
      "        [   2,   13,    1,  ...,    0,    0,    0],\n",
      "        [   2,   13,    1,  ...,    0,    0,    0]]), 'attention_mask': tensor([[1, 1, 1,  ..., 0, 0, 0],\n",
      "        [1, 1, 1,  ..., 0, 0, 0],\n",
      "        [1, 1, 1,  ..., 0, 0, 0],\n",
      "        ...,\n",
      "        [1, 1, 1,  ..., 0, 0, 0],\n",
      "        [1, 1, 1,  ..., 0, 0, 0],\n",
      "        [1, 1, 1,  ..., 0, 0, 0]])}\n",
      "{'label': tensor([1, 0, 1, 0, 1, 0, 0, 0, 0, 0, 0, 1, 0, 0, 0, 1]), 'input_ids': tensor([[   2,   13,    1,  ...,    0,    0,    0],\n",
      "        [   2,   13,    1,  ...,    0,    0,    0],\n",
      "        [   2,   13,    1,  ...,    0,    0,    0],\n",
      "        ...,\n",
      "        [   2, 6926,  531,  ...,    0,    0,    0],\n",
      "        [   2,   13,    1,  ...,    0,    0,    0],\n",
      "        [   2,   13,    1,  ...,    0,    0,    0]]), 'attention_mask': tensor([[1, 1, 1,  ..., 0, 0, 0],\n",
      "        [1, 1, 1,  ..., 0, 0, 0],\n",
      "        [1, 1, 1,  ..., 0, 0, 0],\n",
      "        ...,\n",
      "        [1, 1, 1,  ..., 0, 0, 0],\n",
      "        [1, 1, 1,  ..., 0, 0, 0],\n",
      "        [1, 1, 1,  ..., 0, 0, 0]])}\n",
      "{'label': tensor([0, 1, 1, 0, 0, 0, 0, 0, 1, 0, 0, 1, 0, 1, 1, 1]), 'input_ids': tensor([[  2,  13,   1,  ...,   0,   0,   0],\n",
      "        [  2,  13,   1,  ...,   0,   0,   0],\n",
      "        [  2,  13,   1,  ...,   0,   0,   0],\n",
      "        ...,\n",
      "        [  2,  13,   1,  ...,   0,   0,   0],\n",
      "        [  2,  21, 265,  ...,   0,   0,   0],\n",
      "        [  2,  13,   1,  ...,   0,   0,   0]]), 'attention_mask': tensor([[1, 1, 1,  ..., 0, 0, 0],\n",
      "        [1, 1, 1,  ..., 0, 0, 0],\n",
      "        [1, 1, 1,  ..., 0, 0, 0],\n",
      "        ...,\n",
      "        [1, 1, 1,  ..., 0, 0, 0],\n",
      "        [1, 1, 1,  ..., 0, 0, 0],\n",
      "        [1, 1, 1,  ..., 0, 0, 0]])}\n",
      "{'label': tensor([1, 1, 0, 0, 0, 0, 1, 0, 1, 0, 1, 0, 0, 0, 1, 0]), 'input_ids': tensor([[ 2, 13,  1,  ...,  0,  0,  0],\n",
      "        [ 2, 13,  1,  ...,  0,  0,  0],\n",
      "        [ 2, 13,  1,  ...,  0,  0,  0],\n",
      "        ...,\n",
      "        [ 2, 13,  1,  ...,  0,  0,  0],\n",
      "        [ 2, 13,  1,  ...,  0,  0,  0],\n",
      "        [ 2, 13,  1,  ...,  0,  0,  0]]), 'attention_mask': tensor([[1, 1, 1,  ..., 0, 0, 0],\n",
      "        [1, 1, 1,  ..., 0, 0, 0],\n",
      "        [1, 1, 1,  ..., 0, 0, 0],\n",
      "        ...,\n",
      "        [1, 1, 1,  ..., 0, 0, 0],\n",
      "        [1, 1, 1,  ..., 0, 0, 0],\n",
      "        [1, 1, 1,  ..., 0, 0, 0]])}\n",
      "{'label': tensor([1, 0, 0, 0, 0, 0, 0, 0, 0, 0, 1, 0, 0, 0, 0, 1]), 'input_ids': tensor([[ 2, 13,  1,  ...,  0,  0,  0],\n",
      "        [ 2, 13,  1,  ...,  0,  0,  0],\n",
      "        [ 2, 13,  1,  ...,  0,  0,  0],\n",
      "        ...,\n",
      "        [ 2, 13,  1,  ...,  0,  0,  0],\n",
      "        [ 2, 13,  1,  ...,  0,  0,  0],\n",
      "        [ 2, 13,  1,  ...,  0,  0,  0]]), 'attention_mask': tensor([[1, 1, 1,  ..., 0, 0, 0],\n",
      "        [1, 1, 1,  ..., 0, 0, 0],\n",
      "        [1, 1, 1,  ..., 0, 0, 0],\n",
      "        ...,\n",
      "        [1, 1, 1,  ..., 0, 0, 0],\n",
      "        [1, 1, 1,  ..., 0, 0, 0],\n",
      "        [1, 1, 1,  ..., 0, 0, 0]])}\n",
      "{'label': tensor([0, 1, 0, 0, 1, 0, 0, 1, 0, 0, 0, 0, 0, 0, 1, 0]), 'input_ids': tensor([[    2,    13,     1,  ...,     0,     0,     0],\n",
      "        [    2,    13,     1,  ...,     0,     0,     0],\n",
      "        [    2,    13,     1,  ...,     0,     0,     0],\n",
      "        ...,\n",
      "        [    2,    13,     1,  ...,     0,     0,     0],\n",
      "        [    2,    13,     1,  ...,     0,     0,     0],\n",
      "        [    2,    13,     1,  ...,     1, 16704,     3]]), 'attention_mask': tensor([[1, 1, 1,  ..., 0, 0, 0],\n",
      "        [1, 1, 1,  ..., 0, 0, 0],\n",
      "        [1, 1, 1,  ..., 0, 0, 0],\n",
      "        ...,\n",
      "        [1, 1, 1,  ..., 0, 0, 0],\n",
      "        [1, 1, 1,  ..., 0, 0, 0],\n",
      "        [1, 1, 1,  ..., 1, 1, 1]])}\n",
      "{'label': tensor([0, 0, 0, 0, 0, 1, 0, 1, 0, 0, 1, 0, 0, 0, 1, 0]), 'input_ids': tensor([[    2,    13,     1,  ...,     0,     0,     0],\n",
      "        [    2,    13,     1,  ...,     0,     0,     0],\n",
      "        [    2,    13,     1,  ...,     1, 16704,     3],\n",
      "        ...,\n",
      "        [    2,    13,     1,  ...,     0,     0,     0],\n",
      "        [    2,    13,     1,  ...,     0,     0,     0],\n",
      "        [    2,    13,     1,  ...,     0,     0,     0]]), 'attention_mask': tensor([[1, 1, 1,  ..., 0, 0, 0],\n",
      "        [1, 1, 1,  ..., 0, 0, 0],\n",
      "        [1, 1, 1,  ..., 1, 1, 1],\n",
      "        ...,\n",
      "        [1, 1, 1,  ..., 0, 0, 0],\n",
      "        [1, 1, 1,  ..., 0, 0, 0],\n",
      "        [1, 1, 1,  ..., 0, 0, 0]])}\n",
      "{'label': tensor([0, 0, 0, 1, 0, 0, 0, 0, 1, 0, 1, 0, 0, 1, 0, 0]), 'input_ids': tensor([[    2,    13,     1,  ...,     0,     0,     0],\n",
      "        [    2,   406,  7095,  ...,     0,     0,     0],\n",
      "        [    2,    13,     1,  ...,     0,     0,     0],\n",
      "        ...,\n",
      "        [    2,   184,   630,  ...,     0,     0,     0],\n",
      "        [    2,    13,     1,  ...,     0,     0,     0],\n",
      "        [    2,    13,     1,  ...,     1, 16704,     3]]), 'attention_mask': tensor([[1, 1, 1,  ..., 0, 0, 0],\n",
      "        [1, 1, 1,  ..., 0, 0, 0],\n",
      "        [1, 1, 1,  ..., 0, 0, 0],\n",
      "        ...,\n",
      "        [1, 1, 1,  ..., 0, 0, 0],\n",
      "        [1, 1, 1,  ..., 0, 0, 0],\n",
      "        [1, 1, 1,  ..., 1, 1, 1]])}\n",
      "{'label': tensor([1, 0, 0, 0, 0, 0, 1, 0, 1, 0, 0, 1, 0, 0, 0, 1]), 'input_ids': tensor([[ 2, 13,  1,  ...,  0,  0,  0],\n",
      "        [ 2, 13,  1,  ...,  0,  0,  0],\n",
      "        [ 2, 13,  1,  ...,  0,  0,  0],\n",
      "        ...,\n",
      "        [ 2, 13,  1,  ...,  0,  0,  0],\n",
      "        [ 2, 13,  1,  ...,  0,  0,  0],\n",
      "        [ 2, 13,  1,  ...,  0,  0,  0]]), 'attention_mask': tensor([[1, 1, 1,  ..., 0, 0, 0],\n",
      "        [1, 1, 1,  ..., 0, 0, 0],\n",
      "        [1, 1, 1,  ..., 0, 0, 0],\n",
      "        ...,\n",
      "        [1, 1, 1,  ..., 0, 0, 0],\n",
      "        [1, 1, 1,  ..., 0, 0, 0],\n",
      "        [1, 1, 1,  ..., 0, 0, 0]])}\n",
      "{'label': tensor([0, 0, 0, 1, 1, 1, 0, 0, 0, 1, 1, 0, 0, 0, 0, 1]), 'input_ids': tensor([[ 2, 13,  1,  ...,  0,  0,  0],\n",
      "        [ 2, 13,  1,  ...,  0,  0,  0],\n",
      "        [ 2, 13,  1,  ...,  0,  0,  0],\n",
      "        ...,\n",
      "        [ 2, 13,  1,  ...,  0,  0,  0],\n",
      "        [ 2, 13,  1,  ...,  0,  0,  0],\n",
      "        [ 2, 13,  1,  ...,  0,  0,  0]]), 'attention_mask': tensor([[1, 1, 1,  ..., 0, 0, 0],\n",
      "        [1, 1, 1,  ..., 0, 0, 0],\n",
      "        [1, 1, 1,  ..., 0, 0, 0],\n",
      "        ...,\n",
      "        [1, 1, 1,  ..., 0, 0, 0],\n",
      "        [1, 1, 1,  ..., 0, 0, 0],\n",
      "        [1, 1, 1,  ..., 0, 0, 0]])}\n",
      "{'label': tensor([1, 0, 0, 0, 1, 0, 1, 0, 1, 0, 0, 0, 1, 0, 0, 1]), 'input_ids': tensor([[ 2, 13,  1,  ...,  0,  0,  0],\n",
      "        [ 2, 13,  1,  ...,  0,  0,  0],\n",
      "        [ 2, 13,  1,  ...,  0,  0,  0],\n",
      "        ...,\n",
      "        [ 2, 13,  1,  ...,  0,  0,  0],\n",
      "        [ 2, 13,  1,  ...,  0,  0,  0],\n",
      "        [ 2, 13,  1,  ...,  0,  0,  0]]), 'attention_mask': tensor([[1, 1, 1,  ..., 0, 0, 0],\n",
      "        [1, 1, 1,  ..., 0, 0, 0],\n",
      "        [1, 1, 1,  ..., 0, 0, 0],\n",
      "        ...,\n",
      "        [1, 1, 1,  ..., 0, 0, 0],\n",
      "        [1, 1, 1,  ..., 0, 0, 0],\n",
      "        [1, 1, 1,  ..., 0, 0, 0]])}\n",
      "{'label': tensor([0, 0, 0, 0, 1, 0, 1, 0, 0, 0, 0, 0, 0, 0, 0, 1]), 'input_ids': tensor([[   2,   13,    5,  ...,    0,    0,    0],\n",
      "        [   2,   13,    1,  ...,    0,    0,    0],\n",
      "        [   2,   14, 1952,  ...,    0,    0,    0],\n",
      "        ...,\n",
      "        [   2,   13,    1,  ...,    0,    0,    0],\n",
      "        [   2,   13,    1,  ...,    0,    0,    0],\n",
      "        [   2,   13,    1,  ...,    0,    0,    0]]), 'attention_mask': tensor([[1, 1, 1,  ..., 0, 0, 0],\n",
      "        [1, 1, 1,  ..., 0, 0, 0],\n",
      "        [1, 1, 1,  ..., 0, 0, 0],\n",
      "        ...,\n",
      "        [1, 1, 1,  ..., 0, 0, 0],\n",
      "        [1, 1, 1,  ..., 0, 0, 0],\n",
      "        [1, 1, 1,  ..., 0, 0, 0]])}\n",
      "{'label': tensor([0, 0, 0, 1, 1, 1, 0, 1, 1, 0, 1, 0, 1, 0, 0, 0]), 'input_ids': tensor([[ 2, 13,  1,  ...,  0,  0,  0],\n",
      "        [ 2, 13,  1,  ...,  0,  0,  0],\n",
      "        [ 2, 13,  1,  ...,  0,  0,  0],\n",
      "        ...,\n",
      "        [ 2, 13,  1,  ...,  0,  0,  0],\n",
      "        [ 2, 13,  1,  ...,  0,  0,  0],\n",
      "        [ 2, 13,  1,  ...,  0,  0,  0]]), 'attention_mask': tensor([[1, 1, 1,  ..., 0, 0, 0],\n",
      "        [1, 1, 1,  ..., 0, 0, 0],\n",
      "        [1, 1, 1,  ..., 0, 0, 0],\n",
      "        ...,\n",
      "        [1, 1, 1,  ..., 0, 0, 0],\n",
      "        [1, 1, 1,  ..., 0, 0, 0],\n",
      "        [1, 1, 1,  ..., 0, 0, 0]])}\n",
      "{'label': tensor([1, 0, 0, 0, 0, 1, 0, 1, 0, 0, 0, 0, 0, 1, 1, 0]), 'input_ids': tensor([[    2,    13,     9,  ...,     0,     0,     0],\n",
      "        [    2,    13,     1,  ...,     0,     0,     0],\n",
      "        [    2,    13,     1,  ...,     0,     0,     0],\n",
      "        ...,\n",
      "        [    2, 11100,  6513,  ...,     0,     0,     0],\n",
      "        [    2,    13,     1,  ...,     0,     0,     0],\n",
      "        [    2,    13,     1,  ...,     0,     0,     0]]), 'attention_mask': tensor([[1, 1, 1,  ..., 0, 0, 0],\n",
      "        [1, 1, 1,  ..., 0, 0, 0],\n",
      "        [1, 1, 1,  ..., 0, 0, 0],\n",
      "        ...,\n",
      "        [1, 1, 1,  ..., 0, 0, 0],\n",
      "        [1, 1, 1,  ..., 0, 0, 0],\n",
      "        [1, 1, 1,  ..., 0, 0, 0]])}\n",
      "{'label': tensor([0, 1, 1, 0, 0, 0, 1, 1, 0, 1, 0, 0, 0, 0, 0, 0]), 'input_ids': tensor([[ 2, 13,  1,  ...,  0,  0,  0],\n",
      "        [ 2, 13,  1,  ...,  0,  0,  0],\n",
      "        [ 2, 13,  1,  ...,  0,  0,  0],\n",
      "        ...,\n",
      "        [ 2, 13,  1,  ...,  0,  0,  0],\n",
      "        [ 2, 13,  1,  ...,  0,  0,  0],\n",
      "        [ 2, 13,  1,  ...,  0,  0,  0]]), 'attention_mask': tensor([[1, 1, 1,  ..., 0, 0, 0],\n",
      "        [1, 1, 1,  ..., 0, 0, 0],\n",
      "        [1, 1, 1,  ..., 0, 0, 0],\n",
      "        ...,\n",
      "        [1, 1, 1,  ..., 0, 0, 0],\n",
      "        [1, 1, 1,  ..., 0, 0, 0],\n",
      "        [1, 1, 1,  ..., 0, 0, 0]])}\n",
      "{'label': tensor([0, 1, 0, 1, 1, 1, 1, 1, 1, 1, 0, 1, 0, 0, 1, 0]), 'input_ids': tensor([[ 2, 13,  1,  ...,  0,  0,  0],\n",
      "        [ 2, 13,  1,  ...,  0,  0,  0],\n",
      "        [ 2, 13,  1,  ...,  0,  0,  0],\n",
      "        ...,\n",
      "        [ 2, 13,  1,  ...,  0,  0,  0],\n",
      "        [ 2, 13,  1,  ...,  0,  0,  0],\n",
      "        [ 2, 13,  1,  ...,  0,  0,  0]]), 'attention_mask': tensor([[1, 1, 1,  ..., 0, 0, 0],\n",
      "        [1, 1, 1,  ..., 0, 0, 0],\n",
      "        [1, 1, 1,  ..., 0, 0, 0],\n",
      "        ...,\n",
      "        [1, 1, 1,  ..., 0, 0, 0],\n",
      "        [1, 1, 1,  ..., 0, 0, 0],\n",
      "        [1, 1, 1,  ..., 0, 0, 0]])}\n",
      "{'label': tensor([0, 0, 1, 0, 0, 1, 0, 0, 1, 1, 0, 1, 0, 1, 0, 0]), 'input_ids': tensor([[   2,   13,    1,  ...,    0,    0,    0],\n",
      "        [   2, 8367,    9,  ...,    0,    0,    0],\n",
      "        [   2,   13,    1,  ...,    0,    0,    0],\n",
      "        ...,\n",
      "        [   2,   13,    1,  ...,    0,    0,    0],\n",
      "        [   2,   13,    1,  ...,    0,    0,    0],\n",
      "        [   2,   13,    1,  ...,    0,    0,    0]]), 'attention_mask': tensor([[1, 1, 1,  ..., 0, 0, 0],\n",
      "        [1, 1, 1,  ..., 0, 0, 0],\n",
      "        [1, 1, 1,  ..., 0, 0, 0],\n",
      "        ...,\n",
      "        [1, 1, 1,  ..., 0, 0, 0],\n",
      "        [1, 1, 1,  ..., 0, 0, 0],\n",
      "        [1, 1, 1,  ..., 0, 0, 0]])}\n",
      "{'label': tensor([0, 0, 0, 0, 1, 1, 0, 0, 1, 1, 0, 0, 1, 1, 0, 0]), 'input_ids': tensor([[   2,   13,    1,  ...,    0,    0,    0],\n",
      "        [   2,   13,    1,  ...,    0,    0,    0],\n",
      "        [   2,   13,    1,  ...,    0,    0,    0],\n",
      "        ...,\n",
      "        [   2,   13,    1,  ...,    0,    0,    0],\n",
      "        [   2,   31, 2666,  ...,    0,    0,    0],\n",
      "        [   2,   13,    1,  ...,    0,    0,    0]]), 'attention_mask': tensor([[1, 1, 1,  ..., 0, 0, 0],\n",
      "        [1, 1, 1,  ..., 0, 0, 0],\n",
      "        [1, 1, 1,  ..., 0, 0, 0],\n",
      "        ...,\n",
      "        [1, 1, 1,  ..., 0, 0, 0],\n",
      "        [1, 1, 1,  ..., 0, 0, 0],\n",
      "        [1, 1, 1,  ..., 0, 0, 0]])}\n",
      "{'label': tensor([1, 0, 1, 1, 1, 0, 1, 0, 0, 1, 0, 0, 0, 0, 1, 0]), 'input_ids': tensor([[ 2, 13,  1,  ...,  0,  0,  0],\n",
      "        [ 2, 13,  1,  ...,  0,  0,  0],\n",
      "        [ 2, 13,  1,  ...,  0,  0,  0],\n",
      "        ...,\n",
      "        [ 2, 13,  1,  ...,  0,  0,  0],\n",
      "        [ 2, 13,  1,  ...,  0,  0,  0],\n",
      "        [ 2, 13,  1,  ...,  0,  0,  0]]), 'attention_mask': tensor([[1, 1, 1,  ..., 0, 0, 0],\n",
      "        [1, 1, 1,  ..., 0, 0, 0],\n",
      "        [1, 1, 1,  ..., 0, 0, 0],\n",
      "        ...,\n",
      "        [1, 1, 1,  ..., 0, 0, 0],\n",
      "        [1, 1, 1,  ..., 0, 0, 0],\n",
      "        [1, 1, 1,  ..., 0, 0, 0]])}\n",
      "{'label': tensor([1, 1, 1, 1, 0, 1, 0, 0, 0, 0, 1, 1, 0, 1, 0, 0]), 'input_ids': tensor([[    2,    13,     1,  ...,     0,     0,     0],\n",
      "        [    2,    13,     1,  ...,     0,     0,     0],\n",
      "        [    2,    13,     1,  ...,     0,     0,     0],\n",
      "        ...,\n",
      "        [    2,    13,     1,  ...,     0,     0,     0],\n",
      "        [    2,  6926, 21462,  ...,     0,     0,     0],\n",
      "        [    2,    13,     1,  ...,     0,     0,     0]]), 'attention_mask': tensor([[1, 1, 1,  ..., 0, 0, 0],\n",
      "        [1, 1, 1,  ..., 0, 0, 0],\n",
      "        [1, 1, 1,  ..., 0, 0, 0],\n",
      "        ...,\n",
      "        [1, 1, 1,  ..., 0, 0, 0],\n",
      "        [1, 1, 1,  ..., 0, 0, 0],\n",
      "        [1, 1, 1,  ..., 0, 0, 0]])}\n",
      "{'label': tensor([0, 0, 1, 0, 1, 1, 0, 1, 0, 0, 0, 1, 1, 1, 0, 1]), 'input_ids': tensor([[ 2, 13,  1,  ...,  0,  0,  0],\n",
      "        [ 2, 13,  1,  ...,  0,  0,  0],\n",
      "        [ 2, 13,  1,  ...,  0,  0,  0],\n",
      "        ...,\n",
      "        [ 2, 13,  1,  ...,  0,  0,  0],\n",
      "        [ 2, 13,  1,  ...,  0,  0,  0],\n",
      "        [ 2, 13,  1,  ...,  0,  0,  0]]), 'attention_mask': tensor([[1, 1, 1,  ..., 0, 0, 0],\n",
      "        [1, 1, 1,  ..., 0, 0, 0],\n",
      "        [1, 1, 1,  ..., 0, 0, 0],\n",
      "        ...,\n",
      "        [1, 1, 1,  ..., 0, 0, 0],\n",
      "        [1, 1, 1,  ..., 0, 0, 0],\n",
      "        [1, 1, 1,  ..., 0, 0, 0]])}\n",
      "{'label': tensor([0, 0, 0, 0, 0, 0, 0, 0, 0, 0, 0, 0, 0, 0, 0, 0]), 'input_ids': tensor([[  2, 347,   6,  ...,   0,   0,   0],\n",
      "        [  2,  13,   1,  ...,   0,   0,   0],\n",
      "        [  2,  13,   1,  ...,   0,   0,   0],\n",
      "        ...,\n",
      "        [  2,  13,   1,  ...,   0,   0,   0],\n",
      "        [  2,  13,   1,  ...,   0,   0,   0],\n",
      "        [  2,  13,   1,  ...,   0,   0,   0]]), 'attention_mask': tensor([[1, 1, 1,  ..., 0, 0, 0],\n",
      "        [1, 1, 1,  ..., 0, 0, 0],\n",
      "        [1, 1, 1,  ..., 0, 0, 0],\n",
      "        ...,\n",
      "        [1, 1, 1,  ..., 0, 0, 0],\n",
      "        [1, 1, 1,  ..., 0, 0, 0],\n",
      "        [1, 1, 1,  ..., 0, 0, 0]])}\n",
      "{'label': tensor([1, 0, 1, 0, 0, 1, 0, 0, 0, 0, 1, 0, 1, 0, 1, 0]), 'input_ids': tensor([[ 2, 13,  1,  ...,  0,  0,  0],\n",
      "        [ 2, 13,  1,  ...,  0,  0,  0],\n",
      "        [ 2, 13,  1,  ...,  0,  0,  0],\n",
      "        ...,\n",
      "        [ 2, 13,  1,  ...,  0,  0,  0],\n",
      "        [ 2, 13,  1,  ...,  0,  0,  0],\n",
      "        [ 2, 13,  1,  ...,  0,  0,  0]]), 'attention_mask': tensor([[1, 1, 1,  ..., 0, 0, 0],\n",
      "        [1, 1, 1,  ..., 0, 0, 0],\n",
      "        [1, 1, 1,  ..., 0, 0, 0],\n",
      "        ...,\n",
      "        [1, 1, 1,  ..., 0, 0, 0],\n",
      "        [1, 1, 1,  ..., 0, 0, 0],\n",
      "        [1, 1, 1,  ..., 0, 0, 0]])}\n",
      "{'label': tensor([0, 0, 0, 0, 0, 0, 1, 1, 0, 1, 0, 0, 1, 1, 0, 1]), 'input_ids': tensor([[  2,  13,   1,  ...,   0,   0,   0],\n",
      "        [  2,  13,   1,  ...,   0,   0,   0],\n",
      "        [  2, 547, 118,  ...,   0,   0,   0],\n",
      "        ...,\n",
      "        [  2,  13,   1,  ...,   0,   0,   0],\n",
      "        [  2,  13,   1,  ...,   0,   0,   0],\n",
      "        [  2,  13,   1,  ...,   0,   0,   0]]), 'attention_mask': tensor([[1, 1, 1,  ..., 0, 0, 0],\n",
      "        [1, 1, 1,  ..., 0, 0, 0],\n",
      "        [1, 1, 1,  ..., 0, 0, 0],\n",
      "        ...,\n",
      "        [1, 1, 1,  ..., 0, 0, 0],\n",
      "        [1, 1, 1,  ..., 0, 0, 0],\n",
      "        [1, 1, 1,  ..., 0, 0, 0]])}\n",
      "{'label': tensor([0, 0, 0, 1, 0, 1, 1, 0, 0, 0, 0, 1, 0, 0, 0, 0]), 'input_ids': tensor([[  2,  13,   1,  ...,   0,   0,   0],\n",
      "        [  2,  13,   1,  ...,   0,   0,   0],\n",
      "        [  2,  13,   1,  ...,   0,   0,   0],\n",
      "        ...,\n",
      "        [  2,  13,   1,  ...,   0,   0,   0],\n",
      "        [  2,  13,   1,  ...,   0,   0,   0],\n",
      "        [  2, 137,   9,  ...,   0,   0,   0]]), 'attention_mask': tensor([[1, 1, 1,  ..., 0, 0, 0],\n",
      "        [1, 1, 1,  ..., 0, 0, 0],\n",
      "        [1, 1, 1,  ..., 0, 0, 0],\n",
      "        ...,\n",
      "        [1, 1, 1,  ..., 0, 0, 0],\n",
      "        [1, 1, 1,  ..., 0, 0, 0],\n",
      "        [1, 1, 1,  ..., 0, 0, 0]])}\n",
      "{'label': tensor([0, 0, 0, 0, 0, 0, 0, 0, 0, 1, 0, 1, 1, 0, 1, 0]), 'input_ids': tensor([[ 2, 13,  1,  ...,  0,  0,  0],\n",
      "        [ 2, 13,  1,  ...,  0,  0,  0],\n",
      "        [ 2, 13,  1,  ...,  0,  0,  0],\n",
      "        ...,\n",
      "        [ 2, 13,  9,  ...,  0,  0,  0],\n",
      "        [ 2, 13,  1,  ...,  0,  0,  0],\n",
      "        [ 2, 13,  1,  ...,  0,  0,  0]]), 'attention_mask': tensor([[1, 1, 1,  ..., 0, 0, 0],\n",
      "        [1, 1, 1,  ..., 0, 0, 0],\n",
      "        [1, 1, 1,  ..., 0, 0, 0],\n",
      "        ...,\n",
      "        [1, 1, 1,  ..., 0, 0, 0],\n",
      "        [1, 1, 1,  ..., 0, 0, 0],\n",
      "        [1, 1, 1,  ..., 0, 0, 0]])}\n",
      "{'label': tensor([0, 0, 0, 0, 1, 1, 1, 1, 0, 0, 0, 0, 0, 0, 0, 0]), 'input_ids': tensor([[ 2, 13,  1,  ...,  0,  0,  0],\n",
      "        [ 2, 13,  1,  ...,  0,  0,  0],\n",
      "        [ 2, 13,  1,  ...,  0,  0,  0],\n",
      "        ...,\n",
      "        [ 2, 13,  1,  ...,  0,  0,  0],\n",
      "        [ 2, 13,  1,  ...,  0,  0,  0],\n",
      "        [ 2, 13,  1,  ...,  0,  0,  0]]), 'attention_mask': tensor([[1, 1, 1,  ..., 0, 0, 0],\n",
      "        [1, 1, 1,  ..., 0, 0, 0],\n",
      "        [1, 1, 1,  ..., 0, 0, 0],\n",
      "        ...,\n",
      "        [1, 1, 1,  ..., 0, 0, 0],\n",
      "        [1, 1, 1,  ..., 0, 0, 0],\n",
      "        [1, 1, 1,  ..., 0, 0, 0]])}\n",
      "{'label': tensor([0, 1, 0, 0, 0, 1, 1, 0, 0, 0, 1, 0, 0, 1, 0, 1]), 'input_ids': tensor([[ 2, 13,  1,  ...,  0,  0,  0],\n",
      "        [ 2, 13,  1,  ...,  0,  0,  0],\n",
      "        [ 2, 13,  1,  ...,  0,  0,  0],\n",
      "        ...,\n",
      "        [ 2, 13,  1,  ...,  0,  0,  0],\n",
      "        [ 2, 13,  1,  ...,  0,  0,  0],\n",
      "        [ 2, 13,  1,  ...,  0,  0,  0]]), 'attention_mask': tensor([[1, 1, 1,  ..., 0, 0, 0],\n",
      "        [1, 1, 1,  ..., 0, 0, 0],\n",
      "        [1, 1, 1,  ..., 0, 0, 0],\n",
      "        ...,\n",
      "        [1, 1, 1,  ..., 0, 0, 0],\n",
      "        [1, 1, 1,  ..., 0, 0, 0],\n",
      "        [1, 1, 1,  ..., 0, 0, 0]])}\n",
      "{'label': tensor([1, 0, 1, 1, 0, 0, 0, 0, 1, 0, 0, 0, 0, 0, 1, 1]), 'input_ids': tensor([[ 2, 13,  1,  ...,  0,  0,  0],\n",
      "        [ 2, 13,  1,  ...,  0,  0,  0],\n",
      "        [ 2, 13,  1,  ...,  0,  0,  0],\n",
      "        ...,\n",
      "        [ 2, 13,  1,  ...,  0,  0,  0],\n",
      "        [ 2, 13,  1,  ...,  0,  0,  0],\n",
      "        [ 2, 13,  1,  ...,  0,  0,  0]]), 'attention_mask': tensor([[1, 1, 1,  ..., 0, 0, 0],\n",
      "        [1, 1, 1,  ..., 0, 0, 0],\n",
      "        [1, 1, 1,  ..., 0, 0, 0],\n",
      "        ...,\n",
      "        [1, 1, 1,  ..., 0, 0, 0],\n",
      "        [1, 1, 1,  ..., 0, 0, 0],\n",
      "        [1, 1, 1,  ..., 0, 0, 0]])}\n",
      "{'label': tensor([0, 0, 1, 0, 0, 0, 1, 1, 1, 0, 0, 0, 0, 0, 0, 0]), 'input_ids': tensor([[   2, 5083,   19,  ...,    0,    0,    0],\n",
      "        [   2,   13,    1,  ...,    0,    0,    0],\n",
      "        [   2,  162,  306,  ...,    0,    0,    0],\n",
      "        ...,\n",
      "        [   2,   13,    1,  ...,    0,    0,    0],\n",
      "        [   2,   13,    1,  ...,    0,    0,    0],\n",
      "        [   2,   13,    1,  ...,    0,    0,    0]]), 'attention_mask': tensor([[1, 1, 1,  ..., 0, 0, 0],\n",
      "        [1, 1, 1,  ..., 0, 0, 0],\n",
      "        [1, 1, 1,  ..., 0, 0, 0],\n",
      "        ...,\n",
      "        [1, 1, 1,  ..., 0, 0, 0],\n",
      "        [1, 1, 1,  ..., 0, 0, 0],\n",
      "        [1, 1, 1,  ..., 0, 0, 0]])}\n",
      "{'label': tensor([0, 0, 0, 1, 0, 0, 1, 0, 1, 0, 1, 1, 1, 1, 0, 1]), 'input_ids': tensor([[ 2, 13,  1,  ...,  0,  0,  0],\n",
      "        [ 2, 13,  1,  ...,  0,  0,  0],\n",
      "        [ 2, 13,  1,  ...,  0,  0,  0],\n",
      "        ...,\n",
      "        [ 2, 13,  1,  ...,  0,  0,  0],\n",
      "        [ 2, 13,  1,  ...,  0,  0,  0],\n",
      "        [ 2, 13,  1,  ...,  0,  0,  0]]), 'attention_mask': tensor([[1, 1, 1,  ..., 0, 0, 0],\n",
      "        [1, 1, 1,  ..., 0, 0, 0],\n",
      "        [1, 1, 1,  ..., 0, 0, 0],\n",
      "        ...,\n",
      "        [1, 1, 1,  ..., 0, 0, 0],\n",
      "        [1, 1, 1,  ..., 0, 0, 0],\n",
      "        [1, 1, 1,  ..., 0, 0, 0]])}\n",
      "{'label': tensor([0, 0, 1, 1, 1, 0, 0, 0, 1, 0, 1, 0, 0, 0, 0, 0]), 'input_ids': tensor([[ 2, 13,  1,  ...,  0,  0,  0],\n",
      "        [ 2, 13,  9,  ...,  0,  0,  0],\n",
      "        [ 2, 13,  1,  ...,  0,  0,  0],\n",
      "        ...,\n",
      "        [ 2, 13,  1,  ...,  0,  0,  0],\n",
      "        [ 2, 13,  1,  ...,  0,  0,  0],\n",
      "        [ 2, 13,  1,  ...,  0,  0,  0]]), 'attention_mask': tensor([[1, 1, 1,  ..., 0, 0, 0],\n",
      "        [1, 1, 1,  ..., 0, 0, 0],\n",
      "        [1, 1, 1,  ..., 0, 0, 0],\n",
      "        ...,\n",
      "        [1, 1, 1,  ..., 0, 0, 0],\n",
      "        [1, 1, 1,  ..., 0, 0, 0],\n",
      "        [1, 1, 1,  ..., 0, 0, 0]])}\n",
      "{'label': tensor([1, 0, 0, 0, 1, 1, 1, 0, 0, 1, 1, 0, 0, 0, 0, 0]), 'input_ids': tensor([[    2,    13,     1,  ...,     0,     0,     0],\n",
      "        [    2,    13,     1,  ...,     0,     0,     0],\n",
      "        [    2,  1009, 13480,  ...,     0,     0,     0],\n",
      "        ...,\n",
      "        [    2,    13,     1,  ...,     0,     0,     0],\n",
      "        [    2,    13,     1,  ...,     0,     0,     0],\n",
      "        [    2,    13,     1,  ...,     0,     0,     0]]), 'attention_mask': tensor([[1, 1, 1,  ..., 0, 0, 0],\n",
      "        [1, 1, 1,  ..., 0, 0, 0],\n",
      "        [1, 1, 1,  ..., 0, 0, 0],\n",
      "        ...,\n",
      "        [1, 1, 1,  ..., 0, 0, 0],\n",
      "        [1, 1, 1,  ..., 0, 0, 0],\n",
      "        [1, 1, 1,  ..., 0, 0, 0]])}\n",
      "{'label': tensor([1, 0, 0, 0, 1, 0, 0, 0, 0, 1, 1, 1, 1, 0, 0, 0]), 'input_ids': tensor([[ 2, 13,  1,  ...,  0,  0,  0],\n",
      "        [ 2, 13,  1,  ...,  0,  0,  0],\n",
      "        [ 2, 13,  1,  ...,  0,  0,  0],\n",
      "        ...,\n",
      "        [ 2, 13,  1,  ...,  0,  0,  0],\n",
      "        [ 2, 13,  1,  ...,  0,  0,  0],\n",
      "        [ 2, 13,  1,  ...,  0,  0,  0]]), 'attention_mask': tensor([[1, 1, 1,  ..., 0, 0, 0],\n",
      "        [1, 1, 1,  ..., 0, 0, 0],\n",
      "        [1, 1, 1,  ..., 0, 0, 0],\n",
      "        ...,\n",
      "        [1, 1, 1,  ..., 0, 0, 0],\n",
      "        [1, 1, 1,  ..., 0, 0, 0],\n",
      "        [1, 1, 1,  ..., 0, 0, 0]])}\n",
      "{'label': tensor([0, 1, 1, 0, 0, 0, 1, 0, 1, 1, 0, 0, 0, 0, 0, 1]), 'input_ids': tensor([[ 2, 13,  1,  ...,  0,  0,  0],\n",
      "        [ 2, 13,  1,  ...,  0,  0,  0],\n",
      "        [ 2, 13,  1,  ...,  0,  0,  0],\n",
      "        ...,\n",
      "        [ 2, 13,  1,  ...,  0,  0,  0],\n",
      "        [ 2, 13,  1,  ...,  0,  0,  0],\n",
      "        [ 2, 13,  1,  ...,  0,  0,  0]]), 'attention_mask': tensor([[1, 1, 1,  ..., 0, 0, 0],\n",
      "        [1, 1, 1,  ..., 0, 0, 0],\n",
      "        [1, 1, 1,  ..., 0, 0, 0],\n",
      "        ...,\n",
      "        [1, 1, 1,  ..., 0, 0, 0],\n",
      "        [1, 1, 1,  ..., 0, 0, 0],\n",
      "        [1, 1, 1,  ..., 0, 0, 0]])}\n",
      "{'label': tensor([0, 0, 0, 1, 0, 0, 0, 0, 1, 1, 1, 0, 0, 0, 0, 0]), 'input_ids': tensor([[ 2, 13,  1,  ...,  0,  0,  0],\n",
      "        [ 2, 13,  1,  ...,  0,  0,  0],\n",
      "        [ 2, 13,  1,  ...,  0,  0,  0],\n",
      "        ...,\n",
      "        [ 2, 13,  1,  ...,  0,  0,  0],\n",
      "        [ 2, 13,  1,  ...,  0,  0,  0],\n",
      "        [ 2, 13,  1,  ...,  0,  0,  0]]), 'attention_mask': tensor([[1, 1, 1,  ..., 0, 0, 0],\n",
      "        [1, 1, 1,  ..., 0, 0, 0],\n",
      "        [1, 1, 1,  ..., 0, 0, 0],\n",
      "        ...,\n",
      "        [1, 1, 1,  ..., 0, 0, 0],\n",
      "        [1, 1, 1,  ..., 0, 0, 0],\n",
      "        [1, 1, 1,  ..., 0, 0, 0]])}\n",
      "{'label': tensor([1, 0, 1, 1, 1, 1, 1, 1, 1, 0, 0, 0, 1, 0, 0, 0]), 'input_ids': tensor([[ 2, 13,  1,  ...,  0,  0,  0],\n",
      "        [ 2, 13,  1,  ...,  0,  0,  0],\n",
      "        [ 2, 13,  1,  ...,  0,  0,  0],\n",
      "        ...,\n",
      "        [ 2, 13,  1,  ...,  0,  0,  0],\n",
      "        [ 2, 13,  1,  ...,  0,  0,  0],\n",
      "        [ 2, 13,  1,  ...,  0,  0,  0]]), 'attention_mask': tensor([[1, 1, 1,  ..., 0, 0, 0],\n",
      "        [1, 1, 1,  ..., 0, 0, 0],\n",
      "        [1, 1, 1,  ..., 0, 0, 0],\n",
      "        ...,\n",
      "        [1, 1, 1,  ..., 0, 0, 0],\n",
      "        [1, 1, 1,  ..., 0, 0, 0],\n",
      "        [1, 1, 1,  ..., 0, 0, 0]])}\n",
      "{'label': tensor([0, 1, 0, 0, 0, 0, 0, 0, 0, 1, 0, 0, 1, 1, 0, 0]), 'input_ids': tensor([[ 2, 13,  1,  ...,  0,  0,  0],\n",
      "        [ 2, 13,  1,  ...,  0,  0,  0],\n",
      "        [ 2, 13,  1,  ...,  0,  0,  0],\n",
      "        ...,\n",
      "        [ 2, 13,  1,  ...,  0,  0,  0],\n",
      "        [ 2, 13,  1,  ...,  0,  0,  0],\n",
      "        [ 2, 13,  1,  ...,  0,  0,  0]]), 'attention_mask': tensor([[1, 1, 1,  ..., 0, 0, 0],\n",
      "        [1, 1, 1,  ..., 0, 0, 0],\n",
      "        [1, 1, 1,  ..., 0, 0, 0],\n",
      "        ...,\n",
      "        [1, 1, 1,  ..., 0, 0, 0],\n",
      "        [1, 1, 1,  ..., 0, 0, 0],\n",
      "        [1, 1, 1,  ..., 0, 0, 0]])}\n",
      "{'label': tensor([0, 1, 0, 1, 0, 0, 0, 1, 0, 0, 1, 0, 1, 0, 0, 1]), 'input_ids': tensor([[   2,   13,    1,  ...,    0,    0,    0],\n",
      "        [   2,   13,    1,  ...,    0,    0,    0],\n",
      "        [   2, 5084,  507,  ...,    0,    0,    0],\n",
      "        ...,\n",
      "        [   2,   13,    1,  ...,    0,    0,    0],\n",
      "        [   2,   13,    1,  ...,    0,    0,    0],\n",
      "        [   2,   13,    1,  ...,    0,    0,    0]]), 'attention_mask': tensor([[1, 1, 1,  ..., 0, 0, 0],\n",
      "        [1, 1, 1,  ..., 0, 0, 0],\n",
      "        [1, 1, 1,  ..., 0, 0, 0],\n",
      "        ...,\n",
      "        [1, 1, 1,  ..., 0, 0, 0],\n",
      "        [1, 1, 1,  ..., 0, 0, 0],\n",
      "        [1, 1, 1,  ..., 0, 0, 0]])}\n",
      "{'label': tensor([1, 1, 0, 1, 0, 0, 0, 0, 0, 0, 0, 0, 1, 0, 0, 0]), 'input_ids': tensor([[ 2, 13,  1,  ...,  0,  0,  0],\n",
      "        [ 2, 13,  1,  ...,  0,  0,  0],\n",
      "        [ 2, 13,  1,  ...,  0,  0,  0],\n",
      "        ...,\n",
      "        [ 2, 13,  1,  ...,  0,  0,  0],\n",
      "        [ 2, 13,  1,  ...,  0,  0,  0],\n",
      "        [ 2, 13,  1,  ...,  0,  0,  0]]), 'attention_mask': tensor([[1, 1, 1,  ..., 0, 0, 0],\n",
      "        [1, 1, 1,  ..., 0, 0, 0],\n",
      "        [1, 1, 1,  ..., 0, 0, 0],\n",
      "        ...,\n",
      "        [1, 1, 1,  ..., 0, 0, 0],\n",
      "        [1, 1, 1,  ..., 0, 0, 0],\n",
      "        [1, 1, 1,  ..., 0, 0, 0]])}\n",
      "{'label': tensor([1, 1, 0, 0, 0, 1, 0, 0, 1, 1, 0, 1, 1, 0, 1, 0]), 'input_ids': tensor([[   2,   13,    1,  ...,    0,    0,    0],\n",
      "        [   2,   13,    1,  ...,    0,    0,    0],\n",
      "        [   2,   13,    1,  ...,    0,    0,    0],\n",
      "        ...,\n",
      "        [   2, 6926, 8147,  ...,    0,    0,    0],\n",
      "        [   2,   13,    1,  ...,    0,    0,    0],\n",
      "        [   2,   13,    1,  ...,    0,    0,    0]]), 'attention_mask': tensor([[1, 1, 1,  ..., 0, 0, 0],\n",
      "        [1, 1, 1,  ..., 0, 0, 0],\n",
      "        [1, 1, 1,  ..., 0, 0, 0],\n",
      "        ...,\n",
      "        [1, 1, 1,  ..., 0, 0, 0],\n",
      "        [1, 1, 1,  ..., 0, 0, 0],\n",
      "        [1, 1, 1,  ..., 0, 0, 0]])}\n",
      "{'label': tensor([0, 0, 1, 1, 1, 1, 0, 1, 0, 0, 1, 1, 0, 1, 0, 0]), 'input_ids': tensor([[ 2, 13,  1,  ...,  0,  0,  0],\n",
      "        [ 2, 13,  1,  ...,  0,  0,  0],\n",
      "        [ 2, 13,  1,  ...,  0,  0,  0],\n",
      "        ...,\n",
      "        [ 2, 13,  1,  ...,  0,  0,  0],\n",
      "        [ 2, 13,  1,  ...,  0,  0,  0],\n",
      "        [ 2, 13,  1,  ...,  0,  0,  0]]), 'attention_mask': tensor([[1, 1, 1,  ..., 0, 0, 0],\n",
      "        [1, 1, 1,  ..., 0, 0, 0],\n",
      "        [1, 1, 1,  ..., 0, 0, 0],\n",
      "        ...,\n",
      "        [1, 1, 1,  ..., 0, 0, 0],\n",
      "        [1, 1, 1,  ..., 0, 0, 0],\n",
      "        [1, 1, 1,  ..., 0, 0, 0]])}\n",
      "{'label': tensor([1, 0, 0, 1, 0, 1, 0, 0, 0, 1, 0, 0, 1, 1, 0, 0]), 'input_ids': tensor([[ 2, 13,  1,  ...,  0,  0,  0],\n",
      "        [ 2, 13,  1,  ...,  0,  0,  0],\n",
      "        [ 2, 13,  1,  ...,  0,  0,  0],\n",
      "        ...,\n",
      "        [ 2, 13,  1,  ...,  0,  0,  0],\n",
      "        [ 2, 13,  1,  ...,  0,  0,  0],\n",
      "        [ 2, 13,  1,  ...,  0,  0,  0]]), 'attention_mask': tensor([[1, 1, 1,  ..., 0, 0, 0],\n",
      "        [1, 1, 1,  ..., 0, 0, 0],\n",
      "        [1, 1, 1,  ..., 0, 0, 0],\n",
      "        ...,\n",
      "        [1, 1, 1,  ..., 0, 0, 0],\n",
      "        [1, 1, 1,  ..., 0, 0, 0],\n",
      "        [1, 1, 1,  ..., 0, 0, 0]])}\n",
      "{'label': tensor([0, 0, 1, 0, 1, 0, 0, 0, 0, 1, 0, 1, 1, 0, 0, 1]), 'input_ids': tensor([[    2,    13,     1,  ...,     0,     0,     0],\n",
      "        [    2,    13,     1,  ...,     0,     0,     0],\n",
      "        [    2,    13,     1,  ...,     0,     0,     0],\n",
      "        ...,\n",
      "        [    2,  6926,   262,  ...,     0,     0,     0],\n",
      "        [    2,    13,     1,  ...,     0,     0,     0],\n",
      "        [    2,    13,     1,  ...,     1, 16704,     3]]), 'attention_mask': tensor([[1, 1, 1,  ..., 0, 0, 0],\n",
      "        [1, 1, 1,  ..., 0, 0, 0],\n",
      "        [1, 1, 1,  ..., 0, 0, 0],\n",
      "        ...,\n",
      "        [1, 1, 1,  ..., 0, 0, 0],\n",
      "        [1, 1, 1,  ..., 0, 0, 0],\n",
      "        [1, 1, 1,  ..., 1, 1, 1]])}\n",
      "{'label': tensor([1, 0, 1, 0, 0, 1, 0, 1, 0, 1, 0, 0, 0, 0, 0, 0]), 'input_ids': tensor([[   2,   13,    1,  ...,    0,    0,    0],\n",
      "        [   2,   13,    1,  ...,    0,    0,    0],\n",
      "        [   2,   13,    1,  ...,    0,    0,    0],\n",
      "        ...,\n",
      "        [   2,   13,    1,  ...,    0,    0,    0],\n",
      "        [   2,   13,    1,  ...,    0,    0,    0],\n",
      "        [   2, 6926, 7318,  ...,    0,    0,    0]]), 'attention_mask': tensor([[1, 1, 1,  ..., 0, 0, 0],\n",
      "        [1, 1, 1,  ..., 0, 0, 0],\n",
      "        [1, 1, 1,  ..., 0, 0, 0],\n",
      "        ...,\n",
      "        [1, 1, 1,  ..., 0, 0, 0],\n",
      "        [1, 1, 1,  ..., 0, 0, 0],\n",
      "        [1, 1, 1,  ..., 0, 0, 0]])}\n",
      "{'label': tensor([0, 1, 0, 0, 1, 0, 0, 0, 0, 1, 1, 0, 1, 0, 0, 1]), 'input_ids': tensor([[    2,    13,     1,  ...,     1, 16704,     3],\n",
      "        [    2,    13,     1,  ...,     0,     0,     0],\n",
      "        [    2,    13,     1,  ...,     0,     0,     0],\n",
      "        ...,\n",
      "        [    2,    13,     1,  ...,     0,     0,     0],\n",
      "        [    2,    13,     1,  ...,     0,     0,     0],\n",
      "        [    2,    13,     1,  ...,     0,     0,     0]]), 'attention_mask': tensor([[1, 1, 1,  ..., 1, 1, 1],\n",
      "        [1, 1, 1,  ..., 0, 0, 0],\n",
      "        [1, 1, 1,  ..., 0, 0, 0],\n",
      "        ...,\n",
      "        [1, 1, 1,  ..., 0, 0, 0],\n",
      "        [1, 1, 1,  ..., 0, 0, 0],\n",
      "        [1, 1, 1,  ..., 0, 0, 0]])}\n",
      "{'label': tensor([1, 1, 1, 0, 0, 0, 1, 1, 0, 0, 1, 0, 1, 0, 0, 1]), 'input_ids': tensor([[ 2, 13,  1,  ...,  0,  0,  0],\n",
      "        [ 2, 13,  1,  ...,  0,  0,  0],\n",
      "        [ 2, 13,  1,  ...,  0,  0,  0],\n",
      "        ...,\n",
      "        [ 2, 13,  1,  ...,  0,  0,  0],\n",
      "        [ 2, 13,  1,  ...,  0,  0,  0],\n",
      "        [ 2, 13,  1,  ...,  0,  0,  0]]), 'attention_mask': tensor([[1, 1, 1,  ..., 0, 0, 0],\n",
      "        [1, 1, 1,  ..., 0, 0, 0],\n",
      "        [1, 1, 1,  ..., 0, 0, 0],\n",
      "        ...,\n",
      "        [1, 1, 1,  ..., 0, 0, 0],\n",
      "        [1, 1, 1,  ..., 0, 0, 0],\n",
      "        [1, 1, 1,  ..., 0, 0, 0]])}\n",
      "{'label': tensor([0, 0, 0, 0, 0, 0, 0, 0, 0, 1, 1, 0, 0, 0, 1, 1]), 'input_ids': tensor([[ 2, 13,  1,  ...,  0,  0,  0],\n",
      "        [ 2, 13,  1,  ...,  0,  0,  0],\n",
      "        [ 2, 13,  1,  ...,  0,  0,  0],\n",
      "        ...,\n",
      "        [ 2, 13,  1,  ...,  0,  0,  0],\n",
      "        [ 2, 13,  1,  ...,  0,  0,  0],\n",
      "        [ 2, 13,  1,  ...,  0,  0,  0]]), 'attention_mask': tensor([[1, 1, 1,  ..., 0, 0, 0],\n",
      "        [1, 1, 1,  ..., 0, 0, 0],\n",
      "        [1, 1, 1,  ..., 0, 0, 0],\n",
      "        ...,\n",
      "        [1, 1, 1,  ..., 0, 0, 0],\n",
      "        [1, 1, 1,  ..., 0, 0, 0],\n",
      "        [1, 1, 1,  ..., 0, 0, 0]])}\n",
      "{'label': tensor([1, 1, 0, 0, 1, 1, 0, 0, 1, 0, 0, 0, 1, 1, 0, 0]), 'input_ids': tensor([[    2,    13, 12626,  ...,     0,     0,     0],\n",
      "        [    2,    13,     1,  ...,     0,     0,     0],\n",
      "        [    2,    13,     1,  ...,     0,     0,     0],\n",
      "        ...,\n",
      "        [    2,    13,     1,  ...,     0,     0,     0],\n",
      "        [    2,    13,     1,  ...,     0,     0,     0],\n",
      "        [    2,    13,     1,  ...,     0,     0,     0]]), 'attention_mask': tensor([[1, 1, 1,  ..., 0, 0, 0],\n",
      "        [1, 1, 1,  ..., 0, 0, 0],\n",
      "        [1, 1, 1,  ..., 0, 0, 0],\n",
      "        ...,\n",
      "        [1, 1, 1,  ..., 0, 0, 0],\n",
      "        [1, 1, 1,  ..., 0, 0, 0],\n",
      "        [1, 1, 1,  ..., 0, 0, 0]])}\n",
      "{'label': tensor([0, 0, 1, 1, 1, 1, 1, 0, 0, 1, 1, 0, 0, 1, 0, 0]), 'input_ids': tensor([[ 2, 13,  1,  ...,  0,  0,  0],\n",
      "        [ 2, 13,  1,  ...,  0,  0,  0],\n",
      "        [ 2, 13,  1,  ...,  0,  0,  0],\n",
      "        ...,\n",
      "        [ 2, 13,  1,  ...,  0,  0,  0],\n",
      "        [ 2, 13,  1,  ...,  0,  0,  0],\n",
      "        [ 2, 13,  1,  ...,  0,  0,  0]]), 'attention_mask': tensor([[1, 1, 1,  ..., 0, 0, 0],\n",
      "        [1, 1, 1,  ..., 0, 0, 0],\n",
      "        [1, 1, 1,  ..., 0, 0, 0],\n",
      "        ...,\n",
      "        [1, 1, 1,  ..., 0, 0, 0],\n",
      "        [1, 1, 1,  ..., 0, 0, 0],\n",
      "        [1, 1, 1,  ..., 0, 0, 0]])}\n",
      "{'label': tensor([1, 1, 0, 0, 0, 1, 0, 0, 0, 0, 1, 0, 0, 0, 0, 0]), 'input_ids': tensor([[ 2, 13,  1,  ...,  0,  0,  0],\n",
      "        [ 2, 13,  1,  ...,  0,  0,  0],\n",
      "        [ 2, 13,  1,  ...,  0,  0,  0],\n",
      "        ...,\n",
      "        [ 2, 13,  1,  ...,  0,  0,  0],\n",
      "        [ 2, 13,  1,  ...,  0,  0,  0],\n",
      "        [ 2, 13,  1,  ...,  0,  0,  0]]), 'attention_mask': tensor([[1, 1, 1,  ..., 0, 0, 0],\n",
      "        [1, 1, 1,  ..., 0, 0, 0],\n",
      "        [1, 1, 1,  ..., 0, 0, 0],\n",
      "        ...,\n",
      "        [1, 1, 1,  ..., 0, 0, 0],\n",
      "        [1, 1, 1,  ..., 0, 0, 0],\n",
      "        [1, 1, 1,  ..., 0, 0, 0]])}\n",
      "{'label': tensor([0, 1, 0, 1, 1, 0, 1, 1, 1, 1, 1, 1, 0, 0, 1, 0]), 'input_ids': tensor([[   2,   13,    1,  ...,    0,    0,    0],\n",
      "        [   2,   13,    1,  ...,    0,    0,    0],\n",
      "        [   2,   13,    1,  ...,    0,    0,    0],\n",
      "        ...,\n",
      "        [   2,   13,    1,  ...,    0,    0,    0],\n",
      "        [   2,   13,    1,  ...,    0,    0,    0],\n",
      "        [   2, 1082,    8,  ...,    0,    0,    0]]), 'attention_mask': tensor([[1, 1, 1,  ..., 0, 0, 0],\n",
      "        [1, 1, 1,  ..., 0, 0, 0],\n",
      "        [1, 1, 1,  ..., 0, 0, 0],\n",
      "        ...,\n",
      "        [1, 1, 1,  ..., 0, 0, 0],\n",
      "        [1, 1, 1,  ..., 0, 0, 0],\n",
      "        [1, 1, 1,  ..., 0, 0, 0]])}\n",
      "{'label': tensor([0, 1, 0, 1, 0, 0, 0, 1, 0, 0, 0, 1, 1, 0, 0, 1]), 'input_ids': tensor([[   2,   13,    1,  ...,    0,    0,    0],\n",
      "        [   2,   13,    1,  ...,    0,    0,    0],\n",
      "        [   2,   13,    1,  ...,    0,    0,    0],\n",
      "        ...,\n",
      "        [   2,   13,    1,  ...,    0,    0,    0],\n",
      "        [   2,   13,    1,  ...,    0,    0,    0],\n",
      "        [   2, 6926, 3700,  ...,    0,    0,    0]]), 'attention_mask': tensor([[1, 1, 1,  ..., 0, 0, 0],\n",
      "        [1, 1, 1,  ..., 0, 0, 0],\n",
      "        [1, 1, 1,  ..., 0, 0, 0],\n",
      "        ...,\n",
      "        [1, 1, 1,  ..., 0, 0, 0],\n",
      "        [1, 1, 1,  ..., 0, 0, 0],\n",
      "        [1, 1, 1,  ..., 0, 0, 0]])}\n",
      "{'label': tensor([0, 0, 0, 0, 0, 0, 0, 0, 0, 0, 0, 0, 0, 1, 1, 0]), 'input_ids': tensor([[ 2, 13,  1,  ...,  0,  0,  0],\n",
      "        [ 2, 13,  1,  ...,  0,  0,  0],\n",
      "        [ 2, 13,  1,  ...,  0,  0,  0],\n",
      "        ...,\n",
      "        [ 2, 13,  1,  ...,  0,  0,  0],\n",
      "        [ 2, 13,  1,  ...,  0,  0,  0],\n",
      "        [ 2, 13,  1,  ...,  0,  0,  0]]), 'attention_mask': tensor([[1, 1, 1,  ..., 0, 0, 0],\n",
      "        [1, 1, 1,  ..., 0, 0, 0],\n",
      "        [1, 1, 1,  ..., 0, 0, 0],\n",
      "        ...,\n",
      "        [1, 1, 1,  ..., 0, 0, 0],\n",
      "        [1, 1, 1,  ..., 0, 0, 0],\n",
      "        [1, 1, 1,  ..., 0, 0, 0]])}\n",
      "{'label': tensor([1, 0, 0, 1, 0, 1, 0, 0, 0, 0, 1, 1, 0, 0, 0, 1]), 'input_ids': tensor([[ 2, 13,  1,  ...,  0,  0,  0],\n",
      "        [ 2, 13,  1,  ...,  0,  0,  0],\n",
      "        [ 2, 13,  1,  ...,  0,  0,  0],\n",
      "        ...,\n",
      "        [ 2, 13,  1,  ...,  0,  0,  0],\n",
      "        [ 2, 13,  1,  ...,  0,  0,  0],\n",
      "        [ 2, 13,  1,  ...,  0,  0,  0]]), 'attention_mask': tensor([[1, 1, 1,  ..., 0, 0, 0],\n",
      "        [1, 1, 1,  ..., 0, 0, 0],\n",
      "        [1, 1, 1,  ..., 0, 0, 0],\n",
      "        ...,\n",
      "        [1, 1, 1,  ..., 0, 0, 0],\n",
      "        [1, 1, 1,  ..., 0, 0, 0],\n",
      "        [1, 1, 1,  ..., 0, 0, 0]])}\n",
      "{'label': tensor([0, 0, 1, 0, 1, 0, 0, 0, 1, 1, 0, 0, 0, 0, 0, 0]), 'input_ids': tensor([[    2,    13,     1,  ...,     0,     0,     0],\n",
      "        [    2,    13,     1,  ...,     0,     0,     0],\n",
      "        [    2,    13,     1,  ...,     0,     0,     0],\n",
      "        ...,\n",
      "        [    2,    13,     1,  ...,     0,     0,     0],\n",
      "        [    2,    13,     1,  ...,     0,     0,     0],\n",
      "        [    2,    13, 19015,  ...,     0,     0,     0]]), 'attention_mask': tensor([[1, 1, 1,  ..., 0, 0, 0],\n",
      "        [1, 1, 1,  ..., 0, 0, 0],\n",
      "        [1, 1, 1,  ..., 0, 0, 0],\n",
      "        ...,\n",
      "        [1, 1, 1,  ..., 0, 0, 0],\n",
      "        [1, 1, 1,  ..., 0, 0, 0],\n",
      "        [1, 1, 1,  ..., 0, 0, 0]])}\n",
      "{'label': tensor([0, 0, 1, 0, 0, 0, 0, 1, 1, 1, 0, 0, 0, 0, 0, 1]), 'input_ids': tensor([[    2,    13,     1,  ...,     1, 16704,     3],\n",
      "        [    2,    13,     1,  ...,     0,     0,     0],\n",
      "        [    2,    13,     1,  ...,     0,     0,     0],\n",
      "        ...,\n",
      "        [    2,    13,     1,  ...,     0,     0,     0],\n",
      "        [    2,    13,     1,  ...,     0,     0,     0],\n",
      "        [    2,    13,     1,  ...,     0,     0,     0]]), 'attention_mask': tensor([[1, 1, 1,  ..., 1, 1, 1],\n",
      "        [1, 1, 1,  ..., 0, 0, 0],\n",
      "        [1, 1, 1,  ..., 0, 0, 0],\n",
      "        ...,\n",
      "        [1, 1, 1,  ..., 0, 0, 0],\n",
      "        [1, 1, 1,  ..., 0, 0, 0],\n",
      "        [1, 1, 1,  ..., 0, 0, 0]])}\n",
      "{'label': tensor([1, 0, 0, 0, 0, 0, 1, 1, 0, 0, 0, 0, 1, 0, 0, 1]), 'input_ids': tensor([[ 2, 13,  1,  ...,  0,  0,  0],\n",
      "        [ 2, 13,  1,  ...,  0,  0,  0],\n",
      "        [ 2, 13,  1,  ...,  0,  0,  0],\n",
      "        ...,\n",
      "        [ 2, 13,  1,  ...,  0,  0,  0],\n",
      "        [ 2, 13,  1,  ...,  0,  0,  0],\n",
      "        [ 2, 13,  1,  ...,  0,  0,  0]]), 'attention_mask': tensor([[1, 1, 1,  ..., 0, 0, 0],\n",
      "        [1, 1, 1,  ..., 0, 0, 0],\n",
      "        [1, 1, 1,  ..., 0, 0, 0],\n",
      "        ...,\n",
      "        [1, 1, 1,  ..., 0, 0, 0],\n",
      "        [1, 1, 1,  ..., 0, 0, 0],\n",
      "        [1, 1, 1,  ..., 0, 0, 0]])}\n",
      "{'label': tensor([0, 0, 1, 1, 0, 1, 0, 1, 1, 0, 0, 1, 0, 0, 0, 0]), 'input_ids': tensor([[ 2, 13,  1,  ...,  0,  0,  0],\n",
      "        [ 2, 13,  1,  ...,  0,  0,  0],\n",
      "        [ 2, 13,  1,  ...,  0,  0,  0],\n",
      "        ...,\n",
      "        [ 2, 13,  1,  ...,  0,  0,  0],\n",
      "        [ 2, 13,  1,  ...,  0,  0,  0],\n",
      "        [ 2, 13,  1,  ...,  0,  0,  0]]), 'attention_mask': tensor([[1, 1, 1,  ..., 0, 0, 0],\n",
      "        [1, 1, 1,  ..., 0, 0, 0],\n",
      "        [1, 1, 1,  ..., 0, 0, 0],\n",
      "        ...,\n",
      "        [1, 1, 1,  ..., 0, 0, 0],\n",
      "        [1, 1, 1,  ..., 0, 0, 0],\n",
      "        [1, 1, 1,  ..., 0, 0, 0]])}\n",
      "{'label': tensor([1, 1, 1, 0, 0, 0, 0, 0, 0, 1, 0, 0, 0, 0, 0, 0]), 'input_ids': tensor([[   2,   13,    1,  ...,    0,    0,    0],\n",
      "        [   2,   13,    1,  ...,    0,    0,    0],\n",
      "        [   2,  619, 6668,  ...,    0,    0,    0],\n",
      "        ...,\n",
      "        [   2,   13,    1,  ...,    0,    0,    0],\n",
      "        [   2,   13,    1,  ...,    0,    0,    0],\n",
      "        [   2,   13,    1,  ...,    0,    0,    0]]), 'attention_mask': tensor([[1, 1, 1,  ..., 0, 0, 0],\n",
      "        [1, 1, 1,  ..., 0, 0, 0],\n",
      "        [1, 1, 1,  ..., 0, 0, 0],\n",
      "        ...,\n",
      "        [1, 1, 1,  ..., 0, 0, 0],\n",
      "        [1, 1, 1,  ..., 0, 0, 0],\n",
      "        [1, 1, 1,  ..., 0, 0, 0]])}\n",
      "{'label': tensor([0, 0, 0, 0, 1, 0, 0, 1, 0, 1, 0, 0, 1, 0, 0, 1]), 'input_ids': tensor([[ 2, 13,  1,  ...,  0,  0,  0],\n",
      "        [ 2, 13,  1,  ...,  0,  0,  0],\n",
      "        [ 2, 13,  1,  ...,  0,  0,  0],\n",
      "        ...,\n",
      "        [ 2, 13,  1,  ...,  0,  0,  0],\n",
      "        [ 2, 13,  1,  ...,  0,  0,  0],\n",
      "        [ 2, 13,  1,  ...,  0,  0,  0]]), 'attention_mask': tensor([[1, 1, 1,  ..., 0, 0, 0],\n",
      "        [1, 1, 1,  ..., 0, 0, 0],\n",
      "        [1, 1, 1,  ..., 0, 0, 0],\n",
      "        ...,\n",
      "        [1, 1, 1,  ..., 0, 0, 0],\n",
      "        [1, 1, 1,  ..., 0, 0, 0],\n",
      "        [1, 1, 1,  ..., 0, 0, 0]])}\n",
      "{'label': tensor([0, 0, 0, 1, 0, 0, 0, 0, 0, 0, 0, 0, 1, 0, 0, 1]), 'input_ids': tensor([[    2,    13,     1,  ...,     0,     0,     0],\n",
      "        [    2,    13,     1,  ...,     0,     0,     0],\n",
      "        [    2,    13,     1,  ...,     0,     0,     0],\n",
      "        ...,\n",
      "        [    2,    13,     1,  ...,     0,     0,     0],\n",
      "        [    2, 27311, 15293,  ...,     0,     0,     0],\n",
      "        [    2,    13,     1,  ...,     0,     0,     0]]), 'attention_mask': tensor([[1, 1, 1,  ..., 0, 0, 0],\n",
      "        [1, 1, 1,  ..., 0, 0, 0],\n",
      "        [1, 1, 1,  ..., 0, 0, 0],\n",
      "        ...,\n",
      "        [1, 1, 1,  ..., 0, 0, 0],\n",
      "        [1, 1, 1,  ..., 0, 0, 0],\n",
      "        [1, 1, 1,  ..., 0, 0, 0]])}\n",
      "{'label': tensor([0, 0, 0, 0, 1, 1, 0, 1, 0, 0, 0, 0, 0, 1, 0, 0]), 'input_ids': tensor([[ 2, 13,  1,  ...,  0,  0,  0],\n",
      "        [ 2, 13,  1,  ...,  0,  0,  0],\n",
      "        [ 2, 13,  1,  ...,  0,  0,  0],\n",
      "        ...,\n",
      "        [ 2, 13,  1,  ...,  0,  0,  0],\n",
      "        [ 2, 13,  1,  ...,  0,  0,  0],\n",
      "        [ 2, 13,  1,  ...,  0,  0,  0]]), 'attention_mask': tensor([[1, 1, 1,  ..., 0, 0, 0],\n",
      "        [1, 1, 1,  ..., 0, 0, 0],\n",
      "        [1, 1, 1,  ..., 0, 0, 0],\n",
      "        ...,\n",
      "        [1, 1, 1,  ..., 0, 0, 0],\n",
      "        [1, 1, 1,  ..., 0, 0, 0],\n",
      "        [1, 1, 1,  ..., 0, 0, 0]])}\n",
      "{'label': tensor([1, 0, 1, 1, 1, 0, 1, 1, 0, 1, 1, 0, 1, 0, 1, 1]), 'input_ids': tensor([[ 2, 13,  1,  ...,  0,  0,  0],\n",
      "        [ 2, 13,  1,  ...,  0,  0,  0],\n",
      "        [ 2, 13,  1,  ...,  0,  0,  0],\n",
      "        ...,\n",
      "        [ 2, 13,  1,  ...,  0,  0,  0],\n",
      "        [ 2, 13,  1,  ...,  0,  0,  0],\n",
      "        [ 2, 13,  1,  ...,  0,  0,  0]]), 'attention_mask': tensor([[1, 1, 1,  ..., 0, 0, 0],\n",
      "        [1, 1, 1,  ..., 0, 0, 0],\n",
      "        [1, 1, 1,  ..., 0, 0, 0],\n",
      "        ...,\n",
      "        [1, 1, 1,  ..., 0, 0, 0],\n",
      "        [1, 1, 1,  ..., 0, 0, 0],\n",
      "        [1, 1, 1,  ..., 0, 0, 0]])}\n",
      "{'label': tensor([0, 0, 0, 0, 0, 0, 1, 0, 0, 1, 0, 0, 0, 0, 0, 1]), 'input_ids': tensor([[  2,  13,   1,  ...,   0,   0,   0],\n",
      "        [  2,  13,   1,  ...,   0,   0,   0],\n",
      "        [  2,  76, 131,  ...,   0,   0,   0],\n",
      "        ...,\n",
      "        [  2,  13,   1,  ...,   0,   0,   0],\n",
      "        [  2,  13,   1,  ...,   0,   0,   0],\n",
      "        [  2,  13,   1,  ...,   0,   0,   0]]), 'attention_mask': tensor([[1, 1, 1,  ..., 0, 0, 0],\n",
      "        [1, 1, 1,  ..., 0, 0, 0],\n",
      "        [1, 1, 1,  ..., 0, 0, 0],\n",
      "        ...,\n",
      "        [1, 1, 1,  ..., 0, 0, 0],\n",
      "        [1, 1, 1,  ..., 0, 0, 0],\n",
      "        [1, 1, 1,  ..., 0, 0, 0]])}\n",
      "{'label': tensor([0, 0, 0, 0, 0, 1, 0, 0, 0, 1, 0, 0, 1, 1, 0, 0]), 'input_ids': tensor([[ 2, 13,  1,  ...,  0,  0,  0],\n",
      "        [ 2, 13,  1,  ...,  0,  0,  0],\n",
      "        [ 2, 13,  1,  ...,  0,  0,  0],\n",
      "        ...,\n",
      "        [ 2, 13,  1,  ...,  0,  0,  0],\n",
      "        [ 2, 13,  1,  ...,  0,  0,  0],\n",
      "        [ 2, 13,  1,  ...,  0,  0,  0]]), 'attention_mask': tensor([[1, 1, 1,  ..., 0, 0, 0],\n",
      "        [1, 1, 1,  ..., 0, 0, 0],\n",
      "        [1, 1, 1,  ..., 0, 0, 0],\n",
      "        ...,\n",
      "        [1, 1, 1,  ..., 0, 0, 0],\n",
      "        [1, 1, 1,  ..., 0, 0, 0],\n",
      "        [1, 1, 1,  ..., 0, 0, 0]])}\n",
      "{'label': tensor([0, 1, 0, 1, 0, 0, 0, 0, 0, 0, 0, 0, 0, 1, 0, 0]), 'input_ids': tensor([[    2,    13,     1,  ...,     0,     0,     0],\n",
      "        [    2,    13,     1,  ...,     0,     0,     0],\n",
      "        [    2,    13,     1,  ...,     0,     0,     0],\n",
      "        ...,\n",
      "        [    2,    13,     1,  ...,     0,     0,     0],\n",
      "        [    2,    13,     1,  ...,     0,     0,     0],\n",
      "        [    2,  6926, 16638,  ...,     0,     0,     0]]), 'attention_mask': tensor([[1, 1, 1,  ..., 0, 0, 0],\n",
      "        [1, 1, 1,  ..., 0, 0, 0],\n",
      "        [1, 1, 1,  ..., 0, 0, 0],\n",
      "        ...,\n",
      "        [1, 1, 1,  ..., 0, 0, 0],\n",
      "        [1, 1, 1,  ..., 0, 0, 0],\n",
      "        [1, 1, 1,  ..., 0, 0, 0]])}\n",
      "{'label': tensor([0, 0, 1, 1, 1, 0, 1, 1, 0, 0, 1, 1, 0, 0, 0, 0]), 'input_ids': tensor([[ 2, 13,  1,  ...,  0,  0,  0],\n",
      "        [ 2, 13,  1,  ...,  0,  0,  0],\n",
      "        [ 2, 13,  1,  ...,  0,  0,  0],\n",
      "        ...,\n",
      "        [ 2, 13,  1,  ...,  0,  0,  0],\n",
      "        [ 2, 13,  1,  ...,  0,  0,  0],\n",
      "        [ 2, 13,  1,  ...,  0,  0,  0]]), 'attention_mask': tensor([[1, 1, 1,  ..., 0, 0, 0],\n",
      "        [1, 1, 1,  ..., 0, 0, 0],\n",
      "        [1, 1, 1,  ..., 0, 0, 0],\n",
      "        ...,\n",
      "        [1, 1, 1,  ..., 0, 0, 0],\n",
      "        [1, 1, 1,  ..., 0, 0, 0],\n",
      "        [1, 1, 1,  ..., 0, 0, 0]])}\n",
      "{'label': tensor([0, 0, 0, 0, 0, 1, 0, 0, 1, 0, 0, 1, 0, 0, 0, 0]), 'input_ids': tensor([[   2,  331, 2932,  ...,    0,    0,    0],\n",
      "        [   2,  749,   20,  ...,    0,    0,    0],\n",
      "        [   2,   13,    1,  ...,    0,    0,    0],\n",
      "        ...,\n",
      "        [   2,   13,    1,  ...,    0,    0,    0],\n",
      "        [   2,   13,    1,  ...,    0,    0,    0],\n",
      "        [   2,   13,    1,  ...,    0,    0,    0]]), 'attention_mask': tensor([[1, 1, 1,  ..., 0, 0, 0],\n",
      "        [1, 1, 1,  ..., 0, 0, 0],\n",
      "        [1, 1, 1,  ..., 0, 0, 0],\n",
      "        ...,\n",
      "        [1, 1, 1,  ..., 0, 0, 0],\n",
      "        [1, 1, 1,  ..., 0, 0, 0],\n",
      "        [1, 1, 1,  ..., 0, 0, 0]])}\n",
      "{'label': tensor([1, 1, 0, 1, 0, 1, 1, 0, 0, 1, 0, 0, 1, 0, 1, 0]), 'input_ids': tensor([[ 2, 13,  1,  ...,  0,  0,  0],\n",
      "        [ 2, 13,  1,  ...,  0,  0,  0],\n",
      "        [ 2, 13,  1,  ...,  0,  0,  0],\n",
      "        ...,\n",
      "        [ 2, 13,  1,  ...,  0,  0,  0],\n",
      "        [ 2, 13,  1,  ...,  0,  0,  0],\n",
      "        [ 2, 13,  1,  ...,  0,  0,  0]]), 'attention_mask': tensor([[1, 1, 1,  ..., 0, 0, 0],\n",
      "        [1, 1, 1,  ..., 0, 0, 0],\n",
      "        [1, 1, 1,  ..., 0, 0, 0],\n",
      "        ...,\n",
      "        [1, 1, 1,  ..., 0, 0, 0],\n",
      "        [1, 1, 1,  ..., 0, 0, 0],\n",
      "        [1, 1, 1,  ..., 0, 0, 0]])}\n",
      "{'label': tensor([0, 0, 0, 0, 0, 1, 0, 0, 0, 1, 0, 0, 1, 1, 1, 0]), 'input_ids': tensor([[ 2, 13,  1,  ...,  0,  0,  0],\n",
      "        [ 2, 13,  1,  ...,  0,  0,  0],\n",
      "        [ 2, 13,  1,  ...,  0,  0,  0],\n",
      "        ...,\n",
      "        [ 2, 13,  1,  ...,  0,  0,  0],\n",
      "        [ 2, 13,  1,  ...,  0,  0,  0],\n",
      "        [ 2, 13,  1,  ...,  0,  0,  0]]), 'attention_mask': tensor([[1, 1, 1,  ..., 0, 0, 0],\n",
      "        [1, 1, 1,  ..., 0, 0, 0],\n",
      "        [1, 1, 1,  ..., 0, 0, 0],\n",
      "        ...,\n",
      "        [1, 1, 1,  ..., 0, 0, 0],\n",
      "        [1, 1, 1,  ..., 0, 0, 0],\n",
      "        [1, 1, 1,  ..., 0, 0, 0]])}\n",
      "{'label': tensor([1, 1, 0, 0, 0, 0, 0, 0, 1, 0, 0, 1, 0, 0, 0, 0]), 'input_ids': tensor([[   2,   13,    1,  ...,    0,    0,    0],\n",
      "        [   2,   13,    1,  ...,    0,    0,    0],\n",
      "        [   2,   13,    1,  ...,    0,    0,    0],\n",
      "        ...,\n",
      "        [   2,   13,    1,  ...,    0,    0,    0],\n",
      "        [   2,   13,    1,  ...,    0,    0,    0],\n",
      "        [   2,  357, 4832,  ...,    0,    0,    0]]), 'attention_mask': tensor([[1, 1, 1,  ..., 0, 0, 0],\n",
      "        [1, 1, 1,  ..., 0, 0, 0],\n",
      "        [1, 1, 1,  ..., 0, 0, 0],\n",
      "        ...,\n",
      "        [1, 1, 1,  ..., 0, 0, 0],\n",
      "        [1, 1, 1,  ..., 0, 0, 0],\n",
      "        [1, 1, 1,  ..., 0, 0, 0]])}\n",
      "{'label': tensor([0, 0, 0, 0, 0, 0, 0, 0, 0, 0, 1, 0, 0, 0, 0, 0]), 'input_ids': tensor([[  2, 347, 999,  ...,   0,   0,   0],\n",
      "        [  2,  13,   1,  ...,   0,   0,   0],\n",
      "        [  2,  13,   1,  ...,   0,   0,   0],\n",
      "        ...,\n",
      "        [  2,  13,   1,  ...,   0,   0,   0],\n",
      "        [  2,  13,   1,  ...,   0,   0,   0],\n",
      "        [  2,  13,   1,  ...,   0,   0,   0]]), 'attention_mask': tensor([[1, 1, 1,  ..., 0, 0, 0],\n",
      "        [1, 1, 1,  ..., 0, 0, 0],\n",
      "        [1, 1, 1,  ..., 0, 0, 0],\n",
      "        ...,\n",
      "        [1, 1, 1,  ..., 0, 0, 0],\n",
      "        [1, 1, 1,  ..., 0, 0, 0],\n",
      "        [1, 1, 1,  ..., 0, 0, 0]])}\n",
      "{'label': tensor([0, 0, 0, 0, 0, 0, 1, 0, 0, 1, 1, 0, 0, 0, 1, 1]), 'input_ids': tensor([[   2,   13,    1,  ...,    0,    0,    0],\n",
      "        [   2,  491, 1302,  ...,    0,    0,    0],\n",
      "        [   2,   13,    1,  ...,    0,    0,    0],\n",
      "        ...,\n",
      "        [   2,   13,    1,  ...,    0,    0,    0],\n",
      "        [   2,   13,    1,  ...,    0,    0,    0],\n",
      "        [   2,   13,    1,  ...,    0,    0,    0]]), 'attention_mask': tensor([[1, 1, 1,  ..., 0, 0, 0],\n",
      "        [1, 1, 1,  ..., 0, 0, 0],\n",
      "        [1, 1, 1,  ..., 0, 0, 0],\n",
      "        ...,\n",
      "        [1, 1, 1,  ..., 0, 0, 0],\n",
      "        [1, 1, 1,  ..., 0, 0, 0],\n",
      "        [1, 1, 1,  ..., 0, 0, 0]])}\n",
      "{'label': tensor([0, 0, 0, 0, 0, 0, 0, 0, 0, 0, 0, 0, 0, 0, 0, 0]), 'input_ids': tensor([[  2,  13,   1,  ...,   0,   0,   0],\n",
      "        [  2,  13,   1,  ...,   0,   0,   0],\n",
      "        [  2,  13,   1,  ...,   0,   0,   0],\n",
      "        ...,\n",
      "        [  2,  13,   1,  ...,   0,   0,   0],\n",
      "        [  2,  13,   1,  ...,   0,   0,   0],\n",
      "        [  2, 137,   9,  ...,   0,   0,   0]]), 'attention_mask': tensor([[1, 1, 1,  ..., 0, 0, 0],\n",
      "        [1, 1, 1,  ..., 0, 0, 0],\n",
      "        [1, 1, 1,  ..., 0, 0, 0],\n",
      "        ...,\n",
      "        [1, 1, 1,  ..., 0, 0, 0],\n",
      "        [1, 1, 1,  ..., 0, 0, 0],\n",
      "        [1, 1, 1,  ..., 0, 0, 0]])}\n",
      "{'label': tensor([0, 0, 0, 0, 0, 1, 0, 0, 0, 0, 0, 0, 0, 1, 0, 0]), 'input_ids': tensor([[    2,    13,     1,  ...,     0,     0,     0],\n",
      "        [    2,    13,     1,  ...,     0,     0,     0],\n",
      "        [    2,    13,     1,  ...,     0,     0,     0],\n",
      "        ...,\n",
      "        [    2,    13,     1,  ...,     0,     0,     0],\n",
      "        [    2,    13,     1,  ...,     1, 16704,     3],\n",
      "        [    2,    13,     1,  ...,     0,     0,     0]]), 'attention_mask': tensor([[1, 1, 1,  ..., 0, 0, 0],\n",
      "        [1, 1, 1,  ..., 0, 0, 0],\n",
      "        [1, 1, 1,  ..., 0, 0, 0],\n",
      "        ...,\n",
      "        [1, 1, 1,  ..., 0, 0, 0],\n",
      "        [1, 1, 1,  ..., 1, 1, 1],\n",
      "        [1, 1, 1,  ..., 0, 0, 0]])}\n",
      "{'label': tensor([1, 1, 1, 0, 0, 0, 1, 1, 1, 1, 1, 1, 0, 1, 1, 0]), 'input_ids': tensor([[ 2, 13,  1,  ...,  0,  0,  0],\n",
      "        [ 2, 13,  1,  ...,  0,  0,  0],\n",
      "        [ 2, 13,  1,  ...,  0,  0,  0],\n",
      "        ...,\n",
      "        [ 2, 13,  1,  ...,  0,  0,  0],\n",
      "        [ 2, 13,  1,  ...,  0,  0,  0],\n",
      "        [ 2, 13,  1,  ...,  0,  0,  0]]), 'attention_mask': tensor([[1, 1, 1,  ..., 0, 0, 0],\n",
      "        [1, 1, 1,  ..., 0, 0, 0],\n",
      "        [1, 1, 1,  ..., 0, 0, 0],\n",
      "        ...,\n",
      "        [1, 1, 1,  ..., 0, 0, 0],\n",
      "        [1, 1, 1,  ..., 0, 0, 0],\n",
      "        [1, 1, 1,  ..., 0, 0, 0]])}\n",
      "{'label': tensor([1, 0, 1, 1, 0, 1, 1, 0, 0, 0, 0, 0, 0, 0, 0, 0]), 'input_ids': tensor([[ 2, 13,  1,  ...,  0,  0,  0],\n",
      "        [ 2, 13,  1,  ...,  0,  0,  0],\n",
      "        [ 2, 13,  1,  ...,  0,  0,  0],\n",
      "        ...,\n",
      "        [ 2, 13,  1,  ...,  0,  0,  0],\n",
      "        [ 2, 13,  1,  ...,  0,  0,  0],\n",
      "        [ 2, 13,  1,  ...,  0,  0,  0]]), 'attention_mask': tensor([[1, 1, 1,  ..., 0, 0, 0],\n",
      "        [1, 1, 1,  ..., 0, 0, 0],\n",
      "        [1, 1, 1,  ..., 0, 0, 0],\n",
      "        ...,\n",
      "        [1, 1, 1,  ..., 0, 0, 0],\n",
      "        [1, 1, 1,  ..., 0, 0, 0],\n",
      "        [1, 1, 1,  ..., 0, 0, 0]])}\n",
      "{'label': tensor([1, 0, 0, 1, 0, 0, 0, 0, 0, 0, 0, 0, 1, 0, 0, 0]), 'input_ids': tensor([[   2,   13,    1,  ...,    0,    0,    0],\n",
      "        [   2,   13,    1,  ...,    0,    0,    0],\n",
      "        [   2,   13,    1,  ...,    0,    0,    0],\n",
      "        ...,\n",
      "        [   2, 6926, 1251,  ...,    0,    0,    0],\n",
      "        [   2,   13,   69,  ...,    0,    0,    0],\n",
      "        [   2,   13,    1,  ...,    0,    0,    0]]), 'attention_mask': tensor([[1, 1, 1,  ..., 0, 0, 0],\n",
      "        [1, 1, 1,  ..., 0, 0, 0],\n",
      "        [1, 1, 1,  ..., 0, 0, 0],\n",
      "        ...,\n",
      "        [1, 1, 1,  ..., 0, 0, 0],\n",
      "        [1, 1, 1,  ..., 0, 0, 0],\n",
      "        [1, 1, 1,  ..., 0, 0, 0]])}\n",
      "{'label': tensor([0, 0, 0, 0, 0, 0, 0, 0, 0, 1, 1, 0, 0, 0, 1, 0]), 'input_ids': tensor([[ 2, 13,  1,  ...,  0,  0,  0],\n",
      "        [ 2, 13,  1,  ...,  0,  0,  0],\n",
      "        [ 2, 13,  1,  ...,  0,  0,  0],\n",
      "        ...,\n",
      "        [ 2, 13,  1,  ...,  0,  0,  0],\n",
      "        [ 2, 13,  1,  ...,  0,  0,  0],\n",
      "        [ 2, 13,  1,  ...,  0,  0,  0]]), 'attention_mask': tensor([[1, 1, 1,  ..., 0, 0, 0],\n",
      "        [1, 1, 1,  ..., 0, 0, 0],\n",
      "        [1, 1, 1,  ..., 0, 0, 0],\n",
      "        ...,\n",
      "        [1, 1, 1,  ..., 0, 0, 0],\n",
      "        [1, 1, 1,  ..., 0, 0, 0],\n",
      "        [1, 1, 1,  ..., 0, 0, 0]])}\n",
      "{'label': tensor([1, 0, 0, 0, 0, 1, 0, 0, 1, 1, 1, 1, 1, 0, 0, 0]), 'input_ids': tensor([[   2,   13,    1,  ...,    0,    0,    0],\n",
      "        [   2,   13,    1,  ...,    0,    0,    0],\n",
      "        [   2,   13,    1,  ...,    0,    0,    0],\n",
      "        ...,\n",
      "        [   2,   13,    1,  ...,    0,    0,    0],\n",
      "        [   2,   13,    1,  ...,    0,    0,    0],\n",
      "        [   2, 2076, 4954,  ...,    0,    0,    0]]), 'attention_mask': tensor([[1, 1, 1,  ..., 0, 0, 0],\n",
      "        [1, 1, 1,  ..., 0, 0, 0],\n",
      "        [1, 1, 1,  ..., 0, 0, 0],\n",
      "        ...,\n",
      "        [1, 1, 1,  ..., 0, 0, 0],\n",
      "        [1, 1, 1,  ..., 0, 0, 0],\n",
      "        [1, 1, 1,  ..., 0, 0, 0]])}\n",
      "{'label': tensor([1, 0, 1, 0, 0, 0, 1, 0, 0, 0, 0, 1, 1, 0, 0, 1]), 'input_ids': tensor([[ 2, 13,  1,  ...,  0,  0,  0],\n",
      "        [ 2, 13,  1,  ...,  0,  0,  0],\n",
      "        [ 2, 13,  1,  ...,  0,  0,  0],\n",
      "        ...,\n",
      "        [ 2, 13,  1,  ...,  0,  0,  0],\n",
      "        [ 2, 13,  1,  ...,  0,  0,  0],\n",
      "        [ 2, 13,  1,  ...,  0,  0,  0]]), 'attention_mask': tensor([[1, 1, 1,  ..., 0, 0, 0],\n",
      "        [1, 1, 1,  ..., 0, 0, 0],\n",
      "        [1, 1, 1,  ..., 0, 0, 0],\n",
      "        ...,\n",
      "        [1, 1, 1,  ..., 0, 0, 0],\n",
      "        [1, 1, 1,  ..., 0, 0, 0],\n",
      "        [1, 1, 1,  ..., 0, 0, 0]])}\n",
      "{'label': tensor([1, 0, 1, 0, 0, 1, 1, 1, 0, 1, 0, 0, 0, 0, 0, 0]), 'input_ids': tensor([[    2,    13,     1,  ...,     0,     0,     0],\n",
      "        [    2,    13,     1,  ...,     0,     0,     0],\n",
      "        [    2,    13,     1,  ...,     0,     0,     0],\n",
      "        ...,\n",
      "        [    2,   239, 12318,  ...,     0,     0,     0],\n",
      "        [    2,    13,     1,  ...,     0,     0,     0],\n",
      "        [    2,    13,     1,  ...,     0,     0,     0]]), 'attention_mask': tensor([[1, 1, 1,  ..., 0, 0, 0],\n",
      "        [1, 1, 1,  ..., 0, 0, 0],\n",
      "        [1, 1, 1,  ..., 0, 0, 0],\n",
      "        ...,\n",
      "        [1, 1, 1,  ..., 0, 0, 0],\n",
      "        [1, 1, 1,  ..., 0, 0, 0],\n",
      "        [1, 1, 1,  ..., 0, 0, 0]])}\n",
      "{'label': tensor([1, 1, 0, 1, 1, 1, 1, 0, 0, 0, 0, 0, 0, 0, 1, 0]), 'input_ids': tensor([[ 2, 13,  1,  ...,  0,  0,  0],\n",
      "        [ 2, 13,  1,  ...,  0,  0,  0],\n",
      "        [ 2, 13,  1,  ...,  0,  0,  0],\n",
      "        ...,\n",
      "        [ 2, 13,  1,  ...,  0,  0,  0],\n",
      "        [ 2, 13,  1,  ...,  0,  0,  0],\n",
      "        [ 2, 13,  1,  ...,  0,  0,  0]]), 'attention_mask': tensor([[1, 1, 1,  ..., 0, 0, 0],\n",
      "        [1, 1, 1,  ..., 0, 0, 0],\n",
      "        [1, 1, 1,  ..., 0, 0, 0],\n",
      "        ...,\n",
      "        [1, 1, 1,  ..., 0, 0, 0],\n",
      "        [1, 1, 1,  ..., 0, 0, 0],\n",
      "        [1, 1, 1,  ..., 0, 0, 0]])}\n",
      "{'label': tensor([0, 0, 1, 0, 0, 1, 0, 0, 0, 1, 0, 0, 0, 0, 0, 1]), 'input_ids': tensor([[    2,    13,     9,  ...,     0,     0,     0],\n",
      "        [    2,  6926,  1887,  ...,     0,     0,     0],\n",
      "        [    2,    13,     1,  ...,     0,     0,     0],\n",
      "        ...,\n",
      "        [    2,    13,     1,  ...,     1, 16704,     3],\n",
      "        [    2,    13,     1,  ...,     0,     0,     0],\n",
      "        [    2,    13,     1,  ...,     0,     0,     0]]), 'attention_mask': tensor([[1, 1, 1,  ..., 0, 0, 0],\n",
      "        [1, 1, 1,  ..., 0, 0, 0],\n",
      "        [1, 1, 1,  ..., 0, 0, 0],\n",
      "        ...,\n",
      "        [1, 1, 1,  ..., 1, 1, 1],\n",
      "        [1, 1, 1,  ..., 0, 0, 0],\n",
      "        [1, 1, 1,  ..., 0, 0, 0]])}\n",
      "{'label': tensor([0, 0, 0, 0, 0, 0, 1, 1, 1, 1, 0, 0, 1, 0, 0, 0]), 'input_ids': tensor([[    2,    13, 26341,  ...,     0,     0,     0],\n",
      "        [    2,  6926,  5580,  ...,     0,     0,     0],\n",
      "        [    2,    13,     1,  ...,     0,     0,     0],\n",
      "        ...,\n",
      "        [    2,    13,     1,  ...,     0,     0,     0],\n",
      "        [    2,    13,     1,  ...,     0,     0,     0],\n",
      "        [    2,    13,     1,  ...,     0,     0,     0]]), 'attention_mask': tensor([[1, 1, 1,  ..., 0, 0, 0],\n",
      "        [1, 1, 1,  ..., 0, 0, 0],\n",
      "        [1, 1, 1,  ..., 0, 0, 0],\n",
      "        ...,\n",
      "        [1, 1, 1,  ..., 0, 0, 0],\n",
      "        [1, 1, 1,  ..., 0, 0, 0],\n",
      "        [1, 1, 1,  ..., 0, 0, 0]])}\n",
      "{'label': tensor([1, 0, 1, 0, 0, 0, 1, 0, 1, 0, 0, 0, 0, 0, 0, 0]), 'input_ids': tensor([[ 2, 13,  1,  ...,  0,  0,  0],\n",
      "        [ 2, 13,  1,  ...,  0,  0,  0],\n",
      "        [ 2, 13,  1,  ...,  0,  0,  0],\n",
      "        ...,\n",
      "        [ 2, 13,  1,  ...,  0,  0,  0],\n",
      "        [ 2, 13,  1,  ...,  0,  0,  0],\n",
      "        [ 2, 13,  1,  ...,  0,  0,  0]]), 'attention_mask': tensor([[1, 1, 1,  ..., 0, 0, 0],\n",
      "        [1, 1, 1,  ..., 0, 0, 0],\n",
      "        [1, 1, 1,  ..., 0, 0, 0],\n",
      "        ...,\n",
      "        [1, 1, 1,  ..., 0, 0, 0],\n",
      "        [1, 1, 1,  ..., 0, 0, 0],\n",
      "        [1, 1, 1,  ..., 0, 0, 0]])}\n",
      "{'label': tensor([0, 0, 0, 0, 0, 1, 0, 1, 1, 1, 1, 0, 0, 1, 1, 0]), 'input_ids': tensor([[  2, 268,   9,  ...,   0,   0,   0],\n",
      "        [  2, 732,   9,  ...,   0,   0,   0],\n",
      "        [  2,  13,   1,  ...,   0,   0,   0],\n",
      "        ...,\n",
      "        [  2,  13,   1,  ...,   0,   0,   0],\n",
      "        [  2,  13,   1,  ...,   0,   0,   0],\n",
      "        [  2,  13,   9,  ...,   0,   0,   0]]), 'attention_mask': tensor([[1, 1, 1,  ..., 0, 0, 0],\n",
      "        [1, 1, 1,  ..., 0, 0, 0],\n",
      "        [1, 1, 1,  ..., 0, 0, 0],\n",
      "        ...,\n",
      "        [1, 1, 1,  ..., 0, 0, 0],\n",
      "        [1, 1, 1,  ..., 0, 0, 0],\n",
      "        [1, 1, 1,  ..., 0, 0, 0]])}\n",
      "{'label': tensor([1, 1, 0, 1, 1, 1, 0, 0, 0, 1, 1, 1, 1, 1, 0, 0]), 'input_ids': tensor([[ 2, 13,  1,  ...,  0,  0,  0],\n",
      "        [ 2, 13,  1,  ...,  0,  0,  0],\n",
      "        [ 2, 13,  1,  ...,  0,  0,  0],\n",
      "        ...,\n",
      "        [ 2, 13,  1,  ...,  0,  0,  0],\n",
      "        [ 2, 13,  1,  ...,  0,  0,  0],\n",
      "        [ 2, 13,  1,  ...,  0,  0,  0]]), 'attention_mask': tensor([[1, 1, 1,  ..., 0, 0, 0],\n",
      "        [1, 1, 1,  ..., 0, 0, 0],\n",
      "        [1, 1, 1,  ..., 0, 0, 0],\n",
      "        ...,\n",
      "        [1, 1, 1,  ..., 0, 0, 0],\n",
      "        [1, 1, 1,  ..., 0, 0, 0],\n",
      "        [1, 1, 1,  ..., 0, 0, 0]])}\n",
      "{'label': tensor([0, 0, 1, 1, 0, 1, 0, 0, 0, 0, 0, 1, 0, 1, 1, 1]), 'input_ids': tensor([[ 2, 13,  1,  ...,  0,  0,  0],\n",
      "        [ 2, 13,  1,  ...,  0,  0,  0],\n",
      "        [ 2, 13,  9,  ...,  0,  0,  0],\n",
      "        ...,\n",
      "        [ 2, 13,  1,  ...,  0,  0,  0],\n",
      "        [ 2, 13,  1,  ...,  0,  0,  0],\n",
      "        [ 2, 13,  1,  ...,  0,  0,  0]]), 'attention_mask': tensor([[1, 1, 1,  ..., 0, 0, 0],\n",
      "        [1, 1, 1,  ..., 0, 0, 0],\n",
      "        [1, 1, 1,  ..., 0, 0, 0],\n",
      "        ...,\n",
      "        [1, 1, 1,  ..., 0, 0, 0],\n",
      "        [1, 1, 1,  ..., 0, 0, 0],\n",
      "        [1, 1, 1,  ..., 0, 0, 0]])}\n",
      "{'label': tensor([1, 0, 0, 0, 0, 0, 1, 1, 1, 0, 1, 0, 1, 0, 1, 0]), 'input_ids': tensor([[    2,    13,     1,  ...,     0,     0,     0],\n",
      "        [    2,  1637, 15929,  ...,     0,     0,     0],\n",
      "        [    2,    13,     1,  ...,     0,     0,     0],\n",
      "        ...,\n",
      "        [    2,    13,     1,  ...,     0,     0,     0],\n",
      "        [    2,    13,     1,  ...,     0,     0,     0],\n",
      "        [    2,    13,     1,  ...,     0,     0,     0]]), 'attention_mask': tensor([[1, 1, 1,  ..., 0, 0, 0],\n",
      "        [1, 1, 1,  ..., 0, 0, 0],\n",
      "        [1, 1, 1,  ..., 0, 0, 0],\n",
      "        ...,\n",
      "        [1, 1, 1,  ..., 0, 0, 0],\n",
      "        [1, 1, 1,  ..., 0, 0, 0],\n",
      "        [1, 1, 1,  ..., 0, 0, 0]])}\n",
      "{'label': tensor([0, 0, 0, 0, 0, 0, 0, 0, 0, 0, 1, 0, 0, 0, 0, 0]), 'input_ids': tensor([[    2,    13,     1,  ...,     0,     0,     0],\n",
      "        [    2,   302, 23192,  ...,     0,     0,     0],\n",
      "        [    2,    13,     1,  ...,     0,     0,     0],\n",
      "        ...,\n",
      "        [    2,  6926,  8959,  ...,     0,     0,     0],\n",
      "        [    2,    13,     1,  ...,     0,     0,     0],\n",
      "        [    2,  6926, 10753,  ...,     0,     0,     0]]), 'attention_mask': tensor([[1, 1, 1,  ..., 0, 0, 0],\n",
      "        [1, 1, 1,  ..., 0, 0, 0],\n",
      "        [1, 1, 1,  ..., 0, 0, 0],\n",
      "        ...,\n",
      "        [1, 1, 1,  ..., 0, 0, 0],\n",
      "        [1, 1, 1,  ..., 0, 0, 0],\n",
      "        [1, 1, 1,  ..., 0, 0, 0]])}\n",
      "{'label': tensor([1, 0, 1, 0, 0, 0, 0, 1, 0, 1, 1, 0, 0, 0, 0, 1]), 'input_ids': tensor([[    2,  6926, 21462,  ...,     0,     0,     0],\n",
      "        [    2,    13,     1,  ...,     0,     0,     0],\n",
      "        [    2,    13,     1,  ...,     0,     0,     0],\n",
      "        ...,\n",
      "        [    2,    13,     1,  ...,     0,     0,     0],\n",
      "        [    2,    13,     1,  ...,     0,     0,     0],\n",
      "        [    2,    13,     1,  ...,     0,     0,     0]]), 'attention_mask': tensor([[1, 1, 1,  ..., 0, 0, 0],\n",
      "        [1, 1, 1,  ..., 0, 0, 0],\n",
      "        [1, 1, 1,  ..., 0, 0, 0],\n",
      "        ...,\n",
      "        [1, 1, 1,  ..., 0, 0, 0],\n",
      "        [1, 1, 1,  ..., 0, 0, 0],\n",
      "        [1, 1, 1,  ..., 0, 0, 0]])}\n",
      "{'label': tensor([0, 0, 1, 0, 1, 1, 0, 0, 1, 0, 0, 1, 0, 0, 1, 0]), 'input_ids': tensor([[ 2, 13,  1,  ...,  0,  0,  0],\n",
      "        [ 2, 13,  1,  ...,  0,  0,  0],\n",
      "        [ 2, 13,  1,  ...,  0,  0,  0],\n",
      "        ...,\n",
      "        [ 2, 13,  1,  ...,  0,  0,  0],\n",
      "        [ 2, 13,  1,  ...,  0,  0,  0],\n",
      "        [ 2, 13,  1,  ...,  0,  0,  0]]), 'attention_mask': tensor([[1, 1, 1,  ..., 0, 0, 0],\n",
      "        [1, 1, 1,  ..., 0, 0, 0],\n",
      "        [1, 1, 1,  ..., 0, 0, 0],\n",
      "        ...,\n",
      "        [1, 1, 1,  ..., 0, 0, 0],\n",
      "        [1, 1, 1,  ..., 0, 0, 0],\n",
      "        [1, 1, 1,  ..., 0, 0, 0]])}\n",
      "{'label': tensor([0, 0, 0, 0, 1, 1, 0, 0, 0, 0, 0, 0, 1, 0, 0, 1]), 'input_ids': tensor([[ 2, 13,  9,  ...,  0,  0,  0],\n",
      "        [ 2, 13,  1,  ...,  0,  0,  0],\n",
      "        [ 2, 13,  1,  ...,  0,  0,  0],\n",
      "        ...,\n",
      "        [ 2, 13,  1,  ...,  0,  0,  0],\n",
      "        [ 2, 13,  1,  ...,  0,  0,  0],\n",
      "        [ 2, 13,  1,  ...,  0,  0,  0]]), 'attention_mask': tensor([[1, 1, 1,  ..., 0, 0, 0],\n",
      "        [1, 1, 1,  ..., 0, 0, 0],\n",
      "        [1, 1, 1,  ..., 0, 0, 0],\n",
      "        ...,\n",
      "        [1, 1, 1,  ..., 0, 0, 0],\n",
      "        [1, 1, 1,  ..., 0, 0, 0],\n",
      "        [1, 1, 1,  ..., 0, 0, 0]])}\n",
      "{'label': tensor([1, 1, 1, 1, 0, 1, 0, 0, 0, 0, 0, 1, 0, 0, 1, 0]), 'input_ids': tensor([[    2,  5420, 14322,  ...,     0,     0,     0],\n",
      "        [    2,    13,     1,  ...,     0,     0,     0],\n",
      "        [    2,    13,     1,  ...,     0,     0,     0],\n",
      "        ...,\n",
      "        [    2,    13,     1,  ...,     0,     0,     0],\n",
      "        [    2,    13,     1,  ...,     0,     0,     0],\n",
      "        [    2,    13,     1,  ...,     0,     0,     0]]), 'attention_mask': tensor([[1, 1, 1,  ..., 0, 0, 0],\n",
      "        [1, 1, 1,  ..., 0, 0, 0],\n",
      "        [1, 1, 1,  ..., 0, 0, 0],\n",
      "        ...,\n",
      "        [1, 1, 1,  ..., 0, 0, 0],\n",
      "        [1, 1, 1,  ..., 0, 0, 0],\n",
      "        [1, 1, 1,  ..., 0, 0, 0]])}\n",
      "{'label': tensor([0, 0, 1, 0, 0, 0, 0, 0, 0, 1, 1, 1, 1, 0, 1, 0]), 'input_ids': tensor([[    2,    13,     1,  ...,     0,     0,     0],\n",
      "        [    2, 10114,  8289,  ...,     0,     0,     0],\n",
      "        [    2,    13,     1,  ...,     0,     0,     0],\n",
      "        ...,\n",
      "        [    2,    13,     1,  ...,     0,     0,     0],\n",
      "        [    2,    13,     1,  ...,     0,     0,     0],\n",
      "        [    2,    19,    21,  ...,     0,     0,     0]]), 'attention_mask': tensor([[1, 1, 1,  ..., 0, 0, 0],\n",
      "        [1, 1, 1,  ..., 0, 0, 0],\n",
      "        [1, 1, 1,  ..., 0, 0, 0],\n",
      "        ...,\n",
      "        [1, 1, 1,  ..., 0, 0, 0],\n",
      "        [1, 1, 1,  ..., 0, 0, 0],\n",
      "        [1, 1, 1,  ..., 0, 0, 0]])}\n",
      "{'label': tensor([1, 0, 0, 1, 1, 0, 0, 1, 0, 0, 1, 0, 1, 0, 0, 0]), 'input_ids': tensor([[ 2, 13,  1,  ...,  0,  0,  0],\n",
      "        [ 2, 13,  1,  ...,  0,  0,  0],\n",
      "        [ 2, 13,  1,  ...,  0,  0,  0],\n",
      "        ...,\n",
      "        [ 2, 13,  1,  ...,  0,  0,  0],\n",
      "        [ 2, 13,  1,  ...,  0,  0,  0],\n",
      "        [ 2, 13,  1,  ...,  0,  0,  0]]), 'attention_mask': tensor([[1, 1, 1,  ..., 0, 0, 0],\n",
      "        [1, 1, 1,  ..., 0, 0, 0],\n",
      "        [1, 1, 1,  ..., 0, 0, 0],\n",
      "        ...,\n",
      "        [1, 1, 1,  ..., 0, 0, 0],\n",
      "        [1, 1, 1,  ..., 0, 0, 0],\n",
      "        [1, 1, 1,  ..., 0, 0, 0]])}\n",
      "{'label': tensor([0, 0, 0, 0, 0, 0, 0, 0, 0, 0, 0, 0, 0, 0, 1, 1]), 'input_ids': tensor([[ 2, 13,  1,  ...,  0,  0,  0],\n",
      "        [ 2, 13,  1,  ...,  0,  0,  0],\n",
      "        [ 2, 13,  1,  ...,  0,  0,  0],\n",
      "        ...,\n",
      "        [ 2, 13,  1,  ...,  0,  0,  0],\n",
      "        [ 2, 13,  1,  ...,  0,  0,  0],\n",
      "        [ 2, 13,  1,  ...,  0,  0,  0]]), 'attention_mask': tensor([[1, 1, 1,  ..., 0, 0, 0],\n",
      "        [1, 1, 1,  ..., 0, 0, 0],\n",
      "        [1, 1, 1,  ..., 0, 0, 0],\n",
      "        ...,\n",
      "        [1, 1, 1,  ..., 0, 0, 0],\n",
      "        [1, 1, 1,  ..., 0, 0, 0],\n",
      "        [1, 1, 1,  ..., 0, 0, 0]])}\n",
      "{'label': tensor([0, 0, 0, 0, 0, 0, 0, 1, 0, 1, 0, 0, 1, 0, 0, 0]), 'input_ids': tensor([[ 2, 13,  1,  ...,  0,  0,  0],\n",
      "        [ 2, 13,  1,  ...,  0,  0,  0],\n",
      "        [ 2, 13,  1,  ...,  0,  0,  0],\n",
      "        ...,\n",
      "        [ 2, 13,  1,  ...,  0,  0,  0],\n",
      "        [ 2, 13,  9,  ...,  0,  0,  0],\n",
      "        [ 2, 13,  1,  ...,  0,  0,  0]]), 'attention_mask': tensor([[1, 1, 1,  ..., 0, 0, 0],\n",
      "        [1, 1, 1,  ..., 0, 0, 0],\n",
      "        [1, 1, 1,  ..., 0, 0, 0],\n",
      "        ...,\n",
      "        [1, 1, 1,  ..., 0, 0, 0],\n",
      "        [1, 1, 1,  ..., 0, 0, 0],\n",
      "        [1, 1, 1,  ..., 0, 0, 0]])}\n",
      "{'label': tensor([1, 0, 0, 0, 0, 0, 0, 0, 0, 1, 0, 0, 0, 1, 1, 0]), 'input_ids': tensor([[    2,    13,     1,  ...,     0,     0,     0],\n",
      "        [    2,    13,     1,  ...,     0,     0,     0],\n",
      "        [    2,    13,     1,  ...,     0,     0,     0],\n",
      "        ...,\n",
      "        [    2,    13,     1,  ...,     0,     0,     0],\n",
      "        [    2,  6926, 28658,  ...,     0,     0,     0],\n",
      "        [    2,    13,     9,  ...,     0,     0,     0]]), 'attention_mask': tensor([[1, 1, 1,  ..., 0, 0, 0],\n",
      "        [1, 1, 1,  ..., 0, 0, 0],\n",
      "        [1, 1, 1,  ..., 0, 0, 0],\n",
      "        ...,\n",
      "        [1, 1, 1,  ..., 0, 0, 0],\n",
      "        [1, 1, 1,  ..., 0, 0, 0],\n",
      "        [1, 1, 1,  ..., 0, 0, 0]])}\n",
      "{'label': tensor([1, 0, 0, 0, 0, 0, 0, 0, 0, 0, 1, 1, 0, 1, 0, 1]), 'input_ids': tensor([[   2,   13,    1,  ...,    0,    0,    0],\n",
      "        [   2,   13,    1,  ...,    0,    0,    0],\n",
      "        [   2,   13,    1,  ...,    0,    0,    0],\n",
      "        ...,\n",
      "        [   2,   13,    1,  ...,    0,    0,    0],\n",
      "        [   2, 3262,   20,  ...,    0,    0,    0],\n",
      "        [   2,   13,    1,  ...,    0,    0,    0]]), 'attention_mask': tensor([[1, 1, 1,  ..., 0, 0, 0],\n",
      "        [1, 1, 1,  ..., 0, 0, 0],\n",
      "        [1, 1, 1,  ..., 0, 0, 0],\n",
      "        ...,\n",
      "        [1, 1, 1,  ..., 0, 0, 0],\n",
      "        [1, 1, 1,  ..., 0, 0, 0],\n",
      "        [1, 1, 1,  ..., 0, 0, 0]])}\n",
      "{'label': tensor([0, 0, 1, 1, 0, 0, 0, 0, 0, 0, 0, 0, 0, 0, 0, 0]), 'input_ids': tensor([[    2,    13,     1,  ...,     1, 16704,     3],\n",
      "        [    2,    13,     1,  ...,     0,     0,     0],\n",
      "        [    2,    13,     1,  ...,     0,     0,     0],\n",
      "        ...,\n",
      "        [    2,    13,     1,  ...,     0,     0,     0],\n",
      "        [    2,    13,     1,  ...,     0,     0,     0],\n",
      "        [    2,  1879,   101,  ...,     0,     0,     0]]), 'attention_mask': tensor([[1, 1, 1,  ..., 1, 1, 1],\n",
      "        [1, 1, 1,  ..., 0, 0, 0],\n",
      "        [1, 1, 1,  ..., 0, 0, 0],\n",
      "        ...,\n",
      "        [1, 1, 1,  ..., 0, 0, 0],\n",
      "        [1, 1, 1,  ..., 0, 0, 0],\n",
      "        [1, 1, 1,  ..., 0, 0, 0]])}\n",
      "{'label': tensor([1, 1, 0, 0, 1, 1, 0, 1, 0, 1, 1, 0, 0, 0, 1, 0]), 'input_ids': tensor([[ 2, 13,  1,  ...,  0,  0,  0],\n",
      "        [ 2, 13,  1,  ...,  0,  0,  0],\n",
      "        [ 2, 13,  1,  ...,  0,  0,  0],\n",
      "        ...,\n",
      "        [ 2, 13,  1,  ...,  0,  0,  0],\n",
      "        [ 2, 13,  1,  ...,  0,  0,  0],\n",
      "        [ 2, 13,  1,  ...,  0,  0,  0]]), 'attention_mask': tensor([[1, 1, 1,  ..., 0, 0, 0],\n",
      "        [1, 1, 1,  ..., 0, 0, 0],\n",
      "        [1, 1, 1,  ..., 0, 0, 0],\n",
      "        ...,\n",
      "        [1, 1, 1,  ..., 0, 0, 0],\n",
      "        [1, 1, 1,  ..., 0, 0, 0],\n",
      "        [1, 1, 1,  ..., 0, 0, 0]])}\n",
      "{'label': tensor([0, 1, 0, 1, 1, 0, 0, 0, 0, 0, 0, 1, 0, 0, 0, 0]), 'input_ids': tensor([[ 2, 13,  1,  ...,  0,  0,  0],\n",
      "        [ 2, 13,  1,  ...,  0,  0,  0],\n",
      "        [ 2, 13,  1,  ...,  0,  0,  0],\n",
      "        ...,\n",
      "        [ 2, 13,  1,  ...,  0,  0,  0],\n",
      "        [ 2, 13,  1,  ...,  0,  0,  0],\n",
      "        [ 2, 13,  1,  ...,  0,  0,  0]]), 'attention_mask': tensor([[1, 1, 1,  ..., 0, 0, 0],\n",
      "        [1, 1, 1,  ..., 0, 0, 0],\n",
      "        [1, 1, 1,  ..., 0, 0, 0],\n",
      "        ...,\n",
      "        [1, 1, 1,  ..., 0, 0, 0],\n",
      "        [1, 1, 1,  ..., 0, 0, 0],\n",
      "        [1, 1, 1,  ..., 0, 0, 0]])}\n",
      "{'label': tensor([1, 1, 0, 0, 0, 0, 1, 0, 0, 1, 0, 0, 0, 1, 1, 0]), 'input_ids': tensor([[  2,  13,   1,  ...,   0,   0,   0],\n",
      "        [  2,  13,   1,  ...,   0,   0,   0],\n",
      "        [  2,  13,   1,  ...,   0,   0,   0],\n",
      "        ...,\n",
      "        [  2, 400,  91,  ...,   0,   0,   0],\n",
      "        [  2,  13,   1,  ...,   0,   0,   0],\n",
      "        [  2,  13,   1,  ...,   0,   0,   0]]), 'attention_mask': tensor([[1, 1, 1,  ..., 0, 0, 0],\n",
      "        [1, 1, 1,  ..., 0, 0, 0],\n",
      "        [1, 1, 1,  ..., 0, 0, 0],\n",
      "        ...,\n",
      "        [1, 1, 1,  ..., 0, 0, 0],\n",
      "        [1, 1, 1,  ..., 0, 0, 0],\n",
      "        [1, 1, 1,  ..., 0, 0, 0]])}\n",
      "{'label': tensor([0, 0, 0, 1, 0, 1, 0, 0, 1, 0, 1, 1, 1, 0, 0, 0]), 'input_ids': tensor([[   2,   13,    1,  ...,    0,    0,    0],\n",
      "        [   2, 6926,  262,  ...,    0,    0,    0],\n",
      "        [   2,   13,    1,  ...,    0,    0,    0],\n",
      "        ...,\n",
      "        [   2,   13,    1,  ...,    0,    0,    0],\n",
      "        [   2,   13,    1,  ...,    0,    0,    0],\n",
      "        [   2,   13,    1,  ...,    0,    0,    0]]), 'attention_mask': tensor([[1, 1, 1,  ..., 0, 0, 0],\n",
      "        [1, 1, 1,  ..., 0, 0, 0],\n",
      "        [1, 1, 1,  ..., 0, 0, 0],\n",
      "        ...,\n",
      "        [1, 1, 1,  ..., 0, 0, 0],\n",
      "        [1, 1, 1,  ..., 0, 0, 0],\n",
      "        [1, 1, 1,  ..., 0, 0, 0]])}\n",
      "{'label': tensor([0, 0, 1, 1, 0, 0, 0, 1, 1, 0, 0, 0, 0, 0, 0, 0]), 'input_ids': tensor([[ 2, 13,  1,  ...,  0,  0,  0],\n",
      "        [ 2, 13,  1,  ...,  0,  0,  0],\n",
      "        [ 2, 32, 25,  ...,  0,  0,  0],\n",
      "        ...,\n",
      "        [ 2, 13,  1,  ...,  0,  0,  0],\n",
      "        [ 2, 13,  1,  ...,  0,  0,  0],\n",
      "        [ 2, 13,  1,  ...,  0,  0,  0]]), 'attention_mask': tensor([[1, 1, 1,  ..., 0, 0, 0],\n",
      "        [1, 1, 1,  ..., 0, 0, 0],\n",
      "        [1, 1, 1,  ..., 0, 0, 0],\n",
      "        ...,\n",
      "        [1, 1, 1,  ..., 0, 0, 0],\n",
      "        [1, 1, 1,  ..., 0, 0, 0],\n",
      "        [1, 1, 1,  ..., 0, 0, 0]])}\n",
      "{'label': tensor([0, 0, 0, 0, 0, 0, 0, 1, 0, 1, 1, 0, 1, 0, 0, 0]), 'input_ids': tensor([[ 2, 13,  1,  ...,  0,  0,  0],\n",
      "        [ 2, 13,  1,  ...,  0,  0,  0],\n",
      "        [ 2, 13,  1,  ...,  0,  0,  0],\n",
      "        ...,\n",
      "        [ 2, 13,  1,  ...,  0,  0,  0],\n",
      "        [ 2, 13,  1,  ...,  0,  0,  0],\n",
      "        [ 2, 13,  1,  ...,  0,  0,  0]]), 'attention_mask': tensor([[1, 1, 1,  ..., 0, 0, 0],\n",
      "        [1, 1, 1,  ..., 0, 0, 0],\n",
      "        [1, 1, 1,  ..., 0, 0, 0],\n",
      "        ...,\n",
      "        [1, 1, 1,  ..., 0, 0, 0],\n",
      "        [1, 1, 1,  ..., 0, 0, 0],\n",
      "        [1, 1, 1,  ..., 0, 0, 0]])}\n",
      "{'label': tensor([0, 0, 0, 0, 1, 1, 0, 0, 0, 0, 1, 0, 1, 0, 0, 0]), 'input_ids': tensor([[ 2, 13,  9,  ...,  0,  0,  0],\n",
      "        [ 2, 13,  1,  ...,  0,  0,  0],\n",
      "        [ 2, 13,  1,  ...,  0,  0,  0],\n",
      "        ...,\n",
      "        [ 2, 13,  5,  ...,  0,  0,  0],\n",
      "        [ 2, 13,  1,  ...,  0,  0,  0],\n",
      "        [ 2, 13,  1,  ...,  0,  0,  0]]), 'attention_mask': tensor([[1, 1, 1,  ..., 0, 0, 0],\n",
      "        [1, 1, 1,  ..., 0, 0, 0],\n",
      "        [1, 1, 1,  ..., 0, 0, 0],\n",
      "        ...,\n",
      "        [1, 1, 1,  ..., 0, 0, 0],\n",
      "        [1, 1, 1,  ..., 0, 0, 0],\n",
      "        [1, 1, 1,  ..., 0, 0, 0]])}\n",
      "{'label': tensor([0, 0, 1, 0, 0, 0, 1, 0, 1, 0, 0, 0, 0, 1, 0, 0]), 'input_ids': tensor([[ 2, 13,  1,  ...,  0,  0,  0],\n",
      "        [ 2, 13,  1,  ...,  0,  0,  0],\n",
      "        [ 2, 13,  1,  ...,  0,  0,  0],\n",
      "        ...,\n",
      "        [ 2, 13,  1,  ...,  0,  0,  0],\n",
      "        [ 2, 13,  1,  ...,  0,  0,  0],\n",
      "        [ 2, 13,  9,  ...,  0,  0,  0]]), 'attention_mask': tensor([[1, 1, 1,  ..., 0, 0, 0],\n",
      "        [1, 1, 1,  ..., 0, 0, 0],\n",
      "        [1, 1, 1,  ..., 0, 0, 0],\n",
      "        ...,\n",
      "        [1, 1, 1,  ..., 0, 0, 0],\n",
      "        [1, 1, 1,  ..., 0, 0, 0],\n",
      "        [1, 1, 1,  ..., 0, 0, 0]])}\n",
      "{'label': tensor([1, 0, 1, 0, 0, 0, 0, 1, 0, 0, 0, 0, 1, 1, 1, 0]), 'input_ids': tensor([[    2,    13,     1,  ...,     0,     0,     0],\n",
      "        [    2,    13,     1,  ...,     0,     0,     0],\n",
      "        [    2,    13,     1,  ...,     0,     0,     0],\n",
      "        ...,\n",
      "        [    2,    13,     1,  ...,     0,     0,     0],\n",
      "        [    2,    13,     1,  ...,     0,     0,     0],\n",
      "        [    2,    13,     1,  ...,     1, 16704,     3]]), 'attention_mask': tensor([[1, 1, 1,  ..., 0, 0, 0],\n",
      "        [1, 1, 1,  ..., 0, 0, 0],\n",
      "        [1, 1, 1,  ..., 0, 0, 0],\n",
      "        ...,\n",
      "        [1, 1, 1,  ..., 0, 0, 0],\n",
      "        [1, 1, 1,  ..., 0, 0, 0],\n",
      "        [1, 1, 1,  ..., 1, 1, 1]])}\n",
      "{'label': tensor([1, 0, 1, 0, 0, 1, 0, 1, 1, 1, 1, 1, 0, 0, 1, 1]), 'input_ids': tensor([[ 2, 13,  1,  ...,  0,  0,  0],\n",
      "        [ 2, 13,  1,  ...,  0,  0,  0],\n",
      "        [ 2, 13,  1,  ...,  0,  0,  0],\n",
      "        ...,\n",
      "        [ 2, 13,  1,  ...,  0,  0,  0],\n",
      "        [ 2, 13,  1,  ...,  0,  0,  0],\n",
      "        [ 2, 13,  1,  ...,  0,  0,  0]]), 'attention_mask': tensor([[1, 1, 1,  ..., 0, 0, 0],\n",
      "        [1, 1, 1,  ..., 0, 0, 0],\n",
      "        [1, 1, 1,  ..., 0, 0, 0],\n",
      "        ...,\n",
      "        [1, 1, 1,  ..., 0, 0, 0],\n",
      "        [1, 1, 1,  ..., 0, 0, 0],\n",
      "        [1, 1, 1,  ..., 0, 0, 0]])}\n",
      "{'label': tensor([0, 0, 0, 0, 0, 1, 0, 0, 1, 1, 0, 1, 0, 0, 1, 0]), 'input_ids': tensor([[   2,   13,    1,  ...,    0,    0,    0],\n",
      "        [   2,   13,    1,  ...,    0,    0,    0],\n",
      "        [   2,   13,    1,  ...,    0,    0,    0],\n",
      "        ...,\n",
      "        [   2,   13,    1,  ...,    0,    0,    0],\n",
      "        [   2,   13,    1,  ...,    0,    0,    0],\n",
      "        [   2, 6830,   75,  ...,    0,    0,    0]]), 'attention_mask': tensor([[1, 1, 1,  ..., 0, 0, 0],\n",
      "        [1, 1, 1,  ..., 0, 0, 0],\n",
      "        [1, 1, 1,  ..., 0, 0, 0],\n",
      "        ...,\n",
      "        [1, 1, 1,  ..., 0, 0, 0],\n",
      "        [1, 1, 1,  ..., 0, 0, 0],\n",
      "        [1, 1, 1,  ..., 0, 0, 0]])}\n",
      "{'label': tensor([1, 1, 0, 1, 0, 0, 0, 0, 1, 0, 0, 1, 1, 0, 0, 0]), 'input_ids': tensor([[  2,  47, 630,  ...,   0,   0,   0],\n",
      "        [  2,  13,   1,  ...,   0,   0,   0],\n",
      "        [  2,  13,   1,  ...,   0,   0,   0],\n",
      "        ...,\n",
      "        [  2,  13,   1,  ...,   0,   0,   0],\n",
      "        [  2,  13,   1,  ...,   0,   0,   0],\n",
      "        [  2,  13,   1,  ...,   0,   0,   0]]), 'attention_mask': tensor([[1, 1, 1,  ..., 0, 0, 0],\n",
      "        [1, 1, 1,  ..., 0, 0, 0],\n",
      "        [1, 1, 1,  ..., 0, 0, 0],\n",
      "        ...,\n",
      "        [1, 1, 1,  ..., 0, 0, 0],\n",
      "        [1, 1, 1,  ..., 0, 0, 0],\n",
      "        [1, 1, 1,  ..., 0, 0, 0]])}\n",
      "{'label': tensor([0, 0, 1, 1, 0, 0, 0, 1, 0, 1, 0, 0, 1, 0, 1, 0]), 'input_ids': tensor([[ 2, 13,  1,  ...,  0,  0,  0],\n",
      "        [ 2, 13,  1,  ...,  0,  0,  0],\n",
      "        [ 2, 13,  1,  ...,  0,  0,  0],\n",
      "        ...,\n",
      "        [ 2, 13,  1,  ...,  0,  0,  0],\n",
      "        [ 2, 13,  1,  ...,  0,  0,  0],\n",
      "        [ 2, 13,  1,  ...,  0,  0,  0]]), 'attention_mask': tensor([[1, 1, 1,  ..., 0, 0, 0],\n",
      "        [1, 1, 1,  ..., 0, 0, 0],\n",
      "        [1, 1, 1,  ..., 0, 0, 0],\n",
      "        ...,\n",
      "        [1, 1, 1,  ..., 0, 0, 0],\n",
      "        [1, 1, 1,  ..., 0, 0, 0],\n",
      "        [1, 1, 1,  ..., 0, 0, 0]])}\n",
      "{'label': tensor([0, 0, 1, 1, 0, 0, 0, 0, 0, 1, 1, 0, 1, 0, 0, 0]), 'input_ids': tensor([[  2, 547, 118,  ...,   0,   0,   0],\n",
      "        [  2,  13,   1,  ...,   0,   0,   0],\n",
      "        [  2,  13,   1,  ...,   0,   0,   0],\n",
      "        ...,\n",
      "        [  2,  13,   1,  ...,   0,   0,   0],\n",
      "        [  2,  13,   1,  ...,   0,   0,   0],\n",
      "        [  2,  13,   1,  ...,   0,   0,   0]]), 'attention_mask': tensor([[1, 1, 1,  ..., 0, 0, 0],\n",
      "        [1, 1, 1,  ..., 0, 0, 0],\n",
      "        [1, 1, 1,  ..., 0, 0, 0],\n",
      "        ...,\n",
      "        [1, 1, 1,  ..., 0, 0, 0],\n",
      "        [1, 1, 1,  ..., 0, 0, 0],\n",
      "        [1, 1, 1,  ..., 0, 0, 0]])}\n",
      "{'label': tensor([0, 0, 1, 1, 1, 0, 1, 0, 1, 1, 1, 0, 0, 1, 0, 1]), 'input_ids': tensor([[   2,   13,    1,  ...,    0,    0,    0],\n",
      "        [   2,   13,    1,  ...,    0,    0,    0],\n",
      "        [   2,   13,    1,  ...,    0,    0,    0],\n",
      "        ...,\n",
      "        [   2,   13,    1,  ...,    0,    0,    0],\n",
      "        [   2, 1082, 1473,  ...,    0,    0,    0],\n",
      "        [   2,   13,    1,  ...,    0,    0,    0]]), 'attention_mask': tensor([[1, 1, 1,  ..., 0, 0, 0],\n",
      "        [1, 1, 1,  ..., 0, 0, 0],\n",
      "        [1, 1, 1,  ..., 0, 0, 0],\n",
      "        ...,\n",
      "        [1, 1, 1,  ..., 0, 0, 0],\n",
      "        [1, 1, 1,  ..., 0, 0, 0],\n",
      "        [1, 1, 1,  ..., 0, 0, 0]])}\n",
      "{'label': tensor([0, 0, 0, 0, 1, 0, 0, 0, 1, 0, 1, 0, 0, 0, 1, 0]), 'input_ids': tensor([[    2,    13,     1,  ...,     0,     0,     0],\n",
      "        [    2,    13,     1,  ...,     0,     0,     0],\n",
      "        [    2,    13,     1,  ...,     0,     0,     0],\n",
      "        ...,\n",
      "        [    2,    13,     1,  ...,     0,     0,     0],\n",
      "        [    2,    13,     1,  ...,     0,     0,     0],\n",
      "        [    2,    13,     1,  ...,     1, 16704,     3]]), 'attention_mask': tensor([[1, 1, 1,  ..., 0, 0, 0],\n",
      "        [1, 1, 1,  ..., 0, 0, 0],\n",
      "        [1, 1, 1,  ..., 0, 0, 0],\n",
      "        ...,\n",
      "        [1, 1, 1,  ..., 0, 0, 0],\n",
      "        [1, 1, 1,  ..., 0, 0, 0],\n",
      "        [1, 1, 1,  ..., 1, 1, 1]])}\n",
      "{'label': tensor([0, 0, 1, 1, 0, 0, 0, 1, 0, 0, 1, 1, 0, 1, 0, 0]), 'input_ids': tensor([[ 2, 13,  1,  ...,  0,  0,  0],\n",
      "        [ 2, 13,  1,  ...,  0,  0,  0],\n",
      "        [ 2, 13,  1,  ...,  0,  0,  0],\n",
      "        ...,\n",
      "        [ 2, 13,  1,  ...,  0,  0,  0],\n",
      "        [ 2, 13,  1,  ...,  0,  0,  0],\n",
      "        [ 2, 13,  1,  ...,  0,  0,  0]]), 'attention_mask': tensor([[1, 1, 1,  ..., 0, 0, 0],\n",
      "        [1, 1, 1,  ..., 0, 0, 0],\n",
      "        [1, 1, 1,  ..., 0, 0, 0],\n",
      "        ...,\n",
      "        [1, 1, 1,  ..., 0, 0, 0],\n",
      "        [1, 1, 1,  ..., 0, 0, 0],\n",
      "        [1, 1, 1,  ..., 0, 0, 0]])}\n",
      "{'label': tensor([1, 1, 0, 0, 0, 1, 1, 0, 0, 1, 0, 1, 0, 0, 0, 1]), 'input_ids': tensor([[  2,  13,   1,  ...,   0,   0,   0],\n",
      "        [  2,  13,   1,  ...,   0,   0,   0],\n",
      "        [  2,  13,   1,  ...,   0,   0,   0],\n",
      "        ...,\n",
      "        [  2,  13,   1,  ...,   0,   0,   0],\n",
      "        [  2,  13,   1,  ...,   0,   0,   0],\n",
      "        [  2, 279, 263,  ...,   0,   0,   0]]), 'attention_mask': tensor([[1, 1, 1,  ..., 0, 0, 0],\n",
      "        [1, 1, 1,  ..., 0, 0, 0],\n",
      "        [1, 1, 1,  ..., 0, 0, 0],\n",
      "        ...,\n",
      "        [1, 1, 1,  ..., 0, 0, 0],\n",
      "        [1, 1, 1,  ..., 0, 0, 0],\n",
      "        [1, 1, 1,  ..., 0, 0, 0]])}\n",
      "{'label': tensor([1, 0, 1, 0, 0, 0, 1, 1, 0, 0, 0, 0, 0, 0, 0, 0]), 'input_ids': tensor([[    2,    13,     1,  ...,     0,     0,     0],\n",
      "        [    2,    13,     1,  ...,     0,     0,     0],\n",
      "        [    2,    13,     1,  ...,     0,     0,     0],\n",
      "        ...,\n",
      "        [    2,    13,     1,  ...,     0,     0,     0],\n",
      "        [    2,    13,     1,  ...,     0,     0,     0],\n",
      "        [    2,  2754, 20512,  ...,     0,     0,     0]]), 'attention_mask': tensor([[1, 1, 1,  ..., 0, 0, 0],\n",
      "        [1, 1, 1,  ..., 0, 0, 0],\n",
      "        [1, 1, 1,  ..., 0, 0, 0],\n",
      "        ...,\n",
      "        [1, 1, 1,  ..., 0, 0, 0],\n",
      "        [1, 1, 1,  ..., 0, 0, 0],\n",
      "        [1, 1, 1,  ..., 0, 0, 0]])}\n",
      "{'label': tensor([1, 1, 1, 0, 0, 0, 0, 0, 1, 0, 1, 0, 0, 0, 0, 1]), 'input_ids': tensor([[ 2, 13,  1,  ...,  0,  0,  0],\n",
      "        [ 2, 13,  1,  ...,  0,  0,  0],\n",
      "        [ 2, 13,  1,  ...,  0,  0,  0],\n",
      "        ...,\n",
      "        [ 2, 13,  1,  ...,  0,  0,  0],\n",
      "        [ 2, 13,  1,  ...,  0,  0,  0],\n",
      "        [ 2, 13,  1,  ...,  0,  0,  0]]), 'attention_mask': tensor([[1, 1, 1,  ..., 0, 0, 0],\n",
      "        [1, 1, 1,  ..., 0, 0, 0],\n",
      "        [1, 1, 1,  ..., 0, 0, 0],\n",
      "        ...,\n",
      "        [1, 1, 1,  ..., 0, 0, 0],\n",
      "        [1, 1, 1,  ..., 0, 0, 0],\n",
      "        [1, 1, 1,  ..., 0, 0, 0]])}\n",
      "{'label': tensor([1, 0, 0, 0, 0, 1, 0, 1, 1, 1, 0, 0, 0, 0, 0, 1]), 'input_ids': tensor([[   2,   13,    1,  ...,    0,    0,    0],\n",
      "        [   2,   13,    1,  ...,    0,    0,    0],\n",
      "        [   2,  172,  395,  ...,    0,    0,    0],\n",
      "        ...,\n",
      "        [   2,   13,    1,  ...,    0,    0,    0],\n",
      "        [   2,   13,    1,  ...,    0,    0,    0],\n",
      "        [   2, 6926, 1714,  ...,    0,    0,    0]]), 'attention_mask': tensor([[1, 1, 1,  ..., 0, 0, 0],\n",
      "        [1, 1, 1,  ..., 0, 0, 0],\n",
      "        [1, 1, 1,  ..., 0, 0, 0],\n",
      "        ...,\n",
      "        [1, 1, 1,  ..., 0, 0, 0],\n",
      "        [1, 1, 1,  ..., 0, 0, 0],\n",
      "        [1, 1, 1,  ..., 0, 0, 0]])}\n",
      "{'label': tensor([0, 0, 0, 0, 1, 0, 0, 1, 0, 0, 0, 0, 1, 0, 0, 0]), 'input_ids': tensor([[ 2, 13,  1,  ...,  0,  0,  0],\n",
      "        [ 2, 13,  1,  ...,  0,  0,  0],\n",
      "        [ 2, 13,  1,  ...,  0,  0,  0],\n",
      "        ...,\n",
      "        [ 2, 13,  1,  ...,  0,  0,  0],\n",
      "        [ 2, 13,  1,  ...,  0,  0,  0],\n",
      "        [ 2, 13,  1,  ...,  0,  0,  0]]), 'attention_mask': tensor([[1, 1, 1,  ..., 0, 0, 0],\n",
      "        [1, 1, 1,  ..., 0, 0, 0],\n",
      "        [1, 1, 1,  ..., 0, 0, 0],\n",
      "        ...,\n",
      "        [1, 1, 1,  ..., 0, 0, 0],\n",
      "        [1, 1, 1,  ..., 0, 0, 0],\n",
      "        [1, 1, 1,  ..., 0, 0, 0]])}\n",
      "{'label': tensor([0, 1, 0, 1, 0, 0, 0, 1, 0, 1, 0, 0, 1, 1, 0, 0]), 'input_ids': tensor([[   2,   13,    1,  ...,    0,    0,    0],\n",
      "        [   2,   13,    1,  ...,    0,    0,    0],\n",
      "        [   2,   13,    1,  ...,    0,    0,    0],\n",
      "        ...,\n",
      "        [   2,   13,    1,  ...,    0,    0,    0],\n",
      "        [   2, 7095, 1864,  ...,    0,    0,    0],\n",
      "        [   2,   13,    1,  ...,    0,    0,    0]]), 'attention_mask': tensor([[1, 1, 1,  ..., 0, 0, 0],\n",
      "        [1, 1, 1,  ..., 0, 0, 0],\n",
      "        [1, 1, 1,  ..., 0, 0, 0],\n",
      "        ...,\n",
      "        [1, 1, 1,  ..., 0, 0, 0],\n",
      "        [1, 1, 1,  ..., 0, 0, 0],\n",
      "        [1, 1, 1,  ..., 0, 0, 0]])}\n",
      "{'label': tensor([0, 1, 0, 0, 0, 0, 1, 0, 1, 0, 0, 0, 0, 1, 0, 0]), 'input_ids': tensor([[   2, 6926, 2906,  ...,    0,    0,    0],\n",
      "        [   2,   13,    1,  ...,    0,    0,    0],\n",
      "        [   2,   13,    1,  ...,    0,    0,    0],\n",
      "        ...,\n",
      "        [   2,   13,    1,  ...,    0,    0,    0],\n",
      "        [   2,   13,    1,  ...,    0,    0,    0],\n",
      "        [   2,   13,    1,  ...,    0,    0,    0]]), 'attention_mask': tensor([[1, 1, 1,  ..., 0, 0, 0],\n",
      "        [1, 1, 1,  ..., 0, 0, 0],\n",
      "        [1, 1, 1,  ..., 0, 0, 0],\n",
      "        ...,\n",
      "        [1, 1, 1,  ..., 0, 0, 0],\n",
      "        [1, 1, 1,  ..., 0, 0, 0],\n",
      "        [1, 1, 1,  ..., 0, 0, 0]])}\n",
      "{'label': tensor([1, 0, 0, 1, 1, 0, 1, 0, 1, 1, 1, 0, 1, 1, 0, 0]), 'input_ids': tensor([[ 2, 13,  1,  ...,  0,  0,  0],\n",
      "        [ 2, 13,  1,  ...,  0,  0,  0],\n",
      "        [ 2, 13,  1,  ...,  0,  0,  0],\n",
      "        ...,\n",
      "        [ 2, 13,  1,  ...,  0,  0,  0],\n",
      "        [ 2, 13,  1,  ...,  0,  0,  0],\n",
      "        [ 2, 13,  1,  ...,  0,  0,  0]]), 'attention_mask': tensor([[1, 1, 1,  ..., 0, 0, 0],\n",
      "        [1, 1, 1,  ..., 0, 0, 0],\n",
      "        [1, 1, 1,  ..., 0, 0, 0],\n",
      "        ...,\n",
      "        [1, 1, 1,  ..., 0, 0, 0],\n",
      "        [1, 1, 1,  ..., 0, 0, 0],\n",
      "        [1, 1, 1,  ..., 0, 0, 0]])}\n",
      "{'label': tensor([1, 0, 0, 0, 0, 0, 0, 1, 0, 0, 1, 0, 1, 0, 0, 0]), 'input_ids': tensor([[ 2, 13,  1,  ...,  0,  0,  0],\n",
      "        [ 2, 13,  1,  ...,  0,  0,  0],\n",
      "        [ 2, 13,  1,  ...,  0,  0,  0],\n",
      "        ...,\n",
      "        [ 2, 13,  1,  ...,  0,  0,  0],\n",
      "        [ 2, 13,  1,  ...,  0,  0,  0],\n",
      "        [ 2, 13,  1,  ...,  0,  0,  0]]), 'attention_mask': tensor([[1, 1, 1,  ..., 0, 0, 0],\n",
      "        [1, 1, 1,  ..., 0, 0, 0],\n",
      "        [1, 1, 1,  ..., 0, 0, 0],\n",
      "        ...,\n",
      "        [1, 1, 1,  ..., 0, 0, 0],\n",
      "        [1, 1, 1,  ..., 0, 0, 0],\n",
      "        [1, 1, 1,  ..., 0, 0, 0]])}\n",
      "{'label': tensor([0, 0, 1, 1, 0, 0, 0, 0, 0, 0, 0, 0, 1, 0, 0, 0]), 'input_ids': tensor([[   2,   17,   48,  ...,    0,    0,    0],\n",
      "        [   2,   13,    1,  ...,    0,    0,    0],\n",
      "        [   2,   13,    1,  ...,    0,    0,    0],\n",
      "        ...,\n",
      "        [   2, 6926, 8842,  ...,    0,    0,    0],\n",
      "        [   2, 7095,   25,  ...,    0,    0,    0],\n",
      "        [   2,   13,    1,  ...,    0,    0,    0]]), 'attention_mask': tensor([[1, 1, 1,  ..., 0, 0, 0],\n",
      "        [1, 1, 1,  ..., 0, 0, 0],\n",
      "        [1, 1, 1,  ..., 0, 0, 0],\n",
      "        ...,\n",
      "        [1, 1, 1,  ..., 0, 0, 0],\n",
      "        [1, 1, 1,  ..., 0, 0, 0],\n",
      "        [1, 1, 1,  ..., 0, 0, 0]])}\n",
      "{'label': tensor([1, 1, 0, 0, 1, 0, 1, 0, 0, 1, 1, 1, 1, 0, 0, 0]), 'input_ids': tensor([[   2,   13,    1,  ...,    0,    0,    0],\n",
      "        [   2,   13,    1,  ...,    0,    0,    0],\n",
      "        [   2,   13,    1,  ...,    0,    0,    0],\n",
      "        ...,\n",
      "        [   2,   13,    1,  ...,    0,    0,    0],\n",
      "        [   2, 1637,   18,  ...,    0,    0,    0],\n",
      "        [   2,   13,    1,  ...,    0,    0,    0]]), 'attention_mask': tensor([[1, 1, 1,  ..., 0, 0, 0],\n",
      "        [1, 1, 1,  ..., 0, 0, 0],\n",
      "        [1, 1, 1,  ..., 0, 0, 0],\n",
      "        ...,\n",
      "        [1, 1, 1,  ..., 0, 0, 0],\n",
      "        [1, 1, 1,  ..., 0, 0, 0],\n",
      "        [1, 1, 1,  ..., 0, 0, 0]])}\n",
      "{'label': tensor([1, 0, 1, 0, 1, 1, 1, 0, 0, 0, 0, 0, 0, 1, 0, 0]), 'input_ids': tensor([[ 2, 13,  1,  ...,  0,  0,  0],\n",
      "        [ 2, 13,  1,  ...,  0,  0,  0],\n",
      "        [ 2, 13,  1,  ...,  0,  0,  0],\n",
      "        ...,\n",
      "        [ 2, 13,  1,  ...,  0,  0,  0],\n",
      "        [ 2, 13,  1,  ...,  0,  0,  0],\n",
      "        [ 2, 13,  1,  ...,  0,  0,  0]]), 'attention_mask': tensor([[1, 1, 1,  ..., 0, 0, 0],\n",
      "        [1, 1, 1,  ..., 0, 0, 0],\n",
      "        [1, 1, 1,  ..., 0, 0, 0],\n",
      "        ...,\n",
      "        [1, 1, 1,  ..., 0, 0, 0],\n",
      "        [1, 1, 1,  ..., 0, 0, 0],\n",
      "        [1, 1, 1,  ..., 0, 0, 0]])}\n",
      "{'label': tensor([0, 1, 1, 0, 0, 0, 1, 0, 0, 1, 0, 0, 1, 0, 0, 0]), 'input_ids': tensor([[   2,   13,    1,  ...,    0,    0,    0],\n",
      "        [   2,   13,    1,  ...,    0,    0,    0],\n",
      "        [   2,   13,    1,  ...,    0,    0,    0],\n",
      "        ...,\n",
      "        [   2,   13,    1,  ...,    0,    0,    0],\n",
      "        [   2, 6926, 3817,  ...,    0,    0,    0],\n",
      "        [   2,   13,    1,  ...,    0,    0,    0]]), 'attention_mask': tensor([[1, 1, 1,  ..., 0, 0, 0],\n",
      "        [1, 1, 1,  ..., 0, 0, 0],\n",
      "        [1, 1, 1,  ..., 0, 0, 0],\n",
      "        ...,\n",
      "        [1, 1, 1,  ..., 0, 0, 0],\n",
      "        [1, 1, 1,  ..., 0, 0, 0],\n",
      "        [1, 1, 1,  ..., 0, 0, 0]])}\n",
      "{'label': tensor([1, 0, 0, 0, 1, 1, 0, 0, 0, 0, 0, 0, 0, 0, 1, 0]), 'input_ids': tensor([[ 2, 13,  1,  ...,  0,  0,  0],\n",
      "        [ 2, 13,  1,  ...,  0,  0,  0],\n",
      "        [ 2, 13,  1,  ...,  0,  0,  0],\n",
      "        ...,\n",
      "        [ 2, 13,  1,  ...,  0,  0,  0],\n",
      "        [ 2, 13,  1,  ...,  0,  0,  0],\n",
      "        [ 2, 13,  1,  ...,  0,  0,  0]]), 'attention_mask': tensor([[1, 1, 1,  ..., 0, 0, 0],\n",
      "        [1, 1, 1,  ..., 0, 0, 0],\n",
      "        [1, 1, 1,  ..., 0, 0, 0],\n",
      "        ...,\n",
      "        [1, 1, 1,  ..., 0, 0, 0],\n",
      "        [1, 1, 1,  ..., 0, 0, 0],\n",
      "        [1, 1, 1,  ..., 0, 0, 0]])}\n",
      "{'label': tensor([0, 0, 0, 0, 0, 1, 0, 0, 0, 0, 0, 0, 0, 0, 0, 0]), 'input_ids': tensor([[    2,    13,     1,  ...,     0,     0,     0],\n",
      "        [    2,    13,     1,  ...,     0,     0,     0],\n",
      "        [    2,    13,     1,  ...,     0,     0,     0],\n",
      "        ...,\n",
      "        [    2,    13,     1,  ...,     1, 16704,     3],\n",
      "        [    2,    13,     1,  ...,     0,     0,     0],\n",
      "        [    2,    13,     1,  ...,     0,     0,     0]]), 'attention_mask': tensor([[1, 1, 1,  ..., 0, 0, 0],\n",
      "        [1, 1, 1,  ..., 0, 0, 0],\n",
      "        [1, 1, 1,  ..., 0, 0, 0],\n",
      "        ...,\n",
      "        [1, 1, 1,  ..., 1, 1, 1],\n",
      "        [1, 1, 1,  ..., 0, 0, 0],\n",
      "        [1, 1, 1,  ..., 0, 0, 0]])}\n",
      "{'label': tensor([0, 0, 1, 0, 0, 0, 1, 0, 0, 0, 1, 0, 0, 1, 0, 0]), 'input_ids': tensor([[ 2, 13,  1,  ...,  0,  0,  0],\n",
      "        [ 2, 98, 21,  ...,  0,  0,  0],\n",
      "        [ 2, 13,  1,  ...,  0,  0,  0],\n",
      "        ...,\n",
      "        [ 2, 13,  1,  ...,  0,  0,  0],\n",
      "        [ 2, 13,  1,  ...,  0,  0,  0],\n",
      "        [ 2, 13,  1,  ...,  0,  0,  0]]), 'attention_mask': tensor([[1, 1, 1,  ..., 0, 0, 0],\n",
      "        [1, 1, 1,  ..., 0, 0, 0],\n",
      "        [1, 1, 1,  ..., 0, 0, 0],\n",
      "        ...,\n",
      "        [1, 1, 1,  ..., 0, 0, 0],\n",
      "        [1, 1, 1,  ..., 0, 0, 0],\n",
      "        [1, 1, 1,  ..., 0, 0, 0]])}\n",
      "{'label': tensor([0, 0, 0, 1, 0, 0, 1, 0, 0, 0, 0, 0, 0, 1, 1, 0]), 'input_ids': tensor([[  2,  13,   1,  ...,   0,   0,   0],\n",
      "        [  2, 331,  16,  ...,   0,   0,   0],\n",
      "        [  2,  13,   1,  ...,   0,   0,   0],\n",
      "        ...,\n",
      "        [  2,  13,   1,  ...,   0,   0,   0],\n",
      "        [  2,  13,   1,  ...,   0,   0,   0],\n",
      "        [  2,  13,   1,  ...,   0,   0,   0]]), 'attention_mask': tensor([[1, 1, 1,  ..., 0, 0, 0],\n",
      "        [1, 1, 1,  ..., 0, 0, 0],\n",
      "        [1, 1, 1,  ..., 0, 0, 0],\n",
      "        ...,\n",
      "        [1, 1, 1,  ..., 0, 0, 0],\n",
      "        [1, 1, 1,  ..., 0, 0, 0],\n",
      "        [1, 1, 1,  ..., 0, 0, 0]])}\n",
      "{'label': tensor([0, 0, 1, 1, 0, 0, 1, 0, 1, 1, 0, 0, 0, 0, 1, 0]), 'input_ids': tensor([[ 2, 13,  1,  ...,  0,  0,  0],\n",
      "        [ 2, 13,  1,  ...,  0,  0,  0],\n",
      "        [ 2, 13,  1,  ...,  0,  0,  0],\n",
      "        ...,\n",
      "        [ 2, 13,  1,  ...,  0,  0,  0],\n",
      "        [ 2, 13,  1,  ...,  0,  0,  0],\n",
      "        [ 2, 13,  1,  ...,  0,  0,  0]]), 'attention_mask': tensor([[1, 1, 1,  ..., 0, 0, 0],\n",
      "        [1, 1, 1,  ..., 0, 0, 0],\n",
      "        [1, 1, 1,  ..., 0, 0, 0],\n",
      "        ...,\n",
      "        [1, 1, 1,  ..., 0, 0, 0],\n",
      "        [1, 1, 1,  ..., 0, 0, 0],\n",
      "        [1, 1, 1,  ..., 0, 0, 0]])}\n",
      "{'label': tensor([0, 0, 0, 1, 0, 1, 0, 1, 0, 0, 0, 0, 0, 0, 0, 1]), 'input_ids': tensor([[  2,  13,   1,  ...,   0,   0,   0],\n",
      "        [  2,  13,   1,  ...,   0,   0,   0],\n",
      "        [  2,  13,   1,  ...,   0,   0,   0],\n",
      "        ...,\n",
      "        [  2,  13,   1,  ...,   0,   0,   0],\n",
      "        [  2, 235,  22,  ...,   0,   0,   0],\n",
      "        [  2,  13,   9,  ...,   0,   0,   0]]), 'attention_mask': tensor([[1, 1, 1,  ..., 0, 0, 0],\n",
      "        [1, 1, 1,  ..., 0, 0, 0],\n",
      "        [1, 1, 1,  ..., 0, 0, 0],\n",
      "        ...,\n",
      "        [1, 1, 1,  ..., 0, 0, 0],\n",
      "        [1, 1, 1,  ..., 0, 0, 0],\n",
      "        [1, 1, 1,  ..., 0, 0, 0]])}\n",
      "{'label': tensor([0, 0, 1, 0, 1, 0, 1, 0, 1, 1, 0, 1, 1, 1, 1, 0]), 'input_ids': tensor([[ 2, 13,  1,  ...,  0,  0,  0],\n",
      "        [ 2, 13,  1,  ...,  0,  0,  0],\n",
      "        [ 2, 13,  1,  ...,  0,  0,  0],\n",
      "        ...,\n",
      "        [ 2, 13,  1,  ...,  0,  0,  0],\n",
      "        [ 2, 13,  1,  ...,  0,  0,  0],\n",
      "        [ 2, 13,  1,  ...,  0,  0,  0]]), 'attention_mask': tensor([[1, 1, 1,  ..., 0, 0, 0],\n",
      "        [1, 1, 1,  ..., 0, 0, 0],\n",
      "        [1, 1, 1,  ..., 0, 0, 0],\n",
      "        ...,\n",
      "        [1, 1, 1,  ..., 0, 0, 0],\n",
      "        [1, 1, 1,  ..., 0, 0, 0],\n",
      "        [1, 1, 1,  ..., 0, 0, 0]])}\n",
      "{'label': tensor([0, 0, 1, 0, 0, 0, 0, 1, 1, 0, 1, 1, 0, 0, 1, 0]), 'input_ids': tensor([[ 2, 13,  1,  ...,  0,  0,  0],\n",
      "        [ 2, 13,  1,  ...,  0,  0,  0],\n",
      "        [ 2, 13,  1,  ...,  0,  0,  0],\n",
      "        ...,\n",
      "        [ 2, 13,  1,  ...,  0,  0,  0],\n",
      "        [ 2, 13,  1,  ...,  0,  0,  0],\n",
      "        [ 2, 13,  1,  ...,  0,  0,  0]]), 'attention_mask': tensor([[1, 1, 1,  ..., 0, 0, 0],\n",
      "        [1, 1, 1,  ..., 0, 0, 0],\n",
      "        [1, 1, 1,  ..., 0, 0, 0],\n",
      "        ...,\n",
      "        [1, 1, 1,  ..., 0, 0, 0],\n",
      "        [1, 1, 1,  ..., 0, 0, 0],\n",
      "        [1, 1, 1,  ..., 0, 0, 0]])}\n",
      "{'label': tensor([0, 0, 0, 0, 1, 0, 1, 1, 0, 0, 0, 0, 0, 0, 1, 1]), 'input_ids': tensor([[ 2, 13,  1,  ...,  0,  0,  0],\n",
      "        [ 2, 13,  1,  ...,  0,  0,  0],\n",
      "        [ 2, 13,  1,  ...,  0,  0,  0],\n",
      "        ...,\n",
      "        [ 2, 13,  1,  ...,  0,  0,  0],\n",
      "        [ 2, 13,  1,  ...,  0,  0,  0],\n",
      "        [ 2, 13,  1,  ...,  0,  0,  0]]), 'attention_mask': tensor([[1, 1, 1,  ..., 0, 0, 0],\n",
      "        [1, 1, 1,  ..., 0, 0, 0],\n",
      "        [1, 1, 1,  ..., 0, 0, 0],\n",
      "        ...,\n",
      "        [1, 1, 1,  ..., 0, 0, 0],\n",
      "        [1, 1, 1,  ..., 0, 0, 0],\n",
      "        [1, 1, 1,  ..., 0, 0, 0]])}\n",
      "{'label': tensor([0, 1, 1, 1, 0, 0, 0, 0, 0, 1, 0, 0, 1, 1, 1, 1]), 'input_ids': tensor([[ 2, 13,  1,  ...,  0,  0,  0],\n",
      "        [ 2, 13,  1,  ...,  0,  0,  0],\n",
      "        [ 2, 13,  1,  ...,  0,  0,  0],\n",
      "        ...,\n",
      "        [ 2, 13,  1,  ...,  0,  0,  0],\n",
      "        [ 2, 13,  1,  ...,  0,  0,  0],\n",
      "        [ 2, 13,  1,  ...,  0,  0,  0]]), 'attention_mask': tensor([[1, 1, 1,  ..., 0, 0, 0],\n",
      "        [1, 1, 1,  ..., 0, 0, 0],\n",
      "        [1, 1, 1,  ..., 0, 0, 0],\n",
      "        ...,\n",
      "        [1, 1, 1,  ..., 0, 0, 0],\n",
      "        [1, 1, 1,  ..., 0, 0, 0],\n",
      "        [1, 1, 1,  ..., 0, 0, 0]])}\n",
      "{'label': tensor([0, 0, 0, 1, 1, 0, 0, 1, 0, 1, 0, 0, 0, 0, 0, 0]), 'input_ids': tensor([[ 2, 13,  1,  ...,  0,  0,  0],\n",
      "        [ 2, 13,  1,  ...,  0,  0,  0],\n",
      "        [ 2, 13,  1,  ...,  0,  0,  0],\n",
      "        ...,\n",
      "        [ 2, 13,  1,  ...,  0,  0,  0],\n",
      "        [ 2, 13,  1,  ...,  0,  0,  0],\n",
      "        [ 2, 13,  1,  ...,  0,  0,  0]]), 'attention_mask': tensor([[1, 1, 1,  ..., 0, 0, 0],\n",
      "        [1, 1, 1,  ..., 0, 0, 0],\n",
      "        [1, 1, 1,  ..., 0, 0, 0],\n",
      "        ...,\n",
      "        [1, 1, 1,  ..., 0, 0, 0],\n",
      "        [1, 1, 1,  ..., 0, 0, 0],\n",
      "        [1, 1, 1,  ..., 0, 0, 0]])}\n",
      "{'label': tensor([0, 0, 0, 0, 0, 0, 0, 0, 0, 0, 1, 1, 1, 1, 0, 1]), 'input_ids': tensor([[ 2, 13,  1,  ...,  0,  0,  0],\n",
      "        [ 2, 13,  1,  ...,  0,  0,  0],\n",
      "        [ 2, 13,  1,  ...,  0,  0,  0],\n",
      "        ...,\n",
      "        [ 2, 13,  1,  ...,  0,  0,  0],\n",
      "        [ 2, 13,  1,  ...,  0,  0,  0],\n",
      "        [ 2, 13,  1,  ...,  0,  0,  0]]), 'attention_mask': tensor([[1, 1, 1,  ..., 0, 0, 0],\n",
      "        [1, 1, 1,  ..., 0, 0, 0],\n",
      "        [1, 1, 1,  ..., 0, 0, 0],\n",
      "        ...,\n",
      "        [1, 1, 1,  ..., 0, 0, 0],\n",
      "        [1, 1, 1,  ..., 0, 0, 0],\n",
      "        [1, 1, 1,  ..., 0, 0, 0]])}\n",
      "{'label': tensor([0, 1, 0, 0, 0, 0, 0, 1, 0, 1, 0, 1, 0, 0, 0, 0]), 'input_ids': tensor([[ 2, 13,  1,  ...,  0,  0,  0],\n",
      "        [ 2, 13,  1,  ...,  0,  0,  0],\n",
      "        [ 2, 13,  1,  ...,  0,  0,  0],\n",
      "        ...,\n",
      "        [ 2, 13,  1,  ...,  0,  0,  0],\n",
      "        [ 2, 13,  1,  ...,  0,  0,  0],\n",
      "        [ 2, 13,  1,  ...,  0,  0,  0]]), 'attention_mask': tensor([[1, 1, 1,  ..., 0, 0, 0],\n",
      "        [1, 1, 1,  ..., 0, 0, 0],\n",
      "        [1, 1, 1,  ..., 0, 0, 0],\n",
      "        ...,\n",
      "        [1, 1, 1,  ..., 0, 0, 0],\n",
      "        [1, 1, 1,  ..., 0, 0, 0],\n",
      "        [1, 1, 1,  ..., 0, 0, 0]])}\n",
      "{'label': tensor([0, 0, 1, 0, 0, 1, 1, 0, 1, 0, 0, 0, 0, 0, 0, 0]), 'input_ids': tensor([[    2,    13,     1,  ...,     0,     0,     0],\n",
      "        [    2,    21, 10681,  ...,     0,     0,     0],\n",
      "        [    2,    13,     1,  ...,     0,     0,     0],\n",
      "        ...,\n",
      "        [    2,    13,     1,  ...,     0,     0,     0],\n",
      "        [    2,    13,     1,  ...,     0,     0,     0],\n",
      "        [    2,    13,     1,  ...,     0,     0,     0]]), 'attention_mask': tensor([[1, 1, 1,  ..., 0, 0, 0],\n",
      "        [1, 1, 1,  ..., 0, 0, 0],\n",
      "        [1, 1, 1,  ..., 0, 0, 0],\n",
      "        ...,\n",
      "        [1, 1, 1,  ..., 0, 0, 0],\n",
      "        [1, 1, 1,  ..., 0, 0, 0],\n",
      "        [1, 1, 1,  ..., 0, 0, 0]])}\n",
      "{'label': tensor([0, 0, 0, 1, 0, 1, 1, 0, 0, 0, 1, 0, 0, 1, 0, 0]), 'input_ids': tensor([[ 2, 13,  1,  ...,  0,  0,  0],\n",
      "        [ 2, 13,  1,  ...,  0,  0,  0],\n",
      "        [ 2, 13,  1,  ...,  0,  0,  0],\n",
      "        ...,\n",
      "        [ 2, 13,  1,  ...,  0,  0,  0],\n",
      "        [ 2, 13,  1,  ...,  0,  0,  0],\n",
      "        [ 2, 13,  1,  ...,  0,  0,  0]]), 'attention_mask': tensor([[1, 1, 1,  ..., 0, 0, 0],\n",
      "        [1, 1, 1,  ..., 0, 0, 0],\n",
      "        [1, 1, 1,  ..., 0, 0, 0],\n",
      "        ...,\n",
      "        [1, 1, 1,  ..., 0, 0, 0],\n",
      "        [1, 1, 1,  ..., 0, 0, 0],\n",
      "        [1, 1, 1,  ..., 0, 0, 0]])}\n",
      "{'label': tensor([1, 1, 0, 0, 0, 0, 0, 0, 0, 0, 0, 0, 0, 0, 1, 0]), 'input_ids': tensor([[ 2, 13,  1,  ...,  0,  0,  0],\n",
      "        [ 2, 13,  1,  ...,  0,  0,  0],\n",
      "        [ 2, 13,  1,  ...,  0,  0,  0],\n",
      "        ...,\n",
      "        [ 2, 13,  1,  ...,  0,  0,  0],\n",
      "        [ 2, 13,  1,  ...,  0,  0,  0],\n",
      "        [ 2, 13,  1,  ...,  0,  0,  0]]), 'attention_mask': tensor([[1, 1, 1,  ..., 0, 0, 0],\n",
      "        [1, 1, 1,  ..., 0, 0, 0],\n",
      "        [1, 1, 1,  ..., 0, 0, 0],\n",
      "        ...,\n",
      "        [1, 1, 1,  ..., 0, 0, 0],\n",
      "        [1, 1, 1,  ..., 0, 0, 0],\n",
      "        [1, 1, 1,  ..., 0, 0, 0]])}\n",
      "{'label': tensor([1, 1, 0, 0, 0, 0, 1, 0, 0, 0, 0, 0, 0, 0, 0, 1]), 'input_ids': tensor([[ 2, 13,  1,  ...,  0,  0,  0],\n",
      "        [ 2, 13,  1,  ...,  0,  0,  0],\n",
      "        [ 2, 13,  1,  ...,  0,  0,  0],\n",
      "        ...,\n",
      "        [ 2, 13,  1,  ...,  0,  0,  0],\n",
      "        [ 2, 13,  1,  ...,  0,  0,  0],\n",
      "        [ 2, 13,  1,  ...,  0,  0,  0]]), 'attention_mask': tensor([[1, 1, 1,  ..., 0, 0, 0],\n",
      "        [1, 1, 1,  ..., 0, 0, 0],\n",
      "        [1, 1, 1,  ..., 0, 0, 0],\n",
      "        ...,\n",
      "        [1, 1, 1,  ..., 0, 0, 0],\n",
      "        [1, 1, 1,  ..., 0, 0, 0],\n",
      "        [1, 1, 1,  ..., 0, 0, 0]])}\n",
      "{'label': tensor([0, 1, 0, 0, 1, 0, 0, 0, 0, 0, 0, 1, 0, 0, 0, 0]), 'input_ids': tensor([[ 2, 13,  1,  ...,  0,  0,  0],\n",
      "        [ 2, 13,  1,  ...,  0,  0,  0],\n",
      "        [ 2, 13,  1,  ...,  0,  0,  0],\n",
      "        ...,\n",
      "        [ 2, 13,  1,  ...,  0,  0,  0],\n",
      "        [ 2, 13,  1,  ...,  0,  0,  0],\n",
      "        [ 2, 13,  1,  ...,  0,  0,  0]]), 'attention_mask': tensor([[1, 1, 1,  ..., 0, 0, 0],\n",
      "        [1, 1, 1,  ..., 0, 0, 0],\n",
      "        [1, 1, 1,  ..., 0, 0, 0],\n",
      "        ...,\n",
      "        [1, 1, 1,  ..., 0, 0, 0],\n",
      "        [1, 1, 1,  ..., 0, 0, 0],\n",
      "        [1, 1, 1,  ..., 0, 0, 0]])}\n",
      "{'label': tensor([1, 0, 1, 1, 1, 0, 0, 1, 0, 0, 0, 1, 0, 0, 0, 0]), 'input_ids': tensor([[ 2, 13,  1,  ...,  0,  0,  0],\n",
      "        [ 2, 13,  1,  ...,  0,  0,  0],\n",
      "        [ 2, 13,  1,  ...,  0,  0,  0],\n",
      "        ...,\n",
      "        [ 2, 13,  1,  ...,  0,  0,  0],\n",
      "        [ 2, 13,  1,  ...,  0,  0,  0],\n",
      "        [ 2, 13,  1,  ...,  0,  0,  0]]), 'attention_mask': tensor([[1, 1, 1,  ..., 0, 0, 0],\n",
      "        [1, 1, 1,  ..., 0, 0, 0],\n",
      "        [1, 1, 1,  ..., 0, 0, 0],\n",
      "        ...,\n",
      "        [1, 1, 1,  ..., 0, 0, 0],\n",
      "        [1, 1, 1,  ..., 0, 0, 0],\n",
      "        [1, 1, 1,  ..., 0, 0, 0]])}\n",
      "{'label': tensor([0, 1, 0, 0, 0, 0, 1, 0, 0, 0, 0, 0, 0, 0, 1, 0]), 'input_ids': tensor([[ 2, 13,  1,  ...,  0,  0,  0],\n",
      "        [ 2, 13,  1,  ...,  0,  0,  0],\n",
      "        [ 2, 13,  1,  ...,  0,  0,  0],\n",
      "        ...,\n",
      "        [ 2, 13,  9,  ...,  0,  0,  0],\n",
      "        [ 2, 13,  1,  ...,  0,  0,  0],\n",
      "        [ 2, 13,  1,  ...,  0,  0,  0]]), 'attention_mask': tensor([[1, 1, 1,  ..., 0, 0, 0],\n",
      "        [1, 1, 1,  ..., 0, 0, 0],\n",
      "        [1, 1, 1,  ..., 0, 0, 0],\n",
      "        ...,\n",
      "        [1, 1, 1,  ..., 0, 0, 0],\n",
      "        [1, 1, 1,  ..., 0, 0, 0],\n",
      "        [1, 1, 1,  ..., 0, 0, 0]])}\n",
      "{'label': tensor([0, 0, 1, 0, 0, 1, 0, 0, 0, 0, 0, 0, 0, 0, 0, 1]), 'input_ids': tensor([[   2,   13,    1,  ...,    0,    0,    0],\n",
      "        [   2,   13, 9280,  ...,    0,    0,    0],\n",
      "        [   2,   13,    1,  ...,    0,    0,    0],\n",
      "        ...,\n",
      "        [   2,   13,    1,  ...,    0,    0,    0],\n",
      "        [   2,   13,    1,  ...,    0,    0,    0],\n",
      "        [   2,   13,    1,  ...,    0,    0,    0]]), 'attention_mask': tensor([[1, 1, 1,  ..., 0, 0, 0],\n",
      "        [1, 1, 1,  ..., 0, 0, 0],\n",
      "        [1, 1, 1,  ..., 0, 0, 0],\n",
      "        ...,\n",
      "        [1, 1, 1,  ..., 0, 0, 0],\n",
      "        [1, 1, 1,  ..., 0, 0, 0],\n",
      "        [1, 1, 1,  ..., 0, 0, 0]])}\n",
      "{'label': tensor([0, 0, 1, 1, 1, 0, 0, 0, 1, 1, 0, 0, 0, 0, 0, 0]), 'input_ids': tensor([[  2,  13,   1,  ...,   0,   0,   0],\n",
      "        [  2,  13,   1,  ...,   0,   0,   0],\n",
      "        [  2,  13,   1,  ...,   0,   0,   0],\n",
      "        ...,\n",
      "        [  2, 162, 306,  ...,   0,   0,   0],\n",
      "        [  2,  13,   1,  ...,   0,   0,   0],\n",
      "        [  2,  13,   1,  ...,   0,   0,   0]]), 'attention_mask': tensor([[1, 1, 1,  ..., 0, 0, 0],\n",
      "        [1, 1, 1,  ..., 0, 0, 0],\n",
      "        [1, 1, 1,  ..., 0, 0, 0],\n",
      "        ...,\n",
      "        [1, 1, 1,  ..., 0, 0, 0],\n",
      "        [1, 1, 1,  ..., 0, 0, 0],\n",
      "        [1, 1, 1,  ..., 0, 0, 0]])}\n",
      "{'label': tensor([1, 0, 1, 0, 0, 1, 0, 1, 1, 1, 0, 1, 0, 0, 0, 0]), 'input_ids': tensor([[ 2, 13,  1,  ...,  0,  0,  0],\n",
      "        [ 2, 13,  1,  ...,  0,  0,  0],\n",
      "        [ 2, 13,  1,  ...,  0,  0,  0],\n",
      "        ...,\n",
      "        [ 2, 13,  1,  ...,  0,  0,  0],\n",
      "        [ 2, 13,  1,  ...,  0,  0,  0],\n",
      "        [ 2, 13,  1,  ...,  0,  0,  0]]), 'attention_mask': tensor([[1, 1, 1,  ..., 0, 0, 0],\n",
      "        [1, 1, 1,  ..., 0, 0, 0],\n",
      "        [1, 1, 1,  ..., 0, 0, 0],\n",
      "        ...,\n",
      "        [1, 1, 1,  ..., 0, 0, 0],\n",
      "        [1, 1, 1,  ..., 0, 0, 0],\n",
      "        [1, 1, 1,  ..., 0, 0, 0]])}\n",
      "{'label': tensor([1, 0, 0, 1, 1, 0, 1, 1, 0, 0, 0, 0, 0, 0, 1, 0]), 'input_ids': tensor([[ 2, 13,  1,  ...,  0,  0,  0],\n",
      "        [ 2, 13,  1,  ...,  0,  0,  0],\n",
      "        [ 2, 13,  1,  ...,  0,  0,  0],\n",
      "        ...,\n",
      "        [ 2, 13,  1,  ...,  0,  0,  0],\n",
      "        [ 2, 13,  1,  ...,  0,  0,  0],\n",
      "        [ 2, 13,  1,  ...,  0,  0,  0]]), 'attention_mask': tensor([[1, 1, 1,  ..., 0, 0, 0],\n",
      "        [1, 1, 1,  ..., 0, 0, 0],\n",
      "        [1, 1, 1,  ..., 0, 0, 0],\n",
      "        ...,\n",
      "        [1, 1, 1,  ..., 0, 0, 0],\n",
      "        [1, 1, 1,  ..., 0, 0, 0],\n",
      "        [1, 1, 1,  ..., 0, 0, 0]])}\n",
      "{'label': tensor([0, 0, 1, 0, 1, 1, 0, 0, 0, 0, 0, 0, 0, 1, 0, 0]), 'input_ids': tensor([[ 2, 13,  1,  ...,  0,  0,  0],\n",
      "        [ 2, 13,  1,  ...,  0,  0,  0],\n",
      "        [ 2, 13,  1,  ...,  0,  0,  0],\n",
      "        ...,\n",
      "        [ 2, 13,  1,  ...,  0,  0,  0],\n",
      "        [ 2, 13,  1,  ...,  0,  0,  0],\n",
      "        [ 2, 13,  1,  ...,  0,  0,  0]]), 'attention_mask': tensor([[1, 1, 1,  ..., 0, 0, 0],\n",
      "        [1, 1, 1,  ..., 0, 0, 0],\n",
      "        [1, 1, 1,  ..., 0, 0, 0],\n",
      "        ...,\n",
      "        [1, 1, 1,  ..., 0, 0, 0],\n",
      "        [1, 1, 1,  ..., 0, 0, 0],\n",
      "        [1, 1, 1,  ..., 0, 0, 0]])}\n",
      "{'label': tensor([0, 0, 0, 1, 1, 0, 1, 1, 0, 0, 0, 0, 0, 1, 0, 0]), 'input_ids': tensor([[ 2, 13,  1,  ...,  0,  0,  0],\n",
      "        [ 2, 13,  1,  ...,  0,  0,  0],\n",
      "        [ 2, 13,  1,  ...,  0,  0,  0],\n",
      "        ...,\n",
      "        [ 2, 13,  1,  ...,  0,  0,  0],\n",
      "        [ 2, 13,  1,  ...,  0,  0,  0],\n",
      "        [ 2, 13,  1,  ...,  0,  0,  0]]), 'attention_mask': tensor([[1, 1, 1,  ..., 0, 0, 0],\n",
      "        [1, 1, 1,  ..., 0, 0, 0],\n",
      "        [1, 1, 1,  ..., 0, 0, 0],\n",
      "        ...,\n",
      "        [1, 1, 1,  ..., 0, 0, 0],\n",
      "        [1, 1, 1,  ..., 0, 0, 0],\n",
      "        [1, 1, 1,  ..., 0, 0, 0]])}\n",
      "{'label': tensor([0, 1, 1, 1, 1, 1, 1, 0, 1, 1, 0, 0, 0, 1, 0, 0]), 'input_ids': tensor([[    2, 28107,     9,  ...,     0,     0,     0],\n",
      "        [    2,    13,     1,  ...,     0,     0,     0],\n",
      "        [    2,   913,    24,  ...,     0,     0,     0],\n",
      "        ...,\n",
      "        [    2,    13,     1,  ...,     0,     0,     0],\n",
      "        [    2,    13,     1,  ...,     0,     0,     0],\n",
      "        [    2,  6926,   262,  ...,     0,     0,     0]]), 'attention_mask': tensor([[1, 1, 1,  ..., 0, 0, 0],\n",
      "        [1, 1, 1,  ..., 0, 0, 0],\n",
      "        [1, 1, 1,  ..., 0, 0, 0],\n",
      "        ...,\n",
      "        [1, 1, 1,  ..., 0, 0, 0],\n",
      "        [1, 1, 1,  ..., 0, 0, 0],\n",
      "        [1, 1, 1,  ..., 0, 0, 0]])}\n",
      "{'label': tensor([0, 0, 0, 0, 1, 1, 1, 0, 0, 1, 1, 0, 0, 0, 0, 0]), 'input_ids': tensor([[ 2, 13,  1,  ...,  0,  0,  0],\n",
      "        [ 2, 13,  1,  ...,  0,  0,  0],\n",
      "        [ 2, 13,  1,  ...,  0,  0,  0],\n",
      "        ...,\n",
      "        [ 2, 13,  1,  ...,  0,  0,  0],\n",
      "        [ 2, 13,  1,  ...,  0,  0,  0],\n",
      "        [ 2, 13,  1,  ...,  0,  0,  0]]), 'attention_mask': tensor([[1, 1, 1,  ..., 0, 0, 0],\n",
      "        [1, 1, 1,  ..., 0, 0, 0],\n",
      "        [1, 1, 1,  ..., 0, 0, 0],\n",
      "        ...,\n",
      "        [1, 1, 1,  ..., 0, 0, 0],\n",
      "        [1, 1, 1,  ..., 0, 0, 0],\n",
      "        [1, 1, 1,  ..., 0, 0, 0]])}\n",
      "{'label': tensor([0, 0, 0, 0, 0, 0, 1, 0, 1, 0, 0, 0, 0, 0, 0, 0]), 'input_ids': tensor([[  2,  13,   1,  ...,   0,   0,   0],\n",
      "        [  2,  13,   1,  ...,   0,   0,   0],\n",
      "        [  2,  13,   1,  ...,   0,   0,   0],\n",
      "        ...,\n",
      "        [  2, 172,   9,  ...,   0,   0,   0],\n",
      "        [  2,  13,   1,  ...,   0,   0,   0],\n",
      "        [  2,  13,   1,  ...,   0,   0,   0]]), 'attention_mask': tensor([[1, 1, 1,  ..., 0, 0, 0],\n",
      "        [1, 1, 1,  ..., 0, 0, 0],\n",
      "        [1, 1, 1,  ..., 0, 0, 0],\n",
      "        ...,\n",
      "        [1, 1, 1,  ..., 0, 0, 0],\n",
      "        [1, 1, 1,  ..., 0, 0, 0],\n",
      "        [1, 1, 1,  ..., 0, 0, 0]])}\n",
      "{'label': tensor([1, 1, 1, 0, 1, 0, 1, 0, 0, 0, 0, 0, 0, 1, 0, 1]), 'input_ids': tensor([[    2,    13,     1,  ...,     0,     0,     0],\n",
      "        [    2,    13,     1,  ...,     1, 16704,     3],\n",
      "        [    2,    13,     1,  ...,     0,     0,     0],\n",
      "        ...,\n",
      "        [    2,    13,     1,  ...,     0,     0,     0],\n",
      "        [    2,    13,     1,  ...,     0,     0,     0],\n",
      "        [    2,    13,     1,  ...,     0,     0,     0]]), 'attention_mask': tensor([[1, 1, 1,  ..., 0, 0, 0],\n",
      "        [1, 1, 1,  ..., 1, 1, 1],\n",
      "        [1, 1, 1,  ..., 0, 0, 0],\n",
      "        ...,\n",
      "        [1, 1, 1,  ..., 0, 0, 0],\n",
      "        [1, 1, 1,  ..., 0, 0, 0],\n",
      "        [1, 1, 1,  ..., 0, 0, 0]])}\n",
      "{'label': tensor([1, 1, 0, 0, 1, 0, 0, 0, 0, 0, 0, 0, 1, 0, 1, 0]), 'input_ids': tensor([[ 2, 13,  1,  ...,  0,  0,  0],\n",
      "        [ 2, 13,  1,  ...,  0,  0,  0],\n",
      "        [ 2, 13,  1,  ...,  0,  0,  0],\n",
      "        ...,\n",
      "        [ 2, 13,  1,  ...,  0,  0,  0],\n",
      "        [ 2, 13,  1,  ...,  0,  0,  0],\n",
      "        [ 2, 13,  1,  ...,  0,  0,  0]]), 'attention_mask': tensor([[1, 1, 1,  ..., 0, 0, 0],\n",
      "        [1, 1, 1,  ..., 0, 0, 0],\n",
      "        [1, 1, 1,  ..., 0, 0, 0],\n",
      "        ...,\n",
      "        [1, 1, 1,  ..., 0, 0, 0],\n",
      "        [1, 1, 1,  ..., 0, 0, 0],\n",
      "        [1, 1, 1,  ..., 0, 0, 0]])}\n",
      "{'label': tensor([0, 0, 1, 1, 1, 0, 0, 1, 0, 0, 1, 1, 1, 1, 1, 0]), 'input_ids': tensor([[ 2, 13,  1,  ...,  0,  0,  0],\n",
      "        [ 2, 13,  1,  ...,  0,  0,  0],\n",
      "        [ 2, 13,  1,  ...,  0,  0,  0],\n",
      "        ...,\n",
      "        [ 2, 13,  1,  ...,  0,  0,  0],\n",
      "        [ 2, 13,  1,  ...,  0,  0,  0],\n",
      "        [ 2, 13,  1,  ...,  0,  0,  0]]), 'attention_mask': tensor([[1, 1, 1,  ..., 0, 0, 0],\n",
      "        [1, 1, 1,  ..., 0, 0, 0],\n",
      "        [1, 1, 1,  ..., 0, 0, 0],\n",
      "        ...,\n",
      "        [1, 1, 1,  ..., 0, 0, 0],\n",
      "        [1, 1, 1,  ..., 0, 0, 0],\n",
      "        [1, 1, 1,  ..., 0, 0, 0]])}\n",
      "{'label': tensor([0, 0, 0, 0, 0, 0, 0, 0, 0, 0, 0, 1, 1, 1, 1, 0]), 'input_ids': tensor([[ 2, 13,  1,  ...,  0,  0,  0],\n",
      "        [ 2, 13,  1,  ...,  0,  0,  0],\n",
      "        [ 2, 13,  1,  ...,  0,  0,  0],\n",
      "        ...,\n",
      "        [ 2, 13,  1,  ...,  0,  0,  0],\n",
      "        [ 2, 13,  1,  ...,  0,  0,  0],\n",
      "        [ 2, 13,  1,  ...,  0,  0,  0]]), 'attention_mask': tensor([[1, 1, 1,  ..., 0, 0, 0],\n",
      "        [1, 1, 1,  ..., 0, 0, 0],\n",
      "        [1, 1, 1,  ..., 0, 0, 0],\n",
      "        ...,\n",
      "        [1, 1, 1,  ..., 0, 0, 0],\n",
      "        [1, 1, 1,  ..., 0, 0, 0],\n",
      "        [1, 1, 1,  ..., 0, 0, 0]])}\n",
      "{'label': tensor([0, 1, 1, 0, 0, 0, 0, 1, 0, 0, 0, 1, 0, 1, 0, 1]), 'input_ids': tensor([[ 2, 13,  1,  ...,  0,  0,  0],\n",
      "        [ 2, 13,  1,  ...,  0,  0,  0],\n",
      "        [ 2, 13,  1,  ...,  0,  0,  0],\n",
      "        ...,\n",
      "        [ 2, 13,  1,  ...,  0,  0,  0],\n",
      "        [ 2, 13,  1,  ...,  0,  0,  0],\n",
      "        [ 2, 13,  1,  ...,  0,  0,  0]]), 'attention_mask': tensor([[1, 1, 1,  ..., 0, 0, 0],\n",
      "        [1, 1, 1,  ..., 0, 0, 0],\n",
      "        [1, 1, 1,  ..., 0, 0, 0],\n",
      "        ...,\n",
      "        [1, 1, 1,  ..., 0, 0, 0],\n",
      "        [1, 1, 1,  ..., 0, 0, 0],\n",
      "        [1, 1, 1,  ..., 0, 0, 0]])}\n",
      "{'label': tensor([0, 1, 1, 1, 1, 1, 1, 1, 0, 0, 0, 1, 0, 0, 0, 0]), 'input_ids': tensor([[    2,    13,     1,  ...,     0,     0,     0],\n",
      "        [    2,    13,     1,  ...,     0,     0,     0],\n",
      "        [    2,  6926, 28658,  ...,     0,     0,     0],\n",
      "        ...,\n",
      "        [    2,    13,     1,  ...,     0,     0,     0],\n",
      "        [    2,    13,     1,  ...,     0,     0,     0],\n",
      "        [    2,    13,     1,  ...,     0,     0,     0]]), 'attention_mask': tensor([[1, 1, 1,  ..., 0, 0, 0],\n",
      "        [1, 1, 1,  ..., 0, 0, 0],\n",
      "        [1, 1, 1,  ..., 0, 0, 0],\n",
      "        ...,\n",
      "        [1, 1, 1,  ..., 0, 0, 0],\n",
      "        [1, 1, 1,  ..., 0, 0, 0],\n",
      "        [1, 1, 1,  ..., 0, 0, 0]])}\n",
      "{'label': tensor([0, 0, 1, 0, 0, 0, 0, 0, 1, 0, 0, 0, 0, 1, 0, 1]), 'input_ids': tensor([[    2,  6926, 10171,  ...,     0,     0,     0],\n",
      "        [    2,    13,     1,  ...,     0,     0,     0],\n",
      "        [    2,    13,     1,  ...,     0,     0,     0],\n",
      "        ...,\n",
      "        [    2,    13,     1,  ...,     0,     0,     0],\n",
      "        [    2,    13,     1,  ...,     0,     0,     0],\n",
      "        [    2,    13,     1,  ...,     0,     0,     0]]), 'attention_mask': tensor([[1, 1, 1,  ..., 0, 0, 0],\n",
      "        [1, 1, 1,  ..., 0, 0, 0],\n",
      "        [1, 1, 1,  ..., 0, 0, 0],\n",
      "        ...,\n",
      "        [1, 1, 1,  ..., 0, 0, 0],\n",
      "        [1, 1, 1,  ..., 0, 0, 0],\n",
      "        [1, 1, 1,  ..., 0, 0, 0]])}\n",
      "{'label': tensor([0, 1, 1, 1, 0, 0, 1, 0, 0, 0, 1, 0, 0, 1, 1, 0]), 'input_ids': tensor([[ 2, 13,  1,  ...,  0,  0,  0],\n",
      "        [ 2, 13,  1,  ...,  0,  0,  0],\n",
      "        [ 2, 13,  1,  ...,  0,  0,  0],\n",
      "        ...,\n",
      "        [ 2, 13,  1,  ...,  0,  0,  0],\n",
      "        [ 2, 13,  1,  ...,  0,  0,  0],\n",
      "        [ 2, 13,  1,  ...,  0,  0,  0]]), 'attention_mask': tensor([[1, 1, 1,  ..., 0, 0, 0],\n",
      "        [1, 1, 1,  ..., 0, 0, 0],\n",
      "        [1, 1, 1,  ..., 0, 0, 0],\n",
      "        ...,\n",
      "        [1, 1, 1,  ..., 0, 0, 0],\n",
      "        [1, 1, 1,  ..., 0, 0, 0],\n",
      "        [1, 1, 1,  ..., 0, 0, 0]])}\n",
      "{'label': tensor([0, 0, 1, 0, 0, 0, 1, 1, 1, 0, 0, 1, 0, 0, 1, 1]), 'input_ids': tensor([[ 2, 13,  1,  ...,  0,  0,  0],\n",
      "        [ 2, 13,  1,  ...,  0,  0,  0],\n",
      "        [ 2, 13,  1,  ...,  0,  0,  0],\n",
      "        ...,\n",
      "        [ 2, 13,  1,  ...,  0,  0,  0],\n",
      "        [ 2, 13,  1,  ...,  0,  0,  0],\n",
      "        [ 2, 13,  1,  ...,  0,  0,  0]]), 'attention_mask': tensor([[1, 1, 1,  ..., 0, 0, 0],\n",
      "        [1, 1, 1,  ..., 0, 0, 0],\n",
      "        [1, 1, 1,  ..., 0, 0, 0],\n",
      "        ...,\n",
      "        [1, 1, 1,  ..., 0, 0, 0],\n",
      "        [1, 1, 1,  ..., 0, 0, 0],\n",
      "        [1, 1, 1,  ..., 0, 0, 0]])}\n",
      "{'label': tensor([0, 1, 1, 0, 0, 1, 0, 0, 0, 0, 1, 1, 0, 0, 0, 0]), 'input_ids': tensor([[   2,   13,    1,  ...,    0,    0,    0],\n",
      "        [   2,   13,    1,  ...,    0,    0,    0],\n",
      "        [   2,   13,    1,  ...,    0,    0,    0],\n",
      "        ...,\n",
      "        [   2,   13,    1,  ...,    0,    0,    0],\n",
      "        [   2, 2495,   13,  ...,    0,    0,    0],\n",
      "        [   2,   13,    1,  ...,    0,    0,    0]]), 'attention_mask': tensor([[1, 1, 1,  ..., 0, 0, 0],\n",
      "        [1, 1, 1,  ..., 0, 0, 0],\n",
      "        [1, 1, 1,  ..., 0, 0, 0],\n",
      "        ...,\n",
      "        [1, 1, 1,  ..., 0, 0, 0],\n",
      "        [1, 1, 1,  ..., 0, 0, 0],\n",
      "        [1, 1, 1,  ..., 0, 0, 0]])}\n",
      "{'label': tensor([0, 1, 0, 0, 1, 0, 0, 1, 1, 0, 0, 0, 1, 0, 0, 1]), 'input_ids': tensor([[ 2, 13,  1,  ...,  0,  0,  0],\n",
      "        [ 2, 13,  1,  ...,  0,  0,  0],\n",
      "        [ 2, 13,  1,  ...,  0,  0,  0],\n",
      "        ...,\n",
      "        [ 2, 13,  1,  ...,  0,  0,  0],\n",
      "        [ 2, 13,  1,  ...,  0,  0,  0],\n",
      "        [ 2, 13,  1,  ...,  0,  0,  0]]), 'attention_mask': tensor([[1, 1, 1,  ..., 0, 0, 0],\n",
      "        [1, 1, 1,  ..., 0, 0, 0],\n",
      "        [1, 1, 1,  ..., 0, 0, 0],\n",
      "        ...,\n",
      "        [1, 1, 1,  ..., 0, 0, 0],\n",
      "        [1, 1, 1,  ..., 0, 0, 0],\n",
      "        [1, 1, 1,  ..., 0, 0, 0]])}\n",
      "{'label': tensor([0, 0, 0, 1, 0, 1, 0, 0, 0, 1, 0, 1, 0, 1, 1, 1]), 'input_ids': tensor([[ 2, 13,  1,  ...,  0,  0,  0],\n",
      "        [ 2, 13,  1,  ...,  0,  0,  0],\n",
      "        [ 2, 13,  1,  ...,  0,  0,  0],\n",
      "        ...,\n",
      "        [ 2, 13,  1,  ...,  0,  0,  0],\n",
      "        [ 2, 13,  1,  ...,  0,  0,  0],\n",
      "        [ 2, 13,  1,  ...,  0,  0,  0]]), 'attention_mask': tensor([[1, 1, 1,  ..., 0, 0, 0],\n",
      "        [1, 1, 1,  ..., 0, 0, 0],\n",
      "        [1, 1, 1,  ..., 0, 0, 0],\n",
      "        ...,\n",
      "        [1, 1, 1,  ..., 0, 0, 0],\n",
      "        [1, 1, 1,  ..., 0, 0, 0],\n",
      "        [1, 1, 1,  ..., 0, 0, 0]])}\n",
      "{'label': tensor([0, 0, 1, 0, 0, 1, 0, 0, 1, 0, 0, 0, 1, 0, 0, 0]), 'input_ids': tensor([[ 2, 13,  1,  ...,  0,  0,  0],\n",
      "        [ 2, 13,  1,  ...,  0,  0,  0],\n",
      "        [ 2, 13,  1,  ...,  0,  0,  0],\n",
      "        ...,\n",
      "        [ 2, 13,  1,  ...,  0,  0,  0],\n",
      "        [ 2, 13,  1,  ...,  0,  0,  0],\n",
      "        [ 2, 13,  1,  ...,  0,  0,  0]]), 'attention_mask': tensor([[1, 1, 1,  ..., 0, 0, 0],\n",
      "        [1, 1, 1,  ..., 0, 0, 0],\n",
      "        [1, 1, 1,  ..., 0, 0, 0],\n",
      "        ...,\n",
      "        [1, 1, 1,  ..., 0, 0, 0],\n",
      "        [1, 1, 1,  ..., 0, 0, 0],\n",
      "        [1, 1, 1,  ..., 0, 0, 0]])}\n",
      "{'label': tensor([0, 1, 0, 1, 0, 1, 0, 0, 1, 0, 0, 0, 1, 1, 0, 0]), 'input_ids': tensor([[   2, 6926, 3692,  ...,    0,    0,    0],\n",
      "        [   2,   13,    1,  ...,    0,    0,    0],\n",
      "        [   2,   13,    1,  ...,    0,    0,    0],\n",
      "        ...,\n",
      "        [   2,   13,    1,  ...,    0,    0,    0],\n",
      "        [   2,   13,    1,  ...,    0,    0,    0],\n",
      "        [   2,   13,    1,  ...,    0,    0,    0]]), 'attention_mask': tensor([[1, 1, 1,  ..., 0, 0, 0],\n",
      "        [1, 1, 1,  ..., 0, 0, 0],\n",
      "        [1, 1, 1,  ..., 0, 0, 0],\n",
      "        ...,\n",
      "        [1, 1, 1,  ..., 0, 0, 0],\n",
      "        [1, 1, 1,  ..., 0, 0, 0],\n",
      "        [1, 1, 1,  ..., 0, 0, 0]])}\n",
      "{'label': tensor([0, 0, 0, 0, 0, 0, 1, 0, 0, 0, 1, 1, 0, 0, 1, 0]), 'input_ids': tensor([[   2,   13,    1,  ...,    0,    0,    0],\n",
      "        [   2,   13,    1,  ...,    0,    0,    0],\n",
      "        [   2,   13,    1,  ...,    0,    0,    0],\n",
      "        ...,\n",
      "        [   2,   13,    1,  ...,    0,    0,    0],\n",
      "        [   2,   13,    1,  ...,    0,    0,    0],\n",
      "        [   2, 6926, 9407,  ...,    0,    0,    0]]), 'attention_mask': tensor([[1, 1, 1,  ..., 0, 0, 0],\n",
      "        [1, 1, 1,  ..., 0, 0, 0],\n",
      "        [1, 1, 1,  ..., 0, 0, 0],\n",
      "        ...,\n",
      "        [1, 1, 1,  ..., 0, 0, 0],\n",
      "        [1, 1, 1,  ..., 0, 0, 0],\n",
      "        [1, 1, 1,  ..., 0, 0, 0]])}\n",
      "{'label': tensor([1, 0, 1, 0, 0, 0, 1, 1, 0, 1, 0, 0, 0, 1, 1, 1]), 'input_ids': tensor([[    2,    13,     1,  ...,     0,     0,     0],\n",
      "        [    2,    13,     1,  ...,     1, 16704,     3],\n",
      "        [    2,    13,     1,  ...,     0,     0,     0],\n",
      "        ...,\n",
      "        [    2,    13,     1,  ...,     0,     0,     0],\n",
      "        [    2,    13,     1,  ...,     0,     0,     0],\n",
      "        [    2,    13,     1,  ...,     0,     0,     0]]), 'attention_mask': tensor([[1, 1, 1,  ..., 0, 0, 0],\n",
      "        [1, 1, 1,  ..., 1, 1, 1],\n",
      "        [1, 1, 1,  ..., 0, 0, 0],\n",
      "        ...,\n",
      "        [1, 1, 1,  ..., 0, 0, 0],\n",
      "        [1, 1, 1,  ..., 0, 0, 0],\n",
      "        [1, 1, 1,  ..., 0, 0, 0]])}\n",
      "{'label': tensor([1, 0, 0, 0, 1, 1, 0, 1, 0, 0, 1, 1, 0, 0, 0, 0]), 'input_ids': tensor([[ 2, 13,  1,  ...,  0,  0,  0],\n",
      "        [ 2, 13,  1,  ...,  0,  0,  0],\n",
      "        [ 2, 13,  1,  ...,  0,  0,  0],\n",
      "        ...,\n",
      "        [ 2, 13,  1,  ...,  0,  0,  0],\n",
      "        [ 2, 13,  1,  ...,  0,  0,  0],\n",
      "        [ 2, 13,  1,  ...,  0,  0,  0]]), 'attention_mask': tensor([[1, 1, 1,  ..., 0, 0, 0],\n",
      "        [1, 1, 1,  ..., 0, 0, 0],\n",
      "        [1, 1, 1,  ..., 0, 0, 0],\n",
      "        ...,\n",
      "        [1, 1, 1,  ..., 0, 0, 0],\n",
      "        [1, 1, 1,  ..., 0, 0, 0],\n",
      "        [1, 1, 1,  ..., 0, 0, 0]])}\n",
      "{'label': tensor([1, 1, 0, 1, 0, 1, 0, 0, 1, 0, 1, 0, 0, 0, 0, 0]), 'input_ids': tensor([[   2,   13,    1,  ...,    0,    0,    0],\n",
      "        [   2,   13,    1,  ...,    0,    0,    0],\n",
      "        [   2,   13,    1,  ...,    0,    0,    0],\n",
      "        ...,\n",
      "        [   2,   13,    1,  ...,  148, 1178,    3],\n",
      "        [   2,   13,    1,  ...,    0,    0,    0],\n",
      "        [   2,   13,    1,  ...,    0,    0,    0]]), 'attention_mask': tensor([[1, 1, 1,  ..., 0, 0, 0],\n",
      "        [1, 1, 1,  ..., 0, 0, 0],\n",
      "        [1, 1, 1,  ..., 0, 0, 0],\n",
      "        ...,\n",
      "        [1, 1, 1,  ..., 1, 1, 1],\n",
      "        [1, 1, 1,  ..., 0, 0, 0],\n",
      "        [1, 1, 1,  ..., 0, 0, 0]])}\n",
      "{'label': tensor([0, 1, 0, 0, 0, 0, 1, 0, 0, 0, 1, 1, 1, 0, 1, 0]), 'input_ids': tensor([[ 2, 13,  1,  ...,  0,  0,  0],\n",
      "        [ 2, 13,  1,  ...,  0,  0,  0],\n",
      "        [ 2, 13,  1,  ...,  0,  0,  0],\n",
      "        ...,\n",
      "        [ 2, 13,  1,  ...,  0,  0,  0],\n",
      "        [ 2, 13,  1,  ...,  0,  0,  0],\n",
      "        [ 2, 13,  1,  ...,  0,  0,  0]]), 'attention_mask': tensor([[1, 1, 1,  ..., 0, 0, 0],\n",
      "        [1, 1, 1,  ..., 0, 0, 0],\n",
      "        [1, 1, 1,  ..., 0, 0, 0],\n",
      "        ...,\n",
      "        [1, 1, 1,  ..., 0, 0, 0],\n",
      "        [1, 1, 1,  ..., 0, 0, 0],\n",
      "        [1, 1, 1,  ..., 0, 0, 0]])}\n",
      "{'label': tensor([0, 0, 1, 1, 1, 0, 0, 0, 1, 0, 1, 0, 1, 0, 1, 1]), 'input_ids': tensor([[  2,  13,   1,  ...,   0,   0,   0],\n",
      "        [  2,  86, 130,  ...,   0,   0,   0],\n",
      "        [  2,  13,   1,  ...,   0,   0,   0],\n",
      "        ...,\n",
      "        [  2,  13,   1,  ...,   0,   0,   0],\n",
      "        [  2,  13,   1,  ...,   0,   0,   0],\n",
      "        [  2,  13,   1,  ...,   0,   0,   0]]), 'attention_mask': tensor([[1, 1, 1,  ..., 0, 0, 0],\n",
      "        [1, 1, 1,  ..., 0, 0, 0],\n",
      "        [1, 1, 1,  ..., 0, 0, 0],\n",
      "        ...,\n",
      "        [1, 1, 1,  ..., 0, 0, 0],\n",
      "        [1, 1, 1,  ..., 0, 0, 0],\n",
      "        [1, 1, 1,  ..., 0, 0, 0]])}\n",
      "{'label': tensor([1, 0, 1, 1, 1, 1, 0, 0, 1, 0, 1, 1, 0, 0, 1, 0]), 'input_ids': tensor([[    2,    13,     1,  ...,     0,     0,     0],\n",
      "        [    2,    21,  4649,  ...,     0,     0,     0],\n",
      "        [    2,    13,     1,  ...,     0,     0,     0],\n",
      "        ...,\n",
      "        [    2,    13,     1,  ...,     1, 16704,     3],\n",
      "        [    2,    13,     1,  ...,     0,     0,     0],\n",
      "        [    2,    13,     1,  ...,     0,     0,     0]]), 'attention_mask': tensor([[1, 1, 1,  ..., 0, 0, 0],\n",
      "        [1, 1, 1,  ..., 0, 0, 0],\n",
      "        [1, 1, 1,  ..., 0, 0, 0],\n",
      "        ...,\n",
      "        [1, 1, 1,  ..., 1, 1, 1],\n",
      "        [1, 1, 1,  ..., 0, 0, 0],\n",
      "        [1, 1, 1,  ..., 0, 0, 0]])}\n",
      "{'label': tensor([0, 0, 1, 0, 1, 1, 0, 0, 0, 0, 0, 0, 0, 0, 0, 0]), 'input_ids': tensor([[ 2, 13,  1,  ...,  0,  0,  0],\n",
      "        [ 2, 13,  1,  ...,  0,  0,  0],\n",
      "        [ 2, 13,  1,  ...,  0,  0,  0],\n",
      "        ...,\n",
      "        [ 2, 13,  1,  ...,  0,  0,  0],\n",
      "        [ 2, 13,  1,  ...,  0,  0,  0],\n",
      "        [ 2, 13,  1,  ...,  0,  0,  0]]), 'attention_mask': tensor([[1, 1, 1,  ..., 0, 0, 0],\n",
      "        [1, 1, 1,  ..., 0, 0, 0],\n",
      "        [1, 1, 1,  ..., 0, 0, 0],\n",
      "        ...,\n",
      "        [1, 1, 1,  ..., 0, 0, 0],\n",
      "        [1, 1, 1,  ..., 0, 0, 0],\n",
      "        [1, 1, 1,  ..., 0, 0, 0]])}\n",
      "{'label': tensor([1, 0, 0, 0, 1, 0, 1, 1, 1, 0, 0, 0, 1, 0, 1, 1]), 'input_ids': tensor([[ 2, 13,  1,  ...,  0,  0,  0],\n",
      "        [ 2, 13,  1,  ...,  0,  0,  0],\n",
      "        [ 2, 13,  1,  ...,  0,  0,  0],\n",
      "        ...,\n",
      "        [ 2, 13,  1,  ...,  0,  0,  0],\n",
      "        [ 2, 13,  1,  ...,  0,  0,  0],\n",
      "        [ 2, 13,  1,  ...,  0,  0,  0]]), 'attention_mask': tensor([[1, 1, 1,  ..., 0, 0, 0],\n",
      "        [1, 1, 1,  ..., 0, 0, 0],\n",
      "        [1, 1, 1,  ..., 0, 0, 0],\n",
      "        ...,\n",
      "        [1, 1, 1,  ..., 0, 0, 0],\n",
      "        [1, 1, 1,  ..., 0, 0, 0],\n",
      "        [1, 1, 1,  ..., 0, 0, 0]])}\n",
      "{'label': tensor([0, 0, 0, 0, 0, 0, 0, 1, 0, 1, 0, 0, 0, 1, 0, 1]), 'input_ids': tensor([[    2,    13,     1,  ...,     0,     0,     0],\n",
      "        [    2,    13,     1,  ...,     0,     0,     0],\n",
      "        [    2,    13,     1,  ...,     0,     0,     0],\n",
      "        ...,\n",
      "        [    2,   732, 17167,  ...,     0,     0,     0],\n",
      "        [    2,    13,     1,  ...,     0,     0,     0],\n",
      "        [    2,    13,     1,  ...,     0,     0,     0]]), 'attention_mask': tensor([[1, 1, 1,  ..., 0, 0, 0],\n",
      "        [1, 1, 1,  ..., 0, 0, 0],\n",
      "        [1, 1, 1,  ..., 0, 0, 0],\n",
      "        ...,\n",
      "        [1, 1, 1,  ..., 0, 0, 0],\n",
      "        [1, 1, 1,  ..., 0, 0, 0],\n",
      "        [1, 1, 1,  ..., 0, 0, 0]])}\n",
      "{'label': tensor([0, 1, 0, 1, 0, 0, 0, 0, 0, 0, 0, 1, 0, 1, 0, 0]), 'input_ids': tensor([[ 2, 13,  1,  ...,  0,  0,  0],\n",
      "        [ 2, 13,  1,  ...,  0,  0,  0],\n",
      "        [ 2, 13,  1,  ...,  0,  0,  0],\n",
      "        ...,\n",
      "        [ 2, 13,  1,  ...,  0,  0,  0],\n",
      "        [ 2, 13,  1,  ...,  0,  0,  0],\n",
      "        [ 2, 13,  1,  ...,  0,  0,  0]]), 'attention_mask': tensor([[1, 1, 1,  ..., 0, 0, 0],\n",
      "        [1, 1, 1,  ..., 0, 0, 0],\n",
      "        [1, 1, 1,  ..., 0, 0, 0],\n",
      "        ...,\n",
      "        [1, 1, 1,  ..., 0, 0, 0],\n",
      "        [1, 1, 1,  ..., 0, 0, 0],\n",
      "        [1, 1, 1,  ..., 0, 0, 0]])}\n",
      "{'label': tensor([1, 0, 0, 1, 1, 0, 0, 0, 1, 0, 1, 0, 0, 0, 0, 1]), 'input_ids': tensor([[   2,   13,    1,  ...,    0,    0,    0],\n",
      "        [   2,   13,    1,  ...,    0,    0,    0],\n",
      "        [   2,   13,    1,  ...,    0,    0,    0],\n",
      "        ...,\n",
      "        [   2,   13,   45,  ...,    0,    0,    0],\n",
      "        [   2, 6753,   45,  ...,    0,    0,    0],\n",
      "        [   2,   13,    1,  ...,    0,    0,    0]]), 'attention_mask': tensor([[1, 1, 1,  ..., 0, 0, 0],\n",
      "        [1, 1, 1,  ..., 0, 0, 0],\n",
      "        [1, 1, 1,  ..., 0, 0, 0],\n",
      "        ...,\n",
      "        [1, 1, 1,  ..., 0, 0, 0],\n",
      "        [1, 1, 1,  ..., 0, 0, 0],\n",
      "        [1, 1, 1,  ..., 0, 0, 0]])}\n",
      "{'label': tensor([0, 0, 1, 0, 0, 0, 0, 1, 0, 0, 0, 0, 1, 0, 0, 1]), 'input_ids': tensor([[ 2, 13,  1,  ...,  0,  0,  0],\n",
      "        [ 2, 13,  1,  ...,  0,  0,  0],\n",
      "        [ 2, 13,  1,  ...,  0,  0,  0],\n",
      "        ...,\n",
      "        [ 2, 13,  1,  ...,  0,  0,  0],\n",
      "        [ 2, 13,  1,  ...,  0,  0,  0],\n",
      "        [ 2, 13,  1,  ...,  0,  0,  0]]), 'attention_mask': tensor([[1, 1, 1,  ..., 0, 0, 0],\n",
      "        [1, 1, 1,  ..., 0, 0, 0],\n",
      "        [1, 1, 1,  ..., 0, 0, 0],\n",
      "        ...,\n",
      "        [1, 1, 1,  ..., 0, 0, 0],\n",
      "        [1, 1, 1,  ..., 0, 0, 0],\n",
      "        [1, 1, 1,  ..., 0, 0, 0]])}\n",
      "{'label': tensor([1, 0, 0, 0, 0, 0, 0, 0, 0, 1, 1, 0, 0, 0, 0, 0]), 'input_ids': tensor([[  2,  13,   1,  ...,   0,   0,   0],\n",
      "        [  2,  13,   1,  ...,   0,   0,   0],\n",
      "        [  2,  13,   1,  ...,   0,   0,   0],\n",
      "        ...,\n",
      "        [  2,  13,   1,  ...,   0,   0,   0],\n",
      "        [  2, 268,   9,  ...,   0,   0,   0],\n",
      "        [  2,  13,   1,  ...,   0,   0,   0]]), 'attention_mask': tensor([[1, 1, 1,  ..., 0, 0, 0],\n",
      "        [1, 1, 1,  ..., 0, 0, 0],\n",
      "        [1, 1, 1,  ..., 0, 0, 0],\n",
      "        ...,\n",
      "        [1, 1, 1,  ..., 0, 0, 0],\n",
      "        [1, 1, 1,  ..., 0, 0, 0],\n",
      "        [1, 1, 1,  ..., 0, 0, 0]])}\n",
      "{'label': tensor([1, 0, 0, 1, 1, 0, 0, 0, 1, 1, 1, 1, 1, 0, 0, 0]), 'input_ids': tensor([[ 2, 13,  1,  ...,  0,  0,  0],\n",
      "        [ 2, 13,  1,  ...,  0,  0,  0],\n",
      "        [ 2, 13,  1,  ...,  0,  0,  0],\n",
      "        ...,\n",
      "        [ 2, 13,  1,  ...,  0,  0,  0],\n",
      "        [ 2, 13,  1,  ...,  0,  0,  0],\n",
      "        [ 2, 13,  1,  ...,  0,  0,  0]]), 'attention_mask': tensor([[1, 1, 1,  ..., 0, 0, 0],\n",
      "        [1, 1, 1,  ..., 0, 0, 0],\n",
      "        [1, 1, 1,  ..., 0, 0, 0],\n",
      "        ...,\n",
      "        [1, 1, 1,  ..., 0, 0, 0],\n",
      "        [1, 1, 1,  ..., 0, 0, 0],\n",
      "        [1, 1, 1,  ..., 0, 0, 0]])}\n",
      "{'label': tensor([0, 0, 0, 1, 1, 0, 0, 0, 1, 0, 1, 0, 1, 1, 1, 0]), 'input_ids': tensor([[ 2, 13,  1,  ...,  0,  0,  0],\n",
      "        [ 2, 13,  1,  ...,  0,  0,  0],\n",
      "        [ 2, 13,  1,  ...,  0,  0,  0],\n",
      "        ...,\n",
      "        [ 2, 13,  1,  ...,  0,  0,  0],\n",
      "        [ 2, 13,  1,  ...,  0,  0,  0],\n",
      "        [ 2, 13,  1,  ...,  0,  0,  0]]), 'attention_mask': tensor([[1, 1, 1,  ..., 0, 0, 0],\n",
      "        [1, 1, 1,  ..., 0, 0, 0],\n",
      "        [1, 1, 1,  ..., 0, 0, 0],\n",
      "        ...,\n",
      "        [1, 1, 1,  ..., 0, 0, 0],\n",
      "        [1, 1, 1,  ..., 0, 0, 0],\n",
      "        [1, 1, 1,  ..., 0, 0, 0]])}\n",
      "{'label': tensor([1, 0, 1, 0, 0, 1, 0, 0, 0, 0, 0, 0, 1, 0, 1, 0]), 'input_ids': tensor([[   2,   13,    1,  ...,    0,    0,    0],\n",
      "        [   2,   13,    1,  ...,    0,    0,    0],\n",
      "        [   2,   21, 7653,  ...,    0,    0,    0],\n",
      "        ...,\n",
      "        [   2,   13,    9,  ...,    0,    0,    0],\n",
      "        [   2,   13,    1,  ...,    0,    0,    0],\n",
      "        [   2,   13,    1,  ...,    0,    0,    0]]), 'attention_mask': tensor([[1, 1, 1,  ..., 0, 0, 0],\n",
      "        [1, 1, 1,  ..., 0, 0, 0],\n",
      "        [1, 1, 1,  ..., 0, 0, 0],\n",
      "        ...,\n",
      "        [1, 1, 1,  ..., 0, 0, 0],\n",
      "        [1, 1, 1,  ..., 0, 0, 0],\n",
      "        [1, 1, 1,  ..., 0, 0, 0]])}\n",
      "{'label': tensor([1, 0, 0, 0, 0, 0, 0, 0, 0, 0, 0, 1, 0, 1, 0, 1]), 'input_ids': tensor([[ 2, 13,  1,  ...,  0,  0,  0],\n",
      "        [ 2, 13,  1,  ...,  0,  0,  0],\n",
      "        [ 2, 13,  1,  ...,  0,  0,  0],\n",
      "        ...,\n",
      "        [ 2, 13,  1,  ...,  0,  0,  0],\n",
      "        [ 2, 13,  1,  ...,  0,  0,  0],\n",
      "        [ 2, 13,  1,  ...,  0,  0,  0]]), 'attention_mask': tensor([[1, 1, 1,  ..., 0, 0, 0],\n",
      "        [1, 1, 1,  ..., 0, 0, 0],\n",
      "        [1, 1, 1,  ..., 0, 0, 0],\n",
      "        ...,\n",
      "        [1, 1, 1,  ..., 0, 0, 0],\n",
      "        [1, 1, 1,  ..., 0, 0, 0],\n",
      "        [1, 1, 1,  ..., 0, 0, 0]])}\n",
      "{'label': tensor([1, 0, 1, 1, 1, 1, 0, 0, 0, 0, 0, 0, 0, 0, 0, 0]), 'input_ids': tensor([[ 2, 13,  1,  ...,  0,  0,  0],\n",
      "        [ 2, 13,  1,  ...,  0,  0,  0],\n",
      "        [ 2, 13,  1,  ...,  0,  0,  0],\n",
      "        ...,\n",
      "        [ 2, 13,  1,  ...,  0,  0,  0],\n",
      "        [ 2, 13,  1,  ...,  0,  0,  0],\n",
      "        [ 2, 13,  1,  ...,  0,  0,  0]]), 'attention_mask': tensor([[1, 1, 1,  ..., 0, 0, 0],\n",
      "        [1, 1, 1,  ..., 0, 0, 0],\n",
      "        [1, 1, 1,  ..., 0, 0, 0],\n",
      "        ...,\n",
      "        [1, 1, 1,  ..., 0, 0, 0],\n",
      "        [1, 1, 1,  ..., 0, 0, 0],\n",
      "        [1, 1, 1,  ..., 0, 0, 0]])}\n",
      "{'label': tensor([0, 0, 0, 0, 0, 0, 0, 0, 0, 0, 0, 1, 1, 1, 0, 0]), 'input_ids': tensor([[    2,    13,     1,  ...,     1, 16704,     3],\n",
      "        [    2,    13,     1,  ...,     0,     0,     0],\n",
      "        [    2,    13,     1,  ...,     0,     0,     0],\n",
      "        ...,\n",
      "        [    2,    13,     1,  ...,     0,     0,     0],\n",
      "        [    2,    13,     1,  ...,     0,     0,     0],\n",
      "        [    2,    13,     1,  ...,     1, 16704,     3]]), 'attention_mask': tensor([[1, 1, 1,  ..., 1, 1, 1],\n",
      "        [1, 1, 1,  ..., 0, 0, 0],\n",
      "        [1, 1, 1,  ..., 0, 0, 0],\n",
      "        ...,\n",
      "        [1, 1, 1,  ..., 0, 0, 0],\n",
      "        [1, 1, 1,  ..., 0, 0, 0],\n",
      "        [1, 1, 1,  ..., 1, 1, 1]])}\n",
      "{'label': tensor([0, 1, 0, 0, 0, 0, 0, 0, 0, 1, 0, 0, 1, 0, 1, 0]), 'input_ids': tensor([[ 2, 13,  1,  ...,  0,  0,  0],\n",
      "        [ 2, 13,  1,  ...,  0,  0,  0],\n",
      "        [ 2, 13,  1,  ...,  0,  0,  0],\n",
      "        ...,\n",
      "        [ 2, 13,  1,  ...,  0,  0,  0],\n",
      "        [ 2, 13,  1,  ...,  0,  0,  0],\n",
      "        [ 2, 13,  1,  ...,  0,  0,  0]]), 'attention_mask': tensor([[1, 1, 1,  ..., 0, 0, 0],\n",
      "        [1, 1, 1,  ..., 0, 0, 0],\n",
      "        [1, 1, 1,  ..., 0, 0, 0],\n",
      "        ...,\n",
      "        [1, 1, 1,  ..., 0, 0, 0],\n",
      "        [1, 1, 1,  ..., 0, 0, 0],\n",
      "        [1, 1, 1,  ..., 0, 0, 0]])}\n",
      "{'label': tensor([0, 0, 1, 0, 1, 0, 0, 0, 1, 0, 0, 0, 1, 0, 0, 0]), 'input_ids': tensor([[ 2, 13,  1,  ...,  0,  0,  0],\n",
      "        [ 2, 13,  1,  ...,  0,  0,  0],\n",
      "        [ 2, 13,  1,  ...,  0,  0,  0],\n",
      "        ...,\n",
      "        [ 2, 13,  1,  ...,  0,  0,  0],\n",
      "        [ 2, 13,  1,  ...,  0,  0,  0],\n",
      "        [ 2, 13,  1,  ...,  0,  0,  0]]), 'attention_mask': tensor([[1, 1, 1,  ..., 0, 0, 0],\n",
      "        [1, 1, 1,  ..., 0, 0, 0],\n",
      "        [1, 1, 1,  ..., 0, 0, 0],\n",
      "        ...,\n",
      "        [1, 1, 1,  ..., 0, 0, 0],\n",
      "        [1, 1, 1,  ..., 0, 0, 0],\n",
      "        [1, 1, 1,  ..., 0, 0, 0]])}\n",
      "{'label': tensor([1, 0, 0, 0, 1, 1, 1, 1, 1, 1, 0, 0, 0, 1, 0, 1]), 'input_ids': tensor([[ 2, 13,  1,  ...,  0,  0,  0],\n",
      "        [ 2, 13,  1,  ...,  0,  0,  0],\n",
      "        [ 2, 13,  1,  ...,  0,  0,  0],\n",
      "        ...,\n",
      "        [ 2, 13,  1,  ...,  0,  0,  0],\n",
      "        [ 2, 13,  1,  ...,  0,  0,  0],\n",
      "        [ 2, 13,  1,  ...,  0,  0,  0]]), 'attention_mask': tensor([[1, 1, 1,  ..., 0, 0, 0],\n",
      "        [1, 1, 1,  ..., 0, 0, 0],\n",
      "        [1, 1, 1,  ..., 0, 0, 0],\n",
      "        ...,\n",
      "        [1, 1, 1,  ..., 0, 0, 0],\n",
      "        [1, 1, 1,  ..., 0, 0, 0],\n",
      "        [1, 1, 1,  ..., 0, 0, 0]])}\n",
      "{'label': tensor([0, 0, 0, 1, 1, 0, 1, 1, 0, 0, 1, 1, 0, 1, 0, 0]), 'input_ids': tensor([[ 2, 13,  1,  ...,  0,  0,  0],\n",
      "        [ 2, 13,  1,  ...,  0,  0,  0],\n",
      "        [ 2, 13,  1,  ...,  0,  0,  0],\n",
      "        ...,\n",
      "        [ 2, 13,  1,  ...,  0,  0,  0],\n",
      "        [ 2, 13,  1,  ...,  0,  0,  0],\n",
      "        [ 2, 13,  1,  ...,  0,  0,  0]]), 'attention_mask': tensor([[1, 1, 1,  ..., 0, 0, 0],\n",
      "        [1, 1, 1,  ..., 0, 0, 0],\n",
      "        [1, 1, 1,  ..., 0, 0, 0],\n",
      "        ...,\n",
      "        [1, 1, 1,  ..., 0, 0, 0],\n",
      "        [1, 1, 1,  ..., 0, 0, 0],\n",
      "        [1, 1, 1,  ..., 0, 0, 0]])}\n",
      "{'label': tensor([0, 0, 1, 1, 1, 1, 0, 1, 1, 0, 0, 0, 0, 0, 0, 0]), 'input_ids': tensor([[ 2, 13,  1,  ...,  0,  0,  0],\n",
      "        [ 2, 13,  1,  ...,  0,  0,  0],\n",
      "        [ 2, 13,  1,  ...,  0,  0,  0],\n",
      "        ...,\n",
      "        [ 2, 13,  1,  ...,  0,  0,  0],\n",
      "        [ 2, 13,  1,  ...,  0,  0,  0],\n",
      "        [ 2, 13,  1,  ...,  0,  0,  0]]), 'attention_mask': tensor([[1, 1, 1,  ..., 0, 0, 0],\n",
      "        [1, 1, 1,  ..., 0, 0, 0],\n",
      "        [1, 1, 1,  ..., 0, 0, 0],\n",
      "        ...,\n",
      "        [1, 1, 1,  ..., 0, 0, 0],\n",
      "        [1, 1, 1,  ..., 0, 0, 0],\n",
      "        [1, 1, 1,  ..., 0, 0, 0]])}\n",
      "{'label': tensor([0, 0, 0, 0, 1, 0, 0, 0, 1, 0, 0, 0, 0, 0, 1, 0]), 'input_ids': tensor([[   2, 1024, 2627,  ...,    0,    0,    0],\n",
      "        [   2,   13,    1,  ...,    0,    0,    0],\n",
      "        [   2,   13,    1,  ...,    0,    0,    0],\n",
      "        ...,\n",
      "        [   2,   13,    1,  ...,    0,    0,    0],\n",
      "        [   2,   13,    1,  ...,    0,    0,    0],\n",
      "        [   2,   13,    1,  ...,    0,    0,    0]]), 'attention_mask': tensor([[1, 1, 1,  ..., 0, 0, 0],\n",
      "        [1, 1, 1,  ..., 0, 0, 0],\n",
      "        [1, 1, 1,  ..., 0, 0, 0],\n",
      "        ...,\n",
      "        [1, 1, 1,  ..., 0, 0, 0],\n",
      "        [1, 1, 1,  ..., 0, 0, 0],\n",
      "        [1, 1, 1,  ..., 0, 0, 0]])}\n",
      "{'label': tensor([0, 0, 0, 1, 0, 0, 0, 1, 1, 1, 0, 0, 1, 1, 0, 0]), 'input_ids': tensor([[ 2, 13,  1,  ...,  0,  0,  0],\n",
      "        [ 2, 13,  1,  ...,  0,  0,  0],\n",
      "        [ 2, 13,  1,  ...,  0,  0,  0],\n",
      "        ...,\n",
      "        [ 2, 13,  1,  ...,  0,  0,  0],\n",
      "        [ 2, 13,  1,  ...,  0,  0,  0],\n",
      "        [ 2, 13,  1,  ...,  0,  0,  0]]), 'attention_mask': tensor([[1, 1, 1,  ..., 0, 0, 0],\n",
      "        [1, 1, 1,  ..., 0, 0, 0],\n",
      "        [1, 1, 1,  ..., 0, 0, 0],\n",
      "        ...,\n",
      "        [1, 1, 1,  ..., 0, 0, 0],\n",
      "        [1, 1, 1,  ..., 0, 0, 0],\n",
      "        [1, 1, 1,  ..., 0, 0, 0]])}\n",
      "{'label': tensor([1, 0, 1, 0, 0, 0, 0, 0, 1, 1, 0, 1, 0, 1, 0, 0]), 'input_ids': tensor([[   2,   13,    1,  ...,    0,    0,    0],\n",
      "        [   2,   13,    1,  ...,    0,    0,    0],\n",
      "        [   2,   13, 8197,  ...,    0,    0,    0],\n",
      "        ...,\n",
      "        [   2,   13,    1,  ...,    0,    0,    0],\n",
      "        [   2,   13,    1,  ...,    0,    0,    0],\n",
      "        [   2,   13,    1,  ...,    0,    0,    0]]), 'attention_mask': tensor([[1, 1, 1,  ..., 0, 0, 0],\n",
      "        [1, 1, 1,  ..., 0, 0, 0],\n",
      "        [1, 1, 1,  ..., 0, 0, 0],\n",
      "        ...,\n",
      "        [1, 1, 1,  ..., 0, 0, 0],\n",
      "        [1, 1, 1,  ..., 0, 0, 0],\n",
      "        [1, 1, 1,  ..., 0, 0, 0]])}\n",
      "{'label': tensor([0, 0, 0, 0, 1, 1, 0, 0, 1, 1, 0, 0, 0, 1, 0, 0]), 'input_ids': tensor([[  2, 279, 255,  ...,   0,   0,   0],\n",
      "        [  2,  13,   1,  ...,   0,   0,   0],\n",
      "        [  2,  13,   1,  ...,   0,   0,   0],\n",
      "        ...,\n",
      "        [  2,  13,   1,  ...,   0,   0,   0],\n",
      "        [  2,  13,   1,  ...,   0,   0,   0],\n",
      "        [  2,  13,   1,  ...,   0,   0,   0]]), 'attention_mask': tensor([[1, 1, 1,  ..., 0, 0, 0],\n",
      "        [1, 1, 1,  ..., 0, 0, 0],\n",
      "        [1, 1, 1,  ..., 0, 0, 0],\n",
      "        ...,\n",
      "        [1, 1, 1,  ..., 0, 0, 0],\n",
      "        [1, 1, 1,  ..., 0, 0, 0],\n",
      "        [1, 1, 1,  ..., 0, 0, 0]])}\n",
      "{'label': tensor([0, 1, 0, 1, 0, 0, 1, 0, 0, 1, 1, 0, 0, 0, 0, 0]), 'input_ids': tensor([[ 2, 13,  1,  ...,  0,  0,  0],\n",
      "        [ 2, 13,  1,  ...,  0,  0,  0],\n",
      "        [ 2, 13,  1,  ...,  0,  0,  0],\n",
      "        ...,\n",
      "        [ 2, 13,  1,  ...,  0,  0,  0],\n",
      "        [ 2, 13,  9,  ...,  0,  0,  0],\n",
      "        [ 2, 13,  1,  ...,  0,  0,  0]]), 'attention_mask': tensor([[1, 1, 1,  ..., 0, 0, 0],\n",
      "        [1, 1, 1,  ..., 0, 0, 0],\n",
      "        [1, 1, 1,  ..., 0, 0, 0],\n",
      "        ...,\n",
      "        [1, 1, 1,  ..., 0, 0, 0],\n",
      "        [1, 1, 1,  ..., 0, 0, 0],\n",
      "        [1, 1, 1,  ..., 0, 0, 0]])}\n",
      "{'label': tensor([0, 0, 0, 0, 0, 1, 1, 0, 0, 1, 0, 0, 0, 0, 1, 0]), 'input_ids': tensor([[ 2, 13,  1,  ...,  0,  0,  0],\n",
      "        [ 2, 13,  1,  ...,  0,  0,  0],\n",
      "        [ 2, 13,  1,  ...,  0,  0,  0],\n",
      "        ...,\n",
      "        [ 2, 13,  1,  ...,  0,  0,  0],\n",
      "        [ 2, 13,  1,  ...,  0,  0,  0],\n",
      "        [ 2, 13,  1,  ...,  0,  0,  0]]), 'attention_mask': tensor([[1, 1, 1,  ..., 0, 0, 0],\n",
      "        [1, 1, 1,  ..., 0, 0, 0],\n",
      "        [1, 1, 1,  ..., 0, 0, 0],\n",
      "        ...,\n",
      "        [1, 1, 1,  ..., 0, 0, 0],\n",
      "        [1, 1, 1,  ..., 0, 0, 0],\n",
      "        [1, 1, 1,  ..., 0, 0, 0]])}\n",
      "{'label': tensor([0, 1, 0, 0, 1, 0, 1, 0, 0, 0, 0, 1, 0, 1, 1, 0]), 'input_ids': tensor([[ 2, 13,  1,  ...,  0,  0,  0],\n",
      "        [ 2, 13,  1,  ...,  0,  0,  0],\n",
      "        [ 2, 13,  1,  ...,  0,  0,  0],\n",
      "        ...,\n",
      "        [ 2, 13,  1,  ...,  0,  0,  0],\n",
      "        [ 2, 13,  1,  ...,  0,  0,  0],\n",
      "        [ 2, 13,  1,  ...,  0,  0,  0]]), 'attention_mask': tensor([[1, 1, 1,  ..., 0, 0, 0],\n",
      "        [1, 1, 1,  ..., 0, 0, 0],\n",
      "        [1, 1, 1,  ..., 0, 0, 0],\n",
      "        ...,\n",
      "        [1, 1, 1,  ..., 0, 0, 0],\n",
      "        [1, 1, 1,  ..., 0, 0, 0],\n",
      "        [1, 1, 1,  ..., 0, 0, 0]])}\n",
      "{'label': tensor([0, 1, 1, 0, 1, 0, 0, 0, 1, 0, 0, 0, 1, 1, 0, 0]), 'input_ids': tensor([[ 2, 13,  1,  ...,  0,  0,  0],\n",
      "        [ 2, 13,  1,  ...,  0,  0,  0],\n",
      "        [ 2, 13,  1,  ...,  0,  0,  0],\n",
      "        ...,\n",
      "        [ 2, 13,  1,  ...,  0,  0,  0],\n",
      "        [ 2, 13,  1,  ...,  0,  0,  0],\n",
      "        [ 2, 13,  1,  ...,  0,  0,  0]]), 'attention_mask': tensor([[1, 1, 1,  ..., 0, 0, 0],\n",
      "        [1, 1, 1,  ..., 0, 0, 0],\n",
      "        [1, 1, 1,  ..., 0, 0, 0],\n",
      "        ...,\n",
      "        [1, 1, 1,  ..., 0, 0, 0],\n",
      "        [1, 1, 1,  ..., 0, 0, 0],\n",
      "        [1, 1, 1,  ..., 0, 0, 0]])}\n",
      "{'label': tensor([1, 0, 1, 1, 1, 0, 0, 1, 0, 1, 0, 0, 0, 0, 0, 0]), 'input_ids': tensor([[ 2, 13,  1,  ...,  0,  0,  0],\n",
      "        [ 2, 13,  1,  ...,  0,  0,  0],\n",
      "        [ 2, 13,  1,  ...,  0,  0,  0],\n",
      "        ...,\n",
      "        [ 2, 13,  1,  ...,  0,  0,  0],\n",
      "        [ 2, 13,  1,  ...,  0,  0,  0],\n",
      "        [ 2, 13,  1,  ...,  0,  0,  0]]), 'attention_mask': tensor([[1, 1, 1,  ..., 0, 0, 0],\n",
      "        [1, 1, 1,  ..., 0, 0, 0],\n",
      "        [1, 1, 1,  ..., 0, 0, 0],\n",
      "        ...,\n",
      "        [1, 1, 1,  ..., 0, 0, 0],\n",
      "        [1, 1, 1,  ..., 0, 0, 0],\n",
      "        [1, 1, 1,  ..., 0, 0, 0]])}\n",
      "{'label': tensor([0, 0, 1, 1, 0, 0, 0, 1, 1, 1, 0, 0, 1, 0, 1, 0]), 'input_ids': tensor([[ 2, 13,  1,  ...,  0,  0,  0],\n",
      "        [ 2, 13,  1,  ...,  0,  0,  0],\n",
      "        [ 2, 13,  1,  ...,  0,  0,  0],\n",
      "        ...,\n",
      "        [ 2, 13,  1,  ...,  0,  0,  0],\n",
      "        [ 2, 13,  1,  ...,  0,  0,  0],\n",
      "        [ 2, 13,  1,  ...,  0,  0,  0]]), 'attention_mask': tensor([[1, 1, 1,  ..., 0, 0, 0],\n",
      "        [1, 1, 1,  ..., 0, 0, 0],\n",
      "        [1, 1, 1,  ..., 0, 0, 0],\n",
      "        ...,\n",
      "        [1, 1, 1,  ..., 0, 0, 0],\n",
      "        [1, 1, 1,  ..., 0, 0, 0],\n",
      "        [1, 1, 1,  ..., 0, 0, 0]])}\n",
      "{'label': tensor([0, 0, 0, 0, 0, 0, 1, 1, 1, 0, 0, 1, 1, 0, 0, 1]), 'input_ids': tensor([[   2,   13,    1,  ...,    0,    0,    0],\n",
      "        [   2,  406, 7095,  ...,    0,    0,    0],\n",
      "        [   2,   13,    1,  ...,    0,    0,    0],\n",
      "        ...,\n",
      "        [   2,   13,    1,  ...,    0,    0,    0],\n",
      "        [   2,   13,    1,  ...,    0,    0,    0],\n",
      "        [   2,   13,    1,  ...,    0,    0,    0]]), 'attention_mask': tensor([[1, 1, 1,  ..., 0, 0, 0],\n",
      "        [1, 1, 1,  ..., 0, 0, 0],\n",
      "        [1, 1, 1,  ..., 0, 0, 0],\n",
      "        ...,\n",
      "        [1, 1, 1,  ..., 0, 0, 0],\n",
      "        [1, 1, 1,  ..., 0, 0, 0],\n",
      "        [1, 1, 1,  ..., 0, 0, 0]])}\n",
      "{'label': tensor([0, 1, 1, 0, 0, 1, 0, 0, 0, 1, 0, 0, 0, 0, 1, 1]), 'input_ids': tensor([[ 2, 13,  1,  ...,  0,  0,  0],\n",
      "        [ 2, 13,  1,  ...,  0,  0,  0],\n",
      "        [ 2, 13,  1,  ...,  0,  0,  0],\n",
      "        ...,\n",
      "        [ 2, 13,  1,  ...,  0,  0,  0],\n",
      "        [ 2, 13,  1,  ...,  0,  0,  0],\n",
      "        [ 2, 13,  9,  ...,  0,  0,  0]]), 'attention_mask': tensor([[1, 1, 1,  ..., 0, 0, 0],\n",
      "        [1, 1, 1,  ..., 0, 0, 0],\n",
      "        [1, 1, 1,  ..., 0, 0, 0],\n",
      "        ...,\n",
      "        [1, 1, 1,  ..., 0, 0, 0],\n",
      "        [1, 1, 1,  ..., 0, 0, 0],\n",
      "        [1, 1, 1,  ..., 0, 0, 0]])}\n",
      "{'label': tensor([0, 0, 0, 0, 0, 0, 0, 0, 0, 1, 0, 0, 1, 0, 0, 1]), 'input_ids': tensor([[    2,  6926, 17396,  ...,     0,     0,     0],\n",
      "        [    2,    13,     1,  ...,     0,     0,     0],\n",
      "        [    2,    13,     1,  ...,     0,     0,     0],\n",
      "        ...,\n",
      "        [    2,  6926,    79,  ...,     0,     0,     0],\n",
      "        [    2,    13,     1,  ...,     0,     0,     0],\n",
      "        [    2,    13,     1,  ...,     0,     0,     0]]), 'attention_mask': tensor([[1, 1, 1,  ..., 0, 0, 0],\n",
      "        [1, 1, 1,  ..., 0, 0, 0],\n",
      "        [1, 1, 1,  ..., 0, 0, 0],\n",
      "        ...,\n",
      "        [1, 1, 1,  ..., 0, 0, 0],\n",
      "        [1, 1, 1,  ..., 0, 0, 0],\n",
      "        [1, 1, 1,  ..., 0, 0, 0]])}\n",
      "{'label': tensor([0, 0, 0, 1, 0, 0, 1, 1, 0, 1, 0, 0, 0, 1, 0, 0]), 'input_ids': tensor([[ 2, 13,  1,  ...,  0,  0,  0],\n",
      "        [ 2, 13,  1,  ...,  0,  0,  0],\n",
      "        [ 2, 13,  1,  ...,  0,  0,  0],\n",
      "        ...,\n",
      "        [ 2, 13,  1,  ...,  0,  0,  0],\n",
      "        [ 2, 13,  1,  ...,  0,  0,  0],\n",
      "        [ 2, 13,  1,  ...,  0,  0,  0]]), 'attention_mask': tensor([[1, 1, 1,  ..., 0, 0, 0],\n",
      "        [1, 1, 1,  ..., 0, 0, 0],\n",
      "        [1, 1, 1,  ..., 0, 0, 0],\n",
      "        ...,\n",
      "        [1, 1, 1,  ..., 0, 0, 0],\n",
      "        [1, 1, 1,  ..., 0, 0, 0],\n",
      "        [1, 1, 1,  ..., 0, 0, 0]])}\n",
      "{'label': tensor([1, 0, 1, 0, 0, 1, 1, 0, 0, 0, 1, 0, 1, 0, 1, 1]), 'input_ids': tensor([[ 2, 13,  1,  ...,  0,  0,  0],\n",
      "        [ 2, 13,  1,  ...,  0,  0,  0],\n",
      "        [ 2, 13,  1,  ...,  0,  0,  0],\n",
      "        ...,\n",
      "        [ 2, 13,  1,  ...,  0,  0,  0],\n",
      "        [ 2, 13,  1,  ...,  0,  0,  0],\n",
      "        [ 2, 13,  1,  ...,  0,  0,  0]]), 'attention_mask': tensor([[1, 1, 1,  ..., 0, 0, 0],\n",
      "        [1, 1, 1,  ..., 0, 0, 0],\n",
      "        [1, 1, 1,  ..., 0, 0, 0],\n",
      "        ...,\n",
      "        [1, 1, 1,  ..., 0, 0, 0],\n",
      "        [1, 1, 1,  ..., 0, 0, 0],\n",
      "        [1, 1, 1,  ..., 0, 0, 0]])}\n",
      "{'label': tensor([1, 1, 0, 1, 0, 0, 0, 1, 1, 1, 0, 0, 0, 1, 0, 0]), 'input_ids': tensor([[    2,    13,     1,  ...,     1, 16704,     3],\n",
      "        [    2,    13,     1,  ...,     0,     0,     0],\n",
      "        [    2,    13,     1,  ...,     0,     0,     0],\n",
      "        ...,\n",
      "        [    2,    13,     1,  ...,     0,     0,     0],\n",
      "        [    2,    13,     9,  ...,     0,     0,     0],\n",
      "        [    2,    13,     1,  ...,     0,     0,     0]]), 'attention_mask': tensor([[1, 1, 1,  ..., 1, 1, 1],\n",
      "        [1, 1, 1,  ..., 0, 0, 0],\n",
      "        [1, 1, 1,  ..., 0, 0, 0],\n",
      "        ...,\n",
      "        [1, 1, 1,  ..., 0, 0, 0],\n",
      "        [1, 1, 1,  ..., 0, 0, 0],\n",
      "        [1, 1, 1,  ..., 0, 0, 0]])}\n",
      "{'label': tensor([0, 0, 1, 0, 0, 1, 1, 1, 0, 0, 0, 1, 0, 1, 0, 1]), 'input_ids': tensor([[   2, 6926, 6416,  ...,    0,    0,    0],\n",
      "        [   2,   13,    1,  ...,    0,    0,    0],\n",
      "        [   2,   13,    1,  ...,    0,    0,    0],\n",
      "        ...,\n",
      "        [   2,   13,    1,  ...,    0,    0,    0],\n",
      "        [   2,   13,    1,  ...,    0,    0,    0],\n",
      "        [   2,   13,    1,  ...,    0,    0,    0]]), 'attention_mask': tensor([[1, 1, 1,  ..., 0, 0, 0],\n",
      "        [1, 1, 1,  ..., 0, 0, 0],\n",
      "        [1, 1, 1,  ..., 0, 0, 0],\n",
      "        ...,\n",
      "        [1, 1, 1,  ..., 0, 0, 0],\n",
      "        [1, 1, 1,  ..., 0, 0, 0],\n",
      "        [1, 1, 1,  ..., 0, 0, 0]])}\n",
      "{'label': tensor([0, 0, 0, 0, 0, 0, 1, 0, 0, 0, 1, 0, 0, 0, 1, 1]), 'input_ids': tensor([[ 2, 13,  1,  ...,  0,  0,  0],\n",
      "        [ 2, 13,  1,  ...,  0,  0,  0],\n",
      "        [ 2, 13,  1,  ...,  0,  0,  0],\n",
      "        ...,\n",
      "        [ 2, 13,  1,  ...,  0,  0,  0],\n",
      "        [ 2, 13,  1,  ...,  0,  0,  0],\n",
      "        [ 2, 13,  1,  ...,  0,  0,  0]]), 'attention_mask': tensor([[1, 1, 1,  ..., 0, 0, 0],\n",
      "        [1, 1, 1,  ..., 0, 0, 0],\n",
      "        [1, 1, 1,  ..., 0, 0, 0],\n",
      "        ...,\n",
      "        [1, 1, 1,  ..., 0, 0, 0],\n",
      "        [1, 1, 1,  ..., 0, 0, 0],\n",
      "        [1, 1, 1,  ..., 0, 0, 0]])}\n",
      "{'label': tensor([1, 0, 0, 1, 0, 0, 1, 1, 0, 0, 1, 0, 0, 0, 0, 0]), 'input_ids': tensor([[   2,  172,  974,  ...,    0,    0,    0],\n",
      "        [   2, 7216, 3129,  ...,    0,    0,    0],\n",
      "        [   2,  203,    9,  ...,    0,    0,    0],\n",
      "        ...,\n",
      "        [   2,   13,    1,  ...,    0,    0,    0],\n",
      "        [   2,   13,    1,  ...,    0,    0,    0],\n",
      "        [   2,   13,    1,  ...,    0,    0,    0]]), 'attention_mask': tensor([[1, 1, 1,  ..., 0, 0, 0],\n",
      "        [1, 1, 1,  ..., 0, 0, 0],\n",
      "        [1, 1, 1,  ..., 0, 0, 0],\n",
      "        ...,\n",
      "        [1, 1, 1,  ..., 0, 0, 0],\n",
      "        [1, 1, 1,  ..., 0, 0, 0],\n",
      "        [1, 1, 1,  ..., 0, 0, 0]])}\n",
      "{'label': tensor([1, 1, 0, 0, 0, 1, 0, 1, 1, 1, 1, 0, 1, 0, 0, 1]), 'input_ids': tensor([[ 2, 13,  1,  ...,  0,  0,  0],\n",
      "        [ 2, 13,  1,  ...,  0,  0,  0],\n",
      "        [ 2, 13,  1,  ...,  0,  0,  0],\n",
      "        ...,\n",
      "        [ 2, 13,  1,  ...,  0,  0,  0],\n",
      "        [ 2, 13,  1,  ...,  0,  0,  0],\n",
      "        [ 2, 13,  1,  ...,  0,  0,  0]]), 'attention_mask': tensor([[1, 1, 1,  ..., 0, 0, 0],\n",
      "        [1, 1, 1,  ..., 0, 0, 0],\n",
      "        [1, 1, 1,  ..., 0, 0, 0],\n",
      "        ...,\n",
      "        [1, 1, 1,  ..., 0, 0, 0],\n",
      "        [1, 1, 1,  ..., 0, 0, 0],\n",
      "        [1, 1, 1,  ..., 0, 0, 0]])}\n",
      "{'label': tensor([0, 1, 1, 0, 0, 0, 0, 1, 0, 1, 1, 0, 0, 1, 1, 1]), 'input_ids': tensor([[  2,  13,   1,  ...,   0,   0,   0],\n",
      "        [  2, 268,  70,  ...,   0,   0,   0],\n",
      "        [  2,  13,   1,  ...,   0,   0,   0],\n",
      "        ...,\n",
      "        [  2,  14,  13,  ...,   0,   0,   0],\n",
      "        [  2,  13,   1,  ...,   0,   0,   0],\n",
      "        [  2,  13,   1,  ...,   0,   0,   0]]), 'attention_mask': tensor([[1, 1, 1,  ..., 0, 0, 0],\n",
      "        [1, 1, 1,  ..., 0, 0, 0],\n",
      "        [1, 1, 1,  ..., 0, 0, 0],\n",
      "        ...,\n",
      "        [1, 1, 1,  ..., 0, 0, 0],\n",
      "        [1, 1, 1,  ..., 0, 0, 0],\n",
      "        [1, 1, 1,  ..., 0, 0, 0]])}\n",
      "{'label': tensor([0, 1, 1, 1, 1, 0, 1, 0, 0, 1, 0, 0, 0, 1, 0, 0]), 'input_ids': tensor([[   2,   13,    1,  ...,    0,    0,    0],\n",
      "        [   2,   13,    1,  ...,    0,    0,    0],\n",
      "        [   2, 7806,   17,  ...,    0,    0,    0],\n",
      "        ...,\n",
      "        [   2,   13,    1,  ...,    0,    0,    0],\n",
      "        [   2,   13,    9,  ...,    0,    0,    0],\n",
      "        [   2,   13,    1,  ...,    0,    0,    0]]), 'attention_mask': tensor([[1, 1, 1,  ..., 0, 0, 0],\n",
      "        [1, 1, 1,  ..., 0, 0, 0],\n",
      "        [1, 1, 1,  ..., 0, 0, 0],\n",
      "        ...,\n",
      "        [1, 1, 1,  ..., 0, 0, 0],\n",
      "        [1, 1, 1,  ..., 0, 0, 0],\n",
      "        [1, 1, 1,  ..., 0, 0, 0]])}\n",
      "{'label': tensor([1, 0, 0, 0, 1, 1, 1, 0, 1, 0, 0, 0, 0, 0, 0, 1]), 'input_ids': tensor([[ 2, 13,  1,  ...,  0,  0,  0],\n",
      "        [ 2, 13,  1,  ...,  0,  0,  0],\n",
      "        [ 2, 13,  1,  ...,  0,  0,  0],\n",
      "        ...,\n",
      "        [ 2, 13,  1,  ...,  0,  0,  0],\n",
      "        [ 2, 13,  1,  ...,  0,  0,  0],\n",
      "        [ 2, 13,  1,  ...,  0,  0,  0]]), 'attention_mask': tensor([[1, 1, 1,  ..., 0, 0, 0],\n",
      "        [1, 1, 1,  ..., 0, 0, 0],\n",
      "        [1, 1, 1,  ..., 0, 0, 0],\n",
      "        ...,\n",
      "        [1, 1, 1,  ..., 0, 0, 0],\n",
      "        [1, 1, 1,  ..., 0, 0, 0],\n",
      "        [1, 1, 1,  ..., 0, 0, 0]])}\n",
      "{'label': tensor([0, 0, 0, 1, 0, 0, 0, 0, 0, 0, 0, 1, 0, 0, 0, 0]), 'input_ids': tensor([[ 2, 13,  1,  ...,  0,  0,  0],\n",
      "        [ 2, 13,  1,  ...,  0,  0,  0],\n",
      "        [ 2, 13,  1,  ...,  0,  0,  0],\n",
      "        ...,\n",
      "        [ 2, 13,  1,  ...,  0,  0,  0],\n",
      "        [ 2, 13,  1,  ...,  0,  0,  0],\n",
      "        [ 2, 13,  1,  ...,  0,  0,  0]]), 'attention_mask': tensor([[1, 1, 1,  ..., 0, 0, 0],\n",
      "        [1, 1, 1,  ..., 0, 0, 0],\n",
      "        [1, 1, 1,  ..., 0, 0, 0],\n",
      "        ...,\n",
      "        [1, 1, 1,  ..., 0, 0, 0],\n",
      "        [1, 1, 1,  ..., 0, 0, 0],\n",
      "        [1, 1, 1,  ..., 0, 0, 0]])}\n",
      "{'label': tensor([1, 0, 0, 0, 0, 0, 0, 0, 1, 1, 1, 0, 0, 1, 0, 0]), 'input_ids': tensor([[  2,  13,   1,  ...,   0,   0,   0],\n",
      "        [  2,  13,   1,  ...,   0,   0,   0],\n",
      "        [  2,  13,   1,  ...,   0,   0,   0],\n",
      "        ...,\n",
      "        [  2,  13,   1,  ...,   0,   0,   0],\n",
      "        [  2,  14, 346,  ...,   0,   0,   0],\n",
      "        [  2,  13,   1,  ...,   0,   0,   0]]), 'attention_mask': tensor([[1, 1, 1,  ..., 0, 0, 0],\n",
      "        [1, 1, 1,  ..., 0, 0, 0],\n",
      "        [1, 1, 1,  ..., 0, 0, 0],\n",
      "        ...,\n",
      "        [1, 1, 1,  ..., 0, 0, 0],\n",
      "        [1, 1, 1,  ..., 0, 0, 0],\n",
      "        [1, 1, 1,  ..., 0, 0, 0]])}\n",
      "{'label': tensor([0, 0, 0, 0, 1, 0, 0, 1, 1, 0, 0, 0, 0, 0, 1, 0]), 'input_ids': tensor([[   2,   13,    1,  ...,    0,    0,    0],\n",
      "        [   2,   13,    1,  ...,    0,    0,    0],\n",
      "        [   2,   13,    1,  ...,    0,    0,    0],\n",
      "        ...,\n",
      "        [   2,   13,    1,  ...,    0,    0,    0],\n",
      "        [   2, 6926,  839,  ...,    0,    0,    0],\n",
      "        [   2,   13,    1,  ...,    0,    0,    0]]), 'attention_mask': tensor([[1, 1, 1,  ..., 0, 0, 0],\n",
      "        [1, 1, 1,  ..., 0, 0, 0],\n",
      "        [1, 1, 1,  ..., 0, 0, 0],\n",
      "        ...,\n",
      "        [1, 1, 1,  ..., 0, 0, 0],\n",
      "        [1, 1, 1,  ..., 0, 0, 0],\n",
      "        [1, 1, 1,  ..., 0, 0, 0]])}\n",
      "{'label': tensor([1, 0, 0, 0, 0, 0, 0, 0, 0, 1, 0, 0, 0, 0, 0, 1]), 'input_ids': tensor([[  2,  13,   1,  ...,   0,   0,   0],\n",
      "        [  2,  90, 376,  ...,   0,   0,   0],\n",
      "        [  2,  13,   1,  ...,   0,   0,   0],\n",
      "        ...,\n",
      "        [  2,  13,   1,  ...,   0,   0,   0],\n",
      "        [  2,  13,   1,  ...,   0,   0,   0],\n",
      "        [  2,  13,   1,  ...,   0,   0,   0]]), 'attention_mask': tensor([[1, 1, 1,  ..., 0, 0, 0],\n",
      "        [1, 1, 1,  ..., 0, 0, 0],\n",
      "        [1, 1, 1,  ..., 0, 0, 0],\n",
      "        ...,\n",
      "        [1, 1, 1,  ..., 0, 0, 0],\n",
      "        [1, 1, 1,  ..., 0, 0, 0],\n",
      "        [1, 1, 1,  ..., 0, 0, 0]])}\n",
      "{'label': tensor([0, 1, 0, 0, 0, 0, 0, 0, 0, 0, 0, 1, 0, 1, 0, 0]), 'input_ids': tensor([[   2,   13,    1,  ...,    0,    0,    0],\n",
      "        [   2,   13,    1,  ...,    0,    0,    0],\n",
      "        [   2,   13,    1,  ...,    0,    0,    0],\n",
      "        ...,\n",
      "        [   2,   13,    1,  ...,    0,    0,    0],\n",
      "        [   2,   13,    1,  ...,    0,    0,    0],\n",
      "        [   2, 8980, 3951,  ...,    0,    0,    0]]), 'attention_mask': tensor([[1, 1, 1,  ..., 0, 0, 0],\n",
      "        [1, 1, 1,  ..., 0, 0, 0],\n",
      "        [1, 1, 1,  ..., 0, 0, 0],\n",
      "        ...,\n",
      "        [1, 1, 1,  ..., 0, 0, 0],\n",
      "        [1, 1, 1,  ..., 0, 0, 0],\n",
      "        [1, 1, 1,  ..., 0, 0, 0]])}\n",
      "{'label': tensor([0, 1, 0, 0, 0, 0, 1, 1, 1, 1, 0, 1, 0, 1, 1, 0]), 'input_ids': tensor([[ 2, 13,  1,  ...,  0,  0,  0],\n",
      "        [ 2, 13,  1,  ...,  0,  0,  0],\n",
      "        [ 2, 13,  1,  ...,  0,  0,  0],\n",
      "        ...,\n",
      "        [ 2, 13,  1,  ...,  0,  0,  0],\n",
      "        [ 2, 13,  1,  ...,  0,  0,  0],\n",
      "        [ 2, 13,  1,  ...,  0,  0,  0]]), 'attention_mask': tensor([[1, 1, 1,  ..., 0, 0, 0],\n",
      "        [1, 1, 1,  ..., 0, 0, 0],\n",
      "        [1, 1, 1,  ..., 0, 0, 0],\n",
      "        ...,\n",
      "        [1, 1, 1,  ..., 0, 0, 0],\n",
      "        [1, 1, 1,  ..., 0, 0, 0],\n",
      "        [1, 1, 1,  ..., 0, 0, 0]])}\n",
      "{'label': tensor([0, 0, 1, 1, 1, 1, 0, 1, 1, 0, 0, 0, 0, 1, 1, 0]), 'input_ids': tensor([[ 2, 13,  1,  ...,  0,  0,  0],\n",
      "        [ 2, 13,  1,  ...,  0,  0,  0],\n",
      "        [ 2, 13,  1,  ...,  0,  0,  0],\n",
      "        ...,\n",
      "        [ 2, 13,  1,  ...,  0,  0,  0],\n",
      "        [ 2, 13,  1,  ...,  0,  0,  0],\n",
      "        [ 2, 13,  1,  ...,  0,  0,  0]]), 'attention_mask': tensor([[1, 1, 1,  ..., 0, 0, 0],\n",
      "        [1, 1, 1,  ..., 0, 0, 0],\n",
      "        [1, 1, 1,  ..., 0, 0, 0],\n",
      "        ...,\n",
      "        [1, 1, 1,  ..., 0, 0, 0],\n",
      "        [1, 1, 1,  ..., 0, 0, 0],\n",
      "        [1, 1, 1,  ..., 0, 0, 0]])}\n",
      "{'label': tensor([1, 0, 1, 0, 0, 1, 0, 1, 1, 0, 0, 0, 0, 1, 1, 0]), 'input_ids': tensor([[ 2, 13,  1,  ...,  0,  0,  0],\n",
      "        [ 2, 13,  1,  ...,  0,  0,  0],\n",
      "        [ 2, 13,  1,  ...,  0,  0,  0],\n",
      "        ...,\n",
      "        [ 2, 13,  1,  ...,  0,  0,  0],\n",
      "        [ 2, 13,  1,  ...,  0,  0,  0],\n",
      "        [ 2, 13,  1,  ...,  0,  0,  0]]), 'attention_mask': tensor([[1, 1, 1,  ..., 0, 0, 0],\n",
      "        [1, 1, 1,  ..., 0, 0, 0],\n",
      "        [1, 1, 1,  ..., 0, 0, 0],\n",
      "        ...,\n",
      "        [1, 1, 1,  ..., 0, 0, 0],\n",
      "        [1, 1, 1,  ..., 0, 0, 0],\n",
      "        [1, 1, 1,  ..., 0, 0, 0]])}\n",
      "{'label': tensor([0, 0, 1, 0, 0, 1, 0, 1, 0, 1, 1, 0, 1, 0, 1, 0]), 'input_ids': tensor([[ 2, 13,  1,  ...,  0,  0,  0],\n",
      "        [ 2, 13,  1,  ...,  0,  0,  0],\n",
      "        [ 2, 13,  1,  ...,  0,  0,  0],\n",
      "        ...,\n",
      "        [ 2, 13,  1,  ...,  0,  0,  0],\n",
      "        [ 2, 13,  1,  ...,  0,  0,  0],\n",
      "        [ 2, 13,  1,  ...,  0,  0,  0]]), 'attention_mask': tensor([[1, 1, 1,  ..., 0, 0, 0],\n",
      "        [1, 1, 1,  ..., 0, 0, 0],\n",
      "        [1, 1, 1,  ..., 0, 0, 0],\n",
      "        ...,\n",
      "        [1, 1, 1,  ..., 0, 0, 0],\n",
      "        [1, 1, 1,  ..., 0, 0, 0],\n",
      "        [1, 1, 1,  ..., 0, 0, 0]])}\n",
      "{'label': tensor([0, 0, 1, 0, 0, 0, 1, 0, 1, 1, 0, 0, 0, 1, 0, 0]), 'input_ids': tensor([[   2,   13,    1,  ...,    0,    0,    0],\n",
      "        [   2,   13,    1,  ...,    0,    0,    0],\n",
      "        [   2,   13,    1,  ...,    0,    0,    0],\n",
      "        ...,\n",
      "        [   2,   13,    1,  ...,    0,    0,    0],\n",
      "        [   2, 6926, 3264,  ...,    0,    0,    0],\n",
      "        [   2,   13,    1,  ...,    0,    0,    0]]), 'attention_mask': tensor([[1, 1, 1,  ..., 0, 0, 0],\n",
      "        [1, 1, 1,  ..., 0, 0, 0],\n",
      "        [1, 1, 1,  ..., 0, 0, 0],\n",
      "        ...,\n",
      "        [1, 1, 1,  ..., 0, 0, 0],\n",
      "        [1, 1, 1,  ..., 0, 0, 0],\n",
      "        [1, 1, 1,  ..., 0, 0, 0]])}\n",
      "{'label': tensor([0, 0, 1, 0, 0, 0, 0, 1, 0, 0, 0, 0, 0, 1, 1, 0]), 'input_ids': tensor([[ 2, 13,  1,  ...,  0,  0,  0],\n",
      "        [ 2, 13,  1,  ...,  0,  0,  0],\n",
      "        [ 2, 13,  1,  ...,  0,  0,  0],\n",
      "        ...,\n",
      "        [ 2, 13,  1,  ...,  0,  0,  0],\n",
      "        [ 2, 13,  1,  ...,  0,  0,  0],\n",
      "        [ 2, 13,  1,  ...,  0,  0,  0]]), 'attention_mask': tensor([[1, 1, 1,  ..., 0, 0, 0],\n",
      "        [1, 1, 1,  ..., 0, 0, 0],\n",
      "        [1, 1, 1,  ..., 0, 0, 0],\n",
      "        ...,\n",
      "        [1, 1, 1,  ..., 0, 0, 0],\n",
      "        [1, 1, 1,  ..., 0, 0, 0],\n",
      "        [1, 1, 1,  ..., 0, 0, 0]])}\n",
      "{'label': tensor([0, 1, 1, 0, 0, 0, 1, 0, 0, 0, 0, 0, 1, 0, 1, 1]), 'input_ids': tensor([[ 2, 13,  1,  ...,  0,  0,  0],\n",
      "        [ 2, 13,  1,  ...,  0,  0,  0],\n",
      "        [ 2, 13,  1,  ...,  0,  0,  0],\n",
      "        ...,\n",
      "        [ 2, 13,  1,  ...,  0,  0,  0],\n",
      "        [ 2, 13,  1,  ...,  0,  0,  0],\n",
      "        [ 2, 13,  1,  ...,  0,  0,  0]]), 'attention_mask': tensor([[1, 1, 1,  ..., 0, 0, 0],\n",
      "        [1, 1, 1,  ..., 0, 0, 0],\n",
      "        [1, 1, 1,  ..., 0, 0, 0],\n",
      "        ...,\n",
      "        [1, 1, 1,  ..., 0, 0, 0],\n",
      "        [1, 1, 1,  ..., 0, 0, 0],\n",
      "        [1, 1, 1,  ..., 0, 0, 0]])}\n",
      "{'label': tensor([0, 0, 1, 0, 0, 0, 0, 0, 0, 0, 0, 0, 0, 0, 0, 0]), 'input_ids': tensor([[ 2, 13,  1,  ...,  0,  0,  0],\n",
      "        [ 2, 13,  1,  ...,  0,  0,  0],\n",
      "        [ 2, 13,  1,  ...,  0,  0,  0],\n",
      "        ...,\n",
      "        [ 2, 92, 95,  ...,  0,  0,  0],\n",
      "        [ 2, 13,  1,  ...,  0,  0,  0],\n",
      "        [ 2, 13,  1,  ...,  0,  0,  0]]), 'attention_mask': tensor([[1, 1, 1,  ..., 0, 0, 0],\n",
      "        [1, 1, 1,  ..., 0, 0, 0],\n",
      "        [1, 1, 1,  ..., 0, 0, 0],\n",
      "        ...,\n",
      "        [1, 1, 1,  ..., 0, 0, 0],\n",
      "        [1, 1, 1,  ..., 0, 0, 0],\n",
      "        [1, 1, 1,  ..., 0, 0, 0]])}\n",
      "{'label': tensor([0, 0, 0, 1, 1, 1, 0, 0, 0, 0, 0, 1, 1, 0, 1, 0]), 'input_ids': tensor([[ 2, 13,  1,  ...,  0,  0,  0],\n",
      "        [ 2, 13,  1,  ...,  0,  0,  0],\n",
      "        [ 2, 13,  1,  ...,  0,  0,  0],\n",
      "        ...,\n",
      "        [ 2, 13,  1,  ...,  0,  0,  0],\n",
      "        [ 2, 13,  1,  ...,  0,  0,  0],\n",
      "        [ 2, 13,  1,  ...,  0,  0,  0]]), 'attention_mask': tensor([[1, 1, 1,  ..., 0, 0, 0],\n",
      "        [1, 1, 1,  ..., 0, 0, 0],\n",
      "        [1, 1, 1,  ..., 0, 0, 0],\n",
      "        ...,\n",
      "        [1, 1, 1,  ..., 0, 0, 0],\n",
      "        [1, 1, 1,  ..., 0, 0, 0],\n",
      "        [1, 1, 1,  ..., 0, 0, 0]])}\n",
      "{'label': tensor([0, 0, 0, 0, 1, 0, 1, 0, 0, 1, 0, 1, 0, 0, 0, 0]), 'input_ids': tensor([[    2,    13,     1,  ...,     0,     0,     0],\n",
      "        [    2,    13,     1,  ...,     0,     0,     0],\n",
      "        [    2,    13,     1,  ...,     0,     0,     0],\n",
      "        ...,\n",
      "        [    2,    13,     1,  ...,     0,     0,     0],\n",
      "        [    2,  1948, 14525,  ...,     0,     0,     0],\n",
      "        [    2,    13,     1,  ...,     0,     0,     0]]), 'attention_mask': tensor([[1, 1, 1,  ..., 0, 0, 0],\n",
      "        [1, 1, 1,  ..., 0, 0, 0],\n",
      "        [1, 1, 1,  ..., 0, 0, 0],\n",
      "        ...,\n",
      "        [1, 1, 1,  ..., 0, 0, 0],\n",
      "        [1, 1, 1,  ..., 0, 0, 0],\n",
      "        [1, 1, 1,  ..., 0, 0, 0]])}\n",
      "{'label': tensor([1, 0, 0, 1, 0, 1, 0, 0, 0, 1, 1, 0, 1, 0, 0, 0]), 'input_ids': tensor([[ 2, 13,  1,  ...,  0,  0,  0],\n",
      "        [ 2, 13,  1,  ...,  0,  0,  0],\n",
      "        [ 2, 13,  1,  ...,  0,  0,  0],\n",
      "        ...,\n",
      "        [ 2, 13,  1,  ...,  0,  0,  0],\n",
      "        [ 2, 13,  1,  ...,  0,  0,  0],\n",
      "        [ 2, 13,  1,  ...,  0,  0,  0]]), 'attention_mask': tensor([[1, 1, 1,  ..., 0, 0, 0],\n",
      "        [1, 1, 1,  ..., 0, 0, 0],\n",
      "        [1, 1, 1,  ..., 0, 0, 0],\n",
      "        ...,\n",
      "        [1, 1, 1,  ..., 0, 0, 0],\n",
      "        [1, 1, 1,  ..., 0, 0, 0],\n",
      "        [1, 1, 1,  ..., 0, 0, 0]])}\n",
      "{'label': tensor([1, 1, 0, 1, 0, 0, 1, 1, 0, 0, 0, 1, 0, 0, 1, 0]), 'input_ids': tensor([[ 2, 13,  1,  ...,  0,  0,  0],\n",
      "        [ 2, 13,  1,  ...,  0,  0,  0],\n",
      "        [ 2, 13,  1,  ...,  0,  0,  0],\n",
      "        ...,\n",
      "        [ 2, 13,  1,  ...,  0,  0,  0],\n",
      "        [ 2, 13,  1,  ...,  0,  0,  0],\n",
      "        [ 2, 13,  1,  ...,  0,  0,  0]]), 'attention_mask': tensor([[1, 1, 1,  ..., 0, 0, 0],\n",
      "        [1, 1, 1,  ..., 0, 0, 0],\n",
      "        [1, 1, 1,  ..., 0, 0, 0],\n",
      "        ...,\n",
      "        [1, 1, 1,  ..., 0, 0, 0],\n",
      "        [1, 1, 1,  ..., 0, 0, 0],\n",
      "        [1, 1, 1,  ..., 0, 0, 0]])}\n",
      "{'label': tensor([1, 0, 1, 1, 1, 0, 1, 0, 0, 1, 0, 0, 1, 0, 1, 0]), 'input_ids': tensor([[   2,   13,    1,  ...,    0,    0,    0],\n",
      "        [   2,  331,    9,  ...,    0,    0,    0],\n",
      "        [   2,   21, 6643,  ...,    0,    0,    0],\n",
      "        ...,\n",
      "        [   2,   13,    1,  ...,    0,    0,    0],\n",
      "        [   2,   13,    1,  ...,    0,    0,    0],\n",
      "        [   2,   13,    1,  ...,    0,    0,    0]]), 'attention_mask': tensor([[1, 1, 1,  ..., 0, 0, 0],\n",
      "        [1, 1, 1,  ..., 0, 0, 0],\n",
      "        [1, 1, 1,  ..., 0, 0, 0],\n",
      "        ...,\n",
      "        [1, 1, 1,  ..., 0, 0, 0],\n",
      "        [1, 1, 1,  ..., 0, 0, 0],\n",
      "        [1, 1, 1,  ..., 0, 0, 0]])}\n",
      "{'label': tensor([1, 1, 0, 0, 0, 0, 1, 0, 1, 0, 0, 0, 0, 1, 1, 0]), 'input_ids': tensor([[   2,   13,    1,  ...,    0,    0,    0],\n",
      "        [   2,   13,    1,  ...,    0,    0,    0],\n",
      "        [   2, 6926,  657,  ...,    0,    0,    0],\n",
      "        ...,\n",
      "        [   2,   13,    1,  ...,    0,    0,    0],\n",
      "        [   2,   13,    1,  ...,    0,    0,    0],\n",
      "        [   2,   13,    1,  ...,    0,    0,    0]]), 'attention_mask': tensor([[1, 1, 1,  ..., 0, 0, 0],\n",
      "        [1, 1, 1,  ..., 0, 0, 0],\n",
      "        [1, 1, 1,  ..., 0, 0, 0],\n",
      "        ...,\n",
      "        [1, 1, 1,  ..., 0, 0, 0],\n",
      "        [1, 1, 1,  ..., 0, 0, 0],\n",
      "        [1, 1, 1,  ..., 0, 0, 0]])}\n",
      "{'label': tensor([1, 0, 0, 0, 0, 0, 1, 0, 0, 0, 0, 1, 0, 0, 0, 0]), 'input_ids': tensor([[ 2, 13,  1,  ...,  0,  0,  0],\n",
      "        [ 2, 13,  1,  ...,  0,  0,  0],\n",
      "        [ 2, 13,  1,  ...,  0,  0,  0],\n",
      "        ...,\n",
      "        [ 2, 13,  1,  ...,  0,  0,  0],\n",
      "        [ 2, 13,  1,  ...,  0,  0,  0],\n",
      "        [ 2, 13,  1,  ...,  0,  0,  0]]), 'attention_mask': tensor([[1, 1, 1,  ..., 0, 0, 0],\n",
      "        [1, 1, 1,  ..., 0, 0, 0],\n",
      "        [1, 1, 1,  ..., 0, 0, 0],\n",
      "        ...,\n",
      "        [1, 1, 1,  ..., 0, 0, 0],\n",
      "        [1, 1, 1,  ..., 0, 0, 0],\n",
      "        [1, 1, 1,  ..., 0, 0, 0]])}\n",
      "{'label': tensor([0, 0, 0, 0, 1, 0, 1, 0, 0, 0, 0, 0, 0, 1, 0, 0]), 'input_ids': tensor([[ 2, 13,  1,  ...,  0,  0,  0],\n",
      "        [ 2, 13,  1,  ...,  0,  0,  0],\n",
      "        [ 2, 13,  1,  ...,  0,  0,  0],\n",
      "        ...,\n",
      "        [ 2, 13,  1,  ...,  0,  0,  0],\n",
      "        [ 2, 13,  1,  ...,  0,  0,  0],\n",
      "        [ 2, 13,  1,  ...,  0,  0,  0]]), 'attention_mask': tensor([[1, 1, 1,  ..., 0, 0, 0],\n",
      "        [1, 1, 1,  ..., 0, 0, 0],\n",
      "        [1, 1, 1,  ..., 0, 0, 0],\n",
      "        ...,\n",
      "        [1, 1, 1,  ..., 0, 0, 0],\n",
      "        [1, 1, 1,  ..., 0, 0, 0],\n",
      "        [1, 1, 1,  ..., 0, 0, 0]])}\n",
      "{'label': tensor([0, 0, 0, 0, 1, 0, 0, 0, 0, 0, 0, 0, 0, 0, 0, 1]), 'input_ids': tensor([[   2,   13,    1,  ...,    0,    0,    0],\n",
      "        [   2,   13,    1,  ...,    0,    0,    0],\n",
      "        [   2,   13,    1,  ...,    0,    0,    0],\n",
      "        ...,\n",
      "        [   2, 6926, 1887,  ...,    0,    0,    0],\n",
      "        [   2,   13,    1,  ...,    0,    0,    0],\n",
      "        [   2,   13,    1,  ...,    0,    0,    0]]), 'attention_mask': tensor([[1, 1, 1,  ..., 0, 0, 0],\n",
      "        [1, 1, 1,  ..., 0, 0, 0],\n",
      "        [1, 1, 1,  ..., 0, 0, 0],\n",
      "        ...,\n",
      "        [1, 1, 1,  ..., 0, 0, 0],\n",
      "        [1, 1, 1,  ..., 0, 0, 0],\n",
      "        [1, 1, 1,  ..., 0, 0, 0]])}\n",
      "{'label': tensor([0, 0, 0, 0, 1, 0, 1, 0, 0, 1, 0, 0, 0, 1, 1, 1]), 'input_ids': tensor([[ 2, 13,  1,  ...,  0,  0,  0],\n",
      "        [ 2, 13,  1,  ...,  0,  0,  0],\n",
      "        [ 2, 13,  1,  ...,  0,  0,  0],\n",
      "        ...,\n",
      "        [ 2, 13,  1,  ...,  0,  0,  0],\n",
      "        [ 2, 13,  1,  ...,  0,  0,  0],\n",
      "        [ 2, 13,  1,  ...,  0,  0,  0]]), 'attention_mask': tensor([[1, 1, 1,  ..., 0, 0, 0],\n",
      "        [1, 1, 1,  ..., 0, 0, 0],\n",
      "        [1, 1, 1,  ..., 0, 0, 0],\n",
      "        ...,\n",
      "        [1, 1, 1,  ..., 0, 0, 0],\n",
      "        [1, 1, 1,  ..., 0, 0, 0],\n",
      "        [1, 1, 1,  ..., 0, 0, 0]])}\n",
      "{'label': tensor([0, 1, 1, 0, 0, 1, 0, 1, 0, 0, 0, 1, 1, 0, 0, 0]), 'input_ids': tensor([[ 2, 13,  1,  ...,  0,  0,  0],\n",
      "        [ 2, 13,  1,  ...,  0,  0,  0],\n",
      "        [ 2, 13,  1,  ...,  0,  0,  0],\n",
      "        ...,\n",
      "        [ 2, 13,  1,  ...,  0,  0,  0],\n",
      "        [ 2, 13,  1,  ...,  0,  0,  0],\n",
      "        [ 2, 13,  1,  ...,  0,  0,  0]]), 'attention_mask': tensor([[1, 1, 1,  ..., 0, 0, 0],\n",
      "        [1, 1, 1,  ..., 0, 0, 0],\n",
      "        [1, 1, 1,  ..., 0, 0, 0],\n",
      "        ...,\n",
      "        [1, 1, 1,  ..., 0, 0, 0],\n",
      "        [1, 1, 1,  ..., 0, 0, 0],\n",
      "        [1, 1, 1,  ..., 0, 0, 0]])}\n",
      "{'label': tensor([0, 0, 1, 0, 0, 1, 1, 0, 1, 0, 1, 0, 0, 0, 1, 0]), 'input_ids': tensor([[ 2, 13,  1,  ...,  0,  0,  0],\n",
      "        [ 2, 13,  1,  ...,  0,  0,  0],\n",
      "        [ 2, 13,  1,  ...,  0,  0,  0],\n",
      "        ...,\n",
      "        [ 2, 13,  1,  ...,  0,  0,  0],\n",
      "        [ 2, 13,  1,  ...,  0,  0,  0],\n",
      "        [ 2, 13,  1,  ...,  0,  0,  0]]), 'attention_mask': tensor([[1, 1, 1,  ..., 0, 0, 0],\n",
      "        [1, 1, 1,  ..., 0, 0, 0],\n",
      "        [1, 1, 1,  ..., 0, 0, 0],\n",
      "        ...,\n",
      "        [1, 1, 1,  ..., 0, 0, 0],\n",
      "        [1, 1, 1,  ..., 0, 0, 0],\n",
      "        [1, 1, 1,  ..., 0, 0, 0]])}\n",
      "{'label': tensor([1, 0, 0, 1, 1, 0, 1, 0, 0, 1, 0, 0, 1, 0, 0, 0]), 'input_ids': tensor([[    2,    13,     1,  ...,     0,     0,     0],\n",
      "        [    2,    13,     1,  ...,     0,     0,     0],\n",
      "        [    2,    13,     1,  ...,     1, 16704,     3],\n",
      "        ...,\n",
      "        [    2,    13,     1,  ...,     0,     0,     0],\n",
      "        [    2,    13,     1,  ...,     0,     0,     0],\n",
      "        [    2,    13,     1,  ...,     0,     0,     0]]), 'attention_mask': tensor([[1, 1, 1,  ..., 0, 0, 0],\n",
      "        [1, 1, 1,  ..., 0, 0, 0],\n",
      "        [1, 1, 1,  ..., 1, 1, 1],\n",
      "        ...,\n",
      "        [1, 1, 1,  ..., 0, 0, 0],\n",
      "        [1, 1, 1,  ..., 0, 0, 0],\n",
      "        [1, 1, 1,  ..., 0, 0, 0]])}\n",
      "{'label': tensor([0, 0, 0, 0, 1, 1, 1, 0, 0, 0, 0, 0, 0, 0, 0, 1]), 'input_ids': tensor([[ 2, 13,  1,  ...,  0,  0,  0],\n",
      "        [ 2, 13,  5,  ...,  0,  0,  0],\n",
      "        [ 2, 13,  1,  ...,  0,  0,  0],\n",
      "        ...,\n",
      "        [ 2, 13,  1,  ...,  0,  0,  0],\n",
      "        [ 2, 13,  1,  ...,  0,  0,  0],\n",
      "        [ 2, 13,  1,  ...,  0,  0,  0]]), 'attention_mask': tensor([[1, 1, 1,  ..., 0, 0, 0],\n",
      "        [1, 1, 1,  ..., 0, 0, 0],\n",
      "        [1, 1, 1,  ..., 0, 0, 0],\n",
      "        ...,\n",
      "        [1, 1, 1,  ..., 0, 0, 0],\n",
      "        [1, 1, 1,  ..., 0, 0, 0],\n",
      "        [1, 1, 1,  ..., 0, 0, 0]])}\n",
      "{'label': tensor([0, 0, 0, 1, 0, 0, 0, 0, 1, 0, 0, 0, 1, 0, 0, 0]), 'input_ids': tensor([[ 2, 13,  1,  ...,  0,  0,  0],\n",
      "        [ 2, 13,  1,  ...,  0,  0,  0],\n",
      "        [ 2, 13,  1,  ...,  0,  0,  0],\n",
      "        ...,\n",
      "        [ 2, 13,  1,  ...,  0,  0,  0],\n",
      "        [ 2, 13,  1,  ...,  0,  0,  0],\n",
      "        [ 2, 13,  1,  ...,  0,  0,  0]]), 'attention_mask': tensor([[1, 1, 1,  ..., 0, 0, 0],\n",
      "        [1, 1, 1,  ..., 0, 0, 0],\n",
      "        [1, 1, 1,  ..., 0, 0, 0],\n",
      "        ...,\n",
      "        [1, 1, 1,  ..., 0, 0, 0],\n",
      "        [1, 1, 1,  ..., 0, 0, 0],\n",
      "        [1, 1, 1,  ..., 0, 0, 0]])}\n",
      "{'label': tensor([0, 1, 0, 0, 0, 0, 1, 0, 0, 0, 0, 1, 1, 0, 0, 0]), 'input_ids': tensor([[ 2, 13,  1,  ...,  0,  0,  0],\n",
      "        [ 2, 13,  1,  ...,  0,  0,  0],\n",
      "        [ 2, 13,  1,  ...,  0,  0,  0],\n",
      "        ...,\n",
      "        [ 2, 13,  1,  ...,  0,  0,  0],\n",
      "        [ 2, 13,  1,  ...,  0,  0,  0],\n",
      "        [ 2, 13,  1,  ...,  0,  0,  0]]), 'attention_mask': tensor([[1, 1, 1,  ..., 0, 0, 0],\n",
      "        [1, 1, 1,  ..., 0, 0, 0],\n",
      "        [1, 1, 1,  ..., 0, 0, 0],\n",
      "        ...,\n",
      "        [1, 1, 1,  ..., 0, 0, 0],\n",
      "        [1, 1, 1,  ..., 0, 0, 0],\n",
      "        [1, 1, 1,  ..., 0, 0, 0]])}\n",
      "{'label': tensor([1, 0, 0, 1, 0, 0, 0, 0, 0, 0, 0, 0, 0, 1, 1, 0]), 'input_ids': tensor([[ 2, 13,  1,  ...,  0,  0,  0],\n",
      "        [ 2, 13,  1,  ...,  0,  0,  0],\n",
      "        [ 2, 13,  1,  ...,  0,  0,  0],\n",
      "        ...,\n",
      "        [ 2, 13,  1,  ...,  0,  0,  0],\n",
      "        [ 2, 13,  1,  ...,  0,  0,  0],\n",
      "        [ 2, 13,  1,  ...,  0,  0,  0]]), 'attention_mask': tensor([[1, 1, 1,  ..., 0, 0, 0],\n",
      "        [1, 1, 1,  ..., 0, 0, 0],\n",
      "        [1, 1, 1,  ..., 0, 0, 0],\n",
      "        ...,\n",
      "        [1, 1, 1,  ..., 0, 0, 0],\n",
      "        [1, 1, 1,  ..., 0, 0, 0],\n",
      "        [1, 1, 1,  ..., 0, 0, 0]])}\n",
      "{'label': tensor([1, 0, 1, 1, 0, 1, 0, 0, 1, 0, 1, 1, 1, 1, 0, 0]), 'input_ids': tensor([[    2,    13,     1,  ...,     0,     0,     0],\n",
      "        [    2,  6926, 19274,  ...,     0,     0,     0],\n",
      "        [    2,    13,     1,  ...,     0,     0,     0],\n",
      "        ...,\n",
      "        [    2,    13,     1,  ...,     0,     0,     0],\n",
      "        [    2,    13,     1,  ...,     0,     0,     0],\n",
      "        [    2,    13,     1,  ...,     0,     0,     0]]), 'attention_mask': tensor([[1, 1, 1,  ..., 0, 0, 0],\n",
      "        [1, 1, 1,  ..., 0, 0, 0],\n",
      "        [1, 1, 1,  ..., 0, 0, 0],\n",
      "        ...,\n",
      "        [1, 1, 1,  ..., 0, 0, 0],\n",
      "        [1, 1, 1,  ..., 0, 0, 0],\n",
      "        [1, 1, 1,  ..., 0, 0, 0]])}\n",
      "{'label': tensor([0, 0, 0, 0, 1, 0, 0, 0, 0, 0, 0, 1, 0, 0, 1, 0]), 'input_ids': tensor([[    2,  1878, 12348,  ...,     0,     0,     0],\n",
      "        [    2,    13,     1,  ...,     0,     0,     0],\n",
      "        [    2,    13,     1,  ...,     0,     0,     0],\n",
      "        ...,\n",
      "        [    2,    13,     1,  ...,     0,     0,     0],\n",
      "        [    2,    13,     1,  ...,     0,     0,     0],\n",
      "        [    2,    13,     1,  ...,     0,     0,     0]]), 'attention_mask': tensor([[1, 1, 1,  ..., 0, 0, 0],\n",
      "        [1, 1, 1,  ..., 0, 0, 0],\n",
      "        [1, 1, 1,  ..., 0, 0, 0],\n",
      "        ...,\n",
      "        [1, 1, 1,  ..., 0, 0, 0],\n",
      "        [1, 1, 1,  ..., 0, 0, 0],\n",
      "        [1, 1, 1,  ..., 0, 0, 0]])}\n",
      "{'label': tensor([1, 0, 1, 0, 1, 1, 0, 0, 0, 1, 0, 0, 1, 0, 1, 1]), 'input_ids': tensor([[   2,   13,    1,  ...,    0,    0,    0],\n",
      "        [   2,   13,    1,  ...,    0,    0,    0],\n",
      "        [   2,   13,    1,  ...,    0,    0,    0],\n",
      "        ...,\n",
      "        [   2,   65, 7211,  ...,    0,    0,    0],\n",
      "        [   2,   13,    1,  ...,    0,    0,    0],\n",
      "        [   2,   13,    1,  ...,    0,    0,    0]]), 'attention_mask': tensor([[1, 1, 1,  ..., 0, 0, 0],\n",
      "        [1, 1, 1,  ..., 0, 0, 0],\n",
      "        [1, 1, 1,  ..., 0, 0, 0],\n",
      "        ...,\n",
      "        [1, 1, 1,  ..., 0, 0, 0],\n",
      "        [1, 1, 1,  ..., 0, 0, 0],\n",
      "        [1, 1, 1,  ..., 0, 0, 0]])}\n",
      "{'label': tensor([0, 0, 0, 0, 1, 0, 1, 0, 0, 0, 0, 0, 0, 0, 1, 0]), 'input_ids': tensor([[    2,    13,     1,  ...,     1, 16704,     3],\n",
      "        [    2,    13,     1,  ...,     0,     0,     0],\n",
      "        [    2,    13,     1,  ...,     0,     0,     0],\n",
      "        ...,\n",
      "        [    2,    13,     1,  ...,     0,     0,     0],\n",
      "        [    2,    13,     1,  ...,     0,     0,     0],\n",
      "        [    2,    13,     1,  ...,     0,     0,     0]]), 'attention_mask': tensor([[1, 1, 1,  ..., 1, 1, 1],\n",
      "        [1, 1, 1,  ..., 0, 0, 0],\n",
      "        [1, 1, 1,  ..., 0, 0, 0],\n",
      "        ...,\n",
      "        [1, 1, 1,  ..., 0, 0, 0],\n",
      "        [1, 1, 1,  ..., 0, 0, 0],\n",
      "        [1, 1, 1,  ..., 0, 0, 0]])}\n",
      "{'label': tensor([0, 0, 0, 0, 0, 0, 1, 1, 0, 0, 1, 0, 0, 0, 0, 0]), 'input_ids': tensor([[ 2, 13,  1,  ...,  0,  0,  0],\n",
      "        [ 2, 13,  1,  ...,  0,  0,  0],\n",
      "        [ 2, 13,  1,  ...,  0,  0,  0],\n",
      "        ...,\n",
      "        [ 2, 13,  1,  ...,  0,  0,  0],\n",
      "        [ 2, 13,  1,  ...,  0,  0,  0],\n",
      "        [ 2, 13,  1,  ...,  0,  0,  0]]), 'attention_mask': tensor([[1, 1, 1,  ..., 0, 0, 0],\n",
      "        [1, 1, 1,  ..., 0, 0, 0],\n",
      "        [1, 1, 1,  ..., 0, 0, 0],\n",
      "        ...,\n",
      "        [1, 1, 1,  ..., 0, 0, 0],\n",
      "        [1, 1, 1,  ..., 0, 0, 0],\n",
      "        [1, 1, 1,  ..., 0, 0, 0]])}\n",
      "{'label': tensor([0, 0, 1, 0, 1, 0, 0, 0, 0, 1, 0, 0, 1, 1, 0, 1]), 'input_ids': tensor([[ 2, 13,  1,  ...,  0,  0,  0],\n",
      "        [ 2, 13,  1,  ...,  0,  0,  0],\n",
      "        [ 2, 13,  1,  ...,  0,  0,  0],\n",
      "        ...,\n",
      "        [ 2, 13,  1,  ...,  0,  0,  0],\n",
      "        [ 2, 13,  1,  ...,  0,  0,  0],\n",
      "        [ 2, 13,  1,  ...,  0,  0,  0]]), 'attention_mask': tensor([[1, 1, 1,  ..., 0, 0, 0],\n",
      "        [1, 1, 1,  ..., 0, 0, 0],\n",
      "        [1, 1, 1,  ..., 0, 0, 0],\n",
      "        ...,\n",
      "        [1, 1, 1,  ..., 0, 0, 0],\n",
      "        [1, 1, 1,  ..., 0, 0, 0],\n",
      "        [1, 1, 1,  ..., 0, 0, 0]])}\n",
      "{'label': tensor([0, 0, 0, 0, 0, 0, 1, 1, 0, 0, 1, 0, 0, 1, 1, 0]), 'input_ids': tensor([[ 2, 13,  1,  ...,  0,  0,  0],\n",
      "        [ 2, 13,  1,  ...,  0,  0,  0],\n",
      "        [ 2, 13,  1,  ...,  0,  0,  0],\n",
      "        ...,\n",
      "        [ 2, 13,  1,  ...,  0,  0,  0],\n",
      "        [ 2, 13,  1,  ...,  0,  0,  0],\n",
      "        [ 2, 13,  1,  ...,  0,  0,  0]]), 'attention_mask': tensor([[1, 1, 1,  ..., 0, 0, 0],\n",
      "        [1, 1, 1,  ..., 0, 0, 0],\n",
      "        [1, 1, 1,  ..., 0, 0, 0],\n",
      "        ...,\n",
      "        [1, 1, 1,  ..., 0, 0, 0],\n",
      "        [1, 1, 1,  ..., 0, 0, 0],\n",
      "        [1, 1, 1,  ..., 0, 0, 0]])}\n",
      "{'label': tensor([1, 0, 1, 0, 1, 1, 1, 0, 1, 1, 0, 1, 0, 1, 0, 0]), 'input_ids': tensor([[ 2, 13,  1,  ...,  0,  0,  0],\n",
      "        [ 2, 13,  1,  ...,  0,  0,  0],\n",
      "        [ 2, 13,  1,  ...,  0,  0,  0],\n",
      "        ...,\n",
      "        [ 2, 13,  1,  ...,  0,  0,  0],\n",
      "        [ 2, 13,  1,  ...,  0,  0,  0],\n",
      "        [ 2, 13,  1,  ...,  0,  0,  0]]), 'attention_mask': tensor([[1, 1, 1,  ..., 0, 0, 0],\n",
      "        [1, 1, 1,  ..., 0, 0, 0],\n",
      "        [1, 1, 1,  ..., 0, 0, 0],\n",
      "        ...,\n",
      "        [1, 1, 1,  ..., 0, 0, 0],\n",
      "        [1, 1, 1,  ..., 0, 0, 0],\n",
      "        [1, 1, 1,  ..., 0, 0, 0]])}\n",
      "{'label': tensor([0, 0, 1, 0, 0, 0, 0, 0, 1, 0, 1, 0, 0, 0, 0, 0]), 'input_ids': tensor([[ 2, 13,  1,  ...,  0,  0,  0],\n",
      "        [ 2, 13,  1,  ...,  0,  0,  0],\n",
      "        [ 2, 13,  1,  ...,  0,  0,  0],\n",
      "        ...,\n",
      "        [ 2, 13,  1,  ...,  0,  0,  0],\n",
      "        [ 2, 13,  1,  ...,  0,  0,  0],\n",
      "        [ 2, 13,  1,  ...,  0,  0,  0]]), 'attention_mask': tensor([[1, 1, 1,  ..., 0, 0, 0],\n",
      "        [1, 1, 1,  ..., 0, 0, 0],\n",
      "        [1, 1, 1,  ..., 0, 0, 0],\n",
      "        ...,\n",
      "        [1, 1, 1,  ..., 0, 0, 0],\n",
      "        [1, 1, 1,  ..., 0, 0, 0],\n",
      "        [1, 1, 1,  ..., 0, 0, 0]])}\n",
      "{'label': tensor([0, 1, 0, 1, 0, 1, 1, 0, 0, 0, 0, 0, 0, 1, 1, 0]), 'input_ids': tensor([[ 2, 13,  1,  ...,  0,  0,  0],\n",
      "        [ 2, 13,  1,  ...,  0,  0,  0],\n",
      "        [ 2, 13,  1,  ...,  0,  0,  0],\n",
      "        ...,\n",
      "        [ 2, 13,  1,  ...,  0,  0,  0],\n",
      "        [ 2, 13,  1,  ...,  0,  0,  0],\n",
      "        [ 2, 13,  1,  ...,  0,  0,  0]]), 'attention_mask': tensor([[1, 1, 1,  ..., 0, 0, 0],\n",
      "        [1, 1, 1,  ..., 0, 0, 0],\n",
      "        [1, 1, 1,  ..., 0, 0, 0],\n",
      "        ...,\n",
      "        [1, 1, 1,  ..., 0, 0, 0],\n",
      "        [1, 1, 1,  ..., 0, 0, 0],\n",
      "        [1, 1, 1,  ..., 0, 0, 0]])}\n",
      "{'label': tensor([0, 0, 0, 0, 1, 0, 1, 0, 0, 0, 0, 0, 0, 0, 0, 0]), 'input_ids': tensor([[   2,   13,    1,  ...,    0,    0,    0],\n",
      "        [   2,   13,    1,  ...,    0,    0,    0],\n",
      "        [   2,   13,    1,  ...,    0,    0,    0],\n",
      "        ...,\n",
      "        [   2,   13,    1,  ...,    0,    0,    0],\n",
      "        [   2, 6926, 1885,  ...,    0,    0,    0],\n",
      "        [   2,   13,    1,  ...,    0,    0,    0]]), 'attention_mask': tensor([[1, 1, 1,  ..., 0, 0, 0],\n",
      "        [1, 1, 1,  ..., 0, 0, 0],\n",
      "        [1, 1, 1,  ..., 0, 0, 0],\n",
      "        ...,\n",
      "        [1, 1, 1,  ..., 0, 0, 0],\n",
      "        [1, 1, 1,  ..., 0, 0, 0],\n",
      "        [1, 1, 1,  ..., 0, 0, 0]])}\n",
      "{'label': tensor([0, 0, 0, 0, 1, 0, 0, 0, 1, 0, 0, 1, 0, 1, 0, 0]), 'input_ids': tensor([[   2,   13,    1,  ...,    0,    0,    0],\n",
      "        [   2, 7095,    9,  ...,    0,    0,    0],\n",
      "        [   2,   13,    1,  ...,    0,    0,    0],\n",
      "        ...,\n",
      "        [   2,   13,    1,  ...,    0,    0,    0],\n",
      "        [   2,   13,    1,  ...,    0,    0,    0],\n",
      "        [   2,   13,    1,  ...,    0,    0,    0]]), 'attention_mask': tensor([[1, 1, 1,  ..., 0, 0, 0],\n",
      "        [1, 1, 1,  ..., 0, 0, 0],\n",
      "        [1, 1, 1,  ..., 0, 0, 0],\n",
      "        ...,\n",
      "        [1, 1, 1,  ..., 0, 0, 0],\n",
      "        [1, 1, 1,  ..., 0, 0, 0],\n",
      "        [1, 1, 1,  ..., 0, 0, 0]])}\n",
      "{'label': tensor([0, 0, 0, 1, 1, 1, 0, 0, 0, 0, 0, 1, 0, 0, 0, 0]), 'input_ids': tensor([[ 2, 13,  1,  ...,  3,  0,  0],\n",
      "        [ 2, 13,  1,  ...,  0,  0,  0],\n",
      "        [ 2, 13,  9,  ...,  0,  0,  0],\n",
      "        ...,\n",
      "        [ 2, 13,  1,  ...,  0,  0,  0],\n",
      "        [ 2, 13,  1,  ...,  0,  0,  0],\n",
      "        [ 2, 13,  1,  ...,  0,  0,  0]]), 'attention_mask': tensor([[1, 1, 1,  ..., 1, 0, 0],\n",
      "        [1, 1, 1,  ..., 0, 0, 0],\n",
      "        [1, 1, 1,  ..., 0, 0, 0],\n",
      "        ...,\n",
      "        [1, 1, 1,  ..., 0, 0, 0],\n",
      "        [1, 1, 1,  ..., 0, 0, 0],\n",
      "        [1, 1, 1,  ..., 0, 0, 0]])}\n",
      "{'label': tensor([0, 0, 0, 1, 0, 0, 0, 1, 1, 0, 1, 0, 0, 1, 1, 0]), 'input_ids': tensor([[   2,   13,    1,  ...,    0,    0,    0],\n",
      "        [   2,   13,    1,  ...,    0,    0,    0],\n",
      "        [   2,   13,    1,  ...,    0,    0,    0],\n",
      "        ...,\n",
      "        [   2,   13,    1,  ...,    0,    0,    0],\n",
      "        [   2,   13,    1,  ...,    0,    0,    0],\n",
      "        [   2, 6926, 8304,  ...,    0,    0,    0]]), 'attention_mask': tensor([[1, 1, 1,  ..., 0, 0, 0],\n",
      "        [1, 1, 1,  ..., 0, 0, 0],\n",
      "        [1, 1, 1,  ..., 0, 0, 0],\n",
      "        ...,\n",
      "        [1, 1, 1,  ..., 0, 0, 0],\n",
      "        [1, 1, 1,  ..., 0, 0, 0],\n",
      "        [1, 1, 1,  ..., 0, 0, 0]])}\n",
      "{'label': tensor([1, 0, 0, 1, 0, 1, 0, 0, 0, 1, 0, 0, 1, 0, 0, 1]), 'input_ids': tensor([[ 2, 13,  1,  ...,  0,  0,  0],\n",
      "        [ 2, 13,  1,  ...,  0,  0,  0],\n",
      "        [ 2, 13,  1,  ...,  0,  0,  0],\n",
      "        ...,\n",
      "        [ 2, 24, 25,  ...,  0,  0,  0],\n",
      "        [ 2, 13,  1,  ...,  0,  0,  0],\n",
      "        [ 2, 13,  1,  ...,  0,  0,  0]]), 'attention_mask': tensor([[1, 1, 1,  ..., 0, 0, 0],\n",
      "        [1, 1, 1,  ..., 0, 0, 0],\n",
      "        [1, 1, 1,  ..., 0, 0, 0],\n",
      "        ...,\n",
      "        [1, 1, 1,  ..., 0, 0, 0],\n",
      "        [1, 1, 1,  ..., 0, 0, 0],\n",
      "        [1, 1, 1,  ..., 0, 0, 0]])}\n",
      "{'label': tensor([0, 1, 0, 0, 1, 0, 1, 0, 0, 1, 0, 1, 1, 0, 0, 0]), 'input_ids': tensor([[   2, 6926,   38,  ...,    0,    0,    0],\n",
      "        [   2,   13,    1,  ...,    0,    0,    0],\n",
      "        [   2,   13,    1,  ...,    0,    0,    0],\n",
      "        ...,\n",
      "        [   2,   13,    1,  ...,    0,    0,    0],\n",
      "        [   2,   13,    1,  ...,    0,    0,    0],\n",
      "        [   2,   13,    1,  ...,    0,    0,    0]]), 'attention_mask': tensor([[1, 1, 1,  ..., 0, 0, 0],\n",
      "        [1, 1, 1,  ..., 0, 0, 0],\n",
      "        [1, 1, 1,  ..., 0, 0, 0],\n",
      "        ...,\n",
      "        [1, 1, 1,  ..., 0, 0, 0],\n",
      "        [1, 1, 1,  ..., 0, 0, 0],\n",
      "        [1, 1, 1,  ..., 0, 0, 0]])}\n",
      "{'label': tensor([0, 0, 0, 0, 0, 0, 1, 1, 0, 0, 0, 0, 0, 0, 0, 0]), 'input_ids': tensor([[   2,   13,    1,  ...,    0,    0,    0],\n",
      "        [   2,  398, 8164,  ...,    0,    0,    0],\n",
      "        [   2,   13,    1,  ...,    0,    0,    0],\n",
      "        ...,\n",
      "        [   2,   13,    1,  ...,    0,    0,    0],\n",
      "        [   2,   13,    1,  ...,    0,    0,    0],\n",
      "        [   2,   13,    1,  ...,    0,    0,    0]]), 'attention_mask': tensor([[1, 1, 1,  ..., 0, 0, 0],\n",
      "        [1, 1, 1,  ..., 0, 0, 0],\n",
      "        [1, 1, 1,  ..., 0, 0, 0],\n",
      "        ...,\n",
      "        [1, 1, 1,  ..., 0, 0, 0],\n",
      "        [1, 1, 1,  ..., 0, 0, 0],\n",
      "        [1, 1, 1,  ..., 0, 0, 0]])}\n",
      "{'label': tensor([0, 1, 1, 1, 0, 1, 0, 0, 1, 0, 0, 1, 0, 1, 1, 0]), 'input_ids': tensor([[ 2, 13,  1,  ...,  0,  0,  0],\n",
      "        [ 2, 13,  1,  ...,  0,  0,  0],\n",
      "        [ 2, 13,  1,  ...,  0,  0,  0],\n",
      "        ...,\n",
      "        [ 2, 13,  1,  ...,  0,  0,  0],\n",
      "        [ 2, 13,  1,  ...,  0,  0,  0],\n",
      "        [ 2, 13,  1,  ...,  0,  0,  0]]), 'attention_mask': tensor([[1, 1, 1,  ..., 0, 0, 0],\n",
      "        [1, 1, 1,  ..., 0, 0, 0],\n",
      "        [1, 1, 1,  ..., 0, 0, 0],\n",
      "        ...,\n",
      "        [1, 1, 1,  ..., 0, 0, 0],\n",
      "        [1, 1, 1,  ..., 0, 0, 0],\n",
      "        [1, 1, 1,  ..., 0, 0, 0]])}\n",
      "{'label': tensor([0, 1, 0, 0, 0, 0, 0, 0, 1, 0, 0, 0, 1, 0, 1, 0]), 'input_ids': tensor([[ 2, 13,  1,  ...,  0,  0,  0],\n",
      "        [ 2, 13,  1,  ...,  0,  0,  0],\n",
      "        [ 2, 13,  1,  ...,  0,  0,  0],\n",
      "        ...,\n",
      "        [ 2, 13,  1,  ...,  0,  0,  0],\n",
      "        [ 2, 13,  1,  ...,  0,  0,  0],\n",
      "        [ 2, 13,  1,  ...,  0,  0,  0]]), 'attention_mask': tensor([[1, 1, 1,  ..., 0, 0, 0],\n",
      "        [1, 1, 1,  ..., 0, 0, 0],\n",
      "        [1, 1, 1,  ..., 0, 0, 0],\n",
      "        ...,\n",
      "        [1, 1, 1,  ..., 0, 0, 0],\n",
      "        [1, 1, 1,  ..., 0, 0, 0],\n",
      "        [1, 1, 1,  ..., 0, 0, 0]])}\n",
      "{'label': tensor([1, 1, 1, 0, 1, 0, 0, 0, 0, 1, 0, 0, 0, 0, 0, 1]), 'input_ids': tensor([[ 2, 13,  1,  ...,  0,  0,  0],\n",
      "        [ 2, 13,  1,  ...,  0,  0,  0],\n",
      "        [ 2, 13,  1,  ...,  0,  0,  0],\n",
      "        ...,\n",
      "        [ 2, 13,  1,  ...,  0,  0,  0],\n",
      "        [ 2, 13,  1,  ...,  0,  0,  0],\n",
      "        [ 2, 13,  1,  ...,  0,  0,  0]]), 'attention_mask': tensor([[1, 1, 1,  ..., 0, 0, 0],\n",
      "        [1, 1, 1,  ..., 0, 0, 0],\n",
      "        [1, 1, 1,  ..., 0, 0, 0],\n",
      "        ...,\n",
      "        [1, 1, 1,  ..., 0, 0, 0],\n",
      "        [1, 1, 1,  ..., 0, 0, 0],\n",
      "        [1, 1, 1,  ..., 0, 0, 0]])}\n",
      "{'label': tensor([0, 0, 1, 0, 1, 1, 1, 0, 0, 0, 1, 0, 0, 0, 0, 0]), 'input_ids': tensor([[ 2, 13,  1,  ...,  0,  0,  0],\n",
      "        [ 2, 13,  1,  ...,  0,  0,  0],\n",
      "        [ 2, 13,  5,  ...,  0,  0,  0],\n",
      "        ...,\n",
      "        [ 2, 13,  1,  ...,  0,  0,  0],\n",
      "        [ 2, 13,  1,  ...,  0,  0,  0],\n",
      "        [ 2, 13,  1,  ...,  0,  0,  0]]), 'attention_mask': tensor([[1, 1, 1,  ..., 0, 0, 0],\n",
      "        [1, 1, 1,  ..., 0, 0, 0],\n",
      "        [1, 1, 1,  ..., 0, 0, 0],\n",
      "        ...,\n",
      "        [1, 1, 1,  ..., 0, 0, 0],\n",
      "        [1, 1, 1,  ..., 0, 0, 0],\n",
      "        [1, 1, 1,  ..., 0, 0, 0]])}\n",
      "{'label': tensor([1, 1, 0, 1, 1, 0, 0, 0, 0, 0, 0, 0, 1, 0, 0, 1]), 'input_ids': tensor([[   2,  434, 3328,  ...,    0,    0,    0],\n",
      "        [   2,   13,    1,  ...,    0,    0,    0],\n",
      "        [   2,   13,    1,  ...,    0,    0,    0],\n",
      "        ...,\n",
      "        [   2,   13,    1,  ...,    0,    0,    0],\n",
      "        [   2,   13,    1,  ...,    0,    0,    0],\n",
      "        [   2,   13,    1,  ...,    0,    0,    0]]), 'attention_mask': tensor([[1, 1, 1,  ..., 0, 0, 0],\n",
      "        [1, 1, 1,  ..., 0, 0, 0],\n",
      "        [1, 1, 1,  ..., 0, 0, 0],\n",
      "        ...,\n",
      "        [1, 1, 1,  ..., 0, 0, 0],\n",
      "        [1, 1, 1,  ..., 0, 0, 0],\n",
      "        [1, 1, 1,  ..., 0, 0, 0]])}\n",
      "{'label': tensor([0, 1, 0, 1, 0, 0, 1, 0, 1, 1, 1, 1, 0, 0, 0, 1]), 'input_ids': tensor([[ 2, 13,  1,  ...,  0,  0,  0],\n",
      "        [ 2, 13,  1,  ...,  0,  0,  0],\n",
      "        [ 2, 13,  1,  ...,  0,  0,  0],\n",
      "        ...,\n",
      "        [ 2, 13,  1,  ...,  0,  0,  0],\n",
      "        [ 2, 13,  1,  ...,  0,  0,  0],\n",
      "        [ 2, 13,  1,  ...,  0,  0,  0]]), 'attention_mask': tensor([[1, 1, 1,  ..., 0, 0, 0],\n",
      "        [1, 1, 1,  ..., 0, 0, 0],\n",
      "        [1, 1, 1,  ..., 0, 0, 0],\n",
      "        ...,\n",
      "        [1, 1, 1,  ..., 0, 0, 0],\n",
      "        [1, 1, 1,  ..., 0, 0, 0],\n",
      "        [1, 1, 1,  ..., 0, 0, 0]])}\n",
      "{'label': tensor([0, 0, 0, 1, 0, 0, 1, 0, 0, 1, 0, 0, 0, 1, 0, 0]), 'input_ids': tensor([[ 2, 13,  1,  ...,  0,  0,  0],\n",
      "        [ 2, 13,  1,  ...,  0,  0,  0],\n",
      "        [ 2, 13,  1,  ...,  0,  0,  0],\n",
      "        ...,\n",
      "        [ 2, 13,  1,  ...,  0,  0,  0],\n",
      "        [ 2, 13,  1,  ...,  0,  0,  0],\n",
      "        [ 2, 13,  1,  ...,  0,  0,  0]]), 'attention_mask': tensor([[1, 1, 1,  ..., 0, 0, 0],\n",
      "        [1, 1, 1,  ..., 0, 0, 0],\n",
      "        [1, 1, 1,  ..., 0, 0, 0],\n",
      "        ...,\n",
      "        [1, 1, 1,  ..., 0, 0, 0],\n",
      "        [1, 1, 1,  ..., 0, 0, 0],\n",
      "        [1, 1, 1,  ..., 0, 0, 0]])}\n",
      "{'label': tensor([1, 0, 0, 1, 1, 0, 0, 0, 0, 0, 0, 0, 0, 0, 1, 0]), 'input_ids': tensor([[   2, 6926, 9582,  ...,    0,    0,    0],\n",
      "        [   2,   13,    1,  ...,    0,    0,    0],\n",
      "        [   2,   13,    1,  ...,    0,    0,    0],\n",
      "        ...,\n",
      "        [   2,   13,    9,  ...,    0,    0,    0],\n",
      "        [   2,   13,    1,  ...,    0,    0,    0],\n",
      "        [   2,   13,    1,  ...,    0,    0,    0]]), 'attention_mask': tensor([[1, 1, 1,  ..., 0, 0, 0],\n",
      "        [1, 1, 1,  ..., 0, 0, 0],\n",
      "        [1, 1, 1,  ..., 0, 0, 0],\n",
      "        ...,\n",
      "        [1, 1, 1,  ..., 0, 0, 0],\n",
      "        [1, 1, 1,  ..., 0, 0, 0],\n",
      "        [1, 1, 1,  ..., 0, 0, 0]])}\n",
      "{'label': tensor([1, 0, 1, 1, 0, 0, 1, 0, 1, 0, 0, 0, 0, 1, 1, 0]), 'input_ids': tensor([[   2,   13,    1,  ...,    0,    0,    0],\n",
      "        [   2, 1700, 6926,  ...,    0,    0,    0],\n",
      "        [   2,   13,    1,  ...,    0,    0,    0],\n",
      "        ...,\n",
      "        [   2,   13,    1,  ...,    0,    0,    0],\n",
      "        [   2,   13,    1,  ...,    0,    0,    0],\n",
      "        [   2,   13,    1,  ...,    0,    0,    0]]), 'attention_mask': tensor([[1, 1, 1,  ..., 0, 0, 0],\n",
      "        [1, 1, 1,  ..., 0, 0, 0],\n",
      "        [1, 1, 1,  ..., 0, 0, 0],\n",
      "        ...,\n",
      "        [1, 1, 1,  ..., 0, 0, 0],\n",
      "        [1, 1, 1,  ..., 0, 0, 0],\n",
      "        [1, 1, 1,  ..., 0, 0, 0]])}\n",
      "{'label': tensor([1, 1, 0, 0, 1, 1, 1, 1, 0, 1, 0, 0, 0, 0, 0, 0]), 'input_ids': tensor([[   2, 6926, 6113,  ...,    0,    0,    0],\n",
      "        [   2,   13,    1,  ...,    0,    0,    0],\n",
      "        [   2,   13,    1,  ...,    0,    0,    0],\n",
      "        ...,\n",
      "        [   2,   13,    1,  ...,    0,    0,    0],\n",
      "        [   2,   13,    1,  ...,    0,    0,    0],\n",
      "        [   2,   13,    1,  ...,    0,    0,    0]]), 'attention_mask': tensor([[1, 1, 1,  ..., 0, 0, 0],\n",
      "        [1, 1, 1,  ..., 0, 0, 0],\n",
      "        [1, 1, 1,  ..., 0, 0, 0],\n",
      "        ...,\n",
      "        [1, 1, 1,  ..., 0, 0, 0],\n",
      "        [1, 1, 1,  ..., 0, 0, 0],\n",
      "        [1, 1, 1,  ..., 0, 0, 0]])}\n",
      "{'label': tensor([1, 0, 0, 1, 1, 0, 0, 0, 0, 1, 0, 0, 1, 0, 0, 1]), 'input_ids': tensor([[ 2, 13,  1,  ...,  0,  0,  0],\n",
      "        [ 2, 13,  1,  ...,  0,  0,  0],\n",
      "        [ 2, 13,  1,  ...,  0,  0,  0],\n",
      "        ...,\n",
      "        [ 2, 13,  1,  ...,  0,  0,  0],\n",
      "        [ 2, 13,  1,  ...,  0,  0,  0],\n",
      "        [ 2, 13,  1,  ...,  0,  0,  0]]), 'attention_mask': tensor([[1, 1, 1,  ..., 0, 0, 0],\n",
      "        [1, 1, 1,  ..., 0, 0, 0],\n",
      "        [1, 1, 1,  ..., 0, 0, 0],\n",
      "        ...,\n",
      "        [1, 1, 1,  ..., 0, 0, 0],\n",
      "        [1, 1, 1,  ..., 0, 0, 0],\n",
      "        [1, 1, 1,  ..., 0, 0, 0]])}\n",
      "{'label': tensor([1, 0, 0, 0, 0, 0, 1, 1, 0, 1, 0, 0, 0, 0, 1, 0]), 'input_ids': tensor([[ 2, 13,  1,  ...,  0,  0,  0],\n",
      "        [ 2, 13,  1,  ...,  0,  0,  0],\n",
      "        [ 2, 13,  1,  ...,  0,  0,  0],\n",
      "        ...,\n",
      "        [ 2, 13,  1,  ...,  0,  0,  0],\n",
      "        [ 2, 13,  1,  ...,  0,  0,  0],\n",
      "        [ 2, 13,  1,  ...,  0,  0,  0]]), 'attention_mask': tensor([[1, 1, 1,  ..., 0, 0, 0],\n",
      "        [1, 1, 1,  ..., 0, 0, 0],\n",
      "        [1, 1, 1,  ..., 0, 0, 0],\n",
      "        ...,\n",
      "        [1, 1, 1,  ..., 0, 0, 0],\n",
      "        [1, 1, 1,  ..., 0, 0, 0],\n",
      "        [1, 1, 1,  ..., 0, 0, 0]])}\n",
      "{'label': tensor([1, 0, 1, 0, 0, 0, 1, 1, 0, 1, 0, 0, 0, 0, 0, 0]), 'input_ids': tensor([[ 2, 13,  1,  ...,  0,  0,  0],\n",
      "        [ 2, 13,  1,  ...,  0,  0,  0],\n",
      "        [ 2, 13,  1,  ...,  0,  0,  0],\n",
      "        ...,\n",
      "        [ 2, 13,  1,  ...,  0,  0,  0],\n",
      "        [ 2, 13,  1,  ...,  0,  0,  0],\n",
      "        [ 2, 13,  1,  ...,  0,  0,  0]]), 'attention_mask': tensor([[1, 1, 1,  ..., 0, 0, 0],\n",
      "        [1, 1, 1,  ..., 0, 0, 0],\n",
      "        [1, 1, 1,  ..., 0, 0, 0],\n",
      "        ...,\n",
      "        [1, 1, 1,  ..., 0, 0, 0],\n",
      "        [1, 1, 1,  ..., 0, 0, 0],\n",
      "        [1, 1, 1,  ..., 0, 0, 0]])}\n",
      "{'label': tensor([0, 1, 0, 1, 0, 0, 0, 1, 0, 1, 1, 1, 0, 1, 0, 0]), 'input_ids': tensor([[   2, 6926,   99,  ...,    0,    0,    0],\n",
      "        [   2,   13,    1,  ...,    0,    0,    0],\n",
      "        [   2,   13,    1,  ...,    0,    0,    0],\n",
      "        ...,\n",
      "        [   2,   13,    1,  ...,    0,    0,    0],\n",
      "        [   2,   13,    1,  ...,    0,    0,    0],\n",
      "        [   2,   13,    1,  ...,    0,    0,    0]]), 'attention_mask': tensor([[1, 1, 1,  ..., 0, 0, 0],\n",
      "        [1, 1, 1,  ..., 0, 0, 0],\n",
      "        [1, 1, 1,  ..., 0, 0, 0],\n",
      "        ...,\n",
      "        [1, 1, 1,  ..., 0, 0, 0],\n",
      "        [1, 1, 1,  ..., 0, 0, 0],\n",
      "        [1, 1, 1,  ..., 0, 0, 0]])}\n",
      "{'label': tensor([0, 1, 0, 0, 0, 0, 0, 0, 0, 1, 1, 1, 1, 0, 0, 1]), 'input_ids': tensor([[ 2, 13,  1,  ...,  0,  0,  0],\n",
      "        [ 2, 13,  1,  ...,  0,  0,  0],\n",
      "        [ 2, 13,  1,  ...,  0,  0,  0],\n",
      "        ...,\n",
      "        [ 2, 13,  1,  ...,  0,  0,  0],\n",
      "        [ 2, 13,  1,  ...,  0,  0,  0],\n",
      "        [ 2, 13,  1,  ...,  0,  0,  0]]), 'attention_mask': tensor([[1, 1, 1,  ..., 0, 0, 0],\n",
      "        [1, 1, 1,  ..., 0, 0, 0],\n",
      "        [1, 1, 1,  ..., 0, 0, 0],\n",
      "        ...,\n",
      "        [1, 1, 1,  ..., 0, 0, 0],\n",
      "        [1, 1, 1,  ..., 0, 0, 0],\n",
      "        [1, 1, 1,  ..., 0, 0, 0]])}\n",
      "{'label': tensor([0, 0, 0, 1, 0, 1, 0, 0, 0, 1, 0, 0, 0, 1, 1, 0]), 'input_ids': tensor([[ 2, 13,  1,  ...,  0,  0,  0],\n",
      "        [ 2, 13,  1,  ...,  0,  0,  0],\n",
      "        [ 2, 13,  1,  ...,  0,  0,  0],\n",
      "        ...,\n",
      "        [ 2, 13,  1,  ...,  0,  0,  0],\n",
      "        [ 2, 13,  1,  ...,  0,  0,  0],\n",
      "        [ 2, 13,  1,  ...,  0,  0,  0]]), 'attention_mask': tensor([[1, 1, 1,  ..., 0, 0, 0],\n",
      "        [1, 1, 1,  ..., 0, 0, 0],\n",
      "        [1, 1, 1,  ..., 0, 0, 0],\n",
      "        ...,\n",
      "        [1, 1, 1,  ..., 0, 0, 0],\n",
      "        [1, 1, 1,  ..., 0, 0, 0],\n",
      "        [1, 1, 1,  ..., 0, 0, 0]])}\n",
      "{'label': tensor([0, 0, 0, 1, 1, 0, 0, 1, 0, 0, 0, 0, 0, 0, 0, 0]), 'input_ids': tensor([[ 2, 13,  1,  ...,  0,  0,  0],\n",
      "        [ 2, 13,  1,  ...,  0,  0,  0],\n",
      "        [ 2, 13,  1,  ...,  0,  0,  0],\n",
      "        ...,\n",
      "        [ 2, 13,  1,  ...,  0,  0,  0],\n",
      "        [ 2, 13,  1,  ...,  0,  0,  0],\n",
      "        [ 2, 13,  1,  ...,  0,  0,  0]]), 'attention_mask': tensor([[1, 1, 1,  ..., 0, 0, 0],\n",
      "        [1, 1, 1,  ..., 0, 0, 0],\n",
      "        [1, 1, 1,  ..., 0, 0, 0],\n",
      "        ...,\n",
      "        [1, 1, 1,  ..., 0, 0, 0],\n",
      "        [1, 1, 1,  ..., 0, 0, 0],\n",
      "        [1, 1, 1,  ..., 0, 0, 0]])}\n",
      "{'label': tensor([0, 0, 0, 1, 0, 0, 0, 1, 0, 0, 1, 0, 0, 1, 0, 0]), 'input_ids': tensor([[    2,    13,     1,  ...,     0,     0,     0],\n",
      "        [    2,  4722, 11717,  ...,     0,     0,     0],\n",
      "        [    2,    13,     1,  ...,     0,     0,     0],\n",
      "        ...,\n",
      "        [    2,    13,     1,  ...,     0,     0,     0],\n",
      "        [    2,    13,     1,  ...,     0,     0,     0],\n",
      "        [    2,    13,     1,  ...,     0,     0,     0]]), 'attention_mask': tensor([[1, 1, 1,  ..., 0, 0, 0],\n",
      "        [1, 1, 1,  ..., 0, 0, 0],\n",
      "        [1, 1, 1,  ..., 0, 0, 0],\n",
      "        ...,\n",
      "        [1, 1, 1,  ..., 0, 0, 0],\n",
      "        [1, 1, 1,  ..., 0, 0, 0],\n",
      "        [1, 1, 1,  ..., 0, 0, 0]])}\n",
      "{'label': tensor([0, 0, 0, 0, 0, 0, 1, 0, 0, 0, 1, 0, 0, 0, 0, 0]), 'input_ids': tensor([[   2,   13,    1,  ...,    0,    0,    0],\n",
      "        [   2,   13,    1,  ...,    0,    0,    0],\n",
      "        [   2, 4509, 2925,  ...,    0,    0,    0],\n",
      "        ...,\n",
      "        [   2,   13,    1,  ...,    0,    0,    0],\n",
      "        [   2,   13,    1,  ...,    0,    0,    0],\n",
      "        [   2,   13,    1,  ...,    0,    0,    0]]), 'attention_mask': tensor([[1, 1, 1,  ..., 0, 0, 0],\n",
      "        [1, 1, 1,  ..., 0, 0, 0],\n",
      "        [1, 1, 1,  ..., 0, 0, 0],\n",
      "        ...,\n",
      "        [1, 1, 1,  ..., 0, 0, 0],\n",
      "        [1, 1, 1,  ..., 0, 0, 0],\n",
      "        [1, 1, 1,  ..., 0, 0, 0]])}\n",
      "{'label': tensor([1, 0, 0, 0, 1, 0, 0, 0, 0, 0, 1, 0, 1, 1, 1, 0]), 'input_ids': tensor([[  2,  13,   1,  ...,   0,   0,   0],\n",
      "        [  2, 233, 562,  ...,   0,   0,   0],\n",
      "        [  2,  13,   1,  ...,   0,   0,   0],\n",
      "        ...,\n",
      "        [  2,  13,   1,  ...,   0,   0,   0],\n",
      "        [  2,  13,   1,  ...,   0,   0,   0],\n",
      "        [  2,  13,   1,  ...,   0,   0,   0]]), 'attention_mask': tensor([[1, 1, 1,  ..., 0, 0, 0],\n",
      "        [1, 1, 1,  ..., 0, 0, 0],\n",
      "        [1, 1, 1,  ..., 0, 0, 0],\n",
      "        ...,\n",
      "        [1, 1, 1,  ..., 0, 0, 0],\n",
      "        [1, 1, 1,  ..., 0, 0, 0],\n",
      "        [1, 1, 1,  ..., 0, 0, 0]])}\n",
      "{'label': tensor([0, 1, 0, 0, 0, 1, 0, 1, 0, 0, 1, 0, 0, 0, 0, 1]), 'input_ids': tensor([[    2,    13,     1,  ...,     1, 16704,     3],\n",
      "        [    2,    13,     1,  ...,     0,     0,     0],\n",
      "        [    2,    13,     1,  ...,     0,     0,     0],\n",
      "        ...,\n",
      "        [    2,    13,     1,  ...,     0,     0,     0],\n",
      "        [    2,    13,     1,  ...,     0,     0,     0],\n",
      "        [    2,  7863,    45,  ...,     0,     0,     0]]), 'attention_mask': tensor([[1, 1, 1,  ..., 1, 1, 1],\n",
      "        [1, 1, 1,  ..., 0, 0, 0],\n",
      "        [1, 1, 1,  ..., 0, 0, 0],\n",
      "        ...,\n",
      "        [1, 1, 1,  ..., 0, 0, 0],\n",
      "        [1, 1, 1,  ..., 0, 0, 0],\n",
      "        [1, 1, 1,  ..., 0, 0, 0]])}\n",
      "{'label': tensor([0, 1, 1, 0, 1, 0, 0, 1, 1, 0, 1, 0, 0, 0, 0, 1]), 'input_ids': tensor([[ 2, 13,  1,  ...,  0,  0,  0],\n",
      "        [ 2, 13,  1,  ...,  0,  0,  0],\n",
      "        [ 2, 13,  1,  ...,  0,  0,  0],\n",
      "        ...,\n",
      "        [ 2, 13,  1,  ...,  0,  0,  0],\n",
      "        [ 2, 13,  1,  ...,  0,  0,  0],\n",
      "        [ 2, 13,  1,  ...,  0,  0,  0]]), 'attention_mask': tensor([[1, 1, 1,  ..., 0, 0, 0],\n",
      "        [1, 1, 1,  ..., 0, 0, 0],\n",
      "        [1, 1, 1,  ..., 0, 0, 0],\n",
      "        ...,\n",
      "        [1, 1, 1,  ..., 0, 0, 0],\n",
      "        [1, 1, 1,  ..., 0, 0, 0],\n",
      "        [1, 1, 1,  ..., 0, 0, 0]])}\n",
      "{'label': tensor([0, 0, 0, 1, 0, 0, 1, 0, 0, 1, 0, 0, 1, 0, 0, 0]), 'input_ids': tensor([[ 2, 13,  1,  ...,  0,  0,  0],\n",
      "        [ 2, 13,  5,  ...,  0,  0,  0],\n",
      "        [ 2, 13,  1,  ...,  0,  0,  0],\n",
      "        ...,\n",
      "        [ 2, 13,  1,  ...,  0,  0,  0],\n",
      "        [ 2, 13,  1,  ...,  0,  0,  0],\n",
      "        [ 2, 13,  1,  ...,  0,  0,  0]]), 'attention_mask': tensor([[1, 1, 1,  ..., 0, 0, 0],\n",
      "        [1, 1, 1,  ..., 0, 0, 0],\n",
      "        [1, 1, 1,  ..., 0, 0, 0],\n",
      "        ...,\n",
      "        [1, 1, 1,  ..., 0, 0, 0],\n",
      "        [1, 1, 1,  ..., 0, 0, 0],\n",
      "        [1, 1, 1,  ..., 0, 0, 0]])}\n",
      "{'label': tensor([0, 0, 0, 0, 0, 0, 0, 0, 0, 0, 0, 0, 0, 0, 1, 1]), 'input_ids': tensor([[ 2, 13,  1,  ...,  0,  0,  0],\n",
      "        [ 2, 13,  1,  ...,  0,  0,  0],\n",
      "        [ 2, 13,  1,  ...,  0,  0,  0],\n",
      "        ...,\n",
      "        [ 2, 13,  1,  ...,  0,  0,  0],\n",
      "        [ 2, 13,  1,  ...,  0,  0,  0],\n",
      "        [ 2, 13,  1,  ...,  0,  0,  0]]), 'attention_mask': tensor([[1, 1, 1,  ..., 0, 0, 0],\n",
      "        [1, 1, 1,  ..., 0, 0, 0],\n",
      "        [1, 1, 1,  ..., 0, 0, 0],\n",
      "        ...,\n",
      "        [1, 1, 1,  ..., 0, 0, 0],\n",
      "        [1, 1, 1,  ..., 0, 0, 0],\n",
      "        [1, 1, 1,  ..., 0, 0, 0]])}\n",
      "{'label': tensor([1, 0, 0, 0, 1, 0, 0, 0, 0, 0, 1, 1, 0, 1, 0, 0]), 'input_ids': tensor([[    2,    13,     1,  ...,     0,     0,     0],\n",
      "        [    2,    13,     1,  ...,     0,     0,     0],\n",
      "        [    2,    13,     1,  ...,     0,     0,     0],\n",
      "        ...,\n",
      "        [    2,    13,     1,  ...,     0,     0,     0],\n",
      "        [    2,  6926, 14158,  ...,     0,     0,     0],\n",
      "        [    2,    13,     1,  ...,     0,     0,     0]]), 'attention_mask': tensor([[1, 1, 1,  ..., 0, 0, 0],\n",
      "        [1, 1, 1,  ..., 0, 0, 0],\n",
      "        [1, 1, 1,  ..., 0, 0, 0],\n",
      "        ...,\n",
      "        [1, 1, 1,  ..., 0, 0, 0],\n",
      "        [1, 1, 1,  ..., 0, 0, 0],\n",
      "        [1, 1, 1,  ..., 0, 0, 0]])}\n",
      "{'label': tensor([0, 0, 1, 0, 0, 0, 0, 0, 0, 0, 0, 0, 0, 0, 0, 0]), 'input_ids': tensor([[ 2, 13,  1,  ...,  0,  0,  0],\n",
      "        [ 2, 13,  1,  ...,  0,  0,  0],\n",
      "        [ 2, 13,  1,  ...,  0,  0,  0],\n",
      "        ...,\n",
      "        [ 2, 13,  1,  ...,  0,  0,  0],\n",
      "        [ 2, 13,  1,  ...,  0,  0,  0],\n",
      "        [ 2, 13,  1,  ...,  0,  0,  0]]), 'attention_mask': tensor([[1, 1, 1,  ..., 0, 0, 0],\n",
      "        [1, 1, 1,  ..., 0, 0, 0],\n",
      "        [1, 1, 1,  ..., 0, 0, 0],\n",
      "        ...,\n",
      "        [1, 1, 1,  ..., 0, 0, 0],\n",
      "        [1, 1, 1,  ..., 0, 0, 0],\n",
      "        [1, 1, 1,  ..., 0, 0, 0]])}\n",
      "{'label': tensor([1, 1, 0, 0, 0, 0, 1, 1, 1, 0, 0, 0, 0, 0, 0, 1]), 'input_ids': tensor([[ 2, 13,  1,  ...,  0,  0,  0],\n",
      "        [ 2, 13,  1,  ...,  0,  0,  0],\n",
      "        [ 2, 13,  1,  ...,  0,  0,  0],\n",
      "        ...,\n",
      "        [ 2, 13,  9,  ...,  0,  0,  0],\n",
      "        [ 2, 13,  1,  ...,  0,  0,  0],\n",
      "        [ 2, 13,  1,  ...,  0,  0,  0]]), 'attention_mask': tensor([[1, 1, 1,  ..., 0, 0, 0],\n",
      "        [1, 1, 1,  ..., 0, 0, 0],\n",
      "        [1, 1, 1,  ..., 0, 0, 0],\n",
      "        ...,\n",
      "        [1, 1, 1,  ..., 0, 0, 0],\n",
      "        [1, 1, 1,  ..., 0, 0, 0],\n",
      "        [1, 1, 1,  ..., 0, 0, 0]])}\n",
      "{'label': tensor([1, 0, 0, 0, 1, 0, 0, 0, 0, 0, 0, 0, 1, 0, 1, 0]), 'input_ids': tensor([[ 2, 13,  1,  ...,  0,  0,  0],\n",
      "        [ 2, 13,  1,  ...,  0,  0,  0],\n",
      "        [ 2, 13,  1,  ...,  0,  0,  0],\n",
      "        ...,\n",
      "        [ 2, 13,  1,  ...,  0,  0,  0],\n",
      "        [ 2, 13,  1,  ...,  0,  0,  0],\n",
      "        [ 2, 13,  1,  ...,  0,  0,  0]]), 'attention_mask': tensor([[1, 1, 1,  ..., 0, 0, 0],\n",
      "        [1, 1, 1,  ..., 0, 0, 0],\n",
      "        [1, 1, 1,  ..., 0, 0, 0],\n",
      "        ...,\n",
      "        [1, 1, 1,  ..., 0, 0, 0],\n",
      "        [1, 1, 1,  ..., 0, 0, 0],\n",
      "        [1, 1, 1,  ..., 0, 0, 0]])}\n",
      "{'label': tensor([0, 0, 0, 0, 0, 1, 1, 1, 0, 0, 1, 0, 0, 0, 1, 0]), 'input_ids': tensor([[  2, 137, 101,  ...,   0,   0,   0],\n",
      "        [  2,  13,   1,  ...,   0,   0,   0],\n",
      "        [  2,  13,   1,  ...,   0,   0,   0],\n",
      "        ...,\n",
      "        [  2,  13,   1,  ...,   0,   0,   0],\n",
      "        [  2,  13,   1,  ...,   0,   0,   0],\n",
      "        [  2,  13,   1,  ...,   0,   0,   0]]), 'attention_mask': tensor([[1, 1, 1,  ..., 0, 0, 0],\n",
      "        [1, 1, 1,  ..., 0, 0, 0],\n",
      "        [1, 1, 1,  ..., 0, 0, 0],\n",
      "        ...,\n",
      "        [1, 1, 1,  ..., 0, 0, 0],\n",
      "        [1, 1, 1,  ..., 0, 0, 0],\n",
      "        [1, 1, 1,  ..., 0, 0, 0]])}\n",
      "{'label': tensor([0, 1, 0, 0, 1, 1, 1, 0, 0, 1, 1, 0, 0, 1, 1, 0]), 'input_ids': tensor([[ 2, 13,  1,  ...,  0,  0,  0],\n",
      "        [ 2, 13,  1,  ...,  0,  0,  0],\n",
      "        [ 2, 13,  1,  ...,  0,  0,  0],\n",
      "        ...,\n",
      "        [ 2, 13,  1,  ...,  0,  0,  0],\n",
      "        [ 2, 13,  1,  ...,  0,  0,  0],\n",
      "        [ 2, 13,  1,  ...,  0,  0,  0]]), 'attention_mask': tensor([[1, 1, 1,  ..., 0, 0, 0],\n",
      "        [1, 1, 1,  ..., 0, 0, 0],\n",
      "        [1, 1, 1,  ..., 0, 0, 0],\n",
      "        ...,\n",
      "        [1, 1, 1,  ..., 0, 0, 0],\n",
      "        [1, 1, 1,  ..., 0, 0, 0],\n",
      "        [1, 1, 1,  ..., 0, 0, 0]])}\n",
      "{'label': tensor([0, 0, 0, 0, 1, 1, 0, 1, 0, 0, 0, 0, 0, 0, 0, 1]), 'input_ids': tensor([[ 2, 13,  1,  ...,  0,  0,  0],\n",
      "        [ 2, 13,  1,  ...,  0,  0,  0],\n",
      "        [ 2, 13,  1,  ...,  0,  0,  0],\n",
      "        ...,\n",
      "        [ 2, 13,  1,  ...,  0,  0,  0],\n",
      "        [ 2, 13,  1,  ...,  0,  0,  0],\n",
      "        [ 2, 13,  1,  ...,  0,  0,  0]]), 'attention_mask': tensor([[1, 1, 1,  ..., 0, 0, 0],\n",
      "        [1, 1, 1,  ..., 0, 0, 0],\n",
      "        [1, 1, 1,  ..., 0, 0, 0],\n",
      "        ...,\n",
      "        [1, 1, 1,  ..., 0, 0, 0],\n",
      "        [1, 1, 1,  ..., 0, 0, 0],\n",
      "        [1, 1, 1,  ..., 0, 0, 0]])}\n",
      "{'label': tensor([0, 0, 0, 1, 1, 0, 1, 0, 0, 1, 0, 1, 0, 1, 0, 0]), 'input_ids': tensor([[ 2, 13,  1,  ...,  0,  0,  0],\n",
      "        [ 2, 13,  1,  ...,  0,  0,  0],\n",
      "        [ 2, 13,  1,  ...,  0,  0,  0],\n",
      "        ...,\n",
      "        [ 2, 13,  1,  ...,  0,  0,  0],\n",
      "        [ 2, 13,  1,  ...,  0,  0,  0],\n",
      "        [ 2, 13,  1,  ...,  0,  0,  0]]), 'attention_mask': tensor([[1, 1, 1,  ..., 0, 0, 0],\n",
      "        [1, 1, 1,  ..., 0, 0, 0],\n",
      "        [1, 1, 1,  ..., 0, 0, 0],\n",
      "        ...,\n",
      "        [1, 1, 1,  ..., 0, 0, 0],\n",
      "        [1, 1, 1,  ..., 0, 0, 0],\n",
      "        [1, 1, 1,  ..., 0, 0, 0]])}\n",
      "{'label': tensor([1, 1, 0, 1, 0, 0, 0, 0, 0, 0, 0, 0, 0, 0, 0, 0]), 'input_ids': tensor([[ 2, 13,  1,  ...,  0,  0,  0],\n",
      "        [ 2, 13,  1,  ...,  0,  0,  0],\n",
      "        [ 2, 13,  1,  ...,  0,  0,  0],\n",
      "        ...,\n",
      "        [ 2, 13,  1,  ...,  0,  0,  0],\n",
      "        [ 2, 13,  1,  ...,  0,  0,  0],\n",
      "        [ 2, 13,  1,  ...,  0,  0,  0]]), 'attention_mask': tensor([[1, 1, 1,  ..., 0, 0, 0],\n",
      "        [1, 1, 1,  ..., 0, 0, 0],\n",
      "        [1, 1, 1,  ..., 0, 0, 0],\n",
      "        ...,\n",
      "        [1, 1, 1,  ..., 0, 0, 0],\n",
      "        [1, 1, 1,  ..., 0, 0, 0],\n",
      "        [1, 1, 1,  ..., 0, 0, 0]])}\n",
      "{'label': tensor([0, 0, 0, 1, 0, 1, 0, 0, 0, 0, 1, 1, 0, 0, 0, 1]), 'input_ids': tensor([[ 2, 13,  1,  ...,  0,  0,  0],\n",
      "        [ 2, 13,  1,  ...,  0,  0,  0],\n",
      "        [ 2, 13,  1,  ...,  0,  0,  0],\n",
      "        ...,\n",
      "        [ 2, 13,  1,  ...,  0,  0,  0],\n",
      "        [ 2, 13,  1,  ...,  0,  0,  0],\n",
      "        [ 2, 13,  1,  ...,  0,  0,  0]]), 'attention_mask': tensor([[1, 1, 1,  ..., 0, 0, 0],\n",
      "        [1, 1, 1,  ..., 0, 0, 0],\n",
      "        [1, 1, 1,  ..., 0, 0, 0],\n",
      "        ...,\n",
      "        [1, 1, 1,  ..., 0, 0, 0],\n",
      "        [1, 1, 1,  ..., 0, 0, 0],\n",
      "        [1, 1, 1,  ..., 0, 0, 0]])}\n",
      "{'label': tensor([0, 0, 1, 0, 0, 0, 0, 0, 0, 0, 1, 0, 0, 0, 1, 0]), 'input_ids': tensor([[ 2, 13,  1,  ...,  0,  0,  0],\n",
      "        [ 2, 13,  1,  ...,  0,  0,  0],\n",
      "        [ 2, 13,  1,  ...,  0,  0,  0],\n",
      "        ...,\n",
      "        [ 2, 13,  1,  ...,  0,  0,  0],\n",
      "        [ 2, 13,  1,  ...,  0,  0,  0],\n",
      "        [ 2, 13,  1,  ...,  0,  0,  0]]), 'attention_mask': tensor([[1, 1, 1,  ..., 0, 0, 0],\n",
      "        [1, 1, 1,  ..., 0, 0, 0],\n",
      "        [1, 1, 1,  ..., 0, 0, 0],\n",
      "        ...,\n",
      "        [1, 1, 1,  ..., 0, 0, 0],\n",
      "        [1, 1, 1,  ..., 0, 0, 0],\n",
      "        [1, 1, 1,  ..., 0, 0, 0]])}\n",
      "{'label': tensor([0, 0, 0, 1, 0, 0, 0, 0, 0, 0, 0, 0, 0, 0, 0, 0]), 'input_ids': tensor([[ 2, 13,  1,  ...,  0,  0,  0],\n",
      "        [ 2, 13,  1,  ...,  0,  0,  0],\n",
      "        [ 2, 13,  1,  ...,  0,  0,  0],\n",
      "        ...,\n",
      "        [ 2, 13,  1,  ...,  0,  0,  0],\n",
      "        [ 2, 13,  1,  ...,  0,  0,  0],\n",
      "        [ 2, 13,  1,  ...,  0,  0,  0]]), 'attention_mask': tensor([[1, 1, 1,  ..., 0, 0, 0],\n",
      "        [1, 1, 1,  ..., 0, 0, 0],\n",
      "        [1, 1, 1,  ..., 0, 0, 0],\n",
      "        ...,\n",
      "        [1, 1, 1,  ..., 0, 0, 0],\n",
      "        [1, 1, 1,  ..., 0, 0, 0],\n",
      "        [1, 1, 1,  ..., 0, 0, 0]])}\n",
      "{'label': tensor([1, 1, 1, 1, 1, 0, 0, 1, 0, 0, 0, 0, 1, 0, 1, 1]), 'input_ids': tensor([[ 2, 13,  1,  ...,  0,  0,  0],\n",
      "        [ 2, 13,  1,  ...,  0,  0,  0],\n",
      "        [ 2, 13,  1,  ...,  0,  0,  0],\n",
      "        ...,\n",
      "        [ 2, 13,  1,  ...,  0,  0,  0],\n",
      "        [ 2, 13,  1,  ...,  0,  0,  0],\n",
      "        [ 2, 13,  1,  ...,  0,  0,  0]]), 'attention_mask': tensor([[1, 1, 1,  ..., 0, 0, 0],\n",
      "        [1, 1, 1,  ..., 0, 0, 0],\n",
      "        [1, 1, 1,  ..., 0, 0, 0],\n",
      "        ...,\n",
      "        [1, 1, 1,  ..., 0, 0, 0],\n",
      "        [1, 1, 1,  ..., 0, 0, 0],\n",
      "        [1, 1, 1,  ..., 0, 0, 0]])}\n",
      "{'label': tensor([0, 0, 0, 1, 1, 1, 1, 1, 1, 0, 1, 0, 0, 1, 1, 1]), 'input_ids': tensor([[ 2, 13,  1,  ...,  0,  0,  0],\n",
      "        [ 2, 13,  1,  ...,  0,  0,  0],\n",
      "        [ 2, 13,  1,  ...,  0,  0,  0],\n",
      "        ...,\n",
      "        [ 2, 13,  1,  ...,  0,  0,  0],\n",
      "        [ 2, 13,  1,  ...,  0,  0,  0],\n",
      "        [ 2, 31, 22,  ...,  0,  0,  0]]), 'attention_mask': tensor([[1, 1, 1,  ..., 0, 0, 0],\n",
      "        [1, 1, 1,  ..., 0, 0, 0],\n",
      "        [1, 1, 1,  ..., 0, 0, 0],\n",
      "        ...,\n",
      "        [1, 1, 1,  ..., 0, 0, 0],\n",
      "        [1, 1, 1,  ..., 0, 0, 0],\n",
      "        [1, 1, 1,  ..., 0, 0, 0]])}\n",
      "{'label': tensor([0, 0, 0, 0, 1, 0, 0, 0, 1, 1, 0, 0, 0, 0, 0, 0]), 'input_ids': tensor([[    2,    13,     1,  ...,     0,     0,     0],\n",
      "        [    2,    13,     1,  ...,     0,     0,     0],\n",
      "        [    2, 15293,     9,  ...,     0,     0,     0],\n",
      "        ...,\n",
      "        [    2,    13,     1,  ...,     0,     0,     0],\n",
      "        [    2,    13,     1,  ...,     0,     0,     0],\n",
      "        [    2,    13,     1,  ...,     0,     0,     0]]), 'attention_mask': tensor([[1, 1, 1,  ..., 0, 0, 0],\n",
      "        [1, 1, 1,  ..., 0, 0, 0],\n",
      "        [1, 1, 1,  ..., 0, 0, 0],\n",
      "        ...,\n",
      "        [1, 1, 1,  ..., 0, 0, 0],\n",
      "        [1, 1, 1,  ..., 0, 0, 0],\n",
      "        [1, 1, 1,  ..., 0, 0, 0]])}\n",
      "{'label': tensor([0, 0, 1, 1, 0, 0, 1, 0, 0, 1, 1, 0, 1, 0, 0, 0]), 'input_ids': tensor([[ 2, 13,  1,  ...,  0,  0,  0],\n",
      "        [ 2, 13,  1,  ...,  0,  0,  0],\n",
      "        [ 2, 13,  1,  ...,  0,  0,  0],\n",
      "        ...,\n",
      "        [ 2, 13,  1,  ...,  0,  0,  0],\n",
      "        [ 2, 13,  1,  ...,  0,  0,  0],\n",
      "        [ 2, 13,  1,  ...,  0,  0,  0]]), 'attention_mask': tensor([[1, 1, 1,  ..., 0, 0, 0],\n",
      "        [1, 1, 1,  ..., 0, 0, 0],\n",
      "        [1, 1, 1,  ..., 0, 0, 0],\n",
      "        ...,\n",
      "        [1, 1, 1,  ..., 0, 0, 0],\n",
      "        [1, 1, 1,  ..., 0, 0, 0],\n",
      "        [1, 1, 1,  ..., 0, 0, 0]])}\n",
      "{'label': tensor([0, 0, 1, 0, 1, 0, 0, 0, 0, 1, 0, 1, 0, 1, 0, 0]), 'input_ids': tensor([[  2,  13,   1,  ...,   0,   0,   0],\n",
      "        [  2,  13,   1,  ...,   0,   0,   0],\n",
      "        [  2,  13,   1,  ...,   0,   0,   0],\n",
      "        ...,\n",
      "        [  2,  13,   1,  ...,   0,   0,   0],\n",
      "        [  2, 453,   8,  ...,   0,   0,   0],\n",
      "        [  2,  13,   1,  ...,   0,   0,   0]]), 'attention_mask': tensor([[1, 1, 1,  ..., 0, 0, 0],\n",
      "        [1, 1, 1,  ..., 0, 0, 0],\n",
      "        [1, 1, 1,  ..., 0, 0, 0],\n",
      "        ...,\n",
      "        [1, 1, 1,  ..., 0, 0, 0],\n",
      "        [1, 1, 1,  ..., 0, 0, 0],\n",
      "        [1, 1, 1,  ..., 0, 0, 0]])}\n",
      "{'label': tensor([1, 1, 0, 1, 0, 0, 0, 1, 1, 0, 0, 0, 0, 1, 0, 1]), 'input_ids': tensor([[   2,   13,    1,  ...,    0,    0,    0],\n",
      "        [   2,   13,    9,  ...,    0,    0,    0],\n",
      "        [   2, 6926,   96,  ...,    0,    0,    0],\n",
      "        ...,\n",
      "        [   2,   13,    1,  ...,    0,    0,    0],\n",
      "        [   2,   13,    1,  ...,    0,    0,    0],\n",
      "        [   2,   13,    1,  ...,    0,    0,    0]]), 'attention_mask': tensor([[1, 1, 1,  ..., 0, 0, 0],\n",
      "        [1, 1, 1,  ..., 0, 0, 0],\n",
      "        [1, 1, 1,  ..., 0, 0, 0],\n",
      "        ...,\n",
      "        [1, 1, 1,  ..., 0, 0, 0],\n",
      "        [1, 1, 1,  ..., 0, 0, 0],\n",
      "        [1, 1, 1,  ..., 0, 0, 0]])}\n",
      "{'label': tensor([0, 0, 0, 0, 0, 1, 0, 1, 0, 1, 0, 1, 0, 0, 0, 0]), 'input_ids': tensor([[ 2, 13,  1,  ...,  0,  0,  0],\n",
      "        [ 2, 13,  9,  ...,  0,  0,  0],\n",
      "        [ 2, 13,  1,  ...,  0,  0,  0],\n",
      "        ...,\n",
      "        [ 2, 13,  1,  ...,  0,  0,  0],\n",
      "        [ 2, 13,  1,  ...,  0,  0,  0],\n",
      "        [ 2, 13,  1,  ...,  0,  0,  0]]), 'attention_mask': tensor([[1, 1, 1,  ..., 0, 0, 0],\n",
      "        [1, 1, 1,  ..., 0, 0, 0],\n",
      "        [1, 1, 1,  ..., 0, 0, 0],\n",
      "        ...,\n",
      "        [1, 1, 1,  ..., 0, 0, 0],\n",
      "        [1, 1, 1,  ..., 0, 0, 0],\n",
      "        [1, 1, 1,  ..., 0, 0, 0]])}\n",
      "{'label': tensor([0, 0, 0, 0, 1, 1, 0, 0, 0, 1, 0, 0, 0, 0, 0, 0]), 'input_ids': tensor([[   2,   13,    1,  ...,    0,    0,    0],\n",
      "        [   2,   13,    1,  ...,    0,    0,    0],\n",
      "        [   2, 6926, 1616,  ...,    0,    0,    0],\n",
      "        ...,\n",
      "        [   2,   13,    1,  ...,    0,    0,    0],\n",
      "        [   2,   13,    1,  ...,    0,    0,    0],\n",
      "        [   2,   13,    1,  ...,    0,    0,    0]]), 'attention_mask': tensor([[1, 1, 1,  ..., 0, 0, 0],\n",
      "        [1, 1, 1,  ..., 0, 0, 0],\n",
      "        [1, 1, 1,  ..., 0, 0, 0],\n",
      "        ...,\n",
      "        [1, 1, 1,  ..., 0, 0, 0],\n",
      "        [1, 1, 1,  ..., 0, 0, 0],\n",
      "        [1, 1, 1,  ..., 0, 0, 0]])}\n",
      "{'label': tensor([0, 0, 0, 0, 0, 0, 0, 0, 0, 0, 0, 0, 0, 0, 0, 0]), 'input_ids': tensor([[   2,   13,    1,  ...,    0,    0,    0],\n",
      "        [   2,   13,    1,  ...,    0,    0,    0],\n",
      "        [   2,   13,    1,  ...,    0,    0,    0],\n",
      "        ...,\n",
      "        [   2,   13,    1,  ...,    0,    0,    0],\n",
      "        [   2, 6926, 3239,  ...,    0,    0,    0],\n",
      "        [   2,   13,    1,  ...,    0,    0,    0]]), 'attention_mask': tensor([[1, 1, 1,  ..., 0, 0, 0],\n",
      "        [1, 1, 1,  ..., 0, 0, 0],\n",
      "        [1, 1, 1,  ..., 0, 0, 0],\n",
      "        ...,\n",
      "        [1, 1, 1,  ..., 0, 0, 0],\n",
      "        [1, 1, 1,  ..., 0, 0, 0],\n",
      "        [1, 1, 1,  ..., 0, 0, 0]])}\n",
      "{'label': tensor([0, 1, 0, 1, 1, 0, 0, 0, 0, 1, 0, 0, 1, 0, 1, 0]), 'input_ids': tensor([[ 2, 13,  1,  ...,  0,  0,  0],\n",
      "        [ 2, 13,  1,  ...,  0,  0,  0],\n",
      "        [ 2, 13,  1,  ...,  0,  0,  0],\n",
      "        ...,\n",
      "        [ 2, 13,  1,  ...,  0,  0,  0],\n",
      "        [ 2, 13,  1,  ...,  0,  0,  0],\n",
      "        [ 2, 13,  1,  ...,  0,  0,  0]]), 'attention_mask': tensor([[1, 1, 1,  ..., 0, 0, 0],\n",
      "        [1, 1, 1,  ..., 0, 0, 0],\n",
      "        [1, 1, 1,  ..., 0, 0, 0],\n",
      "        ...,\n",
      "        [1, 1, 1,  ..., 0, 0, 0],\n",
      "        [1, 1, 1,  ..., 0, 0, 0],\n",
      "        [1, 1, 1,  ..., 0, 0, 0]])}\n",
      "{'label': tensor([0, 0, 0, 0, 0, 0, 0, 0, 0, 1, 0, 0, 1, 1, 0, 0]), 'input_ids': tensor([[ 2, 13,  1,  ...,  0,  0,  0],\n",
      "        [ 2, 13,  1,  ...,  0,  0,  0],\n",
      "        [ 2, 13,  1,  ...,  0,  0,  0],\n",
      "        ...,\n",
      "        [ 2, 13,  1,  ...,  0,  0,  0],\n",
      "        [ 2, 13,  1,  ...,  0,  0,  0],\n",
      "        [ 2, 13,  1,  ...,  0,  0,  0]]), 'attention_mask': tensor([[1, 1, 1,  ..., 0, 0, 0],\n",
      "        [1, 1, 1,  ..., 0, 0, 0],\n",
      "        [1, 1, 1,  ..., 0, 0, 0],\n",
      "        ...,\n",
      "        [1, 1, 1,  ..., 0, 0, 0],\n",
      "        [1, 1, 1,  ..., 0, 0, 0],\n",
      "        [1, 1, 1,  ..., 0, 0, 0]])}\n",
      "{'label': tensor([0, 0, 1, 1, 1, 0, 0, 0, 0, 0, 1, 0, 1, 0, 1, 0]), 'input_ids': tensor([[ 2, 13,  1,  ...,  0,  0,  0],\n",
      "        [ 2, 13,  1,  ...,  0,  0,  0],\n",
      "        [ 2, 13,  1,  ...,  0,  0,  0],\n",
      "        ...,\n",
      "        [ 2, 13,  1,  ...,  0,  0,  0],\n",
      "        [ 2, 13,  1,  ...,  0,  0,  0],\n",
      "        [ 2, 13,  8,  ...,  0,  0,  0]]), 'attention_mask': tensor([[1, 1, 1,  ..., 0, 0, 0],\n",
      "        [1, 1, 1,  ..., 0, 0, 0],\n",
      "        [1, 1, 1,  ..., 0, 0, 0],\n",
      "        ...,\n",
      "        [1, 1, 1,  ..., 0, 0, 0],\n",
      "        [1, 1, 1,  ..., 0, 0, 0],\n",
      "        [1, 1, 1,  ..., 0, 0, 0]])}\n",
      "{'label': tensor([0, 1, 0, 0, 0, 0, 0, 0, 0, 1, 0, 0, 1, 1, 0, 1]), 'input_ids': tensor([[    2,    13,     1,  ...,     0,     0,     0],\n",
      "        [    2,    13,     1,  ...,     0,     0,     0],\n",
      "        [    2,  6926, 14738,  ...,     0,     0,     0],\n",
      "        ...,\n",
      "        [    2,    13,     1,  ...,     0,     0,     0],\n",
      "        [    2,    13,     1,  ...,     0,     0,     0],\n",
      "        [    2,    13,     1,  ...,     0,     0,     0]]), 'attention_mask': tensor([[1, 1, 1,  ..., 0, 0, 0],\n",
      "        [1, 1, 1,  ..., 0, 0, 0],\n",
      "        [1, 1, 1,  ..., 0, 0, 0],\n",
      "        ...,\n",
      "        [1, 1, 1,  ..., 0, 0, 0],\n",
      "        [1, 1, 1,  ..., 0, 0, 0],\n",
      "        [1, 1, 1,  ..., 0, 0, 0]])}\n",
      "{'label': tensor([0, 1, 0, 0, 1, 0, 0, 0, 1, 1, 1, 1, 1, 0, 0, 0]), 'input_ids': tensor([[    2,    13,     1,  ...,     0,     0,     0],\n",
      "        [    2,    13,     1,  ...,     0,     0,     0],\n",
      "        [    2,    13,     1,  ...,     0,     0,     0],\n",
      "        ...,\n",
      "        [    2,    13,     1,  ...,     1, 16704,     3],\n",
      "        [    2,    13,     1,  ...,     0,     0,     0],\n",
      "        [    2,   744,     9,  ...,     0,     0,     0]]), 'attention_mask': tensor([[1, 1, 1,  ..., 0, 0, 0],\n",
      "        [1, 1, 1,  ..., 0, 0, 0],\n",
      "        [1, 1, 1,  ..., 0, 0, 0],\n",
      "        ...,\n",
      "        [1, 1, 1,  ..., 1, 1, 1],\n",
      "        [1, 1, 1,  ..., 0, 0, 0],\n",
      "        [1, 1, 1,  ..., 0, 0, 0]])}\n",
      "{'label': tensor([1, 1, 0, 0, 0, 0, 0, 1, 0, 1, 0, 0, 1, 1, 1, 0]), 'input_ids': tensor([[ 2, 13,  1,  ...,  0,  0,  0],\n",
      "        [ 2, 13,  1,  ...,  0,  0,  0],\n",
      "        [ 2, 13,  1,  ...,  0,  0,  0],\n",
      "        ...,\n",
      "        [ 2, 13,  1,  ...,  0,  0,  0],\n",
      "        [ 2, 13,  1,  ...,  0,  0,  0],\n",
      "        [ 2, 13,  1,  ...,  0,  0,  0]]), 'attention_mask': tensor([[1, 1, 1,  ..., 0, 0, 0],\n",
      "        [1, 1, 1,  ..., 0, 0, 0],\n",
      "        [1, 1, 1,  ..., 0, 0, 0],\n",
      "        ...,\n",
      "        [1, 1, 1,  ..., 0, 0, 0],\n",
      "        [1, 1, 1,  ..., 0, 0, 0],\n",
      "        [1, 1, 1,  ..., 0, 0, 0]])}\n",
      "{'label': tensor([0, 1, 0, 0, 0, 1, 0, 0, 0, 0, 0, 1, 0, 0, 1, 0]), 'input_ids': tensor([[ 2, 13,  1,  ...,  0,  0,  0],\n",
      "        [ 2, 13,  1,  ...,  0,  0,  0],\n",
      "        [ 2, 13,  1,  ...,  0,  0,  0],\n",
      "        ...,\n",
      "        [ 2, 13,  1,  ...,  0,  0,  0],\n",
      "        [ 2, 13,  1,  ...,  0,  0,  0],\n",
      "        [ 2, 13,  1,  ...,  0,  0,  0]]), 'attention_mask': tensor([[1, 1, 1,  ..., 0, 0, 0],\n",
      "        [1, 1, 1,  ..., 0, 0, 0],\n",
      "        [1, 1, 1,  ..., 0, 0, 0],\n",
      "        ...,\n",
      "        [1, 1, 1,  ..., 0, 0, 0],\n",
      "        [1, 1, 1,  ..., 0, 0, 0],\n",
      "        [1, 1, 1,  ..., 0, 0, 0]])}\n",
      "{'label': tensor([0, 0, 1, 0, 1, 1, 0, 1, 0, 0, 0, 0, 1, 0, 0, 0]), 'input_ids': tensor([[   2,   13,    1,  ...,    0,    0,    0],\n",
      "        [   2,   13,    9,  ...,    0,    0,    0],\n",
      "        [   2,   13,    1,  ...,    0,    0,    0],\n",
      "        ...,\n",
      "        [   2,   13,    1,  ...,    0,    0,    0],\n",
      "        [   2,   13,    1,  ...,    0,    0,    0],\n",
      "        [   2, 6926, 2473,  ...,    0,    0,    0]]), 'attention_mask': tensor([[1, 1, 1,  ..., 0, 0, 0],\n",
      "        [1, 1, 1,  ..., 0, 0, 0],\n",
      "        [1, 1, 1,  ..., 0, 0, 0],\n",
      "        ...,\n",
      "        [1, 1, 1,  ..., 0, 0, 0],\n",
      "        [1, 1, 1,  ..., 0, 0, 0],\n",
      "        [1, 1, 1,  ..., 0, 0, 0]])}\n",
      "{'label': tensor([0, 0, 0, 1, 0, 1, 0, 1, 0, 1, 1, 0, 0, 1, 1, 0]), 'input_ids': tensor([[    2,    13,     1,  ...,     0,     0,     0],\n",
      "        [    2,    13,     1,  ...,     0,     0,     0],\n",
      "        [    2,  6926, 25290,  ...,     0,     0,     0],\n",
      "        ...,\n",
      "        [    2,    13,     1,  ...,     0,     0,     0],\n",
      "        [    2,  6926,  1887,  ...,     0,     0,     0],\n",
      "        [    2,    13,     1,  ...,     0,     0,     0]]), 'attention_mask': tensor([[1, 1, 1,  ..., 0, 0, 0],\n",
      "        [1, 1, 1,  ..., 0, 0, 0],\n",
      "        [1, 1, 1,  ..., 0, 0, 0],\n",
      "        ...,\n",
      "        [1, 1, 1,  ..., 0, 0, 0],\n",
      "        [1, 1, 1,  ..., 0, 0, 0],\n",
      "        [1, 1, 1,  ..., 0, 0, 0]])}\n",
      "{'label': tensor([0, 0, 0, 0, 1, 0, 1, 0, 1, 1, 0, 0, 0, 0, 0, 0]), 'input_ids': tensor([[    2, 16588,    18,  ...,     0,     0,     0],\n",
      "        [    2,    13,     1,  ...,     0,     0,     0],\n",
      "        [    2,    13,     1,  ...,     0,     0,     0],\n",
      "        ...,\n",
      "        [    2,    13,     1,  ...,     0,     0,     0],\n",
      "        [    2,    13,     1,  ...,     0,     0,     0],\n",
      "        [    2,    13,     1,  ...,     0,     0,     0]]), 'attention_mask': tensor([[1, 1, 1,  ..., 0, 0, 0],\n",
      "        [1, 1, 1,  ..., 0, 0, 0],\n",
      "        [1, 1, 1,  ..., 0, 0, 0],\n",
      "        ...,\n",
      "        [1, 1, 1,  ..., 0, 0, 0],\n",
      "        [1, 1, 1,  ..., 0, 0, 0],\n",
      "        [1, 1, 1,  ..., 0, 0, 0]])}\n",
      "{'label': tensor([0, 0, 1, 0, 0, 1, 1, 1, 1, 1, 0, 0, 1, 1, 1, 1]), 'input_ids': tensor([[ 2, 13,  1,  ...,  0,  0,  0],\n",
      "        [ 2, 13,  1,  ...,  0,  0,  0],\n",
      "        [ 2, 13,  1,  ...,  0,  0,  0],\n",
      "        ...,\n",
      "        [ 2, 13,  1,  ...,  0,  0,  0],\n",
      "        [ 2, 13,  1,  ...,  0,  0,  0],\n",
      "        [ 2, 13,  1,  ...,  0,  0,  0]]), 'attention_mask': tensor([[1, 1, 1,  ..., 0, 0, 0],\n",
      "        [1, 1, 1,  ..., 0, 0, 0],\n",
      "        [1, 1, 1,  ..., 0, 0, 0],\n",
      "        ...,\n",
      "        [1, 1, 1,  ..., 0, 0, 0],\n",
      "        [1, 1, 1,  ..., 0, 0, 0],\n",
      "        [1, 1, 1,  ..., 0, 0, 0]])}\n",
      "{'label': tensor([1, 0, 0, 1, 1, 0, 0, 0, 0, 0, 0, 0, 1, 0, 0, 0]), 'input_ids': tensor([[  2,  13,   1,  ...,   0,   0,   0],\n",
      "        [  2,  13,   1,  ...,   0,   0,   0],\n",
      "        [  2,  95, 221,  ...,   0,   0,   0],\n",
      "        ...,\n",
      "        [  2,  13,   1,  ...,   0,   0,   0],\n",
      "        [  2,  13,   1,  ...,   0,   0,   0],\n",
      "        [  2,  13,   1,  ...,   0,   0,   0]]), 'attention_mask': tensor([[1, 1, 1,  ..., 0, 0, 0],\n",
      "        [1, 1, 1,  ..., 0, 0, 0],\n",
      "        [1, 1, 1,  ..., 0, 0, 0],\n",
      "        ...,\n",
      "        [1, 1, 1,  ..., 0, 0, 0],\n",
      "        [1, 1, 1,  ..., 0, 0, 0],\n",
      "        [1, 1, 1,  ..., 0, 0, 0]])}\n",
      "{'label': tensor([0, 0, 0, 0, 1, 1, 0, 1, 1, 1, 0, 1, 0, 0, 0, 1]), 'input_ids': tensor([[    2,    13,     1,  ...,     0,     0,     0],\n",
      "        [    2,    13,     1,  ...,     0,     0,     0],\n",
      "        [    2,  6926, 12354,  ...,     0,     0,     0],\n",
      "        ...,\n",
      "        [    2,    13,     1,  ...,     0,     0,     0],\n",
      "        [    2,    13,     1,  ...,     0,     0,     0],\n",
      "        [    2,    13,     1,  ...,     0,     0,     0]]), 'attention_mask': tensor([[1, 1, 1,  ..., 0, 0, 0],\n",
      "        [1, 1, 1,  ..., 0, 0, 0],\n",
      "        [1, 1, 1,  ..., 0, 0, 0],\n",
      "        ...,\n",
      "        [1, 1, 1,  ..., 0, 0, 0],\n",
      "        [1, 1, 1,  ..., 0, 0, 0],\n",
      "        [1, 1, 1,  ..., 0, 0, 0]])}\n",
      "{'label': tensor([0, 0, 0, 0, 0, 0, 0, 0, 0, 0, 1, 0, 0, 0, 0, 0]), 'input_ids': tensor([[ 2, 13,  1,  ...,  0,  0,  0],\n",
      "        [ 2, 13,  1,  ...,  0,  0,  0],\n",
      "        [ 2, 13,  1,  ...,  0,  0,  0],\n",
      "        ...,\n",
      "        [ 2, 13,  1,  ...,  0,  0,  0],\n",
      "        [ 2, 13,  1,  ...,  0,  0,  0],\n",
      "        [ 2, 13,  1,  ...,  0,  0,  0]]), 'attention_mask': tensor([[1, 1, 1,  ..., 0, 0, 0],\n",
      "        [1, 1, 1,  ..., 0, 0, 0],\n",
      "        [1, 1, 1,  ..., 0, 0, 0],\n",
      "        ...,\n",
      "        [1, 1, 1,  ..., 0, 0, 0],\n",
      "        [1, 1, 1,  ..., 0, 0, 0],\n",
      "        [1, 1, 1,  ..., 0, 0, 0]])}\n",
      "{'label': tensor([1, 0, 1, 0, 0, 1, 0, 0, 0, 0, 0, 0, 1, 0, 0, 0]), 'input_ids': tensor([[   2,  166,  100,  ...,    0,    0,    0],\n",
      "        [   2,   13,    1,  ...,    0,    0,    0],\n",
      "        [   2,   13,    1,  ...,    0,    0,    0],\n",
      "        ...,\n",
      "        [   2,   13,    1,  ...,    0,    0,    0],\n",
      "        [   2,  797, 1672,  ...,    0,    0,    0],\n",
      "        [   2,   13,    1,  ...,    0,    0,    0]]), 'attention_mask': tensor([[1, 1, 1,  ..., 0, 0, 0],\n",
      "        [1, 1, 1,  ..., 0, 0, 0],\n",
      "        [1, 1, 1,  ..., 0, 0, 0],\n",
      "        ...,\n",
      "        [1, 1, 1,  ..., 0, 0, 0],\n",
      "        [1, 1, 1,  ..., 0, 0, 0],\n",
      "        [1, 1, 1,  ..., 0, 0, 0]])}\n",
      "{'label': tensor([0, 0, 0, 0, 0, 1, 0, 1, 0, 0, 0, 1, 0, 0, 0, 1]), 'input_ids': tensor([[ 2, 13,  1,  ...,  0,  0,  0],\n",
      "        [ 2, 13,  1,  ...,  0,  0,  0],\n",
      "        [ 2, 13,  1,  ...,  0,  0,  0],\n",
      "        ...,\n",
      "        [ 2, 13,  1,  ...,  0,  0,  0],\n",
      "        [ 2, 13,  1,  ...,  0,  0,  0],\n",
      "        [ 2, 13,  1,  ...,  0,  0,  0]]), 'attention_mask': tensor([[1, 1, 1,  ..., 0, 0, 0],\n",
      "        [1, 1, 1,  ..., 0, 0, 0],\n",
      "        [1, 1, 1,  ..., 0, 0, 0],\n",
      "        ...,\n",
      "        [1, 1, 1,  ..., 0, 0, 0],\n",
      "        [1, 1, 1,  ..., 0, 0, 0],\n",
      "        [1, 1, 1,  ..., 0, 0, 0]])}\n",
      "{'label': tensor([0, 0, 0, 0, 0, 0, 0, 0, 0, 0, 0, 0, 0, 0, 0, 0]), 'input_ids': tensor([[    2,    13,     1,  ...,     0,     0,     0],\n",
      "        [    2,  6926, 25290,  ...,     0,     0,     0],\n",
      "        [    2,    13,     1,  ...,     0,     0,     0],\n",
      "        ...,\n",
      "        [    2,    13,     1,  ...,     0,     0,     0],\n",
      "        [    2,    13,     1,  ...,     0,     0,     0],\n",
      "        [    2,    13,     1,  ...,     0,     0,     0]]), 'attention_mask': tensor([[1, 1, 1,  ..., 0, 0, 0],\n",
      "        [1, 1, 1,  ..., 0, 0, 0],\n",
      "        [1, 1, 1,  ..., 0, 0, 0],\n",
      "        ...,\n",
      "        [1, 1, 1,  ..., 0, 0, 0],\n",
      "        [1, 1, 1,  ..., 0, 0, 0],\n",
      "        [1, 1, 1,  ..., 0, 0, 0]])}\n",
      "{'label': tensor([0, 0, 0, 0, 0, 1, 0, 0, 0, 0, 1, 1, 1, 0, 1, 0]), 'input_ids': tensor([[   2,   13,    1,  ...,    0,    0,    0],\n",
      "        [   2,   13,    1,  ...,    0,    0,    0],\n",
      "        [   2,   13,    1,  ...,    0,    0,    0],\n",
      "        ...,\n",
      "        [   2,   13,    1,  ...,    0,    0,    0],\n",
      "        [   2,   13,    1,  ...,    0,    0,    0],\n",
      "        [   2, 6926,  262,  ...,    0,    0,    0]]), 'attention_mask': tensor([[1, 1, 1,  ..., 0, 0, 0],\n",
      "        [1, 1, 1,  ..., 0, 0, 0],\n",
      "        [1, 1, 1,  ..., 0, 0, 0],\n",
      "        ...,\n",
      "        [1, 1, 1,  ..., 0, 0, 0],\n",
      "        [1, 1, 1,  ..., 0, 0, 0],\n",
      "        [1, 1, 1,  ..., 0, 0, 0]])}\n",
      "{'label': tensor([1, 1, 0, 0, 0, 0, 0, 1, 0, 0, 0, 0, 1, 1, 1, 0]), 'input_ids': tensor([[    2,    13,     1,  ...,     0,     0,     0],\n",
      "        [    2,  6926, 11759,  ...,     0,     0,     0],\n",
      "        [    2,    13,     1,  ...,     0,     0,     0],\n",
      "        ...,\n",
      "        [    2,    13,     1,  ...,     0,     0,     0],\n",
      "        [    2,    13,     1,  ...,     0,     0,     0],\n",
      "        [    2,    13,     1,  ...,     0,     0,     0]]), 'attention_mask': tensor([[1, 1, 1,  ..., 0, 0, 0],\n",
      "        [1, 1, 1,  ..., 0, 0, 0],\n",
      "        [1, 1, 1,  ..., 0, 0, 0],\n",
      "        ...,\n",
      "        [1, 1, 1,  ..., 0, 0, 0],\n",
      "        [1, 1, 1,  ..., 0, 0, 0],\n",
      "        [1, 1, 1,  ..., 0, 0, 0]])}\n",
      "{'label': tensor([0, 0, 1, 0, 0, 1, 1, 0, 0, 0, 1, 0, 0, 1, 0, 0]), 'input_ids': tensor([[ 2, 13,  1,  ...,  0,  0,  0],\n",
      "        [ 2, 13,  1,  ...,  0,  0,  0],\n",
      "        [ 2, 13,  1,  ...,  0,  0,  0],\n",
      "        ...,\n",
      "        [ 2, 13,  1,  ...,  0,  0,  0],\n",
      "        [ 2, 13,  1,  ...,  0,  0,  0],\n",
      "        [ 2, 13,  1,  ...,  0,  0,  0]]), 'attention_mask': tensor([[1, 1, 1,  ..., 0, 0, 0],\n",
      "        [1, 1, 1,  ..., 0, 0, 0],\n",
      "        [1, 1, 1,  ..., 0, 0, 0],\n",
      "        ...,\n",
      "        [1, 1, 1,  ..., 0, 0, 0],\n",
      "        [1, 1, 1,  ..., 0, 0, 0],\n",
      "        [1, 1, 1,  ..., 0, 0, 0]])}\n",
      "{'label': tensor([1, 1, 1, 0, 0, 0, 0, 1, 0, 0, 0, 1, 1, 1, 0, 0]), 'input_ids': tensor([[ 2, 13,  1,  ...,  0,  0,  0],\n",
      "        [ 2, 13,  1,  ...,  0,  0,  0],\n",
      "        [ 2, 13,  1,  ...,  0,  0,  0],\n",
      "        ...,\n",
      "        [ 2, 13,  1,  ...,  0,  0,  0],\n",
      "        [ 2, 13,  1,  ...,  0,  0,  0],\n",
      "        [ 2, 13,  1,  ...,  0,  0,  0]]), 'attention_mask': tensor([[1, 1, 1,  ..., 0, 0, 0],\n",
      "        [1, 1, 1,  ..., 0, 0, 0],\n",
      "        [1, 1, 1,  ..., 0, 0, 0],\n",
      "        ...,\n",
      "        [1, 1, 1,  ..., 0, 0, 0],\n",
      "        [1, 1, 1,  ..., 0, 0, 0],\n",
      "        [1, 1, 1,  ..., 0, 0, 0]])}\n",
      "{'label': tensor([1, 0, 1, 1, 0, 0, 1, 0, 0, 0, 1, 0, 0, 0, 0, 0]), 'input_ids': tensor([[ 2, 13,  1,  ...,  0,  0,  0],\n",
      "        [ 2, 13,  1,  ...,  0,  0,  0],\n",
      "        [ 2, 13,  1,  ...,  0,  0,  0],\n",
      "        ...,\n",
      "        [ 2, 13,  1,  ...,  0,  0,  0],\n",
      "        [ 2, 13,  1,  ...,  0,  0,  0],\n",
      "        [ 2, 13,  1,  ...,  0,  0,  0]]), 'attention_mask': tensor([[1, 1, 1,  ..., 0, 0, 0],\n",
      "        [1, 1, 1,  ..., 0, 0, 0],\n",
      "        [1, 1, 1,  ..., 0, 0, 0],\n",
      "        ...,\n",
      "        [1, 1, 1,  ..., 0, 0, 0],\n",
      "        [1, 1, 1,  ..., 0, 0, 0],\n",
      "        [1, 1, 1,  ..., 0, 0, 0]])}\n",
      "{'label': tensor([0, 0, 1, 1, 0, 0, 1, 0, 0, 0, 0, 0, 1, 1, 0, 0]), 'input_ids': tensor([[    2,    13,     1,  ...,     0,     0,     0],\n",
      "        [    2,    13,     1,  ...,     0,     0,     0],\n",
      "        [    2,    13,     1,  ...,     0,     0,     0],\n",
      "        ...,\n",
      "        [    2,    13,     1,  ...,     0,     0,     0],\n",
      "        [    2,    13,     1,  ...,     0,     0,     0],\n",
      "        [    2,    13,     1,  ...,     1, 16704,     3]]), 'attention_mask': tensor([[1, 1, 1,  ..., 0, 0, 0],\n",
      "        [1, 1, 1,  ..., 0, 0, 0],\n",
      "        [1, 1, 1,  ..., 0, 0, 0],\n",
      "        ...,\n",
      "        [1, 1, 1,  ..., 0, 0, 0],\n",
      "        [1, 1, 1,  ..., 0, 0, 0],\n",
      "        [1, 1, 1,  ..., 1, 1, 1]])}\n",
      "{'label': tensor([1, 0, 1, 1, 0, 0, 1, 0, 0, 1, 0, 0, 0, 0, 0, 0]), 'input_ids': tensor([[ 2, 13,  1,  ...,  0,  0,  0],\n",
      "        [ 2, 13,  1,  ...,  0,  0,  0],\n",
      "        [ 2, 13,  1,  ...,  0,  0,  0],\n",
      "        ...,\n",
      "        [ 2, 13,  1,  ...,  0,  0,  0],\n",
      "        [ 2, 13,  1,  ...,  0,  0,  0],\n",
      "        [ 2, 13,  1,  ...,  0,  0,  0]]), 'attention_mask': tensor([[1, 1, 1,  ..., 0, 0, 0],\n",
      "        [1, 1, 1,  ..., 0, 0, 0],\n",
      "        [1, 1, 1,  ..., 0, 0, 0],\n",
      "        ...,\n",
      "        [1, 1, 1,  ..., 0, 0, 0],\n",
      "        [1, 1, 1,  ..., 0, 0, 0],\n",
      "        [1, 1, 1,  ..., 0, 0, 0]])}\n",
      "{'label': tensor([1, 1, 0, 0, 0, 0, 0, 0, 0, 1, 1, 0, 1, 1, 1, 0]), 'input_ids': tensor([[  2,  13,   1,  ...,   0,   0,   0],\n",
      "        [  2,  13,   1,  ...,   0,   0,   0],\n",
      "        [  2,  13,   1,  ...,   0,   0,   0],\n",
      "        ...,\n",
      "        [  2,  91, 101,  ...,   0,   0,   0],\n",
      "        [  2,  13,   1,  ...,   0,   0,   0],\n",
      "        [  2,  13,   1,  ...,   0,   0,   0]]), 'attention_mask': tensor([[1, 1, 1,  ..., 0, 0, 0],\n",
      "        [1, 1, 1,  ..., 0, 0, 0],\n",
      "        [1, 1, 1,  ..., 0, 0, 0],\n",
      "        ...,\n",
      "        [1, 1, 1,  ..., 0, 0, 0],\n",
      "        [1, 1, 1,  ..., 0, 0, 0],\n",
      "        [1, 1, 1,  ..., 0, 0, 0]])}\n",
      "{'label': tensor([1, 0, 0, 1, 1, 0, 0, 0, 0, 0, 0, 1, 1, 0, 0, 1]), 'input_ids': tensor([[   2,   13,    1,  ...,    0,    0,    0],\n",
      "        [   2,   13,    1,  ...,    0,    0,    0],\n",
      "        [   2,   13,    9,  ...,    0,    0,    0],\n",
      "        ...,\n",
      "        [   2, 1082, 1473,  ...,    0,    0,    0],\n",
      "        [   2,   13,    1,  ...,    0,    0,    0],\n",
      "        [   2,   13,    1,  ...,    0,    0,    0]]), 'attention_mask': tensor([[1, 1, 1,  ..., 0, 0, 0],\n",
      "        [1, 1, 1,  ..., 0, 0, 0],\n",
      "        [1, 1, 1,  ..., 0, 0, 0],\n",
      "        ...,\n",
      "        [1, 1, 1,  ..., 0, 0, 0],\n",
      "        [1, 1, 1,  ..., 0, 0, 0],\n",
      "        [1, 1, 1,  ..., 0, 0, 0]])}\n",
      "{'label': tensor([0, 1, 0, 0, 0, 1, 0, 0, 0, 0, 0, 1, 0, 0, 0, 0]), 'input_ids': tensor([[    2,    13,     1,  ...,     0,     0,     0],\n",
      "        [    2,    13,     1,  ...,     0,     0,     0],\n",
      "        [    2,    13,     1,  ...,     0,     0,     0],\n",
      "        ...,\n",
      "        [    2,    13,     1,  ...,     1, 16704,     3],\n",
      "        [    2,  6926,  1387,  ...,     0,     0,     0],\n",
      "        [    2,    13,     1,  ...,     0,     0,     0]]), 'attention_mask': tensor([[1, 1, 1,  ..., 0, 0, 0],\n",
      "        [1, 1, 1,  ..., 0, 0, 0],\n",
      "        [1, 1, 1,  ..., 0, 0, 0],\n",
      "        ...,\n",
      "        [1, 1, 1,  ..., 1, 1, 1],\n",
      "        [1, 1, 1,  ..., 0, 0, 0],\n",
      "        [1, 1, 1,  ..., 0, 0, 0]])}\n",
      "{'label': tensor([0, 0, 0, 0, 0, 1, 0, 0, 0, 0, 1, 0, 0, 0, 0, 0]), 'input_ids': tensor([[  2,  13,   1,  ...,   0,   0,   0],\n",
      "        [  2,  13,   1,  ...,   0,   0,   0],\n",
      "        [  2,  31, 709,  ...,   0,   0,   0],\n",
      "        ...,\n",
      "        [  2,  13,   1,  ...,   0,   0,   0],\n",
      "        [  2,  13,   1,  ...,   0,   0,   0],\n",
      "        [  2,  13,   1,  ...,   0,   0,   0]]), 'attention_mask': tensor([[1, 1, 1,  ..., 0, 0, 0],\n",
      "        [1, 1, 1,  ..., 0, 0, 0],\n",
      "        [1, 1, 1,  ..., 0, 0, 0],\n",
      "        ...,\n",
      "        [1, 1, 1,  ..., 0, 0, 0],\n",
      "        [1, 1, 1,  ..., 0, 0, 0],\n",
      "        [1, 1, 1,  ..., 0, 0, 0]])}\n",
      "{'label': tensor([0, 1, 0, 1, 1, 0, 0, 1, 0, 0, 0, 1, 0, 0, 1, 0]), 'input_ids': tensor([[ 2, 13,  1,  ...,  0,  0,  0],\n",
      "        [ 2, 13,  1,  ...,  0,  0,  0],\n",
      "        [ 2, 13,  1,  ...,  0,  0,  0],\n",
      "        ...,\n",
      "        [ 2, 13,  1,  ...,  0,  0,  0],\n",
      "        [ 2, 13,  1,  ...,  0,  0,  0],\n",
      "        [ 2, 13,  1,  ...,  0,  0,  0]]), 'attention_mask': tensor([[1, 1, 1,  ..., 0, 0, 0],\n",
      "        [1, 1, 1,  ..., 0, 0, 0],\n",
      "        [1, 1, 1,  ..., 0, 0, 0],\n",
      "        ...,\n",
      "        [1, 1, 1,  ..., 0, 0, 0],\n",
      "        [1, 1, 1,  ..., 0, 0, 0],\n",
      "        [1, 1, 1,  ..., 0, 0, 0]])}\n",
      "{'label': tensor([0, 0, 1, 0, 0, 0, 0, 0, 1, 0, 0, 0, 1, 1, 0, 1]), 'input_ids': tensor([[   2,   13,    1,  ...,    0,    0,    0],\n",
      "        [   2,   13,    1,  ...,    0,    0,    0],\n",
      "        [   2, 6926,   96,  ...,    0,    0,    0],\n",
      "        ...,\n",
      "        [   2,   13,    1,  ...,    0,    0,    0],\n",
      "        [   2,   13,    1,  ...,    0,    0,    0],\n",
      "        [   2, 4722, 6589,  ...,    0,    0,    0]]), 'attention_mask': tensor([[1, 1, 1,  ..., 0, 0, 0],\n",
      "        [1, 1, 1,  ..., 0, 0, 0],\n",
      "        [1, 1, 1,  ..., 0, 0, 0],\n",
      "        ...,\n",
      "        [1, 1, 1,  ..., 0, 0, 0],\n",
      "        [1, 1, 1,  ..., 0, 0, 0],\n",
      "        [1, 1, 1,  ..., 0, 0, 0]])}\n",
      "{'label': tensor([0, 0, 0, 1, 0, 0, 0, 1, 0, 1, 1, 0, 0, 1, 0, 0]), 'input_ids': tensor([[ 2, 13,  1,  ...,  0,  0,  0],\n",
      "        [ 2, 13,  1,  ...,  0,  0,  0],\n",
      "        [ 2, 13,  1,  ...,  0,  0,  0],\n",
      "        ...,\n",
      "        [ 2, 13,  1,  ...,  0,  0,  0],\n",
      "        [ 2, 13,  1,  ...,  0,  0,  0],\n",
      "        [ 2, 13,  1,  ...,  0,  0,  0]]), 'attention_mask': tensor([[1, 1, 1,  ..., 0, 0, 0],\n",
      "        [1, 1, 1,  ..., 0, 0, 0],\n",
      "        [1, 1, 1,  ..., 0, 0, 0],\n",
      "        ...,\n",
      "        [1, 1, 1,  ..., 0, 0, 0],\n",
      "        [1, 1, 1,  ..., 0, 0, 0],\n",
      "        [1, 1, 1,  ..., 0, 0, 0]])}\n",
      "{'label': tensor([0, 1, 0, 0, 1, 1, 1, 0, 1, 1, 1, 0, 0, 0, 0, 0]), 'input_ids': tensor([[ 2, 13,  1,  ...,  0,  0,  0],\n",
      "        [ 2, 13,  1,  ...,  0,  0,  0],\n",
      "        [ 2, 13,  1,  ...,  0,  0,  0],\n",
      "        ...,\n",
      "        [ 2, 13,  1,  ...,  0,  0,  0],\n",
      "        [ 2, 13,  1,  ...,  0,  0,  0],\n",
      "        [ 2, 13,  1,  ...,  0,  0,  0]]), 'attention_mask': tensor([[1, 1, 1,  ..., 0, 0, 0],\n",
      "        [1, 1, 1,  ..., 0, 0, 0],\n",
      "        [1, 1, 1,  ..., 0, 0, 0],\n",
      "        ...,\n",
      "        [1, 1, 1,  ..., 0, 0, 0],\n",
      "        [1, 1, 1,  ..., 0, 0, 0],\n",
      "        [1, 1, 1,  ..., 0, 0, 0]])}\n",
      "{'label': tensor([1, 1, 0, 0, 0, 1, 1, 0, 0, 1, 0, 0, 1, 1, 0, 0]), 'input_ids': tensor([[    2,    13,     1,  ...,     0,     0,     0],\n",
      "        [    2,  6926,  6899,  ...,     0,     0,     0],\n",
      "        [    2,    13,     1,  ...,     0,     0,     0],\n",
      "        ...,\n",
      "        [    2,    13,     1,  ...,     0,     0,     0],\n",
      "        [    2,    13,     1,  ...,     0,     0,     0],\n",
      "        [    2,    13,     1,  ...,     1, 16704,     3]]), 'attention_mask': tensor([[1, 1, 1,  ..., 0, 0, 0],\n",
      "        [1, 1, 1,  ..., 0, 0, 0],\n",
      "        [1, 1, 1,  ..., 0, 0, 0],\n",
      "        ...,\n",
      "        [1, 1, 1,  ..., 0, 0, 0],\n",
      "        [1, 1, 1,  ..., 0, 0, 0],\n",
      "        [1, 1, 1,  ..., 1, 1, 1]])}\n",
      "{'label': tensor([0, 1, 1, 0, 1, 0, 0, 0, 0, 0, 1, 0, 0, 1, 0, 0]), 'input_ids': tensor([[ 2, 13,  1,  ...,  0,  0,  0],\n",
      "        [ 2, 13,  1,  ...,  0,  0,  0],\n",
      "        [ 2, 13,  1,  ...,  0,  0,  0],\n",
      "        ...,\n",
      "        [ 2, 13,  1,  ...,  0,  0,  0],\n",
      "        [ 2, 13,  1,  ...,  0,  0,  0],\n",
      "        [ 2, 13,  1,  ...,  0,  0,  0]]), 'attention_mask': tensor([[1, 1, 1,  ..., 0, 0, 0],\n",
      "        [1, 1, 1,  ..., 0, 0, 0],\n",
      "        [1, 1, 1,  ..., 0, 0, 0],\n",
      "        ...,\n",
      "        [1, 1, 1,  ..., 0, 0, 0],\n",
      "        [1, 1, 1,  ..., 0, 0, 0],\n",
      "        [1, 1, 1,  ..., 0, 0, 0]])}\n",
      "{'label': tensor([1, 0, 1, 0, 1, 1, 0, 0, 0, 1, 0, 0, 1, 1, 1, 1]), 'input_ids': tensor([[   2,   13,    1,  ...,    0,    0,    0],\n",
      "        [   2, 1637, 2242,  ...,    0,    0,    0],\n",
      "        [   2,   13,    1,  ...,    0,    0,    0],\n",
      "        ...,\n",
      "        [   2,   13,    1,  ...,    0,    0,    0],\n",
      "        [   2,   13,    1,  ...,    0,    0,    0],\n",
      "        [   2,   23,   48,  ...,    0,    0,    0]]), 'attention_mask': tensor([[1, 1, 1,  ..., 0, 0, 0],\n",
      "        [1, 1, 1,  ..., 0, 0, 0],\n",
      "        [1, 1, 1,  ..., 0, 0, 0],\n",
      "        ...,\n",
      "        [1, 1, 1,  ..., 0, 0, 0],\n",
      "        [1, 1, 1,  ..., 0, 0, 0],\n",
      "        [1, 1, 1,  ..., 0, 0, 0]])}\n",
      "{'label': tensor([0, 0, 0, 0, 0, 0, 0, 0, 1, 0, 1, 0, 0, 1, 0, 0]), 'input_ids': tensor([[   2,   13,    1,  ...,    0,    0,    0],\n",
      "        [   2, 1637,   24,  ...,    0,    0,    0],\n",
      "        [   2,   13,    1,  ...,    0,    0,    0],\n",
      "        ...,\n",
      "        [   2,   13,    1,  ...,    0,    0,    0],\n",
      "        [   2,   13,    1,  ...,    0,    0,    0],\n",
      "        [   2,   13,    1,  ...,    0,    0,    0]]), 'attention_mask': tensor([[1, 1, 1,  ..., 0, 0, 0],\n",
      "        [1, 1, 1,  ..., 0, 0, 0],\n",
      "        [1, 1, 1,  ..., 0, 0, 0],\n",
      "        ...,\n",
      "        [1, 1, 1,  ..., 0, 0, 0],\n",
      "        [1, 1, 1,  ..., 0, 0, 0],\n",
      "        [1, 1, 1,  ..., 0, 0, 0]])}\n",
      "{'label': tensor([1, 0, 0, 0, 0, 1, 1, 0, 0, 1, 1, 0, 0, 0, 0, 1]), 'input_ids': tensor([[ 2, 13,  1,  ...,  0,  0,  0],\n",
      "        [ 2, 13,  1,  ...,  0,  0,  0],\n",
      "        [ 2, 13,  1,  ...,  0,  0,  0],\n",
      "        ...,\n",
      "        [ 2, 13,  1,  ...,  0,  0,  0],\n",
      "        [ 2, 13,  1,  ...,  0,  0,  0],\n",
      "        [ 2, 13,  1,  ...,  0,  0,  0]]), 'attention_mask': tensor([[1, 1, 1,  ..., 0, 0, 0],\n",
      "        [1, 1, 1,  ..., 0, 0, 0],\n",
      "        [1, 1, 1,  ..., 0, 0, 0],\n",
      "        ...,\n",
      "        [1, 1, 1,  ..., 0, 0, 0],\n",
      "        [1, 1, 1,  ..., 0, 0, 0],\n",
      "        [1, 1, 1,  ..., 0, 0, 0]])}\n",
      "{'label': tensor([1, 1, 0, 0, 0, 0, 1, 0, 0, 0, 0, 1, 0, 0, 1, 1]), 'input_ids': tensor([[   2,   13,    1,  ...,    0,    0,    0],\n",
      "        [   2, 1082, 1473,  ...,    0,    0,    0],\n",
      "        [   2,   13,    1,  ...,    0,    0,    0],\n",
      "        ...,\n",
      "        [   2,   13,    1,  ...,    0,    0,    0],\n",
      "        [   2,   13,    1,  ...,    0,    0,    0],\n",
      "        [   2,   13,    1,  ...,    0,    0,    0]]), 'attention_mask': tensor([[1, 1, 1,  ..., 0, 0, 0],\n",
      "        [1, 1, 1,  ..., 0, 0, 0],\n",
      "        [1, 1, 1,  ..., 0, 0, 0],\n",
      "        ...,\n",
      "        [1, 1, 1,  ..., 0, 0, 0],\n",
      "        [1, 1, 1,  ..., 0, 0, 0],\n",
      "        [1, 1, 1,  ..., 0, 0, 0]])}\n",
      "{'label': tensor([0, 0, 0, 0, 0, 1, 0, 0, 0, 0, 0, 1, 0, 0, 1, 0]), 'input_ids': tensor([[  2,  13,   1,  ...,   0,   0,   0],\n",
      "        [  2,  13,   1,  ...,   0,   0,   0],\n",
      "        [  2, 709,  65,  ...,   0,   0,   0],\n",
      "        ...,\n",
      "        [  2,  13,   1,  ...,   0,   0,   0],\n",
      "        [  2,  13,   1,  ...,   0,   0,   0],\n",
      "        [  2,  13,   1,  ...,   0,   0,   0]]), 'attention_mask': tensor([[1, 1, 1,  ..., 0, 0, 0],\n",
      "        [1, 1, 1,  ..., 0, 0, 0],\n",
      "        [1, 1, 1,  ..., 0, 0, 0],\n",
      "        ...,\n",
      "        [1, 1, 1,  ..., 0, 0, 0],\n",
      "        [1, 1, 1,  ..., 0, 0, 0],\n",
      "        [1, 1, 1,  ..., 0, 0, 0]])}\n",
      "{'label': tensor([0, 1, 0, 0, 0, 0, 1, 0, 0, 1, 1, 0, 0, 0, 0, 0]), 'input_ids': tensor([[ 2, 13,  1,  ...,  0,  0,  0],\n",
      "        [ 2, 13,  1,  ...,  0,  0,  0],\n",
      "        [ 2, 13,  1,  ...,  0,  0,  0],\n",
      "        ...,\n",
      "        [ 2, 13,  1,  ...,  0,  0,  0],\n",
      "        [ 2, 13,  1,  ...,  0,  0,  0],\n",
      "        [ 2, 13,  1,  ...,  0,  0,  0]]), 'attention_mask': tensor([[1, 1, 1,  ..., 0, 0, 0],\n",
      "        [1, 1, 1,  ..., 0, 0, 0],\n",
      "        [1, 1, 1,  ..., 0, 0, 0],\n",
      "        ...,\n",
      "        [1, 1, 1,  ..., 0, 0, 0],\n",
      "        [1, 1, 1,  ..., 0, 0, 0],\n",
      "        [1, 1, 1,  ..., 0, 0, 0]])}\n",
      "{'label': tensor([0, 0, 0, 0, 0, 1, 1, 1, 0, 1, 1, 0, 1, 0, 0, 1]), 'input_ids': tensor([[ 2, 13,  1,  ...,  0,  0,  0],\n",
      "        [ 2, 13,  1,  ...,  0,  0,  0],\n",
      "        [ 2, 13,  1,  ...,  0,  0,  0],\n",
      "        ...,\n",
      "        [ 2, 13,  1,  ...,  0,  0,  0],\n",
      "        [ 2, 13,  1,  ...,  0,  0,  0],\n",
      "        [ 2, 13,  1,  ...,  0,  0,  0]]), 'attention_mask': tensor([[1, 1, 1,  ..., 0, 0, 0],\n",
      "        [1, 1, 1,  ..., 0, 0, 0],\n",
      "        [1, 1, 1,  ..., 0, 0, 0],\n",
      "        ...,\n",
      "        [1, 1, 1,  ..., 0, 0, 0],\n",
      "        [1, 1, 1,  ..., 0, 0, 0],\n",
      "        [1, 1, 1,  ..., 0, 0, 0]])}\n",
      "{'label': tensor([1, 0, 0, 0, 0, 1, 0, 0, 1, 1, 0, 0, 0, 1, 0, 0]), 'input_ids': tensor([[ 2, 13,  1,  ...,  0,  0,  0],\n",
      "        [ 2, 13,  1,  ...,  0,  0,  0],\n",
      "        [ 2, 13,  1,  ...,  0,  0,  0],\n",
      "        ...,\n",
      "        [ 2, 13,  1,  ...,  0,  0,  0],\n",
      "        [ 2, 13,  1,  ...,  0,  0,  0],\n",
      "        [ 2, 13,  1,  ...,  0,  0,  0]]), 'attention_mask': tensor([[1, 1, 1,  ..., 0, 0, 0],\n",
      "        [1, 1, 1,  ..., 0, 0, 0],\n",
      "        [1, 1, 1,  ..., 0, 0, 0],\n",
      "        ...,\n",
      "        [1, 1, 1,  ..., 0, 0, 0],\n",
      "        [1, 1, 1,  ..., 0, 0, 0],\n",
      "        [1, 1, 1,  ..., 0, 0, 0]])}\n",
      "{'label': tensor([1, 1, 0, 0, 0, 0, 0, 0, 0, 0, 1, 0, 1, 1, 0, 0]), 'input_ids': tensor([[   2,   13,    1,  ...,    0,    0,    0],\n",
      "        [   2,   13,    1,  ...,    0,    0,    0],\n",
      "        [   2,   13,    1,  ...,    0,    0,    0],\n",
      "        ...,\n",
      "        [   2,  368, 5878,  ...,    0,    0,    0],\n",
      "        [   2,   13,    1,  ...,    0,    0,    0],\n",
      "        [   2,   13,    1,  ...,    0,    0,    0]]), 'attention_mask': tensor([[1, 1, 1,  ..., 0, 0, 0],\n",
      "        [1, 1, 1,  ..., 0, 0, 0],\n",
      "        [1, 1, 1,  ..., 0, 0, 0],\n",
      "        ...,\n",
      "        [1, 1, 1,  ..., 0, 0, 0],\n",
      "        [1, 1, 1,  ..., 0, 0, 0],\n",
      "        [1, 1, 1,  ..., 0, 0, 0]])}\n",
      "{'label': tensor([0, 0, 1, 1, 0, 1, 1, 0, 1, 0, 1, 1, 1, 0, 0, 1]), 'input_ids': tensor([[ 2, 13,  1,  ...,  0,  0,  0],\n",
      "        [ 2, 13,  1,  ...,  0,  0,  0],\n",
      "        [ 2, 13,  1,  ...,  0,  0,  0],\n",
      "        ...,\n",
      "        [ 2, 13,  1,  ...,  0,  0,  0],\n",
      "        [ 2, 13,  1,  ...,  0,  0,  0],\n",
      "        [ 2, 13,  9,  ...,  0,  0,  0]]), 'attention_mask': tensor([[1, 1, 1,  ..., 0, 0, 0],\n",
      "        [1, 1, 1,  ..., 0, 0, 0],\n",
      "        [1, 1, 1,  ..., 0, 0, 0],\n",
      "        ...,\n",
      "        [1, 1, 1,  ..., 0, 0, 0],\n",
      "        [1, 1, 1,  ..., 0, 0, 0],\n",
      "        [1, 1, 1,  ..., 0, 0, 0]])}\n",
      "{'label': tensor([0, 1, 0, 0, 1, 0, 1, 0, 0, 0, 0, 0, 0, 0, 0, 1]), 'input_ids': tensor([[   2,   13,    1,  ...,    0,    0,    0],\n",
      "        [   2,   13,    1,  ...,    0,    0,    0],\n",
      "        [   2,   13,    1,  ...,    0,    0,    0],\n",
      "        ...,\n",
      "        [   2, 6926, 3616,  ...,    0,    0,    0],\n",
      "        [   2,   13,    1,  ...,    0,    0,    0],\n",
      "        [   2,   13,    1,  ...,    0,    0,    0]]), 'attention_mask': tensor([[1, 1, 1,  ..., 0, 0, 0],\n",
      "        [1, 1, 1,  ..., 0, 0, 0],\n",
      "        [1, 1, 1,  ..., 0, 0, 0],\n",
      "        ...,\n",
      "        [1, 1, 1,  ..., 0, 0, 0],\n",
      "        [1, 1, 1,  ..., 0, 0, 0],\n",
      "        [1, 1, 1,  ..., 0, 0, 0]])}\n",
      "{'label': tensor([0, 0, 0, 1, 0, 0, 0, 1, 0, 1, 0, 1, 0, 1, 0, 0]), 'input_ids': tensor([[  2,  13,   1,  ...,   0,   0,   0],\n",
      "        [  2,  13,   1,  ...,   0,   0,   0],\n",
      "        [  2,  13,   1,  ...,   0,   0,   0],\n",
      "        ...,\n",
      "        [  2,  13,   1,  ...,   0,   0,   0],\n",
      "        [  2, 982,  16,  ...,   0,   0,   0],\n",
      "        [  2,  13,   1,  ...,   0,   0,   0]]), 'attention_mask': tensor([[1, 1, 1,  ..., 0, 0, 0],\n",
      "        [1, 1, 1,  ..., 0, 0, 0],\n",
      "        [1, 1, 1,  ..., 0, 0, 0],\n",
      "        ...,\n",
      "        [1, 1, 1,  ..., 0, 0, 0],\n",
      "        [1, 1, 1,  ..., 0, 0, 0],\n",
      "        [1, 1, 1,  ..., 0, 0, 0]])}\n",
      "{'label': tensor([0, 1, 1, 1, 1, 0, 0, 1, 1, 1, 0, 1, 1, 1, 0, 0]), 'input_ids': tensor([[   2,   13,    1,  ...,    0,    0,    0],\n",
      "        [   2, 1082,    8,  ...,    0,    0,    0],\n",
      "        [   2,   13,    1,  ...,    0,    0,    0],\n",
      "        ...,\n",
      "        [   2,   13,    1,  ...,    0,    0,    0],\n",
      "        [   2,   13,    9,  ...,    0,    0,    0],\n",
      "        [   2,   13,    1,  ...,    0,    0,    0]]), 'attention_mask': tensor([[1, 1, 1,  ..., 0, 0, 0],\n",
      "        [1, 1, 1,  ..., 0, 0, 0],\n",
      "        [1, 1, 1,  ..., 0, 0, 0],\n",
      "        ...,\n",
      "        [1, 1, 1,  ..., 0, 0, 0],\n",
      "        [1, 1, 1,  ..., 0, 0, 0],\n",
      "        [1, 1, 1,  ..., 0, 0, 0]])}\n",
      "{'label': tensor([1, 0, 1, 0, 0, 0, 0, 0, 1, 0, 0, 0, 0, 0, 1, 1]), 'input_ids': tensor([[ 2, 13,  1,  ...,  0,  0,  0],\n",
      "        [ 2, 13,  1,  ...,  0,  0,  0],\n",
      "        [ 2, 13,  1,  ...,  0,  0,  0],\n",
      "        ...,\n",
      "        [ 2, 13,  1,  ...,  0,  0,  0],\n",
      "        [ 2, 13,  1,  ...,  0,  0,  0],\n",
      "        [ 2, 13,  1,  ...,  0,  0,  0]]), 'attention_mask': tensor([[1, 1, 1,  ..., 0, 0, 0],\n",
      "        [1, 1, 1,  ..., 0, 0, 0],\n",
      "        [1, 1, 1,  ..., 0, 0, 0],\n",
      "        ...,\n",
      "        [1, 1, 1,  ..., 0, 0, 0],\n",
      "        [1, 1, 1,  ..., 0, 0, 0],\n",
      "        [1, 1, 1,  ..., 0, 0, 0]])}\n",
      "{'label': tensor([0, 0, 0, 1, 0, 0, 1, 0, 1, 1, 0, 0, 1, 0, 1, 1]), 'input_ids': tensor([[ 2, 13,  1,  ...,  0,  0,  0],\n",
      "        [ 2, 13,  1,  ...,  0,  0,  0],\n",
      "        [ 2, 13,  1,  ...,  0,  0,  0],\n",
      "        ...,\n",
      "        [ 2, 13,  1,  ...,  0,  0,  0],\n",
      "        [ 2, 13,  1,  ...,  0,  0,  0],\n",
      "        [ 2, 13,  1,  ...,  0,  0,  0]]), 'attention_mask': tensor([[1, 1, 1,  ..., 0, 0, 0],\n",
      "        [1, 1, 1,  ..., 0, 0, 0],\n",
      "        [1, 1, 1,  ..., 0, 0, 0],\n",
      "        ...,\n",
      "        [1, 1, 1,  ..., 0, 0, 0],\n",
      "        [1, 1, 1,  ..., 0, 0, 0],\n",
      "        [1, 1, 1,  ..., 0, 0, 0]])}\n",
      "{'label': tensor([1, 1, 0, 0, 1, 0, 1, 0, 0, 0, 0, 1, 0, 0, 1, 1]), 'input_ids': tensor([[ 2, 13,  1,  ...,  0,  0,  0],\n",
      "        [ 2, 13,  1,  ...,  0,  0,  0],\n",
      "        [ 2, 13,  1,  ...,  0,  0,  0],\n",
      "        ...,\n",
      "        [ 2, 13,  1,  ...,  0,  0,  0],\n",
      "        [ 2, 13,  1,  ...,  0,  0,  0],\n",
      "        [ 2, 13,  1,  ...,  0,  0,  0]]), 'attention_mask': tensor([[1, 1, 1,  ..., 0, 0, 0],\n",
      "        [1, 1, 1,  ..., 0, 0, 0],\n",
      "        [1, 1, 1,  ..., 0, 0, 0],\n",
      "        ...,\n",
      "        [1, 1, 1,  ..., 0, 0, 0],\n",
      "        [1, 1, 1,  ..., 0, 0, 0],\n",
      "        [1, 1, 1,  ..., 0, 0, 0]])}\n",
      "{'label': tensor([0, 1, 1, 1, 1, 1, 1, 0, 0, 0, 0, 0, 0, 0, 0, 0]), 'input_ids': tensor([[ 2, 13,  1,  ...,  0,  0,  0],\n",
      "        [ 2, 13,  1,  ...,  0,  0,  0],\n",
      "        [ 2, 13,  1,  ...,  0,  0,  0],\n",
      "        ...,\n",
      "        [ 2, 13,  1,  ...,  0,  0,  0],\n",
      "        [ 2, 13,  1,  ...,  0,  0,  0],\n",
      "        [ 2, 13,  1,  ...,  0,  0,  0]]), 'attention_mask': tensor([[1, 1, 1,  ..., 0, 0, 0],\n",
      "        [1, 1, 1,  ..., 0, 0, 0],\n",
      "        [1, 1, 1,  ..., 0, 0, 0],\n",
      "        ...,\n",
      "        [1, 1, 1,  ..., 0, 0, 0],\n",
      "        [1, 1, 1,  ..., 0, 0, 0],\n",
      "        [1, 1, 1,  ..., 0, 0, 0]])}\n",
      "{'label': tensor([1, 0, 0, 0, 0, 0, 0, 0, 1, 0, 1, 0, 0, 0, 0, 0]), 'input_ids': tensor([[ 2, 13,  1,  ...,  0,  0,  0],\n",
      "        [ 2, 13,  1,  ...,  0,  0,  0],\n",
      "        [ 2, 13,  1,  ...,  0,  0,  0],\n",
      "        ...,\n",
      "        [ 2, 13,  1,  ...,  0,  0,  0],\n",
      "        [ 2, 13,  1,  ...,  0,  0,  0],\n",
      "        [ 2, 13,  1,  ...,  0,  0,  0]]), 'attention_mask': tensor([[1, 1, 1,  ..., 0, 0, 0],\n",
      "        [1, 1, 1,  ..., 0, 0, 0],\n",
      "        [1, 1, 1,  ..., 0, 0, 0],\n",
      "        ...,\n",
      "        [1, 1, 1,  ..., 0, 0, 0],\n",
      "        [1, 1, 1,  ..., 0, 0, 0],\n",
      "        [1, 1, 1,  ..., 0, 0, 0]])}\n",
      "{'label': tensor([0, 1, 1, 1, 1, 0, 1, 0, 0, 1, 0, 1, 0, 1, 0, 0]), 'input_ids': tensor([[   2, 6926, 2111,  ...,    0,    0,    0],\n",
      "        [   2,   13,    1,  ...,    0,    0,    0],\n",
      "        [   2,   13,    1,  ...,    0,    0,    0],\n",
      "        ...,\n",
      "        [   2,   13,    1,  ...,    0,    0,    0],\n",
      "        [   2,  712, 2430,  ...,    0,    0,    0],\n",
      "        [   2,   13,    1,  ...,    0,    0,    0]]), 'attention_mask': tensor([[1, 1, 1,  ..., 0, 0, 0],\n",
      "        [1, 1, 1,  ..., 0, 0, 0],\n",
      "        [1, 1, 1,  ..., 0, 0, 0],\n",
      "        ...,\n",
      "        [1, 1, 1,  ..., 0, 0, 0],\n",
      "        [1, 1, 1,  ..., 0, 0, 0],\n",
      "        [1, 1, 1,  ..., 0, 0, 0]])}\n",
      "{'label': tensor([0, 1, 0, 1, 1, 1, 1, 1, 1, 0, 1, 1, 0, 0, 0, 0]), 'input_ids': tensor([[ 2, 13,  1,  ...,  0,  0,  0],\n",
      "        [ 2, 13,  1,  ...,  0,  0,  0],\n",
      "        [ 2, 13,  1,  ...,  0,  0,  0],\n",
      "        ...,\n",
      "        [ 2, 13,  1,  ...,  0,  0,  0],\n",
      "        [ 2, 13,  1,  ...,  0,  0,  0],\n",
      "        [ 2, 13,  1,  ...,  0,  0,  0]]), 'attention_mask': tensor([[1, 1, 1,  ..., 0, 0, 0],\n",
      "        [1, 1, 1,  ..., 0, 0, 0],\n",
      "        [1, 1, 1,  ..., 0, 0, 0],\n",
      "        ...,\n",
      "        [1, 1, 1,  ..., 0, 0, 0],\n",
      "        [1, 1, 1,  ..., 0, 0, 0],\n",
      "        [1, 1, 1,  ..., 0, 0, 0]])}\n",
      "{'label': tensor([0, 0, 1, 0, 0, 0, 0, 0, 0, 0, 1, 0, 1, 0, 1, 0]), 'input_ids': tensor([[ 2, 13,  1,  ...,  0,  0,  0],\n",
      "        [ 2, 13,  1,  ...,  0,  0,  0],\n",
      "        [ 2, 13,  1,  ...,  0,  0,  0],\n",
      "        ...,\n",
      "        [ 2, 13,  1,  ...,  0,  0,  0],\n",
      "        [ 2, 13,  1,  ...,  0,  0,  0],\n",
      "        [ 2, 13,  1,  ...,  0,  0,  0]]), 'attention_mask': tensor([[1, 1, 1,  ..., 0, 0, 0],\n",
      "        [1, 1, 1,  ..., 0, 0, 0],\n",
      "        [1, 1, 1,  ..., 0, 0, 0],\n",
      "        ...,\n",
      "        [1, 1, 1,  ..., 0, 0, 0],\n",
      "        [1, 1, 1,  ..., 0, 0, 0],\n",
      "        [1, 1, 1,  ..., 0, 0, 0]])}\n",
      "{'label': tensor([0, 0, 0, 0, 0, 1, 1, 1, 1, 1, 1, 1, 0, 0, 1, 0]), 'input_ids': tensor([[ 2, 13,  1,  ...,  0,  0,  0],\n",
      "        [ 2, 13,  1,  ...,  0,  0,  0],\n",
      "        [ 2, 13,  1,  ...,  0,  0,  0],\n",
      "        ...,\n",
      "        [ 2, 13,  1,  ...,  0,  0,  0],\n",
      "        [ 2, 13,  1,  ...,  0,  0,  0],\n",
      "        [ 2, 13,  1,  ...,  0,  0,  0]]), 'attention_mask': tensor([[1, 1, 1,  ..., 0, 0, 0],\n",
      "        [1, 1, 1,  ..., 0, 0, 0],\n",
      "        [1, 1, 1,  ..., 0, 0, 0],\n",
      "        ...,\n",
      "        [1, 1, 1,  ..., 0, 0, 0],\n",
      "        [1, 1, 1,  ..., 0, 0, 0],\n",
      "        [1, 1, 1,  ..., 0, 0, 0]])}\n",
      "{'label': tensor([1, 1, 1, 0, 1, 1, 0, 0, 0, 0, 0, 1, 1, 0, 1, 0]), 'input_ids': tensor([[   2,   13,    1,  ...,    0,    0,    0],\n",
      "        [   2,   13,    1,  ...,    0,    0,    0],\n",
      "        [   2,   13,    1,  ...,    0,    0,    0],\n",
      "        ...,\n",
      "        [   2, 6926, 5033,  ...,    0,    0,    0],\n",
      "        [   2,   13,    1,  ...,    0,    0,    0],\n",
      "        [   2,   31,  277,  ...,    0,    0,    0]]), 'attention_mask': tensor([[1, 1, 1,  ..., 0, 0, 0],\n",
      "        [1, 1, 1,  ..., 0, 0, 0],\n",
      "        [1, 1, 1,  ..., 0, 0, 0],\n",
      "        ...,\n",
      "        [1, 1, 1,  ..., 0, 0, 0],\n",
      "        [1, 1, 1,  ..., 0, 0, 0],\n",
      "        [1, 1, 1,  ..., 0, 0, 0]])}\n",
      "{'label': tensor([0, 1, 0, 0, 1, 1, 0, 0, 0, 0, 0, 0, 0, 1, 0, 1]), 'input_ids': tensor([[   2, 7806,  259,  ...,    0,    0,    0],\n",
      "        [   2,   13,    1,  ...,    0,    0,    0],\n",
      "        [   2,   13,    1,  ...,    0,    0,    0],\n",
      "        ...,\n",
      "        [   2,   13,    1,  ...,    0,    0,    0],\n",
      "        [   2,   13,    1,  ...,    0,    0,    0],\n",
      "        [   2,   13,    1,  ...,    0,    0,    0]]), 'attention_mask': tensor([[1, 1, 1,  ..., 0, 0, 0],\n",
      "        [1, 1, 1,  ..., 0, 0, 0],\n",
      "        [1, 1, 1,  ..., 0, 0, 0],\n",
      "        ...,\n",
      "        [1, 1, 1,  ..., 0, 0, 0],\n",
      "        [1, 1, 1,  ..., 0, 0, 0],\n",
      "        [1, 1, 1,  ..., 0, 0, 0]])}\n",
      "{'label': tensor([1, 1, 0, 0, 1, 0, 0, 1, 1, 0, 0, 0, 1, 0, 0, 0]), 'input_ids': tensor([[ 2, 13,  1,  ...,  0,  0,  0],\n",
      "        [ 2, 13,  1,  ...,  0,  0,  0],\n",
      "        [ 2, 13,  1,  ...,  0,  0,  0],\n",
      "        ...,\n",
      "        [ 2, 13,  1,  ...,  0,  0,  0],\n",
      "        [ 2, 13,  1,  ...,  0,  0,  0],\n",
      "        [ 2, 13,  1,  ...,  0,  0,  0]]), 'attention_mask': tensor([[1, 1, 1,  ..., 0, 0, 0],\n",
      "        [1, 1, 1,  ..., 0, 0, 0],\n",
      "        [1, 1, 1,  ..., 0, 0, 0],\n",
      "        ...,\n",
      "        [1, 1, 1,  ..., 0, 0, 0],\n",
      "        [1, 1, 1,  ..., 0, 0, 0],\n",
      "        [1, 1, 1,  ..., 0, 0, 0]])}\n",
      "{'label': tensor([1, 1, 0, 0, 1, 0, 0, 0, 0, 0, 0, 0, 0, 1, 0, 0]), 'input_ids': tensor([[ 2, 13,  1,  ...,  0,  0,  0],\n",
      "        [ 2, 13,  1,  ...,  0,  0,  0],\n",
      "        [ 2, 13,  1,  ...,  0,  0,  0],\n",
      "        ...,\n",
      "        [ 2, 13,  1,  ...,  0,  0,  0],\n",
      "        [ 2, 13,  1,  ...,  0,  0,  0],\n",
      "        [ 2, 13,  1,  ...,  0,  0,  0]]), 'attention_mask': tensor([[1, 1, 1,  ..., 0, 0, 0],\n",
      "        [1, 1, 1,  ..., 0, 0, 0],\n",
      "        [1, 1, 1,  ..., 0, 0, 0],\n",
      "        ...,\n",
      "        [1, 1, 1,  ..., 0, 0, 0],\n",
      "        [1, 1, 1,  ..., 0, 0, 0],\n",
      "        [1, 1, 1,  ..., 0, 0, 0]])}\n",
      "{'label': tensor([0, 1, 0, 0, 0, 0, 1, 1, 1, 0, 0, 1, 1, 0, 0, 0]), 'input_ids': tensor([[  2,  13,   1,  ...,   0,   0,   0],\n",
      "        [  2,  13,   1,  ...,   0,   0,   0],\n",
      "        [  2,  13,   1,  ...,   0,   0,   0],\n",
      "        ...,\n",
      "        [  2,  13,   1,  ...,   0,   0,   0],\n",
      "        [  2, 590,  32,  ...,   0,   0,   0],\n",
      "        [  2,  13,   1,  ...,   0,   0,   0]]), 'attention_mask': tensor([[1, 1, 1,  ..., 0, 0, 0],\n",
      "        [1, 1, 1,  ..., 0, 0, 0],\n",
      "        [1, 1, 1,  ..., 0, 0, 0],\n",
      "        ...,\n",
      "        [1, 1, 1,  ..., 0, 0, 0],\n",
      "        [1, 1, 1,  ..., 0, 0, 0],\n",
      "        [1, 1, 1,  ..., 0, 0, 0]])}\n",
      "{'label': tensor([0, 0, 1, 0, 0, 0, 0, 1, 0, 0, 0, 0, 1, 1, 1, 0]), 'input_ids': tensor([[   2,   13,    1,  ...,    0,    0,    0],\n",
      "        [   2,   13,    1,  ...,    0,    0,    0],\n",
      "        [   2,   13,    1,  ...,    0,    0,    0],\n",
      "        ...,\n",
      "        [   2,   13,    1,  ...,    0,    0,    0],\n",
      "        [   2, 1637,   18,  ...,    0,    0,    0],\n",
      "        [   2,   13,    1,  ...,    0,    0,    0]]), 'attention_mask': tensor([[1, 1, 1,  ..., 0, 0, 0],\n",
      "        [1, 1, 1,  ..., 0, 0, 0],\n",
      "        [1, 1, 1,  ..., 0, 0, 0],\n",
      "        ...,\n",
      "        [1, 1, 1,  ..., 0, 0, 0],\n",
      "        [1, 1, 1,  ..., 0, 0, 0],\n",
      "        [1, 1, 1,  ..., 0, 0, 0]])}\n",
      "{'label': tensor([1, 0, 0, 0, 1, 0, 0, 0, 0, 1, 0, 0, 0, 0, 0, 0]), 'input_ids': tensor([[ 2, 13,  1,  ...,  0,  0,  0],\n",
      "        [ 2, 13,  1,  ...,  0,  0,  0],\n",
      "        [ 2, 13,  1,  ...,  0,  0,  0],\n",
      "        ...,\n",
      "        [ 2, 13,  1,  ...,  0,  0,  0],\n",
      "        [ 2, 13,  1,  ...,  0,  0,  0],\n",
      "        [ 2, 13,  1,  ...,  0,  0,  0]]), 'attention_mask': tensor([[1, 1, 1,  ..., 0, 0, 0],\n",
      "        [1, 1, 1,  ..., 0, 0, 0],\n",
      "        [1, 1, 1,  ..., 0, 0, 0],\n",
      "        ...,\n",
      "        [1, 1, 1,  ..., 0, 0, 0],\n",
      "        [1, 1, 1,  ..., 0, 0, 0],\n",
      "        [1, 1, 1,  ..., 0, 0, 0]])}\n",
      "{'label': tensor([1, 0, 1, 0, 1, 0, 1, 1, 0, 0, 1, 0, 1, 0, 1, 1]), 'input_ids': tensor([[    2,    13,     1,  ...,     0,     0,     0],\n",
      "        [    2,    13,     9,  ...,     0,     0,     0],\n",
      "        [    2,    13,     1,  ...,     0,     0,     0],\n",
      "        ...,\n",
      "        [    2,    13,     1,  ...,     0,     0,     0],\n",
      "        [    2,    13,     1,  ...,     0,     0,     0],\n",
      "        [    2, 10782,  1921,  ...,     0,     0,     0]]), 'attention_mask': tensor([[1, 1, 1,  ..., 0, 0, 0],\n",
      "        [1, 1, 1,  ..., 0, 0, 0],\n",
      "        [1, 1, 1,  ..., 0, 0, 0],\n",
      "        ...,\n",
      "        [1, 1, 1,  ..., 0, 0, 0],\n",
      "        [1, 1, 1,  ..., 0, 0, 0],\n",
      "        [1, 1, 1,  ..., 0, 0, 0]])}\n",
      "{'label': tensor([0, 1, 1, 0, 0, 0, 0, 1, 0, 0, 0, 0, 0, 0, 0, 0]), 'input_ids': tensor([[   2,   19, 1853,  ...,    0,    0,    0],\n",
      "        [   2,   13,    1,  ...,    0,    0,    0],\n",
      "        [   2,   13,    1,  ...,    0,    0,    0],\n",
      "        ...,\n",
      "        [   2,   13,    1,  ...,    0,    0,    0],\n",
      "        [   2,   13,    1,  ...,    0,    0,    0],\n",
      "        [   2,   13,    1,  ...,    0,    0,    0]]), 'attention_mask': tensor([[1, 1, 1,  ..., 0, 0, 0],\n",
      "        [1, 1, 1,  ..., 0, 0, 0],\n",
      "        [1, 1, 1,  ..., 0, 0, 0],\n",
      "        ...,\n",
      "        [1, 1, 1,  ..., 0, 0, 0],\n",
      "        [1, 1, 1,  ..., 0, 0, 0],\n",
      "        [1, 1, 1,  ..., 0, 0, 0]])}\n",
      "{'label': tensor([0, 0, 0, 1, 0, 0, 0, 0, 0, 0, 0, 1, 0, 0, 0, 0]), 'input_ids': tensor([[ 2, 13,  1,  ...,  0,  0,  0],\n",
      "        [ 2, 13,  1,  ...,  0,  0,  0],\n",
      "        [ 2, 13,  1,  ...,  0,  0,  0],\n",
      "        ...,\n",
      "        [ 2, 13,  1,  ...,  0,  0,  0],\n",
      "        [ 2, 13,  1,  ...,  0,  0,  0],\n",
      "        [ 2, 13,  1,  ...,  0,  0,  0]]), 'attention_mask': tensor([[1, 1, 1,  ..., 0, 0, 0],\n",
      "        [1, 1, 1,  ..., 0, 0, 0],\n",
      "        [1, 1, 1,  ..., 0, 0, 0],\n",
      "        ...,\n",
      "        [1, 1, 1,  ..., 0, 0, 0],\n",
      "        [1, 1, 1,  ..., 0, 0, 0],\n",
      "        [1, 1, 1,  ..., 0, 0, 0]])}\n",
      "{'label': tensor([1, 1, 1, 0, 1, 0, 1, 0, 0, 1, 0, 1, 0, 0, 0, 1]), 'input_ids': tensor([[    2,    13,     1,  ...,     0,     0,     0],\n",
      "        [    2,    13,     1,  ...,     0,     0,     0],\n",
      "        [    2,    13,     1,  ...,     0,     0,     0],\n",
      "        ...,\n",
      "        [    2,  2546, 23751,  ...,     0,     0,     0],\n",
      "        [    2,    13,     1,  ...,     0,     0,     0],\n",
      "        [    2,    13,     1,  ...,     0,     0,     0]]), 'attention_mask': tensor([[1, 1, 1,  ..., 0, 0, 0],\n",
      "        [1, 1, 1,  ..., 0, 0, 0],\n",
      "        [1, 1, 1,  ..., 0, 0, 0],\n",
      "        ...,\n",
      "        [1, 1, 1,  ..., 0, 0, 0],\n",
      "        [1, 1, 1,  ..., 0, 0, 0],\n",
      "        [1, 1, 1,  ..., 0, 0, 0]])}\n",
      "{'label': tensor([1, 0, 0, 0, 0, 0, 0, 1, 0, 1, 0, 1, 1, 0, 0, 0]), 'input_ids': tensor([[   2,   13,    1,  ...,    0,    0,    0],\n",
      "        [   2,   13,    1,  ...,    0,    0,    0],\n",
      "        [   2,   13,    1,  ...,    0,    0,    0],\n",
      "        ...,\n",
      "        [   2, 6926, 2111,  ...,    0,    0,    0],\n",
      "        [   2,   13,    1,  ...,    0,    0,    0],\n",
      "        [   2,   13,    1,  ...,    0,    0,    0]]), 'attention_mask': tensor([[1, 1, 1,  ..., 0, 0, 0],\n",
      "        [1, 1, 1,  ..., 0, 0, 0],\n",
      "        [1, 1, 1,  ..., 0, 0, 0],\n",
      "        ...,\n",
      "        [1, 1, 1,  ..., 0, 0, 0],\n",
      "        [1, 1, 1,  ..., 0, 0, 0],\n",
      "        [1, 1, 1,  ..., 0, 0, 0]])}\n",
      "{'label': tensor([0, 0, 0, 0, 0, 1, 0, 1, 0, 0, 0, 1, 1, 1, 1, 0]), 'input_ids': tensor([[ 2, 13,  1,  ...,  0,  0,  0],\n",
      "        [ 2, 13,  1,  ...,  0,  0,  0],\n",
      "        [ 2, 13,  1,  ...,  0,  0,  0],\n",
      "        ...,\n",
      "        [ 2, 13,  1,  ...,  0,  0,  0],\n",
      "        [ 2, 13,  1,  ...,  0,  0,  0],\n",
      "        [ 2, 13,  1,  ...,  0,  0,  0]]), 'attention_mask': tensor([[1, 1, 1,  ..., 0, 0, 0],\n",
      "        [1, 1, 1,  ..., 0, 0, 0],\n",
      "        [1, 1, 1,  ..., 0, 0, 0],\n",
      "        ...,\n",
      "        [1, 1, 1,  ..., 0, 0, 0],\n",
      "        [1, 1, 1,  ..., 0, 0, 0],\n",
      "        [1, 1, 1,  ..., 0, 0, 0]])}\n",
      "{'label': tensor([0, 0, 0, 0, 0, 1, 0, 1, 1, 0, 1, 0, 0, 1, 1, 0]), 'input_ids': tensor([[    2,    13,     1,  ...,     0,     0,     0],\n",
      "        [    2,    13,     1,  ...,     0,     0,     0],\n",
      "        [    2,    13,     1,  ...,     1, 16704,     3],\n",
      "        ...,\n",
      "        [    2,    13,     1,  ...,     0,     0,     0],\n",
      "        [    2,  6456,    92,  ...,     0,     0,     0],\n",
      "        [    2,    13,     1,  ...,     0,     0,     0]]), 'attention_mask': tensor([[1, 1, 1,  ..., 0, 0, 0],\n",
      "        [1, 1, 1,  ..., 0, 0, 0],\n",
      "        [1, 1, 1,  ..., 1, 1, 1],\n",
      "        ...,\n",
      "        [1, 1, 1,  ..., 0, 0, 0],\n",
      "        [1, 1, 1,  ..., 0, 0, 0],\n",
      "        [1, 1, 1,  ..., 0, 0, 0]])}\n",
      "{'label': tensor([0, 0, 0, 1, 0, 1, 0, 0, 1, 0, 0, 0, 0, 0, 0, 0]), 'input_ids': tensor([[ 2, 13,  1,  ...,  0,  0,  0],\n",
      "        [ 2, 13,  1,  ...,  0,  0,  0],\n",
      "        [ 2, 13,  1,  ...,  0,  0,  0],\n",
      "        ...,\n",
      "        [ 2, 13,  1,  ...,  0,  0,  0],\n",
      "        [ 2, 13,  1,  ...,  0,  0,  0],\n",
      "        [ 2, 13,  1,  ...,  0,  0,  0]]), 'attention_mask': tensor([[1, 1, 1,  ..., 0, 0, 0],\n",
      "        [1, 1, 1,  ..., 0, 0, 0],\n",
      "        [1, 1, 1,  ..., 0, 0, 0],\n",
      "        ...,\n",
      "        [1, 1, 1,  ..., 0, 0, 0],\n",
      "        [1, 1, 1,  ..., 0, 0, 0],\n",
      "        [1, 1, 1,  ..., 0, 0, 0]])}\n",
      "{'label': tensor([1, 0, 0, 0, 0, 0, 0, 0, 0, 1, 1, 0, 0, 0, 0, 0]), 'input_ids': tensor([[    2,    13,     1,  ...,     0,     0,     0],\n",
      "        [    2,  6926, 28195,  ...,     0,     0,     0],\n",
      "        [    2,    13,     1,  ...,     0,     0,     0],\n",
      "        ...,\n",
      "        [    2,    13,     1,  ...,     0,     0,     0],\n",
      "        [    2,   699,   917,  ...,     0,     0,     0],\n",
      "        [    2,    13,     1,  ...,     0,     0,     0]]), 'attention_mask': tensor([[1, 1, 1,  ..., 0, 0, 0],\n",
      "        [1, 1, 1,  ..., 0, 0, 0],\n",
      "        [1, 1, 1,  ..., 0, 0, 0],\n",
      "        ...,\n",
      "        [1, 1, 1,  ..., 0, 0, 0],\n",
      "        [1, 1, 1,  ..., 0, 0, 0],\n",
      "        [1, 1, 1,  ..., 0, 0, 0]])}\n",
      "{'label': tensor([1, 1, 1, 0, 0, 0, 0, 0, 1, 1, 0, 1, 1, 0, 1, 1]), 'input_ids': tensor([[ 2, 13,  1,  ...,  0,  0,  0],\n",
      "        [ 2, 13,  9,  ...,  0,  0,  0],\n",
      "        [ 2, 13,  1,  ...,  0,  0,  0],\n",
      "        ...,\n",
      "        [ 2, 13,  1,  ...,  0,  0,  0],\n",
      "        [ 2, 13,  1,  ...,  0,  0,  0],\n",
      "        [ 2, 13,  1,  ...,  0,  0,  0]]), 'attention_mask': tensor([[1, 1, 1,  ..., 0, 0, 0],\n",
      "        [1, 1, 1,  ..., 0, 0, 0],\n",
      "        [1, 1, 1,  ..., 0, 0, 0],\n",
      "        ...,\n",
      "        [1, 1, 1,  ..., 0, 0, 0],\n",
      "        [1, 1, 1,  ..., 0, 0, 0],\n",
      "        [1, 1, 1,  ..., 0, 0, 0]])}\n",
      "{'label': tensor([0, 0, 1, 0, 1, 0, 0, 0, 0, 0, 1, 1, 1, 0, 0, 1]), 'input_ids': tensor([[ 2, 13,  1,  ...,  0,  0,  0],\n",
      "        [ 2, 13,  1,  ...,  0,  0,  0],\n",
      "        [ 2, 13,  1,  ...,  0,  0,  0],\n",
      "        ...,\n",
      "        [ 2, 13,  1,  ...,  0,  0,  0],\n",
      "        [ 2, 13,  1,  ...,  0,  0,  0],\n",
      "        [ 2, 13,  1,  ...,  0,  0,  0]]), 'attention_mask': tensor([[1, 1, 1,  ..., 0, 0, 0],\n",
      "        [1, 1, 1,  ..., 0, 0, 0],\n",
      "        [1, 1, 1,  ..., 0, 0, 0],\n",
      "        ...,\n",
      "        [1, 1, 1,  ..., 0, 0, 0],\n",
      "        [1, 1, 1,  ..., 0, 0, 0],\n",
      "        [1, 1, 1,  ..., 0, 0, 0]])}\n",
      "{'label': tensor([0, 1, 0, 1, 1, 0, 0, 1, 0, 0, 1, 0, 0, 0, 0, 0]), 'input_ids': tensor([[   2,   13,    1,  ...,    0,    0,    0],\n",
      "        [   2, 6926, 1251,  ...,    0,    0,    0],\n",
      "        [   2,   13,    1,  ...,    0,    0,    0],\n",
      "        ...,\n",
      "        [   2,   13,    1,  ...,    0,    0,    0],\n",
      "        [   2,   13,    1,  ...,    0,    0,    0],\n",
      "        [   2,   13,    1,  ...,    0,    0,    0]]), 'attention_mask': tensor([[1, 1, 1,  ..., 0, 0, 0],\n",
      "        [1, 1, 1,  ..., 0, 0, 0],\n",
      "        [1, 1, 1,  ..., 0, 0, 0],\n",
      "        ...,\n",
      "        [1, 1, 1,  ..., 0, 0, 0],\n",
      "        [1, 1, 1,  ..., 0, 0, 0],\n",
      "        [1, 1, 1,  ..., 0, 0, 0]])}\n",
      "{'label': tensor([1, 0, 0, 0, 0, 1, 0, 0, 1, 1, 1, 1, 1, 1, 0, 0]), 'input_ids': tensor([[ 2, 13,  1,  ...,  0,  0,  0],\n",
      "        [ 2, 13,  1,  ...,  0,  0,  0],\n",
      "        [ 2, 13,  1,  ...,  0,  0,  0],\n",
      "        ...,\n",
      "        [ 2, 13,  1,  ...,  0,  0,  0],\n",
      "        [ 2, 13,  1,  ...,  0,  0,  0],\n",
      "        [ 2, 13,  1,  ...,  0,  0,  0]]), 'attention_mask': tensor([[1, 1, 1,  ..., 0, 0, 0],\n",
      "        [1, 1, 1,  ..., 0, 0, 0],\n",
      "        [1, 1, 1,  ..., 0, 0, 0],\n",
      "        ...,\n",
      "        [1, 1, 1,  ..., 0, 0, 0],\n",
      "        [1, 1, 1,  ..., 0, 0, 0],\n",
      "        [1, 1, 1,  ..., 0, 0, 0]])}\n",
      "{'label': tensor([0, 1, 0, 0, 0, 0, 0, 1, 0, 0, 0, 0, 1, 0, 0, 0]), 'input_ids': tensor([[ 2, 13,  1,  ...,  0,  0,  0],\n",
      "        [ 2, 13,  1,  ...,  0,  0,  0],\n",
      "        [ 2, 13,  1,  ...,  0,  0,  0],\n",
      "        ...,\n",
      "        [ 2, 13,  1,  ...,  0,  0,  0],\n",
      "        [ 2, 13,  1,  ...,  0,  0,  0],\n",
      "        [ 2, 13,  1,  ...,  0,  0,  0]]), 'attention_mask': tensor([[1, 1, 1,  ..., 0, 0, 0],\n",
      "        [1, 1, 1,  ..., 0, 0, 0],\n",
      "        [1, 1, 1,  ..., 0, 0, 0],\n",
      "        ...,\n",
      "        [1, 1, 1,  ..., 0, 0, 0],\n",
      "        [1, 1, 1,  ..., 0, 0, 0],\n",
      "        [1, 1, 1,  ..., 0, 0, 0]])}\n",
      "{'label': tensor([1, 1, 0, 0, 0, 0, 1, 1, 0, 0, 0, 0, 0, 0, 1, 1]), 'input_ids': tensor([[ 2, 13,  1,  ...,  0,  0,  0],\n",
      "        [ 2, 13,  1,  ...,  0,  0,  0],\n",
      "        [ 2, 13,  1,  ...,  0,  0,  0],\n",
      "        ...,\n",
      "        [ 2, 13,  1,  ...,  0,  0,  0],\n",
      "        [ 2, 13,  1,  ...,  0,  0,  0],\n",
      "        [ 2, 13,  1,  ...,  0,  0,  0]]), 'attention_mask': tensor([[1, 1, 1,  ..., 0, 0, 0],\n",
      "        [1, 1, 1,  ..., 0, 0, 0],\n",
      "        [1, 1, 1,  ..., 0, 0, 0],\n",
      "        ...,\n",
      "        [1, 1, 1,  ..., 0, 0, 0],\n",
      "        [1, 1, 1,  ..., 0, 0, 0],\n",
      "        [1, 1, 1,  ..., 0, 0, 0]])}\n",
      "{'label': tensor([1, 1, 0, 0, 0, 1, 0, 0, 0, 1, 1, 0, 0, 0, 1, 0]), 'input_ids': tensor([[ 2, 13,  1,  ...,  0,  0,  0],\n",
      "        [ 2, 13,  1,  ...,  0,  0,  0],\n",
      "        [ 2, 13,  1,  ...,  0,  0,  0],\n",
      "        ...,\n",
      "        [ 2, 13,  1,  ...,  0,  0,  0],\n",
      "        [ 2, 13,  1,  ...,  0,  0,  0],\n",
      "        [ 2, 13,  1,  ...,  0,  0,  0]]), 'attention_mask': tensor([[1, 1, 1,  ..., 0, 0, 0],\n",
      "        [1, 1, 1,  ..., 0, 0, 0],\n",
      "        [1, 1, 1,  ..., 0, 0, 0],\n",
      "        ...,\n",
      "        [1, 1, 1,  ..., 0, 0, 0],\n",
      "        [1, 1, 1,  ..., 0, 0, 0],\n",
      "        [1, 1, 1,  ..., 0, 0, 0]])}\n",
      "{'label': tensor([0, 0, 0, 1, 1, 1, 0, 0, 1, 1, 0, 0, 0, 0, 0, 1]), 'input_ids': tensor([[ 2, 13,  1,  ...,  0,  0,  0],\n",
      "        [ 2, 13,  1,  ...,  0,  0,  0],\n",
      "        [ 2, 13,  1,  ...,  0,  0,  0],\n",
      "        ...,\n",
      "        [ 2, 13,  1,  ...,  0,  0,  0],\n",
      "        [ 2, 13,  1,  ...,  0,  0,  0],\n",
      "        [ 2, 13,  1,  ...,  0,  0,  0]]), 'attention_mask': tensor([[1, 1, 1,  ..., 0, 0, 0],\n",
      "        [1, 1, 1,  ..., 0, 0, 0],\n",
      "        [1, 1, 1,  ..., 0, 0, 0],\n",
      "        ...,\n",
      "        [1, 1, 1,  ..., 0, 0, 0],\n",
      "        [1, 1, 1,  ..., 0, 0, 0],\n",
      "        [1, 1, 1,  ..., 0, 0, 0]])}\n",
      "{'label': tensor([1, 1, 0, 0, 0, 1, 0, 1, 0, 0, 0, 0, 0, 1, 1, 0]), 'input_ids': tensor([[  2,  13,   1,  ...,   0,   0,   0],\n",
      "        [  2,  13,   1,  ...,   0,   0,   0],\n",
      "        [  2, 369,  13,  ...,   0,   0,   0],\n",
      "        ...,\n",
      "        [  2,  13,   1,  ...,   0,   0,   0],\n",
      "        [  2,  13,   1,  ...,   0,   0,   0],\n",
      "        [  2,  13,   1,  ...,   0,   0,   0]]), 'attention_mask': tensor([[1, 1, 1,  ..., 0, 0, 0],\n",
      "        [1, 1, 1,  ..., 0, 0, 0],\n",
      "        [1, 1, 1,  ..., 0, 0, 0],\n",
      "        ...,\n",
      "        [1, 1, 1,  ..., 0, 0, 0],\n",
      "        [1, 1, 1,  ..., 0, 0, 0],\n",
      "        [1, 1, 1,  ..., 0, 0, 0]])}\n",
      "{'label': tensor([0, 0, 0, 0, 0, 1, 0, 0, 0, 0, 0, 1, 0, 1, 0, 0]), 'input_ids': tensor([[   2,   13,    1,  ...,    0,    0,    0],\n",
      "        [   2,   13,    1,  ...,    0,    0,    0],\n",
      "        [   2,   13,    1,  ...,    0,    0,    0],\n",
      "        ...,\n",
      "        [   2, 1121, 1082,  ...,    0,    0,    0],\n",
      "        [   2,   13,    1,  ...,    0,    0,    0],\n",
      "        [   2,   13,    1,  ...,    0,    0,    0]]), 'attention_mask': tensor([[1, 1, 1,  ..., 0, 0, 0],\n",
      "        [1, 1, 1,  ..., 0, 0, 0],\n",
      "        [1, 1, 1,  ..., 0, 0, 0],\n",
      "        ...,\n",
      "        [1, 1, 1,  ..., 0, 0, 0],\n",
      "        [1, 1, 1,  ..., 0, 0, 0],\n",
      "        [1, 1, 1,  ..., 0, 0, 0]])}\n",
      "{'label': tensor([0, 1, 0, 1, 0, 1, 0, 0, 0, 0, 1, 0, 1, 0, 0, 0]), 'input_ids': tensor([[ 2, 13,  1,  ...,  0,  0,  0],\n",
      "        [ 2, 13,  1,  ...,  0,  0,  0],\n",
      "        [ 2, 13,  1,  ...,  0,  0,  0],\n",
      "        ...,\n",
      "        [ 2, 13,  1,  ...,  0,  0,  0],\n",
      "        [ 2, 13,  1,  ...,  0,  0,  0],\n",
      "        [ 2, 13,  1,  ...,  0,  0,  0]]), 'attention_mask': tensor([[1, 1, 1,  ..., 0, 0, 0],\n",
      "        [1, 1, 1,  ..., 0, 0, 0],\n",
      "        [1, 1, 1,  ..., 0, 0, 0],\n",
      "        ...,\n",
      "        [1, 1, 1,  ..., 0, 0, 0],\n",
      "        [1, 1, 1,  ..., 0, 0, 0],\n",
      "        [1, 1, 1,  ..., 0, 0, 0]])}\n",
      "{'label': tensor([0, 1, 1, 1, 0, 0, 1, 0, 1, 1, 1, 0, 0, 0, 0, 0]), 'input_ids': tensor([[ 2, 13,  1,  ...,  0,  0,  0],\n",
      "        [ 2, 13,  1,  ...,  0,  0,  0],\n",
      "        [ 2, 13,  1,  ...,  0,  0,  0],\n",
      "        ...,\n",
      "        [ 2, 13,  1,  ...,  0,  0,  0],\n",
      "        [ 2, 13,  1,  ...,  0,  0,  0],\n",
      "        [ 2, 13,  1,  ...,  0,  0,  0]]), 'attention_mask': tensor([[1, 1, 1,  ..., 0, 0, 0],\n",
      "        [1, 1, 1,  ..., 0, 0, 0],\n",
      "        [1, 1, 1,  ..., 0, 0, 0],\n",
      "        ...,\n",
      "        [1, 1, 1,  ..., 0, 0, 0],\n",
      "        [1, 1, 1,  ..., 0, 0, 0],\n",
      "        [1, 1, 1,  ..., 0, 0, 0]])}\n",
      "{'label': tensor([1, 1, 0, 0, 0, 0, 0, 1, 1, 0, 1, 0, 0, 0, 0, 0]), 'input_ids': tensor([[ 2, 13,  1,  ...,  0,  0,  0],\n",
      "        [ 2, 13,  1,  ...,  0,  0,  0],\n",
      "        [ 2, 13,  1,  ...,  0,  0,  0],\n",
      "        ...,\n",
      "        [ 2, 13,  1,  ...,  0,  0,  0],\n",
      "        [ 2, 13,  1,  ...,  0,  0,  0],\n",
      "        [ 2, 13,  1,  ...,  0,  0,  0]]), 'attention_mask': tensor([[1, 1, 1,  ..., 0, 0, 0],\n",
      "        [1, 1, 1,  ..., 0, 0, 0],\n",
      "        [1, 1, 1,  ..., 0, 0, 0],\n",
      "        ...,\n",
      "        [1, 1, 1,  ..., 0, 0, 0],\n",
      "        [1, 1, 1,  ..., 0, 0, 0],\n",
      "        [1, 1, 1,  ..., 0, 0, 0]])}\n",
      "{'label': tensor([1, 0, 1, 1, 0, 0, 0, 1, 0, 0, 0, 0, 0, 0, 1, 0]), 'input_ids': tensor([[ 2, 13,  1,  ...,  0,  0,  0],\n",
      "        [ 2, 13,  1,  ...,  0,  0,  0],\n",
      "        [ 2, 13,  1,  ...,  0,  0,  0],\n",
      "        ...,\n",
      "        [ 2, 13,  1,  ...,  0,  0,  0],\n",
      "        [ 2, 13,  1,  ...,  0,  0,  0],\n",
      "        [ 2, 13,  1,  ...,  0,  0,  0]]), 'attention_mask': tensor([[1, 1, 1,  ..., 0, 0, 0],\n",
      "        [1, 1, 1,  ..., 0, 0, 0],\n",
      "        [1, 1, 1,  ..., 0, 0, 0],\n",
      "        ...,\n",
      "        [1, 1, 1,  ..., 0, 0, 0],\n",
      "        [1, 1, 1,  ..., 0, 0, 0],\n",
      "        [1, 1, 1,  ..., 0, 0, 0]])}\n",
      "{'label': tensor([0, 1, 1, 1, 0, 0, 0, 0, 1, 0, 0, 1, 0, 0, 0, 1]), 'input_ids': tensor([[    2,    13,     1,  ...,     0,     0,     0],\n",
      "        [    2,    13,     1,  ...,     0,     0,     0],\n",
      "        [    2,    13,     1,  ...,     1, 16704,     3],\n",
      "        ...,\n",
      "        [    2,    13,     1,  ...,     0,     0,     0],\n",
      "        [    2,   400,   148,  ...,     0,     0,     0],\n",
      "        [    2,    13,     1,  ...,     0,     0,     0]]), 'attention_mask': tensor([[1, 1, 1,  ..., 0, 0, 0],\n",
      "        [1, 1, 1,  ..., 0, 0, 0],\n",
      "        [1, 1, 1,  ..., 1, 1, 1],\n",
      "        ...,\n",
      "        [1, 1, 1,  ..., 0, 0, 0],\n",
      "        [1, 1, 1,  ..., 0, 0, 0],\n",
      "        [1, 1, 1,  ..., 0, 0, 0]])}\n",
      "{'label': tensor([0, 1, 1, 0, 0, 0, 1, 1, 1, 0, 0, 0, 1, 1, 0, 0]), 'input_ids': tensor([[    2,    13,     1,  ...,     0,     0,     0],\n",
      "        [    2,    13,     1,  ...,     0,     0,     0],\n",
      "        [    2,    13,     1,  ...,     1, 16704,     3],\n",
      "        ...,\n",
      "        [    2,    13,     1,  ...,     0,     0,     0],\n",
      "        [    2,    13,     1,  ...,     0,     0,     0],\n",
      "        [    2,    13,     1,  ...,     0,     0,     0]]), 'attention_mask': tensor([[1, 1, 1,  ..., 0, 0, 0],\n",
      "        [1, 1, 1,  ..., 0, 0, 0],\n",
      "        [1, 1, 1,  ..., 1, 1, 1],\n",
      "        ...,\n",
      "        [1, 1, 1,  ..., 0, 0, 0],\n",
      "        [1, 1, 1,  ..., 0, 0, 0],\n",
      "        [1, 1, 1,  ..., 0, 0, 0]])}\n",
      "{'label': tensor([0, 0, 1, 1, 1, 1, 1, 0, 0, 0, 0, 0, 0, 0, 0, 0]), 'input_ids': tensor([[   2,  268, 1063,  ...,    0,    0,    0],\n",
      "        [   2,   13,    1,  ...,    0,    0,    0],\n",
      "        [   2,   13,    1,  ...,    0,    0,    0],\n",
      "        ...,\n",
      "        [   2,   13,    1,  ...,    0,    0,    0],\n",
      "        [   2,   13,    1,  ...,    0,    0,    0],\n",
      "        [   2,   13,    1,  ...,    0,    0,    0]]), 'attention_mask': tensor([[1, 1, 1,  ..., 0, 0, 0],\n",
      "        [1, 1, 1,  ..., 0, 0, 0],\n",
      "        [1, 1, 1,  ..., 0, 0, 0],\n",
      "        ...,\n",
      "        [1, 1, 1,  ..., 0, 0, 0],\n",
      "        [1, 1, 1,  ..., 0, 0, 0],\n",
      "        [1, 1, 1,  ..., 0, 0, 0]])}\n",
      "{'label': tensor([0, 1, 0, 0, 1, 1, 0, 0, 1, 1, 1, 0, 0, 0, 1, 0]), 'input_ids': tensor([[ 2, 13,  1,  ...,  0,  0,  0],\n",
      "        [ 2, 13,  1,  ...,  0,  0,  0],\n",
      "        [ 2, 13,  1,  ...,  0,  0,  0],\n",
      "        ...,\n",
      "        [ 2, 13,  1,  ...,  0,  0,  0],\n",
      "        [ 2, 13,  1,  ...,  0,  0,  0],\n",
      "        [ 2, 13,  1,  ...,  0,  0,  0]]), 'attention_mask': tensor([[1, 1, 1,  ..., 0, 0, 0],\n",
      "        [1, 1, 1,  ..., 0, 0, 0],\n",
      "        [1, 1, 1,  ..., 0, 0, 0],\n",
      "        ...,\n",
      "        [1, 1, 1,  ..., 0, 0, 0],\n",
      "        [1, 1, 1,  ..., 0, 0, 0],\n",
      "        [1, 1, 1,  ..., 0, 0, 0]])}\n",
      "{'label': tensor([0, 0, 1, 0, 0, 0, 1, 1, 0, 1, 1, 0, 1, 1, 0, 0]), 'input_ids': tensor([[    2,    13,     9,  ...,     0,     0,     0],\n",
      "        [    2,    13,     1,  ...,     0,     0,     0],\n",
      "        [    2,    13,     1,  ...,     0,     0,     0],\n",
      "        ...,\n",
      "        [    2,    13,     1,  ...,     0,     0,     0],\n",
      "        [    2,    13,     1,  ...,     0,     0,     0],\n",
      "        [    2,    13,     1,  ...,     1, 16704,     3]]), 'attention_mask': tensor([[1, 1, 1,  ..., 0, 0, 0],\n",
      "        [1, 1, 1,  ..., 0, 0, 0],\n",
      "        [1, 1, 1,  ..., 0, 0, 0],\n",
      "        ...,\n",
      "        [1, 1, 1,  ..., 0, 0, 0],\n",
      "        [1, 1, 1,  ..., 0, 0, 0],\n",
      "        [1, 1, 1,  ..., 1, 1, 1]])}\n",
      "{'label': tensor([0, 1, 0, 1, 0, 0, 1, 1, 0, 0, 1, 1, 0, 0, 0, 0]), 'input_ids': tensor([[    2,    13,     1,  ...,     0,     0,     0],\n",
      "        [    2,  1062, 20979,  ...,     0,     0,     0],\n",
      "        [    2,    13,     1,  ...,     0,     0,     0],\n",
      "        ...,\n",
      "        [    2,    13,     1,  ...,     0,     0,     0],\n",
      "        [    2,    13,     1,  ...,     0,     0,     0],\n",
      "        [    2,    13,     1,  ...,     0,     0,     0]]), 'attention_mask': tensor([[1, 1, 1,  ..., 0, 0, 0],\n",
      "        [1, 1, 1,  ..., 0, 0, 0],\n",
      "        [1, 1, 1,  ..., 0, 0, 0],\n",
      "        ...,\n",
      "        [1, 1, 1,  ..., 0, 0, 0],\n",
      "        [1, 1, 1,  ..., 0, 0, 0],\n",
      "        [1, 1, 1,  ..., 0, 0, 0]])}\n",
      "{'label': tensor([0, 0, 0, 1, 1, 0, 0, 0, 0, 1, 0, 1, 0, 0, 1, 0]), 'input_ids': tensor([[ 2, 13,  1,  ...,  0,  0,  0],\n",
      "        [ 2, 13,  1,  ...,  0,  0,  0],\n",
      "        [ 2, 13,  1,  ...,  0,  0,  0],\n",
      "        ...,\n",
      "        [ 2, 13,  1,  ...,  0,  0,  0],\n",
      "        [ 2, 13,  1,  ...,  0,  0,  0],\n",
      "        [ 2, 98, 21,  ...,  0,  0,  0]]), 'attention_mask': tensor([[1, 1, 1,  ..., 0, 0, 0],\n",
      "        [1, 1, 1,  ..., 0, 0, 0],\n",
      "        [1, 1, 1,  ..., 0, 0, 0],\n",
      "        ...,\n",
      "        [1, 1, 1,  ..., 0, 0, 0],\n",
      "        [1, 1, 1,  ..., 0, 0, 0],\n",
      "        [1, 1, 1,  ..., 0, 0, 0]])}\n",
      "{'label': tensor([1, 0, 0, 0, 0, 0, 0, 0, 1, 1, 0, 0, 0, 1, 0, 1]), 'input_ids': tensor([[ 2, 13,  1,  ...,  0,  0,  0],\n",
      "        [ 2, 13,  1,  ...,  0,  0,  0],\n",
      "        [ 2, 13,  1,  ...,  0,  0,  0],\n",
      "        ...,\n",
      "        [ 2, 13,  1,  ...,  0,  0,  0],\n",
      "        [ 2, 13,  1,  ...,  0,  0,  0],\n",
      "        [ 2, 13,  1,  ...,  0,  0,  0]]), 'attention_mask': tensor([[1, 1, 1,  ..., 0, 0, 0],\n",
      "        [1, 1, 1,  ..., 0, 0, 0],\n",
      "        [1, 1, 1,  ..., 0, 0, 0],\n",
      "        ...,\n",
      "        [1, 1, 1,  ..., 0, 0, 0],\n",
      "        [1, 1, 1,  ..., 0, 0, 0],\n",
      "        [1, 1, 1,  ..., 0, 0, 0]])}\n",
      "{'label': tensor([1, 0, 0, 1, 0, 0, 0, 0, 0, 1, 1, 1, 1, 0, 0, 0]), 'input_ids': tensor([[ 2, 13,  1,  ...,  0,  0,  0],\n",
      "        [ 2, 13,  1,  ...,  0,  0,  0],\n",
      "        [ 2, 13,  1,  ...,  0,  0,  0],\n",
      "        ...,\n",
      "        [ 2, 13,  1,  ...,  0,  0,  0],\n",
      "        [ 2, 13,  1,  ...,  0,  0,  0],\n",
      "        [ 2, 13,  1,  ...,  0,  0,  0]]), 'attention_mask': tensor([[1, 1, 1,  ..., 0, 0, 0],\n",
      "        [1, 1, 1,  ..., 0, 0, 0],\n",
      "        [1, 1, 1,  ..., 0, 0, 0],\n",
      "        ...,\n",
      "        [1, 1, 1,  ..., 0, 0, 0],\n",
      "        [1, 1, 1,  ..., 0, 0, 0],\n",
      "        [1, 1, 1,  ..., 0, 0, 0]])}\n",
      "{'label': tensor([0, 1, 0, 1, 0, 1, 1, 0, 0, 1, 0, 1, 1, 0, 0, 0]), 'input_ids': tensor([[ 2, 13,  1,  ...,  0,  0,  0],\n",
      "        [ 2, 13,  1,  ...,  0,  0,  0],\n",
      "        [ 2, 13,  1,  ...,  0,  0,  0],\n",
      "        ...,\n",
      "        [ 2, 13,  1,  ...,  0,  0,  0],\n",
      "        [ 2, 13,  1,  ...,  0,  0,  0],\n",
      "        [ 2, 13,  1,  ...,  0,  0,  0]]), 'attention_mask': tensor([[1, 1, 1,  ..., 0, 0, 0],\n",
      "        [1, 1, 1,  ..., 0, 0, 0],\n",
      "        [1, 1, 1,  ..., 0, 0, 0],\n",
      "        ...,\n",
      "        [1, 1, 1,  ..., 0, 0, 0],\n",
      "        [1, 1, 1,  ..., 0, 0, 0],\n",
      "        [1, 1, 1,  ..., 0, 0, 0]])}\n",
      "{'label': tensor([0, 0, 1, 1, 1, 0, 1, 0, 0, 0, 0, 0, 0, 0, 0, 1]), 'input_ids': tensor([[ 2, 13,  1,  ...,  0,  0,  0],\n",
      "        [ 2, 13,  1,  ...,  0,  0,  0],\n",
      "        [ 2, 13,  1,  ...,  0,  0,  0],\n",
      "        ...,\n",
      "        [ 2, 13,  1,  ...,  0,  0,  0],\n",
      "        [ 2, 13,  1,  ...,  0,  0,  0],\n",
      "        [ 2, 13,  1,  ...,  0,  0,  0]]), 'attention_mask': tensor([[1, 1, 1,  ..., 0, 0, 0],\n",
      "        [1, 1, 1,  ..., 0, 0, 0],\n",
      "        [1, 1, 1,  ..., 0, 0, 0],\n",
      "        ...,\n",
      "        [1, 1, 1,  ..., 0, 0, 0],\n",
      "        [1, 1, 1,  ..., 0, 0, 0],\n",
      "        [1, 1, 1,  ..., 0, 0, 0]])}\n",
      "{'label': tensor([0, 1, 1, 0, 0, 0, 0, 1, 0, 0, 0, 0, 0, 0, 0, 0]), 'input_ids': tensor([[   2,   13,    1,  ...,    0,    0,    0],\n",
      "        [   2,   13,    1,  ...,    0,    0,    0],\n",
      "        [   2,   13,    1,  ...,    0,    0,    0],\n",
      "        ...,\n",
      "        [   2, 6926,  262,  ...,    0,    0,    0],\n",
      "        [   2,   13,    1,  ...,    0,    0,    0],\n",
      "        [   2,   13,    1,  ...,    0,    0,    0]]), 'attention_mask': tensor([[1, 1, 1,  ..., 0, 0, 0],\n",
      "        [1, 1, 1,  ..., 0, 0, 0],\n",
      "        [1, 1, 1,  ..., 0, 0, 0],\n",
      "        ...,\n",
      "        [1, 1, 1,  ..., 0, 0, 0],\n",
      "        [1, 1, 1,  ..., 0, 0, 0],\n",
      "        [1, 1, 1,  ..., 0, 0, 0]])}\n",
      "{'label': tensor([0, 0, 0, 0, 0, 0, 0, 0, 0, 0, 0, 0, 0, 0, 0, 0]), 'input_ids': tensor([[ 2, 13,  1,  ...,  0,  0,  0],\n",
      "        [ 2, 13,  1,  ...,  0,  0,  0],\n",
      "        [ 2, 13,  1,  ...,  0,  0,  0],\n",
      "        ...,\n",
      "        [ 2, 13,  1,  ...,  0,  0,  0],\n",
      "        [ 2, 13,  1,  ...,  0,  0,  0],\n",
      "        [ 2, 13,  1,  ...,  0,  0,  0]]), 'attention_mask': tensor([[1, 1, 1,  ..., 0, 0, 0],\n",
      "        [1, 1, 1,  ..., 0, 0, 0],\n",
      "        [1, 1, 1,  ..., 0, 0, 0],\n",
      "        ...,\n",
      "        [1, 1, 1,  ..., 0, 0, 0],\n",
      "        [1, 1, 1,  ..., 0, 0, 0],\n",
      "        [1, 1, 1,  ..., 0, 0, 0]])}\n",
      "{'label': tensor([1, 0, 0, 0, 0, 0, 0, 1, 1, 1, 0, 0, 1, 1, 1, 1]), 'input_ids': tensor([[  2,  13,   1,  ...,   0,   0,   0],\n",
      "        [  2,  13,   1,  ...,   0,   0,   0],\n",
      "        [  2,  13,   1,  ...,   0,   0,   0],\n",
      "        ...,\n",
      "        [  2,  13,   1,  ...,   0,   0,   0],\n",
      "        [  2,  13,   1,  ...,   0,   0,   0],\n",
      "        [  2,  21, 763,  ...,   0,   0,   0]]), 'attention_mask': tensor([[1, 1, 1,  ..., 0, 0, 0],\n",
      "        [1, 1, 1,  ..., 0, 0, 0],\n",
      "        [1, 1, 1,  ..., 0, 0, 0],\n",
      "        ...,\n",
      "        [1, 1, 1,  ..., 0, 0, 0],\n",
      "        [1, 1, 1,  ..., 0, 0, 0],\n",
      "        [1, 1, 1,  ..., 0, 0, 0]])}\n",
      "{'label': tensor([0, 1, 0, 1, 0, 0, 0, 1, 0, 0, 1, 1, 1, 0, 0, 0]), 'input_ids': tensor([[ 2, 13,  1,  ...,  0,  0,  0],\n",
      "        [ 2, 13,  1,  ...,  0,  0,  0],\n",
      "        [ 2, 13,  1,  ...,  0,  0,  0],\n",
      "        ...,\n",
      "        [ 2, 13,  1,  ...,  0,  0,  0],\n",
      "        [ 2, 13,  1,  ...,  0,  0,  0],\n",
      "        [ 2, 13,  1,  ...,  0,  0,  0]]), 'attention_mask': tensor([[1, 1, 1,  ..., 0, 0, 0],\n",
      "        [1, 1, 1,  ..., 0, 0, 0],\n",
      "        [1, 1, 1,  ..., 0, 0, 0],\n",
      "        ...,\n",
      "        [1, 1, 1,  ..., 0, 0, 0],\n",
      "        [1, 1, 1,  ..., 0, 0, 0],\n",
      "        [1, 1, 1,  ..., 0, 0, 0]])}\n",
      "{'label': tensor([0, 0, 0, 0, 0, 1, 0, 1, 0, 0, 1, 0, 0, 0, 0, 0]), 'input_ids': tensor([[   2,   13,    1,  ...,    0,    0,    0],\n",
      "        [   2,   13,    1,  ...,    0,    0,    0],\n",
      "        [   2,   13,    1,  ...,    0,    0,    0],\n",
      "        ...,\n",
      "        [   2,   13,    1,  ...,    0,    0,    0],\n",
      "        [   2,   13,    1,  ...,    0,    0,    0],\n",
      "        [   2, 4878,   50,  ...,    0,    0,    0]]), 'attention_mask': tensor([[1, 1, 1,  ..., 0, 0, 0],\n",
      "        [1, 1, 1,  ..., 0, 0, 0],\n",
      "        [1, 1, 1,  ..., 0, 0, 0],\n",
      "        ...,\n",
      "        [1, 1, 1,  ..., 0, 0, 0],\n",
      "        [1, 1, 1,  ..., 0, 0, 0],\n",
      "        [1, 1, 1,  ..., 0, 0, 0]])}\n",
      "{'label': tensor([0, 1, 0, 1, 1, 0, 1, 0, 0, 0, 0, 0, 0, 0, 1, 1]), 'input_ids': tensor([[  2,  13,   9,  ...,   0,   0,   0],\n",
      "        [  2,  13,   1,  ...,   0,   0,   0],\n",
      "        [  2, 137, 877,  ...,   0,   0,   0],\n",
      "        ...,\n",
      "        [  2,  13,   1,  ...,   0,   0,   0],\n",
      "        [  2, 496,  20,  ...,   0,   0,   0],\n",
      "        [  2,  13,   1,  ...,   0,   0,   0]]), 'attention_mask': tensor([[1, 1, 1,  ..., 0, 0, 0],\n",
      "        [1, 1, 1,  ..., 0, 0, 0],\n",
      "        [1, 1, 1,  ..., 0, 0, 0],\n",
      "        ...,\n",
      "        [1, 1, 1,  ..., 0, 0, 0],\n",
      "        [1, 1, 1,  ..., 0, 0, 0],\n",
      "        [1, 1, 1,  ..., 0, 0, 0]])}\n",
      "{'label': tensor([1, 1, 1, 0, 1, 1, 1, 0, 0, 1, 0, 1, 1, 1, 0, 0]), 'input_ids': tensor([[ 2, 13,  1,  ...,  0,  0,  0],\n",
      "        [ 2, 13,  1,  ...,  0,  0,  0],\n",
      "        [ 2, 13,  1,  ...,  0,  0,  0],\n",
      "        ...,\n",
      "        [ 2, 13,  1,  ...,  0,  0,  0],\n",
      "        [ 2, 13,  1,  ...,  0,  0,  0],\n",
      "        [ 2, 13,  1,  ...,  0,  0,  0]]), 'attention_mask': tensor([[1, 1, 1,  ..., 0, 0, 0],\n",
      "        [1, 1, 1,  ..., 0, 0, 0],\n",
      "        [1, 1, 1,  ..., 0, 0, 0],\n",
      "        ...,\n",
      "        [1, 1, 1,  ..., 0, 0, 0],\n",
      "        [1, 1, 1,  ..., 0, 0, 0],\n",
      "        [1, 1, 1,  ..., 0, 0, 0]])}\n",
      "{'label': tensor([0, 0, 0, 1, 0, 1, 0, 0, 0, 0, 0, 0, 1, 1, 1, 1]), 'input_ids': tensor([[ 2, 13,  1,  ...,  0,  0,  0],\n",
      "        [ 2, 13,  1,  ...,  0,  0,  0],\n",
      "        [ 2, 13,  1,  ...,  0,  0,  0],\n",
      "        ...,\n",
      "        [ 2, 13,  1,  ...,  0,  0,  0],\n",
      "        [ 2, 13,  1,  ...,  0,  0,  0],\n",
      "        [ 2, 13,  1,  ...,  0,  0,  0]]), 'attention_mask': tensor([[1, 1, 1,  ..., 0, 0, 0],\n",
      "        [1, 1, 1,  ..., 0, 0, 0],\n",
      "        [1, 1, 1,  ..., 0, 0, 0],\n",
      "        ...,\n",
      "        [1, 1, 1,  ..., 0, 0, 0],\n",
      "        [1, 1, 1,  ..., 0, 0, 0],\n",
      "        [1, 1, 1,  ..., 0, 0, 0]])}\n",
      "{'label': tensor([0, 0, 1, 1, 0, 0, 0, 0, 1, 0, 0, 1, 1, 0, 0, 0]), 'input_ids': tensor([[ 2, 13,  1,  ...,  0,  0,  0],\n",
      "        [ 2, 13,  1,  ...,  0,  0,  0],\n",
      "        [ 2, 13,  1,  ...,  0,  0,  0],\n",
      "        ...,\n",
      "        [ 2, 13,  1,  ...,  0,  0,  0],\n",
      "        [ 2, 13,  1,  ...,  0,  0,  0],\n",
      "        [ 2, 13,  1,  ...,  0,  0,  0]]), 'attention_mask': tensor([[1, 1, 1,  ..., 0, 0, 0],\n",
      "        [1, 1, 1,  ..., 0, 0, 0],\n",
      "        [1, 1, 1,  ..., 0, 0, 0],\n",
      "        ...,\n",
      "        [1, 1, 1,  ..., 0, 0, 0],\n",
      "        [1, 1, 1,  ..., 0, 0, 0],\n",
      "        [1, 1, 1,  ..., 0, 0, 0]])}\n",
      "{'label': tensor([0, 0, 0, 0, 0, 0, 0, 1, 0, 0, 1, 1, 0, 0, 0, 0]), 'input_ids': tensor([[ 2, 13,  1,  ...,  0,  0,  0],\n",
      "        [ 2, 13,  1,  ...,  0,  0,  0],\n",
      "        [ 2, 13,  1,  ...,  0,  0,  0],\n",
      "        ...,\n",
      "        [ 2, 13,  1,  ...,  0,  0,  0],\n",
      "        [ 2, 13,  1,  ...,  0,  0,  0],\n",
      "        [ 2, 13,  1,  ...,  0,  0,  0]]), 'attention_mask': tensor([[1, 1, 1,  ..., 0, 0, 0],\n",
      "        [1, 1, 1,  ..., 0, 0, 0],\n",
      "        [1, 1, 1,  ..., 0, 0, 0],\n",
      "        ...,\n",
      "        [1, 1, 1,  ..., 0, 0, 0],\n",
      "        [1, 1, 1,  ..., 0, 0, 0],\n",
      "        [1, 1, 1,  ..., 0, 0, 0]])}\n",
      "{'label': tensor([0, 1, 1, 1, 0, 1, 0, 1, 0, 0, 0, 0, 0, 1, 0, 0]), 'input_ids': tensor([[ 2, 13,  1,  ...,  0,  0,  0],\n",
      "        [ 2, 13,  1,  ...,  0,  0,  0],\n",
      "        [ 2, 13,  1,  ...,  0,  0,  0],\n",
      "        ...,\n",
      "        [ 2, 13,  1,  ...,  0,  0,  0],\n",
      "        [ 2, 13,  1,  ...,  0,  0,  0],\n",
      "        [ 2, 13,  1,  ...,  0,  0,  0]]), 'attention_mask': tensor([[1, 1, 1,  ..., 0, 0, 0],\n",
      "        [1, 1, 1,  ..., 0, 0, 0],\n",
      "        [1, 1, 1,  ..., 0, 0, 0],\n",
      "        ...,\n",
      "        [1, 1, 1,  ..., 0, 0, 0],\n",
      "        [1, 1, 1,  ..., 0, 0, 0],\n",
      "        [1, 1, 1,  ..., 0, 0, 0]])}\n",
      "{'label': tensor([0, 0, 0, 1, 0, 0, 0, 1, 0, 0, 1, 1, 1, 0, 1, 0]), 'input_ids': tensor([[   2,   13,    1,  ...,    0,    0,    0],\n",
      "        [   2,   13,    1,  ...,    0,    0,    0],\n",
      "        [   2, 6926, 7202,  ...,    0,    0,    0],\n",
      "        ...,\n",
      "        [   2,   13,    1,  ...,    0,    0,    0],\n",
      "        [   2,   13,    1,  ...,    0,    0,    0],\n",
      "        [   2,   13,    1,  ...,    0,    0,    0]]), 'attention_mask': tensor([[1, 1, 1,  ..., 0, 0, 0],\n",
      "        [1, 1, 1,  ..., 0, 0, 0],\n",
      "        [1, 1, 1,  ..., 0, 0, 0],\n",
      "        ...,\n",
      "        [1, 1, 1,  ..., 0, 0, 0],\n",
      "        [1, 1, 1,  ..., 0, 0, 0],\n",
      "        [1, 1, 1,  ..., 0, 0, 0]])}\n",
      "{'label': tensor([1, 0, 0, 1, 1, 1, 0, 1, 1, 0, 0, 0, 0, 0, 0, 1]), 'input_ids': tensor([[   2,   13,    1,  ...,    0,    0,    0],\n",
      "        [   2,   13,    1,  ...,    0,    0,    0],\n",
      "        [   2,   85,   20,  ...,    0,    0,    0],\n",
      "        ...,\n",
      "        [   2,   13,    1,  ...,    0,    0,    0],\n",
      "        [   2,   13,    1,  ...,    0,    0,    0],\n",
      "        [   2, 6926, 8989,  ...,    0,    0,    0]]), 'attention_mask': tensor([[1, 1, 1,  ..., 0, 0, 0],\n",
      "        [1, 1, 1,  ..., 0, 0, 0],\n",
      "        [1, 1, 1,  ..., 0, 0, 0],\n",
      "        ...,\n",
      "        [1, 1, 1,  ..., 0, 0, 0],\n",
      "        [1, 1, 1,  ..., 0, 0, 0],\n",
      "        [1, 1, 1,  ..., 0, 0, 0]])}\n",
      "{'label': tensor([1, 0, 1, 0, 1, 0, 0, 0, 0, 1, 1, 0, 1, 0, 0, 1]), 'input_ids': tensor([[ 2, 13,  1,  ...,  0,  0,  0],\n",
      "        [ 2, 13,  1,  ...,  0,  0,  0],\n",
      "        [ 2, 13,  1,  ...,  0,  0,  0],\n",
      "        ...,\n",
      "        [ 2, 13,  1,  ...,  0,  0,  0],\n",
      "        [ 2, 13,  1,  ...,  0,  0,  0],\n",
      "        [ 2, 13,  1,  ...,  0,  0,  0]]), 'attention_mask': tensor([[1, 1, 1,  ..., 0, 0, 0],\n",
      "        [1, 1, 1,  ..., 0, 0, 0],\n",
      "        [1, 1, 1,  ..., 0, 0, 0],\n",
      "        ...,\n",
      "        [1, 1, 1,  ..., 0, 0, 0],\n",
      "        [1, 1, 1,  ..., 0, 0, 0],\n",
      "        [1, 1, 1,  ..., 0, 0, 0]])}\n",
      "{'label': tensor([0, 0, 1, 0, 1, 0, 0, 0, 0, 0, 0, 1, 1, 0, 1, 0]), 'input_ids': tensor([[  2, 340,  27,  ...,   0,   0,   0],\n",
      "        [  2,  13,   1,  ...,   0,   0,   0],\n",
      "        [  2,  13,   1,  ...,   0,   0,   0],\n",
      "        ...,\n",
      "        [  2,  13,   1,  ...,   0,   0,   0],\n",
      "        [  2,  13,   1,  ...,   0,   0,   0],\n",
      "        [  2,  13,   1,  ...,   0,   0,   0]]), 'attention_mask': tensor([[1, 1, 1,  ..., 0, 0, 0],\n",
      "        [1, 1, 1,  ..., 0, 0, 0],\n",
      "        [1, 1, 1,  ..., 0, 0, 0],\n",
      "        ...,\n",
      "        [1, 1, 1,  ..., 0, 0, 0],\n",
      "        [1, 1, 1,  ..., 0, 0, 0],\n",
      "        [1, 1, 1,  ..., 0, 0, 0]])}\n",
      "{'label': tensor([0, 1, 0, 1, 1, 1, 0, 0, 1, 1, 0, 0, 0, 0, 1, 0]), 'input_ids': tensor([[   2,   13,    1,  ...,    0,    0,    0],\n",
      "        [   2, 1369,   14,  ...,    0,    0,    0],\n",
      "        [   2,   13,    1,  ...,    0,    0,    0],\n",
      "        ...,\n",
      "        [   2,   13,    1,  ...,    0,    0,    0],\n",
      "        [   2,   13,    1,  ...,    0,    0,    0],\n",
      "        [   2,   13,    1,  ...,    0,    0,    0]]), 'attention_mask': tensor([[1, 1, 1,  ..., 0, 0, 0],\n",
      "        [1, 1, 1,  ..., 0, 0, 0],\n",
      "        [1, 1, 1,  ..., 0, 0, 0],\n",
      "        ...,\n",
      "        [1, 1, 1,  ..., 0, 0, 0],\n",
      "        [1, 1, 1,  ..., 0, 0, 0],\n",
      "        [1, 1, 1,  ..., 0, 0, 0]])}\n",
      "{'label': tensor([1, 0, 1, 0, 1, 0, 0, 0, 0, 0, 0, 1, 0, 0, 0, 0]), 'input_ids': tensor([[ 2, 13,  1,  ...,  0,  0,  0],\n",
      "        [ 2, 13,  1,  ...,  0,  0,  0],\n",
      "        [ 2, 13,  1,  ...,  0,  0,  0],\n",
      "        ...,\n",
      "        [ 2, 13,  1,  ...,  0,  0,  0],\n",
      "        [ 2, 13,  1,  ...,  0,  0,  0],\n",
      "        [ 2, 13,  1,  ...,  0,  0,  0]]), 'attention_mask': tensor([[1, 1, 1,  ..., 0, 0, 0],\n",
      "        [1, 1, 1,  ..., 0, 0, 0],\n",
      "        [1, 1, 1,  ..., 0, 0, 0],\n",
      "        ...,\n",
      "        [1, 1, 1,  ..., 0, 0, 0],\n",
      "        [1, 1, 1,  ..., 0, 0, 0],\n",
      "        [1, 1, 1,  ..., 0, 0, 0]])}\n",
      "{'label': tensor([0, 0, 0, 0, 0, 1, 1, 0, 0, 1, 0, 0, 0, 1, 1, 0]), 'input_ids': tensor([[ 2, 13,  1,  ...,  0,  0,  0],\n",
      "        [ 2, 13,  1,  ...,  0,  0,  0],\n",
      "        [ 2, 13,  1,  ...,  0,  0,  0],\n",
      "        ...,\n",
      "        [ 2, 13,  1,  ...,  0,  0,  0],\n",
      "        [ 2, 13,  1,  ...,  0,  0,  0],\n",
      "        [ 2, 13,  1,  ...,  0,  0,  0]]), 'attention_mask': tensor([[1, 1, 1,  ..., 0, 0, 0],\n",
      "        [1, 1, 1,  ..., 0, 0, 0],\n",
      "        [1, 1, 1,  ..., 0, 0, 0],\n",
      "        ...,\n",
      "        [1, 1, 1,  ..., 0, 0, 0],\n",
      "        [1, 1, 1,  ..., 0, 0, 0],\n",
      "        [1, 1, 1,  ..., 0, 0, 0]])}\n",
      "{'label': tensor([0, 1, 0, 0, 1, 1, 0, 0, 0, 0, 0, 0, 0, 1, 1, 0]), 'input_ids': tensor([[ 2, 13,  1,  ...,  0,  0,  0],\n",
      "        [ 2, 13,  1,  ...,  0,  0,  0],\n",
      "        [ 2, 13,  1,  ...,  0,  0,  0],\n",
      "        ...,\n",
      "        [ 2, 13,  1,  ...,  0,  0,  0],\n",
      "        [ 2, 13,  1,  ...,  0,  0,  0],\n",
      "        [ 2, 13,  1,  ...,  0,  0,  0]]), 'attention_mask': tensor([[1, 1, 1,  ..., 0, 0, 0],\n",
      "        [1, 1, 1,  ..., 0, 0, 0],\n",
      "        [1, 1, 1,  ..., 0, 0, 0],\n",
      "        ...,\n",
      "        [1, 1, 1,  ..., 0, 0, 0],\n",
      "        [1, 1, 1,  ..., 0, 0, 0],\n",
      "        [1, 1, 1,  ..., 0, 0, 0]])}\n",
      "{'label': tensor([1, 0, 0, 1, 0, 0, 0, 0, 0, 0, 0, 0, 0, 0, 1, 0]), 'input_ids': tensor([[  2,  13,   1,  ...,   0,   0,   0],\n",
      "        [  2,  13,   1,  ...,   0,   0,   0],\n",
      "        [  2, 137, 159,  ...,   0,   0,   0],\n",
      "        ...,\n",
      "        [  2,  13,   1,  ...,   0,   0,   0],\n",
      "        [  2,  13,   1,  ...,   0,   0,   0],\n",
      "        [  2,  13,   1,  ...,   0,   0,   0]]), 'attention_mask': tensor([[1, 1, 1,  ..., 0, 0, 0],\n",
      "        [1, 1, 1,  ..., 0, 0, 0],\n",
      "        [1, 1, 1,  ..., 0, 0, 0],\n",
      "        ...,\n",
      "        [1, 1, 1,  ..., 0, 0, 0],\n",
      "        [1, 1, 1,  ..., 0, 0, 0],\n",
      "        [1, 1, 1,  ..., 0, 0, 0]])}\n",
      "{'label': tensor([0, 1, 0, 0, 0, 1, 1, 0, 1, 0, 0, 1, 0, 0, 0, 1]), 'input_ids': tensor([[ 2, 13,  1,  ...,  0,  0,  0],\n",
      "        [ 2, 13,  1,  ...,  0,  0,  0],\n",
      "        [ 2, 13,  1,  ...,  0,  0,  0],\n",
      "        ...,\n",
      "        [ 2, 13,  1,  ...,  0,  0,  0],\n",
      "        [ 2, 13,  1,  ...,  0,  0,  0],\n",
      "        [ 2, 13,  1,  ...,  0,  0,  0]]), 'attention_mask': tensor([[1, 1, 1,  ..., 0, 0, 0],\n",
      "        [1, 1, 1,  ..., 0, 0, 0],\n",
      "        [1, 1, 1,  ..., 0, 0, 0],\n",
      "        ...,\n",
      "        [1, 1, 1,  ..., 0, 0, 0],\n",
      "        [1, 1, 1,  ..., 0, 0, 0],\n",
      "        [1, 1, 1,  ..., 0, 0, 0]])}\n",
      "{'label': tensor([0, 0, 0, 0, 0, 0, 1, 0, 1, 1, 0, 0, 0, 0, 0, 0]), 'input_ids': tensor([[  2,  13,   1,  ...,  92, 985,   3],\n",
      "        [  2,  13,   1,  ...,   0,   0,   0],\n",
      "        [  2,  13,   1,  ...,   0,   0,   0],\n",
      "        ...,\n",
      "        [  2,  13,   1,  ...,   0,   0,   0],\n",
      "        [  2,  13,   1,  ...,   0,   0,   0],\n",
      "        [  2,  13,   1,  ...,   0,   0,   0]]), 'attention_mask': tensor([[1, 1, 1,  ..., 1, 1, 1],\n",
      "        [1, 1, 1,  ..., 0, 0, 0],\n",
      "        [1, 1, 1,  ..., 0, 0, 0],\n",
      "        ...,\n",
      "        [1, 1, 1,  ..., 0, 0, 0],\n",
      "        [1, 1, 1,  ..., 0, 0, 0],\n",
      "        [1, 1, 1,  ..., 0, 0, 0]])}\n",
      "{'label': tensor([1, 0, 0, 1, 0, 0, 1, 0, 0, 1, 1, 0, 0, 0, 0, 0]), 'input_ids': tensor([[    2,    13,     1,  ...,     0,     0,     0],\n",
      "        [    2,    13,     1,  ...,     0,     0,     0],\n",
      "        [    2,  6926,  1536,  ...,     0,     0,     0],\n",
      "        ...,\n",
      "        [    2,  6926, 10731,  ...,     0,     0,     0],\n",
      "        [    2,   137,     6,  ...,     0,     0,     0],\n",
      "        [    2,    13,     1,  ...,     0,     0,     0]]), 'attention_mask': tensor([[1, 1, 1,  ..., 0, 0, 0],\n",
      "        [1, 1, 1,  ..., 0, 0, 0],\n",
      "        [1, 1, 1,  ..., 0, 0, 0],\n",
      "        ...,\n",
      "        [1, 1, 1,  ..., 0, 0, 0],\n",
      "        [1, 1, 1,  ..., 0, 0, 0],\n",
      "        [1, 1, 1,  ..., 0, 0, 0]])}\n",
      "{'label': tensor([0, 0, 0, 0, 0, 1, 0, 0, 0, 0, 0, 0, 0, 0, 1, 1]), 'input_ids': tensor([[    2,    13,     1,  ...,     0,     0,     0],\n",
      "        [    2,    13,     1,  ...,     0,     0,     0],\n",
      "        [    2,    13,     1,  ...,     1, 16704,     3],\n",
      "        ...,\n",
      "        [    2,    13,     1,  ...,     0,     0,     0],\n",
      "        [    2,    13,     1,  ...,     0,     0,     0],\n",
      "        [    2,    13,     1,  ...,     0,     0,     0]]), 'attention_mask': tensor([[1, 1, 1,  ..., 0, 0, 0],\n",
      "        [1, 1, 1,  ..., 0, 0, 0],\n",
      "        [1, 1, 1,  ..., 1, 1, 1],\n",
      "        ...,\n",
      "        [1, 1, 1,  ..., 0, 0, 0],\n",
      "        [1, 1, 1,  ..., 0, 0, 0],\n",
      "        [1, 1, 1,  ..., 0, 0, 0]])}\n",
      "{'label': tensor([0, 0, 0, 0, 1, 0, 0, 0, 0, 1, 0, 1, 0, 0, 0, 0]), 'input_ids': tensor([[   2,   13,    1,  ...,    0,    0,    0],\n",
      "        [   2,   13,    1,  ...,    0,    0,    0],\n",
      "        [   2,   13,    1,  ...,    0,    0,    0],\n",
      "        ...,\n",
      "        [   2,   86,   53,  ...,    0,    0,    0],\n",
      "        [   2,   13,    1,  ...,    0,    0,    0],\n",
      "        [   2, 6926, 1387,  ...,    0,    0,    0]]), 'attention_mask': tensor([[1, 1, 1,  ..., 0, 0, 0],\n",
      "        [1, 1, 1,  ..., 0, 0, 0],\n",
      "        [1, 1, 1,  ..., 0, 0, 0],\n",
      "        ...,\n",
      "        [1, 1, 1,  ..., 0, 0, 0],\n",
      "        [1, 1, 1,  ..., 0, 0, 0],\n",
      "        [1, 1, 1,  ..., 0, 0, 0]])}\n",
      "{'label': tensor([0, 0, 1, 0, 1, 0, 0, 0, 0, 1, 0, 1, 1, 0, 0, 1]), 'input_ids': tensor([[   2,   13,    1,  ...,    0,    0,    0],\n",
      "        [   2,   13,    1,  ...,    0,    0,    0],\n",
      "        [   2,   13,    1,  ...,    0,    0,    0],\n",
      "        ...,\n",
      "        [   2, 2487,   87,  ...,    0,    0,    0],\n",
      "        [   2,   13,    1,  ...,    0,    0,    0],\n",
      "        [   2,   13,    1,  ...,    0,    0,    0]]), 'attention_mask': tensor([[1, 1, 1,  ..., 0, 0, 0],\n",
      "        [1, 1, 1,  ..., 0, 0, 0],\n",
      "        [1, 1, 1,  ..., 0, 0, 0],\n",
      "        ...,\n",
      "        [1, 1, 1,  ..., 0, 0, 0],\n",
      "        [1, 1, 1,  ..., 0, 0, 0],\n",
      "        [1, 1, 1,  ..., 0, 0, 0]])}\n",
      "{'label': tensor([0, 1, 0, 0, 0, 0, 0, 1, 0, 0, 0, 1, 0, 1, 0, 0]), 'input_ids': tensor([[ 2, 13,  1,  ...,  0,  0,  0],\n",
      "        [ 2, 13,  1,  ...,  0,  0,  0],\n",
      "        [ 2, 13,  1,  ...,  0,  0,  0],\n",
      "        ...,\n",
      "        [ 2, 13,  1,  ...,  0,  0,  0],\n",
      "        [ 2, 13,  1,  ...,  0,  0,  0],\n",
      "        [ 2, 13,  1,  ...,  0,  0,  0]]), 'attention_mask': tensor([[1, 1, 1,  ..., 0, 0, 0],\n",
      "        [1, 1, 1,  ..., 0, 0, 0],\n",
      "        [1, 1, 1,  ..., 0, 0, 0],\n",
      "        ...,\n",
      "        [1, 1, 1,  ..., 0, 0, 0],\n",
      "        [1, 1, 1,  ..., 0, 0, 0],\n",
      "        [1, 1, 1,  ..., 0, 0, 0]])}\n",
      "{'label': tensor([0, 1, 0, 1, 0, 0, 1, 0, 1, 0, 0, 0, 0, 0, 1, 0]), 'input_ids': tensor([[ 2, 13,  1,  ...,  0,  0,  0],\n",
      "        [ 2, 13,  1,  ...,  0,  0,  0],\n",
      "        [ 2, 13,  1,  ...,  0,  0,  0],\n",
      "        ...,\n",
      "        [ 2, 13,  1,  ...,  0,  0,  0],\n",
      "        [ 2, 13,  1,  ...,  0,  0,  0],\n",
      "        [ 2, 13,  1,  ...,  0,  0,  0]]), 'attention_mask': tensor([[1, 1, 1,  ..., 0, 0, 0],\n",
      "        [1, 1, 1,  ..., 0, 0, 0],\n",
      "        [1, 1, 1,  ..., 0, 0, 0],\n",
      "        ...,\n",
      "        [1, 1, 1,  ..., 0, 0, 0],\n",
      "        [1, 1, 1,  ..., 0, 0, 0],\n",
      "        [1, 1, 1,  ..., 0, 0, 0]])}\n",
      "{'label': tensor([0, 0, 1, 0, 1, 1, 1, 0, 0, 0, 1, 0, 1, 1, 0, 1]), 'input_ids': tensor([[ 2, 13,  1,  ...,  0,  0,  0],\n",
      "        [ 2, 13,  1,  ...,  0,  0,  0],\n",
      "        [ 2, 13,  1,  ...,  0,  0,  0],\n",
      "        ...,\n",
      "        [ 2, 13,  1,  ...,  0,  0,  0],\n",
      "        [ 2, 13,  1,  ...,  0,  0,  0],\n",
      "        [ 2, 13,  1,  ...,  0,  0,  0]]), 'attention_mask': tensor([[1, 1, 1,  ..., 0, 0, 0],\n",
      "        [1, 1, 1,  ..., 0, 0, 0],\n",
      "        [1, 1, 1,  ..., 0, 0, 0],\n",
      "        ...,\n",
      "        [1, 1, 1,  ..., 0, 0, 0],\n",
      "        [1, 1, 1,  ..., 0, 0, 0],\n",
      "        [1, 1, 1,  ..., 0, 0, 0]])}\n",
      "{'label': tensor([0, 1, 0, 1, 0, 0, 0, 1, 0, 0, 1, 0, 0, 0, 1, 0]), 'input_ids': tensor([[    2,    13,     1,  ...,     0,     0,     0],\n",
      "        [    2,    13,     1,  ...,     0,     0,     0],\n",
      "        [    2,    13,     1,  ...,     0,     0,     0],\n",
      "        ...,\n",
      "        [    2,    13,     1,  ...,     1, 16704,     3],\n",
      "        [    2,    13,     1,  ...,     0,     0,     0],\n",
      "        [    2,    13,     1,  ...,     0,     0,     0]]), 'attention_mask': tensor([[1, 1, 1,  ..., 0, 0, 0],\n",
      "        [1, 1, 1,  ..., 0, 0, 0],\n",
      "        [1, 1, 1,  ..., 0, 0, 0],\n",
      "        ...,\n",
      "        [1, 1, 1,  ..., 1, 1, 1],\n",
      "        [1, 1, 1,  ..., 0, 0, 0],\n",
      "        [1, 1, 1,  ..., 0, 0, 0]])}\n",
      "{'label': tensor([0, 0, 0, 1, 0, 0, 0, 1, 0, 1, 0, 0, 0, 1, 0, 1]), 'input_ids': tensor([[   2, 1082, 1473,  ...,    0,    0,    0],\n",
      "        [   2,   13,    1,  ...,    0,    0,    0],\n",
      "        [   2,   13,    1,  ...,    0,    0,    0],\n",
      "        ...,\n",
      "        [   2,   13,    1,  ...,    0,    0,    0],\n",
      "        [   2,   13,    1,  ...,    0,    0,    0],\n",
      "        [   2,   13,    1,  ...,    0,    0,    0]]), 'attention_mask': tensor([[1, 1, 1,  ..., 0, 0, 0],\n",
      "        [1, 1, 1,  ..., 0, 0, 0],\n",
      "        [1, 1, 1,  ..., 0, 0, 0],\n",
      "        ...,\n",
      "        [1, 1, 1,  ..., 0, 0, 0],\n",
      "        [1, 1, 1,  ..., 0, 0, 0],\n",
      "        [1, 1, 1,  ..., 0, 0, 0]])}\n",
      "{'label': tensor([0, 0, 0, 0, 0, 0, 1, 0, 0, 0, 0, 0, 0, 0, 1, 0]), 'input_ids': tensor([[   2,   13,    1,  ...,    0,    0,    0],\n",
      "        [   2,   13,    1,  ...,    0,    0,    0],\n",
      "        [   2,   13,    1,  ...,    0,    0,    0],\n",
      "        ...,\n",
      "        [   2,   13,    1,  ...,    0,    0,    0],\n",
      "        [   2,   13,    1,  ...,    0,    0,    0],\n",
      "        [   2, 7931, 3284,  ...,    0,    0,    0]]), 'attention_mask': tensor([[1, 1, 1,  ..., 0, 0, 0],\n",
      "        [1, 1, 1,  ..., 0, 0, 0],\n",
      "        [1, 1, 1,  ..., 0, 0, 0],\n",
      "        ...,\n",
      "        [1, 1, 1,  ..., 0, 0, 0],\n",
      "        [1, 1, 1,  ..., 0, 0, 0],\n",
      "        [1, 1, 1,  ..., 0, 0, 0]])}\n",
      "{'label': tensor([1, 0, 1, 0, 0, 1, 1, 0, 0, 1, 1, 0, 0, 0, 0, 0]), 'input_ids': tensor([[   2,   13,    1,  ...,    0,    0,    0],\n",
      "        [   2, 6926, 6575,  ...,    0,    0,    0],\n",
      "        [   2,   13,    1,  ...,    0,    0,    0],\n",
      "        ...,\n",
      "        [   2,   13,    1,  ...,    0,    0,    0],\n",
      "        [   2,   13,    1,  ...,    0,    0,    0],\n",
      "        [   2,   13,    1,  ...,    0,    0,    0]]), 'attention_mask': tensor([[1, 1, 1,  ..., 0, 0, 0],\n",
      "        [1, 1, 1,  ..., 0, 0, 0],\n",
      "        [1, 1, 1,  ..., 0, 0, 0],\n",
      "        ...,\n",
      "        [1, 1, 1,  ..., 0, 0, 0],\n",
      "        [1, 1, 1,  ..., 0, 0, 0],\n",
      "        [1, 1, 1,  ..., 0, 0, 0]])}\n",
      "{'label': tensor([0, 1, 0, 0, 0, 0, 0, 1, 0, 1, 0, 0, 1, 0, 1, 0]), 'input_ids': tensor([[   2,   31,  905,  ...,    0,    0,    0],\n",
      "        [   2,   13,    1,  ...,    0,    0,    0],\n",
      "        [   2,   13,    1,  ...,    0,    0,    0],\n",
      "        ...,\n",
      "        [   2,   13,    1,  ...,    0,    0,    0],\n",
      "        [   2,   13,    1,  ...,    0,    0,    0],\n",
      "        [   2, 1082, 1473,  ...,    0,    0,    0]]), 'attention_mask': tensor([[1, 1, 1,  ..., 0, 0, 0],\n",
      "        [1, 1, 1,  ..., 0, 0, 0],\n",
      "        [1, 1, 1,  ..., 0, 0, 0],\n",
      "        ...,\n",
      "        [1, 1, 1,  ..., 0, 0, 0],\n",
      "        [1, 1, 1,  ..., 0, 0, 0],\n",
      "        [1, 1, 1,  ..., 0, 0, 0]])}\n",
      "{'label': tensor([0, 1, 0, 1, 0, 0, 0, 0, 0, 1, 0, 0, 0, 0, 1, 1]), 'input_ids': tensor([[   2, 3531,   42,  ...,    0,    0,    0],\n",
      "        [   2,   13,    1,  ...,    0,    0,    0],\n",
      "        [   2,   13,    1,  ...,    0,    0,    0],\n",
      "        ...,\n",
      "        [   2,   13,    1,  ...,    0,    0,    0],\n",
      "        [   2,   13,    1,  ...,    0,    0,    0],\n",
      "        [   2,   13,    1,  ...,    0,    0,    0]]), 'attention_mask': tensor([[1, 1, 1,  ..., 0, 0, 0],\n",
      "        [1, 1, 1,  ..., 0, 0, 0],\n",
      "        [1, 1, 1,  ..., 0, 0, 0],\n",
      "        ...,\n",
      "        [1, 1, 1,  ..., 0, 0, 0],\n",
      "        [1, 1, 1,  ..., 0, 0, 0],\n",
      "        [1, 1, 1,  ..., 0, 0, 0]])}\n",
      "{'label': tensor([0, 1, 0, 0, 1, 1, 0, 0, 1, 0, 0, 1, 0, 0, 0, 0]), 'input_ids': tensor([[   2,   13,    1,  ...,    0,    0,    0],\n",
      "        [   2,   13,    1,  ...,    0,    0,    0],\n",
      "        [   2,   13,    1,  ...,    0,    0,    0],\n",
      "        ...,\n",
      "        [   2,   13,    1,  ...,    0,    0,    0],\n",
      "        [   2, 6926,  839,  ...,    0,    0,    0],\n",
      "        [   2,   13,    1,  ...,    0,    0,    0]]), 'attention_mask': tensor([[1, 1, 1,  ..., 0, 0, 0],\n",
      "        [1, 1, 1,  ..., 0, 0, 0],\n",
      "        [1, 1, 1,  ..., 0, 0, 0],\n",
      "        ...,\n",
      "        [1, 1, 1,  ..., 0, 0, 0],\n",
      "        [1, 1, 1,  ..., 0, 0, 0],\n",
      "        [1, 1, 1,  ..., 0, 0, 0]])}\n",
      "{'label': tensor([1, 0, 0, 0, 1, 1, 0, 0, 1, 1, 0, 0, 1, 0, 0, 0]), 'input_ids': tensor([[ 2, 13,  1,  ...,  0,  0,  0],\n",
      "        [ 2, 13,  1,  ...,  0,  0,  0],\n",
      "        [ 2, 13,  1,  ...,  0,  0,  0],\n",
      "        ...,\n",
      "        [ 2, 13,  9,  ...,  0,  0,  0],\n",
      "        [ 2, 13,  1,  ...,  0,  0,  0],\n",
      "        [ 2, 13,  1,  ...,  0,  0,  0]]), 'attention_mask': tensor([[1, 1, 1,  ..., 0, 0, 0],\n",
      "        [1, 1, 1,  ..., 0, 0, 0],\n",
      "        [1, 1, 1,  ..., 0, 0, 0],\n",
      "        ...,\n",
      "        [1, 1, 1,  ..., 0, 0, 0],\n",
      "        [1, 1, 1,  ..., 0, 0, 0],\n",
      "        [1, 1, 1,  ..., 0, 0, 0]])}\n",
      "{'label': tensor([1, 0, 0, 1, 1, 0, 0, 1, 0, 1, 0, 1, 0, 1, 0, 0]), 'input_ids': tensor([[ 2, 13,  1,  ...,  0,  0,  0],\n",
      "        [ 2, 13,  1,  ...,  0,  0,  0],\n",
      "        [ 2, 13,  1,  ...,  0,  0,  0],\n",
      "        ...,\n",
      "        [ 2, 13,  1,  ...,  0,  0,  0],\n",
      "        [ 2, 13,  1,  ...,  0,  0,  0],\n",
      "        [ 2, 13,  1,  ...,  0,  0,  0]]), 'attention_mask': tensor([[1, 1, 1,  ..., 0, 0, 0],\n",
      "        [1, 1, 1,  ..., 0, 0, 0],\n",
      "        [1, 1, 1,  ..., 0, 0, 0],\n",
      "        ...,\n",
      "        [1, 1, 1,  ..., 0, 0, 0],\n",
      "        [1, 1, 1,  ..., 0, 0, 0],\n",
      "        [1, 1, 1,  ..., 0, 0, 0]])}\n",
      "{'label': tensor([0, 0, 1, 1, 0, 0, 0, 1, 0, 1, 1, 1, 1, 0, 0, 0]), 'input_ids': tensor([[    2,    13,     1,  ...,     0,     0,     0],\n",
      "        [    2, 16370,    16,  ...,     0,     0,     0],\n",
      "        [    2,    13,     1,  ...,     0,     0,     0],\n",
      "        ...,\n",
      "        [    2,    13,     1,  ...,     0,     0,     0],\n",
      "        [    2,    13,     1,  ...,     0,     0,     0],\n",
      "        [    2,    13,     1,  ...,     0,     0,     0]]), 'attention_mask': tensor([[1, 1, 1,  ..., 0, 0, 0],\n",
      "        [1, 1, 1,  ..., 0, 0, 0],\n",
      "        [1, 1, 1,  ..., 0, 0, 0],\n",
      "        ...,\n",
      "        [1, 1, 1,  ..., 0, 0, 0],\n",
      "        [1, 1, 1,  ..., 0, 0, 0],\n",
      "        [1, 1, 1,  ..., 0, 0, 0]])}\n",
      "{'label': tensor([0, 0, 0, 1, 1, 1, 0, 0, 0, 0, 0, 0, 0, 0, 1, 0]), 'input_ids': tensor([[   2,   13,    1,  ...,    0,    0,    0],\n",
      "        [   2, 1298, 1117,  ...,    0,    0,    0],\n",
      "        [   2,   13,    1,  ...,    0,    0,    0],\n",
      "        ...,\n",
      "        [   2,   13,    1,  ...,    0,    0,    0],\n",
      "        [   2,   13,    1,  ...,    0,    0,    0],\n",
      "        [   2,   13,    1,  ...,    0,    0,    0]]), 'attention_mask': tensor([[1, 1, 1,  ..., 0, 0, 0],\n",
      "        [1, 1, 1,  ..., 0, 0, 0],\n",
      "        [1, 1, 1,  ..., 0, 0, 0],\n",
      "        ...,\n",
      "        [1, 1, 1,  ..., 0, 0, 0],\n",
      "        [1, 1, 1,  ..., 0, 0, 0],\n",
      "        [1, 1, 1,  ..., 0, 0, 0]])}\n",
      "{'label': tensor([0, 1, 0, 0, 1, 1, 1, 0, 1, 0, 1, 0, 0, 0, 0, 0]), 'input_ids': tensor([[ 2, 13,  1,  ...,  0,  0,  0],\n",
      "        [ 2, 13,  1,  ...,  0,  0,  0],\n",
      "        [ 2, 13,  1,  ...,  0,  0,  0],\n",
      "        ...,\n",
      "        [ 2, 13,  1,  ...,  0,  0,  0],\n",
      "        [ 2, 13,  1,  ...,  0,  0,  0],\n",
      "        [ 2, 13,  1,  ...,  0,  0,  0]]), 'attention_mask': tensor([[1, 1, 1,  ..., 0, 0, 0],\n",
      "        [1, 1, 1,  ..., 0, 0, 0],\n",
      "        [1, 1, 1,  ..., 0, 0, 0],\n",
      "        ...,\n",
      "        [1, 1, 1,  ..., 0, 0, 0],\n",
      "        [1, 1, 1,  ..., 0, 0, 0],\n",
      "        [1, 1, 1,  ..., 0, 0, 0]])}\n",
      "{'label': tensor([0, 0, 0, 0, 0, 0, 1, 0, 0, 1, 1, 0, 0, 0, 1, 0]), 'input_ids': tensor([[ 2, 13,  1,  ...,  0,  0,  0],\n",
      "        [ 2, 13,  1,  ...,  0,  0,  0],\n",
      "        [ 2, 13,  1,  ...,  0,  0,  0],\n",
      "        ...,\n",
      "        [ 2, 13,  1,  ...,  0,  0,  0],\n",
      "        [ 2, 13,  1,  ...,  0,  0,  0],\n",
      "        [ 2, 13,  1,  ...,  0,  0,  0]]), 'attention_mask': tensor([[1, 1, 1,  ..., 0, 0, 0],\n",
      "        [1, 1, 1,  ..., 0, 0, 0],\n",
      "        [1, 1, 1,  ..., 0, 0, 0],\n",
      "        ...,\n",
      "        [1, 1, 1,  ..., 0, 0, 0],\n",
      "        [1, 1, 1,  ..., 0, 0, 0],\n",
      "        [1, 1, 1,  ..., 0, 0, 0]])}\n",
      "{'label': tensor([1, 0, 1, 1, 0, 1, 1, 1, 1, 0, 0, 0, 0, 0, 0, 1]), 'input_ids': tensor([[ 2, 13,  1,  ...,  0,  0,  0],\n",
      "        [ 2, 13,  1,  ...,  0,  0,  0],\n",
      "        [ 2, 13,  1,  ...,  0,  0,  0],\n",
      "        ...,\n",
      "        [ 2, 13,  1,  ...,  0,  0,  0],\n",
      "        [ 2, 13,  1,  ...,  0,  0,  0],\n",
      "        [ 2, 13,  1,  ...,  0,  0,  0]]), 'attention_mask': tensor([[1, 1, 1,  ..., 0, 0, 0],\n",
      "        [1, 1, 1,  ..., 0, 0, 0],\n",
      "        [1, 1, 1,  ..., 0, 0, 0],\n",
      "        ...,\n",
      "        [1, 1, 1,  ..., 0, 0, 0],\n",
      "        [1, 1, 1,  ..., 0, 0, 0],\n",
      "        [1, 1, 1,  ..., 0, 0, 0]])}\n",
      "{'label': tensor([0, 1, 0, 1, 0, 0, 1, 0, 1, 1, 0, 0, 0, 0, 0, 1]), 'input_ids': tensor([[ 2, 13,  1,  ...,  0,  0,  0],\n",
      "        [ 2, 13,  1,  ...,  0,  0,  0],\n",
      "        [ 2, 13,  1,  ...,  0,  0,  0],\n",
      "        ...,\n",
      "        [ 2, 13,  1,  ...,  0,  0,  0],\n",
      "        [ 2, 13,  1,  ...,  0,  0,  0],\n",
      "        [ 2, 13,  1,  ...,  0,  0,  0]]), 'attention_mask': tensor([[1, 1, 1,  ..., 0, 0, 0],\n",
      "        [1, 1, 1,  ..., 0, 0, 0],\n",
      "        [1, 1, 1,  ..., 0, 0, 0],\n",
      "        ...,\n",
      "        [1, 1, 1,  ..., 0, 0, 0],\n",
      "        [1, 1, 1,  ..., 0, 0, 0],\n",
      "        [1, 1, 1,  ..., 0, 0, 0]])}\n",
      "{'label': tensor([0, 0, 0, 0, 0, 0, 0, 1, 0, 1, 1, 1, 0, 0, 0, 0]), 'input_ids': tensor([[ 2, 13,  1,  ...,  0,  0,  0],\n",
      "        [ 2, 13,  1,  ...,  0,  0,  0],\n",
      "        [ 2, 13,  1,  ...,  0,  0,  0],\n",
      "        ...,\n",
      "        [ 2, 13,  1,  ...,  0,  0,  0],\n",
      "        [ 2, 13,  1,  ...,  0,  0,  0],\n",
      "        [ 2, 13,  9,  ...,  0,  0,  0]]), 'attention_mask': tensor([[1, 1, 1,  ..., 0, 0, 0],\n",
      "        [1, 1, 1,  ..., 0, 0, 0],\n",
      "        [1, 1, 1,  ..., 0, 0, 0],\n",
      "        ...,\n",
      "        [1, 1, 1,  ..., 0, 0, 0],\n",
      "        [1, 1, 1,  ..., 0, 0, 0],\n",
      "        [1, 1, 1,  ..., 0, 0, 0]])}\n",
      "{'label': tensor([1, 0, 0, 1, 0, 0, 0, 0, 0, 0, 0, 0, 1, 1, 1, 0]), 'input_ids': tensor([[    2,    13,     1,  ...,     0,     0,     0],\n",
      "        [    2,    13,     1,  ...,     0,     0,     0],\n",
      "        [    2,    13,     1,  ...,     0,     0,     0],\n",
      "        ...,\n",
      "        [    2, 24820,    33,  ...,     0,     0,     0],\n",
      "        [    2,    13,     1,  ...,     0,     0,     0],\n",
      "        [    2,    13,     1,  ...,     0,     0,     0]]), 'attention_mask': tensor([[1, 1, 1,  ..., 0, 0, 0],\n",
      "        [1, 1, 1,  ..., 0, 0, 0],\n",
      "        [1, 1, 1,  ..., 0, 0, 0],\n",
      "        ...,\n",
      "        [1, 1, 1,  ..., 0, 0, 0],\n",
      "        [1, 1, 1,  ..., 0, 0, 0],\n",
      "        [1, 1, 1,  ..., 0, 0, 0]])}\n",
      "{'label': tensor([1, 0, 0, 0, 1, 1, 0, 0, 0, 0, 0, 0, 0, 0, 0, 0]), 'input_ids': tensor([[ 2, 13,  1,  ...,  0,  0,  0],\n",
      "        [ 2, 13,  1,  ...,  0,  0,  0],\n",
      "        [ 2, 13,  1,  ...,  0,  0,  0],\n",
      "        ...,\n",
      "        [ 2, 13,  1,  ...,  0,  0,  0],\n",
      "        [ 2, 13,  1,  ...,  0,  0,  0],\n",
      "        [ 2, 13,  1,  ...,  0,  0,  0]]), 'attention_mask': tensor([[1, 1, 1,  ..., 0, 0, 0],\n",
      "        [1, 1, 1,  ..., 0, 0, 0],\n",
      "        [1, 1, 1,  ..., 0, 0, 0],\n",
      "        ...,\n",
      "        [1, 1, 1,  ..., 0, 0, 0],\n",
      "        [1, 1, 1,  ..., 0, 0, 0],\n",
      "        [1, 1, 1,  ..., 0, 0, 0]])}\n",
      "{'label': tensor([1, 0, 0, 1, 0, 0, 0, 0, 0, 1, 0, 0, 0, 0, 1, 0]), 'input_ids': tensor([[ 2, 13,  1,  ...,  0,  0,  0],\n",
      "        [ 2, 13,  1,  ...,  0,  0,  0],\n",
      "        [ 2, 13,  9,  ...,  0,  0,  0],\n",
      "        ...,\n",
      "        [ 2, 13,  1,  ...,  0,  0,  0],\n",
      "        [ 2, 13,  1,  ...,  0,  0,  0],\n",
      "        [ 2, 13,  1,  ...,  0,  0,  0]]), 'attention_mask': tensor([[1, 1, 1,  ..., 0, 0, 0],\n",
      "        [1, 1, 1,  ..., 0, 0, 0],\n",
      "        [1, 1, 1,  ..., 0, 0, 0],\n",
      "        ...,\n",
      "        [1, 1, 1,  ..., 0, 0, 0],\n",
      "        [1, 1, 1,  ..., 0, 0, 0],\n",
      "        [1, 1, 1,  ..., 0, 0, 0]])}\n",
      "{'label': tensor([1, 0, 1, 0, 0, 1, 0, 1, 1, 1, 0, 0, 0, 0, 0, 1]), 'input_ids': tensor([[ 2, 13,  1,  ...,  0,  0,  0],\n",
      "        [ 2, 13,  1,  ...,  0,  0,  0],\n",
      "        [ 2, 13,  1,  ...,  0,  0,  0],\n",
      "        ...,\n",
      "        [ 2, 13,  1,  ...,  0,  0,  0],\n",
      "        [ 2, 13,  1,  ...,  0,  0,  0],\n",
      "        [ 2, 13,  1,  ...,  0,  0,  0]]), 'attention_mask': tensor([[1, 1, 1,  ..., 0, 0, 0],\n",
      "        [1, 1, 1,  ..., 0, 0, 0],\n",
      "        [1, 1, 1,  ..., 0, 0, 0],\n",
      "        ...,\n",
      "        [1, 1, 1,  ..., 0, 0, 0],\n",
      "        [1, 1, 1,  ..., 0, 0, 0],\n",
      "        [1, 1, 1,  ..., 0, 0, 0]])}\n",
      "{'label': tensor([0, 0, 1, 0, 0, 0, 0, 0, 0, 0, 1, 0, 1, 0, 0, 0]), 'input_ids': tensor([[ 2, 13,  1,  ...,  0,  0,  0],\n",
      "        [ 2, 13,  1,  ...,  0,  0,  0],\n",
      "        [ 2, 13,  1,  ...,  0,  0,  0],\n",
      "        ...,\n",
      "        [ 2, 13,  1,  ...,  0,  0,  0],\n",
      "        [ 2, 13,  1,  ...,  0,  0,  0],\n",
      "        [ 2, 13,  1,  ...,  0,  0,  0]]), 'attention_mask': tensor([[1, 1, 1,  ..., 0, 0, 0],\n",
      "        [1, 1, 1,  ..., 0, 0, 0],\n",
      "        [1, 1, 1,  ..., 0, 0, 0],\n",
      "        ...,\n",
      "        [1, 1, 1,  ..., 0, 0, 0],\n",
      "        [1, 1, 1,  ..., 0, 0, 0],\n",
      "        [1, 1, 1,  ..., 0, 0, 0]])}\n",
      "{'label': tensor([0, 0, 0, 1, 1, 0, 1, 0, 0, 0, 1, 1, 0, 1, 0, 1]), 'input_ids': tensor([[ 2, 13,  1,  ...,  0,  0,  0],\n",
      "        [ 2, 13,  1,  ...,  0,  0,  0],\n",
      "        [ 2, 13,  1,  ...,  0,  0,  0],\n",
      "        ...,\n",
      "        [ 2, 13,  1,  ...,  0,  0,  0],\n",
      "        [ 2, 13,  1,  ...,  0,  0,  0],\n",
      "        [ 2, 13,  1,  ...,  0,  0,  0]]), 'attention_mask': tensor([[1, 1, 1,  ..., 0, 0, 0],\n",
      "        [1, 1, 1,  ..., 0, 0, 0],\n",
      "        [1, 1, 1,  ..., 0, 0, 0],\n",
      "        ...,\n",
      "        [1, 1, 1,  ..., 0, 0, 0],\n",
      "        [1, 1, 1,  ..., 0, 0, 0],\n",
      "        [1, 1, 1,  ..., 0, 0, 0]])}\n",
      "{'label': tensor([0, 1, 0, 0, 0, 0, 0, 1, 0, 1, 0, 0, 0, 1, 0, 0]), 'input_ids': tensor([[ 2, 13,  1,  ...,  0,  0,  0],\n",
      "        [ 2, 13,  1,  ...,  0,  0,  0],\n",
      "        [ 2, 13,  1,  ...,  0,  0,  0],\n",
      "        ...,\n",
      "        [ 2, 13,  1,  ...,  0,  0,  0],\n",
      "        [ 2, 13,  1,  ...,  0,  0,  0],\n",
      "        [ 2, 13,  1,  ...,  0,  0,  0]]), 'attention_mask': tensor([[1, 1, 1,  ..., 0, 0, 0],\n",
      "        [1, 1, 1,  ..., 0, 0, 0],\n",
      "        [1, 1, 1,  ..., 0, 0, 0],\n",
      "        ...,\n",
      "        [1, 1, 1,  ..., 0, 0, 0],\n",
      "        [1, 1, 1,  ..., 0, 0, 0],\n",
      "        [1, 1, 1,  ..., 0, 0, 0]])}\n",
      "{'label': tensor([1, 0, 0, 1, 0, 0, 0, 0, 0, 0, 0, 1, 0, 1, 1, 0]), 'input_ids': tensor([[ 2, 13,  1,  ...,  0,  0,  0],\n",
      "        [ 2, 13,  1,  ...,  0,  0,  0],\n",
      "        [ 2, 13,  1,  ...,  0,  0,  0],\n",
      "        ...,\n",
      "        [ 2, 13,  9,  ...,  0,  0,  0],\n",
      "        [ 2, 13,  1,  ...,  0,  0,  0],\n",
      "        [ 2, 13,  1,  ...,  0,  0,  0]]), 'attention_mask': tensor([[1, 1, 1,  ..., 0, 0, 0],\n",
      "        [1, 1, 1,  ..., 0, 0, 0],\n",
      "        [1, 1, 1,  ..., 0, 0, 0],\n",
      "        ...,\n",
      "        [1, 1, 1,  ..., 0, 0, 0],\n",
      "        [1, 1, 1,  ..., 0, 0, 0],\n",
      "        [1, 1, 1,  ..., 0, 0, 0]])}\n",
      "{'label': tensor([0, 1, 0, 1, 1, 1, 0, 1, 0, 0, 0, 0, 1, 1, 0, 0]), 'input_ids': tensor([[  2, 483,  14,  ...,   0,   0,   0],\n",
      "        [  2,  13,   1,  ...,   0,   0,   0],\n",
      "        [  2,  13,   1,  ...,   0,   0,   0],\n",
      "        ...,\n",
      "        [  2,  13,   1,  ...,   0,   0,   0],\n",
      "        [  2,  48, 208,  ...,   0,   0,   0],\n",
      "        [  2,  13,   1,  ...,   0,   0,   0]]), 'attention_mask': tensor([[1, 1, 1,  ..., 0, 0, 0],\n",
      "        [1, 1, 1,  ..., 0, 0, 0],\n",
      "        [1, 1, 1,  ..., 0, 0, 0],\n",
      "        ...,\n",
      "        [1, 1, 1,  ..., 0, 0, 0],\n",
      "        [1, 1, 1,  ..., 0, 0, 0],\n",
      "        [1, 1, 1,  ..., 0, 0, 0]])}\n",
      "{'label': tensor([0, 1, 0, 0, 0, 1, 0, 1, 1, 0, 0, 0, 1, 0, 1, 1]), 'input_ids': tensor([[ 2, 13,  1,  ...,  0,  0,  0],\n",
      "        [ 2, 13,  1,  ...,  0,  0,  0],\n",
      "        [ 2, 13,  1,  ...,  0,  0,  0],\n",
      "        ...,\n",
      "        [ 2, 13,  1,  ...,  0,  0,  0],\n",
      "        [ 2, 13,  1,  ...,  0,  0,  0],\n",
      "        [ 2, 13,  1,  ...,  0,  0,  0]]), 'attention_mask': tensor([[1, 1, 1,  ..., 0, 0, 0],\n",
      "        [1, 1, 1,  ..., 0, 0, 0],\n",
      "        [1, 1, 1,  ..., 0, 0, 0],\n",
      "        ...,\n",
      "        [1, 1, 1,  ..., 0, 0, 0],\n",
      "        [1, 1, 1,  ..., 0, 0, 0],\n",
      "        [1, 1, 1,  ..., 0, 0, 0]])}\n",
      "{'label': tensor([0, 0, 0, 1, 0, 0, 0, 1, 0, 0, 0, 0, 0, 1, 0, 0]), 'input_ids': tensor([[ 2, 13,  1,  ...,  0,  0,  0],\n",
      "        [ 2, 13,  1,  ...,  0,  0,  0],\n",
      "        [ 2, 13,  1,  ...,  0,  0,  0],\n",
      "        ...,\n",
      "        [ 2, 13,  1,  ...,  0,  0,  0],\n",
      "        [ 2, 13,  1,  ...,  0,  0,  0],\n",
      "        [ 2, 13,  1,  ...,  0,  0,  0]]), 'attention_mask': tensor([[1, 1, 1,  ..., 0, 0, 0],\n",
      "        [1, 1, 1,  ..., 0, 0, 0],\n",
      "        [1, 1, 1,  ..., 0, 0, 0],\n",
      "        ...,\n",
      "        [1, 1, 1,  ..., 0, 0, 0],\n",
      "        [1, 1, 1,  ..., 0, 0, 0],\n",
      "        [1, 1, 1,  ..., 0, 0, 0]])}\n",
      "{'label': tensor([0, 0, 1, 0, 0, 1, 0, 0, 0, 0, 0, 1, 0, 0, 1, 0]), 'input_ids': tensor([[ 2, 13,  1,  ...,  0,  0,  0],\n",
      "        [ 2, 13,  1,  ...,  0,  0,  0],\n",
      "        [ 2, 13,  1,  ...,  0,  0,  0],\n",
      "        ...,\n",
      "        [ 2, 13,  1,  ...,  0,  0,  0],\n",
      "        [ 2, 13,  1,  ...,  0,  0,  0],\n",
      "        [ 2, 13,  1,  ...,  0,  0,  0]]), 'attention_mask': tensor([[1, 1, 1,  ..., 0, 0, 0],\n",
      "        [1, 1, 1,  ..., 0, 0, 0],\n",
      "        [1, 1, 1,  ..., 0, 0, 0],\n",
      "        ...,\n",
      "        [1, 1, 1,  ..., 0, 0, 0],\n",
      "        [1, 1, 1,  ..., 0, 0, 0],\n",
      "        [1, 1, 1,  ..., 0, 0, 0]])}\n",
      "{'label': tensor([0, 1, 1, 1, 0, 0, 0, 1, 1, 0, 0, 0, 0, 0, 0, 1]), 'input_ids': tensor([[   2,   13,    1,  ...,    0,    0,    0],\n",
      "        [   2,   13,    9,  ...,    0,    0,    0],\n",
      "        [   2,   13,    1,  ...,    0,    0,    0],\n",
      "        ...,\n",
      "        [   2, 6926, 1224,  ...,    0,    0,    0],\n",
      "        [   2,   13,    1,  ...,    0,    0,    0],\n",
      "        [   2,   13,    1,  ...,    0,    0,    0]]), 'attention_mask': tensor([[1, 1, 1,  ..., 0, 0, 0],\n",
      "        [1, 1, 1,  ..., 0, 0, 0],\n",
      "        [1, 1, 1,  ..., 0, 0, 0],\n",
      "        ...,\n",
      "        [1, 1, 1,  ..., 0, 0, 0],\n",
      "        [1, 1, 1,  ..., 0, 0, 0],\n",
      "        [1, 1, 1,  ..., 0, 0, 0]])}\n",
      "{'label': tensor([1, 0, 0, 0, 0, 0, 0, 1, 0, 0, 1, 0, 0, 1, 0, 1]), 'input_ids': tensor([[    2,    13,     1,  ...,     0,     0,     0],\n",
      "        [    2,    13,     1,  ...,     0,     0,     0],\n",
      "        [    2,    13,     1,  ...,     0,     0,     0],\n",
      "        ...,\n",
      "        [    2,    13,     1,  ...,     0,     0,     0],\n",
      "        [    2,    13, 13301,  ...,     0,     0,     0],\n",
      "        [    2,    21,  2350,  ...,     0,     0,     0]]), 'attention_mask': tensor([[1, 1, 1,  ..., 0, 0, 0],\n",
      "        [1, 1, 1,  ..., 0, 0, 0],\n",
      "        [1, 1, 1,  ..., 0, 0, 0],\n",
      "        ...,\n",
      "        [1, 1, 1,  ..., 0, 0, 0],\n",
      "        [1, 1, 1,  ..., 0, 0, 0],\n",
      "        [1, 1, 1,  ..., 0, 0, 0]])}\n",
      "{'label': tensor([0, 0, 0, 0, 0, 0, 0, 0, 1, 0, 0, 1, 0, 0, 1, 0]), 'input_ids': tensor([[ 2, 13,  1,  ...,  0,  0,  0],\n",
      "        [ 2, 13,  1,  ...,  0,  0,  0],\n",
      "        [ 2, 13,  1,  ...,  0,  0,  0],\n",
      "        ...,\n",
      "        [ 2, 13,  1,  ...,  0,  0,  0],\n",
      "        [ 2, 13,  1,  ...,  0,  0,  0],\n",
      "        [ 2, 13,  1,  ...,  0,  0,  0]]), 'attention_mask': tensor([[1, 1, 1,  ..., 0, 0, 0],\n",
      "        [1, 1, 1,  ..., 0, 0, 0],\n",
      "        [1, 1, 1,  ..., 0, 0, 0],\n",
      "        ...,\n",
      "        [1, 1, 1,  ..., 0, 0, 0],\n",
      "        [1, 1, 1,  ..., 0, 0, 0],\n",
      "        [1, 1, 1,  ..., 0, 0, 0]])}\n",
      "{'label': tensor([1, 0, 0, 1, 0, 1, 0, 1, 0, 0, 0, 1, 1, 0, 1, 1]), 'input_ids': tensor([[ 2, 13,  1,  ...,  0,  0,  0],\n",
      "        [ 2, 13,  1,  ...,  0,  0,  0],\n",
      "        [ 2, 13,  1,  ...,  0,  0,  0],\n",
      "        ...,\n",
      "        [ 2, 13,  1,  ...,  0,  0,  0],\n",
      "        [ 2, 13,  1,  ...,  0,  0,  0],\n",
      "        [ 2, 13,  1,  ...,  0,  0,  0]]), 'attention_mask': tensor([[1, 1, 1,  ..., 0, 0, 0],\n",
      "        [1, 1, 1,  ..., 0, 0, 0],\n",
      "        [1, 1, 1,  ..., 0, 0, 0],\n",
      "        ...,\n",
      "        [1, 1, 1,  ..., 0, 0, 0],\n",
      "        [1, 1, 1,  ..., 0, 0, 0],\n",
      "        [1, 1, 1,  ..., 0, 0, 0]])}\n",
      "{'label': tensor([1, 0, 0, 0, 1, 1, 1, 0, 0, 0, 0, 0, 0, 0, 0, 1]), 'input_ids': tensor([[   2, 5714,   22,  ...,    0,    0,    0],\n",
      "        [   2,   13,    1,  ...,    0,    0,    0],\n",
      "        [   2,   13,    1,  ...,    0,    0,    0],\n",
      "        ...,\n",
      "        [   2,   13,    1,  ...,    0,    0,    0],\n",
      "        [   2,   13,    1,  ...,    0,    0,    0],\n",
      "        [   2,   13,    1,  ...,    0,    0,    0]]), 'attention_mask': tensor([[1, 1, 1,  ..., 0, 0, 0],\n",
      "        [1, 1, 1,  ..., 0, 0, 0],\n",
      "        [1, 1, 1,  ..., 0, 0, 0],\n",
      "        ...,\n",
      "        [1, 1, 1,  ..., 0, 0, 0],\n",
      "        [1, 1, 1,  ..., 0, 0, 0],\n",
      "        [1, 1, 1,  ..., 0, 0, 0]])}\n",
      "{'label': tensor([0, 0, 0, 0, 0, 0, 1, 0, 1, 0, 0, 1, 0, 1, 0, 0]), 'input_ids': tensor([[ 2, 13,  1,  ...,  0,  0,  0],\n",
      "        [ 2, 13,  1,  ...,  0,  0,  0],\n",
      "        [ 2, 13,  1,  ...,  0,  0,  0],\n",
      "        ...,\n",
      "        [ 2, 13,  1,  ...,  0,  0,  0],\n",
      "        [ 2, 13,  1,  ...,  0,  0,  0],\n",
      "        [ 2, 13,  1,  ...,  0,  0,  0]]), 'attention_mask': tensor([[1, 1, 1,  ..., 0, 0, 0],\n",
      "        [1, 1, 1,  ..., 0, 0, 0],\n",
      "        [1, 1, 1,  ..., 0, 0, 0],\n",
      "        ...,\n",
      "        [1, 1, 1,  ..., 0, 0, 0],\n",
      "        [1, 1, 1,  ..., 0, 0, 0],\n",
      "        [1, 1, 1,  ..., 0, 0, 0]])}\n",
      "{'label': tensor([0, 1, 0, 1, 1, 0, 1, 0, 1, 0, 0, 1, 0, 0, 0, 0]), 'input_ids': tensor([[ 2, 13,  1,  ...,  0,  0,  0],\n",
      "        [ 2, 13,  1,  ...,  0,  0,  0],\n",
      "        [ 2, 13,  1,  ...,  0,  0,  0],\n",
      "        ...,\n",
      "        [ 2, 13,  1,  ...,  0,  0,  0],\n",
      "        [ 2, 13,  1,  ...,  0,  0,  0],\n",
      "        [ 2, 13,  1,  ...,  0,  0,  0]]), 'attention_mask': tensor([[1, 1, 1,  ..., 0, 0, 0],\n",
      "        [1, 1, 1,  ..., 0, 0, 0],\n",
      "        [1, 1, 1,  ..., 0, 0, 0],\n",
      "        ...,\n",
      "        [1, 1, 1,  ..., 0, 0, 0],\n",
      "        [1, 1, 1,  ..., 0, 0, 0],\n",
      "        [1, 1, 1,  ..., 0, 0, 0]])}\n",
      "{'label': tensor([0, 1, 1, 0, 1, 0, 0, 1, 0, 1, 0, 0, 1, 0, 0, 0]), 'input_ids': tensor([[ 2, 13,  1,  ...,  0,  0,  0],\n",
      "        [ 2, 13,  1,  ...,  0,  0,  0],\n",
      "        [ 2, 13,  1,  ...,  0,  0,  0],\n",
      "        ...,\n",
      "        [ 2, 13,  8,  ...,  0,  0,  0],\n",
      "        [ 2, 13,  1,  ...,  0,  0,  0],\n",
      "        [ 2, 13,  1,  ...,  0,  0,  0]]), 'attention_mask': tensor([[1, 1, 1,  ..., 0, 0, 0],\n",
      "        [1, 1, 1,  ..., 0, 0, 0],\n",
      "        [1, 1, 1,  ..., 0, 0, 0],\n",
      "        ...,\n",
      "        [1, 1, 1,  ..., 0, 0, 0],\n",
      "        [1, 1, 1,  ..., 0, 0, 0],\n",
      "        [1, 1, 1,  ..., 0, 0, 0]])}\n",
      "{'label': tensor([0, 0, 0, 0, 0, 0, 0, 0, 1, 0, 0, 0, 0, 0, 0, 0]), 'input_ids': tensor([[   2,   13,    1,  ...,    0,    0,    0],\n",
      "        [   2,   13,    1,  ...,    0,    0,    0],\n",
      "        [   2,   13,    1,  ...,    0,    0,    0],\n",
      "        ...,\n",
      "        [   2,   13,    1,  ...,    0,    0,    0],\n",
      "        [   2, 3531,   42,  ...,    0,    0,    0],\n",
      "        [   2,   13,    1,  ...,    0,    0,    0]]), 'attention_mask': tensor([[1, 1, 1,  ..., 0, 0, 0],\n",
      "        [1, 1, 1,  ..., 0, 0, 0],\n",
      "        [1, 1, 1,  ..., 0, 0, 0],\n",
      "        ...,\n",
      "        [1, 1, 1,  ..., 0, 0, 0],\n",
      "        [1, 1, 1,  ..., 0, 0, 0],\n",
      "        [1, 1, 1,  ..., 0, 0, 0]])}\n",
      "{'label': tensor([1, 0, 0, 0, 0, 1, 1, 0, 0, 1, 0, 0, 1, 0, 0, 1]), 'input_ids': tensor([[    2,    13,     1,  ...,     0,     0,     0],\n",
      "        [    2,    13,     1,  ...,     0,     0,     0],\n",
      "        [    2,    13,     1,  ...,     0,     0,     0],\n",
      "        ...,\n",
      "        [    2,    13,     1,  ...,     0,     0,     0],\n",
      "        [    2,    13,     1,  ...,     0,     0,     0],\n",
      "        [    2,    13,     1,  ...,     1, 16704,     3]]), 'attention_mask': tensor([[1, 1, 1,  ..., 0, 0, 0],\n",
      "        [1, 1, 1,  ..., 0, 0, 0],\n",
      "        [1, 1, 1,  ..., 0, 0, 0],\n",
      "        ...,\n",
      "        [1, 1, 1,  ..., 0, 0, 0],\n",
      "        [1, 1, 1,  ..., 0, 0, 0],\n",
      "        [1, 1, 1,  ..., 1, 1, 1]])}\n",
      "{'label': tensor([0, 0, 0, 1, 0, 1, 0, 1, 0, 0, 0, 1, 0, 1, 0, 1]), 'input_ids': tensor([[  2, 137,   9,  ...,   0,   0,   0],\n",
      "        [  2,  13,   1,  ...,   0,   0,   0],\n",
      "        [  2,  13,   1,  ...,   0,   0,   0],\n",
      "        ...,\n",
      "        [  2,  13,   1,  ...,   0,   0,   0],\n",
      "        [  2,  13,   1,  ...,   0,   0,   0],\n",
      "        [  2,  13,   1,  ...,   0,   0,   0]]), 'attention_mask': tensor([[1, 1, 1,  ..., 0, 0, 0],\n",
      "        [1, 1, 1,  ..., 0, 0, 0],\n",
      "        [1, 1, 1,  ..., 0, 0, 0],\n",
      "        ...,\n",
      "        [1, 1, 1,  ..., 0, 0, 0],\n",
      "        [1, 1, 1,  ..., 0, 0, 0],\n",
      "        [1, 1, 1,  ..., 0, 0, 0]])}\n",
      "{'label': tensor([1, 1, 0, 0, 1, 0, 0, 0, 0, 0, 0, 0, 0, 0, 0, 0]), 'input_ids': tensor([[ 2, 13,  1,  ...,  0,  0,  0],\n",
      "        [ 2, 13,  1,  ...,  0,  0,  0],\n",
      "        [ 2, 13,  1,  ...,  0,  0,  0],\n",
      "        ...,\n",
      "        [ 2, 13,  1,  ...,  0,  0,  0],\n",
      "        [ 2, 13,  1,  ...,  0,  0,  0],\n",
      "        [ 2, 13,  1,  ...,  0,  0,  0]]), 'attention_mask': tensor([[1, 1, 1,  ..., 0, 0, 0],\n",
      "        [1, 1, 1,  ..., 0, 0, 0],\n",
      "        [1, 1, 1,  ..., 0, 0, 0],\n",
      "        ...,\n",
      "        [1, 1, 1,  ..., 0, 0, 0],\n",
      "        [1, 1, 1,  ..., 0, 0, 0],\n",
      "        [1, 1, 1,  ..., 0, 0, 0]])}\n",
      "{'label': tensor([0, 0, 0, 1, 0, 0, 0, 0, 0, 0, 1, 0, 1, 0, 0, 0]), 'input_ids': tensor([[ 2, 13,  1,  ...,  0,  0,  0],\n",
      "        [ 2, 13,  1,  ...,  0,  0,  0],\n",
      "        [ 2, 13,  1,  ...,  0,  0,  0],\n",
      "        ...,\n",
      "        [ 2, 13,  1,  ...,  0,  0,  0],\n",
      "        [ 2, 13,  1,  ...,  0,  0,  0],\n",
      "        [ 2, 13,  1,  ...,  0,  0,  0]]), 'attention_mask': tensor([[1, 1, 1,  ..., 0, 0, 0],\n",
      "        [1, 1, 1,  ..., 0, 0, 0],\n",
      "        [1, 1, 1,  ..., 0, 0, 0],\n",
      "        ...,\n",
      "        [1, 1, 1,  ..., 0, 0, 0],\n",
      "        [1, 1, 1,  ..., 0, 0, 0],\n",
      "        [1, 1, 1,  ..., 0, 0, 0]])}\n",
      "{'label': tensor([0, 0, 0, 0, 0, 0, 0, 0, 0, 0, 0, 0, 1, 0, 0, 1]), 'input_ids': tensor([[   2, 1121,   31,  ...,    0,    0,    0],\n",
      "        [   2,   13,    1,  ...,    0,    0,    0],\n",
      "        [   2,   13,    1,  ...,    0,    0,    0],\n",
      "        ...,\n",
      "        [   2,   98,   14,  ...,    0,    0,    0],\n",
      "        [   2,   13,    1,  ...,    0,    0,    0],\n",
      "        [   2,   13,    1,  ...,    0,    0,    0]]), 'attention_mask': tensor([[1, 1, 1,  ..., 0, 0, 0],\n",
      "        [1, 1, 1,  ..., 0, 0, 0],\n",
      "        [1, 1, 1,  ..., 0, 0, 0],\n",
      "        ...,\n",
      "        [1, 1, 1,  ..., 0, 0, 0],\n",
      "        [1, 1, 1,  ..., 0, 0, 0],\n",
      "        [1, 1, 1,  ..., 0, 0, 0]])}\n",
      "{'label': tensor([0, 0, 0, 1, 0, 0, 1, 0, 0, 0, 0, 1, 0, 1, 0, 0]), 'input_ids': tensor([[ 2, 13,  1,  ...,  0,  0,  0],\n",
      "        [ 2, 13,  1,  ...,  0,  0,  0],\n",
      "        [ 2, 13,  1,  ...,  0,  0,  0],\n",
      "        ...,\n",
      "        [ 2, 13,  1,  ...,  0,  0,  0],\n",
      "        [ 2, 13,  1,  ...,  0,  0,  0],\n",
      "        [ 2, 13,  1,  ...,  0,  0,  0]]), 'attention_mask': tensor([[1, 1, 1,  ..., 0, 0, 0],\n",
      "        [1, 1, 1,  ..., 0, 0, 0],\n",
      "        [1, 1, 1,  ..., 0, 0, 0],\n",
      "        ...,\n",
      "        [1, 1, 1,  ..., 0, 0, 0],\n",
      "        [1, 1, 1,  ..., 0, 0, 0],\n",
      "        [1, 1, 1,  ..., 0, 0, 0]])}\n",
      "{'label': tensor([0, 1, 0, 0, 1, 0, 0, 1, 0, 0, 1, 0, 0, 1, 0, 1]), 'input_ids': tensor([[   2,   13,    1,  ...,    0,    0,    0],\n",
      "        [   2,   13,    1,  ...,    0,    0,    0],\n",
      "        [   2, 6926, 4583,  ...,    0,    0,    0],\n",
      "        ...,\n",
      "        [   2,   13,    1,  ...,    0,    0,    0],\n",
      "        [   2,   13,    1,  ...,    0,    0,    0],\n",
      "        [   2,   13,    1,  ...,    0,    0,    0]]), 'attention_mask': tensor([[1, 1, 1,  ..., 0, 0, 0],\n",
      "        [1, 1, 1,  ..., 0, 0, 0],\n",
      "        [1, 1, 1,  ..., 0, 0, 0],\n",
      "        ...,\n",
      "        [1, 1, 1,  ..., 0, 0, 0],\n",
      "        [1, 1, 1,  ..., 0, 0, 0],\n",
      "        [1, 1, 1,  ..., 0, 0, 0]])}\n",
      "{'label': tensor([0, 0, 0, 0, 0, 0, 0, 0, 0, 0, 0, 0, 0, 0, 0, 0]), 'input_ids': tensor([[ 2, 13,  1,  ...,  0,  0,  0],\n",
      "        [ 2, 13,  1,  ...,  0,  0,  0],\n",
      "        [ 2, 13,  1,  ...,  0,  0,  0],\n",
      "        ...,\n",
      "        [ 2, 13,  1,  ...,  0,  0,  0],\n",
      "        [ 2, 13,  1,  ...,  0,  0,  0],\n",
      "        [ 2, 13,  1,  ...,  0,  0,  0]]), 'attention_mask': tensor([[1, 1, 1,  ..., 0, 0, 0],\n",
      "        [1, 1, 1,  ..., 0, 0, 0],\n",
      "        [1, 1, 1,  ..., 0, 0, 0],\n",
      "        ...,\n",
      "        [1, 1, 1,  ..., 0, 0, 0],\n",
      "        [1, 1, 1,  ..., 0, 0, 0],\n",
      "        [1, 1, 1,  ..., 0, 0, 0]])}\n",
      "{'label': tensor([1, 0, 1, 0, 1, 0, 0, 1, 1, 1, 0, 0, 0, 0, 1, 1]), 'input_ids': tensor([[ 2, 13,  1,  ...,  0,  0,  0],\n",
      "        [ 2, 13,  1,  ...,  0,  0,  0],\n",
      "        [ 2, 13,  1,  ...,  0,  0,  0],\n",
      "        ...,\n",
      "        [ 2, 13,  1,  ...,  0,  0,  0],\n",
      "        [ 2, 13,  1,  ...,  0,  0,  0],\n",
      "        [ 2, 13,  1,  ...,  0,  0,  0]]), 'attention_mask': tensor([[1, 1, 1,  ..., 0, 0, 0],\n",
      "        [1, 1, 1,  ..., 0, 0, 0],\n",
      "        [1, 1, 1,  ..., 0, 0, 0],\n",
      "        ...,\n",
      "        [1, 1, 1,  ..., 0, 0, 0],\n",
      "        [1, 1, 1,  ..., 0, 0, 0],\n",
      "        [1, 1, 1,  ..., 0, 0, 0]])}\n",
      "{'label': tensor([0, 0, 0, 0, 0, 0, 0, 0, 0, 0, 0, 1, 0, 1, 0, 1]), 'input_ids': tensor([[  2,  13,   1,  ...,   0,   0,   0],\n",
      "        [  2,  13,   1,  ...,   0,   0,   0],\n",
      "        [  2,  13,   1,  ...,   0,   0,   0],\n",
      "        ...,\n",
      "        [  2,  13,   1,  ...,   0,   0,   0],\n",
      "        [  2, 453,  96,  ...,   0,   0,   0],\n",
      "        [  2,  13,   1,  ...,   0,   0,   0]]), 'attention_mask': tensor([[1, 1, 1,  ..., 0, 0, 0],\n",
      "        [1, 1, 1,  ..., 0, 0, 0],\n",
      "        [1, 1, 1,  ..., 0, 0, 0],\n",
      "        ...,\n",
      "        [1, 1, 1,  ..., 0, 0, 0],\n",
      "        [1, 1, 1,  ..., 0, 0, 0],\n",
      "        [1, 1, 1,  ..., 0, 0, 0]])}\n",
      "{'label': tensor([0, 0, 1, 0, 1, 0, 0, 0, 0, 0, 1, 0, 0, 1, 0, 0]), 'input_ids': tensor([[ 2, 13,  1,  ...,  0,  0,  0],\n",
      "        [ 2, 13,  1,  ...,  0,  0,  0],\n",
      "        [ 2, 13,  1,  ...,  0,  0,  0],\n",
      "        ...,\n",
      "        [ 2, 13,  1,  ...,  0,  0,  0],\n",
      "        [ 2, 13,  1,  ...,  0,  0,  0],\n",
      "        [ 2, 13,  1,  ...,  0,  0,  0]]), 'attention_mask': tensor([[1, 1, 1,  ..., 0, 0, 0],\n",
      "        [1, 1, 1,  ..., 0, 0, 0],\n",
      "        [1, 1, 1,  ..., 0, 0, 0],\n",
      "        ...,\n",
      "        [1, 1, 1,  ..., 0, 0, 0],\n",
      "        [1, 1, 1,  ..., 0, 0, 0],\n",
      "        [1, 1, 1,  ..., 0, 0, 0]])}\n",
      "{'label': tensor([1, 1, 0, 0, 0, 0, 1, 1, 0, 1, 0, 1, 1, 1, 0, 0]), 'input_ids': tensor([[   2, 6926, 8681,  ...,    0,    0,    0],\n",
      "        [   2,   13,    1,  ...,    0,    0,    0],\n",
      "        [   2,   13,    1,  ...,    0,    0,    0],\n",
      "        ...,\n",
      "        [   2,   13,    1,  ...,    0,    0,    0],\n",
      "        [   2,   13,    1,  ...,    0,    0,    0],\n",
      "        [   2,   13,    1,  ...,    0,    0,    0]]), 'attention_mask': tensor([[1, 1, 1,  ..., 0, 0, 0],\n",
      "        [1, 1, 1,  ..., 0, 0, 0],\n",
      "        [1, 1, 1,  ..., 0, 0, 0],\n",
      "        ...,\n",
      "        [1, 1, 1,  ..., 0, 0, 0],\n",
      "        [1, 1, 1,  ..., 0, 0, 0],\n",
      "        [1, 1, 1,  ..., 0, 0, 0]])}\n",
      "{'label': tensor([0, 0, 0, 1, 0, 1, 0, 0, 0, 0, 0, 0, 1, 1, 1, 0]), 'input_ids': tensor([[ 2, 13,  1,  ...,  0,  0,  0],\n",
      "        [ 2, 13,  1,  ...,  0,  0,  0],\n",
      "        [ 2, 13,  1,  ...,  0,  0,  0],\n",
      "        ...,\n",
      "        [ 2, 13,  1,  ...,  0,  0,  0],\n",
      "        [ 2, 13,  1,  ...,  0,  0,  0],\n",
      "        [ 2, 13,  1,  ...,  0,  0,  0]]), 'attention_mask': tensor([[1, 1, 1,  ..., 0, 0, 0],\n",
      "        [1, 1, 1,  ..., 0, 0, 0],\n",
      "        [1, 1, 1,  ..., 0, 0, 0],\n",
      "        ...,\n",
      "        [1, 1, 1,  ..., 0, 0, 0],\n",
      "        [1, 1, 1,  ..., 0, 0, 0],\n",
      "        [1, 1, 1,  ..., 0, 0, 0]])}\n",
      "{'label': tensor([0, 0, 0, 0, 0, 0, 1, 0, 0, 1, 0, 1, 1, 0, 0, 1]), 'input_ids': tensor([[ 2, 13,  1,  ...,  0,  0,  0],\n",
      "        [ 2, 13,  1,  ...,  0,  0,  0],\n",
      "        [ 2, 13,  1,  ...,  0,  0,  0],\n",
      "        ...,\n",
      "        [ 2, 13,  1,  ...,  0,  0,  0],\n",
      "        [ 2, 13,  1,  ...,  0,  0,  0],\n",
      "        [ 2, 13,  1,  ...,  0,  0,  0]]), 'attention_mask': tensor([[1, 1, 1,  ..., 0, 0, 0],\n",
      "        [1, 1, 1,  ..., 0, 0, 0],\n",
      "        [1, 1, 1,  ..., 0, 0, 0],\n",
      "        ...,\n",
      "        [1, 1, 1,  ..., 0, 0, 0],\n",
      "        [1, 1, 1,  ..., 0, 0, 0],\n",
      "        [1, 1, 1,  ..., 0, 0, 0]])}\n",
      "{'label': tensor([1, 0, 1, 1, 0, 0, 0, 0, 0, 0, 1, 0, 0, 1, 0, 0]), 'input_ids': tensor([[   2,   13,    1,  ...,    0,    0,    0],\n",
      "        [   2,   31, 2666,  ...,    0,    0,    0],\n",
      "        [   2,   13,    1,  ...,    0,    0,    0],\n",
      "        ...,\n",
      "        [   2,   13,    1,  ...,    0,    0,    0],\n",
      "        [   2,   13,    1,  ...,    0,    0,    0],\n",
      "        [   2,   13,    1,  ...,    0,    0,    0]]), 'attention_mask': tensor([[1, 1, 1,  ..., 0, 0, 0],\n",
      "        [1, 1, 1,  ..., 0, 0, 0],\n",
      "        [1, 1, 1,  ..., 0, 0, 0],\n",
      "        ...,\n",
      "        [1, 1, 1,  ..., 0, 0, 0],\n",
      "        [1, 1, 1,  ..., 0, 0, 0],\n",
      "        [1, 1, 1,  ..., 0, 0, 0]])}\n",
      "{'label': tensor([0, 0, 1, 1, 0, 1, 0, 1, 1, 0, 1, 0, 1, 0, 0, 1]), 'input_ids': tensor([[   2,   13,    1,  ...,    0,    0,    0],\n",
      "        [   2, 6926, 2264,  ...,    0,    0,    0],\n",
      "        [   2,   13,    1,  ...,    0,    0,    0],\n",
      "        ...,\n",
      "        [   2,   13,    1,  ...,    0,    0,    0],\n",
      "        [   2,   13,    1,  ...,    0,    0,    0],\n",
      "        [   2,   13,    1,  ...,    0,    0,    0]]), 'attention_mask': tensor([[1, 1, 1,  ..., 0, 0, 0],\n",
      "        [1, 1, 1,  ..., 0, 0, 0],\n",
      "        [1, 1, 1,  ..., 0, 0, 0],\n",
      "        ...,\n",
      "        [1, 1, 1,  ..., 0, 0, 0],\n",
      "        [1, 1, 1,  ..., 0, 0, 0],\n",
      "        [1, 1, 1,  ..., 0, 0, 0]])}\n",
      "{'label': tensor([0, 0, 1, 0, 0, 0, 1, 0, 1, 0, 1, 1, 1, 0, 0, 0]), 'input_ids': tensor([[   2,   13,    1,  ...,    0,    0,    0],\n",
      "        [   2,   13,    1,  ...,    0,    0,    0],\n",
      "        [   2,   13,    1,  ...,    0,    0,    0],\n",
      "        ...,\n",
      "        [   2,   13,    1,  ...,    0,    0,    0],\n",
      "        [   2,   13,    1,  ...,    0,    0,    0],\n",
      "        [   2,  268, 1063,  ...,    0,    0,    0]]), 'attention_mask': tensor([[1, 1, 1,  ..., 0, 0, 0],\n",
      "        [1, 1, 1,  ..., 0, 0, 0],\n",
      "        [1, 1, 1,  ..., 0, 0, 0],\n",
      "        ...,\n",
      "        [1, 1, 1,  ..., 0, 0, 0],\n",
      "        [1, 1, 1,  ..., 0, 0, 0],\n",
      "        [1, 1, 1,  ..., 0, 0, 0]])}\n",
      "{'label': tensor([0, 0, 0, 0, 0, 0, 1, 1, 0, 1, 0, 0, 1, 0, 0, 1]), 'input_ids': tensor([[ 2, 13,  1,  ...,  0,  0,  0],\n",
      "        [ 2, 13,  1,  ...,  0,  0,  0],\n",
      "        [ 2, 13,  1,  ...,  0,  0,  0],\n",
      "        ...,\n",
      "        [ 2, 13,  1,  ...,  0,  0,  0],\n",
      "        [ 2, 13,  1,  ...,  0,  0,  0],\n",
      "        [ 2, 13,  1,  ...,  0,  0,  0]]), 'attention_mask': tensor([[1, 1, 1,  ..., 0, 0, 0],\n",
      "        [1, 1, 1,  ..., 0, 0, 0],\n",
      "        [1, 1, 1,  ..., 0, 0, 0],\n",
      "        ...,\n",
      "        [1, 1, 1,  ..., 0, 0, 0],\n",
      "        [1, 1, 1,  ..., 0, 0, 0],\n",
      "        [1, 1, 1,  ..., 0, 0, 0]])}\n",
      "{'label': tensor([0, 0, 0, 0, 0, 0, 1, 0, 0, 0, 0, 1, 0, 0, 0, 0]), 'input_ids': tensor([[ 2, 13,  1,  ...,  0,  0,  0],\n",
      "        [ 2, 13,  1,  ...,  0,  0,  0],\n",
      "        [ 2, 13,  1,  ...,  0,  0,  0],\n",
      "        ...,\n",
      "        [ 2, 13,  1,  ...,  0,  0,  0],\n",
      "        [ 2, 13,  1,  ...,  0,  0,  0],\n",
      "        [ 2, 13,  1,  ...,  0,  0,  0]]), 'attention_mask': tensor([[1, 1, 1,  ..., 0, 0, 0],\n",
      "        [1, 1, 1,  ..., 0, 0, 0],\n",
      "        [1, 1, 1,  ..., 0, 0, 0],\n",
      "        ...,\n",
      "        [1, 1, 1,  ..., 0, 0, 0],\n",
      "        [1, 1, 1,  ..., 0, 0, 0],\n",
      "        [1, 1, 1,  ..., 0, 0, 0]])}\n",
      "{'label': tensor([0, 1, 0, 0, 0, 0, 1, 1, 0, 0, 0, 0, 0, 0, 1, 0]), 'input_ids': tensor([[ 2, 13,  1,  ...,  0,  0,  0],\n",
      "        [ 2, 13,  1,  ...,  0,  0,  0],\n",
      "        [ 2, 13,  1,  ...,  0,  0,  0],\n",
      "        ...,\n",
      "        [ 2, 13,  1,  ...,  0,  0,  0],\n",
      "        [ 2, 13,  1,  ...,  0,  0,  0],\n",
      "        [ 2, 13,  1,  ...,  0,  0,  0]]), 'attention_mask': tensor([[1, 1, 1,  ..., 0, 0, 0],\n",
      "        [1, 1, 1,  ..., 0, 0, 0],\n",
      "        [1, 1, 1,  ..., 0, 0, 0],\n",
      "        ...,\n",
      "        [1, 1, 1,  ..., 0, 0, 0],\n",
      "        [1, 1, 1,  ..., 0, 0, 0],\n",
      "        [1, 1, 1,  ..., 0, 0, 0]])}\n",
      "{'label': tensor([1, 0, 0, 0, 1, 0, 0, 1, 1, 1, 0, 1, 0, 0, 0, 0]), 'input_ids': tensor([[  2,  13,   1,  ...,   0,   0,   0],\n",
      "        [  2,  13,   1,  ...,   0,   0,   0],\n",
      "        [  2, 148,  50,  ...,   0,   0,   0],\n",
      "        ...,\n",
      "        [  2,  13,   1,  ...,   0,   0,   0],\n",
      "        [  2,  13,   1,  ...,   0,   0,   0],\n",
      "        [  2,  13,   1,  ...,   0,   0,   0]]), 'attention_mask': tensor([[1, 1, 1,  ..., 0, 0, 0],\n",
      "        [1, 1, 1,  ..., 0, 0, 0],\n",
      "        [1, 1, 1,  ..., 0, 0, 0],\n",
      "        ...,\n",
      "        [1, 1, 1,  ..., 0, 0, 0],\n",
      "        [1, 1, 1,  ..., 0, 0, 0],\n",
      "        [1, 1, 1,  ..., 0, 0, 0]])}\n",
      "{'label': tensor([0, 0, 0, 0, 1, 1, 0, 0, 0, 0, 0, 0, 0, 0, 0, 0]), 'input_ids': tensor([[ 2, 13,  1,  ...,  0,  0,  0],\n",
      "        [ 2, 13,  1,  ...,  0,  0,  0],\n",
      "        [ 2, 13,  1,  ...,  0,  0,  0],\n",
      "        ...,\n",
      "        [ 2, 13,  1,  ...,  0,  0,  0],\n",
      "        [ 2, 13,  1,  ...,  0,  0,  0],\n",
      "        [ 2, 13,  1,  ...,  0,  0,  0]]), 'attention_mask': tensor([[1, 1, 1,  ..., 0, 0, 0],\n",
      "        [1, 1, 1,  ..., 0, 0, 0],\n",
      "        [1, 1, 1,  ..., 0, 0, 0],\n",
      "        ...,\n",
      "        [1, 1, 1,  ..., 0, 0, 0],\n",
      "        [1, 1, 1,  ..., 0, 0, 0],\n",
      "        [1, 1, 1,  ..., 0, 0, 0]])}\n",
      "{'label': tensor([0, 1, 1, 0, 0, 1, 1, 0, 1, 1, 0, 0, 0, 0, 0, 0]), 'input_ids': tensor([[   2,   13,    1,  ...,    0,    0,    0],\n",
      "        [   2,   13,    1,  ...,    0,    0,    0],\n",
      "        [   2,   13,    1,  ...,    0,    0,    0],\n",
      "        ...,\n",
      "        [   2, 6926, 1503,  ...,    0,    0,    0],\n",
      "        [   2,   13,    1,  ...,    0,    0,    0],\n",
      "        [   2,   13,    1,  ...,    0,    0,    0]]), 'attention_mask': tensor([[1, 1, 1,  ..., 0, 0, 0],\n",
      "        [1, 1, 1,  ..., 0, 0, 0],\n",
      "        [1, 1, 1,  ..., 0, 0, 0],\n",
      "        ...,\n",
      "        [1, 1, 1,  ..., 0, 0, 0],\n",
      "        [1, 1, 1,  ..., 0, 0, 0],\n",
      "        [1, 1, 1,  ..., 0, 0, 0]])}\n",
      "{'label': tensor([0, 0, 0, 1, 0, 0, 0, 0, 1, 0, 0, 0, 0, 1, 0, 0]), 'input_ids': tensor([[  2,  13,   1,  ...,   0,   0,   0],\n",
      "        [  2,  13,   1,  ...,   0,   0,   0],\n",
      "        [  2,  13,   1,  ...,   0,   0,   0],\n",
      "        ...,\n",
      "        [  2,  13,   1,  ...,   0,   0,   0],\n",
      "        [  2, 114,  21,  ...,   0,   0,   0],\n",
      "        [  2,  13,   1,  ...,   0,   0,   0]]), 'attention_mask': tensor([[1, 1, 1,  ..., 0, 0, 0],\n",
      "        [1, 1, 1,  ..., 0, 0, 0],\n",
      "        [1, 1, 1,  ..., 0, 0, 0],\n",
      "        ...,\n",
      "        [1, 1, 1,  ..., 0, 0, 0],\n",
      "        [1, 1, 1,  ..., 0, 0, 0],\n",
      "        [1, 1, 1,  ..., 0, 0, 0]])}\n",
      "{'label': tensor([1, 0, 0, 0, 0, 1, 0, 1, 0, 1, 1, 0, 0, 1, 0, 0]), 'input_ids': tensor([[ 2, 13,  1,  ...,  0,  0,  0],\n",
      "        [ 2, 13,  1,  ...,  0,  0,  0],\n",
      "        [ 2, 13,  1,  ...,  0,  0,  0],\n",
      "        ...,\n",
      "        [ 2, 13,  1,  ...,  0,  0,  0],\n",
      "        [ 2, 13,  1,  ...,  0,  0,  0],\n",
      "        [ 2, 13,  1,  ...,  0,  0,  0]]), 'attention_mask': tensor([[1, 1, 1,  ..., 0, 0, 0],\n",
      "        [1, 1, 1,  ..., 0, 0, 0],\n",
      "        [1, 1, 1,  ..., 0, 0, 0],\n",
      "        ...,\n",
      "        [1, 1, 1,  ..., 0, 0, 0],\n",
      "        [1, 1, 1,  ..., 0, 0, 0],\n",
      "        [1, 1, 1,  ..., 0, 0, 0]])}\n",
      "{'label': tensor([0, 0, 1, 0, 0, 0, 1, 0, 0, 0, 0, 0, 0, 1, 0, 0]), 'input_ids': tensor([[   2, 5896, 3129,  ...,    0,    0,    0],\n",
      "        [   2,   13,    1,  ...,    0,    0,    0],\n",
      "        [   2,   13,    1,  ...,    0,    0,    0],\n",
      "        ...,\n",
      "        [   2,   13,    1,  ...,    0,    0,    0],\n",
      "        [   2,   13,    1,  ...,    0,    0,    0],\n",
      "        [   2,   13,    1,  ...,    0,    0,    0]]), 'attention_mask': tensor([[1, 1, 1,  ..., 0, 0, 0],\n",
      "        [1, 1, 1,  ..., 0, 0, 0],\n",
      "        [1, 1, 1,  ..., 0, 0, 0],\n",
      "        ...,\n",
      "        [1, 1, 1,  ..., 0, 0, 0],\n",
      "        [1, 1, 1,  ..., 0, 0, 0],\n",
      "        [1, 1, 1,  ..., 0, 0, 0]])}\n",
      "{'label': tensor([0, 0, 0, 0, 0, 0, 0, 0, 1, 1, 0, 0, 0, 0, 1, 1]), 'input_ids': tensor([[   2,   27, 4619,  ...,    0,    0,    0],\n",
      "        [   2,   13,    1,  ...,    0,    0,    0],\n",
      "        [   2,   13,    1,  ...,    0,    0,    0],\n",
      "        ...,\n",
      "        [   2,   13,    1,  ...,    0,    0,    0],\n",
      "        [   2,   13,    1,  ...,    0,    0,    0],\n",
      "        [   2,   13,    1,  ...,    0,    0,    0]]), 'attention_mask': tensor([[1, 1, 1,  ..., 0, 0, 0],\n",
      "        [1, 1, 1,  ..., 0, 0, 0],\n",
      "        [1, 1, 1,  ..., 0, 0, 0],\n",
      "        ...,\n",
      "        [1, 1, 1,  ..., 0, 0, 0],\n",
      "        [1, 1, 1,  ..., 0, 0, 0],\n",
      "        [1, 1, 1,  ..., 0, 0, 0]])}\n",
      "{'label': tensor([0, 0, 0, 0, 0, 1, 0, 1, 1, 0, 0, 0, 1, 0, 0, 1]), 'input_ids': tensor([[ 2, 13,  1,  ...,  0,  0,  0],\n",
      "        [ 2, 13,  1,  ...,  0,  0,  0],\n",
      "        [ 2, 13,  1,  ...,  0,  0,  0],\n",
      "        ...,\n",
      "        [ 2, 13,  1,  ...,  0,  0,  0],\n",
      "        [ 2, 13,  1,  ...,  0,  0,  0],\n",
      "        [ 2, 13,  1,  ...,  0,  0,  0]]), 'attention_mask': tensor([[1, 1, 1,  ..., 0, 0, 0],\n",
      "        [1, 1, 1,  ..., 0, 0, 0],\n",
      "        [1, 1, 1,  ..., 0, 0, 0],\n",
      "        ...,\n",
      "        [1, 1, 1,  ..., 0, 0, 0],\n",
      "        [1, 1, 1,  ..., 0, 0, 0],\n",
      "        [1, 1, 1,  ..., 0, 0, 0]])}\n",
      "{'label': tensor([1, 0, 0, 0, 0, 1, 1, 0, 1, 0, 0, 1, 1, 0, 0, 1]), 'input_ids': tensor([[  2,  13,   1,  ...,   0,   0,   0],\n",
      "        [  2, 318, 104,  ...,   0,   0,   0],\n",
      "        [  2,  13,   1,  ...,   0,   0,   0],\n",
      "        ...,\n",
      "        [  2,  13,   1,  ...,   0,   0,   0],\n",
      "        [  2,  13,   1,  ...,   0,   0,   0],\n",
      "        [  2,  13,   1,  ...,   0,   0,   0]]), 'attention_mask': tensor([[1, 1, 1,  ..., 0, 0, 0],\n",
      "        [1, 1, 1,  ..., 0, 0, 0],\n",
      "        [1, 1, 1,  ..., 0, 0, 0],\n",
      "        ...,\n",
      "        [1, 1, 1,  ..., 0, 0, 0],\n",
      "        [1, 1, 1,  ..., 0, 0, 0],\n",
      "        [1, 1, 1,  ..., 0, 0, 0]])}\n",
      "{'label': tensor([1, 0, 1, 0, 1, 0, 0, 0, 1, 1, 0, 0, 0, 0, 0, 1]), 'input_ids': tensor([[ 2, 75, 65,  ...,  0,  0,  0],\n",
      "        [ 2, 13,  1,  ...,  0,  0,  0],\n",
      "        [ 2, 13,  1,  ...,  0,  0,  0],\n",
      "        ...,\n",
      "        [ 2, 13,  1,  ...,  0,  0,  0],\n",
      "        [ 2, 13,  1,  ...,  0,  0,  0],\n",
      "        [ 2, 13,  1,  ...,  0,  0,  0]]), 'attention_mask': tensor([[1, 1, 1,  ..., 0, 0, 0],\n",
      "        [1, 1, 1,  ..., 0, 0, 0],\n",
      "        [1, 1, 1,  ..., 0, 0, 0],\n",
      "        ...,\n",
      "        [1, 1, 1,  ..., 0, 0, 0],\n",
      "        [1, 1, 1,  ..., 0, 0, 0],\n",
      "        [1, 1, 1,  ..., 0, 0, 0]])}\n",
      "{'label': tensor([0, 0, 0, 0, 0, 0, 0, 0, 0, 0, 1, 0, 0, 0, 1, 1]), 'input_ids': tensor([[ 2, 13,  1,  ...,  0,  0,  0],\n",
      "        [ 2, 13,  1,  ...,  0,  0,  0],\n",
      "        [ 2, 13,  1,  ...,  0,  0,  0],\n",
      "        ...,\n",
      "        [ 2, 13,  1,  ...,  0,  0,  0],\n",
      "        [ 2, 13,  1,  ...,  0,  0,  0],\n",
      "        [ 2, 13,  1,  ...,  0,  0,  0]]), 'attention_mask': tensor([[1, 1, 1,  ..., 0, 0, 0],\n",
      "        [1, 1, 1,  ..., 0, 0, 0],\n",
      "        [1, 1, 1,  ..., 0, 0, 0],\n",
      "        ...,\n",
      "        [1, 1, 1,  ..., 0, 0, 0],\n",
      "        [1, 1, 1,  ..., 0, 0, 0],\n",
      "        [1, 1, 1,  ..., 0, 0, 0]])}\n",
      "{'label': tensor([0, 0, 0, 1, 0, 0, 0, 0, 0, 0, 1, 0, 0, 0, 0, 1]), 'input_ids': tensor([[ 2, 13,  1,  ...,  0,  0,  0],\n",
      "        [ 2, 13,  1,  ...,  0,  0,  0],\n",
      "        [ 2, 13,  1,  ...,  0,  0,  0],\n",
      "        ...,\n",
      "        [ 2, 13,  1,  ...,  0,  0,  0],\n",
      "        [ 2, 13,  1,  ...,  0,  0,  0],\n",
      "        [ 2, 13,  1,  ...,  0,  0,  0]]), 'attention_mask': tensor([[1, 1, 1,  ..., 0, 0, 0],\n",
      "        [1, 1, 1,  ..., 0, 0, 0],\n",
      "        [1, 1, 1,  ..., 0, 0, 0],\n",
      "        ...,\n",
      "        [1, 1, 1,  ..., 0, 0, 0],\n",
      "        [1, 1, 1,  ..., 0, 0, 0],\n",
      "        [1, 1, 1,  ..., 0, 0, 0]])}\n",
      "{'label': tensor([1, 1, 1, 0, 0, 0, 1, 0, 1, 1, 0, 0, 0, 0, 0, 0]), 'input_ids': tensor([[ 2, 13,  1,  ...,  0,  0,  0],\n",
      "        [ 2, 13,  1,  ...,  0,  0,  0],\n",
      "        [ 2, 13,  1,  ...,  0,  0,  0],\n",
      "        ...,\n",
      "        [ 2, 13,  1,  ...,  0,  0,  0],\n",
      "        [ 2, 13,  1,  ...,  0,  0,  0],\n",
      "        [ 2, 13,  1,  ...,  0,  0,  0]]), 'attention_mask': tensor([[1, 1, 1,  ..., 0, 0, 0],\n",
      "        [1, 1, 1,  ..., 0, 0, 0],\n",
      "        [1, 1, 1,  ..., 0, 0, 0],\n",
      "        ...,\n",
      "        [1, 1, 1,  ..., 0, 0, 0],\n",
      "        [1, 1, 1,  ..., 0, 0, 0],\n",
      "        [1, 1, 1,  ..., 0, 0, 0]])}\n",
      "{'label': tensor([0, 0, 1, 0, 1, 1, 0, 1, 0, 1, 0, 1, 0, 1, 1, 0]), 'input_ids': tensor([[ 2, 13,  1,  ...,  0,  0,  0],\n",
      "        [ 2, 13,  1,  ...,  0,  0,  0],\n",
      "        [ 2, 13,  1,  ...,  0,  0,  0],\n",
      "        ...,\n",
      "        [ 2, 13,  1,  ...,  0,  0,  0],\n",
      "        [ 2, 13,  1,  ...,  0,  0,  0],\n",
      "        [ 2, 13,  1,  ...,  0,  0,  0]]), 'attention_mask': tensor([[1, 1, 1,  ..., 0, 0, 0],\n",
      "        [1, 1, 1,  ..., 0, 0, 0],\n",
      "        [1, 1, 1,  ..., 0, 0, 0],\n",
      "        ...,\n",
      "        [1, 1, 1,  ..., 0, 0, 0],\n",
      "        [1, 1, 1,  ..., 0, 0, 0],\n",
      "        [1, 1, 1,  ..., 0, 0, 0]])}\n",
      "{'label': tensor([1, 0, 0, 0, 1, 1, 0, 0, 1, 1, 0, 0, 1, 0, 0, 1]), 'input_ids': tensor([[ 2, 13,  1,  ...,  0,  0,  0],\n",
      "        [ 2, 13,  1,  ...,  0,  0,  0],\n",
      "        [ 2, 13,  1,  ...,  0,  0,  0],\n",
      "        ...,\n",
      "        [ 2, 13,  1,  ...,  0,  0,  0],\n",
      "        [ 2, 13,  1,  ...,  0,  0,  0],\n",
      "        [ 2, 13,  1,  ...,  0,  0,  0]]), 'attention_mask': tensor([[1, 1, 1,  ..., 0, 0, 0],\n",
      "        [1, 1, 1,  ..., 0, 0, 0],\n",
      "        [1, 1, 1,  ..., 0, 0, 0],\n",
      "        ...,\n",
      "        [1, 1, 1,  ..., 0, 0, 0],\n",
      "        [1, 1, 1,  ..., 0, 0, 0],\n",
      "        [1, 1, 1,  ..., 0, 0, 0]])}\n",
      "{'label': tensor([0, 0, 0, 0, 0, 0, 0, 0, 0, 0, 0, 1, 0, 0, 0, 0]), 'input_ids': tensor([[ 2, 13,  1,  ...,  0,  0,  0],\n",
      "        [ 2, 13,  1,  ...,  0,  0,  0],\n",
      "        [ 2, 13,  1,  ...,  0,  0,  0],\n",
      "        ...,\n",
      "        [ 2, 13,  1,  ...,  0,  0,  0],\n",
      "        [ 2, 13,  1,  ...,  0,  0,  0],\n",
      "        [ 2, 13,  1,  ...,  0,  0,  0]]), 'attention_mask': tensor([[1, 1, 1,  ..., 0, 0, 0],\n",
      "        [1, 1, 1,  ..., 0, 0, 0],\n",
      "        [1, 1, 1,  ..., 0, 0, 0],\n",
      "        ...,\n",
      "        [1, 1, 1,  ..., 0, 0, 0],\n",
      "        [1, 1, 1,  ..., 0, 0, 0],\n",
      "        [1, 1, 1,  ..., 0, 0, 0]])}\n",
      "{'label': tensor([0, 1, 1, 1, 0, 1, 1, 0, 1, 0, 0, 0, 0, 1, 0, 1]), 'input_ids': tensor([[  2,  13,   1,  ...,   0,   0,   0],\n",
      "        [  2,  13,   1,  ...,   0,   0,   0],\n",
      "        [  2,  13,   1,  ...,   0,   0,   0],\n",
      "        ...,\n",
      "        [  2,  13,   1,  ...,   0,   0,   0],\n",
      "        [  2, 137,   9,  ...,   0,   0,   0],\n",
      "        [  2,  13,   1,  ...,   0,   0,   0]]), 'attention_mask': tensor([[1, 1, 1,  ..., 0, 0, 0],\n",
      "        [1, 1, 1,  ..., 0, 0, 0],\n",
      "        [1, 1, 1,  ..., 0, 0, 0],\n",
      "        ...,\n",
      "        [1, 1, 1,  ..., 0, 0, 0],\n",
      "        [1, 1, 1,  ..., 0, 0, 0],\n",
      "        [1, 1, 1,  ..., 0, 0, 0]])}\n",
      "{'label': tensor([0, 0, 0, 1, 1, 0, 0, 0, 0, 1, 1, 1, 1, 1, 0, 1]), 'input_ids': tensor([[ 2, 13,  1,  ...,  0,  0,  0],\n",
      "        [ 2, 13,  1,  ...,  0,  0,  0],\n",
      "        [ 2, 13,  1,  ...,  0,  0,  0],\n",
      "        ...,\n",
      "        [ 2, 13,  1,  ...,  0,  0,  0],\n",
      "        [ 2, 13,  1,  ...,  0,  0,  0],\n",
      "        [ 2, 13,  1,  ...,  0,  0,  0]]), 'attention_mask': tensor([[1, 1, 1,  ..., 0, 0, 0],\n",
      "        [1, 1, 1,  ..., 0, 0, 0],\n",
      "        [1, 1, 1,  ..., 0, 0, 0],\n",
      "        ...,\n",
      "        [1, 1, 1,  ..., 0, 0, 0],\n",
      "        [1, 1, 1,  ..., 0, 0, 0],\n",
      "        [1, 1, 1,  ..., 0, 0, 0]])}\n",
      "{'label': tensor([1, 0, 0, 1, 0, 0, 0, 0, 0, 0, 0, 0, 0, 0, 0, 1]), 'input_ids': tensor([[ 2, 13,  1,  ...,  0,  0,  0],\n",
      "        [ 2, 13,  1,  ...,  0,  0,  0],\n",
      "        [ 2, 13,  1,  ...,  0,  0,  0],\n",
      "        ...,\n",
      "        [ 2, 13,  1,  ...,  0,  0,  0],\n",
      "        [ 2, 13,  1,  ...,  0,  0,  0],\n",
      "        [ 2, 13,  1,  ...,  0,  0,  0]]), 'attention_mask': tensor([[1, 1, 1,  ..., 0, 0, 0],\n",
      "        [1, 1, 1,  ..., 0, 0, 0],\n",
      "        [1, 1, 1,  ..., 0, 0, 0],\n",
      "        ...,\n",
      "        [1, 1, 1,  ..., 0, 0, 0],\n",
      "        [1, 1, 1,  ..., 0, 0, 0],\n",
      "        [1, 1, 1,  ..., 0, 0, 0]])}\n",
      "{'label': tensor([0, 0, 0, 0, 0, 1, 0, 0, 1, 0, 0, 0, 0, 0, 0, 0]), 'input_ids': tensor([[    2,   331, 18133,  ...,     0,     0,     0],\n",
      "        [    2,    13,     1,  ...,     1, 16704,     3],\n",
      "        [    2,    13,     1,  ...,     0,     0,     0],\n",
      "        ...,\n",
      "        [    2,    13,     1,  ...,     0,     0,     0],\n",
      "        [    2,    13,     1,  ...,     0,     0,     0],\n",
      "        [    2,    13,     1,  ...,     0,     0,     0]]), 'attention_mask': tensor([[1, 1, 1,  ..., 0, 0, 0],\n",
      "        [1, 1, 1,  ..., 1, 1, 1],\n",
      "        [1, 1, 1,  ..., 0, 0, 0],\n",
      "        ...,\n",
      "        [1, 1, 1,  ..., 0, 0, 0],\n",
      "        [1, 1, 1,  ..., 0, 0, 0],\n",
      "        [1, 1, 1,  ..., 0, 0, 0]])}\n",
      "{'label': tensor([0, 1, 0, 0, 0, 0, 0, 1, 0, 1, 0, 0, 1, 0, 0, 0]), 'input_ids': tensor([[   2,   13,    1,  ...,    0,    0,    0],\n",
      "        [   2,   13,    1,  ...,    0,    0,    0],\n",
      "        [   2,   13,    1,  ...,    0,    0,    0],\n",
      "        ...,\n",
      "        [   2,   13,    1,  ...,    0,    0,    0],\n",
      "        [   2,   13,    1,  ...,    0,    0,    0],\n",
      "        [   2,  316, 1110,  ...,    0,    0,    0]]), 'attention_mask': tensor([[1, 1, 1,  ..., 0, 0, 0],\n",
      "        [1, 1, 1,  ..., 0, 0, 0],\n",
      "        [1, 1, 1,  ..., 0, 0, 0],\n",
      "        ...,\n",
      "        [1, 1, 1,  ..., 0, 0, 0],\n",
      "        [1, 1, 1,  ..., 0, 0, 0],\n",
      "        [1, 1, 1,  ..., 0, 0, 0]])}\n",
      "{'label': tensor([1, 0, 1, 0, 0, 1, 0, 0, 0, 0, 1, 0, 0, 1, 0, 0]), 'input_ids': tensor([[   2,   13,    1,  ...,    0,    0,    0],\n",
      "        [   2,   13,    1,  ...,    0,    0,    0],\n",
      "        [   2,   13,    1,  ...,    0,    0,    0],\n",
      "        ...,\n",
      "        [   2,   13,    1,  ...,    0,    0,    0],\n",
      "        [   2, 9713, 1572,  ...,    0,    0,    0],\n",
      "        [   2,   13,    1,  ...,    0,    0,    0]]), 'attention_mask': tensor([[1, 1, 1,  ..., 0, 0, 0],\n",
      "        [1, 1, 1,  ..., 0, 0, 0],\n",
      "        [1, 1, 1,  ..., 0, 0, 0],\n",
      "        ...,\n",
      "        [1, 1, 1,  ..., 0, 0, 0],\n",
      "        [1, 1, 1,  ..., 0, 0, 0],\n",
      "        [1, 1, 1,  ..., 0, 0, 0]])}\n",
      "{'label': tensor([1, 0, 0, 0, 1, 1, 0, 0, 1, 0, 1, 0, 0, 1, 1, 1]), 'input_ids': tensor([[   2,   13,    1,  ...,    0,    0,    0],\n",
      "        [   2,   13,    1,  ...,    0,    0,    0],\n",
      "        [   2,  114, 4382,  ...,    0,    0,    0],\n",
      "        ...,\n",
      "        [   2, 6926, 1841,  ...,    0,    0,    0],\n",
      "        [   2,   13,    1,  ...,    0,    0,    0],\n",
      "        [   2,   13,    1,  ...,    0,    0,    0]]), 'attention_mask': tensor([[1, 1, 1,  ..., 0, 0, 0],\n",
      "        [1, 1, 1,  ..., 0, 0, 0],\n",
      "        [1, 1, 1,  ..., 0, 0, 0],\n",
      "        ...,\n",
      "        [1, 1, 1,  ..., 0, 0, 0],\n",
      "        [1, 1, 1,  ..., 0, 0, 0],\n",
      "        [1, 1, 1,  ..., 0, 0, 0]])}\n",
      "{'label': tensor([0, 0, 0, 1, 0, 1, 0, 0, 1, 0, 0, 0, 0, 1, 1, 0]), 'input_ids': tensor([[   2, 7095,    1,  ...,    0,    0,    0],\n",
      "        [   2,   13,    1,  ...,    0,    0,    0],\n",
      "        [   2,   13,    1,  ...,    0,    0,    0],\n",
      "        ...,\n",
      "        [   2,   13,    1,  ...,    0,    0,    0],\n",
      "        [   2,   13,    1,  ...,    0,    0,    0],\n",
      "        [   2,   13,    1,  ...,    0,    0,    0]]), 'attention_mask': tensor([[1, 1, 1,  ..., 0, 0, 0],\n",
      "        [1, 1, 1,  ..., 0, 0, 0],\n",
      "        [1, 1, 1,  ..., 0, 0, 0],\n",
      "        ...,\n",
      "        [1, 1, 1,  ..., 0, 0, 0],\n",
      "        [1, 1, 1,  ..., 0, 0, 0],\n",
      "        [1, 1, 1,  ..., 0, 0, 0]])}\n",
      "{'label': tensor([1, 0, 1, 0, 0, 1, 0, 1, 0, 1, 0, 0, 1, 0, 0, 0]), 'input_ids': tensor([[ 2, 13,  1,  ...,  0,  0,  0],\n",
      "        [ 2, 13,  1,  ...,  0,  0,  0],\n",
      "        [ 2, 13,  1,  ...,  0,  0,  0],\n",
      "        ...,\n",
      "        [ 2, 13,  1,  ...,  0,  0,  0],\n",
      "        [ 2, 13,  1,  ...,  0,  0,  0],\n",
      "        [ 2, 13,  1,  ...,  0,  0,  0]]), 'attention_mask': tensor([[1, 1, 1,  ..., 0, 0, 0],\n",
      "        [1, 1, 1,  ..., 0, 0, 0],\n",
      "        [1, 1, 1,  ..., 0, 0, 0],\n",
      "        ...,\n",
      "        [1, 1, 1,  ..., 0, 0, 0],\n",
      "        [1, 1, 1,  ..., 0, 0, 0],\n",
      "        [1, 1, 1,  ..., 0, 0, 0]])}\n",
      "{'label': tensor([0, 1, 1, 1, 0, 1, 0, 0, 0, 0, 1, 1, 0, 1, 0, 0]), 'input_ids': tensor([[ 2, 13,  1,  ...,  0,  0,  0],\n",
      "        [ 2, 13,  1,  ...,  0,  0,  0],\n",
      "        [ 2, 13,  1,  ...,  0,  0,  0],\n",
      "        ...,\n",
      "        [ 2, 13,  1,  ...,  0,  0,  0],\n",
      "        [ 2, 13,  1,  ...,  0,  0,  0],\n",
      "        [ 2, 13,  1,  ...,  0,  0,  0]]), 'attention_mask': tensor([[1, 1, 1,  ..., 0, 0, 0],\n",
      "        [1, 1, 1,  ..., 0, 0, 0],\n",
      "        [1, 1, 1,  ..., 0, 0, 0],\n",
      "        ...,\n",
      "        [1, 1, 1,  ..., 0, 0, 0],\n",
      "        [1, 1, 1,  ..., 0, 0, 0],\n",
      "        [1, 1, 1,  ..., 0, 0, 0]])}\n",
      "{'label': tensor([0, 1, 0, 0, 1, 1, 0, 0, 0, 1, 0, 0, 0, 1, 0, 1]), 'input_ids': tensor([[ 2, 13,  1,  ...,  0,  0,  0],\n",
      "        [ 2, 13,  1,  ...,  0,  0,  0],\n",
      "        [ 2, 13,  1,  ...,  0,  0,  0],\n",
      "        ...,\n",
      "        [ 2, 13,  1,  ...,  0,  0,  0],\n",
      "        [ 2, 13,  1,  ...,  0,  0,  0],\n",
      "        [ 2, 13,  1,  ...,  0,  0,  0]]), 'attention_mask': tensor([[1, 1, 1,  ..., 0, 0, 0],\n",
      "        [1, 1, 1,  ..., 0, 0, 0],\n",
      "        [1, 1, 1,  ..., 0, 0, 0],\n",
      "        ...,\n",
      "        [1, 1, 1,  ..., 0, 0, 0],\n",
      "        [1, 1, 1,  ..., 0, 0, 0],\n",
      "        [1, 1, 1,  ..., 0, 0, 0]])}\n",
      "{'label': tensor([0, 0, 0, 1, 1, 0, 0, 0, 0, 0, 0, 1, 0, 0, 1, 0]), 'input_ids': tensor([[ 2, 13,  1,  ...,  0,  0,  0],\n",
      "        [ 2, 13,  1,  ...,  0,  0,  0],\n",
      "        [ 2, 13,  9,  ...,  0,  0,  0],\n",
      "        ...,\n",
      "        [ 2, 13,  1,  ...,  0,  0,  0],\n",
      "        [ 2, 13,  1,  ...,  0,  0,  0],\n",
      "        [ 2, 13,  1,  ...,  0,  0,  0]]), 'attention_mask': tensor([[1, 1, 1,  ..., 0, 0, 0],\n",
      "        [1, 1, 1,  ..., 0, 0, 0],\n",
      "        [1, 1, 1,  ..., 0, 0, 0],\n",
      "        ...,\n",
      "        [1, 1, 1,  ..., 0, 0, 0],\n",
      "        [1, 1, 1,  ..., 0, 0, 0],\n",
      "        [1, 1, 1,  ..., 0, 0, 0]])}\n",
      "{'label': tensor([0, 1, 1, 1, 0, 0, 0, 0, 0, 1, 0, 0, 0, 0, 1, 0]), 'input_ids': tensor([[ 2, 13,  1,  ...,  0,  0,  0],\n",
      "        [ 2, 13,  1,  ...,  0,  0,  0],\n",
      "        [ 2, 13,  1,  ...,  0,  0,  0],\n",
      "        ...,\n",
      "        [ 2, 13,  1,  ...,  0,  0,  0],\n",
      "        [ 2, 13,  1,  ...,  0,  0,  0],\n",
      "        [ 2, 13,  1,  ...,  0,  0,  0]]), 'attention_mask': tensor([[1, 1, 1,  ..., 0, 0, 0],\n",
      "        [1, 1, 1,  ..., 0, 0, 0],\n",
      "        [1, 1, 1,  ..., 0, 0, 0],\n",
      "        ...,\n",
      "        [1, 1, 1,  ..., 0, 0, 0],\n",
      "        [1, 1, 1,  ..., 0, 0, 0],\n",
      "        [1, 1, 1,  ..., 0, 0, 0]])}\n",
      "{'label': tensor([1, 0, 0, 0, 0, 0, 0, 0, 0, 0, 0, 0, 0, 1, 1, 1]), 'input_ids': tensor([[  2,  13,   1,  ...,   0,   0,   0],\n",
      "        [  2,  13,   1,  ...,   0,   0,   0],\n",
      "        [  2,  13,   1,  ...,   0,   0,   0],\n",
      "        ...,\n",
      "        [  2, 331,   8,  ...,   0,   0,   0],\n",
      "        [  2,  13,   1,  ...,   0,   0,   0],\n",
      "        [  2,  13,   1,  ...,   0,   0,   0]]), 'attention_mask': tensor([[1, 1, 1,  ..., 0, 0, 0],\n",
      "        [1, 1, 1,  ..., 0, 0, 0],\n",
      "        [1, 1, 1,  ..., 0, 0, 0],\n",
      "        ...,\n",
      "        [1, 1, 1,  ..., 0, 0, 0],\n",
      "        [1, 1, 1,  ..., 0, 0, 0],\n",
      "        [1, 1, 1,  ..., 0, 0, 0]])}\n",
      "{'label': tensor([0, 1, 1, 0, 0, 0, 0, 1, 0, 0, 0, 0, 0, 0, 0, 0]), 'input_ids': tensor([[   2,   13,    1,  ...,    0,    0,    0],\n",
      "        [   2,   13,    1,  ...,    0,    0,    0],\n",
      "        [   2,   13,    1,  ...,    0,    0,    0],\n",
      "        ...,\n",
      "        [   2,   13,    1,  ...,    0,    0,    0],\n",
      "        [   2,  406, 7095,  ...,    0,    0,    0],\n",
      "        [   2, 3892,  996,  ...,    0,    0,    0]]), 'attention_mask': tensor([[1, 1, 1,  ..., 0, 0, 0],\n",
      "        [1, 1, 1,  ..., 0, 0, 0],\n",
      "        [1, 1, 1,  ..., 0, 0, 0],\n",
      "        ...,\n",
      "        [1, 1, 1,  ..., 0, 0, 0],\n",
      "        [1, 1, 1,  ..., 0, 0, 0],\n",
      "        [1, 1, 1,  ..., 0, 0, 0]])}\n",
      "{'label': tensor([0, 0, 1, 1, 1, 1, 1, 0, 0, 0, 1, 1, 0, 1, 1, 0]), 'input_ids': tensor([[    2,    13,     1,  ...,     1, 16704,     3],\n",
      "        [    2,    13,     1,  ...,     0,     0,     0],\n",
      "        [    2,    13,     1,  ...,     0,     0,     0],\n",
      "        ...,\n",
      "        [    2,    13,     1,  ...,     0,     0,     0],\n",
      "        [    2,    13,     1,  ...,     0,     0,     0],\n",
      "        [    2,    13,     1,  ...,     0,     0,     0]]), 'attention_mask': tensor([[1, 1, 1,  ..., 1, 1, 1],\n",
      "        [1, 1, 1,  ..., 0, 0, 0],\n",
      "        [1, 1, 1,  ..., 0, 0, 0],\n",
      "        ...,\n",
      "        [1, 1, 1,  ..., 0, 0, 0],\n",
      "        [1, 1, 1,  ..., 0, 0, 0],\n",
      "        [1, 1, 1,  ..., 0, 0, 0]])}\n",
      "{'label': tensor([1, 1, 1, 1, 1, 1, 1, 0, 0, 1, 0, 0, 0, 0, 0, 0]), 'input_ids': tensor([[    2,    13,     1,  ...,     0,     0,     0],\n",
      "        [    2,    13,     1,  ...,     0,     0,     0],\n",
      "        [    2,    13,     1,  ...,     0,     0,     0],\n",
      "        ...,\n",
      "        [    2,  6926, 13819,  ...,     0,     0,     0],\n",
      "        [    2,    13,     1,  ...,     0,     0,     0],\n",
      "        [    2,    13,     1,  ...,     0,     0,     0]]), 'attention_mask': tensor([[1, 1, 1,  ..., 0, 0, 0],\n",
      "        [1, 1, 1,  ..., 0, 0, 0],\n",
      "        [1, 1, 1,  ..., 0, 0, 0],\n",
      "        ...,\n",
      "        [1, 1, 1,  ..., 0, 0, 0],\n",
      "        [1, 1, 1,  ..., 0, 0, 0],\n",
      "        [1, 1, 1,  ..., 0, 0, 0]])}\n",
      "{'label': tensor([1, 0, 0, 1, 1, 1, 0, 0, 1, 0, 0, 0, 0, 0, 0, 0]), 'input_ids': tensor([[ 2, 13,  1,  ...,  0,  0,  0],\n",
      "        [ 2, 13,  1,  ...,  0,  0,  0],\n",
      "        [ 2, 13,  1,  ...,  0,  0,  0],\n",
      "        ...,\n",
      "        [ 2, 13,  1,  ...,  0,  0,  0],\n",
      "        [ 2, 13,  1,  ...,  0,  0,  0],\n",
      "        [ 2, 13,  1,  ...,  0,  0,  0]]), 'attention_mask': tensor([[1, 1, 1,  ..., 0, 0, 0],\n",
      "        [1, 1, 1,  ..., 0, 0, 0],\n",
      "        [1, 1, 1,  ..., 0, 0, 0],\n",
      "        ...,\n",
      "        [1, 1, 1,  ..., 0, 0, 0],\n",
      "        [1, 1, 1,  ..., 0, 0, 0],\n",
      "        [1, 1, 1,  ..., 0, 0, 0]])}\n",
      "{'label': tensor([1, 0, 0, 0, 0, 1, 0, 1, 1, 1, 1, 1, 0, 0, 0, 1]), 'input_ids': tensor([[ 2, 13,  1,  ...,  0,  0,  0],\n",
      "        [ 2, 13,  1,  ...,  0,  0,  0],\n",
      "        [ 2, 13,  1,  ...,  0,  0,  0],\n",
      "        ...,\n",
      "        [ 2, 13,  1,  ...,  0,  0,  0],\n",
      "        [ 2, 13,  1,  ...,  0,  0,  0],\n",
      "        [ 2, 13,  1,  ...,  0,  0,  0]]), 'attention_mask': tensor([[1, 1, 1,  ..., 0, 0, 0],\n",
      "        [1, 1, 1,  ..., 0, 0, 0],\n",
      "        [1, 1, 1,  ..., 0, 0, 0],\n",
      "        ...,\n",
      "        [1, 1, 1,  ..., 0, 0, 0],\n",
      "        [1, 1, 1,  ..., 0, 0, 0],\n",
      "        [1, 1, 1,  ..., 0, 0, 0]])}\n",
      "{'label': tensor([0, 1, 0, 0, 1, 0, 0, 0, 1, 1, 1, 1, 0, 0, 0, 1]), 'input_ids': tensor([[   2,   13,    1,  ...,    0,    0,    0],\n",
      "        [   2,   13,    1,  ...,    0,    0,    0],\n",
      "        [   2, 5083,   19,  ...,    0,    0,    0],\n",
      "        ...,\n",
      "        [   2,   13,    1,  ...,    0,    0,    0],\n",
      "        [   2,   13,    1,  ...,    0,    0,    0],\n",
      "        [   2,   13,    1,  ...,    0,    0,    0]]), 'attention_mask': tensor([[1, 1, 1,  ..., 0, 0, 0],\n",
      "        [1, 1, 1,  ..., 0, 0, 0],\n",
      "        [1, 1, 1,  ..., 0, 0, 0],\n",
      "        ...,\n",
      "        [1, 1, 1,  ..., 0, 0, 0],\n",
      "        [1, 1, 1,  ..., 0, 0, 0],\n",
      "        [1, 1, 1,  ..., 0, 0, 0]])}\n",
      "{'label': tensor([1, 1, 1, 0, 0, 0, 0, 1, 1, 0, 0, 1, 0, 0, 0, 1]), 'input_ids': tensor([[   2, 6926, 8167,  ...,    0,    0,    0],\n",
      "        [   2,  137,    9,  ...,    0,    0,    0],\n",
      "        [   2,   13,    1,  ...,    0,    0,    0],\n",
      "        ...,\n",
      "        [   2,   13,    1,  ...,    0,    0,    0],\n",
      "        [   2,  332,  183,  ...,    0,    0,    0],\n",
      "        [   2,   13,    1,  ...,    0,    0,    0]]), 'attention_mask': tensor([[1, 1, 1,  ..., 0, 0, 0],\n",
      "        [1, 1, 1,  ..., 0, 0, 0],\n",
      "        [1, 1, 1,  ..., 0, 0, 0],\n",
      "        ...,\n",
      "        [1, 1, 1,  ..., 0, 0, 0],\n",
      "        [1, 1, 1,  ..., 0, 0, 0],\n",
      "        [1, 1, 1,  ..., 0, 0, 0]])}\n",
      "{'label': tensor([0, 0, 0, 0, 0, 0, 0, 0, 0, 0, 0, 0, 0, 1, 0, 1]), 'input_ids': tensor([[ 2, 13,  1,  ...,  0,  0,  0],\n",
      "        [ 2, 13,  1,  ...,  0,  0,  0],\n",
      "        [ 2, 13,  1,  ...,  0,  0,  0],\n",
      "        ...,\n",
      "        [ 2, 13,  1,  ...,  0,  0,  0],\n",
      "        [ 2, 13,  1,  ...,  0,  0,  0],\n",
      "        [ 2, 13,  1,  ...,  0,  0,  0]]), 'attention_mask': tensor([[1, 1, 1,  ..., 0, 0, 0],\n",
      "        [1, 1, 1,  ..., 0, 0, 0],\n",
      "        [1, 1, 1,  ..., 0, 0, 0],\n",
      "        ...,\n",
      "        [1, 1, 1,  ..., 0, 0, 0],\n",
      "        [1, 1, 1,  ..., 0, 0, 0],\n",
      "        [1, 1, 1,  ..., 0, 0, 0]])}\n",
      "{'label': tensor([1, 0, 0, 1, 1, 1, 1, 0, 1, 0, 0, 0, 0, 0, 0, 1]), 'input_ids': tensor([[ 2, 13,  1,  ...,  0,  0,  0],\n",
      "        [ 2, 13,  1,  ...,  0,  0,  0],\n",
      "        [ 2, 13,  1,  ...,  0,  0,  0],\n",
      "        ...,\n",
      "        [ 2, 13,  1,  ...,  0,  0,  0],\n",
      "        [ 2, 13,  1,  ...,  0,  0,  0],\n",
      "        [ 2, 13,  1,  ...,  0,  0,  0]]), 'attention_mask': tensor([[1, 1, 1,  ..., 0, 0, 0],\n",
      "        [1, 1, 1,  ..., 0, 0, 0],\n",
      "        [1, 1, 1,  ..., 0, 0, 0],\n",
      "        ...,\n",
      "        [1, 1, 1,  ..., 0, 0, 0],\n",
      "        [1, 1, 1,  ..., 0, 0, 0],\n",
      "        [1, 1, 1,  ..., 0, 0, 0]])}\n",
      "{'label': tensor([0, 0, 0, 0, 1, 0, 0, 1, 1, 1, 0, 1, 0, 0, 0, 0]), 'input_ids': tensor([[ 2, 13,  1,  ...,  0,  0,  0],\n",
      "        [ 2, 13,  1,  ...,  0,  0,  0],\n",
      "        [ 2, 13,  1,  ...,  0,  0,  0],\n",
      "        ...,\n",
      "        [ 2, 13,  1,  ...,  0,  0,  0],\n",
      "        [ 2, 13,  1,  ...,  0,  0,  0],\n",
      "        [ 2, 13,  1,  ...,  0,  0,  0]]), 'attention_mask': tensor([[1, 1, 1,  ..., 0, 0, 0],\n",
      "        [1, 1, 1,  ..., 0, 0, 0],\n",
      "        [1, 1, 1,  ..., 0, 0, 0],\n",
      "        ...,\n",
      "        [1, 1, 1,  ..., 0, 0, 0],\n",
      "        [1, 1, 1,  ..., 0, 0, 0],\n",
      "        [1, 1, 1,  ..., 0, 0, 0]])}\n",
      "{'label': tensor([0, 0, 1, 0, 0, 0, 0, 0, 1, 0, 0, 0, 0, 1, 1, 0]), 'input_ids': tensor([[ 2, 13,  1,  ...,  0,  0,  0],\n",
      "        [ 2, 13,  1,  ...,  0,  0,  0],\n",
      "        [ 2, 13,  1,  ...,  0,  0,  0],\n",
      "        ...,\n",
      "        [ 2, 42, 42,  ...,  0,  0,  0],\n",
      "        [ 2, 13,  1,  ...,  0,  0,  0],\n",
      "        [ 2, 13,  1,  ...,  0,  0,  0]]), 'attention_mask': tensor([[1, 1, 1,  ..., 0, 0, 0],\n",
      "        [1, 1, 1,  ..., 0, 0, 0],\n",
      "        [1, 1, 1,  ..., 0, 0, 0],\n",
      "        ...,\n",
      "        [1, 1, 1,  ..., 0, 0, 0],\n",
      "        [1, 1, 1,  ..., 0, 0, 0],\n",
      "        [1, 1, 1,  ..., 0, 0, 0]])}\n",
      "{'label': tensor([0, 0, 0, 0, 1, 0, 1, 1, 0, 0, 0, 0, 0, 0, 0, 0]), 'input_ids': tensor([[    2, 16789,   111,  ...,     0,     0,     0],\n",
      "        [    2,    13,     1,  ...,     0,     0,     0],\n",
      "        [    2,    13,     1,  ...,     0,     0,     0],\n",
      "        ...,\n",
      "        [    2,    13,     1,  ...,     0,     0,     0],\n",
      "        [    2,    13,     1,  ...,     0,     0,     0],\n",
      "        [    2,    13,     1,  ...,     0,     0,     0]]), 'attention_mask': tensor([[1, 1, 1,  ..., 0, 0, 0],\n",
      "        [1, 1, 1,  ..., 0, 0, 0],\n",
      "        [1, 1, 1,  ..., 0, 0, 0],\n",
      "        ...,\n",
      "        [1, 1, 1,  ..., 0, 0, 0],\n",
      "        [1, 1, 1,  ..., 0, 0, 0],\n",
      "        [1, 1, 1,  ..., 0, 0, 0]])}\n",
      "{'label': tensor([1, 0, 1, 0, 0, 1, 0, 0, 1, 1, 0, 0, 0, 1, 1, 0]), 'input_ids': tensor([[ 2, 13,  1,  ...,  0,  0,  0],\n",
      "        [ 2, 13,  1,  ...,  0,  0,  0],\n",
      "        [ 2, 13,  1,  ...,  0,  0,  0],\n",
      "        ...,\n",
      "        [ 2, 13,  1,  ...,  0,  0,  0],\n",
      "        [ 2, 13,  1,  ...,  0,  0,  0],\n",
      "        [ 2, 13,  1,  ...,  0,  0,  0]]), 'attention_mask': tensor([[1, 1, 1,  ..., 0, 0, 0],\n",
      "        [1, 1, 1,  ..., 0, 0, 0],\n",
      "        [1, 1, 1,  ..., 0, 0, 0],\n",
      "        ...,\n",
      "        [1, 1, 1,  ..., 0, 0, 0],\n",
      "        [1, 1, 1,  ..., 0, 0, 0],\n",
      "        [1, 1, 1,  ..., 0, 0, 0]])}\n",
      "{'label': tensor([1, 1, 1, 0, 0, 1, 0, 0, 0, 1, 1, 0, 0, 0, 1, 1]), 'input_ids': tensor([[ 2, 13,  1,  ...,  0,  0,  0],\n",
      "        [ 2, 13,  1,  ...,  0,  0,  0],\n",
      "        [ 2, 13,  1,  ...,  0,  0,  0],\n",
      "        ...,\n",
      "        [ 2, 13,  1,  ...,  0,  0,  0],\n",
      "        [ 2, 13,  1,  ...,  0,  0,  0],\n",
      "        [ 2, 13,  1,  ...,  0,  0,  0]]), 'attention_mask': tensor([[1, 1, 1,  ..., 0, 0, 0],\n",
      "        [1, 1, 1,  ..., 0, 0, 0],\n",
      "        [1, 1, 1,  ..., 0, 0, 0],\n",
      "        ...,\n",
      "        [1, 1, 1,  ..., 0, 0, 0],\n",
      "        [1, 1, 1,  ..., 0, 0, 0],\n",
      "        [1, 1, 1,  ..., 0, 0, 0]])}\n",
      "{'label': tensor([1, 0, 0, 0, 0, 1, 1, 0, 0, 1, 0, 1, 0, 1, 1, 1]), 'input_ids': tensor([[ 2, 13,  1,  ...,  0,  0,  0],\n",
      "        [ 2, 13,  1,  ...,  0,  0,  0],\n",
      "        [ 2, 13,  1,  ...,  0,  0,  0],\n",
      "        ...,\n",
      "        [ 2, 13,  1,  ...,  0,  0,  0],\n",
      "        [ 2, 13,  1,  ...,  0,  0,  0],\n",
      "        [ 2, 13,  1,  ...,  0,  0,  0]]), 'attention_mask': tensor([[1, 1, 1,  ..., 0, 0, 0],\n",
      "        [1, 1, 1,  ..., 0, 0, 0],\n",
      "        [1, 1, 1,  ..., 0, 0, 0],\n",
      "        ...,\n",
      "        [1, 1, 1,  ..., 0, 0, 0],\n",
      "        [1, 1, 1,  ..., 0, 0, 0],\n",
      "        [1, 1, 1,  ..., 0, 0, 0]])}\n",
      "{'label': tensor([0, 0, 0, 0, 0, 0, 1, 0, 0, 1, 0, 0, 1, 0, 0, 0]), 'input_ids': tensor([[ 2, 13,  1,  ...,  0,  0,  0],\n",
      "        [ 2, 13,  1,  ...,  0,  0,  0],\n",
      "        [ 2, 13,  1,  ...,  0,  0,  0],\n",
      "        ...,\n",
      "        [ 2, 13,  1,  ...,  0,  0,  0],\n",
      "        [ 2, 13,  1,  ...,  0,  0,  0],\n",
      "        [ 2, 13,  1,  ...,  0,  0,  0]]), 'attention_mask': tensor([[1, 1, 1,  ..., 0, 0, 0],\n",
      "        [1, 1, 1,  ..., 0, 0, 0],\n",
      "        [1, 1, 1,  ..., 0, 0, 0],\n",
      "        ...,\n",
      "        [1, 1, 1,  ..., 0, 0, 0],\n",
      "        [1, 1, 1,  ..., 0, 0, 0],\n",
      "        [1, 1, 1,  ..., 0, 0, 0]])}\n",
      "{'label': tensor([0, 0, 0, 0, 1, 0, 0, 0, 0, 0, 1, 1, 0, 1, 0, 0]), 'input_ids': tensor([[    2,    13,     1,  ...,     0,     0,     0],\n",
      "        [    2,    13,     1,  ...,     0,     0,     0],\n",
      "        [    2,  6926, 15323,  ...,     0,     0,     0],\n",
      "        ...,\n",
      "        [    2, 12894,   302,  ...,     0,     0,     0],\n",
      "        [    2,    13,     1,  ...,     0,     0,     0],\n",
      "        [    2,    13,     1,  ...,     0,     0,     0]]), 'attention_mask': tensor([[1, 1, 1,  ..., 0, 0, 0],\n",
      "        [1, 1, 1,  ..., 0, 0, 0],\n",
      "        [1, 1, 1,  ..., 0, 0, 0],\n",
      "        ...,\n",
      "        [1, 1, 1,  ..., 0, 0, 0],\n",
      "        [1, 1, 1,  ..., 0, 0, 0],\n",
      "        [1, 1, 1,  ..., 0, 0, 0]])}\n",
      "{'label': tensor([0, 0, 0, 1, 1, 1, 0, 0, 0, 1, 1, 0, 1, 0, 0, 1]), 'input_ids': tensor([[ 2, 13,  1,  ...,  0,  0,  0],\n",
      "        [ 2, 13,  1,  ...,  0,  0,  0],\n",
      "        [ 2, 13,  1,  ...,  0,  0,  0],\n",
      "        ...,\n",
      "        [ 2, 13,  1,  ...,  0,  0,  0],\n",
      "        [ 2, 13,  1,  ...,  0,  0,  0],\n",
      "        [ 2, 13,  1,  ...,  0,  0,  0]]), 'attention_mask': tensor([[1, 1, 1,  ..., 0, 0, 0],\n",
      "        [1, 1, 1,  ..., 0, 0, 0],\n",
      "        [1, 1, 1,  ..., 0, 0, 0],\n",
      "        ...,\n",
      "        [1, 1, 1,  ..., 0, 0, 0],\n",
      "        [1, 1, 1,  ..., 0, 0, 0],\n",
      "        [1, 1, 1,  ..., 0, 0, 0]])}\n",
      "{'label': tensor([1, 0, 0, 1, 1, 1, 0, 1, 0, 0, 0, 0, 0, 0, 1, 0]), 'input_ids': tensor([[    2,    13,     1,  ...,     0,     0,     0],\n",
      "        [    2,    13,     1,  ...,   510, 15688,     3],\n",
      "        [    2,    13,     1,  ...,     0,     0,     0],\n",
      "        ...,\n",
      "        [    2,    13,     1,  ...,     0,     0,     0],\n",
      "        [    2,    13,     1,  ...,     0,     0,     0],\n",
      "        [    2,    13,     1,  ...,     0,     0,     0]]), 'attention_mask': tensor([[1, 1, 1,  ..., 0, 0, 0],\n",
      "        [1, 1, 1,  ..., 1, 1, 1],\n",
      "        [1, 1, 1,  ..., 0, 0, 0],\n",
      "        ...,\n",
      "        [1, 1, 1,  ..., 0, 0, 0],\n",
      "        [1, 1, 1,  ..., 0, 0, 0],\n",
      "        [1, 1, 1,  ..., 0, 0, 0]])}\n",
      "{'label': tensor([1, 0, 0, 0, 0, 0, 0, 0, 1, 0, 0, 1, 0, 0, 0, 0]), 'input_ids': tensor([[    2,    13,     1,  ...,     0,     0,     0],\n",
      "        [    2,    13,     1,  ...,     0,     0,     0],\n",
      "        [    2,    13,     1,  ...,     0,     0,     0],\n",
      "        ...,\n",
      "        [    2,    13,     1,  ...,     0,     0,     0],\n",
      "        [    2,  6926, 16873,  ...,     0,     0,     0],\n",
      "        [    2,    13,     1,  ...,     0,     0,     0]]), 'attention_mask': tensor([[1, 1, 1,  ..., 0, 0, 0],\n",
      "        [1, 1, 1,  ..., 0, 0, 0],\n",
      "        [1, 1, 1,  ..., 0, 0, 0],\n",
      "        ...,\n",
      "        [1, 1, 1,  ..., 0, 0, 0],\n",
      "        [1, 1, 1,  ..., 0, 0, 0],\n",
      "        [1, 1, 1,  ..., 0, 0, 0]])}\n",
      "{'label': tensor([1, 1, 0, 0, 0, 0, 1, 1, 0, 1, 1, 0, 0, 0, 0, 0]), 'input_ids': tensor([[ 2, 13,  1,  ...,  0,  0,  0],\n",
      "        [ 2, 13,  1,  ...,  0,  0,  0],\n",
      "        [ 2, 13,  1,  ...,  0,  0,  0],\n",
      "        ...,\n",
      "        [ 2, 13,  1,  ...,  0,  0,  0],\n",
      "        [ 2, 13,  1,  ...,  0,  0,  0],\n",
      "        [ 2, 13,  1,  ...,  0,  0,  0]]), 'attention_mask': tensor([[1, 1, 1,  ..., 0, 0, 0],\n",
      "        [1, 1, 1,  ..., 0, 0, 0],\n",
      "        [1, 1, 1,  ..., 0, 0, 0],\n",
      "        ...,\n",
      "        [1, 1, 1,  ..., 0, 0, 0],\n",
      "        [1, 1, 1,  ..., 0, 0, 0],\n",
      "        [1, 1, 1,  ..., 0, 0, 0]])}\n",
      "{'label': tensor([1, 0, 1, 0, 0, 1, 0, 0, 0, 0, 0, 1, 1, 0, 0, 0]), 'input_ids': tensor([[  2,  13,   1,  ...,   0,   0,   0],\n",
      "        [  2,  13,   1,  ...,   0,   0,   0],\n",
      "        [  2,  21, 580,  ...,   0,   0,   0],\n",
      "        ...,\n",
      "        [  2,  13,   1,  ...,   0,   0,   0],\n",
      "        [  2,  13,   1,  ...,   0,   0,   0],\n",
      "        [  2,  13,   9,  ...,   0,   0,   0]]), 'attention_mask': tensor([[1, 1, 1,  ..., 0, 0, 0],\n",
      "        [1, 1, 1,  ..., 0, 0, 0],\n",
      "        [1, 1, 1,  ..., 0, 0, 0],\n",
      "        ...,\n",
      "        [1, 1, 1,  ..., 0, 0, 0],\n",
      "        [1, 1, 1,  ..., 0, 0, 0],\n",
      "        [1, 1, 1,  ..., 0, 0, 0]])}\n",
      "{'label': tensor([1, 1, 0, 0, 0, 0, 0, 0, 0, 1, 0, 1, 1, 0, 1, 0]), 'input_ids': tensor([[   2,   13,    1,  ...,    0,    0,    0],\n",
      "        [   2, 6926, 8681,  ...,    0,    0,    0],\n",
      "        [   2,   13,    1,  ...,    0,    0,    0],\n",
      "        ...,\n",
      "        [   2,   13,    1,  ...,    0,    0,    0],\n",
      "        [   2,   13,    1,  ...,    0,    0,    0],\n",
      "        [   2,   13,    1,  ...,    0,    0,    0]]), 'attention_mask': tensor([[1, 1, 1,  ..., 0, 0, 0],\n",
      "        [1, 1, 1,  ..., 0, 0, 0],\n",
      "        [1, 1, 1,  ..., 0, 0, 0],\n",
      "        ...,\n",
      "        [1, 1, 1,  ..., 0, 0, 0],\n",
      "        [1, 1, 1,  ..., 0, 0, 0],\n",
      "        [1, 1, 1,  ..., 0, 0, 0]])}\n",
      "{'label': tensor([1, 1, 1, 1, 0, 0, 0, 0, 0, 0, 0, 0, 0, 0, 0, 1]), 'input_ids': tensor([[ 2, 13,  1,  ...,  0,  0,  0],\n",
      "        [ 2, 13,  1,  ...,  0,  0,  0],\n",
      "        [ 2, 13,  1,  ...,  0,  0,  0],\n",
      "        ...,\n",
      "        [ 2, 13,  1,  ...,  0,  0,  0],\n",
      "        [ 2, 13,  1,  ...,  0,  0,  0],\n",
      "        [ 2, 13,  1,  ...,  0,  0,  0]]), 'attention_mask': tensor([[1, 1, 1,  ..., 0, 0, 0],\n",
      "        [1, 1, 1,  ..., 0, 0, 0],\n",
      "        [1, 1, 1,  ..., 0, 0, 0],\n",
      "        ...,\n",
      "        [1, 1, 1,  ..., 0, 0, 0],\n",
      "        [1, 1, 1,  ..., 0, 0, 0],\n",
      "        [1, 1, 1,  ..., 0, 0, 0]])}\n",
      "{'label': tensor([1, 0, 0, 1, 0, 0, 0, 0, 0, 0, 1, 1, 1, 1, 1, 0]), 'input_ids': tensor([[ 2, 13,  1,  ...,  0,  0,  0],\n",
      "        [ 2, 13,  1,  ...,  0,  0,  0],\n",
      "        [ 2, 13,  1,  ...,  0,  0,  0],\n",
      "        ...,\n",
      "        [ 2, 13,  1,  ...,  0,  0,  0],\n",
      "        [ 2, 13,  1,  ...,  0,  0,  0],\n",
      "        [ 2, 13,  1,  ...,  0,  0,  0]]), 'attention_mask': tensor([[1, 1, 1,  ..., 0, 0, 0],\n",
      "        [1, 1, 1,  ..., 0, 0, 0],\n",
      "        [1, 1, 1,  ..., 0, 0, 0],\n",
      "        ...,\n",
      "        [1, 1, 1,  ..., 0, 0, 0],\n",
      "        [1, 1, 1,  ..., 0, 0, 0],\n",
      "        [1, 1, 1,  ..., 0, 0, 0]])}\n",
      "{'label': tensor([0, 1, 1, 0, 0, 1, 0, 0, 1, 0, 0, 0, 0, 0, 1, 0]), 'input_ids': tensor([[    2,    13,     1,  ...,     0,     0,     0],\n",
      "        [    2,   137, 18133,  ...,     0,     0,     0],\n",
      "        [    2,    13,     1,  ...,     0,     0,     0],\n",
      "        ...,\n",
      "        [    2,    13,     1,  ...,     0,     0,     0],\n",
      "        [    2,    13,     1,  ...,     0,     0,     0],\n",
      "        [    2,    13,     1,  ...,     0,     0,     0]]), 'attention_mask': tensor([[1, 1, 1,  ..., 0, 0, 0],\n",
      "        [1, 1, 1,  ..., 0, 0, 0],\n",
      "        [1, 1, 1,  ..., 0, 0, 0],\n",
      "        ...,\n",
      "        [1, 1, 1,  ..., 0, 0, 0],\n",
      "        [1, 1, 1,  ..., 0, 0, 0],\n",
      "        [1, 1, 1,  ..., 0, 0, 0]])}\n",
      "{'label': tensor([0, 1, 0, 0, 0, 1, 1, 1, 0, 1, 0, 0, 0, 0, 1, 0]), 'input_ids': tensor([[ 2, 13,  1,  ...,  0,  0,  0],\n",
      "        [ 2, 13,  1,  ...,  0,  0,  0],\n",
      "        [ 2, 13,  1,  ...,  0,  0,  0],\n",
      "        ...,\n",
      "        [ 2, 13,  1,  ...,  0,  0,  0],\n",
      "        [ 2, 13,  1,  ...,  0,  0,  0],\n",
      "        [ 2, 13,  1,  ...,  0,  0,  0]]), 'attention_mask': tensor([[1, 1, 1,  ..., 0, 0, 0],\n",
      "        [1, 1, 1,  ..., 0, 0, 0],\n",
      "        [1, 1, 1,  ..., 0, 0, 0],\n",
      "        ...,\n",
      "        [1, 1, 1,  ..., 0, 0, 0],\n",
      "        [1, 1, 1,  ..., 0, 0, 0],\n",
      "        [1, 1, 1,  ..., 0, 0, 0]])}\n",
      "{'label': tensor([1, 0, 0, 1, 0, 0, 0, 1, 1, 0, 0, 1, 1, 0, 0, 0]), 'input_ids': tensor([[ 2, 13,  1,  ...,  0,  0,  0],\n",
      "        [ 2, 13,  1,  ...,  0,  0,  0],\n",
      "        [ 2, 13,  1,  ...,  0,  0,  0],\n",
      "        ...,\n",
      "        [ 2, 13,  1,  ...,  0,  0,  0],\n",
      "        [ 2, 13,  1,  ...,  0,  0,  0],\n",
      "        [ 2, 13,  1,  ...,  0,  0,  0]]), 'attention_mask': tensor([[1, 1, 1,  ..., 0, 0, 0],\n",
      "        [1, 1, 1,  ..., 0, 0, 0],\n",
      "        [1, 1, 1,  ..., 0, 0, 0],\n",
      "        ...,\n",
      "        [1, 1, 1,  ..., 0, 0, 0],\n",
      "        [1, 1, 1,  ..., 0, 0, 0],\n",
      "        [1, 1, 1,  ..., 0, 0, 0]])}\n",
      "{'label': tensor([1, 1, 0, 0, 0, 0, 0, 0, 1, 0, 1, 0, 1, 0, 0, 0]), 'input_ids': tensor([[    2,    13,     1,  ...,     0,     0,     0],\n",
      "        [    2,    13,     1,  ...,     0,     0,     0],\n",
      "        [    2,    13,     1,  ...,     1, 16704,     3],\n",
      "        ...,\n",
      "        [    2,    13,     1,  ...,     0,     0,     0],\n",
      "        [    2,    13,     1,  ...,     0,     0,     0],\n",
      "        [    2,    13,     1,  ...,     0,     0,     0]]), 'attention_mask': tensor([[1, 1, 1,  ..., 0, 0, 0],\n",
      "        [1, 1, 1,  ..., 0, 0, 0],\n",
      "        [1, 1, 1,  ..., 1, 1, 1],\n",
      "        ...,\n",
      "        [1, 1, 1,  ..., 0, 0, 0],\n",
      "        [1, 1, 1,  ..., 0, 0, 0],\n",
      "        [1, 1, 1,  ..., 0, 0, 0]])}\n",
      "{'label': tensor([1, 0, 0, 0, 1, 1, 0, 0, 0, 0, 1, 0, 0, 0, 1, 0]), 'input_ids': tensor([[    2,    13,     1,  ...,     0,     0,     0],\n",
      "        [    2,  1977,    29,  ...,     0,     0,     0],\n",
      "        [    2,    13,     1,  ...,     0,     0,     0],\n",
      "        ...,\n",
      "        [    2,  6926, 21011,  ...,     0,     0,     0],\n",
      "        [    2,    13,     1,  ...,     0,     0,     0],\n",
      "        [    2,  1082,  1638,  ...,     0,     0,     0]]), 'attention_mask': tensor([[1, 1, 1,  ..., 0, 0, 0],\n",
      "        [1, 1, 1,  ..., 0, 0, 0],\n",
      "        [1, 1, 1,  ..., 0, 0, 0],\n",
      "        ...,\n",
      "        [1, 1, 1,  ..., 0, 0, 0],\n",
      "        [1, 1, 1,  ..., 0, 0, 0],\n",
      "        [1, 1, 1,  ..., 0, 0, 0]])}\n",
      "{'label': tensor([1, 0, 1, 1, 1, 1, 1, 0, 0, 0, 0, 1, 0, 1, 0, 1]), 'input_ids': tensor([[    2,    13,     1,  ...,     0,     0,     0],\n",
      "        [    2,    13,     1,  ...,     0,     0,     0],\n",
      "        [    2,  6926, 19838,  ...,     0,     0,     0],\n",
      "        ...,\n",
      "        [    2,    13,     1,  ...,     0,     0,     0],\n",
      "        [    2,    13,     1,  ...,     0,     0,     0],\n",
      "        [    2,    13,     1,  ...,     0,     0,     0]]), 'attention_mask': tensor([[1, 1, 1,  ..., 0, 0, 0],\n",
      "        [1, 1, 1,  ..., 0, 0, 0],\n",
      "        [1, 1, 1,  ..., 0, 0, 0],\n",
      "        ...,\n",
      "        [1, 1, 1,  ..., 0, 0, 0],\n",
      "        [1, 1, 1,  ..., 0, 0, 0],\n",
      "        [1, 1, 1,  ..., 0, 0, 0]])}\n",
      "{'label': tensor([0, 1, 0, 1, 0, 0, 0, 0, 0, 0, 0, 1, 0, 0, 0, 1]), 'input_ids': tensor([[ 2, 13,  1,  ...,  0,  0,  0],\n",
      "        [ 2, 13,  1,  ...,  0,  0,  0],\n",
      "        [ 2, 13,  1,  ...,  0,  0,  0],\n",
      "        ...,\n",
      "        [ 2, 13,  1,  ...,  0,  0,  0],\n",
      "        [ 2, 13,  1,  ...,  0,  0,  0],\n",
      "        [ 2, 13,  1,  ...,  0,  0,  0]]), 'attention_mask': tensor([[1, 1, 1,  ..., 0, 0, 0],\n",
      "        [1, 1, 1,  ..., 0, 0, 0],\n",
      "        [1, 1, 1,  ..., 0, 0, 0],\n",
      "        ...,\n",
      "        [1, 1, 1,  ..., 0, 0, 0],\n",
      "        [1, 1, 1,  ..., 0, 0, 0],\n",
      "        [1, 1, 1,  ..., 0, 0, 0]])}\n",
      "{'label': tensor([0, 0, 0, 1, 0, 0, 0, 0, 1, 0, 0, 0, 0, 0, 1, 1]), 'input_ids': tensor([[ 2, 13,  1,  ...,  0,  0,  0],\n",
      "        [ 2, 13,  1,  ...,  0,  0,  0],\n",
      "        [ 2, 13,  1,  ...,  0,  0,  0],\n",
      "        ...,\n",
      "        [ 2, 13,  1,  ...,  0,  0,  0],\n",
      "        [ 2, 13,  1,  ...,  0,  0,  0],\n",
      "        [ 2, 13,  1,  ...,  0,  0,  0]]), 'attention_mask': tensor([[1, 1, 1,  ..., 0, 0, 0],\n",
      "        [1, 1, 1,  ..., 0, 0, 0],\n",
      "        [1, 1, 1,  ..., 0, 0, 0],\n",
      "        ...,\n",
      "        [1, 1, 1,  ..., 0, 0, 0],\n",
      "        [1, 1, 1,  ..., 0, 0, 0],\n",
      "        [1, 1, 1,  ..., 0, 0, 0]])}\n",
      "{'label': tensor([1, 0, 1, 1, 0, 0, 0, 0, 1, 1, 0, 1, 0, 0, 1, 1]), 'input_ids': tensor([[   2, 2194, 7095,  ...,    0,    0,    0],\n",
      "        [   2,   13,    1,  ...,    0,    0,    0],\n",
      "        [   2,   13,    1,  ...,    0,    0,    0],\n",
      "        ...,\n",
      "        [   2,   13,    1,  ...,    0,    0,    0],\n",
      "        [   2,   13,    1,  ...,    0,    0,    0],\n",
      "        [   2,   25, 1276,  ...,    0,    0,    0]]), 'attention_mask': tensor([[1, 1, 1,  ..., 0, 0, 0],\n",
      "        [1, 1, 1,  ..., 0, 0, 0],\n",
      "        [1, 1, 1,  ..., 0, 0, 0],\n",
      "        ...,\n",
      "        [1, 1, 1,  ..., 0, 0, 0],\n",
      "        [1, 1, 1,  ..., 0, 0, 0],\n",
      "        [1, 1, 1,  ..., 0, 0, 0]])}\n",
      "{'label': tensor([0, 0, 1, 0, 0, 0, 0, 0, 0, 0, 0, 0, 0, 0, 0, 0]), 'input_ids': tensor([[ 2, 13,  1,  ...,  0,  0,  0],\n",
      "        [ 2, 13,  1,  ...,  0,  0,  0],\n",
      "        [ 2, 13,  1,  ...,  0,  0,  0],\n",
      "        ...,\n",
      "        [ 2, 13,  1,  ...,  0,  0,  0],\n",
      "        [ 2, 13,  1,  ...,  0,  0,  0],\n",
      "        [ 2, 13,  1,  ...,  0,  0,  0]]), 'attention_mask': tensor([[1, 1, 1,  ..., 0, 0, 0],\n",
      "        [1, 1, 1,  ..., 0, 0, 0],\n",
      "        [1, 1, 1,  ..., 0, 0, 0],\n",
      "        ...,\n",
      "        [1, 1, 1,  ..., 0, 0, 0],\n",
      "        [1, 1, 1,  ..., 0, 0, 0],\n",
      "        [1, 1, 1,  ..., 0, 0, 0]])}\n",
      "{'label': tensor([0, 0, 1, 1, 0, 1, 0, 1, 0, 0, 0, 0, 0, 0, 0, 0]), 'input_ids': tensor([[ 2, 13,  1,  ...,  0,  0,  0],\n",
      "        [ 2, 13,  1,  ...,  0,  0,  0],\n",
      "        [ 2, 13,  1,  ...,  0,  0,  0],\n",
      "        ...,\n",
      "        [ 2, 13,  1,  ...,  0,  0,  0],\n",
      "        [ 2, 13,  1,  ...,  0,  0,  0],\n",
      "        [ 2, 13,  1,  ...,  0,  0,  0]]), 'attention_mask': tensor([[1, 1, 1,  ..., 0, 0, 0],\n",
      "        [1, 1, 1,  ..., 0, 0, 0],\n",
      "        [1, 1, 1,  ..., 0, 0, 0],\n",
      "        ...,\n",
      "        [1, 1, 1,  ..., 0, 0, 0],\n",
      "        [1, 1, 1,  ..., 0, 0, 0],\n",
      "        [1, 1, 1,  ..., 0, 0, 0]])}\n",
      "{'label': tensor([1, 0, 1, 1, 1, 0, 0, 1, 1, 0, 0, 0, 0, 0, 1, 0]), 'input_ids': tensor([[ 2, 13,  1,  ...,  0,  0,  0],\n",
      "        [ 2, 13,  1,  ...,  0,  0,  0],\n",
      "        [ 2, 13,  1,  ...,  0,  0,  0],\n",
      "        ...,\n",
      "        [ 2, 13,  1,  ...,  0,  0,  0],\n",
      "        [ 2, 13,  1,  ...,  0,  0,  0],\n",
      "        [ 2, 13,  1,  ...,  0,  0,  0]]), 'attention_mask': tensor([[1, 1, 1,  ..., 0, 0, 0],\n",
      "        [1, 1, 1,  ..., 0, 0, 0],\n",
      "        [1, 1, 1,  ..., 0, 0, 0],\n",
      "        ...,\n",
      "        [1, 1, 1,  ..., 0, 0, 0],\n",
      "        [1, 1, 1,  ..., 0, 0, 0],\n",
      "        [1, 1, 1,  ..., 0, 0, 0]])}\n",
      "{'label': tensor([1, 1, 0, 1, 0, 0, 0, 1, 0, 1, 0, 0, 0, 1, 0, 0]), 'input_ids': tensor([[ 2, 13,  1,  ...,  0,  0,  0],\n",
      "        [ 2, 13,  1,  ...,  0,  0,  0],\n",
      "        [ 2, 13,  1,  ..., 13,  1,  3],\n",
      "        ...,\n",
      "        [ 2, 13,  1,  ...,  0,  0,  0],\n",
      "        [ 2, 13,  1,  ...,  0,  0,  0],\n",
      "        [ 2, 13,  1,  ...,  0,  0,  0]]), 'attention_mask': tensor([[1, 1, 1,  ..., 0, 0, 0],\n",
      "        [1, 1, 1,  ..., 0, 0, 0],\n",
      "        [1, 1, 1,  ..., 1, 1, 1],\n",
      "        ...,\n",
      "        [1, 1, 1,  ..., 0, 0, 0],\n",
      "        [1, 1, 1,  ..., 0, 0, 0],\n",
      "        [1, 1, 1,  ..., 0, 0, 0]])}\n",
      "{'label': tensor([0, 0, 0, 0, 0, 1, 0, 0, 1, 0, 0, 1, 0, 1, 1, 1]), 'input_ids': tensor([[   2,   13,    1,  ...,    0,    0,    0],\n",
      "        [   2,   13,    1,  ...,    0,    0,    0],\n",
      "        [   2,  357, 2254,  ...,    0,    0,    0],\n",
      "        ...,\n",
      "        [   2,   13,    1,  ...,    0,    0,    0],\n",
      "        [   2,   13,    1,  ...,    0,    0,    0],\n",
      "        [   2,   13,    1,  ...,    0,    0,    0]]), 'attention_mask': tensor([[1, 1, 1,  ..., 0, 0, 0],\n",
      "        [1, 1, 1,  ..., 0, 0, 0],\n",
      "        [1, 1, 1,  ..., 0, 0, 0],\n",
      "        ...,\n",
      "        [1, 1, 1,  ..., 0, 0, 0],\n",
      "        [1, 1, 1,  ..., 0, 0, 0],\n",
      "        [1, 1, 1,  ..., 0, 0, 0]])}\n",
      "{'label': tensor([0, 0, 0, 0, 1, 0, 0, 0, 0, 0, 1, 0, 0, 0, 1, 0]), 'input_ids': tensor([[    2, 15742,  6926,  ...,     0,     0,     0],\n",
      "        [    2,    13,     1,  ...,     0,     0,     0],\n",
      "        [    2,    13,     1,  ...,     0,     0,     0],\n",
      "        ...,\n",
      "        [    2,    13,     1,  ...,     0,     0,     0],\n",
      "        [    2,    13,     1,  ...,     0,     0,     0],\n",
      "        [    2,  1805,   235,  ...,     0,     0,     0]]), 'attention_mask': tensor([[1, 1, 1,  ..., 0, 0, 0],\n",
      "        [1, 1, 1,  ..., 0, 0, 0],\n",
      "        [1, 1, 1,  ..., 0, 0, 0],\n",
      "        ...,\n",
      "        [1, 1, 1,  ..., 0, 0, 0],\n",
      "        [1, 1, 1,  ..., 0, 0, 0],\n",
      "        [1, 1, 1,  ..., 0, 0, 0]])}\n",
      "{'label': tensor([0, 0, 0, 1, 1, 1, 0, 0, 0, 0, 1, 0, 0, 0, 1, 1]), 'input_ids': tensor([[ 2, 13,  1,  ...,  0,  0,  0],\n",
      "        [ 2, 13,  1,  ...,  0,  0,  0],\n",
      "        [ 2, 13,  1,  ...,  0,  0,  0],\n",
      "        ...,\n",
      "        [ 2, 13,  1,  ...,  0,  0,  0],\n",
      "        [ 2, 13,  1,  ...,  0,  0,  0],\n",
      "        [ 2, 13,  1,  ...,  0,  0,  0]]), 'attention_mask': tensor([[1, 1, 1,  ..., 0, 0, 0],\n",
      "        [1, 1, 1,  ..., 0, 0, 0],\n",
      "        [1, 1, 1,  ..., 0, 0, 0],\n",
      "        ...,\n",
      "        [1, 1, 1,  ..., 0, 0, 0],\n",
      "        [1, 1, 1,  ..., 0, 0, 0],\n",
      "        [1, 1, 1,  ..., 0, 0, 0]])}\n",
      "{'label': tensor([0, 0, 0, 0, 0, 0, 1, 0, 0, 0, 1, 1, 1, 0, 0, 0]), 'input_ids': tensor([[ 2, 24, 92,  ...,  0,  0,  0],\n",
      "        [ 2, 13,  1,  ...,  0,  0,  0],\n",
      "        [ 2, 13,  1,  ...,  0,  0,  0],\n",
      "        ...,\n",
      "        [ 2, 13,  1,  ...,  0,  0,  0],\n",
      "        [ 2, 13,  1,  ...,  0,  0,  0],\n",
      "        [ 2, 13,  1,  ...,  0,  0,  0]]), 'attention_mask': tensor([[1, 1, 1,  ..., 0, 0, 0],\n",
      "        [1, 1, 1,  ..., 0, 0, 0],\n",
      "        [1, 1, 1,  ..., 0, 0, 0],\n",
      "        ...,\n",
      "        [1, 1, 1,  ..., 0, 0, 0],\n",
      "        [1, 1, 1,  ..., 0, 0, 0],\n",
      "        [1, 1, 1,  ..., 0, 0, 0]])}\n",
      "{'label': tensor([1, 1, 0, 1, 0, 0, 1, 1, 1, 0, 0, 1, 0, 1, 0, 0]), 'input_ids': tensor([[  2,  13,   1,  ...,   0,   0,   0],\n",
      "        [  2, 740,   9,  ...,   0,   0,   0],\n",
      "        [  2,  13,   1,  ...,   0,   0,   0],\n",
      "        ...,\n",
      "        [  2,  13,   1,  ...,   0,   0,   0],\n",
      "        [  2,  13,   1,  ...,   0,   0,   0],\n",
      "        [  2,  13,   1,  ...,   0,   0,   0]]), 'attention_mask': tensor([[1, 1, 1,  ..., 0, 0, 0],\n",
      "        [1, 1, 1,  ..., 0, 0, 0],\n",
      "        [1, 1, 1,  ..., 0, 0, 0],\n",
      "        ...,\n",
      "        [1, 1, 1,  ..., 0, 0, 0],\n",
      "        [1, 1, 1,  ..., 0, 0, 0],\n",
      "        [1, 1, 1,  ..., 0, 0, 0]])}\n",
      "{'label': tensor([0, 0, 1, 1, 0, 1, 1, 0, 0, 1, 0, 0, 0, 0, 1, 0]), 'input_ids': tensor([[ 2, 13,  1,  ...,  0,  0,  0],\n",
      "        [ 2, 42, 50,  ...,  0,  0,  0],\n",
      "        [ 2, 13,  1,  ...,  0,  0,  0],\n",
      "        ...,\n",
      "        [ 2, 13,  1,  ...,  0,  0,  0],\n",
      "        [ 2, 13,  1,  ...,  0,  0,  0],\n",
      "        [ 2, 13,  1,  ...,  0,  0,  0]]), 'attention_mask': tensor([[1, 1, 1,  ..., 0, 0, 0],\n",
      "        [1, 1, 1,  ..., 0, 0, 0],\n",
      "        [1, 1, 1,  ..., 0, 0, 0],\n",
      "        ...,\n",
      "        [1, 1, 1,  ..., 0, 0, 0],\n",
      "        [1, 1, 1,  ..., 0, 0, 0],\n",
      "        [1, 1, 1,  ..., 0, 0, 0]])}\n",
      "{'label': tensor([0, 0, 1, 1, 1, 0, 1, 0, 0, 0, 0, 0, 0, 0, 0, 1]), 'input_ids': tensor([[ 2, 13,  1,  ...,  0,  0,  0],\n",
      "        [ 2, 13,  1,  ...,  0,  0,  0],\n",
      "        [ 2, 13,  1,  ...,  0,  0,  0],\n",
      "        ...,\n",
      "        [ 2, 13,  1,  ...,  0,  0,  0],\n",
      "        [ 2, 13,  1,  ...,  0,  0,  0],\n",
      "        [ 2, 13,  1,  ...,  0,  0,  0]]), 'attention_mask': tensor([[1, 1, 1,  ..., 0, 0, 0],\n",
      "        [1, 1, 1,  ..., 0, 0, 0],\n",
      "        [1, 1, 1,  ..., 0, 0, 0],\n",
      "        ...,\n",
      "        [1, 1, 1,  ..., 0, 0, 0],\n",
      "        [1, 1, 1,  ..., 0, 0, 0],\n",
      "        [1, 1, 1,  ..., 0, 0, 0]])}\n",
      "{'label': tensor([0, 0, 0, 0, 1, 1, 0, 1, 0, 0, 0, 0, 0, 1, 0, 1]), 'input_ids': tensor([[ 2, 13,  1,  ...,  0,  0,  0],\n",
      "        [ 2, 13,  1,  ...,  0,  0,  0],\n",
      "        [ 2, 13,  1,  ...,  0,  0,  0],\n",
      "        ...,\n",
      "        [ 2, 13,  1,  ...,  0,  0,  0],\n",
      "        [ 2, 13,  1,  ...,  0,  0,  0],\n",
      "        [ 2, 13,  1,  ...,  0,  0,  0]]), 'attention_mask': tensor([[1, 1, 1,  ..., 0, 0, 0],\n",
      "        [1, 1, 1,  ..., 0, 0, 0],\n",
      "        [1, 1, 1,  ..., 0, 0, 0],\n",
      "        ...,\n",
      "        [1, 1, 1,  ..., 0, 0, 0],\n",
      "        [1, 1, 1,  ..., 0, 0, 0],\n",
      "        [1, 1, 1,  ..., 0, 0, 0]])}\n",
      "{'label': tensor([0, 1, 0, 0, 1, 0, 1, 0, 0, 0, 0, 0, 0, 1, 1, 0]), 'input_ids': tensor([[ 2, 13,  1,  ...,  0,  0,  0],\n",
      "        [ 2, 13,  1,  ...,  0,  0,  0],\n",
      "        [ 2, 13,  1,  ...,  0,  0,  0],\n",
      "        ...,\n",
      "        [ 2, 13,  1,  ...,  0,  0,  0],\n",
      "        [ 2, 13,  1,  ...,  0,  0,  0],\n",
      "        [ 2, 13,  1,  ...,  0,  0,  0]]), 'attention_mask': tensor([[1, 1, 1,  ..., 0, 0, 0],\n",
      "        [1, 1, 1,  ..., 0, 0, 0],\n",
      "        [1, 1, 1,  ..., 0, 0, 0],\n",
      "        ...,\n",
      "        [1, 1, 1,  ..., 0, 0, 0],\n",
      "        [1, 1, 1,  ..., 0, 0, 0],\n",
      "        [1, 1, 1,  ..., 0, 0, 0]])}\n",
      "{'label': tensor([1, 0, 0, 1, 0, 0, 1, 1, 0, 0, 0, 1, 0, 1, 1, 0]), 'input_ids': tensor([[  2,  13,   1,  ...,   0,   0,   0],\n",
      "        [  2,  13,   1,  ...,   0,   0,   0],\n",
      "        [  2,  13,   1,  ...,   0,   0,   0],\n",
      "        ...,\n",
      "        [  2,  42, 230,  ...,   0,   0,   0],\n",
      "        [  2,  13,   1,  ...,   0,   0,   0],\n",
      "        [  2,  13,   1,  ...,   0,   0,   0]]), 'attention_mask': tensor([[1, 1, 1,  ..., 0, 0, 0],\n",
      "        [1, 1, 1,  ..., 0, 0, 0],\n",
      "        [1, 1, 1,  ..., 0, 0, 0],\n",
      "        ...,\n",
      "        [1, 1, 1,  ..., 0, 0, 0],\n",
      "        [1, 1, 1,  ..., 0, 0, 0],\n",
      "        [1, 1, 1,  ..., 0, 0, 0]])}\n",
      "{'label': tensor([0, 0, 0, 0, 0, 1, 0, 0, 0, 1, 1, 0, 1, 1, 0, 1]), 'input_ids': tensor([[    2,  6926, 25290,  ...,     0,     0,     0],\n",
      "        [    2,    13,     1,  ...,     0,     0,     0],\n",
      "        [    2,   331,     9,  ...,     0,     0,     0],\n",
      "        ...,\n",
      "        [    2,    13,     1,  ...,     0,     0,     0],\n",
      "        [    2,    13,     1,  ...,     0,     0,     0],\n",
      "        [    2,    65,  7095,  ...,     0,     0,     0]]), 'attention_mask': tensor([[1, 1, 1,  ..., 0, 0, 0],\n",
      "        [1, 1, 1,  ..., 0, 0, 0],\n",
      "        [1, 1, 1,  ..., 0, 0, 0],\n",
      "        ...,\n",
      "        [1, 1, 1,  ..., 0, 0, 0],\n",
      "        [1, 1, 1,  ..., 0, 0, 0],\n",
      "        [1, 1, 1,  ..., 0, 0, 0]])}\n",
      "{'label': tensor([0, 1, 0, 0, 0, 1, 0, 1, 0, 1, 0, 0, 0, 0, 0, 0]), 'input_ids': tensor([[ 2, 13,  1,  ...,  0,  0,  0],\n",
      "        [ 2, 13,  1,  ...,  0,  0,  0],\n",
      "        [ 2, 13,  1,  ...,  0,  0,  0],\n",
      "        ...,\n",
      "        [ 2, 13,  1,  ...,  0,  0,  0],\n",
      "        [ 2, 13,  1,  ...,  0,  0,  0],\n",
      "        [ 2, 13,  1,  ...,  0,  0,  0]]), 'attention_mask': tensor([[1, 1, 1,  ..., 0, 0, 0],\n",
      "        [1, 1, 1,  ..., 0, 0, 0],\n",
      "        [1, 1, 1,  ..., 0, 0, 0],\n",
      "        ...,\n",
      "        [1, 1, 1,  ..., 0, 0, 0],\n",
      "        [1, 1, 1,  ..., 0, 0, 0],\n",
      "        [1, 1, 1,  ..., 0, 0, 0]])}\n",
      "{'label': tensor([0, 0, 0, 1, 1, 1, 0, 0, 0, 1, 1, 0, 1, 0, 0, 0]), 'input_ids': tensor([[  2, 561,   9,  ...,   0,   0,   0],\n",
      "        [  2,  13,   1,  ...,   0,   0,   0],\n",
      "        [  2,  13,   1,  ...,   0,   0,   0],\n",
      "        ...,\n",
      "        [  2,  13,   1,  ...,   0,   0,   0],\n",
      "        [  2,  13,   1,  ...,   0,   0,   0],\n",
      "        [  2,  13,   1,  ...,   0,   0,   0]]), 'attention_mask': tensor([[1, 1, 1,  ..., 0, 0, 0],\n",
      "        [1, 1, 1,  ..., 0, 0, 0],\n",
      "        [1, 1, 1,  ..., 0, 0, 0],\n",
      "        ...,\n",
      "        [1, 1, 1,  ..., 0, 0, 0],\n",
      "        [1, 1, 1,  ..., 0, 0, 0],\n",
      "        [1, 1, 1,  ..., 0, 0, 0]])}\n",
      "{'label': tensor([0, 0, 0, 0, 1, 0, 1, 1, 0, 0, 0, 1, 0, 0, 0, 0]), 'input_ids': tensor([[ 2, 13,  1,  ...,  0,  0,  0],\n",
      "        [ 2, 13,  1,  ...,  0,  0,  0],\n",
      "        [ 2, 13,  1,  ...,  0,  0,  0],\n",
      "        ...,\n",
      "        [ 2, 13,  1,  ...,  0,  0,  0],\n",
      "        [ 2, 13,  1,  ...,  0,  0,  0],\n",
      "        [ 2, 13,  1,  ...,  0,  0,  0]]), 'attention_mask': tensor([[1, 1, 1,  ..., 0, 0, 0],\n",
      "        [1, 1, 1,  ..., 0, 0, 0],\n",
      "        [1, 1, 1,  ..., 0, 0, 0],\n",
      "        ...,\n",
      "        [1, 1, 1,  ..., 0, 0, 0],\n",
      "        [1, 1, 1,  ..., 0, 0, 0],\n",
      "        [1, 1, 1,  ..., 0, 0, 0]])}\n",
      "{'label': tensor([1, 0, 1, 0, 1, 1, 0, 0, 0, 1, 0, 0, 0, 1, 0, 0]), 'input_ids': tensor([[ 2, 13,  1,  ...,  0,  0,  0],\n",
      "        [ 2, 13,  9,  ...,  0,  0,  0],\n",
      "        [ 2, 13,  1,  ...,  0,  0,  0],\n",
      "        ...,\n",
      "        [ 2, 13,  1,  ...,  0,  0,  0],\n",
      "        [ 2, 13,  1,  ...,  0,  0,  0],\n",
      "        [ 2, 13,  1,  ...,  0,  0,  0]]), 'attention_mask': tensor([[1, 1, 1,  ..., 0, 0, 0],\n",
      "        [1, 1, 1,  ..., 0, 0, 0],\n",
      "        [1, 1, 1,  ..., 0, 0, 0],\n",
      "        ...,\n",
      "        [1, 1, 1,  ..., 0, 0, 0],\n",
      "        [1, 1, 1,  ..., 0, 0, 0],\n",
      "        [1, 1, 1,  ..., 0, 0, 0]])}\n",
      "{'label': tensor([0, 0, 1, 1, 0, 0, 0, 0, 0, 0, 0, 0, 1, 0, 0, 0]), 'input_ids': tensor([[ 2, 13,  1,  ...,  0,  0,  0],\n",
      "        [ 2, 13,  1,  ...,  0,  0,  0],\n",
      "        [ 2, 13,  1,  ...,  0,  0,  0],\n",
      "        ...,\n",
      "        [ 2, 13,  1,  ...,  0,  0,  0],\n",
      "        [ 2, 13,  1,  ...,  0,  0,  0],\n",
      "        [ 2, 13,  1,  ...,  0,  0,  0]]), 'attention_mask': tensor([[1, 1, 1,  ..., 0, 0, 0],\n",
      "        [1, 1, 1,  ..., 0, 0, 0],\n",
      "        [1, 1, 1,  ..., 0, 0, 0],\n",
      "        ...,\n",
      "        [1, 1, 1,  ..., 0, 0, 0],\n",
      "        [1, 1, 1,  ..., 0, 0, 0],\n",
      "        [1, 1, 1,  ..., 0, 0, 0]])}\n",
      "{'label': tensor([0, 0, 0, 0, 0, 0, 0, 0, 0, 1, 0, 0, 1, 0, 0, 0]), 'input_ids': tensor([[ 2, 13,  1,  ...,  0,  0,  0],\n",
      "        [ 2, 13,  1,  ...,  0,  0,  0],\n",
      "        [ 2, 13,  1,  ...,  0,  0,  0],\n",
      "        ...,\n",
      "        [ 2, 13,  1,  ...,  0,  0,  0],\n",
      "        [ 2, 13,  1,  ...,  0,  0,  0],\n",
      "        [ 2, 13,  1,  ...,  0,  0,  0]]), 'attention_mask': tensor([[1, 1, 1,  ..., 0, 0, 0],\n",
      "        [1, 1, 1,  ..., 0, 0, 0],\n",
      "        [1, 1, 1,  ..., 0, 0, 0],\n",
      "        ...,\n",
      "        [1, 1, 1,  ..., 0, 0, 0],\n",
      "        [1, 1, 1,  ..., 0, 0, 0],\n",
      "        [1, 1, 1,  ..., 0, 0, 0]])}\n",
      "{'label': tensor([0, 0, 0, 1, 1, 0, 1, 1, 1, 1, 1, 0, 0, 1, 0, 0]), 'input_ids': tensor([[   2, 6926, 2681,  ...,    0,    0,    0],\n",
      "        [   2,   13,    1,  ...,    0,    0,    0],\n",
      "        [   2,   13,    1,  ...,    0,    0,    0],\n",
      "        ...,\n",
      "        [   2,   13,    1,  ...,    0,    0,    0],\n",
      "        [   2,   13,    1,  ...,    0,    0,    0],\n",
      "        [   2,   13,    1,  ...,    0,    0,    0]]), 'attention_mask': tensor([[1, 1, 1,  ..., 0, 0, 0],\n",
      "        [1, 1, 1,  ..., 0, 0, 0],\n",
      "        [1, 1, 1,  ..., 0, 0, 0],\n",
      "        ...,\n",
      "        [1, 1, 1,  ..., 0, 0, 0],\n",
      "        [1, 1, 1,  ..., 0, 0, 0],\n",
      "        [1, 1, 1,  ..., 0, 0, 0]])}\n",
      "{'label': tensor([0, 0, 1, 0, 0, 0, 0, 0, 0, 0, 0, 0, 1, 1, 1, 1]), 'input_ids': tensor([[   2,   13,    1,  ...,    0,    0,    0],\n",
      "        [   2,   13,    1,  ...,    0,    0,    0],\n",
      "        [   2,   13,    1,  ...,    0,    0,    0],\n",
      "        ...,\n",
      "        [   2, 6926, 2095,  ...,    0,    0,    0],\n",
      "        [   2,   86,   31,  ...,    0,    0,    0],\n",
      "        [   2,   13,    1,  ...,    0,    0,    0]]), 'attention_mask': tensor([[1, 1, 1,  ..., 0, 0, 0],\n",
      "        [1, 1, 1,  ..., 0, 0, 0],\n",
      "        [1, 1, 1,  ..., 0, 0, 0],\n",
      "        ...,\n",
      "        [1, 1, 1,  ..., 0, 0, 0],\n",
      "        [1, 1, 1,  ..., 0, 0, 0],\n",
      "        [1, 1, 1,  ..., 0, 0, 0]])}\n",
      "{'label': tensor([0, 0, 0, 0, 0, 0, 0, 0, 1, 0, 0, 0, 0, 0, 1, 0]), 'input_ids': tensor([[ 2, 13,  1,  ...,  0,  0,  0],\n",
      "        [ 2, 13,  1,  ...,  0,  0,  0],\n",
      "        [ 2, 13,  1,  ...,  0,  0,  0],\n",
      "        ...,\n",
      "        [ 2, 13,  1,  ...,  0,  0,  0],\n",
      "        [ 2, 13,  1,  ...,  0,  0,  0],\n",
      "        [ 2, 13,  1,  ...,  0,  0,  0]]), 'attention_mask': tensor([[1, 1, 1,  ..., 0, 0, 0],\n",
      "        [1, 1, 1,  ..., 0, 0, 0],\n",
      "        [1, 1, 1,  ..., 0, 0, 0],\n",
      "        ...,\n",
      "        [1, 1, 1,  ..., 0, 0, 0],\n",
      "        [1, 1, 1,  ..., 0, 0, 0],\n",
      "        [1, 1, 1,  ..., 0, 0, 0]])}\n",
      "{'label': tensor([0, 0, 0, 0, 0, 0, 1, 0, 0, 0, 0, 0, 0, 0, 1, 0]), 'input_ids': tensor([[ 2, 13,  1,  ...,  0,  0,  0],\n",
      "        [ 2, 13,  1,  ...,  0,  0,  0],\n",
      "        [ 2, 13,  1,  ...,  0,  0,  0],\n",
      "        ...,\n",
      "        [ 2, 13,  1,  ...,  0,  0,  0],\n",
      "        [ 2, 13,  1,  ...,  0,  0,  0],\n",
      "        [ 2, 13,  1,  ...,  0,  0,  0]]), 'attention_mask': tensor([[1, 1, 1,  ..., 0, 0, 0],\n",
      "        [1, 1, 1,  ..., 0, 0, 0],\n",
      "        [1, 1, 1,  ..., 0, 0, 0],\n",
      "        ...,\n",
      "        [1, 1, 1,  ..., 0, 0, 0],\n",
      "        [1, 1, 1,  ..., 0, 0, 0],\n",
      "        [1, 1, 1,  ..., 0, 0, 0]])}\n",
      "{'label': tensor([0, 1, 1, 0, 0, 0, 0, 0, 1, 0, 1, 0, 1, 0, 0, 0]), 'input_ids': tensor([[ 2, 13,  1,  ...,  0,  0,  0],\n",
      "        [ 2, 13,  1,  ...,  0,  0,  0],\n",
      "        [ 2, 13,  1,  ...,  0,  0,  0],\n",
      "        ...,\n",
      "        [ 2, 13,  1,  ...,  0,  0,  0],\n",
      "        [ 2, 13,  1,  ...,  0,  0,  0],\n",
      "        [ 2, 13,  1,  ...,  0,  0,  0]]), 'attention_mask': tensor([[1, 1, 1,  ..., 0, 0, 0],\n",
      "        [1, 1, 1,  ..., 0, 0, 0],\n",
      "        [1, 1, 1,  ..., 0, 0, 0],\n",
      "        ...,\n",
      "        [1, 1, 1,  ..., 0, 0, 0],\n",
      "        [1, 1, 1,  ..., 0, 0, 0],\n",
      "        [1, 1, 1,  ..., 0, 0, 0]])}\n",
      "{'label': tensor([0, 1, 0, 0, 1, 1, 0, 1, 1, 0, 1, 0, 0, 0, 0, 0]), 'input_ids': tensor([[ 2, 13,  1,  ...,  0,  0,  0],\n",
      "        [ 2, 13,  1,  ...,  0,  0,  0],\n",
      "        [ 2, 13,  1,  ...,  0,  0,  0],\n",
      "        ...,\n",
      "        [ 2, 13,  1,  ...,  0,  0,  0],\n",
      "        [ 2, 13,  1,  ...,  0,  0,  0],\n",
      "        [ 2, 13,  1,  ...,  0,  0,  0]]), 'attention_mask': tensor([[1, 1, 1,  ..., 0, 0, 0],\n",
      "        [1, 1, 1,  ..., 0, 0, 0],\n",
      "        [1, 1, 1,  ..., 0, 0, 0],\n",
      "        ...,\n",
      "        [1, 1, 1,  ..., 0, 0, 0],\n",
      "        [1, 1, 1,  ..., 0, 0, 0],\n",
      "        [1, 1, 1,  ..., 0, 0, 0]])}\n",
      "{'label': tensor([1, 0, 0, 0, 1, 1, 0, 0, 1, 1, 1, 1, 1, 0, 0, 1]), 'input_ids': tensor([[ 2, 13,  1,  ...,  0,  0,  0],\n",
      "        [ 2, 13,  1,  ...,  0,  0,  0],\n",
      "        [ 2, 13,  1,  ...,  0,  0,  0],\n",
      "        ...,\n",
      "        [ 2, 13,  1,  ...,  0,  0,  0],\n",
      "        [ 2, 13,  1,  ...,  0,  0,  0],\n",
      "        [ 2, 13,  1,  ...,  0,  0,  0]]), 'attention_mask': tensor([[1, 1, 1,  ..., 0, 0, 0],\n",
      "        [1, 1, 1,  ..., 0, 0, 0],\n",
      "        [1, 1, 1,  ..., 0, 0, 0],\n",
      "        ...,\n",
      "        [1, 1, 1,  ..., 0, 0, 0],\n",
      "        [1, 1, 1,  ..., 0, 0, 0],\n",
      "        [1, 1, 1,  ..., 0, 0, 0]])}\n",
      "{'label': tensor([1, 0, 1, 0, 0, 1, 1, 1, 0, 0, 0, 1, 1, 0, 0, 0]), 'input_ids': tensor([[   2,   13,    1,  ...,    0,    0,    0],\n",
      "        [   2,   13, 8197,  ...,    0,    0,    0],\n",
      "        [   2,   13,    1,  ...,    0,    0,    0],\n",
      "        ...,\n",
      "        [   2,   13,    1,  ...,    0,    0,    0],\n",
      "        [   2,   13,    8,  ...,    0,    0,    0],\n",
      "        [   2,   13,    1,  ...,    0,    0,    0]]), 'attention_mask': tensor([[1, 1, 1,  ..., 0, 0, 0],\n",
      "        [1, 1, 1,  ..., 0, 0, 0],\n",
      "        [1, 1, 1,  ..., 0, 0, 0],\n",
      "        ...,\n",
      "        [1, 1, 1,  ..., 0, 0, 0],\n",
      "        [1, 1, 1,  ..., 0, 0, 0],\n",
      "        [1, 1, 1,  ..., 0, 0, 0]])}\n",
      "{'label': tensor([1, 0, 0, 1, 1, 0, 0, 0, 0, 0, 0, 0, 0, 1, 1, 0]), 'input_ids': tensor([[  2,  13,   1,  ...,   0,   0,   0],\n",
      "        [  2,  13,   1,  ...,  20, 151,   3],\n",
      "        [  2,  13,   1,  ...,   0,   0,   0],\n",
      "        ...,\n",
      "        [  2,  13,   1,  ...,   0,   0,   0],\n",
      "        [  2,  13,   1,  ...,   0,   0,   0],\n",
      "        [  2,  13,   1,  ...,   0,   0,   0]]), 'attention_mask': tensor([[1, 1, 1,  ..., 0, 0, 0],\n",
      "        [1, 1, 1,  ..., 1, 1, 1],\n",
      "        [1, 1, 1,  ..., 0, 0, 0],\n",
      "        ...,\n",
      "        [1, 1, 1,  ..., 0, 0, 0],\n",
      "        [1, 1, 1,  ..., 0, 0, 0],\n",
      "        [1, 1, 1,  ..., 0, 0, 0]])}\n",
      "{'label': tensor([0, 0, 0, 0, 0, 1, 0, 1, 0, 0, 0, 0, 1, 0, 1, 0]), 'input_ids': tensor([[   2,   13,    1,  ...,    0,    0,    0],\n",
      "        [   2,   13,    1,  ...,    0,    0,    0],\n",
      "        [   2,  184, 5934,  ...,    0,    0,    0],\n",
      "        ...,\n",
      "        [   2,   13,    1,  ...,    0,    0,    0],\n",
      "        [   2,   13,    1,  ...,    0,    0,    0],\n",
      "        [   2,   13,    1,  ...,    0,    0,    0]]), 'attention_mask': tensor([[1, 1, 1,  ..., 0, 0, 0],\n",
      "        [1, 1, 1,  ..., 0, 0, 0],\n",
      "        [1, 1, 1,  ..., 0, 0, 0],\n",
      "        ...,\n",
      "        [1, 1, 1,  ..., 0, 0, 0],\n",
      "        [1, 1, 1,  ..., 0, 0, 0],\n",
      "        [1, 1, 1,  ..., 0, 0, 0]])}\n",
      "{'label': tensor([0, 0, 0, 0, 0, 0, 0, 1, 1, 0, 0, 0, 0, 1, 0, 0]), 'input_ids': tensor([[ 2, 13,  1,  ...,  0,  0,  0],\n",
      "        [ 2, 13,  1,  ...,  0,  0,  0],\n",
      "        [ 2, 13,  1,  ...,  0,  0,  0],\n",
      "        ...,\n",
      "        [ 2, 13,  1,  ...,  0,  0,  0],\n",
      "        [ 2, 13,  1,  ...,  0,  0,  0],\n",
      "        [ 2, 13,  1,  ...,  0,  0,  0]]), 'attention_mask': tensor([[1, 1, 1,  ..., 0, 0, 0],\n",
      "        [1, 1, 1,  ..., 0, 0, 0],\n",
      "        [1, 1, 1,  ..., 0, 0, 0],\n",
      "        ...,\n",
      "        [1, 1, 1,  ..., 0, 0, 0],\n",
      "        [1, 1, 1,  ..., 0, 0, 0],\n",
      "        [1, 1, 1,  ..., 0, 0, 0]])}\n",
      "{'label': tensor([0, 1, 0, 0, 1, 0, 1, 0, 1, 0, 0, 0, 1, 1, 0, 1]), 'input_ids': tensor([[ 2, 13,  1,  ...,  0,  0,  0],\n",
      "        [ 2, 13,  1,  ...,  0,  0,  0],\n",
      "        [ 2, 13,  1,  ...,  0,  0,  0],\n",
      "        ...,\n",
      "        [ 2, 13,  1,  ...,  0,  0,  0],\n",
      "        [ 2, 13,  1,  ...,  0,  0,  0],\n",
      "        [ 2, 13,  1,  ...,  0,  0,  0]]), 'attention_mask': tensor([[1, 1, 1,  ..., 0, 0, 0],\n",
      "        [1, 1, 1,  ..., 0, 0, 0],\n",
      "        [1, 1, 1,  ..., 0, 0, 0],\n",
      "        ...,\n",
      "        [1, 1, 1,  ..., 0, 0, 0],\n",
      "        [1, 1, 1,  ..., 0, 0, 0],\n",
      "        [1, 1, 1,  ..., 0, 0, 0]])}\n",
      "{'label': tensor([0, 0, 1, 0, 0, 0, 1, 1, 0, 1, 0, 0, 0, 1, 0, 0]), 'input_ids': tensor([[   2, 6926, 8147,  ...,    0,    0,    0],\n",
      "        [   2,   13,    1,  ...,    0,    0,    0],\n",
      "        [   2,   13,    1,  ...,    0,    0,    0],\n",
      "        ...,\n",
      "        [   2,   98,  100,  ...,    0,    0,    0],\n",
      "        [   2,   13,    1,  ...,    0,    0,    0],\n",
      "        [   2,   13,    9,  ...,    0,    0,    0]]), 'attention_mask': tensor([[1, 1, 1,  ..., 0, 0, 0],\n",
      "        [1, 1, 1,  ..., 0, 0, 0],\n",
      "        [1, 1, 1,  ..., 0, 0, 0],\n",
      "        ...,\n",
      "        [1, 1, 1,  ..., 0, 0, 0],\n",
      "        [1, 1, 1,  ..., 0, 0, 0],\n",
      "        [1, 1, 1,  ..., 0, 0, 0]])}\n",
      "{'label': tensor([1, 0, 0, 0, 1, 0, 1, 0, 0, 0, 0, 0, 1, 1, 1, 0]), 'input_ids': tensor([[ 2, 13,  1,  ...,  0,  0,  0],\n",
      "        [ 2, 13,  1,  ...,  0,  0,  0],\n",
      "        [ 2, 13,  1,  ...,  0,  0,  0],\n",
      "        ...,\n",
      "        [ 2, 13,  1,  ...,  0,  0,  0],\n",
      "        [ 2, 13,  1,  ...,  0,  0,  0],\n",
      "        [ 2, 13,  1,  ...,  0,  0,  0]]), 'attention_mask': tensor([[1, 1, 1,  ..., 0, 0, 0],\n",
      "        [1, 1, 1,  ..., 0, 0, 0],\n",
      "        [1, 1, 1,  ..., 0, 0, 0],\n",
      "        ...,\n",
      "        [1, 1, 1,  ..., 0, 0, 0],\n",
      "        [1, 1, 1,  ..., 0, 0, 0],\n",
      "        [1, 1, 1,  ..., 0, 0, 0]])}\n",
      "{'label': tensor([0, 0, 0, 0, 0, 1, 0, 0, 0, 0, 0, 0, 1, 0, 0, 0]), 'input_ids': tensor([[ 2, 13,  1,  ...,  0,  0,  0],\n",
      "        [ 2, 13,  1,  ...,  0,  0,  0],\n",
      "        [ 2, 13,  1,  ...,  0,  0,  0],\n",
      "        ...,\n",
      "        [ 2, 13,  1,  ...,  0,  0,  0],\n",
      "        [ 2, 13,  1,  ...,  0,  0,  0],\n",
      "        [ 2, 13,  1,  ...,  0,  0,  0]]), 'attention_mask': tensor([[1, 1, 1,  ..., 0, 0, 0],\n",
      "        [1, 1, 1,  ..., 0, 0, 0],\n",
      "        [1, 1, 1,  ..., 0, 0, 0],\n",
      "        ...,\n",
      "        [1, 1, 1,  ..., 0, 0, 0],\n",
      "        [1, 1, 1,  ..., 0, 0, 0],\n",
      "        [1, 1, 1,  ..., 0, 0, 0]])}\n",
      "{'label': tensor([0, 1, 0, 0, 0, 1, 0, 1, 0, 1, 0, 1, 0, 0, 1, 0]), 'input_ids': tensor([[    2,    13,     1,  ...,     0,     0,     0],\n",
      "        [    2,    13,     9,  ...,     0,     0,     0],\n",
      "        [    2,  6926,  2473,  ...,     0,     0,     0],\n",
      "        ...,\n",
      "        [    2,    13,     1,  ...,     1, 16704,     3],\n",
      "        [    2,    13,     1,  ...,     0,     0,     0],\n",
      "        [    2,    13,     1,  ...,     0,     0,     0]]), 'attention_mask': tensor([[1, 1, 1,  ..., 0, 0, 0],\n",
      "        [1, 1, 1,  ..., 0, 0, 0],\n",
      "        [1, 1, 1,  ..., 0, 0, 0],\n",
      "        ...,\n",
      "        [1, 1, 1,  ..., 1, 1, 1],\n",
      "        [1, 1, 1,  ..., 0, 0, 0],\n",
      "        [1, 1, 1,  ..., 0, 0, 0]])}\n",
      "{'label': tensor([1, 0, 1, 0, 0, 0, 0, 1, 0, 1, 0, 0, 0, 1, 0, 0]), 'input_ids': tensor([[  2,  13,   1,  ...,   0,   0,   0],\n",
      "        [  2, 137,   9,  ...,   0,   0,   0],\n",
      "        [  2,  13,   1,  ...,   0,   0,   0],\n",
      "        ...,\n",
      "        [  2,  13,   1,  ...,   0,   0,   0],\n",
      "        [  2,  13,   1,  ...,   0,   0,   0],\n",
      "        [  2,  13,   1,  ...,   0,   0,   0]]), 'attention_mask': tensor([[1, 1, 1,  ..., 0, 0, 0],\n",
      "        [1, 1, 1,  ..., 0, 0, 0],\n",
      "        [1, 1, 1,  ..., 0, 0, 0],\n",
      "        ...,\n",
      "        [1, 1, 1,  ..., 0, 0, 0],\n",
      "        [1, 1, 1,  ..., 0, 0, 0],\n",
      "        [1, 1, 1,  ..., 0, 0, 0]])}\n",
      "{'label': tensor([1, 0, 0, 0, 0, 1, 0, 0, 1, 0, 0, 0, 0, 0, 0, 0]), 'input_ids': tensor([[    2,    13,     1,  ...,     0,     0,     0],\n",
      "        [    2,    13,     1,  ...,     0,     0,     0],\n",
      "        [    2,    13,     1,  ...,     0,     0,     0],\n",
      "        ...,\n",
      "        [    2, 26743,    25,  ...,     0,     0,     0],\n",
      "        [    2,    13,     1,  ...,     0,     0,     0],\n",
      "        [    2,    13,     1,  ...,     0,     0,     0]]), 'attention_mask': tensor([[1, 1, 1,  ..., 0, 0, 0],\n",
      "        [1, 1, 1,  ..., 0, 0, 0],\n",
      "        [1, 1, 1,  ..., 0, 0, 0],\n",
      "        ...,\n",
      "        [1, 1, 1,  ..., 0, 0, 0],\n",
      "        [1, 1, 1,  ..., 0, 0, 0],\n",
      "        [1, 1, 1,  ..., 0, 0, 0]])}\n",
      "{'label': tensor([0, 0, 0, 1, 0, 1, 0, 0, 1, 1, 0, 0, 0, 0, 0, 0]), 'input_ids': tensor([[ 2, 13,  1,  ...,  0,  0,  0],\n",
      "        [ 2, 13,  1,  ...,  0,  0,  0],\n",
      "        [ 2, 13,  1,  ...,  0,  0,  0],\n",
      "        ...,\n",
      "        [ 2, 13,  1,  ...,  0,  0,  0],\n",
      "        [ 2, 13,  1,  ...,  0,  0,  0],\n",
      "        [ 2, 13,  1,  ...,  0,  0,  0]]), 'attention_mask': tensor([[1, 1, 1,  ..., 0, 0, 0],\n",
      "        [1, 1, 1,  ..., 0, 0, 0],\n",
      "        [1, 1, 1,  ..., 0, 0, 0],\n",
      "        ...,\n",
      "        [1, 1, 1,  ..., 0, 0, 0],\n",
      "        [1, 1, 1,  ..., 0, 0, 0],\n",
      "        [1, 1, 1,  ..., 0, 0, 0]])}\n",
      "{'label': tensor([0, 1, 1, 1, 0, 0, 1, 1, 1, 0, 1, 0, 0, 1, 0, 1]), 'input_ids': tensor([[ 2, 13,  1,  ...,  0,  0,  0],\n",
      "        [ 2, 13,  1,  ...,  0,  0,  0],\n",
      "        [ 2, 13,  1,  ...,  0,  0,  0],\n",
      "        ...,\n",
      "        [ 2, 13,  1,  ...,  0,  0,  0],\n",
      "        [ 2, 13,  1,  ...,  0,  0,  0],\n",
      "        [ 2, 13,  1,  ...,  0,  0,  0]]), 'attention_mask': tensor([[1, 1, 1,  ..., 0, 0, 0],\n",
      "        [1, 1, 1,  ..., 0, 0, 0],\n",
      "        [1, 1, 1,  ..., 0, 0, 0],\n",
      "        ...,\n",
      "        [1, 1, 1,  ..., 0, 0, 0],\n",
      "        [1, 1, 1,  ..., 0, 0, 0],\n",
      "        [1, 1, 1,  ..., 0, 0, 0]])}\n",
      "{'label': tensor([0, 0, 0, 1, 0, 1, 1, 0, 0, 0, 1, 1, 0, 1, 0, 0]), 'input_ids': tensor([[ 2, 13,  1,  ...,  0,  0,  0],\n",
      "        [ 2, 13,  1,  ...,  0,  0,  0],\n",
      "        [ 2, 13,  1,  ...,  0,  0,  0],\n",
      "        ...,\n",
      "        [ 2, 13,  1,  ...,  0,  0,  0],\n",
      "        [ 2, 13,  1,  ...,  0,  0,  0],\n",
      "        [ 2, 13,  1,  ...,  0,  0,  0]]), 'attention_mask': tensor([[1, 1, 1,  ..., 0, 0, 0],\n",
      "        [1, 1, 1,  ..., 0, 0, 0],\n",
      "        [1, 1, 1,  ..., 0, 0, 0],\n",
      "        ...,\n",
      "        [1, 1, 1,  ..., 0, 0, 0],\n",
      "        [1, 1, 1,  ..., 0, 0, 0],\n",
      "        [1, 1, 1,  ..., 0, 0, 0]])}\n",
      "{'label': tensor([0, 0, 0, 0, 0, 0, 0, 1, 0, 1, 0, 0, 0, 1, 1, 1]), 'input_ids': tensor([[   2, 6926, 8147,  ...,    0,    0,    0],\n",
      "        [   2,   13,    1,  ...,    0,    0,    0],\n",
      "        [   2,   13,    1,  ...,    0,    0,    0],\n",
      "        ...,\n",
      "        [   2,   13,    1,  ...,    0,    0,    0],\n",
      "        [   2,   13,    1,  ...,    0,    0,    0],\n",
      "        [   2,   13,    1,  ...,    0,    0,    0]]), 'attention_mask': tensor([[1, 1, 1,  ..., 0, 0, 0],\n",
      "        [1, 1, 1,  ..., 0, 0, 0],\n",
      "        [1, 1, 1,  ..., 0, 0, 0],\n",
      "        ...,\n",
      "        [1, 1, 1,  ..., 0, 0, 0],\n",
      "        [1, 1, 1,  ..., 0, 0, 0],\n",
      "        [1, 1, 1,  ..., 0, 0, 0]])}\n",
      "{'label': tensor([0, 1, 0, 0, 0, 0, 0, 0, 0, 0, 1, 0, 1, 0, 0, 1]), 'input_ids': tensor([[   2, 1637,   79,  ...,    0,    0,    0],\n",
      "        [   2,   13,    1,  ...,    0,    0,    0],\n",
      "        [   2,   13,    1,  ...,    0,    0,    0],\n",
      "        ...,\n",
      "        [   2,   13,    1,  ...,    0,    0,    0],\n",
      "        [   2, 6926, 4570,  ...,    0,    0,    0],\n",
      "        [   2,   13,    1,  ...,    0,    0,    0]]), 'attention_mask': tensor([[1, 1, 1,  ..., 0, 0, 0],\n",
      "        [1, 1, 1,  ..., 0, 0, 0],\n",
      "        [1, 1, 1,  ..., 0, 0, 0],\n",
      "        ...,\n",
      "        [1, 1, 1,  ..., 0, 0, 0],\n",
      "        [1, 1, 1,  ..., 0, 0, 0],\n",
      "        [1, 1, 1,  ..., 0, 0, 0]])}\n",
      "{'label': tensor([0, 0, 1, 0, 1, 1, 1, 1, 0, 0, 1, 0, 0, 0, 0, 0]), 'input_ids': tensor([[ 2, 13,  1,  ...,  0,  0,  0],\n",
      "        [ 2, 13,  1,  ...,  0,  0,  0],\n",
      "        [ 2, 13,  1,  ...,  0,  0,  0],\n",
      "        ...,\n",
      "        [ 2, 13,  1,  ...,  0,  0,  0],\n",
      "        [ 2, 13,  1,  ...,  0,  0,  0],\n",
      "        [ 2, 13,  1,  ...,  0,  0,  0]]), 'attention_mask': tensor([[1, 1, 1,  ..., 0, 0, 0],\n",
      "        [1, 1, 1,  ..., 0, 0, 0],\n",
      "        [1, 1, 1,  ..., 0, 0, 0],\n",
      "        ...,\n",
      "        [1, 1, 1,  ..., 0, 0, 0],\n",
      "        [1, 1, 1,  ..., 0, 0, 0],\n",
      "        [1, 1, 1,  ..., 0, 0, 0]])}\n",
      "{'label': tensor([0, 0, 0, 0, 0, 0, 0, 0, 0, 0, 0, 0, 1, 0, 1, 0]), 'input_ids': tensor([[ 2, 13,  1,  ...,  0,  0,  0],\n",
      "        [ 2, 13,  1,  ...,  0,  0,  0],\n",
      "        [ 2, 13,  1,  ...,  0,  0,  0],\n",
      "        ...,\n",
      "        [ 2, 13,  1,  ...,  0,  0,  0],\n",
      "        [ 2, 13,  1,  ...,  0,  0,  0],\n",
      "        [ 2, 13,  1,  ...,  0,  0,  0]]), 'attention_mask': tensor([[1, 1, 1,  ..., 0, 0, 0],\n",
      "        [1, 1, 1,  ..., 0, 0, 0],\n",
      "        [1, 1, 1,  ..., 0, 0, 0],\n",
      "        ...,\n",
      "        [1, 1, 1,  ..., 0, 0, 0],\n",
      "        [1, 1, 1,  ..., 0, 0, 0],\n",
      "        [1, 1, 1,  ..., 0, 0, 0]])}\n",
      "{'label': tensor([1, 0, 1, 0, 1, 1, 0, 1, 0, 0, 0, 0, 1, 0, 0, 0]), 'input_ids': tensor([[ 2, 13,  1,  ...,  0,  0,  0],\n",
      "        [ 2, 13,  1,  ...,  0,  0,  0],\n",
      "        [ 2, 13,  1,  ...,  0,  0,  0],\n",
      "        ...,\n",
      "        [ 2, 13,  9,  ...,  0,  0,  0],\n",
      "        [ 2, 13,  1,  ...,  0,  0,  0],\n",
      "        [ 2, 13,  1,  ...,  0,  0,  0]]), 'attention_mask': tensor([[1, 1, 1,  ..., 0, 0, 0],\n",
      "        [1, 1, 1,  ..., 0, 0, 0],\n",
      "        [1, 1, 1,  ..., 0, 0, 0],\n",
      "        ...,\n",
      "        [1, 1, 1,  ..., 0, 0, 0],\n",
      "        [1, 1, 1,  ..., 0, 0, 0],\n",
      "        [1, 1, 1,  ..., 0, 0, 0]])}\n",
      "{'label': tensor([1, 1, 0, 0, 0, 0, 0, 1, 0, 1, 0, 0, 0, 0, 1, 1]), 'input_ids': tensor([[   2,   13,    1,  ...,    0,    0,    0],\n",
      "        [   2, 6926,  458,  ...,    0,    0,    0],\n",
      "        [   2,   13,    1,  ...,    0,    0,    0],\n",
      "        ...,\n",
      "        [   2,   13,    1,  ...,    0,    0,    0],\n",
      "        [   2,   13,    1,  ...,    0,    0,    0],\n",
      "        [   2,   13,    1,  ...,    0,    0,    0]]), 'attention_mask': tensor([[1, 1, 1,  ..., 0, 0, 0],\n",
      "        [1, 1, 1,  ..., 0, 0, 0],\n",
      "        [1, 1, 1,  ..., 0, 0, 0],\n",
      "        ...,\n",
      "        [1, 1, 1,  ..., 0, 0, 0],\n",
      "        [1, 1, 1,  ..., 0, 0, 0],\n",
      "        [1, 1, 1,  ..., 0, 0, 0]])}\n",
      "{'label': tensor([1, 0, 1, 0, 1, 1, 0, 0, 1, 0, 0, 0, 0, 1, 0, 1]), 'input_ids': tensor([[    2,    13,     1,  ...,     0,     0,     0],\n",
      "        [    2,  5986, 24608,  ...,     0,     0,     0],\n",
      "        [    2,    13,     1,  ...,     0,     0,     0],\n",
      "        ...,\n",
      "        [    2,    13,     1,  ...,     0,     0,     0],\n",
      "        [    2,    13,     1,  ...,     0,     0,     0],\n",
      "        [    2,    13,     1,  ...,     0,     0,     0]]), 'attention_mask': tensor([[1, 1, 1,  ..., 0, 0, 0],\n",
      "        [1, 1, 1,  ..., 0, 0, 0],\n",
      "        [1, 1, 1,  ..., 0, 0, 0],\n",
      "        ...,\n",
      "        [1, 1, 1,  ..., 0, 0, 0],\n",
      "        [1, 1, 1,  ..., 0, 0, 0],\n",
      "        [1, 1, 1,  ..., 0, 0, 0]])}\n",
      "{'label': tensor([0, 0, 1, 1, 0, 1, 0, 0, 0, 1, 0, 0, 0, 0, 1, 1]), 'input_ids': tensor([[ 2, 13,  1,  ...,  0,  0,  0],\n",
      "        [ 2, 13,  1,  ...,  0,  0,  0],\n",
      "        [ 2, 13,  1,  ...,  0,  0,  0],\n",
      "        ...,\n",
      "        [ 2, 13,  1,  ...,  0,  0,  0],\n",
      "        [ 2, 13,  1,  ...,  0,  0,  0],\n",
      "        [ 2, 13,  1,  ...,  0,  0,  0]]), 'attention_mask': tensor([[1, 1, 1,  ..., 0, 0, 0],\n",
      "        [1, 1, 1,  ..., 0, 0, 0],\n",
      "        [1, 1, 1,  ..., 0, 0, 0],\n",
      "        ...,\n",
      "        [1, 1, 1,  ..., 0, 0, 0],\n",
      "        [1, 1, 1,  ..., 0, 0, 0],\n",
      "        [1, 1, 1,  ..., 0, 0, 0]])}\n",
      "{'label': tensor([0, 0, 0, 1, 0, 0, 1, 1, 0, 1, 0, 1, 0, 1, 1, 0]), 'input_ids': tensor([[ 2, 13,  1,  ...,  0,  0,  0],\n",
      "        [ 2, 13,  1,  ...,  0,  0,  0],\n",
      "        [ 2, 13,  1,  ...,  0,  0,  0],\n",
      "        ...,\n",
      "        [ 2, 13,  1,  ...,  0,  0,  0],\n",
      "        [ 2, 13,  1,  ...,  0,  0,  0],\n",
      "        [ 2, 13,  1,  ...,  0,  0,  0]]), 'attention_mask': tensor([[1, 1, 1,  ..., 0, 0, 0],\n",
      "        [1, 1, 1,  ..., 0, 0, 0],\n",
      "        [1, 1, 1,  ..., 0, 0, 0],\n",
      "        ...,\n",
      "        [1, 1, 1,  ..., 0, 0, 0],\n",
      "        [1, 1, 1,  ..., 0, 0, 0],\n",
      "        [1, 1, 1,  ..., 0, 0, 0]])}\n",
      "{'label': tensor([1, 1, 1, 1, 0, 0, 0, 1, 0, 0, 0, 1, 0, 1, 0, 0]), 'input_ids': tensor([[   2,   91,   13,  ...,    0,    0,    0],\n",
      "        [   2,   13,    1,  ...,    0,    0,    0],\n",
      "        [   2, 3934, 1948,  ...,    0,    0,    0],\n",
      "        ...,\n",
      "        [   2,   13,    1,  ...,    0,    0,    0],\n",
      "        [   2,   13,    1,  ...,    0,    0,    0],\n",
      "        [   2,   13,    1,  ...,    0,    0,    0]]), 'attention_mask': tensor([[1, 1, 1,  ..., 0, 0, 0],\n",
      "        [1, 1, 1,  ..., 0, 0, 0],\n",
      "        [1, 1, 1,  ..., 0, 0, 0],\n",
      "        ...,\n",
      "        [1, 1, 1,  ..., 0, 0, 0],\n",
      "        [1, 1, 1,  ..., 0, 0, 0],\n",
      "        [1, 1, 1,  ..., 0, 0, 0]])}\n",
      "{'label': tensor([0, 1, 0, 0, 0, 0, 1, 0, 0, 0, 0, 0, 1, 1, 1, 0]), 'input_ids': tensor([[   2,   13,    1,  ...,    0,    0,    0],\n",
      "        [   2,   13,    1,  ...,    0,    0,    0],\n",
      "        [   2,   13,    1,  ...,    0,    0,    0],\n",
      "        ...,\n",
      "        [   2,   13,    1,  ...,    0,    0,    0],\n",
      "        [   2,   13,    1,  ...,    0,    0,    0],\n",
      "        [   2, 4490, 3763,  ...,    0,    0,    0]]), 'attention_mask': tensor([[1, 1, 1,  ..., 0, 0, 0],\n",
      "        [1, 1, 1,  ..., 0, 0, 0],\n",
      "        [1, 1, 1,  ..., 0, 0, 0],\n",
      "        ...,\n",
      "        [1, 1, 1,  ..., 0, 0, 0],\n",
      "        [1, 1, 1,  ..., 0, 0, 0],\n",
      "        [1, 1, 1,  ..., 0, 0, 0]])}\n",
      "{'label': tensor([1, 0, 0, 0, 1, 0, 0, 0, 0, 1, 0, 0, 0, 1, 0, 0]), 'input_ids': tensor([[ 2, 13,  1,  ...,  0,  0,  0],\n",
      "        [ 2, 13,  1,  ...,  0,  0,  0],\n",
      "        [ 2, 13,  9,  ...,  0,  0,  0],\n",
      "        ...,\n",
      "        [ 2, 13,  1,  ...,  0,  0,  0],\n",
      "        [ 2, 13,  1,  ...,  0,  0,  0],\n",
      "        [ 2, 13,  1,  ...,  0,  0,  0]]), 'attention_mask': tensor([[1, 1, 1,  ..., 0, 0, 0],\n",
      "        [1, 1, 1,  ..., 0, 0, 0],\n",
      "        [1, 1, 1,  ..., 0, 0, 0],\n",
      "        ...,\n",
      "        [1, 1, 1,  ..., 0, 0, 0],\n",
      "        [1, 1, 1,  ..., 0, 0, 0],\n",
      "        [1, 1, 1,  ..., 0, 0, 0]])}\n",
      "{'label': tensor([0, 0, 0, 0, 1, 0, 1, 1, 0, 1, 0, 0, 0, 0, 0, 0]), 'input_ids': tensor([[    2,    13,     1,  ...,     0,     0,     0],\n",
      "        [    2,    13,     1,  ...,     0,     0,     0],\n",
      "        [    2,    13,     1,  ...,     0,     0,     0],\n",
      "        ...,\n",
      "        [    2,    13,     1,  ...,     0,     0,     0],\n",
      "        [    2,    13,     1,  ...,     0,     0,     0],\n",
      "        [    2,  6926, 28148,  ...,     0,     0,     0]]), 'attention_mask': tensor([[1, 1, 1,  ..., 0, 0, 0],\n",
      "        [1, 1, 1,  ..., 0, 0, 0],\n",
      "        [1, 1, 1,  ..., 0, 0, 0],\n",
      "        ...,\n",
      "        [1, 1, 1,  ..., 0, 0, 0],\n",
      "        [1, 1, 1,  ..., 0, 0, 0],\n",
      "        [1, 1, 1,  ..., 0, 0, 0]])}\n",
      "{'label': tensor([0, 0, 1, 0, 1, 1, 1, 0, 0, 0, 1, 1, 0, 1, 0, 0]), 'input_ids': tensor([[  2,  13,   1,  ...,   0,   0,   0],\n",
      "        [  2,  13,   1,  ...,   0,   0,   0],\n",
      "        [  2, 279, 263,  ...,   0,   0,   0],\n",
      "        ...,\n",
      "        [  2,  13,   1,  ...,   0,   0,   0],\n",
      "        [  2,  13,   1,  ...,   0,   0,   0],\n",
      "        [  2,  13,   1,  ...,   0,   0,   0]]), 'attention_mask': tensor([[1, 1, 1,  ..., 0, 0, 0],\n",
      "        [1, 1, 1,  ..., 0, 0, 0],\n",
      "        [1, 1, 1,  ..., 0, 0, 0],\n",
      "        ...,\n",
      "        [1, 1, 1,  ..., 0, 0, 0],\n",
      "        [1, 1, 1,  ..., 0, 0, 0],\n",
      "        [1, 1, 1,  ..., 0, 0, 0]])}\n",
      "{'label': tensor([0, 0, 0, 0, 0, 0, 0, 0, 1, 0, 0, 0, 0, 0, 1, 0]), 'input_ids': tensor([[   2,   13,    1,  ...,    0,    0,    0],\n",
      "        [   2,   13,    1,  ...,    0,    0,    0],\n",
      "        [   2,   14, 8695,  ...,    0,    0,    0],\n",
      "        ...,\n",
      "        [   2,   13,    1,  ...,    0,    0,    0],\n",
      "        [   2,   13,    1,  ...,    0,    0,    0],\n",
      "        [   2,  561,    9,  ...,    0,    0,    0]]), 'attention_mask': tensor([[1, 1, 1,  ..., 0, 0, 0],\n",
      "        [1, 1, 1,  ..., 0, 0, 0],\n",
      "        [1, 1, 1,  ..., 0, 0, 0],\n",
      "        ...,\n",
      "        [1, 1, 1,  ..., 0, 0, 0],\n",
      "        [1, 1, 1,  ..., 0, 0, 0],\n",
      "        [1, 1, 1,  ..., 0, 0, 0]])}\n",
      "{'label': tensor([0, 1, 1, 1, 0, 0, 1, 1, 1, 0, 0, 0, 1, 0, 0, 0]), 'input_ids': tensor([[ 2, 13,  1,  ...,  0,  0,  0],\n",
      "        [ 2, 13,  1,  ...,  0,  0,  0],\n",
      "        [ 2, 13,  1,  ...,  0,  0,  0],\n",
      "        ...,\n",
      "        [ 2, 13,  1,  ...,  0,  0,  0],\n",
      "        [ 2, 13,  1,  ...,  0,  0,  0],\n",
      "        [ 2, 13,  1,  ...,  0,  0,  0]]), 'attention_mask': tensor([[1, 1, 1,  ..., 0, 0, 0],\n",
      "        [1, 1, 1,  ..., 0, 0, 0],\n",
      "        [1, 1, 1,  ..., 0, 0, 0],\n",
      "        ...,\n",
      "        [1, 1, 1,  ..., 0, 0, 0],\n",
      "        [1, 1, 1,  ..., 0, 0, 0],\n",
      "        [1, 1, 1,  ..., 0, 0, 0]])}\n",
      "{'label': tensor([0, 0, 0, 1, 0, 0, 0, 1, 0, 1, 0, 0, 1, 0, 0, 0]), 'input_ids': tensor([[    2,   347, 11680,  ...,     0,     0,     0],\n",
      "        [    2,    13,     1,  ...,     0,     0,     0],\n",
      "        [    2,    13,     1,  ...,     0,     0,     0],\n",
      "        ...,\n",
      "        [    2,    13,     1,  ...,     0,     0,     0],\n",
      "        [    2,    13,     1,  ...,     0,     0,     0],\n",
      "        [    2,    13,     1,  ...,     0,     0,     0]]), 'attention_mask': tensor([[1, 1, 1,  ..., 0, 0, 0],\n",
      "        [1, 1, 1,  ..., 0, 0, 0],\n",
      "        [1, 1, 1,  ..., 0, 0, 0],\n",
      "        ...,\n",
      "        [1, 1, 1,  ..., 0, 0, 0],\n",
      "        [1, 1, 1,  ..., 0, 0, 0],\n",
      "        [1, 1, 1,  ..., 0, 0, 0]])}\n",
      "{'label': tensor([1, 0, 0, 0, 0, 0, 0, 0, 0, 0, 0, 0, 0, 0, 1, 0]), 'input_ids': tensor([[ 2, 13,  1,  ...,  0,  0,  0],\n",
      "        [ 2, 13,  1,  ...,  0,  0,  0],\n",
      "        [ 2, 13,  1,  ...,  0,  0,  0],\n",
      "        ...,\n",
      "        [ 2, 13,  1,  ...,  0,  0,  0],\n",
      "        [ 2, 13,  1,  ...,  0,  0,  0],\n",
      "        [ 2, 13,  1,  ...,  0,  0,  0]]), 'attention_mask': tensor([[1, 1, 1,  ..., 0, 0, 0],\n",
      "        [1, 1, 1,  ..., 0, 0, 0],\n",
      "        [1, 1, 1,  ..., 0, 0, 0],\n",
      "        ...,\n",
      "        [1, 1, 1,  ..., 0, 0, 0],\n",
      "        [1, 1, 1,  ..., 0, 0, 0],\n",
      "        [1, 1, 1,  ..., 0, 0, 0]])}\n",
      "{'label': tensor([0, 0, 1, 0, 0, 0, 0, 0, 0, 0, 0, 0, 0, 0, 0, 1]), 'input_ids': tensor([[ 2, 13,  1,  ...,  0,  0,  0],\n",
      "        [ 2, 13,  1,  ...,  0,  0,  0],\n",
      "        [ 2, 13,  1,  ...,  0,  0,  0],\n",
      "        ...,\n",
      "        [ 2, 13,  1,  ...,  0,  0,  0],\n",
      "        [ 2, 13,  1,  ...,  0,  0,  0],\n",
      "        [ 2, 13,  1,  ...,  0,  0,  0]]), 'attention_mask': tensor([[1, 1, 1,  ..., 0, 0, 0],\n",
      "        [1, 1, 1,  ..., 0, 0, 0],\n",
      "        [1, 1, 1,  ..., 0, 0, 0],\n",
      "        ...,\n",
      "        [1, 1, 1,  ..., 0, 0, 0],\n",
      "        [1, 1, 1,  ..., 0, 0, 0],\n",
      "        [1, 1, 1,  ..., 0, 0, 0]])}\n",
      "{'label': tensor([0, 0, 0, 0, 0, 1, 0, 0, 0, 0, 0, 0, 1, 1, 1, 0]), 'input_ids': tensor([[   2,   13,    1,  ...,    0,    0,    0],\n",
      "        [   2,   13,    1,  ...,    0,    0,    0],\n",
      "        [   2,   13,    1,  ...,    0,    0,    0],\n",
      "        ...,\n",
      "        [   2,   13,    1,  ...,    0,    0,    0],\n",
      "        [   2,   13,    1,  ...,    0,    0,    0],\n",
      "        [   2, 6926,  891,  ...,    0,    0,    0]]), 'attention_mask': tensor([[1, 1, 1,  ..., 0, 0, 0],\n",
      "        [1, 1, 1,  ..., 0, 0, 0],\n",
      "        [1, 1, 1,  ..., 0, 0, 0],\n",
      "        ...,\n",
      "        [1, 1, 1,  ..., 0, 0, 0],\n",
      "        [1, 1, 1,  ..., 0, 0, 0],\n",
      "        [1, 1, 1,  ..., 0, 0, 0]])}\n",
      "{'label': tensor([1, 0, 0, 1, 0, 1, 1, 0, 0, 0, 1, 0, 0, 0, 0, 0]), 'input_ids': tensor([[ 2, 13,  1,  ...,  0,  0,  0],\n",
      "        [ 2, 13,  1,  ...,  0,  0,  0],\n",
      "        [ 2, 13,  1,  ...,  0,  0,  0],\n",
      "        ...,\n",
      "        [ 2, 13,  1,  ...,  0,  0,  0],\n",
      "        [ 2, 13,  1,  ...,  0,  0,  0],\n",
      "        [ 2, 13,  1,  ...,  0,  0,  0]]), 'attention_mask': tensor([[1, 1, 1,  ..., 0, 0, 0],\n",
      "        [1, 1, 1,  ..., 0, 0, 0],\n",
      "        [1, 1, 1,  ..., 0, 0, 0],\n",
      "        ...,\n",
      "        [1, 1, 1,  ..., 0, 0, 0],\n",
      "        [1, 1, 1,  ..., 0, 0, 0],\n",
      "        [1, 1, 1,  ..., 0, 0, 0]])}\n",
      "{'label': tensor([1, 0, 0, 1, 0, 1, 0, 1, 0, 0, 0, 1, 0, 1, 1, 0]), 'input_ids': tensor([[   2,   13,    1,  ...,    0,    0,    0],\n",
      "        [   2,   13,    1,  ...,    0,    0,    0],\n",
      "        [   2,   13,    1,  ...,    0,    0,    0],\n",
      "        ...,\n",
      "        [   2,   13,    1,  ...,    0,    0,    0],\n",
      "        [   2, 6926, 2968,  ...,    0,    0,    0],\n",
      "        [   2,   13,    1,  ...,    0,    0,    0]]), 'attention_mask': tensor([[1, 1, 1,  ..., 0, 0, 0],\n",
      "        [1, 1, 1,  ..., 0, 0, 0],\n",
      "        [1, 1, 1,  ..., 0, 0, 0],\n",
      "        ...,\n",
      "        [1, 1, 1,  ..., 0, 0, 0],\n",
      "        [1, 1, 1,  ..., 0, 0, 0],\n",
      "        [1, 1, 1,  ..., 0, 0, 0]])}\n",
      "{'label': tensor([0, 0, 1, 0, 0, 0, 1, 1, 1, 0, 0, 0, 1, 0, 1, 0]), 'input_ids': tensor([[ 2, 13,  1,  ...,  0,  0,  0],\n",
      "        [ 2, 13,  1,  ...,  0,  0,  0],\n",
      "        [ 2, 13,  1,  ...,  0,  0,  0],\n",
      "        ...,\n",
      "        [ 2, 13,  1,  ...,  0,  0,  0],\n",
      "        [ 2, 13,  1,  ...,  0,  0,  0],\n",
      "        [ 2, 13,  1,  ...,  0,  0,  0]]), 'attention_mask': tensor([[1, 1, 1,  ..., 0, 0, 0],\n",
      "        [1, 1, 1,  ..., 0, 0, 0],\n",
      "        [1, 1, 1,  ..., 0, 0, 0],\n",
      "        ...,\n",
      "        [1, 1, 1,  ..., 0, 0, 0],\n",
      "        [1, 1, 1,  ..., 0, 0, 0],\n",
      "        [1, 1, 1,  ..., 0, 0, 0]])}\n",
      "{'label': tensor([0, 1, 0, 1, 0, 1, 1, 1, 0, 0, 0, 0, 0, 0, 1, 0]), 'input_ids': tensor([[   2,   13,    1,  ...,    0,    0,    0],\n",
      "        [   2,   13,    1,  ...,    0,    0,    0],\n",
      "        [   2,   13,    1,  ...,    0,    0,    0],\n",
      "        ...,\n",
      "        [   2,   13,    1,  ...,    0,    0,    0],\n",
      "        [   2,   13,    1,  ...,    0,    0,    0],\n",
      "        [   2, 6926, 3052,  ...,    0,    0,    0]]), 'attention_mask': tensor([[1, 1, 1,  ..., 0, 0, 0],\n",
      "        [1, 1, 1,  ..., 0, 0, 0],\n",
      "        [1, 1, 1,  ..., 0, 0, 0],\n",
      "        ...,\n",
      "        [1, 1, 1,  ..., 0, 0, 0],\n",
      "        [1, 1, 1,  ..., 0, 0, 0],\n",
      "        [1, 1, 1,  ..., 0, 0, 0]])}\n",
      "{'label': tensor([1, 0, 0, 1, 0, 1, 0, 0, 0, 0, 1, 0, 0, 1, 0, 0]), 'input_ids': tensor([[    2,    13,     1,  ...,     0,     0,     0],\n",
      "        [    2,    13,     1,  ...,     0,     0,     0],\n",
      "        [    2,  6926, 11559,  ...,     0,     0,     0],\n",
      "        ...,\n",
      "        [    2,    13,     1,  ...,     0,     0,     0],\n",
      "        [    2,    13,     1,  ...,     0,     0,     0],\n",
      "        [    2,    13,     1,  ...,     0,     0,     0]]), 'attention_mask': tensor([[1, 1, 1,  ..., 0, 0, 0],\n",
      "        [1, 1, 1,  ..., 0, 0, 0],\n",
      "        [1, 1, 1,  ..., 0, 0, 0],\n",
      "        ...,\n",
      "        [1, 1, 1,  ..., 0, 0, 0],\n",
      "        [1, 1, 1,  ..., 0, 0, 0],\n",
      "        [1, 1, 1,  ..., 0, 0, 0]])}\n",
      "{'label': tensor([0, 1, 1, 0, 0, 1, 0, 0, 0, 1, 0, 1, 1, 0, 0, 0]), 'input_ids': tensor([[  2,  13,   1,  ...,   0,   0,   0],\n",
      "        [  2,  13,   1,  ...,   0,   0,   0],\n",
      "        [  2,  21, 175,  ...,   0,   0,   0],\n",
      "        ...,\n",
      "        [  2,  13,   1,  ...,   0,   0,   0],\n",
      "        [  2,  13,   1,  ...,   0,   0,   0],\n",
      "        [  2,  13,   1,  ...,   0,   0,   0]]), 'attention_mask': tensor([[1, 1, 1,  ..., 0, 0, 0],\n",
      "        [1, 1, 1,  ..., 0, 0, 0],\n",
      "        [1, 1, 1,  ..., 0, 0, 0],\n",
      "        ...,\n",
      "        [1, 1, 1,  ..., 0, 0, 0],\n",
      "        [1, 1, 1,  ..., 0, 0, 0],\n",
      "        [1, 1, 1,  ..., 0, 0, 0]])}\n",
      "{'label': tensor([0, 0, 0, 0, 0, 0, 1, 0, 1, 0, 0, 1, 0, 0, 0, 0]), 'input_ids': tensor([[ 2, 13,  1,  ...,  0,  0,  0],\n",
      "        [ 2, 13,  1,  ...,  0,  0,  0],\n",
      "        [ 2, 13,  1,  ...,  0,  0,  0],\n",
      "        ...,\n",
      "        [ 2, 13,  1,  ...,  0,  0,  0],\n",
      "        [ 2, 13,  1,  ...,  0,  0,  0],\n",
      "        [ 2, 13,  1,  ...,  0,  0,  0]]), 'attention_mask': tensor([[1, 1, 1,  ..., 0, 0, 0],\n",
      "        [1, 1, 1,  ..., 0, 0, 0],\n",
      "        [1, 1, 1,  ..., 0, 0, 0],\n",
      "        ...,\n",
      "        [1, 1, 1,  ..., 0, 0, 0],\n",
      "        [1, 1, 1,  ..., 0, 0, 0],\n",
      "        [1, 1, 1,  ..., 0, 0, 0]])}\n",
      "{'label': tensor([0, 0, 0, 0, 1, 0, 1, 0, 0, 1, 1, 0, 0, 0, 1, 0]), 'input_ids': tensor([[ 2, 13,  1,  ...,  0,  0,  0],\n",
      "        [ 2, 13,  1,  ...,  0,  0,  0],\n",
      "        [ 2, 13,  1,  ...,  0,  0,  0],\n",
      "        ...,\n",
      "        [ 2, 13,  1,  ...,  0,  0,  0],\n",
      "        [ 2, 13,  1,  ...,  0,  0,  0],\n",
      "        [ 2, 13,  1,  ...,  0,  0,  0]]), 'attention_mask': tensor([[1, 1, 1,  ..., 0, 0, 0],\n",
      "        [1, 1, 1,  ..., 0, 0, 0],\n",
      "        [1, 1, 1,  ..., 0, 0, 0],\n",
      "        ...,\n",
      "        [1, 1, 1,  ..., 0, 0, 0],\n",
      "        [1, 1, 1,  ..., 0, 0, 0],\n",
      "        [1, 1, 1,  ..., 0, 0, 0]])}\n",
      "{'label': tensor([1, 0, 1, 1, 0, 0, 0, 1, 0, 0, 0, 0, 0, 0, 1, 1]), 'input_ids': tensor([[ 2, 13,  1,  ...,  0,  0,  0],\n",
      "        [ 2, 13,  1,  ...,  0,  0,  0],\n",
      "        [ 2, 13,  1,  ...,  0,  0,  0],\n",
      "        ...,\n",
      "        [ 2, 13,  1,  ...,  0,  0,  0],\n",
      "        [ 2, 13,  1,  ...,  0,  0,  0],\n",
      "        [ 2, 13,  1,  ...,  0,  0,  0]]), 'attention_mask': tensor([[1, 1, 1,  ..., 0, 0, 0],\n",
      "        [1, 1, 1,  ..., 0, 0, 0],\n",
      "        [1, 1, 1,  ..., 0, 0, 0],\n",
      "        ...,\n",
      "        [1, 1, 1,  ..., 0, 0, 0],\n",
      "        [1, 1, 1,  ..., 0, 0, 0],\n",
      "        [1, 1, 1,  ..., 0, 0, 0]])}\n",
      "{'label': tensor([0, 1, 1, 1, 0, 1, 1, 0, 1, 1, 1, 0, 1, 0, 1, 0]), 'input_ids': tensor([[ 2, 13,  1,  ...,  0,  0,  0],\n",
      "        [ 2, 13,  1,  ...,  0,  0,  0],\n",
      "        [ 2, 13,  1,  ...,  0,  0,  0],\n",
      "        ...,\n",
      "        [ 2, 13,  1,  ...,  0,  0,  0],\n",
      "        [ 2, 13,  1,  ...,  0,  0,  0],\n",
      "        [ 2, 13,  1,  ...,  0,  0,  0]]), 'attention_mask': tensor([[1, 1, 1,  ..., 0, 0, 0],\n",
      "        [1, 1, 1,  ..., 0, 0, 0],\n",
      "        [1, 1, 1,  ..., 0, 0, 0],\n",
      "        ...,\n",
      "        [1, 1, 1,  ..., 0, 0, 0],\n",
      "        [1, 1, 1,  ..., 0, 0, 0],\n",
      "        [1, 1, 1,  ..., 0, 0, 0]])}\n",
      "{'label': tensor([0, 0, 0, 0, 1, 0, 0, 0, 1, 0, 0, 0, 0, 0, 0, 1]), 'input_ids': tensor([[   2, 6926, 2636,  ...,    0,    0,    0],\n",
      "        [   2, 1288, 7095,  ...,    0,    0,    0],\n",
      "        [   2,   13,    1,  ...,    0,    0,    0],\n",
      "        ...,\n",
      "        [   2,   13,    1,  ...,    0,    0,    0],\n",
      "        [   2,   13,    1,  ...,    0,    0,    0],\n",
      "        [   2,   13,    1,  ...,    0,    0,    0]]), 'attention_mask': tensor([[1, 1, 1,  ..., 0, 0, 0],\n",
      "        [1, 1, 1,  ..., 0, 0, 0],\n",
      "        [1, 1, 1,  ..., 0, 0, 0],\n",
      "        ...,\n",
      "        [1, 1, 1,  ..., 0, 0, 0],\n",
      "        [1, 1, 1,  ..., 0, 0, 0],\n",
      "        [1, 1, 1,  ..., 0, 0, 0]])}\n",
      "{'label': tensor([1, 0, 0, 0, 1, 0, 0, 0, 1, 0, 1, 0, 0, 0, 1, 0]), 'input_ids': tensor([[ 2, 13,  1,  ...,  0,  0,  0],\n",
      "        [ 2, 13,  1,  ...,  0,  0,  0],\n",
      "        [ 2, 13,  1,  ...,  0,  0,  0],\n",
      "        ...,\n",
      "        [ 2, 13,  1,  ...,  0,  0,  0],\n",
      "        [ 2, 13,  1,  ...,  0,  0,  0],\n",
      "        [ 2, 13,  1,  ...,  0,  0,  0]]), 'attention_mask': tensor([[1, 1, 1,  ..., 0, 0, 0],\n",
      "        [1, 1, 1,  ..., 0, 0, 0],\n",
      "        [1, 1, 1,  ..., 0, 0, 0],\n",
      "        ...,\n",
      "        [1, 1, 1,  ..., 0, 0, 0],\n",
      "        [1, 1, 1,  ..., 0, 0, 0],\n",
      "        [1, 1, 1,  ..., 0, 0, 0]])}\n",
      "{'label': tensor([0, 0, 1, 0, 0, 0, 0, 1, 0, 1, 1, 0, 0, 0, 0, 0]), 'input_ids': tensor([[ 2, 13,  1,  ...,  0,  0,  0],\n",
      "        [ 2, 13,  1,  ...,  0,  0,  0],\n",
      "        [ 2, 13,  1,  ...,  0,  0,  0],\n",
      "        ...,\n",
      "        [ 2, 13,  1,  ...,  0,  0,  0],\n",
      "        [ 2, 13,  1,  ...,  0,  0,  0],\n",
      "        [ 2, 13,  1,  ...,  0,  0,  0]]), 'attention_mask': tensor([[1, 1, 1,  ..., 0, 0, 0],\n",
      "        [1, 1, 1,  ..., 0, 0, 0],\n",
      "        [1, 1, 1,  ..., 0, 0, 0],\n",
      "        ...,\n",
      "        [1, 1, 1,  ..., 0, 0, 0],\n",
      "        [1, 1, 1,  ..., 0, 0, 0],\n",
      "        [1, 1, 1,  ..., 0, 0, 0]])}\n",
      "{'label': tensor([0, 0, 0, 0, 1, 1, 1, 0, 0, 1, 0, 0, 0, 1, 0, 0]), 'input_ids': tensor([[ 2, 13,  1,  ...,  0,  0,  0],\n",
      "        [ 2, 13,  1,  ...,  0,  0,  0],\n",
      "        [ 2, 13,  1,  ...,  0,  0,  0],\n",
      "        ...,\n",
      "        [ 2, 13,  1,  ...,  0,  0,  0],\n",
      "        [ 2, 13,  1,  ...,  0,  0,  0],\n",
      "        [ 2, 13,  1,  ...,  0,  0,  0]]), 'attention_mask': tensor([[1, 1, 1,  ..., 0, 0, 0],\n",
      "        [1, 1, 1,  ..., 0, 0, 0],\n",
      "        [1, 1, 1,  ..., 0, 0, 0],\n",
      "        ...,\n",
      "        [1, 1, 1,  ..., 0, 0, 0],\n",
      "        [1, 1, 1,  ..., 0, 0, 0],\n",
      "        [1, 1, 1,  ..., 0, 0, 0]])}\n",
      "{'label': tensor([1, 0, 0, 0, 1, 1, 1, 0, 0, 0, 1, 0, 1, 0, 0, 1]), 'input_ids': tensor([[ 2, 13,  1,  ...,  0,  0,  0],\n",
      "        [ 2, 13,  1,  ...,  0,  0,  0],\n",
      "        [ 2, 13,  1,  ...,  0,  0,  0],\n",
      "        ...,\n",
      "        [ 2, 13,  1,  ...,  0,  0,  0],\n",
      "        [ 2, 13,  1,  ...,  0,  0,  0],\n",
      "        [ 2, 13,  1,  ...,  0,  0,  0]]), 'attention_mask': tensor([[1, 1, 1,  ..., 0, 0, 0],\n",
      "        [1, 1, 1,  ..., 0, 0, 0],\n",
      "        [1, 1, 1,  ..., 0, 0, 0],\n",
      "        ...,\n",
      "        [1, 1, 1,  ..., 0, 0, 0],\n",
      "        [1, 1, 1,  ..., 0, 0, 0],\n",
      "        [1, 1, 1,  ..., 0, 0, 0]])}\n",
      "{'label': tensor([1, 1, 0, 1, 1, 1, 0, 1, 0, 1, 0, 1, 0, 0, 1, 1]), 'input_ids': tensor([[ 2, 13,  1,  ...,  0,  0,  0],\n",
      "        [ 2, 13,  1,  ...,  0,  0,  0],\n",
      "        [ 2, 13,  1,  ...,  0,  0,  0],\n",
      "        ...,\n",
      "        [ 2, 13,  1,  ...,  0,  0,  0],\n",
      "        [ 2, 13,  1,  ...,  0,  0,  0],\n",
      "        [ 2, 13,  1,  ...,  0,  0,  0]]), 'attention_mask': tensor([[1, 1, 1,  ..., 0, 0, 0],\n",
      "        [1, 1, 1,  ..., 0, 0, 0],\n",
      "        [1, 1, 1,  ..., 0, 0, 0],\n",
      "        ...,\n",
      "        [1, 1, 1,  ..., 0, 0, 0],\n",
      "        [1, 1, 1,  ..., 0, 0, 0],\n",
      "        [1, 1, 1,  ..., 0, 0, 0]])}\n",
      "{'label': tensor([0, 1, 0, 0, 1, 1, 0, 0, 0, 1, 0, 0, 1, 0, 0, 1]), 'input_ids': tensor([[   2,   13,    1,  ...,    0,    0,    0],\n",
      "        [   2,   13,    1,  ...,    0,    0,    0],\n",
      "        [   2,   13,    1,  ...,    0,    0,    0],\n",
      "        ...,\n",
      "        [   2,   13, 1409,  ...,    0,    0,    0],\n",
      "        [   2,   13,    1,  ...,    0,    0,    0],\n",
      "        [   2,   13,    1,  ...,    0,    0,    0]]), 'attention_mask': tensor([[1, 1, 1,  ..., 0, 0, 0],\n",
      "        [1, 1, 1,  ..., 0, 0, 0],\n",
      "        [1, 1, 1,  ..., 0, 0, 0],\n",
      "        ...,\n",
      "        [1, 1, 1,  ..., 0, 0, 0],\n",
      "        [1, 1, 1,  ..., 0, 0, 0],\n",
      "        [1, 1, 1,  ..., 0, 0, 0]])}\n",
      "{'label': tensor([0, 0, 0, 0, 1, 0, 1, 0, 0, 0, 1, 1, 0, 0, 0, 0]), 'input_ids': tensor([[   2,   13,    1,  ...,    0,    0,    0],\n",
      "        [   2,   13,    1,  ...,    0,    0,    0],\n",
      "        [   2,   13,    1,  ...,    0,    0,    0],\n",
      "        ...,\n",
      "        [   2,  547, 4031,  ...,    0,    0,    0],\n",
      "        [   2,   13,    1,  ...,    0,    0,    0],\n",
      "        [   2, 1637, 1146,  ...,    0,    0,    0]]), 'attention_mask': tensor([[1, 1, 1,  ..., 0, 0, 0],\n",
      "        [1, 1, 1,  ..., 0, 0, 0],\n",
      "        [1, 1, 1,  ..., 0, 0, 0],\n",
      "        ...,\n",
      "        [1, 1, 1,  ..., 0, 0, 0],\n",
      "        [1, 1, 1,  ..., 0, 0, 0],\n",
      "        [1, 1, 1,  ..., 0, 0, 0]])}\n",
      "{'label': tensor([0, 0, 1, 0, 0, 1, 0, 0, 0, 1, 0, 0, 1, 1, 1, 0]), 'input_ids': tensor([[ 2, 13,  1,  ...,  0,  0,  0],\n",
      "        [ 2, 13,  9,  ...,  0,  0,  0],\n",
      "        [ 2, 13,  1,  ...,  0,  0,  0],\n",
      "        ...,\n",
      "        [ 2, 13,  1,  ...,  0,  0,  0],\n",
      "        [ 2, 13,  1,  ...,  0,  0,  0],\n",
      "        [ 2, 13,  1,  ...,  0,  0,  0]]), 'attention_mask': tensor([[1, 1, 1,  ..., 0, 0, 0],\n",
      "        [1, 1, 1,  ..., 0, 0, 0],\n",
      "        [1, 1, 1,  ..., 0, 0, 0],\n",
      "        ...,\n",
      "        [1, 1, 1,  ..., 0, 0, 0],\n",
      "        [1, 1, 1,  ..., 0, 0, 0],\n",
      "        [1, 1, 1,  ..., 0, 0, 0]])}\n",
      "{'label': tensor([0, 0, 0, 0, 1, 0, 0, 1, 1, 0, 1, 1, 1, 0, 0, 1]), 'input_ids': tensor([[   2,   13,    1,  ...,    0,    0,    0],\n",
      "        [   2,   13,    1,  ...,    0,    0,    0],\n",
      "        [   2,   13,    1,  ...,    0,    0,    0],\n",
      "        ...,\n",
      "        [   2,   13,    1,  ...,    0,    0,    0],\n",
      "        [   2, 6926, 3843,  ...,    0,    0,    0],\n",
      "        [   2,   13,    1,  ...,    0,    0,    0]]), 'attention_mask': tensor([[1, 1, 1,  ..., 0, 0, 0],\n",
      "        [1, 1, 1,  ..., 0, 0, 0],\n",
      "        [1, 1, 1,  ..., 0, 0, 0],\n",
      "        ...,\n",
      "        [1, 1, 1,  ..., 0, 0, 0],\n",
      "        [1, 1, 1,  ..., 0, 0, 0],\n",
      "        [1, 1, 1,  ..., 0, 0, 0]])}\n",
      "{'label': tensor([0, 0, 0, 1, 1, 1, 1, 0, 1, 0, 1, 1, 0, 0, 0, 0]), 'input_ids': tensor([[ 2, 13,  1,  ...,  0,  0,  0],\n",
      "        [ 2, 13,  1,  ...,  0,  0,  0],\n",
      "        [ 2, 13,  1,  ...,  0,  0,  0],\n",
      "        ...,\n",
      "        [ 2, 13,  1,  ...,  0,  0,  0],\n",
      "        [ 2, 13,  1,  ...,  0,  0,  0],\n",
      "        [ 2, 13,  1,  ...,  0,  0,  0]]), 'attention_mask': tensor([[1, 1, 1,  ..., 0, 0, 0],\n",
      "        [1, 1, 1,  ..., 0, 0, 0],\n",
      "        [1, 1, 1,  ..., 0, 0, 0],\n",
      "        ...,\n",
      "        [1, 1, 1,  ..., 0, 0, 0],\n",
      "        [1, 1, 1,  ..., 0, 0, 0],\n",
      "        [1, 1, 1,  ..., 0, 0, 0]])}\n",
      "{'label': tensor([1, 0, 0, 1, 0, 1, 1, 0, 0, 0, 1, 0, 1, 0, 1, 1]), 'input_ids': tensor([[ 2, 13,  1,  ...,  0,  0,  0],\n",
      "        [ 2, 13,  1,  ...,  0,  0,  0],\n",
      "        [ 2, 13,  1,  ...,  0,  0,  0],\n",
      "        ...,\n",
      "        [ 2, 13,  1,  ...,  0,  0,  0],\n",
      "        [ 2, 13,  1,  ...,  0,  0,  0],\n",
      "        [ 2, 13,  1,  ...,  0,  0,  0]]), 'attention_mask': tensor([[1, 1, 1,  ..., 0, 0, 0],\n",
      "        [1, 1, 1,  ..., 0, 0, 0],\n",
      "        [1, 1, 1,  ..., 0, 0, 0],\n",
      "        ...,\n",
      "        [1, 1, 1,  ..., 0, 0, 0],\n",
      "        [1, 1, 1,  ..., 0, 0, 0],\n",
      "        [1, 1, 1,  ..., 0, 0, 0]])}\n",
      "{'label': tensor([0, 1, 1, 1, 1, 1, 1, 1, 0, 1, 0, 0, 0, 0, 1, 0]), 'input_ids': tensor([[ 2, 13,  1,  ...,  0,  0,  0],\n",
      "        [ 2, 13,  1,  ...,  0,  0,  0],\n",
      "        [ 2, 13,  1,  ...,  0,  0,  0],\n",
      "        ...,\n",
      "        [ 2, 13,  1,  ...,  0,  0,  0],\n",
      "        [ 2, 13,  1,  ...,  0,  0,  0],\n",
      "        [ 2, 13,  1,  ...,  0,  0,  0]]), 'attention_mask': tensor([[1, 1, 1,  ..., 0, 0, 0],\n",
      "        [1, 1, 1,  ..., 0, 0, 0],\n",
      "        [1, 1, 1,  ..., 0, 0, 0],\n",
      "        ...,\n",
      "        [1, 1, 1,  ..., 0, 0, 0],\n",
      "        [1, 1, 1,  ..., 0, 0, 0],\n",
      "        [1, 1, 1,  ..., 0, 0, 0]])}\n",
      "{'label': tensor([0, 0, 1, 1, 1, 1, 1, 0, 0, 0, 0, 1, 0, 0, 0, 0]), 'input_ids': tensor([[ 2, 13,  1,  ...,  0,  0,  0],\n",
      "        [ 2, 13,  1,  ...,  0,  0,  0],\n",
      "        [ 2, 13,  1,  ...,  0,  0,  0],\n",
      "        ...,\n",
      "        [ 2, 13,  1,  ...,  0,  0,  0],\n",
      "        [ 2, 13,  1,  ...,  0,  0,  0],\n",
      "        [ 2, 13,  1,  ...,  0,  0,  0]]), 'attention_mask': tensor([[1, 1, 1,  ..., 0, 0, 0],\n",
      "        [1, 1, 1,  ..., 0, 0, 0],\n",
      "        [1, 1, 1,  ..., 0, 0, 0],\n",
      "        ...,\n",
      "        [1, 1, 1,  ..., 0, 0, 0],\n",
      "        [1, 1, 1,  ..., 0, 0, 0],\n",
      "        [1, 1, 1,  ..., 0, 0, 0]])}\n",
      "{'label': tensor([0, 0, 0, 1, 0, 0, 0, 0, 0, 1, 1, 0, 1, 0, 1, 0]), 'input_ids': tensor([[ 2, 13,  1,  ...,  0,  0,  0],\n",
      "        [ 2, 13,  1,  ...,  0,  0,  0],\n",
      "        [ 2, 13,  1,  ...,  0,  0,  0],\n",
      "        ...,\n",
      "        [ 2, 13,  1,  ...,  0,  0,  0],\n",
      "        [ 2, 13,  1,  ...,  0,  0,  0],\n",
      "        [ 2, 13,  9,  ...,  0,  0,  0]]), 'attention_mask': tensor([[1, 1, 1,  ..., 0, 0, 0],\n",
      "        [1, 1, 1,  ..., 0, 0, 0],\n",
      "        [1, 1, 1,  ..., 0, 0, 0],\n",
      "        ...,\n",
      "        [1, 1, 1,  ..., 0, 0, 0],\n",
      "        [1, 1, 1,  ..., 0, 0, 0],\n",
      "        [1, 1, 1,  ..., 0, 0, 0]])}\n",
      "{'label': tensor([0, 0, 0, 1, 0, 0, 1, 0, 1, 0, 0, 0, 0, 0, 0, 0]), 'input_ids': tensor([[ 2, 13,  1,  ...,  0,  0,  0],\n",
      "        [ 2, 13,  1,  ...,  0,  0,  0],\n",
      "        [ 2, 13,  1,  ...,  0,  0,  0],\n",
      "        ...,\n",
      "        [ 2, 13,  1,  ...,  0,  0,  0],\n",
      "        [ 2, 13,  1,  ...,  0,  0,  0],\n",
      "        [ 2, 13,  1,  ...,  0,  0,  0]]), 'attention_mask': tensor([[1, 1, 1,  ..., 0, 0, 0],\n",
      "        [1, 1, 1,  ..., 0, 0, 0],\n",
      "        [1, 1, 1,  ..., 0, 0, 0],\n",
      "        ...,\n",
      "        [1, 1, 1,  ..., 0, 0, 0],\n",
      "        [1, 1, 1,  ..., 0, 0, 0],\n",
      "        [1, 1, 1,  ..., 0, 0, 0]])}\n",
      "{'label': tensor([0, 0, 1, 0, 1, 0, 1, 0, 1, 1, 0, 1, 0, 1, 1, 1]), 'input_ids': tensor([[ 2, 13,  1,  ...,  0,  0,  0],\n",
      "        [ 2, 13,  1,  ...,  0,  0,  0],\n",
      "        [ 2, 13,  1,  ...,  0,  0,  0],\n",
      "        ...,\n",
      "        [ 2, 13,  1,  ...,  0,  0,  0],\n",
      "        [ 2, 13,  1,  ...,  0,  0,  0],\n",
      "        [ 2, 13,  1,  ...,  0,  0,  0]]), 'attention_mask': tensor([[1, 1, 1,  ..., 0, 0, 0],\n",
      "        [1, 1, 1,  ..., 0, 0, 0],\n",
      "        [1, 1, 1,  ..., 0, 0, 0],\n",
      "        ...,\n",
      "        [1, 1, 1,  ..., 0, 0, 0],\n",
      "        [1, 1, 1,  ..., 0, 0, 0],\n",
      "        [1, 1, 1,  ..., 0, 0, 0]])}\n",
      "{'label': tensor([1, 1, 0, 0, 0, 0, 1, 0, 0, 1, 0, 1, 0, 0, 1, 0]), 'input_ids': tensor([[    2,    13,     1,  ...,     0,     0,     0],\n",
      "        [    2,    13,     1,  ...,     0,     0,     0],\n",
      "        [    2, 23056,   187,  ...,     0,     0,     0],\n",
      "        ...,\n",
      "        [    2,    13,     1,  ...,     0,     0,     0],\n",
      "        [    2,    13,     1,  ...,     0,     0,     0],\n",
      "        [    2,    13,     1,  ...,     0,     0,     0]]), 'attention_mask': tensor([[1, 1, 1,  ..., 0, 0, 0],\n",
      "        [1, 1, 1,  ..., 0, 0, 0],\n",
      "        [1, 1, 1,  ..., 0, 0, 0],\n",
      "        ...,\n",
      "        [1, 1, 1,  ..., 0, 0, 0],\n",
      "        [1, 1, 1,  ..., 0, 0, 0],\n",
      "        [1, 1, 1,  ..., 0, 0, 0]])}\n",
      "{'label': tensor([0, 0, 0, 0, 0, 0, 0, 0, 1, 1, 0, 1, 1, 0, 0, 1]), 'input_ids': tensor([[ 2, 13,  1,  ...,  0,  0,  0],\n",
      "        [ 2, 13,  1,  ...,  0,  0,  0],\n",
      "        [ 2, 13,  1,  ...,  0,  0,  0],\n",
      "        ...,\n",
      "        [ 2, 13,  1,  ...,  0,  0,  0],\n",
      "        [ 2, 13,  1,  ...,  0,  0,  0],\n",
      "        [ 2, 13,  1,  ...,  0,  0,  0]]), 'attention_mask': tensor([[1, 1, 1,  ..., 0, 0, 0],\n",
      "        [1, 1, 1,  ..., 0, 0, 0],\n",
      "        [1, 1, 1,  ..., 0, 0, 0],\n",
      "        ...,\n",
      "        [1, 1, 1,  ..., 0, 0, 0],\n",
      "        [1, 1, 1,  ..., 0, 0, 0],\n",
      "        [1, 1, 1,  ..., 0, 0, 0]])}\n",
      "{'label': tensor([0, 1, 1, 0, 1, 1, 1, 0, 1, 0, 1, 1, 1, 0, 1, 1]), 'input_ids': tensor([[   2,   13,    1,  ...,    0,    0,    0],\n",
      "        [   2, 6926,  197,  ...,    0,    0,    0],\n",
      "        [   2,   13,    1,  ...,    0,    0,    0],\n",
      "        ...,\n",
      "        [   2,   13,    1,  ...,    0,    0,    0],\n",
      "        [   2,   13,    1,  ...,    0,    0,    0],\n",
      "        [   2,   13,    1,  ...,    0,    0,    0]]), 'attention_mask': tensor([[1, 1, 1,  ..., 0, 0, 0],\n",
      "        [1, 1, 1,  ..., 0, 0, 0],\n",
      "        [1, 1, 1,  ..., 0, 0, 0],\n",
      "        ...,\n",
      "        [1, 1, 1,  ..., 0, 0, 0],\n",
      "        [1, 1, 1,  ..., 0, 0, 0],\n",
      "        [1, 1, 1,  ..., 0, 0, 0]])}\n",
      "{'label': tensor([1, 0, 0, 0, 0, 1, 1, 0, 0, 0, 0, 0, 0, 0, 0, 0]), 'input_ids': tensor([[ 2, 13,  1,  ...,  0,  0,  0],\n",
      "        [ 2, 13,  1,  ...,  0,  0,  0],\n",
      "        [ 2, 13,  1,  ...,  0,  0,  0],\n",
      "        ...,\n",
      "        [ 2, 13,  1,  ...,  0,  0,  0],\n",
      "        [ 2, 13,  1,  ...,  0,  0,  0],\n",
      "        [ 2, 13,  1,  ...,  0,  0,  0]]), 'attention_mask': tensor([[1, 1, 1,  ..., 0, 0, 0],\n",
      "        [1, 1, 1,  ..., 0, 0, 0],\n",
      "        [1, 1, 1,  ..., 0, 0, 0],\n",
      "        ...,\n",
      "        [1, 1, 1,  ..., 0, 0, 0],\n",
      "        [1, 1, 1,  ..., 0, 0, 0],\n",
      "        [1, 1, 1,  ..., 0, 0, 0]])}\n",
      "{'label': tensor([0, 0, 1, 1, 0, 1, 1, 1, 1, 0, 1, 0, 0, 0, 0, 1]), 'input_ids': tensor([[ 2, 13,  1,  ...,  0,  0,  0],\n",
      "        [ 2, 13,  1,  ...,  0,  0,  0],\n",
      "        [ 2, 13,  1,  ...,  0,  0,  0],\n",
      "        ...,\n",
      "        [ 2, 13,  1,  ...,  0,  0,  0],\n",
      "        [ 2, 13,  9,  ...,  0,  0,  0],\n",
      "        [ 2, 13,  1,  ...,  0,  0,  0]]), 'attention_mask': tensor([[1, 1, 1,  ..., 0, 0, 0],\n",
      "        [1, 1, 1,  ..., 0, 0, 0],\n",
      "        [1, 1, 1,  ..., 0, 0, 0],\n",
      "        ...,\n",
      "        [1, 1, 1,  ..., 0, 0, 0],\n",
      "        [1, 1, 1,  ..., 0, 0, 0],\n",
      "        [1, 1, 1,  ..., 0, 0, 0]])}\n",
      "{'label': tensor([0, 0, 1, 0, 1, 0, 0, 0, 0, 0, 0, 0, 0, 0, 0, 0]), 'input_ids': tensor([[   2, 4878,   50,  ...,    0,    0,    0],\n",
      "        [   2,   13,    1,  ...,    0,    0,    0],\n",
      "        [   2,   13,    1,  ...,    0,    0,    0],\n",
      "        ...,\n",
      "        [   2,   13,    1,  ...,    0,    0,    0],\n",
      "        [   2,   13,    1,  ...,    0,    0,    0],\n",
      "        [   2,   13,    1,  ...,    0,    0,    0]]), 'attention_mask': tensor([[1, 1, 1,  ..., 0, 0, 0],\n",
      "        [1, 1, 1,  ..., 0, 0, 0],\n",
      "        [1, 1, 1,  ..., 0, 0, 0],\n",
      "        ...,\n",
      "        [1, 1, 1,  ..., 0, 0, 0],\n",
      "        [1, 1, 1,  ..., 0, 0, 0],\n",
      "        [1, 1, 1,  ..., 0, 0, 0]])}\n",
      "{'label': tensor([0, 0, 0, 0, 0, 0, 0, 0, 1, 1, 0, 0, 0, 1, 0, 1]), 'input_ids': tensor([[ 2, 13,  1,  ...,  0,  0,  0],\n",
      "        [ 2, 13,  1,  ...,  0,  0,  0],\n",
      "        [ 2, 13,  1,  ...,  0,  0,  0],\n",
      "        ...,\n",
      "        [ 2, 13,  1,  ...,  0,  0,  0],\n",
      "        [ 2, 13,  1,  ...,  0,  0,  0],\n",
      "        [ 2, 13,  1,  ...,  0,  0,  0]]), 'attention_mask': tensor([[1, 1, 1,  ..., 0, 0, 0],\n",
      "        [1, 1, 1,  ..., 0, 0, 0],\n",
      "        [1, 1, 1,  ..., 0, 0, 0],\n",
      "        ...,\n",
      "        [1, 1, 1,  ..., 0, 0, 0],\n",
      "        [1, 1, 1,  ..., 0, 0, 0],\n",
      "        [1, 1, 1,  ..., 0, 0, 0]])}\n",
      "{'label': tensor([0, 0, 0, 0, 0, 0, 1, 0, 1, 0, 0, 0, 0, 0, 0, 1]), 'input_ids': tensor([[    2,    14, 26183,  ...,     0,     0,     0],\n",
      "        [    2,    13,     1,  ...,     0,     0,     0],\n",
      "        [    2,    13,     1,  ...,     0,     0,     0],\n",
      "        ...,\n",
      "        [    2,    13,     1,  ...,     0,     0,     0],\n",
      "        [    2,    13,     1,  ...,     0,     0,     0],\n",
      "        [    2,    13,     1,  ...,     0,     0,     0]]), 'attention_mask': tensor([[1, 1, 1,  ..., 0, 0, 0],\n",
      "        [1, 1, 1,  ..., 0, 0, 0],\n",
      "        [1, 1, 1,  ..., 0, 0, 0],\n",
      "        ...,\n",
      "        [1, 1, 1,  ..., 0, 0, 0],\n",
      "        [1, 1, 1,  ..., 0, 0, 0],\n",
      "        [1, 1, 1,  ..., 0, 0, 0]])}\n",
      "{'label': tensor([0, 0, 1, 1, 1, 0, 0, 1, 1, 0, 0, 1, 0, 0, 0, 0]), 'input_ids': tensor([[   2,   13,    1,  ...,    0,    0,    0],\n",
      "        [   2,   13,    1,  ...,    0,    0,    0],\n",
      "        [   2,   13,    1,  ...,    0,    0,    0],\n",
      "        ...,\n",
      "        [   2,   13,    1,  ...,    0,    0,    0],\n",
      "        [   2,  406, 7095,  ...,    0,    0,    0],\n",
      "        [   2,   13,    1,  ...,    0,    0,    0]]), 'attention_mask': tensor([[1, 1, 1,  ..., 0, 0, 0],\n",
      "        [1, 1, 1,  ..., 0, 0, 0],\n",
      "        [1, 1, 1,  ..., 0, 0, 0],\n",
      "        ...,\n",
      "        [1, 1, 1,  ..., 0, 0, 0],\n",
      "        [1, 1, 1,  ..., 0, 0, 0],\n",
      "        [1, 1, 1,  ..., 0, 0, 0]])}\n",
      "{'label': tensor([0, 0, 0, 0, 0, 1, 1, 0, 0, 0, 1, 0, 1, 1, 1, 0]), 'input_ids': tensor([[   2,   13,    1,  ...,    0,    0,    0],\n",
      "        [   2, 6926, 4940,  ...,    0,    0,    0],\n",
      "        [   2,   13,    1,  ...,    0,    0,    0],\n",
      "        ...,\n",
      "        [   2,   13,    1,  ...,    0,    0,    0],\n",
      "        [   2,   13,    1,  ...,    0,    0,    0],\n",
      "        [   2,   13,    1,  ...,    0,    0,    0]]), 'attention_mask': tensor([[1, 1, 1,  ..., 0, 0, 0],\n",
      "        [1, 1, 1,  ..., 0, 0, 0],\n",
      "        [1, 1, 1,  ..., 0, 0, 0],\n",
      "        ...,\n",
      "        [1, 1, 1,  ..., 0, 0, 0],\n",
      "        [1, 1, 1,  ..., 0, 0, 0],\n",
      "        [1, 1, 1,  ..., 0, 0, 0]])}\n",
      "{'label': tensor([1, 0, 0, 0, 1, 0, 0, 0, 0, 0, 1, 0, 0, 0, 1, 0]), 'input_ids': tensor([[    2,    13,     1,  ...,     0,     0,     0],\n",
      "        [    2,    13,     1,  ...,     0,     0,     0],\n",
      "        [    2,    13,     1,  ...,     0,     0,     0],\n",
      "        ...,\n",
      "        [    2,  6926,  5024,  ...,     0,     0,     0],\n",
      "        [    2, 20979,    50,  ...,     0,     0,     0],\n",
      "        [    2,    13,     1,  ...,     0,     0,     0]]), 'attention_mask': tensor([[1, 1, 1,  ..., 0, 0, 0],\n",
      "        [1, 1, 1,  ..., 0, 0, 0],\n",
      "        [1, 1, 1,  ..., 0, 0, 0],\n",
      "        ...,\n",
      "        [1, 1, 1,  ..., 0, 0, 0],\n",
      "        [1, 1, 1,  ..., 0, 0, 0],\n",
      "        [1, 1, 1,  ..., 0, 0, 0]])}\n",
      "{'label': tensor([0, 1, 0, 0, 0, 0, 0, 1, 0, 0, 1, 0, 0, 0, 1, 0]), 'input_ids': tensor([[ 2, 13,  1,  ...,  0,  0,  0],\n",
      "        [ 2, 13,  1,  ...,  0,  0,  0],\n",
      "        [ 2, 13,  1,  ...,  0,  0,  0],\n",
      "        ...,\n",
      "        [ 2, 13,  1,  ...,  0,  0,  0],\n",
      "        [ 2, 13,  1,  ...,  0,  0,  0],\n",
      "        [ 2, 13,  1,  ...,  0,  0,  0]]), 'attention_mask': tensor([[1, 1, 1,  ..., 0, 0, 0],\n",
      "        [1, 1, 1,  ..., 0, 0, 0],\n",
      "        [1, 1, 1,  ..., 0, 0, 0],\n",
      "        ...,\n",
      "        [1, 1, 1,  ..., 0, 0, 0],\n",
      "        [1, 1, 1,  ..., 0, 0, 0],\n",
      "        [1, 1, 1,  ..., 0, 0, 0]])}\n",
      "{'label': tensor([0, 0, 0, 1, 0, 0, 1, 0, 0, 0, 1, 0, 1, 0, 0, 0]), 'input_ids': tensor([[  2, 524,  22,  ...,   0,   0,   0],\n",
      "        [  2,  13,   1,  ...,   0,   0,   0],\n",
      "        [  2,  13,   1,  ...,   0,   0,   0],\n",
      "        ...,\n",
      "        [  2,  13,   1,  ...,   0,   0,   0],\n",
      "        [  2,  13,   1,  ...,   0,   0,   0],\n",
      "        [  2,  13,   1,  ...,   0,   0,   0]]), 'attention_mask': tensor([[1, 1, 1,  ..., 0, 0, 0],\n",
      "        [1, 1, 1,  ..., 0, 0, 0],\n",
      "        [1, 1, 1,  ..., 0, 0, 0],\n",
      "        ...,\n",
      "        [1, 1, 1,  ..., 0, 0, 0],\n",
      "        [1, 1, 1,  ..., 0, 0, 0],\n",
      "        [1, 1, 1,  ..., 0, 0, 0]])}\n",
      "{'label': tensor([0, 0, 0, 0, 0, 1, 0, 0, 1, 0, 1, 0, 0, 0, 0, 1]), 'input_ids': tensor([[ 2, 13,  1,  ...,  0,  0,  0],\n",
      "        [ 2, 13,  1,  ...,  0,  0,  0],\n",
      "        [ 2, 13,  1,  ...,  0,  0,  0],\n",
      "        ...,\n",
      "        [ 2, 13,  1,  ...,  0,  0,  0],\n",
      "        [ 2, 13,  1,  ...,  0,  0,  0],\n",
      "        [ 2, 13,  1,  ...,  0,  0,  0]]), 'attention_mask': tensor([[1, 1, 1,  ..., 0, 0, 0],\n",
      "        [1, 1, 1,  ..., 0, 0, 0],\n",
      "        [1, 1, 1,  ..., 0, 0, 0],\n",
      "        ...,\n",
      "        [1, 1, 1,  ..., 0, 0, 0],\n",
      "        [1, 1, 1,  ..., 0, 0, 0],\n",
      "        [1, 1, 1,  ..., 0, 0, 0]])}\n",
      "{'label': tensor([0, 0, 0, 0, 0, 1, 0, 1, 1, 0, 1, 1, 0, 0, 0, 0]), 'input_ids': tensor([[ 2, 13,  1,  ...,  0,  0,  0],\n",
      "        [ 2, 13,  1,  ...,  0,  0,  0],\n",
      "        [ 2, 13,  1,  ...,  0,  0,  0],\n",
      "        ...,\n",
      "        [ 2, 13,  1,  ...,  0,  0,  0],\n",
      "        [ 2, 13,  1,  ...,  0,  0,  0],\n",
      "        [ 2, 13,  1,  ...,  0,  0,  0]]), 'attention_mask': tensor([[1, 1, 1,  ..., 0, 0, 0],\n",
      "        [1, 1, 1,  ..., 0, 0, 0],\n",
      "        [1, 1, 1,  ..., 0, 0, 0],\n",
      "        ...,\n",
      "        [1, 1, 1,  ..., 0, 0, 0],\n",
      "        [1, 1, 1,  ..., 0, 0, 0],\n",
      "        [1, 1, 1,  ..., 0, 0, 0]])}\n",
      "{'label': tensor([0, 0, 0, 1, 0, 1, 0, 0, 0, 0, 0, 0, 0, 1, 0, 1]), 'input_ids': tensor([[   2,   13,    1,  ...,    0,    0,    0],\n",
      "        [   2, 1082, 1473,  ...,    0,    0,    0],\n",
      "        [   2,   13,    1,  ...,    0,    0,    0],\n",
      "        ...,\n",
      "        [   2,   13,    1,  ...,    0,    0,    0],\n",
      "        [   2,   13,    1,  ...,    0,    0,    0],\n",
      "        [   2,   65,   16,  ...,    0,    0,    0]]), 'attention_mask': tensor([[1, 1, 1,  ..., 0, 0, 0],\n",
      "        [1, 1, 1,  ..., 0, 0, 0],\n",
      "        [1, 1, 1,  ..., 0, 0, 0],\n",
      "        ...,\n",
      "        [1, 1, 1,  ..., 0, 0, 0],\n",
      "        [1, 1, 1,  ..., 0, 0, 0],\n",
      "        [1, 1, 1,  ..., 0, 0, 0]])}\n",
      "{'label': tensor([0, 1, 0, 1, 1, 1, 0, 0, 0, 0, 1, 0, 0, 0, 0, 0]), 'input_ids': tensor([[ 2, 13,  1,  ...,  0,  0,  0],\n",
      "        [ 2, 13,  1,  ...,  0,  0,  0],\n",
      "        [ 2, 13,  1,  ...,  0,  0,  0],\n",
      "        ...,\n",
      "        [ 2, 13,  1,  ...,  0,  0,  0],\n",
      "        [ 2, 13,  1,  ...,  0,  0,  0],\n",
      "        [ 2, 13,  1,  ...,  0,  0,  0]]), 'attention_mask': tensor([[1, 1, 1,  ..., 0, 0, 0],\n",
      "        [1, 1, 1,  ..., 0, 0, 0],\n",
      "        [1, 1, 1,  ..., 0, 0, 0],\n",
      "        ...,\n",
      "        [1, 1, 1,  ..., 0, 0, 0],\n",
      "        [1, 1, 1,  ..., 0, 0, 0],\n",
      "        [1, 1, 1,  ..., 0, 0, 0]])}\n",
      "{'label': tensor([0, 0, 0, 0, 1, 0, 0, 0, 1, 0, 0, 1, 1, 0, 0, 1]), 'input_ids': tensor([[   2, 6926, 9109,  ...,    0,    0,    0],\n",
      "        [   2, 8538,  711,  ...,    0,    0,    0],\n",
      "        [   2,   13,    1,  ...,    0,    0,    0],\n",
      "        ...,\n",
      "        [   2,   13,    1,  ...,    0,    0,    0],\n",
      "        [   2,   13,    1,  ...,    0,    0,    0],\n",
      "        [   2,   13,    1,  ...,    0,    0,    0]]), 'attention_mask': tensor([[1, 1, 1,  ..., 0, 0, 0],\n",
      "        [1, 1, 1,  ..., 0, 0, 0],\n",
      "        [1, 1, 1,  ..., 0, 0, 0],\n",
      "        ...,\n",
      "        [1, 1, 1,  ..., 0, 0, 0],\n",
      "        [1, 1, 1,  ..., 0, 0, 0],\n",
      "        [1, 1, 1,  ..., 0, 0, 0]])}\n",
      "{'label': tensor([0, 0, 0, 0, 0, 1, 1, 0, 0, 0, 0, 0, 1, 1, 0, 0]), 'input_ids': tensor([[   2,   13,    1,  ...,    0,    0,    0],\n",
      "        [   2,   13,    1,  ...,    0,    0,    0],\n",
      "        [   2,   13,    1,  ...,    0,    0,    0],\n",
      "        ...,\n",
      "        [   2,   13,    1,  ...,    0,    0,    0],\n",
      "        [   2,   36, 1952,  ...,    0,    0,    0],\n",
      "        [   2,   13,    1,  ...,    0,    0,    0]]), 'attention_mask': tensor([[1, 1, 1,  ..., 0, 0, 0],\n",
      "        [1, 1, 1,  ..., 0, 0, 0],\n",
      "        [1, 1, 1,  ..., 0, 0, 0],\n",
      "        ...,\n",
      "        [1, 1, 1,  ..., 0, 0, 0],\n",
      "        [1, 1, 1,  ..., 0, 0, 0],\n",
      "        [1, 1, 1,  ..., 0, 0, 0]])}\n",
      "{'label': tensor([0, 0, 1, 1, 0, 1, 1, 1, 1, 0, 0, 0, 1, 1, 0, 0]), 'input_ids': tensor([[   2, 1082, 1473,  ...,    0,    0,    0],\n",
      "        [   2,   13,    1,  ...,    0,    0,    0],\n",
      "        [   2,   13,    1,  ...,    0,    0,    0],\n",
      "        ...,\n",
      "        [   2,   13,    1,  ...,    0,    0,    0],\n",
      "        [   2,   13,    1,  ...,    0,    0,    0],\n",
      "        [   2,   13,    1,  ...,    0,    0,    0]]), 'attention_mask': tensor([[1, 1, 1,  ..., 0, 0, 0],\n",
      "        [1, 1, 1,  ..., 0, 0, 0],\n",
      "        [1, 1, 1,  ..., 0, 0, 0],\n",
      "        ...,\n",
      "        [1, 1, 1,  ..., 0, 0, 0],\n",
      "        [1, 1, 1,  ..., 0, 0, 0],\n",
      "        [1, 1, 1,  ..., 0, 0, 0]])}\n",
      "{'label': tensor([0, 0, 0, 1, 0, 1, 0, 0, 0, 0, 0, 0, 0, 1, 1, 0]), 'input_ids': tensor([[    2,    13,     1,  ...,     0,     0,     0],\n",
      "        [    2,    13,     1,  ...,     0,     0,     0],\n",
      "        [    2,    13,     1,  ...,     0,     0,     0],\n",
      "        ...,\n",
      "        [    2,    13,     1,  ...,     0,     0,     0],\n",
      "        [    2,   172, 18133,  ...,     0,     0,     0],\n",
      "        [    2,    13,     1,  ...,     0,     0,     0]]), 'attention_mask': tensor([[1, 1, 1,  ..., 0, 0, 0],\n",
      "        [1, 1, 1,  ..., 0, 0, 0],\n",
      "        [1, 1, 1,  ..., 0, 0, 0],\n",
      "        ...,\n",
      "        [1, 1, 1,  ..., 0, 0, 0],\n",
      "        [1, 1, 1,  ..., 0, 0, 0],\n",
      "        [1, 1, 1,  ..., 0, 0, 0]])}\n",
      "{'label': tensor([1, 0, 0, 0, 1, 1, 0, 0, 0, 1, 0, 1, 0, 0, 1, 1]), 'input_ids': tensor([[ 2, 13,  1,  ...,  0,  0,  0],\n",
      "        [ 2, 13,  1,  ...,  0,  0,  0],\n",
      "        [ 2, 13,  1,  ...,  0,  0,  0],\n",
      "        ...,\n",
      "        [ 2, 13,  1,  ...,  0,  0,  0],\n",
      "        [ 2, 13,  1,  ...,  0,  0,  0],\n",
      "        [ 2, 13,  1,  ...,  0,  0,  0]]), 'attention_mask': tensor([[1, 1, 1,  ..., 0, 0, 0],\n",
      "        [1, 1, 1,  ..., 0, 0, 0],\n",
      "        [1, 1, 1,  ..., 0, 0, 0],\n",
      "        ...,\n",
      "        [1, 1, 1,  ..., 0, 0, 0],\n",
      "        [1, 1, 1,  ..., 0, 0, 0],\n",
      "        [1, 1, 1,  ..., 0, 0, 0]])}\n",
      "{'label': tensor([0, 1, 1, 0, 0, 0, 1, 0, 1, 1, 1, 1]), 'input_ids': tensor([[   2,   13,    1,  ...,    0,    0,    0],\n",
      "        [   2,   13,    1,  ...,    0,    0,    0],\n",
      "        [   2,   13,    1,  ...,    0,    0,    0],\n",
      "        ...,\n",
      "        [   2, 6926,  657,  ...,    0,    0,    0],\n",
      "        [   2,   13,    1,  ...,    0,    0,    0],\n",
      "        [   2,   13,    1,  ...,    0,    0,    0]]), 'attention_mask': tensor([[1, 1, 1,  ..., 0, 0, 0],\n",
      "        [1, 1, 1,  ..., 0, 0, 0],\n",
      "        [1, 1, 1,  ..., 0, 0, 0],\n",
      "        ...,\n",
      "        [1, 1, 1,  ..., 0, 0, 0],\n",
      "        [1, 1, 1,  ..., 0, 0, 0],\n",
      "        [1, 1, 1,  ..., 0, 0, 0]])}\n"
     ]
    }
   ],
   "source": [
    "for batch in train_loader:\n",
    "    print(batch)\n"
   ],
   "metadata": {
    "collapsed": false
   }
  },
  {
   "cell_type": "code",
   "execution_count": 21,
   "outputs": [
    {
     "name": "stderr",
     "output_type": "stream",
     "text": [
      "Epoch 1/1:   0%|          | 1/745 [00:25<5:20:17, 25.83s/it]"
     ]
    },
    {
     "name": "stdout",
     "output_type": "stream",
     "text": [
      "Train Loss: 0.001, Train Acc: 0.500\r"
     ]
    },
    {
     "name": "stderr",
     "output_type": "stream",
     "text": [
      "Epoch 1/1:   0%|          | 2/745 [00:50<5:14:31, 25.40s/it]"
     ]
    },
    {
     "name": "stdout",
     "output_type": "stream",
     "text": [
      "Train Loss: 0.002, Train Acc: 0.531\r"
     ]
    },
    {
     "name": "stderr",
     "output_type": "stream",
     "text": [
      "Epoch 1/1:   0%|          | 3/745 [01:15<5:10:47, 25.13s/it]"
     ]
    },
    {
     "name": "stdout",
     "output_type": "stream",
     "text": [
      "Train Loss: 0.003, Train Acc: 0.562\r"
     ]
    },
    {
     "name": "stderr",
     "output_type": "stream",
     "text": [
      "Epoch 1/1:   1%|          | 4/745 [01:40<5:07:07, 24.87s/it]"
     ]
    },
    {
     "name": "stdout",
     "output_type": "stream",
     "text": [
      "Train Loss: 0.004, Train Acc: 0.578\r"
     ]
    },
    {
     "name": "stderr",
     "output_type": "stream",
     "text": [
      "Epoch 1/1:   1%|          | 5/745 [02:04<5:04:16, 24.67s/it]"
     ]
    },
    {
     "name": "stdout",
     "output_type": "stream",
     "text": [
      "Train Loss: 0.005, Train Acc: 0.562\r"
     ]
    },
    {
     "name": "stderr",
     "output_type": "stream",
     "text": [
      "Epoch 1/1:   1%|          | 6/745 [02:29<5:03:15, 24.62s/it]"
     ]
    },
    {
     "name": "stdout",
     "output_type": "stream",
     "text": [
      "Train Loss: 0.006, Train Acc: 0.573\r"
     ]
    },
    {
     "name": "stderr",
     "output_type": "stream",
     "text": [
      "Epoch 1/1:   1%|          | 7/745 [02:53<5:01:53, 24.54s/it]"
     ]
    },
    {
     "name": "stdout",
     "output_type": "stream",
     "text": [
      "Train Loss: 0.007, Train Acc: 0.580\r"
     ]
    },
    {
     "name": "stderr",
     "output_type": "stream",
     "text": [
      "Epoch 1/1:   1%|          | 8/745 [03:17<5:00:34, 24.47s/it]"
     ]
    },
    {
     "name": "stdout",
     "output_type": "stream",
     "text": [
      "Train Loss: 0.008, Train Acc: 0.586\r"
     ]
    },
    {
     "name": "stderr",
     "output_type": "stream",
     "text": [
      "Epoch 1/1:   1%|          | 9/745 [03:42<5:00:15, 24.48s/it]"
     ]
    },
    {
     "name": "stdout",
     "output_type": "stream",
     "text": [
      "Train Loss: 0.009, Train Acc: 0.576\r"
     ]
    },
    {
     "name": "stderr",
     "output_type": "stream",
     "text": [
      "Epoch 1/1:   1%|▏         | 10/745 [04:06<4:59:56, 24.48s/it]"
     ]
    },
    {
     "name": "stdout",
     "output_type": "stream",
     "text": [
      "Train Loss: 0.009, Train Acc: 0.600\r"
     ]
    },
    {
     "name": "stderr",
     "output_type": "stream",
     "text": [
      "Epoch 1/1:   1%|▏         | 11/745 [04:31<4:59:50, 24.51s/it]"
     ]
    },
    {
     "name": "stdout",
     "output_type": "stream",
     "text": [
      "Train Loss: 0.010, Train Acc: 0.625\r"
     ]
    },
    {
     "name": "stderr",
     "output_type": "stream",
     "text": [
      "Epoch 1/1:   2%|▏         | 12/745 [04:55<4:59:51, 24.55s/it]"
     ]
    },
    {
     "name": "stdout",
     "output_type": "stream",
     "text": [
      "Train Loss: 0.011, Train Acc: 0.625\r"
     ]
    },
    {
     "name": "stderr",
     "output_type": "stream",
     "text": [
      "Epoch 1/1:   2%|▏         | 13/745 [05:20<4:58:35, 24.48s/it]"
     ]
    },
    {
     "name": "stdout",
     "output_type": "stream",
     "text": [
      "Train Loss: 0.012, Train Acc: 0.630\r"
     ]
    },
    {
     "name": "stderr",
     "output_type": "stream",
     "text": [
      "Epoch 1/1:   2%|▏         | 14/745 [05:44<4:58:34, 24.51s/it]"
     ]
    },
    {
     "name": "stdout",
     "output_type": "stream",
     "text": [
      "Train Loss: 0.013, Train Acc: 0.643\r"
     ]
    },
    {
     "name": "stderr",
     "output_type": "stream",
     "text": [
      "Epoch 1/1:   2%|▏         | 15/745 [06:09<4:58:45, 24.56s/it]"
     ]
    },
    {
     "name": "stdout",
     "output_type": "stream",
     "text": [
      "Train Loss: 0.013, Train Acc: 0.654\r"
     ]
    },
    {
     "name": "stderr",
     "output_type": "stream",
     "text": [
      "Epoch 1/1:   2%|▏         | 16/745 [06:38<5:13:41, 25.82s/it]"
     ]
    },
    {
     "name": "stdout",
     "output_type": "stream",
     "text": [
      "Train Loss: 0.014, Train Acc: 0.656\r"
     ]
    },
    {
     "name": "stderr",
     "output_type": "stream",
     "text": [
      "Epoch 1/1:   2%|▏         | 17/745 [07:02<5:07:43, 25.36s/it]"
     ]
    },
    {
     "name": "stdout",
     "output_type": "stream",
     "text": [
      "Train Loss: 0.015, Train Acc: 0.651\r"
     ]
    },
    {
     "name": "stderr",
     "output_type": "stream",
     "text": [
      "Epoch 1/1:   2%|▏         | 18/745 [07:32<5:24:45, 26.80s/it]"
     ]
    },
    {
     "name": "stdout",
     "output_type": "stream",
     "text": [
      "Train Loss: 0.016, Train Acc: 0.660\r"
     ]
    },
    {
     "name": "stderr",
     "output_type": "stream",
     "text": [
      "Epoch 1/1:   3%|▎         | 19/745 [08:01<5:32:36, 27.49s/it]"
     ]
    },
    {
     "name": "stdout",
     "output_type": "stream",
     "text": [
      "Train Loss: 0.017, Train Acc: 0.661\r"
     ]
    },
    {
     "name": "stderr",
     "output_type": "stream",
     "text": [
      "Epoch 1/1:   3%|▎         | 20/745 [08:25<5:19:46, 26.46s/it]"
     ]
    },
    {
     "name": "stdout",
     "output_type": "stream",
     "text": [
      "Train Loss: 0.018, Train Acc: 0.662\r"
     ]
    },
    {
     "name": "stderr",
     "output_type": "stream",
     "text": [
      "Epoch 1/1:   3%|▎         | 21/745 [08:49<5:10:36, 25.74s/it]"
     ]
    },
    {
     "name": "stdout",
     "output_type": "stream",
     "text": [
      "Train Loss: 0.019, Train Acc: 0.646\r"
     ]
    },
    {
     "name": "stderr",
     "output_type": "stream",
     "text": [
      "Epoch 1/1:   3%|▎         | 22/745 [09:13<5:03:27, 25.18s/it]"
     ]
    },
    {
     "name": "stdout",
     "output_type": "stream",
     "text": [
      "Train Loss: 0.020, Train Acc: 0.653\r"
     ]
    },
    {
     "name": "stderr",
     "output_type": "stream",
     "text": [
      "Epoch 1/1:   3%|▎         | 23/745 [09:37<4:58:34, 24.81s/it]"
     ]
    },
    {
     "name": "stdout",
     "output_type": "stream",
     "text": [
      "Train Loss: 0.020, Train Acc: 0.655\r"
     ]
    },
    {
     "name": "stderr",
     "output_type": "stream",
     "text": [
      "Epoch 1/1:   3%|▎         | 24/745 [10:01<4:54:07, 24.48s/it]"
     ]
    },
    {
     "name": "stdout",
     "output_type": "stream",
     "text": [
      "Train Loss: 0.021, Train Acc: 0.643\r"
     ]
    },
    {
     "name": "stderr",
     "output_type": "stream",
     "text": [
      "Epoch 1/1:   3%|▎         | 25/745 [10:25<4:52:02, 24.34s/it]"
     ]
    },
    {
     "name": "stdout",
     "output_type": "stream",
     "text": [
      "Train Loss: 0.022, Train Acc: 0.640\r"
     ]
    },
    {
     "name": "stderr",
     "output_type": "stream",
     "text": [
      "Epoch 1/1:   3%|▎         | 26/745 [10:49<4:50:26, 24.24s/it]"
     ]
    },
    {
     "name": "stdout",
     "output_type": "stream",
     "text": [
      "Train Loss: 0.023, Train Acc: 0.637\r"
     ]
    },
    {
     "name": "stderr",
     "output_type": "stream",
     "text": [
      "Epoch 1/1:   4%|▎         | 27/745 [11:15<4:55:07, 24.66s/it]"
     ]
    },
    {
     "name": "stdout",
     "output_type": "stream",
     "text": [
      "Train Loss: 0.024, Train Acc: 0.639\r"
     ]
    },
    {
     "name": "stderr",
     "output_type": "stream",
     "text": [
      "Epoch 1/1:   4%|▍         | 28/745 [11:38<4:51:48, 24.42s/it]"
     ]
    },
    {
     "name": "stdout",
     "output_type": "stream",
     "text": [
      "Train Loss: 0.025, Train Acc: 0.641\r"
     ]
    },
    {
     "name": "stderr",
     "output_type": "stream",
     "text": [
      "Epoch 1/1:   4%|▍         | 29/745 [12:02<4:49:17, 24.24s/it]"
     ]
    },
    {
     "name": "stdout",
     "output_type": "stream",
     "text": [
      "Train Loss: 0.026, Train Acc: 0.649\r"
     ]
    },
    {
     "name": "stderr",
     "output_type": "stream",
     "text": [
      "Epoch 1/1:   4%|▍         | 30/745 [12:29<4:56:10, 24.85s/it]"
     ]
    },
    {
     "name": "stdout",
     "output_type": "stream",
     "text": [
      "Train Loss: 0.027, Train Acc: 0.648\r"
     ]
    },
    {
     "name": "stderr",
     "output_type": "stream",
     "text": [
      "Epoch 1/1:   4%|▍         | 31/745 [12:57<5:08:07, 25.89s/it]"
     ]
    },
    {
     "name": "stdout",
     "output_type": "stream",
     "text": [
      "Train Loss: 0.027, Train Acc: 0.651\r"
     ]
    },
    {
     "name": "stderr",
     "output_type": "stream",
     "text": [
      "Epoch 1/1:   4%|▍         | 32/745 [13:31<5:36:21, 28.30s/it]"
     ]
    },
    {
     "name": "stdout",
     "output_type": "stream",
     "text": [
      "Train Loss: 0.028, Train Acc: 0.650\r"
     ]
    },
    {
     "name": "stderr",
     "output_type": "stream",
     "text": [
      "Epoch 1/1:   4%|▍         | 33/745 [13:55<5:21:24, 27.09s/it]"
     ]
    },
    {
     "name": "stdout",
     "output_type": "stream",
     "text": [
      "Train Loss: 0.029, Train Acc: 0.648\r"
     ]
    },
    {
     "name": "stderr",
     "output_type": "stream",
     "text": [
      "Epoch 1/1:   5%|▍         | 34/745 [14:19<5:10:19, 26.19s/it]"
     ]
    },
    {
     "name": "stdout",
     "output_type": "stream",
     "text": [
      "Train Loss: 0.030, Train Acc: 0.651\r"
     ]
    },
    {
     "name": "stderr",
     "output_type": "stream",
     "text": [
      "Epoch 1/1:   5%|▍         | 35/745 [14:43<5:03:11, 25.62s/it]"
     ]
    },
    {
     "name": "stdout",
     "output_type": "stream",
     "text": [
      "Train Loss: 0.031, Train Acc: 0.654\r"
     ]
    },
    {
     "name": "stderr",
     "output_type": "stream",
     "text": [
      "Epoch 1/1:   5%|▍         | 36/745 [15:08<4:57:16, 25.16s/it]"
     ]
    },
    {
     "name": "stdout",
     "output_type": "stream",
     "text": [
      "Train Loss: 0.032, Train Acc: 0.651\r"
     ]
    },
    {
     "name": "stderr",
     "output_type": "stream",
     "text": [
      "Epoch 1/1:   5%|▍         | 37/745 [15:31<4:52:25, 24.78s/it]"
     ]
    },
    {
     "name": "stdout",
     "output_type": "stream",
     "text": [
      "Train Loss: 0.033, Train Acc: 0.650\r"
     ]
    },
    {
     "name": "stderr",
     "output_type": "stream",
     "text": [
      "Epoch 1/1:   5%|▌         | 38/745 [15:56<4:50:25, 24.65s/it]"
     ]
    },
    {
     "name": "stdout",
     "output_type": "stream",
     "text": [
      "Train Loss: 0.034, Train Acc: 0.650\r"
     ]
    },
    {
     "name": "stderr",
     "output_type": "stream",
     "text": [
      "Epoch 1/1:   5%|▌         | 39/745 [16:20<4:47:01, 24.39s/it]"
     ]
    },
    {
     "name": "stdout",
     "output_type": "stream",
     "text": [
      "Train Loss: 0.034, Train Acc: 0.651\r"
     ]
    },
    {
     "name": "stderr",
     "output_type": "stream",
     "text": [
      "Epoch 1/1:   5%|▌         | 40/745 [16:43<4:44:29, 24.21s/it]"
     ]
    },
    {
     "name": "stdout",
     "output_type": "stream",
     "text": [
      "Train Loss: 0.035, Train Acc: 0.648\r"
     ]
    },
    {
     "name": "stderr",
     "output_type": "stream",
     "text": [
      "Epoch 1/1:   6%|▌         | 41/745 [17:07<4:42:50, 24.11s/it]"
     ]
    },
    {
     "name": "stdout",
     "output_type": "stream",
     "text": [
      "Train Loss: 0.036, Train Acc: 0.646\r"
     ]
    },
    {
     "name": "stderr",
     "output_type": "stream",
     "text": [
      "Epoch 1/1:   6%|▌         | 42/745 [17:31<4:40:37, 23.95s/it]"
     ]
    },
    {
     "name": "stdout",
     "output_type": "stream",
     "text": [
      "Train Loss: 0.037, Train Acc: 0.646\r"
     ]
    },
    {
     "name": "stderr",
     "output_type": "stream",
     "text": [
      "Epoch 1/1:   6%|▌         | 43/745 [17:55<4:40:17, 23.96s/it]"
     ]
    },
    {
     "name": "stdout",
     "output_type": "stream",
     "text": [
      "Train Loss: 0.038, Train Acc: 0.653\r"
     ]
    },
    {
     "name": "stderr",
     "output_type": "stream",
     "text": [
      "Epoch 1/1:   6%|▌         | 44/745 [18:19<4:40:11, 23.98s/it]"
     ]
    },
    {
     "name": "stdout",
     "output_type": "stream",
     "text": [
      "Train Loss: 0.039, Train Acc: 0.653\r"
     ]
    },
    {
     "name": "stderr",
     "output_type": "stream",
     "text": [
      "Epoch 1/1:   6%|▌         | 45/745 [18:43<4:39:21, 23.94s/it]"
     ]
    },
    {
     "name": "stdout",
     "output_type": "stream",
     "text": [
      "Train Loss: 0.040, Train Acc: 0.647\r"
     ]
    },
    {
     "name": "stderr",
     "output_type": "stream",
     "text": [
      "Epoch 1/1:   6%|▌         | 46/745 [19:07<4:38:59, 23.95s/it]"
     ]
    },
    {
     "name": "stdout",
     "output_type": "stream",
     "text": [
      "Train Loss: 0.041, Train Acc: 0.648\r"
     ]
    },
    {
     "name": "stderr",
     "output_type": "stream",
     "text": [
      "Epoch 1/1:   6%|▋         | 47/745 [19:31<4:38:33, 23.94s/it]"
     ]
    },
    {
     "name": "stdout",
     "output_type": "stream",
     "text": [
      "Train Loss: 0.042, Train Acc: 0.646\r"
     ]
    },
    {
     "name": "stderr",
     "output_type": "stream",
     "text": [
      "Epoch 1/1:   6%|▋         | 48/745 [19:55<4:38:49, 24.00s/it]"
     ]
    },
    {
     "name": "stdout",
     "output_type": "stream",
     "text": [
      "Train Loss: 0.043, Train Acc: 0.648\r"
     ]
    },
    {
     "name": "stderr",
     "output_type": "stream",
     "text": [
      "Epoch 1/1:   7%|▋         | 49/745 [20:20<4:41:36, 24.28s/it]"
     ]
    },
    {
     "name": "stdout",
     "output_type": "stream",
     "text": [
      "Train Loss: 0.044, Train Acc: 0.652\r"
     ]
    },
    {
     "name": "stderr",
     "output_type": "stream",
     "text": [
      "Epoch 1/1:   7%|▋         | 50/745 [20:44<4:42:20, 24.37s/it]"
     ]
    },
    {
     "name": "stdout",
     "output_type": "stream",
     "text": [
      "Train Loss: 0.045, Train Acc: 0.650\r"
     ]
    },
    {
     "name": "stderr",
     "output_type": "stream",
     "text": [
      "Epoch 1/1:   7%|▋         | 51/745 [21:14<4:59:30, 25.89s/it]"
     ]
    },
    {
     "name": "stdout",
     "output_type": "stream",
     "text": [
      "Train Loss: 0.046, Train Acc: 0.651\r"
     ]
    },
    {
     "name": "stderr",
     "output_type": "stream",
     "text": [
      "Epoch 1/1:   7%|▋         | 52/745 [21:38<4:53:46, 25.44s/it]"
     ]
    },
    {
     "name": "stdout",
     "output_type": "stream",
     "text": [
      "Train Loss: 0.046, Train Acc: 0.654\r"
     ]
    },
    {
     "name": "stderr",
     "output_type": "stream",
     "text": [
      "Epoch 1/1:   7%|▋         | 53/745 [22:02<4:49:41, 25.12s/it]"
     ]
    },
    {
     "name": "stdout",
     "output_type": "stream",
     "text": [
      "Train Loss: 0.047, Train Acc: 0.657\r"
     ]
    },
    {
     "name": "stderr",
     "output_type": "stream",
     "text": [
      "Epoch 1/1:   7%|▋         | 54/745 [22:27<4:47:23, 24.95s/it]"
     ]
    },
    {
     "name": "stdout",
     "output_type": "stream",
     "text": [
      "Train Loss: 0.048, Train Acc: 0.656\r"
     ]
    },
    {
     "name": "stderr",
     "output_type": "stream",
     "text": [
      "Epoch 1/1:   7%|▋         | 55/745 [22:51<4:44:37, 24.75s/it]"
     ]
    },
    {
     "name": "stdout",
     "output_type": "stream",
     "text": [
      "Train Loss: 0.049, Train Acc: 0.658\r"
     ]
    },
    {
     "name": "stderr",
     "output_type": "stream",
     "text": [
      "Epoch 1/1:   8%|▊         | 56/745 [23:16<4:45:11, 24.84s/it]"
     ]
    },
    {
     "name": "stdout",
     "output_type": "stream",
     "text": [
      "Train Loss: 0.050, Train Acc: 0.658\r"
     ]
    },
    {
     "name": "stderr",
     "output_type": "stream",
     "text": [
      "Epoch 1/1:   8%|▊         | 57/745 [23:41<4:42:43, 24.66s/it]"
     ]
    },
    {
     "name": "stdout",
     "output_type": "stream",
     "text": [
      "Train Loss: 0.051, Train Acc: 0.656\r"
     ]
    },
    {
     "name": "stderr",
     "output_type": "stream",
     "text": [
      "Epoch 1/1:   8%|▊         | 58/745 [24:05<4:41:04, 24.55s/it]"
     ]
    },
    {
     "name": "stdout",
     "output_type": "stream",
     "text": [
      "Train Loss: 0.052, Train Acc: 0.655\r"
     ]
    },
    {
     "name": "stderr",
     "output_type": "stream",
     "text": [
      "Epoch 1/1:   8%|▊         | 59/745 [24:29<4:39:31, 24.45s/it]"
     ]
    },
    {
     "name": "stdout",
     "output_type": "stream",
     "text": [
      "Train Loss: 0.053, Train Acc: 0.655\r"
     ]
    },
    {
     "name": "stderr",
     "output_type": "stream",
     "text": [
      "Epoch 1/1:   8%|▊         | 60/745 [24:53<4:37:47, 24.33s/it]"
     ]
    },
    {
     "name": "stdout",
     "output_type": "stream",
     "text": [
      "Train Loss: 0.054, Train Acc: 0.653\r"
     ]
    },
    {
     "name": "stderr",
     "output_type": "stream",
     "text": [
      "Epoch 1/1:   8%|▊         | 61/745 [25:18<4:38:17, 24.41s/it]"
     ]
    },
    {
     "name": "stdout",
     "output_type": "stream",
     "text": [
      "Train Loss: 0.055, Train Acc: 0.650\r"
     ]
    },
    {
     "name": "stderr",
     "output_type": "stream",
     "text": [
      "Epoch 1/1:   8%|▊         | 62/745 [25:42<4:38:00, 24.42s/it]"
     ]
    },
    {
     "name": "stdout",
     "output_type": "stream",
     "text": [
      "Train Loss: 0.056, Train Acc: 0.645\r"
     ]
    },
    {
     "name": "stderr",
     "output_type": "stream",
     "text": [
      "Epoch 1/1:   8%|▊         | 63/745 [26:06<4:36:49, 24.35s/it]"
     ]
    },
    {
     "name": "stdout",
     "output_type": "stream",
     "text": [
      "Train Loss: 0.057, Train Acc: 0.638\r"
     ]
    },
    {
     "name": "stderr",
     "output_type": "stream",
     "text": [
      "Epoch 1/1:   9%|▊         | 64/745 [26:31<4:38:19, 24.52s/it]"
     ]
    },
    {
     "name": "stdout",
     "output_type": "stream",
     "text": [
      "Train Loss: 0.058, Train Acc: 0.637\r"
     ]
    },
    {
     "name": "stderr",
     "output_type": "stream",
     "text": [
      "Epoch 1/1:   9%|▊         | 65/745 [26:57<4:40:27, 24.75s/it]"
     ]
    },
    {
     "name": "stdout",
     "output_type": "stream",
     "text": [
      "Train Loss: 0.058, Train Acc: 0.639\r"
     ]
    },
    {
     "name": "stderr",
     "output_type": "stream",
     "text": [
      "Epoch 1/1:   9%|▉         | 66/745 [27:21<4:38:43, 24.63s/it]"
     ]
    },
    {
     "name": "stdout",
     "output_type": "stream",
     "text": [
      "Train Loss: 0.059, Train Acc: 0.639\r"
     ]
    },
    {
     "name": "stderr",
     "output_type": "stream",
     "text": [
      "Epoch 1/1:   9%|▉         | 67/745 [27:45<4:38:02, 24.60s/it]"
     ]
    },
    {
     "name": "stdout",
     "output_type": "stream",
     "text": [
      "Train Loss: 0.060, Train Acc: 0.639\r"
     ]
    },
    {
     "name": "stderr",
     "output_type": "stream",
     "text": [
      "Epoch 1/1:   9%|▉         | 68/745 [28:10<4:36:19, 24.49s/it]"
     ]
    },
    {
     "name": "stdout",
     "output_type": "stream",
     "text": [
      "Train Loss: 0.061, Train Acc: 0.642\r"
     ]
    },
    {
     "name": "stderr",
     "output_type": "stream",
     "text": [
      "Epoch 1/1:   9%|▉         | 69/745 [28:34<4:36:17, 24.52s/it]"
     ]
    },
    {
     "name": "stdout",
     "output_type": "stream",
     "text": [
      "Train Loss: 0.062, Train Acc: 0.641\r"
     ]
    },
    {
     "name": "stderr",
     "output_type": "stream",
     "text": [
      "Epoch 1/1:   9%|▉         | 70/745 [28:59<4:35:14, 24.47s/it]"
     ]
    },
    {
     "name": "stdout",
     "output_type": "stream",
     "text": [
      "Train Loss: 0.063, Train Acc: 0.643\r"
     ]
    },
    {
     "name": "stderr",
     "output_type": "stream",
     "text": [
      "Epoch 1/1:  10%|▉         | 71/745 [29:23<4:34:30, 24.44s/it]"
     ]
    },
    {
     "name": "stdout",
     "output_type": "stream",
     "text": [
      "Train Loss: 0.064, Train Acc: 0.642\r"
     ]
    },
    {
     "name": "stderr",
     "output_type": "stream",
     "text": [
      "Epoch 1/1:  10%|▉         | 72/745 [29:47<4:33:53, 24.42s/it]"
     ]
    },
    {
     "name": "stdout",
     "output_type": "stream",
     "text": [
      "Train Loss: 0.064, Train Acc: 0.645\r"
     ]
    },
    {
     "name": "stderr",
     "output_type": "stream",
     "text": [
      "Epoch 1/1:  10%|▉         | 73/745 [30:12<4:34:04, 24.47s/it]"
     ]
    },
    {
     "name": "stdout",
     "output_type": "stream",
     "text": [
      "Train Loss: 0.065, Train Acc: 0.643\r"
     ]
    },
    {
     "name": "stderr",
     "output_type": "stream",
     "text": [
      "Epoch 1/1:  10%|▉         | 74/745 [30:37<4:34:31, 24.55s/it]"
     ]
    },
    {
     "name": "stdout",
     "output_type": "stream",
     "text": [
      "Train Loss: 0.066, Train Acc: 0.643\r"
     ]
    },
    {
     "name": "stderr",
     "output_type": "stream",
     "text": [
      "Epoch 1/1:  10%|█         | 75/745 [31:01<4:34:00, 24.54s/it]"
     ]
    },
    {
     "name": "stdout",
     "output_type": "stream",
     "text": [
      "Train Loss: 0.067, Train Acc: 0.644\r"
     ]
    },
    {
     "name": "stderr",
     "output_type": "stream",
     "text": [
      "Epoch 1/1:  10%|█         | 76/745 [31:26<4:32:55, 24.48s/it]"
     ]
    },
    {
     "name": "stdout",
     "output_type": "stream",
     "text": [
      "Train Loss: 0.068, Train Acc: 0.643\r"
     ]
    },
    {
     "name": "stderr",
     "output_type": "stream",
     "text": [
      "Epoch 1/1:  10%|█         | 77/745 [31:50<4:32:53, 24.51s/it]"
     ]
    },
    {
     "name": "stdout",
     "output_type": "stream",
     "text": [
      "Train Loss: 0.069, Train Acc: 0.643\r"
     ]
    },
    {
     "name": "stderr",
     "output_type": "stream",
     "text": [
      "Epoch 1/1:  10%|█         | 78/745 [32:15<4:32:17, 24.49s/it]"
     ]
    },
    {
     "name": "stdout",
     "output_type": "stream",
     "text": [
      "Train Loss: 0.070, Train Acc: 0.643\r"
     ]
    },
    {
     "name": "stderr",
     "output_type": "stream",
     "text": [
      "Epoch 1/1:  11%|█         | 79/745 [32:39<4:32:09, 24.52s/it]"
     ]
    },
    {
     "name": "stdout",
     "output_type": "stream",
     "text": [
      "Train Loss: 0.071, Train Acc: 0.644\r"
     ]
    },
    {
     "name": "stderr",
     "output_type": "stream",
     "text": [
      "Epoch 1/1:  11%|█         | 80/745 [33:04<4:32:12, 24.56s/it]"
     ]
    },
    {
     "name": "stdout",
     "output_type": "stream",
     "text": [
      "Train Loss: 0.072, Train Acc: 0.643\r"
     ]
    },
    {
     "name": "stderr",
     "output_type": "stream",
     "text": [
      "Epoch 1/1:  11%|█         | 81/745 [33:29<4:33:14, 24.69s/it]"
     ]
    },
    {
     "name": "stdout",
     "output_type": "stream",
     "text": [
      "Train Loss: 0.072, Train Acc: 0.643\r"
     ]
    },
    {
     "name": "stderr",
     "output_type": "stream",
     "text": [
      "Epoch 1/1:  11%|█         | 82/745 [33:53<4:32:41, 24.68s/it]"
     ]
    },
    {
     "name": "stdout",
     "output_type": "stream",
     "text": [
      "Train Loss: 0.073, Train Acc: 0.643\r"
     ]
    },
    {
     "name": "stderr",
     "output_type": "stream",
     "text": [
      "Epoch 1/1:  11%|█         | 83/745 [34:18<4:31:55, 24.65s/it]"
     ]
    },
    {
     "name": "stdout",
     "output_type": "stream",
     "text": [
      "Train Loss: 0.074, Train Acc: 0.645\r"
     ]
    },
    {
     "name": "stderr",
     "output_type": "stream",
     "text": [
      "Epoch 1/1:  11%|█▏        | 84/745 [34:43<4:31:19, 24.63s/it]"
     ]
    },
    {
     "name": "stdout",
     "output_type": "stream",
     "text": [
      "Train Loss: 0.075, Train Acc: 0.645\r"
     ]
    },
    {
     "name": "stderr",
     "output_type": "stream",
     "text": [
      "Epoch 1/1:  11%|█▏        | 85/745 [35:07<4:31:28, 24.68s/it]"
     ]
    },
    {
     "name": "stdout",
     "output_type": "stream",
     "text": [
      "Train Loss: 0.076, Train Acc: 0.645\r"
     ]
    },
    {
     "name": "stderr",
     "output_type": "stream",
     "text": [
      "Epoch 1/1:  12%|█▏        | 86/745 [35:32<4:30:49, 24.66s/it]"
     ]
    },
    {
     "name": "stdout",
     "output_type": "stream",
     "text": [
      "Train Loss: 0.077, Train Acc: 0.647\r"
     ]
    },
    {
     "name": "stderr",
     "output_type": "stream",
     "text": [
      "Epoch 1/1:  12%|█▏        | 87/745 [35:57<4:30:14, 24.64s/it]"
     ]
    },
    {
     "name": "stdout",
     "output_type": "stream",
     "text": [
      "Train Loss: 0.078, Train Acc: 0.644\r"
     ]
    },
    {
     "name": "stderr",
     "output_type": "stream",
     "text": [
      "Epoch 1/1:  12%|█▏        | 88/745 [36:21<4:29:52, 24.65s/it]"
     ]
    },
    {
     "name": "stdout",
     "output_type": "stream",
     "text": [
      "Train Loss: 0.079, Train Acc: 0.645\r"
     ]
    },
    {
     "name": "stderr",
     "output_type": "stream",
     "text": [
      "Epoch 1/1:  12%|█▏        | 89/745 [36:46<4:29:53, 24.68s/it]"
     ]
    },
    {
     "name": "stdout",
     "output_type": "stream",
     "text": [
      "Train Loss: 0.079, Train Acc: 0.646\r"
     ]
    },
    {
     "name": "stderr",
     "output_type": "stream",
     "text": [
      "Epoch 1/1:  12%|█▏        | 90/745 [37:11<4:30:01, 24.74s/it]"
     ]
    },
    {
     "name": "stdout",
     "output_type": "stream",
     "text": [
      "Train Loss: 0.080, Train Acc: 0.644\r"
     ]
    },
    {
     "name": "stderr",
     "output_type": "stream",
     "text": [
      "Epoch 1/1:  12%|█▏        | 91/745 [37:36<4:29:26, 24.72s/it]"
     ]
    },
    {
     "name": "stdout",
     "output_type": "stream",
     "text": [
      "Train Loss: 0.081, Train Acc: 0.644\r"
     ]
    },
    {
     "name": "stderr",
     "output_type": "stream",
     "text": [
      "Epoch 1/1:  12%|█▏        | 92/745 [38:00<4:28:25, 24.66s/it]"
     ]
    },
    {
     "name": "stdout",
     "output_type": "stream",
     "text": [
      "Train Loss: 0.082, Train Acc: 0.644\r"
     ]
    },
    {
     "name": "stderr",
     "output_type": "stream",
     "text": [
      "Epoch 1/1:  12%|█▏        | 93/745 [38:25<4:28:23, 24.70s/it]"
     ]
    },
    {
     "name": "stdout",
     "output_type": "stream",
     "text": [
      "Train Loss: 0.083, Train Acc: 0.643\r"
     ]
    },
    {
     "name": "stderr",
     "output_type": "stream",
     "text": [
      "Epoch 1/1:  13%|█▎        | 94/745 [38:50<4:29:49, 24.87s/it]"
     ]
    },
    {
     "name": "stdout",
     "output_type": "stream",
     "text": [
      "Train Loss: 0.084, Train Acc: 0.645\r"
     ]
    },
    {
     "name": "stderr",
     "output_type": "stream",
     "text": [
      "Epoch 1/1:  13%|█▎        | 95/745 [39:15<4:28:40, 24.80s/it]"
     ]
    },
    {
     "name": "stdout",
     "output_type": "stream",
     "text": [
      "Train Loss: 0.085, Train Acc: 0.645\r"
     ]
    },
    {
     "name": "stderr",
     "output_type": "stream",
     "text": [
      "Epoch 1/1:  13%|█▎        | 96/745 [39:40<4:28:06, 24.79s/it]"
     ]
    },
    {
     "name": "stdout",
     "output_type": "stream",
     "text": [
      "Train Loss: 0.086, Train Acc: 0.646\r"
     ]
    },
    {
     "name": "stderr",
     "output_type": "stream",
     "text": [
      "Epoch 1/1:  13%|█▎        | 97/745 [40:04<4:27:54, 24.81s/it]"
     ]
    },
    {
     "name": "stdout",
     "output_type": "stream",
     "text": [
      "Train Loss: 0.087, Train Acc: 0.646\r"
     ]
    },
    {
     "name": "stderr",
     "output_type": "stream",
     "text": [
      "Epoch 1/1:  13%|█▎        | 98/745 [40:29<4:27:45, 24.83s/it]"
     ]
    },
    {
     "name": "stdout",
     "output_type": "stream",
     "text": [
      "Train Loss: 0.087, Train Acc: 0.647\r"
     ]
    },
    {
     "name": "stderr",
     "output_type": "stream",
     "text": [
      "Epoch 1/1:  13%|█▎        | 99/745 [40:54<4:27:05, 24.81s/it]"
     ]
    },
    {
     "name": "stdout",
     "output_type": "stream",
     "text": [
      "Train Loss: 0.088, Train Acc: 0.648\r"
     ]
    },
    {
     "name": "stderr",
     "output_type": "stream",
     "text": [
      "Epoch 1/1:  13%|█▎        | 100/745 [41:19<4:27:29, 24.88s/it]"
     ]
    },
    {
     "name": "stdout",
     "output_type": "stream",
     "text": [
      "Train Loss: 0.089, Train Acc: 0.651\r"
     ]
    },
    {
     "name": "stderr",
     "output_type": "stream",
     "text": [
      "Epoch 1/1:  14%|█▎        | 101/745 [41:45<4:29:05, 25.07s/it]"
     ]
    },
    {
     "name": "stdout",
     "output_type": "stream",
     "text": [
      "Train Loss: 0.090, Train Acc: 0.651\r"
     ]
    },
    {
     "name": "stderr",
     "output_type": "stream",
     "text": [
      "Epoch 1/1:  14%|█▎        | 102/745 [42:10<4:28:09, 25.02s/it]"
     ]
    },
    {
     "name": "stdout",
     "output_type": "stream",
     "text": [
      "Train Loss: 0.090, Train Acc: 0.652\r"
     ]
    },
    {
     "name": "stderr",
     "output_type": "stream",
     "text": [
      "Epoch 1/1:  14%|█▍        | 103/745 [42:34<4:27:28, 25.00s/it]"
     ]
    },
    {
     "name": "stdout",
     "output_type": "stream",
     "text": [
      "Train Loss: 0.091, Train Acc: 0.654\r"
     ]
    },
    {
     "name": "stderr",
     "output_type": "stream",
     "text": [
      "Epoch 1/1:  14%|█▍        | 104/745 [42:59<4:26:33, 24.95s/it]"
     ]
    },
    {
     "name": "stdout",
     "output_type": "stream",
     "text": [
      "Train Loss: 0.092, Train Acc: 0.653\r"
     ]
    },
    {
     "name": "stderr",
     "output_type": "stream",
     "text": [
      "Epoch 1/1:  14%|█▍        | 105/745 [43:25<4:28:21, 25.16s/it]"
     ]
    },
    {
     "name": "stdout",
     "output_type": "stream",
     "text": [
      "Train Loss: 0.093, Train Acc: 0.653\r"
     ]
    },
    {
     "name": "stderr",
     "output_type": "stream",
     "text": [
      "Epoch 1/1:  14%|█▍        | 106/745 [43:50<4:27:01, 25.07s/it]"
     ]
    },
    {
     "name": "stdout",
     "output_type": "stream",
     "text": [
      "Train Loss: 0.094, Train Acc: 0.654\r"
     ]
    },
    {
     "name": "stderr",
     "output_type": "stream",
     "text": [
      "Epoch 1/1:  14%|█▍        | 107/745 [44:15<4:26:57, 25.11s/it]"
     ]
    },
    {
     "name": "stdout",
     "output_type": "stream",
     "text": [
      "Train Loss: 0.095, Train Acc: 0.653\r"
     ]
    },
    {
     "name": "stderr",
     "output_type": "stream",
     "text": [
      "Epoch 1/1:  14%|█▍        | 108/745 [44:40<4:27:23, 25.19s/it]"
     ]
    },
    {
     "name": "stdout",
     "output_type": "stream",
     "text": [
      "Train Loss: 0.095, Train Acc: 0.654\r"
     ]
    },
    {
     "name": "stderr",
     "output_type": "stream",
     "text": [
      "Epoch 1/1:  15%|█▍        | 109/745 [45:05<4:26:14, 25.12s/it]"
     ]
    },
    {
     "name": "stdout",
     "output_type": "stream",
     "text": [
      "Train Loss: 0.096, Train Acc: 0.655\r"
     ]
    },
    {
     "name": "stderr",
     "output_type": "stream",
     "text": [
      "Epoch 1/1:  15%|█▍        | 110/745 [45:30<4:25:38, 25.10s/it]"
     ]
    },
    {
     "name": "stdout",
     "output_type": "stream",
     "text": [
      "Train Loss: 0.097, Train Acc: 0.656\r"
     ]
    },
    {
     "name": "stderr",
     "output_type": "stream",
     "text": [
      "Epoch 1/1:  15%|█▍        | 111/745 [45:55<4:24:06, 24.99s/it]"
     ]
    },
    {
     "name": "stdout",
     "output_type": "stream",
     "text": [
      "Train Loss: 0.098, Train Acc: 0.657\r"
     ]
    },
    {
     "name": "stderr",
     "output_type": "stream",
     "text": [
      "Epoch 1/1:  15%|█▌        | 112/745 [46:20<4:23:42, 25.00s/it]"
     ]
    },
    {
     "name": "stdout",
     "output_type": "stream",
     "text": [
      "Train Loss: 0.098, Train Acc: 0.658\r"
     ]
    },
    {
     "name": "stderr",
     "output_type": "stream",
     "text": [
      "Epoch 1/1:  15%|█▌        | 113/745 [46:45<4:23:18, 25.00s/it]"
     ]
    },
    {
     "name": "stdout",
     "output_type": "stream",
     "text": [
      "Train Loss: 0.099, Train Acc: 0.660\r"
     ]
    },
    {
     "name": "stderr",
     "output_type": "stream",
     "text": [
      "Epoch 1/1:  15%|█▌        | 114/745 [47:10<4:22:48, 24.99s/it]"
     ]
    },
    {
     "name": "stdout",
     "output_type": "stream",
     "text": [
      "Train Loss: 0.100, Train Acc: 0.660\r"
     ]
    },
    {
     "name": "stderr",
     "output_type": "stream",
     "text": [
      "Epoch 1/1:  15%|█▌        | 115/745 [47:36<4:25:13, 25.26s/it]"
     ]
    },
    {
     "name": "stdout",
     "output_type": "stream",
     "text": [
      "Train Loss: 0.101, Train Acc: 0.661\r"
     ]
    },
    {
     "name": "stderr",
     "output_type": "stream",
     "text": [
      "Epoch 1/1:  16%|█▌        | 116/745 [48:01<4:23:36, 25.15s/it]"
     ]
    },
    {
     "name": "stdout",
     "output_type": "stream",
     "text": [
      "Train Loss: 0.101, Train Acc: 0.662\r"
     ]
    },
    {
     "name": "stderr",
     "output_type": "stream",
     "text": [
      "Epoch 1/1:  16%|█▌        | 117/745 [48:26<4:23:14, 25.15s/it]"
     ]
    },
    {
     "name": "stdout",
     "output_type": "stream",
     "text": [
      "Train Loss: 0.102, Train Acc: 0.663\r"
     ]
    },
    {
     "name": "stderr",
     "output_type": "stream",
     "text": [
      "Epoch 1/1:  16%|█▌        | 118/745 [48:51<4:22:50, 25.15s/it]"
     ]
    },
    {
     "name": "stdout",
     "output_type": "stream",
     "text": [
      "Train Loss: 0.103, Train Acc: 0.662\r"
     ]
    },
    {
     "name": "stderr",
     "output_type": "stream",
     "text": [
      "Epoch 1/1:  16%|█▌        | 119/745 [49:16<4:21:50, 25.10s/it]"
     ]
    },
    {
     "name": "stdout",
     "output_type": "stream",
     "text": [
      "Train Loss: 0.104, Train Acc: 0.663\r"
     ]
    },
    {
     "name": "stderr",
     "output_type": "stream",
     "text": [
      "Epoch 1/1:  16%|█▌        | 120/745 [49:41<4:21:38, 25.12s/it]"
     ]
    },
    {
     "name": "stdout",
     "output_type": "stream",
     "text": [
      "Train Loss: 0.105, Train Acc: 0.663\r"
     ]
    },
    {
     "name": "stderr",
     "output_type": "stream",
     "text": [
      "Epoch 1/1:  16%|█▌        | 121/745 [50:07<4:21:51, 25.18s/it]"
     ]
    },
    {
     "name": "stdout",
     "output_type": "stream",
     "text": [
      "Train Loss: 0.105, Train Acc: 0.664\r"
     ]
    },
    {
     "name": "stderr",
     "output_type": "stream",
     "text": [
      "Epoch 1/1:  16%|█▋        | 122/745 [50:32<4:21:44, 25.21s/it]"
     ]
    },
    {
     "name": "stdout",
     "output_type": "stream",
     "text": [
      "Train Loss: 0.106, Train Acc: 0.665\r"
     ]
    },
    {
     "name": "stderr",
     "output_type": "stream",
     "text": [
      "Epoch 1/1:  17%|█▋        | 123/745 [50:58<4:23:47, 25.45s/it]"
     ]
    },
    {
     "name": "stdout",
     "output_type": "stream",
     "text": [
      "Train Loss: 0.107, Train Acc: 0.664\r"
     ]
    },
    {
     "name": "stderr",
     "output_type": "stream",
     "text": [
      "Epoch 1/1:  17%|█▋        | 124/745 [51:28<4:38:16, 26.89s/it]"
     ]
    },
    {
     "name": "stdout",
     "output_type": "stream",
     "text": [
      "Train Loss: 0.108, Train Acc: 0.665\r"
     ]
    },
    {
     "name": "stderr",
     "output_type": "stream",
     "text": [
      "Epoch 1/1:  17%|█▋        | 125/745 [51:54<4:35:43, 26.68s/it]"
     ]
    },
    {
     "name": "stdout",
     "output_type": "stream",
     "text": [
      "Train Loss: 0.109, Train Acc: 0.664\r"
     ]
    },
    {
     "name": "stderr",
     "output_type": "stream",
     "text": [
      "Epoch 1/1:  17%|█▋        | 126/745 [52:20<4:32:01, 26.37s/it]"
     ]
    },
    {
     "name": "stdout",
     "output_type": "stream",
     "text": [
      "Train Loss: 0.109, Train Acc: 0.666\r"
     ]
    },
    {
     "name": "stderr",
     "output_type": "stream",
     "text": [
      "Epoch 1/1:  17%|█▋        | 127/745 [52:45<4:27:43, 25.99s/it]"
     ]
    },
    {
     "name": "stdout",
     "output_type": "stream",
     "text": [
      "Train Loss: 0.110, Train Acc: 0.666\r"
     ]
    },
    {
     "name": "stderr",
     "output_type": "stream",
     "text": [
      "Epoch 1/1:  17%|█▋        | 128/745 [53:10<4:24:23, 25.71s/it]"
     ]
    },
    {
     "name": "stdout",
     "output_type": "stream",
     "text": [
      "Train Loss: 0.111, Train Acc: 0.666\r"
     ]
    },
    {
     "name": "stderr",
     "output_type": "stream",
     "text": [
      "Epoch 1/1:  17%|█▋        | 129/745 [53:35<4:22:07, 25.53s/it]"
     ]
    },
    {
     "name": "stdout",
     "output_type": "stream",
     "text": [
      "Train Loss: 0.112, Train Acc: 0.666\r"
     ]
    },
    {
     "name": "stderr",
     "output_type": "stream",
     "text": [
      "Epoch 1/1:  17%|█▋        | 130/745 [54:00<4:20:30, 25.41s/it]"
     ]
    },
    {
     "name": "stdout",
     "output_type": "stream",
     "text": [
      "Train Loss: 0.113, Train Acc: 0.666\r"
     ]
    },
    {
     "name": "stderr",
     "output_type": "stream",
     "text": [
      "Epoch 1/1:  18%|█▊        | 131/745 [54:26<4:22:01, 25.60s/it]"
     ]
    },
    {
     "name": "stdout",
     "output_type": "stream",
     "text": [
      "Train Loss: 0.114, Train Acc: 0.666\r"
     ]
    },
    {
     "name": "stderr",
     "output_type": "stream",
     "text": [
      "Epoch 1/1:  18%|█▊        | 132/745 [54:51<4:19:35, 25.41s/it]"
     ]
    },
    {
     "name": "stdout",
     "output_type": "stream",
     "text": [
      "Train Loss: 0.115, Train Acc: 0.667\r"
     ]
    },
    {
     "name": "stderr",
     "output_type": "stream",
     "text": [
      "Epoch 1/1:  18%|█▊        | 133/745 [55:17<4:19:17, 25.42s/it]"
     ]
    },
    {
     "name": "stdout",
     "output_type": "stream",
     "text": [
      "Train Loss: 0.115, Train Acc: 0.668\r"
     ]
    },
    {
     "name": "stderr",
     "output_type": "stream",
     "text": [
      "Epoch 1/1:  18%|█▊        | 134/745 [55:42<4:18:15, 25.36s/it]"
     ]
    },
    {
     "name": "stdout",
     "output_type": "stream",
     "text": [
      "Train Loss: 0.116, Train Acc: 0.670\r"
     ]
    },
    {
     "name": "stderr",
     "output_type": "stream",
     "text": [
      "Epoch 1/1:  18%|█▊        | 135/745 [56:07<4:16:49, 25.26s/it]"
     ]
    },
    {
     "name": "stdout",
     "output_type": "stream",
     "text": [
      "Train Loss: 0.117, Train Acc: 0.670\r"
     ]
    },
    {
     "name": "stderr",
     "output_type": "stream",
     "text": [
      "Epoch 1/1:  18%|█▊        | 136/745 [56:33<4:16:51, 25.31s/it]"
     ]
    },
    {
     "name": "stdout",
     "output_type": "stream",
     "text": [
      "Train Loss: 0.118, Train Acc: 0.670\r"
     ]
    },
    {
     "name": "stderr",
     "output_type": "stream",
     "text": [
      "Epoch 1/1:  18%|█▊        | 137/745 [56:59<4:18:50, 25.54s/it]"
     ]
    },
    {
     "name": "stdout",
     "output_type": "stream",
     "text": [
      "Train Loss: 0.119, Train Acc: 0.669\r"
     ]
    },
    {
     "name": "stderr",
     "output_type": "stream",
     "text": [
      "Epoch 1/1:  19%|█▊        | 138/745 [57:25<4:20:08, 25.71s/it]"
     ]
    },
    {
     "name": "stdout",
     "output_type": "stream",
     "text": [
      "Train Loss: 0.119, Train Acc: 0.670\r"
     ]
    },
    {
     "name": "stderr",
     "output_type": "stream",
     "text": [
      "Epoch 1/1:  19%|█▊        | 139/745 [57:50<4:18:24, 25.58s/it]"
     ]
    },
    {
     "name": "stdout",
     "output_type": "stream",
     "text": [
      "Train Loss: 0.121, Train Acc: 0.669\r"
     ]
    },
    {
     "name": "stderr",
     "output_type": "stream",
     "text": [
      "Epoch 1/1:  19%|█▉        | 140/745 [58:16<4:17:37, 25.55s/it]"
     ]
    },
    {
     "name": "stdout",
     "output_type": "stream",
     "text": [
      "Train Loss: 0.121, Train Acc: 0.671\r"
     ]
    },
    {
     "name": "stderr",
     "output_type": "stream",
     "text": [
      "Epoch 1/1:  19%|█▉        | 141/745 [58:41<4:17:39, 25.60s/it]"
     ]
    },
    {
     "name": "stdout",
     "output_type": "stream",
     "text": [
      "Train Loss: 0.122, Train Acc: 0.671\r"
     ]
    },
    {
     "name": "stderr",
     "output_type": "stream",
     "text": [
      "Epoch 1/1:  19%|█▉        | 142/745 [59:07<4:16:44, 25.55s/it]"
     ]
    },
    {
     "name": "stdout",
     "output_type": "stream",
     "text": [
      "Train Loss: 0.123, Train Acc: 0.670\r"
     ]
    },
    {
     "name": "stderr",
     "output_type": "stream",
     "text": [
      "Epoch 1/1:  19%|█▉        | 143/745 [59:32<4:15:44, 25.49s/it]"
     ]
    },
    {
     "name": "stdout",
     "output_type": "stream",
     "text": [
      "Train Loss: 0.124, Train Acc: 0.669\r"
     ]
    },
    {
     "name": "stderr",
     "output_type": "stream",
     "text": [
      "Epoch 1/1:  19%|█▉        | 144/745 [59:57<4:14:41, 25.43s/it]"
     ]
    },
    {
     "name": "stdout",
     "output_type": "stream",
     "text": [
      "Train Loss: 0.125, Train Acc: 0.669\r"
     ]
    },
    {
     "name": "stderr",
     "output_type": "stream",
     "text": [
      "Epoch 1/1:  19%|█▉        | 145/745 [1:00:24<4:17:19, 25.73s/it]"
     ]
    },
    {
     "name": "stdout",
     "output_type": "stream",
     "text": [
      "Train Loss: 0.126, Train Acc: 0.669\r"
     ]
    },
    {
     "name": "stderr",
     "output_type": "stream",
     "text": [
      "Epoch 1/1:  20%|█▉        | 146/745 [1:00:49<4:15:53, 25.63s/it]"
     ]
    },
    {
     "name": "stdout",
     "output_type": "stream",
     "text": [
      "Train Loss: 0.126, Train Acc: 0.668\r"
     ]
    },
    {
     "name": "stderr",
     "output_type": "stream",
     "text": [
      "Epoch 1/1:  20%|█▉        | 147/745 [1:01:15<4:14:48, 25.57s/it]"
     ]
    },
    {
     "name": "stdout",
     "output_type": "stream",
     "text": [
      "Train Loss: 0.127, Train Acc: 0.668\r"
     ]
    },
    {
     "name": "stderr",
     "output_type": "stream",
     "text": [
      "Epoch 1/1:  20%|█▉        | 148/745 [1:01:40<4:14:06, 25.54s/it]"
     ]
    },
    {
     "name": "stdout",
     "output_type": "stream",
     "text": [
      "Train Loss: 0.128, Train Acc: 0.668\r"
     ]
    },
    {
     "name": "stderr",
     "output_type": "stream",
     "text": [
      "Epoch 1/1:  20%|██        | 149/745 [1:02:05<4:13:02, 25.47s/it]"
     ]
    },
    {
     "name": "stdout",
     "output_type": "stream",
     "text": [
      "Train Loss: 0.129, Train Acc: 0.665\r"
     ]
    },
    {
     "name": "stderr",
     "output_type": "stream",
     "text": [
      "Epoch 1/1:  20%|██        | 150/745 [1:02:31<4:12:49, 25.49s/it]"
     ]
    },
    {
     "name": "stdout",
     "output_type": "stream",
     "text": [
      "Train Loss: 0.130, Train Acc: 0.665\r"
     ]
    },
    {
     "name": "stderr",
     "output_type": "stream",
     "text": [
      "Epoch 1/1:  20%|██        | 151/745 [1:02:57<4:14:11, 25.68s/it]"
     ]
    },
    {
     "name": "stdout",
     "output_type": "stream",
     "text": [
      "Train Loss: 0.131, Train Acc: 0.665\r"
     ]
    },
    {
     "name": "stderr",
     "output_type": "stream",
     "text": [
      "Epoch 1/1:  20%|██        | 152/745 [1:03:22<4:13:19, 25.63s/it]"
     ]
    },
    {
     "name": "stdout",
     "output_type": "stream",
     "text": [
      "Train Loss: 0.132, Train Acc: 0.664\r"
     ]
    },
    {
     "name": "stderr",
     "output_type": "stream",
     "text": [
      "Epoch 1/1:  21%|██        | 153/745 [1:03:48<4:12:01, 25.54s/it]"
     ]
    },
    {
     "name": "stdout",
     "output_type": "stream",
     "text": [
      "Train Loss: 0.133, Train Acc: 0.664\r"
     ]
    },
    {
     "name": "stderr",
     "output_type": "stream",
     "text": [
      "Epoch 1/1:  21%|██        | 154/745 [1:04:13<4:11:57, 25.58s/it]"
     ]
    },
    {
     "name": "stdout",
     "output_type": "stream",
     "text": [
      "Train Loss: 0.134, Train Acc: 0.663\r"
     ]
    },
    {
     "name": "stderr",
     "output_type": "stream",
     "text": [
      "Epoch 1/1:  21%|██        | 155/745 [1:04:39<4:10:48, 25.51s/it]"
     ]
    },
    {
     "name": "stdout",
     "output_type": "stream",
     "text": [
      "Train Loss: 0.134, Train Acc: 0.663\r"
     ]
    },
    {
     "name": "stderr",
     "output_type": "stream",
     "text": [
      "Epoch 1/1:  21%|██        | 156/745 [1:05:04<4:10:36, 25.53s/it]"
     ]
    },
    {
     "name": "stdout",
     "output_type": "stream",
     "text": [
      "Train Loss: 0.135, Train Acc: 0.663\r"
     ]
    },
    {
     "name": "stderr",
     "output_type": "stream",
     "text": [
      "Epoch 1/1:  21%|██        | 157/745 [1:05:31<4:12:37, 25.78s/it]"
     ]
    },
    {
     "name": "stdout",
     "output_type": "stream",
     "text": [
      "Train Loss: 0.136, Train Acc: 0.663\r"
     ]
    },
    {
     "name": "stderr",
     "output_type": "stream",
     "text": [
      "Epoch 1/1:  21%|██        | 158/745 [1:05:56<4:11:40, 25.72s/it]"
     ]
    },
    {
     "name": "stdout",
     "output_type": "stream",
     "text": [
      "Train Loss: 0.137, Train Acc: 0.663\r"
     ]
    },
    {
     "name": "stderr",
     "output_type": "stream",
     "text": [
      "Epoch 1/1:  21%|██▏       | 159/745 [1:06:22<4:11:31, 25.75s/it]"
     ]
    },
    {
     "name": "stdout",
     "output_type": "stream",
     "text": [
      "Train Loss: 0.138, Train Acc: 0.663\r"
     ]
    },
    {
     "name": "stderr",
     "output_type": "stream",
     "text": [
      "Epoch 1/1:  21%|██▏       | 160/745 [1:06:48<4:10:31, 25.69s/it]"
     ]
    },
    {
     "name": "stdout",
     "output_type": "stream",
     "text": [
      "Train Loss: 0.139, Train Acc: 0.661\r"
     ]
    },
    {
     "name": "stderr",
     "output_type": "stream",
     "text": [
      "Epoch 1/1:  22%|██▏       | 161/745 [1:07:13<4:09:04, 25.59s/it]"
     ]
    },
    {
     "name": "stdout",
     "output_type": "stream",
     "text": [
      "Train Loss: 0.140, Train Acc: 0.663\r"
     ]
    },
    {
     "name": "stderr",
     "output_type": "stream",
     "text": [
      "Epoch 1/1:  22%|██▏       | 162/745 [1:07:38<4:08:02, 25.53s/it]"
     ]
    },
    {
     "name": "stdout",
     "output_type": "stream",
     "text": [
      "Train Loss: 0.141, Train Acc: 0.662\r"
     ]
    },
    {
     "name": "stderr",
     "output_type": "stream",
     "text": [
      "Epoch 1/1:  22%|██▏       | 163/745 [1:08:05<4:09:51, 25.76s/it]"
     ]
    },
    {
     "name": "stdout",
     "output_type": "stream",
     "text": [
      "Train Loss: 0.141, Train Acc: 0.663\r"
     ]
    },
    {
     "name": "stderr",
     "output_type": "stream",
     "text": [
      "Epoch 1/1:  22%|██▏       | 164/745 [1:08:31<4:09:25, 25.76s/it]"
     ]
    },
    {
     "name": "stdout",
     "output_type": "stream",
     "text": [
      "Train Loss: 0.142, Train Acc: 0.664\r"
     ]
    },
    {
     "name": "stderr",
     "output_type": "stream",
     "text": [
      "Epoch 1/1:  22%|██▏       | 165/745 [1:08:56<4:08:53, 25.75s/it]"
     ]
    },
    {
     "name": "stdout",
     "output_type": "stream",
     "text": [
      "Train Loss: 0.143, Train Acc: 0.664\r"
     ]
    },
    {
     "name": "stderr",
     "output_type": "stream",
     "text": [
      "Epoch 1/1:  22%|██▏       | 166/745 [1:09:22<4:08:03, 25.70s/it]"
     ]
    },
    {
     "name": "stdout",
     "output_type": "stream",
     "text": [
      "Train Loss: 0.143, Train Acc: 0.665\r"
     ]
    },
    {
     "name": "stderr",
     "output_type": "stream",
     "text": [
      "Epoch 1/1:  22%|██▏       | 167/745 [1:09:48<4:07:29, 25.69s/it]"
     ]
    },
    {
     "name": "stdout",
     "output_type": "stream",
     "text": [
      "Train Loss: 0.144, Train Acc: 0.665\r"
     ]
    },
    {
     "name": "stderr",
     "output_type": "stream",
     "text": [
      "Epoch 1/1:  23%|██▎       | 168/745 [1:10:13<4:07:17, 25.71s/it]"
     ]
    },
    {
     "name": "stdout",
     "output_type": "stream",
     "text": [
      "Train Loss: 0.145, Train Acc: 0.666\r"
     ]
    },
    {
     "name": "stderr",
     "output_type": "stream",
     "text": [
      "Epoch 1/1:  23%|██▎       | 169/745 [1:10:40<4:09:57, 26.04s/it]"
     ]
    },
    {
     "name": "stdout",
     "output_type": "stream",
     "text": [
      "Train Loss: 0.146, Train Acc: 0.666\r"
     ]
    },
    {
     "name": "stderr",
     "output_type": "stream",
     "text": [
      "Epoch 1/1:  23%|██▎       | 170/745 [1:11:06<4:08:23, 25.92s/it]"
     ]
    },
    {
     "name": "stdout",
     "output_type": "stream",
     "text": [
      "Train Loss: 0.147, Train Acc: 0.666\r"
     ]
    },
    {
     "name": "stderr",
     "output_type": "stream",
     "text": [
      "Epoch 1/1:  23%|██▎       | 171/745 [1:11:31<4:07:18, 25.85s/it]"
     ]
    },
    {
     "name": "stdout",
     "output_type": "stream",
     "text": [
      "Train Loss: 0.147, Train Acc: 0.666\r"
     ]
    },
    {
     "name": "stderr",
     "output_type": "stream",
     "text": [
      "Epoch 1/1:  23%|██▎       | 172/745 [1:11:57<4:05:53, 25.75s/it]"
     ]
    },
    {
     "name": "stdout",
     "output_type": "stream",
     "text": [
      "Train Loss: 0.148, Train Acc: 0.665\r"
     ]
    },
    {
     "name": "stderr",
     "output_type": "stream",
     "text": [
      "Epoch 1/1:  23%|██▎       | 173/745 [1:12:23<4:06:19, 25.84s/it]"
     ]
    },
    {
     "name": "stdout",
     "output_type": "stream",
     "text": [
      "Train Loss: 0.149, Train Acc: 0.666\r"
     ]
    },
    {
     "name": "stderr",
     "output_type": "stream",
     "text": [
      "Epoch 1/1:  23%|██▎       | 174/745 [1:12:50<4:07:52, 26.05s/it]"
     ]
    },
    {
     "name": "stdout",
     "output_type": "stream",
     "text": [
      "Train Loss: 0.150, Train Acc: 0.667\r"
     ]
    },
    {
     "name": "stderr",
     "output_type": "stream",
     "text": [
      "Epoch 1/1:  23%|██▎       | 175/745 [1:13:15<4:05:53, 25.88s/it]"
     ]
    },
    {
     "name": "stdout",
     "output_type": "stream",
     "text": [
      "Train Loss: 0.150, Train Acc: 0.667\r"
     ]
    },
    {
     "name": "stderr",
     "output_type": "stream",
     "text": [
      "Epoch 1/1:  24%|██▎       | 176/745 [1:13:41<4:04:37, 25.79s/it]"
     ]
    },
    {
     "name": "stdout",
     "output_type": "stream",
     "text": [
      "Train Loss: 0.151, Train Acc: 0.667\r"
     ]
    },
    {
     "name": "stderr",
     "output_type": "stream",
     "text": [
      "Epoch 1/1:  24%|██▍       | 177/745 [1:14:06<4:03:52, 25.76s/it]"
     ]
    },
    {
     "name": "stdout",
     "output_type": "stream",
     "text": [
      "Train Loss: 0.152, Train Acc: 0.667\r"
     ]
    },
    {
     "name": "stderr",
     "output_type": "stream",
     "text": [
      "Epoch 1/1:  24%|██▍       | 178/745 [1:14:32<4:02:59, 25.71s/it]"
     ]
    },
    {
     "name": "stdout",
     "output_type": "stream",
     "text": [
      "Train Loss: 0.153, Train Acc: 0.667\r"
     ]
    },
    {
     "name": "stderr",
     "output_type": "stream",
     "text": [
      "Epoch 1/1:  24%|██▍       | 179/745 [1:14:59<4:05:25, 26.02s/it]"
     ]
    },
    {
     "name": "stdout",
     "output_type": "stream",
     "text": [
      "Train Loss: 0.153, Train Acc: 0.668\r"
     ]
    },
    {
     "name": "stderr",
     "output_type": "stream",
     "text": [
      "Epoch 1/1:  24%|██▍       | 180/745 [1:15:24<4:04:24, 25.95s/it]"
     ]
    },
    {
     "name": "stdout",
     "output_type": "stream",
     "text": [
      "Train Loss: 0.154, Train Acc: 0.668\r"
     ]
    },
    {
     "name": "stderr",
     "output_type": "stream",
     "text": [
      "Epoch 1/1:  24%|██▍       | 181/745 [1:15:50<4:03:33, 25.91s/it]"
     ]
    },
    {
     "name": "stdout",
     "output_type": "stream",
     "text": [
      "Train Loss: 0.155, Train Acc: 0.669\r"
     ]
    },
    {
     "name": "stderr",
     "output_type": "stream",
     "text": [
      "Epoch 1/1:  24%|██▍       | 182/745 [1:16:16<4:03:13, 25.92s/it]"
     ]
    },
    {
     "name": "stdout",
     "output_type": "stream",
     "text": [
      "Train Loss: 0.156, Train Acc: 0.669\r"
     ]
    },
    {
     "name": "stderr",
     "output_type": "stream",
     "text": [
      "Epoch 1/1:  25%|██▍       | 183/745 [1:16:42<4:02:17, 25.87s/it]"
     ]
    },
    {
     "name": "stdout",
     "output_type": "stream",
     "text": [
      "Train Loss: 0.156, Train Acc: 0.669\r"
     ]
    },
    {
     "name": "stderr",
     "output_type": "stream",
     "text": [
      "Epoch 1/1:  25%|██▍       | 184/745 [1:17:08<4:03:37, 26.06s/it]"
     ]
    },
    {
     "name": "stdout",
     "output_type": "stream",
     "text": [
      "Train Loss: 0.157, Train Acc: 0.670\r"
     ]
    },
    {
     "name": "stderr",
     "output_type": "stream",
     "text": [
      "Epoch 1/1:  25%|██▍       | 185/745 [1:17:34<4:02:33, 25.99s/it]"
     ]
    },
    {
     "name": "stdout",
     "output_type": "stream",
     "text": [
      "Train Loss: 0.158, Train Acc: 0.669\r"
     ]
    },
    {
     "name": "stderr",
     "output_type": "stream",
     "text": [
      "Epoch 1/1:  25%|██▍       | 186/745 [1:18:00<4:02:04, 25.98s/it]"
     ]
    },
    {
     "name": "stdout",
     "output_type": "stream",
     "text": [
      "Train Loss: 0.159, Train Acc: 0.669\r"
     ]
    },
    {
     "name": "stderr",
     "output_type": "stream",
     "text": [
      "Epoch 1/1:  25%|██▌       | 187/745 [1:18:26<4:00:51, 25.90s/it]"
     ]
    },
    {
     "name": "stdout",
     "output_type": "stream",
     "text": [
      "Train Loss: 0.160, Train Acc: 0.669\r"
     ]
    },
    {
     "name": "stderr",
     "output_type": "stream",
     "text": [
      "Epoch 1/1:  25%|██▌       | 188/745 [1:18:52<4:00:32, 25.91s/it]"
     ]
    },
    {
     "name": "stdout",
     "output_type": "stream",
     "text": [
      "Train Loss: 0.160, Train Acc: 0.669\r"
     ]
    },
    {
     "name": "stderr",
     "output_type": "stream",
     "text": [
      "Epoch 1/1:  25%|██▌       | 189/745 [1:19:19<4:02:19, 26.15s/it]"
     ]
    },
    {
     "name": "stdout",
     "output_type": "stream",
     "text": [
      "Train Loss: 0.161, Train Acc: 0.669\r"
     ]
    },
    {
     "name": "stderr",
     "output_type": "stream",
     "text": [
      "Epoch 1/1:  26%|██▌       | 190/745 [1:19:44<4:00:41, 26.02s/it]"
     ]
    },
    {
     "name": "stdout",
     "output_type": "stream",
     "text": [
      "Train Loss: 0.162, Train Acc: 0.669\r"
     ]
    },
    {
     "name": "stderr",
     "output_type": "stream",
     "text": [
      "Epoch 1/1:  26%|██▌       | 191/745 [1:20:10<3:59:42, 25.96s/it]"
     ]
    },
    {
     "name": "stdout",
     "output_type": "stream",
     "text": [
      "Train Loss: 0.164, Train Acc: 0.668\r"
     ]
    },
    {
     "name": "stderr",
     "output_type": "stream",
     "text": [
      "Epoch 1/1:  26%|██▌       | 192/745 [1:20:36<3:59:02, 25.94s/it]"
     ]
    },
    {
     "name": "stdout",
     "output_type": "stream",
     "text": [
      "Train Loss: 0.164, Train Acc: 0.669\r"
     ]
    },
    {
     "name": "stderr",
     "output_type": "stream",
     "text": [
      "Epoch 1/1:  26%|██▌       | 193/745 [1:21:02<3:58:38, 25.94s/it]"
     ]
    },
    {
     "name": "stdout",
     "output_type": "stream",
     "text": [
      "Train Loss: 0.165, Train Acc: 0.669\r"
     ]
    },
    {
     "name": "stderr",
     "output_type": "stream",
     "text": [
      "Epoch 1/1:  26%|██▌       | 194/745 [1:21:29<4:00:15, 26.16s/it]"
     ]
    },
    {
     "name": "stdout",
     "output_type": "stream",
     "text": [
      "Train Loss: 0.165, Train Acc: 0.670\r"
     ]
    },
    {
     "name": "stderr",
     "output_type": "stream",
     "text": [
      "Epoch 1/1:  26%|██▌       | 195/745 [1:21:55<3:59:18, 26.11s/it]"
     ]
    },
    {
     "name": "stdout",
     "output_type": "stream",
     "text": [
      "Train Loss: 0.166, Train Acc: 0.670\r"
     ]
    },
    {
     "name": "stderr",
     "output_type": "stream",
     "text": [
      "Epoch 1/1:  26%|██▋       | 196/745 [1:22:20<3:57:26, 25.95s/it]"
     ]
    },
    {
     "name": "stdout",
     "output_type": "stream",
     "text": [
      "Train Loss: 0.167, Train Acc: 0.670\r"
     ]
    },
    {
     "name": "stderr",
     "output_type": "stream",
     "text": [
      "Epoch 1/1:  26%|██▋       | 197/745 [1:22:46<3:56:46, 25.92s/it]"
     ]
    },
    {
     "name": "stdout",
     "output_type": "stream",
     "text": [
      "Train Loss: 0.168, Train Acc: 0.671\r"
     ]
    },
    {
     "name": "stderr",
     "output_type": "stream",
     "text": [
      "Epoch 1/1:  27%|██▋       | 198/745 [1:23:13<3:59:33, 26.28s/it]"
     ]
    },
    {
     "name": "stdout",
     "output_type": "stream",
     "text": [
      "Train Loss: 0.168, Train Acc: 0.671\r"
     ]
    },
    {
     "name": "stderr",
     "output_type": "stream",
     "text": [
      "Epoch 1/1:  27%|██▋       | 199/745 [1:23:39<3:58:43, 26.23s/it]"
     ]
    },
    {
     "name": "stdout",
     "output_type": "stream",
     "text": [
      "Train Loss: 0.169, Train Acc: 0.671\r"
     ]
    },
    {
     "name": "stderr",
     "output_type": "stream",
     "text": [
      "Epoch 1/1:  27%|██▋       | 200/745 [1:24:05<3:57:41, 26.17s/it]"
     ]
    },
    {
     "name": "stdout",
     "output_type": "stream",
     "text": [
      "Train Loss: 0.170, Train Acc: 0.672\r"
     ]
    },
    {
     "name": "stderr",
     "output_type": "stream",
     "text": [
      "Epoch 1/1:  27%|██▋       | 201/745 [1:24:31<3:56:39, 26.10s/it]"
     ]
    },
    {
     "name": "stdout",
     "output_type": "stream",
     "text": [
      "Train Loss: 0.171, Train Acc: 0.673\r"
     ]
    },
    {
     "name": "stderr",
     "output_type": "stream",
     "text": [
      "Epoch 1/1:  27%|██▋       | 202/745 [1:24:58<3:58:44, 26.38s/it]"
     ]
    },
    {
     "name": "stdout",
     "output_type": "stream",
     "text": [
      "Train Loss: 0.171, Train Acc: 0.673\r"
     ]
    },
    {
     "name": "stderr",
     "output_type": "stream",
     "text": [
      "Epoch 1/1:  27%|██▋       | 203/745 [1:25:24<3:57:35, 26.30s/it]"
     ]
    },
    {
     "name": "stdout",
     "output_type": "stream",
     "text": [
      "Train Loss: 0.172, Train Acc: 0.673\r"
     ]
    },
    {
     "name": "stderr",
     "output_type": "stream",
     "text": [
      "Epoch 1/1:  27%|██▋       | 204/745 [1:25:50<3:56:18, 26.21s/it]"
     ]
    },
    {
     "name": "stdout",
     "output_type": "stream",
     "text": [
      "Train Loss: 0.173, Train Acc: 0.672\r"
     ]
    },
    {
     "name": "stderr",
     "output_type": "stream",
     "text": [
      "Epoch 1/1:  28%|██▊       | 205/745 [1:26:16<3:55:22, 26.15s/it]"
     ]
    },
    {
     "name": "stdout",
     "output_type": "stream",
     "text": [
      "Train Loss: 0.174, Train Acc: 0.672\r"
     ]
    },
    {
     "name": "stderr",
     "output_type": "stream",
     "text": [
      "Epoch 1/1:  28%|██▊       | 206/745 [1:26:43<3:55:06, 26.17s/it]"
     ]
    },
    {
     "name": "stdout",
     "output_type": "stream",
     "text": [
      "Train Loss: 0.175, Train Acc: 0.672\r"
     ]
    },
    {
     "name": "stderr",
     "output_type": "stream",
     "text": [
      "Epoch 1/1:  28%|██▊       | 207/745 [1:27:10<3:57:20, 26.47s/it]"
     ]
    },
    {
     "name": "stdout",
     "output_type": "stream",
     "text": [
      "Train Loss: 0.176, Train Acc: 0.671\r"
     ]
    },
    {
     "name": "stderr",
     "output_type": "stream",
     "text": [
      "Epoch 1/1:  28%|██▊       | 208/745 [1:27:36<3:57:06, 26.49s/it]"
     ]
    },
    {
     "name": "stdout",
     "output_type": "stream",
     "text": [
      "Train Loss: 0.177, Train Acc: 0.672\r"
     ]
    },
    {
     "name": "stderr",
     "output_type": "stream",
     "text": [
      "Epoch 1/1:  28%|██▊       | 209/745 [1:28:02<3:55:49, 26.40s/it]"
     ]
    },
    {
     "name": "stdout",
     "output_type": "stream",
     "text": [
      "Train Loss: 0.177, Train Acc: 0.672\r"
     ]
    },
    {
     "name": "stderr",
     "output_type": "stream",
     "text": [
      "Epoch 1/1:  28%|██▊       | 210/745 [1:28:29<3:54:36, 26.31s/it]"
     ]
    },
    {
     "name": "stdout",
     "output_type": "stream",
     "text": [
      "Train Loss: 0.178, Train Acc: 0.672\r"
     ]
    },
    {
     "name": "stderr",
     "output_type": "stream",
     "text": [
      "Epoch 1/1:  28%|██▊       | 211/745 [1:28:55<3:55:42, 26.48s/it]"
     ]
    },
    {
     "name": "stdout",
     "output_type": "stream",
     "text": [
      "Train Loss: 0.179, Train Acc: 0.671\r"
     ]
    },
    {
     "name": "stderr",
     "output_type": "stream",
     "text": [
      "Epoch 1/1:  28%|██▊       | 212/745 [1:29:22<3:54:13, 26.37s/it]"
     ]
    },
    {
     "name": "stdout",
     "output_type": "stream",
     "text": [
      "Train Loss: 0.180, Train Acc: 0.671\r"
     ]
    },
    {
     "name": "stderr",
     "output_type": "stream",
     "text": [
      "Epoch 1/1:  29%|██▊       | 213/745 [1:29:48<3:53:19, 26.32s/it]"
     ]
    },
    {
     "name": "stdout",
     "output_type": "stream",
     "text": [
      "Train Loss: 0.181, Train Acc: 0.671\r"
     ]
    },
    {
     "name": "stderr",
     "output_type": "stream",
     "text": [
      "Epoch 1/1:  29%|██▊       | 214/745 [1:30:14<3:52:57, 26.32s/it]"
     ]
    },
    {
     "name": "stdout",
     "output_type": "stream",
     "text": [
      "Train Loss: 0.182, Train Acc: 0.671\r"
     ]
    },
    {
     "name": "stderr",
     "output_type": "stream",
     "text": [
      "Epoch 1/1:  29%|██▉       | 215/745 [1:30:41<3:53:58, 26.49s/it]"
     ]
    },
    {
     "name": "stdout",
     "output_type": "stream",
     "text": [
      "Train Loss: 0.183, Train Acc: 0.671\r"
     ]
    },
    {
     "name": "stderr",
     "output_type": "stream",
     "text": [
      "Epoch 1/1:  29%|██▉       | 216/745 [1:31:07<3:52:40, 26.39s/it]"
     ]
    },
    {
     "name": "stdout",
     "output_type": "stream",
     "text": [
      "Train Loss: 0.184, Train Acc: 0.670\r"
     ]
    },
    {
     "name": "stderr",
     "output_type": "stream",
     "text": [
      "Epoch 1/1:  29%|██▉       | 217/745 [1:31:33<3:51:46, 26.34s/it]"
     ]
    },
    {
     "name": "stdout",
     "output_type": "stream",
     "text": [
      "Train Loss: 0.185, Train Acc: 0.669\r"
     ]
    },
    {
     "name": "stderr",
     "output_type": "stream",
     "text": [
      "Epoch 1/1:  29%|██▉       | 218/745 [1:31:59<3:50:42, 26.27s/it]"
     ]
    },
    {
     "name": "stdout",
     "output_type": "stream",
     "text": [
      "Train Loss: 0.186, Train Acc: 0.666\r"
     ]
    },
    {
     "name": "stderr",
     "output_type": "stream",
     "text": [
      "Epoch 1/1:  29%|██▉       | 219/745 [1:32:26<3:52:18, 26.50s/it]"
     ]
    },
    {
     "name": "stdout",
     "output_type": "stream",
     "text": [
      "Train Loss: 0.187, Train Acc: 0.666\r"
     ]
    },
    {
     "name": "stderr",
     "output_type": "stream",
     "text": [
      "Epoch 1/1:  30%|██▉       | 220/745 [1:32:52<3:50:28, 26.34s/it]"
     ]
    },
    {
     "name": "stdout",
     "output_type": "stream",
     "text": [
      "Train Loss: 0.188, Train Acc: 0.667\r"
     ]
    },
    {
     "name": "stderr",
     "output_type": "stream",
     "text": [
      "Epoch 1/1:  30%|██▉       | 221/745 [1:33:18<3:49:02, 26.23s/it]"
     ]
    },
    {
     "name": "stdout",
     "output_type": "stream",
     "text": [
      "Train Loss: 0.189, Train Acc: 0.667\r"
     ]
    },
    {
     "name": "stderr",
     "output_type": "stream",
     "text": [
      "Epoch 1/1:  30%|██▉       | 222/745 [1:33:45<3:48:53, 26.26s/it]"
     ]
    },
    {
     "name": "stdout",
     "output_type": "stream",
     "text": [
      "Train Loss: 0.189, Train Acc: 0.667\r"
     ]
    },
    {
     "name": "stderr",
     "output_type": "stream",
     "text": [
      "Epoch 1/1:  30%|██▉       | 223/745 [1:34:12<3:50:38, 26.51s/it]"
     ]
    },
    {
     "name": "stdout",
     "output_type": "stream",
     "text": [
      "Train Loss: 0.190, Train Acc: 0.667\r"
     ]
    },
    {
     "name": "stderr",
     "output_type": "stream",
     "text": [
      "Epoch 1/1:  30%|███       | 224/745 [1:34:38<3:49:24, 26.42s/it]"
     ]
    },
    {
     "name": "stdout",
     "output_type": "stream",
     "text": [
      "Train Loss: 0.191, Train Acc: 0.668\r"
     ]
    },
    {
     "name": "stderr",
     "output_type": "stream",
     "text": [
      "Epoch 1/1:  30%|███       | 225/745 [1:35:04<3:48:25, 26.36s/it]"
     ]
    },
    {
     "name": "stdout",
     "output_type": "stream",
     "text": [
      "Train Loss: 0.191, Train Acc: 0.669\r"
     ]
    },
    {
     "name": "stderr",
     "output_type": "stream",
     "text": [
      "Epoch 1/1:  30%|███       | 226/745 [1:35:31<3:49:39, 26.55s/it]"
     ]
    },
    {
     "name": "stdout",
     "output_type": "stream",
     "text": [
      "Train Loss: 0.192, Train Acc: 0.669\r"
     ]
    },
    {
     "name": "stderr",
     "output_type": "stream",
     "text": [
      "Epoch 1/1:  30%|███       | 227/745 [1:35:57<3:48:15, 26.44s/it]"
     ]
    },
    {
     "name": "stdout",
     "output_type": "stream",
     "text": [
      "Train Loss: 0.193, Train Acc: 0.669\r"
     ]
    },
    {
     "name": "stderr",
     "output_type": "stream",
     "text": [
      "Epoch 1/1:  31%|███       | 228/745 [1:36:24<3:47:36, 26.42s/it]"
     ]
    },
    {
     "name": "stdout",
     "output_type": "stream",
     "text": [
      "Train Loss: 0.195, Train Acc: 0.668\r"
     ]
    },
    {
     "name": "stderr",
     "output_type": "stream",
     "text": [
      "Epoch 1/1:  31%|███       | 229/745 [1:36:50<3:46:57, 26.39s/it]"
     ]
    },
    {
     "name": "stdout",
     "output_type": "stream",
     "text": [
      "Train Loss: 0.195, Train Acc: 0.668\r"
     ]
    },
    {
     "name": "stderr",
     "output_type": "stream",
     "text": [
      "Epoch 1/1:  31%|███       | 230/745 [1:37:18<3:49:06, 26.69s/it]"
     ]
    },
    {
     "name": "stdout",
     "output_type": "stream",
     "text": [
      "Train Loss: 0.196, Train Acc: 0.669\r"
     ]
    },
    {
     "name": "stderr",
     "output_type": "stream",
     "text": [
      "Epoch 1/1:  31%|███       | 231/745 [1:37:44<3:47:48, 26.59s/it]"
     ]
    },
    {
     "name": "stdout",
     "output_type": "stream",
     "text": [
      "Train Loss: 0.197, Train Acc: 0.669\r"
     ]
    },
    {
     "name": "stderr",
     "output_type": "stream",
     "text": [
      "Epoch 1/1:  31%|███       | 232/745 [1:38:10<3:46:32, 26.50s/it]"
     ]
    },
    {
     "name": "stdout",
     "output_type": "stream",
     "text": [
      "Train Loss: 0.198, Train Acc: 0.669\r"
     ]
    },
    {
     "name": "stderr",
     "output_type": "stream",
     "text": [
      "Epoch 1/1:  31%|███▏      | 233/745 [1:38:37<3:46:07, 26.50s/it]"
     ]
    },
    {
     "name": "stdout",
     "output_type": "stream",
     "text": [
      "Train Loss: 0.199, Train Acc: 0.669\r"
     ]
    },
    {
     "name": "stderr",
     "output_type": "stream",
     "text": [
      "Epoch 1/1:  31%|███▏      | 234/745 [1:39:04<3:47:21, 26.69s/it]"
     ]
    },
    {
     "name": "stdout",
     "output_type": "stream",
     "text": [
      "Train Loss: 0.200, Train Acc: 0.669\r"
     ]
    },
    {
     "name": "stderr",
     "output_type": "stream",
     "text": [
      "Epoch 1/1:  32%|███▏      | 235/745 [1:39:30<3:46:16, 26.62s/it]"
     ]
    },
    {
     "name": "stdout",
     "output_type": "stream",
     "text": [
      "Train Loss: 0.201, Train Acc: 0.668\r"
     ]
    },
    {
     "name": "stderr",
     "output_type": "stream",
     "text": [
      "Epoch 1/1:  32%|███▏      | 236/745 [1:39:57<3:45:18, 26.56s/it]"
     ]
    },
    {
     "name": "stdout",
     "output_type": "stream",
     "text": [
      "Train Loss: 0.202, Train Acc: 0.667\r"
     ]
    },
    {
     "name": "stderr",
     "output_type": "stream",
     "text": [
      "Epoch 1/1:  32%|███▏      | 237/745 [1:40:24<3:47:12, 26.84s/it]"
     ]
    },
    {
     "name": "stdout",
     "output_type": "stream",
     "text": [
      "Train Loss: 0.203, Train Acc: 0.666\r"
     ]
    },
    {
     "name": "stderr",
     "output_type": "stream",
     "text": [
      "Epoch 1/1:  32%|███▏      | 238/745 [1:40:51<3:46:14, 26.77s/it]"
     ]
    },
    {
     "name": "stdout",
     "output_type": "stream",
     "text": [
      "Train Loss: 0.203, Train Acc: 0.665\r"
     ]
    },
    {
     "name": "stderr",
     "output_type": "stream",
     "text": [
      "Epoch 1/1:  32%|███▏      | 239/745 [1:41:18<3:45:41, 26.76s/it]"
     ]
    },
    {
     "name": "stdout",
     "output_type": "stream",
     "text": [
      "Train Loss: 0.204, Train Acc: 0.664\r"
     ]
    },
    {
     "name": "stderr",
     "output_type": "stream",
     "text": [
      "Epoch 1/1:  32%|███▏      | 240/745 [1:41:44<3:44:34, 26.68s/it]"
     ]
    },
    {
     "name": "stdout",
     "output_type": "stream",
     "text": [
      "Train Loss: 0.206, Train Acc: 0.662\r"
     ]
    },
    {
     "name": "stderr",
     "output_type": "stream",
     "text": [
      "Epoch 1/1:  32%|███▏      | 241/745 [1:42:11<3:45:52, 26.89s/it]"
     ]
    },
    {
     "name": "stdout",
     "output_type": "stream",
     "text": [
      "Train Loss: 0.207, Train Acc: 0.661\r"
     ]
    },
    {
     "name": "stderr",
     "output_type": "stream",
     "text": [
      "Epoch 1/1:  32%|███▏      | 242/745 [1:42:38<3:45:20, 26.88s/it]"
     ]
    },
    {
     "name": "stdout",
     "output_type": "stream",
     "text": [
      "Train Loss: 0.207, Train Acc: 0.661\r"
     ]
    },
    {
     "name": "stderr",
     "output_type": "stream",
     "text": [
      "Epoch 1/1:  33%|███▎      | 243/745 [1:43:06<3:45:52, 27.00s/it]"
     ]
    },
    {
     "name": "stdout",
     "output_type": "stream",
     "text": [
      "Train Loss: 0.208, Train Acc: 0.662\r"
     ]
    },
    {
     "name": "stderr",
     "output_type": "stream",
     "text": [
      "Epoch 1/1:  33%|███▎      | 244/745 [1:43:33<3:46:54, 27.17s/it]"
     ]
    },
    {
     "name": "stdout",
     "output_type": "stream",
     "text": [
      "Train Loss: 0.209, Train Acc: 0.662\r"
     ]
    },
    {
     "name": "stderr",
     "output_type": "stream",
     "text": [
      "Epoch 1/1:  33%|███▎      | 245/745 [1:44:00<3:44:37, 26.95s/it]"
     ]
    },
    {
     "name": "stdout",
     "output_type": "stream",
     "text": [
      "Train Loss: 0.210, Train Acc: 0.662\r"
     ]
    },
    {
     "name": "stderr",
     "output_type": "stream",
     "text": [
      "Epoch 1/1:  33%|███▎      | 246/745 [1:44:26<3:43:23, 26.86s/it]"
     ]
    },
    {
     "name": "stdout",
     "output_type": "stream",
     "text": [
      "Train Loss: 0.211, Train Acc: 0.662\r"
     ]
    },
    {
     "name": "stderr",
     "output_type": "stream",
     "text": [
      "Epoch 1/1:  33%|███▎      | 247/745 [1:44:54<3:44:48, 27.09s/it]"
     ]
    },
    {
     "name": "stdout",
     "output_type": "stream",
     "text": [
      "Train Loss: 0.212, Train Acc: 0.662\r"
     ]
    },
    {
     "name": "stderr",
     "output_type": "stream",
     "text": [
      "Epoch 1/1:  33%|███▎      | 248/745 [1:45:20<3:43:17, 26.96s/it]"
     ]
    },
    {
     "name": "stdout",
     "output_type": "stream",
     "text": [
      "Train Loss: 0.213, Train Acc: 0.662\r"
     ]
    },
    {
     "name": "stderr",
     "output_type": "stream",
     "text": [
      "Epoch 1/1:  33%|███▎      | 249/745 [1:45:47<3:42:38, 26.93s/it]"
     ]
    },
    {
     "name": "stdout",
     "output_type": "stream",
     "text": [
      "Train Loss: 0.214, Train Acc: 0.662\r"
     ]
    },
    {
     "name": "stderr",
     "output_type": "stream",
     "text": [
      "Epoch 1/1:  34%|███▎      | 250/745 [1:46:14<3:42:36, 26.98s/it]"
     ]
    },
    {
     "name": "stdout",
     "output_type": "stream",
     "text": [
      "Train Loss: 0.215, Train Acc: 0.661\r"
     ]
    },
    {
     "name": "stderr",
     "output_type": "stream",
     "text": [
      "Epoch 1/1:  34%|███▎      | 251/745 [1:46:41<3:41:56, 26.96s/it]"
     ]
    },
    {
     "name": "stdout",
     "output_type": "stream",
     "text": [
      "Train Loss: 0.216, Train Acc: 0.662\r"
     ]
    },
    {
     "name": "stderr",
     "output_type": "stream",
     "text": [
      "Epoch 1/1:  34%|███▍      | 252/745 [1:47:08<3:40:51, 26.88s/it]"
     ]
    },
    {
     "name": "stdout",
     "output_type": "stream",
     "text": [
      "Train Loss: 0.217, Train Acc: 0.661\r"
     ]
    },
    {
     "name": "stderr",
     "output_type": "stream",
     "text": [
      "Epoch 1/1:  34%|███▍      | 253/745 [1:47:35<3:39:26, 26.76s/it]"
     ]
    },
    {
     "name": "stdout",
     "output_type": "stream",
     "text": [
      "Train Loss: 0.218, Train Acc: 0.660\r"
     ]
    },
    {
     "name": "stderr",
     "output_type": "stream",
     "text": [
      "Epoch 1/1:  34%|███▍      | 254/745 [1:48:02<3:41:22, 27.05s/it]"
     ]
    },
    {
     "name": "stdout",
     "output_type": "stream",
     "text": [
      "Train Loss: 0.219, Train Acc: 0.660\r"
     ]
    },
    {
     "name": "stderr",
     "output_type": "stream",
     "text": [
      "Epoch 1/1:  34%|███▍      | 255/745 [1:48:29<3:40:13, 26.97s/it]"
     ]
    },
    {
     "name": "stdout",
     "output_type": "stream",
     "text": [
      "Train Loss: 0.220, Train Acc: 0.660\r"
     ]
    },
    {
     "name": "stderr",
     "output_type": "stream",
     "text": [
      "Epoch 1/1:  34%|███▍      | 256/745 [1:48:56<3:39:13, 26.90s/it]"
     ]
    },
    {
     "name": "stdout",
     "output_type": "stream",
     "text": [
      "Train Loss: 0.221, Train Acc: 0.659\r"
     ]
    },
    {
     "name": "stderr",
     "output_type": "stream",
     "text": [
      "Epoch 1/1:  34%|███▍      | 257/745 [1:49:23<3:40:20, 27.09s/it]"
     ]
    },
    {
     "name": "stdout",
     "output_type": "stream",
     "text": [
      "Train Loss: 0.221, Train Acc: 0.660\r"
     ]
    },
    {
     "name": "stderr",
     "output_type": "stream",
     "text": [
      "Epoch 1/1:  35%|███▍      | 258/745 [1:49:50<3:39:39, 27.06s/it]"
     ]
    },
    {
     "name": "stdout",
     "output_type": "stream",
     "text": [
      "Train Loss: 0.222, Train Acc: 0.660\r"
     ]
    },
    {
     "name": "stderr",
     "output_type": "stream",
     "text": [
      "Epoch 1/1:  35%|███▍      | 259/745 [1:50:17<3:38:08, 26.93s/it]"
     ]
    },
    {
     "name": "stdout",
     "output_type": "stream",
     "text": [
      "Train Loss: 0.223, Train Acc: 0.660\r"
     ]
    },
    {
     "name": "stderr",
     "output_type": "stream",
     "text": [
      "Epoch 1/1:  35%|███▍      | 260/745 [1:50:45<3:39:58, 27.21s/it]"
     ]
    },
    {
     "name": "stdout",
     "output_type": "stream",
     "text": [
      "Train Loss: 0.224, Train Acc: 0.661\r"
     ]
    },
    {
     "name": "stderr",
     "output_type": "stream",
     "text": [
      "Epoch 1/1:  35%|███▌      | 261/745 [1:51:12<3:38:58, 27.15s/it]"
     ]
    },
    {
     "name": "stdout",
     "output_type": "stream",
     "text": [
      "Train Loss: 0.225, Train Acc: 0.661\r"
     ]
    },
    {
     "name": "stderr",
     "output_type": "stream",
     "text": [
      "Epoch 1/1:  35%|███▌      | 262/745 [1:51:38<3:37:11, 26.98s/it]"
     ]
    },
    {
     "name": "stdout",
     "output_type": "stream",
     "text": [
      "Train Loss: 0.225, Train Acc: 0.661\r"
     ]
    },
    {
     "name": "stderr",
     "output_type": "stream",
     "text": [
      "Epoch 1/1:  35%|███▌      | 263/745 [1:52:06<3:38:07, 27.15s/it]"
     ]
    },
    {
     "name": "stdout",
     "output_type": "stream",
     "text": [
      "Train Loss: 0.226, Train Acc: 0.661\r"
     ]
    },
    {
     "name": "stderr",
     "output_type": "stream",
     "text": [
      "Epoch 1/1:  35%|███▌      | 264/745 [1:52:33<3:37:01, 27.07s/it]"
     ]
    },
    {
     "name": "stdout",
     "output_type": "stream",
     "text": [
      "Train Loss: 0.227, Train Acc: 0.662\r"
     ]
    },
    {
     "name": "stderr",
     "output_type": "stream",
     "text": [
      "Epoch 1/1:  36%|███▌      | 265/745 [1:53:00<3:35:48, 26.98s/it]"
     ]
    },
    {
     "name": "stdout",
     "output_type": "stream",
     "text": [
      "Train Loss: 0.227, Train Acc: 0.663\r"
     ]
    },
    {
     "name": "stderr",
     "output_type": "stream",
     "text": [
      "Epoch 1/1:  36%|███▌      | 266/745 [1:53:27<3:37:24, 27.23s/it]"
     ]
    },
    {
     "name": "stdout",
     "output_type": "stream",
     "text": [
      "Train Loss: 0.229, Train Acc: 0.662\r"
     ]
    },
    {
     "name": "stderr",
     "output_type": "stream",
     "text": [
      "Epoch 1/1:  36%|███▌      | 267/745 [1:53:54<3:35:42, 27.08s/it]"
     ]
    },
    {
     "name": "stdout",
     "output_type": "stream",
     "text": [
      "Train Loss: 0.229, Train Acc: 0.662\r"
     ]
    },
    {
     "name": "stderr",
     "output_type": "stream",
     "text": [
      "Epoch 1/1:  36%|███▌      | 268/745 [1:54:21<3:34:28, 26.98s/it]"
     ]
    },
    {
     "name": "stdout",
     "output_type": "stream",
     "text": [
      "Train Loss: 0.230, Train Acc: 0.663\r"
     ]
    },
    {
     "name": "stderr",
     "output_type": "stream",
     "text": [
      "Epoch 1/1:  36%|███▌      | 269/745 [1:54:48<3:35:04, 27.11s/it]"
     ]
    },
    {
     "name": "stdout",
     "output_type": "stream",
     "text": [
      "Train Loss: 0.231, Train Acc: 0.663\r"
     ]
    },
    {
     "name": "stderr",
     "output_type": "stream",
     "text": [
      "Epoch 1/1:  36%|███▌      | 270/745 [1:55:15<3:33:33, 26.98s/it]"
     ]
    },
    {
     "name": "stdout",
     "output_type": "stream",
     "text": [
      "Train Loss: 0.232, Train Acc: 0.663\r"
     ]
    },
    {
     "name": "stderr",
     "output_type": "stream",
     "text": [
      "Epoch 1/1:  36%|███▋      | 271/745 [1:55:42<3:32:34, 26.91s/it]"
     ]
    },
    {
     "name": "stdout",
     "output_type": "stream",
     "text": [
      "Train Loss: 0.233, Train Acc: 0.662\r"
     ]
    },
    {
     "name": "stderr",
     "output_type": "stream",
     "text": [
      "Epoch 1/1:  37%|███▋      | 272/745 [1:56:09<3:34:08, 27.16s/it]"
     ]
    },
    {
     "name": "stdout",
     "output_type": "stream",
     "text": [
      "Train Loss: 0.234, Train Acc: 0.662\r"
     ]
    },
    {
     "name": "stderr",
     "output_type": "stream",
     "text": [
      "Epoch 1/1:  37%|███▋      | 273/745 [1:56:37<3:33:33, 27.15s/it]"
     ]
    },
    {
     "name": "stdout",
     "output_type": "stream",
     "text": [
      "Train Loss: 0.235, Train Acc: 0.662\r"
     ]
    },
    {
     "name": "stderr",
     "output_type": "stream",
     "text": [
      "Epoch 1/1:  37%|███▋      | 274/745 [1:57:03<3:32:30, 27.07s/it]"
     ]
    },
    {
     "name": "stdout",
     "output_type": "stream",
     "text": [
      "Train Loss: 0.236, Train Acc: 0.661\r"
     ]
    },
    {
     "name": "stderr",
     "output_type": "stream",
     "text": [
      "Epoch 1/1:  37%|███▋      | 275/745 [1:57:31<3:34:12, 27.34s/it]"
     ]
    },
    {
     "name": "stdout",
     "output_type": "stream",
     "text": [
      "Train Loss: 0.237, Train Acc: 0.662\r"
     ]
    },
    {
     "name": "stderr",
     "output_type": "stream",
     "text": [
      "Epoch 1/1:  37%|███▋      | 276/745 [1:57:58<3:32:28, 27.18s/it]"
     ]
    },
    {
     "name": "stdout",
     "output_type": "stream",
     "text": [
      "Train Loss: 0.238, Train Acc: 0.661\r"
     ]
    },
    {
     "name": "stderr",
     "output_type": "stream",
     "text": [
      "Epoch 1/1:  37%|███▋      | 277/745 [1:58:26<3:32:10, 27.20s/it]"
     ]
    },
    {
     "name": "stdout",
     "output_type": "stream",
     "text": [
      "Train Loss: 0.238, Train Acc: 0.661\r"
     ]
    },
    {
     "name": "stderr",
     "output_type": "stream",
     "text": [
      "Epoch 1/1:  37%|███▋      | 278/745 [1:58:54<3:34:25, 27.55s/it]"
     ]
    },
    {
     "name": "stdout",
     "output_type": "stream",
     "text": [
      "Train Loss: 0.239, Train Acc: 0.661\r"
     ]
    },
    {
     "name": "stderr",
     "output_type": "stream",
     "text": [
      "Epoch 1/1:  37%|███▋      | 279/745 [1:59:21<3:32:22, 27.35s/it]"
     ]
    },
    {
     "name": "stdout",
     "output_type": "stream",
     "text": [
      "Train Loss: 0.240, Train Acc: 0.661\r"
     ]
    },
    {
     "name": "stderr",
     "output_type": "stream",
     "text": [
      "Epoch 1/1:  38%|███▊      | 280/745 [1:59:49<3:33:18, 27.52s/it]"
     ]
    },
    {
     "name": "stdout",
     "output_type": "stream",
     "text": [
      "Train Loss: 0.241, Train Acc: 0.662\r"
     ]
    },
    {
     "name": "stderr",
     "output_type": "stream",
     "text": [
      "Epoch 1/1:  38%|███▊      | 281/745 [2:00:16<3:31:37, 27.37s/it]"
     ]
    },
    {
     "name": "stdout",
     "output_type": "stream",
     "text": [
      "Train Loss: 0.242, Train Acc: 0.661\r"
     ]
    },
    {
     "name": "stderr",
     "output_type": "stream",
     "text": [
      "Epoch 1/1:  38%|███▊      | 282/745 [2:00:43<3:30:44, 27.31s/it]"
     ]
    },
    {
     "name": "stdout",
     "output_type": "stream",
     "text": [
      "Train Loss: 0.243, Train Acc: 0.662\r"
     ]
    },
    {
     "name": "stderr",
     "output_type": "stream",
     "text": [
      "Epoch 1/1:  38%|███▊      | 283/745 [2:01:11<3:31:34, 27.48s/it]"
     ]
    },
    {
     "name": "stdout",
     "output_type": "stream",
     "text": [
      "Train Loss: 0.244, Train Acc: 0.662\r"
     ]
    },
    {
     "name": "stderr",
     "output_type": "stream",
     "text": [
      "Epoch 1/1:  38%|███▊      | 284/745 [2:01:37<3:29:24, 27.25s/it]"
     ]
    },
    {
     "name": "stdout",
     "output_type": "stream",
     "text": [
      "Train Loss: 0.245, Train Acc: 0.661\r"
     ]
    },
    {
     "name": "stderr",
     "output_type": "stream",
     "text": [
      "Epoch 1/1:  38%|███▊      | 285/745 [2:02:04<3:28:21, 27.18s/it]"
     ]
    },
    {
     "name": "stdout",
     "output_type": "stream",
     "text": [
      "Train Loss: 0.246, Train Acc: 0.661\r"
     ]
    },
    {
     "name": "stderr",
     "output_type": "stream",
     "text": [
      "Epoch 1/1:  38%|███▊      | 286/745 [2:02:32<3:29:33, 27.39s/it]"
     ]
    },
    {
     "name": "stdout",
     "output_type": "stream",
     "text": [
      "Train Loss: 0.246, Train Acc: 0.661\r"
     ]
    },
    {
     "name": "stderr",
     "output_type": "stream",
     "text": [
      "Epoch 1/1:  39%|███▊      | 287/745 [2:02:59<3:28:04, 27.26s/it]"
     ]
    },
    {
     "name": "stdout",
     "output_type": "stream",
     "text": [
      "Train Loss: 0.247, Train Acc: 0.661\r"
     ]
    },
    {
     "name": "stderr",
     "output_type": "stream",
     "text": [
      "Epoch 1/1:  39%|███▊      | 288/745 [2:03:27<3:29:11, 27.47s/it]"
     ]
    },
    {
     "name": "stdout",
     "output_type": "stream",
     "text": [
      "Train Loss: 0.248, Train Acc: 0.661\r"
     ]
    },
    {
     "name": "stderr",
     "output_type": "stream",
     "text": [
      "Epoch 1/1:  39%|███▉      | 289/745 [2:03:55<3:29:10, 27.52s/it]"
     ]
    },
    {
     "name": "stdout",
     "output_type": "stream",
     "text": [
      "Train Loss: 0.249, Train Acc: 0.660\r"
     ]
    },
    {
     "name": "stderr",
     "output_type": "stream",
     "text": [
      "Epoch 1/1:  39%|███▉      | 290/745 [2:04:22<3:28:08, 27.45s/it]"
     ]
    },
    {
     "name": "stdout",
     "output_type": "stream",
     "text": [
      "Train Loss: 0.250, Train Acc: 0.661\r"
     ]
    },
    {
     "name": "stderr",
     "output_type": "stream",
     "text": [
      "Epoch 1/1:  39%|███▉      | 291/745 [2:04:50<3:28:53, 27.61s/it]"
     ]
    },
    {
     "name": "stdout",
     "output_type": "stream",
     "text": [
      "Train Loss: 0.251, Train Acc: 0.661\r"
     ]
    },
    {
     "name": "stderr",
     "output_type": "stream",
     "text": [
      "Epoch 1/1:  39%|███▉      | 292/745 [2:05:17<3:27:36, 27.50s/it]"
     ]
    },
    {
     "name": "stdout",
     "output_type": "stream",
     "text": [
      "Train Loss: 0.252, Train Acc: 0.661\r"
     ]
    },
    {
     "name": "stderr",
     "output_type": "stream",
     "text": [
      "Epoch 1/1:  39%|███▉      | 293/745 [2:05:44<3:25:46, 27.32s/it]"
     ]
    },
    {
     "name": "stdout",
     "output_type": "stream",
     "text": [
      "Train Loss: 0.253, Train Acc: 0.660\r"
     ]
    },
    {
     "name": "stderr",
     "output_type": "stream",
     "text": [
      "Epoch 1/1:  39%|███▉      | 294/745 [2:06:12<3:27:12, 27.57s/it]"
     ]
    },
    {
     "name": "stdout",
     "output_type": "stream",
     "text": [
      "Train Loss: 0.253, Train Acc: 0.661\r"
     ]
    },
    {
     "name": "stderr",
     "output_type": "stream",
     "text": [
      "Epoch 1/1:  40%|███▉      | 295/745 [2:06:39<3:25:27, 27.39s/it]"
     ]
    },
    {
     "name": "stdout",
     "output_type": "stream",
     "text": [
      "Train Loss: 0.254, Train Acc: 0.661\r"
     ]
    },
    {
     "name": "stderr",
     "output_type": "stream",
     "text": [
      "Epoch 1/1:  40%|███▉      | 296/745 [2:07:08<3:26:51, 27.64s/it]"
     ]
    },
    {
     "name": "stdout",
     "output_type": "stream",
     "text": [
      "Train Loss: 0.255, Train Acc: 0.662\r"
     ]
    },
    {
     "name": "stderr",
     "output_type": "stream",
     "text": [
      "Epoch 1/1:  40%|███▉      | 297/745 [2:07:35<3:25:37, 27.54s/it]"
     ]
    },
    {
     "name": "stdout",
     "output_type": "stream",
     "text": [
      "Train Loss: 0.256, Train Acc: 0.662\r"
     ]
    },
    {
     "name": "stderr",
     "output_type": "stream",
     "text": [
      "Epoch 1/1:  40%|████      | 298/745 [2:08:02<3:24:11, 27.41s/it]"
     ]
    },
    {
     "name": "stdout",
     "output_type": "stream",
     "text": [
      "Train Loss: 0.256, Train Acc: 0.662\r"
     ]
    },
    {
     "name": "stderr",
     "output_type": "stream",
     "text": [
      "Epoch 1/1:  40%|████      | 299/745 [2:08:30<3:25:58, 27.71s/it]"
     ]
    },
    {
     "name": "stdout",
     "output_type": "stream",
     "text": [
      "Train Loss: 0.257, Train Acc: 0.663\r"
     ]
    },
    {
     "name": "stderr",
     "output_type": "stream",
     "text": [
      "Epoch 1/1:  40%|████      | 300/745 [2:08:58<3:24:22, 27.56s/it]"
     ]
    },
    {
     "name": "stdout",
     "output_type": "stream",
     "text": [
      "Train Loss: 0.258, Train Acc: 0.662\r"
     ]
    },
    {
     "name": "stderr",
     "output_type": "stream",
     "text": [
      "Epoch 1/1:  40%|████      | 301/745 [2:09:26<3:24:37, 27.65s/it]"
     ]
    },
    {
     "name": "stdout",
     "output_type": "stream",
     "text": [
      "Train Loss: 0.259, Train Acc: 0.662\r"
     ]
    },
    {
     "name": "stderr",
     "output_type": "stream",
     "text": [
      "Epoch 1/1:  41%|████      | 302/745 [2:09:53<3:23:42, 27.59s/it]"
     ]
    },
    {
     "name": "stdout",
     "output_type": "stream",
     "text": [
      "Train Loss: 0.261, Train Acc: 0.661\r"
     ]
    },
    {
     "name": "stderr",
     "output_type": "stream",
     "text": [
      "Epoch 1/1:  41%|████      | 303/745 [2:10:20<3:22:18, 27.46s/it]"
     ]
    },
    {
     "name": "stdout",
     "output_type": "stream",
     "text": [
      "Train Loss: 0.262, Train Acc: 0.661\r"
     ]
    },
    {
     "name": "stderr",
     "output_type": "stream",
     "text": [
      "Epoch 1/1:  41%|████      | 304/745 [2:10:48<3:23:30, 27.69s/it]"
     ]
    },
    {
     "name": "stdout",
     "output_type": "stream",
     "text": [
      "Train Loss: 0.263, Train Acc: 0.661\r"
     ]
    },
    {
     "name": "stderr",
     "output_type": "stream",
     "text": [
      "Epoch 1/1:  41%|████      | 305/745 [2:11:16<3:22:23, 27.60s/it]"
     ]
    },
    {
     "name": "stdout",
     "output_type": "stream",
     "text": [
      "Train Loss: 0.264, Train Acc: 0.661\r"
     ]
    },
    {
     "name": "stderr",
     "output_type": "stream",
     "text": [
      "Epoch 1/1:  41%|████      | 306/745 [2:11:44<3:23:41, 27.84s/it]"
     ]
    },
    {
     "name": "stdout",
     "output_type": "stream",
     "text": [
      "Train Loss: 0.265, Train Acc: 0.659\r"
     ]
    },
    {
     "name": "stderr",
     "output_type": "stream",
     "text": [
      "Epoch 1/1:  41%|████      | 307/745 [2:12:12<3:22:12, 27.70s/it]"
     ]
    },
    {
     "name": "stdout",
     "output_type": "stream",
     "text": [
      "Train Loss: 0.266, Train Acc: 0.658\r"
     ]
    },
    {
     "name": "stderr",
     "output_type": "stream",
     "text": [
      "Epoch 1/1:  41%|████▏     | 308/745 [2:12:39<3:20:51, 27.58s/it]"
     ]
    },
    {
     "name": "stdout",
     "output_type": "stream",
     "text": [
      "Train Loss: 0.266, Train Acc: 0.658\r"
     ]
    },
    {
     "name": "stderr",
     "output_type": "stream",
     "text": [
      "Epoch 1/1:  41%|████▏     | 309/745 [2:13:07<3:22:21, 27.85s/it]"
     ]
    },
    {
     "name": "stdout",
     "output_type": "stream",
     "text": [
      "Train Loss: 0.267, Train Acc: 0.657\r"
     ]
    },
    {
     "name": "stderr",
     "output_type": "stream",
     "text": [
      "Epoch 1/1:  42%|████▏     | 310/745 [2:13:35<3:22:04, 27.87s/it]"
     ]
    },
    {
     "name": "stdout",
     "output_type": "stream",
     "text": [
      "Train Loss: 0.268, Train Acc: 0.657\r"
     ]
    },
    {
     "name": "stderr",
     "output_type": "stream",
     "text": [
      "Epoch 1/1:  42%|████▏     | 311/745 [2:14:04<3:22:57, 28.06s/it]"
     ]
    },
    {
     "name": "stdout",
     "output_type": "stream",
     "text": [
      "Train Loss: 0.269, Train Acc: 0.657\r"
     ]
    },
    {
     "name": "stderr",
     "output_type": "stream",
     "text": [
      "Epoch 1/1:  42%|████▏     | 312/745 [2:14:31<3:21:26, 27.91s/it]"
     ]
    },
    {
     "name": "stdout",
     "output_type": "stream",
     "text": [
      "Train Loss: 0.270, Train Acc: 0.657\r"
     ]
    },
    {
     "name": "stderr",
     "output_type": "stream",
     "text": [
      "Epoch 1/1:  42%|████▏     | 313/745 [2:14:59<3:21:13, 27.95s/it]"
     ]
    },
    {
     "name": "stdout",
     "output_type": "stream",
     "text": [
      "Train Loss: 0.271, Train Acc: 0.658\r"
     ]
    },
    {
     "name": "stderr",
     "output_type": "stream",
     "text": [
      "Epoch 1/1:  42%|████▏     | 314/745 [2:15:27<3:19:50, 27.82s/it]"
     ]
    },
    {
     "name": "stdout",
     "output_type": "stream",
     "text": [
      "Train Loss: 0.271, Train Acc: 0.658\r"
     ]
    },
    {
     "name": "stderr",
     "output_type": "stream",
     "text": [
      "Epoch 1/1:  42%|████▏     | 315/745 [2:15:54<3:18:37, 27.72s/it]"
     ]
    },
    {
     "name": "stdout",
     "output_type": "stream",
     "text": [
      "Train Loss: 0.272, Train Acc: 0.658\r"
     ]
    },
    {
     "name": "stderr",
     "output_type": "stream",
     "text": [
      "Epoch 1/1:  42%|████▏     | 316/745 [2:16:23<3:19:15, 27.87s/it]"
     ]
    },
    {
     "name": "stdout",
     "output_type": "stream",
     "text": [
      "Train Loss: 0.274, Train Acc: 0.658\r"
     ]
    },
    {
     "name": "stderr",
     "output_type": "stream",
     "text": [
      "Epoch 1/1:  43%|████▎     | 317/745 [2:16:50<3:17:28, 27.68s/it]"
     ]
    },
    {
     "name": "stdout",
     "output_type": "stream",
     "text": [
      "Train Loss: 0.274, Train Acc: 0.658\r"
     ]
    },
    {
     "name": "stderr",
     "output_type": "stream",
     "text": [
      "Epoch 1/1:  43%|████▎     | 318/745 [2:17:18<3:18:04, 27.83s/it]"
     ]
    },
    {
     "name": "stdout",
     "output_type": "stream",
     "text": [
      "Train Loss: 0.276, Train Acc: 0.657\r"
     ]
    },
    {
     "name": "stderr",
     "output_type": "stream",
     "text": [
      "Epoch 1/1:  43%|████▎     | 319/745 [2:17:46<3:17:13, 27.78s/it]"
     ]
    },
    {
     "name": "stdout",
     "output_type": "stream",
     "text": [
      "Train Loss: 0.277, Train Acc: 0.657\r"
     ]
    },
    {
     "name": "stderr",
     "output_type": "stream",
     "text": [
      "Epoch 1/1:  43%|████▎     | 320/745 [2:18:14<3:17:55, 27.94s/it]"
     ]
    },
    {
     "name": "stdout",
     "output_type": "stream",
     "text": [
      "Train Loss: 0.278, Train Acc: 0.657\r"
     ]
    },
    {
     "name": "stderr",
     "output_type": "stream",
     "text": [
      "Epoch 1/1:  43%|████▎     | 321/745 [2:18:42<3:17:26, 27.94s/it]"
     ]
    },
    {
     "name": "stdout",
     "output_type": "stream",
     "text": [
      "Train Loss: 0.278, Train Acc: 0.657\r"
     ]
    },
    {
     "name": "stderr",
     "output_type": "stream",
     "text": [
      "Epoch 1/1:  43%|████▎     | 322/745 [2:19:10<3:17:40, 28.04s/it]"
     ]
    },
    {
     "name": "stdout",
     "output_type": "stream",
     "text": [
      "Train Loss: 0.279, Train Acc: 0.657\r"
     ]
    },
    {
     "name": "stderr",
     "output_type": "stream",
     "text": [
      "Epoch 1/1:  43%|████▎     | 323/745 [2:19:38<3:16:15, 27.90s/it]"
     ]
    },
    {
     "name": "stdout",
     "output_type": "stream",
     "text": [
      "Train Loss: 0.280, Train Acc: 0.657\r"
     ]
    },
    {
     "name": "stderr",
     "output_type": "stream",
     "text": [
      "Epoch 1/1:  43%|████▎     | 324/745 [2:20:06<3:17:11, 28.10s/it]"
     ]
    },
    {
     "name": "stdout",
     "output_type": "stream",
     "text": [
      "Train Loss: 0.281, Train Acc: 0.656\r"
     ]
    },
    {
     "name": "stderr",
     "output_type": "stream",
     "text": [
      "Epoch 1/1:  44%|████▎     | 325/745 [2:20:34<3:15:51, 27.98s/it]"
     ]
    },
    {
     "name": "stdout",
     "output_type": "stream",
     "text": [
      "Train Loss: 0.282, Train Acc: 0.656\r"
     ]
    },
    {
     "name": "stderr",
     "output_type": "stream",
     "text": [
      "Epoch 1/1:  44%|████▍     | 326/745 [2:21:02<3:14:35, 27.86s/it]"
     ]
    },
    {
     "name": "stdout",
     "output_type": "stream",
     "text": [
      "Train Loss: 0.283, Train Acc: 0.656\r"
     ]
    },
    {
     "name": "stderr",
     "output_type": "stream",
     "text": [
      "Epoch 1/1:  44%|████▍     | 327/745 [2:21:30<3:16:13, 28.17s/it]"
     ]
    },
    {
     "name": "stdout",
     "output_type": "stream",
     "text": [
      "Train Loss: 0.284, Train Acc: 0.655\r"
     ]
    },
    {
     "name": "stderr",
     "output_type": "stream",
     "text": [
      "Epoch 1/1:  44%|████▍     | 328/745 [2:21:58<3:14:41, 28.01s/it]"
     ]
    },
    {
     "name": "stdout",
     "output_type": "stream",
     "text": [
      "Train Loss: 0.285, Train Acc: 0.655\r"
     ]
    },
    {
     "name": "stderr",
     "output_type": "stream",
     "text": [
      "Epoch 1/1:  44%|████▍     | 329/745 [2:22:27<3:15:59, 28.27s/it]"
     ]
    },
    {
     "name": "stdout",
     "output_type": "stream",
     "text": [
      "Train Loss: 0.286, Train Acc: 0.656\r"
     ]
    },
    {
     "name": "stderr",
     "output_type": "stream",
     "text": [
      "Epoch 1/1:  44%|████▍     | 330/745 [2:22:55<3:14:51, 28.17s/it]"
     ]
    },
    {
     "name": "stdout",
     "output_type": "stream",
     "text": [
      "Train Loss: 0.286, Train Acc: 0.656\r"
     ]
    },
    {
     "name": "stderr",
     "output_type": "stream",
     "text": [
      "Epoch 1/1:  44%|████▍     | 331/745 [2:23:24<3:16:25, 28.47s/it]"
     ]
    },
    {
     "name": "stdout",
     "output_type": "stream",
     "text": [
      "Train Loss: 0.287, Train Acc: 0.656\r"
     ]
    },
    {
     "name": "stderr",
     "output_type": "stream",
     "text": [
      "Epoch 1/1:  45%|████▍     | 332/745 [2:23:52<3:13:47, 28.15s/it]"
     ]
    },
    {
     "name": "stdout",
     "output_type": "stream",
     "text": [
      "Train Loss: 0.288, Train Acc: 0.657\r"
     ]
    },
    {
     "name": "stderr",
     "output_type": "stream",
     "text": [
      "Epoch 1/1:  45%|████▍     | 333/745 [2:24:20<3:14:55, 28.39s/it]"
     ]
    },
    {
     "name": "stdout",
     "output_type": "stream",
     "text": [
      "Train Loss: 0.289, Train Acc: 0.655\r"
     ]
    },
    {
     "name": "stderr",
     "output_type": "stream",
     "text": [
      "Epoch 1/1:  45%|████▍     | 334/745 [2:24:48<3:12:34, 28.11s/it]"
     ]
    },
    {
     "name": "stdout",
     "output_type": "stream",
     "text": [
      "Train Loss: 0.290, Train Acc: 0.655\r"
     ]
    },
    {
     "name": "stderr",
     "output_type": "stream",
     "text": [
      "Epoch 1/1:  45%|████▍     | 335/745 [2:25:16<3:12:00, 28.10s/it]"
     ]
    },
    {
     "name": "stdout",
     "output_type": "stream",
     "text": [
      "Train Loss: 0.291, Train Acc: 0.655\r"
     ]
    },
    {
     "name": "stderr",
     "output_type": "stream",
     "text": [
      "Epoch 1/1:  45%|████▌     | 336/745 [2:25:44<3:10:43, 27.98s/it]"
     ]
    },
    {
     "name": "stdout",
     "output_type": "stream",
     "text": [
      "Train Loss: 0.292, Train Acc: 0.655\r"
     ]
    },
    {
     "name": "stderr",
     "output_type": "stream",
     "text": [
      "Epoch 1/1:  45%|████▌     | 337/745 [2:26:11<3:09:41, 27.90s/it]"
     ]
    },
    {
     "name": "stdout",
     "output_type": "stream",
     "text": [
      "Train Loss: 0.293, Train Acc: 0.655\r"
     ]
    },
    {
     "name": "stderr",
     "output_type": "stream",
     "text": [
      "Epoch 1/1:  45%|████▌     | 338/745 [2:26:40<3:10:48, 28.13s/it]"
     ]
    },
    {
     "name": "stdout",
     "output_type": "stream",
     "text": [
      "Train Loss: 0.294, Train Acc: 0.655\r"
     ]
    },
    {
     "name": "stderr",
     "output_type": "stream",
     "text": [
      "Epoch 1/1:  46%|████▌     | 339/745 [2:27:08<3:09:48, 28.05s/it]"
     ]
    },
    {
     "name": "stdout",
     "output_type": "stream",
     "text": [
      "Train Loss: 0.295, Train Acc: 0.655\r"
     ]
    },
    {
     "name": "stderr",
     "output_type": "stream",
     "text": [
      "Epoch 1/1:  46%|████▌     | 340/745 [2:27:37<3:11:15, 28.33s/it]"
     ]
    },
    {
     "name": "stdout",
     "output_type": "stream",
     "text": [
      "Train Loss: 0.296, Train Acc: 0.655\r"
     ]
    },
    {
     "name": "stderr",
     "output_type": "stream",
     "text": [
      "Epoch 1/1:  46%|████▌     | 341/745 [2:28:04<3:09:01, 28.07s/it]"
     ]
    },
    {
     "name": "stdout",
     "output_type": "stream",
     "text": [
      "Train Loss: 0.297, Train Acc: 0.655\r"
     ]
    },
    {
     "name": "stderr",
     "output_type": "stream",
     "text": [
      "Epoch 1/1:  46%|████▌     | 342/745 [2:28:38<3:18:49, 29.60s/it]"
     ]
    },
    {
     "name": "stdout",
     "output_type": "stream",
     "text": [
      "Train Loss: 0.297, Train Acc: 0.655\r"
     ]
    },
    {
     "name": "stderr",
     "output_type": "stream",
     "text": [
      "Epoch 1/1:  46%|████▌     | 343/745 [2:29:11<3:26:19, 30.80s/it]"
     ]
    },
    {
     "name": "stdout",
     "output_type": "stream",
     "text": [
      "Train Loss: 0.298, Train Acc: 0.655\r"
     ]
    },
    {
     "name": "stderr",
     "output_type": "stream",
     "text": [
      "Epoch 1/1:  46%|████▌     | 344/745 [2:29:37<3:16:32, 29.41s/it]"
     ]
    },
    {
     "name": "stdout",
     "output_type": "stream",
     "text": [
      "Train Loss: 0.299, Train Acc: 0.655\r"
     ]
    },
    {
     "name": "stderr",
     "output_type": "stream",
     "text": [
      "Epoch 1/1:  46%|████▋     | 345/745 [2:30:02<3:05:59, 27.90s/it]"
     ]
    },
    {
     "name": "stdout",
     "output_type": "stream",
     "text": [
      "Train Loss: 0.300, Train Acc: 0.655\r"
     ]
    },
    {
     "name": "stderr",
     "output_type": "stream",
     "text": [
      "Epoch 1/1:  46%|████▋     | 346/745 [2:30:26<2:59:11, 26.95s/it]"
     ]
    },
    {
     "name": "stdout",
     "output_type": "stream",
     "text": [
      "Train Loss: 0.301, Train Acc: 0.655\r"
     ]
    },
    {
     "name": "stderr",
     "output_type": "stream",
     "text": [
      "Epoch 1/1:  47%|████▋     | 347/745 [2:30:51<2:53:09, 26.11s/it]"
     ]
    },
    {
     "name": "stdout",
     "output_type": "stream",
     "text": [
      "Train Loss: 0.302, Train Acc: 0.655\r"
     ]
    },
    {
     "name": "stderr",
     "output_type": "stream",
     "text": [
      "Epoch 1/1:  47%|████▋     | 348/745 [2:31:15<2:49:53, 25.68s/it]"
     ]
    },
    {
     "name": "stdout",
     "output_type": "stream",
     "text": [
      "Train Loss: 0.302, Train Acc: 0.656\r"
     ]
    },
    {
     "name": "stderr",
     "output_type": "stream",
     "text": [
      "Epoch 1/1:  47%|████▋     | 349/745 [2:31:39<2:46:35, 25.24s/it]"
     ]
    },
    {
     "name": "stdout",
     "output_type": "stream",
     "text": [
      "Train Loss: 0.303, Train Acc: 0.655\r"
     ]
    },
    {
     "name": "stderr",
     "output_type": "stream",
     "text": [
      "Epoch 1/1:  47%|████▋     | 350/745 [2:32:04<2:44:11, 24.94s/it]"
     ]
    },
    {
     "name": "stdout",
     "output_type": "stream",
     "text": [
      "Train Loss: 0.304, Train Acc: 0.656\r"
     ]
    },
    {
     "name": "stderr",
     "output_type": "stream",
     "text": [
      "Epoch 1/1:  47%|████▋     | 351/745 [2:32:28<2:41:52, 24.65s/it]"
     ]
    },
    {
     "name": "stdout",
     "output_type": "stream",
     "text": [
      "Train Loss: 0.305, Train Acc: 0.656\r"
     ]
    },
    {
     "name": "stderr",
     "output_type": "stream",
     "text": [
      "Epoch 1/1:  47%|████▋     | 352/745 [2:32:52<2:40:19, 24.48s/it]"
     ]
    },
    {
     "name": "stdout",
     "output_type": "stream",
     "text": [
      "Train Loss: 0.306, Train Acc: 0.656\r"
     ]
    },
    {
     "name": "stderr",
     "output_type": "stream",
     "text": [
      "Epoch 1/1:  47%|████▋     | 353/745 [2:33:16<2:39:43, 24.45s/it]"
     ]
    },
    {
     "name": "stdout",
     "output_type": "stream",
     "text": [
      "Train Loss: 0.307, Train Acc: 0.656\r"
     ]
    },
    {
     "name": "stderr",
     "output_type": "stream",
     "text": [
      "Epoch 1/1:  48%|████▊     | 354/745 [2:33:40<2:38:43, 24.36s/it]"
     ]
    },
    {
     "name": "stdout",
     "output_type": "stream",
     "text": [
      "Train Loss: 0.308, Train Acc: 0.656\r"
     ]
    },
    {
     "name": "stderr",
     "output_type": "stream",
     "text": [
      "Epoch 1/1:  48%|████▊     | 355/745 [2:34:04<2:37:53, 24.29s/it]"
     ]
    },
    {
     "name": "stdout",
     "output_type": "stream",
     "text": [
      "Train Loss: 0.308, Train Acc: 0.656\r"
     ]
    },
    {
     "name": "stderr",
     "output_type": "stream",
     "text": [
      "Epoch 1/1:  48%|████▊     | 356/745 [2:34:28<2:37:03, 24.22s/it]"
     ]
    },
    {
     "name": "stdout",
     "output_type": "stream",
     "text": [
      "Train Loss: 0.309, Train Acc: 0.656\r"
     ]
    },
    {
     "name": "stderr",
     "output_type": "stream",
     "text": [
      "Epoch 1/1:  48%|████▊     | 357/745 [2:34:53<2:36:56, 24.27s/it]"
     ]
    },
    {
     "name": "stdout",
     "output_type": "stream",
     "text": [
      "Train Loss: 0.310, Train Acc: 0.655\r"
     ]
    },
    {
     "name": "stderr",
     "output_type": "stream",
     "text": [
      "Epoch 1/1:  48%|████▊     | 358/745 [2:35:17<2:36:20, 24.24s/it]"
     ]
    },
    {
     "name": "stdout",
     "output_type": "stream",
     "text": [
      "Train Loss: 0.311, Train Acc: 0.656\r"
     ]
    },
    {
     "name": "stderr",
     "output_type": "stream",
     "text": [
      "Epoch 1/1:  48%|████▊     | 359/745 [2:35:42<2:37:31, 24.48s/it]"
     ]
    },
    {
     "name": "stdout",
     "output_type": "stream",
     "text": [
      "Train Loss: 0.312, Train Acc: 0.655\r"
     ]
    },
    {
     "name": "stderr",
     "output_type": "stream",
     "text": [
      "Epoch 1/1:  48%|████▊     | 360/745 [2:36:06<2:36:42, 24.42s/it]"
     ]
    },
    {
     "name": "stdout",
     "output_type": "stream",
     "text": [
      "Train Loss: 0.313, Train Acc: 0.655\r"
     ]
    },
    {
     "name": "stderr",
     "output_type": "stream",
     "text": [
      "Epoch 1/1:  48%|████▊     | 361/745 [2:36:31<2:35:52, 24.36s/it]"
     ]
    },
    {
     "name": "stdout",
     "output_type": "stream",
     "text": [
      "Train Loss: 0.314, Train Acc: 0.654\r"
     ]
    },
    {
     "name": "stderr",
     "output_type": "stream",
     "text": [
      "Epoch 1/1:  49%|████▊     | 362/745 [2:36:55<2:35:27, 24.35s/it]"
     ]
    },
    {
     "name": "stdout",
     "output_type": "stream",
     "text": [
      "Train Loss: 0.315, Train Acc: 0.654\r"
     ]
    },
    {
     "name": "stderr",
     "output_type": "stream",
     "text": [
      "Epoch 1/1:  49%|████▊     | 363/745 [2:37:19<2:35:12, 24.38s/it]"
     ]
    },
    {
     "name": "stdout",
     "output_type": "stream",
     "text": [
      "Train Loss: 0.316, Train Acc: 0.655\r"
     ]
    },
    {
     "name": "stderr",
     "output_type": "stream",
     "text": [
      "Epoch 1/1:  49%|████▉     | 364/745 [2:37:43<2:34:19, 24.30s/it]"
     ]
    },
    {
     "name": "stdout",
     "output_type": "stream",
     "text": [
      "Train Loss: 0.317, Train Acc: 0.655\r"
     ]
    },
    {
     "name": "stderr",
     "output_type": "stream",
     "text": [
      "Epoch 1/1:  49%|████▉     | 365/745 [2:38:08<2:33:47, 24.28s/it]"
     ]
    },
    {
     "name": "stdout",
     "output_type": "stream",
     "text": [
      "Train Loss: 0.317, Train Acc: 0.655\r"
     ]
    },
    {
     "name": "stderr",
     "output_type": "stream",
     "text": [
      "Epoch 1/1:  49%|████▉     | 366/745 [2:38:32<2:33:32, 24.31s/it]"
     ]
    },
    {
     "name": "stdout",
     "output_type": "stream",
     "text": [
      "Train Loss: 0.318, Train Acc: 0.656\r"
     ]
    },
    {
     "name": "stderr",
     "output_type": "stream",
     "text": [
      "Epoch 1/1:  49%|████▉     | 367/745 [2:38:56<2:33:04, 24.30s/it]"
     ]
    },
    {
     "name": "stdout",
     "output_type": "stream",
     "text": [
      "Train Loss: 0.319, Train Acc: 0.656\r"
     ]
    },
    {
     "name": "stderr",
     "output_type": "stream",
     "text": [
      "Epoch 1/1:  49%|████▉     | 368/745 [2:39:21<2:32:40, 24.30s/it]"
     ]
    },
    {
     "name": "stdout",
     "output_type": "stream",
     "text": [
      "Train Loss: 0.320, Train Acc: 0.656\r"
     ]
    },
    {
     "name": "stderr",
     "output_type": "stream",
     "text": [
      "Epoch 1/1:  50%|████▉     | 369/745 [2:39:45<2:32:40, 24.36s/it]"
     ]
    },
    {
     "name": "stdout",
     "output_type": "stream",
     "text": [
      "Train Loss: 0.321, Train Acc: 0.656\r"
     ]
    },
    {
     "name": "stderr",
     "output_type": "stream",
     "text": [
      "Epoch 1/1:  50%|████▉     | 370/745 [2:40:09<2:31:56, 24.31s/it]"
     ]
    },
    {
     "name": "stdout",
     "output_type": "stream",
     "text": [
      "Train Loss: 0.322, Train Acc: 0.656\r"
     ]
    },
    {
     "name": "stderr",
     "output_type": "stream",
     "text": [
      "Epoch 1/1:  50%|████▉     | 371/745 [2:40:34<2:32:09, 24.41s/it]"
     ]
    },
    {
     "name": "stdout",
     "output_type": "stream",
     "text": [
      "Train Loss: 0.322, Train Acc: 0.656\r"
     ]
    },
    {
     "name": "stderr",
     "output_type": "stream",
     "text": [
      "Epoch 1/1:  50%|████▉     | 372/745 [2:40:58<2:31:44, 24.41s/it]"
     ]
    },
    {
     "name": "stdout",
     "output_type": "stream",
     "text": [
      "Train Loss: 0.323, Train Acc: 0.656\r"
     ]
    },
    {
     "name": "stderr",
     "output_type": "stream",
     "text": [
      "Epoch 1/1:  50%|█████     | 373/745 [2:41:23<2:31:14, 24.39s/it]"
     ]
    },
    {
     "name": "stdout",
     "output_type": "stream",
     "text": [
      "Train Loss: 0.324, Train Acc: 0.656\r"
     ]
    },
    {
     "name": "stderr",
     "output_type": "stream",
     "text": [
      "Epoch 1/1:  50%|█████     | 374/745 [2:41:48<2:32:34, 24.68s/it]"
     ]
    },
    {
     "name": "stdout",
     "output_type": "stream",
     "text": [
      "Train Loss: 0.325, Train Acc: 0.656\r"
     ]
    },
    {
     "name": "stderr",
     "output_type": "stream",
     "text": [
      "Epoch 1/1:  50%|█████     | 375/745 [2:42:13<2:32:06, 24.67s/it]"
     ]
    },
    {
     "name": "stdout",
     "output_type": "stream",
     "text": [
      "Train Loss: 0.326, Train Acc: 0.656\r"
     ]
    },
    {
     "name": "stderr",
     "output_type": "stream",
     "text": [
      "Epoch 1/1:  50%|█████     | 376/745 [2:42:37<2:31:31, 24.64s/it]"
     ]
    },
    {
     "name": "stdout",
     "output_type": "stream",
     "text": [
      "Train Loss: 0.326, Train Acc: 0.657\r"
     ]
    },
    {
     "name": "stderr",
     "output_type": "stream",
     "text": [
      "Epoch 1/1:  51%|█████     | 377/745 [2:43:02<2:31:16, 24.66s/it]"
     ]
    },
    {
     "name": "stdout",
     "output_type": "stream",
     "text": [
      "Train Loss: 0.327, Train Acc: 0.657\r"
     ]
    },
    {
     "name": "stderr",
     "output_type": "stream",
     "text": [
      "Epoch 1/1:  51%|█████     | 378/745 [2:43:27<2:30:42, 24.64s/it]"
     ]
    },
    {
     "name": "stdout",
     "output_type": "stream",
     "text": [
      "Train Loss: 0.328, Train Acc: 0.657\r"
     ]
    },
    {
     "name": "stderr",
     "output_type": "stream",
     "text": [
      "Epoch 1/1:  51%|█████     | 379/745 [2:43:51<2:30:16, 24.64s/it]"
     ]
    },
    {
     "name": "stdout",
     "output_type": "stream",
     "text": [
      "Train Loss: 0.329, Train Acc: 0.657\r"
     ]
    },
    {
     "name": "stderr",
     "output_type": "stream",
     "text": [
      "Epoch 1/1:  51%|█████     | 380/745 [2:44:16<2:29:28, 24.57s/it]"
     ]
    },
    {
     "name": "stdout",
     "output_type": "stream",
     "text": [
      "Train Loss: 0.330, Train Acc: 0.656\r"
     ]
    },
    {
     "name": "stderr",
     "output_type": "stream",
     "text": [
      "Epoch 1/1:  51%|█████     | 381/745 [2:44:40<2:29:08, 24.58s/it]"
     ]
    },
    {
     "name": "stdout",
     "output_type": "stream",
     "text": [
      "Train Loss: 0.331, Train Acc: 0.657\r"
     ]
    },
    {
     "name": "stderr",
     "output_type": "stream",
     "text": [
      "Epoch 1/1:  51%|█████▏    | 382/745 [2:45:05<2:28:37, 24.57s/it]"
     ]
    },
    {
     "name": "stdout",
     "output_type": "stream",
     "text": [
      "Train Loss: 0.332, Train Acc: 0.657\r"
     ]
    },
    {
     "name": "stderr",
     "output_type": "stream",
     "text": [
      "Epoch 1/1:  51%|█████▏    | 383/745 [2:45:29<2:28:22, 24.59s/it]"
     ]
    },
    {
     "name": "stdout",
     "output_type": "stream",
     "text": [
      "Train Loss: 0.332, Train Acc: 0.657\r"
     ]
    },
    {
     "name": "stderr",
     "output_type": "stream",
     "text": [
      "Epoch 1/1:  52%|█████▏    | 384/745 [2:45:54<2:28:09, 24.62s/it]"
     ]
    },
    {
     "name": "stdout",
     "output_type": "stream",
     "text": [
      "Train Loss: 0.333, Train Acc: 0.658\r"
     ]
    },
    {
     "name": "stderr",
     "output_type": "stream",
     "text": [
      "Epoch 1/1:  52%|█████▏    | 385/745 [2:46:19<2:28:45, 24.79s/it]"
     ]
    },
    {
     "name": "stdout",
     "output_type": "stream",
     "text": [
      "Train Loss: 0.334, Train Acc: 0.658\r"
     ]
    },
    {
     "name": "stderr",
     "output_type": "stream",
     "text": [
      "Epoch 1/1:  52%|█████▏    | 386/745 [2:46:45<2:29:58, 25.06s/it]"
     ]
    },
    {
     "name": "stdout",
     "output_type": "stream",
     "text": [
      "Train Loss: 0.335, Train Acc: 0.658\r"
     ]
    },
    {
     "name": "stderr",
     "output_type": "stream",
     "text": [
      "Epoch 1/1:  52%|█████▏    | 387/745 [2:47:10<2:28:37, 24.91s/it]"
     ]
    },
    {
     "name": "stdout",
     "output_type": "stream",
     "text": [
      "Train Loss: 0.336, Train Acc: 0.658\r"
     ]
    },
    {
     "name": "stderr",
     "output_type": "stream",
     "text": [
      "Epoch 1/1:  52%|█████▏    | 388/745 [2:47:34<2:28:06, 24.89s/it]"
     ]
    },
    {
     "name": "stdout",
     "output_type": "stream",
     "text": [
      "Train Loss: 0.337, Train Acc: 0.657\r"
     ]
    },
    {
     "name": "stderr",
     "output_type": "stream",
     "text": [
      "Epoch 1/1:  52%|█████▏    | 389/745 [2:47:59<2:27:29, 24.86s/it]"
     ]
    },
    {
     "name": "stdout",
     "output_type": "stream",
     "text": [
      "Train Loss: 0.337, Train Acc: 0.658\r"
     ]
    },
    {
     "name": "stderr",
     "output_type": "stream",
     "text": [
      "Epoch 1/1:  52%|█████▏    | 390/745 [2:48:24<2:26:33, 24.77s/it]"
     ]
    },
    {
     "name": "stdout",
     "output_type": "stream",
     "text": [
      "Train Loss: 0.338, Train Acc: 0.658\r"
     ]
    },
    {
     "name": "stderr",
     "output_type": "stream",
     "text": [
      "Epoch 1/1:  52%|█████▏    | 391/745 [2:48:48<2:25:50, 24.72s/it]"
     ]
    },
    {
     "name": "stdout",
     "output_type": "stream",
     "text": [
      "Train Loss: 0.339, Train Acc: 0.658\r"
     ]
    },
    {
     "name": "stderr",
     "output_type": "stream",
     "text": [
      "Epoch 1/1:  53%|█████▎    | 392/745 [2:49:13<2:25:18, 24.70s/it]"
     ]
    },
    {
     "name": "stdout",
     "output_type": "stream",
     "text": [
      "Train Loss: 0.340, Train Acc: 0.658\r"
     ]
    },
    {
     "name": "stderr",
     "output_type": "stream",
     "text": [
      "Epoch 1/1:  53%|█████▎    | 393/745 [2:49:38<2:24:53, 24.70s/it]"
     ]
    },
    {
     "name": "stdout",
     "output_type": "stream",
     "text": [
      "Train Loss: 0.341, Train Acc: 0.659\r"
     ]
    },
    {
     "name": "stderr",
     "output_type": "stream",
     "text": [
      "Epoch 1/1:  53%|█████▎    | 394/745 [2:50:02<2:24:38, 24.73s/it]"
     ]
    },
    {
     "name": "stdout",
     "output_type": "stream",
     "text": [
      "Train Loss: 0.342, Train Acc: 0.658\r"
     ]
    },
    {
     "name": "stderr",
     "output_type": "stream",
     "text": [
      "Epoch 1/1:  53%|█████▎    | 395/745 [2:50:27<2:24:17, 24.74s/it]"
     ]
    },
    {
     "name": "stdout",
     "output_type": "stream",
     "text": [
      "Train Loss: 0.342, Train Acc: 0.658\r"
     ]
    },
    {
     "name": "stderr",
     "output_type": "stream",
     "text": [
      "Epoch 1/1:  53%|█████▎    | 396/745 [2:50:52<2:24:12, 24.79s/it]"
     ]
    },
    {
     "name": "stdout",
     "output_type": "stream",
     "text": [
      "Train Loss: 0.343, Train Acc: 0.659\r"
     ]
    },
    {
     "name": "stderr",
     "output_type": "stream",
     "text": [
      "Epoch 1/1:  53%|█████▎    | 397/745 [2:51:18<2:25:05, 25.02s/it]"
     ]
    },
    {
     "name": "stdout",
     "output_type": "stream",
     "text": [
      "Train Loss: 0.344, Train Acc: 0.659\r"
     ]
    },
    {
     "name": "stderr",
     "output_type": "stream",
     "text": [
      "Epoch 1/1:  53%|█████▎    | 398/745 [2:51:43<2:24:16, 24.95s/it]"
     ]
    },
    {
     "name": "stdout",
     "output_type": "stream",
     "text": [
      "Train Loss: 0.345, Train Acc: 0.659\r"
     ]
    },
    {
     "name": "stderr",
     "output_type": "stream",
     "text": [
      "Epoch 1/1:  54%|█████▎    | 399/745 [2:52:07<2:23:35, 24.90s/it]"
     ]
    },
    {
     "name": "stdout",
     "output_type": "stream",
     "text": [
      "Train Loss: 0.346, Train Acc: 0.659\r"
     ]
    },
    {
     "name": "stderr",
     "output_type": "stream",
     "text": [
      "Epoch 1/1:  54%|█████▎    | 400/745 [2:52:32<2:22:53, 24.85s/it]"
     ]
    },
    {
     "name": "stdout",
     "output_type": "stream",
     "text": [
      "Train Loss: 0.347, Train Acc: 0.658\r"
     ]
    },
    {
     "name": "stderr",
     "output_type": "stream",
     "text": [
      "Epoch 1/1:  54%|█████▍    | 401/745 [2:52:57<2:22:09, 24.79s/it]"
     ]
    },
    {
     "name": "stdout",
     "output_type": "stream",
     "text": [
      "Train Loss: 0.348, Train Acc: 0.658\r"
     ]
    },
    {
     "name": "stderr",
     "output_type": "stream",
     "text": [
      "Epoch 1/1:  54%|█████▍    | 402/745 [2:53:22<2:21:52, 24.82s/it]"
     ]
    },
    {
     "name": "stdout",
     "output_type": "stream",
     "text": [
      "Train Loss: 0.349, Train Acc: 0.658\r"
     ]
    },
    {
     "name": "stderr",
     "output_type": "stream",
     "text": [
      "Epoch 1/1:  54%|█████▍    | 403/745 [2:53:46<2:21:22, 24.80s/it]"
     ]
    },
    {
     "name": "stdout",
     "output_type": "stream",
     "text": [
      "Train Loss: 0.349, Train Acc: 0.658\r"
     ]
    },
    {
     "name": "stderr",
     "output_type": "stream",
     "text": [
      "Epoch 1/1:  54%|█████▍    | 404/745 [2:54:11<2:20:51, 24.79s/it]"
     ]
    },
    {
     "name": "stdout",
     "output_type": "stream",
     "text": [
      "Train Loss: 0.350, Train Acc: 0.659\r"
     ]
    },
    {
     "name": "stderr",
     "output_type": "stream",
     "text": [
      "Epoch 1/1:  54%|█████▍    | 405/745 [2:54:36<2:20:37, 24.82s/it]"
     ]
    },
    {
     "name": "stdout",
     "output_type": "stream",
     "text": [
      "Train Loss: 0.351, Train Acc: 0.659\r"
     ]
    },
    {
     "name": "stderr",
     "output_type": "stream",
     "text": [
      "Epoch 1/1:  54%|█████▍    | 406/745 [2:55:02<2:22:10, 25.16s/it]"
     ]
    },
    {
     "name": "stdout",
     "output_type": "stream",
     "text": [
      "Train Loss: 0.352, Train Acc: 0.659\r"
     ]
    },
    {
     "name": "stderr",
     "output_type": "stream",
     "text": [
      "Epoch 1/1:  55%|█████▍    | 407/745 [2:55:27<2:21:04, 25.04s/it]"
     ]
    },
    {
     "name": "stdout",
     "output_type": "stream",
     "text": [
      "Train Loss: 0.353, Train Acc: 0.660\r"
     ]
    },
    {
     "name": "stderr",
     "output_type": "stream",
     "text": [
      "Epoch 1/1:  55%|█████▍    | 408/745 [2:55:52<2:20:36, 25.03s/it]"
     ]
    },
    {
     "name": "stdout",
     "output_type": "stream",
     "text": [
      "Train Loss: 0.353, Train Acc: 0.660\r"
     ]
    },
    {
     "name": "stderr",
     "output_type": "stream",
     "text": [
      "Epoch 1/1:  55%|█████▍    | 409/745 [2:56:17<2:19:56, 24.99s/it]"
     ]
    },
    {
     "name": "stdout",
     "output_type": "stream",
     "text": [
      "Train Loss: 0.354, Train Acc: 0.660\r"
     ]
    },
    {
     "name": "stderr",
     "output_type": "stream",
     "text": [
      "Epoch 1/1:  55%|█████▌    | 410/745 [2:56:41<2:19:15, 24.94s/it]"
     ]
    },
    {
     "name": "stdout",
     "output_type": "stream",
     "text": [
      "Train Loss: 0.355, Train Acc: 0.660\r"
     ]
    },
    {
     "name": "stderr",
     "output_type": "stream",
     "text": [
      "Epoch 1/1:  55%|█████▌    | 411/745 [2:57:06<2:18:45, 24.93s/it]"
     ]
    },
    {
     "name": "stdout",
     "output_type": "stream",
     "text": [
      "Train Loss: 0.356, Train Acc: 0.660\r"
     ]
    },
    {
     "name": "stderr",
     "output_type": "stream",
     "text": [
      "Epoch 1/1:  55%|█████▌    | 412/745 [2:57:31<2:18:15, 24.91s/it]"
     ]
    },
    {
     "name": "stdout",
     "output_type": "stream",
     "text": [
      "Train Loss: 0.357, Train Acc: 0.660\r"
     ]
    },
    {
     "name": "stderr",
     "output_type": "stream",
     "text": [
      "Epoch 1/1:  55%|█████▌    | 413/745 [2:57:56<2:17:47, 24.90s/it]"
     ]
    },
    {
     "name": "stdout",
     "output_type": "stream",
     "text": [
      "Train Loss: 0.358, Train Acc: 0.660\r"
     ]
    },
    {
     "name": "stderr",
     "output_type": "stream",
     "text": [
      "Epoch 1/1:  56%|█████▌    | 414/745 [2:58:22<2:18:54, 25.18s/it]"
     ]
    },
    {
     "name": "stdout",
     "output_type": "stream",
     "text": [
      "Train Loss: 0.359, Train Acc: 0.660\r"
     ]
    },
    {
     "name": "stderr",
     "output_type": "stream",
     "text": [
      "Epoch 1/1:  56%|█████▌    | 415/745 [2:58:47<2:17:57, 25.08s/it]"
     ]
    },
    {
     "name": "stdout",
     "output_type": "stream",
     "text": [
      "Train Loss: 0.360, Train Acc: 0.660\r"
     ]
    },
    {
     "name": "stderr",
     "output_type": "stream",
     "text": [
      "Epoch 1/1:  56%|█████▌    | 416/745 [2:59:12<2:17:51, 25.14s/it]"
     ]
    },
    {
     "name": "stdout",
     "output_type": "stream",
     "text": [
      "Train Loss: 0.361, Train Acc: 0.660\r"
     ]
    },
    {
     "name": "stderr",
     "output_type": "stream",
     "text": [
      "Epoch 1/1:  56%|█████▌    | 417/745 [2:59:37<2:17:14, 25.10s/it]"
     ]
    },
    {
     "name": "stdout",
     "output_type": "stream",
     "text": [
      "Train Loss: 0.362, Train Acc: 0.660\r"
     ]
    },
    {
     "name": "stderr",
     "output_type": "stream",
     "text": [
      "Epoch 1/1:  56%|█████▌    | 418/745 [3:00:02<2:16:51, 25.11s/it]"
     ]
    },
    {
     "name": "stdout",
     "output_type": "stream",
     "text": [
      "Train Loss: 0.362, Train Acc: 0.659\r"
     ]
    },
    {
     "name": "stderr",
     "output_type": "stream",
     "text": [
      "Epoch 1/1:  56%|█████▌    | 419/745 [3:00:27<2:16:10, 25.06s/it]"
     ]
    },
    {
     "name": "stdout",
     "output_type": "stream",
     "text": [
      "Train Loss: 0.363, Train Acc: 0.660\r"
     ]
    },
    {
     "name": "stderr",
     "output_type": "stream",
     "text": [
      "Epoch 1/1:  56%|█████▋    | 420/745 [3:00:52<2:15:50, 25.08s/it]"
     ]
    },
    {
     "name": "stdout",
     "output_type": "stream",
     "text": [
      "Train Loss: 0.364, Train Acc: 0.660\r"
     ]
    },
    {
     "name": "stderr",
     "output_type": "stream",
     "text": [
      "Epoch 1/1:  57%|█████▋    | 421/745 [3:01:18<2:17:03, 25.38s/it]"
     ]
    },
    {
     "name": "stdout",
     "output_type": "stream",
     "text": [
      "Train Loss: 0.365, Train Acc: 0.660\r"
     ]
    },
    {
     "name": "stderr",
     "output_type": "stream",
     "text": [
      "Epoch 1/1:  57%|█████▋    | 422/745 [3:01:44<2:16:45, 25.40s/it]"
     ]
    },
    {
     "name": "stdout",
     "output_type": "stream",
     "text": [
      "Train Loss: 0.366, Train Acc: 0.660\r"
     ]
    },
    {
     "name": "stderr",
     "output_type": "stream",
     "text": [
      "Epoch 1/1:  57%|█████▋    | 423/745 [3:02:09<2:15:32, 25.26s/it]"
     ]
    },
    {
     "name": "stdout",
     "output_type": "stream",
     "text": [
      "Train Loss: 0.367, Train Acc: 0.660\r"
     ]
    },
    {
     "name": "stderr",
     "output_type": "stream",
     "text": [
      "Epoch 1/1:  57%|█████▋    | 424/745 [3:02:34<2:14:59, 25.23s/it]"
     ]
    },
    {
     "name": "stdout",
     "output_type": "stream",
     "text": [
      "Train Loss: 0.368, Train Acc: 0.660\r"
     ]
    },
    {
     "name": "stderr",
     "output_type": "stream",
     "text": [
      "Epoch 1/1:  57%|█████▋    | 425/745 [3:02:59<2:14:19, 25.19s/it]"
     ]
    },
    {
     "name": "stdout",
     "output_type": "stream",
     "text": [
      "Train Loss: 0.368, Train Acc: 0.660\r"
     ]
    },
    {
     "name": "stderr",
     "output_type": "stream",
     "text": [
      "Epoch 1/1:  57%|█████▋    | 426/745 [3:03:24<2:13:55, 25.19s/it]"
     ]
    },
    {
     "name": "stdout",
     "output_type": "stream",
     "text": [
      "Train Loss: 0.369, Train Acc: 0.660\r"
     ]
    },
    {
     "name": "stderr",
     "output_type": "stream",
     "text": [
      "Epoch 1/1:  57%|█████▋    | 427/745 [3:03:49<2:13:13, 25.14s/it]"
     ]
    },
    {
     "name": "stdout",
     "output_type": "stream",
     "text": [
      "Train Loss: 0.370, Train Acc: 0.660\r"
     ]
    },
    {
     "name": "stderr",
     "output_type": "stream",
     "text": [
      "Epoch 1/1:  57%|█████▋    | 428/745 [3:04:15<2:14:24, 25.44s/it]"
     ]
    },
    {
     "name": "stdout",
     "output_type": "stream",
     "text": [
      "Train Loss: 0.371, Train Acc: 0.660\r"
     ]
    },
    {
     "name": "stderr",
     "output_type": "stream",
     "text": [
      "Epoch 1/1:  58%|█████▊    | 429/745 [3:04:40<2:13:14, 25.30s/it]"
     ]
    },
    {
     "name": "stdout",
     "output_type": "stream",
     "text": [
      "Train Loss: 0.372, Train Acc: 0.660\r"
     ]
    },
    {
     "name": "stderr",
     "output_type": "stream",
     "text": [
      "Epoch 1/1:  58%|█████▊    | 430/745 [3:05:05<2:12:29, 25.24s/it]"
     ]
    },
    {
     "name": "stdout",
     "output_type": "stream",
     "text": [
      "Train Loss: 0.373, Train Acc: 0.660\r"
     ]
    },
    {
     "name": "stderr",
     "output_type": "stream",
     "text": [
      "Epoch 1/1:  58%|█████▊    | 431/745 [3:05:30<2:11:47, 25.18s/it]"
     ]
    },
    {
     "name": "stdout",
     "output_type": "stream",
     "text": [
      "Train Loss: 0.374, Train Acc: 0.660\r"
     ]
    },
    {
     "name": "stderr",
     "output_type": "stream",
     "text": [
      "Epoch 1/1:  58%|█████▊    | 432/745 [3:05:55<2:11:03, 25.12s/it]"
     ]
    },
    {
     "name": "stdout",
     "output_type": "stream",
     "text": [
      "Train Loss: 0.375, Train Acc: 0.660\r"
     ]
    },
    {
     "name": "stderr",
     "output_type": "stream",
     "text": [
      "Epoch 1/1:  58%|█████▊    | 433/745 [3:06:20<2:10:01, 25.00s/it]"
     ]
    },
    {
     "name": "stdout",
     "output_type": "stream",
     "text": [
      "Train Loss: 0.375, Train Acc: 0.660\r"
     ]
    },
    {
     "name": "stderr",
     "output_type": "stream",
     "text": [
      "Epoch 1/1:  58%|█████▊    | 434/745 [3:06:45<2:09:51, 25.05s/it]"
     ]
    },
    {
     "name": "stdout",
     "output_type": "stream",
     "text": [
      "Train Loss: 0.376, Train Acc: 0.660\r"
     ]
    },
    {
     "name": "stderr",
     "output_type": "stream",
     "text": [
      "Epoch 1/1:  58%|█████▊    | 435/745 [3:07:12<2:11:25, 25.44s/it]"
     ]
    },
    {
     "name": "stdout",
     "output_type": "stream",
     "text": [
      "Train Loss: 0.377, Train Acc: 0.660\r"
     ]
    },
    {
     "name": "stderr",
     "output_type": "stream",
     "text": [
      "Epoch 1/1:  59%|█████▊    | 436/745 [3:07:37<2:10:28, 25.33s/it]"
     ]
    },
    {
     "name": "stdout",
     "output_type": "stream",
     "text": [
      "Train Loss: 0.378, Train Acc: 0.660\r"
     ]
    },
    {
     "name": "stderr",
     "output_type": "stream",
     "text": [
      "Epoch 1/1:  59%|█████▊    | 437/745 [3:08:02<2:10:04, 25.34s/it]"
     ]
    },
    {
     "name": "stdout",
     "output_type": "stream",
     "text": [
      "Train Loss: 0.379, Train Acc: 0.659\r"
     ]
    },
    {
     "name": "stderr",
     "output_type": "stream",
     "text": [
      "Epoch 1/1:  59%|█████▉    | 438/745 [3:08:27<2:09:24, 25.29s/it]"
     ]
    },
    {
     "name": "stdout",
     "output_type": "stream",
     "text": [
      "Train Loss: 0.380, Train Acc: 0.659\r"
     ]
    },
    {
     "name": "stderr",
     "output_type": "stream",
     "text": [
      "Epoch 1/1:  59%|█████▉    | 439/745 [3:08:53<2:09:02, 25.30s/it]"
     ]
    },
    {
     "name": "stdout",
     "output_type": "stream",
     "text": [
      "Train Loss: 0.381, Train Acc: 0.659\r"
     ]
    },
    {
     "name": "stderr",
     "output_type": "stream",
     "text": [
      "Epoch 1/1:  59%|█████▉    | 440/745 [3:09:18<2:08:28, 25.27s/it]"
     ]
    },
    {
     "name": "stdout",
     "output_type": "stream",
     "text": [
      "Train Loss: 0.382, Train Acc: 0.659\r"
     ]
    },
    {
     "name": "stderr",
     "output_type": "stream",
     "text": [
      "Epoch 1/1:  59%|█████▉    | 441/745 [3:09:44<2:09:39, 25.59s/it]"
     ]
    },
    {
     "name": "stdout",
     "output_type": "stream",
     "text": [
      "Train Loss: 0.383, Train Acc: 0.660\r"
     ]
    },
    {
     "name": "stderr",
     "output_type": "stream",
     "text": [
      "Epoch 1/1:  59%|█████▉    | 442/745 [3:10:09<2:08:50, 25.51s/it]"
     ]
    },
    {
     "name": "stdout",
     "output_type": "stream",
     "text": [
      "Train Loss: 0.383, Train Acc: 0.660\r"
     ]
    },
    {
     "name": "stderr",
     "output_type": "stream",
     "text": [
      "Epoch 1/1:  59%|█████▉    | 443/745 [3:10:35<2:07:50, 25.40s/it]"
     ]
    },
    {
     "name": "stdout",
     "output_type": "stream",
     "text": [
      "Train Loss: 0.384, Train Acc: 0.660\r"
     ]
    },
    {
     "name": "stderr",
     "output_type": "stream",
     "text": [
      "Epoch 1/1:  60%|█████▉    | 444/745 [3:11:00<2:07:00, 25.32s/it]"
     ]
    },
    {
     "name": "stdout",
     "output_type": "stream",
     "text": [
      "Train Loss: 0.385, Train Acc: 0.660\r"
     ]
    },
    {
     "name": "stderr",
     "output_type": "stream",
     "text": [
      "Epoch 1/1:  60%|█████▉    | 445/745 [3:11:25<2:06:41, 25.34s/it]"
     ]
    },
    {
     "name": "stdout",
     "output_type": "stream",
     "text": [
      "Train Loss: 0.386, Train Acc: 0.660\r"
     ]
    },
    {
     "name": "stderr",
     "output_type": "stream",
     "text": [
      "Epoch 1/1:  60%|█████▉    | 446/745 [3:11:51<2:06:26, 25.37s/it]"
     ]
    },
    {
     "name": "stdout",
     "output_type": "stream",
     "text": [
      "Train Loss: 0.387, Train Acc: 0.659\r"
     ]
    },
    {
     "name": "stderr",
     "output_type": "stream",
     "text": [
      "Epoch 1/1:  60%|██████    | 447/745 [3:12:17<2:07:13, 25.62s/it]"
     ]
    },
    {
     "name": "stdout",
     "output_type": "stream",
     "text": [
      "Train Loss: 0.388, Train Acc: 0.659\r"
     ]
    },
    {
     "name": "stderr",
     "output_type": "stream",
     "text": [
      "Epoch 1/1:  60%|██████    | 448/745 [3:12:42<2:06:27, 25.55s/it]"
     ]
    },
    {
     "name": "stdout",
     "output_type": "stream",
     "text": [
      "Train Loss: 0.389, Train Acc: 0.658\r"
     ]
    },
    {
     "name": "stderr",
     "output_type": "stream",
     "text": [
      "Epoch 1/1:  60%|██████    | 449/745 [3:13:08<2:05:50, 25.51s/it]"
     ]
    },
    {
     "name": "stdout",
     "output_type": "stream",
     "text": [
      "Train Loss: 0.390, Train Acc: 0.659\r"
     ]
    },
    {
     "name": "stderr",
     "output_type": "stream",
     "text": [
      "Epoch 1/1:  60%|██████    | 450/745 [3:13:33<2:04:45, 25.37s/it]"
     ]
    },
    {
     "name": "stdout",
     "output_type": "stream",
     "text": [
      "Train Loss: 0.391, Train Acc: 0.659\r"
     ]
    },
    {
     "name": "stderr",
     "output_type": "stream",
     "text": [
      "Epoch 1/1:  61%|██████    | 451/745 [3:13:58<2:04:34, 25.42s/it]"
     ]
    },
    {
     "name": "stdout",
     "output_type": "stream",
     "text": [
      "Train Loss: 0.392, Train Acc: 0.659\r"
     ]
    },
    {
     "name": "stderr",
     "output_type": "stream",
     "text": [
      "Epoch 1/1:  61%|██████    | 452/745 [3:14:24<2:04:10, 25.43s/it]"
     ]
    },
    {
     "name": "stdout",
     "output_type": "stream",
     "text": [
      "Train Loss: 0.392, Train Acc: 0.659\r"
     ]
    },
    {
     "name": "stderr",
     "output_type": "stream",
     "text": [
      "Epoch 1/1:  61%|██████    | 453/745 [3:14:49<2:04:15, 25.53s/it]"
     ]
    },
    {
     "name": "stdout",
     "output_type": "stream",
     "text": [
      "Train Loss: 0.393, Train Acc: 0.659\r"
     ]
    },
    {
     "name": "stderr",
     "output_type": "stream",
     "text": [
      "Epoch 1/1:  61%|██████    | 454/745 [3:15:15<2:03:39, 25.50s/it]"
     ]
    },
    {
     "name": "stdout",
     "output_type": "stream",
     "text": [
      "Train Loss: 0.394, Train Acc: 0.659\r"
     ]
    },
    {
     "name": "stderr",
     "output_type": "stream",
     "text": [
      "Epoch 1/1:  61%|██████    | 455/745 [3:15:40<2:03:15, 25.50s/it]"
     ]
    },
    {
     "name": "stdout",
     "output_type": "stream",
     "text": [
      "Train Loss: 0.395, Train Acc: 0.659\r"
     ]
    },
    {
     "name": "stderr",
     "output_type": "stream",
     "text": [
      "Epoch 1/1:  61%|██████    | 456/745 [3:16:06<2:02:47, 25.49s/it]"
     ]
    },
    {
     "name": "stdout",
     "output_type": "stream",
     "text": [
      "Train Loss: 0.396, Train Acc: 0.659\r"
     ]
    },
    {
     "name": "stderr",
     "output_type": "stream",
     "text": [
      "Epoch 1/1:  61%|██████▏   | 457/745 [3:16:31<2:02:17, 25.48s/it]"
     ]
    },
    {
     "name": "stdout",
     "output_type": "stream",
     "text": [
      "Train Loss: 0.397, Train Acc: 0.659\r"
     ]
    },
    {
     "name": "stderr",
     "output_type": "stream",
     "text": [
      "Epoch 1/1:  61%|██████▏   | 458/745 [3:16:58<2:03:58, 25.92s/it]"
     ]
    },
    {
     "name": "stdout",
     "output_type": "stream",
     "text": [
      "Train Loss: 0.398, Train Acc: 0.659\r"
     ]
    },
    {
     "name": "stderr",
     "output_type": "stream",
     "text": [
      "Epoch 1/1:  62%|██████▏   | 459/745 [3:17:24<2:02:49, 25.77s/it]"
     ]
    },
    {
     "name": "stdout",
     "output_type": "stream",
     "text": [
      "Train Loss: 0.399, Train Acc: 0.659\r"
     ]
    },
    {
     "name": "stderr",
     "output_type": "stream",
     "text": [
      "Epoch 1/1:  62%|██████▏   | 460/745 [3:17:49<2:02:06, 25.71s/it]"
     ]
    },
    {
     "name": "stdout",
     "output_type": "stream",
     "text": [
      "Train Loss: 0.400, Train Acc: 0.659\r"
     ]
    },
    {
     "name": "stderr",
     "output_type": "stream",
     "text": [
      "Epoch 1/1:  62%|██████▏   | 461/745 [3:18:14<2:00:34, 25.47s/it]"
     ]
    },
    {
     "name": "stdout",
     "output_type": "stream",
     "text": [
      "Train Loss: 0.400, Train Acc: 0.659\r"
     ]
    },
    {
     "name": "stderr",
     "output_type": "stream",
     "text": [
      "Epoch 1/1:  62%|██████▏   | 462/745 [3:18:40<2:00:09, 25.48s/it]"
     ]
    },
    {
     "name": "stdout",
     "output_type": "stream",
     "text": [
      "Train Loss: 0.401, Train Acc: 0.659\r"
     ]
    },
    {
     "name": "stderr",
     "output_type": "stream",
     "text": [
      "Epoch 1/1:  62%|██████▏   | 463/745 [3:19:06<2:00:46, 25.70s/it]"
     ]
    },
    {
     "name": "stdout",
     "output_type": "stream",
     "text": [
      "Train Loss: 0.402, Train Acc: 0.658\r"
     ]
    },
    {
     "name": "stderr",
     "output_type": "stream",
     "text": [
      "Epoch 1/1:  62%|██████▏   | 464/745 [3:19:31<1:59:59, 25.62s/it]"
     ]
    },
    {
     "name": "stdout",
     "output_type": "stream",
     "text": [
      "Train Loss: 0.403, Train Acc: 0.658\r"
     ]
    },
    {
     "name": "stderr",
     "output_type": "stream",
     "text": [
      "Epoch 1/1:  62%|██████▏   | 465/745 [3:19:57<1:59:25, 25.59s/it]"
     ]
    },
    {
     "name": "stdout",
     "output_type": "stream",
     "text": [
      "Train Loss: 0.404, Train Acc: 0.658\r"
     ]
    },
    {
     "name": "stderr",
     "output_type": "stream",
     "text": [
      "Epoch 1/1:  63%|██████▎   | 466/745 [3:20:22<1:58:42, 25.53s/it]"
     ]
    },
    {
     "name": "stdout",
     "output_type": "stream",
     "text": [
      "Train Loss: 0.405, Train Acc: 0.658\r"
     ]
    },
    {
     "name": "stderr",
     "output_type": "stream",
     "text": [
      "Epoch 1/1:  63%|██████▎   | 467/745 [3:20:47<1:58:02, 25.48s/it]"
     ]
    },
    {
     "name": "stdout",
     "output_type": "stream",
     "text": [
      "Train Loss: 0.406, Train Acc: 0.658\r"
     ]
    },
    {
     "name": "stderr",
     "output_type": "stream",
     "text": [
      "Epoch 1/1:  63%|██████▎   | 468/745 [3:21:14<1:59:11, 25.82s/it]"
     ]
    },
    {
     "name": "stdout",
     "output_type": "stream",
     "text": [
      "Train Loss: 0.407, Train Acc: 0.658\r"
     ]
    },
    {
     "name": "stderr",
     "output_type": "stream",
     "text": [
      "Epoch 1/1:  63%|██████▎   | 469/745 [3:21:39<1:58:11, 25.69s/it]"
     ]
    },
    {
     "name": "stdout",
     "output_type": "stream",
     "text": [
      "Train Loss: 0.408, Train Acc: 0.658\r"
     ]
    },
    {
     "name": "stderr",
     "output_type": "stream",
     "text": [
      "Epoch 1/1:  63%|██████▎   | 470/745 [3:22:05<1:57:43, 25.68s/it]"
     ]
    },
    {
     "name": "stdout",
     "output_type": "stream",
     "text": [
      "Train Loss: 0.408, Train Acc: 0.658\r"
     ]
    },
    {
     "name": "stderr",
     "output_type": "stream",
     "text": [
      "Epoch 1/1:  63%|██████▎   | 471/745 [3:22:31<1:57:07, 25.65s/it]"
     ]
    },
    {
     "name": "stdout",
     "output_type": "stream",
     "text": [
      "Train Loss: 0.409, Train Acc: 0.658\r"
     ]
    },
    {
     "name": "stderr",
     "output_type": "stream",
     "text": [
      "Epoch 1/1:  63%|██████▎   | 472/745 [3:22:57<1:57:06, 25.74s/it]"
     ]
    },
    {
     "name": "stdout",
     "output_type": "stream",
     "text": [
      "Train Loss: 0.410, Train Acc: 0.658\r"
     ]
    },
    {
     "name": "stderr",
     "output_type": "stream",
     "text": [
      "Epoch 1/1:  63%|██████▎   | 473/745 [3:23:23<1:57:00, 25.81s/it]"
     ]
    },
    {
     "name": "stdout",
     "output_type": "stream",
     "text": [
      "Train Loss: 0.411, Train Acc: 0.658\r"
     ]
    },
    {
     "name": "stderr",
     "output_type": "stream",
     "text": [
      "Epoch 1/1:  64%|██████▎   | 474/745 [3:23:48<1:56:23, 25.77s/it]"
     ]
    },
    {
     "name": "stdout",
     "output_type": "stream",
     "text": [
      "Train Loss: 0.412, Train Acc: 0.658\r"
     ]
    },
    {
     "name": "stderr",
     "output_type": "stream",
     "text": [
      "Epoch 1/1:  64%|██████▍   | 475/745 [3:24:14<1:55:36, 25.69s/it]"
     ]
    },
    {
     "name": "stdout",
     "output_type": "stream",
     "text": [
      "Train Loss: 0.413, Train Acc: 0.658\r"
     ]
    },
    {
     "name": "stderr",
     "output_type": "stream",
     "text": [
      "Epoch 1/1:  64%|██████▍   | 476/745 [3:24:39<1:55:05, 25.67s/it]"
     ]
    },
    {
     "name": "stdout",
     "output_type": "stream",
     "text": [
      "Train Loss: 0.414, Train Acc: 0.658\r"
     ]
    },
    {
     "name": "stderr",
     "output_type": "stream",
     "text": [
      "Epoch 1/1:  64%|██████▍   | 477/745 [3:25:06<1:56:08, 26.00s/it]"
     ]
    },
    {
     "name": "stdout",
     "output_type": "stream",
     "text": [
      "Train Loss: 0.415, Train Acc: 0.658\r"
     ]
    },
    {
     "name": "stderr",
     "output_type": "stream",
     "text": [
      "Epoch 1/1:  64%|██████▍   | 478/745 [3:25:32<1:55:58, 26.06s/it]"
     ]
    },
    {
     "name": "stdout",
     "output_type": "stream",
     "text": [
      "Train Loss: 0.416, Train Acc: 0.657\r"
     ]
    },
    {
     "name": "stderr",
     "output_type": "stream",
     "text": [
      "Epoch 1/1:  64%|██████▍   | 479/745 [3:25:58<1:55:12, 25.99s/it]"
     ]
    },
    {
     "name": "stdout",
     "output_type": "stream",
     "text": [
      "Train Loss: 0.417, Train Acc: 0.657\r"
     ]
    },
    {
     "name": "stderr",
     "output_type": "stream",
     "text": [
      "Epoch 1/1:  64%|██████▍   | 480/745 [3:26:24<1:54:18, 25.88s/it]"
     ]
    },
    {
     "name": "stdout",
     "output_type": "stream",
     "text": [
      "Train Loss: 0.418, Train Acc: 0.657\r"
     ]
    },
    {
     "name": "stderr",
     "output_type": "stream",
     "text": [
      "Epoch 1/1:  65%|██████▍   | 481/745 [3:26:51<1:55:02, 26.15s/it]"
     ]
    },
    {
     "name": "stdout",
     "output_type": "stream",
     "text": [
      "Train Loss: 0.418, Train Acc: 0.658\r"
     ]
    },
    {
     "name": "stderr",
     "output_type": "stream",
     "text": [
      "Epoch 1/1:  65%|██████▍   | 482/745 [3:27:17<1:54:28, 26.12s/it]"
     ]
    },
    {
     "name": "stdout",
     "output_type": "stream",
     "text": [
      "Train Loss: 0.419, Train Acc: 0.657\r"
     ]
    },
    {
     "name": "stderr",
     "output_type": "stream",
     "text": [
      "Epoch 1/1:  65%|██████▍   | 483/745 [3:27:42<1:53:29, 25.99s/it]"
     ]
    },
    {
     "name": "stdout",
     "output_type": "stream",
     "text": [
      "Train Loss: 0.420, Train Acc: 0.658\r"
     ]
    },
    {
     "name": "stderr",
     "output_type": "stream",
     "text": [
      "Epoch 1/1:  65%|██████▍   | 484/745 [3:28:08<1:52:10, 25.79s/it]"
     ]
    },
    {
     "name": "stdout",
     "output_type": "stream",
     "text": [
      "Train Loss: 0.421, Train Acc: 0.658\r"
     ]
    },
    {
     "name": "stderr",
     "output_type": "stream",
     "text": [
      "Epoch 1/1:  65%|██████▌   | 485/745 [3:28:33<1:51:26, 25.72s/it]"
     ]
    },
    {
     "name": "stdout",
     "output_type": "stream",
     "text": [
      "Train Loss: 0.422, Train Acc: 0.657\r"
     ]
    },
    {
     "name": "stderr",
     "output_type": "stream",
     "text": [
      "Epoch 1/1:  65%|██████▌   | 486/745 [3:29:00<1:52:20, 26.03s/it]"
     ]
    },
    {
     "name": "stdout",
     "output_type": "stream",
     "text": [
      "Train Loss: 0.423, Train Acc: 0.658\r"
     ]
    },
    {
     "name": "stderr",
     "output_type": "stream",
     "text": [
      "Epoch 1/1:  65%|██████▌   | 487/745 [3:29:26<1:51:49, 26.00s/it]"
     ]
    },
    {
     "name": "stdout",
     "output_type": "stream",
     "text": [
      "Train Loss: 0.423, Train Acc: 0.658\r"
     ]
    },
    {
     "name": "stderr",
     "output_type": "stream",
     "text": [
      "Epoch 1/1:  66%|██████▌   | 488/745 [3:29:52<1:51:13, 25.97s/it]"
     ]
    },
    {
     "name": "stdout",
     "output_type": "stream",
     "text": [
      "Train Loss: 0.424, Train Acc: 0.658\r"
     ]
    },
    {
     "name": "stderr",
     "output_type": "stream",
     "text": [
      "Epoch 1/1:  66%|██████▌   | 489/745 [3:30:18<1:50:33, 25.91s/it]"
     ]
    },
    {
     "name": "stdout",
     "output_type": "stream",
     "text": [
      "Train Loss: 0.425, Train Acc: 0.658\r"
     ]
    },
    {
     "name": "stderr",
     "output_type": "stream",
     "text": [
      "Epoch 1/1:  66%|██████▌   | 490/745 [3:30:45<1:52:00, 26.35s/it]"
     ]
    },
    {
     "name": "stdout",
     "output_type": "stream",
     "text": [
      "Train Loss: 0.426, Train Acc: 0.658\r"
     ]
    },
    {
     "name": "stderr",
     "output_type": "stream",
     "text": [
      "Epoch 1/1:  66%|██████▌   | 491/745 [3:31:11<1:51:04, 26.24s/it]"
     ]
    },
    {
     "name": "stdout",
     "output_type": "stream",
     "text": [
      "Train Loss: 0.427, Train Acc: 0.658\r"
     ]
    },
    {
     "name": "stderr",
     "output_type": "stream",
     "text": [
      "Epoch 1/1:  66%|██████▌   | 492/745 [3:31:37<1:49:58, 26.08s/it]"
     ]
    },
    {
     "name": "stdout",
     "output_type": "stream",
     "text": [
      "Train Loss: 0.428, Train Acc: 0.658\r"
     ]
    },
    {
     "name": "stderr",
     "output_type": "stream",
     "text": [
      "Epoch 1/1:  66%|██████▌   | 493/745 [3:32:03<1:50:09, 26.23s/it]"
     ]
    },
    {
     "name": "stdout",
     "output_type": "stream",
     "text": [
      "Train Loss: 0.429, Train Acc: 0.658\r"
     ]
    },
    {
     "name": "stderr",
     "output_type": "stream",
     "text": [
      "Epoch 1/1:  66%|██████▋   | 494/745 [3:32:30<1:50:50, 26.50s/it]"
     ]
    },
    {
     "name": "stdout",
     "output_type": "stream",
     "text": [
      "Train Loss: 0.430, Train Acc: 0.658\r"
     ]
    },
    {
     "name": "stderr",
     "output_type": "stream",
     "text": [
      "Epoch 1/1:  66%|██████▋   | 495/745 [3:32:56<1:49:26, 26.27s/it]"
     ]
    },
    {
     "name": "stdout",
     "output_type": "stream",
     "text": [
      "Train Loss: 0.431, Train Acc: 0.658\r"
     ]
    },
    {
     "name": "stderr",
     "output_type": "stream",
     "text": [
      "Epoch 1/1:  67%|██████▋   | 496/745 [3:33:22<1:48:36, 26.17s/it]"
     ]
    },
    {
     "name": "stdout",
     "output_type": "stream",
     "text": [
      "Train Loss: 0.431, Train Acc: 0.658\r"
     ]
    },
    {
     "name": "stderr",
     "output_type": "stream",
     "text": [
      "Epoch 1/1:  67%|██████▋   | 497/745 [3:33:48<1:48:07, 26.16s/it]"
     ]
    },
    {
     "name": "stdout",
     "output_type": "stream",
     "text": [
      "Train Loss: 0.432, Train Acc: 0.658\r"
     ]
    },
    {
     "name": "stderr",
     "output_type": "stream",
     "text": [
      "Epoch 1/1:  67%|██████▋   | 498/745 [3:34:15<1:48:18, 26.31s/it]"
     ]
    },
    {
     "name": "stdout",
     "output_type": "stream",
     "text": [
      "Train Loss: 0.433, Train Acc: 0.658\r"
     ]
    },
    {
     "name": "stderr",
     "output_type": "stream",
     "text": [
      "Epoch 1/1:  67%|██████▋   | 499/745 [3:34:41<1:47:23, 26.19s/it]"
     ]
    },
    {
     "name": "stdout",
     "output_type": "stream",
     "text": [
      "Train Loss: 0.434, Train Acc: 0.658\r"
     ]
    },
    {
     "name": "stderr",
     "output_type": "stream",
     "text": [
      "Epoch 1/1:  67%|██████▋   | 500/745 [3:35:07<1:46:40, 26.12s/it]"
     ]
    },
    {
     "name": "stdout",
     "output_type": "stream",
     "text": [
      "Train Loss: 0.435, Train Acc: 0.658\r"
     ]
    },
    {
     "name": "stderr",
     "output_type": "stream",
     "text": [
      "Epoch 1/1:  67%|██████▋   | 501/745 [3:35:33<1:45:54, 26.04s/it]"
     ]
    },
    {
     "name": "stdout",
     "output_type": "stream",
     "text": [
      "Train Loss: 0.436, Train Acc: 0.658\r"
     ]
    },
    {
     "name": "stderr",
     "output_type": "stream",
     "text": [
      "Epoch 1/1:  67%|██████▋   | 502/745 [3:36:00<1:46:59, 26.42s/it]"
     ]
    },
    {
     "name": "stdout",
     "output_type": "stream",
     "text": [
      "Train Loss: 0.436, Train Acc: 0.658\r"
     ]
    },
    {
     "name": "stderr",
     "output_type": "stream",
     "text": [
      "Epoch 1/1:  68%|██████▊   | 503/745 [3:36:26<1:45:53, 26.26s/it]"
     ]
    },
    {
     "name": "stdout",
     "output_type": "stream",
     "text": [
      "Train Loss: 0.437, Train Acc: 0.658\r"
     ]
    },
    {
     "name": "stderr",
     "output_type": "stream",
     "text": [
      "Epoch 1/1:  68%|██████▊   | 504/745 [3:36:52<1:45:16, 26.21s/it]"
     ]
    },
    {
     "name": "stdout",
     "output_type": "stream",
     "text": [
      "Train Loss: 0.438, Train Acc: 0.658\r"
     ]
    },
    {
     "name": "stderr",
     "output_type": "stream",
     "text": [
      "Epoch 1/1:  68%|██████▊   | 505/745 [3:37:19<1:45:48, 26.45s/it]"
     ]
    },
    {
     "name": "stdout",
     "output_type": "stream",
     "text": [
      "Train Loss: 0.439, Train Acc: 0.658\r"
     ]
    },
    {
     "name": "stderr",
     "output_type": "stream",
     "text": [
      "Epoch 1/1:  68%|██████▊   | 506/745 [3:37:45<1:44:42, 26.29s/it]"
     ]
    },
    {
     "name": "stdout",
     "output_type": "stream",
     "text": [
      "Train Loss: 0.440, Train Acc: 0.658\r"
     ]
    },
    {
     "name": "stderr",
     "output_type": "stream",
     "text": [
      "Epoch 1/1:  68%|██████▊   | 507/745 [3:38:11<1:43:56, 26.20s/it]"
     ]
    },
    {
     "name": "stdout",
     "output_type": "stream",
     "text": [
      "Train Loss: 0.441, Train Acc: 0.658\r"
     ]
    },
    {
     "name": "stderr",
     "output_type": "stream",
     "text": [
      "Epoch 1/1:  68%|██████▊   | 508/745 [3:38:37<1:43:17, 26.15s/it]"
     ]
    },
    {
     "name": "stdout",
     "output_type": "stream",
     "text": [
      "Train Loss: 0.441, Train Acc: 0.658\r"
     ]
    },
    {
     "name": "stderr",
     "output_type": "stream",
     "text": [
      "Epoch 1/1:  68%|██████▊   | 509/745 [3:39:04<1:43:56, 26.43s/it]"
     ]
    },
    {
     "name": "stdout",
     "output_type": "stream",
     "text": [
      "Train Loss: 0.442, Train Acc: 0.658\r"
     ]
    },
    {
     "name": "stderr",
     "output_type": "stream",
     "text": [
      "Epoch 1/1:  68%|██████▊   | 510/745 [3:39:30<1:42:59, 26.29s/it]"
     ]
    },
    {
     "name": "stdout",
     "output_type": "stream",
     "text": [
      "Train Loss: 0.443, Train Acc: 0.659\r"
     ]
    },
    {
     "name": "stderr",
     "output_type": "stream",
     "text": [
      "Epoch 1/1:  69%|██████▊   | 511/745 [3:39:56<1:42:19, 26.24s/it]"
     ]
    },
    {
     "name": "stdout",
     "output_type": "stream",
     "text": [
      "Train Loss: 0.444, Train Acc: 0.658\r"
     ]
    },
    {
     "name": "stderr",
     "output_type": "stream",
     "text": [
      "Epoch 1/1:  69%|██████▊   | 512/745 [3:40:22<1:41:48, 26.22s/it]"
     ]
    },
    {
     "name": "stdout",
     "output_type": "stream",
     "text": [
      "Train Loss: 0.445, Train Acc: 0.659\r"
     ]
    },
    {
     "name": "stderr",
     "output_type": "stream",
     "text": [
      "Epoch 1/1:  69%|██████▉   | 513/745 [3:40:49<1:42:41, 26.56s/it]"
     ]
    },
    {
     "name": "stdout",
     "output_type": "stream",
     "text": [
      "Train Loss: 0.446, Train Acc: 0.658\r"
     ]
    },
    {
     "name": "stderr",
     "output_type": "stream",
     "text": [
      "Epoch 1/1:  69%|██████▉   | 514/745 [3:41:16<1:42:02, 26.50s/it]"
     ]
    },
    {
     "name": "stdout",
     "output_type": "stream",
     "text": [
      "Train Loss: 0.447, Train Acc: 0.659\r"
     ]
    },
    {
     "name": "stderr",
     "output_type": "stream",
     "text": [
      "Epoch 1/1:  69%|██████▉   | 515/745 [3:41:42<1:40:52, 26.31s/it]"
     ]
    },
    {
     "name": "stdout",
     "output_type": "stream",
     "text": [
      "Train Loss: 0.447, Train Acc: 0.659\r"
     ]
    },
    {
     "name": "stderr",
     "output_type": "stream",
     "text": [
      "Epoch 1/1:  69%|██████▉   | 516/745 [3:42:09<1:41:43, 26.65s/it]"
     ]
    },
    {
     "name": "stdout",
     "output_type": "stream",
     "text": [
      "Train Loss: 0.448, Train Acc: 0.659\r"
     ]
    },
    {
     "name": "stderr",
     "output_type": "stream",
     "text": [
      "Epoch 1/1:  69%|██████▉   | 517/745 [3:42:35<1:40:40, 26.49s/it]"
     ]
    },
    {
     "name": "stdout",
     "output_type": "stream",
     "text": [
      "Train Loss: 0.449, Train Acc: 0.659\r"
     ]
    },
    {
     "name": "stderr",
     "output_type": "stream",
     "text": [
      "Epoch 1/1:  70%|██████▉   | 518/745 [3:43:01<1:39:52, 26.40s/it]"
     ]
    },
    {
     "name": "stdout",
     "output_type": "stream",
     "text": [
      "Train Loss: 0.450, Train Acc: 0.659\r"
     ]
    },
    {
     "name": "stderr",
     "output_type": "stream",
     "text": [
      "Epoch 1/1:  70%|██████▉   | 519/745 [3:43:28<1:40:03, 26.56s/it]"
     ]
    },
    {
     "name": "stdout",
     "output_type": "stream",
     "text": [
      "Train Loss: 0.451, Train Acc: 0.659\r"
     ]
    },
    {
     "name": "stderr",
     "output_type": "stream",
     "text": [
      "Epoch 1/1:  70%|██████▉   | 520/745 [3:43:55<1:39:41, 26.58s/it]"
     ]
    },
    {
     "name": "stdout",
     "output_type": "stream",
     "text": [
      "Train Loss: 0.451, Train Acc: 0.659\r"
     ]
    },
    {
     "name": "stderr",
     "output_type": "stream",
     "text": [
      "Epoch 1/1:  70%|██████▉   | 521/745 [3:44:21<1:38:52, 26.48s/it]"
     ]
    },
    {
     "name": "stdout",
     "output_type": "stream",
     "text": [
      "Train Loss: 0.452, Train Acc: 0.659\r"
     ]
    },
    {
     "name": "stderr",
     "output_type": "stream",
     "text": [
      "Epoch 1/1:  70%|███████   | 522/745 [3:44:47<1:38:04, 26.39s/it]"
     ]
    },
    {
     "name": "stdout",
     "output_type": "stream",
     "text": [
      "Train Loss: 0.453, Train Acc: 0.659\r"
     ]
    },
    {
     "name": "stderr",
     "output_type": "stream",
     "text": [
      "Epoch 1/1:  70%|███████   | 523/745 [3:45:15<1:38:45, 26.69s/it]"
     ]
    },
    {
     "name": "stdout",
     "output_type": "stream",
     "text": [
      "Train Loss: 0.454, Train Acc: 0.659\r"
     ]
    },
    {
     "name": "stderr",
     "output_type": "stream",
     "text": [
      "Epoch 1/1:  70%|███████   | 524/745 [3:45:41<1:37:49, 26.56s/it]"
     ]
    },
    {
     "name": "stdout",
     "output_type": "stream",
     "text": [
      "Train Loss: 0.455, Train Acc: 0.659\r"
     ]
    },
    {
     "name": "stderr",
     "output_type": "stream",
     "text": [
      "Epoch 1/1:  70%|███████   | 525/745 [3:46:08<1:37:14, 26.52s/it]"
     ]
    },
    {
     "name": "stdout",
     "output_type": "stream",
     "text": [
      "Train Loss: 0.456, Train Acc: 0.659\r"
     ]
    },
    {
     "name": "stderr",
     "output_type": "stream",
     "text": [
      "Epoch 1/1:  71%|███████   | 526/745 [3:46:35<1:37:42, 26.77s/it]"
     ]
    },
    {
     "name": "stdout",
     "output_type": "stream",
     "text": [
      "Train Loss: 0.456, Train Acc: 0.659\r"
     ]
    },
    {
     "name": "stderr",
     "output_type": "stream",
     "text": [
      "Epoch 1/1:  71%|███████   | 527/745 [3:47:01<1:36:44, 26.63s/it]"
     ]
    },
    {
     "name": "stdout",
     "output_type": "stream",
     "text": [
      "Train Loss: 0.457, Train Acc: 0.659\r"
     ]
    },
    {
     "name": "stderr",
     "output_type": "stream",
     "text": [
      "Epoch 1/1:  71%|███████   | 528/745 [3:47:28<1:36:43, 26.74s/it]"
     ]
    },
    {
     "name": "stdout",
     "output_type": "stream",
     "text": [
      "Train Loss: 0.458, Train Acc: 0.659\r"
     ]
    },
    {
     "name": "stderr",
     "output_type": "stream",
     "text": [
      "Epoch 1/1:  71%|███████   | 529/745 [3:47:56<1:37:19, 27.04s/it]"
     ]
    },
    {
     "name": "stdout",
     "output_type": "stream",
     "text": [
      "Train Loss: 0.459, Train Acc: 0.659\r"
     ]
    },
    {
     "name": "stderr",
     "output_type": "stream",
     "text": [
      "Epoch 1/1:  71%|███████   | 530/745 [3:48:22<1:36:05, 26.82s/it]"
     ]
    },
    {
     "name": "stdout",
     "output_type": "stream",
     "text": [
      "Train Loss: 0.460, Train Acc: 0.659\r"
     ]
    },
    {
     "name": "stderr",
     "output_type": "stream",
     "text": [
      "Epoch 1/1:  71%|███████▏  | 531/745 [3:48:48<1:35:02, 26.65s/it]"
     ]
    },
    {
     "name": "stdout",
     "output_type": "stream",
     "text": [
      "Train Loss: 0.461, Train Acc: 0.659\r"
     ]
    },
    {
     "name": "stderr",
     "output_type": "stream",
     "text": [
      "Epoch 1/1:  71%|███████▏  | 532/745 [3:49:16<1:35:34, 26.92s/it]"
     ]
    },
    {
     "name": "stdout",
     "output_type": "stream",
     "text": [
      "Train Loss: 0.462, Train Acc: 0.659\r"
     ]
    },
    {
     "name": "stderr",
     "output_type": "stream",
     "text": [
      "Epoch 1/1:  72%|███████▏  | 533/745 [3:49:42<1:34:36, 26.77s/it]"
     ]
    },
    {
     "name": "stdout",
     "output_type": "stream",
     "text": [
      "Train Loss: 0.463, Train Acc: 0.658\r"
     ]
    },
    {
     "name": "stderr",
     "output_type": "stream",
     "text": [
      "Epoch 1/1:  72%|███████▏  | 534/745 [3:50:09<1:33:49, 26.68s/it]"
     ]
    },
    {
     "name": "stdout",
     "output_type": "stream",
     "text": [
      "Train Loss: 0.464, Train Acc: 0.658\r"
     ]
    },
    {
     "name": "stderr",
     "output_type": "stream",
     "text": [
      "Epoch 1/1:  72%|███████▏  | 535/745 [3:50:36<1:33:50, 26.81s/it]"
     ]
    },
    {
     "name": "stdout",
     "output_type": "stream",
     "text": [
      "Train Loss: 0.465, Train Acc: 0.658\r"
     ]
    },
    {
     "name": "stderr",
     "output_type": "stream",
     "text": [
      "Epoch 1/1:  72%|███████▏  | 536/745 [3:51:03<1:33:34, 26.87s/it]"
     ]
    },
    {
     "name": "stdout",
     "output_type": "stream",
     "text": [
      "Train Loss: 0.466, Train Acc: 0.658\r"
     ]
    },
    {
     "name": "stderr",
     "output_type": "stream",
     "text": [
      "Epoch 1/1:  72%|███████▏  | 537/745 [3:51:30<1:32:49, 26.78s/it]"
     ]
    },
    {
     "name": "stdout",
     "output_type": "stream",
     "text": [
      "Train Loss: 0.467, Train Acc: 0.658\r"
     ]
    },
    {
     "name": "stderr",
     "output_type": "stream",
     "text": [
      "Epoch 1/1:  72%|███████▏  | 538/745 [3:51:56<1:32:18, 26.76s/it]"
     ]
    },
    {
     "name": "stdout",
     "output_type": "stream",
     "text": [
      "Train Loss: 0.467, Train Acc: 0.658\r"
     ]
    },
    {
     "name": "stderr",
     "output_type": "stream",
     "text": [
      "Epoch 1/1:  72%|███████▏  | 539/745 [3:52:24<1:32:32, 26.96s/it]"
     ]
    },
    {
     "name": "stdout",
     "output_type": "stream",
     "text": [
      "Train Loss: 0.468, Train Acc: 0.658\r"
     ]
    },
    {
     "name": "stderr",
     "output_type": "stream",
     "text": [
      "Epoch 1/1:  72%|███████▏  | 540/745 [3:52:50<1:31:48, 26.87s/it]"
     ]
    },
    {
     "name": "stdout",
     "output_type": "stream",
     "text": [
      "Train Loss: 0.469, Train Acc: 0.658\r"
     ]
    },
    {
     "name": "stderr",
     "output_type": "stream",
     "text": [
      "Epoch 1/1:  73%|███████▎  | 541/745 [3:53:18<1:31:48, 27.00s/it]"
     ]
    },
    {
     "name": "stdout",
     "output_type": "stream",
     "text": [
      "Train Loss: 0.470, Train Acc: 0.658\r"
     ]
    },
    {
     "name": "stderr",
     "output_type": "stream",
     "text": [
      "Epoch 1/1:  73%|███████▎  | 542/745 [3:53:45<1:31:20, 27.00s/it]"
     ]
    },
    {
     "name": "stdout",
     "output_type": "stream",
     "text": [
      "Train Loss: 0.471, Train Acc: 0.658\r"
     ]
    },
    {
     "name": "stderr",
     "output_type": "stream",
     "text": [
      "Epoch 1/1:  73%|███████▎  | 543/745 [3:54:11<1:29:57, 26.72s/it]"
     ]
    },
    {
     "name": "stdout",
     "output_type": "stream",
     "text": [
      "Train Loss: 0.472, Train Acc: 0.658\r"
     ]
    },
    {
     "name": "stderr",
     "output_type": "stream",
     "text": [
      "Epoch 1/1:  73%|███████▎  | 544/745 [3:54:38<1:30:26, 27.00s/it]"
     ]
    },
    {
     "name": "stdout",
     "output_type": "stream",
     "text": [
      "Train Loss: 0.473, Train Acc: 0.658\r"
     ]
    },
    {
     "name": "stderr",
     "output_type": "stream",
     "text": [
      "Epoch 1/1:  73%|███████▎  | 545/745 [3:55:05<1:29:47, 26.94s/it]"
     ]
    },
    {
     "name": "stdout",
     "output_type": "stream",
     "text": [
      "Train Loss: 0.474, Train Acc: 0.658\r"
     ]
    },
    {
     "name": "stderr",
     "output_type": "stream",
     "text": [
      "Epoch 1/1:  73%|███████▎  | 546/745 [3:55:32<1:28:58, 26.83s/it]"
     ]
    },
    {
     "name": "stdout",
     "output_type": "stream",
     "text": [
      "Train Loss: 0.474, Train Acc: 0.659\r"
     ]
    },
    {
     "name": "stderr",
     "output_type": "stream",
     "text": [
      "Epoch 1/1:  73%|███████▎  | 547/745 [3:56:00<1:29:28, 27.11s/it]"
     ]
    },
    {
     "name": "stdout",
     "output_type": "stream",
     "text": [
      "Train Loss: 0.475, Train Acc: 0.658\r"
     ]
    },
    {
     "name": "stderr",
     "output_type": "stream",
     "text": [
      "Epoch 1/1:  74%|███████▎  | 548/745 [3:56:26<1:28:15, 26.88s/it]"
     ]
    },
    {
     "name": "stdout",
     "output_type": "stream",
     "text": [
      "Train Loss: 0.476, Train Acc: 0.658\r"
     ]
    },
    {
     "name": "stderr",
     "output_type": "stream",
     "text": [
      "Epoch 1/1:  74%|███████▎  | 549/745 [3:56:52<1:27:21, 26.74s/it]"
     ]
    },
    {
     "name": "stdout",
     "output_type": "stream",
     "text": [
      "Train Loss: 0.477, Train Acc: 0.658\r"
     ]
    },
    {
     "name": "stderr",
     "output_type": "stream",
     "text": [
      "Epoch 1/1:  74%|███████▍  | 550/745 [3:57:20<1:27:21, 26.88s/it]"
     ]
    },
    {
     "name": "stdout",
     "output_type": "stream",
     "text": [
      "Train Loss: 0.478, Train Acc: 0.659\r"
     ]
    },
    {
     "name": "stderr",
     "output_type": "stream",
     "text": [
      "Epoch 1/1:  74%|███████▍  | 551/745 [3:57:46<1:26:33, 26.77s/it]"
     ]
    },
    {
     "name": "stdout",
     "output_type": "stream",
     "text": [
      "Train Loss: 0.479, Train Acc: 0.658\r"
     ]
    },
    {
     "name": "stderr",
     "output_type": "stream",
     "text": [
      "Epoch 1/1:  74%|███████▍  | 552/745 [3:58:13<1:25:54, 26.71s/it]"
     ]
    },
    {
     "name": "stdout",
     "output_type": "stream",
     "text": [
      "Train Loss: 0.479, Train Acc: 0.659\r"
     ]
    },
    {
     "name": "stderr",
     "output_type": "stream",
     "text": [
      "Epoch 1/1:  74%|███████▍  | 553/745 [3:58:41<1:26:39, 27.08s/it]"
     ]
    },
    {
     "name": "stdout",
     "output_type": "stream",
     "text": [
      "Train Loss: 0.480, Train Acc: 0.659\r"
     ]
    },
    {
     "name": "stderr",
     "output_type": "stream",
     "text": [
      "Epoch 1/1:  74%|███████▍  | 554/745 [3:59:07<1:25:42, 26.93s/it]"
     ]
    },
    {
     "name": "stdout",
     "output_type": "stream",
     "text": [
      "Train Loss: 0.481, Train Acc: 0.659\r"
     ]
    },
    {
     "name": "stderr",
     "output_type": "stream",
     "text": [
      "Epoch 1/1:  74%|███████▍  | 555/745 [3:59:34<1:25:04, 26.86s/it]"
     ]
    },
    {
     "name": "stdout",
     "output_type": "stream",
     "text": [
      "Train Loss: 0.482, Train Acc: 0.658\r"
     ]
    },
    {
     "name": "stderr",
     "output_type": "stream",
     "text": [
      "Epoch 1/1:  75%|███████▍  | 556/745 [4:00:02<1:25:58, 27.29s/it]"
     ]
    },
    {
     "name": "stdout",
     "output_type": "stream",
     "text": [
      "Train Loss: 0.483, Train Acc: 0.658\r"
     ]
    },
    {
     "name": "stderr",
     "output_type": "stream",
     "text": [
      "Epoch 1/1:  75%|███████▍  | 557/745 [4:00:29<1:24:50, 27.08s/it]"
     ]
    },
    {
     "name": "stdout",
     "output_type": "stream",
     "text": [
      "Train Loss: 0.484, Train Acc: 0.659\r"
     ]
    },
    {
     "name": "stderr",
     "output_type": "stream",
     "text": [
      "Epoch 1/1:  75%|███████▍  | 558/745 [4:00:56<1:25:02, 27.29s/it]"
     ]
    },
    {
     "name": "stdout",
     "output_type": "stream",
     "text": [
      "Train Loss: 0.485, Train Acc: 0.659\r"
     ]
    },
    {
     "name": "stderr",
     "output_type": "stream",
     "text": [
      "Epoch 1/1:  75%|███████▌  | 559/745 [4:01:24<1:24:24, 27.23s/it]"
     ]
    },
    {
     "name": "stdout",
     "output_type": "stream",
     "text": [
      "Train Loss: 0.485, Train Acc: 0.659\r"
     ]
    },
    {
     "name": "stderr",
     "output_type": "stream",
     "text": [
      "Epoch 1/1:  75%|███████▌  | 560/745 [4:01:50<1:23:27, 27.07s/it]"
     ]
    },
    {
     "name": "stdout",
     "output_type": "stream",
     "text": [
      "Train Loss: 0.486, Train Acc: 0.659\r"
     ]
    },
    {
     "name": "stderr",
     "output_type": "stream",
     "text": [
      "Epoch 1/1:  75%|███████▌  | 561/745 [4:02:18<1:23:44, 27.31s/it]"
     ]
    },
    {
     "name": "stdout",
     "output_type": "stream",
     "text": [
      "Train Loss: 0.487, Train Acc: 0.659\r"
     ]
    },
    {
     "name": "stderr",
     "output_type": "stream",
     "text": [
      "Epoch 1/1:  75%|███████▌  | 562/745 [4:02:46<1:23:43, 27.45s/it]"
     ]
    },
    {
     "name": "stdout",
     "output_type": "stream",
     "text": [
      "Train Loss: 0.488, Train Acc: 0.658\r"
     ]
    },
    {
     "name": "stderr",
     "output_type": "stream",
     "text": [
      "Epoch 1/1:  76%|███████▌  | 563/745 [4:03:12<1:22:24, 27.17s/it]"
     ]
    },
    {
     "name": "stdout",
     "output_type": "stream",
     "text": [
      "Train Loss: 0.489, Train Acc: 0.658\r"
     ]
    },
    {
     "name": "stderr",
     "output_type": "stream",
     "text": [
      "Epoch 1/1:  76%|███████▌  | 564/745 [4:03:41<1:23:01, 27.52s/it]"
     ]
    },
    {
     "name": "stdout",
     "output_type": "stream",
     "text": [
      "Train Loss: 0.490, Train Acc: 0.658\r"
     ]
    },
    {
     "name": "stderr",
     "output_type": "stream",
     "text": [
      "Epoch 1/1:  76%|███████▌  | 565/745 [4:04:07<1:21:44, 27.25s/it]"
     ]
    },
    {
     "name": "stdout",
     "output_type": "stream",
     "text": [
      "Train Loss: 0.491, Train Acc: 0.659\r"
     ]
    },
    {
     "name": "stderr",
     "output_type": "stream",
     "text": [
      "Epoch 1/1:  76%|███████▌  | 566/745 [4:04:35<1:22:00, 27.49s/it]"
     ]
    },
    {
     "name": "stdout",
     "output_type": "stream",
     "text": [
      "Train Loss: 0.492, Train Acc: 0.659\r"
     ]
    },
    {
     "name": "stderr",
     "output_type": "stream",
     "text": [
      "Epoch 1/1:  76%|███████▌  | 567/745 [4:05:02<1:21:03, 27.32s/it]"
     ]
    },
    {
     "name": "stdout",
     "output_type": "stream",
     "text": [
      "Train Loss: 0.493, Train Acc: 0.658\r"
     ]
    },
    {
     "name": "stderr",
     "output_type": "stream",
     "text": [
      "Epoch 1/1:  76%|███████▌  | 568/745 [4:05:29<1:20:22, 27.24s/it]"
     ]
    },
    {
     "name": "stdout",
     "output_type": "stream",
     "text": [
      "Train Loss: 0.494, Train Acc: 0.658\r"
     ]
    },
    {
     "name": "stderr",
     "output_type": "stream",
     "text": [
      "Epoch 1/1:  76%|███████▋  | 569/745 [4:05:58<1:20:44, 27.53s/it]"
     ]
    },
    {
     "name": "stdout",
     "output_type": "stream",
     "text": [
      "Train Loss: 0.494, Train Acc: 0.658\r"
     ]
    },
    {
     "name": "stderr",
     "output_type": "stream",
     "text": [
      "Epoch 1/1:  77%|███████▋  | 570/745 [4:06:24<1:19:09, 27.14s/it]"
     ]
    },
    {
     "name": "stdout",
     "output_type": "stream",
     "text": [
      "Train Loss: 0.495, Train Acc: 0.658\r"
     ]
    },
    {
     "name": "stderr",
     "output_type": "stream",
     "text": [
      "Epoch 1/1:  77%|███████▋  | 571/745 [4:06:51<1:18:29, 27.07s/it]"
     ]
    },
    {
     "name": "stdout",
     "output_type": "stream",
     "text": [
      "Train Loss: 0.496, Train Acc: 0.658\r"
     ]
    },
    {
     "name": "stderr",
     "output_type": "stream",
     "text": [
      "Epoch 1/1:  77%|███████▋  | 572/745 [4:07:18<1:18:36, 27.26s/it]"
     ]
    },
    {
     "name": "stdout",
     "output_type": "stream",
     "text": [
      "Train Loss: 0.497, Train Acc: 0.658\r"
     ]
    },
    {
     "name": "stderr",
     "output_type": "stream",
     "text": [
      "Epoch 1/1:  77%|███████▋  | 573/745 [4:07:45<1:17:36, 27.07s/it]"
     ]
    },
    {
     "name": "stdout",
     "output_type": "stream",
     "text": [
      "Train Loss: 0.498, Train Acc: 0.658\r"
     ]
    },
    {
     "name": "stderr",
     "output_type": "stream",
     "text": [
      "Epoch 1/1:  77%|███████▋  | 574/745 [4:08:13<1:17:59, 27.36s/it]"
     ]
    },
    {
     "name": "stdout",
     "output_type": "stream",
     "text": [
      "Train Loss: 0.499, Train Acc: 0.658\r"
     ]
    },
    {
     "name": "stderr",
     "output_type": "stream",
     "text": [
      "Epoch 1/1:  77%|███████▋  | 575/745 [4:08:41<1:18:11, 27.60s/it]"
     ]
    },
    {
     "name": "stdout",
     "output_type": "stream",
     "text": [
      "Train Loss: 0.500, Train Acc: 0.658\r"
     ]
    },
    {
     "name": "stderr",
     "output_type": "stream",
     "text": [
      "Epoch 1/1:  77%|███████▋  | 576/745 [4:09:08<1:16:56, 27.32s/it]"
     ]
    },
    {
     "name": "stdout",
     "output_type": "stream",
     "text": [
      "Train Loss: 0.501, Train Acc: 0.658\r"
     ]
    },
    {
     "name": "stderr",
     "output_type": "stream",
     "text": [
      "Epoch 1/1:  77%|███████▋  | 577/745 [4:09:35<1:16:04, 27.17s/it]"
     ]
    },
    {
     "name": "stdout",
     "output_type": "stream",
     "text": [
      "Train Loss: 0.502, Train Acc: 0.658\r"
     ]
    },
    {
     "name": "stderr",
     "output_type": "stream",
     "text": [
      "Epoch 1/1:  78%|███████▊  | 578/745 [4:10:03<1:16:26, 27.46s/it]"
     ]
    },
    {
     "name": "stdout",
     "output_type": "stream",
     "text": [
      "Train Loss: 0.502, Train Acc: 0.658\r"
     ]
    },
    {
     "name": "stderr",
     "output_type": "stream",
     "text": [
      "Epoch 1/1:  78%|███████▊  | 579/745 [4:10:30<1:15:26, 27.27s/it]"
     ]
    },
    {
     "name": "stdout",
     "output_type": "stream",
     "text": [
      "Train Loss: 0.503, Train Acc: 0.658\r"
     ]
    },
    {
     "name": "stderr",
     "output_type": "stream",
     "text": [
      "Epoch 1/1:  78%|███████▊  | 580/745 [4:10:57<1:15:05, 27.30s/it]"
     ]
    },
    {
     "name": "stdout",
     "output_type": "stream",
     "text": [
      "Train Loss: 0.504, Train Acc: 0.658\r"
     ]
    },
    {
     "name": "stderr",
     "output_type": "stream",
     "text": [
      "Epoch 1/1:  78%|███████▊  | 581/745 [4:11:25<1:14:45, 27.35s/it]"
     ]
    },
    {
     "name": "stdout",
     "output_type": "stream",
     "text": [
      "Train Loss: 0.505, Train Acc: 0.658\r"
     ]
    },
    {
     "name": "stderr",
     "output_type": "stream",
     "text": [
      "Epoch 1/1:  78%|███████▊  | 582/745 [4:11:51<1:13:44, 27.15s/it]"
     ]
    },
    {
     "name": "stdout",
     "output_type": "stream",
     "text": [
      "Train Loss: 0.506, Train Acc: 0.658\r"
     ]
    },
    {
     "name": "stderr",
     "output_type": "stream",
     "text": [
      "Epoch 1/1:  78%|███████▊  | 583/745 [4:12:19<1:13:48, 27.34s/it]"
     ]
    },
    {
     "name": "stdout",
     "output_type": "stream",
     "text": [
      "Train Loss: 0.507, Train Acc: 0.658\r"
     ]
    },
    {
     "name": "stderr",
     "output_type": "stream",
     "text": [
      "Epoch 1/1:  78%|███████▊  | 584/745 [4:12:46<1:12:56, 27.19s/it]"
     ]
    },
    {
     "name": "stdout",
     "output_type": "stream",
     "text": [
      "Train Loss: 0.508, Train Acc: 0.658\r"
     ]
    },
    {
     "name": "stderr",
     "output_type": "stream",
     "text": [
      "Epoch 1/1:  79%|███████▊  | 585/745 [4:13:12<1:11:53, 26.96s/it]"
     ]
    },
    {
     "name": "stdout",
     "output_type": "stream",
     "text": [
      "Train Loss: 0.508, Train Acc: 0.658\r"
     ]
    },
    {
     "name": "stderr",
     "output_type": "stream",
     "text": [
      "Epoch 1/1:  79%|███████▊  | 586/745 [4:13:40<1:12:11, 27.24s/it]"
     ]
    },
    {
     "name": "stdout",
     "output_type": "stream",
     "text": [
      "Train Loss: 0.509, Train Acc: 0.657\r"
     ]
    },
    {
     "name": "stderr",
     "output_type": "stream",
     "text": [
      "Epoch 1/1:  79%|███████▉  | 587/745 [4:14:07<1:11:15, 27.06s/it]"
     ]
    },
    {
     "name": "stdout",
     "output_type": "stream",
     "text": [
      "Train Loss: 0.510, Train Acc: 0.658\r"
     ]
    },
    {
     "name": "stderr",
     "output_type": "stream",
     "text": [
      "Epoch 1/1:  79%|███████▉  | 588/745 [4:14:35<1:11:20, 27.26s/it]"
     ]
    },
    {
     "name": "stdout",
     "output_type": "stream",
     "text": [
      "Train Loss: 0.511, Train Acc: 0.658\r"
     ]
    },
    {
     "name": "stderr",
     "output_type": "stream",
     "text": [
      "Epoch 1/1:  79%|███████▉  | 589/745 [4:15:01<1:10:18, 27.04s/it]"
     ]
    },
    {
     "name": "stdout",
     "output_type": "stream",
     "text": [
      "Train Loss: 0.512, Train Acc: 0.657\r"
     ]
    },
    {
     "name": "stderr",
     "output_type": "stream",
     "text": [
      "Epoch 1/1:  79%|███████▉  | 590/745 [4:15:28<1:09:26, 26.88s/it]"
     ]
    },
    {
     "name": "stdout",
     "output_type": "stream",
     "text": [
      "Train Loss: 0.513, Train Acc: 0.658\r"
     ]
    },
    {
     "name": "stderr",
     "output_type": "stream",
     "text": [
      "Epoch 1/1:  79%|███████▉  | 591/745 [4:15:56<1:09:53, 27.23s/it]"
     ]
    },
    {
     "name": "stdout",
     "output_type": "stream",
     "text": [
      "Train Loss: 0.514, Train Acc: 0.658\r"
     ]
    },
    {
     "name": "stderr",
     "output_type": "stream",
     "text": [
      "Epoch 1/1:  79%|███████▉  | 592/745 [4:16:22<1:08:54, 27.02s/it]"
     ]
    },
    {
     "name": "stdout",
     "output_type": "stream",
     "text": [
      "Train Loss: 0.515, Train Acc: 0.658\r"
     ]
    },
    {
     "name": "stderr",
     "output_type": "stream",
     "text": [
      "Epoch 1/1:  80%|███████▉  | 593/745 [4:16:50<1:08:50, 27.18s/it]"
     ]
    },
    {
     "name": "stdout",
     "output_type": "stream",
     "text": [
      "Train Loss: 0.516, Train Acc: 0.657\r"
     ]
    },
    {
     "name": "stderr",
     "output_type": "stream",
     "text": [
      "Epoch 1/1:  80%|███████▉  | 594/745 [4:17:17<1:08:14, 27.12s/it]"
     ]
    },
    {
     "name": "stdout",
     "output_type": "stream",
     "text": [
      "Train Loss: 0.516, Train Acc: 0.658\r"
     ]
    },
    {
     "name": "stderr",
     "output_type": "stream",
     "text": [
      "Epoch 1/1:  80%|███████▉  | 595/745 [4:17:43<1:07:28, 26.99s/it]"
     ]
    },
    {
     "name": "stdout",
     "output_type": "stream",
     "text": [
      "Train Loss: 0.517, Train Acc: 0.658\r"
     ]
    },
    {
     "name": "stderr",
     "output_type": "stream",
     "text": [
      "Epoch 1/1:  80%|████████  | 596/745 [4:18:12<1:08:15, 27.49s/it]"
     ]
    },
    {
     "name": "stdout",
     "output_type": "stream",
     "text": [
      "Train Loss: 0.518, Train Acc: 0.658\r"
     ]
    },
    {
     "name": "stderr",
     "output_type": "stream",
     "text": [
      "Epoch 1/1:  80%|████████  | 597/745 [4:18:42<1:09:32, 28.19s/it]"
     ]
    },
    {
     "name": "stdout",
     "output_type": "stream",
     "text": [
      "Train Loss: 0.519, Train Acc: 0.658\r"
     ]
    },
    {
     "name": "stderr",
     "output_type": "stream",
     "text": [
      "Epoch 1/1:  80%|████████  | 598/745 [4:19:14<1:11:39, 29.25s/it]"
     ]
    },
    {
     "name": "stdout",
     "output_type": "stream",
     "text": [
      "Train Loss: 0.520, Train Acc: 0.658\r"
     ]
    },
    {
     "name": "stderr",
     "output_type": "stream",
     "text": [
      "Epoch 1/1:  80%|████████  | 599/745 [4:19:45<1:12:55, 29.97s/it]"
     ]
    },
    {
     "name": "stdout",
     "output_type": "stream",
     "text": [
      "Train Loss: 0.521, Train Acc: 0.658\r"
     ]
    },
    {
     "name": "stderr",
     "output_type": "stream",
     "text": [
      "Epoch 1/1:  81%|████████  | 600/745 [4:20:21<1:16:56, 31.84s/it]"
     ]
    },
    {
     "name": "stdout",
     "output_type": "stream",
     "text": [
      "Train Loss: 0.521, Train Acc: 0.658\r"
     ]
    },
    {
     "name": "stderr",
     "output_type": "stream",
     "text": [
      "Epoch 1/1:  81%|████████  | 601/745 [4:20:47<1:11:58, 29.99s/it]"
     ]
    },
    {
     "name": "stdout",
     "output_type": "stream",
     "text": [
      "Train Loss: 0.522, Train Acc: 0.658\r"
     ]
    },
    {
     "name": "stderr",
     "output_type": "stream",
     "text": [
      "Epoch 1/1:  81%|████████  | 602/745 [4:21:12<1:07:38, 28.38s/it]"
     ]
    },
    {
     "name": "stdout",
     "output_type": "stream",
     "text": [
      "Train Loss: 0.523, Train Acc: 0.658\r"
     ]
    },
    {
     "name": "stderr",
     "output_type": "stream",
     "text": [
      "Epoch 1/1:  81%|████████  | 603/745 [4:21:37<1:04:43, 27.35s/it]"
     ]
    },
    {
     "name": "stdout",
     "output_type": "stream",
     "text": [
      "Train Loss: 0.524, Train Acc: 0.658\r"
     ]
    },
    {
     "name": "stderr",
     "output_type": "stream",
     "text": [
      "Epoch 1/1:  81%|████████  | 604/745 [4:22:01<1:01:53, 26.34s/it]"
     ]
    },
    {
     "name": "stdout",
     "output_type": "stream",
     "text": [
      "Train Loss: 0.525, Train Acc: 0.658\r"
     ]
    },
    {
     "name": "stderr",
     "output_type": "stream",
     "text": [
      "Epoch 1/1:  81%|████████  | 605/745 [4:22:25<59:49, 25.64s/it]  "
     ]
    },
    {
     "name": "stdout",
     "output_type": "stream",
     "text": [
      "Train Loss: 0.526, Train Acc: 0.658\r"
     ]
    },
    {
     "name": "stderr",
     "output_type": "stream",
     "text": [
      "Epoch 1/1:  81%|████████▏ | 606/745 [4:22:49<58:16, 25.16s/it]"
     ]
    },
    {
     "name": "stdout",
     "output_type": "stream",
     "text": [
      "Train Loss: 0.526, Train Acc: 0.658\r"
     ]
    },
    {
     "name": "stderr",
     "output_type": "stream",
     "text": [
      "Epoch 1/1:  81%|████████▏ | 607/745 [4:23:13<57:05, 24.82s/it]"
     ]
    },
    {
     "name": "stdout",
     "output_type": "stream",
     "text": [
      "Train Loss: 0.527, Train Acc: 0.659\r"
     ]
    },
    {
     "name": "stderr",
     "output_type": "stream",
     "text": [
      "Epoch 1/1:  82%|████████▏ | 608/745 [4:23:37<55:59, 24.52s/it]"
     ]
    },
    {
     "name": "stdout",
     "output_type": "stream",
     "text": [
      "Train Loss: 0.528, Train Acc: 0.659\r"
     ]
    },
    {
     "name": "stderr",
     "output_type": "stream",
     "text": [
      "Epoch 1/1:  82%|████████▏ | 609/745 [4:24:00<55:06, 24.31s/it]"
     ]
    },
    {
     "name": "stdout",
     "output_type": "stream",
     "text": [
      "Train Loss: 0.529, Train Acc: 0.659\r"
     ]
    },
    {
     "name": "stderr",
     "output_type": "stream",
     "text": [
      "Epoch 1/1:  82%|████████▏ | 610/745 [4:24:24<54:25, 24.19s/it]"
     ]
    },
    {
     "name": "stdout",
     "output_type": "stream",
     "text": [
      "Train Loss: 0.530, Train Acc: 0.659\r"
     ]
    },
    {
     "name": "stderr",
     "output_type": "stream",
     "text": [
      "Epoch 1/1:  82%|████████▏ | 611/745 [4:24:48<53:49, 24.10s/it]"
     ]
    },
    {
     "name": "stdout",
     "output_type": "stream",
     "text": [
      "Train Loss: 0.531, Train Acc: 0.659\r"
     ]
    },
    {
     "name": "stderr",
     "output_type": "stream",
     "text": [
      "Epoch 1/1:  82%|████████▏ | 612/745 [4:25:12<53:16, 24.04s/it]"
     ]
    },
    {
     "name": "stdout",
     "output_type": "stream",
     "text": [
      "Train Loss: 0.531, Train Acc: 0.658\r"
     ]
    },
    {
     "name": "stderr",
     "output_type": "stream",
     "text": [
      "Epoch 1/1:  82%|████████▏ | 613/745 [4:25:36<52:39, 23.93s/it]"
     ]
    },
    {
     "name": "stdout",
     "output_type": "stream",
     "text": [
      "Train Loss: 0.532, Train Acc: 0.658\r"
     ]
    },
    {
     "name": "stderr",
     "output_type": "stream",
     "text": [
      "Epoch 1/1:  82%|████████▏ | 614/745 [4:26:00<52:15, 23.94s/it]"
     ]
    },
    {
     "name": "stdout",
     "output_type": "stream",
     "text": [
      "Train Loss: 0.533, Train Acc: 0.659\r"
     ]
    },
    {
     "name": "stderr",
     "output_type": "stream",
     "text": [
      "Epoch 1/1:  83%|████████▎ | 615/745 [4:26:24<52:03, 24.03s/it]"
     ]
    },
    {
     "name": "stdout",
     "output_type": "stream",
     "text": [
      "Train Loss: 0.534, Train Acc: 0.659\r"
     ]
    },
    {
     "name": "stderr",
     "output_type": "stream",
     "text": [
      "Epoch 1/1:  83%|████████▎ | 616/745 [4:26:48<51:38, 24.02s/it]"
     ]
    },
    {
     "name": "stdout",
     "output_type": "stream",
     "text": [
      "Train Loss: 0.535, Train Acc: 0.659\r"
     ]
    },
    {
     "name": "stderr",
     "output_type": "stream",
     "text": [
      "Epoch 1/1:  83%|████████▎ | 617/745 [4:27:12<51:04, 23.94s/it]"
     ]
    },
    {
     "name": "stdout",
     "output_type": "stream",
     "text": [
      "Train Loss: 0.536, Train Acc: 0.659\r"
     ]
    },
    {
     "name": "stderr",
     "output_type": "stream",
     "text": [
      "Epoch 1/1:  83%|████████▎ | 618/745 [4:27:36<50:35, 23.90s/it]"
     ]
    },
    {
     "name": "stdout",
     "output_type": "stream",
     "text": [
      "Train Loss: 0.537, Train Acc: 0.658\r"
     ]
    },
    {
     "name": "stderr",
     "output_type": "stream",
     "text": [
      "Epoch 1/1:  83%|████████▎ | 619/745 [4:28:01<50:55, 24.25s/it]"
     ]
    },
    {
     "name": "stdout",
     "output_type": "stream",
     "text": [
      "Train Loss: 0.538, Train Acc: 0.658\r"
     ]
    },
    {
     "name": "stderr",
     "output_type": "stream",
     "text": [
      "Epoch 1/1:  83%|████████▎ | 620/745 [4:28:25<50:26, 24.21s/it]"
     ]
    },
    {
     "name": "stdout",
     "output_type": "stream",
     "text": [
      "Train Loss: 0.538, Train Acc: 0.658\r"
     ]
    },
    {
     "name": "stderr",
     "output_type": "stream",
     "text": [
      "Epoch 1/1:  83%|████████▎ | 621/745 [4:28:49<49:54, 24.15s/it]"
     ]
    },
    {
     "name": "stdout",
     "output_type": "stream",
     "text": [
      "Train Loss: 0.539, Train Acc: 0.659\r"
     ]
    },
    {
     "name": "stderr",
     "output_type": "stream",
     "text": [
      "Epoch 1/1:  83%|████████▎ | 622/745 [4:29:13<49:22, 24.08s/it]"
     ]
    },
    {
     "name": "stdout",
     "output_type": "stream",
     "text": [
      "Train Loss: 0.540, Train Acc: 0.659\r"
     ]
    },
    {
     "name": "stderr",
     "output_type": "stream",
     "text": [
      "Epoch 1/1:  84%|████████▎ | 623/745 [4:29:36<48:42, 23.95s/it]"
     ]
    },
    {
     "name": "stdout",
     "output_type": "stream",
     "text": [
      "Train Loss: 0.541, Train Acc: 0.659\r"
     ]
    },
    {
     "name": "stderr",
     "output_type": "stream",
     "text": [
      "Epoch 1/1:  84%|████████▍ | 624/745 [4:30:00<48:18, 23.95s/it]"
     ]
    },
    {
     "name": "stdout",
     "output_type": "stream",
     "text": [
      "Train Loss: 0.542, Train Acc: 0.659\r"
     ]
    },
    {
     "name": "stderr",
     "output_type": "stream",
     "text": [
      "Epoch 1/1:  84%|████████▍ | 625/745 [4:30:24<47:59, 23.99s/it]"
     ]
    },
    {
     "name": "stdout",
     "output_type": "stream",
     "text": [
      "Train Loss: 0.542, Train Acc: 0.659\r"
     ]
    },
    {
     "name": "stderr",
     "output_type": "stream",
     "text": [
      "Epoch 1/1:  84%|████████▍ | 626/745 [4:30:48<47:27, 23.93s/it]"
     ]
    },
    {
     "name": "stdout",
     "output_type": "stream",
     "text": [
      "Train Loss: 0.543, Train Acc: 0.659\r"
     ]
    },
    {
     "name": "stderr",
     "output_type": "stream",
     "text": [
      "Epoch 1/1:  84%|████████▍ | 627/745 [4:31:12<47:02, 23.92s/it]"
     ]
    },
    {
     "name": "stdout",
     "output_type": "stream",
     "text": [
      "Train Loss: 0.544, Train Acc: 0.659\r"
     ]
    },
    {
     "name": "stderr",
     "output_type": "stream",
     "text": [
      "Epoch 1/1:  84%|████████▍ | 628/745 [4:31:36<46:36, 23.90s/it]"
     ]
    },
    {
     "name": "stdout",
     "output_type": "stream",
     "text": [
      "Train Loss: 0.545, Train Acc: 0.659\r"
     ]
    },
    {
     "name": "stderr",
     "output_type": "stream",
     "text": [
      "Epoch 1/1:  84%|████████▍ | 629/745 [4:32:00<46:09, 23.87s/it]"
     ]
    },
    {
     "name": "stdout",
     "output_type": "stream",
     "text": [
      "Train Loss: 0.546, Train Acc: 0.659\r"
     ]
    },
    {
     "name": "stderr",
     "output_type": "stream",
     "text": [
      "Epoch 1/1:  85%|████████▍ | 630/745 [4:32:24<45:44, 23.87s/it]"
     ]
    },
    {
     "name": "stdout",
     "output_type": "stream",
     "text": [
      "Train Loss: 0.546, Train Acc: 0.659\r"
     ]
    },
    {
     "name": "stderr",
     "output_type": "stream",
     "text": [
      "Epoch 1/1:  85%|████████▍ | 631/745 [4:32:48<45:26, 23.92s/it]"
     ]
    },
    {
     "name": "stdout",
     "output_type": "stream",
     "text": [
      "Train Loss: 0.547, Train Acc: 0.659\r"
     ]
    },
    {
     "name": "stderr",
     "output_type": "stream",
     "text": [
      "Epoch 1/1:  85%|████████▍ | 632/745 [4:33:12<45:11, 23.99s/it]"
     ]
    },
    {
     "name": "stdout",
     "output_type": "stream",
     "text": [
      "Train Loss: 0.548, Train Acc: 0.659\r"
     ]
    },
    {
     "name": "stderr",
     "output_type": "stream",
     "text": [
      "Epoch 1/1:  85%|████████▍ | 633/745 [4:33:36<44:51, 24.03s/it]"
     ]
    },
    {
     "name": "stdout",
     "output_type": "stream",
     "text": [
      "Train Loss: 0.549, Train Acc: 0.659\r"
     ]
    },
    {
     "name": "stderr",
     "output_type": "stream",
     "text": [
      "Epoch 1/1:  85%|████████▌ | 634/745 [4:34:00<44:25, 24.02s/it]"
     ]
    },
    {
     "name": "stdout",
     "output_type": "stream",
     "text": [
      "Train Loss: 0.550, Train Acc: 0.659\r"
     ]
    },
    {
     "name": "stderr",
     "output_type": "stream",
     "text": [
      "Epoch 1/1:  85%|████████▌ | 635/745 [4:34:24<44:00, 24.00s/it]"
     ]
    },
    {
     "name": "stdout",
     "output_type": "stream",
     "text": [
      "Train Loss: 0.551, Train Acc: 0.659\r"
     ]
    },
    {
     "name": "stderr",
     "output_type": "stream",
     "text": [
      "Epoch 1/1:  85%|████████▌ | 636/745 [4:34:48<43:28, 23.93s/it]"
     ]
    },
    {
     "name": "stdout",
     "output_type": "stream",
     "text": [
      "Train Loss: 0.552, Train Acc: 0.659\r"
     ]
    },
    {
     "name": "stderr",
     "output_type": "stream",
     "text": [
      "Epoch 1/1:  86%|████████▌ | 637/745 [4:35:12<43:07, 23.96s/it]"
     ]
    },
    {
     "name": "stdout",
     "output_type": "stream",
     "text": [
      "Train Loss: 0.553, Train Acc: 0.659\r"
     ]
    },
    {
     "name": "stderr",
     "output_type": "stream",
     "text": [
      "Epoch 1/1:  86%|████████▌ | 638/745 [4:35:35<42:37, 23.90s/it]"
     ]
    },
    {
     "name": "stdout",
     "output_type": "stream",
     "text": [
      "Train Loss: 0.554, Train Acc: 0.659\r"
     ]
    },
    {
     "name": "stderr",
     "output_type": "stream",
     "text": [
      "Epoch 1/1:  86%|████████▌ | 639/745 [4:35:59<42:13, 23.90s/it]"
     ]
    },
    {
     "name": "stdout",
     "output_type": "stream",
     "text": [
      "Train Loss: 0.554, Train Acc: 0.660\r"
     ]
    },
    {
     "name": "stderr",
     "output_type": "stream",
     "text": [
      "Epoch 1/1:  86%|████████▌ | 640/745 [4:36:23<41:46, 23.88s/it]"
     ]
    },
    {
     "name": "stdout",
     "output_type": "stream",
     "text": [
      "Train Loss: 0.555, Train Acc: 0.660\r"
     ]
    },
    {
     "name": "stderr",
     "output_type": "stream",
     "text": [
      "Epoch 1/1:  86%|████████▌ | 641/745 [4:36:48<41:56, 24.20s/it]"
     ]
    },
    {
     "name": "stdout",
     "output_type": "stream",
     "text": [
      "Train Loss: 0.556, Train Acc: 0.660\r"
     ]
    },
    {
     "name": "stderr",
     "output_type": "stream",
     "text": [
      "Epoch 1/1:  86%|████████▌ | 642/745 [4:37:13<41:45, 24.33s/it]"
     ]
    },
    {
     "name": "stdout",
     "output_type": "stream",
     "text": [
      "Train Loss: 0.557, Train Acc: 0.660\r"
     ]
    },
    {
     "name": "stderr",
     "output_type": "stream",
     "text": [
      "Epoch 1/1:  86%|████████▋ | 643/745 [4:37:37<41:30, 24.42s/it]"
     ]
    },
    {
     "name": "stdout",
     "output_type": "stream",
     "text": [
      "Train Loss: 0.557, Train Acc: 0.660\r"
     ]
    },
    {
     "name": "stderr",
     "output_type": "stream",
     "text": [
      "Epoch 1/1:  86%|████████▋ | 644/745 [4:38:01<40:45, 24.22s/it]"
     ]
    },
    {
     "name": "stdout",
     "output_type": "stream",
     "text": [
      "Train Loss: 0.558, Train Acc: 0.661\r"
     ]
    },
    {
     "name": "stderr",
     "output_type": "stream",
     "text": [
      "Epoch 1/1:  87%|████████▋ | 645/745 [4:38:25<40:11, 24.11s/it]"
     ]
    },
    {
     "name": "stdout",
     "output_type": "stream",
     "text": [
      "Train Loss: 0.559, Train Acc: 0.661\r"
     ]
    },
    {
     "name": "stderr",
     "output_type": "stream",
     "text": [
      "Epoch 1/1:  87%|████████▋ | 646/745 [4:38:49<39:40, 24.05s/it]"
     ]
    },
    {
     "name": "stdout",
     "output_type": "stream",
     "text": [
      "Train Loss: 0.560, Train Acc: 0.661\r"
     ]
    },
    {
     "name": "stderr",
     "output_type": "stream",
     "text": [
      "Epoch 1/1:  87%|████████▋ | 647/745 [4:39:12<39:06, 23.94s/it]"
     ]
    },
    {
     "name": "stdout",
     "output_type": "stream",
     "text": [
      "Train Loss: 0.561, Train Acc: 0.661\r"
     ]
    },
    {
     "name": "stderr",
     "output_type": "stream",
     "text": [
      "Epoch 1/1:  87%|████████▋ | 648/745 [4:39:36<38:34, 23.86s/it]"
     ]
    },
    {
     "name": "stdout",
     "output_type": "stream",
     "text": [
      "Train Loss: 0.562, Train Acc: 0.661\r"
     ]
    },
    {
     "name": "stderr",
     "output_type": "stream",
     "text": [
      "Epoch 1/1:  87%|████████▋ | 649/745 [4:40:00<38:12, 23.88s/it]"
     ]
    },
    {
     "name": "stdout",
     "output_type": "stream",
     "text": [
      "Train Loss: 0.563, Train Acc: 0.660\r"
     ]
    },
    {
     "name": "stderr",
     "output_type": "stream",
     "text": [
      "Epoch 1/1:  87%|████████▋ | 650/745 [4:40:24<37:44, 23.84s/it]"
     ]
    },
    {
     "name": "stdout",
     "output_type": "stream",
     "text": [
      "Train Loss: 0.564, Train Acc: 0.661\r"
     ]
    },
    {
     "name": "stderr",
     "output_type": "stream",
     "text": [
      "Epoch 1/1:  87%|████████▋ | 651/745 [4:40:49<37:46, 24.11s/it]"
     ]
    },
    {
     "name": "stdout",
     "output_type": "stream",
     "text": [
      "Train Loss: 0.564, Train Acc: 0.661\r"
     ]
    },
    {
     "name": "stderr",
     "output_type": "stream",
     "text": [
      "Epoch 1/1:  88%|████████▊ | 652/745 [4:41:13<37:20, 24.09s/it]"
     ]
    },
    {
     "name": "stdout",
     "output_type": "stream",
     "text": [
      "Train Loss: 0.565, Train Acc: 0.661\r"
     ]
    },
    {
     "name": "stderr",
     "output_type": "stream",
     "text": [
      "Epoch 1/1:  88%|████████▊ | 653/745 [4:41:37<36:51, 24.04s/it]"
     ]
    },
    {
     "name": "stdout",
     "output_type": "stream",
     "text": [
      "Train Loss: 0.566, Train Acc: 0.661\r"
     ]
    },
    {
     "name": "stderr",
     "output_type": "stream",
     "text": [
      "Epoch 1/1:  88%|████████▊ | 654/745 [4:42:01<36:26, 24.02s/it]"
     ]
    },
    {
     "name": "stdout",
     "output_type": "stream",
     "text": [
      "Train Loss: 0.567, Train Acc: 0.661\r"
     ]
    },
    {
     "name": "stderr",
     "output_type": "stream",
     "text": [
      "Epoch 1/1:  88%|████████▊ | 655/745 [4:42:24<35:53, 23.93s/it]"
     ]
    },
    {
     "name": "stdout",
     "output_type": "stream",
     "text": [
      "Train Loss: 0.568, Train Acc: 0.661\r"
     ]
    },
    {
     "name": "stderr",
     "output_type": "stream",
     "text": [
      "Epoch 1/1:  88%|████████▊ | 656/745 [4:42:48<35:28, 23.92s/it]"
     ]
    },
    {
     "name": "stdout",
     "output_type": "stream",
     "text": [
      "Train Loss: 0.568, Train Acc: 0.661\r"
     ]
    },
    {
     "name": "stderr",
     "output_type": "stream",
     "text": [
      "Epoch 1/1:  88%|████████▊ | 657/745 [4:43:12<35:08, 23.96s/it]"
     ]
    },
    {
     "name": "stdout",
     "output_type": "stream",
     "text": [
      "Train Loss: 0.569, Train Acc: 0.661\r"
     ]
    },
    {
     "name": "stderr",
     "output_type": "stream",
     "text": [
      "Epoch 1/1:  88%|████████▊ | 658/745 [4:43:36<34:44, 23.96s/it]"
     ]
    },
    {
     "name": "stdout",
     "output_type": "stream",
     "text": [
      "Train Loss: 0.570, Train Acc: 0.662\r"
     ]
    },
    {
     "name": "stderr",
     "output_type": "stream",
     "text": [
      "Epoch 1/1:  88%|████████▊ | 659/745 [4:44:00<34:20, 23.96s/it]"
     ]
    },
    {
     "name": "stdout",
     "output_type": "stream",
     "text": [
      "Train Loss: 0.571, Train Acc: 0.662\r"
     ]
    },
    {
     "name": "stderr",
     "output_type": "stream",
     "text": [
      "Epoch 1/1:  89%|████████▊ | 660/745 [4:44:24<33:56, 23.96s/it]"
     ]
    },
    {
     "name": "stdout",
     "output_type": "stream",
     "text": [
      "Train Loss: 0.572, Train Acc: 0.662\r"
     ]
    },
    {
     "name": "stderr",
     "output_type": "stream",
     "text": [
      "Epoch 1/1:  89%|████████▊ | 661/745 [4:44:48<33:32, 23.96s/it]"
     ]
    },
    {
     "name": "stdout",
     "output_type": "stream",
     "text": [
      "Train Loss: 0.573, Train Acc: 0.661\r"
     ]
    },
    {
     "name": "stderr",
     "output_type": "stream",
     "text": [
      "Epoch 1/1:  89%|████████▉ | 662/745 [4:45:04<29:56, 21.65s/it]"
     ]
    },
    {
     "name": "stdout",
     "output_type": "stream",
     "text": [
      "Train Loss: 0.573, Train Acc: 0.661\r"
     ]
    },
    {
     "name": "stderr",
     "output_type": "stream",
     "text": [
      "Epoch 1/1:  89%|████████▉ | 663/745 [4:45:19<26:36, 19.47s/it]"
     ]
    },
    {
     "name": "stdout",
     "output_type": "stream",
     "text": [
      "Train Loss: 0.574, Train Acc: 0.661\r"
     ]
    },
    {
     "name": "stderr",
     "output_type": "stream",
     "text": [
      "Epoch 1/1:  89%|████████▉ | 664/745 [4:45:33<24:09, 17.89s/it]"
     ]
    },
    {
     "name": "stdout",
     "output_type": "stream",
     "text": [
      "Train Loss: 0.575, Train Acc: 0.661\r"
     ]
    },
    {
     "name": "stderr",
     "output_type": "stream",
     "text": [
      "Epoch 1/1:  89%|████████▉ | 665/745 [4:45:47<22:25, 16.81s/it]"
     ]
    },
    {
     "name": "stdout",
     "output_type": "stream",
     "text": [
      "Train Loss: 0.576, Train Acc: 0.661\r"
     ]
    },
    {
     "name": "stderr",
     "output_type": "stream",
     "text": [
      "Epoch 1/1:  89%|████████▉ | 666/745 [4:46:02<21:14, 16.13s/it]"
     ]
    },
    {
     "name": "stdout",
     "output_type": "stream",
     "text": [
      "Train Loss: 0.577, Train Acc: 0.661\r"
     ]
    },
    {
     "name": "stderr",
     "output_type": "stream",
     "text": [
      "Epoch 1/1:  90%|████████▉ | 667/745 [4:46:16<20:19, 15.63s/it]"
     ]
    },
    {
     "name": "stdout",
     "output_type": "stream",
     "text": [
      "Train Loss: 0.578, Train Acc: 0.661\r"
     ]
    },
    {
     "name": "stderr",
     "output_type": "stream",
     "text": [
      "Epoch 1/1:  90%|████████▉ | 668/745 [4:46:31<19:35, 15.27s/it]"
     ]
    },
    {
     "name": "stdout",
     "output_type": "stream",
     "text": [
      "Train Loss: 0.579, Train Acc: 0.662\r"
     ]
    },
    {
     "name": "stderr",
     "output_type": "stream",
     "text": [
      "Epoch 1/1:  90%|████████▉ | 669/745 [4:46:45<18:56, 14.96s/it]"
     ]
    },
    {
     "name": "stdout",
     "output_type": "stream",
     "text": [
      "Train Loss: 0.579, Train Acc: 0.662\r"
     ]
    },
    {
     "name": "stderr",
     "output_type": "stream",
     "text": [
      "Epoch 1/1:  90%|████████▉ | 670/745 [4:46:59<18:28, 14.78s/it]"
     ]
    },
    {
     "name": "stdout",
     "output_type": "stream",
     "text": [
      "Train Loss: 0.580, Train Acc: 0.662\r"
     ]
    },
    {
     "name": "stderr",
     "output_type": "stream",
     "text": [
      "Epoch 1/1:  90%|█████████ | 671/745 [4:47:14<18:09, 14.73s/it]"
     ]
    },
    {
     "name": "stdout",
     "output_type": "stream",
     "text": [
      "Train Loss: 0.581, Train Acc: 0.662\r"
     ]
    },
    {
     "name": "stderr",
     "output_type": "stream",
     "text": [
      "Epoch 1/1:  90%|█████████ | 672/745 [4:47:28<17:40, 14.53s/it]"
     ]
    },
    {
     "name": "stdout",
     "output_type": "stream",
     "text": [
      "Train Loss: 0.582, Train Acc: 0.662\r"
     ]
    },
    {
     "name": "stderr",
     "output_type": "stream",
     "text": [
      "Epoch 1/1:  90%|█████████ | 673/745 [4:47:46<18:46, 15.65s/it]"
     ]
    },
    {
     "name": "stdout",
     "output_type": "stream",
     "text": [
      "Train Loss: 0.583, Train Acc: 0.661\r"
     ]
    },
    {
     "name": "stderr",
     "output_type": "stream",
     "text": [
      "Epoch 1/1:  90%|█████████ | 674/745 [4:48:06<20:01, 16.93s/it]"
     ]
    },
    {
     "name": "stdout",
     "output_type": "stream",
     "text": [
      "Train Loss: 0.584, Train Acc: 0.662\r"
     ]
    },
    {
     "name": "stderr",
     "output_type": "stream",
     "text": [
      "Epoch 1/1:  91%|█████████ | 675/745 [4:48:24<20:17, 17.39s/it]"
     ]
    },
    {
     "name": "stdout",
     "output_type": "stream",
     "text": [
      "Train Loss: 0.584, Train Acc: 0.662\r"
     ]
    },
    {
     "name": "stderr",
     "output_type": "stream",
     "text": [
      "Epoch 1/1:  91%|█████████ | 676/745 [4:48:39<18:58, 16.51s/it]"
     ]
    },
    {
     "name": "stdout",
     "output_type": "stream",
     "text": [
      "Train Loss: 0.585, Train Acc: 0.662\r"
     ]
    },
    {
     "name": "stderr",
     "output_type": "stream",
     "text": [
      "Epoch 1/1:  91%|█████████ | 677/745 [4:48:59<19:46, 17.45s/it]"
     ]
    },
    {
     "name": "stdout",
     "output_type": "stream",
     "text": [
      "Train Loss: 0.586, Train Acc: 0.662\r"
     ]
    },
    {
     "name": "stderr",
     "output_type": "stream",
     "text": [
      "Epoch 1/1:  91%|█████████ | 678/745 [4:49:18<20:17, 18.17s/it]"
     ]
    },
    {
     "name": "stdout",
     "output_type": "stream",
     "text": [
      "Train Loss: 0.587, Train Acc: 0.662\r"
     ]
    },
    {
     "name": "stderr",
     "output_type": "stream",
     "text": [
      "Epoch 1/1:  91%|█████████ | 679/745 [4:49:38<20:31, 18.66s/it]"
     ]
    },
    {
     "name": "stdout",
     "output_type": "stream",
     "text": [
      "Train Loss: 0.588, Train Acc: 0.661\r"
     ]
    },
    {
     "name": "stderr",
     "output_type": "stream",
     "text": [
      "Epoch 1/1:  91%|█████████▏| 680/745 [4:49:59<21:01, 19.41s/it]"
     ]
    },
    {
     "name": "stdout",
     "output_type": "stream",
     "text": [
      "Train Loss: 0.589, Train Acc: 0.661\r"
     ]
    },
    {
     "name": "stderr",
     "output_type": "stream",
     "text": [
      "Epoch 1/1:  91%|█████████▏| 681/745 [4:50:20<20:58, 19.66s/it]"
     ]
    },
    {
     "name": "stdout",
     "output_type": "stream",
     "text": [
      "Train Loss: 0.590, Train Acc: 0.662\r"
     ]
    },
    {
     "name": "stderr",
     "output_type": "stream",
     "text": [
      "Epoch 1/1:  92%|█████████▏| 682/745 [4:50:47<23:01, 21.93s/it]"
     ]
    },
    {
     "name": "stdout",
     "output_type": "stream",
     "text": [
      "Train Loss: 0.591, Train Acc: 0.662\r"
     ]
    },
    {
     "name": "stderr",
     "output_type": "stream",
     "text": [
      "Epoch 1/1:  92%|█████████▏| 683/745 [4:51:11<23:26, 22.68s/it]"
     ]
    },
    {
     "name": "stdout",
     "output_type": "stream",
     "text": [
      "Train Loss: 0.592, Train Acc: 0.662\r"
     ]
    },
    {
     "name": "stderr",
     "output_type": "stream",
     "text": [
      "Epoch 1/1:  92%|█████████▏| 684/745 [4:51:37<23:50, 23.46s/it]"
     ]
    },
    {
     "name": "stdout",
     "output_type": "stream",
     "text": [
      "Train Loss: 0.593, Train Acc: 0.661\r"
     ]
    },
    {
     "name": "stderr",
     "output_type": "stream",
     "text": [
      "Epoch 1/1:  92%|█████████▏| 685/745 [4:52:06<25:19, 25.32s/it]"
     ]
    },
    {
     "name": "stdout",
     "output_type": "stream",
     "text": [
      "Train Loss: 0.593, Train Acc: 0.662\r"
     ]
    },
    {
     "name": "stderr",
     "output_type": "stream",
     "text": [
      "Epoch 1/1:  92%|█████████▏| 686/745 [4:52:33<25:19, 25.76s/it]"
     ]
    },
    {
     "name": "stdout",
     "output_type": "stream",
     "text": [
      "Train Loss: 0.594, Train Acc: 0.661\r"
     ]
    },
    {
     "name": "stderr",
     "output_type": "stream",
     "text": [
      "Epoch 1/1:  92%|█████████▏| 687/745 [4:52:58<24:34, 25.42s/it]"
     ]
    },
    {
     "name": "stdout",
     "output_type": "stream",
     "text": [
      "Train Loss: 0.595, Train Acc: 0.661\r"
     ]
    },
    {
     "name": "stderr",
     "output_type": "stream",
     "text": [
      "Epoch 1/1:  92%|█████████▏| 688/745 [4:53:22<23:56, 25.20s/it]"
     ]
    },
    {
     "name": "stdout",
     "output_type": "stream",
     "text": [
      "Train Loss: 0.596, Train Acc: 0.662\r"
     ]
    },
    {
     "name": "stderr",
     "output_type": "stream",
     "text": [
      "Epoch 1/1:  92%|█████████▏| 689/745 [4:53:47<23:18, 24.96s/it]"
     ]
    },
    {
     "name": "stdout",
     "output_type": "stream",
     "text": [
      "Train Loss: 0.597, Train Acc: 0.661\r"
     ]
    },
    {
     "name": "stderr",
     "output_type": "stream",
     "text": [
      "Epoch 1/1:  93%|█████████▎| 690/745 [4:54:11<22:42, 24.77s/it]"
     ]
    },
    {
     "name": "stdout",
     "output_type": "stream",
     "text": [
      "Train Loss: 0.598, Train Acc: 0.662\r"
     ]
    },
    {
     "name": "stderr",
     "output_type": "stream",
     "text": [
      "Epoch 1/1:  93%|█████████▎| 691/745 [4:54:36<22:27, 24.95s/it]"
     ]
    },
    {
     "name": "stdout",
     "output_type": "stream",
     "text": [
      "Train Loss: 0.599, Train Acc: 0.661\r"
     ]
    },
    {
     "name": "stderr",
     "output_type": "stream",
     "text": [
      "Epoch 1/1:  93%|█████████▎| 692/745 [4:55:01<21:50, 24.73s/it]"
     ]
    },
    {
     "name": "stdout",
     "output_type": "stream",
     "text": [
      "Train Loss: 0.600, Train Acc: 0.661\r"
     ]
    },
    {
     "name": "stderr",
     "output_type": "stream",
     "text": [
      "Epoch 1/1:  93%|█████████▎| 693/745 [4:55:25<21:15, 24.53s/it]"
     ]
    },
    {
     "name": "stdout",
     "output_type": "stream",
     "text": [
      "Train Loss: 0.600, Train Acc: 0.661\r"
     ]
    },
    {
     "name": "stderr",
     "output_type": "stream",
     "text": [
      "Epoch 1/1:  93%|█████████▎| 694/745 [4:55:49<20:46, 24.45s/it]"
     ]
    },
    {
     "name": "stdout",
     "output_type": "stream",
     "text": [
      "Train Loss: 0.601, Train Acc: 0.661\r"
     ]
    },
    {
     "name": "stderr",
     "output_type": "stream",
     "text": [
      "Epoch 1/1:  93%|█████████▎| 695/745 [4:56:13<20:20, 24.42s/it]"
     ]
    },
    {
     "name": "stdout",
     "output_type": "stream",
     "text": [
      "Train Loss: 0.602, Train Acc: 0.661\r"
     ]
    },
    {
     "name": "stderr",
     "output_type": "stream",
     "text": [
      "Epoch 1/1:  93%|█████████▎| 696/745 [4:56:38<19:57, 24.44s/it]"
     ]
    },
    {
     "name": "stdout",
     "output_type": "stream",
     "text": [
      "Train Loss: 0.603, Train Acc: 0.661\r"
     ]
    },
    {
     "name": "stderr",
     "output_type": "stream",
     "text": [
      "Epoch 1/1:  94%|█████████▎| 697/745 [4:57:02<19:31, 24.41s/it]"
     ]
    },
    {
     "name": "stdout",
     "output_type": "stream",
     "text": [
      "Train Loss: 0.604, Train Acc: 0.661\r"
     ]
    },
    {
     "name": "stderr",
     "output_type": "stream",
     "text": [
      "Epoch 1/1:  94%|█████████▎| 698/745 [4:57:26<19:05, 24.37s/it]"
     ]
    },
    {
     "name": "stdout",
     "output_type": "stream",
     "text": [
      "Train Loss: 0.605, Train Acc: 0.662\r"
     ]
    },
    {
     "name": "stderr",
     "output_type": "stream",
     "text": [
      "Epoch 1/1:  94%|█████████▍| 699/745 [4:57:54<19:27, 25.38s/it]"
     ]
    },
    {
     "name": "stdout",
     "output_type": "stream",
     "text": [
      "Train Loss: 0.606, Train Acc: 0.661\r"
     ]
    },
    {
     "name": "stderr",
     "output_type": "stream",
     "text": [
      "Epoch 1/1:  94%|█████████▍| 700/745 [4:58:19<18:52, 25.17s/it]"
     ]
    },
    {
     "name": "stdout",
     "output_type": "stream",
     "text": [
      "Train Loss: 0.606, Train Acc: 0.661\r"
     ]
    },
    {
     "name": "stderr",
     "output_type": "stream",
     "text": [
      "Epoch 1/1:  94%|█████████▍| 701/745 [4:58:44<18:24, 25.11s/it]"
     ]
    },
    {
     "name": "stdout",
     "output_type": "stream",
     "text": [
      "Train Loss: 0.607, Train Acc: 0.662\r"
     ]
    },
    {
     "name": "stderr",
     "output_type": "stream",
     "text": [
      "Epoch 1/1:  94%|█████████▍| 702/745 [4:59:08<17:50, 24.89s/it]"
     ]
    },
    {
     "name": "stdout",
     "output_type": "stream",
     "text": [
      "Train Loss: 0.608, Train Acc: 0.661\r"
     ]
    },
    {
     "name": "stderr",
     "output_type": "stream",
     "text": [
      "Epoch 1/1:  94%|█████████▍| 703/745 [4:59:33<17:21, 24.79s/it]"
     ]
    },
    {
     "name": "stdout",
     "output_type": "stream",
     "text": [
      "Train Loss: 0.609, Train Acc: 0.661\r"
     ]
    },
    {
     "name": "stderr",
     "output_type": "stream",
     "text": [
      "Epoch 1/1:  94%|█████████▍| 704/745 [4:59:57<16:51, 24.68s/it]"
     ]
    },
    {
     "name": "stdout",
     "output_type": "stream",
     "text": [
      "Train Loss: 0.610, Train Acc: 0.661\r"
     ]
    },
    {
     "name": "stderr",
     "output_type": "stream",
     "text": [
      "Epoch 1/1:  95%|█████████▍| 705/745 [5:00:22<16:24, 24.60s/it]"
     ]
    },
    {
     "name": "stdout",
     "output_type": "stream",
     "text": [
      "Train Loss: 0.611, Train Acc: 0.662\r"
     ]
    },
    {
     "name": "stderr",
     "output_type": "stream",
     "text": [
      "Epoch 1/1:  95%|█████████▍| 706/745 [5:00:47<16:12, 24.94s/it]"
     ]
    },
    {
     "name": "stdout",
     "output_type": "stream",
     "text": [
      "Train Loss: 0.612, Train Acc: 0.661\r"
     ]
    },
    {
     "name": "stderr",
     "output_type": "stream",
     "text": [
      "Epoch 1/1:  95%|█████████▍| 707/745 [5:01:12<15:44, 24.85s/it]"
     ]
    },
    {
     "name": "stdout",
     "output_type": "stream",
     "text": [
      "Train Loss: 0.612, Train Acc: 0.661\r"
     ]
    },
    {
     "name": "stderr",
     "output_type": "stream",
     "text": [
      "Epoch 1/1:  95%|█████████▌| 708/745 [5:01:41<16:04, 26.07s/it]"
     ]
    },
    {
     "name": "stdout",
     "output_type": "stream",
     "text": [
      "Train Loss: 0.613, Train Acc: 0.661\r"
     ]
    },
    {
     "name": "stderr",
     "output_type": "stream",
     "text": [
      "Epoch 1/1:  95%|█████████▌| 709/745 [5:02:06<15:23, 25.65s/it]"
     ]
    },
    {
     "name": "stdout",
     "output_type": "stream",
     "text": [
      "Train Loss: 0.614, Train Acc: 0.661\r"
     ]
    },
    {
     "name": "stderr",
     "output_type": "stream",
     "text": [
      "Epoch 1/1:  95%|█████████▌| 710/745 [5:02:32<15:10, 26.03s/it]"
     ]
    },
    {
     "name": "stdout",
     "output_type": "stream",
     "text": [
      "Train Loss: 0.615, Train Acc: 0.662\r"
     ]
    },
    {
     "name": "stderr",
     "output_type": "stream",
     "text": [
      "Epoch 1/1:  95%|█████████▌| 711/745 [5:02:57<14:28, 25.54s/it]"
     ]
    },
    {
     "name": "stdout",
     "output_type": "stream",
     "text": [
      "Train Loss: 0.616, Train Acc: 0.662\r"
     ]
    },
    {
     "name": "stderr",
     "output_type": "stream",
     "text": [
      "Epoch 1/1:  96%|█████████▌| 712/745 [5:03:25<14:26, 26.26s/it]"
     ]
    },
    {
     "name": "stdout",
     "output_type": "stream",
     "text": [
      "Train Loss: 0.617, Train Acc: 0.661\r"
     ]
    },
    {
     "name": "stderr",
     "output_type": "stream",
     "text": [
      "Epoch 1/1:  96%|█████████▌| 713/745 [5:03:53<14:18, 26.84s/it]"
     ]
    },
    {
     "name": "stdout",
     "output_type": "stream",
     "text": [
      "Train Loss: 0.618, Train Acc: 0.662\r"
     ]
    },
    {
     "name": "stderr",
     "output_type": "stream",
     "text": [
      "Epoch 1/1:  96%|█████████▌| 714/745 [5:04:18<13:38, 26.40s/it]"
     ]
    },
    {
     "name": "stdout",
     "output_type": "stream",
     "text": [
      "Train Loss: 0.618, Train Acc: 0.661\r"
     ]
    },
    {
     "name": "stderr",
     "output_type": "stream",
     "text": [
      "Epoch 1/1:  96%|█████████▌| 715/745 [5:04:45<13:17, 26.59s/it]"
     ]
    },
    {
     "name": "stdout",
     "output_type": "stream",
     "text": [
      "Train Loss: 0.619, Train Acc: 0.662\r"
     ]
    },
    {
     "name": "stderr",
     "output_type": "stream",
     "text": [
      "Epoch 1/1:  96%|█████████▌| 716/745 [5:05:10<12:33, 25.98s/it]"
     ]
    },
    {
     "name": "stdout",
     "output_type": "stream",
     "text": [
      "Train Loss: 0.620, Train Acc: 0.662\r"
     ]
    },
    {
     "name": "stderr",
     "output_type": "stream",
     "text": [
      "Epoch 1/1:  96%|█████████▌| 717/745 [5:05:34<11:51, 25.41s/it]"
     ]
    },
    {
     "name": "stdout",
     "output_type": "stream",
     "text": [
      "Train Loss: 0.621, Train Acc: 0.662\r"
     ]
    },
    {
     "name": "stderr",
     "output_type": "stream",
     "text": [
      "Epoch 1/1:  96%|█████████▋| 718/745 [5:05:58<11:18, 25.12s/it]"
     ]
    },
    {
     "name": "stdout",
     "output_type": "stream",
     "text": [
      "Train Loss: 0.622, Train Acc: 0.661\r"
     ]
    },
    {
     "name": "stderr",
     "output_type": "stream",
     "text": [
      "Epoch 1/1:  97%|█████████▋| 719/745 [5:06:23<10:47, 24.91s/it]"
     ]
    },
    {
     "name": "stdout",
     "output_type": "stream",
     "text": [
      "Train Loss: 0.623, Train Acc: 0.662\r"
     ]
    },
    {
     "name": "stderr",
     "output_type": "stream",
     "text": [
      "Epoch 1/1:  97%|█████████▋| 720/745 [5:06:48<10:20, 24.83s/it]"
     ]
    },
    {
     "name": "stdout",
     "output_type": "stream",
     "text": [
      "Train Loss: 0.624, Train Acc: 0.661\r"
     ]
    },
    {
     "name": "stderr",
     "output_type": "stream",
     "text": [
      "Epoch 1/1:  97%|█████████▋| 721/745 [5:07:12<09:54, 24.75s/it]"
     ]
    },
    {
     "name": "stdout",
     "output_type": "stream",
     "text": [
      "Train Loss: 0.624, Train Acc: 0.662\r"
     ]
    },
    {
     "name": "stderr",
     "output_type": "stream",
     "text": [
      "Epoch 1/1:  97%|█████████▋| 722/745 [5:07:36<09:26, 24.63s/it]"
     ]
    },
    {
     "name": "stdout",
     "output_type": "stream",
     "text": [
      "Train Loss: 0.625, Train Acc: 0.661\r"
     ]
    },
    {
     "name": "stderr",
     "output_type": "stream",
     "text": [
      "Epoch 1/1:  97%|█████████▋| 723/745 [5:08:01<09:01, 24.60s/it]"
     ]
    },
    {
     "name": "stdout",
     "output_type": "stream",
     "text": [
      "Train Loss: 0.626, Train Acc: 0.661\r"
     ]
    },
    {
     "name": "stderr",
     "output_type": "stream",
     "text": [
      "Epoch 1/1:  97%|█████████▋| 724/745 [5:08:26<08:40, 24.80s/it]"
     ]
    },
    {
     "name": "stdout",
     "output_type": "stream",
     "text": [
      "Train Loss: 0.627, Train Acc: 0.661\r"
     ]
    },
    {
     "name": "stderr",
     "output_type": "stream",
     "text": [
      "Epoch 1/1:  97%|█████████▋| 725/745 [5:08:50<08:12, 24.62s/it]"
     ]
    },
    {
     "name": "stdout",
     "output_type": "stream",
     "text": [
      "Train Loss: 0.628, Train Acc: 0.661\r"
     ]
    },
    {
     "name": "stderr",
     "output_type": "stream",
     "text": [
      "Epoch 1/1:  97%|█████████▋| 726/745 [5:09:15<07:45, 24.48s/it]"
     ]
    },
    {
     "name": "stdout",
     "output_type": "stream",
     "text": [
      "Train Loss: 0.629, Train Acc: 0.661\r"
     ]
    },
    {
     "name": "stderr",
     "output_type": "stream",
     "text": [
      "Epoch 1/1:  98%|█████████▊| 727/745 [5:09:39<07:19, 24.44s/it]"
     ]
    },
    {
     "name": "stdout",
     "output_type": "stream",
     "text": [
      "Train Loss: 0.630, Train Acc: 0.661\r"
     ]
    },
    {
     "name": "stderr",
     "output_type": "stream",
     "text": [
      "Epoch 1/1:  98%|█████████▊| 728/745 [5:10:03<06:55, 24.42s/it]"
     ]
    },
    {
     "name": "stdout",
     "output_type": "stream",
     "text": [
      "Train Loss: 0.631, Train Acc: 0.661\r"
     ]
    },
    {
     "name": "stderr",
     "output_type": "stream",
     "text": [
      "Epoch 1/1:  98%|█████████▊| 729/745 [5:10:28<06:30, 24.40s/it]"
     ]
    },
    {
     "name": "stdout",
     "output_type": "stream",
     "text": [
      "Train Loss: 0.632, Train Acc: 0.661\r"
     ]
    },
    {
     "name": "stderr",
     "output_type": "stream",
     "text": [
      "Epoch 1/1:  98%|█████████▊| 730/745 [5:10:52<06:05, 24.39s/it]"
     ]
    },
    {
     "name": "stdout",
     "output_type": "stream",
     "text": [
      "Train Loss: 0.632, Train Acc: 0.661\r"
     ]
    },
    {
     "name": "stderr",
     "output_type": "stream",
     "text": [
      "Epoch 1/1:  98%|█████████▊| 731/745 [5:11:16<05:40, 24.34s/it]"
     ]
    },
    {
     "name": "stdout",
     "output_type": "stream",
     "text": [
      "Train Loss: 0.633, Train Acc: 0.661\r"
     ]
    },
    {
     "name": "stderr",
     "output_type": "stream",
     "text": [
      "Epoch 1/1:  98%|█████████▊| 732/745 [5:11:42<05:21, 24.72s/it]"
     ]
    },
    {
     "name": "stdout",
     "output_type": "stream",
     "text": [
      "Train Loss: 0.634, Train Acc: 0.661\r"
     ]
    },
    {
     "name": "stderr",
     "output_type": "stream",
     "text": [
      "Epoch 1/1:  98%|█████████▊| 733/745 [5:12:06<04:55, 24.65s/it]"
     ]
    },
    {
     "name": "stdout",
     "output_type": "stream",
     "text": [
      "Train Loss: 0.635, Train Acc: 0.661\r"
     ]
    },
    {
     "name": "stderr",
     "output_type": "stream",
     "text": [
      "Epoch 1/1:  99%|█████████▊| 734/745 [5:12:31<04:30, 24.55s/it]"
     ]
    },
    {
     "name": "stdout",
     "output_type": "stream",
     "text": [
      "Train Loss: 0.636, Train Acc: 0.661\r"
     ]
    },
    {
     "name": "stderr",
     "output_type": "stream",
     "text": [
      "Epoch 1/1:  99%|█████████▊| 735/745 [5:12:55<04:04, 24.44s/it]"
     ]
    },
    {
     "name": "stdout",
     "output_type": "stream",
     "text": [
      "Train Loss: 0.637, Train Acc: 0.661\r"
     ]
    },
    {
     "name": "stderr",
     "output_type": "stream",
     "text": [
      "Epoch 1/1:  99%|█████████▉| 736/745 [5:13:19<03:39, 24.42s/it]"
     ]
    },
    {
     "name": "stdout",
     "output_type": "stream",
     "text": [
      "Train Loss: 0.638, Train Acc: 0.661\r"
     ]
    },
    {
     "name": "stderr",
     "output_type": "stream",
     "text": [
      "Epoch 1/1:  99%|█████████▉| 737/745 [5:13:44<03:15, 24.38s/it]"
     ]
    },
    {
     "name": "stdout",
     "output_type": "stream",
     "text": [
      "Train Loss: 0.638, Train Acc: 0.661\r"
     ]
    },
    {
     "name": "stderr",
     "output_type": "stream",
     "text": [
      "Epoch 1/1:  99%|█████████▉| 738/745 [5:14:08<02:51, 24.48s/it]"
     ]
    },
    {
     "name": "stdout",
     "output_type": "stream",
     "text": [
      "Train Loss: 0.639, Train Acc: 0.661\r"
     ]
    },
    {
     "name": "stderr",
     "output_type": "stream",
     "text": [
      "Epoch 1/1:  99%|█████████▉| 739/745 [5:14:34<02:28, 24.79s/it]"
     ]
    },
    {
     "name": "stdout",
     "output_type": "stream",
     "text": [
      "Train Loss: 0.640, Train Acc: 0.661\r"
     ]
    },
    {
     "name": "stderr",
     "output_type": "stream",
     "text": [
      "Epoch 1/1:  99%|█████████▉| 740/745 [5:14:58<02:03, 24.62s/it]"
     ]
    },
    {
     "name": "stdout",
     "output_type": "stream",
     "text": [
      "Train Loss: 0.641, Train Acc: 0.661\r"
     ]
    },
    {
     "name": "stderr",
     "output_type": "stream",
     "text": [
      "Epoch 1/1:  99%|█████████▉| 741/745 [5:15:23<01:38, 24.67s/it]"
     ]
    },
    {
     "name": "stdout",
     "output_type": "stream",
     "text": [
      "Train Loss: 0.641, Train Acc: 0.662\r"
     ]
    },
    {
     "name": "stderr",
     "output_type": "stream",
     "text": [
      "Epoch 1/1: 100%|█████████▉| 742/745 [5:15:47<01:13, 24.60s/it]"
     ]
    },
    {
     "name": "stdout",
     "output_type": "stream",
     "text": [
      "Train Loss: 0.642, Train Acc: 0.662\r"
     ]
    },
    {
     "name": "stderr",
     "output_type": "stream",
     "text": [
      "Epoch 1/1: 100%|█████████▉| 743/745 [5:16:12<00:49, 24.57s/it]"
     ]
    },
    {
     "name": "stdout",
     "output_type": "stream",
     "text": [
      "Train Loss: 0.643, Train Acc: 0.662\r"
     ]
    },
    {
     "name": "stderr",
     "output_type": "stream",
     "text": [
      "Epoch 1/1: 100%|█████████▉| 744/745 [5:16:36<00:24, 24.60s/it]"
     ]
    },
    {
     "name": "stdout",
     "output_type": "stream",
     "text": [
      "Train Loss: 0.644, Train Acc: 0.662\r"
     ]
    },
    {
     "name": "stderr",
     "output_type": "stream",
     "text": [
      "Epoch 1/1: 100%|██████████| 745/745 [5:16:55<00:00, 25.52s/it]"
     ]
    },
    {
     "name": "stdout",
     "output_type": "stream",
     "text": [
      "Epoch 1, Train Loss: 0.645, Train Acc: 0.662\n",
      "Epoch 1 finished\n"
     ]
    },
    {
     "name": "stderr",
     "output_type": "stream",
     "text": [
      "\n"
     ]
    }
   ],
   "source": [
    "from tqdm import tqdm\n",
    "num_epochs = 1\n",
    "for epoch in range(num_epochs):\n",
    "    running_loss = 0.0\n",
    "    correct_predictions = 0\n",
    "    total_predictions = 0\n",
    "    for batch in tqdm(train_loader, desc=f'Epoch {epoch+1}/{num_epochs}'):\n",
    "        # get the inputs\n",
    "        input_ids = batch['input_ids'].to(device)\n",
    "        attention_mask = batch['attention_mask'].to(device)\n",
    "        labels = batch['label'].to(device)\n",
    "\n",
    "        # zero the parameter gradients\n",
    "        optimizer.zero_grad()\n",
    "\n",
    "        # forward + backward + optimize\n",
    "        outputs = offensive_model(input_ids=input_ids, attention_mask=attention_mask)\n",
    "        loss = criterion(outputs, labels)\n",
    "        loss.backward()\n",
    "        optimizer.step()\n",
    "\n",
    "        # calculate accuracy\n",
    "        _, predicted = torch.max(outputs.data, 1)\n",
    "        total_predictions += labels.size(0)\n",
    "        correct_predictions += (predicted == labels).sum().item()\n",
    "\n",
    "        # print running loss for each batch\n",
    "        running_loss += loss.item()\n",
    "        avg_loss = running_loss / len(train_loader)\n",
    "        avg_acc = correct_predictions / total_predictions\n",
    "        tqdm.write(f'Train Loss: {avg_loss:.3f}, Train Acc: {avg_acc:.3f}', end='\\r')\n",
    "    tqdm.write(f'Epoch {epoch+1}, Train Loss: {avg_loss:.3f}, Train Acc: {avg_acc:.3f}')\n",
    "\n",
    "    print(f\"Epoch {epoch+1} finished\")\n"
   ],
   "metadata": {
    "collapsed": false
   }
  },
  {
   "cell_type": "code",
   "execution_count": 22,
   "outputs": [
    {
     "name": "stdout",
     "output_type": "stream",
     "text": [
      "Validation Loss: 0.663, Validation Acc: 0.653\n"
     ]
    }
   ],
   "source": [
    "# Validation loop\n",
    "with torch.no_grad():\n",
    "    offensive_model.eval()  # Set the model to evaluation mode\n",
    "    valid_loss = 0.0\n",
    "    correct_predictions = 0\n",
    "    total_predictions = 0\n",
    "    for batch in val_loader:\n",
    "        # get the inputs\n",
    "        input_ids = batch['input_ids'].to(device)\n",
    "        attention_mask = batch['attention_mask'].to(device)\n",
    "        labels = batch['label'].to(device)\n",
    "\n",
    "        # forward\n",
    "        outputs = offensive_model(input_ids=input_ids, attention_mask=attention_mask)\n",
    "        loss = criterion(outputs, labels)\n",
    "\n",
    "        # calculate accuracy\n",
    "        _, predicted = torch.max(outputs.data, 1)\n",
    "        total_predictions += labels.size(0)\n",
    "        correct_predictions += (predicted == labels).sum().item()\n",
    "\n",
    "        # calculate running loss\n",
    "        valid_loss += loss.item()\n",
    "\n",
    "    avg_loss = valid_loss / len(val_loader)\n",
    "    avg_acc = correct_predictions / total_predictions\n",
    "    print(f'Validation Loss: {avg_loss:.3f}, Validation Acc: {avg_acc:.3f}')"
   ],
   "metadata": {
    "collapsed": false
   }
  },
  {
   "cell_type": "code",
   "execution_count": 23,
   "outputs": [
    {
     "name": "stdout",
     "output_type": "stream",
     "text": [
      "Test Loss: 0.594, Test Acc: 0.721\n"
     ]
    }
   ],
   "source": [
    "\n",
    "# Test loop\n",
    "with torch.no_grad():\n",
    "    offensive_model.eval()  # Set the model to evaluation mode\n",
    "    test_loss = 0.0\n",
    "    correct_predictions = 0\n",
    "    total_predictions = 0\n",
    "    for batch in test_loader:\n",
    "        # get the inputs\n",
    "        input_ids = batch['input_ids'].to(device)\n",
    "        attention_mask = batch['attention_mask'].to(device)\n",
    "        labels = batch['label'].to(device)\n",
    "\n",
    "        # forward\n",
    "        outputs = offensive_model(input_ids=input_ids, attention_mask=attention_mask)\n",
    "        loss = criterion(outputs, labels)\n",
    "\n",
    "        # calculate accuracy\n",
    "        _, predicted = torch.max(outputs.data, 1)\n",
    "        total_predictions += labels.size(0)\n",
    "        correct_predictions += (predicted == labels).sum().item()\n",
    "\n",
    "        # calculate running loss\n",
    "        test_loss += loss.item()\n",
    "\n",
    "    avg_loss = test_loss / len(test_loader)\n",
    "    avg_acc = correct_predictions / total_predictions\n",
    "    print(f'Test Loss: {avg_loss:.3f}, Test Acc: {avg_acc:.3f}')\n"
   ],
   "metadata": {
    "collapsed": false
   }
  },
  {
   "cell_type": "code",
   "execution_count": 24,
   "outputs": [],
   "source": [
    "# save the model\n",
    "torch.save(offensive_model.state_dict(), 'Models/offensive_model.pth')\n"
   ],
   "metadata": {
    "collapsed": false
   }
  }
 ],
 "metadata": {
  "kernelspec": {
   "display_name": "Python 3",
   "language": "python",
   "name": "python3"
  },
  "language_info": {
   "codemirror_mode": {
    "name": "ipython",
    "version": 2
   },
   "file_extension": ".py",
   "mimetype": "text/x-python",
   "name": "python",
   "nbconvert_exporter": "python",
   "pygments_lexer": "ipython2",
   "version": "2.7.6"
  }
 },
 "nbformat": 4,
 "nbformat_minor": 0
}
