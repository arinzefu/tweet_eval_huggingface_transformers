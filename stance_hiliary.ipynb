{
 "cells": [
  {
   "cell_type": "code",
   "execution_count": 1,
   "metadata": {
    "collapsed": true
   },
   "outputs": [],
   "source": [
    "import torch\n",
    "import torch.nn as nn\n",
    "import torch.optim as optim\n",
    "from torch.utils.data import DataLoader, Dataset\n",
    "from transformers import AutoTokenizer\n",
    "from transformers import AlbertModel"
   ]
  },
  {
   "cell_type": "code",
   "execution_count": 2,
   "outputs": [
    {
     "name": "stderr",
     "output_type": "stream",
     "text": [
      "Found cached dataset tweet_eval (C:/Users/User/.cache/huggingface/datasets/tweet_eval/stance_hillary/1.1.0/12aee5282b8784f3e95459466db4cdf45c6bf49719c25cdb0743d71ed0410343)\n"
     ]
    },
    {
     "data": {
      "text/plain": "  0%|          | 0/3 [00:00<?, ?it/s]",
      "application/vnd.jupyter.widget-view+json": {
       "version_major": 2,
       "version_minor": 0,
       "model_id": "9ced7292b5024a7e88fe4c02c7e24a4c"
      }
     },
     "metadata": {},
     "output_type": "display_data"
    }
   ],
   "source": [
    "from datasets import load_dataset\n",
    "\n",
    "dataset = load_dataset(\"tweet_eval\", \"stance_hillary\")"
   ],
   "metadata": {
    "collapsed": false
   }
  },
  {
   "cell_type": "code",
   "execution_count": 3,
   "outputs": [
    {
     "data": {
      "text/plain": "Dataset({\n    features: ['text', 'label'],\n    num_rows: 620\n})"
     },
     "execution_count": 3,
     "metadata": {},
     "output_type": "execute_result"
    }
   ],
   "source": [
    "dataset[\"train\"]"
   ],
   "metadata": {
    "collapsed": false
   }
  },
  {
   "cell_type": "code",
   "execution_count": 4,
   "outputs": [
    {
     "data": {
      "text/plain": "Dataset({\n    features: ['text', 'label'],\n    num_rows: 69\n})"
     },
     "execution_count": 4,
     "metadata": {},
     "output_type": "execute_result"
    }
   ],
   "source": [
    "dataset[\"validation\"]"
   ],
   "metadata": {
    "collapsed": false
   }
  },
  {
   "cell_type": "code",
   "execution_count": 5,
   "outputs": [
    {
     "data": {
      "text/plain": "Dataset({\n    features: ['text', 'label'],\n    num_rows: 69\n})"
     },
     "execution_count": 5,
     "metadata": {},
     "output_type": "execute_result"
    }
   ],
   "source": [
    "dataset[\"validation\"]"
   ],
   "metadata": {
    "collapsed": false
   }
  },
  {
   "cell_type": "code",
   "execution_count": 6,
   "outputs": [],
   "source": [
    "# Load a pre-trained tokenizer\n",
    "tokenizer = AutoTokenizer.from_pretrained(\"albert-base-v2\")\n"
   ],
   "metadata": {
    "collapsed": false
   }
  },
  {
   "cell_type": "code",
   "execution_count": 7,
   "outputs": [],
   "source": [
    "def tokenize_function(example):\n",
    "    return tokenizer(example[\"text\"], padding=\"max_length\", truncation=True, max_length=128)"
   ],
   "metadata": {
    "collapsed": false
   }
  },
  {
   "cell_type": "code",
   "execution_count": 8,
   "outputs": [
    {
     "name": "stderr",
     "output_type": "stream",
     "text": [
      "Loading cached processed dataset at C:\\Users\\User\\.cache\\huggingface\\datasets\\tweet_eval\\stance_hillary\\1.1.0\\12aee5282b8784f3e95459466db4cdf45c6bf49719c25cdb0743d71ed0410343\\cache-c5bcd81f5d767195.arrow\n"
     ]
    },
    {
     "data": {
      "text/plain": "Map:   0%|          | 0/295 [00:00<?, ? examples/s]",
      "application/vnd.jupyter.widget-view+json": {
       "version_major": 2,
       "version_minor": 0,
       "model_id": "cce6bb7e275245a394d55a86724c3cd4"
      }
     },
     "metadata": {},
     "output_type": "display_data"
    },
    {
     "name": "stderr",
     "output_type": "stream",
     "text": [
      "Loading cached processed dataset at C:\\Users\\User\\.cache\\huggingface\\datasets\\tweet_eval\\stance_hillary\\1.1.0\\12aee5282b8784f3e95459466db4cdf45c6bf49719c25cdb0743d71ed0410343\\cache-9ca6dda2aac0766a.arrow\n"
     ]
    }
   ],
   "source": [
    "# Tokenize the dataset\n",
    "tokenized_dataset = dataset.map(tokenize_function, batched=True)\n",
    "\n",
    "# Get the input_ids from the tokenized dataset for train, validation, and test sets\n",
    "train_input_ids = [example['input_ids'] for example in tokenized_dataset['train']]\n",
    "val_input_ids = [example['input_ids'] for example in tokenized_dataset['validation']]\n",
    "test_input_ids = [example['input_ids'] for example in tokenized_dataset['test']]\n",
    "\n",
    "# Convert input_ids to PyTorch tensors\n",
    "train_input_ids = torch.tensor(train_input_ids, dtype=torch.long)\n",
    "val_input_ids = torch.tensor(val_input_ids, dtype=torch.long)\n",
    "test_input_ids = torch.tensor(test_input_ids, dtype=torch.long)\n",
    "\n",
    "# Concatenate the input_ids tensors along the first dimension\n",
    "input_ids = torch.cat((train_input_ids, val_input_ids, test_input_ids), dim=0)\n"
   ],
   "metadata": {
    "collapsed": false
   }
  },
  {
   "cell_type": "code",
   "execution_count": 9,
   "outputs": [
    {
     "name": "stderr",
     "output_type": "stream",
     "text": [
      "Loading cached processed dataset at C:\\Users\\User\\.cache\\huggingface\\datasets\\tweet_eval\\stance_hillary\\1.1.0\\12aee5282b8784f3e95459466db4cdf45c6bf49719c25cdb0743d71ed0410343\\cache-80043f9f65fa7acc.arrow\n",
      "Loading cached processed dataset at C:\\Users\\User\\.cache\\huggingface\\datasets\\tweet_eval\\stance_hillary\\1.1.0\\12aee5282b8784f3e95459466db4cdf45c6bf49719c25cdb0743d71ed0410343\\cache-21b69fc9da4849ea.arrow\n",
      "Loading cached processed dataset at C:\\Users\\User\\.cache\\huggingface\\datasets\\tweet_eval\\stance_hillary\\1.1.0\\12aee5282b8784f3e95459466db4cdf45c6bf49719c25cdb0743d71ed0410343\\cache-9ca6dda2aac0766a.arrow\n"
     ]
    }
   ],
   "source": [
    "# Tokenize the dataset\n",
    "tokenized_dataset = dataset.map(tokenize_function, batched=True)\n",
    "\n",
    "# Get the attention_masks from the tokenized dataset for train, validation, and test sets\n",
    "train_attention_mask = [example['attention_mask'] for example in tokenized_dataset['train']]\n",
    "val_attention_mask = [example['attention_mask'] for example in tokenized_dataset['validation']]\n",
    "test_attention_mask = [example['attention_mask'] for example in tokenized_dataset['test']]\n",
    "\n",
    "# Convert attention_mask to PyTorch tensors\n",
    "train_attention_mask = torch.tensor(train_attention_mask, dtype=torch.long)\n",
    "val_attention_mask = torch.tensor(val_attention_mask, dtype=torch.long)\n",
    "test_attention_mask = torch.tensor(test_attention_mask, dtype=torch.long)\n",
    "\n",
    "# Concatenate the input_ids tensors along the first dimension\n",
    "attention_masks = torch.cat((train_attention_mask, val_attention_mask, test_attention_mask), dim=0)\n"
   ],
   "metadata": {
    "collapsed": false
   }
  },
  {
   "cell_type": "code",
   "execution_count": 10,
   "outputs": [
    {
     "name": "stdout",
     "output_type": "stream",
     "text": [
      "tensor([[    2,   100,    21,  ...,     0,     0,     0],\n",
      "        [    2,    95,    22,  ...,     0,     0,     0],\n",
      "        [    2,   100,    42,  ...,     0,     0,     0],\n",
      "        ...,\n",
      "        [    2,    13,     1,  ...,     0,     0,     0],\n",
      "        [    2, 20733,    92,  ...,     0,     0,     0],\n",
      "        [    2,    32,    22,  ...,     0,     0,     0]])\n"
     ]
    }
   ],
   "source": [
    "print(input_ids)"
   ],
   "metadata": {
    "collapsed": false
   }
  },
  {
   "cell_type": "code",
   "execution_count": 11,
   "outputs": [
    {
     "name": "stdout",
     "output_type": "stream",
     "text": [
      "tensor([[1, 1, 1,  ..., 0, 0, 0],\n",
      "        [1, 1, 1,  ..., 0, 0, 0],\n",
      "        [1, 1, 1,  ..., 0, 0, 0],\n",
      "        ...,\n",
      "        [1, 1, 1,  ..., 0, 0, 0],\n",
      "        [1, 1, 1,  ..., 0, 0, 0],\n",
      "        [1, 1, 1,  ..., 0, 0, 0]])\n"
     ]
    }
   ],
   "source": [
    "print(attention_masks)"
   ],
   "metadata": {
    "collapsed": false
   }
  },
  {
   "cell_type": "code",
   "execution_count": 12,
   "outputs": [],
   "source": [
    "# Split the dataset into train, validation, and test sets\n",
    "train_dataset = tokenized_dataset[\"train\"]\n",
    "val_dataset = tokenized_dataset[\"validation\"]\n",
    "test_dataset = tokenized_dataset[\"test\"]"
   ],
   "metadata": {
    "collapsed": false
   }
  },
  {
   "cell_type": "code",
   "execution_count": 13,
   "outputs": [],
   "source": [
    "# Convert the datasets to PyTorch tensors\n",
    "train_dataset = train_dataset.remove_columns([\"text\"])\n",
    "val_dataset = val_dataset.remove_columns([\"text\"])\n",
    "test_dataset = test_dataset.remove_columns([\"text\"])"
   ],
   "metadata": {
    "collapsed": false
   }
  },
  {
   "cell_type": "code",
   "execution_count": 14,
   "outputs": [],
   "source": [
    "train_dataset.set_format(\"torch\", columns=[\"input_ids\", \"attention_mask\", \"label\"])\n",
    "val_dataset.set_format(\"torch\", columns=[\"input_ids\", \"attention_mask\", \"label\"])\n",
    "test_dataset.set_format(\"torch\", columns=[\"input_ids\", \"attention_mask\", \"label\"])"
   ],
   "metadata": {
    "collapsed": false
   }
  },
  {
   "cell_type": "code",
   "execution_count": 15,
   "outputs": [],
   "source": [
    "class StanceHiliaryModel(nn.Module):\n",
    "    def __init__(self, num_classes=3):\n",
    "        super(StanceHiliaryModel, self).__init__()\n",
    "        self.albert = AlbertModel.from_pretrained('albert-base-v2')\n",
    "        self.dropout = nn.Dropout(0.1)\n",
    "        self.fc = nn.Linear(self.albert.config.hidden_size, num_classes)\n",
    "\n",
    "    def forward(self, input_ids, attention_mask):\n",
    "        outputs = self.albert(input_ids=input_ids, attention_mask=attention_mask)\n",
    "        pooled_output = outputs.pooler_output\n",
    "        pooled_output = self.dropout(pooled_output)\n",
    "        logits = self.fc(pooled_output)\n",
    "        return logits"
   ],
   "metadata": {
    "collapsed": false
   }
  },
  {
   "cell_type": "code",
   "execution_count": 16,
   "outputs": [],
   "source": [
    "device = torch.device(\"cuda\" if torch.cuda.is_available() else \"cpu\")\n"
   ],
   "metadata": {
    "collapsed": false
   }
  },
  {
   "cell_type": "code",
   "execution_count": 17,
   "outputs": [
    {
     "name": "stderr",
     "output_type": "stream",
     "text": [
      "Some weights of the model checkpoint at albert-base-v2 were not used when initializing AlbertModel: ['predictions.decoder.bias', 'predictions.LayerNorm.weight', 'predictions.dense.bias', 'predictions.dense.weight', 'predictions.LayerNorm.bias', 'predictions.bias', 'predictions.decoder.weight']\n",
      "- This IS expected if you are initializing AlbertModel from the checkpoint of a model trained on another task or with another architecture (e.g. initializing a BertForSequenceClassification model from a BertForPreTraining model).\n",
      "- This IS NOT expected if you are initializing AlbertModel from the checkpoint of a model that you expect to be exactly identical (initializing a BertForSequenceClassification model from a BertForSequenceClassification model).\n"
     ]
    }
   ],
   "source": [
    "# instantiate your model\n",
    "stance_hillary_model = StanceHiliaryModel(num_classes=3).to(device)"
   ],
   "metadata": {
    "collapsed": false
   }
  },
  {
   "cell_type": "code",
   "execution_count": 18,
   "outputs": [],
   "source": [
    "# define your loss function\n",
    "criterion = nn.CrossEntropyLoss()\n",
    "\n",
    "# define your optimizer\n",
    "optimizer = torch.optim.Adam(stance_hillary_model.parameters(), lr=0.01)"
   ],
   "metadata": {
    "collapsed": false
   }
  },
  {
   "cell_type": "code",
   "execution_count": 19,
   "outputs": [],
   "source": [
    "# set up your training, validation, and test dataloaders\n",
    "train_loader = DataLoader(train_dataset, batch_size=16, shuffle=True)\n",
    "val_loader = DataLoader(val_dataset, batch_size=16)\n",
    "test_loader = DataLoader(test_dataset, batch_size=16)"
   ],
   "metadata": {
    "collapsed": false
   }
  },
  {
   "cell_type": "code",
   "execution_count": 20,
   "outputs": [
    {
     "name": "stdout",
     "output_type": "stream",
     "text": [
      "{'label': tensor([1, 0, 1, 0, 0, 1, 2, 0, 1, 1, 2, 1, 2, 2, 1, 0]), 'input_ids': tensor([[   2,  419,   31,  ...,    0,    0,    0],\n",
      "        [   2,   31,  221,  ...,    0,    0,    0],\n",
      "        [   2,   13,    1,  ...,    0,    0,    0],\n",
      "        ...,\n",
      "        [   2,   13,    1,  ...,    0,    0,    0],\n",
      "        [   2, 6926, 4205,  ...,    0,    0,    0],\n",
      "        [   2,   13, 5256,  ...,    0,    0,    0]]), 'attention_mask': tensor([[1, 1, 1,  ..., 0, 0, 0],\n",
      "        [1, 1, 1,  ..., 0, 0, 0],\n",
      "        [1, 1, 1,  ..., 0, 0, 0],\n",
      "        ...,\n",
      "        [1, 1, 1,  ..., 0, 0, 0],\n",
      "        [1, 1, 1,  ..., 0, 0, 0],\n",
      "        [1, 1, 1,  ..., 0, 0, 0]])}\n",
      "{'label': tensor([1, 2, 2, 2, 1, 0, 1, 1, 2, 2, 2, 0, 1, 0, 1, 0]), 'input_ids': tensor([[   2,   32,   22,  ...,    0,    0,    0],\n",
      "        [   2,  441,   21,  ...,    0,    0,    0],\n",
      "        [   2,  104,   19,  ...,    0,    0,    0],\n",
      "        ...,\n",
      "        [   2,   13,    1,  ...,    0,    0,    0],\n",
      "        [   2, 8083,   26,  ...,    0,    0,    0],\n",
      "        [   2,   13,    1,  ...,    0,    0,    0]]), 'attention_mask': tensor([[1, 1, 1,  ..., 0, 0, 0],\n",
      "        [1, 1, 1,  ..., 0, 0, 0],\n",
      "        [1, 1, 1,  ..., 0, 0, 0],\n",
      "        ...,\n",
      "        [1, 1, 1,  ..., 0, 0, 0],\n",
      "        [1, 1, 1,  ..., 0, 0, 0],\n",
      "        [1, 1, 1,  ..., 0, 0, 0]])}\n",
      "{'label': tensor([1, 1, 0, 0, 2, 1, 1, 1, 1, 0, 0, 1, 2, 1, 2, 0]), 'input_ids': tensor([[   2,  130,   30,  ...,    0,    0,    0],\n",
      "        [   2,   13, 5256,  ...,    0,    0,    0],\n",
      "        [   2,   13,    1,  ...,    0,    0,    0],\n",
      "        ...,\n",
      "        [   2,   13,    1,  ...,    0,    0,    0],\n",
      "        [   2,   32,   22,  ...,    0,    0,    0],\n",
      "        [   2,   13,    1,  ...,    0,    0,    0]]), 'attention_mask': tensor([[1, 1, 1,  ..., 0, 0, 0],\n",
      "        [1, 1, 1,  ..., 0, 0, 0],\n",
      "        [1, 1, 1,  ..., 0, 0, 0],\n",
      "        ...,\n",
      "        [1, 1, 1,  ..., 0, 0, 0],\n",
      "        [1, 1, 1,  ..., 0, 0, 0],\n",
      "        [1, 1, 1,  ..., 0, 0, 0]])}\n",
      "{'label': tensor([1, 1, 1, 2, 1, 1, 1, 1, 1, 0, 1, 1, 1, 0, 2, 1]), 'input_ids': tensor([[    2, 20733,    22,  ...,     0,     0,     0],\n",
      "        [    2,  6926,  2256,  ...,     0,     0,     0],\n",
      "        [    2,    13,     1,  ...,     0,     0,     0],\n",
      "        ...,\n",
      "        [    2,  6926, 11559,  ...,     0,     0,     0],\n",
      "        [    2,    31,   277,  ...,     0,     0,     0],\n",
      "        [    2,    92,    13,  ...,     0,     0,     0]]), 'attention_mask': tensor([[1, 1, 1,  ..., 0, 0, 0],\n",
      "        [1, 1, 1,  ..., 0, 0, 0],\n",
      "        [1, 1, 1,  ..., 0, 0, 0],\n",
      "        ...,\n",
      "        [1, 1, 1,  ..., 0, 0, 0],\n",
      "        [1, 1, 1,  ..., 0, 0, 0],\n",
      "        [1, 1, 1,  ..., 0, 0, 0]])}\n",
      "{'label': tensor([0, 1, 2, 0, 0, 0, 1, 0, 1, 0, 1, 1, 0, 1, 1, 0]), 'input_ids': tensor([[   2, 4037,   17,  ...,    0,    0,    0],\n",
      "        [   2,   31,  114,  ...,    0,    0,    0],\n",
      "        [   2,  585, 1096,  ...,    0,    0,    0],\n",
      "        ...,\n",
      "        [   2,  185, 3505,  ...,    0,    0,    0],\n",
      "        [   2,  100,   42,  ...,    0,    0,    0],\n",
      "        [   2,   13,    1,  ...,    0,    0,    0]]), 'attention_mask': tensor([[1, 1, 1,  ..., 0, 0, 0],\n",
      "        [1, 1, 1,  ..., 0, 0, 0],\n",
      "        [1, 1, 1,  ..., 0, 0, 0],\n",
      "        ...,\n",
      "        [1, 1, 1,  ..., 0, 0, 0],\n",
      "        [1, 1, 1,  ..., 0, 0, 0],\n",
      "        [1, 1, 1,  ..., 0, 0, 0]])}\n",
      "{'label': tensor([0, 1, 2, 1, 1, 1, 1, 1, 0, 1, 1, 1, 2, 1, 1, 2]), 'input_ids': tensor([[    2,  3669,    13,  ...,     0,     0,     0],\n",
      "        [    2,    13,     1,  ...,     0,     0,     0],\n",
      "        [    2, 20733,  6320,  ...,     0,     0,     0],\n",
      "        ...,\n",
      "        [    2,   374,  7534,  ...,     0,     0,     0],\n",
      "        [    2,    13,  5256,  ...,     0,     0,     0],\n",
      "        [    2,    13,     1,  ...,     0,     0,     0]]), 'attention_mask': tensor([[1, 1, 1,  ..., 0, 0, 0],\n",
      "        [1, 1, 1,  ..., 0, 0, 0],\n",
      "        [1, 1, 1,  ..., 0, 0, 0],\n",
      "        ...,\n",
      "        [1, 1, 1,  ..., 0, 0, 0],\n",
      "        [1, 1, 1,  ..., 0, 0, 0],\n",
      "        [1, 1, 1,  ..., 0, 0, 0]])}\n",
      "{'label': tensor([1, 1, 0, 0, 0, 2, 2, 1, 0, 1, 2, 1, 2, 1, 0, 1]), 'input_ids': tensor([[    2,   287,  3923,  ...,     0,     0,     0],\n",
      "        [    2,    13,     1,  ...,     0,     0,     0],\n",
      "        [    2,    13,     1,  ...,     0,     0,     0],\n",
      "        ...,\n",
      "        [    2,   107,    42,  ...,     0,     0,     0],\n",
      "        [    2,    21,   358,  ...,     0,     0,     0],\n",
      "        [    2,   100, 20733,  ...,     0,     0,     0]]), 'attention_mask': tensor([[1, 1, 1,  ..., 0, 0, 0],\n",
      "        [1, 1, 1,  ..., 0, 0, 0],\n",
      "        [1, 1, 1,  ..., 0, 0, 0],\n",
      "        ...,\n",
      "        [1, 1, 1,  ..., 0, 0, 0],\n",
      "        [1, 1, 1,  ..., 0, 0, 0],\n",
      "        [1, 1, 1,  ..., 0, 0, 0]])}\n",
      "{'label': tensor([2, 1, 0, 1, 1, 2, 1, 1, 1, 0, 1, 2, 1, 0, 2, 1]), 'input_ids': tensor([[    2,    13,     1,  ...,     0,     0,     0],\n",
      "        [    2, 29183,     9,  ...,     0,     0,     0],\n",
      "        [    2,    13,     1,  ...,     0,     0,     0],\n",
      "        ...,\n",
      "        [    2,    13,     1,  ...,     0,     0,     0],\n",
      "        [    2,    13,     1,  ...,     0,     0,     0],\n",
      "        [    2, 13533,    15,  ...,     0,     0,     0]]), 'attention_mask': tensor([[1, 1, 1,  ..., 0, 0, 0],\n",
      "        [1, 1, 1,  ..., 0, 0, 0],\n",
      "        [1, 1, 1,  ..., 0, 0, 0],\n",
      "        ...,\n",
      "        [1, 1, 1,  ..., 0, 0, 0],\n",
      "        [1, 1, 1,  ..., 0, 0, 0],\n",
      "        [1, 1, 1,  ..., 0, 0, 0]])}\n",
      "{'label': tensor([1, 1, 1, 1, 1, 0, 1, 1, 0, 1, 1, 1, 1, 1, 2, 1]), 'input_ids': tensor([[   2,   13,    9,  ...,    0,    0,    0],\n",
      "        [   2, 6926, 4881,  ...,    0,    0,    0],\n",
      "        [   2,   13,    1,  ...,    0,    0,    0],\n",
      "        ...,\n",
      "        [   2,   13,    1,  ...,    0,    0,    0],\n",
      "        [   2,  550, 5226,  ...,    0,    0,    0],\n",
      "        [   2,   13,    1,  ...,    0,    0,    0]]), 'attention_mask': tensor([[1, 1, 1,  ..., 0, 0, 0],\n",
      "        [1, 1, 1,  ..., 0, 0, 0],\n",
      "        [1, 1, 1,  ..., 0, 0, 0],\n",
      "        ...,\n",
      "        [1, 1, 1,  ..., 0, 0, 0],\n",
      "        [1, 1, 1,  ..., 0, 0, 0],\n",
      "        [1, 1, 1,  ..., 0, 0, 0]])}\n",
      "{'label': tensor([0, 1, 1, 0, 0, 1, 1, 0, 0, 1, 2, 0, 0, 0, 1, 0]), 'input_ids': tensor([[    2,    13, 13351,  ...,     0,     0,     0],\n",
      "        [    2,    39,    22,  ...,     0,     0,     0],\n",
      "        [    2,  6926, 16720,  ...,     0,     0,     0],\n",
      "        ...,\n",
      "        [    2,  2385,   996,  ...,     0,     0,     0],\n",
      "        [    2,  3161,   996,  ...,     0,     0,     0],\n",
      "        [    2,  4128, 20197,  ...,     0,     0,     0]]), 'attention_mask': tensor([[1, 1, 1,  ..., 0, 0, 0],\n",
      "        [1, 1, 1,  ..., 0, 0, 0],\n",
      "        [1, 1, 1,  ..., 0, 0, 0],\n",
      "        ...,\n",
      "        [1, 1, 1,  ..., 0, 0, 0],\n",
      "        [1, 1, 1,  ..., 0, 0, 0],\n",
      "        [1, 1, 1,  ..., 0, 0, 0]])}\n",
      "{'label': tensor([0, 1, 0, 0, 0, 0, 1, 1, 0, 1, 1, 0, 1, 1, 1, 1]), 'input_ids': tensor([[  2,  13,   1,  ...,   0,   0,   0],\n",
      "        [  2,  13,   1,  ...,   0,   0,   0],\n",
      "        [  2,  13,   1,  ...,   0,   0,   0],\n",
      "        ...,\n",
      "        [  2, 184,  92,  ...,   0,   0,   0],\n",
      "        [  2,  13,   1,  ...,   0,   0,   0],\n",
      "        [  2,  13,   1,  ...,   0,   0,   0]]), 'attention_mask': tensor([[1, 1, 1,  ..., 0, 0, 0],\n",
      "        [1, 1, 1,  ..., 0, 0, 0],\n",
      "        [1, 1, 1,  ..., 0, 0, 0],\n",
      "        ...,\n",
      "        [1, 1, 1,  ..., 0, 0, 0],\n",
      "        [1, 1, 1,  ..., 0, 0, 0],\n",
      "        [1, 1, 1,  ..., 0, 0, 0]])}\n",
      "{'label': tensor([0, 1, 1, 1, 1, 1, 0, 0, 0, 1, 0, 1, 1, 2, 2, 1]), 'input_ids': tensor([[   2,   13,    1,  ...,    0,    0,    0],\n",
      "        [   2,  100,   31,  ...,    0,    0,    0],\n",
      "        [   2,  628,   29,  ...,    0,    0,    0],\n",
      "        ...,\n",
      "        [   2,   13,    1,  ...,    0,    0,    0],\n",
      "        [   2, 6926, 3843,  ...,    0,    0,    0],\n",
      "        [   2,  359,   15,  ...,    0,    0,    0]]), 'attention_mask': tensor([[1, 1, 1,  ..., 0, 0, 0],\n",
      "        [1, 1, 1,  ..., 0, 0, 0],\n",
      "        [1, 1, 1,  ..., 0, 0, 0],\n",
      "        ...,\n",
      "        [1, 1, 1,  ..., 0, 0, 0],\n",
      "        [1, 1, 1,  ..., 0, 0, 0],\n",
      "        [1, 1, 1,  ..., 0, 0, 0]])}\n",
      "{'label': tensor([0, 1, 0, 1, 1, 0, 1, 0, 1, 1, 2, 1, 0, 2, 2, 1]), 'input_ids': tensor([[   2,  266,  463,  ...,    0,    0,    0],\n",
      "        [   2, 6926, 3843,  ...,    0,    0,    0],\n",
      "        [   2,   13,    1,  ...,    0,    0,    0],\n",
      "        ...,\n",
      "        [   2,   13,    9,  ...,    0,    0,    0],\n",
      "        [   2,  279,   31,  ...,    0,    0,    0],\n",
      "        [   2,   13,    1,  ...,    0,    0,    0]]), 'attention_mask': tensor([[1, 1, 1,  ..., 0, 0, 0],\n",
      "        [1, 1, 1,  ..., 0, 0, 0],\n",
      "        [1, 1, 1,  ..., 0, 0, 0],\n",
      "        ...,\n",
      "        [1, 1, 1,  ..., 0, 0, 0],\n",
      "        [1, 1, 1,  ..., 0, 0, 0],\n",
      "        [1, 1, 1,  ..., 0, 0, 0]])}\n",
      "{'label': tensor([1, 0, 1, 2, 1, 2, 1, 1, 1, 2, 1, 1, 2, 0, 1, 2]), 'input_ids': tensor([[   2,   13,    1,  ...,    0,    0,    0],\n",
      "        [   2,   13,    1,  ...,    0,    0,    0],\n",
      "        [   2,   13,  118,  ...,    0,    0,    0],\n",
      "        ...,\n",
      "        [   2,   13,    1,  ...,    0,    0,    0],\n",
      "        [   2,   13,    1,  ...,    0,    0,    0],\n",
      "        [   2, 4907,  287,  ...,    0,    0,    0]]), 'attention_mask': tensor([[1, 1, 1,  ..., 0, 0, 0],\n",
      "        [1, 1, 1,  ..., 0, 0, 0],\n",
      "        [1, 1, 1,  ..., 0, 0, 0],\n",
      "        ...,\n",
      "        [1, 1, 1,  ..., 0, 0, 0],\n",
      "        [1, 1, 1,  ..., 0, 0, 0],\n",
      "        [1, 1, 1,  ..., 0, 0, 0]])}\n",
      "{'label': tensor([1, 1, 2, 2, 0, 0, 2, 2, 2, 1, 1, 1, 0, 1, 1, 1]), 'input_ids': tensor([[   2,   13,    1,  ...,    0,    0,    0],\n",
      "        [   2,  483,   25,  ...,    0,    0,    0],\n",
      "        [   2,   86,   76,  ...,    0,    0,    0],\n",
      "        ...,\n",
      "        [   2,  179, 6926,  ...,    0,    0,    0],\n",
      "        [   2,   13,    1,  ...,    0,    0,    0],\n",
      "        [   2,   13,    1,  ...,    0,    0,    0]]), 'attention_mask': tensor([[1, 1, 1,  ..., 0, 0, 0],\n",
      "        [1, 1, 1,  ..., 0, 0, 0],\n",
      "        [1, 1, 1,  ..., 0, 0, 0],\n",
      "        ...,\n",
      "        [1, 1, 1,  ..., 0, 0, 0],\n",
      "        [1, 1, 1,  ..., 0, 0, 0],\n",
      "        [1, 1, 1,  ..., 0, 0, 0]])}\n",
      "{'label': tensor([0, 1, 1, 2, 1, 2, 1, 2, 0, 1, 2, 1, 2, 1, 0, 0]), 'input_ids': tensor([[    2,    13,     1,  ...,     0,     0,     0],\n",
      "        [    2,   221,    22,  ...,     0,     0,     0],\n",
      "        [    2,    13,     1,  ...,     0,     0,     0],\n",
      "        ...,\n",
      "        [    2, 20733,  6320,  ...,     0,     0,     0],\n",
      "        [    2,   253,  7178,  ...,     0,     0,     0],\n",
      "        [    2,    31,    22,  ...,     0,     0,     0]]), 'attention_mask': tensor([[1, 1, 1,  ..., 0, 0, 0],\n",
      "        [1, 1, 1,  ..., 0, 0, 0],\n",
      "        [1, 1, 1,  ..., 0, 0, 0],\n",
      "        ...,\n",
      "        [1, 1, 1,  ..., 0, 0, 0],\n",
      "        [1, 1, 1,  ..., 0, 0, 0],\n",
      "        [1, 1, 1,  ..., 0, 0, 0]])}\n",
      "{'label': tensor([1, 1, 1, 2, 0, 1, 1, 0, 0, 0, 2, 1, 2, 1, 1, 1]), 'input_ids': tensor([[    2,    13,     1,  ...,     0,     0,     0],\n",
      "        [    2,  6926,  3843,  ...,     0,     0,     0],\n",
      "        [    2,    31,    83,  ...,     0,     0,     0],\n",
      "        ...,\n",
      "        [    2,  6926, 20310,  ...,     0,     0,     0],\n",
      "        [    2,    95,    92,  ...,     0,     0,     0],\n",
      "        [    2,    13,     1,  ...,     0,     0,     0]]), 'attention_mask': tensor([[1, 1, 1,  ..., 0, 0, 0],\n",
      "        [1, 1, 1,  ..., 0, 0, 0],\n",
      "        [1, 1, 1,  ..., 0, 0, 0],\n",
      "        ...,\n",
      "        [1, 1, 1,  ..., 0, 0, 0],\n",
      "        [1, 1, 1,  ..., 0, 0, 0],\n",
      "        [1, 1, 1,  ..., 0, 0, 0]])}\n",
      "{'label': tensor([1, 1, 1, 1, 1, 0, 2, 1, 1, 0, 1, 2, 1, 0, 2, 1]), 'input_ids': tensor([[    2,   825,    16,  ...,     0,     0,     0],\n",
      "        [    2,    13,     1,  ...,     0,     0,     0],\n",
      "        [    2,  6926,  4881,  ...,     0,     0,     0],\n",
      "        ...,\n",
      "        [    2,    13,  5256,  ...,     0,     0,     0],\n",
      "        [    2,    13,     1,  ...,     0,     0,     0],\n",
      "        [    2, 20733,  4184,  ...,     0,     0,     0]]), 'attention_mask': tensor([[1, 1, 1,  ..., 0, 0, 0],\n",
      "        [1, 1, 1,  ..., 0, 0, 0],\n",
      "        [1, 1, 1,  ..., 0, 0, 0],\n",
      "        ...,\n",
      "        [1, 1, 1,  ..., 0, 0, 0],\n",
      "        [1, 1, 1,  ..., 0, 0, 0],\n",
      "        [1, 1, 1,  ..., 0, 0, 0]])}\n",
      "{'label': tensor([0, 0, 1, 1, 0, 2, 1, 1, 1, 1, 1, 1, 1, 1, 1, 1]), 'input_ids': tensor([[    2,  1448,    29,  ...,     0,     0,     0],\n",
      "        [    2,   690,    25,  ...,     0,     0,     0],\n",
      "        [    2,    13,     9,  ...,     0,     0,     0],\n",
      "        ...,\n",
      "        [    2, 29688,    18,  ...,     0,     0,     0],\n",
      "        [    2,    86,    13,  ...,     0,     0,     0],\n",
      "        [    2,    13,     1,  ...,     0,     0,     0]]), 'attention_mask': tensor([[1, 1, 1,  ..., 0, 0, 0],\n",
      "        [1, 1, 1,  ..., 0, 0, 0],\n",
      "        [1, 1, 1,  ..., 0, 0, 0],\n",
      "        ...,\n",
      "        [1, 1, 1,  ..., 0, 0, 0],\n",
      "        [1, 1, 1,  ..., 0, 0, 0],\n",
      "        [1, 1, 1,  ..., 0, 0, 0]])}\n",
      "{'label': tensor([1, 0, 1, 0, 0, 1, 1, 2, 0, 0, 1, 0, 1, 0, 0, 2]), 'input_ids': tensor([[    2,   699,   917,  ...,     0,     0,     0],\n",
      "        [    2, 15293,    13,  ...,     0,     0,     0],\n",
      "        [    2,    13,     1,  ...,     0,     0,     0],\n",
      "        ...,\n",
      "        [    2,    31,   589,  ...,     0,     0,     0],\n",
      "        [    2,    13,     1,  ...,     0,     0,     0],\n",
      "        [    2,    13,     1,  ...,     0,     0,     0]]), 'attention_mask': tensor([[1, 1, 1,  ..., 0, 0, 0],\n",
      "        [1, 1, 1,  ..., 0, 0, 0],\n",
      "        [1, 1, 1,  ..., 0, 0, 0],\n",
      "        ...,\n",
      "        [1, 1, 1,  ..., 0, 0, 0],\n",
      "        [1, 1, 1,  ..., 0, 0, 0],\n",
      "        [1, 1, 1,  ..., 0, 0, 0]])}\n",
      "{'label': tensor([2, 1, 1, 0, 1, 0, 1, 1, 1, 1, 1, 2, 1, 2, 1, 0]), 'input_ids': tensor([[    2,    23,   411,  ...,     0,     0,     0],\n",
      "        [    2, 20733,  2274,  ...,     0,     0,     0],\n",
      "        [    2,    83,    42,  ...,     0,     0,     0],\n",
      "        ...,\n",
      "        [    2,    13,     1,  ...,     0,     0,     0],\n",
      "        [    2,  1643,    15,  ...,     0,     0,     0],\n",
      "        [    2,    19,   183,  ...,     0,     0,     0]]), 'attention_mask': tensor([[1, 1, 1,  ..., 0, 0, 0],\n",
      "        [1, 1, 1,  ..., 0, 0, 0],\n",
      "        [1, 1, 1,  ..., 0, 0, 0],\n",
      "        ...,\n",
      "        [1, 1, 1,  ..., 0, 0, 0],\n",
      "        [1, 1, 1,  ..., 0, 0, 0],\n",
      "        [1, 1, 1,  ..., 0, 0, 0]])}\n",
      "{'label': tensor([1, 0, 1, 1, 1, 2, 1, 1, 0, 1, 1, 1, 1, 1, 0, 0]), 'input_ids': tensor([[   2,  273, 4847,  ...,    0,    0,    0],\n",
      "        [   2,   13,    1,  ...,    0,    0,    0],\n",
      "        [   2,   13,    1,  ...,    0,    0,    0],\n",
      "        ...,\n",
      "        [   2,   13,    1,  ...,    0,    0,    0],\n",
      "        [   2,   31,  259,  ...,    0,    0,    0],\n",
      "        [   2,   13,    1,  ...,    0,    0,    0]]), 'attention_mask': tensor([[1, 1, 1,  ..., 0, 0, 0],\n",
      "        [1, 1, 1,  ..., 0, 0, 0],\n",
      "        [1, 1, 1,  ..., 0, 0, 0],\n",
      "        ...,\n",
      "        [1, 1, 1,  ..., 0, 0, 0],\n",
      "        [1, 1, 1,  ..., 0, 0, 0],\n",
      "        [1, 1, 1,  ..., 0, 0, 0]])}\n",
      "{'label': tensor([1, 2, 0, 2, 0, 1, 0, 1, 2, 1, 2, 0, 1, 1, 2, 0]), 'input_ids': tensor([[    2, 20733,    92,  ...,     0,     0,     0],\n",
      "        [    2,    31,  5676,  ...,     0,     0,     0],\n",
      "        [    2,    13,     1,  ...,     0,     0,     0],\n",
      "        ...,\n",
      "        [    2,    13,     1,  ...,     0,     0,     0],\n",
      "        [    2,  6926,  4583,  ...,     0,     0,     0],\n",
      "        [    2,  1219,   917,  ...,     0,     0,     0]]), 'attention_mask': tensor([[1, 1, 1,  ..., 0, 0, 0],\n",
      "        [1, 1, 1,  ..., 0, 0, 0],\n",
      "        [1, 1, 1,  ..., 0, 0, 0],\n",
      "        ...,\n",
      "        [1, 1, 1,  ..., 0, 0, 0],\n",
      "        [1, 1, 1,  ..., 0, 0, 0],\n",
      "        [1, 1, 1,  ..., 0, 0, 0]])}\n",
      "{'label': tensor([1, 0, 1, 0, 0, 1, 1, 1, 0, 1, 0, 1, 0, 2, 2, 0]), 'input_ids': tensor([[    2,    13,     1,  ...,     0,     0,     0],\n",
      "        [    2,  6926, 10595,  ...,     0,     0,     0],\n",
      "        [    2,    13,     1,  ...,     0,     0,     0],\n",
      "        ...,\n",
      "        [    2,    13,     1,  ...,     0,     0,     0],\n",
      "        [    2,    13,     1,  ...,     0,     0,     0],\n",
      "        [    2,    31,    22,  ...,     0,     0,     0]]), 'attention_mask': tensor([[1, 1, 1,  ..., 0, 0, 0],\n",
      "        [1, 1, 1,  ..., 0, 0, 0],\n",
      "        [1, 1, 1,  ..., 0, 0, 0],\n",
      "        ...,\n",
      "        [1, 1, 1,  ..., 0, 0, 0],\n",
      "        [1, 1, 1,  ..., 0, 0, 0],\n",
      "        [1, 1, 1,  ..., 0, 0, 0]])}\n",
      "{'label': tensor([1, 2, 2, 1, 2, 1, 2, 1, 2, 0, 1, 1, 1, 0, 1, 1]), 'input_ids': tensor([[  2,  13,   1,  ...,   0,   0,   0],\n",
      "        [  2,  13,   1,  ...,   0,   0,   0],\n",
      "        [  2,  13,   1,  ...,   0,   0,   0],\n",
      "        ...,\n",
      "        [  2,  13,   1,  ...,   0,   0,   0],\n",
      "        [  2, 172, 507,  ...,   0,   0,   0],\n",
      "        [  2,  13,   1,  ...,   0,   0,   0]]), 'attention_mask': tensor([[1, 1, 1,  ..., 0, 0, 0],\n",
      "        [1, 1, 1,  ..., 0, 0, 0],\n",
      "        [1, 1, 1,  ..., 0, 0, 0],\n",
      "        ...,\n",
      "        [1, 1, 1,  ..., 0, 0, 0],\n",
      "        [1, 1, 1,  ..., 0, 0, 0],\n",
      "        [1, 1, 1,  ..., 0, 0, 0]])}\n",
      "{'label': tensor([1, 1, 2, 2, 2, 1, 1, 1, 1, 1, 1, 1, 1, 0, 0, 1]), 'input_ids': tensor([[    2,    31,    22,  ...,     0,     0,     0],\n",
      "        [    2,    32,    22,  ...,     0,     0,     0],\n",
      "        [    2,    13,  5256,  ...,     0,     0,     0],\n",
      "        ...,\n",
      "        [    2,    13,     1,  ...,     0,     0,     0],\n",
      "        [    2,    31,   129,  ...,     0,     0,     0],\n",
      "        [    2, 20733,    45,  ...,     0,     0,     0]]), 'attention_mask': tensor([[1, 1, 1,  ..., 0, 0, 0],\n",
      "        [1, 1, 1,  ..., 0, 0, 0],\n",
      "        [1, 1, 1,  ..., 0, 0, 0],\n",
      "        ...,\n",
      "        [1, 1, 1,  ..., 0, 0, 0],\n",
      "        [1, 1, 1,  ..., 0, 0, 0],\n",
      "        [1, 1, 1,  ..., 0, 0, 0]])}\n",
      "{'label': tensor([0, 1, 1, 1, 1, 1, 1, 1, 0, 1, 0, 2, 1, 1, 0, 1]), 'input_ids': tensor([[   2,   13,    1,  ...,    0,    0,    0],\n",
      "        [   2,   28,  456,  ...,    0,    0,    0],\n",
      "        [   2,   13, 5256,  ...,    0,    0,    0],\n",
      "        ...,\n",
      "        [   2, 7677,  590,  ...,    0,    0,    0],\n",
      "        [   2,   13,    1,  ...,    0,    0,    0],\n",
      "        [   2, 4406,  746,  ...,    0,    0,    0]]), 'attention_mask': tensor([[1, 1, 1,  ..., 0, 0, 0],\n",
      "        [1, 1, 1,  ..., 0, 0, 0],\n",
      "        [1, 1, 1,  ..., 0, 0, 0],\n",
      "        ...,\n",
      "        [1, 1, 1,  ..., 0, 0, 0],\n",
      "        [1, 1, 1,  ..., 0, 0, 0],\n",
      "        [1, 1, 1,  ..., 0, 0, 0]])}\n",
      "{'label': tensor([1, 1, 1, 2, 1, 1, 0, 1, 1, 1, 1, 1, 1, 1, 1, 1]), 'input_ids': tensor([[   2,   31,  259,  ...,    0,    0,    0],\n",
      "        [   2,   13,    1,  ...,    0,    0,    0],\n",
      "        [   2,   31, 1868,  ...,    0,    0,    0],\n",
      "        ...,\n",
      "        [   2,   13, 5256,  ...,    0,    0,    0],\n",
      "        [   2,  555, 6926,  ...,    0,    0,    0],\n",
      "        [   2,   13,    1,  ...,    0,    0,    0]]), 'attention_mask': tensor([[1, 1, 1,  ..., 0, 0, 0],\n",
      "        [1, 1, 1,  ..., 0, 0, 0],\n",
      "        [1, 1, 1,  ..., 0, 0, 0],\n",
      "        ...,\n",
      "        [1, 1, 1,  ..., 0, 0, 0],\n",
      "        [1, 1, 1,  ..., 0, 0, 0],\n",
      "        [1, 1, 1,  ..., 0, 0, 0]])}\n",
      "{'label': tensor([1, 1, 1, 1, 1, 0, 1, 1, 2, 1, 2, 1, 1, 2, 1, 2]), 'input_ids': tensor([[   2,   65, 4878,  ...,    0,    0,    0],\n",
      "        [   2,   13,    1,  ...,    0,    0,    0],\n",
      "        [   2,   13,    1,  ...,    0,    0,    0],\n",
      "        ...,\n",
      "        [   2, 8659, 9686,  ...,    0,    0,    0],\n",
      "        [   2,   31,  555,  ...,    0,    0,    0],\n",
      "        [   2,   13,    1,  ...,    0,    0,    0]]), 'attention_mask': tensor([[1, 1, 1,  ..., 0, 0, 0],\n",
      "        [1, 1, 1,  ..., 0, 0, 0],\n",
      "        [1, 1, 1,  ..., 0, 0, 0],\n",
      "        ...,\n",
      "        [1, 1, 1,  ..., 0, 0, 0],\n",
      "        [1, 1, 1,  ..., 0, 0, 0],\n",
      "        [1, 1, 1,  ..., 0, 0, 0]])}\n",
      "{'label': tensor([1, 0, 1, 1, 2, 2, 1, 1, 2, 0, 1, 0, 0, 1, 0, 2]), 'input_ids': tensor([[   2,   13,    1,  ...,    0,    0,    0],\n",
      "        [   2,   13,    1,  ...,    0,    0,    0],\n",
      "        [   2,   13,    1,  ...,    0,    0,    0],\n",
      "        ...,\n",
      "        [   2, 6926, 3843,  ...,    0,    0,    0],\n",
      "        [   2,   13,    1,  ...,    0,    0,    0],\n",
      "        [   2,   13,    1,  ...,    0,    0,    0]]), 'attention_mask': tensor([[1, 1, 1,  ..., 0, 0, 0],\n",
      "        [1, 1, 1,  ..., 0, 0, 0],\n",
      "        [1, 1, 1,  ..., 0, 0, 0],\n",
      "        ...,\n",
      "        [1, 1, 1,  ..., 0, 0, 0],\n",
      "        [1, 1, 1,  ..., 0, 0, 0],\n",
      "        [1, 1, 1,  ..., 0, 0, 0]])}\n",
      "{'label': tensor([0, 0, 0, 2, 0, 1, 1, 2, 1, 1, 1, 1, 0, 1, 1, 1]), 'input_ids': tensor([[   2, 1865,   14,  ...,    0,    0,    0],\n",
      "        [   2,   13,    1,  ...,    0,    0,    0],\n",
      "        [   2,   31,   22,  ...,    0,    0,    0],\n",
      "        ...,\n",
      "        [   2,   13,    1,  ...,    0,    0,    0],\n",
      "        [   2,  107,  740,  ...,    0,    0,    0],\n",
      "        [   2, 7700, 9385,  ...,    0,    0,    0]]), 'attention_mask': tensor([[1, 1, 1,  ..., 0, 0, 0],\n",
      "        [1, 1, 1,  ..., 0, 0, 0],\n",
      "        [1, 1, 1,  ..., 0, 0, 0],\n",
      "        ...,\n",
      "        [1, 1, 1,  ..., 0, 0, 0],\n",
      "        [1, 1, 1,  ..., 0, 0, 0],\n",
      "        [1, 1, 1,  ..., 0, 0, 0]])}\n",
      "{'label': tensor([1, 0, 0, 1, 0, 1, 1, 2, 0, 2, 1, 1, 1, 1, 0, 0]), 'input_ids': tensor([[   2, 3531,   42,  ...,    0,    0,    0],\n",
      "        [   2,  408,   22,  ...,    0,    0,    0],\n",
      "        [   2,   31,  114,  ...,    0,    0,    0],\n",
      "        ...,\n",
      "        [   2,   83,   30,  ...,    0,    0,    0],\n",
      "        [   2,   51,  184,  ...,    0,    0,    0],\n",
      "        [   2,   13,    1,  ...,    0,    0,    0]]), 'attention_mask': tensor([[1, 1, 1,  ..., 0, 0, 0],\n",
      "        [1, 1, 1,  ..., 0, 0, 0],\n",
      "        [1, 1, 1,  ..., 0, 0, 0],\n",
      "        ...,\n",
      "        [1, 1, 1,  ..., 0, 0, 0],\n",
      "        [1, 1, 1,  ..., 0, 0, 0],\n",
      "        [1, 1, 1,  ..., 0, 0, 0]])}\n",
      "{'label': tensor([1, 0, 0, 1, 1, 1, 2, 0, 0, 1, 2, 2, 1, 1, 1, 1]), 'input_ids': tensor([[   2,   92, 1276,  ...,    0,    0,    0],\n",
      "        [   2,   13, 5256,  ...,    0,    0,    0],\n",
      "        [   2,  172,  148,  ...,    0,    0,    0],\n",
      "        ...,\n",
      "        [   2, 2167,   58,  ...,    0,    0,    0],\n",
      "        [   2,   13,    1,  ...,    0,    0,    0],\n",
      "        [   2,   13,    1,  ...,    0,    0,    0]]), 'attention_mask': tensor([[1, 1, 1,  ..., 0, 0, 0],\n",
      "        [1, 1, 1,  ..., 0, 0, 0],\n",
      "        [1, 1, 1,  ..., 0, 0, 0],\n",
      "        ...,\n",
      "        [1, 1, 1,  ..., 0, 0, 0],\n",
      "        [1, 1, 1,  ..., 0, 0, 0],\n",
      "        [1, 1, 1,  ..., 0, 0, 0]])}\n",
      "{'label': tensor([1, 2, 1, 1, 1, 1, 1, 0, 1, 1, 0, 1, 0, 0, 1, 1]), 'input_ids': tensor([[    2,    13,     1,  ...,     0,     0,     0],\n",
      "        [    2, 22533,   406,  ...,     0,     0,     0],\n",
      "        [    2,  6926,  3843,  ...,     0,     0,     0],\n",
      "        ...,\n",
      "        [    2,    51,  6139,  ...,     0,     0,     0],\n",
      "        [    2,   343,    15,  ...,     0,     0,     0],\n",
      "        [    2,    13,     1,  ...,     0,     0,     0]]), 'attention_mask': tensor([[1, 1, 1,  ..., 0, 0, 0],\n",
      "        [1, 1, 1,  ..., 0, 0, 0],\n",
      "        [1, 1, 1,  ..., 0, 0, 0],\n",
      "        ...,\n",
      "        [1, 1, 1,  ..., 0, 0, 0],\n",
      "        [1, 1, 1,  ..., 0, 0, 0],\n",
      "        [1, 1, 1,  ..., 0, 0, 0]])}\n",
      "{'label': tensor([2, 0, 0, 0, 0, 0, 1, 1, 2, 1, 1, 1, 1, 1, 2, 0]), 'input_ids': tensor([[   2,   13,    1,  ...,    0,    0,    0],\n",
      "        [   2,   13,    1,  ...,    0,    0,    0],\n",
      "        [   2,   13,    1,  ...,    0,    0,    0],\n",
      "        ...,\n",
      "        [   2,   13,    1,  ...,    0,    0,    0],\n",
      "        [   2,   13,    1,  ...,    0,    0,    0],\n",
      "        [   2,   13, 5256,  ...,    0,    0,    0]]), 'attention_mask': tensor([[1, 1, 1,  ..., 0, 0, 0],\n",
      "        [1, 1, 1,  ..., 0, 0, 0],\n",
      "        [1, 1, 1,  ..., 0, 0, 0],\n",
      "        ...,\n",
      "        [1, 1, 1,  ..., 0, 0, 0],\n",
      "        [1, 1, 1,  ..., 0, 0, 0],\n",
      "        [1, 1, 1,  ..., 0, 0, 0]])}\n",
      "{'label': tensor([2, 1, 1, 2, 1, 1, 0, 1, 1, 1, 0, 1, 1, 1, 0, 2]), 'input_ids': tensor([[   2,   51, 2018,  ...,    0,    0,    0],\n",
      "        [   2,   14,  127,  ...,    0,    0,    0],\n",
      "        [   2,   13,    1,  ...,    0,    0,    0],\n",
      "        ...,\n",
      "        [   2,   13,    1,  ...,    0,    0,    0],\n",
      "        [   2,  243, 2018,  ...,    0,    0,    0],\n",
      "        [   2,   13,    1,  ...,    0,    0,    0]]), 'attention_mask': tensor([[1, 1, 1,  ..., 0, 0, 0],\n",
      "        [1, 1, 1,  ..., 0, 0, 0],\n",
      "        [1, 1, 1,  ..., 0, 0, 0],\n",
      "        ...,\n",
      "        [1, 1, 1,  ..., 0, 0, 0],\n",
      "        [1, 1, 1,  ..., 0, 0, 0],\n",
      "        [1, 1, 1,  ..., 0, 0, 0]])}\n",
      "{'label': tensor([0, 0, 1, 1, 1, 1, 0, 1, 0, 1, 1, 2, 2, 1, 0, 0]), 'input_ids': tensor([[    2,   340,  2139,  ...,     0,     0,     0],\n",
      "        [    2,  6926, 22309,  ...,     0,     0,     0],\n",
      "        [    2,    13,     1,  ...,     0,     0,     0],\n",
      "        ...,\n",
      "        [    2,    31,  3223,  ...,     0,     0,     0],\n",
      "        [    2,    13,     1,  ...,     0,     0,     0],\n",
      "        [    2,    13,     1,  ...,     0,     0,     0]]), 'attention_mask': tensor([[1, 1, 1,  ..., 0, 0, 0],\n",
      "        [1, 1, 1,  ..., 0, 0, 0],\n",
      "        [1, 1, 1,  ..., 0, 0, 0],\n",
      "        ...,\n",
      "        [1, 1, 1,  ..., 0, 0, 0],\n",
      "        [1, 1, 1,  ..., 0, 0, 0],\n",
      "        [1, 1, 1,  ..., 0, 0, 0]])}\n",
      "{'label': tensor([1, 1, 1, 1, 2, 1, 1, 0, 1, 1, 1, 1, 1, 1, 1, 1]), 'input_ids': tensor([[    2,    14,   825,  ...,     0,     0,     0],\n",
      "        [    2, 20733,  6320,  ...,     0,     0,     0],\n",
      "        [    2,    13,     1,  ...,     0,     0,     0],\n",
      "        ...,\n",
      "        [    2,   318,  1178,  ...,     0,     0,     0],\n",
      "        [    2,    21,  4119,  ...,     0,     0,     0],\n",
      "        [    2,    13,     1,  ...,     0,     0,     0]]), 'attention_mask': tensor([[1, 1, 1,  ..., 0, 0, 0],\n",
      "        [1, 1, 1,  ..., 0, 0, 0],\n",
      "        [1, 1, 1,  ..., 0, 0, 0],\n",
      "        ...,\n",
      "        [1, 1, 1,  ..., 0, 0, 0],\n",
      "        [1, 1, 1,  ..., 0, 0, 0],\n",
      "        [1, 1, 1,  ..., 0, 0, 0]])}\n",
      "{'label': tensor([0, 0, 1, 1, 1, 2, 1, 1, 1, 1, 1, 2]), 'input_ids': tensor([[    2,    31,    22,  ...,     0,     0,     0],\n",
      "        [    2,    13,     1,  ...,     0,     0,     0],\n",
      "        [    2, 10014,    25,  ...,     0,     0,     0],\n",
      "        ...,\n",
      "        [    2,  3328,    20,  ...,     0,     0,     0],\n",
      "        [    2,    13,     1,  ...,     0,     0,     0],\n",
      "        [    2, 20733,  6320,  ...,     0,     0,     0]]), 'attention_mask': tensor([[1, 1, 1,  ..., 0, 0, 0],\n",
      "        [1, 1, 1,  ..., 0, 0, 0],\n",
      "        [1, 1, 1,  ..., 0, 0, 0],\n",
      "        ...,\n",
      "        [1, 1, 1,  ..., 0, 0, 0],\n",
      "        [1, 1, 1,  ..., 0, 0, 0],\n",
      "        [1, 1, 1,  ..., 0, 0, 0]])}\n"
     ]
    }
   ],
   "source": [
    "for batch in train_loader:\n",
    "    print(batch)\n"
   ],
   "metadata": {
    "collapsed": false
   }
  },
  {
   "cell_type": "code",
   "execution_count": 21,
   "outputs": [
    {
     "name": "stderr",
     "output_type": "stream",
     "text": [
      "Epoch 1/1:   3%|▎         | 1/39 [00:41<26:08, 41.29s/it]"
     ]
    },
    {
     "name": "stdout",
     "output_type": "stream",
     "text": [
      "Train Loss: 0.032, Train Acc: 0.188\r"
     ]
    },
    {
     "name": "stderr",
     "output_type": "stream",
     "text": [
      "Epoch 1/1:   5%|▌         | 2/39 [01:20<24:38, 39.97s/it]"
     ]
    },
    {
     "name": "stdout",
     "output_type": "stream",
     "text": [
      "Train Loss: 0.158, Train Acc: 0.250\r"
     ]
    },
    {
     "name": "stderr",
     "output_type": "stream",
     "text": [
      "Epoch 1/1:   8%|▊         | 3/39 [01:54<22:27, 37.44s/it]"
     ]
    },
    {
     "name": "stdout",
     "output_type": "stream",
     "text": [
      "Train Loss: 0.204, Train Acc: 0.396\r"
     ]
    },
    {
     "name": "stderr",
     "output_type": "stream",
     "text": [
      "Epoch 1/1:  10%|█         | 4/39 [02:30<21:20, 36.58s/it]"
     ]
    },
    {
     "name": "stdout",
     "output_type": "stream",
     "text": [
      "Train Loss: 0.502, Train Acc: 0.375\r"
     ]
    },
    {
     "name": "stderr",
     "output_type": "stream",
     "text": [
      "Epoch 1/1:  13%|█▎        | 5/39 [03:04<20:21, 35.92s/it]"
     ]
    },
    {
     "name": "stdout",
     "output_type": "stream",
     "text": [
      "Train Loss: 0.569, Train Acc: 0.325\r"
     ]
    },
    {
     "name": "stderr",
     "output_type": "stream",
     "text": [
      "Epoch 1/1:  15%|█▌        | 6/39 [03:40<19:45, 35.94s/it]"
     ]
    },
    {
     "name": "stdout",
     "output_type": "stream",
     "text": [
      "Train Loss: 0.680, Train Acc: 0.375\r"
     ]
    },
    {
     "name": "stderr",
     "output_type": "stream",
     "text": [
      "Epoch 1/1:  18%|█▊        | 7/39 [04:15<18:58, 35.59s/it]"
     ]
    },
    {
     "name": "stdout",
     "output_type": "stream",
     "text": [
      "Train Loss: 0.789, Train Acc: 0.339\r"
     ]
    },
    {
     "name": "stderr",
     "output_type": "stream",
     "text": [
      "Epoch 1/1:  21%|██        | 8/39 [04:51<18:23, 35.60s/it]"
     ]
    },
    {
     "name": "stdout",
     "output_type": "stream",
     "text": [
      "Train Loss: 0.837, Train Acc: 0.359\r"
     ]
    },
    {
     "name": "stderr",
     "output_type": "stream",
     "text": [
      "Epoch 1/1:  23%|██▎       | 9/39 [05:26<17:43, 35.46s/it]"
     ]
    },
    {
     "name": "stdout",
     "output_type": "stream",
     "text": [
      "Train Loss: 0.884, Train Acc: 0.326\r"
     ]
    },
    {
     "name": "stderr",
     "output_type": "stream",
     "text": [
      "Epoch 1/1:  26%|██▌       | 10/39 [06:01<17:05, 35.35s/it]"
     ]
    },
    {
     "name": "stdout",
     "output_type": "stream",
     "text": [
      "Train Loss: 0.918, Train Acc: 0.312\r"
     ]
    },
    {
     "name": "stderr",
     "output_type": "stream",
     "text": [
      "Epoch 1/1:  28%|██▊       | 11/39 [06:36<16:26, 35.22s/it]"
     ]
    },
    {
     "name": "stdout",
     "output_type": "stream",
     "text": [
      "Train Loss: 0.984, Train Acc: 0.324\r"
     ]
    },
    {
     "name": "stderr",
     "output_type": "stream",
     "text": [
      "Epoch 1/1:  31%|███       | 12/39 [07:04<14:56, 33.19s/it]"
     ]
    },
    {
     "name": "stdout",
     "output_type": "stream",
     "text": [
      "Train Loss: 1.023, Train Acc: 0.344\r"
     ]
    },
    {
     "name": "stderr",
     "output_type": "stream",
     "text": [
      "Epoch 1/1:  33%|███▎      | 13/39 [07:29<13:16, 30.63s/it]"
     ]
    },
    {
     "name": "stdout",
     "output_type": "stream",
     "text": [
      "Train Loss: 1.050, Train Acc: 0.341\r"
     ]
    },
    {
     "name": "stderr",
     "output_type": "stream",
     "text": [
      "Epoch 1/1:  36%|███▌      | 14/39 [07:54<12:00, 28.82s/it]"
     ]
    },
    {
     "name": "stdout",
     "output_type": "stream",
     "text": [
      "Train Loss: 1.080, Train Acc: 0.339\r"
     ]
    },
    {
     "name": "stderr",
     "output_type": "stream",
     "text": [
      "Epoch 1/1:  38%|███▊      | 15/39 [08:19<11:02, 27.59s/it]"
     ]
    },
    {
     "name": "stdout",
     "output_type": "stream",
     "text": [
      "Train Loss: 1.112, Train Acc: 0.325\r"
     ]
    },
    {
     "name": "stderr",
     "output_type": "stream",
     "text": [
      "Epoch 1/1:  41%|████      | 16/39 [08:44<10:16, 26.80s/it]"
     ]
    },
    {
     "name": "stdout",
     "output_type": "stream",
     "text": [
      "Train Loss: 1.142, Train Acc: 0.340\r"
     ]
    },
    {
     "name": "stderr",
     "output_type": "stream",
     "text": [
      "Epoch 1/1:  44%|████▎     | 17/39 [09:08<09:36, 26.20s/it]"
     ]
    },
    {
     "name": "stdout",
     "output_type": "stream",
     "text": [
      "Train Loss: 1.162, Train Acc: 0.364\r"
     ]
    },
    {
     "name": "stderr",
     "output_type": "stream",
     "text": [
      "Epoch 1/1:  46%|████▌     | 18/39 [09:33<09:03, 25.86s/it]"
     ]
    },
    {
     "name": "stdout",
     "output_type": "stream",
     "text": [
      "Train Loss: 1.188, Train Acc: 0.382\r"
     ]
    },
    {
     "name": "stderr",
     "output_type": "stream",
     "text": [
      "Epoch 1/1:  49%|████▊     | 19/39 [09:58<08:29, 25.48s/it]"
     ]
    },
    {
     "name": "stdout",
     "output_type": "stream",
     "text": [
      "Train Loss: 1.231, Train Acc: 0.388\r"
     ]
    },
    {
     "name": "stderr",
     "output_type": "stream",
     "text": [
      "Epoch 1/1:  51%|█████▏    | 20/39 [10:23<08:00, 25.31s/it]"
     ]
    },
    {
     "name": "stdout",
     "output_type": "stream",
     "text": [
      "Train Loss: 1.264, Train Acc: 0.378\r"
     ]
    },
    {
     "name": "stderr",
     "output_type": "stream",
     "text": [
      "Epoch 1/1:  54%|█████▍    | 21/39 [10:48<07:33, 25.20s/it]"
     ]
    },
    {
     "name": "stdout",
     "output_type": "stream",
     "text": [
      "Train Loss: 1.290, Train Acc: 0.387\r"
     ]
    },
    {
     "name": "stderr",
     "output_type": "stream",
     "text": [
      "Epoch 1/1:  56%|█████▋    | 22/39 [11:15<07:20, 25.89s/it]"
     ]
    },
    {
     "name": "stdout",
     "output_type": "stream",
     "text": [
      "Train Loss: 1.321, Train Acc: 0.389\r"
     ]
    },
    {
     "name": "stderr",
     "output_type": "stream",
     "text": [
      "Epoch 1/1:  59%|█████▉    | 23/39 [11:45<07:14, 27.15s/it]"
     ]
    },
    {
     "name": "stdout",
     "output_type": "stream",
     "text": [
      "Train Loss: 1.355, Train Acc: 0.399\r"
     ]
    },
    {
     "name": "stderr",
     "output_type": "stream",
     "text": [
      "Epoch 1/1:  62%|██████▏   | 24/39 [12:12<06:45, 27.05s/it]"
     ]
    },
    {
     "name": "stdout",
     "output_type": "stream",
     "text": [
      "Train Loss: 1.399, Train Acc: 0.404\r"
     ]
    },
    {
     "name": "stderr",
     "output_type": "stream",
     "text": [
      "Epoch 1/1:  64%|██████▍   | 25/39 [12:42<06:31, 27.94s/it]"
     ]
    },
    {
     "name": "stdout",
     "output_type": "stream",
     "text": [
      "Train Loss: 1.424, Train Acc: 0.412\r"
     ]
    },
    {
     "name": "stderr",
     "output_type": "stream",
     "text": [
      "Epoch 1/1:  67%|██████▋   | 26/39 [13:12<06:10, 28.50s/it]"
     ]
    },
    {
     "name": "stdout",
     "output_type": "stream",
     "text": [
      "Train Loss: 1.457, Train Acc: 0.406\r"
     ]
    },
    {
     "name": "stderr",
     "output_type": "stream",
     "text": [
      "Epoch 1/1:  69%|██████▉   | 27/39 [13:30<05:02, 25.18s/it]"
     ]
    },
    {
     "name": "stdout",
     "output_type": "stream",
     "text": [
      "Train Loss: 1.490, Train Acc: 0.403\r"
     ]
    },
    {
     "name": "stderr",
     "output_type": "stream",
     "text": [
      "Epoch 1/1:  72%|███████▏  | 28/39 [13:45<04:04, 22.20s/it]"
     ]
    },
    {
     "name": "stdout",
     "output_type": "stream",
     "text": [
      "Train Loss: 1.517, Train Acc: 0.400\r"
     ]
    },
    {
     "name": "stderr",
     "output_type": "stream",
     "text": [
      "Epoch 1/1:  74%|███████▍  | 29/39 [14:00<03:21, 20.19s/it]"
     ]
    },
    {
     "name": "stdout",
     "output_type": "stream",
     "text": [
      "Train Loss: 1.553, Train Acc: 0.403\r"
     ]
    },
    {
     "name": "stderr",
     "output_type": "stream",
     "text": [
      "Epoch 1/1:  77%|███████▋  | 30/39 [14:22<03:05, 20.56s/it]"
     ]
    },
    {
     "name": "stdout",
     "output_type": "stream",
     "text": [
      "Train Loss: 1.594, Train Acc: 0.402\r"
     ]
    },
    {
     "name": "stderr",
     "output_type": "stream",
     "text": [
      "Epoch 1/1:  79%|███████▉  | 31/39 [14:41<02:40, 20.09s/it]"
     ]
    },
    {
     "name": "stdout",
     "output_type": "stream",
     "text": [
      "Train Loss: 1.621, Train Acc: 0.405\r"
     ]
    },
    {
     "name": "stderr",
     "output_type": "stream",
     "text": [
      "Epoch 1/1:  82%|████████▏ | 32/39 [15:00<02:18, 19.83s/it]"
     ]
    },
    {
     "name": "stdout",
     "output_type": "stream",
     "text": [
      "Train Loss: 1.651, Train Acc: 0.406\r"
     ]
    },
    {
     "name": "stderr",
     "output_type": "stream",
     "text": [
      "Epoch 1/1:  85%|████████▍ | 33/39 [15:20<01:58, 19.81s/it]"
     ]
    },
    {
     "name": "stdout",
     "output_type": "stream",
     "text": [
      "Train Loss: 1.689, Train Acc: 0.396\r"
     ]
    },
    {
     "name": "stderr",
     "output_type": "stream",
     "text": [
      "Epoch 1/1:  87%|████████▋ | 34/39 [15:40<01:40, 20.02s/it]"
     ]
    },
    {
     "name": "stdout",
     "output_type": "stream",
     "text": [
      "Train Loss: 1.712, Train Acc: 0.404\r"
     ]
    },
    {
     "name": "stderr",
     "output_type": "stream",
     "text": [
      "Epoch 1/1:  90%|████████▉ | 35/39 [16:03<01:23, 20.81s/it]"
     ]
    },
    {
     "name": "stdout",
     "output_type": "stream",
     "text": [
      "Train Loss: 1.769, Train Acc: 0.405\r"
     ]
    },
    {
     "name": "stderr",
     "output_type": "stream",
     "text": [
      "Epoch 1/1:  92%|█████████▏| 36/39 [16:25<01:03, 21.12s/it]"
     ]
    },
    {
     "name": "stdout",
     "output_type": "stream",
     "text": [
      "Train Loss: 1.831, Train Acc: 0.408\r"
     ]
    },
    {
     "name": "stderr",
     "output_type": "stream",
     "text": [
      "Epoch 1/1:  95%|█████████▍| 37/39 [16:45<00:41, 20.91s/it]"
     ]
    },
    {
     "name": "stdout",
     "output_type": "stream",
     "text": [
      "Train Loss: 1.863, Train Acc: 0.412\r"
     ]
    },
    {
     "name": "stderr",
     "output_type": "stream",
     "text": [
      "Epoch 1/1:  97%|█████████▋| 38/39 [17:09<00:21, 21.67s/it]"
     ]
    },
    {
     "name": "stdout",
     "output_type": "stream",
     "text": [
      "Train Loss: 1.894, Train Acc: 0.408\r"
     ]
    },
    {
     "name": "stderr",
     "output_type": "stream",
     "text": [
      "Epoch 1/1: 100%|██████████| 39/39 [17:22<00:00, 26.72s/it]"
     ]
    },
    {
     "name": "stdout",
     "output_type": "stream",
     "text": [
      "Epoch 1, Train Loss: 1.947, Train Acc: 0.402\n",
      "Epoch 1 finished\n"
     ]
    },
    {
     "name": "stderr",
     "output_type": "stream",
     "text": [
      "\n"
     ]
    }
   ],
   "source": [
    "from tqdm import tqdm\n",
    "num_epochs = 1\n",
    "for epoch in range(num_epochs):\n",
    "    running_loss = 0.0\n",
    "    correct_predictions = 0\n",
    "    total_predictions = 0\n",
    "    for batch in tqdm(train_loader, desc=f'Epoch {epoch+1}/{num_epochs}'):\n",
    "        # get the inputs\n",
    "        input_ids = batch['input_ids'].to(device)\n",
    "        attention_mask = batch['attention_mask'].to(device)\n",
    "        labels = batch['label'].to(device)\n",
    "\n",
    "        # zero the parameter gradients\n",
    "        optimizer.zero_grad()\n",
    "\n",
    "        # forward + backward + optimize\n",
    "        outputs = stance_hillary_model(input_ids=input_ids, attention_mask=attention_mask)\n",
    "        loss = criterion(outputs, labels)\n",
    "        loss.backward()\n",
    "        optimizer.step()\n",
    "\n",
    "        # calculate accuracy\n",
    "        _, predicted = torch.max(outputs.data, 1)\n",
    "        total_predictions += labels.size(0)\n",
    "        correct_predictions += (predicted == labels).sum().item()\n",
    "\n",
    "        # print running loss for each batch\n",
    "        running_loss += loss.item()\n",
    "        avg_loss = running_loss / len(train_loader)\n",
    "        avg_acc = correct_predictions / total_predictions\n",
    "        tqdm.write(f'Train Loss: {avg_loss:.3f}, Train Acc: {avg_acc:.3f}', end='\\r')\n",
    "    tqdm.write(f'Epoch {epoch+1}, Train Loss: {avg_loss:.3f}, Train Acc: {avg_acc:.3f}')\n",
    "\n",
    "    print(f\"Epoch {epoch+1} finished\")\n"
   ],
   "metadata": {
    "collapsed": false
   }
  },
  {
   "cell_type": "code",
   "execution_count": 22,
   "outputs": [
    {
     "name": "stdout",
     "output_type": "stream",
     "text": [
      "Validation Loss: 1.180, Validation Acc: 0.565\n"
     ]
    }
   ],
   "source": [
    "# Validation loop\n",
    "with torch.no_grad():\n",
    "    stance_hillary_model.eval()  # Set the model to evaluation mode\n",
    "    valid_loss = 0.0\n",
    "    correct_predictions = 0\n",
    "    total_predictions = 0\n",
    "    for batch in val_loader:\n",
    "        # get the inputs\n",
    "        input_ids = batch['input_ids'].to(device)\n",
    "        attention_mask = batch['attention_mask'].to(device)\n",
    "        labels = batch['label'].to(device)\n",
    "\n",
    "        # forward\n",
    "        outputs = stance_hillary_model(input_ids=input_ids, attention_mask=attention_mask)\n",
    "        loss = criterion(outputs, labels)\n",
    "\n",
    "        # calculate accuracy\n",
    "        _, predicted = torch.max(outputs.data, 1)\n",
    "        total_predictions += labels.size(0)\n",
    "        correct_predictions += (predicted == labels).sum().item()\n",
    "\n",
    "        # calculate running loss\n",
    "        valid_loss += loss.item()\n",
    "\n",
    "    avg_loss = valid_loss / len(val_loader)\n",
    "    avg_acc = correct_predictions / total_predictions\n",
    "    print(f'Validation Loss: {avg_loss:.3f}, Validation Acc: {avg_acc:.3f}')"
   ],
   "metadata": {
    "collapsed": false
   }
  },
  {
   "cell_type": "code",
   "execution_count": 23,
   "outputs": [
    {
     "name": "stdout",
     "output_type": "stream",
     "text": [
      "Test Loss: 1.126, Test Acc: 0.583\n"
     ]
    }
   ],
   "source": [
    "\n",
    "# Test loop\n",
    "with torch.no_grad():\n",
    "    stance_hillary_model.eval()  # Set the model to evaluation mode\n",
    "    test_loss = 0.0\n",
    "    correct_predictions = 0\n",
    "    total_predictions = 0\n",
    "    for batch in test_loader:\n",
    "        # get the inputs\n",
    "        input_ids = batch['input_ids'].to(device)\n",
    "        attention_mask = batch['attention_mask'].to(device)\n",
    "        labels = batch['label'].to(device)\n",
    "\n",
    "        # forward\n",
    "        outputs = stance_hillary_model(input_ids=input_ids, attention_mask=attention_mask)\n",
    "        loss = criterion(outputs, labels)\n",
    "\n",
    "        # calculate accuracy\n",
    "        _, predicted = torch.max(outputs.data, 1)\n",
    "        total_predictions += labels.size(0)\n",
    "        correct_predictions += (predicted == labels).sum().item()\n",
    "\n",
    "        # calculate running loss\n",
    "        test_loss += loss.item()\n",
    "\n",
    "    avg_loss = test_loss / len(test_loader)\n",
    "    avg_acc = correct_predictions / total_predictions\n",
    "    print(f'Test Loss: {avg_loss:.3f}, Test Acc: {avg_acc:.3f}')\n"
   ],
   "metadata": {
    "collapsed": false
   }
  },
  {
   "cell_type": "code",
   "execution_count": 24,
   "outputs": [],
   "source": [
    "# save the model\n",
    "torch.save(stance_hillary_model.state_dict(), 'Models/stance_hillary_model.pth')\n"
   ],
   "metadata": {
    "collapsed": false
   }
  }
 ],
 "metadata": {
  "kernelspec": {
   "display_name": "Python 3",
   "language": "python",
   "name": "python3"
  },
  "language_info": {
   "codemirror_mode": {
    "name": "ipython",
    "version": 2
   },
   "file_extension": ".py",
   "mimetype": "text/x-python",
   "name": "python",
   "nbconvert_exporter": "python",
   "pygments_lexer": "ipython2",
   "version": "2.7.6"
  }
 },
 "nbformat": 4,
 "nbformat_minor": 0
}
