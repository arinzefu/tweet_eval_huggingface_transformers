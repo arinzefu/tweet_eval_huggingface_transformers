{
 "cells": [
  {
   "cell_type": "code",
   "execution_count": 1,
   "metadata": {
    "collapsed": true
   },
   "outputs": [],
   "source": [
    "import torch\n",
    "import torch.nn as nn\n",
    "import torch.optim as optim\n",
    "from torch.utils.data import DataLoader, Dataset\n",
    "from transformers import AutoTokenizer\n",
    "from transformers import MobileBertModel\n"
   ]
  },
  {
   "cell_type": "code",
   "execution_count": 2,
   "outputs": [
    {
     "name": "stderr",
     "output_type": "stream",
     "text": [
      "Found cached dataset tweet_eval (C:/Users/User/.cache/huggingface/datasets/tweet_eval/stance_abortion/1.1.0/12aee5282b8784f3e95459466db4cdf45c6bf49719c25cdb0743d71ed0410343)\n"
     ]
    },
    {
     "data": {
      "text/plain": "  0%|          | 0/3 [00:00<?, ?it/s]",
      "application/vnd.jupyter.widget-view+json": {
       "version_major": 2,
       "version_minor": 0,
       "model_id": "b78bbd06f33a4961a875a82d7fa2363d"
      }
     },
     "metadata": {},
     "output_type": "display_data"
    }
   ],
   "source": [
    "from datasets import load_dataset\n",
    "\n",
    "dataset = load_dataset(\"tweet_eval\", \"stance_abortion\")"
   ],
   "metadata": {
    "collapsed": false
   }
  },
  {
   "cell_type": "code",
   "execution_count": 3,
   "outputs": [
    {
     "data": {
      "text/plain": "Dataset({\n    features: ['text', 'label'],\n    num_rows: 587\n})"
     },
     "execution_count": 3,
     "metadata": {},
     "output_type": "execute_result"
    }
   ],
   "source": [
    "dataset[\"train\"]"
   ],
   "metadata": {
    "collapsed": false
   }
  },
  {
   "cell_type": "code",
   "execution_count": 4,
   "outputs": [
    {
     "data": {
      "text/plain": "Dataset({\n    features: ['text', 'label'],\n    num_rows: 66\n})"
     },
     "execution_count": 4,
     "metadata": {},
     "output_type": "execute_result"
    }
   ],
   "source": [
    "dataset[\"validation\"]"
   ],
   "metadata": {
    "collapsed": false
   }
  },
  {
   "cell_type": "code",
   "execution_count": 5,
   "outputs": [
    {
     "data": {
      "text/plain": "Dataset({\n    features: ['text', 'label'],\n    num_rows: 66\n})"
     },
     "execution_count": 5,
     "metadata": {},
     "output_type": "execute_result"
    }
   ],
   "source": [
    "dataset[\"validation\"]"
   ],
   "metadata": {
    "collapsed": false
   }
  },
  {
   "cell_type": "code",
   "execution_count": 6,
   "outputs": [],
   "source": [
    "# Load a pre-trained tokenizer\n",
    "tokenizer = AutoTokenizer.from_pretrained(\"google/mobilebert-uncased\")\n",
    "\n"
   ],
   "metadata": {
    "collapsed": false
   }
  },
  {
   "cell_type": "code",
   "execution_count": 7,
   "outputs": [],
   "source": [
    "def tokenize_function(example):\n",
    "    return tokenizer(example[\"text\"], padding=\"max_length\", truncation=True, max_length=128)"
   ],
   "metadata": {
    "collapsed": false
   }
  },
  {
   "cell_type": "code",
   "execution_count": 8,
   "outputs": [
    {
     "name": "stderr",
     "output_type": "stream",
     "text": [
      "Loading cached processed dataset at C:\\Users\\User\\.cache\\huggingface\\datasets\\tweet_eval\\stance_abortion\\1.1.0\\12aee5282b8784f3e95459466db4cdf45c6bf49719c25cdb0743d71ed0410343\\cache-2499fd4575881af1.arrow\n",
      "Loading cached processed dataset at C:\\Users\\User\\.cache\\huggingface\\datasets\\tweet_eval\\stance_abortion\\1.1.0\\12aee5282b8784f3e95459466db4cdf45c6bf49719c25cdb0743d71ed0410343\\cache-6e1bcf84be3be599.arrow\n"
     ]
    },
    {
     "data": {
      "text/plain": "Map:   0%|          | 0/66 [00:00<?, ? examples/s]",
      "application/vnd.jupyter.widget-view+json": {
       "version_major": 2,
       "version_minor": 0,
       "model_id": "885f59adc292400d9a1452c4c3b3d708"
      }
     },
     "metadata": {},
     "output_type": "display_data"
    }
   ],
   "source": [
    "# Tokenize the dataset\n",
    "tokenized_dataset = dataset.map(tokenize_function, batched=True)\n",
    "\n",
    "# Get the input_ids from the tokenized dataset for train, validation, and test sets\n",
    "train_input_ids = [example['input_ids'] for example in tokenized_dataset['train']]\n",
    "val_input_ids = [example['input_ids'] for example in tokenized_dataset['validation']]\n",
    "test_input_ids = [example['input_ids'] for example in tokenized_dataset['test']]\n",
    "\n",
    "# Convert input_ids to PyTorch tensors\n",
    "train_input_ids = torch.tensor(train_input_ids, dtype=torch.long)\n",
    "val_input_ids = torch.tensor(val_input_ids, dtype=torch.long)\n",
    "test_input_ids = torch.tensor(test_input_ids, dtype=torch.long)\n",
    "\n",
    "# Concatenate the input_ids tensors along the first dimension\n",
    "input_ids = torch.cat((train_input_ids, val_input_ids, test_input_ids), dim=0)\n"
   ],
   "metadata": {
    "collapsed": false
   }
  },
  {
   "cell_type": "code",
   "execution_count": 9,
   "outputs": [
    {
     "name": "stderr",
     "output_type": "stream",
     "text": [
      "Loading cached processed dataset at C:\\Users\\User\\.cache\\huggingface\\datasets\\tweet_eval\\stance_abortion\\1.1.0\\12aee5282b8784f3e95459466db4cdf45c6bf49719c25cdb0743d71ed0410343\\cache-d171cf49e0cf1c7c.arrow\n",
      "Loading cached processed dataset at C:\\Users\\User\\.cache\\huggingface\\datasets\\tweet_eval\\stance_abortion\\1.1.0\\12aee5282b8784f3e95459466db4cdf45c6bf49719c25cdb0743d71ed0410343\\cache-4e36ed9751115a98.arrow\n",
      "Loading cached processed dataset at C:\\Users\\User\\.cache\\huggingface\\datasets\\tweet_eval\\stance_abortion\\1.1.0\\12aee5282b8784f3e95459466db4cdf45c6bf49719c25cdb0743d71ed0410343\\cache-8989cb1beecbb0d4.arrow\n"
     ]
    }
   ],
   "source": [
    "# Tokenize the dataset\n",
    "tokenized_dataset = dataset.map(tokenize_function, batched=True)\n",
    "\n",
    "# Get the attention_masks from the tokenized dataset for train, validation, and test sets\n",
    "train_attention_mask = [example['attention_mask'] for example in tokenized_dataset['train']]\n",
    "val_attention_mask = [example['attention_mask'] for example in tokenized_dataset['validation']]\n",
    "test_attention_mask = [example['attention_mask'] for example in tokenized_dataset['test']]\n",
    "\n",
    "# Convert attention_mask to PyTorch tensors\n",
    "train_attention_mask = torch.tensor(train_attention_mask, dtype=torch.long)\n",
    "val_attention_mask = torch.tensor(val_attention_mask, dtype=torch.long)\n",
    "test_attention_mask = torch.tensor(test_attention_mask, dtype=torch.long)\n",
    "\n",
    "# Concatenate the input_ids tensors along the first dimension\n",
    "attention_masks = torch.cat((train_attention_mask, val_attention_mask, test_attention_mask), dim=0)\n"
   ],
   "metadata": {
    "collapsed": false
   }
  },
  {
   "cell_type": "code",
   "execution_count": 10,
   "outputs": [
    {
     "name": "stdout",
     "output_type": "stream",
     "text": [
      "tensor([[  101,  2057, 10825,  ...,     0,     0,     0],\n",
      "        [  101,  1030,  5310,  ...,     0,     0,     0],\n",
      "        [  101,  2166,  2003,  ...,     0,     0,     0],\n",
      "        ...,\n",
      "        [  101,  2166,  2003,  ...,     0,     0,     0],\n",
      "        [  101,  1030,  5310,  ...,     0,     0,     0],\n",
      "        [  101,  2632,  9923,  ...,     0,     0,     0]])\n"
     ]
    }
   ],
   "source": [
    "print(input_ids)"
   ],
   "metadata": {
    "collapsed": false
   }
  },
  {
   "cell_type": "code",
   "execution_count": 11,
   "outputs": [
    {
     "name": "stdout",
     "output_type": "stream",
     "text": [
      "tensor([[1, 1, 1,  ..., 0, 0, 0],\n",
      "        [1, 1, 1,  ..., 0, 0, 0],\n",
      "        [1, 1, 1,  ..., 0, 0, 0],\n",
      "        ...,\n",
      "        [1, 1, 1,  ..., 0, 0, 0],\n",
      "        [1, 1, 1,  ..., 0, 0, 0],\n",
      "        [1, 1, 1,  ..., 0, 0, 0]])\n"
     ]
    }
   ],
   "source": [
    "print(attention_masks)"
   ],
   "metadata": {
    "collapsed": false
   }
  },
  {
   "cell_type": "code",
   "execution_count": 12,
   "outputs": [],
   "source": [
    "# Split the dataset into train, validation, and test sets\n",
    "train_dataset = tokenized_dataset[\"train\"]\n",
    "val_dataset = tokenized_dataset[\"validation\"]\n",
    "test_dataset = tokenized_dataset[\"test\"]"
   ],
   "metadata": {
    "collapsed": false
   }
  },
  {
   "cell_type": "code",
   "execution_count": 13,
   "outputs": [],
   "source": [
    "# Convert the datasets to PyTorch tensors\n",
    "train_dataset = train_dataset.remove_columns([\"text\"])\n",
    "val_dataset = val_dataset.remove_columns([\"text\"])\n",
    "test_dataset = test_dataset.remove_columns([\"text\"])"
   ],
   "metadata": {
    "collapsed": false
   }
  },
  {
   "cell_type": "code",
   "execution_count": 14,
   "outputs": [],
   "source": [
    "train_dataset.set_format(\"torch\", columns=[\"input_ids\", \"attention_mask\", \"label\"])\n",
    "val_dataset.set_format(\"torch\", columns=[\"input_ids\", \"attention_mask\", \"label\"])\n",
    "test_dataset.set_format(\"torch\", columns=[\"input_ids\", \"attention_mask\", \"label\"])"
   ],
   "metadata": {
    "collapsed": false
   }
  },
  {
   "cell_type": "code",
   "execution_count": 15,
   "outputs": [],
   "source": [
    "\n",
    "\n",
    "class StanceAbortionModel(nn.Module):\n",
    "    def __init__(self, num_classes=3):\n",
    "        super(StanceAbortionModel, self).__init__()\n",
    "        self.mobilebert = MobileBertModel.from_pretrained('google/mobilebert-uncased')\n",
    "        self.dropout = nn.Dropout(0.1)\n",
    "        self.fc = nn.Linear(self.mobilebert.config.hidden_size, num_classes)\n",
    "\n",
    "    def forward(self, input_ids, attention_mask):\n",
    "        outputs = self.mobilebert(input_ids=input_ids, attention_mask=attention_mask)\n",
    "        pooled_output = outputs.pooler_output\n",
    "        pooled_output = self.dropout(pooled_output)\n",
    "        logits = self.fc(pooled_output)\n",
    "        return logits\n"
   ],
   "metadata": {
    "collapsed": false
   }
  },
  {
   "cell_type": "code",
   "execution_count": 16,
   "outputs": [],
   "source": [
    "device = torch.device(\"cuda\" if torch.cuda.is_available() else \"cpu\")\n"
   ],
   "metadata": {
    "collapsed": false
   }
  },
  {
   "cell_type": "code",
   "execution_count": 17,
   "outputs": [
    {
     "name": "stderr",
     "output_type": "stream",
     "text": [
      "Some weights of the model checkpoint at google/mobilebert-uncased were not used when initializing MobileBertModel: ['cls.seq_relationship.bias', 'cls.predictions.bias', 'cls.predictions.transform.LayerNorm.bias', 'cls.predictions.decoder.weight', 'cls.predictions.transform.dense.bias', 'cls.predictions.dense.weight', 'cls.predictions.decoder.bias', 'cls.seq_relationship.weight', 'cls.predictions.transform.dense.weight', 'cls.predictions.transform.LayerNorm.weight']\n",
      "- This IS expected if you are initializing MobileBertModel from the checkpoint of a model trained on another task or with another architecture (e.g. initializing a BertForSequenceClassification model from a BertForPreTraining model).\n",
      "- This IS NOT expected if you are initializing MobileBertModel from the checkpoint of a model that you expect to be exactly identical (initializing a BertForSequenceClassification model from a BertForSequenceClassification model).\n"
     ]
    }
   ],
   "source": [
    "# instantiate your model\n",
    "stance_abortion_model = StanceAbortionModel(num_classes=3).to(device)"
   ],
   "metadata": {
    "collapsed": false
   }
  },
  {
   "cell_type": "code",
   "execution_count": 22,
   "outputs": [],
   "source": [
    "# define your loss function\n",
    "criterion = nn.CrossEntropyLoss()\n",
    "\n",
    "# define your optimizer\n",
    "optimizer = torch.optim.Adam(stance_abortion_model.parameters(), lr=0.001)"
   ],
   "metadata": {
    "collapsed": false
   }
  },
  {
   "cell_type": "code",
   "execution_count": 23,
   "outputs": [],
   "source": [
    "# set up your training, validation, and test dataloaders\n",
    "train_loader = DataLoader(train_dataset, batch_size=16, shuffle=True)\n",
    "val_loader = DataLoader(val_dataset, batch_size=16)\n",
    "test_loader = DataLoader(test_dataset, batch_size=16)"
   ],
   "metadata": {
    "collapsed": false
   }
  },
  {
   "cell_type": "code",
   "execution_count": 24,
   "outputs": [
    {
     "name": "stdout",
     "output_type": "stream",
     "text": [
      "{'label': tensor([1, 1, 2, 1, 1, 1, 1, 2, 0, 2, 0, 0, 2, 2, 1, 2]), 'input_ids': tensor([[  101,  1037, 10032,  ...,     0,     0,     0],\n",
      "        [  101,  2017,  2097,  ...,     0,     0,     0],\n",
      "        [  101, 19387,  1030,  ...,     0,     0,     0],\n",
      "        ...,\n",
      "        [  101,  8840,  2140,  ...,     0,     0,     0],\n",
      "        [  101,  1999,  2277,  ...,     0,     0,     0],\n",
      "        [  101,  2204,  2851,  ...,     0,     0,     0]]), 'attention_mask': tensor([[1, 1, 1,  ..., 0, 0, 0],\n",
      "        [1, 1, 1,  ..., 0, 0, 0],\n",
      "        [1, 1, 1,  ..., 0, 0, 0],\n",
      "        ...,\n",
      "        [1, 1, 1,  ..., 0, 0, 0],\n",
      "        [1, 1, 1,  ..., 0, 0, 0],\n",
      "        [1, 1, 1,  ..., 0, 0, 0]])}\n",
      "{'label': tensor([2, 0, 0, 1, 2, 1, 1, 0, 0, 1, 1, 1, 2, 2, 1, 2]), 'input_ids': tensor([[ 101, 1045, 1005,  ...,    0,    0,    0],\n",
      "        [ 101, 1030, 5310,  ...,    0,    0,    0],\n",
      "        [ 101, 1030, 5310,  ...,    0,    0,    0],\n",
      "        ...,\n",
      "        [ 101, 1012, 1030,  ...,    0,    0,    0],\n",
      "        [ 101, 1045, 5621,  ...,    0,    0,    0],\n",
      "        [ 101, 1030, 5310,  ...,    0,    0,    0]]), 'attention_mask': tensor([[1, 1, 1,  ..., 0, 0, 0],\n",
      "        [1, 1, 1,  ..., 0, 0, 0],\n",
      "        [1, 1, 1,  ..., 0, 0, 0],\n",
      "        ...,\n",
      "        [1, 1, 1,  ..., 0, 0, 0],\n",
      "        [1, 1, 1,  ..., 0, 0, 0],\n",
      "        [1, 1, 1,  ..., 0, 0, 0]])}\n",
      "{'label': tensor([2, 1, 2, 0, 1, 1, 1, 0, 1, 1, 0, 2, 2, 1, 1, 1]), 'input_ids': tensor([[ 101, 2070, 2111,  ...,    0,    0,    0],\n",
      "        [ 101, 2064, 2057,  ...,    0,    0,    0],\n",
      "        [ 101, 1030, 5310,  ...,    0,    0,    0],\n",
      "        ...,\n",
      "        [ 101, 1045, 1005,  ...,    0,    0,    0],\n",
      "        [ 101, 5020, 2916,  ...,    0,    0,    0],\n",
      "        [ 101, 1030, 5310,  ...,    0,    0,    0]]), 'attention_mask': tensor([[1, 1, 1,  ..., 0, 0, 0],\n",
      "        [1, 1, 1,  ..., 0, 0, 0],\n",
      "        [1, 1, 1,  ..., 0, 0, 0],\n",
      "        ...,\n",
      "        [1, 1, 1,  ..., 0, 0, 0],\n",
      "        [1, 1, 1,  ..., 0, 0, 0],\n",
      "        [1, 1, 1,  ..., 0, 0, 0]])}\n",
      "{'label': tensor([1, 2, 0, 1, 1, 1, 1, 0, 2, 0, 1, 1, 1, 2, 1, 0]), 'input_ids': tensor([[  101,  1996,  1001,  ...,     0,     0,     0],\n",
      "        [  101,  2066,  1996,  ...,     0,     0,     0],\n",
      "        [  101,  1001, 14689,  ...,     0,     0,     0],\n",
      "        ...,\n",
      "        [  101,  1001, 24829,  ...,     0,     0,     0],\n",
      "        [  101,  1030,  5310,  ...,     0,     0,     0],\n",
      "        [  101,  2079,  2017,  ...,     0,     0,     0]]), 'attention_mask': tensor([[1, 1, 1,  ..., 0, 0, 0],\n",
      "        [1, 1, 1,  ..., 0, 0, 0],\n",
      "        [1, 1, 1,  ..., 0, 0, 0],\n",
      "        ...,\n",
      "        [1, 1, 1,  ..., 0, 0, 0],\n",
      "        [1, 1, 1,  ..., 0, 0, 0],\n",
      "        [1, 1, 1,  ..., 0, 0, 0]])}\n",
      "{'label': tensor([0, 2, 1, 0, 1, 0, 0, 1, 1, 1, 1, 1, 2, 1, 0, 1]), 'input_ids': tensor([[  101,  1030,  5310,  ...,     0,     0,     0],\n",
      "        [  101,  1030,  5310,  ...,     0,     0,     0],\n",
      "        [  101,  4931, 12756,  ...,     0,     0,     0],\n",
      "        ...,\n",
      "        [  101,  1030,  5310,  ...,     0,     0,     0],\n",
      "        [  101,  1030,  5310,  ...,     0,     0,     0],\n",
      "        [  101,  1030,  5310,  ...,     0,     0,     0]]), 'attention_mask': tensor([[1, 1, 1,  ..., 0, 0, 0],\n",
      "        [1, 1, 1,  ..., 0, 0, 0],\n",
      "        [1, 1, 1,  ..., 0, 0, 0],\n",
      "        ...,\n",
      "        [1, 1, 1,  ..., 0, 0, 0],\n",
      "        [1, 1, 1,  ..., 0, 0, 0],\n",
      "        [1, 1, 1,  ..., 0, 0, 0]])}\n",
      "{'label': tensor([1, 0, 1, 1, 0, 0, 1, 0, 0, 1, 0, 2, 1, 2, 0, 1]), 'input_ids': tensor([[  101,  1030,  5310,  ...,     0,     0,     0],\n",
      "        [  101,  1030,  5310,  ...,     0,     0,     0],\n",
      "        [  101,  1030,  5310,  ...,     0,     0,     0],\n",
      "        ...,\n",
      "        [  101,  5791,  1996,  ...,     0,     0,     0],\n",
      "        [  101,  1045,  2097,  ...,     0,     0,     0],\n",
      "        [  101, 19387,  1030,  ...,     0,     0,     0]]), 'attention_mask': tensor([[1, 1, 1,  ..., 0, 0, 0],\n",
      "        [1, 1, 1,  ..., 0, 0, 0],\n",
      "        [1, 1, 1,  ..., 0, 0, 0],\n",
      "        ...,\n",
      "        [1, 1, 1,  ..., 0, 0, 0],\n",
      "        [1, 1, 1,  ..., 0, 0, 0],\n",
      "        [1, 1, 1,  ..., 0, 0, 0]])}\n",
      "{'label': tensor([1, 1, 1, 1, 1, 1, 0, 2, 0, 1, 0, 1, 2, 1, 1, 2]), 'input_ids': tensor([[ 101, 2043, 2017,  ...,    0,    0,    0],\n",
      "        [ 101, 2074, 4201,  ...,    0,    0,    0],\n",
      "        [ 101, 1030, 5310,  ...,    0,    0,    0],\n",
      "        ...,\n",
      "        [ 101, 1030, 5310,  ...,    0,    0,    0],\n",
      "        [ 101, 1030, 5310,  ...,    0,    0,    0],\n",
      "        [ 101, 1030, 5310,  ...,    0,    0,    0]]), 'attention_mask': tensor([[1, 1, 1,  ..., 0, 0, 0],\n",
      "        [1, 1, 1,  ..., 0, 0, 0],\n",
      "        [1, 1, 1,  ..., 0, 0, 0],\n",
      "        ...,\n",
      "        [1, 1, 1,  ..., 0, 0, 0],\n",
      "        [1, 1, 1,  ..., 0, 0, 0],\n",
      "        [1, 1, 1,  ..., 0, 0, 0]])}\n",
      "{'label': tensor([0, 1, 1, 1, 1, 1, 1, 1, 1, 2, 0, 1, 1, 0, 1, 1]), 'input_ids': tensor([[ 101, 1030, 5310,  ...,    0,    0,    0],\n",
      "        [ 101, 1030, 5310,  ...,    0,    0,    0],\n",
      "        [ 101, 2065, 2273,  ...,    0,    0,    0],\n",
      "        ...,\n",
      "        [ 101, 1030, 5310,  ...,    0,    0,    0],\n",
      "        [ 101, 1030, 5310,  ...,    0,    0,    0],\n",
      "        [ 101, 1030, 5310,  ...,    0,    0,    0]]), 'attention_mask': tensor([[1, 1, 1,  ..., 0, 0, 0],\n",
      "        [1, 1, 1,  ..., 0, 0, 0],\n",
      "        [1, 1, 1,  ..., 0, 0, 0],\n",
      "        ...,\n",
      "        [1, 1, 1,  ..., 0, 0, 0],\n",
      "        [1, 1, 1,  ..., 0, 0, 0],\n",
      "        [1, 1, 1,  ..., 0, 0, 0]])}\n",
      "{'label': tensor([1, 1, 1, 0, 1, 1, 0, 1, 1, 1, 1, 0, 0, 0, 0, 1]), 'input_ids': tensor([[  101,  2028,  1010,  ...,     0,     0,     0],\n",
      "        [  101,  3425,  7987,  ...,     0,     0,     0],\n",
      "        [  101,  2204, 14764,  ...,     0,     0,     0],\n",
      "        ...,\n",
      "        [  101,  1001, 13350,  ...,     0,     0,     0],\n",
      "        [  101,  2061,  3407,  ...,     0,     0,     0],\n",
      "        [  101, 11324,  2003,  ...,     0,     0,     0]]), 'attention_mask': tensor([[1, 1, 1,  ..., 0, 0, 0],\n",
      "        [1, 1, 1,  ..., 0, 0, 0],\n",
      "        [1, 1, 1,  ..., 0, 0, 0],\n",
      "        ...,\n",
      "        [1, 1, 1,  ..., 0, 0, 0],\n",
      "        [1, 1, 1,  ..., 0, 0, 0],\n",
      "        [1, 1, 1,  ..., 0, 0, 0]])}\n",
      "{'label': tensor([0, 2, 1, 1, 0, 1, 1, 2, 0, 0, 1, 1, 1, 1, 0, 1]), 'input_ids': tensor([[ 101, 1045, 1005,  ...,    0,    0,    0],\n",
      "        [ 101, 3666, 9458,  ...,    0,    0,    0],\n",
      "        [ 101, 2057, 2024,  ...,    0,    0,    0],\n",
      "        ...,\n",
      "        [ 101, 2995, 6555,  ...,    0,    0,    0],\n",
      "        [ 101, 2339, 2079,  ...,    0,    0,    0],\n",
      "        [ 101, 1999, 3163,  ...,    0,    0,    0]]), 'attention_mask': tensor([[1, 1, 1,  ..., 0, 0, 0],\n",
      "        [1, 1, 1,  ..., 0, 0, 0],\n",
      "        [1, 1, 1,  ..., 0, 0, 0],\n",
      "        ...,\n",
      "        [1, 1, 1,  ..., 0, 0, 0],\n",
      "        [1, 1, 1,  ..., 0, 0, 0],\n",
      "        [1, 1, 1,  ..., 0, 0, 0]])}\n",
      "{'label': tensor([0, 1, 2, 1, 2, 1, 1, 2, 0, 1, 1, 2, 0, 1, 1, 1]), 'input_ids': tensor([[ 101, 2033, 4168,  ...,    0,    0,    0],\n",
      "        [ 101, 1996, 2088,  ...,    0,    0,    0],\n",
      "        [ 101, 1030, 5310,  ...,    0,    0,    0],\n",
      "        ...,\n",
      "        [ 101, 2045, 2003,  ...,    0,    0,    0],\n",
      "        [ 101, 5020, 2916,  ...,    0,    0,    0],\n",
      "        [ 101, 1001, 4013,  ...,    0,    0,    0]]), 'attention_mask': tensor([[1, 1, 1,  ..., 0, 0, 0],\n",
      "        [1, 1, 1,  ..., 0, 0, 0],\n",
      "        [1, 1, 1,  ..., 0, 0, 0],\n",
      "        ...,\n",
      "        [1, 1, 1,  ..., 0, 0, 0],\n",
      "        [1, 1, 1,  ..., 0, 0, 0],\n",
      "        [1, 1, 1,  ..., 0, 0, 0]])}\n",
      "{'label': tensor([1, 0, 0, 1, 1, 1, 1, 1, 1, 1, 1, 0, 1, 1, 2, 1]), 'input_ids': tensor([[ 101, 2057, 2031,  ...,    0,    0,    0],\n",
      "        [ 101, 2054, 2003,  ...,    0,    0,    0],\n",
      "        [ 101, 1030, 5310,  ...,    0,    0,    0],\n",
      "        ...,\n",
      "        [ 101, 2128, 2197,  ...,    0,    0,    0],\n",
      "        [ 101, 1030, 5310,  ...,    0,    0,    0],\n",
      "        [ 101, 2003, 1001,  ...,    0,    0,    0]]), 'attention_mask': tensor([[1, 1, 1,  ..., 0, 0, 0],\n",
      "        [1, 1, 1,  ..., 0, 0, 0],\n",
      "        [1, 1, 1,  ..., 0, 0, 0],\n",
      "        ...,\n",
      "        [1, 1, 1,  ..., 0, 0, 0],\n",
      "        [1, 1, 1,  ..., 0, 0, 0],\n",
      "        [1, 1, 1,  ..., 0, 0, 0]])}\n",
      "{'label': tensor([2, 2, 2, 1, 0, 1, 1, 1, 1, 1, 2, 0, 1, 0, 1, 1]), 'input_ids': tensor([[  101,  1030,  5310,  ...,     0,     0,     0],\n",
      "        [  101,  2061, 15140,  ...,     0,     0,     0],\n",
      "        [  101,  1045, 10214,  ...,     0,     0,     0],\n",
      "        ...,\n",
      "        [  101,  8040,  4140,  ...,     0,     0,     0],\n",
      "        [  101,  1030,  5310,  ...,     0,     0,     0],\n",
      "        [  101,  9811,  1045,  ...,     0,     0,     0]]), 'attention_mask': tensor([[1, 1, 1,  ..., 0, 0, 0],\n",
      "        [1, 1, 1,  ..., 0, 0, 0],\n",
      "        [1, 1, 1,  ..., 0, 0, 0],\n",
      "        ...,\n",
      "        [1, 1, 1,  ..., 0, 0, 0],\n",
      "        [1, 1, 1,  ..., 0, 0, 0],\n",
      "        [1, 1, 1,  ..., 0, 0, 0]])}\n",
      "{'label': tensor([2, 0, 1, 1, 1, 2, 1, 2, 1, 1, 1, 0, 0, 1, 0, 0]), 'input_ids': tensor([[  101, 16595,  9648,  ...,     0,     0,     0],\n",
      "        [  101,  2003,  2045,  ...,     0,     0,     0],\n",
      "        [  101,  2126,  2000,  ...,     0,     0,     0],\n",
      "        ...,\n",
      "        [  101,  7518,  1010,  ...,     0,     0,     0],\n",
      "        [  101,  1045, 10214,  ...,     0,     0,     0],\n",
      "        [  101,  2784,  1011,  ...,     0,     0,     0]]), 'attention_mask': tensor([[1, 1, 1,  ..., 0, 0, 0],\n",
      "        [1, 1, 1,  ..., 0, 0, 0],\n",
      "        [1, 1, 1,  ..., 0, 0, 0],\n",
      "        ...,\n",
      "        [1, 1, 1,  ..., 0, 0, 0],\n",
      "        [1, 1, 1,  ..., 0, 0, 0],\n",
      "        [1, 1, 1,  ..., 0, 0, 0]])}\n",
      "{'label': tensor([1, 1, 1, 0, 0, 2, 0, 0, 0, 0, 1, 1, 1, 1, 1, 0]), 'input_ids': tensor([[  101,  2129,  2071,  ...,     0,     0,     0],\n",
      "        [  101,  2017,  2064,  ...,     0,     0,     0],\n",
      "        [  101,  1030,  5310,  ...,     0,     0,     0],\n",
      "        ...,\n",
      "        [  101, 12583,  2005,  ...,     0,     0,     0],\n",
      "        [  101,  2065,  7435,  ...,     0,     0,     0],\n",
      "        [  101,  2296,  2204,  ...,     0,     0,     0]]), 'attention_mask': tensor([[1, 1, 1,  ..., 0, 0, 0],\n",
      "        [1, 1, 1,  ..., 0, 0, 0],\n",
      "        [1, 1, 1,  ..., 0, 0, 0],\n",
      "        ...,\n",
      "        [1, 1, 1,  ..., 0, 0, 0],\n",
      "        [1, 1, 1,  ..., 0, 0, 0],\n",
      "        [1, 1, 1,  ..., 0, 0, 0]])}\n",
      "{'label': tensor([0, 1, 1, 2, 0, 0, 1, 1, 1, 0, 0, 1, 2, 1, 1, 1]), 'input_ids': tensor([[ 101, 2619, 1055,  ...,    0,    0,    0],\n",
      "        [ 101, 2027, 2081,  ...,    0,    0,    0],\n",
      "        [ 101, 2995, 9945,  ...,    0,    0,    0],\n",
      "        ...,\n",
      "        [ 101, 1999, 1001,  ...,    0,    0,    0],\n",
      "        [ 101, 1001, 2304,  ...,    0,    0,    0],\n",
      "        [ 101, 2057, 2035,  ...,    0,    0,    0]]), 'attention_mask': tensor([[1, 1, 1,  ..., 0, 0, 0],\n",
      "        [1, 1, 1,  ..., 0, 0, 0],\n",
      "        [1, 1, 1,  ..., 0, 0, 0],\n",
      "        ...,\n",
      "        [1, 1, 1,  ..., 0, 0, 0],\n",
      "        [1, 1, 1,  ..., 0, 0, 0],\n",
      "        [1, 1, 1,  ..., 0, 0, 0]])}\n",
      "{'label': tensor([0, 1, 2, 2, 1, 1, 0, 2, 1, 0, 0, 1, 1, 0, 2, 1]), 'input_ids': tensor([[  101,  3342,  1996,  ...,     0,     0,     0],\n",
      "        [  101,  1030,  5310,  ...,     0,     0,     0],\n",
      "        [  101, 13970, 12269,  ...,     0,     0,     0],\n",
      "        ...,\n",
      "        [  101,  1030,  5310,  ...,     0,     0,     0],\n",
      "        [  101, 13680,  2050,  ...,     0,     0,     0],\n",
      "        [  101,  2065,  1001,  ...,     0,     0,     0]]), 'attention_mask': tensor([[1, 1, 1,  ..., 0, 0, 0],\n",
      "        [1, 1, 1,  ..., 0, 0, 0],\n",
      "        [1, 1, 1,  ..., 0, 0, 0],\n",
      "        ...,\n",
      "        [1, 1, 1,  ..., 0, 0, 0],\n",
      "        [1, 1, 1,  ..., 0, 0, 0],\n",
      "        [1, 1, 1,  ..., 0, 0, 0]])}\n",
      "{'label': tensor([0, 1, 2, 0, 0, 1, 1, 1, 1, 1, 1, 1, 0, 1, 2, 0]), 'input_ids': tensor([[  101,  1001,  2522,  ...,     0,     0,     0],\n",
      "        [  101,  2166,  2003,  ...,     0,     0,     0],\n",
      "        [  101,  2643, 27206,  ...,     0,     0,     0],\n",
      "        ...,\n",
      "        [  101, 18520,  4122,  ...,     0,     0,     0],\n",
      "        [  101,  2746,  2013,  ...,     0,     0,     0],\n",
      "        [  101,  1030,  5310,  ...,     0,     0,     0]]), 'attention_mask': tensor([[1, 1, 1,  ..., 0, 0, 0],\n",
      "        [1, 1, 1,  ..., 0, 0, 0],\n",
      "        [1, 1, 1,  ..., 0, 0, 0],\n",
      "        ...,\n",
      "        [1, 1, 1,  ..., 0, 0, 0],\n",
      "        [1, 1, 1,  ..., 0, 0, 0],\n",
      "        [1, 1, 1,  ..., 0, 0, 0]])}\n",
      "{'label': tensor([1, 1, 0, 0, 2, 2, 1, 0, 0, 1, 1, 2, 1, 1, 0, 1]), 'input_ids': tensor([[  101,  2129,  2064,  ...,     0,     0,     0],\n",
      "        [  101,  1045,  2428,  ...,     0,     0,     0],\n",
      "        [  101, 19387,  1030,  ...,     0,     0,     0],\n",
      "        ...,\n",
      "        [  101,  1030,  5310,  ...,     0,     0,     0],\n",
      "        [  101,  1045,  1005,  ...,     0,     0,     0],\n",
      "        [  101,  2196,  2076,  ...,     0,     0,     0]]), 'attention_mask': tensor([[1, 1, 1,  ..., 0, 0, 0],\n",
      "        [1, 1, 1,  ..., 0, 0, 0],\n",
      "        [1, 1, 1,  ..., 0, 0, 0],\n",
      "        ...,\n",
      "        [1, 1, 1,  ..., 0, 0, 0],\n",
      "        [1, 1, 1,  ..., 0, 0, 0],\n",
      "        [1, 1, 1,  ..., 0, 0, 0]])}\n",
      "{'label': tensor([2, 1, 2, 1, 1, 0, 1, 2, 1, 1, 0, 1, 2, 0, 1, 2]), 'input_ids': tensor([[ 101, 2054, 1037,  ...,    0,    0,    0],\n",
      "        [ 101, 1030, 5310,  ...,    0,    0,    0],\n",
      "        [ 101, 4013, 1011,  ...,    0,    0,    0],\n",
      "        ...,\n",
      "        [ 101, 2129, 2064,  ...,    0,    0,    0],\n",
      "        [ 101, 5020, 3477,  ...,    0,    0,    0],\n",
      "        [ 101, 2054, 2003,  ...,    0,    0,    0]]), 'attention_mask': tensor([[1, 1, 1,  ..., 0, 0, 0],\n",
      "        [1, 1, 1,  ..., 0, 0, 0],\n",
      "        [1, 1, 1,  ..., 0, 0, 0],\n",
      "        ...,\n",
      "        [1, 1, 1,  ..., 0, 0, 0],\n",
      "        [1, 1, 1,  ..., 0, 0, 0],\n",
      "        [1, 1, 1,  ..., 0, 0, 0]])}\n",
      "{'label': tensor([1, 0, 2, 1, 1, 0, 2, 1, 0, 2, 0, 1, 0, 1, 1, 1]), 'input_ids': tensor([[  101,  3071,  2038,  ...,     0,     0,     0],\n",
      "        [  101,  1030,  5310,  ...,     0,     0,     0],\n",
      "        [  101,  1030,  5310,  ...,     0,     0,     0],\n",
      "        ...,\n",
      "        [  101,  4152,  9436,  ...,     0,     0,     0],\n",
      "        [  101, 11324,  2038,  ...,     0,     0,     0],\n",
      "        [  101,  2027,  2020,  ...,     0,     0,     0]]), 'attention_mask': tensor([[1, 1, 1,  ..., 0, 0, 0],\n",
      "        [1, 1, 1,  ..., 0, 0, 0],\n",
      "        [1, 1, 1,  ..., 0, 0, 0],\n",
      "        ...,\n",
      "        [1, 1, 1,  ..., 0, 0, 0],\n",
      "        [1, 1, 1,  ..., 0, 0, 0],\n",
      "        [1, 1, 1,  ..., 0, 0, 0]])}\n",
      "{'label': tensor([1, 2, 0, 2, 1, 0, 0, 2, 1, 1, 1, 1, 1, 1, 1, 1]), 'input_ids': tensor([[  101,  1030,  5310,  ...,     0,     0,     0],\n",
      "        [  101, 15624,  1012,  ...,     0,     0,     0],\n",
      "        [  101,  1030,  5310,  ...,     0,     0,     0],\n",
      "        ...,\n",
      "        [  101,  4125,  1004,  ...,     0,     0,     0],\n",
      "        [  101,  2027,  4033,  ...,     0,     0,     0],\n",
      "        [  101,  1996,  2157,  ...,     0,     0,     0]]), 'attention_mask': tensor([[1, 1, 1,  ..., 0, 0, 0],\n",
      "        [1, 1, 1,  ..., 0, 0, 0],\n",
      "        [1, 1, 1,  ..., 0, 0, 0],\n",
      "        ...,\n",
      "        [1, 1, 1,  ..., 0, 0, 0],\n",
      "        [1, 1, 1,  ..., 0, 0, 0],\n",
      "        [1, 1, 1,  ..., 0, 0, 0]])}\n",
      "{'label': tensor([1, 2, 0, 2, 1, 1, 0, 1, 0, 2, 0, 0, 1, 1, 0, 1]), 'input_ids': tensor([[  101,  2036,  1010,  ...,     0,     0,     0],\n",
      "        [  101,  1030,  5310,  ...,     0,     0,     0],\n",
      "        [  101,  1030,  5310,  ...,     0,     0,     0],\n",
      "        ...,\n",
      "        [  101,  1057,  1012,  ...,     0,     0,     0],\n",
      "        [  101,  1030,  5310,  ...,     0,     0,     0],\n",
      "        [  101,  1001, 16274,  ...,     0,     0,     0]]), 'attention_mask': tensor([[1, 1, 1,  ..., 0, 0, 0],\n",
      "        [1, 1, 1,  ..., 0, 0, 0],\n",
      "        [1, 1, 1,  ..., 0, 0, 0],\n",
      "        ...,\n",
      "        [1, 1, 1,  ..., 0, 0, 0],\n",
      "        [1, 1, 1,  ..., 0, 0, 0],\n",
      "        [1, 1, 1,  ..., 0, 0, 0]])}\n",
      "{'label': tensor([1, 1, 1, 2, 0, 1, 1, 1, 1, 1, 1, 1, 1, 0, 0, 2]), 'input_ids': tensor([[  101,  2077,  2057,  ...,     0,     0,     0],\n",
      "        [  101,  2710,  1005,  ...,     0,     0,     0],\n",
      "        [  101,  1030,  5310,  ...,     0,     0,     0],\n",
      "        ...,\n",
      "        [  101,  2074,  2138,  ...,     0,     0,     0],\n",
      "        [  101,  1030,  5310,  ...,     0,     0,     0],\n",
      "        [  101,  3140, 14627,  ...,     0,     0,     0]]), 'attention_mask': tensor([[1, 1, 1,  ..., 0, 0, 0],\n",
      "        [1, 1, 1,  ..., 0, 0, 0],\n",
      "        [1, 1, 1,  ..., 0, 0, 0],\n",
      "        ...,\n",
      "        [1, 1, 1,  ..., 0, 0, 0],\n",
      "        [1, 1, 1,  ..., 0, 0, 0],\n",
      "        [1, 1, 1,  ..., 0, 0, 0]])}\n",
      "{'label': tensor([1, 0, 2, 1, 1, 1, 1, 1, 2, 2, 1, 1, 1, 0, 0, 0]), 'input_ids': tensor([[ 101, 1996, 5320,  ...,    0,    0,    0],\n",
      "        [ 101, 1030, 5310,  ...,    0,    0,    0],\n",
      "        [ 101, 1030, 5310,  ...,    0,    0,    0],\n",
      "        ...,\n",
      "        [ 101, 1030, 5310,  ...,    0,    0,    0],\n",
      "        [ 101, 2021, 3475,  ...,    0,    0,    0],\n",
      "        [ 101, 1030, 5310,  ...,    0,    0,    0]]), 'attention_mask': tensor([[1, 1, 1,  ..., 0, 0, 0],\n",
      "        [1, 1, 1,  ..., 0, 0, 0],\n",
      "        [1, 1, 1,  ..., 0, 0, 0],\n",
      "        ...,\n",
      "        [1, 1, 1,  ..., 0, 0, 0],\n",
      "        [1, 1, 1,  ..., 0, 0, 0],\n",
      "        [1, 1, 1,  ..., 0, 0, 0]])}\n",
      "{'label': tensor([1, 2, 0, 1, 1, 1, 1, 1, 1, 2, 1, 0, 0, 1, 1, 2]), 'input_ids': tensor([[  101,  1030,  5310,  ...,     0,     0,     0],\n",
      "        [  101,  1030,  5310,  ...,     0,     0,     0],\n",
      "        [  101,  2065,  2057,  ...,     0,     0,     0],\n",
      "        ...,\n",
      "        [  101,  1001, 18520,  ...,     0,     0,     0],\n",
      "        [  101,  1030,  5310,  ...,     0,     0,     0],\n",
      "        [  101,  4960,  2075,  ...,     0,     0,     0]]), 'attention_mask': tensor([[1, 1, 1,  ..., 0, 0, 0],\n",
      "        [1, 1, 1,  ..., 0, 0, 0],\n",
      "        [1, 1, 1,  ..., 0, 0, 0],\n",
      "        ...,\n",
      "        [1, 1, 1,  ..., 0, 0, 0],\n",
      "        [1, 1, 1,  ..., 0, 0, 0],\n",
      "        [1, 1, 1,  ..., 0, 0, 0]])}\n",
      "{'label': tensor([0, 2, 1, 1, 1, 1, 1, 1, 2, 0, 0, 1, 1, 1, 2, 1]), 'input_ids': tensor([[  101,  2205,  2521,  ...,     0,     0,     0],\n",
      "        [  101,  6101,  2075,  ...,     0,     0,     0],\n",
      "        [  101,  2065,  2017,  ...,     0,     0,     0],\n",
      "        ...,\n",
      "        [  101, 11047,  1030,  ...,     0,     0,     0],\n",
      "        [  101,  2016,  1008,  ...,     0,     0,     0],\n",
      "        [  101,  1030,  5310,  ...,     0,     0,     0]]), 'attention_mask': tensor([[1, 1, 1,  ..., 0, 0, 0],\n",
      "        [1, 1, 1,  ..., 0, 0, 0],\n",
      "        [1, 1, 1,  ..., 0, 0, 0],\n",
      "        ...,\n",
      "        [1, 1, 1,  ..., 0, 0, 0],\n",
      "        [1, 1, 1,  ..., 0, 0, 0],\n",
      "        [1, 1, 1,  ..., 0, 0, 0]])}\n",
      "{'label': tensor([1, 0, 1, 1, 0, 0, 1, 1, 0, 1, 1, 1, 0, 2, 2, 1]), 'input_ids': tensor([[ 101, 2017, 2490,  ...,    0,    0,    0],\n",
      "        [ 101, 1030, 5310,  ...,    0,    0,    0],\n",
      "        [ 101, 2129, 1996,  ...,    0,    0,    0],\n",
      "        ...,\n",
      "        [ 101, 2026, 3836,  ...,    0,    0,    0],\n",
      "        [ 101, 2036, 2054,  ...,    0,    0,    0],\n",
      "        [ 101, 1030, 5310,  ...,    0,    0,    0]]), 'attention_mask': tensor([[1, 1, 1,  ..., 0, 0, 0],\n",
      "        [1, 1, 1,  ..., 0, 0, 0],\n",
      "        [1, 1, 1,  ..., 0, 0, 0],\n",
      "        ...,\n",
      "        [1, 1, 1,  ..., 0, 0, 0],\n",
      "        [1, 1, 1,  ..., 0, 0, 0],\n",
      "        [1, 1, 1,  ..., 0, 0, 0]])}\n",
      "{'label': tensor([2, 1, 1, 2, 2, 0, 1, 1, 1, 1, 1, 0, 1, 0, 0, 1]), 'input_ids': tensor([[  101,  2009,  1005,  ...,     0,     0,     0],\n",
      "        [  101,  1030,  5310,  ...,     0,     0,     0],\n",
      "        [  101,  2123,  1005,  ...,     0,     0,     0],\n",
      "        ...,\n",
      "        [  101,  1030,  5310,  ...,     0,     0,     0],\n",
      "        [  101, 18079,  2829,  ...,     0,     0,     0],\n",
      "        [  101,  2129,  8108,  ...,     0,     0,     0]]), 'attention_mask': tensor([[1, 1, 1,  ..., 0, 0, 0],\n",
      "        [1, 1, 1,  ..., 0, 0, 0],\n",
      "        [1, 1, 1,  ..., 0, 0, 0],\n",
      "        ...,\n",
      "        [1, 1, 1,  ..., 0, 0, 0],\n",
      "        [1, 1, 1,  ..., 0, 0, 0],\n",
      "        [1, 1, 1,  ..., 0, 0, 0]])}\n",
      "{'label': tensor([0, 1, 1, 2, 0, 1, 1, 1, 1, 2, 0, 1, 0, 2, 1, 1]), 'input_ids': tensor([[  101,  1996,  4259,  ...,     0,     0,     0],\n",
      "        [  101,  1012,  1030,  ...,     0,     0,     0],\n",
      "        [  101,  2061,  2064,  ...,     0,     0,     0],\n",
      "        ...,\n",
      "        [  101,  1048,  2863,  ...,     0,     0,     0],\n",
      "        [  101,  2065, 11324,  ...,     0,     0,     0],\n",
      "        [  101, 19387,  1030,  ...,     0,     0,     0]]), 'attention_mask': tensor([[1, 1, 1,  ..., 0, 0, 0],\n",
      "        [1, 1, 1,  ..., 0, 0, 0],\n",
      "        [1, 1, 1,  ..., 0, 0, 0],\n",
      "        ...,\n",
      "        [1, 1, 1,  ..., 0, 0, 0],\n",
      "        [1, 1, 1,  ..., 0, 0, 0],\n",
      "        [1, 1, 1,  ..., 0, 0, 0]])}\n",
      "{'label': tensor([1, 0, 2, 1, 2, 0, 2, 1, 2, 1, 1, 0, 0, 0, 2, 1]), 'input_ids': tensor([[  101,  7929,  2085,  ...,     0,     0,     0],\n",
      "        [  101, 20944,  1058,  ...,     0,     0,     0],\n",
      "        [  101,  1030,  5310,  ...,     0,     0,     0],\n",
      "        ...,\n",
      "        [  101, 12043,  1045,  ...,     0,     0,     0],\n",
      "        [  101,  1030,  5310,  ...,     0,     0,     0],\n",
      "        [  101,  2023,  2003,  ...,     0,     0,     0]]), 'attention_mask': tensor([[1, 1, 1,  ..., 0, 0, 0],\n",
      "        [1, 1, 1,  ..., 0, 0, 0],\n",
      "        [1, 1, 1,  ..., 0, 0, 0],\n",
      "        ...,\n",
      "        [1, 1, 1,  ..., 0, 0, 0],\n",
      "        [1, 1, 1,  ..., 0, 0, 0],\n",
      "        [1, 1, 1,  ..., 0, 0, 0]])}\n",
      "{'label': tensor([1, 1, 0, 1, 1, 1, 1, 1, 0, 2, 1, 0, 0, 1, 0, 1]), 'input_ids': tensor([[  101, 18358,  2039,  ...,     0,     0,     0],\n",
      "        [  101,  1045,  1005,  ...,     0,     0,     0],\n",
      "        [  101,  3057,  2123,  ...,     0,     0,     0],\n",
      "        ...,\n",
      "        [  101,  1996,  2157,  ...,     0,     0,     0],\n",
      "        [  101,  1037,  2210,  ...,     0,     0,     0],\n",
      "        [  101, 10303,  1001,  ...,     0,     0,     0]]), 'attention_mask': tensor([[1, 1, 1,  ..., 0, 0, 0],\n",
      "        [1, 1, 1,  ..., 0, 0, 0],\n",
      "        [1, 1, 1,  ..., 0, 0, 0],\n",
      "        ...,\n",
      "        [1, 1, 1,  ..., 0, 0, 0],\n",
      "        [1, 1, 1,  ..., 0, 0, 0],\n",
      "        [1, 1, 1,  ..., 0, 0, 0]])}\n",
      "{'label': tensor([1, 1, 1, 0, 0, 2, 0, 0, 0, 0, 1, 0, 1, 1, 0, 0]), 'input_ids': tensor([[ 101, 1001, 8962,  ...,    0,    0,    0],\n",
      "        [ 101, 1030, 5310,  ...,    0,    0,    0],\n",
      "        [ 101, 2035, 1997,  ...,    0,    0,    0],\n",
      "        ...,\n",
      "        [ 101, 2066, 1045,  ...,    0,    0,    0],\n",
      "        [ 101, 1030, 5310,  ...,    0,    0,    0],\n",
      "        [ 101, 3008, 2031,  ...,    0,    0,    0]]), 'attention_mask': tensor([[1, 1, 1,  ..., 0, 0, 0],\n",
      "        [1, 1, 1,  ..., 0, 0, 0],\n",
      "        [1, 1, 1,  ..., 0, 0, 0],\n",
      "        ...,\n",
      "        [1, 1, 1,  ..., 0, 0, 0],\n",
      "        [1, 1, 1,  ..., 0, 0, 0],\n",
      "        [1, 1, 1,  ..., 0, 0, 0]])}\n",
      "{'label': tensor([1, 0, 1, 1, 1, 1, 1, 1, 2, 1, 1, 1, 1, 1, 2, 1]), 'input_ids': tensor([[ 101, 1030, 5310,  ...,    0,    0,    0],\n",
      "        [ 101, 1996, 2111,  ...,    0,    0,    0],\n",
      "        [ 101, 2166, 2755,  ...,    0,    0,    0],\n",
      "        ...,\n",
      "        [ 101, 2079, 2498,  ...,    0,    0,    0],\n",
      "        [ 101, 2027, 2113,  ...,    0,    0,    0],\n",
      "        [ 101, 2204, 2851,  ...,    0,    0,    0]]), 'attention_mask': tensor([[1, 1, 1,  ..., 0, 0, 0],\n",
      "        [1, 1, 1,  ..., 0, 0, 0],\n",
      "        [1, 1, 1,  ..., 0, 0, 0],\n",
      "        ...,\n",
      "        [1, 1, 1,  ..., 0, 0, 0],\n",
      "        [1, 1, 1,  ..., 0, 0, 0],\n",
      "        [1, 1, 1,  ..., 0, 0, 0]])}\n",
      "{'label': tensor([1, 0, 0, 2, 1, 2, 0, 0, 1, 1, 1, 1, 1, 2, 0, 0]), 'input_ids': tensor([[ 101, 2016, 2038,  ...,    0,    0,    0],\n",
      "        [ 101, 1030, 5310,  ...,    0,    0,    0],\n",
      "        [ 101, 1030, 5310,  ...,    0,    0,    0],\n",
      "        ...,\n",
      "        [ 101, 1030, 5310,  ...,    0,    0,    0],\n",
      "        [ 101, 1030, 5310,  ...,    0,    0,    0],\n",
      "        [ 101, 1030, 5310,  ...,    0,    0,    0]]), 'attention_mask': tensor([[1, 1, 1,  ..., 0, 0, 0],\n",
      "        [1, 1, 1,  ..., 0, 0, 0],\n",
      "        [1, 1, 1,  ..., 0, 0, 0],\n",
      "        ...,\n",
      "        [1, 1, 1,  ..., 0, 0, 0],\n",
      "        [1, 1, 1,  ..., 0, 0, 0],\n",
      "        [1, 1, 1,  ..., 0, 0, 0]])}\n",
      "{'label': tensor([1, 2, 1, 1, 1, 2, 1, 2, 2, 0, 0, 2, 1, 2, 2, 2]), 'input_ids': tensor([[ 101, 1999, 2061,  ...,    0,    0,    0],\n",
      "        [ 101, 2012, 1996,  ...,    0,    0,    0],\n",
      "        [ 101, 1001, 5751,  ...,    0,    0,    0],\n",
      "        ...,\n",
      "        [ 101, 1030, 5310,  ...,    0,    0,    0],\n",
      "        [ 101, 2065, 1996,  ...,    0,    0,    0],\n",
      "        [ 101, 1045, 2113,  ...,    0,    0,    0]]), 'attention_mask': tensor([[1, 1, 1,  ..., 0, 0, 0],\n",
      "        [1, 1, 1,  ..., 0, 0, 0],\n",
      "        [1, 1, 1,  ..., 0, 0, 0],\n",
      "        ...,\n",
      "        [1, 1, 1,  ..., 0, 0, 0],\n",
      "        [1, 1, 1,  ..., 0, 0, 0],\n",
      "        [1, 1, 1,  ..., 0, 0, 0]])}\n",
      "{'label': tensor([2, 2, 1, 0, 0, 0, 0, 1, 2, 1, 2]), 'input_ids': tensor([[  101,  1030,  5310,  ...,     0,     0,     0],\n",
      "        [  101, 19387,  1030,  ...,     0,     0,     0],\n",
      "        [  101,  1001,  2477,  ...,     0,     0,     0],\n",
      "        ...,\n",
      "        [  101,  2009,  1005,  ...,     0,     0,     0],\n",
      "        [  101, 19387,  1030,  ...,     0,     0,     0],\n",
      "        [  101, 19387,  1030,  ...,     0,     0,     0]]), 'attention_mask': tensor([[1, 1, 1,  ..., 0, 0, 0],\n",
      "        [1, 1, 1,  ..., 0, 0, 0],\n",
      "        [1, 1, 1,  ..., 0, 0, 0],\n",
      "        ...,\n",
      "        [1, 1, 1,  ..., 0, 0, 0],\n",
      "        [1, 1, 1,  ..., 0, 0, 0],\n",
      "        [1, 1, 1,  ..., 0, 0, 0]])}\n"
     ]
    }
   ],
   "source": [
    "for batch in train_loader:\n",
    "    print(batch)\n"
   ],
   "metadata": {
    "collapsed": false
   }
  },
  {
   "cell_type": "code",
   "execution_count": 25,
   "outputs": [
    {
     "name": "stderr",
     "output_type": "stream",
     "text": [
      "Epoch 1/1:   3%|▎         | 1/37 [00:18<11:12, 18.67s/it]"
     ]
    },
    {
     "name": "stdout",
     "output_type": "stream",
     "text": [
      "Train Loss: nan, Train Acc: 0.500\r"
     ]
    },
    {
     "name": "stderr",
     "output_type": "stream",
     "text": [
      "Epoch 1/1:   5%|▌         | 2/37 [00:34<09:47, 16.80s/it]"
     ]
    },
    {
     "name": "stdout",
     "output_type": "stream",
     "text": [
      "Train Loss: nan, Train Acc: 0.438\r"
     ]
    },
    {
     "name": "stderr",
     "output_type": "stream",
     "text": [
      "Epoch 1/1:   8%|▊         | 3/37 [00:45<08:08, 14.37s/it]"
     ]
    },
    {
     "name": "stdout",
     "output_type": "stream",
     "text": [
      "Train Loss: nan, Train Acc: 0.312\r"
     ]
    },
    {
     "name": "stderr",
     "output_type": "stream",
     "text": [
      "Epoch 1/1:  11%|█         | 4/37 [00:57<07:19, 13.30s/it]"
     ]
    },
    {
     "name": "stdout",
     "output_type": "stream",
     "text": [
      "Train Loss: nan, Train Acc: 0.297\r"
     ]
    },
    {
     "name": "stderr",
     "output_type": "stream",
     "text": [
      "Epoch 1/1:  14%|█▎        | 5/37 [01:09<06:49, 12.78s/it]"
     ]
    },
    {
     "name": "stdout",
     "output_type": "stream",
     "text": [
      "Train Loss: nan, Train Acc: 0.300\r"
     ]
    },
    {
     "name": "stderr",
     "output_type": "stream",
     "text": [
      "Epoch 1/1:  16%|█▌        | 6/37 [01:20<06:23, 12.38s/it]"
     ]
    },
    {
     "name": "stdout",
     "output_type": "stream",
     "text": [
      "Train Loss: nan, Train Acc: 0.281\r"
     ]
    },
    {
     "name": "stderr",
     "output_type": "stream",
     "text": [
      "Epoch 1/1:  19%|█▉        | 7/37 [01:44<08:05, 16.17s/it]"
     ]
    },
    {
     "name": "stdout",
     "output_type": "stream",
     "text": [
      "Train Loss: nan, Train Acc: 0.277\r"
     ]
    },
    {
     "name": "stderr",
     "output_type": "stream",
     "text": [
      "Epoch 1/1:  22%|██▏       | 8/37 [01:58<07:25, 15.36s/it]"
     ]
    },
    {
     "name": "stdout",
     "output_type": "stream",
     "text": [
      "Train Loss: nan, Train Acc: 0.281\r"
     ]
    },
    {
     "name": "stderr",
     "output_type": "stream",
     "text": [
      "Epoch 1/1:  24%|██▍       | 9/37 [02:09<06:35, 14.12s/it]"
     ]
    },
    {
     "name": "stdout",
     "output_type": "stream",
     "text": [
      "Train Loss: nan, Train Acc: 0.285\r"
     ]
    },
    {
     "name": "stderr",
     "output_type": "stream",
     "text": [
      "Epoch 1/1:  27%|██▋       | 10/37 [02:21<06:05, 13.54s/it]"
     ]
    },
    {
     "name": "stdout",
     "output_type": "stream",
     "text": [
      "Train Loss: nan, Train Acc: 0.269\r"
     ]
    },
    {
     "name": "stderr",
     "output_type": "stream",
     "text": [
      "Epoch 1/1:  30%|██▉       | 11/37 [02:34<05:42, 13.16s/it]"
     ]
    },
    {
     "name": "stdout",
     "output_type": "stream",
     "text": [
      "Train Loss: nan, Train Acc: 0.273\r"
     ]
    },
    {
     "name": "stderr",
     "output_type": "stream",
     "text": [
      "Epoch 1/1:  32%|███▏      | 12/37 [02:45<05:17, 12.71s/it]"
     ]
    },
    {
     "name": "stdout",
     "output_type": "stream",
     "text": [
      "Train Loss: nan, Train Acc: 0.276\r"
     ]
    },
    {
     "name": "stderr",
     "output_type": "stream",
     "text": [
      "Epoch 1/1:  35%|███▌      | 13/37 [02:57<04:56, 12.36s/it]"
     ]
    },
    {
     "name": "stdout",
     "output_type": "stream",
     "text": [
      "Train Loss: nan, Train Acc: 0.274\r"
     ]
    },
    {
     "name": "stderr",
     "output_type": "stream",
     "text": [
      "Epoch 1/1:  38%|███▊      | 14/37 [03:09<04:38, 12.10s/it]"
     ]
    },
    {
     "name": "stdout",
     "output_type": "stream",
     "text": [
      "Train Loss: nan, Train Acc: 0.277\r"
     ]
    },
    {
     "name": "stderr",
     "output_type": "stream",
     "text": [
      "Epoch 1/1:  41%|████      | 15/37 [03:19<04:14, 11.55s/it]"
     ]
    },
    {
     "name": "stdout",
     "output_type": "stream",
     "text": [
      "Train Loss: nan, Train Acc: 0.275\r"
     ]
    },
    {
     "name": "stderr",
     "output_type": "stream",
     "text": [
      "Epoch 1/1:  43%|████▎     | 16/37 [03:29<03:55, 11.19s/it]"
     ]
    },
    {
     "name": "stdout",
     "output_type": "stream",
     "text": [
      "Train Loss: nan, Train Acc: 0.285\r"
     ]
    },
    {
     "name": "stderr",
     "output_type": "stream",
     "text": [
      "Epoch 1/1:  46%|████▌     | 17/37 [03:39<03:36, 10.84s/it]"
     ]
    },
    {
     "name": "stdout",
     "output_type": "stream",
     "text": [
      "Train Loss: nan, Train Acc: 0.279\r"
     ]
    },
    {
     "name": "stderr",
     "output_type": "stream",
     "text": [
      "Epoch 1/1:  49%|████▊     | 18/37 [03:50<03:24, 10.78s/it]"
     ]
    },
    {
     "name": "stdout",
     "output_type": "stream",
     "text": [
      "Train Loss: nan, Train Acc: 0.278\r"
     ]
    },
    {
     "name": "stderr",
     "output_type": "stream",
     "text": [
      "Epoch 1/1:  51%|█████▏    | 19/37 [04:00<03:09, 10.54s/it]"
     ]
    },
    {
     "name": "stdout",
     "output_type": "stream",
     "text": [
      "Train Loss: nan, Train Acc: 0.283\r"
     ]
    },
    {
     "name": "stderr",
     "output_type": "stream",
     "text": [
      "Epoch 1/1:  54%|█████▍    | 20/37 [04:09<02:54, 10.27s/it]"
     ]
    },
    {
     "name": "stdout",
     "output_type": "stream",
     "text": [
      "Train Loss: nan, Train Acc: 0.278\r"
     ]
    },
    {
     "name": "stderr",
     "output_type": "stream",
     "text": [
      "Epoch 1/1:  57%|█████▋    | 21/37 [04:20<02:44, 10.26s/it]"
     ]
    },
    {
     "name": "stdout",
     "output_type": "stream",
     "text": [
      "Train Loss: nan, Train Acc: 0.271\r"
     ]
    },
    {
     "name": "stderr",
     "output_type": "stream",
     "text": [
      "Epoch 1/1:  59%|█████▉    | 22/37 [04:30<02:35, 10.37s/it]"
     ]
    },
    {
     "name": "stdout",
     "output_type": "stream",
     "text": [
      "Train Loss: nan, Train Acc: 0.270\r"
     ]
    },
    {
     "name": "stderr",
     "output_type": "stream",
     "text": [
      "Epoch 1/1:  62%|██████▏   | 23/37 [04:42<02:32, 10.89s/it]"
     ]
    },
    {
     "name": "stdout",
     "output_type": "stream",
     "text": [
      "Train Loss: nan, Train Acc: 0.272\r"
     ]
    },
    {
     "name": "stderr",
     "output_type": "stream",
     "text": [
      "Epoch 1/1:  65%|██████▍   | 24/37 [04:54<02:25, 11.20s/it]"
     ]
    },
    {
     "name": "stdout",
     "output_type": "stream",
     "text": [
      "Train Loss: nan, Train Acc: 0.273\r"
     ]
    },
    {
     "name": "stderr",
     "output_type": "stream",
     "text": [
      "Epoch 1/1:  68%|██████▊   | 25/37 [05:08<02:22, 11.89s/it]"
     ]
    },
    {
     "name": "stdout",
     "output_type": "stream",
     "text": [
      "Train Loss: nan, Train Acc: 0.275\r"
     ]
    },
    {
     "name": "stderr",
     "output_type": "stream",
     "text": [
      "Epoch 1/1:  70%|███████   | 26/37 [05:20<02:11, 11.95s/it]"
     ]
    },
    {
     "name": "stdout",
     "output_type": "stream",
     "text": [
      "Train Loss: nan, Train Acc: 0.272\r"
     ]
    },
    {
     "name": "stderr",
     "output_type": "stream",
     "text": [
      "Epoch 1/1:  73%|███████▎  | 27/37 [05:30<01:53, 11.34s/it]"
     ]
    },
    {
     "name": "stdout",
     "output_type": "stream",
     "text": [
      "Train Loss: nan, Train Acc: 0.264\r"
     ]
    },
    {
     "name": "stderr",
     "output_type": "stream",
     "text": [
      "Epoch 1/1:  76%|███████▌  | 28/37 [05:40<01:40, 11.12s/it]"
     ]
    },
    {
     "name": "stdout",
     "output_type": "stream",
     "text": [
      "Train Loss: nan, Train Acc: 0.263\r"
     ]
    },
    {
     "name": "stderr",
     "output_type": "stream",
     "text": [
      "Epoch 1/1:  78%|███████▊  | 29/37 [05:51<01:28, 11.09s/it]"
     ]
    },
    {
     "name": "stdout",
     "output_type": "stream",
     "text": [
      "Train Loss: nan, Train Acc: 0.261\r"
     ]
    },
    {
     "name": "stderr",
     "output_type": "stream",
     "text": [
      "Epoch 1/1:  81%|████████  | 30/37 [06:01<01:15, 10.77s/it]"
     ]
    },
    {
     "name": "stdout",
     "output_type": "stream",
     "text": [
      "Train Loss: nan, Train Acc: 0.269\r"
     ]
    },
    {
     "name": "stderr",
     "output_type": "stream",
     "text": [
      "Epoch 1/1:  84%|████████▍ | 31/37 [06:11<01:02, 10.42s/it]"
     ]
    },
    {
     "name": "stdout",
     "output_type": "stream",
     "text": [
      "Train Loss: nan, Train Acc: 0.268\r"
     ]
    },
    {
     "name": "stderr",
     "output_type": "stream",
     "text": [
      "Epoch 1/1:  86%|████████▋ | 32/37 [06:21<00:51, 10.25s/it]"
     ]
    },
    {
     "name": "stdout",
     "output_type": "stream",
     "text": [
      "Train Loss: nan, Train Acc: 0.268\r"
     ]
    },
    {
     "name": "stderr",
     "output_type": "stream",
     "text": [
      "Epoch 1/1:  89%|████████▉ | 33/37 [06:31<00:40, 10.17s/it]"
     ]
    },
    {
     "name": "stdout",
     "output_type": "stream",
     "text": [
      "Train Loss: nan, Train Acc: 0.273\r"
     ]
    },
    {
     "name": "stderr",
     "output_type": "stream",
     "text": [
      "Epoch 1/1:  92%|█████████▏| 34/37 [06:41<00:30, 10.10s/it]"
     ]
    },
    {
     "name": "stdout",
     "output_type": "stream",
     "text": [
      "Train Loss: nan, Train Acc: 0.274\r"
     ]
    },
    {
     "name": "stderr",
     "output_type": "stream",
     "text": [
      "Epoch 1/1:  95%|█████████▍| 35/37 [06:51<00:20, 10.08s/it]"
     ]
    },
    {
     "name": "stdout",
     "output_type": "stream",
     "text": [
      "Train Loss: nan, Train Acc: 0.280\r"
     ]
    },
    {
     "name": "stderr",
     "output_type": "stream",
     "text": [
      "Epoch 1/1:  97%|█████████▋| 36/37 [07:02<00:10, 10.47s/it]"
     ]
    },
    {
     "name": "stdout",
     "output_type": "stream",
     "text": [
      "Train Loss: nan, Train Acc: 0.273\r"
     ]
    },
    {
     "name": "stderr",
     "output_type": "stream",
     "text": [
      "Epoch 1/1: 100%|██████████| 37/37 [07:10<00:00, 11.63s/it]"
     ]
    },
    {
     "name": "stdout",
     "output_type": "stream",
     "text": [
      "Epoch 1, Train Loss: nan, Train Acc: 0.271\n",
      "Epoch 1 finished\n"
     ]
    },
    {
     "name": "stderr",
     "output_type": "stream",
     "text": [
      "\n"
     ]
    }
   ],
   "source": [
    "from tqdm import tqdm\n",
    "num_epochs = 1\n",
    "for epoch in range(num_epochs):\n",
    "    running_loss = 0.0\n",
    "    correct_predictions = 0\n",
    "    total_predictions = 0\n",
    "    for batch in tqdm(train_loader, desc=f'Epoch {epoch+1}/{num_epochs}'):\n",
    "        # get the inputs\n",
    "        input_ids = batch['input_ids'].to(device)\n",
    "        attention_mask = batch['attention_mask'].to(device)\n",
    "        labels = batch['label'].to(device)\n",
    "\n",
    "        # zero the parameter gradients\n",
    "        optimizer.zero_grad()\n",
    "\n",
    "        # forward + backward + optimize\n",
    "        outputs = stance_abortion_model(input_ids=input_ids, attention_mask=attention_mask)\n",
    "        loss = criterion(outputs, labels)\n",
    "        loss.backward()\n",
    "        optimizer.step()\n",
    "\n",
    "        # calculate accuracy\n",
    "        _, predicted = torch.max(outputs.data, 1)\n",
    "        total_predictions += labels.size(0)\n",
    "        correct_predictions += (predicted == labels).sum().item()\n",
    "\n",
    "        # print running loss for each batch\n",
    "        running_loss += loss.item()\n",
    "        avg_loss = running_loss / len(train_loader)\n",
    "        avg_acc = correct_predictions / total_predictions\n",
    "        tqdm.write(f'Train Loss: {avg_loss:.3f}, Train Acc: {avg_acc:.3f}', end='\\r')\n",
    "    tqdm.write(f'Epoch {epoch+1}, Train Loss: {avg_loss:.3f}, Train Acc: {avg_acc:.3f}')\n",
    "\n",
    "    print(f\"Epoch {epoch+1} finished\")\n"
   ],
   "metadata": {
    "collapsed": false
   }
  },
  {
   "cell_type": "code",
   "execution_count": 26,
   "outputs": [
    {
     "name": "stdout",
     "output_type": "stream",
     "text": [
      "Validation Loss: nan, Validation Acc: 0.273\n"
     ]
    }
   ],
   "source": [
    "# Validation loop\n",
    "with torch.no_grad():\n",
    "    stance_abortion_model.eval()  # Set the model to evaluation mode\n",
    "    valid_loss = 0.0\n",
    "    correct_predictions = 0\n",
    "    total_predictions = 0\n",
    "    for batch in val_loader:\n",
    "        # get the inputs\n",
    "        input_ids = batch['input_ids'].to(device)\n",
    "        attention_mask = batch['attention_mask'].to(device)\n",
    "        labels = batch['label'].to(device)\n",
    "\n",
    "        # forward\n",
    "        outputs = stance_abortion_model(input_ids=input_ids, attention_mask=attention_mask)\n",
    "        loss = criterion(outputs, labels)\n",
    "\n",
    "        # calculate accuracy\n",
    "        _, predicted = torch.max(outputs.data, 1)\n",
    "        total_predictions += labels.size(0)\n",
    "        correct_predictions += (predicted == labels).sum().item()\n",
    "\n",
    "        # calculate running loss\n",
    "        valid_loss += loss.item()\n",
    "\n",
    "    avg_loss = valid_loss / len(val_loader)\n",
    "    avg_acc = correct_predictions / total_predictions\n",
    "    print(f'Validation Loss: {avg_loss:.3f}, Validation Acc: {avg_acc:.3f}')"
   ],
   "metadata": {
    "collapsed": false
   }
  },
  {
   "cell_type": "code",
   "execution_count": 27,
   "outputs": [
    {
     "name": "stdout",
     "output_type": "stream",
     "text": [
      "Test Loss: nan, Test Acc: 0.161\n"
     ]
    }
   ],
   "source": [
    "\n",
    "# Test loop\n",
    "with torch.no_grad():\n",
    "    stance_abortion_model.eval()  # Set the model to evaluation mode\n",
    "    test_loss = 0.0\n",
    "    correct_predictions = 0\n",
    "    total_predictions = 0\n",
    "    for batch in test_loader:\n",
    "        # get the inputs\n",
    "        input_ids = batch['input_ids'].to(device)\n",
    "        attention_mask = batch['attention_mask'].to(device)\n",
    "        labels = batch['label'].to(device)\n",
    "\n",
    "        # forward\n",
    "        outputs = stance_abortion_model(input_ids=input_ids, attention_mask=attention_mask)\n",
    "        loss = criterion(outputs, labels)\n",
    "\n",
    "        # calculate accuracy\n",
    "        _, predicted = torch.max(outputs.data, 1)\n",
    "        total_predictions += labels.size(0)\n",
    "        correct_predictions += (predicted == labels).sum().item()\n",
    "\n",
    "        # calculate running loss\n",
    "        test_loss += loss.item()\n",
    "\n",
    "    avg_loss = test_loss / len(test_loader)\n",
    "    avg_acc = correct_predictions / total_predictions\n",
    "    print(f'Test Loss: {avg_loss:.3f}, Test Acc: {avg_acc:.3f}')\n"
   ],
   "metadata": {
    "collapsed": false
   }
  },
  {
   "cell_type": "code",
   "execution_count": 28,
   "outputs": [],
   "source": [
    "# save the model\n",
    "torch.save(stance_abortion_model.state_dict(), 'Models/stance_abortion_model.pth')\n"
   ],
   "metadata": {
    "collapsed": false
   }
  }
 ],
 "metadata": {
  "kernelspec": {
   "display_name": "Python 3",
   "language": "python",
   "name": "python3"
  },
  "language_info": {
   "codemirror_mode": {
    "name": "ipython",
    "version": 2
   },
   "file_extension": ".py",
   "mimetype": "text/x-python",
   "name": "python",
   "nbconvert_exporter": "python",
   "pygments_lexer": "ipython2",
   "version": "2.7.6"
  }
 },
 "nbformat": 4,
 "nbformat_minor": 0
}
