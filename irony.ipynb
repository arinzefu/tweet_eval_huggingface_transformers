{
 "cells": [
  {
   "cell_type": "code",
   "execution_count": 22,
   "metadata": {
    "collapsed": true
   },
   "outputs": [],
   "source": [
    "import torch\n",
    "import torch.nn as nn\n",
    "import torch.optim as optim\n",
    "from torch.utils.data import DataLoader, Dataset\n",
    "from transformers import AutoTokenizer\n",
    "from transformers import RobertaModel\n"
   ]
  },
  {
   "cell_type": "code",
   "execution_count": 23,
   "outputs": [
    {
     "name": "stderr",
     "output_type": "stream",
     "text": [
      "Found cached dataset tweet_eval (C:/Users/User/.cache/huggingface/datasets/tweet_eval/irony/1.1.0/12aee5282b8784f3e95459466db4cdf45c6bf49719c25cdb0743d71ed0410343)\n"
     ]
    },
    {
     "data": {
      "text/plain": "  0%|          | 0/3 [00:00<?, ?it/s]",
      "application/vnd.jupyter.widget-view+json": {
       "version_major": 2,
       "version_minor": 0,
       "model_id": "e9012d5e4c7c4c598d22f216f678dc47"
      }
     },
     "metadata": {},
     "output_type": "display_data"
    }
   ],
   "source": [
    "from datasets import load_dataset\n",
    "\n",
    "dataset = load_dataset(\"tweet_eval\", \"irony\")"
   ],
   "metadata": {
    "collapsed": false
   }
  },
  {
   "cell_type": "code",
   "execution_count": 24,
   "outputs": [
    {
     "data": {
      "text/plain": "Dataset({\n    features: ['text', 'label'],\n    num_rows: 2862\n})"
     },
     "execution_count": 24,
     "metadata": {},
     "output_type": "execute_result"
    }
   ],
   "source": [
    "dataset[\"train\"]"
   ],
   "metadata": {
    "collapsed": false
   }
  },
  {
   "cell_type": "code",
   "execution_count": 25,
   "outputs": [
    {
     "data": {
      "text/plain": "Dataset({\n    features: ['text', 'label'],\n    num_rows: 955\n})"
     },
     "execution_count": 25,
     "metadata": {},
     "output_type": "execute_result"
    }
   ],
   "source": [
    "dataset[\"validation\"]"
   ],
   "metadata": {
    "collapsed": false
   }
  },
  {
   "cell_type": "code",
   "execution_count": 26,
   "outputs": [
    {
     "data": {
      "text/plain": "Dataset({\n    features: ['text', 'label'],\n    num_rows: 955\n})"
     },
     "execution_count": 26,
     "metadata": {},
     "output_type": "execute_result"
    }
   ],
   "source": [
    "dataset[\"validation\"]"
   ],
   "metadata": {
    "collapsed": false
   }
  },
  {
   "cell_type": "code",
   "execution_count": 27,
   "outputs": [],
   "source": [
    "# Load a pre-trained tokenizer\n",
    "tokenizer = AutoTokenizer.from_pretrained(\"roberta-base\")\n"
   ],
   "metadata": {
    "collapsed": false
   }
  },
  {
   "cell_type": "code",
   "execution_count": 28,
   "outputs": [],
   "source": [
    "def tokenize_function(example):\n",
    "    return tokenizer(example[\"text\"], padding=\"max_length\", truncation=True, max_length=128)"
   ],
   "metadata": {
    "collapsed": false
   }
  },
  {
   "cell_type": "code",
   "execution_count": 29,
   "outputs": [
    {
     "name": "stderr",
     "output_type": "stream",
     "text": [
      "Loading cached processed dataset at C:\\Users\\User\\.cache\\huggingface\\datasets\\tweet_eval\\irony\\1.1.0\\12aee5282b8784f3e95459466db4cdf45c6bf49719c25cdb0743d71ed0410343\\cache-e2b5b11d4ece9e3b.arrow\n",
      "Loading cached processed dataset at C:\\Users\\User\\.cache\\huggingface\\datasets\\tweet_eval\\irony\\1.1.0\\12aee5282b8784f3e95459466db4cdf45c6bf49719c25cdb0743d71ed0410343\\cache-2fc35de4091337a6.arrow\n"
     ]
    },
    {
     "data": {
      "text/plain": "Map:   0%|          | 0/955 [00:00<?, ? examples/s]",
      "application/vnd.jupyter.widget-view+json": {
       "version_major": 2,
       "version_minor": 0,
       "model_id": "cad97ec289094edb8791b6ea6c4d7762"
      }
     },
     "metadata": {},
     "output_type": "display_data"
    }
   ],
   "source": [
    "# Tokenize the dataset\n",
    "tokenized_dataset = dataset.map(tokenize_function, batched=True)\n",
    "\n",
    "# Get the input_ids from the tokenized dataset for train, validation, and test sets\n",
    "train_input_ids = [example['input_ids'] for example in tokenized_dataset['train']]\n",
    "val_input_ids = [example['input_ids'] for example in tokenized_dataset['validation']]\n",
    "test_input_ids = [example['input_ids'] for example in tokenized_dataset['test']]\n",
    "\n",
    "# Convert input_ids to PyTorch tensors\n",
    "train_input_ids = torch.tensor(train_input_ids, dtype=torch.long)\n",
    "val_input_ids = torch.tensor(val_input_ids, dtype=torch.long)\n",
    "test_input_ids = torch.tensor(test_input_ids, dtype=torch.long)\n",
    "\n",
    "# Concatenate the input_ids tensors along the first dimension\n",
    "input_ids = torch.cat((train_input_ids, val_input_ids, test_input_ids), dim=0)\n"
   ],
   "metadata": {
    "collapsed": false
   }
  },
  {
   "cell_type": "code",
   "execution_count": 30,
   "outputs": [
    {
     "name": "stderr",
     "output_type": "stream",
     "text": [
      "Loading cached processed dataset at C:\\Users\\User\\.cache\\huggingface\\datasets\\tweet_eval\\irony\\1.1.0\\12aee5282b8784f3e95459466db4cdf45c6bf49719c25cdb0743d71ed0410343\\cache-529c3886b9ca834c.arrow\n",
      "Loading cached processed dataset at C:\\Users\\User\\.cache\\huggingface\\datasets\\tweet_eval\\irony\\1.1.0\\12aee5282b8784f3e95459466db4cdf45c6bf49719c25cdb0743d71ed0410343\\cache-16d4cd1a1d1b920d.arrow\n",
      "Loading cached processed dataset at C:\\Users\\User\\.cache\\huggingface\\datasets\\tweet_eval\\irony\\1.1.0\\12aee5282b8784f3e95459466db4cdf45c6bf49719c25cdb0743d71ed0410343\\cache-0a6de7fafb93a330.arrow\n"
     ]
    }
   ],
   "source": [
    "# Tokenize the dataset\n",
    "tokenized_dataset = dataset.map(tokenize_function, batched=True)\n",
    "\n",
    "# Get the attention_masks from the tokenized dataset for train, validation, and test sets\n",
    "train_attention_mask = [example['attention_mask'] for example in tokenized_dataset['train']]\n",
    "val_attention_mask = [example['attention_mask'] for example in tokenized_dataset['validation']]\n",
    "test_attention_mask = [example['attention_mask'] for example in tokenized_dataset['test']]\n",
    "\n",
    "# Convert attention_mask to PyTorch tensors\n",
    "train_attention_mask = torch.tensor(train_attention_mask, dtype=torch.long)\n",
    "val_attention_mask = torch.tensor(val_attention_mask, dtype=torch.long)\n",
    "test_attention_mask = torch.tensor(test_attention_mask, dtype=torch.long)\n",
    "\n",
    "# Concatenate the input_ids tensors along the first dimension\n",
    "attention_masks = torch.cat((train_attention_mask, val_attention_mask, test_attention_mask), dim=0)\n"
   ],
   "metadata": {
    "collapsed": false
   }
  },
  {
   "cell_type": "code",
   "execution_count": 31,
   "outputs": [
    {
     "name": "stdout",
     "output_type": "stream",
     "text": [
      "tensor([[    0, 33471,   181,  ...,     1,     1,     1],\n",
      "        [    0, 13724,    13,  ...,     1,     1,     1],\n",
      "        [    0,  5975,    38,  ...,     1,     1,     1],\n",
      "        ...,\n",
      "        [    0,  1039, 12105,  ...,     1,     1,     1],\n",
      "        [    0, 10431, 38398,  ...,     1,     1,     1],\n",
      "        [    0, 10431, 37049,  ...,     1,     1,     1]])\n"
     ]
    }
   ],
   "source": [
    "print(input_ids)"
   ],
   "metadata": {
    "collapsed": false
   }
  },
  {
   "cell_type": "code",
   "execution_count": 32,
   "outputs": [
    {
     "name": "stdout",
     "output_type": "stream",
     "text": [
      "tensor([[1, 1, 1,  ..., 0, 0, 0],\n",
      "        [1, 1, 1,  ..., 0, 0, 0],\n",
      "        [1, 1, 1,  ..., 0, 0, 0],\n",
      "        ...,\n",
      "        [1, 1, 1,  ..., 0, 0, 0],\n",
      "        [1, 1, 1,  ..., 0, 0, 0],\n",
      "        [1, 1, 1,  ..., 0, 0, 0]])\n"
     ]
    }
   ],
   "source": [
    "print(attention_masks)"
   ],
   "metadata": {
    "collapsed": false
   }
  },
  {
   "cell_type": "code",
   "execution_count": 33,
   "outputs": [],
   "source": [
    "# Split the dataset into train, validation, and test sets\n",
    "train_dataset = tokenized_dataset[\"train\"]\n",
    "val_dataset = tokenized_dataset[\"validation\"]\n",
    "test_dataset = tokenized_dataset[\"test\"]"
   ],
   "metadata": {
    "collapsed": false
   }
  },
  {
   "cell_type": "code",
   "execution_count": 34,
   "outputs": [],
   "source": [
    "# Convert the datasets to PyTorch tensors\n",
    "train_dataset = train_dataset.remove_columns([\"text\"])\n",
    "val_dataset = val_dataset.remove_columns([\"text\"])\n",
    "test_dataset = test_dataset.remove_columns([\"text\"])"
   ],
   "metadata": {
    "collapsed": false
   }
  },
  {
   "cell_type": "code",
   "execution_count": 35,
   "outputs": [],
   "source": [
    "train_dataset.set_format(\"torch\", columns=[\"input_ids\", \"attention_mask\", \"label\"])\n",
    "val_dataset.set_format(\"torch\", columns=[\"input_ids\", \"attention_mask\", \"label\"])\n",
    "test_dataset.set_format(\"torch\", columns=[\"input_ids\", \"attention_mask\", \"label\"])"
   ],
   "metadata": {
    "collapsed": false
   }
  },
  {
   "cell_type": "code",
   "execution_count": 36,
   "outputs": [],
   "source": [
    "class EmotionDetectionModel(nn.Module):\n",
    "    def __init__(self, num_classes=2):\n",
    "        super(EmotionDetectionModel, self).__init__()\n",
    "        self.roberta = RobertaModel.from_pretrained('roberta-base')\n",
    "        self.dropout = nn.Dropout(0.1)\n",
    "        self.fc = nn.Linear(self.roberta.config.hidden_size, num_classes)\n",
    "\n",
    "    def forward(self, input_ids, attention_mask):\n",
    "        outputs = self.roberta(input_ids=input_ids, attention_mask=attention_mask)\n",
    "        pooled_output = outputs.pooler_output\n",
    "        pooled_output = self.dropout(pooled_output)\n",
    "        logits = self.fc(pooled_output)\n",
    "        return logits\n"
   ],
   "metadata": {
    "collapsed": false
   }
  },
  {
   "cell_type": "code",
   "execution_count": 37,
   "outputs": [],
   "source": [
    "device = torch.device(\"cuda\" if torch.cuda.is_available() else \"cpu\")\n"
   ],
   "metadata": {
    "collapsed": false
   }
  },
  {
   "cell_type": "code",
   "execution_count": 38,
   "outputs": [
    {
     "name": "stderr",
     "output_type": "stream",
     "text": [
      "Some weights of the model checkpoint at roberta-base were not used when initializing RobertaModel: ['lm_head.dense.bias', 'lm_head.layer_norm.weight', 'lm_head.decoder.weight', 'lm_head.bias', 'lm_head.layer_norm.bias', 'lm_head.dense.weight']\n",
      "- This IS expected if you are initializing RobertaModel from the checkpoint of a model trained on another task or with another architecture (e.g. initializing a BertForSequenceClassification model from a BertForPreTraining model).\n",
      "- This IS NOT expected if you are initializing RobertaModel from the checkpoint of a model that you expect to be exactly identical (initializing a BertForSequenceClassification model from a BertForSequenceClassification model).\n"
     ]
    }
   ],
   "source": [
    "# instantiate your model\n",
    "irony_model = EmotionDetectionModel(num_classes=2).to(device)"
   ],
   "metadata": {
    "collapsed": false
   }
  },
  {
   "cell_type": "code",
   "execution_count": 39,
   "outputs": [],
   "source": [
    "# define your loss function\n",
    "criterion = nn.CrossEntropyLoss()\n",
    "\n",
    "# define your optimizer\n",
    "optimizer = torch.optim.Adam(irony_model.parameters(), lr=0.05)"
   ],
   "metadata": {
    "collapsed": false
   }
  },
  {
   "cell_type": "code",
   "execution_count": 40,
   "outputs": [],
   "source": [
    "# set up your training, validation, and test dataloaders\n",
    "train_loader = DataLoader(train_dataset, batch_size=16, shuffle=True)\n",
    "val_loader = DataLoader(val_dataset, batch_size=16)\n",
    "test_loader = DataLoader(test_dataset, batch_size=16)"
   ],
   "metadata": {
    "collapsed": false
   }
  },
  {
   "cell_type": "code",
   "execution_count": 41,
   "outputs": [
    {
     "name": "stdout",
     "output_type": "stream",
     "text": [
      "{'label': tensor([1, 0, 1, 0, 1, 0, 0, 1, 0, 1, 0, 1, 0, 1, 1, 0]), 'input_ids': tensor([[    0, 30872,  6908,  ...,     1,     1,     1],\n",
      "        [    0, 42577,   519,  ...,     1,     1,     1],\n",
      "        [    0,  2387,  3267,  ...,     1,     1,     1],\n",
      "        ...,\n",
      "        [    0, 47519,     4,  ...,     1,     1,     1],\n",
      "        [    0,    35,   623,  ...,     1,     1,     1],\n",
      "        [    0, 10431, 15609,  ...,     1,     1,     1]]), 'attention_mask': tensor([[1, 1, 1,  ..., 0, 0, 0],\n",
      "        [1, 1, 1,  ..., 0, 0, 0],\n",
      "        [1, 1, 1,  ..., 0, 0, 0],\n",
      "        ...,\n",
      "        [1, 1, 1,  ..., 0, 0, 0],\n",
      "        [1, 1, 1,  ..., 0, 0, 0],\n",
      "        [1, 1, 1,  ..., 0, 0, 0]])}\n",
      "{'label': tensor([1, 1, 1, 1, 0, 1, 1, 0, 1, 0, 0, 1, 0, 1, 0, 1]), 'input_ids': tensor([[    0,   100,   657,  ...,     1,     1,     1],\n",
      "        [    0, 15952,   341,  ...,     1,     1,     1],\n",
      "        [    0,   243,    18,  ...,     1,     1,     1],\n",
      "        ...,\n",
      "        [    0,  1039, 12105,  ...,     1,     1,     1],\n",
      "        [    0,  4771,  1873,  ...,     1,     1,     1],\n",
      "        [    0,  5320,  5858,  ...,     1,     1,     1]]), 'attention_mask': tensor([[1, 1, 1,  ..., 0, 0, 0],\n",
      "        [1, 1, 1,  ..., 0, 0, 0],\n",
      "        [1, 1, 1,  ..., 0, 0, 0],\n",
      "        ...,\n",
      "        [1, 1, 1,  ..., 0, 0, 0],\n",
      "        [1, 1, 1,  ..., 0, 0, 0],\n",
      "        [1, 1, 1,  ..., 0, 0, 0]])}\n",
      "{'label': tensor([0, 1, 0, 1, 1, 1, 0, 1, 1, 1, 1, 1, 0, 1, 1, 0]), 'input_ids': tensor([[    0,  1039, 12105,  ...,     1,     1,     1],\n",
      "        [    0,  2527,    38,  ...,     1,     1,     1],\n",
      "        [    0,   104,  9636,  ...,     1,     1,     1],\n",
      "        ...,\n",
      "        [    0, 10836,    75,  ...,     1,     1,     1],\n",
      "        [    0, 15085,   657,  ...,     1,     1,     1],\n",
      "        [    0, 48236,   787,  ...,     1,     1,     1]]), 'attention_mask': tensor([[1, 1, 1,  ..., 0, 0, 0],\n",
      "        [1, 1, 1,  ..., 0, 0, 0],\n",
      "        [1, 1, 1,  ..., 0, 0, 0],\n",
      "        ...,\n",
      "        [1, 1, 1,  ..., 0, 0, 0],\n",
      "        [1, 1, 1,  ..., 0, 0, 0],\n",
      "        [1, 1, 1,  ..., 0, 0, 0]])}\n",
      "{'label': tensor([0, 0, 1, 1, 1, 1, 1, 1, 0, 1, 0, 1, 1, 0, 0, 1]), 'input_ids': tensor([[    0, 10431, 21976,  ...,     1,     1,     1],\n",
      "        [    0,  8585,    16,  ...,     1,     1,     1],\n",
      "        [    0,   448, 19455,  ...,     1,     1,     1],\n",
      "        ...,\n",
      "        [    0, 12861, 20980,  ...,     1,     1,     1],\n",
      "        [    0, 11243,    34,  ...,     1,     1,     1],\n",
      "        [    0,  1039, 12105,  ...,     1,     1,     1]]), 'attention_mask': tensor([[1, 1, 1,  ..., 0, 0, 0],\n",
      "        [1, 1, 1,  ..., 0, 0, 0],\n",
      "        [1, 1, 1,  ..., 0, 0, 0],\n",
      "        ...,\n",
      "        [1, 1, 1,  ..., 0, 0, 0],\n",
      "        [1, 1, 1,  ..., 0, 0, 0],\n",
      "        [1, 1, 1,  ..., 0, 0, 0]])}\n",
      "{'label': tensor([0, 0, 1, 1, 1, 0, 0, 0, 0, 1, 1, 1, 1, 1, 0, 0]), 'input_ids': tensor([[    0, 13572, 18812,  ...,     1,     1,     1],\n",
      "        [    0,   243,    18,  ...,     1,     1,     1],\n",
      "        [    0,  1039, 12105,  ...,     1,     1,     1],\n",
      "        ...,\n",
      "        [    0,  1039, 12105,  ...,     1,     1,     1],\n",
      "        [    0, 42803,  2370,  ...,     1,     1,     1],\n",
      "        [    0,  1039, 12105,  ...,     1,     1,     1]]), 'attention_mask': tensor([[1, 1, 1,  ..., 0, 0, 0],\n",
      "        [1, 1, 1,  ..., 0, 0, 0],\n",
      "        [1, 1, 1,  ..., 0, 0, 0],\n",
      "        ...,\n",
      "        [1, 1, 1,  ..., 0, 0, 0],\n",
      "        [1, 1, 1,  ..., 0, 0, 0],\n",
      "        [1, 1, 1,  ..., 0, 0, 0]])}\n",
      "{'label': tensor([1, 1, 0, 0, 0, 1, 0, 0, 1, 0, 1, 1, 1, 1, 1, 1]), 'input_ids': tensor([[    0, 22086,     7,  ...,     1,     1,     1],\n",
      "        [    0,   250,  4613,  ...,     1,     1,     1],\n",
      "        [    0,  1039, 12105,  ...,     1,     1,     1],\n",
      "        ...,\n",
      "        [    0,  1039, 12105,  ...,     1,     1,     1],\n",
      "        [    0,   100,    95,  ...,     1,     1,     1],\n",
      "        [    0,     4,  1039,  ...,     1,     1,     1]]), 'attention_mask': tensor([[1, 1, 1,  ..., 0, 0, 0],\n",
      "        [1, 1, 1,  ..., 0, 0, 0],\n",
      "        [1, 1, 1,  ..., 0, 0, 0],\n",
      "        ...,\n",
      "        [1, 1, 1,  ..., 0, 0, 0],\n",
      "        [1, 1, 1,  ..., 0, 0, 0],\n",
      "        [1, 1, 1,  ..., 0, 0, 0]])}\n",
      "{'label': tensor([0, 0, 0, 0, 1, 1, 1, 1, 1, 1, 0, 1, 0, 0, 1, 0]), 'input_ids': tensor([[    0,   354,    45,  ...,     1,     1,     1],\n",
      "        [    0,  1039, 12105,  ...,     1,     1,     1],\n",
      "        [    0, 29667, 24681,  ...,     1,     1,     1],\n",
      "        ...,\n",
      "        [    0,  1039, 12105,  ...,     1,     1,     1],\n",
      "        [    0,  7516, 20760,  ...,     1,     1,     1],\n",
      "        [    0, 17629,   556,  ...,     1,     1,     1]]), 'attention_mask': tensor([[1, 1, 1,  ..., 0, 0, 0],\n",
      "        [1, 1, 1,  ..., 0, 0, 0],\n",
      "        [1, 1, 1,  ..., 0, 0, 0],\n",
      "        ...,\n",
      "        [1, 1, 1,  ..., 0, 0, 0],\n",
      "        [1, 1, 1,  ..., 0, 0, 0],\n",
      "        [1, 1, 1,  ..., 0, 0, 0]])}\n",
      "{'label': tensor([0, 0, 1, 1, 1, 1, 0, 1, 1, 1, 1, 1, 0, 1, 0, 0]), 'input_ids': tensor([[    0,  3750,   480,  ...,     1,     1,     1],\n",
      "        [    0, 10431, 30293,  ...,     1,     1,     1],\n",
      "        [    0, 12375,   655,  ...,     1,     1,     1],\n",
      "        ...,\n",
      "        [    0,  1039, 12105,  ...,     1,     1,     1],\n",
      "        [    0,  4148,   849,  ...,     1,     1,     1],\n",
      "        [    0,  1039, 12105,  ...,     1,     1,     1]]), 'attention_mask': tensor([[1, 1, 1,  ..., 0, 0, 0],\n",
      "        [1, 1, 1,  ..., 0, 0, 0],\n",
      "        [1, 1, 1,  ..., 0, 0, 0],\n",
      "        ...,\n",
      "        [1, 1, 1,  ..., 0, 0, 0],\n",
      "        [1, 1, 1,  ..., 0, 0, 0],\n",
      "        [1, 1, 1,  ..., 0, 0, 0]])}\n",
      "{'label': tensor([1, 1, 1, 0, 0, 0, 0, 1, 1, 1, 1, 1, 1, 0, 0, 0]), 'input_ids': tensor([[    0,   100,   657,  ...,     1,     1,     1],\n",
      "        [    0,  1039, 12105,  ...,     1,     1,     1],\n",
      "        [    0,   133,   787,  ...,     1,     1,     1],\n",
      "        ...,\n",
      "        [    0,  1039, 12105,  ...,     1,     1,     1],\n",
      "        [    0,  1039, 12105,  ...,     1,     1,     1],\n",
      "        [    0,  1039, 12105,  ...,     1,     1,     1]]), 'attention_mask': tensor([[1, 1, 1,  ..., 0, 0, 0],\n",
      "        [1, 1, 1,  ..., 0, 0, 0],\n",
      "        [1, 1, 1,  ..., 0, 0, 0],\n",
      "        ...,\n",
      "        [1, 1, 1,  ..., 0, 0, 0],\n",
      "        [1, 1, 1,  ..., 0, 0, 0],\n",
      "        [1, 1, 1,  ..., 0, 0, 0]])}\n",
      "{'label': tensor([0, 1, 1, 0, 0, 1, 0, 0, 0, 0, 1, 0, 1, 0, 0, 1]), 'input_ids': tensor([[    0, 13755,    52,  ...,     1,     1,     1],\n",
      "        [    0, 21136,   132,  ...,     1,     1,     1],\n",
      "        [    0,   574,  1168,  ...,     1,     1,     1],\n",
      "        ...,\n",
      "        [    0, 10431,  1864,  ...,     1,     1,     1],\n",
      "        [    0,   448, 44172,  ...,     1,     1,     1],\n",
      "        [    0,  2387,  5540,  ...,     1,     1,     1]]), 'attention_mask': tensor([[1, 1, 1,  ..., 0, 0, 0],\n",
      "        [1, 1, 1,  ..., 0, 0, 0],\n",
      "        [1, 1, 1,  ..., 0, 0, 0],\n",
      "        ...,\n",
      "        [1, 1, 1,  ..., 0, 0, 0],\n",
      "        [1, 1, 1,  ..., 0, 0, 0],\n",
      "        [1, 1, 1,  ..., 0, 0, 0]])}\n",
      "{'label': tensor([1, 1, 0, 1, 1, 0, 1, 1, 0, 0, 0, 0, 0, 0, 1, 0]), 'input_ids': tensor([[    0, 30238,  1901,  ...,     1,     1,     1],\n",
      "        [    0,  2409,    47,  ...,     1,     1,     1],\n",
      "        [    0,   487, 25902,  ...,     1,     1,     1],\n",
      "        ...,\n",
      "        [    0,   100,   437,  ...,     1,     1,     1],\n",
      "        [    0, 11913, 12316,  ...,     1,     1,     1],\n",
      "        [    0,  6785,  2740,  ...,     1,     1,     1]]), 'attention_mask': tensor([[1, 1, 1,  ..., 0, 0, 0],\n",
      "        [1, 1, 1,  ..., 0, 0, 0],\n",
      "        [1, 1, 1,  ..., 0, 0, 0],\n",
      "        ...,\n",
      "        [1, 1, 1,  ..., 0, 0, 0],\n",
      "        [1, 1, 1,  ..., 0, 0, 0],\n",
      "        [1, 1, 1,  ..., 0, 0, 0]])}\n",
      "{'label': tensor([0, 1, 1, 1, 1, 0, 1, 0, 0, 1, 0, 1, 1, 1, 0, 1]), 'input_ids': tensor([[    0,   100,    33,  ...,     1,     1,     1],\n",
      "        [    0,  1039, 12105,  ...,     1,     1,     1],\n",
      "        [    0, 39690, 21303,  ...,     1,     1,     1],\n",
      "        ...,\n",
      "        [    0,  6569, 12736,  ...,     1,     1,     1],\n",
      "        [    0, 10431, 34439,  ...,     1,     1,     1],\n",
      "        [    0,  1039, 12105,  ...,     1,     1,     1]]), 'attention_mask': tensor([[1, 1, 1,  ..., 0, 0, 0],\n",
      "        [1, 1, 1,  ..., 0, 0, 0],\n",
      "        [1, 1, 1,  ..., 0, 0, 0],\n",
      "        ...,\n",
      "        [1, 1, 1,  ..., 0, 0, 0],\n",
      "        [1, 1, 1,  ..., 0, 0, 0],\n",
      "        [1, 1, 1,  ..., 0, 0, 0]])}\n",
      "{'label': tensor([0, 1, 1, 1, 0, 1, 0, 1, 0, 1, 0, 1, 1, 1, 0, 1]), 'input_ids': tensor([[    0,  6209,   110,  ...,     1,     1,     1],\n",
      "        [    0,    35, 31862,  ...,     1,     1,     1],\n",
      "        [    0,  1039, 12105,  ...,     1,     1,     1],\n",
      "        ...,\n",
      "        [    0,  5625,    18,  ...,     1,     1,     1],\n",
      "        [    0,   100,   101,  ...,     1,     1,     1],\n",
      "        [    0,   100,   437,  ...,     1,     1,     1]]), 'attention_mask': tensor([[1, 1, 1,  ..., 0, 0, 0],\n",
      "        [1, 1, 1,  ..., 0, 0, 0],\n",
      "        [1, 1, 1,  ..., 0, 0, 0],\n",
      "        ...,\n",
      "        [1, 1, 1,  ..., 0, 0, 0],\n",
      "        [1, 1, 1,  ..., 0, 0, 0],\n",
      "        [1, 1, 1,  ..., 0, 0, 0]])}\n",
      "{'label': tensor([0, 1, 1, 1, 1, 1, 1, 0, 0, 0, 1, 0, 0, 0, 0, 1]), 'input_ids': tensor([[    0,  1039, 12105,  ...,     1,     1,     1],\n",
      "        [    0,  7608,    64,  ...,     1,     1,     1],\n",
      "        [    0,  1039, 12105,  ...,     1,     1,     1],\n",
      "        ...,\n",
      "        [    0, 46893,   196,  ...,     1,     1,     1],\n",
      "        [    0,   219,   658,  ...,     1,     1,     1],\n",
      "        [    0,   100,   657,  ...,     1,     1,     1]]), 'attention_mask': tensor([[1, 1, 1,  ..., 0, 0, 0],\n",
      "        [1, 1, 1,  ..., 0, 0, 0],\n",
      "        [1, 1, 1,  ..., 0, 0, 0],\n",
      "        ...,\n",
      "        [1, 1, 1,  ..., 0, 0, 0],\n",
      "        [1, 1, 1,  ..., 0, 0, 0],\n",
      "        [1, 1, 1,  ..., 0, 0, 0]])}\n",
      "{'label': tensor([0, 0, 0, 0, 0, 0, 1, 0, 1, 1, 1, 1, 0, 0, 1, 0]), 'input_ids': tensor([[    0,  1039, 12105,  ...,     1,     1,     1],\n",
      "        [    0,  1039, 12105,  ...,     1,     1,     1],\n",
      "        [    0,  1039, 12105,  ...,     1,     1,     1],\n",
      "        ...,\n",
      "        [    0,   104,   858,  ...,     1,     1,     1],\n",
      "        [    0,  1039, 12105,  ...,     1,     1,     1],\n",
      "        [    0, 24021,   118,  ...,     1,     1,     1]]), 'attention_mask': tensor([[1, 1, 1,  ..., 0, 0, 0],\n",
      "        [1, 1, 1,  ..., 0, 0, 0],\n",
      "        [1, 1, 1,  ..., 0, 0, 0],\n",
      "        ...,\n",
      "        [1, 1, 1,  ..., 0, 0, 0],\n",
      "        [1, 1, 1,  ..., 0, 0, 0],\n",
      "        [1, 1, 1,  ..., 0, 0, 0]])}\n",
      "{'label': tensor([0, 1, 1, 0, 1, 0, 1, 0, 0, 0, 0, 1, 1, 1, 0, 0]), 'input_ids': tensor([[    0,  1039, 12105,  ...,     1,     1,     1],\n",
      "        [    0,  1039, 12105,  ...,     1,     1,     1],\n",
      "        [    0,  2264,    16,  ...,     1,     1,     1],\n",
      "        ...,\n",
      "        [    0,   495,  1342,  ...,     1,     1,     1],\n",
      "        [    0,   771,  1173,  ...,     1,     1,     1],\n",
      "        [    0,   243,    18,  ...,     1,     1,     1]]), 'attention_mask': tensor([[1, 1, 1,  ..., 0, 0, 0],\n",
      "        [1, 1, 1,  ..., 0, 0, 0],\n",
      "        [1, 1, 1,  ..., 0, 0, 0],\n",
      "        ...,\n",
      "        [1, 1, 1,  ..., 0, 0, 0],\n",
      "        [1, 1, 1,  ..., 0, 0, 0],\n",
      "        [1, 1, 1,  ..., 0, 0, 0]])}\n",
      "{'label': tensor([1, 1, 1, 1, 1, 0, 1, 0, 1, 1, 0, 1, 0, 0, 0, 1]), 'input_ids': tensor([[    0,   100,    33,  ...,     1,     1,     1],\n",
      "        [    0, 40900, 28595,  ...,     1,     1,     1],\n",
      "        [    0, 38083,  1377,  ...,     1,     1,     1],\n",
      "        ...,\n",
      "        [    0, 15833, 44626,  ...,     1,     1,     1],\n",
      "        [    0, 26954, 28795,  ...,     1,     1,     1],\n",
      "        [    0,   100,    33,  ...,     1,     1,     1]]), 'attention_mask': tensor([[1, 1, 1,  ..., 0, 0, 0],\n",
      "        [1, 1, 1,  ..., 0, 0, 0],\n",
      "        [1, 1, 1,  ..., 0, 0, 0],\n",
      "        ...,\n",
      "        [1, 1, 1,  ..., 0, 0, 0],\n",
      "        [1, 1, 1,  ..., 0, 0, 0],\n",
      "        [1, 1, 1,  ..., 0, 0, 0]])}\n",
      "{'label': tensor([0, 1, 0, 0, 0, 1, 0, 0, 1, 1, 0, 0, 0, 1, 0, 1]), 'input_ids': tensor([[    0, 10431, 35901,  ...,     1,     1,     1],\n",
      "        [    0,  8346,  5336,  ...,     1,     1,     1],\n",
      "        [    0,  1039, 12105,  ...,     1,     1,     1],\n",
      "        ...,\n",
      "        [    0, 41026,   383,  ...,     1,     1,     1],\n",
      "        [    0,  1039, 12105,  ...,     1,     1,     1],\n",
      "        [    0,  4688,  1948,  ...,     1,     1,     1]]), 'attention_mask': tensor([[1, 1, 1,  ..., 0, 0, 0],\n",
      "        [1, 1, 1,  ..., 0, 0, 0],\n",
      "        [1, 1, 1,  ..., 0, 0, 0],\n",
      "        ...,\n",
      "        [1, 1, 1,  ..., 0, 0, 0],\n",
      "        [1, 1, 1,  ..., 0, 0, 0],\n",
      "        [1, 1, 1,  ..., 0, 0, 0]])}\n",
      "{'label': tensor([0, 1, 0, 1, 1, 0, 0, 1, 0, 1, 0, 0, 0, 1, 1, 0]), 'input_ids': tensor([[    0,  1039, 12105,  ...,     1,     1,     1],\n",
      "        [    0,   176,   102,  ...,     1,     1,     1],\n",
      "        [    0,   100,  2649,  ...,     1,     1,     1],\n",
      "        ...,\n",
      "        [    0,  1039, 12105,  ...,     1,     1,     1],\n",
      "        [    0, 16587,     5,  ...,     1,     1,     1],\n",
      "        [    0, 35507,    59,  ...,     1,     1,     1]]), 'attention_mask': tensor([[1, 1, 1,  ..., 0, 0, 0],\n",
      "        [1, 1, 1,  ..., 0, 0, 0],\n",
      "        [1, 1, 1,  ..., 0, 0, 0],\n",
      "        ...,\n",
      "        [1, 1, 1,  ..., 0, 0, 0],\n",
      "        [1, 1, 1,  ..., 0, 0, 0],\n",
      "        [1, 1, 1,  ..., 0, 0, 0]])}\n",
      "{'label': tensor([0, 0, 1, 0, 0, 0, 0, 0, 0, 1, 1, 0, 1, 1, 0, 1]), 'input_ids': tensor([[    0,  2022,  2770,  ...,     1,     1,     1],\n",
      "        [    0, 10431,   717,  ...,     1,     1,     1],\n",
      "        [    0,   428, 13299,  ...,     1,     1,     1],\n",
      "        ...,\n",
      "        [    0,  1039, 12105,  ...,     1,     1,     1],\n",
      "        [    0, 13721,  5957,  ...,     1,     1,     1],\n",
      "        [    0,   100,   437,  ...,     1,     1,     1]]), 'attention_mask': tensor([[1, 1, 1,  ..., 0, 0, 0],\n",
      "        [1, 1, 1,  ..., 0, 0, 0],\n",
      "        [1, 1, 1,  ..., 0, 0, 0],\n",
      "        ...,\n",
      "        [1, 1, 1,  ..., 0, 0, 0],\n",
      "        [1, 1, 1,  ..., 0, 0, 0],\n",
      "        [1, 1, 1,  ..., 0, 0, 0]])}\n",
      "{'label': tensor([1, 0, 1, 0, 1, 0, 1, 1, 0, 1, 0, 1, 0, 1, 1, 0]), 'input_ids': tensor([[    0,  6785,  5426,  ...,     1,     1,     1],\n",
      "        [    0, 36583,  4226,  ...,     1,     1,     1],\n",
      "        [    0,  7516,    24,  ...,     1,     1,     1],\n",
      "        ...,\n",
      "        [    0,  1039, 12105,  ...,     1,     1,     1],\n",
      "        [    0,   100,   206,  ...,     1,     1,     1],\n",
      "        [    0,  1039, 12105,  ...,     1,     1,     1]]), 'attention_mask': tensor([[1, 1, 1,  ..., 0, 0, 0],\n",
      "        [1, 1, 1,  ..., 0, 0, 0],\n",
      "        [1, 1, 1,  ..., 0, 0, 0],\n",
      "        ...,\n",
      "        [1, 1, 1,  ..., 0, 0, 0],\n",
      "        [1, 1, 1,  ..., 0, 0, 0],\n",
      "        [1, 1, 1,  ..., 0, 0, 0]])}\n",
      "{'label': tensor([1, 1, 1, 0, 1, 1, 0, 1, 1, 0, 0, 0, 1, 0, 1, 1]), 'input_ids': tensor([[    0,   565,  6932,  ...,     1,     1,     1],\n",
      "        [    0, 27331,  1318,  ...,     1,     1,     1],\n",
      "        [    0,   176,    10,  ...,     1,     1,     1],\n",
      "        ...,\n",
      "        [    0,  1039, 12105,  ...,     1,     1,     1],\n",
      "        [    0,   627,  1437,  ...,     1,     1,     1],\n",
      "        [    0,  1039, 12105,  ...,     1,     1,     1]]), 'attention_mask': tensor([[1, 1, 1,  ..., 0, 0, 0],\n",
      "        [1, 1, 1,  ..., 0, 0, 0],\n",
      "        [1, 1, 1,  ..., 0, 0, 0],\n",
      "        ...,\n",
      "        [1, 1, 1,  ..., 0, 0, 0],\n",
      "        [1, 1, 1,  ..., 0, 0, 0],\n",
      "        [1, 1, 1,  ..., 0, 0, 0]])}\n",
      "{'label': tensor([1, 1, 0, 1, 1, 0, 1, 0, 1, 1, 0, 1, 1, 1, 1, 0]), 'input_ids': tensor([[    0,  1039, 12105,  ...,     1,     1,     1],\n",
      "        [    0,  1039, 12105,  ...,     1,     1,     1],\n",
      "        [    0,  1039, 12105,  ...,     1,     1,     1],\n",
      "        ...,\n",
      "        [    0,   700,    21,  ...,     1,     1,     1],\n",
      "        [    0,   574, 19873,  ...,     1,     1,     1],\n",
      "        [    0,  3972,    70,  ...,     1,     1,     1]]), 'attention_mask': tensor([[1, 1, 1,  ..., 0, 0, 0],\n",
      "        [1, 1, 1,  ..., 0, 0, 0],\n",
      "        [1, 1, 1,  ..., 0, 0, 0],\n",
      "        ...,\n",
      "        [1, 1, 1,  ..., 0, 0, 0],\n",
      "        [1, 1, 1,  ..., 0, 0, 0],\n",
      "        [1, 1, 1,  ..., 0, 0, 0]])}\n",
      "{'label': tensor([1, 0, 1, 1, 0, 0, 0, 0, 0, 0, 0, 1, 1, 1, 0, 1]), 'input_ids': tensor([[    0,  1039, 12105,  ...,     1,     1,     1],\n",
      "        [    0, 37800,   363,  ...,     1,     1,     1],\n",
      "        [    0, 32523,   657,  ...,     1,     1,     1],\n",
      "        ...,\n",
      "        [    0,  1039, 12105,  ...,     1,     1,     1],\n",
      "        [    0,  9335,     6,  ...,     1,     1,     1],\n",
      "        [    0, 19065,   386,  ...,     1,     1,     1]]), 'attention_mask': tensor([[1, 1, 1,  ..., 0, 0, 0],\n",
      "        [1, 1, 1,  ..., 0, 0, 0],\n",
      "        [1, 1, 1,  ..., 0, 0, 0],\n",
      "        ...,\n",
      "        [1, 1, 1,  ..., 0, 0, 0],\n",
      "        [1, 1, 1,  ..., 0, 0, 0],\n",
      "        [1, 1, 1,  ..., 0, 0, 0]])}\n",
      "{'label': tensor([0, 1, 0, 0, 0, 0, 1, 1, 1, 0, 1, 1, 1, 0, 1, 0]), 'input_ids': tensor([[    0,   448,  5971,  ...,     1,     1,     1],\n",
      "        [    0, 16008, 19266,  ...,     1,     1,     1],\n",
      "        [    0,   894, 10570,  ...,     1,     1,     1],\n",
      "        ...,\n",
      "        [    0,  1039, 12105,  ...,     1,     1,     1],\n",
      "        [    0,   713,  2173,  ...,     1,     1,     1],\n",
      "        [    0, 42233,  4383,  ...,     1,     1,     1]]), 'attention_mask': tensor([[1, 1, 1,  ..., 0, 0, 0],\n",
      "        [1, 1, 1,  ..., 0, 0, 0],\n",
      "        [1, 1, 1,  ..., 0, 0, 0],\n",
      "        ...,\n",
      "        [1, 1, 1,  ..., 0, 0, 0],\n",
      "        [1, 1, 1,  ..., 0, 0, 0],\n",
      "        [1, 1, 1,  ..., 0, 0, 0]])}\n",
      "{'label': tensor([0, 1, 0, 1, 1, 0, 1, 0, 1, 0, 0, 1, 0, 0, 0, 0]), 'input_ids': tensor([[    0,  1039, 12105,  ...,     1,     1,     1],\n",
      "        [    0, 11243,    16,  ...,     1,     1,     1],\n",
      "        [    0,  1039, 12105,  ...,     1,     1,     1],\n",
      "        ...,\n",
      "        [    0,  1039, 12105,  ...,     1,     1,     1],\n",
      "        [    0,   250, 31901,  ...,     1,     1,     1],\n",
      "        [    0,  1039, 12105,  ...,     1,     1,     1]]), 'attention_mask': tensor([[1, 1, 1,  ..., 0, 0, 0],\n",
      "        [1, 1, 1,  ..., 0, 0, 0],\n",
      "        [1, 1, 1,  ..., 0, 0, 0],\n",
      "        ...,\n",
      "        [1, 1, 1,  ..., 0, 0, 0],\n",
      "        [1, 1, 1,  ..., 0, 0, 0],\n",
      "        [1, 1, 1,  ..., 0, 0, 0]])}\n",
      "{'label': tensor([0, 1, 0, 1, 1, 0, 1, 1, 1, 1, 1, 1, 0, 1, 1, 0]), 'input_ids': tensor([[    0,   347, 20262,  ...,     1,     1,     1],\n",
      "        [    0, 19203,   662,  ...,     1,     1,     1],\n",
      "        [    0,  1039, 12105,  ...,     1,     1,     1],\n",
      "        ...,\n",
      "        [    0, 47519,   734,  ...,     1,     1,     1],\n",
      "        [    0,   975,   857,  ...,     1,     1,     1],\n",
      "        [    0,   387,   873,  ...,     1,     1,     1]]), 'attention_mask': tensor([[1, 1, 1,  ..., 0, 0, 0],\n",
      "        [1, 1, 1,  ..., 0, 0, 0],\n",
      "        [1, 1, 1,  ..., 0, 0, 0],\n",
      "        ...,\n",
      "        [1, 1, 1,  ..., 0, 0, 0],\n",
      "        [1, 1, 1,  ..., 0, 0, 0],\n",
      "        [1, 1, 1,  ..., 0, 0, 0]])}\n",
      "{'label': tensor([0, 1, 1, 1, 1, 0, 1, 1, 0, 1, 0, 0, 0, 1, 1, 1]), 'input_ids': tensor([[    0,  1039, 12105,  ...,     1,     1,     1],\n",
      "        [    0,  3765,   534,  ...,     1,     1,     1],\n",
      "        [    0,   100,   492,  ...,     1,     1,     1],\n",
      "        ...,\n",
      "        [    0,  1779,    10,  ...,     1,     1,     1],\n",
      "        [    0,     4,  1039,  ...,     1,     1,     1],\n",
      "        [    0,  1039, 12105,  ...,     1,     1,     1]]), 'attention_mask': tensor([[1, 1, 1,  ..., 0, 0, 0],\n",
      "        [1, 1, 1,  ..., 0, 0, 0],\n",
      "        [1, 1, 1,  ..., 0, 0, 0],\n",
      "        ...,\n",
      "        [1, 1, 1,  ..., 0, 0, 0],\n",
      "        [1, 1, 1,  ..., 0, 0, 0],\n",
      "        [1, 1, 1,  ..., 0, 0, 0]])}\n",
      "{'label': tensor([0, 1, 0, 1, 0, 1, 0, 0, 0, 0, 0, 1, 1, 1, 1, 0]), 'input_ids': tensor([[    0, 14287,   154,  ...,     1,     1,     1],\n",
      "        [    0, 29918,    15,  ...,     1,     1,     1],\n",
      "        [    0,  1039, 12105,  ...,     1,     1,     1],\n",
      "        ...,\n",
      "        [    0,  1039, 12105,  ...,     1,     1,     1],\n",
      "        [    0,  1039, 12105,  ...,     1,     1,     1],\n",
      "        [    0,   100,   218,  ...,     1,     1,     1]]), 'attention_mask': tensor([[1, 1, 1,  ..., 0, 0, 0],\n",
      "        [1, 1, 1,  ..., 0, 0, 0],\n",
      "        [1, 1, 1,  ..., 0, 0, 0],\n",
      "        ...,\n",
      "        [1, 1, 1,  ..., 0, 0, 0],\n",
      "        [1, 1, 1,  ..., 0, 0, 0],\n",
      "        [1, 1, 1,  ..., 0, 0, 0]])}\n",
      "{'label': tensor([1, 0, 1, 0, 1, 1, 0, 0, 1, 1, 1, 0, 1, 0, 0, 0]), 'input_ids': tensor([[    0,  1039, 12105,  ...,     1,     1,     1],\n",
      "        [    0,  1039, 12105,  ...,     1,     1,     1],\n",
      "        [    0,    29, 47513,  ...,     1,     1,     1],\n",
      "        ...,\n",
      "        [    0,  1039, 12105,  ...,    95,  4005,     2],\n",
      "        [    0,  1039, 12105,  ...,     1,     1,     1],\n",
      "        [    0,  1039, 12105,  ...,     1,     1,     1]]), 'attention_mask': tensor([[1, 1, 1,  ..., 0, 0, 0],\n",
      "        [1, 1, 1,  ..., 0, 0, 0],\n",
      "        [1, 1, 1,  ..., 0, 0, 0],\n",
      "        ...,\n",
      "        [1, 1, 1,  ..., 1, 1, 1],\n",
      "        [1, 1, 1,  ..., 0, 0, 0],\n",
      "        [1, 1, 1,  ..., 0, 0, 0]])}\n",
      "{'label': tensor([1, 1, 0, 0, 0, 0, 1, 1, 1, 1, 1, 1, 1, 0, 1, 1]), 'input_ids': tensor([[    0,   100,   657,  ...,     1,     1,     1],\n",
      "        [    0,   534,  1584,  ...,     1,     1,     1],\n",
      "        [    0,  1039, 12105,  ...,     1,     1,     1],\n",
      "        ...,\n",
      "        [    0,  1039, 12105,  ...,     1,     1,     1],\n",
      "        [    0, 35299,   282,  ...,     1,     1,     1],\n",
      "        [    0,  1039, 12105,  ...,     1,     1,     1]]), 'attention_mask': tensor([[1, 1, 1,  ..., 0, 0, 0],\n",
      "        [1, 1, 1,  ..., 0, 0, 0],\n",
      "        [1, 1, 1,  ..., 0, 0, 0],\n",
      "        ...,\n",
      "        [1, 1, 1,  ..., 0, 0, 0],\n",
      "        [1, 1, 1,  ..., 0, 0, 0],\n",
      "        [1, 1, 1,  ..., 0, 0, 0]])}\n",
      "{'label': tensor([0, 1, 1, 0, 1, 1, 0, 1, 0, 0, 0, 0, 0, 1, 0, 0]), 'input_ids': tensor([[    0,  1185,   214,  ...,     1,     1,     1],\n",
      "        [    0, 30093,   154,  ...,     1,     1,     1],\n",
      "        [    0,  1039, 12105,  ...,     1,     1,     1],\n",
      "        ...,\n",
      "        [    0,   298, 41311,  ...,     1,     1,     1],\n",
      "        [    0,  6785,  3996,  ...,     1,     1,     1],\n",
      "        [    0, 10431, 42724,  ...,     1,     1,     1]]), 'attention_mask': tensor([[1, 1, 1,  ..., 0, 0, 0],\n",
      "        [1, 1, 1,  ..., 0, 0, 0],\n",
      "        [1, 1, 1,  ..., 0, 0, 0],\n",
      "        ...,\n",
      "        [1, 1, 1,  ..., 0, 0, 0],\n",
      "        [1, 1, 1,  ..., 0, 0, 0],\n",
      "        [1, 1, 1,  ..., 0, 0, 0]])}\n",
      "{'label': tensor([0, 0, 0, 0, 1, 0, 0, 1, 0, 1, 0, 1, 1, 1, 0, 0]), 'input_ids': tensor([[    0,  3603,  2371,  ...,     1,     1,     1],\n",
      "        [    0,  1039, 12105,  ...,     1,     1,     1],\n",
      "        [    0,   771, 44870,  ...,     1,     1,     1],\n",
      "        ...,\n",
      "        [    0,  1039, 12105,  ...,     1,     1,     1],\n",
      "        [    0,   424, 22736,  ...,     1,     1,     1],\n",
      "        [    0,  1039, 12105,  ...,     1,     1,     1]]), 'attention_mask': tensor([[1, 1, 1,  ..., 0, 0, 0],\n",
      "        [1, 1, 1,  ..., 0, 0, 0],\n",
      "        [1, 1, 1,  ..., 0, 0, 0],\n",
      "        ...,\n",
      "        [1, 1, 1,  ..., 0, 0, 0],\n",
      "        [1, 1, 1,  ..., 0, 0, 0],\n",
      "        [1, 1, 1,  ..., 0, 0, 0]])}\n",
      "{'label': tensor([1, 0, 0, 1, 0, 1, 0, 1, 0, 0, 0, 1, 1, 0, 0, 1]), 'input_ids': tensor([[    0,  5625,   197,  ...,     1,     1,     1],\n",
      "        [    0,  1039, 12105,  ...,     1,     1,     1],\n",
      "        [    0,  1779,    70,  ...,     1,     1,     1],\n",
      "        ...,\n",
      "        [    0,  1039, 12105,  ...,     1,     1,     1],\n",
      "        [    0,  1779,    47,  ...,     1,     1,     1],\n",
      "        [    0,  1039, 12105,  ...,     1,     1,     1]]), 'attention_mask': tensor([[1, 1, 1,  ..., 0, 0, 0],\n",
      "        [1, 1, 1,  ..., 0, 0, 0],\n",
      "        [1, 1, 1,  ..., 0, 0, 0],\n",
      "        ...,\n",
      "        [1, 1, 1,  ..., 0, 0, 0],\n",
      "        [1, 1, 1,  ..., 0, 0, 0],\n",
      "        [1, 1, 1,  ..., 0, 0, 0]])}\n",
      "{'label': tensor([0, 1, 1, 0, 1, 1, 0, 0, 0, 1, 0, 0, 0, 0, 0, 0]), 'input_ids': tensor([[    0,   100,   437,  ...,     1,     1,     1],\n",
      "        [    0,  1039, 12105,  ...,     1,     1,     1],\n",
      "        [    0,   100,    95,  ...,     1,     1,     1],\n",
      "        ...,\n",
      "        [    0,  1039, 12105,  ...,     1,     1,     1],\n",
      "        [    0,  1039, 12105,  ...,     1,     1,     1],\n",
      "        [    0,  2411,    35,  ...,     1,     1,     1]]), 'attention_mask': tensor([[1, 1, 1,  ..., 0, 0, 0],\n",
      "        [1, 1, 1,  ..., 0, 0, 0],\n",
      "        [1, 1, 1,  ..., 0, 0, 0],\n",
      "        ...,\n",
      "        [1, 1, 1,  ..., 0, 0, 0],\n",
      "        [1, 1, 1,  ..., 0, 0, 0],\n",
      "        [1, 1, 1,  ..., 0, 0, 0]])}\n",
      "{'label': tensor([1, 0, 1, 0, 1, 0, 0, 0, 0, 0, 1, 0, 1, 0, 0, 0]), 'input_ids': tensor([[    0, 37478,  1531,  ...,     1,     1,     1],\n",
      "        [    0,   771, 22494,  ...,     1,     1,     1],\n",
      "        [    0,  1039, 12105,  ...,     1,     1,     1],\n",
      "        ...,\n",
      "        [    0,  1039, 12105,  ...,     1,     1,     1],\n",
      "        [    0, 32799,   875,  ...,     1,     1,     1],\n",
      "        [    0, 36391,   754,  ...,     1,     1,     1]]), 'attention_mask': tensor([[1, 1, 1,  ..., 0, 0, 0],\n",
      "        [1, 1, 1,  ..., 0, 0, 0],\n",
      "        [1, 1, 1,  ..., 0, 0, 0],\n",
      "        ...,\n",
      "        [1, 1, 1,  ..., 0, 0, 0],\n",
      "        [1, 1, 1,  ..., 0, 0, 0],\n",
      "        [1, 1, 1,  ..., 0, 0, 0]])}\n",
      "{'label': tensor([0, 1, 0, 1, 1, 1, 1, 0, 0, 0, 1, 1, 0, 0, 1, 1]), 'input_ids': tensor([[    0,   100,    64,  ...,     1,     1,     1],\n",
      "        [    0, 28669,  1378,  ...,     1,     1,     1],\n",
      "        [    0, 10431, 20086,  ...,     1,     1,     1],\n",
      "        ...,\n",
      "        [    0, 23692,    38,  ...,     1,     1,     1],\n",
      "        [    0,  1039, 12105,  ...,     1,     1,     1],\n",
      "        [    0,  1039, 12105,  ...,     1,     1,     1]]), 'attention_mask': tensor([[1, 1, 1,  ..., 0, 0, 0],\n",
      "        [1, 1, 1,  ..., 0, 0, 0],\n",
      "        [1, 1, 1,  ..., 0, 0, 0],\n",
      "        ...,\n",
      "        [1, 1, 1,  ..., 0, 0, 0],\n",
      "        [1, 1, 1,  ..., 0, 0, 0],\n",
      "        [1, 1, 1,  ..., 0, 0, 0]])}\n",
      "{'label': tensor([1, 1, 1, 0, 1, 0, 1, 1, 1, 0, 0, 1, 1, 1, 1, 0]), 'input_ids': tensor([[    0, 38294,    87,  ...,     1,     1,     1],\n",
      "        [    0, 21674,   683,  ...,     1,     1,     1],\n",
      "        [    0, 16587, 19841,  ...,     1,     1,     1],\n",
      "        ...,\n",
      "        [    0,  1039, 12105,  ...,     1,     1,     1],\n",
      "        [    0, 24873, 36001,  ...,     1,     1,     1],\n",
      "        [    0,   118, 33976,  ...,     1,     1,     1]]), 'attention_mask': tensor([[1, 1, 1,  ..., 0, 0, 0],\n",
      "        [1, 1, 1,  ..., 0, 0, 0],\n",
      "        [1, 1, 1,  ..., 0, 0, 0],\n",
      "        ...,\n",
      "        [1, 1, 1,  ..., 0, 0, 0],\n",
      "        [1, 1, 1,  ..., 0, 0, 0],\n",
      "        [1, 1, 1,  ..., 0, 0, 0]])}\n",
      "{'label': tensor([0, 0, 1, 0, 1, 1, 1, 0, 1, 1, 0, 1, 1, 0, 1, 0]), 'input_ids': tensor([[    0,  1039, 12105,  ...,     1,     1,     1],\n",
      "        [    0, 41999,  1755,  ...,     1,     1,     1],\n",
      "        [    0,   627, 10562,  ...,     1,     1,     1],\n",
      "        ...,\n",
      "        [    0,   118,   109,  ...,     1,     1,     1],\n",
      "        [    0,  5975,    14,  ...,     1,     1,     1],\n",
      "        [    0,  1039, 12105,  ...,     1,     1,     1]]), 'attention_mask': tensor([[1, 1, 1,  ..., 0, 0, 0],\n",
      "        [1, 1, 1,  ..., 0, 0, 0],\n",
      "        [1, 1, 1,  ..., 0, 0, 0],\n",
      "        ...,\n",
      "        [1, 1, 1,  ..., 0, 0, 0],\n",
      "        [1, 1, 1,  ..., 0, 0, 0],\n",
      "        [1, 1, 1,  ..., 0, 0, 0]])}\n",
      "{'label': tensor([0, 0, 0, 0, 1, 0, 0, 0, 1, 1, 0, 1, 1, 0, 0, 1]), 'input_ids': tensor([[    0, 30707,  3343,  ...,     1,     1,     1],\n",
      "        [    0,   100,  4132,  ...,     1,     1,     1],\n",
      "        [    0,   100,   657,  ...,     1,     1,     1],\n",
      "        ...,\n",
      "        [    0,  1039, 12105,  ...,     1,     1,     1],\n",
      "        [    0, 22817,    15,  ...,     1,     1,     1],\n",
      "        [    0,  1039, 12105,  ...,     1,     1,     1]]), 'attention_mask': tensor([[1, 1, 1,  ..., 0, 0, 0],\n",
      "        [1, 1, 1,  ..., 0, 0, 0],\n",
      "        [1, 1, 1,  ..., 0, 0, 0],\n",
      "        ...,\n",
      "        [1, 1, 1,  ..., 0, 0, 0],\n",
      "        [1, 1, 1,  ..., 0, 0, 0],\n",
      "        [1, 1, 1,  ..., 0, 0, 0]])}\n",
      "{'label': tensor([0, 1, 1, 0, 1, 0, 0, 1, 1, 1, 1, 0, 1, 1, 0, 1]), 'input_ids': tensor([[    0, 10431,   771,  ...,     1,     1,     1],\n",
      "        [    0, 11195,  1099,  ...,     1,     1,     1],\n",
      "        [    0, 24017, 24017,  ...,     1,     1,     1],\n",
      "        ...,\n",
      "        [    0,  6569,    27,  ...,     1,     1,     1],\n",
      "        [    0,   725,  2001,  ...,     1,     1,     1],\n",
      "        [    0,  1039, 12105,  ...,     1,     1,     1]]), 'attention_mask': tensor([[1, 1, 1,  ..., 0, 0, 0],\n",
      "        [1, 1, 1,  ..., 0, 0, 0],\n",
      "        [1, 1, 1,  ..., 0, 0, 0],\n",
      "        ...,\n",
      "        [1, 1, 1,  ..., 0, 0, 0],\n",
      "        [1, 1, 1,  ..., 0, 0, 0],\n",
      "        [1, 1, 1,  ..., 0, 0, 0]])}\n",
      "{'label': tensor([0, 1, 1, 1, 1, 1, 0, 0, 0, 0, 1, 1, 1, 1, 0, 0]), 'input_ids': tensor([[    0, 22985,    11,  ...,     1,     1,     1],\n",
      "        [    0,   100,   524,  ...,     1,     1,     1],\n",
      "        [    0,   771,  5361,  ...,     1,     1,     1],\n",
      "        ...,\n",
      "        [    0,  1039, 12105,  ...,     1,     1,     1],\n",
      "        [    0, 26369,  9332,  ...,     1,     1,     1],\n",
      "        [    0,  1039, 12105,  ...,     1,     1,     1]]), 'attention_mask': tensor([[1, 1, 1,  ..., 0, 0, 0],\n",
      "        [1, 1, 1,  ..., 0, 0, 0],\n",
      "        [1, 1, 1,  ..., 0, 0, 0],\n",
      "        ...,\n",
      "        [1, 1, 1,  ..., 0, 0, 0],\n",
      "        [1, 1, 1,  ..., 0, 0, 0],\n",
      "        [1, 1, 1,  ..., 0, 0, 0]])}\n",
      "{'label': tensor([1, 1, 0, 1, 1, 0, 0, 0, 1, 0, 1, 0, 1, 1, 1, 1]), 'input_ids': tensor([[    0,  6785,  3996,  ...,     1,     1,     1],\n",
      "        [    0, 10836,    38,  ...,     1,     1,     1],\n",
      "        [    0,  1039, 12105,  ...,     1,     1,     1],\n",
      "        ...,\n",
      "        [    0,   100,  4157,  ...,     1,     1,     1],\n",
      "        [    0,   170, 18660,  ...,     1,     1,     1],\n",
      "        [    0,   100,   657,  ...,     1,     1,     1]]), 'attention_mask': tensor([[1, 1, 1,  ..., 0, 0, 0],\n",
      "        [1, 1, 1,  ..., 0, 0, 0],\n",
      "        [1, 1, 1,  ..., 0, 0, 0],\n",
      "        ...,\n",
      "        [1, 1, 1,  ..., 0, 0, 0],\n",
      "        [1, 1, 1,  ..., 0, 0, 0],\n",
      "        [1, 1, 1,  ..., 0, 0, 0]])}\n",
      "{'label': tensor([1, 1, 0, 0, 0, 0, 0, 1, 0, 1, 0, 1, 1, 1, 0, 1]), 'input_ids': tensor([[    0,  2264,    41,  ...,     1,     1,     1],\n",
      "        [    0,  1039, 12105,  ...,     1,     1,     1],\n",
      "        [    0,  1708,  1386,  ...,     1,     1,     1],\n",
      "        ...,\n",
      "        [    0,  1039, 12105,  ...,     1,     1,     1],\n",
      "        [    0, 21001,  2610,  ...,     1,     1,     1],\n",
      "        [    0, 13437,  2239,  ...,     1,     1,     1]]), 'attention_mask': tensor([[1, 1, 1,  ..., 0, 0, 0],\n",
      "        [1, 1, 1,  ..., 0, 0, 0],\n",
      "        [1, 1, 1,  ..., 0, 0, 0],\n",
      "        ...,\n",
      "        [1, 1, 1,  ..., 0, 0, 0],\n",
      "        [1, 1, 1,  ..., 0, 0, 0],\n",
      "        [1, 1, 1,  ..., 0, 0, 0]])}\n",
      "{'label': tensor([0, 1, 1, 1, 0, 0, 0, 1, 0, 1, 0, 1, 1, 0, 0, 1]), 'input_ids': tensor([[    0,  2387,   744,  ...,     1,     1,     1],\n",
      "        [    0,  1039, 12105,  ...,     1,     1,     1],\n",
      "        [    0,  7516, 36646,  ...,     1,     1,     1],\n",
      "        ...,\n",
      "        [    0,  1039, 12105,  ...,     1,     1,     1],\n",
      "        [    0, 10431, 15248,  ...,     1,     1,     1],\n",
      "        [    0,  2847,   444,  ...,     1,     1,     1]]), 'attention_mask': tensor([[1, 1, 1,  ..., 0, 0, 0],\n",
      "        [1, 1, 1,  ..., 0, 0, 0],\n",
      "        [1, 1, 1,  ..., 0, 0, 0],\n",
      "        ...,\n",
      "        [1, 1, 1,  ..., 0, 0, 0],\n",
      "        [1, 1, 1,  ..., 0, 0, 0],\n",
      "        [1, 1, 1,  ..., 0, 0, 0]])}\n",
      "{'label': tensor([1, 1, 1, 1, 1, 0, 1, 1, 0, 0, 1, 0, 1, 1, 1, 1]), 'input_ids': tensor([[    0, 33905,   405,  ...,     1,     1,     1],\n",
      "        [    0,     4,  1039,  ...,     1,     1,     1],\n",
      "        [    0,  1039, 12105,  ...,     1,     1,     1],\n",
      "        ...,\n",
      "        [    0,  1039, 12105,  ...,     1,     1,     1],\n",
      "        [    0,   100,    95,  ...,     1,     1,     1],\n",
      "        [    0,  1039, 12105,  ...,     1,     1,     1]]), 'attention_mask': tensor([[1, 1, 1,  ..., 0, 0, 0],\n",
      "        [1, 1, 1,  ..., 0, 0, 0],\n",
      "        [1, 1, 1,  ..., 0, 0, 0],\n",
      "        ...,\n",
      "        [1, 1, 1,  ..., 0, 0, 0],\n",
      "        [1, 1, 1,  ..., 0, 0, 0],\n",
      "        [1, 1, 1,  ..., 0, 0, 0]])}\n",
      "{'label': tensor([1, 0, 0, 0, 1, 1, 1, 1, 1, 0, 0, 0, 0, 1, 1, 1]), 'input_ids': tensor([[    0,   100,   657,  ...,     1,     1,     1],\n",
      "        [    0,   243,    18,  ...,     1,     1,     1],\n",
      "        [    0,  1039, 12105,  ...,     1,     1,     1],\n",
      "        ...,\n",
      "        [    0,   100,   657,  ...,     1,     1,     1],\n",
      "        [    0, 29806, 43617,  ...,     1,     1,     1],\n",
      "        [    0, 38458,    13,  ...,     1,     1,     1]]), 'attention_mask': tensor([[1, 1, 1,  ..., 0, 0, 0],\n",
      "        [1, 1, 1,  ..., 0, 0, 0],\n",
      "        [1, 1, 1,  ..., 0, 0, 0],\n",
      "        ...,\n",
      "        [1, 1, 1,  ..., 0, 0, 0],\n",
      "        [1, 1, 1,  ..., 0, 0, 0],\n",
      "        [1, 1, 1,  ..., 0, 0, 0]])}\n",
      "{'label': tensor([1, 1, 0, 1, 0, 0, 0, 0, 0, 0, 1, 1, 1, 0, 1, 1]), 'input_ids': tensor([[    0,  1039, 12105,  ...,     1,     1,     1],\n",
      "        [    0,  6209,    24,  ...,     1,     1,     1],\n",
      "        [    0,   250,    76,  ...,     1,     1,     1],\n",
      "        ...,\n",
      "        [    0, 19933,  1980,  ...,     1,     1,     1],\n",
      "        [    0,  1039, 12105,  ...,     1,     1,     1],\n",
      "        [    0,   495,  1097,  ...,     1,     1,     1]]), 'attention_mask': tensor([[1, 1, 1,  ..., 0, 0, 0],\n",
      "        [1, 1, 1,  ..., 0, 0, 0],\n",
      "        [1, 1, 1,  ..., 0, 0, 0],\n",
      "        ...,\n",
      "        [1, 1, 1,  ..., 0, 0, 0],\n",
      "        [1, 1, 1,  ..., 0, 0, 0],\n",
      "        [1, 1, 1,  ..., 0, 0, 0]])}\n",
      "{'label': tensor([1, 0, 1, 1, 0, 1, 1, 0, 0, 1, 0, 1, 1, 0, 0, 0]), 'input_ids': tensor([[    0, 38488,    11,  ...,     1,     1,     1],\n",
      "        [    0,   597,  2013,  ...,     1,     1,     1],\n",
      "        [    0,   673, 22984,  ...,     1,     1,     1],\n",
      "        ...,\n",
      "        [    0,  4321,   462,  ...,     1,     1,     1],\n",
      "        [    0,  4297,    37,  ...,     1,     1,     1],\n",
      "        [    0,  3762,    31,  ...,     1,     1,     1]]), 'attention_mask': tensor([[1, 1, 1,  ..., 0, 0, 0],\n",
      "        [1, 1, 1,  ..., 0, 0, 0],\n",
      "        [1, 1, 1,  ..., 0, 0, 0],\n",
      "        ...,\n",
      "        [1, 1, 1,  ..., 0, 0, 0],\n",
      "        [1, 1, 1,  ..., 0, 0, 0],\n",
      "        [1, 1, 1,  ..., 0, 0, 0]])}\n",
      "{'label': tensor([1, 0, 1, 1, 0, 1, 1, 0, 0, 1, 0, 1, 0, 0, 0, 0]), 'input_ids': tensor([[    0,  1039, 12105,  ...,     1,     1,     1],\n",
      "        [    0,  1039, 12105,  ...,     1,     1,     1],\n",
      "        [    0,  1039,     5,  ...,     1,     1,     1],\n",
      "        ...,\n",
      "        [    0,  1039, 12105,  ...,     1,     1,     1],\n",
      "        [    0,   243,    18,  ...,     1,     1,     1],\n",
      "        [    0, 10431,   771,  ...,     1,     1,     1]]), 'attention_mask': tensor([[1, 1, 1,  ..., 0, 0, 0],\n",
      "        [1, 1, 1,  ..., 0, 0, 0],\n",
      "        [1, 1, 1,  ..., 0, 0, 0],\n",
      "        ...,\n",
      "        [1, 1, 1,  ..., 0, 0, 0],\n",
      "        [1, 1, 1,  ..., 0, 0, 0],\n",
      "        [1, 1, 1,  ..., 0, 0, 0]])}\n",
      "{'label': tensor([0, 1, 1, 1, 0, 0, 0, 1, 0, 1, 0, 0, 1, 1, 1, 0]), 'input_ids': tensor([[    0,   405,  1437,  ...,     1,     1,     1],\n",
      "        [    0,  2409,   172,  ...,     1,     1,     1],\n",
      "        [    0, 14783,    98,  ...,     1,     1,     1],\n",
      "        ...,\n",
      "        [    0,  1039, 12105,  ...,     1,     1,     1],\n",
      "        [    0, 33877,     4,  ...,     1,     1,     1],\n",
      "        [    0, 10431,   534,  ...,     1,     1,     1]]), 'attention_mask': tensor([[1, 1, 1,  ..., 0, 0, 0],\n",
      "        [1, 1, 1,  ..., 0, 0, 0],\n",
      "        [1, 1, 1,  ..., 0, 0, 0],\n",
      "        ...,\n",
      "        [1, 1, 1,  ..., 0, 0, 0],\n",
      "        [1, 1, 1,  ..., 0, 0, 0],\n",
      "        [1, 1, 1,  ..., 0, 0, 0]])}\n",
      "{'label': tensor([1, 1, 0, 0, 1, 0, 0, 1, 0, 0, 1, 1, 1, 0, 1, 1]), 'input_ids': tensor([[    0,  1039, 12105,  ...,     1,     1,     1],\n",
      "        [    0,   597,  3698,  ...,     1,     1,     1],\n",
      "        [    0,  1185,  1669,  ...,     1,     1,     1],\n",
      "        ...,\n",
      "        [    0,  1039, 12105,  ...,     1,     1,     1],\n",
      "        [    0, 36061,  5564,  ...,     1,     1,     1],\n",
      "        [    0,   100, 24352,  ...,     1,     1,     1]]), 'attention_mask': tensor([[1, 1, 1,  ..., 0, 0, 0],\n",
      "        [1, 1, 1,  ..., 0, 0, 0],\n",
      "        [1, 1, 1,  ..., 0, 0, 0],\n",
      "        ...,\n",
      "        [1, 1, 1,  ..., 0, 0, 0],\n",
      "        [1, 1, 1,  ..., 0, 0, 0],\n",
      "        [1, 1, 1,  ..., 0, 0, 0]])}\n",
      "{'label': tensor([1, 1, 1, 1, 0, 0, 1, 0, 0, 1, 0, 0, 0, 0, 0, 0]), 'input_ids': tensor([[    0,   100,   101,  ...,     1,     1,     1],\n",
      "        [    0, 31414, 11894,  ...,     1,     1,     1],\n",
      "        [    0,  7488,  3252,  ...,     1,     1,     1],\n",
      "        ...,\n",
      "        [    0, 46236,     6,  ...,     1,     1,     1],\n",
      "        [    0,  1039, 12105,  ...,     1,     1,     1],\n",
      "        [    0,  1039, 12105,  ...,     1,     1,     1]]), 'attention_mask': tensor([[1, 1, 1,  ..., 0, 0, 0],\n",
      "        [1, 1, 1,  ..., 0, 0, 0],\n",
      "        [1, 1, 1,  ..., 0, 0, 0],\n",
      "        ...,\n",
      "        [1, 1, 1,  ..., 0, 0, 0],\n",
      "        [1, 1, 1,  ..., 0, 0, 0],\n",
      "        [1, 1, 1,  ..., 0, 0, 0]])}\n",
      "{'label': tensor([1, 0, 0, 1, 1, 0, 0, 0, 0, 1, 0, 1, 0, 1, 0, 0]), 'input_ids': tensor([[    0, 11195,    58,  ...,     1,     1,     1],\n",
      "        [    0,   243,    18,  ...,     1,     1,     1],\n",
      "        [    0,  1039, 12105,  ...,     1,     1,     1],\n",
      "        ...,\n",
      "        [    0, 13987,    47,  ...,     1,     1,     1],\n",
      "        [    0,  1039, 12105,  ...,     1,     1,     1],\n",
      "        [    0, 45440,  2985,  ...,     1,     1,     1]]), 'attention_mask': tensor([[1, 1, 1,  ..., 0, 0, 0],\n",
      "        [1, 1, 1,  ..., 0, 0, 0],\n",
      "        [1, 1, 1,  ..., 0, 0, 0],\n",
      "        ...,\n",
      "        [1, 1, 1,  ..., 0, 0, 0],\n",
      "        [1, 1, 1,  ..., 0, 0, 0],\n",
      "        [1, 1, 1,  ..., 0, 0, 0]])}\n",
      "{'label': tensor([0, 0, 0, 1, 1, 0, 0, 1, 0, 1, 1, 0, 0, 0, 0, 1]), 'input_ids': tensor([[    0, 15724, 22212,  ...,     1,     1,     1],\n",
      "        [    0, 17485,   849,  ...,     1,     1,     1],\n",
      "        [    0, 38580,   594,  ...,     1,     1,     1],\n",
      "        ...,\n",
      "        [    0,  2387,  2674,  ...,     1,     1,     1],\n",
      "        [    0,  8275,    47,  ...,     1,     1,     1],\n",
      "        [    0,   104,  9636,  ...,     1,     1,     1]]), 'attention_mask': tensor([[1, 1, 1,  ..., 0, 0, 0],\n",
      "        [1, 1, 1,  ..., 0, 0, 0],\n",
      "        [1, 1, 1,  ..., 0, 0, 0],\n",
      "        ...,\n",
      "        [1, 1, 1,  ..., 0, 0, 0],\n",
      "        [1, 1, 1,  ..., 0, 0, 0],\n",
      "        [1, 1, 1,  ..., 0, 0, 0]])}\n",
      "{'label': tensor([1, 1, 0, 1, 0, 1, 0, 0, 0, 1, 0, 1, 1, 0, 0, 0]), 'input_ids': tensor([[    0,   713,    16,  ...,     1,     1,     1],\n",
      "        [    0, 10431, 12338,  ...,     1,     1,     1],\n",
      "        [    0, 15954,    24,  ...,     1,     1,     1],\n",
      "        ...,\n",
      "        [    0,   673,   118,  ...,     1,     1,     1],\n",
      "        [    0,   100,  2649,  ...,     1,     1,     1],\n",
      "        [    0, 21674,     7,  ...,     1,     1,     1]]), 'attention_mask': tensor([[1, 1, 1,  ..., 0, 0, 0],\n",
      "        [1, 1, 1,  ..., 0, 0, 0],\n",
      "        [1, 1, 1,  ..., 0, 0, 0],\n",
      "        ...,\n",
      "        [1, 1, 1,  ..., 0, 0, 0],\n",
      "        [1, 1, 1,  ..., 0, 0, 0],\n",
      "        [1, 1, 1,  ..., 0, 0, 0]])}\n",
      "{'label': tensor([0, 0, 0, 1, 1, 1, 1, 1, 0, 0, 1, 0, 0, 1, 1, 0]), 'input_ids': tensor([[    0,  1039, 12105,  ...,     1,     1,     1],\n",
      "        [    0, 10431, 24973,  ...,     1,     1,     1],\n",
      "        [    0, 10431,  8596,  ...,     1,     1,     1],\n",
      "        ...,\n",
      "        [    0, 10733,    15,  ...,     1,     1,     1],\n",
      "        [    0, 44879,   806,  ...,     1,     1,     1],\n",
      "        [    0,  1779,    52,  ...,     1,     1,     1]]), 'attention_mask': tensor([[1, 1, 1,  ..., 0, 0, 0],\n",
      "        [1, 1, 1,  ..., 0, 0, 0],\n",
      "        [1, 1, 1,  ..., 0, 0, 0],\n",
      "        ...,\n",
      "        [1, 1, 1,  ..., 0, 0, 0],\n",
      "        [1, 1, 1,  ..., 0, 0, 0],\n",
      "        [1, 1, 1,  ..., 0, 0, 0]])}\n",
      "{'label': tensor([1, 1, 0, 1, 1, 0, 1, 1, 1, 1, 0, 0, 0, 1, 1, 0]), 'input_ids': tensor([[    0,  3908,  6614,  ...,     1,     1,     1],\n",
      "        [    0,  1039, 12105,  ...,     1,     1,     1],\n",
      "        [    0,  1039, 12105,  ...,     1,     1,     1],\n",
      "        ...,\n",
      "        [    0, 31535,    42,  ...,     1,     1,     1],\n",
      "        [    0,   100,    33,  ...,     1,     1,     1],\n",
      "        [    0,   894,  1326,  ...,     1,     1,     1]]), 'attention_mask': tensor([[1, 1, 1,  ..., 0, 0, 0],\n",
      "        [1, 1, 1,  ..., 0, 0, 0],\n",
      "        [1, 1, 1,  ..., 0, 0, 0],\n",
      "        ...,\n",
      "        [1, 1, 1,  ..., 0, 0, 0],\n",
      "        [1, 1, 1,  ..., 0, 0, 0],\n",
      "        [1, 1, 1,  ..., 0, 0, 0]])}\n",
      "{'label': tensor([1, 0, 1, 1, 0, 0, 1, 1, 1, 0, 1, 1, 1, 1, 1, 1]), 'input_ids': tensor([[    0, 10836,    75,  ...,     1,     1,     1],\n",
      "        [    0,  2264,    38,  ...,     1,     1,     1],\n",
      "        [    0,   243,    16,  ...,     1,     1,     1],\n",
      "        ...,\n",
      "        [    0, 10431, 21461,  ...,     1,     1,     1],\n",
      "        [    0, 19203, 36236,  ...,     1,     1,     1],\n",
      "        [    0, 16587,   209,  ...,     1,     1,     1]]), 'attention_mask': tensor([[1, 1, 1,  ..., 0, 0, 0],\n",
      "        [1, 1, 1,  ..., 0, 0, 0],\n",
      "        [1, 1, 1,  ..., 0, 0, 0],\n",
      "        ...,\n",
      "        [1, 1, 1,  ..., 0, 0, 0],\n",
      "        [1, 1, 1,  ..., 0, 0, 0],\n",
      "        [1, 1, 1,  ..., 0, 0, 0]])}\n",
      "{'label': tensor([1, 1, 1, 0, 0, 1, 1, 1, 0, 1, 0, 0, 1, 0, 0, 0]), 'input_ids': tensor([[    0,   100,   524,  ...,     1,     1,     1],\n",
      "        [    0,   133, 13422,  ...,     1,     1,     1],\n",
      "        [    0, 15952,  8266,  ...,     1,     1,     1],\n",
      "        ...,\n",
      "        [    0, 19224,     6,  ...,     1,     1,     1],\n",
      "        [    0,  1106,    47,  ...,     1,     1,     1],\n",
      "        [    0, 10365, 12230,  ...,     1,     1,     1]]), 'attention_mask': tensor([[1, 1, 1,  ..., 0, 0, 0],\n",
      "        [1, 1, 1,  ..., 0, 0, 0],\n",
      "        [1, 1, 1,  ..., 0, 0, 0],\n",
      "        ...,\n",
      "        [1, 1, 1,  ..., 0, 0, 0],\n",
      "        [1, 1, 1,  ..., 0, 0, 0],\n",
      "        [1, 1, 1,  ..., 0, 0, 0]])}\n",
      "{'label': tensor([1, 1, 1, 1, 0, 0, 1, 1, 0, 1, 1, 0, 1, 1, 1, 0]), 'input_ids': tensor([[    0,  1039, 12105,  ...,     1,     1,     1],\n",
      "        [    0,   717,  1295,  ...,     1,     1,     1],\n",
      "        [    0,  2387,  2674,  ...,     1,     1,     1],\n",
      "        ...,\n",
      "        [    0,   574, 13996,  ...,     1,     1,     1],\n",
      "        [    0,  1039, 12105,  ...,     1,     1,     1],\n",
      "        [    0,   791, 41311,  ...,     1,     1,     1]]), 'attention_mask': tensor([[1, 1, 1,  ..., 0, 0, 0],\n",
      "        [1, 1, 1,  ..., 0, 0, 0],\n",
      "        [1, 1, 1,  ..., 0, 0, 0],\n",
      "        ...,\n",
      "        [1, 1, 1,  ..., 0, 0, 0],\n",
      "        [1, 1, 1,  ..., 0, 0, 0],\n",
      "        [1, 1, 1,  ..., 0, 0, 0]])}\n",
      "{'label': tensor([0, 1, 0, 0, 1, 0, 0, 0, 0, 1, 1, 1, 1, 0, 0, 0]), 'input_ids': tensor([[    0,   104, 27366,  ...,     1,     1,     1],\n",
      "        [    0, 44853,  5209,  ...,     1,     1,     1],\n",
      "        [    0, 34112, 14536,  ...,     1,     1,     1],\n",
      "        ...,\n",
      "        [    0, 14699,    13,  ...,     1,     1,     1],\n",
      "        [    0, 38158, 15698,  ...,     1,     1,     1],\n",
      "        [    0,   713,    16,  ...,     1,     1,     1]]), 'attention_mask': tensor([[1, 1, 1,  ..., 0, 0, 0],\n",
      "        [1, 1, 1,  ..., 0, 0, 0],\n",
      "        [1, 1, 1,  ..., 0, 0, 0],\n",
      "        ...,\n",
      "        [1, 1, 1,  ..., 0, 0, 0],\n",
      "        [1, 1, 1,  ..., 0, 0, 0],\n",
      "        [1, 1, 1,  ..., 0, 0, 0]])}\n",
      "{'label': tensor([0, 0, 0, 0, 1, 1, 0, 1, 1, 1, 0, 0, 1, 1, 1, 0]), 'input_ids': tensor([[    0,  1039, 12105,  ...,     1,     1,     1],\n",
      "        [    0,   100,   437,  ...,     1,     1,     1],\n",
      "        [    0, 10431, 27298,  ...,     1,     1,     1],\n",
      "        ...,\n",
      "        [    0,   100,   657,  ...,     1,     1,     1],\n",
      "        [    0,   975,   102,  ...,     1,     1,     1],\n",
      "        [    0, 10431,   574,  ...,     1,     1,     1]]), 'attention_mask': tensor([[1, 1, 1,  ..., 0, 0, 0],\n",
      "        [1, 1, 1,  ..., 0, 0, 0],\n",
      "        [1, 1, 1,  ..., 0, 0, 0],\n",
      "        ...,\n",
      "        [1, 1, 1,  ..., 0, 0, 0],\n",
      "        [1, 1, 1,  ..., 0, 0, 0],\n",
      "        [1, 1, 1,  ..., 0, 0, 0]])}\n",
      "{'label': tensor([0, 1, 1, 0, 1, 1, 1, 1, 1, 0, 1, 1, 0, 1, 0, 0]), 'input_ids': tensor([[    0,  1039, 12105,  ...,     1,     1,     1],\n",
      "        [    0, 13368,    99,  ...,     1,     1,     1],\n",
      "        [    0,   975,   857,  ...,     1,     1,     1],\n",
      "        ...,\n",
      "        [    0,  7516,   141,  ...,     1,     1,     1],\n",
      "        [    0,  1039, 12105,  ...,     1,     1,     1],\n",
      "        [    0, 10431, 46530,  ...,     1,     1,     1]]), 'attention_mask': tensor([[1, 1, 1,  ..., 0, 0, 0],\n",
      "        [1, 1, 1,  ..., 0, 0, 0],\n",
      "        [1, 1, 1,  ..., 0, 0, 0],\n",
      "        ...,\n",
      "        [1, 1, 1,  ..., 0, 0, 0],\n",
      "        [1, 1, 1,  ..., 0, 0, 0],\n",
      "        [1, 1, 1,  ..., 0, 0, 0]])}\n",
      "{'label': tensor([0, 1, 1, 0, 1, 1, 1, 0, 1, 1, 0, 1, 0, 1, 0, 0]), 'input_ids': tensor([[    0,  1039, 12105,  ...,     1,     1,     1],\n",
      "        [    0, 36283,   816,  ...,     1,     1,     1],\n",
      "        [    0,  1039, 12105,  ...,     1,     1,     1],\n",
      "        ...,\n",
      "        [    0,  1039, 12105,  ...,     1,     1,     1],\n",
      "        [    0,  1039, 12105,  ...,     1,     1,     1],\n",
      "        [    0,  1039, 12105,  ...,     1,     1,     1]]), 'attention_mask': tensor([[1, 1, 1,  ..., 0, 0, 0],\n",
      "        [1, 1, 1,  ..., 0, 0, 0],\n",
      "        [1, 1, 1,  ..., 0, 0, 0],\n",
      "        ...,\n",
      "        [1, 1, 1,  ..., 0, 0, 0],\n",
      "        [1, 1, 1,  ..., 0, 0, 0],\n",
      "        [1, 1, 1,  ..., 0, 0, 0]])}\n",
      "{'label': tensor([1, 1, 0, 1, 1, 1, 1, 1, 1, 1, 0, 1, 0, 1, 0, 0]), 'input_ids': tensor([[    0,  1039, 12105,  ...,     1,     1,     1],\n",
      "        [    0,  2387, 27764,  ...,     1,     1,     1],\n",
      "        [    0,   170,   240,  ...,     1,     1,     1],\n",
      "        ...,\n",
      "        [    0,   100,  4443,  ...,     1,     1,     1],\n",
      "        [    0, 10010,   218,  ...,     1,     1,     1],\n",
      "        [    0,  1039, 12105,  ...,     1,     1,     1]]), 'attention_mask': tensor([[1, 1, 1,  ..., 0, 0, 0],\n",
      "        [1, 1, 1,  ..., 0, 0, 0],\n",
      "        [1, 1, 1,  ..., 0, 0, 0],\n",
      "        ...,\n",
      "        [1, 1, 1,  ..., 0, 0, 0],\n",
      "        [1, 1, 1,  ..., 0, 0, 0],\n",
      "        [1, 1, 1,  ..., 0, 0, 0]])}\n",
      "{'label': tensor([0, 0, 1, 1, 1, 0, 1, 0, 1, 0, 1, 0, 1, 0, 0, 1]), 'input_ids': tensor([[    0, 15952,  3795,  ...,     1,     1,     1],\n",
      "        [    0,  1039, 12105,  ...,     1,     1,     1],\n",
      "        [    0, 17693,  7739,  ...,     1,     1,     1],\n",
      "        ...,\n",
      "        [    0,  1039, 12105,  ...,     1,     1,     1],\n",
      "        [    0,  1039, 12105,  ...,     1,     1,     1],\n",
      "        [    0, 10836,   460,  ...,     1,     1,     1]]), 'attention_mask': tensor([[1, 1, 1,  ..., 0, 0, 0],\n",
      "        [1, 1, 1,  ..., 0, 0, 0],\n",
      "        [1, 1, 1,  ..., 0, 0, 0],\n",
      "        ...,\n",
      "        [1, 1, 1,  ..., 0, 0, 0],\n",
      "        [1, 1, 1,  ..., 0, 0, 0],\n",
      "        [1, 1, 1,  ..., 0, 0, 0]])}\n",
      "{'label': tensor([0, 0, 1, 0, 1, 0, 0, 1, 0, 1, 1, 0, 0, 0, 1, 1]), 'input_ids': tensor([[    0, 29908,    62,  ...,     1,     1,     1],\n",
      "        [    0,  1039, 12105,  ...,     1,     1,     1],\n",
      "        [    0,  1039, 12105,  ...,     1,     1,     1],\n",
      "        ...,\n",
      "        [    0,  1039, 12105,  ...,     1,     1,     1],\n",
      "        [    0, 23638,  1023,  ...,     1,     1,     1],\n",
      "        [    0,  1039, 12105,  ...,     1,     1,     1]]), 'attention_mask': tensor([[1, 1, 1,  ..., 0, 0, 0],\n",
      "        [1, 1, 1,  ..., 0, 0, 0],\n",
      "        [1, 1, 1,  ..., 0, 0, 0],\n",
      "        ...,\n",
      "        [1, 1, 1,  ..., 0, 0, 0],\n",
      "        [1, 1, 1,  ..., 0, 0, 0],\n",
      "        [1, 1, 1,  ..., 0, 0, 0]])}\n",
      "{'label': tensor([0, 1, 0, 0, 1, 0, 0, 0, 1, 1, 1, 1, 0, 1, 1, 0]), 'input_ids': tensor([[    0, 13724,    13,  ...,     1,     1,     1],\n",
      "        [    0,   100,   657,  ...,     1,     1,     1],\n",
      "        [    0, 45636,  1423,  ...,     1,     1,     1],\n",
      "        ...,\n",
      "        [    0,   771,  1342,  ...,     1,     1,     1],\n",
      "        [    0,  1039, 12105,  ...,     1,     1,     1],\n",
      "        [    0,   243,   849,  ...,     1,     1,     1]]), 'attention_mask': tensor([[1, 1, 1,  ..., 0, 0, 0],\n",
      "        [1, 1, 1,  ..., 0, 0, 0],\n",
      "        [1, 1, 1,  ..., 0, 0, 0],\n",
      "        ...,\n",
      "        [1, 1, 1,  ..., 0, 0, 0],\n",
      "        [1, 1, 1,  ..., 0, 0, 0],\n",
      "        [1, 1, 1,  ..., 0, 0, 0]])}\n",
      "{'label': tensor([1, 1, 1, 0, 0, 0, 1, 0, 1, 1, 0, 1, 1, 1, 0, 0]), 'input_ids': tensor([[    0,  1779,    14,  ...,     1,     1,     1],\n",
      "        [    0, 12350,  6620,  ...,     1,     1,     1],\n",
      "        [    0, 27298,  3482,  ...,     1,     1,     1],\n",
      "        ...,\n",
      "        [    0,   100,    64,  ...,     1,     1,     1],\n",
      "        [    0, 11195, 19253,  ...,     1,     1,     1],\n",
      "        [    0,  1039, 12105,  ...,     1,     1,     1]]), 'attention_mask': tensor([[1, 1, 1,  ..., 0, 0, 0],\n",
      "        [1, 1, 1,  ..., 0, 0, 0],\n",
      "        [1, 1, 1,  ..., 0, 0, 0],\n",
      "        ...,\n",
      "        [1, 1, 1,  ..., 0, 0, 0],\n",
      "        [1, 1, 1,  ..., 0, 0, 0],\n",
      "        [1, 1, 1,  ..., 0, 0, 0]])}\n",
      "{'label': tensor([0, 0, 0, 1, 1, 1, 0, 0, 1, 0, 1, 1, 1, 0, 0, 0]), 'input_ids': tensor([[    0, 10431, 25518,  ...,     1,     1,     1],\n",
      "        [    0,  1039, 12105,  ...,     1,     1,     1],\n",
      "        [    0,  1039, 12105,  ...,     1,     1,     1],\n",
      "        ...,\n",
      "        [    0, 31575,   110,  ...,     1,     1,     1],\n",
      "        [    0,  7682,  4095,  ...,     1,     1,     1],\n",
      "        [    0,  7939,    18,  ...,     1,     1,     1]]), 'attention_mask': tensor([[1, 1, 1,  ..., 0, 0, 0],\n",
      "        [1, 1, 1,  ..., 0, 0, 0],\n",
      "        [1, 1, 1,  ..., 0, 0, 0],\n",
      "        ...,\n",
      "        [1, 1, 1,  ..., 0, 0, 0],\n",
      "        [1, 1, 1,  ..., 0, 0, 0],\n",
      "        [1, 1, 1,  ..., 0, 0, 0]])}\n",
      "{'label': tensor([1, 0, 1, 0, 0, 0, 0, 1, 0, 0, 0, 1, 0, 1, 1, 1]), 'input_ids': tensor([[    0,  1039, 12105,  ...,     1,     1,     1],\n",
      "        [    0,  1039, 12105,  ...,     1,     1,     1],\n",
      "        [    0,  3762,     9,  ...,     1,     1,     1],\n",
      "        ...,\n",
      "        [    0, 43517,   268,  ...,     1,     1,     1],\n",
      "        [    0,   250,   627,  ...,     1,     1,     1],\n",
      "        [    0,  6785,  2781,  ...,     1,     1,     1]]), 'attention_mask': tensor([[1, 1, 1,  ..., 0, 0, 0],\n",
      "        [1, 1, 1,  ..., 0, 0, 0],\n",
      "        [1, 1, 1,  ..., 0, 0, 0],\n",
      "        ...,\n",
      "        [1, 1, 1,  ..., 0, 0, 0],\n",
      "        [1, 1, 1,  ..., 0, 0, 0],\n",
      "        [1, 1, 1,  ..., 0, 0, 0]])}\n",
      "{'label': tensor([1, 0, 1, 1, 1, 0, 0, 1, 0, 0, 1, 1, 0, 1, 1, 0]), 'input_ids': tensor([[    0,   713,    16,  ...,     1,     1,     1],\n",
      "        [    0, 10431,   534,  ...,     1,     1,     1],\n",
      "        [    0, 36090, 19168,  ...,     1,     1,     1],\n",
      "        ...,\n",
      "        [    0,  1185,   214,  ...,     1,     1,     1],\n",
      "        [    0,  1039, 12105,  ...,     1,     1,     1],\n",
      "        [    0, 22885, 12800,  ...,     1,     1,     1]]), 'attention_mask': tensor([[1, 1, 1,  ..., 0, 0, 0],\n",
      "        [1, 1, 1,  ..., 0, 0, 0],\n",
      "        [1, 1, 1,  ..., 0, 0, 0],\n",
      "        ...,\n",
      "        [1, 1, 1,  ..., 0, 0, 0],\n",
      "        [1, 1, 1,  ..., 0, 0, 0],\n",
      "        [1, 1, 1,  ..., 0, 0, 0]])}\n",
      "{'label': tensor([1, 1, 1, 0, 1, 1, 1, 1, 1, 0, 0, 1, 0, 1, 1, 0]), 'input_ids': tensor([[    0, 12350,  2031,  ...,     1,     1,     1],\n",
      "        [    0,  1039, 12105,  ...,     1,     1,     1],\n",
      "        [    0,  6209,    22,  ...,     1,     1,     1],\n",
      "        ...,\n",
      "        [    0,   100,   206,  ...,     1,     1,     1],\n",
      "        [    0,  9226,    16,  ...,     1,     1,     1],\n",
      "        [    0, 28750,   478,  ...,     1,     1,     1]]), 'attention_mask': tensor([[1, 1, 1,  ..., 0, 0, 0],\n",
      "        [1, 1, 1,  ..., 0, 0, 0],\n",
      "        [1, 1, 1,  ..., 0, 0, 0],\n",
      "        ...,\n",
      "        [1, 1, 1,  ..., 0, 0, 0],\n",
      "        [1, 1, 1,  ..., 0, 0, 0],\n",
      "        [1, 1, 1,  ..., 0, 0, 0]])}\n",
      "{'label': tensor([1, 0, 1, 0, 1, 1, 0, 1, 1, 1, 1, 0, 1, 0, 0, 1]), 'input_ids': tensor([[    0,  1039, 12105,  ...,     1,     1,     1],\n",
      "        [    0, 42677,     9,  ...,     1,     1,     1],\n",
      "        [    0,  6179,   222,  ...,     1,     1,     1],\n",
      "        ...,\n",
      "        [    0, 10431, 37688,  ...,     1,     1,     1],\n",
      "        [    0,   100,    21,  ...,     1,     1,     1],\n",
      "        [    0,   100,    95,  ...,     1,     1,     1]]), 'attention_mask': tensor([[1, 1, 1,  ..., 0, 0, 0],\n",
      "        [1, 1, 1,  ..., 0, 0, 0],\n",
      "        [1, 1, 1,  ..., 0, 0, 0],\n",
      "        ...,\n",
      "        [1, 1, 1,  ..., 0, 0, 0],\n",
      "        [1, 1, 1,  ..., 0, 0, 0],\n",
      "        [1, 1, 1,  ..., 0, 0, 0]])}\n",
      "{'label': tensor([0, 0, 1, 1, 0, 1, 0, 1, 0, 0, 1, 1, 1, 0, 0, 1]), 'input_ids': tensor([[    0,  1039, 12105,  ...,     1,     1,     1],\n",
      "        [    0,  1039, 12105,  ...,     1,     1,     1],\n",
      "        [    0, 21518,    92,  ...,     1,     1,     1],\n",
      "        ...,\n",
      "        [    0,  2411,    35,  ...,     1,     1,     1],\n",
      "        [    0, 10431,  4030,  ...,     1,     1,     1],\n",
      "        [    0,  7516,   356,  ...,     1,     1,     1]]), 'attention_mask': tensor([[1, 1, 1,  ..., 0, 0, 0],\n",
      "        [1, 1, 1,  ..., 0, 0, 0],\n",
      "        [1, 1, 1,  ..., 0, 0, 0],\n",
      "        ...,\n",
      "        [1, 1, 1,  ..., 0, 0, 0],\n",
      "        [1, 1, 1,  ..., 0, 0, 0],\n",
      "        [1, 1, 1,  ..., 0, 0, 0]])}\n",
      "{'label': tensor([1, 1, 0, 1, 1, 0, 1, 1, 0, 1, 1, 1, 1, 0, 0, 0]), 'input_ids': tensor([[    0,   734,  4297,  ...,     1,     1,     1],\n",
      "        [    0, 37172,  2133,  ...,     1,     1,     1],\n",
      "        [    0, 10643,   768,  ...,     1,     1,     1],\n",
      "        ...,\n",
      "        [    0,   627,  7308,  ...,     1,     1,     1],\n",
      "        [    0,   133,  8309,  ...,     1,     1,     1],\n",
      "        [    0,  1039, 12105,  ...,     1,     1,     1]]), 'attention_mask': tensor([[1, 1, 1,  ..., 0, 0, 0],\n",
      "        [1, 1, 1,  ..., 0, 0, 0],\n",
      "        [1, 1, 1,  ..., 0, 0, 0],\n",
      "        ...,\n",
      "        [1, 1, 1,  ..., 0, 0, 0],\n",
      "        [1, 1, 1,  ..., 0, 0, 0],\n",
      "        [1, 1, 1,  ..., 0, 0, 0]])}\n",
      "{'label': tensor([1, 0, 1, 0, 1, 1, 1, 0, 0, 0, 1, 0, 1, 1, 0, 1]), 'input_ids': tensor([[    0,  1711,    18,  ...,     1,     1,     1],\n",
      "        [    0, 13755,    47,  ...,     1,     1,     1],\n",
      "        [    0, 17693,    16,  ...,     1,     1,     1],\n",
      "        ...,\n",
      "        [    0, 40466,   464,  ...,     1,     1,     1],\n",
      "        [    0, 10431, 29465,  ...,     1,     1,     1],\n",
      "        [    0,  1039, 12105,  ...,     1,     1,     1]]), 'attention_mask': tensor([[1, 1, 1,  ..., 0, 0, 0],\n",
      "        [1, 1, 1,  ..., 0, 0, 0],\n",
      "        [1, 1, 1,  ..., 0, 0, 0],\n",
      "        ...,\n",
      "        [1, 1, 1,  ..., 0, 0, 0],\n",
      "        [1, 1, 1,  ..., 0, 0, 0],\n",
      "        [1, 1, 1,  ..., 0, 0, 0]])}\n",
      "{'label': tensor([1, 1, 0, 0, 1, 1, 1, 0, 0, 1, 1, 0, 0, 0, 1, 1]), 'input_ids': tensor([[    0, 38443,   961,  ...,     1,     1,     1],\n",
      "        [    0, 23074,     8,  ...,     1,     1,     1],\n",
      "        [    0,  1039, 12105,  ...,     1,     1,     1],\n",
      "        ...,\n",
      "        [    0, 38443, 18649,  ...,     1,     1,     1],\n",
      "        [    0, 16587,   567,  ...,     1,     1,     1],\n",
      "        [    0,  2264, 17516,  ...,     1,     1,     1]]), 'attention_mask': tensor([[1, 1, 1,  ..., 0, 0, 0],\n",
      "        [1, 1, 1,  ..., 0, 0, 0],\n",
      "        [1, 1, 1,  ..., 0, 0, 0],\n",
      "        ...,\n",
      "        [1, 1, 1,  ..., 0, 0, 0],\n",
      "        [1, 1, 1,  ..., 0, 0, 0],\n",
      "        [1, 1, 1,  ..., 0, 0, 0]])}\n",
      "{'label': tensor([1, 1, 0, 1, 0, 1, 1, 1, 0, 0, 1, 1, 1, 0, 1, 0]), 'input_ids': tensor([[    0,   354,  3999,  ...,     1,     1,     1],\n",
      "        [    0,  1039, 12105,  ...,     1,     1,     1],\n",
      "        [    0, 36100,    37,  ...,     1,     1,     1],\n",
      "        ...,\n",
      "        [    0,  1039, 12105,  ...,     1,     1,     1],\n",
      "        [    0,  1039, 12105,  ...,     1,     1,     1],\n",
      "        [    0,  2264,  1053,  ...,     1,     1,     1]]), 'attention_mask': tensor([[1, 1, 1,  ..., 0, 0, 0],\n",
      "        [1, 1, 1,  ..., 0, 0, 0],\n",
      "        [1, 1, 1,  ..., 0, 0, 0],\n",
      "        ...,\n",
      "        [1, 1, 1,  ..., 0, 0, 0],\n",
      "        [1, 1, 1,  ..., 0, 0, 0],\n",
      "        [1, 1, 1,  ..., 0, 0, 0]])}\n",
      "{'label': tensor([0, 0, 0, 1, 1, 0, 0, 1, 0, 1, 1, 1, 0, 0, 0, 0]), 'input_ids': tensor([[    0,  1039, 12105,  ...,     1,     1,     1],\n",
      "        [    0,  1039, 12105,  ...,     1,     1,     1],\n",
      "        [    0,   574,  3384,  ...,     1,     1,     1],\n",
      "        ...,\n",
      "        [    0,  7939,    18,  ...,     1,     1,     1],\n",
      "        [    0,   100,   437,  ...,     1,     1,     1],\n",
      "        [    0,  4783,  1928,  ...,     1,     1,     1]]), 'attention_mask': tensor([[1, 1, 1,  ..., 0, 0, 0],\n",
      "        [1, 1, 1,  ..., 0, 0, 0],\n",
      "        [1, 1, 1,  ..., 0, 0, 0],\n",
      "        ...,\n",
      "        [1, 1, 1,  ..., 0, 0, 0],\n",
      "        [1, 1, 1,  ..., 0, 0, 0],\n",
      "        [1, 1, 1,  ..., 0, 0, 0]])}\n",
      "{'label': tensor([1, 0, 1, 0, 0, 1, 1, 0, 0, 1, 1, 0, 1, 0, 0, 0]), 'input_ids': tensor([[    0, 33543,    38,  ...,     1,     1,     1],\n",
      "        [    0,  1039, 12105,  ...,     1,     1,     1],\n",
      "        [    0,  1039, 12105,  ...,     1,     1,     1],\n",
      "        ...,\n",
      "        [    0,  5975, 34461,  ...,     1,     1,     1],\n",
      "        [    0, 10431, 12583,  ...,     1,     1,     1],\n",
      "        [    0, 10431,    29,  ...,     1,     1,     1]]), 'attention_mask': tensor([[1, 1, 1,  ..., 0, 0, 0],\n",
      "        [1, 1, 1,  ..., 0, 0, 0],\n",
      "        [1, 1, 1,  ..., 0, 0, 0],\n",
      "        ...,\n",
      "        [1, 1, 1,  ..., 0, 0, 0],\n",
      "        [1, 1, 1,  ..., 0, 0, 0],\n",
      "        [1, 1, 1,  ..., 0, 0, 0]])}\n",
      "{'label': tensor([0, 0, 1, 1, 1, 1, 0, 1, 0, 0, 1, 0, 1, 0, 0, 0]), 'input_ids': tensor([[    0, 16625, 43313,  ...,     1,     1,     1],\n",
      "        [    0,  1039, 12105,  ...,     1,     1,     1],\n",
      "        [    0, 19847,   161,  ...,     1,     1,     1],\n",
      "        ...,\n",
      "        [    0,  1039, 12105,  ...,     1,     1,     1],\n",
      "        [    0,  1106,    38,  ...,     1,     1,     1],\n",
      "        [    0,  2411,    35,  ...,     1,     1,     1]]), 'attention_mask': tensor([[1, 1, 1,  ..., 0, 0, 0],\n",
      "        [1, 1, 1,  ..., 0, 0, 0],\n",
      "        [1, 1, 1,  ..., 0, 0, 0],\n",
      "        ...,\n",
      "        [1, 1, 1,  ..., 0, 0, 0],\n",
      "        [1, 1, 1,  ..., 0, 0, 0],\n",
      "        [1, 1, 1,  ..., 0, 0, 0]])}\n",
      "{'label': tensor([0, 1, 0, 0, 1, 1, 1, 1, 1, 1, 1, 1, 0, 1, 0, 1]), 'input_ids': tensor([[    0,  1039, 12105,  ...,     1,     1,     1],\n",
      "        [    0, 13755,    51,  ...,     1,     1,     1],\n",
      "        [    0,  1039, 12105,  ...,     1,     1,     1],\n",
      "        ...,\n",
      "        [    0, 28713,   491,  ...,     1,     1,     1],\n",
      "        [    0,  1039, 12105,  ...,     1,     1,     1],\n",
      "        [    0,  1039, 12105,  ...,     1,     1,     1]]), 'attention_mask': tensor([[1, 1, 1,  ..., 0, 0, 0],\n",
      "        [1, 1, 1,  ..., 0, 0, 0],\n",
      "        [1, 1, 1,  ..., 0, 0, 0],\n",
      "        ...,\n",
      "        [1, 1, 1,  ..., 0, 0, 0],\n",
      "        [1, 1, 1,  ..., 0, 0, 0],\n",
      "        [1, 1, 1,  ..., 0, 0, 0]])}\n",
      "{'label': tensor([0, 0, 1, 1, 0, 0, 1, 0, 1, 1, 1, 0, 0, 0, 1, 1]), 'input_ids': tensor([[    0,  1039, 12105,  ...,     1,     1,     1],\n",
      "        [    0,  7608,    16,  ...,     1,     1,     1],\n",
      "        [    0, 14287,   154,  ...,     1,     1,     1],\n",
      "        ...,\n",
      "        [    0, 35684,  2135,  ...,     1,     1,     1],\n",
      "        [    0,  1039, 12105,  ...,     1,     1,     1],\n",
      "        [    0, 16587,  2157,  ...,     1,     1,     1]]), 'attention_mask': tensor([[1, 1, 1,  ..., 0, 0, 0],\n",
      "        [1, 1, 1,  ..., 0, 0, 0],\n",
      "        [1, 1, 1,  ..., 0, 0, 0],\n",
      "        ...,\n",
      "        [1, 1, 1,  ..., 0, 0, 0],\n",
      "        [1, 1, 1,  ..., 0, 0, 0],\n",
      "        [1, 1, 1,  ..., 0, 0, 0]])}\n",
      "{'label': tensor([1, 0, 0, 0, 1, 0, 1, 0, 1, 1, 0, 0, 0, 1, 0, 0]), 'input_ids': tensor([[    0,   100,   437,  ...,     1,     1,     1],\n",
      "        [    0,   757,    11,  ...,     1,     1,     1],\n",
      "        [    0, 38158,  4887,  ...,     1,     1,     1],\n",
      "        ...,\n",
      "        [    0, 22817,     7,  ...,     1,     1,     1],\n",
      "        [    0,  1039, 12105,  ...,     1,     1,     1],\n",
      "        [    0,  1039, 12105,  ...,     1,     1,     1]]), 'attention_mask': tensor([[1, 1, 1,  ..., 0, 0, 0],\n",
      "        [1, 1, 1,  ..., 0, 0, 0],\n",
      "        [1, 1, 1,  ..., 0, 0, 0],\n",
      "        ...,\n",
      "        [1, 1, 1,  ..., 0, 0, 0],\n",
      "        [1, 1, 1,  ..., 0, 0, 0],\n",
      "        [1, 1, 1,  ..., 0, 0, 0]])}\n",
      "{'label': tensor([1, 1, 1, 1, 1, 1, 1, 1, 1, 0, 0, 0, 0, 1, 0, 1]), 'input_ids': tensor([[    0, 23314, 13121,  ...,     1,     1,     1],\n",
      "        [    0,  1711,  1151,  ...,     1,     1,     1],\n",
      "        [    0,   246,   722,  ...,     1,     1,     1],\n",
      "        ...,\n",
      "        [    0,  1039, 12105,  ...,     1,     1,     1],\n",
      "        [    0, 41541, 27685,  ...,     1,     1,     1],\n",
      "        [    0, 35436,    29,  ...,     1,     1,     1]]), 'attention_mask': tensor([[1, 1, 1,  ..., 0, 0, 0],\n",
      "        [1, 1, 1,  ..., 0, 0, 0],\n",
      "        [1, 1, 1,  ..., 0, 0, 0],\n",
      "        ...,\n",
      "        [1, 1, 1,  ..., 0, 0, 0],\n",
      "        [1, 1, 1,  ..., 0, 0, 0],\n",
      "        [1, 1, 1,  ..., 0, 0, 0]])}\n",
      "{'label': tensor([0, 1, 0, 0, 1, 1, 1, 1, 1, 1, 0, 0, 0, 0, 1, 0]), 'input_ids': tensor([[    0, 27524,     7,  ...,     1,     1,     1],\n",
      "        [    0, 10836,    75,  ...,     1,     1,     1],\n",
      "        [    0,  2527,   121,  ...,     1,     1,     1],\n",
      "        ...,\n",
      "        [    0,  1039, 12105,  ...,     1,     1,     1],\n",
      "        [    0,   243,    18,  ...,     1,     1,     1],\n",
      "        [    0,  1039, 12105,  ...,     1,     1,     1]]), 'attention_mask': tensor([[1, 1, 1,  ..., 0, 0, 0],\n",
      "        [1, 1, 1,  ..., 0, 0, 0],\n",
      "        [1, 1, 1,  ..., 0, 0, 0],\n",
      "        ...,\n",
      "        [1, 1, 1,  ..., 0, 0, 0],\n",
      "        [1, 1, 1,  ..., 0, 0, 0],\n",
      "        [1, 1, 1,  ..., 0, 0, 0]])}\n",
      "{'label': tensor([1, 0, 1, 0, 1, 0, 1, 0, 1, 1, 0, 1, 1, 0, 1, 1]), 'input_ids': tensor([[    0,  1039, 12105,  ...,     1,     1,     1],\n",
      "        [    0,  1039, 12105,  ...,     1,     1,     1],\n",
      "        [    0,  1039, 12105,  ...,     1,     1,     1],\n",
      "        ...,\n",
      "        [    0,  1039, 12105,  ...,     1,     1,     1],\n",
      "        [    0,  1039, 12105,  ...,     1,     1,     1],\n",
      "        [    0,  8346,     6,  ...,     1,     1,     1]]), 'attention_mask': tensor([[1, 1, 1,  ..., 0, 0, 0],\n",
      "        [1, 1, 1,  ..., 0, 0, 0],\n",
      "        [1, 1, 1,  ..., 0, 0, 0],\n",
      "        ...,\n",
      "        [1, 1, 1,  ..., 0, 0, 0],\n",
      "        [1, 1, 1,  ..., 0, 0, 0],\n",
      "        [1, 1, 1,  ..., 0, 0, 0]])}\n",
      "{'label': tensor([1, 1, 1, 0, 0, 0, 1, 0, 1, 1, 1, 1, 1, 1, 0, 0]), 'input_ids': tensor([[    0,  5096,    35,  ...,     1,     1,     1],\n",
      "        [    0,  1039, 12105,  ...,     1,     1,     1],\n",
      "        [    0, 38398,   219,  ...,     1,     1,     1],\n",
      "        ...,\n",
      "        [    0,  1039, 12105,  ...,     1,     1,     1],\n",
      "        [    0,  5975,  6908,  ...,     1,     1,     1],\n",
      "        [    0,  1039, 12105,  ...,     1,     1,     1]]), 'attention_mask': tensor([[1, 1, 1,  ..., 0, 0, 0],\n",
      "        [1, 1, 1,  ..., 0, 0, 0],\n",
      "        [1, 1, 1,  ..., 0, 0, 0],\n",
      "        ...,\n",
      "        [1, 1, 1,  ..., 0, 0, 0],\n",
      "        [1, 1, 1,  ..., 0, 0, 0],\n",
      "        [1, 1, 1,  ..., 0, 0, 0]])}\n",
      "{'label': tensor([1, 1, 1, 0, 0, 0, 1, 1, 1, 1, 1, 0, 0, 1, 1, 1]), 'input_ids': tensor([[    0, 10733,    10,  ...,     1,     1,     1],\n",
      "        [    0, 39961,   184,  ...,     1,     1,     1],\n",
      "        [    0, 23314,   925,  ...,     1,     1,     1],\n",
      "        ...,\n",
      "        [    0,   100,   437,  ...,     1,     1,     1],\n",
      "        [    0, 12582, 42644,  ...,     1,     1,     1],\n",
      "        [    0,  1039, 12105,  ...,     1,     1,     1]]), 'attention_mask': tensor([[1, 1, 1,  ..., 0, 0, 0],\n",
      "        [1, 1, 1,  ..., 0, 0, 0],\n",
      "        [1, 1, 1,  ..., 0, 0, 0],\n",
      "        ...,\n",
      "        [1, 1, 1,  ..., 0, 0, 0],\n",
      "        [1, 1, 1,  ..., 0, 0, 0],\n",
      "        [1, 1, 1,  ..., 0, 0, 0]])}\n",
      "{'label': tensor([1, 0, 1, 1, 0, 1, 1, 1, 1, 1, 1, 1, 1, 0, 0, 1]), 'input_ids': tensor([[    0,  1039, 12105,  ...,     1,     1,     1],\n",
      "        [    0,  1039, 12105,  ...,     1,     1,     1],\n",
      "        [    0, 18636, 10659,  ...,     1,     1,     1],\n",
      "        ...,\n",
      "        [    0, 13040,    14,  ...,     1,     1,     1],\n",
      "        [    0,   170,   202,  ...,     1,     1,     1],\n",
      "        [    0, 46790,  1339,  ...,     1,     1,     1]]), 'attention_mask': tensor([[1, 1, 1,  ..., 0, 0, 0],\n",
      "        [1, 1, 1,  ..., 0, 0, 0],\n",
      "        [1, 1, 1,  ..., 0, 0, 0],\n",
      "        ...,\n",
      "        [1, 1, 1,  ..., 0, 0, 0],\n",
      "        [1, 1, 1,  ..., 0, 0, 0],\n",
      "        [1, 1, 1,  ..., 0, 0, 0]])}\n",
      "{'label': tensor([1, 0, 0, 0, 0, 0, 1, 1, 1, 1, 0, 0, 1, 1, 1, 0]), 'input_ids': tensor([[    0, 43952,     5,  ...,     1,     1,     1],\n",
      "        [    0,   250,   182,  ...,     1,     1,     1],\n",
      "        [    0,  1039, 12105,  ...,     1,     1,     1],\n",
      "        ...,\n",
      "        [    0,  1039, 12105,  ...,     1,     1,     1],\n",
      "        [    0, 12116,  3441,  ...,     1,     1,     1],\n",
      "        [    0,  1039, 12105,  ...,     1,     1,     1]]), 'attention_mask': tensor([[1, 1, 1,  ..., 0, 0, 0],\n",
      "        [1, 1, 1,  ..., 0, 0, 0],\n",
      "        [1, 1, 1,  ..., 0, 0, 0],\n",
      "        ...,\n",
      "        [1, 1, 1,  ..., 0, 0, 0],\n",
      "        [1, 1, 1,  ..., 0, 0, 0],\n",
      "        [1, 1, 1,  ..., 0, 0, 0]])}\n",
      "{'label': tensor([0, 0, 1, 1, 1, 1, 1, 0, 0, 0, 0, 0, 0, 1, 0, 1]), 'input_ids': tensor([[    0,  1106,   849,  ...,     1,     1,     1],\n",
      "        [    0, 10431, 16625,  ...,     1,     1,     1],\n",
      "        [    0, 29413,   350,  ...,     1,     1,     1],\n",
      "        ...,\n",
      "        [    0,  2264,    10,  ...,     1,     1,     1],\n",
      "        [    0, 17779,   975,  ...,     1,     1,     1],\n",
      "        [    0, 12455,   127,  ...,     1,     1,     1]]), 'attention_mask': tensor([[1, 1, 1,  ..., 0, 0, 0],\n",
      "        [1, 1, 1,  ..., 0, 0, 0],\n",
      "        [1, 1, 1,  ..., 0, 0, 0],\n",
      "        ...,\n",
      "        [1, 1, 1,  ..., 0, 0, 0],\n",
      "        [1, 1, 1,  ..., 0, 0, 0],\n",
      "        [1, 1, 1,  ..., 0, 0, 0]])}\n",
      "{'label': tensor([1, 0, 1, 0, 1, 0, 1, 0, 0, 1, 1, 0, 0, 0, 0, 1]), 'input_ids': tensor([[    0, 35416,  2410,  ...,     1,     1,     1],\n",
      "        [    0,  1039, 12105,  ...,     1,     1,     1],\n",
      "        [    0,   448, 11228,  ...,     1,     1,     1],\n",
      "        ...,\n",
      "        [    0,  7199,    10,  ...,     1,     1,     1],\n",
      "        [    0,  6785,   450,  ...,     1,     1,     1],\n",
      "        [    0,   133,   934,  ...,     1,     1,     1]]), 'attention_mask': tensor([[1, 1, 1,  ..., 0, 0, 0],\n",
      "        [1, 1, 1,  ..., 0, 0, 0],\n",
      "        [1, 1, 1,  ..., 0, 0, 0],\n",
      "        ...,\n",
      "        [1, 1, 1,  ..., 0, 0, 0],\n",
      "        [1, 1, 1,  ..., 0, 0, 0],\n",
      "        [1, 1, 1,  ..., 0, 0, 0]])}\n",
      "{'label': tensor([0, 1, 0, 0, 1, 0, 1, 1, 0, 0, 1, 0, 0, 1, 0, 1]), 'input_ids': tensor([[    0,  4030,  1611,  ...,     1,     1,     1],\n",
      "        [    0, 34057,  2378,  ...,     1,     1,     1],\n",
      "        [    0,   100, 10383,  ...,     1,     1,     1],\n",
      "        ...,\n",
      "        [    0, 16587, 15500,  ...,     1,     1,     1],\n",
      "        [    0,  1039, 12105,  ...,     1,     1,     1],\n",
      "        [    0,  1039, 12105,  ...,     1,     1,     1]]), 'attention_mask': tensor([[1, 1, 1,  ..., 0, 0, 0],\n",
      "        [1, 1, 1,  ..., 0, 0, 0],\n",
      "        [1, 1, 1,  ..., 0, 0, 0],\n",
      "        ...,\n",
      "        [1, 1, 1,  ..., 0, 0, 0],\n",
      "        [1, 1, 1,  ..., 0, 0, 0],\n",
      "        [1, 1, 1,  ..., 0, 0, 0]])}\n",
      "{'label': tensor([0, 0, 1, 0, 1, 0, 0, 1, 0, 1, 0, 0, 0, 0, 1, 1]), 'input_ids': tensor([[    0, 10431,  3654,  ...,     1,     1,     1],\n",
      "        [    0,  1039, 12105,  ...,     1,     1,     1],\n",
      "        [    0,  1039, 12105,  ...,     1,     1,     1],\n",
      "        ...,\n",
      "        [    0, 18074, 35968,  ...,     1,     1,     1],\n",
      "        [    0,  6785,  4813,  ...,     1,     1,     1],\n",
      "        [    0,  1039, 12105,  ...,     1,     1,     1]]), 'attention_mask': tensor([[1, 1, 1,  ..., 0, 0, 0],\n",
      "        [1, 1, 1,  ..., 0, 0, 0],\n",
      "        [1, 1, 1,  ..., 0, 0, 0],\n",
      "        ...,\n",
      "        [1, 1, 1,  ..., 0, 0, 0],\n",
      "        [1, 1, 1,  ..., 0, 0, 0],\n",
      "        [1, 1, 1,  ..., 0, 0, 0]])}\n",
      "{'label': tensor([1, 0, 0, 0, 0, 0, 1, 0, 1, 1, 1, 1, 0, 0, 1, 0]), 'input_ids': tensor([[    0,   534,  1942,  ...,     1,     1,     1],\n",
      "        [    0,  1039, 12105,  ...,     1,     1,     1],\n",
      "        [    0,  1039, 12105,  ...,     1,     1,     1],\n",
      "        ...,\n",
      "        [    0,   100,   218,  ...,     1,     1,     1],\n",
      "        [    0,   100,   437,  ...,     1,     1,     1],\n",
      "        [    0,  1039, 12105,  ...,     1,     1,     1]]), 'attention_mask': tensor([[1, 1, 1,  ..., 0, 0, 0],\n",
      "        [1, 1, 1,  ..., 0, 0, 0],\n",
      "        [1, 1, 1,  ..., 0, 0, 0],\n",
      "        ...,\n",
      "        [1, 1, 1,  ..., 0, 0, 0],\n",
      "        [1, 1, 1,  ..., 0, 0, 0],\n",
      "        [1, 1, 1,  ..., 0, 0, 0]])}\n",
      "{'label': tensor([1, 1, 1, 1, 0, 1, 1, 1, 1, 1, 0, 1, 0, 0, 0, 0]), 'input_ids': tensor([[    0,   250,  8728,  ...,     1,     1,     1],\n",
      "        [    0,  1039, 12105,  ...,     1,     1,     1],\n",
      "        [    0,  1039, 12105,  ...,     1,     1,     1],\n",
      "        ...,\n",
      "        [    0,   243,    18,  ...,     1,     1,     1],\n",
      "        [    0,   534, 16037,  ...,     1,     1,     1],\n",
      "        [    0, 16587,   352,  ...,     1,     1,     1]]), 'attention_mask': tensor([[1, 1, 1,  ..., 0, 0, 0],\n",
      "        [1, 1, 1,  ..., 0, 0, 0],\n",
      "        [1, 1, 1,  ..., 0, 0, 0],\n",
      "        ...,\n",
      "        [1, 1, 1,  ..., 0, 0, 0],\n",
      "        [1, 1, 1,  ..., 0, 0, 0],\n",
      "        [1, 1, 1,  ..., 0, 0, 0]])}\n",
      "{'label': tensor([0, 1, 0, 1, 1, 1, 0, 1, 0, 0, 1, 0, 0, 1, 0, 1]), 'input_ids': tensor([[    0, 14181, 17234,  ...,     1,     1,     1],\n",
      "        [    0,   100,   218,  ...,     1,     1,     1],\n",
      "        [    0,   415,  4996,  ...,     1,     1,     1],\n",
      "        ...,\n",
      "        [    0, 46236,     6,  ...,     1,     1,     1],\n",
      "        [    0,   530,  3209,  ...,     1,     1,     1],\n",
      "        [    0,  1039, 12105,  ...,     1,     1,     1]]), 'attention_mask': tensor([[1, 1, 1,  ..., 0, 0, 0],\n",
      "        [1, 1, 1,  ..., 0, 0, 0],\n",
      "        [1, 1, 1,  ..., 0, 0, 0],\n",
      "        ...,\n",
      "        [1, 1, 1,  ..., 0, 0, 0],\n",
      "        [1, 1, 1,  ..., 0, 0, 0],\n",
      "        [1, 1, 1,  ..., 0, 0, 0]])}\n",
      "{'label': tensor([0, 1, 0, 1, 0, 1, 1, 0, 0, 1, 0, 1, 0, 1, 1, 1]), 'input_ids': tensor([[    0,  3479,     7,  ...,     1,     1,     1],\n",
      "        [    0, 27524,     7,  ...,     1,     1,     1],\n",
      "        [    0,  1039, 12105,  ...,     1,     1,     1],\n",
      "        ...,\n",
      "        [    0,  1039, 12105,  ...,     1,     1,     1],\n",
      "        [    0, 19065,   169,  ...,     1,     1,     1],\n",
      "        [    0, 33722,    54,  ...,     1,     1,     1]]), 'attention_mask': tensor([[1, 1, 1,  ..., 0, 0, 0],\n",
      "        [1, 1, 1,  ..., 0, 0, 0],\n",
      "        [1, 1, 1,  ..., 0, 0, 0],\n",
      "        ...,\n",
      "        [1, 1, 1,  ..., 0, 0, 0],\n",
      "        [1, 1, 1,  ..., 0, 0, 0],\n",
      "        [1, 1, 1,  ..., 0, 0, 0]])}\n",
      "{'label': tensor([0, 0, 0, 1, 0, 1, 0, 0, 1, 0, 0, 1, 0, 1, 1, 1]), 'input_ids': tensor([[    0,   250,   432,  ...,     1,     1,     1],\n",
      "        [    0, 35587,  5686,  ...,     1,     1,     1],\n",
      "        [    0, 18760,    83,  ...,     1,     1,     1],\n",
      "        ...,\n",
      "        [    0, 27524,     7,  ...,     1,     1,     1],\n",
      "        [    0, 30327,  1415,  ...,     1,     1,     1],\n",
      "        [    0,   243,    18,  ...,     1,     1,     1]]), 'attention_mask': tensor([[1, 1, 1,  ..., 0, 0, 0],\n",
      "        [1, 1, 1,  ..., 0, 0, 0],\n",
      "        [1, 1, 1,  ..., 0, 0, 0],\n",
      "        ...,\n",
      "        [1, 1, 1,  ..., 0, 0, 0],\n",
      "        [1, 1, 1,  ..., 0, 0, 0],\n",
      "        [1, 1, 1,  ..., 0, 0, 0]])}\n",
      "{'label': tensor([0, 1, 0, 1, 0, 0, 1, 0, 0, 1, 1, 0, 0, 1, 1, 1]), 'input_ids': tensor([[    0,  2264,    10,  ...,     1,     1,     1],\n",
      "        [    0,  1039, 12105,  ...,     1,     1,     1],\n",
      "        [    0,  1708,    24,  ...,     1,     1,     1],\n",
      "        ...,\n",
      "        [    0, 10431, 19952,  ...,     1,     1,     1],\n",
      "        [    0, 36583,  4226,  ...,     1,     1,     1],\n",
      "        [    0,   176,   705,  ...,     1,     1,     1]]), 'attention_mask': tensor([[1, 1, 1,  ..., 0, 0, 0],\n",
      "        [1, 1, 1,  ..., 0, 0, 0],\n",
      "        [1, 1, 1,  ..., 0, 0, 0],\n",
      "        ...,\n",
      "        [1, 1, 1,  ..., 0, 0, 0],\n",
      "        [1, 1, 1,  ..., 0, 0, 0],\n",
      "        [1, 1, 1,  ..., 0, 0, 0]])}\n",
      "{'label': tensor([1, 1, 0, 0, 1, 1, 1, 0, 1, 0, 1, 1, 0, 0, 0, 0]), 'input_ids': tensor([[    0,   574,  1168,  ...,     1,     1,     1],\n",
      "        [    0, 33105,   543,  ...,     1,     1,     1],\n",
      "        [    0,  1039, 12105,  ...,     1,     1,     1],\n",
      "        ...,\n",
      "        [    0,   368,    33,  ...,     1,     1,     1],\n",
      "        [    0,  2264,    18,  ...,     1,     1,     1],\n",
      "        [    0, 33895, 42929,  ...,     1,     1,     1]]), 'attention_mask': tensor([[1, 1, 1,  ..., 0, 0, 0],\n",
      "        [1, 1, 1,  ..., 0, 0, 0],\n",
      "        [1, 1, 1,  ..., 0, 0, 0],\n",
      "        ...,\n",
      "        [1, 1, 1,  ..., 0, 0, 0],\n",
      "        [1, 1, 1,  ..., 0, 0, 0],\n",
      "        [1, 1, 1,  ..., 0, 0, 0]])}\n",
      "{'label': tensor([0, 1, 0, 0, 1, 1, 0, 0, 0, 0, 1, 0, 0, 1, 1, 1]), 'input_ids': tensor([[    0,   534,  1069,  ...,     1,     1,     1],\n",
      "        [    0,  1039, 12105,  ...,     1,     1,     1],\n",
      "        [    0,   108, 10431,  ...,     1,     1,     1],\n",
      "        ...,\n",
      "        [    0, 16587,    24,  ...,     1,     1,     1],\n",
      "        [    0, 10285,   183,  ...,     1,     1,     1],\n",
      "        [    0, 13987,  1840,  ...,     1,     1,     1]]), 'attention_mask': tensor([[1, 1, 1,  ..., 0, 0, 0],\n",
      "        [1, 1, 1,  ..., 0, 0, 0],\n",
      "        [1, 1, 1,  ..., 0, 0, 0],\n",
      "        ...,\n",
      "        [1, 1, 1,  ..., 0, 0, 0],\n",
      "        [1, 1, 1,  ..., 0, 0, 0],\n",
      "        [1, 1, 1,  ..., 0, 0, 0]])}\n",
      "{'label': tensor([1, 0, 0, 1, 1, 0, 0, 0, 1, 0, 1, 0, 1, 1, 0, 0]), 'input_ids': tensor([[    0,  2515,  1317,  ...,     1,     1,     1],\n",
      "        [    0, 31133,  8020,  ...,     1,     1,     1],\n",
      "        [    0,  1039, 12105,  ...,     1,     1,     1],\n",
      "        ...,\n",
      "        [    0,  1039, 12105,  ...,     1,     1,     1],\n",
      "        [    0,  4528,  1972,  ...,     1,     1,     1],\n",
      "        [    0,  6323,   849,  ...,     1,     1,     1]]), 'attention_mask': tensor([[1, 1, 1,  ..., 0, 0, 0],\n",
      "        [1, 1, 1,  ..., 0, 0, 0],\n",
      "        [1, 1, 1,  ..., 0, 0, 0],\n",
      "        ...,\n",
      "        [1, 1, 1,  ..., 0, 0, 0],\n",
      "        [1, 1, 1,  ..., 0, 0, 0],\n",
      "        [1, 1, 1,  ..., 0, 0, 0]])}\n",
      "{'label': tensor([0, 0, 1, 0, 0, 0, 1, 0, 0, 1, 0, 1, 1, 1, 0, 1]), 'input_ids': tensor([[    0, 11329, 18957,  ...,     1,     1,     1],\n",
      "        [    0,  1039, 12105,  ...,     1,     1,     1],\n",
      "        [    0,  8346,     4,  ...,     1,     1,     1],\n",
      "        ...,\n",
      "        [    0, 15833,   328,  ...,     1,     1,     1],\n",
      "        [    0, 10836,    38,  ...,     1,     1,     1],\n",
      "        [    0,  4763,    11,  ...,     1,     1,     1]]), 'attention_mask': tensor([[1, 1, 1,  ..., 0, 0, 0],\n",
      "        [1, 1, 1,  ..., 0, 0, 0],\n",
      "        [1, 1, 1,  ..., 0, 0, 0],\n",
      "        ...,\n",
      "        [1, 1, 1,  ..., 0, 0, 0],\n",
      "        [1, 1, 1,  ..., 0, 0, 0],\n",
      "        [1, 1, 1,  ..., 0, 0, 0]])}\n",
      "{'label': tensor([0, 1, 0, 0, 1, 0, 1, 1, 1, 1, 0, 1, 0, 0, 0, 1]), 'input_ids': tensor([[    0, 19847,   357,  ...,     1,     1,     1],\n",
      "        [    0, 40183, 11523,  ...,     1,     1,     1],\n",
      "        [    0, 14287,     5,  ...,     1,     1,     1],\n",
      "        ...,\n",
      "        [    0,   100,   524,  ...,     1,     1,     1],\n",
      "        [    0,  1039, 12105,  ...,     1,     1,     1],\n",
      "        [    0, 42691, 20909,  ...,     1,     1,     1]]), 'attention_mask': tensor([[1, 1, 1,  ..., 0, 0, 0],\n",
      "        [1, 1, 1,  ..., 0, 0, 0],\n",
      "        [1, 1, 1,  ..., 0, 0, 0],\n",
      "        ...,\n",
      "        [1, 1, 1,  ..., 0, 0, 0],\n",
      "        [1, 1, 1,  ..., 0, 0, 0],\n",
      "        [1, 1, 1,  ..., 0, 0, 0]])}\n",
      "{'label': tensor([0, 1, 1, 0, 1, 0, 1, 0, 0, 0, 1, 1, 0, 1, 0, 0]), 'input_ids': tensor([[    0,  2387,  1086,  ...,     1,     1,     1],\n",
      "        [    0,  8987,  1882,  ...,     1,     1,     1],\n",
      "        [    0,  1039, 12105,  ...,     1,     1,     1],\n",
      "        ...,\n",
      "        [    0,  2847,  2579,  ...,     1,     1,     1],\n",
      "        [    0,  1039, 12105,  ...,     1,     1,     1],\n",
      "        [    0, 10431, 28713,  ...,     1,     1,     1]]), 'attention_mask': tensor([[1, 1, 1,  ..., 0, 0, 0],\n",
      "        [1, 1, 1,  ..., 0, 0, 0],\n",
      "        [1, 1, 1,  ..., 0, 0, 0],\n",
      "        ...,\n",
      "        [1, 1, 1,  ..., 0, 0, 0],\n",
      "        [1, 1, 1,  ..., 0, 0, 0],\n",
      "        [1, 1, 1,  ..., 0, 0, 0]])}\n",
      "{'label': tensor([1, 0, 0, 1, 1, 1, 1, 0, 1, 1, 1, 1, 0, 0, 0, 1]), 'input_ids': tensor([[    0,   100,   437,  ...,     1,     1,     1],\n",
      "        [    0,   243,    21,  ...,     1,     1,     1],\n",
      "        [    0, 43889,    16,  ...,     1,     1,     1],\n",
      "        ...,\n",
      "        [    0, 10431,  3654,  ...,     1,     1,     1],\n",
      "        [    0,  1039, 12105,  ...,     1,     1,     1],\n",
      "        [    0,  5320,  5858,  ...,     1,     1,     1]]), 'attention_mask': tensor([[1, 1, 1,  ..., 0, 0, 0],\n",
      "        [1, 1, 1,  ..., 0, 0, 0],\n",
      "        [1, 1, 1,  ..., 0, 0, 0],\n",
      "        ...,\n",
      "        [1, 1, 1,  ..., 0, 0, 0],\n",
      "        [1, 1, 1,  ..., 0, 0, 0],\n",
      "        [1, 1, 1,  ..., 0, 0, 0]])}\n",
      "{'label': tensor([0, 0, 1, 1, 1, 0, 0, 0, 1, 0, 1, 0, 0, 0, 0, 0]), 'input_ids': tensor([[    0,  1039, 12105,  ...,     1,     1,     1],\n",
      "        [    0,  1708,     9,  ...,     1,     1,     1],\n",
      "        [    0,  3056, 29942,  ...,     1,     1,     1],\n",
      "        ...,\n",
      "        [    0,  1039, 12105,  ...,     1,     1,     1],\n",
      "        [    0, 10431, 25997,  ...,     1,     1,     1],\n",
      "        [    0,  1039, 12105,  ...,     1,     1,     1]]), 'attention_mask': tensor([[1, 1, 1,  ..., 0, 0, 0],\n",
      "        [1, 1, 1,  ..., 0, 0, 0],\n",
      "        [1, 1, 1,  ..., 0, 0, 0],\n",
      "        ...,\n",
      "        [1, 1, 1,  ..., 0, 0, 0],\n",
      "        [1, 1, 1,  ..., 0, 0, 0],\n",
      "        [1, 1, 1,  ..., 0, 0, 0]])}\n",
      "{'label': tensor([1, 1, 1, 0, 1, 1, 0, 1, 1, 0, 0, 1, 0, 0, 1, 0]), 'input_ids': tensor([[    0,  1039, 12105,  ...,     1,     1,     1],\n",
      "        [    0,  1039, 12105,  ...,     1,     1,     1],\n",
      "        [    0,  1039, 12105,  ...,     1,     1,     1],\n",
      "        ...,\n",
      "        [    0, 22174,  1207,  ...,     1,     1,     1],\n",
      "        [    0, 39287,    31,  ...,     1,     1,     1],\n",
      "        [    0, 13624,    38,  ...,     1,     1,     1]]), 'attention_mask': tensor([[1, 1, 1,  ..., 0, 0, 0],\n",
      "        [1, 1, 1,  ..., 0, 0, 0],\n",
      "        [1, 1, 1,  ..., 0, 0, 0],\n",
      "        ...,\n",
      "        [1, 1, 1,  ..., 0, 0, 0],\n",
      "        [1, 1, 1,  ..., 0, 0, 0],\n",
      "        [1, 1, 1,  ..., 0, 0, 0]])}\n",
      "{'label': tensor([0, 0, 1, 0, 1, 0, 1, 1, 1, 1, 1, 1, 1, 1, 1, 0]), 'input_ids': tensor([[    0,  1039, 12105,  ...,     1,     1,     1],\n",
      "        [    0,   530, 10432,  ...,     1,     1,     1],\n",
      "        [    0,   100,   657,  ...,     1,     1,     1],\n",
      "        ...,\n",
      "        [    0,  1039, 12105,  ...,     1,     1,     1],\n",
      "        [    0,  1039, 12105,  ...,     1,     1,     1],\n",
      "        [    0,  1039, 12105,  ...,     1,     1,     1]]), 'attention_mask': tensor([[1, 1, 1,  ..., 0, 0, 0],\n",
      "        [1, 1, 1,  ..., 0, 0, 0],\n",
      "        [1, 1, 1,  ..., 0, 0, 0],\n",
      "        ...,\n",
      "        [1, 1, 1,  ..., 0, 0, 0],\n",
      "        [1, 1, 1,  ..., 0, 0, 0],\n",
      "        [1, 1, 1,  ..., 0, 0, 0]])}\n",
      "{'label': tensor([0, 1, 1, 0, 1, 1, 0, 1, 0, 0, 0, 0, 0, 1, 0, 0]), 'input_ids': tensor([[    0,   243,    18,  ...,     1,     1,     1],\n",
      "        [    0,  1039, 12105,  ...,     1,     1,     1],\n",
      "        [    0,  9178,   457,  ...,     1,     1,     1],\n",
      "        ...,\n",
      "        [    0,   100,   437,  ...,     1,     1,     1],\n",
      "        [    0,  7608,   524,  ...,     1,     1,     1],\n",
      "        [    0, 23329, 23726,  ...,     1,     1,     1]]), 'attention_mask': tensor([[1, 1, 1,  ..., 0, 0, 0],\n",
      "        [1, 1, 1,  ..., 0, 0, 0],\n",
      "        [1, 1, 1,  ..., 0, 0, 0],\n",
      "        ...,\n",
      "        [1, 1, 1,  ..., 0, 0, 0],\n",
      "        [1, 1, 1,  ..., 0, 0, 0],\n",
      "        [1, 1, 1,  ..., 0, 0, 0]])}\n",
      "{'label': tensor([1, 1, 0, 1, 1, 1, 1, 1, 1, 0, 0, 0, 1, 0, 0, 0]), 'input_ids': tensor([[    0,  1039, 12105,  ...,     1,     1,     1],\n",
      "        [    0,   100,   657,  ...,     1,     1,     1],\n",
      "        [    0,   133, 18292,  ...,     1,     1,     1],\n",
      "        ...,\n",
      "        [    0,  1039, 12105,  ...,     1,     1,     1],\n",
      "        [    0,   725,   246,  ...,     1,     1,     1],\n",
      "        [    0,   133,   251,  ...,     1,     1,     1]]), 'attention_mask': tensor([[1, 1, 1,  ..., 0, 0, 0],\n",
      "        [1, 1, 1,  ..., 0, 0, 0],\n",
      "        [1, 1, 1,  ..., 0, 0, 0],\n",
      "        ...,\n",
      "        [1, 1, 1,  ..., 0, 0, 0],\n",
      "        [1, 1, 1,  ..., 0, 0, 0],\n",
      "        [1, 1, 1,  ..., 0, 0, 0]])}\n",
      "{'label': tensor([0, 0, 0, 0, 0, 0, 1, 1, 1, 1, 1, 1, 0, 0, 0, 0]), 'input_ids': tensor([[    0, 10431,   574,  ...,     1,     1,     1],\n",
      "        [    0,  6323,    82,  ...,     1,     1,     1],\n",
      "        [    0, 12375,    18,  ...,     1,     1,     1],\n",
      "        ...,\n",
      "        [    0, 10431, 12196,  ...,     1,     1,     1],\n",
      "        [    0,  1039, 12105,  ...,     1,     1,     1],\n",
      "        [    0,  1039, 12105,  ...,     1,     1,     1]]), 'attention_mask': tensor([[1, 1, 1,  ..., 0, 0, 0],\n",
      "        [1, 1, 1,  ..., 0, 0, 0],\n",
      "        [1, 1, 1,  ..., 0, 0, 0],\n",
      "        ...,\n",
      "        [1, 1, 1,  ..., 0, 0, 0],\n",
      "        [1, 1, 1,  ..., 0, 0, 0],\n",
      "        [1, 1, 1,  ..., 0, 0, 0]])}\n",
      "{'label': tensor([0, 0, 1, 1, 1, 0, 0, 1, 0, 0, 0, 1, 1, 0, 0, 1]), 'input_ids': tensor([[    0, 10431, 26902,  ...,     1,     1,     1],\n",
      "        [    0, 48342,   560,  ...,     1,     1,     1],\n",
      "        [    0, 16587,   447,  ...,     1,     1,     1],\n",
      "        ...,\n",
      "        [    0, 14696, 17752,  ...,     1,     1,     1],\n",
      "        [    0, 10431,  3654,  ...,     1,     1,     1],\n",
      "        [    0,   771, 10852,  ...,     1,     1,     1]]), 'attention_mask': tensor([[1, 1, 1,  ..., 0, 0, 0],\n",
      "        [1, 1, 1,  ..., 0, 0, 0],\n",
      "        [1, 1, 1,  ..., 0, 0, 0],\n",
      "        ...,\n",
      "        [1, 1, 1,  ..., 0, 0, 0],\n",
      "        [1, 1, 1,  ..., 0, 0, 0],\n",
      "        [1, 1, 1,  ..., 0, 0, 0]])}\n",
      "{'label': tensor([1, 0, 0, 0, 0, 1, 1, 0, 0, 1, 1, 1, 1, 1, 0, 1]), 'input_ids': tensor([[    0,  1039, 12105,  ...,     1,     1,     1],\n",
      "        [    0,  1039, 12105,  ...,     1,     1,     1],\n",
      "        [    0,   100,   300,  ...,     1,     1,     1],\n",
      "        ...,\n",
      "        [    0,   970,    16,  ...,     1,     1,     1],\n",
      "        [    0,  9518, 12573,  ...,     1,     1,     1],\n",
      "        [    0, 11674, 41029,  ...,     1,     1,     1]]), 'attention_mask': tensor([[1, 1, 1,  ..., 0, 0, 0],\n",
      "        [1, 1, 1,  ..., 0, 0, 0],\n",
      "        [1, 1, 1,  ..., 0, 0, 0],\n",
      "        ...,\n",
      "        [1, 1, 1,  ..., 0, 0, 0],\n",
      "        [1, 1, 1,  ..., 0, 0, 0],\n",
      "        [1, 1, 1,  ..., 0, 0, 0]])}\n",
      "{'label': tensor([0, 0, 0, 0, 0, 1, 0, 1, 1, 0, 1, 0, 1, 1, 1, 0]), 'input_ids': tensor([[    0,  3632,   500,  ...,     1,     1,     1],\n",
      "        [    0,  1039, 12105,  ...,     1,     1,     1],\n",
      "        [    0,  2387,  8786,  ...,     1,     1,     1],\n",
      "        ...,\n",
      "        [    0,   170, 39011,  ...,     1,     1,     1],\n",
      "        [    0,  1039, 12105,  ...,     1,     1,     1],\n",
      "        [    0, 10431, 15685,  ...,     1,     1,     1]]), 'attention_mask': tensor([[1, 1, 1,  ..., 0, 0, 0],\n",
      "        [1, 1, 1,  ..., 0, 0, 0],\n",
      "        [1, 1, 1,  ..., 0, 0, 0],\n",
      "        ...,\n",
      "        [1, 1, 1,  ..., 0, 0, 0],\n",
      "        [1, 1, 1,  ..., 0, 0, 0],\n",
      "        [1, 1, 1,  ..., 0, 0, 0]])}\n",
      "{'label': tensor([0, 0, 0, 1, 1, 0, 1, 0, 0, 1, 1, 1, 1, 0, 1, 0]), 'input_ids': tensor([[    0,   387,  1208,  ...,     1,     1,     1],\n",
      "        [    0, 10431, 14721,  ...,     1,     1,     1],\n",
      "        [    0, 10431,  1708,  ...,     1,     1,     1],\n",
      "        ...,\n",
      "        [    0,  1039, 12105,  ...,     1,     1,     1],\n",
      "        [    0,  7516,   372,  ...,     1,     1,     1],\n",
      "        [    0,  1039, 12105,  ...,     1,     1,     1]]), 'attention_mask': tensor([[1, 1, 1,  ..., 0, 0, 0],\n",
      "        [1, 1, 1,  ..., 0, 0, 0],\n",
      "        [1, 1, 1,  ..., 0, 0, 0],\n",
      "        ...,\n",
      "        [1, 1, 1,  ..., 0, 0, 0],\n",
      "        [1, 1, 1,  ..., 0, 0, 0],\n",
      "        [1, 1, 1,  ..., 0, 0, 0]])}\n",
      "{'label': tensor([1, 1, 0, 1, 0, 0, 1, 1, 0, 1, 1, 0, 0, 1, 1, 1]), 'input_ids': tensor([[    0,  1039, 12105,  ...,     1,     1,     1],\n",
      "        [    0,  1039, 12105,  ...,     1,     1,     1],\n",
      "        [    0,  1039, 12105,  ...,     1,     1,     1],\n",
      "        ...,\n",
      "        [    0,   176,   112,  ...,     1,     1,     1],\n",
      "        [    0,   574, 13871,  ...,     1,     1,     1],\n",
      "        [    0, 27298,   930,  ...,     1,     1,     1]]), 'attention_mask': tensor([[1, 1, 1,  ..., 0, 0, 0],\n",
      "        [1, 1, 1,  ..., 0, 0, 0],\n",
      "        [1, 1, 1,  ..., 0, 0, 0],\n",
      "        ...,\n",
      "        [1, 1, 1,  ..., 0, 0, 0],\n",
      "        [1, 1, 1,  ..., 0, 0, 0],\n",
      "        [1, 1, 1,  ..., 0, 0, 0]])}\n",
      "{'label': tensor([1, 1, 1, 1, 0, 0, 0, 1, 1, 1, 0, 0, 1, 1, 0, 1]), 'input_ids': tensor([[    0,  1039, 12105,  ...,     1,     1,     1],\n",
      "        [    0,   100,   657,  ...,     1,     1,     1],\n",
      "        [    0,  1039, 12105,  ...,     1,     1,     1],\n",
      "        ...,\n",
      "        [    0, 42380,  2820,  ...,     1,     1,     1],\n",
      "        [    0,  1039, 12105,  ...,     1,     1,     1],\n",
      "        [    0,    29, 47035,  ...,     1,     1,     1]]), 'attention_mask': tensor([[1, 1, 1,  ..., 0, 0, 0],\n",
      "        [1, 1, 1,  ..., 0, 0, 0],\n",
      "        [1, 1, 1,  ..., 0, 0, 0],\n",
      "        ...,\n",
      "        [1, 1, 1,  ..., 0, 0, 0],\n",
      "        [1, 1, 1,  ..., 0, 0, 0],\n",
      "        [1, 1, 1,  ..., 0, 0, 0]])}\n",
      "{'label': tensor([0, 0, 1, 0, 1, 0, 1, 0, 1, 1, 0, 1, 0, 0, 0, 0]), 'input_ids': tensor([[    0,  2387,   301,  ...,     1,     1,     1],\n",
      "        [    0,  1039, 12105,  ...,     1,     1,     1],\n",
      "        [    0, 21518,   183,  ...,     1,     1,     1],\n",
      "        ...,\n",
      "        [    0, 36128, 15611,  ...,     1,     1,     1],\n",
      "        [    0, 10836,   951,  ...,     1,     1,     1],\n",
      "        [    0,  7516,   117,  ...,     1,     1,     1]]), 'attention_mask': tensor([[1, 1, 1,  ..., 0, 0, 0],\n",
      "        [1, 1, 1,  ..., 0, 0, 0],\n",
      "        [1, 1, 1,  ..., 0, 0, 0],\n",
      "        ...,\n",
      "        [1, 1, 1,  ..., 0, 0, 0],\n",
      "        [1, 1, 1,  ..., 0, 0, 0],\n",
      "        [1, 1, 1,  ..., 0, 0, 0]])}\n",
      "{'label': tensor([0, 1, 0, 1, 0, 0, 0, 0, 0, 0, 0, 1, 1, 0, 1, 0]), 'input_ids': tensor([[    0,  1039, 12105,  ...,     1,     1,     1],\n",
      "        [    0,  1039, 12105,  ...,     1,     1,     1],\n",
      "        [    0, 17986,     6,  ...,     1,     1,     1],\n",
      "        ...,\n",
      "        [    0,  1039, 12105,  ...,     1,     1,     1],\n",
      "        [    0, 22174,   145,  ...,     1,     1,     1],\n",
      "        [    0, 10431, 28875,  ...,     1,     1,     1]]), 'attention_mask': tensor([[1, 1, 1,  ..., 0, 0, 0],\n",
      "        [1, 1, 1,  ..., 0, 0, 0],\n",
      "        [1, 1, 1,  ..., 0, 0, 0],\n",
      "        ...,\n",
      "        [1, 1, 1,  ..., 0, 0, 0],\n",
      "        [1, 1, 1,  ..., 0, 0, 0],\n",
      "        [1, 1, 1,  ..., 0, 0, 0]])}\n",
      "{'label': tensor([0, 1, 0, 1, 1, 1, 0, 0, 0, 0, 0, 1, 0, 0, 0, 1]), 'input_ids': tensor([[    0,   243,    18,  ...,     1,     1,     1],\n",
      "        [    0,   574,  1594,  ...,     1,     1,     1],\n",
      "        [    0,  6323,  2173,  ...,     1,     1,     1],\n",
      "        ...,\n",
      "        [    0,   100,   109,  ...,     1,     1,     1],\n",
      "        [    0,  1779,    38,  ...,     1,     1,     1],\n",
      "        [    0, 15725,    82,  ...,     1,     1,     1]]), 'attention_mask': tensor([[1, 1, 1,  ..., 0, 0, 0],\n",
      "        [1, 1, 1,  ..., 0, 0, 0],\n",
      "        [1, 1, 1,  ..., 0, 0, 0],\n",
      "        ...,\n",
      "        [1, 1, 1,  ..., 0, 0, 0],\n",
      "        [1, 1, 1,  ..., 0, 0, 0],\n",
      "        [1, 1, 1,  ..., 0, 0, 0]])}\n",
      "{'label': tensor([0, 1, 0, 1, 0, 1, 1, 1, 0, 1, 0, 1, 1, 0, 1, 1]), 'input_ids': tensor([[    0,  1039, 12105,  ...,     1,     1,     1],\n",
      "        [    0,  1039, 12105,  ...,     1,     1,     1],\n",
      "        [    0,  1039, 12105,  ...,     1,     1,     1],\n",
      "        ...,\n",
      "        [    0, 10431,  2847,  ...,     1,     1,     1],\n",
      "        [    0,   100,   619,  ...,     1,     1,     1],\n",
      "        [    0,   170,  6573,  ...,     1,     1,     1]]), 'attention_mask': tensor([[1, 1, 1,  ..., 0, 0, 0],\n",
      "        [1, 1, 1,  ..., 0, 0, 0],\n",
      "        [1, 1, 1,  ..., 0, 0, 0],\n",
      "        ...,\n",
      "        [1, 1, 1,  ..., 0, 0, 0],\n",
      "        [1, 1, 1,  ..., 0, 0, 0],\n",
      "        [1, 1, 1,  ..., 0, 0, 0]])}\n",
      "{'label': tensor([1, 0, 1, 1, 0, 0, 1, 1, 1, 0, 1, 0, 0, 0, 0, 1]), 'input_ids': tensor([[    0, 31231,    28,  ...,     1,     1,     1],\n",
      "        [    0,  1620,    10,  ...,     1,     1,     1],\n",
      "        [    0, 28750,   127,  ...,     1,     1,     1],\n",
      "        ...,\n",
      "        [    0,   100,   524,  ...,     1,     1,     1],\n",
      "        [    0,  1039, 12105,  ...,     1,     1,     1],\n",
      "        [    0,  1039, 12105,  ...,     1,     1,     1]]), 'attention_mask': tensor([[1, 1, 1,  ..., 0, 0, 0],\n",
      "        [1, 1, 1,  ..., 0, 0, 0],\n",
      "        [1, 1, 1,  ..., 0, 0, 0],\n",
      "        ...,\n",
      "        [1, 1, 1,  ..., 0, 0, 0],\n",
      "        [1, 1, 1,  ..., 0, 0, 0],\n",
      "        [1, 1, 1,  ..., 0, 0, 0]])}\n",
      "{'label': tensor([1, 0, 1, 0, 1, 0, 0, 0, 1, 0, 1, 1, 1, 0, 0, 0]), 'input_ids': tensor([[    0, 10781,   112,  ...,     1,     1,     1],\n",
      "        [    0,  1039, 12105,  ...,     1,     1,     1],\n",
      "        [    0,   863,  7139,  ...,     1,     1,     1],\n",
      "        ...,\n",
      "        [    0,  2387,  4252,  ...,     1,     1,     1],\n",
      "        [    0,  1039, 12105,  ...,     1,     1,     1],\n",
      "        [    0, 19843, 13389,  ...,     1,     1,     1]]), 'attention_mask': tensor([[1, 1, 1,  ..., 0, 0, 0],\n",
      "        [1, 1, 1,  ..., 0, 0, 0],\n",
      "        [1, 1, 1,  ..., 0, 0, 0],\n",
      "        ...,\n",
      "        [1, 1, 1,  ..., 0, 0, 0],\n",
      "        [1, 1, 1,  ..., 0, 0, 0],\n",
      "        [1, 1, 1,  ..., 0, 0, 0]])}\n",
      "{'label': tensor([0, 0, 1, 0, 0, 0, 0, 0, 1, 0, 1, 0, 0, 1, 0, 1]), 'input_ids': tensor([[    0,   100,   269,  ...,     1,     1,     1],\n",
      "        [    0,  5404,   264,  ...,     1,     1,     1],\n",
      "        [    0,   243,    18,  ...,     1,     1,     1],\n",
      "        ...,\n",
      "        [    0, 16587,   426,  ...,     1,     1,     1],\n",
      "        [    0,  1039, 12105,  ...,     1,     1,     1],\n",
      "        [    0,  1039, 12105,  ...,     1,     1,     1]]), 'attention_mask': tensor([[1, 1, 1,  ..., 0, 0, 0],\n",
      "        [1, 1, 1,  ..., 0, 0, 0],\n",
      "        [1, 1, 1,  ..., 0, 0, 0],\n",
      "        ...,\n",
      "        [1, 1, 1,  ..., 0, 0, 0],\n",
      "        [1, 1, 1,  ..., 0, 0, 0],\n",
      "        [1, 1, 1,  ..., 0, 0, 0]])}\n",
      "{'label': tensor([0, 0, 1, 1, 0, 1, 0, 1, 1, 1, 1, 0, 0, 1, 1, 1]), 'input_ids': tensor([[    0, 29802,     9,  ...,     1,     1,     1],\n",
      "        [    0,  1039, 12105,  ...,     1,     1,     1],\n",
      "        [    0,     4,  1039,  ...,     1,     1,     1],\n",
      "        ...,\n",
      "        [    0, 26402, 41147,  ...,     1,     1,     1],\n",
      "        [    0,  7516, 12631,  ...,     1,     1,     1],\n",
      "        [    0,  1039, 12105,  ...,     1,     1,     1]]), 'attention_mask': tensor([[1, 1, 1,  ..., 0, 0, 0],\n",
      "        [1, 1, 1,  ..., 0, 0, 0],\n",
      "        [1, 1, 1,  ..., 0, 0, 0],\n",
      "        ...,\n",
      "        [1, 1, 1,  ..., 0, 0, 0],\n",
      "        [1, 1, 1,  ..., 0, 0, 0],\n",
      "        [1, 1, 1,  ..., 0, 0, 0]])}\n",
      "{'label': tensor([1, 0, 1, 0, 0, 0, 0, 1, 1, 1, 1, 0, 1, 1, 1, 0]), 'input_ids': tensor([[    0,  1039, 12105,  ...,     1,     1,     1],\n",
      "        [    0,  1039, 12105,  ...,     1,     1,     1],\n",
      "        [    0,  1039, 12105,  ...,     1,     1,     1],\n",
      "        ...,\n",
      "        [    0, 16587,   447,  ...,     1,     1,     1],\n",
      "        [    0, 10431, 37185,  ...,     1,     1,     1],\n",
      "        [    0,  1039, 12105,  ...,     1,     1,     1]]), 'attention_mask': tensor([[1, 1, 1,  ..., 0, 0, 0],\n",
      "        [1, 1, 1,  ..., 0, 0, 0],\n",
      "        [1, 1, 1,  ..., 0, 0, 0],\n",
      "        ...,\n",
      "        [1, 1, 1,  ..., 0, 0, 0],\n",
      "        [1, 1, 1,  ..., 0, 0, 0],\n",
      "        [1, 1, 1,  ..., 0, 0, 0]])}\n",
      "{'label': tensor([0, 0, 1, 0, 1, 1, 0, 1, 0, 0, 1, 0, 1, 0, 0, 1]), 'input_ids': tensor([[    0,  1185,  2039,  ...,     1,     1,     1],\n",
      "        [    0, 31193, 27969,  ...,     1,     1,     1],\n",
      "        [    0,   170,   581,  ...,     1,     1,     1],\n",
      "        ...,\n",
      "        [    0, 43394, 13153,  ...,     1,     1,     1],\n",
      "        [    0,   243,    18,  ...,     1,     1,     1],\n",
      "        [    0,   243,    18,  ...,     1,     1,     1]]), 'attention_mask': tensor([[1, 1, 1,  ..., 0, 0, 0],\n",
      "        [1, 1, 1,  ..., 0, 0, 0],\n",
      "        [1, 1, 1,  ..., 0, 0, 0],\n",
      "        ...,\n",
      "        [1, 1, 1,  ..., 0, 0, 0],\n",
      "        [1, 1, 1,  ..., 0, 0, 0],\n",
      "        [1, 1, 1,  ..., 0, 0, 0]])}\n",
      "{'label': tensor([1, 0, 0, 1, 0, 0, 0, 0, 1, 1, 1, 0, 1, 0, 0, 0]), 'input_ids': tensor([[    0,  2847,    14,  ...,     1,     1,     1],\n",
      "        [    0, 22817,    15,  ...,     1,     1,     1],\n",
      "        [    0,  1711,    21,  ...,     1,     1,     1],\n",
      "        ...,\n",
      "        [    0,  1039, 12105,  ...,     1,     1,     1],\n",
      "        [    0,   100, 10745,  ...,     1,     1,     1],\n",
      "        [    0,   100,   240,  ...,     1,     1,     1]]), 'attention_mask': tensor([[1, 1, 1,  ..., 0, 0, 0],\n",
      "        [1, 1, 1,  ..., 0, 0, 0],\n",
      "        [1, 1, 1,  ..., 0, 0, 0],\n",
      "        ...,\n",
      "        [1, 1, 1,  ..., 0, 0, 0],\n",
      "        [1, 1, 1,  ..., 0, 0, 0],\n",
      "        [1, 1, 1,  ..., 0, 0, 0]])}\n",
      "{'label': tensor([0, 0, 1, 1, 1, 0, 0, 1, 0, 1, 0, 0, 0, 1, 1, 1]), 'input_ids': tensor([[    0, 40181,    10,  ...,     1,     1,     1],\n",
      "        [    0, 10431, 30872,  ...,     1,     1,     1],\n",
      "        [    0,  1039, 12105,  ...,     1,     1,     1],\n",
      "        ...,\n",
      "        [    0, 16587,     5,  ...,     1,     1,     1],\n",
      "        [    0,   100,   263,  ...,     1,     1,     1],\n",
      "        [    0,   975,   857,  ...,     1,     1,     1]]), 'attention_mask': tensor([[1, 1, 1,  ..., 0, 0, 0],\n",
      "        [1, 1, 1,  ..., 0, 0, 0],\n",
      "        [1, 1, 1,  ..., 0, 0, 0],\n",
      "        ...,\n",
      "        [1, 1, 1,  ..., 0, 0, 0],\n",
      "        [1, 1, 1,  ..., 0, 0, 0],\n",
      "        [1, 1, 1,  ..., 0, 0, 0]])}\n",
      "{'label': tensor([1, 0, 0, 0, 1, 1, 0, 0, 1, 0, 0, 0, 0, 1, 0, 0]), 'input_ids': tensor([[    0,  1711,    65,  ...,     1,     1,     1],\n",
      "        [    0, 37188,     7,  ...,     1,     1,     1],\n",
      "        [    0, 21031,   162,  ...,     1,     1,     1],\n",
      "        ...,\n",
      "        [    0,  1779,  1236,  ...,     1,     1,     1],\n",
      "        [    0,  1039, 12105,  ...,     1,     1,     1],\n",
      "        [    0,  5320, 44637,  ...,     1,     1,     1]]), 'attention_mask': tensor([[1, 1, 1,  ..., 0, 0, 0],\n",
      "        [1, 1, 1,  ..., 0, 0, 0],\n",
      "        [1, 1, 1,  ..., 0, 0, 0],\n",
      "        ...,\n",
      "        [1, 1, 1,  ..., 0, 0, 0],\n",
      "        [1, 1, 1,  ..., 0, 0, 0],\n",
      "        [1, 1, 1,  ..., 0, 0, 0]])}\n",
      "{'label': tensor([0, 0, 0, 0, 1, 1, 1, 1, 0, 0, 0, 0, 1, 1, 0, 1]), 'input_ids': tensor([[    0,  1039, 12105,  ...,     1,     1,     1],\n",
      "        [    0,  1039, 12105,  ...,     1,     1,     1],\n",
      "        [    0,  1039, 12105,  ...,     1,     1,     1],\n",
      "        ...,\n",
      "        [    0, 41541,     7,  ...,     1,     1,     1],\n",
      "        [    0,  1039, 12105,  ...,     1,     1,     1],\n",
      "        [    0,  5625,    38,  ...,     1,     1,     1]]), 'attention_mask': tensor([[1, 1, 1,  ..., 0, 0, 0],\n",
      "        [1, 1, 1,  ..., 0, 0, 0],\n",
      "        [1, 1, 1,  ..., 0, 0, 0],\n",
      "        ...,\n",
      "        [1, 1, 1,  ..., 0, 0, 0],\n",
      "        [1, 1, 1,  ..., 0, 0, 0],\n",
      "        [1, 1, 1,  ..., 0, 0, 0]])}\n",
      "{'label': tensor([1, 1, 0, 0, 0, 0, 1, 1, 0, 0, 0, 1, 1, 1, 1, 0]), 'input_ids': tensor([[    0,   118,   240,  ...,     1,     1,     1],\n",
      "        [    0,   104, 40386,  ...,     1,     1,     1],\n",
      "        [    0,  1039, 12105,  ...,     1,     1,     1],\n",
      "        ...,\n",
      "        [    0,   100,   657,  ...,     1,     1,     1],\n",
      "        [    0, 19847,   101,  ...,     1,     1,     1],\n",
      "        [    0,   627,    22,  ...,     1,     1,     1]]), 'attention_mask': tensor([[1, 1, 1,  ..., 0, 0, 0],\n",
      "        [1, 1, 1,  ..., 0, 0, 0],\n",
      "        [1, 1, 1,  ..., 0, 0, 0],\n",
      "        ...,\n",
      "        [1, 1, 1,  ..., 0, 0, 0],\n",
      "        [1, 1, 1,  ..., 0, 0, 0],\n",
      "        [1, 1, 1,  ..., 0, 0, 0]])}\n",
      "{'label': tensor([1, 1, 1, 0, 0, 0, 0, 0, 1, 0, 1, 0, 0, 0, 1, 0]), 'input_ids': tensor([[    0,  6785,   300,  ...,     1,     1,     1],\n",
      "        [    0,  2522, 17759,  ...,     1,     1,     1],\n",
      "        [    0, 22138,   254,  ...,     1,     1,     1],\n",
      "        ...,\n",
      "        [    0,   133,   930,  ...,     1,     1,     1],\n",
      "        [    0,  2847, 17529,  ...,     1,     1,     1],\n",
      "        [    0, 22985,     7,  ...,     1,     1,     1]]), 'attention_mask': tensor([[1, 1, 1,  ..., 0, 0, 0],\n",
      "        [1, 1, 1,  ..., 0, 0, 0],\n",
      "        [1, 1, 1,  ..., 0, 0, 0],\n",
      "        ...,\n",
      "        [1, 1, 1,  ..., 0, 0, 0],\n",
      "        [1, 1, 1,  ..., 0, 0, 0],\n",
      "        [1, 1, 1,  ..., 0, 0, 0]])}\n",
      "{'label': tensor([0, 0, 1, 0, 1, 1, 0, 0, 1, 0, 0, 0, 0, 0, 0, 0]), 'input_ids': tensor([[    0, 23372,    47,  ...,     1,     1,     1],\n",
      "        [    0,   133, 11355,  ...,     1,     1,     1],\n",
      "        [    0, 33722,    54,  ...,     1,     1,     1],\n",
      "        ...,\n",
      "        [    0,   133,  5274,  ...,     1,     1,     1],\n",
      "        [    0, 10431, 37248,  ...,     1,     1,     1],\n",
      "        [    0, 18622,  6664,  ...,     1,     1,     1]]), 'attention_mask': tensor([[1, 1, 1,  ..., 0, 0, 0],\n",
      "        [1, 1, 1,  ..., 0, 0, 0],\n",
      "        [1, 1, 1,  ..., 0, 0, 0],\n",
      "        ...,\n",
      "        [1, 1, 1,  ..., 0, 0, 0],\n",
      "        [1, 1, 1,  ..., 0, 0, 0],\n",
      "        [1, 1, 1,  ..., 0, 0, 0]])}\n",
      "{'label': tensor([1, 0, 1, 0, 1, 0, 0, 1, 0, 0, 1, 0, 0, 1, 1, 0]), 'input_ids': tensor([[    0, 33877,     6,  ...,     1,     1,     1],\n",
      "        [    0,  1039, 12105,  ...,     1,     1,     1],\n",
      "        [    0, 22532,  6426,  ...,     1,     1,     1],\n",
      "        ...,\n",
      "        [    0,   771,   523,  ...,     1,     1,     1],\n",
      "        [    0, 37188,    38,  ...,     1,     1,     1],\n",
      "        [    0, 11329, 17698,  ...,     1,     1,     1]]), 'attention_mask': tensor([[1, 1, 1,  ..., 0, 0, 0],\n",
      "        [1, 1, 1,  ..., 0, 0, 0],\n",
      "        [1, 1, 1,  ..., 0, 0, 0],\n",
      "        ...,\n",
      "        [1, 1, 1,  ..., 0, 0, 0],\n",
      "        [1, 1, 1,  ..., 0, 0, 0],\n",
      "        [1, 1, 1,  ..., 0, 0, 0]])}\n",
      "{'label': tensor([1, 0, 1, 0, 1, 1, 1, 1, 1, 1, 1, 0, 1, 0, 1, 1]), 'input_ids': tensor([[    0, 32523,   372,  ...,     1,     1,     1],\n",
      "        [    0,  1638,   857,  ...,     1,     1,     1],\n",
      "        [    0, 33382,  1072,  ...,     1,     1,     1],\n",
      "        ...,\n",
      "        [    0,   176,    10,  ...,     1,     1,     1],\n",
      "        [    0,  1039, 12105,  ...,     1,     1,     1],\n",
      "        [    0,  1039, 12105,  ...,     1,     1,     1]]), 'attention_mask': tensor([[1, 1, 1,  ..., 0, 0, 0],\n",
      "        [1, 1, 1,  ..., 0, 0, 0],\n",
      "        [1, 1, 1,  ..., 0, 0, 0],\n",
      "        ...,\n",
      "        [1, 1, 1,  ..., 0, 0, 0],\n",
      "        [1, 1, 1,  ..., 0, 0, 0],\n",
      "        [1, 1, 1,  ..., 0, 0, 0]])}\n",
      "{'label': tensor([1, 0, 0, 1, 0, 0, 1, 0, 0, 0, 1, 1, 0, 0, 0, 0]), 'input_ids': tensor([[    0,  1039, 12105,  ...,     1,     1,     1],\n",
      "        [    0,  1039, 12105,  ...,     1,     1,     1],\n",
      "        [    0,  1106,   110,  ...,     1,     1,     1],\n",
      "        ...,\n",
      "        [    0, 21461,   626,  ...,     1,     1,     1],\n",
      "        [    0,  1039, 12105,  ...,     1,     1,     1],\n",
      "        [    0,  1039, 12105,  ...,     1,     1,     1]]), 'attention_mask': tensor([[1, 1, 1,  ..., 0, 0, 0],\n",
      "        [1, 1, 1,  ..., 0, 0, 0],\n",
      "        [1, 1, 1,  ..., 0, 0, 0],\n",
      "        ...,\n",
      "        [1, 1, 1,  ..., 0, 0, 0],\n",
      "        [1, 1, 1,  ..., 0, 0, 0],\n",
      "        [1, 1, 1,  ..., 0, 0, 0]])}\n",
      "{'label': tensor([0, 0, 1, 0, 0, 0, 1, 1, 1, 0, 0, 1, 1, 1, 1, 1]), 'input_ids': tensor([[    0, 37188,    14,  ...,     1,     1,     1],\n",
      "        [    0,  1039, 12105,  ...,     1,     1,     1],\n",
      "        [    0, 44823,   562,  ...,     1,     1,     1],\n",
      "        ...,\n",
      "        [    0, 21190,   424,  ...,     1,     1,     1],\n",
      "        [    0,  1116,   768,  ...,     1,     1,     1],\n",
      "        [    0,  1039, 12105,  ...,     1,     1,     1]]), 'attention_mask': tensor([[1, 1, 1,  ..., 0, 0, 0],\n",
      "        [1, 1, 1,  ..., 0, 0, 0],\n",
      "        [1, 1, 1,  ..., 0, 0, 0],\n",
      "        ...,\n",
      "        [1, 1, 1,  ..., 0, 0, 0],\n",
      "        [1, 1, 1,  ..., 0, 0, 0],\n",
      "        [1, 1, 1,  ..., 0, 0, 0]])}\n",
      "{'label': tensor([1, 0, 0, 1, 1, 1, 0, 1, 0, 1, 0, 1, 1, 1, 1, 0]), 'input_ids': tensor([[    0, 39563,    13,  ...,     1,     1,     1],\n",
      "        [    0,   534, 16037,  ...,     1,     1,     1],\n",
      "        [    0,  2387,  3678,  ...,     1,     1,     1],\n",
      "        ...,\n",
      "        [    0,  1244, 14549,  ...,     1,     1,     1],\n",
      "        [    0,   597, 19678,  ...,     1,     1,     1],\n",
      "        [    0, 10431, 10494,  ...,     1,     1,     1]]), 'attention_mask': tensor([[1, 1, 1,  ..., 0, 0, 0],\n",
      "        [1, 1, 1,  ..., 0, 0, 0],\n",
      "        [1, 1, 1,  ..., 0, 0, 0],\n",
      "        ...,\n",
      "        [1, 1, 1,  ..., 0, 0, 0],\n",
      "        [1, 1, 1,  ..., 0, 0, 0],\n",
      "        [1, 1, 1,  ..., 0, 0, 0]])}\n",
      "{'label': tensor([1, 1, 1, 1, 1, 1, 1, 0, 1, 1, 0, 1, 0, 1, 0, 0]), 'input_ids': tensor([[    0,  1039, 12105,  ...,     1,     1,     1],\n",
      "        [    0,  5771,  3770,  ...,     1,     1,     1],\n",
      "        [    0,  1039, 12105,  ...,     1,     1,     1],\n",
      "        ...,\n",
      "        [    0, 29390,    35,  ...,     1,     1,     1],\n",
      "        [    0, 18064,  1945,  ...,     1,     1,     1],\n",
      "        [    0, 43188,   254,  ...,     1,     1,     1]]), 'attention_mask': tensor([[1, 1, 1,  ..., 0, 0, 0],\n",
      "        [1, 1, 1,  ..., 0, 0, 0],\n",
      "        [1, 1, 1,  ..., 0, 0, 0],\n",
      "        ...,\n",
      "        [1, 1, 1,  ..., 0, 0, 0],\n",
      "        [1, 1, 1,  ..., 0, 0, 0],\n",
      "        [1, 1, 1,  ..., 0, 0, 0]])}\n",
      "{'label': tensor([1, 0, 0, 0, 0, 0, 0, 0, 0, 0, 0, 1, 1, 1, 0, 1]), 'input_ids': tensor([[    0,   100,   657,  ...,     1,     1,     1],\n",
      "        [    0, 10431, 39556,  ...,     1,     1,     1],\n",
      "        [    0,  2387, 10802,  ...,     1,     1,     1],\n",
      "        ...,\n",
      "        [    0,   574, 31812,  ...,     1,     1,     1],\n",
      "        [    0,   100,    33,  ...,     1,     1,     1],\n",
      "        [    0,  1711,    18,  ...,     1,     1,     1]]), 'attention_mask': tensor([[1, 1, 1,  ..., 0, 0, 0],\n",
      "        [1, 1, 1,  ..., 0, 0, 0],\n",
      "        [1, 1, 1,  ..., 0, 0, 0],\n",
      "        ...,\n",
      "        [1, 1, 1,  ..., 0, 0, 0],\n",
      "        [1, 1, 1,  ..., 0, 0, 0],\n",
      "        [1, 1, 1,  ..., 0, 0, 0]])}\n",
      "{'label': tensor([0, 0, 0, 1, 0, 1, 0, 0, 1, 1, 0, 0, 1, 0, 1, 0]), 'input_ids': tensor([[    0, 31091,   154,  ...,     1,     1,     1],\n",
      "        [    0,   347,  3343,  ...,     1,     1,     1],\n",
      "        [    0, 21136,    92,  ...,     1,     1,     1],\n",
      "        ...,\n",
      "        [    0, 10431, 35863,  ...,     1,     1,     1],\n",
      "        [    0, 13987,    47,  ...,     1,     1,     1],\n",
      "        [    0,  1039, 12105,  ...,     1,     1,     1]]), 'attention_mask': tensor([[1, 1, 1,  ..., 0, 0, 0],\n",
      "        [1, 1, 1,  ..., 0, 0, 0],\n",
      "        [1, 1, 1,  ..., 0, 0, 0],\n",
      "        ...,\n",
      "        [1, 1, 1,  ..., 0, 0, 0],\n",
      "        [1, 1, 1,  ..., 0, 0, 0],\n",
      "        [1, 1, 1,  ..., 0, 0, 0]])}\n",
      "{'label': tensor([0, 0, 0, 0, 1, 0, 0, 0, 1, 1, 1, 0, 1, 0, 0, 0]), 'input_ids': tensor([[    0,  1039, 12105,  ...,     1,     1,     1],\n",
      "        [    0,  1106,    10,  ...,     1,     1,     1],\n",
      "        [    0,   250,  9896,  ...,     1,     1,     1],\n",
      "        ...,\n",
      "        [    0, 44055,  2678,  ...,     1,     1,     1],\n",
      "        [    0,  1039, 12105,  ...,     1,     1,     1],\n",
      "        [    0, 45636,    54,  ...,     1,     1,     1]]), 'attention_mask': tensor([[1, 1, 1,  ..., 0, 0, 0],\n",
      "        [1, 1, 1,  ..., 0, 0, 0],\n",
      "        [1, 1, 1,  ..., 0, 0, 0],\n",
      "        ...,\n",
      "        [1, 1, 1,  ..., 0, 0, 0],\n",
      "        [1, 1, 1,  ..., 0, 0, 0],\n",
      "        [1, 1, 1,  ..., 0, 0, 0]])}\n",
      "{'label': tensor([0, 0, 1, 0, 0, 0, 0, 0, 0, 1, 1, 0, 0, 1, 0, 0]), 'input_ids': tensor([[    0,  1039, 12105,  ...,     1,     1,     1],\n",
      "        [    0,  1039, 12105,  ...,     1,     1,     1],\n",
      "        [    0,   133,  2373,  ...,     1,     1,     1],\n",
      "        ...,\n",
      "        [    0,  1039, 12105,  ...,     1,     1,     1],\n",
      "        [    0,  2629,   129,  ...,     1,     1,     1],\n",
      "        [    0,  8987,   101,  ...,     1,     1,     1]]), 'attention_mask': tensor([[1, 1, 1,  ..., 0, 0, 0],\n",
      "        [1, 1, 1,  ..., 0, 0, 0],\n",
      "        [1, 1, 1,  ..., 0, 0, 0],\n",
      "        ...,\n",
      "        [1, 1, 1,  ..., 0, 0, 0],\n",
      "        [1, 1, 1,  ..., 0, 0, 0],\n",
      "        [1, 1, 1,  ..., 0, 0, 0]])}\n",
      "{'label': tensor([1, 0, 1, 0, 1, 1, 0, 0, 1, 1, 0, 0, 0, 1, 0, 0]), 'input_ids': tensor([[    0,   534, 16037,  ...,     1,     1,     1],\n",
      "        [    0, 10431,  2028,  ...,     1,     1,     1],\n",
      "        [    0,  2515,    26,  ...,     1,     1,     1],\n",
      "        ...,\n",
      "        [    0,  1039, 12105,  ...,     1,     1,     1],\n",
      "        [    0,  1039, 12105,  ...,     1,     1,     1],\n",
      "        [    0, 17986,   787,  ...,     1,     1,     1]]), 'attention_mask': tensor([[1, 1, 1,  ..., 0, 0, 0],\n",
      "        [1, 1, 1,  ..., 0, 0, 0],\n",
      "        [1, 1, 1,  ..., 0, 0, 0],\n",
      "        ...,\n",
      "        [1, 1, 1,  ..., 0, 0, 0],\n",
      "        [1, 1, 1,  ..., 0, 0, 0],\n",
      "        [1, 1, 1,  ..., 0, 0, 0]])}\n",
      "{'label': tensor([1, 0, 0, 0, 1, 0, 0, 0, 0, 1, 1, 0, 0, 0, 1, 0]), 'input_ids': tensor([[    0,  1039, 12105,  ...,     1,     1,     1],\n",
      "        [    0, 27524,     7,  ...,     1,     1,     1],\n",
      "        [    0,  1039, 12105,  ...,     1,     1,     1],\n",
      "        ...,\n",
      "        [    0, 22491,    34,  ...,     1,     1,     1],\n",
      "        [    0, 23996,   298,  ...,     1,     1,     1],\n",
      "        [    0,   100,  1034,  ...,     1,     1,     1]]), 'attention_mask': tensor([[1, 1, 1,  ..., 0, 0, 0],\n",
      "        [1, 1, 1,  ..., 0, 0, 0],\n",
      "        [1, 1, 1,  ..., 0, 0, 0],\n",
      "        ...,\n",
      "        [1, 1, 1,  ..., 0, 0, 0],\n",
      "        [1, 1, 1,  ..., 0, 0, 0],\n",
      "        [1, 1, 1,  ..., 0, 0, 0]])}\n",
      "{'label': tensor([1, 0, 1, 0, 0, 0, 0, 1, 1, 1, 0, 0, 0, 0, 0, 1]), 'input_ids': tensor([[    0,  1039, 12105,  ...,     1,     1,     1],\n",
      "        [    0,  1039, 12105,  ...,     1,     1,     1],\n",
      "        [    0,   387,  9547,  ...,     1,     1,     1],\n",
      "        ...,\n",
      "        [    0,   100,    21,  ...,     1,     1,     1],\n",
      "        [    0,  9058,  4994,  ...,     1,     1,     1],\n",
      "        [    0,   133,    94,  ...,     1,     1,     1]]), 'attention_mask': tensor([[1, 1, 1,  ..., 0, 0, 0],\n",
      "        [1, 1, 1,  ..., 0, 0, 0],\n",
      "        [1, 1, 1,  ..., 0, 0, 0],\n",
      "        ...,\n",
      "        [1, 1, 1,  ..., 0, 0, 0],\n",
      "        [1, 1, 1,  ..., 0, 0, 0],\n",
      "        [1, 1, 1,  ..., 0, 0, 0]])}\n",
      "{'label': tensor([1, 0, 1, 1, 1, 0, 0, 1, 1, 0, 0, 1, 1, 0, 0, 1]), 'input_ids': tensor([[    0,  1039, 12105,  ...,     1,     1,     1],\n",
      "        [    0, 20441,    18,  ...,     1,     1,     1],\n",
      "        [    0,  1039, 12105,  ...,     1,     1,     1],\n",
      "        ...,\n",
      "        [    0,  1039, 12105,  ...,     1,     1,     1],\n",
      "        [    0,   574,  1073,  ...,     1,     1,     1],\n",
      "        [    0,  1039, 12105,  ...,     1,     1,     1]]), 'attention_mask': tensor([[1, 1, 1,  ..., 0, 0, 0],\n",
      "        [1, 1, 1,  ..., 0, 0, 0],\n",
      "        [1, 1, 1,  ..., 0, 0, 0],\n",
      "        ...,\n",
      "        [1, 1, 1,  ..., 0, 0, 0],\n",
      "        [1, 1, 1,  ..., 0, 0, 0],\n",
      "        [1, 1, 1,  ..., 0, 0, 0]])}\n",
      "{'label': tensor([1, 1, 1, 1, 0, 1, 1, 0, 1, 1, 0, 1, 0, 1, 0, 1]), 'input_ids': tensor([[    0, 20328,    47,  ...,     1,     1,     1],\n",
      "        [    0, 10285,   183,  ...,     1,     1,     1],\n",
      "        [    0, 30219, 12638,  ...,     1,     1,     1],\n",
      "        ...,\n",
      "        [    0,  1039, 12105,  ...,     1,     1,     1],\n",
      "        [    0,   243,   115,  ...,     1,     1,     1],\n",
      "        [    0, 43294,  3483,  ...,     1,     1,     1]]), 'attention_mask': tensor([[1, 1, 1,  ..., 0, 0, 0],\n",
      "        [1, 1, 1,  ..., 0, 0, 0],\n",
      "        [1, 1, 1,  ..., 0, 0, 0],\n",
      "        ...,\n",
      "        [1, 1, 1,  ..., 0, 0, 0],\n",
      "        [1, 1, 1,  ..., 0, 0, 0],\n",
      "        [1, 1, 1,  ..., 0, 0, 0]])}\n",
      "{'label': tensor([0, 1, 0, 1, 0, 0, 0, 1, 0, 1, 1, 0, 0, 1, 1, 0]), 'input_ids': tensor([[    0,  7516,   356,  ...,     1,     1,     1],\n",
      "        [    0, 22763,   173,  ...,     1,     1,     1],\n",
      "        [    0,  1039, 12105,  ...,     1,     1,     1],\n",
      "        ...,\n",
      "        [    0,   133,  2373,  ...,     1,     1,     1],\n",
      "        [    0,   100,   348,  ...,     1,     1,     1],\n",
      "        [    0,  1039, 12105,  ...,     1,     1,     1]]), 'attention_mask': tensor([[1, 1, 1,  ..., 0, 0, 0],\n",
      "        [1, 1, 1,  ..., 0, 0, 0],\n",
      "        [1, 1, 1,  ..., 0, 0, 0],\n",
      "        ...,\n",
      "        [1, 1, 1,  ..., 0, 0, 0],\n",
      "        [1, 1, 1,  ..., 0, 0, 0],\n",
      "        [1, 1, 1,  ..., 0, 0, 0]])}\n",
      "{'label': tensor([0, 1, 1, 1, 1, 0, 0, 1, 1, 1, 1, 1, 0, 1, 0, 1]), 'input_ids': tensor([[    0,  2264,    41,  ...,     1,     1,     1],\n",
      "        [    0,  1039, 12105,  ...,     1,     1,     1],\n",
      "        [    0,  1039, 12105,  ...,     1,     1,     1],\n",
      "        ...,\n",
      "        [    0, 36535,    11,  ...,     1,     1,     1],\n",
      "        [    0,   771,  4581,  ...,     1,     1,     1],\n",
      "        [    0,  1039, 12105,  ...,     1,     1,     1]]), 'attention_mask': tensor([[1, 1, 1,  ..., 0, 0, 0],\n",
      "        [1, 1, 1,  ..., 0, 0, 0],\n",
      "        [1, 1, 1,  ..., 0, 0, 0],\n",
      "        ...,\n",
      "        [1, 1, 1,  ..., 0, 0, 0],\n",
      "        [1, 1, 1,  ..., 0, 0, 0],\n",
      "        [1, 1, 1,  ..., 0, 0, 0]])}\n",
      "{'label': tensor([1, 1, 1, 1, 1, 0, 0, 0, 0, 0, 1, 1, 1, 0, 0, 1]), 'input_ids': tensor([[    0,  1039, 12105,  ...,     1,     1,     1],\n",
      "        [    0,   133,  1437,  ...,     1,     1,     1],\n",
      "        [    0,   243,    18,  ...,     1,     1,     1],\n",
      "        ...,\n",
      "        [    0,  2411,    35,  ...,     1,     1,     1],\n",
      "        [    0,  1039, 12105,  ...,     1,     1,     1],\n",
      "        [    0, 29037, 10244,  ...,     1,     1,     1]]), 'attention_mask': tensor([[1, 1, 1,  ..., 0, 0, 0],\n",
      "        [1, 1, 1,  ..., 0, 0, 0],\n",
      "        [1, 1, 1,  ..., 0, 0, 0],\n",
      "        ...,\n",
      "        [1, 1, 1,  ..., 0, 0, 0],\n",
      "        [1, 1, 1,  ..., 0, 0, 0],\n",
      "        [1, 1, 1,  ..., 0, 0, 0]])}\n",
      "{'label': tensor([0, 0, 0, 0, 0, 0, 1, 0, 1, 1, 1, 1, 0, 1, 0, 0]), 'input_ids': tensor([[    0,   100,   348,  ...,     1,     1,     1],\n",
      "        [    0,  8287, 30757,  ...,     1,     1,     1],\n",
      "        [    0,  1039, 12105,  ...,     1,     1,     1],\n",
      "        ...,\n",
      "        [    0,  1039, 12105,  ...,     1,     1,     1],\n",
      "        [    0, 43041,    75,  ...,     1,     1,     1],\n",
      "        [    0,   100,   218,  ...,     1,     1,     1]]), 'attention_mask': tensor([[1, 1, 1,  ..., 0, 0, 0],\n",
      "        [1, 1, 1,  ..., 0, 0, 0],\n",
      "        [1, 1, 1,  ..., 0, 0, 0],\n",
      "        ...,\n",
      "        [1, 1, 1,  ..., 0, 0, 0],\n",
      "        [1, 1, 1,  ..., 0, 0, 0],\n",
      "        [1, 1, 1,  ..., 0, 0, 0]])}\n",
      "{'label': tensor([0, 0, 0, 0, 1, 1, 1, 0, 0, 0, 0, 1, 1, 1, 0, 1]), 'input_ids': tensor([[    0, 12350,   662,  ...,     1,     1,     1],\n",
      "        [    0,   574,  1168,  ...,     1,     1,     1],\n",
      "        [    0, 20823,  2553,  ...,     1,     1,     1],\n",
      "        ...,\n",
      "        [    0, 29287, 16170,  ...,     1,     1,     1],\n",
      "        [    0,  1039, 12105,  ...,     1,     1,     1],\n",
      "        [    0, 19847,   101,  ...,     1,     1,     1]]), 'attention_mask': tensor([[1, 1, 1,  ..., 0, 0, 0],\n",
      "        [1, 1, 1,  ..., 0, 0, 0],\n",
      "        [1, 1, 1,  ..., 0, 0, 0],\n",
      "        ...,\n",
      "        [1, 1, 1,  ..., 0, 0, 0],\n",
      "        [1, 1, 1,  ..., 0, 0, 0],\n",
      "        [1, 1, 1,  ..., 0, 0, 0]])}\n",
      "{'label': tensor([0, 0, 1, 1, 0, 1, 0, 1, 1, 0, 0, 1, 1, 1, 1, 0]), 'input_ids': tensor([[    0,  1039, 12105,  ...,     1,     1,     1],\n",
      "        [    0, 30055,  7188,  ...,     1,     1,     1],\n",
      "        [    0, 10365,   628,  ...,     1,     1,     1],\n",
      "        ...,\n",
      "        [    0,  4763,    23,  ...,     1,     1,     1],\n",
      "        [    0,   975, 44631,  ...,     1,     1,     1],\n",
      "        [    0,  1039, 12105,  ...,     1,     1,     1]]), 'attention_mask': tensor([[1, 1, 1,  ..., 0, 0, 0],\n",
      "        [1, 1, 1,  ..., 0, 0, 0],\n",
      "        [1, 1, 1,  ..., 0, 0, 0],\n",
      "        ...,\n",
      "        [1, 1, 1,  ..., 0, 0, 0],\n",
      "        [1, 1, 1,  ..., 0, 0, 0],\n",
      "        [1, 1, 1,  ..., 0, 0, 0]])}\n",
      "{'label': tensor([1, 0, 1, 1, 0, 0, 0, 0, 0, 1, 1, 1, 1, 1, 1, 1]), 'input_ids': tensor([[    0, 35901, 44631,  ...,     1,     1,     1],\n",
      "        [    0,  1039, 12105,  ...,     1,     1,     1],\n",
      "        [    0, 25130,   154,  ...,     1,     1,     1],\n",
      "        ...,\n",
      "        [    0, 19746,    62,  ...,     1,     1,     1],\n",
      "        [    0, 16033,  3402,  ...,     1,     1,     1],\n",
      "        [    0,  1039, 12105,  ...,     1,     1,     1]]), 'attention_mask': tensor([[1, 1, 1,  ..., 0, 0, 0],\n",
      "        [1, 1, 1,  ..., 0, 0, 0],\n",
      "        [1, 1, 1,  ..., 0, 0, 0],\n",
      "        ...,\n",
      "        [1, 1, 1,  ..., 0, 0, 0],\n",
      "        [1, 1, 1,  ..., 0, 0, 0],\n",
      "        [1, 1, 1,  ..., 0, 0, 0]])}\n",
      "{'label': tensor([0, 1, 1, 0, 0, 1, 0, 1, 0, 0, 0, 0, 1, 1, 0, 1]), 'input_ids': tensor([[    0, 13040,    89,  ...,     1,     1,     1],\n",
      "        [    0,  2387,  9377,  ...,     1,     1,     1],\n",
      "        [    0, 40084,    62,  ...,     1,     1,     1],\n",
      "        ...,\n",
      "        [    0,   100,   437,  ...,     1,     1,     1],\n",
      "        [    0,  1039, 12105,  ...,     1,     1,     1],\n",
      "        [    0,   975,   857,  ...,     1,     1,     1]]), 'attention_mask': tensor([[1, 1, 1,  ..., 0, 0, 0],\n",
      "        [1, 1, 1,  ..., 0, 0, 0],\n",
      "        [1, 1, 1,  ..., 0, 0, 0],\n",
      "        ...,\n",
      "        [1, 1, 1,  ..., 0, 0, 0],\n",
      "        [1, 1, 1,  ..., 0, 0, 0],\n",
      "        [1, 1, 1,  ..., 0, 0, 0]])}\n",
      "{'label': tensor([0, 0, 0, 1, 1, 1, 1, 1, 0, 0, 0, 1, 0, 1, 0, 0]), 'input_ids': tensor([[    0,   725,   895,  ...,     1,     1,     1],\n",
      "        [    0, 38580,   594,  ...,     1,     1,     1],\n",
      "        [    0,  1039, 12105,  ...,     1,     1,     1],\n",
      "        ...,\n",
      "        [    0,  6766,    75,  ...,     1,     1,     1],\n",
      "        [    0, 38191,    50,  ...,     1,     1,     1],\n",
      "        [    0,  1039, 12105,  ...,     1,     1,     1]]), 'attention_mask': tensor([[1, 1, 1,  ..., 0, 0, 0],\n",
      "        [1, 1, 1,  ..., 0, 0, 0],\n",
      "        [1, 1, 1,  ..., 0, 0, 0],\n",
      "        ...,\n",
      "        [1, 1, 1,  ..., 0, 0, 0],\n",
      "        [1, 1, 1,  ..., 0, 0, 0],\n",
      "        [1, 1, 1,  ..., 0, 0, 0]])}\n",
      "{'label': tensor([1, 1, 0, 0, 1, 1, 0, 0, 0, 0, 1, 1, 1, 0, 1, 0]), 'input_ids': tensor([[    0, 32523,   657,  ...,     1,     1,     1],\n",
      "        [    0,   725, 43555,  ...,     1,     1,     1],\n",
      "        [    0, 20982,    45,  ...,     1,     1,     1],\n",
      "        ...,\n",
      "        [    0,  1039, 12105,  ...,     1,     1,     1],\n",
      "        [    0,  1039, 12105,  ...,     1,     1,     1],\n",
      "        [    0,  1779,   951,  ...,     1,     1,     1]]), 'attention_mask': tensor([[1, 1, 1,  ..., 0, 0, 0],\n",
      "        [1, 1, 1,  ..., 0, 0, 0],\n",
      "        [1, 1, 1,  ..., 0, 0, 0],\n",
      "        ...,\n",
      "        [1, 1, 1,  ..., 0, 0, 0],\n",
      "        [1, 1, 1,  ..., 0, 0, 0],\n",
      "        [1, 1, 1,  ..., 0, 0, 0]])}\n",
      "{'label': tensor([0, 1, 1, 1, 0, 0, 0, 0, 0, 1, 0, 1, 1, 0, 0, 1]), 'input_ids': tensor([[    0,  2411,    35,  ...,     1,     1,     1],\n",
      "        [    0,   347,  1529,  ...,     1,     1,     1],\n",
      "        [    0, 41585,    71,  ...,     1,     1,     1],\n",
      "        ...,\n",
      "        [    0, 10431,   771,  ...,     1,     1,     1],\n",
      "        [    0, 10431,   530,  ...,     1,     1,     1],\n",
      "        [    0, 14891,  1051,  ...,     1,     1,     1]]), 'attention_mask': tensor([[1, 1, 1,  ..., 0, 0, 0],\n",
      "        [1, 1, 1,  ..., 0, 0, 0],\n",
      "        [1, 1, 1,  ..., 0, 0, 0],\n",
      "        ...,\n",
      "        [1, 1, 1,  ..., 0, 0, 0],\n",
      "        [1, 1, 1,  ..., 0, 0, 0],\n",
      "        [1, 1, 1,  ..., 0, 0, 0]])}\n",
      "{'label': tensor([0, 1, 1, 0, 0, 1, 0, 1, 0, 1, 1, 0, 1, 1, 0, 0]), 'input_ids': tensor([[    0,  1039, 12105,  ...,     1,     1,     1],\n",
      "        [    0,  1039, 12105,  ...,     1,     1,     1],\n",
      "        [    0,  1185,   269,  ...,     1,     1,     1],\n",
      "        ...,\n",
      "        [    0,   100,  5673,  ...,     1,     1,     1],\n",
      "        [    0,  1039, 12105,  ...,     1,     1,     1],\n",
      "        [    0, 27814, 21210,  ...,     1,     1,     1]]), 'attention_mask': tensor([[1, 1, 1,  ..., 0, 0, 0],\n",
      "        [1, 1, 1,  ..., 0, 0, 0],\n",
      "        [1, 1, 1,  ..., 0, 0, 0],\n",
      "        ...,\n",
      "        [1, 1, 1,  ..., 0, 0, 0],\n",
      "        [1, 1, 1,  ..., 0, 0, 0],\n",
      "        [1, 1, 1,  ..., 0, 0, 0]])}\n",
      "{'label': tensor([0, 1, 1, 0, 1, 1, 1, 1, 0, 1, 0, 1, 0, 0, 0, 0]), 'input_ids': tensor([[    0,  3320,   246,  ...,     1,     1,     1],\n",
      "        [    0,   424, 22736,  ...,     1,     1,     1],\n",
      "        [    0,  5625,    16,  ...,     1,     1,     1],\n",
      "        ...,\n",
      "        [    0,   100,    33,  ...,     1,     1,     1],\n",
      "        [    0,   176,  2620,  ...,     1,     1,     1],\n",
      "        [    0, 10431, 39556,  ...,     1,     1,     1]]), 'attention_mask': tensor([[1, 1, 1,  ..., 0, 0, 0],\n",
      "        [1, 1, 1,  ..., 0, 0, 0],\n",
      "        [1, 1, 1,  ..., 0, 0, 0],\n",
      "        ...,\n",
      "        [1, 1, 1,  ..., 0, 0, 0],\n",
      "        [1, 1, 1,  ..., 0, 0, 0],\n",
      "        [1, 1, 1,  ..., 0, 0, 0]])}\n",
      "{'label': tensor([1, 0, 1, 1, 1, 1, 1, 0, 0, 1, 0, 0, 0, 1, 0, 1]), 'input_ids': tensor([[    0,   100,   657,  ...,     1,     1,     1],\n",
      "        [    0,  1039, 12105,  ...,     1,     1,     1],\n",
      "        [    0,  1106,    89,  ...,     1,     1,     1],\n",
      "        ...,\n",
      "        [    0, 21674,     7,  ...,     1,     1,     1],\n",
      "        [    0,  8346,   452,  ...,     1,     1,     1],\n",
      "        [    0, 29375,    56,  ...,     1,     1,     1]]), 'attention_mask': tensor([[1, 1, 1,  ..., 0, 0, 0],\n",
      "        [1, 1, 1,  ..., 0, 0, 0],\n",
      "        [1, 1, 1,  ..., 0, 0, 0],\n",
      "        ...,\n",
      "        [1, 1, 1,  ..., 0, 0, 0],\n",
      "        [1, 1, 1,  ..., 0, 0, 0],\n",
      "        [1, 1, 1,  ..., 0, 0, 0]])}\n",
      "{'label': tensor([0, 1, 0, 0, 0, 1, 0, 1, 0, 1, 0, 0, 1, 1, 1, 1]), 'input_ids': tensor([[    0,  1039, 12105,  ...,     1,     1,     1],\n",
      "        [    0,   100,  2980,  ...,     1,     1,     1],\n",
      "        [    0,  1039, 12105,  ...,     1,     1,     1],\n",
      "        ...,\n",
      "        [    0,  1185,   489,  ...,     1,     1,     1],\n",
      "        [    0, 16587,   141,  ...,     1,     1,     1],\n",
      "        [    0, 43294,   128,  ...,     1,     1,     1]]), 'attention_mask': tensor([[1, 1, 1,  ..., 0, 0, 0],\n",
      "        [1, 1, 1,  ..., 0, 0, 0],\n",
      "        [1, 1, 1,  ..., 0, 0, 0],\n",
      "        ...,\n",
      "        [1, 1, 1,  ..., 0, 0, 0],\n",
      "        [1, 1, 1,  ..., 0, 0, 0],\n",
      "        [1, 1, 1,  ..., 0, 0, 0]])}\n",
      "{'label': tensor([0, 0, 1, 1, 0, 0, 0, 0, 1, 0, 0, 0, 1, 0, 0, 0]), 'input_ids': tensor([[    0, 10431, 15721,  ...,     1,     1,     1],\n",
      "        [    0,  4310,  9151,  ...,     1,     1,     1],\n",
      "        [    0,   243,    18,  ...,     1,     1,     1],\n",
      "        ...,\n",
      "        [    0,  1039, 12105,  ...,     1,     1,     1],\n",
      "        [    0,  1185,    64,  ...,     1,     1,     1],\n",
      "        [    0,  1039, 12105,  ...,     1,     1,     1]]), 'attention_mask': tensor([[1, 1, 1,  ..., 0, 0, 0],\n",
      "        [1, 1, 1,  ..., 0, 0, 0],\n",
      "        [1, 1, 1,  ..., 0, 0, 0],\n",
      "        ...,\n",
      "        [1, 1, 1,  ..., 0, 0, 0],\n",
      "        [1, 1, 1,  ..., 0, 0, 0],\n",
      "        [1, 1, 1,  ..., 0, 0, 0]])}\n",
      "{'label': tensor([1, 0, 1, 1, 0, 1, 0, 1, 0, 1, 1, 1, 1, 1, 0, 1]), 'input_ids': tensor([[    0,  1039, 12105,  ...,     1,     1,     1],\n",
      "        [    0, 45408, 26579,  ...,     1,     1,     1],\n",
      "        [    0,   243,    18,  ...,     1,     1,     1],\n",
      "        ...,\n",
      "        [    0,   100,   657,  ...,     1,     1,     1],\n",
      "        [    0, 28750,   127,  ...,     1,     1,     1],\n",
      "        [    0,  1039, 12105,  ...,     1,     1,     1]]), 'attention_mask': tensor([[1, 1, 1,  ..., 0, 0, 0],\n",
      "        [1, 1, 1,  ..., 0, 0, 0],\n",
      "        [1, 1, 1,  ..., 0, 0, 0],\n",
      "        ...,\n",
      "        [1, 1, 1,  ..., 0, 0, 0],\n",
      "        [1, 1, 1,  ..., 0, 0, 0],\n",
      "        [1, 1, 1,  ..., 0, 0, 0]])}\n",
      "{'label': tensor([0, 1, 1, 0, 1, 0, 1, 0, 1, 0, 1, 0, 0, 0, 1, 1]), 'input_ids': tensor([[    0,  2264,    21,  ...,     1,     1,     1],\n",
      "        [    0,  1711,  1151,  ...,     1,     1,     1],\n",
      "        [    0,   133,  5823,  ...,     1,     1,     1],\n",
      "        ...,\n",
      "        [    0,  1185,   214,  ...,     1,     1,     1],\n",
      "        [    0, 21461,  1619,  ...,     1,     1,     1],\n",
      "        [    0, 44855,  3034,  ...,     1,     1,     1]]), 'attention_mask': tensor([[1, 1, 1,  ..., 0, 0, 0],\n",
      "        [1, 1, 1,  ..., 0, 0, 0],\n",
      "        [1, 1, 1,  ..., 0, 0, 0],\n",
      "        ...,\n",
      "        [1, 1, 1,  ..., 0, 0, 0],\n",
      "        [1, 1, 1,  ..., 0, 0, 0],\n",
      "        [1, 1, 1,  ..., 0, 0, 0]])}\n",
      "{'label': tensor([1, 1, 0, 1, 1, 0, 0, 0, 1, 0, 0, 0, 1, 1, 0, 1]), 'input_ids': tensor([[    0,  1039, 12105,  ...,     1,     1,     1],\n",
      "        [    0,  1213,  4840,  ...,     1,     1,     1],\n",
      "        [    0,  2387,  3366,  ...,     1,     1,     1],\n",
      "        ...,\n",
      "        [    0,  1039, 12105,  ...,     1,     1,     1],\n",
      "        [    0, 10431,  3654,  ...,     1,     1,     1],\n",
      "        [    0, 33471,   181,  ...,     1,     1,     1]]), 'attention_mask': tensor([[1, 1, 1,  ..., 0, 0, 0],\n",
      "        [1, 1, 1,  ..., 0, 0, 0],\n",
      "        [1, 1, 1,  ..., 0, 0, 0],\n",
      "        ...,\n",
      "        [1, 1, 1,  ..., 0, 0, 0],\n",
      "        [1, 1, 1,  ..., 0, 0, 0],\n",
      "        [1, 1, 1,  ..., 0, 0, 0]])}\n",
      "{'label': tensor([1, 1, 0, 1, 0, 1, 1, 0, 1, 0, 0, 0, 0, 0, 0, 1]), 'input_ids': tensor([[    0,  2387,  3254,  ...,     1,     1,     1],\n",
      "        [    0, 11979,    47,  ...,     1,     1,     1],\n",
      "        [    0,   354,     5,  ...,     1,     1,     1],\n",
      "        ...,\n",
      "        [    0,  1039, 12105,  ...,     1,     1,     1],\n",
      "        [    0,   354,    95,  ...,     1,     1,     1],\n",
      "        [    0,   100,   619,  ...,     1,     1,     1]]), 'attention_mask': tensor([[1, 1, 1,  ..., 0, 0, 0],\n",
      "        [1, 1, 1,  ..., 0, 0, 0],\n",
      "        [1, 1, 1,  ..., 0, 0, 0],\n",
      "        ...,\n",
      "        [1, 1, 1,  ..., 0, 0, 0],\n",
      "        [1, 1, 1,  ..., 0, 0, 0],\n",
      "        [1, 1, 1,  ..., 0, 0, 0]])}\n",
      "{'label': tensor([0, 0, 1, 0, 0, 1, 1, 1, 1, 1, 0, 1, 0, 0, 0, 0]), 'input_ids': tensor([[    0, 10431,   330,  ...,     1,     1,     1],\n",
      "        [    0,  1039, 12105,  ...,     1,     1,     1],\n",
      "        [    0, 33382, 22879,  ...,     1,     1,     1],\n",
      "        ...,\n",
      "        [    0,  2515,    18,  ...,     1,     1,     1],\n",
      "        [    0, 26615,    66,  ...,     1,     1,     1],\n",
      "        [    0, 24877,    16,  ...,     1,     1,     1]]), 'attention_mask': tensor([[1, 1, 1,  ..., 0, 0, 0],\n",
      "        [1, 1, 1,  ..., 0, 0, 0],\n",
      "        [1, 1, 1,  ..., 0, 0, 0],\n",
      "        ...,\n",
      "        [1, 1, 1,  ..., 0, 0, 0],\n",
      "        [1, 1, 1,  ..., 0, 0, 0],\n",
      "        [1, 1, 1,  ..., 0, 0, 0]])}\n",
      "{'label': tensor([1, 0, 1, 1, 1, 0, 0, 0, 0, 0, 1, 0, 1, 0, 1, 0]), 'input_ids': tensor([[    0, 16587,    82,  ...,     1,     1,     1],\n",
      "        [    0,  1039, 12105,  ...,     1,     1,     1],\n",
      "        [    0, 21674,     7,  ...,     1,     1,     1],\n",
      "        ...,\n",
      "        [    0, 33295,   257,  ...,     1,     1,     1],\n",
      "        [    0,  3084,  1263,  ...,     1,     1,     1],\n",
      "        [    0,  1039, 12105,  ...,     1,     1,     1]]), 'attention_mask': tensor([[1, 1, 1,  ..., 0, 0, 0],\n",
      "        [1, 1, 1,  ..., 0, 0, 0],\n",
      "        [1, 1, 1,  ..., 0, 0, 0],\n",
      "        ...,\n",
      "        [1, 1, 1,  ..., 0, 0, 0],\n",
      "        [1, 1, 1,  ..., 0, 0, 0],\n",
      "        [1, 1, 1,  ..., 0, 0, 0]])}\n",
      "{'label': tensor([0, 1, 1, 1, 1, 1, 1, 0, 1, 1, 1, 0, 1, 1, 0, 0]), 'input_ids': tensor([[   0, 2387, 4556,  ...,    1,    1,    1],\n",
      "        [   0,  243,   18,  ...,    1,    1,    1],\n",
      "        [   0, 8346,  452,  ...,    1,    1,    1],\n",
      "        ...,\n",
      "        [   0,    4, 1039,  ...,    1,    1,    1],\n",
      "        [   0, 6323,   22,  ...,    1,    1,    1],\n",
      "        [   0,  100,  300,  ...,    1,    1,    1]]), 'attention_mask': tensor([[1, 1, 1,  ..., 0, 0, 0],\n",
      "        [1, 1, 1,  ..., 0, 0, 0],\n",
      "        [1, 1, 1,  ..., 0, 0, 0],\n",
      "        ...,\n",
      "        [1, 1, 1,  ..., 0, 0, 0],\n",
      "        [1, 1, 1,  ..., 0, 0, 0],\n",
      "        [1, 1, 1,  ..., 0, 0, 0]])}\n",
      "{'label': tensor([1, 1, 0, 1, 1, 0, 0, 0, 0, 1, 0, 0, 0, 1, 1, 0]), 'input_ids': tensor([[    0, 15852,    98,  ...,     1,     1,     1],\n",
      "        [    0,  7608, 32463,  ...,     1,     1,     1],\n",
      "        [    0,  1039, 12105,  ...,     1,     1,     1],\n",
      "        ...,\n",
      "        [    0,   133,  3666,  ...,     1,     1,     1],\n",
      "        [    0,   725,  9798,  ...,     1,     1,     1],\n",
      "        [    0, 14699,    13,  ...,     1,     1,     1]]), 'attention_mask': tensor([[1, 1, 1,  ..., 0, 0, 0],\n",
      "        [1, 1, 1,  ..., 0, 0, 0],\n",
      "        [1, 1, 1,  ..., 0, 0, 0],\n",
      "        ...,\n",
      "        [1, 1, 1,  ..., 0, 0, 0],\n",
      "        [1, 1, 1,  ..., 0, 0, 0],\n",
      "        [1, 1, 1,  ..., 0, 0, 0]])}\n",
      "{'label': tensor([1, 1, 0, 1, 1, 0, 0, 0, 0, 0, 1, 1, 1, 1]), 'input_ids': tensor([[    0,  1039, 12105,  ...,     1,     1,     1],\n",
      "        [    0,   100,   657,  ...,     1,     1,     1],\n",
      "        [    0,   387,   119,  ...,     1,     1,     1],\n",
      "        ...,\n",
      "        [    0,   100,    33,  ...,     1,     1,     1],\n",
      "        [    0,  1039, 12105,  ...,     1,     1,     1],\n",
      "        [    0, 25447,   631,  ...,     1,     1,     1]]), 'attention_mask': tensor([[1, 1, 1,  ..., 0, 0, 0],\n",
      "        [1, 1, 1,  ..., 0, 0, 0],\n",
      "        [1, 1, 1,  ..., 0, 0, 0],\n",
      "        ...,\n",
      "        [1, 1, 1,  ..., 0, 0, 0],\n",
      "        [1, 1, 1,  ..., 0, 0, 0],\n",
      "        [1, 1, 1,  ..., 0, 0, 0]])}\n"
     ]
    }
   ],
   "source": [
    "for batch in train_loader:\n",
    "    print(batch)\n"
   ],
   "metadata": {
    "collapsed": false
   }
  },
  {
   "cell_type": "code",
   "execution_count": 42,
   "outputs": [
    {
     "name": "stderr",
     "output_type": "stream",
     "text": [
      "Epoch 1/1:   1%|          | 1/179 [00:25<1:15:48, 25.55s/it]"
     ]
    },
    {
     "name": "stdout",
     "output_type": "stream",
     "text": [
      "Train Loss: 0.004, Train Acc: 0.562\r"
     ]
    },
    {
     "name": "stderr",
     "output_type": "stream",
     "text": [
      "Epoch 1/1:   1%|          | 2/179 [00:52<1:17:23, 26.24s/it]"
     ]
    },
    {
     "name": "stdout",
     "output_type": "stream",
     "text": [
      "Train Loss: 0.026, Train Acc: 0.656\r"
     ]
    },
    {
     "name": "stderr",
     "output_type": "stream",
     "text": [
      "Epoch 1/1:   2%|▏         | 3/179 [01:16<1:13:48, 25.16s/it]"
     ]
    },
    {
     "name": "stdout",
     "output_type": "stream",
     "text": [
      "Train Loss: 0.272, Train Acc: 0.583\r"
     ]
    },
    {
     "name": "stderr",
     "output_type": "stream",
     "text": [
      "Epoch 1/1:   2%|▏         | 4/179 [01:40<1:12:03, 24.70s/it]"
     ]
    },
    {
     "name": "stdout",
     "output_type": "stream",
     "text": [
      "Train Loss: 0.362, Train Acc: 0.562\r"
     ]
    },
    {
     "name": "stderr",
     "output_type": "stream",
     "text": [
      "Epoch 1/1:   3%|▎         | 5/179 [02:04<1:11:18, 24.59s/it]"
     ]
    },
    {
     "name": "stdout",
     "output_type": "stream",
     "text": [
      "Train Loss: 0.405, Train Acc: 0.588\r"
     ]
    },
    {
     "name": "stderr",
     "output_type": "stream",
     "text": [
      "Epoch 1/1:   3%|▎         | 6/179 [02:27<1:09:39, 24.16s/it]"
     ]
    },
    {
     "name": "stdout",
     "output_type": "stream",
     "text": [
      "Train Loss: 0.519, Train Acc: 0.594\r"
     ]
    },
    {
     "name": "stderr",
     "output_type": "stream",
     "text": [
      "Epoch 1/1:   4%|▍         | 7/179 [02:51<1:08:28, 23.89s/it]"
     ]
    },
    {
     "name": "stdout",
     "output_type": "stream",
     "text": [
      "Train Loss: 0.712, Train Acc: 0.571\r"
     ]
    },
    {
     "name": "stderr",
     "output_type": "stream",
     "text": [
      "Epoch 1/1:   4%|▍         | 8/179 [03:14<1:07:40, 23.75s/it]"
     ]
    },
    {
     "name": "stdout",
     "output_type": "stream",
     "text": [
      "Train Loss: 0.823, Train Acc: 0.570\r"
     ]
    },
    {
     "name": "stderr",
     "output_type": "stream",
     "text": [
      "Epoch 1/1:   5%|▌         | 9/179 [03:38<1:07:14, 23.73s/it]"
     ]
    },
    {
     "name": "stdout",
     "output_type": "stream",
     "text": [
      "Train Loss: 0.897, Train Acc: 0.542\r"
     ]
    },
    {
     "name": "stderr",
     "output_type": "stream",
     "text": [
      "Epoch 1/1:   6%|▌         | 10/179 [04:06<1:10:45, 25.12s/it]"
     ]
    },
    {
     "name": "stdout",
     "output_type": "stream",
     "text": [
      "Train Loss: 0.938, Train Acc: 0.550\r"
     ]
    },
    {
     "name": "stderr",
     "output_type": "stream",
     "text": [
      "Epoch 1/1:   6%|▌         | 11/179 [04:29<1:08:49, 24.58s/it]"
     ]
    },
    {
     "name": "stdout",
     "output_type": "stream",
     "text": [
      "Train Loss: 1.092, Train Acc: 0.534\r"
     ]
    },
    {
     "name": "stderr",
     "output_type": "stream",
     "text": [
      "Epoch 1/1:   7%|▋         | 12/179 [04:53<1:07:28, 24.24s/it]"
     ]
    },
    {
     "name": "stdout",
     "output_type": "stream",
     "text": [
      "Train Loss: 1.228, Train Acc: 0.531\r"
     ]
    },
    {
     "name": "stderr",
     "output_type": "stream",
     "text": [
      "Epoch 1/1:   7%|▋         | 13/179 [05:17<1:06:50, 24.16s/it]"
     ]
    },
    {
     "name": "stdout",
     "output_type": "stream",
     "text": [
      "Train Loss: 1.342, Train Acc: 0.529\r"
     ]
    },
    {
     "name": "stderr",
     "output_type": "stream",
     "text": [
      "Epoch 1/1:   8%|▊         | 14/179 [05:40<1:05:52, 23.95s/it]"
     ]
    },
    {
     "name": "stdout",
     "output_type": "stream",
     "text": [
      "Train Loss: 1.423, Train Acc: 0.518\r"
     ]
    },
    {
     "name": "stderr",
     "output_type": "stream",
     "text": [
      "Epoch 1/1:   8%|▊         | 15/179 [06:04<1:05:34, 23.99s/it]"
     ]
    },
    {
     "name": "stdout",
     "output_type": "stream",
     "text": [
      "Train Loss: 1.435, Train Acc: 0.517\r"
     ]
    },
    {
     "name": "stderr",
     "output_type": "stream",
     "text": [
      "Epoch 1/1:   9%|▉         | 16/179 [06:28<1:05:07, 23.97s/it]"
     ]
    },
    {
     "name": "stdout",
     "output_type": "stream",
     "text": [
      "Train Loss: 1.490, Train Acc: 0.516\r"
     ]
    },
    {
     "name": "stderr",
     "output_type": "stream",
     "text": [
      "Epoch 1/1:   9%|▉         | 17/179 [06:52<1:04:09, 23.76s/it]"
     ]
    },
    {
     "name": "stdout",
     "output_type": "stream",
     "text": [
      "Train Loss: 1.568, Train Acc: 0.507\r"
     ]
    },
    {
     "name": "stderr",
     "output_type": "stream",
     "text": [
      "Epoch 1/1:  10%|█         | 18/179 [07:15<1:03:34, 23.69s/it]"
     ]
    },
    {
     "name": "stdout",
     "output_type": "stream",
     "text": [
      "Train Loss: 1.605, Train Acc: 0.507\r"
     ]
    },
    {
     "name": "stderr",
     "output_type": "stream",
     "text": [
      "Epoch 1/1:  11%|█         | 19/179 [07:39<1:03:11, 23.70s/it]"
     ]
    },
    {
     "name": "stdout",
     "output_type": "stream",
     "text": [
      "Train Loss: 1.616, Train Acc: 0.507\r"
     ]
    },
    {
     "name": "stderr",
     "output_type": "stream",
     "text": [
      "Epoch 1/1:  11%|█         | 20/179 [08:02<1:02:38, 23.64s/it]"
     ]
    },
    {
     "name": "stdout",
     "output_type": "stream",
     "text": [
      "Train Loss: 1.649, Train Acc: 0.506\r"
     ]
    },
    {
     "name": "stderr",
     "output_type": "stream",
     "text": [
      "Epoch 1/1:  12%|█▏        | 21/179 [08:26<1:02:14, 23.64s/it]"
     ]
    },
    {
     "name": "stdout",
     "output_type": "stream",
     "text": [
      "Train Loss: 1.673, Train Acc: 0.506\r"
     ]
    },
    {
     "name": "stderr",
     "output_type": "stream",
     "text": [
      "Epoch 1/1:  12%|█▏        | 22/179 [08:50<1:01:58, 23.69s/it]"
     ]
    },
    {
     "name": "stdout",
     "output_type": "stream",
     "text": [
      "Train Loss: 1.679, Train Acc: 0.506\r"
     ]
    },
    {
     "name": "stderr",
     "output_type": "stream",
     "text": [
      "Epoch 1/1:  13%|█▎        | 23/179 [09:14<1:01:51, 23.79s/it]"
     ]
    },
    {
     "name": "stdout",
     "output_type": "stream",
     "text": [
      "Train Loss: 1.696, Train Acc: 0.505\r"
     ]
    },
    {
     "name": "stderr",
     "output_type": "stream",
     "text": [
      "Epoch 1/1:  13%|█▎        | 24/179 [09:37<1:01:21, 23.75s/it]"
     ]
    },
    {
     "name": "stdout",
     "output_type": "stream",
     "text": [
      "Train Loss: 1.700, Train Acc: 0.513\r"
     ]
    },
    {
     "name": "stderr",
     "output_type": "stream",
     "text": [
      "Epoch 1/1:  14%|█▍        | 25/179 [10:01<1:00:54, 23.73s/it]"
     ]
    },
    {
     "name": "stdout",
     "output_type": "stream",
     "text": [
      "Train Loss: 1.712, Train Acc: 0.507\r"
     ]
    },
    {
     "name": "stderr",
     "output_type": "stream",
     "text": [
      "Epoch 1/1:  15%|█▍        | 26/179 [10:25<1:00:15, 23.63s/it]"
     ]
    },
    {
     "name": "stdout",
     "output_type": "stream",
     "text": [
      "Train Loss: 1.724, Train Acc: 0.502\r"
     ]
    },
    {
     "name": "stderr",
     "output_type": "stream",
     "text": [
      "Epoch 1/1:  15%|█▌        | 27/179 [10:48<59:59, 23.68s/it]  "
     ]
    },
    {
     "name": "stdout",
     "output_type": "stream",
     "text": [
      "Train Loss: 1.728, Train Acc: 0.507\r"
     ]
    },
    {
     "name": "stderr",
     "output_type": "stream",
     "text": [
      "Epoch 1/1:  16%|█▌        | 28/179 [11:12<59:28, 23.63s/it]"
     ]
    },
    {
     "name": "stdout",
     "output_type": "stream",
     "text": [
      "Train Loss: 1.745, Train Acc: 0.507\r"
     ]
    },
    {
     "name": "stderr",
     "output_type": "stream",
     "text": [
      "Epoch 1/1:  16%|█▌        | 29/179 [11:37<1:00:03, 24.02s/it]"
     ]
    },
    {
     "name": "stdout",
     "output_type": "stream",
     "text": [
      "Train Loss: 1.749, Train Acc: 0.513\r"
     ]
    },
    {
     "name": "stderr",
     "output_type": "stream",
     "text": [
      "Epoch 1/1:  17%|█▋        | 30/179 [12:00<59:17, 23.88s/it]  "
     ]
    },
    {
     "name": "stdout",
     "output_type": "stream",
     "text": [
      "Train Loss: 1.761, Train Acc: 0.510\r"
     ]
    },
    {
     "name": "stderr",
     "output_type": "stream",
     "text": [
      "Epoch 1/1:  17%|█▋        | 31/179 [12:24<58:37, 23.77s/it]"
     ]
    },
    {
     "name": "stdout",
     "output_type": "stream",
     "text": [
      "Train Loss: 1.765, Train Acc: 0.518\r"
     ]
    },
    {
     "name": "stderr",
     "output_type": "stream",
     "text": [
      "Epoch 1/1:  18%|█▊        | 32/179 [12:48<58:14, 23.77s/it]"
     ]
    },
    {
     "name": "stdout",
     "output_type": "stream",
     "text": [
      "Train Loss: 1.786, Train Acc: 0.514\r"
     ]
    },
    {
     "name": "stderr",
     "output_type": "stream",
     "text": [
      "Epoch 1/1:  18%|█▊        | 33/179 [13:12<58:27, 24.03s/it]"
     ]
    },
    {
     "name": "stdout",
     "output_type": "stream",
     "text": [
      "Train Loss: 1.791, Train Acc: 0.519\r"
     ]
    },
    {
     "name": "stderr",
     "output_type": "stream",
     "text": [
      "Epoch 1/1:  19%|█▉        | 34/179 [13:36<57:48, 23.92s/it]"
     ]
    },
    {
     "name": "stdout",
     "output_type": "stream",
     "text": [
      "Train Loss: 1.805, Train Acc: 0.515\r"
     ]
    },
    {
     "name": "stderr",
     "output_type": "stream",
     "text": [
      "Epoch 1/1:  20%|█▉        | 35/179 [14:00<57:14, 23.85s/it]"
     ]
    },
    {
     "name": "stdout",
     "output_type": "stream",
     "text": [
      "Train Loss: 1.821, Train Acc: 0.507\r"
     ]
    },
    {
     "name": "stderr",
     "output_type": "stream",
     "text": [
      "Epoch 1/1:  20%|██        | 36/179 [14:23<56:36, 23.75s/it]"
     ]
    },
    {
     "name": "stdout",
     "output_type": "stream",
     "text": [
      "Train Loss: 1.826, Train Acc: 0.509\r"
     ]
    },
    {
     "name": "stderr",
     "output_type": "stream",
     "text": [
      "Epoch 1/1:  21%|██        | 37/179 [14:47<56:11, 23.74s/it]"
     ]
    },
    {
     "name": "stdout",
     "output_type": "stream",
     "text": [
      "Train Loss: 1.831, Train Acc: 0.508\r"
     ]
    },
    {
     "name": "stderr",
     "output_type": "stream",
     "text": [
      "Epoch 1/1:  21%|██        | 38/179 [15:10<55:42, 23.70s/it]"
     ]
    },
    {
     "name": "stdout",
     "output_type": "stream",
     "text": [
      "Train Loss: 1.840, Train Acc: 0.507\r"
     ]
    },
    {
     "name": "stderr",
     "output_type": "stream",
     "text": [
      "Epoch 1/1:  22%|██▏       | 39/179 [15:34<55:16, 23.69s/it]"
     ]
    },
    {
     "name": "stdout",
     "output_type": "stream",
     "text": [
      "Train Loss: 1.844, Train Acc: 0.508\r"
     ]
    },
    {
     "name": "stderr",
     "output_type": "stream",
     "text": [
      "Epoch 1/1:  22%|██▏       | 40/179 [15:58<54:45, 23.64s/it]"
     ]
    },
    {
     "name": "stdout",
     "output_type": "stream",
     "text": [
      "Train Loss: 1.851, Train Acc: 0.512\r"
     ]
    },
    {
     "name": "stderr",
     "output_type": "stream",
     "text": [
      "Epoch 1/1:  23%|██▎       | 41/179 [16:21<54:21, 23.63s/it]"
     ]
    },
    {
     "name": "stdout",
     "output_type": "stream",
     "text": [
      "Train Loss: 1.856, Train Acc: 0.514\r"
     ]
    },
    {
     "name": "stderr",
     "output_type": "stream",
     "text": [
      "Epoch 1/1:  23%|██▎       | 42/179 [16:45<53:56, 23.63s/it]"
     ]
    },
    {
     "name": "stdout",
     "output_type": "stream",
     "text": [
      "Train Loss: 1.865, Train Acc: 0.513\r"
     ]
    },
    {
     "name": "stderr",
     "output_type": "stream",
     "text": [
      "Epoch 1/1:  24%|██▍       | 43/179 [17:09<53:58, 23.81s/it]"
     ]
    },
    {
     "name": "stdout",
     "output_type": "stream",
     "text": [
      "Train Loss: 1.870, Train Acc: 0.510\r"
     ]
    },
    {
     "name": "stderr",
     "output_type": "stream",
     "text": [
      "Epoch 1/1:  25%|██▍       | 44/179 [17:34<54:16, 24.12s/it]"
     ]
    },
    {
     "name": "stdout",
     "output_type": "stream",
     "text": [
      "Train Loss: 1.875, Train Acc: 0.506\r"
     ]
    },
    {
     "name": "stderr",
     "output_type": "stream",
     "text": [
      "Epoch 1/1:  25%|██▌       | 45/179 [17:59<54:32, 24.42s/it]"
     ]
    },
    {
     "name": "stdout",
     "output_type": "stream",
     "text": [
      "Train Loss: 1.881, Train Acc: 0.504\r"
     ]
    },
    {
     "name": "stderr",
     "output_type": "stream",
     "text": [
      "Epoch 1/1:  26%|██▌       | 46/179 [18:23<53:41, 24.22s/it]"
     ]
    },
    {
     "name": "stdout",
     "output_type": "stream",
     "text": [
      "Train Loss: 1.900, Train Acc: 0.501\r"
     ]
    },
    {
     "name": "stderr",
     "output_type": "stream",
     "text": [
      "Epoch 1/1:  26%|██▋       | 47/179 [18:47<52:55, 24.06s/it]"
     ]
    },
    {
     "name": "stdout",
     "output_type": "stream",
     "text": [
      "Train Loss: 1.904, Train Acc: 0.503\r"
     ]
    },
    {
     "name": "stderr",
     "output_type": "stream",
     "text": [
      "Epoch 1/1:  27%|██▋       | 48/179 [19:10<52:20, 23.97s/it]"
     ]
    },
    {
     "name": "stdout",
     "output_type": "stream",
     "text": [
      "Train Loss: 1.924, Train Acc: 0.503\r"
     ]
    },
    {
     "name": "stderr",
     "output_type": "stream",
     "text": [
      "Epoch 1/1:  27%|██▋       | 49/179 [19:34<51:48, 23.91s/it]"
     ]
    },
    {
     "name": "stdout",
     "output_type": "stream",
     "text": [
      "Train Loss: 1.937, Train Acc: 0.504\r"
     ]
    },
    {
     "name": "stderr",
     "output_type": "stream",
     "text": [
      "Epoch 1/1:  28%|██▊       | 50/179 [19:58<51:10, 23.80s/it]"
     ]
    },
    {
     "name": "stdout",
     "output_type": "stream",
     "text": [
      "Train Loss: 1.947, Train Acc: 0.505\r"
     ]
    },
    {
     "name": "stderr",
     "output_type": "stream",
     "text": [
      "Epoch 1/1:  28%|██▊       | 51/179 [20:24<52:38, 24.67s/it]"
     ]
    },
    {
     "name": "stdout",
     "output_type": "stream",
     "text": [
      "Train Loss: 1.957, Train Acc: 0.507\r"
     ]
    },
    {
     "name": "stderr",
     "output_type": "stream",
     "text": [
      "Epoch 1/1:  29%|██▉       | 52/179 [20:50<53:04, 25.08s/it]"
     ]
    },
    {
     "name": "stdout",
     "output_type": "stream",
     "text": [
      "Train Loss: 1.960, Train Acc: 0.511\r"
     ]
    },
    {
     "name": "stderr",
     "output_type": "stream",
     "text": [
      "Epoch 1/1:  30%|██▉       | 53/179 [21:14<51:34, 24.56s/it]"
     ]
    },
    {
     "name": "stdout",
     "output_type": "stream",
     "text": [
      "Train Loss: 1.964, Train Acc: 0.512\r"
     ]
    },
    {
     "name": "stderr",
     "output_type": "stream",
     "text": [
      "Epoch 1/1:  30%|███       | 54/179 [21:37<50:25, 24.20s/it]"
     ]
    },
    {
     "name": "stdout",
     "output_type": "stream",
     "text": [
      "Train Loss: 1.969, Train Acc: 0.512\r"
     ]
    },
    {
     "name": "stderr",
     "output_type": "stream",
     "text": [
      "Epoch 1/1:  31%|███       | 55/179 [22:01<49:48, 24.10s/it]"
     ]
    },
    {
     "name": "stdout",
     "output_type": "stream",
     "text": [
      "Train Loss: 1.974, Train Acc: 0.514\r"
     ]
    },
    {
     "name": "stderr",
     "output_type": "stream",
     "text": [
      "Epoch 1/1:  31%|███▏      | 56/179 [22:24<48:57, 23.88s/it]"
     ]
    },
    {
     "name": "stdout",
     "output_type": "stream",
     "text": [
      "Train Loss: 1.979, Train Acc: 0.516\r"
     ]
    },
    {
     "name": "stderr",
     "output_type": "stream",
     "text": [
      "Epoch 1/1:  32%|███▏      | 57/179 [22:48<48:13, 23.72s/it]"
     ]
    },
    {
     "name": "stdout",
     "output_type": "stream",
     "text": [
      "Train Loss: 1.985, Train Acc: 0.516\r"
     ]
    },
    {
     "name": "stderr",
     "output_type": "stream",
     "text": [
      "Epoch 1/1:  32%|███▏      | 58/179 [23:11<47:36, 23.61s/it]"
     ]
    },
    {
     "name": "stdout",
     "output_type": "stream",
     "text": [
      "Train Loss: 1.990, Train Acc: 0.517\r"
     ]
    },
    {
     "name": "stderr",
     "output_type": "stream",
     "text": [
      "Epoch 1/1:  33%|███▎      | 59/179 [23:35<47:23, 23.69s/it]"
     ]
    },
    {
     "name": "stdout",
     "output_type": "stream",
     "text": [
      "Train Loss: 1.995, Train Acc: 0.519\r"
     ]
    },
    {
     "name": "stderr",
     "output_type": "stream",
     "text": [
      "Epoch 1/1:  34%|███▎      | 60/179 [23:58<46:44, 23.57s/it]"
     ]
    },
    {
     "name": "stdout",
     "output_type": "stream",
     "text": [
      "Train Loss: 1.999, Train Acc: 0.520\r"
     ]
    },
    {
     "name": "stderr",
     "output_type": "stream",
     "text": [
      "Epoch 1/1:  34%|███▍      | 61/179 [24:21<46:12, 23.49s/it]"
     ]
    },
    {
     "name": "stdout",
     "output_type": "stream",
     "text": [
      "Train Loss: 2.006, Train Acc: 0.517\r"
     ]
    },
    {
     "name": "stderr",
     "output_type": "stream",
     "text": [
      "Epoch 1/1:  35%|███▍      | 62/179 [24:45<45:47, 23.48s/it]"
     ]
    },
    {
     "name": "stdout",
     "output_type": "stream",
     "text": [
      "Train Loss: 2.010, Train Acc: 0.521\r"
     ]
    },
    {
     "name": "stderr",
     "output_type": "stream",
     "text": [
      "Epoch 1/1:  35%|███▌      | 63/179 [25:08<45:21, 23.46s/it]"
     ]
    },
    {
     "name": "stdout",
     "output_type": "stream",
     "text": [
      "Train Loss: 2.024, Train Acc: 0.520\r"
     ]
    },
    {
     "name": "stderr",
     "output_type": "stream",
     "text": [
      "Epoch 1/1:  36%|███▌      | 64/179 [25:32<44:58, 23.47s/it]"
     ]
    },
    {
     "name": "stdout",
     "output_type": "stream",
     "text": [
      "Train Loss: 2.033, Train Acc: 0.521\r"
     ]
    },
    {
     "name": "stderr",
     "output_type": "stream",
     "text": [
      "Epoch 1/1:  36%|███▋      | 65/179 [25:55<44:31, 23.43s/it]"
     ]
    },
    {
     "name": "stdout",
     "output_type": "stream",
     "text": [
      "Train Loss: 2.043, Train Acc: 0.518\r"
     ]
    },
    {
     "name": "stderr",
     "output_type": "stream",
     "text": [
      "Epoch 1/1:  37%|███▋      | 66/179 [26:19<44:14, 23.49s/it]"
     ]
    },
    {
     "name": "stdout",
     "output_type": "stream",
     "text": [
      "Train Loss: 2.055, Train Acc: 0.522\r"
     ]
    },
    {
     "name": "stderr",
     "output_type": "stream",
     "text": [
      "Epoch 1/1:  37%|███▋      | 67/179 [26:43<44:28, 23.82s/it]"
     ]
    },
    {
     "name": "stdout",
     "output_type": "stream",
     "text": [
      "Train Loss: 2.093, Train Acc: 0.521\r"
     ]
    },
    {
     "name": "stderr",
     "output_type": "stream",
     "text": [
      "Epoch 1/1:  38%|███▊      | 68/179 [27:07<43:50, 23.70s/it]"
     ]
    },
    {
     "name": "stdout",
     "output_type": "stream",
     "text": [
      "Train Loss: 2.117, Train Acc: 0.517\r"
     ]
    },
    {
     "name": "stderr",
     "output_type": "stream",
     "text": [
      "Epoch 1/1:  39%|███▊      | 69/179 [27:30<43:23, 23.67s/it]"
     ]
    },
    {
     "name": "stdout",
     "output_type": "stream",
     "text": [
      "Train Loss: 2.155, Train Acc: 0.516\r"
     ]
    },
    {
     "name": "stderr",
     "output_type": "stream",
     "text": [
      "Epoch 1/1:  39%|███▉      | 70/179 [27:54<42:52, 23.60s/it]"
     ]
    },
    {
     "name": "stdout",
     "output_type": "stream",
     "text": [
      "Train Loss: 2.187, Train Acc: 0.519\r"
     ]
    },
    {
     "name": "stderr",
     "output_type": "stream",
     "text": [
      "Epoch 1/1:  40%|███▉      | 71/179 [28:17<42:23, 23.55s/it]"
     ]
    },
    {
     "name": "stdout",
     "output_type": "stream",
     "text": [
      "Train Loss: 2.238, Train Acc: 0.518\r"
     ]
    },
    {
     "name": "stderr",
     "output_type": "stream",
     "text": [
      "Epoch 1/1:  40%|████      | 72/179 [28:41<42:00, 23.56s/it]"
     ]
    },
    {
     "name": "stdout",
     "output_type": "stream",
     "text": [
      "Train Loss: 2.267, Train Acc: 0.517\r"
     ]
    },
    {
     "name": "stderr",
     "output_type": "stream",
     "text": [
      "Epoch 1/1:  41%|████      | 73/179 [29:04<41:37, 23.56s/it]"
     ]
    },
    {
     "name": "stdout",
     "output_type": "stream",
     "text": [
      "Train Loss: 2.295, Train Acc: 0.517\r"
     ]
    },
    {
     "name": "stderr",
     "output_type": "stream",
     "text": [
      "Epoch 1/1:  41%|████▏     | 74/179 [29:28<41:17, 23.59s/it]"
     ]
    },
    {
     "name": "stdout",
     "output_type": "stream",
     "text": [
      "Train Loss: 2.361, Train Acc: 0.514\r"
     ]
    },
    {
     "name": "stderr",
     "output_type": "stream",
     "text": [
      "Epoch 1/1:  42%|████▏     | 75/179 [29:52<40:49, 23.55s/it]"
     ]
    },
    {
     "name": "stdout",
     "output_type": "stream",
     "text": [
      "Train Loss: 2.389, Train Acc: 0.515\r"
     ]
    },
    {
     "name": "stderr",
     "output_type": "stream",
     "text": [
      "Epoch 1/1:  42%|████▏     | 76/179 [30:15<40:19, 23.49s/it]"
     ]
    },
    {
     "name": "stdout",
     "output_type": "stream",
     "text": [
      "Train Loss: 2.395, Train Acc: 0.513\r"
     ]
    },
    {
     "name": "stderr",
     "output_type": "stream",
     "text": [
      "Epoch 1/1:  43%|████▎     | 77/179 [30:38<39:54, 23.48s/it]"
     ]
    },
    {
     "name": "stdout",
     "output_type": "stream",
     "text": [
      "Train Loss: 2.411, Train Acc: 0.512\r"
     ]
    },
    {
     "name": "stderr",
     "output_type": "stream",
     "text": [
      "Epoch 1/1:  44%|████▎     | 78/179 [31:02<39:33, 23.50s/it]"
     ]
    },
    {
     "name": "stdout",
     "output_type": "stream",
     "text": [
      "Train Loss: 2.417, Train Acc: 0.512\r"
     ]
    },
    {
     "name": "stderr",
     "output_type": "stream",
     "text": [
      "Epoch 1/1:  44%|████▍     | 79/179 [31:25<39:11, 23.52s/it]"
     ]
    },
    {
     "name": "stdout",
     "output_type": "stream",
     "text": [
      "Train Loss: 2.427, Train Acc: 0.511\r"
     ]
    },
    {
     "name": "stderr",
     "output_type": "stream",
     "text": [
      "Epoch 1/1:  45%|████▍     | 80/179 [31:49<38:50, 23.54s/it]"
     ]
    },
    {
     "name": "stdout",
     "output_type": "stream",
     "text": [
      "Train Loss: 2.433, Train Acc: 0.513\r"
     ]
    },
    {
     "name": "stderr",
     "output_type": "stream",
     "text": [
      "Epoch 1/1:  45%|████▌     | 81/179 [32:13<38:30, 23.58s/it]"
     ]
    },
    {
     "name": "stdout",
     "output_type": "stream",
     "text": [
      "Train Loss: 2.441, Train Acc: 0.514\r"
     ]
    },
    {
     "name": "stderr",
     "output_type": "stream",
     "text": [
      "Epoch 1/1:  46%|████▌     | 82/179 [32:36<38:05, 23.56s/it]"
     ]
    },
    {
     "name": "stdout",
     "output_type": "stream",
     "text": [
      "Train Loss: 2.448, Train Acc: 0.512\r"
     ]
    },
    {
     "name": "stderr",
     "output_type": "stream",
     "text": [
      "Epoch 1/1:  46%|████▋     | 83/179 [33:01<38:25, 24.02s/it]"
     ]
    },
    {
     "name": "stdout",
     "output_type": "stream",
     "text": [
      "Train Loss: 2.455, Train Acc: 0.514\r"
     ]
    },
    {
     "name": "stderr",
     "output_type": "stream",
     "text": [
      "Epoch 1/1:  47%|████▋     | 84/179 [33:26<38:07, 24.08s/it]"
     ]
    },
    {
     "name": "stdout",
     "output_type": "stream",
     "text": [
      "Train Loss: 2.464, Train Acc: 0.512\r"
     ]
    },
    {
     "name": "stderr",
     "output_type": "stream",
     "text": [
      "Epoch 1/1:  47%|████▋     | 85/179 [33:49<37:32, 23.96s/it]"
     ]
    },
    {
     "name": "stdout",
     "output_type": "stream",
     "text": [
      "Train Loss: 2.476, Train Acc: 0.510\r"
     ]
    },
    {
     "name": "stderr",
     "output_type": "stream",
     "text": [
      "Epoch 1/1:  48%|████▊     | 86/179 [34:13<37:07, 23.96s/it]"
     ]
    },
    {
     "name": "stdout",
     "output_type": "stream",
     "text": [
      "Train Loss: 2.482, Train Acc: 0.507\r"
     ]
    },
    {
     "name": "stderr",
     "output_type": "stream",
     "text": [
      "Epoch 1/1:  49%|████▊     | 87/179 [34:37<36:41, 23.93s/it]"
     ]
    },
    {
     "name": "stdout",
     "output_type": "stream",
     "text": [
      "Train Loss: 2.493, Train Acc: 0.509\r"
     ]
    },
    {
     "name": "stderr",
     "output_type": "stream",
     "text": [
      "Epoch 1/1:  49%|████▉     | 88/179 [35:01<36:10, 23.85s/it]"
     ]
    },
    {
     "name": "stdout",
     "output_type": "stream",
     "text": [
      "Train Loss: 2.509, Train Acc: 0.508\r"
     ]
    },
    {
     "name": "stderr",
     "output_type": "stream",
     "text": [
      "Epoch 1/1:  50%|████▉     | 89/179 [35:25<35:47, 23.86s/it]"
     ]
    },
    {
     "name": "stdout",
     "output_type": "stream",
     "text": [
      "Train Loss: 2.530, Train Acc: 0.507\r"
     ]
    },
    {
     "name": "stderr",
     "output_type": "stream",
     "text": [
      "Epoch 1/1:  50%|█████     | 90/179 [35:48<35:20, 23.82s/it]"
     ]
    },
    {
     "name": "stdout",
     "output_type": "stream",
     "text": [
      "Train Loss: 2.539, Train Acc: 0.510\r"
     ]
    },
    {
     "name": "stderr",
     "output_type": "stream",
     "text": [
      "Epoch 1/1:  51%|█████     | 91/179 [36:12<34:57, 23.84s/it]"
     ]
    },
    {
     "name": "stdout",
     "output_type": "stream",
     "text": [
      "Train Loss: 2.545, Train Acc: 0.510\r"
     ]
    },
    {
     "name": "stderr",
     "output_type": "stream",
     "text": [
      "Epoch 1/1:  51%|█████▏    | 92/179 [36:36<34:37, 23.88s/it]"
     ]
    },
    {
     "name": "stdout",
     "output_type": "stream",
     "text": [
      "Train Loss: 2.555, Train Acc: 0.510\r"
     ]
    },
    {
     "name": "stderr",
     "output_type": "stream",
     "text": [
      "Epoch 1/1:  52%|█████▏    | 93/179 [37:00<34:16, 23.92s/it]"
     ]
    },
    {
     "name": "stdout",
     "output_type": "stream",
     "text": [
      "Train Loss: 2.562, Train Acc: 0.507\r"
     ]
    },
    {
     "name": "stderr",
     "output_type": "stream",
     "text": [
      "Epoch 1/1:  53%|█████▎    | 94/179 [37:24<33:58, 23.98s/it]"
     ]
    },
    {
     "name": "stdout",
     "output_type": "stream",
     "text": [
      "Train Loss: 2.574, Train Acc: 0.508\r"
     ]
    },
    {
     "name": "stderr",
     "output_type": "stream",
     "text": [
      "Epoch 1/1:  53%|█████▎    | 95/179 [37:48<33:38, 24.03s/it]"
     ]
    },
    {
     "name": "stdout",
     "output_type": "stream",
     "text": [
      "Train Loss: 2.580, Train Acc: 0.509\r"
     ]
    },
    {
     "name": "stderr",
     "output_type": "stream",
     "text": [
      "Epoch 1/1:  54%|█████▎    | 96/179 [38:14<33:42, 24.36s/it]"
     ]
    },
    {
     "name": "stdout",
     "output_type": "stream",
     "text": [
      "Train Loss: 2.586, Train Acc: 0.512\r"
     ]
    },
    {
     "name": "stderr",
     "output_type": "stream",
     "text": [
      "Epoch 1/1:  54%|█████▍    | 97/179 [38:38<33:11, 24.29s/it]"
     ]
    },
    {
     "name": "stdout",
     "output_type": "stream",
     "text": [
      "Train Loss: 2.608, Train Acc: 0.510\r"
     ]
    },
    {
     "name": "stderr",
     "output_type": "stream",
     "text": [
      "Epoch 1/1:  55%|█████▍    | 98/179 [39:02<32:36, 24.15s/it]"
     ]
    },
    {
     "name": "stdout",
     "output_type": "stream",
     "text": [
      "Train Loss: 2.623, Train Acc: 0.507\r"
     ]
    },
    {
     "name": "stderr",
     "output_type": "stream",
     "text": [
      "Epoch 1/1:  55%|█████▌    | 99/179 [39:26<32:11, 24.14s/it]"
     ]
    },
    {
     "name": "stdout",
     "output_type": "stream",
     "text": [
      "Train Loss: 2.628, Train Acc: 0.507\r"
     ]
    },
    {
     "name": "stderr",
     "output_type": "stream",
     "text": [
      "Epoch 1/1:  56%|█████▌    | 100/179 [39:50<31:41, 24.07s/it]"
     ]
    },
    {
     "name": "stdout",
     "output_type": "stream",
     "text": [
      "Train Loss: 2.636, Train Acc: 0.506\r"
     ]
    },
    {
     "name": "stderr",
     "output_type": "stream",
     "text": [
      "Epoch 1/1:  56%|█████▋    | 101/179 [40:14<31:16, 24.06s/it]"
     ]
    },
    {
     "name": "stdout",
     "output_type": "stream",
     "text": [
      "Train Loss: 2.643, Train Acc: 0.507\r"
     ]
    },
    {
     "name": "stderr",
     "output_type": "stream",
     "text": [
      "Epoch 1/1:  57%|█████▋    | 102/179 [40:37<30:48, 24.00s/it]"
     ]
    },
    {
     "name": "stdout",
     "output_type": "stream",
     "text": [
      "Train Loss: 2.651, Train Acc: 0.506\r"
     ]
    },
    {
     "name": "stderr",
     "output_type": "stream",
     "text": [
      "Epoch 1/1:  58%|█████▊    | 103/179 [41:01<30:23, 24.00s/it]"
     ]
    },
    {
     "name": "stdout",
     "output_type": "stream",
     "text": [
      "Train Loss: 2.679, Train Acc: 0.504\r"
     ]
    },
    {
     "name": "stderr",
     "output_type": "stream",
     "text": [
      "Epoch 1/1:  58%|█████▊    | 104/179 [41:26<30:02, 24.03s/it]"
     ]
    },
    {
     "name": "stdout",
     "output_type": "stream",
     "text": [
      "Train Loss: 2.685, Train Acc: 0.502\r"
     ]
    },
    {
     "name": "stderr",
     "output_type": "stream",
     "text": [
      "Epoch 1/1:  59%|█████▊    | 105/179 [41:49<29:33, 23.96s/it]"
     ]
    },
    {
     "name": "stdout",
     "output_type": "stream",
     "text": [
      "Train Loss: 2.723, Train Acc: 0.501\r"
     ]
    },
    {
     "name": "stderr",
     "output_type": "stream",
     "text": [
      "Epoch 1/1:  59%|█████▉    | 106/179 [42:13<29:09, 23.96s/it]"
     ]
    },
    {
     "name": "stdout",
     "output_type": "stream",
     "text": [
      "Train Loss: 2.759, Train Acc: 0.500\r"
     ]
    },
    {
     "name": "stderr",
     "output_type": "stream",
     "text": [
      "Epoch 1/1:  60%|█████▉    | 107/179 [42:38<29:08, 24.29s/it]"
     ]
    },
    {
     "name": "stdout",
     "output_type": "stream",
     "text": [
      "Train Loss: 2.764, Train Acc: 0.499\r"
     ]
    },
    {
     "name": "stderr",
     "output_type": "stream",
     "text": [
      "Epoch 1/1:  60%|██████    | 108/179 [43:02<28:38, 24.21s/it]"
     ]
    },
    {
     "name": "stdout",
     "output_type": "stream",
     "text": [
      "Train Loss: 2.784, Train Acc: 0.500\r"
     ]
    },
    {
     "name": "stderr",
     "output_type": "stream",
     "text": [
      "Epoch 1/1:  61%|██████    | 109/179 [43:26<28:10, 24.14s/it]"
     ]
    },
    {
     "name": "stdout",
     "output_type": "stream",
     "text": [
      "Train Loss: 2.804, Train Acc: 0.501\r"
     ]
    },
    {
     "name": "stderr",
     "output_type": "stream",
     "text": [
      "Epoch 1/1:  61%|██████▏   | 110/179 [43:50<27:43, 24.11s/it]"
     ]
    },
    {
     "name": "stdout",
     "output_type": "stream",
     "text": [
      "Train Loss: 2.810, Train Acc: 0.501\r"
     ]
    },
    {
     "name": "stderr",
     "output_type": "stream",
     "text": [
      "Epoch 1/1:  62%|██████▏   | 111/179 [44:14<27:17, 24.09s/it]"
     ]
    },
    {
     "name": "stdout",
     "output_type": "stream",
     "text": [
      "Train Loss: 2.833, Train Acc: 0.500\r"
     ]
    },
    {
     "name": "stderr",
     "output_type": "stream",
     "text": [
      "Epoch 1/1:  63%|██████▎   | 112/179 [44:38<26:51, 24.05s/it]"
     ]
    },
    {
     "name": "stdout",
     "output_type": "stream",
     "text": [
      "Train Loss: 2.849, Train Acc: 0.499\r"
     ]
    },
    {
     "name": "stderr",
     "output_type": "stream",
     "text": [
      "Epoch 1/1:  63%|██████▎   | 113/179 [45:02<26:27, 24.05s/it]"
     ]
    },
    {
     "name": "stdout",
     "output_type": "stream",
     "text": [
      "Train Loss: 2.873, Train Acc: 0.498\r"
     ]
    },
    {
     "name": "stderr",
     "output_type": "stream",
     "text": [
      "Epoch 1/1:  64%|██████▎   | 114/179 [45:27<26:02, 24.04s/it]"
     ]
    },
    {
     "name": "stdout",
     "output_type": "stream",
     "text": [
      "Train Loss: 2.890, Train Acc: 0.498\r"
     ]
    },
    {
     "name": "stderr",
     "output_type": "stream",
     "text": [
      "Epoch 1/1:  64%|██████▍   | 115/179 [45:51<25:39, 24.05s/it]"
     ]
    },
    {
     "name": "stdout",
     "output_type": "stream",
     "text": [
      "Train Loss: 2.898, Train Acc: 0.498\r"
     ]
    },
    {
     "name": "stderr",
     "output_type": "stream",
     "text": [
      "Epoch 1/1:  65%|██████▍   | 116/179 [46:15<25:29, 24.28s/it]"
     ]
    },
    {
     "name": "stdout",
     "output_type": "stream",
     "text": [
      "Train Loss: 2.904, Train Acc: 0.498\r"
     ]
    },
    {
     "name": "stderr",
     "output_type": "stream",
     "text": [
      "Epoch 1/1:  65%|██████▌   | 117/179 [46:40<25:09, 24.35s/it]"
     ]
    },
    {
     "name": "stdout",
     "output_type": "stream",
     "text": [
      "Train Loss: 2.912, Train Acc: 0.498\r"
     ]
    },
    {
     "name": "stderr",
     "output_type": "stream",
     "text": [
      "Epoch 1/1:  66%|██████▌   | 118/179 [47:04<24:40, 24.27s/it]"
     ]
    },
    {
     "name": "stdout",
     "output_type": "stream",
     "text": [
      "Train Loss: 2.918, Train Acc: 0.497\r"
     ]
    },
    {
     "name": "stderr",
     "output_type": "stream",
     "text": [
      "Epoch 1/1:  66%|██████▋   | 119/179 [47:28<24:11, 24.19s/it]"
     ]
    },
    {
     "name": "stdout",
     "output_type": "stream",
     "text": [
      "Train Loss: 2.929, Train Acc: 0.496\r"
     ]
    },
    {
     "name": "stderr",
     "output_type": "stream",
     "text": [
      "Epoch 1/1:  67%|██████▋   | 120/179 [47:52<23:47, 24.19s/it]"
     ]
    },
    {
     "name": "stdout",
     "output_type": "stream",
     "text": [
      "Train Loss: 2.948, Train Acc: 0.496\r"
     ]
    },
    {
     "name": "stderr",
     "output_type": "stream",
     "text": [
      "Epoch 1/1:  68%|██████▊   | 121/179 [48:17<23:25, 24.24s/it]"
     ]
    },
    {
     "name": "stdout",
     "output_type": "stream",
     "text": [
      "Train Loss: 2.953, Train Acc: 0.498\r"
     ]
    },
    {
     "name": "stderr",
     "output_type": "stream",
     "text": [
      "Epoch 1/1:  68%|██████▊   | 122/179 [48:41<23:09, 24.37s/it]"
     ]
    },
    {
     "name": "stdout",
     "output_type": "stream",
     "text": [
      "Train Loss: 2.957, Train Acc: 0.499\r"
     ]
    },
    {
     "name": "stderr",
     "output_type": "stream",
     "text": [
      "Epoch 1/1:  69%|██████▊   | 123/179 [49:05<22:39, 24.27s/it]"
     ]
    },
    {
     "name": "stdout",
     "output_type": "stream",
     "text": [
      "Train Loss: 2.976, Train Acc: 0.500\r"
     ]
    },
    {
     "name": "stderr",
     "output_type": "stream",
     "text": [
      "Epoch 1/1:  69%|██████▉   | 124/179 [49:29<22:11, 24.20s/it]"
     ]
    },
    {
     "name": "stdout",
     "output_type": "stream",
     "text": [
      "Train Loss: 3.003, Train Acc: 0.499\r"
     ]
    },
    {
     "name": "stderr",
     "output_type": "stream",
     "text": [
      "Epoch 1/1:  70%|██████▉   | 125/179 [49:54<22:01, 24.47s/it]"
     ]
    },
    {
     "name": "stdout",
     "output_type": "stream",
     "text": [
      "Train Loss: 3.013, Train Acc: 0.499\r"
     ]
    },
    {
     "name": "stderr",
     "output_type": "stream",
     "text": [
      "Epoch 1/1:  70%|███████   | 126/179 [50:18<21:30, 24.35s/it]"
     ]
    },
    {
     "name": "stdout",
     "output_type": "stream",
     "text": [
      "Train Loss: 3.026, Train Acc: 0.499\r"
     ]
    },
    {
     "name": "stderr",
     "output_type": "stream",
     "text": [
      "Epoch 1/1:  71%|███████   | 127/179 [50:43<21:06, 24.35s/it]"
     ]
    },
    {
     "name": "stdout",
     "output_type": "stream",
     "text": [
      "Train Loss: 3.033, Train Acc: 0.500\r"
     ]
    },
    {
     "name": "stderr",
     "output_type": "stream",
     "text": [
      "Epoch 1/1:  72%|███████▏  | 128/179 [51:07<20:39, 24.30s/it]"
     ]
    },
    {
     "name": "stdout",
     "output_type": "stream",
     "text": [
      "Train Loss: 3.053, Train Acc: 0.498\r"
     ]
    },
    {
     "name": "stderr",
     "output_type": "stream",
     "text": [
      "Epoch 1/1:  72%|███████▏  | 129/179 [51:31<20:13, 24.26s/it]"
     ]
    },
    {
     "name": "stdout",
     "output_type": "stream",
     "text": [
      "Train Loss: 3.066, Train Acc: 0.499\r"
     ]
    },
    {
     "name": "stderr",
     "output_type": "stream",
     "text": [
      "Epoch 1/1:  73%|███████▎  | 130/179 [51:55<19:47, 24.24s/it]"
     ]
    },
    {
     "name": "stdout",
     "output_type": "stream",
     "text": [
      "Train Loss: 3.097, Train Acc: 0.498\r"
     ]
    },
    {
     "name": "stderr",
     "output_type": "stream",
     "text": [
      "Epoch 1/1:  73%|███████▎  | 131/179 [52:19<19:21, 24.21s/it]"
     ]
    },
    {
     "name": "stdout",
     "output_type": "stream",
     "text": [
      "Train Loss: 3.103, Train Acc: 0.498\r"
     ]
    },
    {
     "name": "stderr",
     "output_type": "stream",
     "text": [
      "Epoch 1/1:  74%|███████▎  | 132/179 [52:44<18:56, 24.18s/it]"
     ]
    },
    {
     "name": "stdout",
     "output_type": "stream",
     "text": [
      "Train Loss: 3.127, Train Acc: 0.497\r"
     ]
    },
    {
     "name": "stderr",
     "output_type": "stream",
     "text": [
      "Epoch 1/1:  74%|███████▍  | 133/179 [53:09<18:43, 24.43s/it]"
     ]
    },
    {
     "name": "stdout",
     "output_type": "stream",
     "text": [
      "Train Loss: 3.142, Train Acc: 0.497\r"
     ]
    },
    {
     "name": "stderr",
     "output_type": "stream",
     "text": [
      "Epoch 1/1:  75%|███████▍  | 134/179 [53:33<18:18, 24.41s/it]"
     ]
    },
    {
     "name": "stdout",
     "output_type": "stream",
     "text": [
      "Train Loss: 3.159, Train Acc: 0.497\r"
     ]
    },
    {
     "name": "stderr",
     "output_type": "stream",
     "text": [
      "Epoch 1/1:  75%|███████▌  | 135/179 [53:57<17:51, 24.35s/it]"
     ]
    },
    {
     "name": "stdout",
     "output_type": "stream",
     "text": [
      "Train Loss: 3.187, Train Acc: 0.496\r"
     ]
    },
    {
     "name": "stderr",
     "output_type": "stream",
     "text": [
      "Epoch 1/1:  76%|███████▌  | 136/179 [54:21<17:26, 24.33s/it]"
     ]
    },
    {
     "name": "stdout",
     "output_type": "stream",
     "text": [
      "Train Loss: 3.195, Train Acc: 0.496\r"
     ]
    },
    {
     "name": "stderr",
     "output_type": "stream",
     "text": [
      "Epoch 1/1:  77%|███████▋  | 137/179 [54:46<16:59, 24.29s/it]"
     ]
    },
    {
     "name": "stdout",
     "output_type": "stream",
     "text": [
      "Train Loss: 3.201, Train Acc: 0.498\r"
     ]
    },
    {
     "name": "stderr",
     "output_type": "stream",
     "text": [
      "Epoch 1/1:  77%|███████▋  | 138/179 [55:10<16:36, 24.30s/it]"
     ]
    },
    {
     "name": "stdout",
     "output_type": "stream",
     "text": [
      "Train Loss: 3.228, Train Acc: 0.497\r"
     ]
    },
    {
     "name": "stderr",
     "output_type": "stream",
     "text": [
      "Epoch 1/1:  78%|███████▊  | 139/179 [55:34<16:11, 24.29s/it]"
     ]
    },
    {
     "name": "stdout",
     "output_type": "stream",
     "text": [
      "Train Loss: 3.240, Train Acc: 0.497\r"
     ]
    },
    {
     "name": "stderr",
     "output_type": "stream",
     "text": [
      "Epoch 1/1:  78%|███████▊  | 140/179 [56:00<15:59, 24.59s/it]"
     ]
    },
    {
     "name": "stdout",
     "output_type": "stream",
     "text": [
      "Train Loss: 3.256, Train Acc: 0.497\r"
     ]
    },
    {
     "name": "stderr",
     "output_type": "stream",
     "text": [
      "Epoch 1/1:  79%|███████▉  | 141/179 [56:24<15:28, 24.45s/it]"
     ]
    },
    {
     "name": "stdout",
     "output_type": "stream",
     "text": [
      "Train Loss: 3.266, Train Acc: 0.496\r"
     ]
    },
    {
     "name": "stderr",
     "output_type": "stream",
     "text": [
      "Epoch 1/1:  79%|███████▉  | 142/179 [56:48<15:03, 24.42s/it]"
     ]
    },
    {
     "name": "stdout",
     "output_type": "stream",
     "text": [
      "Train Loss: 3.272, Train Acc: 0.497\r"
     ]
    },
    {
     "name": "stderr",
     "output_type": "stream",
     "text": [
      "Epoch 1/1:  80%|███████▉  | 143/179 [57:12<14:37, 24.38s/it]"
     ]
    },
    {
     "name": "stdout",
     "output_type": "stream",
     "text": [
      "Train Loss: 3.278, Train Acc: 0.499\r"
     ]
    },
    {
     "name": "stderr",
     "output_type": "stream",
     "text": [
      "Epoch 1/1:  80%|████████  | 144/179 [57:36<14:09, 24.28s/it]"
     ]
    },
    {
     "name": "stdout",
     "output_type": "stream",
     "text": [
      "Train Loss: 3.290, Train Acc: 0.499\r"
     ]
    },
    {
     "name": "stderr",
     "output_type": "stream",
     "text": [
      "Epoch 1/1:  81%|████████  | 145/179 [58:01<13:45, 24.27s/it]"
     ]
    },
    {
     "name": "stdout",
     "output_type": "stream",
     "text": [
      "Train Loss: 3.292, Train Acc: 0.501\r"
     ]
    },
    {
     "name": "stderr",
     "output_type": "stream",
     "text": [
      "Epoch 1/1:  82%|████████▏ | 146/179 [58:25<13:21, 24.29s/it]"
     ]
    },
    {
     "name": "stdout",
     "output_type": "stream",
     "text": [
      "Train Loss: 3.323, Train Acc: 0.500\r"
     ]
    },
    {
     "name": "stderr",
     "output_type": "stream",
     "text": [
      "Epoch 1/1:  82%|████████▏ | 147/179 [58:50<13:04, 24.50s/it]"
     ]
    },
    {
     "name": "stdout",
     "output_type": "stream",
     "text": [
      "Train Loss: 3.335, Train Acc: 0.499\r"
     ]
    },
    {
     "name": "stderr",
     "output_type": "stream",
     "text": [
      "Epoch 1/1:  83%|████████▎ | 148/179 [59:14<12:38, 24.47s/it]"
     ]
    },
    {
     "name": "stdout",
     "output_type": "stream",
     "text": [
      "Train Loss: 3.368, Train Acc: 0.500\r"
     ]
    },
    {
     "name": "stderr",
     "output_type": "stream",
     "text": [
      "Epoch 1/1:  83%|████████▎ | 149/179 [59:39<12:14, 24.50s/it]"
     ]
    },
    {
     "name": "stdout",
     "output_type": "stream",
     "text": [
      "Train Loss: 3.428, Train Acc: 0.500\r"
     ]
    },
    {
     "name": "stderr",
     "output_type": "stream",
     "text": [
      "Epoch 1/1:  84%|████████▍ | 150/179 [1:00:03<11:49, 24.48s/it]"
     ]
    },
    {
     "name": "stdout",
     "output_type": "stream",
     "text": [
      "Train Loss: 3.461, Train Acc: 0.500\r"
     ]
    },
    {
     "name": "stderr",
     "output_type": "stream",
     "text": [
      "Epoch 1/1:  84%|████████▍ | 151/179 [1:00:28<11:24, 24.44s/it]"
     ]
    },
    {
     "name": "stdout",
     "output_type": "stream",
     "text": [
      "Train Loss: 3.492, Train Acc: 0.499\r"
     ]
    },
    {
     "name": "stderr",
     "output_type": "stream",
     "text": [
      "Epoch 1/1:  85%|████████▍ | 152/179 [1:00:52<11:00, 24.44s/it]"
     ]
    },
    {
     "name": "stdout",
     "output_type": "stream",
     "text": [
      "Train Loss: 3.527, Train Acc: 0.499\r"
     ]
    },
    {
     "name": "stderr",
     "output_type": "stream",
     "text": [
      "Epoch 1/1:  85%|████████▌ | 153/179 [1:01:18<10:42, 24.73s/it]"
     ]
    },
    {
     "name": "stdout",
     "output_type": "stream",
     "text": [
      "Train Loss: 3.582, Train Acc: 0.499\r"
     ]
    },
    {
     "name": "stderr",
     "output_type": "stream",
     "text": [
      "Epoch 1/1:  86%|████████▌ | 154/179 [1:01:42<10:14, 24.58s/it]"
     ]
    },
    {
     "name": "stdout",
     "output_type": "stream",
     "text": [
      "Train Loss: 3.629, Train Acc: 0.499\r"
     ]
    },
    {
     "name": "stderr",
     "output_type": "stream",
     "text": [
      "Epoch 1/1:  87%|████████▋ | 155/179 [1:02:06<09:48, 24.50s/it]"
     ]
    },
    {
     "name": "stdout",
     "output_type": "stream",
     "text": [
      "Train Loss: 3.647, Train Acc: 0.500\r"
     ]
    },
    {
     "name": "stderr",
     "output_type": "stream",
     "text": [
      "Epoch 1/1:  87%|████████▋ | 156/179 [1:02:31<09:23, 24.48s/it]"
     ]
    },
    {
     "name": "stdout",
     "output_type": "stream",
     "text": [
      "Train Loss: 3.656, Train Acc: 0.500\r"
     ]
    },
    {
     "name": "stderr",
     "output_type": "stream",
     "text": [
      "Epoch 1/1:  88%|████████▊ | 157/179 [1:02:55<08:58, 24.47s/it]"
     ]
    },
    {
     "name": "stdout",
     "output_type": "stream",
     "text": [
      "Train Loss: 3.676, Train Acc: 0.500\r"
     ]
    },
    {
     "name": "stderr",
     "output_type": "stream",
     "text": [
      "Epoch 1/1:  88%|████████▊ | 158/179 [1:03:19<08:33, 24.47s/it]"
     ]
    },
    {
     "name": "stdout",
     "output_type": "stream",
     "text": [
      "Train Loss: 3.683, Train Acc: 0.501\r"
     ]
    },
    {
     "name": "stderr",
     "output_type": "stream",
     "text": [
      "Epoch 1/1:  89%|████████▉ | 159/179 [1:03:45<08:18, 24.94s/it]"
     ]
    },
    {
     "name": "stdout",
     "output_type": "stream",
     "text": [
      "Train Loss: 3.702, Train Acc: 0.501\r"
     ]
    },
    {
     "name": "stderr",
     "output_type": "stream",
     "text": [
      "Epoch 1/1:  89%|████████▉ | 160/179 [1:04:10<07:52, 24.86s/it]"
     ]
    },
    {
     "name": "stdout",
     "output_type": "stream",
     "text": [
      "Train Loss: 3.735, Train Acc: 0.500\r"
     ]
    },
    {
     "name": "stderr",
     "output_type": "stream",
     "text": [
      "Epoch 1/1:  90%|████████▉ | 161/179 [1:04:35<07:25, 24.77s/it]"
     ]
    },
    {
     "name": "stdout",
     "output_type": "stream",
     "text": [
      "Train Loss: 3.741, Train Acc: 0.500\r"
     ]
    },
    {
     "name": "stderr",
     "output_type": "stream",
     "text": [
      "Epoch 1/1:  91%|█████████ | 162/179 [1:04:59<07:00, 24.72s/it]"
     ]
    },
    {
     "name": "stdout",
     "output_type": "stream",
     "text": [
      "Train Loss: 3.792, Train Acc: 0.498\r"
     ]
    },
    {
     "name": "stderr",
     "output_type": "stream",
     "text": [
      "Epoch 1/1:  91%|█████████ | 163/179 [1:05:24<06:34, 24.67s/it]"
     ]
    },
    {
     "name": "stdout",
     "output_type": "stream",
     "text": [
      "Train Loss: 3.829, Train Acc: 0.497\r"
     ]
    },
    {
     "name": "stderr",
     "output_type": "stream",
     "text": [
      "Epoch 1/1:  92%|█████████▏| 164/179 [1:05:48<06:09, 24.60s/it]"
     ]
    },
    {
     "name": "stdout",
     "output_type": "stream",
     "text": [
      "Train Loss: 3.835, Train Acc: 0.497\r"
     ]
    },
    {
     "name": "stderr",
     "output_type": "stream",
     "text": [
      "Epoch 1/1:  92%|█████████▏| 165/179 [1:06:14<05:49, 25.00s/it]"
     ]
    },
    {
     "name": "stdout",
     "output_type": "stream",
     "text": [
      "Train Loss: 3.862, Train Acc: 0.498\r"
     ]
    },
    {
     "name": "stderr",
     "output_type": "stream",
     "text": [
      "Epoch 1/1:  93%|█████████▎| 166/179 [1:06:39<05:23, 24.90s/it]"
     ]
    },
    {
     "name": "stdout",
     "output_type": "stream",
     "text": [
      "Train Loss: 3.899, Train Acc: 0.497\r"
     ]
    },
    {
     "name": "stderr",
     "output_type": "stream",
     "text": [
      "Epoch 1/1:  93%|█████████▎| 167/179 [1:07:04<04:58, 24.84s/it]"
     ]
    },
    {
     "name": "stdout",
     "output_type": "stream",
     "text": [
      "Train Loss: 3.906, Train Acc: 0.496\r"
     ]
    },
    {
     "name": "stderr",
     "output_type": "stream",
     "text": [
      "Epoch 1/1:  94%|█████████▍| 168/179 [1:07:28<04:33, 24.85s/it]"
     ]
    },
    {
     "name": "stdout",
     "output_type": "stream",
     "text": [
      "Train Loss: 3.922, Train Acc: 0.497\r"
     ]
    },
    {
     "name": "stderr",
     "output_type": "stream",
     "text": [
      "Epoch 1/1:  94%|█████████▍| 169/179 [1:07:53<04:07, 24.80s/it]"
     ]
    },
    {
     "name": "stdout",
     "output_type": "stream",
     "text": [
      "Train Loss: 3.959, Train Acc: 0.497\r"
     ]
    },
    {
     "name": "stderr",
     "output_type": "stream",
     "text": [
      "Epoch 1/1:  95%|█████████▍| 170/179 [1:08:19<03:46, 25.17s/it]"
     ]
    },
    {
     "name": "stdout",
     "output_type": "stream",
     "text": [
      "Train Loss: 3.988, Train Acc: 0.496\r"
     ]
    },
    {
     "name": "stderr",
     "output_type": "stream",
     "text": [
      "Epoch 1/1:  96%|█████████▌| 171/179 [1:08:44<03:20, 25.07s/it]"
     ]
    },
    {
     "name": "stdout",
     "output_type": "stream",
     "text": [
      "Train Loss: 4.017, Train Acc: 0.495\r"
     ]
    },
    {
     "name": "stderr",
     "output_type": "stream",
     "text": [
      "Epoch 1/1:  96%|█████████▌| 172/179 [1:09:09<02:55, 25.00s/it]"
     ]
    },
    {
     "name": "stdout",
     "output_type": "stream",
     "text": [
      "Train Loss: 4.075, Train Acc: 0.494\r"
     ]
    },
    {
     "name": "stderr",
     "output_type": "stream",
     "text": [
      "Epoch 1/1:  97%|█████████▋| 173/179 [1:09:34<02:29, 24.91s/it]"
     ]
    },
    {
     "name": "stdout",
     "output_type": "stream",
     "text": [
      "Train Loss: 4.091, Train Acc: 0.495\r"
     ]
    },
    {
     "name": "stderr",
     "output_type": "stream",
     "text": [
      "Epoch 1/1:  97%|█████████▋| 174/179 [1:09:58<02:04, 24.82s/it]"
     ]
    },
    {
     "name": "stdout",
     "output_type": "stream",
     "text": [
      "Train Loss: 4.115, Train Acc: 0.494\r"
     ]
    },
    {
     "name": "stderr",
     "output_type": "stream",
     "text": [
      "Epoch 1/1:  98%|█████████▊| 175/179 [1:10:24<01:40, 25.09s/it]"
     ]
    },
    {
     "name": "stdout",
     "output_type": "stream",
     "text": [
      "Train Loss: 4.135, Train Acc: 0.494\r"
     ]
    },
    {
     "name": "stderr",
     "output_type": "stream",
     "text": [
      "Epoch 1/1:  98%|█████████▊| 176/179 [1:10:49<01:15, 25.04s/it]"
     ]
    },
    {
     "name": "stdout",
     "output_type": "stream",
     "text": [
      "Train Loss: 4.146, Train Acc: 0.494\r"
     ]
    },
    {
     "name": "stderr",
     "output_type": "stream",
     "text": [
      "Epoch 1/1:  99%|█████████▉| 177/179 [1:11:13<00:49, 24.93s/it]"
     ]
    },
    {
     "name": "stdout",
     "output_type": "stream",
     "text": [
      "Train Loss: 4.179, Train Acc: 0.494\r"
     ]
    },
    {
     "name": "stderr",
     "output_type": "stream",
     "text": [
      "Epoch 1/1:  99%|█████████▉| 178/179 [1:11:38<00:24, 24.85s/it]"
     ]
    },
    {
     "name": "stdout",
     "output_type": "stream",
     "text": [
      "Train Loss: 4.222, Train Acc: 0.493\r"
     ]
    },
    {
     "name": "stderr",
     "output_type": "stream",
     "text": [
      "Epoch 1/1: 100%|██████████| 179/179 [1:12:00<00:00, 24.14s/it]"
     ]
    },
    {
     "name": "stdout",
     "output_type": "stream",
     "text": [
      "Epoch 1, Train Loss: 4.235, Train Acc: 0.492\n",
      "Epoch 1 finished\n"
     ]
    },
    {
     "name": "stderr",
     "output_type": "stream",
     "text": [
      "\n"
     ]
    }
   ],
   "source": [
    "from tqdm import tqdm\n",
    "num_epochs = 1\n",
    "for epoch in range(num_epochs):\n",
    "    running_loss = 0.0\n",
    "    correct_predictions = 0\n",
    "    total_predictions = 0\n",
    "    for batch in tqdm(train_loader, desc=f'Epoch {epoch+1}/{num_epochs}'):\n",
    "        # get the inputs\n",
    "        input_ids = batch['input_ids'].to(device)\n",
    "        attention_mask = batch['attention_mask'].to(device)\n",
    "        labels = batch['label'].to(device)\n",
    "\n",
    "        # zero the parameter gradients\n",
    "        optimizer.zero_grad()\n",
    "\n",
    "        # forward + backward + optimize\n",
    "        outputs = irony_model(input_ids=input_ids, attention_mask=attention_mask)\n",
    "        loss = criterion(outputs, labels)\n",
    "        loss.backward()\n",
    "        optimizer.step()\n",
    "\n",
    "        # calculate accuracy\n",
    "        _, predicted = torch.max(outputs.data, 1)\n",
    "        total_predictions += labels.size(0)\n",
    "        correct_predictions += (predicted == labels).sum().item()\n",
    "\n",
    "        # print running loss for each batch\n",
    "        running_loss += loss.item()\n",
    "        avg_loss = running_loss / len(train_loader)\n",
    "        avg_acc = correct_predictions / total_predictions\n",
    "        tqdm.write(f'Train Loss: {avg_loss:.3f}, Train Acc: {avg_acc:.3f}', end='\\r')\n",
    "    tqdm.write(f'Epoch {epoch+1}, Train Loss: {avg_loss:.3f}, Train Acc: {avg_acc:.3f}')\n",
    "\n",
    "    print(f\"Epoch {epoch+1} finished\")\n"
   ],
   "metadata": {
    "collapsed": false
   }
  },
  {
   "cell_type": "code",
   "execution_count": 43,
   "outputs": [
    {
     "name": "stdout",
     "output_type": "stream",
     "text": [
      "Validation Loss: 6.550, Validation Acc: 0.523\n"
     ]
    }
   ],
   "source": [
    "# Validation loop\n",
    "with torch.no_grad():\n",
    "    irony_model.eval()  # Set the model to evaluation mode\n",
    "    valid_loss = 0.0\n",
    "    correct_predictions = 0\n",
    "    total_predictions = 0\n",
    "    for batch in val_loader:\n",
    "        # get the inputs\n",
    "        input_ids = batch['input_ids'].to(device)\n",
    "        attention_mask = batch['attention_mask'].to(device)\n",
    "        labels = batch['label'].to(device)\n",
    "\n",
    "        # forward\n",
    "        outputs = irony_model(input_ids=input_ids, attention_mask=attention_mask)\n",
    "        loss = criterion(outputs, labels)\n",
    "\n",
    "        # calculate accuracy\n",
    "        _, predicted = torch.max(outputs.data, 1)\n",
    "        total_predictions += labels.size(0)\n",
    "        correct_predictions += (predicted == labels).sum().item()\n",
    "\n",
    "        # calculate running loss\n",
    "        valid_loss += loss.item()\n",
    "\n",
    "    avg_loss = valid_loss / len(val_loader)\n",
    "    avg_acc = correct_predictions / total_predictions\n",
    "    print(f'Validation Loss: {avg_loss:.3f}, Validation Acc: {avg_acc:.3f}')"
   ],
   "metadata": {
    "collapsed": false
   }
  },
  {
   "cell_type": "code",
   "execution_count": 44,
   "outputs": [
    {
     "name": "stdout",
     "output_type": "stream",
     "text": [
      "Test Loss: 5.449, Test Acc: 0.603\n"
     ]
    }
   ],
   "source": [
    "\n",
    "# Test loop\n",
    "with torch.no_grad():\n",
    "    irony_model.eval()  # Set the model to evaluation mode\n",
    "    test_loss = 0.0\n",
    "    correct_predictions = 0\n",
    "    total_predictions = 0\n",
    "    for batch in test_loader:\n",
    "        # get the inputs\n",
    "        input_ids = batch['input_ids'].to(device)\n",
    "        attention_mask = batch['attention_mask'].to(device)\n",
    "        labels = batch['label'].to(device)\n",
    "\n",
    "        # forward\n",
    "        outputs = irony_model(input_ids=input_ids, attention_mask=attention_mask)\n",
    "        loss = criterion(outputs, labels)\n",
    "\n",
    "        # calculate accuracy\n",
    "        _, predicted = torch.max(outputs.data, 1)\n",
    "        total_predictions += labels.size(0)\n",
    "        correct_predictions += (predicted == labels).sum().item()\n",
    "\n",
    "        # calculate running loss\n",
    "        test_loss += loss.item()\n",
    "\n",
    "    avg_loss = test_loss / len(test_loader)\n",
    "    avg_acc = correct_predictions / total_predictions\n",
    "    print(f'Test Loss: {avg_loss:.3f}, Test Acc: {avg_acc:.3f}')\n"
   ],
   "metadata": {
    "collapsed": false
   }
  },
  {
   "cell_type": "code",
   "execution_count": 45,
   "outputs": [],
   "source": [
    "# save the model\n",
    "torch.save(irony_model.state_dict(), 'Models/irony_model.pth')\n"
   ],
   "metadata": {
    "collapsed": false
   }
  }
 ],
 "metadata": {
  "kernelspec": {
   "display_name": "Python 3",
   "language": "python",
   "name": "python3"
  },
  "language_info": {
   "codemirror_mode": {
    "name": "ipython",
    "version": 2
   },
   "file_extension": ".py",
   "mimetype": "text/x-python",
   "name": "python",
   "nbconvert_exporter": "python",
   "pygments_lexer": "ipython2",
   "version": "2.7.6"
  }
 },
 "nbformat": 4,
 "nbformat_minor": 0
}
